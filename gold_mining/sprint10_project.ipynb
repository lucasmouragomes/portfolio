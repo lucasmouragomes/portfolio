{
 "cells": [
  {
   "cell_type": "markdown",
   "metadata": {},
   "source": [
    "# Gold Mining"
   ]
  },
  {
   "cell_type": "markdown",
   "metadata": {},
   "source": [
    "## Introduction"
   ]
  },
  {
   "cell_type": "markdown",
   "metadata": {},
   "source": [
    "Machine learning prototype for Zyfra, a company who develops efficiency solutions for heavy industry. We want to predict the gold recovered from gold ore by using the data on extraction and purification. "
   ]
  },
  {
   "cell_type": "markdown",
   "metadata": {},
   "source": [
    "\n",
    "## Data Preprocess"
   ]
  },
  {
   "cell_type": "markdown",
   "metadata": {},
   "source": [
    "### Objective"
   ]
  },
  {
   "cell_type": "markdown",
   "metadata": {},
   "source": [
    "Check that recovery is calculated correctly (_rougher.output.recovery_) and find the MAE between your calculations and the feature values."
   ]
  },
  {
   "cell_type": "markdown",
   "metadata": {},
   "source": [
    "### Code"
   ]
  },
  {
   "cell_type": "code",
   "execution_count": 80,
   "metadata": {},
   "outputs": [],
   "source": [
    "import pandas as pd\n",
    "import matplotlib.pyplot as plt\n",
    "import numpy as np\n",
    "from IPython.display import display\n",
    "\n",
    "from sklearn.linear_model import LinearRegression\n",
    "from sklearn.model_selection import train_test_split\n",
    "import sklearn.metrics as metrics\n",
    "from sklearn.preprocessing import StandardScaler\n",
    "\n",
    "import sys\n",
    "import warnings\n",
    "if not sys.warnoptions:\n",
    "       warnings.simplefilter(\"ignore\")\n",
    "\n",
    "import joblib"
   ]
  },
  {
   "cell_type": "code",
   "execution_count": 81,
   "metadata": {},
   "outputs": [
    {
     "name": "stdout",
     "output_type": "stream",
     "text": [
      "Path found is ../datasets/\n"
     ]
    }
   ],
   "source": [
    "path_array = ['', '/', '/datasets/', './datasets/', '../datasets/']\n",
    "CSVPATH = None\n",
    "\n",
    "for i in path_array:\n",
    "    try:\n",
    "        pd.read_csv(i + 'gold_recovery_train.csv', nrows=1)\n",
    "        CSVPATH = i\n",
    "        break\n",
    "    except:\n",
    "        pass\n",
    "\n",
    "if CSVPATH:\n",
    "    print('Path found is', 'current folder' if CSVPATH == '' else CSVPATH)\n",
    "else:\n",
    "    print('No path found')"
   ]
  },
  {
   "cell_type": "code",
   "execution_count": 82,
   "metadata": {},
   "outputs": [],
   "source": [
    "csv_names = ['train', 'test', 'full']\n",
    "df = {sheet: pd.read_csv(CSVPATH + 'gold_recovery_' + sheet + '.csv', nrows=1) for sheet in csv_names}"
   ]
  },
  {
   "cell_type": "code",
   "execution_count": 83,
   "metadata": {},
   "outputs": [],
   "source": [
    "def optimize_types(df):\n",
    "    df_dtypes = df.dtypes\n",
    "    df_types = [i.name for i in df_dtypes.values]\n",
    "    df_types = dict(zip(df.columns, df_types))\n",
    "    return df_types\n",
    "\n",
    "float_columns = df['full'].select_dtypes(include=['float64']).columns\n",
    "\n",
    "for sheet in csv_names:\n",
    "    for col in float_columns:\n",
    "        if col in df[sheet]:\n",
    "            df[sheet][col] = pd.to_numeric(df[sheet][col], downcast = 'float')\n",
    "\n",
    "int_columns = [ ]\n",
    "uint_columns = [ ]\n",
    "bool_columns = [ ]\n",
    "\n",
    "for sheet in csv_names:\n",
    "    df_types = {sheet: optimize_types(df[sheet]) for sheet in csv_names}"
   ]
  },
  {
   "cell_type": "code",
   "execution_count": 84,
   "metadata": {},
   "outputs": [],
   "source": [
    "df = {sheet: pd.read_csv(CSVPATH + 'gold_recovery_' + sheet + '.csv', dtype=df_types[sheet], parse_dates=['date']) for sheet in csv_names}"
   ]
  },
  {
   "cell_type": "code",
   "execution_count": 85,
   "metadata": {},
   "outputs": [
    {
     "name": "stdout",
     "output_type": "stream",
     "text": [
      "Number of duplicated rows for df train: 0\n",
      "Number of duplicated rows for df test: 0\n",
      "Number of duplicated rows for df full: 0\n"
     ]
    }
   ],
   "source": [
    "for sheet in csv_names:\n",
    "    print('Number of duplicated rows for df ' + sheet + f': {df[sheet][df[sheet].duplicated()].shape[0]}')"
   ]
  },
  {
   "cell_type": "code",
   "execution_count": 86,
   "metadata": {},
   "outputs": [
    {
     "name": "stdout",
     "output_type": "stream",
     "text": [
      "Number of missing values for df train: 30320\n",
      "Number of missing values for df test: 2360\n",
      "Number of missing values for df full: 36587\n"
     ]
    }
   ],
   "source": [
    "for sheet in csv_names:\n",
    "    print('Number of missing values for df ' + sheet + f': {df[sheet].isnull().sum().sum()}')"
   ]
  },
  {
   "cell_type": "code",
   "execution_count": 87,
   "metadata": {},
   "outputs": [
    {
     "name": "stdout",
     "output_type": "stream",
     "text": [
      "Top rows with missing values in train df (%):\n"
     ]
    },
    {
     "data": {
      "text/plain": [
       "rougher.output.recovery               15.260973\n",
       "rougher.output.tail_ag                13.345196\n",
       "rougher.output.tail_sol               13.339265\n",
       "rougher.output.tail_au                13.339265\n",
       "secondary_cleaner.output.tail_sol     11.779359\n",
       "rougher.input.floatbank11_xanthate    11.293001\n",
       "final.output.recovery                  9.021352\n",
       "primary_cleaner.input.sulfate          7.752076\n",
       "primary_cleaner.input.depressant       7.485172\n",
       "rougher.calculation.au_pb_ratio        7.366548\n",
       "dtype: float64"
      ]
     },
     "execution_count": 87,
     "metadata": {},
     "output_type": "execute_result"
    }
   ],
   "source": [
    "print('Top rows with missing values in train df (%):')\n",
    "(df['train'].isna().sum()/df['train'].shape[0]*100).sort_values(ascending=False).head(10)"
   ]
  },
  {
   "cell_type": "code",
   "execution_count": 88,
   "metadata": {},
   "outputs": [
    {
     "name": "stdout",
     "output_type": "stream",
     "text": [
      "Top rows with missing values in test df (%):\n"
     ]
    },
    {
     "data": {
      "text/plain": [
       "rougher.input.floatbank11_xanthate    6.028005\n",
       "primary_cleaner.input.sulfate         5.157104\n",
       "primary_cleaner.input.depressant      4.849727\n",
       "rougher.input.floatbank10_sulfate     4.388661\n",
       "primary_cleaner.input.xanthate        2.834699\n",
       "dtype: float64"
      ]
     },
     "execution_count": 88,
     "metadata": {},
     "output_type": "execute_result"
    }
   ],
   "source": [
    "print('Top rows with missing values in test df (%):')\n",
    "(df['test'].isna().sum()/df['test'].shape[0]*100).sort_values(ascending=False).head()"
   ]
  },
  {
   "cell_type": "code",
   "execution_count": 89,
   "metadata": {},
   "outputs": [
    {
     "name": "stdout",
     "output_type": "stream",
     "text": [
      "Number of missing values for df test: 0\n"
     ]
    }
   ],
   "source": [
    "df['test'] = df['test'].dropna().reset_index(drop=True)\n",
    "\n",
    "print(f'Number of missing values for df test: {df[\"test\"].isnull().sum().sum()}')"
   ]
  },
  {
   "cell_type": "code",
   "execution_count": 90,
   "metadata": {},
   "outputs": [],
   "source": [
    "input_bool_index = df['train'].columns.str.contains('^[a-z+._\\d]+input[a-z+._\\d]+')\n",
    "output_bool_index = df['train'].columns.str.contains('^[a-z+._\\d]+output[a-z+._\\d]+')\n",
    "\n",
    "df['train'].loc[:,input_bool_index] = (\n",
    "    df['train'].loc[:, input_bool_index].dropna()\n",
    ")"
   ]
  },
  {
   "cell_type": "code",
   "execution_count": 91,
   "metadata": {},
   "outputs": [
    {
     "data": {
      "text/plain": [
       "count    14287.000000\n",
       "mean        82.394203\n",
       "std         15.096808\n",
       "min          0.000000\n",
       "25%         79.818375\n",
       "50%         85.236000\n",
       "75%         90.131691\n",
       "max        100.000000\n",
       "Name: rougher.output.recovery, dtype: float64"
      ]
     },
     "execution_count": 91,
     "metadata": {},
     "output_type": "execute_result"
    }
   ],
   "source": [
    "df['train']['rougher.output.recovery'].describe()"
   ]
  },
  {
   "cell_type": "code",
   "execution_count": 92,
   "metadata": {},
   "outputs": [],
   "source": [
    "df['train'] = df['train'].loc[df['train']['rougher.input.feed_au'].notnull(),:].reset_index(drop=True)"
   ]
  },
  {
   "cell_type": "code",
   "execution_count": 93,
   "metadata": {},
   "outputs": [],
   "source": [
    "def calc_recovery_rougher(row):\n",
    "    C = row['rougher.output.concentrate_au'] # gold concentration right after flotation\n",
    "    F = row['rougher.input.feed_au'] # gold concentration before flotation\n",
    "    T = row['rougher.output.tail_au'] # gold in tails after flotation\n",
    "    try:\n",
    "        result = C * (F - T)/(F * (C - T )) * 100\n",
    "    except:\n",
    "        result = np.nan\n",
    "    if result > 100:\n",
    "        result = 100\n",
    "    elif result <= 0:\n",
    "        result = +0.0\n",
    "    return result"
   ]
  },
  {
   "cell_type": "code",
   "execution_count": 94,
   "metadata": {},
   "outputs": [],
   "source": [
    "rougher_recovery = df['train'].apply(calc_recovery_rougher, axis=1)\n",
    "rougher_recovery.name = 'calculated_rougher_recovery'"
   ]
  },
  {
   "cell_type": "code",
   "execution_count": 95,
   "metadata": {},
   "outputs": [
    {
     "data": {
      "text/html": [
       "<div>\n",
       "<style scoped>\n",
       "    .dataframe tbody tr th:only-of-type {\n",
       "        vertical-align: middle;\n",
       "    }\n",
       "\n",
       "    .dataframe tbody tr th {\n",
       "        vertical-align: top;\n",
       "    }\n",
       "\n",
       "    .dataframe thead th {\n",
       "        text-align: right;\n",
       "    }\n",
       "</style>\n",
       "<table border=\"1\" class=\"dataframe\">\n",
       "  <thead>\n",
       "    <tr style=\"text-align: right;\">\n",
       "      <th></th>\n",
       "      <th>rougher.output.recovery</th>\n",
       "      <th>calculated_rougher_recovery</th>\n",
       "    </tr>\n",
       "  </thead>\n",
       "  <tbody>\n",
       "    <tr>\n",
       "      <td>count</td>\n",
       "      <td>13398.000000</td>\n",
       "      <td>13626.000000</td>\n",
       "    </tr>\n",
       "    <tr>\n",
       "      <td>mean</td>\n",
       "      <td>82.736488</td>\n",
       "      <td>82.188717</td>\n",
       "    </tr>\n",
       "    <tr>\n",
       "      <td>std</td>\n",
       "      <td>14.644361</td>\n",
       "      <td>16.441922</td>\n",
       "    </tr>\n",
       "    <tr>\n",
       "      <td>min</td>\n",
       "      <td>0.000000</td>\n",
       "      <td>0.000000</td>\n",
       "    </tr>\n",
       "    <tr>\n",
       "      <td>25%</td>\n",
       "      <td>80.096664</td>\n",
       "      <td>79.970975</td>\n",
       "    </tr>\n",
       "    <tr>\n",
       "      <td>50%</td>\n",
       "      <td>85.387611</td>\n",
       "      <td>85.387609</td>\n",
       "    </tr>\n",
       "    <tr>\n",
       "      <td>75%</td>\n",
       "      <td>90.171577</td>\n",
       "      <td>90.262583</td>\n",
       "    </tr>\n",
       "    <tr>\n",
       "      <td>max</td>\n",
       "      <td>100.000000</td>\n",
       "      <td>100.000000</td>\n",
       "    </tr>\n",
       "  </tbody>\n",
       "</table>\n",
       "</div>"
      ],
      "text/plain": [
       "       rougher.output.recovery  calculated_rougher_recovery\n",
       "count             13398.000000                 13626.000000\n",
       "mean                 82.736488                    82.188717\n",
       "std                  14.644361                    16.441922\n",
       "min                   0.000000                     0.000000\n",
       "25%                  80.096664                    79.970975\n",
       "50%                  85.387611                    85.387609\n",
       "75%                  90.171577                    90.262583\n",
       "max                 100.000000                   100.000000"
      ]
     },
     "metadata": {},
     "output_type": "display_data"
    },
    {
     "name": "stdout",
     "output_type": "stream",
     "text": [
      "The mean absolute error between provided rougher output recovery and calculated is:\n",
      "\n"
     ]
    },
    {
     "data": {
      "text/plain": [
       "0.8003950099822875"
      ]
     },
     "metadata": {},
     "output_type": "display_data"
    }
   ],
   "source": [
    "display(df['train'][['rougher.output.recovery']].describe().merge(rougher_recovery.describe(), left_index=True, right_index=True))\n",
    "print('The mean absolute error between provided rougher output recovery and calculated is:\\n')\n",
    "display(\n",
    "    metrics.mean_absolute_error(\n",
    "        df['train']['rougher.output.recovery'].fillna(0), \n",
    "        rougher_recovery.fillna(0)\n",
    "        )\n",
    "    )"
   ]
  },
  {
   "cell_type": "code",
   "execution_count": 96,
   "metadata": {},
   "outputs": [],
   "source": [
    "df['train']['rougher.output.recovery'] = rougher_recovery"
   ]
  },
  {
   "cell_type": "code",
   "execution_count": 97,
   "metadata": {},
   "outputs": [],
   "source": [
    "df['train'] = df['train'].loc[df['train']['rougher.output.recovery'].notna(), :].reset_index(drop=True)"
   ]
  },
  {
   "cell_type": "code",
   "execution_count": 98,
   "metadata": {},
   "outputs": [
    {
     "data": {
      "text/plain": [
       "Index(['date', 'primary_cleaner.input.sulfate',\n",
       "       'primary_cleaner.input.depressant', 'primary_cleaner.input.feed_size',\n",
       "       'primary_cleaner.input.xanthate',\n",
       "       'primary_cleaner.state.floatbank8_a_air',\n",
       "       'primary_cleaner.state.floatbank8_a_level',\n",
       "       'primary_cleaner.state.floatbank8_b_air',\n",
       "       'primary_cleaner.state.floatbank8_b_level',\n",
       "       'primary_cleaner.state.floatbank8_c_air',\n",
       "       'primary_cleaner.state.floatbank8_c_level',\n",
       "       'primary_cleaner.state.floatbank8_d_air',\n",
       "       'primary_cleaner.state.floatbank8_d_level', 'rougher.input.feed_ag',\n",
       "       'rougher.input.feed_pb', 'rougher.input.feed_rate',\n",
       "       'rougher.input.feed_size', 'rougher.input.feed_sol',\n",
       "       'rougher.input.feed_au', 'rougher.input.floatbank10_sulfate',\n",
       "       'rougher.input.floatbank10_xanthate',\n",
       "       'rougher.input.floatbank11_sulfate',\n",
       "       'rougher.input.floatbank11_xanthate', 'rougher.state.floatbank10_a_air',\n",
       "       'rougher.state.floatbank10_a_level', 'rougher.state.floatbank10_b_air',\n",
       "       'rougher.state.floatbank10_b_level', 'rougher.state.floatbank10_c_air',\n",
       "       'rougher.state.floatbank10_c_level', 'rougher.state.floatbank10_d_air',\n",
       "       'rougher.state.floatbank10_d_level', 'rougher.state.floatbank10_e_air',\n",
       "       'rougher.state.floatbank10_e_level', 'rougher.state.floatbank10_f_air',\n",
       "       'rougher.state.floatbank10_f_level',\n",
       "       'secondary_cleaner.state.floatbank2_a_air',\n",
       "       'secondary_cleaner.state.floatbank2_a_level',\n",
       "       'secondary_cleaner.state.floatbank2_b_air',\n",
       "       'secondary_cleaner.state.floatbank2_b_level',\n",
       "       'secondary_cleaner.state.floatbank3_a_air',\n",
       "       'secondary_cleaner.state.floatbank3_a_level',\n",
       "       'secondary_cleaner.state.floatbank3_b_air',\n",
       "       'secondary_cleaner.state.floatbank3_b_level',\n",
       "       'secondary_cleaner.state.floatbank4_a_air',\n",
       "       'secondary_cleaner.state.floatbank4_a_level',\n",
       "       'secondary_cleaner.state.floatbank4_b_air',\n",
       "       'secondary_cleaner.state.floatbank4_b_level',\n",
       "       'secondary_cleaner.state.floatbank5_a_air',\n",
       "       'secondary_cleaner.state.floatbank5_a_level',\n",
       "       'secondary_cleaner.state.floatbank5_b_air',\n",
       "       'secondary_cleaner.state.floatbank5_b_level',\n",
       "       'secondary_cleaner.state.floatbank6_a_air',\n",
       "       'secondary_cleaner.state.floatbank6_a_level'],\n",
       "      dtype='object')"
      ]
     },
     "execution_count": 98,
     "metadata": {},
     "output_type": "execute_result"
    }
   ],
   "source": [
    "df['test'].columns"
   ]
  },
  {
   "cell_type": "code",
   "execution_count": 99,
   "metadata": {},
   "outputs": [
    {
     "name": "stdout",
     "output_type": "stream",
     "text": [
      "Percentage of missing values per column in train df:\n"
     ]
    },
    {
     "data": {
      "text/plain": [
       "rougher.state.floatbank10_e_air             0.033465\n",
       "secondary_cleaner.state.floatbank2_a_air    0.014164\n",
       "secondary_cleaner.state.floatbank4_a_air    0.000440\n",
       "secondary_cleaner.state.floatbank2_b_air    0.000367\n",
       "secondary_cleaner.state.floatbank3_a_air    0.000220\n",
       "primary_cleaner.state.floatbank8_d_air      0.000147\n",
       "secondary_cleaner.state.floatbank6_a_air    0.000147\n",
       "primary_cleaner.state.floatbank8_c_air      0.000073\n",
       "rougher.input.floatbank10_xanthate          0.000000\n",
       "rougher.input.floatbank10_sulfate           0.000000\n",
       "dtype: float64"
      ]
     },
     "execution_count": 99,
     "metadata": {},
     "output_type": "execute_result"
    }
   ],
   "source": [
    "print('Percentage of missing values per column in train df:')\n",
    "df['train'].loc[:, df['test'].columns].isna().sum().sort_values(ascending=False).head(10)/df['train'].shape[0]"
   ]
  },
  {
   "cell_type": "code",
   "execution_count": 100,
   "metadata": {},
   "outputs": [],
   "source": [
    "train_columns = df['test'].columns\n",
    "train_columns = train_columns.union(['final.output.recovery'])\n",
    "\n",
    "df['train'] = df['train'].iloc[df['train'].loc[:, train_columns].dropna()['date'].notna().index]"
   ]
  },
  {
   "cell_type": "code",
   "execution_count": 101,
   "metadata": {},
   "outputs": [
    {
     "name": "stdout",
     "output_type": "stream",
     "text": [
      "<class 'pandas.core.frame.DataFrame'>\n",
      "Int64Index: 12856 entries, 0 to 13625\n",
      "Data columns (total 54 columns):\n",
      "date                                          12856 non-null datetime64[ns]\n",
      "final.output.recovery                         12856 non-null float32\n",
      "primary_cleaner.input.depressant              12856 non-null float32\n",
      "primary_cleaner.input.feed_size               12856 non-null float32\n",
      "primary_cleaner.input.sulfate                 12856 non-null float32\n",
      "primary_cleaner.input.xanthate                12856 non-null float32\n",
      "primary_cleaner.state.floatbank8_a_air        12856 non-null float32\n",
      "primary_cleaner.state.floatbank8_a_level      12856 non-null float32\n",
      "primary_cleaner.state.floatbank8_b_air        12856 non-null float32\n",
      "primary_cleaner.state.floatbank8_b_level      12856 non-null float32\n",
      "primary_cleaner.state.floatbank8_c_air        12856 non-null float32\n",
      "primary_cleaner.state.floatbank8_c_level      12856 non-null float32\n",
      "primary_cleaner.state.floatbank8_d_air        12856 non-null float32\n",
      "primary_cleaner.state.floatbank8_d_level      12856 non-null float32\n",
      "rougher.input.feed_ag                         12856 non-null float32\n",
      "rougher.input.feed_au                         12856 non-null float32\n",
      "rougher.input.feed_pb                         12856 non-null float32\n",
      "rougher.input.feed_rate                       12856 non-null float32\n",
      "rougher.input.feed_size                       12856 non-null float32\n",
      "rougher.input.feed_sol                        12856 non-null float32\n",
      "rougher.input.floatbank10_sulfate             12856 non-null float32\n",
      "rougher.input.floatbank10_xanthate            12856 non-null float32\n",
      "rougher.input.floatbank11_sulfate             12856 non-null float32\n",
      "rougher.input.floatbank11_xanthate            12856 non-null float32\n",
      "rougher.state.floatbank10_a_air               12856 non-null float32\n",
      "rougher.state.floatbank10_a_level             12856 non-null float32\n",
      "rougher.state.floatbank10_b_air               12856 non-null float32\n",
      "rougher.state.floatbank10_b_level             12856 non-null float32\n",
      "rougher.state.floatbank10_c_air               12856 non-null float32\n",
      "rougher.state.floatbank10_c_level             12856 non-null float32\n",
      "rougher.state.floatbank10_d_air               12856 non-null float32\n",
      "rougher.state.floatbank10_d_level             12856 non-null float32\n",
      "rougher.state.floatbank10_e_air               12856 non-null float32\n",
      "rougher.state.floatbank10_e_level             12856 non-null float32\n",
      "rougher.state.floatbank10_f_air               12856 non-null float32\n",
      "rougher.state.floatbank10_f_level             12856 non-null float32\n",
      "secondary_cleaner.state.floatbank2_a_air      12856 non-null float32\n",
      "secondary_cleaner.state.floatbank2_a_level    12856 non-null float32\n",
      "secondary_cleaner.state.floatbank2_b_air      12856 non-null float32\n",
      "secondary_cleaner.state.floatbank2_b_level    12856 non-null float32\n",
      "secondary_cleaner.state.floatbank3_a_air      12856 non-null float32\n",
      "secondary_cleaner.state.floatbank3_a_level    12856 non-null float32\n",
      "secondary_cleaner.state.floatbank3_b_air      12856 non-null float32\n",
      "secondary_cleaner.state.floatbank3_b_level    12856 non-null float32\n",
      "secondary_cleaner.state.floatbank4_a_air      12856 non-null float32\n",
      "secondary_cleaner.state.floatbank4_a_level    12856 non-null float32\n",
      "secondary_cleaner.state.floatbank4_b_air      12856 non-null float32\n",
      "secondary_cleaner.state.floatbank4_b_level    12856 non-null float32\n",
      "secondary_cleaner.state.floatbank5_a_air      12856 non-null float32\n",
      "secondary_cleaner.state.floatbank5_a_level    12856 non-null float32\n",
      "secondary_cleaner.state.floatbank5_b_air      12856 non-null float32\n",
      "secondary_cleaner.state.floatbank5_b_level    12856 non-null float32\n",
      "secondary_cleaner.state.floatbank6_a_air      12856 non-null float32\n",
      "secondary_cleaner.state.floatbank6_a_level    12856 non-null float32\n",
      "dtypes: datetime64[ns](1), float32(53)\n",
      "memory usage: 2.8 MB\n"
     ]
    }
   ],
   "source": [
    "df['train'].loc[:, train_columns].info()"
   ]
  },
  {
   "cell_type": "markdown",
   "metadata": {},
   "source": [
    "### Results"
   ]
  },
  {
   "cell_type": "markdown",
   "metadata": {},
   "source": [
    "From the provided training dataset, we have learned that the recovery is calculated as the ratio of the total weight of the gold ore to the total weight of the gold ore after purification, therefore"
   ]
  },
  {
   "cell_type": "markdown",
   "metadata": {},
   "source": [
    "\n",
    "## Exploratory Data Analysis"
   ]
  },
  {
   "cell_type": "markdown",
   "metadata": {},
   "source": [
    "\n",
    "### Objective\n"
   ]
  },
  {
   "cell_type": "markdown",
   "metadata": {},
   "source": []
  },
  {
   "cell_type": "markdown",
   "metadata": {},
   "source": [
    "\n",
    "### Code"
   ]
  },
  {
   "cell_type": "code",
   "execution_count": 102,
   "metadata": {},
   "outputs": [
    {
     "data": {
      "text/plain": [
       "rougher.output.recovery                     1.000000\n",
       "rougher.output.concentrate_ag               0.637954\n",
       "rougher.output.concentrate_sol              0.544604\n",
       "rougher.output.concentrate_pb               0.540503\n",
       "rougher.output.concentrate_au               0.524924\n",
       "final.output.recovery                       0.307886\n",
       "primary_cleaner.input.sulfate               0.261724\n",
       "secondary_cleaner.state.floatbank4_a_air    0.226983\n",
       "final.output.tail_ag                        0.220866\n",
       "secondary_cleaner.state.floatbank4_b_air    0.218239\n",
       "Name: rougher.output.recovery, dtype: float64"
      ]
     },
     "execution_count": 102,
     "metadata": {},
     "output_type": "execute_result"
    }
   ],
   "source": [
    "df['train'].corr()['rougher.output.recovery'].sort_values(ascending=False).head(10)"
   ]
  },
  {
   "cell_type": "code",
   "execution_count": 103,
   "metadata": {},
   "outputs": [
    {
     "data": {
      "text/plain": [
       "final.output.recovery                       1.000000\n",
       "primary_cleaner.input.sulfate               0.382128\n",
       "rougher.input.feed_ag                       0.320859\n",
       "rougher.output.recovery                     0.307886\n",
       "rougher.input.floatbank10_xanthate          0.307614\n",
       "rougher.input.feed_au                       0.307526\n",
       "rougher.input.floatbank11_xanthate          0.302062\n",
       "secondary_cleaner.state.floatbank4_a_air    0.261208\n",
       "rougher.input.feed_sol                      0.247356\n",
       "final.output.concentrate_sol                0.246395\n",
       "Name: final.output.recovery, dtype: float64"
      ]
     },
     "execution_count": 103,
     "metadata": {},
     "output_type": "execute_result"
    }
   ],
   "source": [
    "df['train'].corr()['final.output.recovery'].sort_values(ascending=False).head(10)"
   ]
  },
  {
   "cell_type": "code",
   "execution_count": 104,
   "metadata": {},
   "outputs": [
    {
     "data": {
      "image/png": "[encoded data removed]",
      "text/plain": [
       "<Figure size 1440x1080 with 9 Axes>"
      ]
     },
     "metadata": {
      "needs_background": "light"
     },
     "output_type": "display_data"
    }
   ],
   "source": [
    "fig, axs = plt.subplots(3,3, figsize=(20, 15))\n",
    "fig.set_tight_layout(True)\n",
    "\n",
    "metals = ['ag', 'pb', 'au']\n",
    "stages = {\n",
    "    'flotation': ['rougher.input.feed_',  'rougher.output.tail_', 'rougher.output.concentrate_'], \n",
    "    \n",
    "    'primary_cleaner': ['rougher.output.concentrate_', 'primary_cleaner.output.concentrate_', 'primary_cleaner.output.tail_'],\n",
    "    \n",
    "    'secondary_cleaner': ['primary_cleaner.output.concentrate_', 'final.output.concentrate_', 'final.output.tail_']\n",
    "}\n",
    "legend = ['flotation', 'primary_cleaner', 'secondary_cleaner']\n",
    "\n",
    "for stage, c_i, type in zip(legend, range(len(stages)), ['feed', 'tail', 'concentrate']):\n",
    "    for metal, m_i in zip(metals, range(len(metals))):\n",
    "        maxrange = 0\n",
    "        for col in stages[stage]:\n",
    "            compare = abs(df['train'][col + metal].max() - df['train'][col + metal].min())\n",
    "            if compare > maxrange:\n",
    "                maxrange = compare\n",
    "                bin_set = col\n",
    "        bin = np.arange(df['train'][bin_set + metal].min(), df['train'][bin_set + metal].max(), maxrange/200)\n",
    "        for col in stages[stage]:\n",
    "            axs[c_i, m_i].hist(df['train'][col + metal], bins=bin, alpha=0.6)\n",
    "            axs[c_i, m_i].set_title('Histogram of ' + type + ' for metal ' + str.capitalize(metal) + ' in training set')\n",
    "            axs[c_i, m_i].legend(legend)\n",
    "            axs[c_i, m_i].set_xlabel('Value')\n",
    "            axs[c_i, m_i].set_ylabel('Count')\n",
    "            \n",
    "\n",
    "\n",
    "plt.show()\n",
    "    "
   ]
  },
  {
   "cell_type": "markdown",
   "metadata": {},
   "source": [
    "*Graph Analysis*"
   ]
  },
  {
   "cell_type": "markdown",
   "metadata": {},
   "source": [
    "By looking at the graphs above..."
   ]
  },
  {
   "cell_type": "code",
   "execution_count": 105,
   "metadata": {},
   "outputs": [
    {
     "data": {
      "text/html": [
       "<div>\n",
       "<style scoped>\n",
       "    .dataframe tbody tr th:only-of-type {\n",
       "        vertical-align: middle;\n",
       "    }\n",
       "\n",
       "    .dataframe tbody tr th {\n",
       "        vertical-align: top;\n",
       "    }\n",
       "\n",
       "    .dataframe thead th {\n",
       "        text-align: right;\n",
       "    }\n",
       "</style>\n",
       "<table border=\"1\" class=\"dataframe\">\n",
       "  <thead>\n",
       "    <tr style=\"text-align: right;\">\n",
       "      <th></th>\n",
       "      <th>rougher.input.feed_size</th>\n",
       "      <th>rougher.input.feed_size</th>\n",
       "    </tr>\n",
       "  </thead>\n",
       "  <tbody>\n",
       "    <tr>\n",
       "      <td>count</td>\n",
       "      <td>12856.000000</td>\n",
       "      <td>5383.000000</td>\n",
       "    </tr>\n",
       "    <tr>\n",
       "      <td>mean</td>\n",
       "      <td>58.475361</td>\n",
       "      <td>56.338642</td>\n",
       "    </tr>\n",
       "    <tr>\n",
       "      <td>std</td>\n",
       "      <td>20.378561</td>\n",
       "      <td>21.836788</td>\n",
       "    </tr>\n",
       "    <tr>\n",
       "      <td>min</td>\n",
       "      <td>9.659576</td>\n",
       "      <td>0.046369</td>\n",
       "    </tr>\n",
       "    <tr>\n",
       "      <td>25%</td>\n",
       "      <td>48.734413</td>\n",
       "      <td>43.913765</td>\n",
       "    </tr>\n",
       "    <tr>\n",
       "      <td>50%</td>\n",
       "      <td>54.708839</td>\n",
       "      <td>50.924232</td>\n",
       "    </tr>\n",
       "    <tr>\n",
       "      <td>75%</td>\n",
       "      <td>63.866806</td>\n",
       "      <td>62.364983</td>\n",
       "    </tr>\n",
       "    <tr>\n",
       "      <td>max</td>\n",
       "      <td>484.967468</td>\n",
       "      <td>477.445465</td>\n",
       "    </tr>\n",
       "  </tbody>\n",
       "</table>\n",
       "</div>"
      ],
      "text/plain": [
       "       rougher.input.feed_size  rougher.input.feed_size\n",
       "count             12856.000000              5383.000000\n",
       "mean                 58.475361                56.338642\n",
       "std                  20.378561                21.836788\n",
       "min                   9.659576                 0.046369\n",
       "25%                  48.734413                43.913765\n",
       "50%                  54.708839                50.924232\n",
       "75%                  63.866806                62.364983\n",
       "max                 484.967468               477.445465"
      ]
     },
     "execution_count": 105,
     "metadata": {},
     "output_type": "execute_result"
    }
   ],
   "source": [
    "feed_size = pd.concat([df['train']['rougher.input.feed_size'], df['test']['rougher.input.feed_size']], axis=1)\n",
    "\n",
    "feed_size.describe()"
   ]
  },
  {
   "cell_type": "code",
   "execution_count": 106,
   "metadata": {},
   "outputs": [
    {
     "data": {
      "image/png": "[encoded data removed]",
      "text/plain": [
       "<Figure size 1440x432 with 2 Axes>"
      ]
     },
     "metadata": {
      "needs_background": "light"
     },
     "output_type": "display_data"
    }
   ],
   "source": [
    "fig, axs = plt.subplots(1,2, figsize=(20,6))\n",
    "fig.set_tight_layout(True)\n",
    "\n",
    "feed_size.boxplot()\n",
    "axs[1].set_title('Boxplot of feed size particles')\n",
    "axs[1].set_ylabel('Value')\n",
    "\n",
    "for i in ['train', 'test']:\n",
    "    compare = abs(df[i]['rougher.input.feed_size'].max() - df[i]['rougher.input.feed_size'].min())\n",
    "    if compare > maxrange:\n",
    "        maxrange = compare\n",
    "        bin_set = i\n",
    "bin = np.arange(df[i]['rougher.input.feed_size'].min(), df[i]['rougher.input.feed_size'].max(), maxrange/200)\n",
    "\n",
    "for i in ['train', 'test']:\n",
    "    axs[0].hist(df[i]['rougher.input.feed_size'], bins=bin, density=True, alpha=0.7)\n",
    "axs[0].set_title('Histogram of feed size particles')\n",
    "axs[0].legend(['Train', 'Test'])\n",
    "\n",
    "plt.show()"
   ]
  },
  {
   "cell_type": "markdown",
   "metadata": {},
   "source": [
    "*Graph Analysis*"
   ]
  },
  {
   "cell_type": "markdown",
   "metadata": {},
   "source": [
    "By looking at the..."
   ]
  },
  {
   "cell_type": "code",
   "execution_count": 107,
   "metadata": {},
   "outputs": [],
   "source": [
    "for i in stages:\n",
    "    \tdf['train'] =  df['train'][ (df['train'][ stages[i][0] + 'au' ] > 0) & (df['train'][stages[i][1] + 'au'] > 0) ]"
   ]
  },
  {
   "cell_type": "markdown",
   "metadata": {},
   "source": [
    "### Results"
   ]
  },
  {
   "cell_type": "markdown",
   "metadata": {},
   "source": []
  },
  {
   "cell_type": "markdown",
   "metadata": {},
   "source": [
    "## Model Training"
   ]
  },
  {
   "cell_type": "markdown",
   "metadata": {},
   "source": [
    "### Objective"
   ]
  },
  {
   "cell_type": "markdown",
   "metadata": {},
   "source": []
  },
  {
   "cell_type": "markdown",
   "metadata": {},
   "source": [
    "### Code"
   ]
  },
  {
   "cell_type": "code",
   "execution_count": 108,
   "metadata": {},
   "outputs": [],
   "source": [
    "train = df['train'].loc[:, train_columns].copy()\n",
    "test = df['test']"
   ]
  },
  {
   "cell_type": "code",
   "execution_count": 109,
   "metadata": {},
   "outputs": [],
   "source": [
    "def target_features(df, tar_col, remove=[]):\n",
    "    target = df[tar_col]\n",
    "    remove.append(tar_col)\n",
    "    features = df[[x for x in df if x not in remove]]\n",
    "    return target, features"
   ]
  },
  {
   "cell_type": "code",
   "execution_count": 110,
   "metadata": {},
   "outputs": [],
   "source": [
    "def find_level(model, param, level=10):\n",
    "    best = {\n",
    "        'i': -1, \n",
    "        'score': -1\n",
    "    }\n",
    "    for i in range(1, level+1):\n",
    "        setattr(model, param, i)\n",
    "        model.fit(train_feat, train_target)\n",
    "        score = model.score(valid_feat, valid_target)\n",
    "        if (score - best['score']) > 0.001:\n",
    "            best['score'] = score\n",
    "            best['i'] = i\n",
    "    return best['score'], best['i']\n",
    "\n",
    "def report(target, features=None, predictions=None, model=None, predictions_proba=None, classifier=True):\n",
    "    \"\"\"\n",
    "    Prints a report of the model's performance. If regressor, add classifier=False\n",
    "    \"\"\"\n",
    "    flag = 0\n",
    "    if model != None:\n",
    "        if predictions is not None:\n",
    "            warnings.warn('Both model and predictions were passed. Ignoring model.')\n",
    "        else:\n",
    "            if features is None:\n",
    "                raise ValueError('Features must be passed if model is passed.')\n",
    "            predictions = model.predict(features)\n",
    "            if classifier == True:\n",
    "                predictions_proba = model.predict_proba(features)\n",
    "    if predictions is not None:\n",
    "        if classifier == True:\n",
    "            print(f'Accuracy: {metrics.accuracy_score(target,predictions):.2%}') \n",
    "            print(f'Recall: {metrics.recall_score(target,predictions):.2%}')\n",
    "            print(f'Precision: {metrics.precision_score(target,predictions):.2%}')\n",
    "            print(f'F1 Score: {metrics.f1_score(target,predictions):.2%}')\n",
    "        elif classifier == False:\n",
    "            print(f'Mean Absolute Error: {metrics.mean_absolute_error(target,predictions):.2f}')\n",
    "            print(f'Root Mean Squared Error: {np.sqrt(metrics.mean_squared_error(target,predictions)):.2f}') \n",
    "            print(f'R2 Score: {metrics.r2_score(target,predictions):.2f}')\n",
    "            print(f'Predictions mean value: {np.mean(predictions):.2f} (Target mean is {np.mean(target):.2f})')\n",
    "            print(f'Predictions median value: {np.median(predictions):.2f} (Target median is {np.median(target):.2f})')\n",
    "            target = pd.Series(target).reset_index(drop=True).sort_values()\n",
    "            predictions = pd.Series(predictions)\n",
    "            predictions = predictions.iloc[target.index].reset_index(drop=True)\n",
    "            target = target.reset_index(drop=True)\n",
    "            plt.plot(predictions, label='Predicted')\n",
    "            plt.plot(target, label='Actual', color='orange')\n",
    "            plt.legend(['Predicted', 'Actual'])\n",
    "            plt.xlabel('Sample Number')\n",
    "            plt.show()\n",
    "    if predictions_proba is not None:\n",
    "        fpr, tpr, thresholds = metrics.roc_curve(target, predictions_proba[:,1])\n",
    "        print(f'AUC-ROC: {metrics.roc_auc_score(target,predictions_proba[:,1]):.2%}')\n",
    "        flag = 1\n",
    "    if flag == 1:\n",
    "        return fpr, tpr, thresholds, predictions\n",
    "    else:\n",
    "        return predictions"
   ]
  },
  {
   "cell_type": "code",
   "execution_count": null,
   "metadata": {},
   "outputs": [
    {
     "ename": "NameError",
     "evalue": "name 'train' is not defined",
     "output_type": "error",
     "traceback": [
      "\u001b[1;31m---------------------------------------------------------------------------\u001b[0m\n",
      "\u001b[1;31mNameError\u001b[0m                                 Traceback (most recent call last)\n",
      "\u001b[1;32m<ipython-input-17-b2ac63548dd5>\u001b[0m in \u001b[0;36m<module>\u001b[1;34m\u001b[0m\n",
      "\u001b[0;32m      2\u001b[0m \u001b[0mtrain_feat\u001b[0m \u001b[1;33m=\u001b[0m \u001b[1;33m[\u001b[0m\u001b[1;33m]\u001b[0m\u001b[1;33m\u001b[0m\u001b[1;33m\u001b[0m\u001b[0m\n",
      "\u001b[0;32m      3\u001b[0m \u001b[1;32mfor\u001b[0m \u001b[0mi\u001b[0m \u001b[1;32min\u001b[0m \u001b[0mrange\u001b[0m\u001b[1;33m(\u001b[0m\u001b[1;36m3\u001b[0m\u001b[1;33m)\u001b[0m\u001b[1;33m:\u001b[0m\u001b[1;33m\u001b[0m\u001b[1;33m\u001b[0m\u001b[0m\n",
      "\u001b[1;32m----> 4\u001b[1;33m     \u001b[0mx\u001b[0m\u001b[1;33m,\u001b[0m \u001b[0my\u001b[0m \u001b[1;33m=\u001b[0m \u001b[0mtarget_features\u001b[0m\u001b[1;33m(\u001b[0m\u001b[0mtrain\u001b[0m\u001b[1;33m[\u001b[0m\u001b[0mi\u001b[0m\u001b[1;33m]\u001b[0m\u001b[1;33m,\u001b[0m \u001b[1;34m'product'\u001b[0m\u001b[1;33m,\u001b[0m \u001b[0mremove\u001b[0m\u001b[1;33m=\u001b[0m\u001b[1;33m[\u001b[0m\u001b[1;34m'id'\u001b[0m\u001b[1;33m]\u001b[0m\u001b[1;33m)\u001b[0m\u001b[1;33m\u001b[0m\u001b[1;33m\u001b[0m\u001b[0m\n",
      "\u001b[0m\u001b[0;32m      5\u001b[0m     \u001b[0mtrain_target\u001b[0m\u001b[1;33m.\u001b[0m\u001b[0mappend\u001b[0m\u001b[1;33m(\u001b[0m\u001b[0mx\u001b[0m\u001b[1;33m)\u001b[0m\u001b[1;33m\u001b[0m\u001b[1;33m\u001b[0m\u001b[0m\n",
      "\u001b[0;32m      6\u001b[0m     \u001b[0mtrain_feat\u001b[0m\u001b[1;33m.\u001b[0m\u001b[0mappend\u001b[0m\u001b[1;33m(\u001b[0m\u001b[0my\u001b[0m\u001b[1;33m)\u001b[0m\u001b[1;33m\u001b[0m\u001b[1;33m\u001b[0m\u001b[0m\n",
      "\n",
      "\u001b[1;31mNameError\u001b[0m: name 'train' is not defined"
     ]
    }
   ],
   "source": [
    "train_target = []\n",
    "train_feat = []\n",
    "\n",
    "x, y = target_features(train, 'rougher.output.recovery', remove=['final.output.recovery'])\n",
    "train_target.append(x)\n",
    "train_feat.append(y)\n",
    "\n",
    "x, y = target_features(train, 'final.output.recovery')\n",
    "train_target.append(x)\n",
    "train_feat.append(y)\n",
    "\n",
    "valid_target = []\n",
    "valid_feat = []\n",
    "for i in range(3):\n",
    "    x, y = target_features(valid[i], 'product', remove=['id'])\n",
    "    valid_target.append(x)\n",
    "    valid_feat.append(y)"
   ]
  },
  {
   "cell_type": "code",
   "execution_count": null,
   "metadata": {},
   "outputs": [
    {
     "name": "stdout",
     "output_type": "stream",
     "text": [
      "Report of linear model for Region 1:\n",
      "Mean Absolute Error: 31.05\n",
      "Root Mean Squared Error: 37.76\n",
      "R2 Score: 0.27\n",
      "Predictions mean value: 92.40 (Target mean is 92.33)\n",
      "Predictions median value: 92.41 (Target median is 90.79)\n"
     ]
    },
    {
     "data": {
      "image/png": "[encoded data removed]",
      "text/plain": [
       "<Figure size 432x288 with 1 Axes>"
      ]
     },
     "metadata": {
      "needs_background": "light"
     },
     "output_type": "display_data"
    },
    {
     "name": "stdout",
     "output_type": "stream",
     "text": [
      "\n",
      "\n",
      "Report of linear model for Region 2:\n",
      "Mean Absolute Error: 0.72\n",
      "Root Mean Squared Error: 0.89\n",
      "R2 Score: 1.00\n",
      "Predictions mean value: 68.71 (Target mean is 68.73)\n",
      "Predictions median value: 57.92 (Target median is 57.09)\n"
     ]
    },
    {
     "data": {
      "image/png": "[encoded data removed]",
      "text/plain": [
       "<Figure size 432x288 with 1 Axes>"
      ]
     },
     "metadata": {
      "needs_background": "light"
     },
     "output_type": "display_data"
    },
    {
     "name": "stdout",
     "output_type": "stream",
     "text": [
      "\n",
      "\n",
      "Report of linear model for Region 3:\n",
      "Mean Absolute Error: 32.90\n",
      "Root Mean Squared Error: 40.15\n",
      "R2 Score: 0.20\n",
      "Predictions mean value: 94.77 (Target mean is 95.15)\n",
      "Predictions median value: 94.61 (Target median is 94.94)\n"
     ]
    },
    {
     "data": {
      "image/png": "[encoded data removed]",
      "text/plain": [
       "<Figure size 432x288 with 1 Axes>"
      ]
     },
     "metadata": {
      "needs_background": "light"
     },
     "output_type": "display_data"
    },
    {
     "name": "stdout",
     "output_type": "stream",
     "text": [
      "\n",
      "\n"
     ]
    }
   ],
   "source": [
    "# Launching linear model\n",
    "linear_model = []\n",
    "for i in range(3):\n",
    "    linear_model.append(LinearRegression(normalize=True))\n",
    "\n",
    "valid_predict = []\n",
    "for i in range(3):\n",
    "    print(f'Report of linear model for Region {i+1}:')\n",
    "    linear_model[i].fit(train_feat[i], train_target[i])\n",
    "    valid_predict.append(report(valid_target[i], features=valid_feat[i], model=linear_model[i], classifier=False))\n",
    "    print('\\n')"
   ]
  },
  {
   "cell_type": "markdown",
   "metadata": {},
   "source": [
    "*Graph Analysis*"
   ]
  },
  {
   "cell_type": "markdown",
   "metadata": {},
   "source": [
    "The reports for each model suggest that model 1 performs better than the other models to predict the production volume for each well position. The model 1 has a higher R2 score, which higher than the other models. Although the linear regression model could succesfully predict all values for Region 2, this region shows the worst results for the production volume."
   ]
  },
  {
   "cell_type": "markdown",
   "metadata": {},
   "source": [
    "### Results"
   ]
  },
  {
   "cell_type": "markdown",
   "metadata": {},
   "source": []
  },
  {
   "cell_type": "markdown",
   "metadata": {},
   "source": [
    "## Viability Study"
   ]
  },
  {
   "cell_type": "markdown",
   "metadata": {},
   "source": [
    "### Objective"
   ]
  },
  {
   "cell_type": "markdown",
   "metadata": {},
   "source": []
  },
  {
   "cell_type": "markdown",
   "metadata": {},
   "source": [
    "### Code"
   ]
  },
  {
   "cell_type": "code",
   "execution_count": null,
   "metadata": {},
   "outputs": [
    {
     "name": "stdout",
     "output_type": "stream",
     "text": [
      "Cost per well: 500,000 USD\n",
      "Each well must produce at least 111.11 thousand barrels on average to pay for itself (500,000 USD)\n",
      "The average production of Region 1 is 92.50 thousand of barrels (416,250 USD) \n",
      "The average production of Region 2 is 68.82 thousand of barrels (309,712 USD) \n",
      "The average production of Region 3 is 95.00 thousand of barrels (427,500 USD) \n"
     ]
    }
   ],
   "source": [
    "cost_per_well = 100 * 10**6 / 200\n",
    "barrels_to_pay_itself = cost_per_well / 4.5\n",
    "production_to_pay_itself = barrels_to_pay_itself / 1000\n",
    "\n",
    "print(f'Cost per well: {int(cost_per_well):,} USD')\n",
    "print(f'Each well must produce at least {production_to_pay_itself:.2f} thousand barrels on average to pay for itself ({production_to_pay_itself*4500:,.0f} USD)')\n",
    "for i in range(3):\n",
    "    print(f'The average production of Region {i+1} is {df[i][\"product\"].mean():.2f} thousand of barrels ({df[i][\"product\"].mean()*4500:,.0f} USD) ')"
   ]
  },
  {
   "cell_type": "code",
   "execution_count": null,
   "metadata": {},
   "outputs": [],
   "source": [
    "def revenue(wells, quantity):\n",
    "    profit = wells[:quantity].sum() * 4500\n",
    "    return profit"
   ]
  },
  {
   "cell_type": "code",
   "execution_count": null,
   "metadata": {},
   "outputs": [
    {
     "data": {
      "image/png": "[encoded data removed]",
      "text/plain": [
       "<Figure size 720x360 with 1 Axes>"
      ]
     },
     "metadata": {
      "needs_background": "light"
     },
     "output_type": "display_data"
    },
    {
     "name": "stdout",
     "output_type": "stream",
     "text": [
      "Average profit using ML model : 4,158,585.55 USD (as opposed to average profit of 2,739,406.92 USD by picking based on f2)\n",
      "Average well production using ML model is: 115.73 thousand barrels\n",
      "Risk of losses by using ML model is 5.30% (as opposed to  16.20% by picking based on f2)\n",
      "Confidence interval of revenue by using ML model is: 99,363,051.78 USD to 108,978,791.97 USD\n"
     ]
    },
    {
     "data": {
      "image/png": "[encoded data removed]",
      "text/plain": [
       "<Figure size 720x360 with 1 Axes>"
      ]
     },
     "metadata": {
      "needs_background": "light"
     },
     "output_type": "display_data"
    },
    {
     "name": "stdout",
     "output_type": "stream",
     "text": [
      "Average profit using ML model : 4,459,496.22 USD (as opposed to average profit of 4,247,086.93 USD by picking based on f2)\n",
      "Average well production using ML model is: 116.07 thousand barrels\n",
      "Risk of losses by using ML model is 1.80% (as opposed to  2.00% by picking based on f2)\n",
      "Confidence interval of revenue by using ML model is: 100,509,860.96 USD to 108,394,588.92 USD\n"
     ]
    },
    {
     "data": {
      "image/png": "[encoded data removed]",
      "text/plain": [
       "<Figure size 720x360 with 1 Axes>"
      ]
     },
     "metadata": {
      "needs_background": "light"
     },
     "output_type": "display_data"
    },
    {
     "name": "stdout",
     "output_type": "stream",
     "text": [
      "Average profit using ML model : 3,672,658.84 USD (as opposed to average profit of 3,657,949.81 USD by picking based on f2)\n",
      "Average well production using ML model is: 115.19 thousand barrels\n",
      "Risk of losses by using ML model is 7.30% (as opposed to  7.70% by picking based on f2)\n",
      "Confidence interval of revenue by using ML model is: 98,464,434.74 USD to 108,843,245.73 USD\n"
     ]
    }
   ],
   "source": [
    "state = np.random.RandomState(1995)\n",
    "\n",
    "for j in range(3):\n",
    "    values = []\n",
    "    values2 = [] \n",
    "    for i in range(1000):\n",
    "        subsample = df[j].sample(n=500, replace=True, random_state=state)\n",
    "        predict = linear_model[j].predict(subsample[['f0', 'f1', 'f2']])\n",
    "        predict = pd.Series(predict)\n",
    "        predict.index = subsample.index\n",
    "        predict = predict.sort_values(ascending=False)\n",
    "        values.append(\n",
    "            revenue(\n",
    "                df[j].loc[predict.index]['product'],\n",
    "                200\n",
    "                )\n",
    "            )\n",
    "        values2.append(\n",
    "            revenue(\n",
    "                subsample.sort_values(by='f2', ascending=False)['product'],\n",
    "                200\n",
    "            )\n",
    "        )\n",
    "    \n",
    "    values = pd.Series(values)\n",
    "    values2 = pd.Series(values2)\n",
    "    \n",
    "    plt.figure(figsize=(10,5))\n",
    "    plt.hist(values, bins=100, alpha=0.5)\n",
    "    plt.hist(values2, bins=100, alpha=0.5)\n",
    "    plt.title(f'Histogram of revenue for Region {j+1}, pick based on ML or f2')\n",
    "    plt.legend(['Picks by model', 'Picks by f2'])\n",
    "    plt.show()\n",
    "    \n",
    "    print(f'Average profit using ML model : {values.mean() - 100000000:,.2f} USD (as opposed to average profit of {values2.mean() - 100000000:,.2f} USD by picking based on f2)')\n",
    "    print(f'Average well production using ML model is: {values.mean()/4500/200:,.2f} thousand barrels')\n",
    "    print(f'Risk of losses by using ML model is {values.where(values < 10**8).dropna().shape[0]/values.shape[0]:.2%} (as opposed to  {values2.where(values2 < 10**8).dropna().shape[0]/values2.shape[0]:.2%} by picking based on f2)')\n",
    "    print(f'Confidence interval of revenue by using ML model is: {values.quantile(0.025):,.2f} USD to {values.quantile(0.975):,.2f} USD')\n"
   ]
  },
  {
   "cell_type": "markdown",
   "metadata": {},
   "source": [
    "*Graph Analysis*\n",
    "\n",
    "The main findings of this simulation are listed below:\n",
    "\n",
    "    - Picking oill wells at random from the 500 points for each region will generally result in big losses.\n",
    "    - The linear model predictions are mainly based on values of feature \"f2\".\n",
    "    - Regions 1 and 3 have oil wells with higher values for production, but they are harder to identify.\n",
    "    - Region 2 has the bet compromise of value with lower risks of losses. Therefore, it is the best region for exploration.\n",
    "    - The risks of losses are only 1.80% for Region 2, while risks are much higher for other Regions."
   ]
  },
  {
   "cell_type": "markdown",
   "metadata": {},
   "source": [
    "### Results"
   ]
  },
  {
   "cell_type": "markdown",
   "metadata": {},
   "source": []
  },
  {
   "cell_type": "markdown",
   "metadata": {},
   "source": [
    "## Conclusion"
   ]
  },
  {
   "cell_type": "markdown",
   "metadata": {},
   "source": []
  }
 ],
 "metadata": {
  "ExecuteTimeLog": [
   {
    "duration": 1478,
    "start_time": "2021-11-19T03:49:05.405Z"
   },
   {
    "duration": 1827,
    "start_time": "2021-11-19T03:49:06.885Z"
   },
   {
    "duration": 1385,
    "start_time": "2021-11-19T03:49:07.330Z"
   },
   {
    "duration": 1381,
    "start_time": "2021-11-19T03:49:07.336Z"
   },
   {
    "duration": 1375,
    "start_time": "2021-11-19T03:49:07.343Z"
   },
   {
    "duration": 1369,
    "start_time": "2021-11-19T03:49:07.351Z"
   },
   {
    "duration": 1364,
    "start_time": "2021-11-19T03:49:07.358Z"
   },
   {
    "duration": 1353,
    "start_time": "2021-11-19T03:49:07.370Z"
   },
   {
    "duration": 1351,
    "start_time": "2021-11-19T03:49:07.373Z"
   },
   {
    "duration": 1350,
    "start_time": "2021-11-19T03:49:07.375Z"
   },
   {
    "duration": 1127,
    "start_time": "2021-11-19T03:49:07.600Z"
   },
   {
    "duration": 1121,
    "start_time": "2021-11-19T03:49:07.607Z"
   },
   {
    "duration": 1115,
    "start_time": "2021-11-19T03:49:07.615Z"
   },
   {
    "duration": 1110,
    "start_time": "2021-11-19T03:49:07.621Z"
   },
   {
    "duration": 1104,
    "start_time": "2021-11-19T03:49:07.628Z"
   },
   {
    "duration": 1099,
    "start_time": "2021-11-19T03:49:07.635Z"
   },
   {
    "duration": 1093,
    "start_time": "2021-11-19T03:49:07.642Z"
   },
   {
    "duration": 1088,
    "start_time": "2021-11-19T03:49:07.649Z"
   },
   {
    "duration": 1082,
    "start_time": "2021-11-19T03:49:07.656Z"
   },
   {
    "duration": 1074,
    "start_time": "2021-11-19T03:49:07.665Z"
   },
   {
    "duration": 1069,
    "start_time": "2021-11-19T03:49:07.672Z"
   },
   {
    "duration": 1067,
    "start_time": "2021-11-19T03:49:07.675Z"
   },
   {
    "duration": 875,
    "start_time": "2021-11-19T03:49:07.869Z"
   },
   {
    "duration": 866,
    "start_time": "2021-11-19T03:49:07.879Z"
   },
   {
    "duration": 860,
    "start_time": "2021-11-19T03:49:07.886Z"
   },
   {
    "duration": 855,
    "start_time": "2021-11-19T03:49:07.893Z"
   },
   {
    "duration": 848,
    "start_time": "2021-11-19T03:49:07.901Z"
   },
   {
    "duration": 843,
    "start_time": "2021-11-19T03:49:07.908Z"
   },
   {
    "duration": 842,
    "start_time": "2021-11-19T03:49:07.910Z"
   },
   {
    "duration": 840,
    "start_time": "2021-11-19T03:49:07.913Z"
   },
   {
    "duration": 843,
    "start_time": "2021-11-19T03:49:07.920Z"
   },
   {
    "duration": 1671,
    "start_time": "2021-11-19T03:49:41.385Z"
   },
   {
    "duration": 345,
    "start_time": "2021-11-19T03:50:08.339Z"
   },
   {
    "duration": 1764,
    "start_time": "2021-11-19T03:50:18.480Z"
   },
   {
    "duration": 4,
    "start_time": "2021-11-19T03:51:01.593Z"
   },
   {
    "duration": 326,
    "start_time": "2021-11-19T03:51:03.552Z"
   },
   {
    "duration": 225,
    "start_time": "2021-11-19T03:51:22.438Z"
   },
   {
    "duration": 29,
    "start_time": "2021-11-19T03:51:24.925Z"
   },
   {
    "duration": 58,
    "start_time": "2021-11-19T03:51:32.112Z"
   },
   {
    "duration": 11,
    "start_time": "2021-11-19T03:51:36.404Z"
   },
   {
    "duration": 5,
    "start_time": "2021-11-19T03:51:37.214Z"
   },
   {
    "duration": 5,
    "start_time": "2021-11-19T03:51:37.866Z"
   },
   {
    "duration": 60,
    "start_time": "2021-11-19T03:51:40.955Z"
   },
   {
    "duration": 7,
    "start_time": "2021-11-19T03:51:41.301Z"
   },
   {
    "duration": 4,
    "start_time": "2021-11-19T03:51:41.994Z"
   },
   {
    "duration": 14,
    "start_time": "2021-11-19T03:51:45.938Z"
   },
   {
    "duration": 40,
    "start_time": "2021-11-19T03:51:46.358Z"
   },
   {
    "duration": 24,
    "start_time": "2021-11-19T03:51:48.557Z"
   },
   {
    "duration": 13,
    "start_time": "2021-11-19T03:51:49.177Z"
   },
   {
    "duration": 2584,
    "start_time": "2021-11-19T03:51:49.703Z"
   },
   {
    "duration": 5,
    "start_time": "2021-11-19T03:51:56.488Z"
   },
   {
    "duration": 9,
    "start_time": "2021-11-19T03:51:59.514Z"
   },
   {
    "duration": 9,
    "start_time": "2021-11-19T03:52:04.588Z"
   },
   {
    "duration": 308,
    "start_time": "2021-11-19T03:52:08.407Z"
   },
   {
    "duration": 287,
    "start_time": "2021-11-19T03:52:23.175Z"
   },
   {
    "duration": 57,
    "start_time": "2021-11-19T03:52:31.601Z"
   },
   {
    "duration": 3,
    "start_time": "2021-11-19T03:52:37.023Z"
   },
   {
    "duration": 7,
    "start_time": "2021-11-19T03:52:37.700Z"
   },
   {
    "duration": 19,
    "start_time": "2021-11-19T03:52:39.130Z"
   },
   {
    "duration": 60,
    "start_time": "2021-11-19T03:52:40.613Z"
   },
   {
    "duration": 2792,
    "start_time": "2021-11-19T03:52:41.257Z"
   },
   {
    "duration": 4811,
    "start_time": "2021-11-19T03:52:47.288Z"
   },
   {
    "duration": 206,
    "start_time": "2021-11-19T03:52:55.641Z"
   },
   {
    "duration": 13,
    "start_time": "2021-11-19T03:53:02.281Z"
   },
   {
    "duration": 14,
    "start_time": "2021-11-19T03:53:03.383Z"
   },
   {
    "duration": 19,
    "start_time": "2021-11-19T03:53:03.399Z"
   },
   {
    "duration": 12,
    "start_time": "2021-11-19T03:53:05.129Z"
   },
   {
    "duration": 23,
    "start_time": "2021-11-19T03:53:07.430Z"
   },
   {
    "duration": 2,
    "start_time": "2021-11-19T03:53:08.849Z"
   },
   {
    "duration": 1147,
    "start_time": "2021-11-19T03:54:07.948Z"
   },
   {
    "duration": 182,
    "start_time": "2021-11-19T03:54:09.097Z"
   },
   {
    "duration": 19,
    "start_time": "2021-11-19T03:54:09.282Z"
   },
   {
    "duration": 48,
    "start_time": "2021-11-19T03:54:09.303Z"
   },
   {
    "duration": 22,
    "start_time": "2021-11-19T03:54:09.353Z"
   },
   {
    "duration": 6,
    "start_time": "2021-11-19T03:54:09.377Z"
   },
   {
    "duration": 6,
    "start_time": "2021-11-19T03:54:09.385Z"
   },
   {
    "duration": 87,
    "start_time": "2021-11-19T03:54:09.393Z"
   },
   {
    "duration": 7,
    "start_time": "2021-11-19T03:54:09.483Z"
   },
   {
    "duration": 6,
    "start_time": "2021-11-19T03:54:09.492Z"
   },
   {
    "duration": 16,
    "start_time": "2021-11-19T03:54:09.499Z"
   },
   {
    "duration": 58,
    "start_time": "2021-11-19T03:54:09.517Z"
   },
   {
    "duration": 23,
    "start_time": "2021-11-19T03:54:09.577Z"
   },
   {
    "duration": 12,
    "start_time": "2021-11-19T03:54:09.602Z"
   },
   {
    "duration": 2621,
    "start_time": "2021-11-19T03:54:09.616Z"
   },
   {
    "duration": 5,
    "start_time": "2021-11-19T03:54:12.239Z"
   },
   {
    "duration": 28,
    "start_time": "2021-11-19T03:54:12.245Z"
   },
   {
    "duration": 10,
    "start_time": "2021-11-19T03:54:12.275Z"
   },
   {
    "duration": 68,
    "start_time": "2021-11-19T03:54:12.287Z"
   },
   {
    "duration": 6,
    "start_time": "2021-11-19T03:54:12.357Z"
   },
   {
    "duration": 16,
    "start_time": "2021-11-19T03:54:12.365Z"
   },
   {
    "duration": 37,
    "start_time": "2021-11-19T03:54:12.382Z"
   },
   {
    "duration": 43,
    "start_time": "2021-11-19T03:54:12.421Z"
   },
   {
    "duration": 2275,
    "start_time": "2021-11-19T03:54:12.466Z"
   },
   {
    "duration": 3851,
    "start_time": "2021-11-19T03:54:14.743Z"
   },
   {
    "duration": 220,
    "start_time": "2021-11-19T03:54:18.596Z"
   },
   {
    "duration": 12,
    "start_time": "2021-11-19T03:54:18.819Z"
   },
   {
    "duration": 11,
    "start_time": "2021-11-19T03:54:18.833Z"
   },
   {
    "duration": 14,
    "start_time": "2021-11-19T03:54:18.863Z"
   },
   {
    "duration": 13,
    "start_time": "2021-11-19T03:54:18.879Z"
   },
   {
    "duration": 26,
    "start_time": "2021-11-19T03:54:18.894Z"
   },
   {
    "duration": 2,
    "start_time": "2021-11-19T03:54:18.922Z"
   },
   {
    "duration": 1115,
    "start_time": "2021-11-19T03:54:53.709Z"
   },
   {
    "duration": 179,
    "start_time": "2021-11-19T03:54:54.826Z"
   },
   {
    "duration": 18,
    "start_time": "2021-11-19T03:54:55.007Z"
   },
   {
    "duration": 45,
    "start_time": "2021-11-19T03:54:55.027Z"
   },
   {
    "duration": 12,
    "start_time": "2021-11-19T03:54:55.073Z"
   },
   {
    "duration": 5,
    "start_time": "2021-11-19T03:54:55.087Z"
   },
   {
    "duration": 5,
    "start_time": "2021-11-19T03:54:55.094Z"
   },
   {
    "duration": 79,
    "start_time": "2021-11-19T03:54:55.102Z"
   },
   {
    "duration": 7,
    "start_time": "2021-11-19T03:54:55.184Z"
   },
   {
    "duration": 8,
    "start_time": "2021-11-19T03:54:55.192Z"
   },
   {
    "duration": 15,
    "start_time": "2021-11-19T03:54:55.201Z"
   },
   {
    "duration": 62,
    "start_time": "2021-11-19T03:54:55.217Z"
   },
   {
    "duration": 23,
    "start_time": "2021-11-19T03:54:55.281Z"
   },
   {
    "duration": 11,
    "start_time": "2021-11-19T03:54:55.305Z"
   },
   {
    "duration": 2538,
    "start_time": "2021-11-19T03:54:55.317Z"
   },
   {
    "duration": 7,
    "start_time": "2021-11-19T03:54:57.857Z"
   },
   {
    "duration": 11,
    "start_time": "2021-11-19T03:54:57.865Z"
   },
   {
    "duration": 8,
    "start_time": "2021-11-19T03:54:57.877Z"
   },
   {
    "duration": 77,
    "start_time": "2021-11-19T03:54:57.887Z"
   },
   {
    "duration": 2,
    "start_time": "2021-11-19T03:54:57.966Z"
   },
   {
    "duration": 30,
    "start_time": "2021-11-19T03:54:57.970Z"
   },
   {
    "duration": 58,
    "start_time": "2021-11-19T03:54:58.001Z"
   },
   {
    "duration": 201,
    "start_time": "2021-11-19T03:54:58.062Z"
   },
   {
    "duration": 2899,
    "start_time": "2021-11-19T03:54:58.265Z"
   },
   {
    "duration": 5079,
    "start_time": "2021-11-19T03:55:01.166Z"
   },
   {
    "duration": 216,
    "start_time": "2021-11-19T03:55:06.247Z"
   },
   {
    "duration": 11,
    "start_time": "2021-11-19T03:55:06.464Z"
   },
   {
    "duration": 12,
    "start_time": "2021-11-19T03:55:06.477Z"
   },
   {
    "duration": 11,
    "start_time": "2021-11-19T03:55:06.490Z"
   },
   {
    "duration": 11,
    "start_time": "2021-11-19T03:55:06.503Z"
   },
   {
    "duration": 56,
    "start_time": "2021-11-19T03:55:06.515Z"
   },
   {
    "duration": 2,
    "start_time": "2021-11-19T03:55:06.573Z"
   },
   {
    "duration": 1117,
    "start_time": "2021-11-19T03:55:25.376Z"
   },
   {
    "duration": 175,
    "start_time": "2021-11-19T03:55:26.495Z"
   },
   {
    "duration": 20,
    "start_time": "2021-11-19T03:55:26.673Z"
   },
   {
    "duration": 47,
    "start_time": "2021-11-19T03:55:26.695Z"
   },
   {
    "duration": 27,
    "start_time": "2021-11-19T03:55:26.744Z"
   },
   {
    "duration": 19,
    "start_time": "2021-11-19T03:55:26.772Z"
   },
   {
    "duration": 22,
    "start_time": "2021-11-19T03:55:26.792Z"
   },
   {
    "duration": 61,
    "start_time": "2021-11-19T03:55:26.815Z"
   },
   {
    "duration": 6,
    "start_time": "2021-11-19T03:55:26.879Z"
   },
   {
    "duration": 9,
    "start_time": "2021-11-19T03:55:26.887Z"
   },
   {
    "duration": 26,
    "start_time": "2021-11-19T03:55:26.898Z"
   },
   {
    "duration": 44,
    "start_time": "2021-11-19T03:55:26.925Z"
   },
   {
    "duration": 31,
    "start_time": "2021-11-19T03:55:26.971Z"
   },
   {
    "duration": 11,
    "start_time": "2021-11-19T03:55:27.004Z"
   },
   {
    "duration": 2713,
    "start_time": "2021-11-19T03:55:27.017Z"
   },
   {
    "duration": 4,
    "start_time": "2021-11-19T03:55:29.732Z"
   },
   {
    "duration": 26,
    "start_time": "2021-11-19T03:55:29.738Z"
   },
   {
    "duration": 15,
    "start_time": "2021-11-19T03:55:29.766Z"
   },
   {
    "duration": 81,
    "start_time": "2021-11-19T03:55:29.782Z"
   },
   {
    "duration": 3,
    "start_time": "2021-11-19T03:55:29.865Z"
   },
   {
    "duration": 18,
    "start_time": "2021-11-19T03:55:29.870Z"
   },
   {
    "duration": 45,
    "start_time": "2021-11-19T03:55:29.890Z"
   },
   {
    "duration": 135,
    "start_time": "2021-11-19T03:55:29.937Z"
   },
   {
    "duration": 2303,
    "start_time": "2021-11-19T03:55:30.164Z"
   },
   {
    "duration": 4905,
    "start_time": "2021-11-19T03:55:32.468Z"
   },
   {
    "duration": 233,
    "start_time": "2021-11-19T03:55:37.374Z"
   },
   {
    "duration": 11,
    "start_time": "2021-11-19T03:55:37.610Z"
   },
   {
    "duration": 46,
    "start_time": "2021-11-19T03:55:37.623Z"
   },
   {
    "duration": 51,
    "start_time": "2021-11-19T03:55:37.671Z"
   },
   {
    "duration": 38,
    "start_time": "2021-11-19T03:55:37.724Z"
   },
   {
    "duration": 70,
    "start_time": "2021-11-19T03:55:37.764Z"
   },
   {
    "duration": 17,
    "start_time": "2021-11-19T03:55:37.835Z"
   },
   {
    "duration": 1160,
    "start_time": "2021-11-19T03:56:20.246Z"
   },
   {
    "duration": 175,
    "start_time": "2021-11-19T03:56:21.408Z"
   },
   {
    "duration": 19,
    "start_time": "2021-11-19T03:56:21.585Z"
   },
   {
    "duration": 46,
    "start_time": "2021-11-19T03:56:21.606Z"
   },
   {
    "duration": 18,
    "start_time": "2021-11-19T03:56:21.654Z"
   },
   {
    "duration": 5,
    "start_time": "2021-11-19T03:56:21.673Z"
   },
   {
    "duration": 5,
    "start_time": "2021-11-19T03:56:21.679Z"
   },
   {
    "duration": 80,
    "start_time": "2021-11-19T03:56:21.687Z"
   },
   {
    "duration": 8,
    "start_time": "2021-11-19T03:56:21.770Z"
   },
   {
    "duration": 6,
    "start_time": "2021-11-19T03:56:21.780Z"
   },
   {
    "duration": 23,
    "start_time": "2021-11-19T03:56:21.788Z"
   },
   {
    "duration": 51,
    "start_time": "2021-11-19T03:56:21.813Z"
   },
   {
    "duration": 28,
    "start_time": "2021-11-19T03:56:21.866Z"
   },
   {
    "duration": 13,
    "start_time": "2021-11-19T03:56:21.896Z"
   },
   {
    "duration": 2580,
    "start_time": "2021-11-19T03:56:21.911Z"
   },
   {
    "duration": 5,
    "start_time": "2021-11-19T03:56:24.494Z"
   },
   {
    "duration": 9,
    "start_time": "2021-11-19T03:56:24.501Z"
   },
   {
    "duration": 8,
    "start_time": "2021-11-19T03:56:24.511Z"
   },
   {
    "duration": 83,
    "start_time": "2021-11-19T03:56:24.521Z"
   },
   {
    "duration": 3,
    "start_time": "2021-11-19T03:56:24.606Z"
   },
   {
    "duration": 7,
    "start_time": "2021-11-19T03:56:24.610Z"
   },
   {
    "duration": 19,
    "start_time": "2021-11-19T03:56:24.619Z"
   },
   {
    "duration": 130,
    "start_time": "2021-11-19T03:56:24.641Z"
   },
   {
    "duration": 2675,
    "start_time": "2021-11-19T03:56:24.863Z"
   },
   {
    "duration": 4852,
    "start_time": "2021-11-19T03:56:27.540Z"
   },
   {
    "duration": 228,
    "start_time": "2021-11-19T03:56:32.393Z"
   },
   {
    "duration": 11,
    "start_time": "2021-11-19T03:56:32.623Z"
   },
   {
    "duration": 22,
    "start_time": "2021-11-19T03:56:32.635Z"
   },
   {
    "duration": 27,
    "start_time": "2021-11-19T03:56:32.662Z"
   },
   {
    "duration": 31,
    "start_time": "2021-11-19T03:56:32.691Z"
   },
   {
    "duration": 33,
    "start_time": "2021-11-19T03:56:32.723Z"
   },
   {
    "duration": 22,
    "start_time": "2021-11-19T03:56:32.758Z"
   },
   {
    "duration": 1197,
    "start_time": "2021-11-19T03:59:57.027Z"
   },
   {
    "duration": 191,
    "start_time": "2021-11-19T03:59:58.226Z"
   },
   {
    "duration": 19,
    "start_time": "2021-11-19T03:59:58.419Z"
   },
   {
    "duration": 48,
    "start_time": "2021-11-19T03:59:58.440Z"
   },
   {
    "duration": 11,
    "start_time": "2021-11-19T03:59:58.490Z"
   },
   {
    "duration": 5,
    "start_time": "2021-11-19T03:59:58.502Z"
   },
   {
    "duration": 5,
    "start_time": "2021-11-19T03:59:58.509Z"
   },
   {
    "duration": 79,
    "start_time": "2021-11-19T03:59:58.515Z"
   },
   {
    "duration": 7,
    "start_time": "2021-11-19T03:59:58.597Z"
   },
   {
    "duration": 4,
    "start_time": "2021-11-19T03:59:58.606Z"
   },
   {
    "duration": 18,
    "start_time": "2021-11-19T03:59:58.612Z"
   },
   {
    "duration": 54,
    "start_time": "2021-11-19T03:59:58.632Z"
   },
   {
    "duration": 25,
    "start_time": "2021-11-19T03:59:58.687Z"
   },
   {
    "duration": 12,
    "start_time": "2021-11-19T03:59:58.713Z"
   },
   {
    "duration": 2661,
    "start_time": "2021-11-19T03:59:58.726Z"
   },
   {
    "duration": 5,
    "start_time": "2021-11-19T04:00:01.389Z"
   },
   {
    "duration": 37,
    "start_time": "2021-11-19T04:00:01.395Z"
   },
   {
    "duration": 26,
    "start_time": "2021-11-19T04:00:01.434Z"
   },
   {
    "duration": 80,
    "start_time": "2021-11-19T04:00:01.462Z"
   },
   {
    "duration": 4,
    "start_time": "2021-11-19T04:00:01.544Z"
   },
   {
    "duration": 33,
    "start_time": "2021-11-19T04:00:01.549Z"
   },
   {
    "duration": 34,
    "start_time": "2021-11-19T04:00:01.584Z"
   },
   {
    "duration": 157,
    "start_time": "2021-11-19T04:00:01.620Z"
   },
   {
    "duration": 2947,
    "start_time": "2021-11-19T04:00:01.779Z"
   },
   {
    "duration": 4804,
    "start_time": "2021-11-19T04:00:04.728Z"
   },
   {
    "duration": 211,
    "start_time": "2021-11-19T04:00:09.534Z"
   },
   {
    "duration": 21,
    "start_time": "2021-11-19T04:00:09.748Z"
   },
   {
    "duration": 22,
    "start_time": "2021-11-19T04:00:09.771Z"
   },
   {
    "duration": 21,
    "start_time": "2021-11-19T04:00:09.795Z"
   },
   {
    "duration": 63,
    "start_time": "2021-11-19T04:00:09.818Z"
   },
   {
    "duration": 36,
    "start_time": "2021-11-19T04:00:09.883Z"
   },
   {
    "duration": 32,
    "start_time": "2021-11-19T04:00:09.920Z"
   }
  ],
  "interpreter": {
   "hash": "ac58549e391d20381b1a26588b215b2d55fa392d44f90ad4f3113cc049903f1d"
  },
  "kernelspec": {
   "display_name": "Python 3",
   "language": "python",
   "name": "python3"
  },
  "language_info": {
   "codemirror_mode": {
    "name": "ipython",
    "version": 3
   },
   "file_extension": ".py",
   "mimetype": "text/x-python",
   "name": "python",
   "nbconvert_exporter": "python",
   "pygments_lexer": "ipython3",
   "version": "3.7.12"
  },
  "toc": {
   "base_numbering": 1,
   "nav_menu": {},
   "number_sections": true,
   "sideBar": true,
   "skip_h1_title": true,
   "title_cell": "Table of Contents",
   "title_sidebar": "Contents",
   "toc_cell": false,
   "toc_position": {},
   "toc_section_display": true,
   "toc_window_display": false
  }
 },
 "nbformat": 4,
 "nbformat_minor": 2
}
