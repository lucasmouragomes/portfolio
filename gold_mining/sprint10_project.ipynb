{
 "cells": [
  {
   "cell_type": "markdown",
   "metadata": {},
   "source": [
    "# Gold Mining"
   ]
  },
  {
   "cell_type": "markdown",
   "metadata": {},
   "source": [
    "## Introduction"
   ]
  },
  {
   "cell_type": "markdown",
   "metadata": {},
   "source": [
    "Machine learning prototype for Zyfra, a company who develops efficiency solutions for heavy industry. We want to predict the gold recovered from gold ore by using the data on extraction and purification. Gold recovery is a complex process involving three stages: flotation, primary filtration and secondary filtration. Each one of these stages have their own input and output characteristics regarding different metals. We will use the data from the three stages to predict the gold recovered from the ore after flotation and filtration."
   ]
  },
  {
   "cell_type": "markdown",
   "metadata": {},
   "source": [
    "\n",
    "## Data Preprocess"
   ]
  },
  {
   "cell_type": "markdown",
   "metadata": {},
   "source": [
    "### Objective"
   ]
  },
  {
   "cell_type": "markdown",
   "metadata": {},
   "source": [
    "Three dataframes were provided: one with the data to train models, one for validation and the full dataset for reference. These dataframes will be checked for errors and missing values. We will also explore what information is available and define what features will be used for training. Data available in the training data that is not present in the validation data will be removed."
   ]
  },
  {
   "cell_type": "markdown",
   "metadata": {},
   "source": [
    "### Code"
   ]
  },
  {
   "cell_type": "code",
   "execution_count": 1286,
   "metadata": {},
   "outputs": [],
   "source": [
    "import pandas as pd\n",
    "import matplotlib.pyplot as plt\n",
    "import numpy as np\n",
    "from IPython.display import display\n",
    "\n",
    "from sklearn.linear_model import LinearRegression\n",
    "from sklearn.tree import DecisionTreeRegressor\n",
    "from sklearn.ensemble import RandomForestRegressor\n",
    "import sklearn.metrics as metrics\n",
    "from sklearn.model_selection import cross_val_score\n",
    "\n",
    "import sys\n",
    "import warnings\n",
    "if not sys.warnoptions:\n",
    "       warnings.simplefilter(\"ignore\")\n",
    "\n",
    "from joblib import dump"
   ]
  },
  {
   "cell_type": "code",
   "execution_count": 1287,
   "metadata": {},
   "outputs": [
    {
     "name": "stdout",
     "output_type": "stream",
     "text": [
      "Path found is ../datasets/\n"
     ]
    }
   ],
   "source": [
    "path_array = ['', '/', '/datasets/', './datasets/', '../datasets/']\n",
    "CSVPATH = None\n",
    "\n",
    "for i in path_array:\n",
    "    try:\n",
    "        pd.read_csv(i + 'gold_recovery_train.csv', nrows=1)\n",
    "        CSVPATH = i\n",
    "        break\n",
    "    except:\n",
    "        pass\n",
    "\n",
    "if CSVPATH:\n",
    "    print('Path found is', 'current folder' if CSVPATH == '' else CSVPATH)\n",
    "else:\n",
    "    print('No path found')"
   ]
  },
  {
   "cell_type": "code",
   "execution_count": 1288,
   "metadata": {},
   "outputs": [],
   "source": [
    "csv_names = ['train', 'test', 'full']\n",
    "df = {sheet: pd.read_csv(CSVPATH + 'gold_recovery_' + sheet + '.csv', nrows=1) for sheet in csv_names}"
   ]
  },
  {
   "cell_type": "code",
   "execution_count": 1289,
   "metadata": {},
   "outputs": [],
   "source": [
    "def optimize_types(df):\n",
    "    df_dtypes = df.dtypes\n",
    "    df_types = [i.name for i in df_dtypes.values]\n",
    "    df_types = dict(zip(df.columns, df_types))\n",
    "    return df_types\n",
    "\n",
    "float_columns = df['full'].select_dtypes(include=['float64']).columns\n",
    "\n",
    "for sheet in csv_names:\n",
    "    for col in float_columns:\n",
    "        if col in df[sheet]:\n",
    "            df[sheet][col] = pd.to_numeric(df[sheet][col], downcast = 'float')\n",
    "\n",
    "for sheet in csv_names:\n",
    "    df_types = {sheet: optimize_types(df[sheet]) for sheet in csv_names}"
   ]
  },
  {
   "cell_type": "code",
   "execution_count": 1290,
   "metadata": {},
   "outputs": [],
   "source": [
    "df = {sheet: pd.read_csv(CSVPATH + 'gold_recovery_' + sheet + '.csv', dtype=df_types[sheet], parse_dates=['date']) for sheet in csv_names}"
   ]
  },
  {
   "cell_type": "code",
   "execution_count": 1291,
   "metadata": {},
   "outputs": [
    {
     "data": {
      "text/plain": [
       "Index(['date', 'primary_cleaner.input.sulfate',\n",
       "       'primary_cleaner.input.depressant', 'primary_cleaner.input.feed_size',\n",
       "       'primary_cleaner.input.xanthate',\n",
       "       'primary_cleaner.state.floatbank8_a_air',\n",
       "       'primary_cleaner.state.floatbank8_a_level',\n",
       "       'primary_cleaner.state.floatbank8_b_air',\n",
       "       'primary_cleaner.state.floatbank8_b_level',\n",
       "       'primary_cleaner.state.floatbank8_c_air',\n",
       "       'primary_cleaner.state.floatbank8_c_level',\n",
       "       'primary_cleaner.state.floatbank8_d_air',\n",
       "       'primary_cleaner.state.floatbank8_d_level', 'rougher.input.feed_ag',\n",
       "       'rougher.input.feed_pb', 'rougher.input.feed_rate',\n",
       "       'rougher.input.feed_size', 'rougher.input.feed_sol',\n",
       "       'rougher.input.feed_au', 'rougher.input.floatbank10_sulfate',\n",
       "       'rougher.input.floatbank10_xanthate',\n",
       "       'rougher.input.floatbank11_sulfate',\n",
       "       'rougher.input.floatbank11_xanthate', 'rougher.state.floatbank10_a_air',\n",
       "       'rougher.state.floatbank10_a_level', 'rougher.state.floatbank10_b_air',\n",
       "       'rougher.state.floatbank10_b_level', 'rougher.state.floatbank10_c_air',\n",
       "       'rougher.state.floatbank10_c_level', 'rougher.state.floatbank10_d_air',\n",
       "       'rougher.state.floatbank10_d_level', 'rougher.state.floatbank10_e_air',\n",
       "       'rougher.state.floatbank10_e_level', 'rougher.state.floatbank10_f_air',\n",
       "       'rougher.state.floatbank10_f_level',\n",
       "       'secondary_cleaner.state.floatbank2_a_air',\n",
       "       'secondary_cleaner.state.floatbank2_a_level',\n",
       "       'secondary_cleaner.state.floatbank2_b_air',\n",
       "       'secondary_cleaner.state.floatbank2_b_level',\n",
       "       'secondary_cleaner.state.floatbank3_a_air',\n",
       "       'secondary_cleaner.state.floatbank3_a_level',\n",
       "       'secondary_cleaner.state.floatbank3_b_air',\n",
       "       'secondary_cleaner.state.floatbank3_b_level',\n",
       "       'secondary_cleaner.state.floatbank4_a_air',\n",
       "       'secondary_cleaner.state.floatbank4_a_level',\n",
       "       'secondary_cleaner.state.floatbank4_b_air',\n",
       "       'secondary_cleaner.state.floatbank4_b_level',\n",
       "       'secondary_cleaner.state.floatbank5_a_air',\n",
       "       'secondary_cleaner.state.floatbank5_a_level',\n",
       "       'secondary_cleaner.state.floatbank5_b_air',\n",
       "       'secondary_cleaner.state.floatbank5_b_level',\n",
       "       'secondary_cleaner.state.floatbank6_a_air',\n",
       "       'secondary_cleaner.state.floatbank6_a_level'],\n",
       "      dtype='object')"
      ]
     },
     "execution_count": 1291,
     "metadata": {},
     "output_type": "execute_result"
    }
   ],
   "source": [
    "df['test'].columns"
   ]
  },
  {
   "cell_type": "code",
   "execution_count": 1292,
   "metadata": {},
   "outputs": [
    {
     "name": "stdout",
     "output_type": "stream",
     "text": [
      "<class 'pandas.core.frame.DataFrame'>\n",
      "RangeIndex: 16860 entries, 0 to 16859\n",
      "Data columns (total 87 columns):\n",
      "date                                                  16860 non-null datetime64[ns]\n",
      "final.output.concentrate_ag                           16788 non-null float32\n",
      "final.output.concentrate_pb                           16788 non-null float32\n",
      "final.output.concentrate_sol                          16490 non-null float32\n",
      "final.output.concentrate_au                           16789 non-null float32\n",
      "final.output.recovery                                 15339 non-null float32\n",
      "final.output.tail_ag                                  16794 non-null float32\n",
      "final.output.tail_pb                                  16677 non-null float32\n",
      "final.output.tail_sol                                 16715 non-null float32\n",
      "final.output.tail_au                                  16794 non-null float32\n",
      "primary_cleaner.input.sulfate                         15553 non-null float32\n",
      "primary_cleaner.input.depressant                      15598 non-null float32\n",
      "primary_cleaner.input.feed_size                       16860 non-null float32\n",
      "primary_cleaner.input.xanthate                        15875 non-null float32\n",
      "primary_cleaner.output.concentrate_ag                 16778 non-null float32\n",
      "primary_cleaner.output.concentrate_pb                 16502 non-null float32\n",
      "primary_cleaner.output.concentrate_sol                16224 non-null float32\n",
      "primary_cleaner.output.concentrate_au                 16778 non-null float32\n",
      "primary_cleaner.output.tail_ag                        16777 non-null float32\n",
      "primary_cleaner.output.tail_pb                        16761 non-null float32\n",
      "primary_cleaner.output.tail_sol                       16579 non-null float32\n",
      "primary_cleaner.output.tail_au                        16777 non-null float32\n",
      "primary_cleaner.state.floatbank8_a_air                16820 non-null float32\n",
      "primary_cleaner.state.floatbank8_a_level              16827 non-null float32\n",
      "primary_cleaner.state.floatbank8_b_air                16820 non-null float32\n",
      "primary_cleaner.state.floatbank8_b_level              16833 non-null float32\n",
      "primary_cleaner.state.floatbank8_c_air                16822 non-null float32\n",
      "primary_cleaner.state.floatbank8_c_level              16833 non-null float32\n",
      "primary_cleaner.state.floatbank8_d_air                16821 non-null float32\n",
      "primary_cleaner.state.floatbank8_d_level              16833 non-null float32\n",
      "rougher.calculation.sulfate_to_au_concentrate         16833 non-null float32\n",
      "rougher.calculation.floatbank10_sulfate_to_au_feed    16833 non-null float32\n",
      "rougher.calculation.floatbank11_sulfate_to_au_feed    16833 non-null float32\n",
      "rougher.calculation.au_pb_ratio                       15618 non-null float32\n",
      "rougher.input.feed_ag                                 16778 non-null float32\n",
      "rougher.input.feed_pb                                 16632 non-null float32\n",
      "rougher.input.feed_rate                               16347 non-null float32\n",
      "rougher.input.feed_size                               16443 non-null float32\n",
      "rougher.input.feed_sol                                16568 non-null float32\n",
      "rougher.input.feed_au                                 16777 non-null float32\n",
      "rougher.input.floatbank10_sulfate                     15816 non-null float32\n",
      "rougher.input.floatbank10_xanthate                    16514 non-null float32\n",
      "rougher.input.floatbank11_sulfate                     16237 non-null float32\n",
      "rougher.input.floatbank11_xanthate                    14956 non-null float32\n",
      "rougher.output.concentrate_ag                         16778 non-null float32\n",
      "rougher.output.concentrate_pb                         16778 non-null float32\n",
      "rougher.output.concentrate_sol                        16698 non-null float32\n",
      "rougher.output.concentrate_au                         16778 non-null float32\n",
      "rougher.output.recovery                               14287 non-null float32\n",
      "rougher.output.tail_ag                                14610 non-null float32\n",
      "rougher.output.tail_pb                                16778 non-null float32\n",
      "rougher.output.tail_sol                               14611 non-null float32\n",
      "rougher.output.tail_au                                14611 non-null float32\n",
      "rougher.state.floatbank10_a_air                       16807 non-null float32\n",
      "rougher.state.floatbank10_a_level                     16807 non-null float32\n",
      "rougher.state.floatbank10_b_air                       16807 non-null float32\n",
      "rougher.state.floatbank10_b_level                     16807 non-null float32\n",
      "rougher.state.floatbank10_c_air                       16807 non-null float32\n",
      "rougher.state.floatbank10_c_level                     16814 non-null float32\n",
      "rougher.state.floatbank10_d_air                       16802 non-null float32\n",
      "rougher.state.floatbank10_d_level                     16809 non-null float32\n",
      "rougher.state.floatbank10_e_air                       16257 non-null float32\n",
      "rougher.state.floatbank10_e_level                     16809 non-null float32\n",
      "rougher.state.floatbank10_f_air                       16802 non-null float32\n",
      "rougher.state.floatbank10_f_level                     16802 non-null float32\n",
      "secondary_cleaner.output.tail_ag                      16776 non-null float32\n",
      "secondary_cleaner.output.tail_pb                      16764 non-null float32\n",
      "secondary_cleaner.output.tail_sol                     14874 non-null float32\n",
      "secondary_cleaner.output.tail_au                      16778 non-null float32\n",
      "secondary_cleaner.state.floatbank2_a_air              16497 non-null float32\n",
      "secondary_cleaner.state.floatbank2_a_level            16751 non-null float32\n",
      "secondary_cleaner.state.floatbank2_b_air              16705 non-null float32\n",
      "secondary_cleaner.state.floatbank2_b_level            16748 non-null float32\n",
      "secondary_cleaner.state.floatbank3_a_air              16763 non-null float32\n",
      "secondary_cleaner.state.floatbank3_a_level            16747 non-null float32\n",
      "secondary_cleaner.state.floatbank3_b_air              16752 non-null float32\n",
      "secondary_cleaner.state.floatbank3_b_level            16750 non-null float32\n",
      "secondary_cleaner.state.floatbank4_a_air              16731 non-null float32\n",
      "secondary_cleaner.state.floatbank4_a_level            16747 non-null float32\n",
      "secondary_cleaner.state.floatbank4_b_air              16768 non-null float32\n",
      "secondary_cleaner.state.floatbank4_b_level            16767 non-null float32\n",
      "secondary_cleaner.state.floatbank5_a_air              16775 non-null float32\n",
      "secondary_cleaner.state.floatbank5_a_level            16775 non-null float32\n",
      "secondary_cleaner.state.floatbank5_b_air              16775 non-null float32\n",
      "secondary_cleaner.state.floatbank5_b_level            16776 non-null float32\n",
      "secondary_cleaner.state.floatbank6_a_air              16757 non-null float32\n",
      "secondary_cleaner.state.floatbank6_a_level            16775 non-null float32\n",
      "dtypes: datetime64[ns](1), float32(86)\n",
      "memory usage: 5.7 MB\n"
     ]
    }
   ],
   "source": [
    "df['train'].info()"
   ]
  },
  {
   "cell_type": "code",
   "execution_count": 1293,
   "metadata": {},
   "outputs": [
    {
     "name": "stdout",
     "output_type": "stream",
     "text": [
      "Number of duplicated rows for df train: 0\n",
      "Number of duplicated rows for df test: 0\n",
      "Number of duplicated rows for df full: 0\n"
     ]
    }
   ],
   "source": [
    "for sheet in csv_names:\n",
    "    print('Number of duplicated rows for df ' + sheet + f': {df[sheet][df[sheet].duplicated()].shape[0]}')"
   ]
  },
  {
   "cell_type": "code",
   "execution_count": 1294,
   "metadata": {},
   "outputs": [
    {
     "name": "stdout",
     "output_type": "stream",
     "text": [
      "Number of missing values for df train: 30320\n",
      "Number of missing values for df test: 2360\n",
      "Number of missing values for df full: 36587\n"
     ]
    }
   ],
   "source": [
    "for sheet in csv_names:\n",
    "    print('Number of missing values for df ' + sheet + f': {df[sheet].isnull().sum().sum()}')"
   ]
  },
  {
   "cell_type": "code",
   "execution_count": 1295,
   "metadata": {},
   "outputs": [],
   "source": [
    "test_columns = df['test'].drop(['date'], axis=1).columns\n",
    "train_columns = test_columns.union(['rougher.output.recovery', 'final.output.recovery'])"
   ]
  },
  {
   "cell_type": "code",
   "execution_count": 1296,
   "metadata": {},
   "outputs": [],
   "source": [
    "test_train = []\n",
    "for df_name in ['train', 'test']:\n",
    "    full_concat = pd.concat([df['full']['date'], df[df_name]['date']], axis=0).reset_index(drop=True)\n",
    "    full_concat_index = full_concat.duplicated(keep='last')\n",
    "    test_train.append(df['full'].loc[full_concat_index[full_concat_index == True].index])\n",
    "    \n",
    "test_train[1] = test_train[1].loc[:, train_columns]\n",
    "train = test_train[0]\n",
    "test = test_train[1]"
   ]
  },
  {
   "cell_type": "code",
   "execution_count": 1297,
   "metadata": {},
   "outputs": [
    {
     "name": "stdout",
     "output_type": "stream",
     "text": [
      "Top rows with missing values in train df (%):\n"
     ]
    },
    {
     "data": {
      "text/plain": [
       "rougher.output.recovery              15.260973\n",
       "rougher.output.tail_ag               13.345196\n",
       "rougher.output.tail_sol              13.339265\n",
       "rougher.output.tail_au               13.339265\n",
       "secondary_cleaner.output.tail_sol    11.779359\n",
       "dtype: float64"
      ]
     },
     "execution_count": 1297,
     "metadata": {},
     "output_type": "execute_result"
    }
   ],
   "source": [
    "print('Top rows with missing values in train df (%):')\n",
    "(train.isna().sum()/train.shape[0]*100).sort_values(ascending=False).head()"
   ]
  },
  {
   "cell_type": "code",
   "execution_count": 1298,
   "metadata": {},
   "outputs": [
    {
     "name": "stdout",
     "output_type": "stream",
     "text": [
      "Top rows with missing values in test df (%):\n"
     ]
    },
    {
     "data": {
      "text/plain": [
       "rougher.output.recovery               9.323770\n",
       "final.output.recovery                 7.547814\n",
       "rougher.input.floatbank11_xanthate    6.028005\n",
       "primary_cleaner.input.sulfate         5.157104\n",
       "primary_cleaner.input.depressant      4.849727\n",
       "dtype: float64"
      ]
     },
     "execution_count": 1298,
     "metadata": {},
     "output_type": "execute_result"
    }
   ],
   "source": [
    "print('Top rows with missing values in test df (%):')\n",
    "(test.isna().sum()/test.shape[0]*100).sort_values(ascending=False).head()"
   ]
  },
  {
   "cell_type": "code",
   "execution_count": 1299,
   "metadata": {},
   "outputs": [
    {
     "name": "stdout",
     "output_type": "stream",
     "text": [
      "Number of missing values for df test: 0\n"
     ]
    }
   ],
   "source": [
    "test = test.dropna().reset_index(drop=True)\n",
    "\n",
    "print(f'Number of missing values for df test: {test.isnull().sum().sum()}')"
   ]
  },
  {
   "cell_type": "code",
   "execution_count": 1300,
   "metadata": {},
   "outputs": [],
   "source": [
    "input_bool_index = df['train'].columns.str.contains('^[a-z+._\\d]+input[a-z+._\\d]+')\n",
    "output_bool_index = df['train'].columns.str.contains('^[a-z+._\\d]+output[a-z+._\\d]+')\n",
    "\n",
    "df['train'].loc[:,input_bool_index] = (\n",
    "    df['train'].loc[:, input_bool_index].dropna()\n",
    ")"
   ]
  },
  {
   "cell_type": "code",
   "execution_count": 1301,
   "metadata": {},
   "outputs": [
    {
     "data": {
      "text/plain": [
       "count    14287.000000\n",
       "mean        82.394203\n",
       "std         15.096808\n",
       "min          0.000000\n",
       "25%         79.818375\n",
       "50%         85.236000\n",
       "75%         90.131691\n",
       "max        100.000000\n",
       "Name: rougher.output.recovery, dtype: float64"
      ]
     },
     "execution_count": 1301,
     "metadata": {},
     "output_type": "execute_result"
    }
   ],
   "source": [
    "train['rougher.output.recovery'].describe()"
   ]
  },
  {
   "cell_type": "code",
   "execution_count": 1302,
   "metadata": {},
   "outputs": [],
   "source": [
    "train = train.loc[train['rougher.input.feed_au'] > 0, :].reset_index(drop=True)"
   ]
  },
  {
   "cell_type": "code",
   "execution_count": 1303,
   "metadata": {},
   "outputs": [],
   "source": [
    "def calc_recovery_rougher(row):\n",
    "    C = row['rougher.output.concentrate_au'] # gold concentration right after flotation\n",
    "    F = row['rougher.input.feed_au'] # gold concentration before flotation\n",
    "    T = row['rougher.output.tail_au'] # gold in tails after flotation\n",
    "    try:\n",
    "        result = C * (F - T)/(F * (C - T )) * 100\n",
    "    except:\n",
    "        result = np.nan\n",
    "    if result > 100:\n",
    "        result = 100\n",
    "    elif result <= 0:\n",
    "        result = +0.0\n",
    "    return result"
   ]
  },
  {
   "cell_type": "code",
   "execution_count": 1304,
   "metadata": {},
   "outputs": [],
   "source": [
    "rougher_recovery = train.apply(calc_recovery_rougher, axis=1)\n",
    "rougher_recovery.name = 'calculated_rougher_recovery'"
   ]
  },
  {
   "cell_type": "code",
   "execution_count": 1305,
   "metadata": {},
   "outputs": [
    {
     "data": {
      "text/html": [
       "<div>\n",
       "<style scoped>\n",
       "    .dataframe tbody tr th:only-of-type {\n",
       "        vertical-align: middle;\n",
       "    }\n",
       "\n",
       "    .dataframe tbody tr th {\n",
       "        vertical-align: top;\n",
       "    }\n",
       "\n",
       "    .dataframe thead th {\n",
       "        text-align: right;\n",
       "    }\n",
       "</style>\n",
       "<table border=\"1\" class=\"dataframe\">\n",
       "  <thead>\n",
       "    <tr style=\"text-align: right;\">\n",
       "      <th></th>\n",
       "      <th>rougher.output.recovery</th>\n",
       "      <th>calculated_rougher_recovery</th>\n",
       "    </tr>\n",
       "  </thead>\n",
       "  <tbody>\n",
       "    <tr>\n",
       "      <td>count</td>\n",
       "      <td>14287.000000</td>\n",
       "      <td>14547.000000</td>\n",
       "    </tr>\n",
       "    <tr>\n",
       "      <td>mean</td>\n",
       "      <td>82.394203</td>\n",
       "      <td>81.773971</td>\n",
       "    </tr>\n",
       "    <tr>\n",
       "      <td>std</td>\n",
       "      <td>15.096808</td>\n",
       "      <td>17.016768</td>\n",
       "    </tr>\n",
       "    <tr>\n",
       "      <td>min</td>\n",
       "      <td>0.000000</td>\n",
       "      <td>0.000000</td>\n",
       "    </tr>\n",
       "    <tr>\n",
       "      <td>25%</td>\n",
       "      <td>79.818375</td>\n",
       "      <td>79.704807</td>\n",
       "    </tr>\n",
       "    <tr>\n",
       "      <td>50%</td>\n",
       "      <td>85.236000</td>\n",
       "      <td>85.229911</td>\n",
       "    </tr>\n",
       "    <tr>\n",
       "      <td>75%</td>\n",
       "      <td>90.131691</td>\n",
       "      <td>90.203433</td>\n",
       "    </tr>\n",
       "    <tr>\n",
       "      <td>max</td>\n",
       "      <td>100.000000</td>\n",
       "      <td>100.000000</td>\n",
       "    </tr>\n",
       "  </tbody>\n",
       "</table>\n",
       "</div>"
      ],
      "text/plain": [
       "       rougher.output.recovery  calculated_rougher_recovery\n",
       "count             14287.000000                 14547.000000\n",
       "mean                 82.394203                    81.773971\n",
       "std                  15.096808                    17.016768\n",
       "min                   0.000000                     0.000000\n",
       "25%                  79.818375                    79.704807\n",
       "50%                  85.236000                    85.229911\n",
       "75%                  90.131691                    90.203433\n",
       "max                 100.000000                   100.000000"
      ]
     },
     "metadata": {},
     "output_type": "display_data"
    },
    {
     "name": "stdout",
     "output_type": "stream",
     "text": [
      "The mean absolute error is: 0.79\n"
     ]
    }
   ],
   "source": [
    "display(train[['rougher.output.recovery']].describe().merge(rougher_recovery.describe(), left_index=True, right_index=True))\n",
    "print('The mean absolute error is: ', end='')\n",
    "print(f\"{metrics.mean_absolute_error(train['rougher.output.recovery'].fillna(0), rougher_recovery.fillna(0)):.2f}\"\n",
    "    )"
   ]
  },
  {
   "cell_type": "code",
   "execution_count": 1306,
   "metadata": {},
   "outputs": [],
   "source": [
    "train.loc[train['rougher.output.recovery'].isna(), 'rougher.output.recovery'] = rougher_recovery[train['rougher.output.recovery'].isna()]"
   ]
  },
  {
   "cell_type": "code",
   "execution_count": 1307,
   "metadata": {},
   "outputs": [
    {
     "name": "stdout",
     "output_type": "stream",
     "text": [
      "Percentage of missing values per column in train df:\n"
     ]
    },
    {
     "data": {
      "text/plain": [
       "rougher.output.recovery                     0.068575\n",
       "rougher.input.floatbank11_xanthate          0.052119\n",
       "rougher.state.floatbank10_e_air             0.034511\n",
       "primary_cleaner.input.sulfate               0.026956\n",
       "rougher.input.floatbank10_sulfate           0.025163\n",
       "rougher.input.floatbank11_sulfate           0.024203\n",
       "primary_cleaner.input.xanthate              0.020041\n",
       "primary_cleaner.input.depressant            0.019145\n",
       "final.output.recovery                       0.017864\n",
       "secondary_cleaner.state.floatbank2_a_air    0.015367\n",
       "dtype: float64"
      ]
     },
     "execution_count": 1307,
     "metadata": {},
     "output_type": "execute_result"
    }
   ],
   "source": [
    "print('Percentage of missing values per column in train df:')\n",
    "train.loc[:, train_columns].isna().sum().sort_values(ascending=False).head(10)/train.shape[0]"
   ]
  },
  {
   "cell_type": "code",
   "execution_count": 1308,
   "metadata": {},
   "outputs": [],
   "source": [
    "train = train.iloc[train.loc[:, train_columns].dropna()['rougher.output.recovery'].notna().index]"
   ]
  },
  {
   "cell_type": "code",
   "execution_count": 1309,
   "metadata": {},
   "outputs": [
    {
     "name": "stdout",
     "output_type": "stream",
     "text": [
      "Number of missing values in feat/target columns for train df: 0\n"
     ]
    }
   ],
   "source": [
    "print(f'Number of missing values in feat/target columns for train df: {train.loc[:, train_columns].isna().sum().sum()}')"
   ]
  },
  {
   "cell_type": "markdown",
   "metadata": {},
   "source": [
    "### Results"
   ]
  },
  {
   "cell_type": "markdown",
   "metadata": {},
   "source": [
    "From the provided training dataset, we have learned that the recovery is calculated as the ratio of the total weight of the gold ore to the total weight of the gold ore after purification. That validates the calculations provided. The dataframe has been cleaned and the data is almost ready for training. We will perform exploratory data analysis to get rid of anormalities."
   ]
  },
  {
   "cell_type": "markdown",
   "metadata": {},
   "source": [
    "\n",
    "## Exploratory Data Analysis"
   ]
  },
  {
   "cell_type": "markdown",
   "metadata": {},
   "source": [
    "\n",
    "### Objective\n"
   ]
  },
  {
   "cell_type": "markdown",
   "metadata": {},
   "source": [
    "During this section, we will check data distributions and analyze some graphs regarding the data. Each graph will be used to determine if there are any outliers, because too many differences between training set and validation sets can lead to bad reuslts."
   ]
  },
  {
   "cell_type": "markdown",
   "metadata": {},
   "source": [
    "\n",
    "### Code"
   ]
  },
  {
   "cell_type": "code",
   "execution_count": 1310,
   "metadata": {},
   "outputs": [
    {
     "data": {
      "text/plain": [
       "rougher.output.recovery                     1.000000\n",
       "final.output.recovery                       0.307886\n",
       "primary_cleaner.input.sulfate               0.261724\n",
       "secondary_cleaner.state.floatbank4_a_air    0.226983\n",
       "secondary_cleaner.state.floatbank4_b_air    0.218239\n",
       "rougher.input.floatbank10_xanthate          0.208722\n",
       "rougher.state.floatbank10_a_air             0.207713\n",
       "rougher.input.floatbank11_xanthate          0.200332\n",
       "rougher.input.feed_ag                       0.193765\n",
       "rougher.input.feed_sol                      0.179417\n",
       "Name: rougher.output.recovery, dtype: float64"
      ]
     },
     "execution_count": 1310,
     "metadata": {},
     "output_type": "execute_result"
    }
   ],
   "source": [
    "train.loc[:, train_columns].corr()['rougher.output.recovery'].sort_values(ascending=False).head(10)"
   ]
  },
  {
   "cell_type": "code",
   "execution_count": 1311,
   "metadata": {},
   "outputs": [
    {
     "data": {
      "text/plain": [
       "final.output.recovery                       1.000000\n",
       "primary_cleaner.input.sulfate               0.382128\n",
       "rougher.input.feed_ag                       0.320859\n",
       "rougher.output.recovery                     0.307886\n",
       "rougher.input.floatbank10_xanthate          0.307614\n",
       "rougher.input.feed_au                       0.307526\n",
       "rougher.input.floatbank11_xanthate          0.302062\n",
       "secondary_cleaner.state.floatbank4_a_air    0.261208\n",
       "rougher.input.feed_sol                      0.247356\n",
       "rougher.state.floatbank10_a_air             0.232513\n",
       "Name: final.output.recovery, dtype: float64"
      ]
     },
     "execution_count": 1311,
     "metadata": {},
     "output_type": "execute_result"
    }
   ],
   "source": [
    "train.loc[:, train_columns].corr()['final.output.recovery'].sort_values(ascending=False).head(10)"
   ]
  },
  {
   "cell_type": "code",
   "execution_count": 1312,
   "metadata": {},
   "outputs": [
    {
     "data": {
      "text/plain": [
       "secondary_cleaner.state.floatbank3_a_level    0.000309\n",
       "primary_cleaner.state.floatbank8_d_air        0.000814\n",
       "primary_cleaner.input.feed_size               0.001179\n",
       "secondary_cleaner.state.floatbank6_a_air      0.001383\n",
       "secondary_cleaner.state.floatbank5_a_level    0.005010\n",
       "primary_cleaner.state.floatbank8_d_level      0.007285\n",
       "secondary_cleaner.state.floatbank2_b_level    0.008525\n",
       "secondary_cleaner.state.floatbank2_a_level    0.022342\n",
       "primary_cleaner.state.floatbank8_b_level      0.024756\n",
       "primary_cleaner.state.floatbank8_c_level      0.027712\n",
       "primary_cleaner.state.floatbank8_a_level      0.029509\n",
       "primary_cleaner.input.depressant              0.030968\n",
       "secondary_cleaner.state.floatbank5_b_level    0.031275\n",
       "secondary_cleaner.state.floatbank3_b_level    0.033231\n",
       "secondary_cleaner.state.floatbank3_b_air      0.035145\n",
       "rougher.state.floatbank10_f_air               0.040862\n",
       "secondary_cleaner.state.floatbank4_a_level    0.048533\n",
       "rougher.input.feed_rate                       0.051587\n",
       "secondary_cleaner.state.floatbank6_a_level    0.055560\n",
       "secondary_cleaner.state.floatbank4_b_level    0.061813\n",
       "Name: rougher.output.recovery, dtype: float64"
      ]
     },
     "execution_count": 1312,
     "metadata": {},
     "output_type": "execute_result"
    }
   ],
   "source": [
    "np.abs(train.loc[:, train_columns].corr()['rougher.output.recovery']).sort_values(ascending=True).head(20)"
   ]
  },
  {
   "cell_type": "code",
   "execution_count": 1313,
   "metadata": {},
   "outputs": [
    {
     "data": {
      "text/plain": [
       "secondary_cleaner.state.floatbank2_b_level    0.000898\n",
       "secondary_cleaner.state.floatbank3_b_level    0.001313\n",
       "secondary_cleaner.state.floatbank6_a_air      0.010000\n",
       "secondary_cleaner.state.floatbank2_a_level    0.015782\n",
       "primary_cleaner.state.floatbank8_d_level      0.017585\n",
       "secondary_cleaner.state.floatbank3_a_level    0.023038\n",
       "secondary_cleaner.state.floatbank5_a_level    0.026019\n",
       "primary_cleaner.input.feed_size               0.033470\n",
       "rougher.input.floatbank11_sulfate             0.033729\n",
       "rougher.input.floatbank10_sulfate             0.047740\n",
       "primary_cleaner.state.floatbank8_b_level      0.048019\n",
       "secondary_cleaner.state.floatbank3_b_air      0.049240\n",
       "secondary_cleaner.state.floatbank5_b_level    0.049805\n",
       "secondary_cleaner.state.floatbank6_a_level    0.051976\n",
       "primary_cleaner.state.floatbank8_a_level      0.054020\n",
       "secondary_cleaner.state.floatbank4_a_level    0.054987\n",
       "primary_cleaner.state.floatbank8_c_level      0.055116\n",
       "primary_cleaner.state.floatbank8_d_air        0.072221\n",
       "rougher.input.feed_size                       0.076125\n",
       "rougher.state.floatbank10_b_level             0.083812\n",
       "Name: final.output.recovery, dtype: float64"
      ]
     },
     "execution_count": 1313,
     "metadata": {},
     "output_type": "execute_result"
    }
   ],
   "source": [
    "np.abs(train.loc[:, train_columns].corr()['final.output.recovery']).sort_values(ascending=True).head(20)"
   ]
  },
  {
   "cell_type": "code",
   "execution_count": 1314,
   "metadata": {},
   "outputs": [
    {
     "data": {
      "image/png": "[encoded data removed]",
      "text/plain": [
       "<Figure size 1440x1080 with 9 Axes>"
      ]
     },
     "metadata": {
      "needs_background": "light"
     },
     "output_type": "display_data"
    }
   ],
   "source": [
    "fig, axs = plt.subplots(3,3, figsize=(20, 15))\n",
    "fig.set_tight_layout(True)\n",
    "\n",
    "metals = ['ag', 'pb', 'au']\n",
    "stages = {\n",
    "    'flotation': ['rougher.input.feed_',  'rougher.output.tail_', 'rougher.output.concentrate_'], \n",
    "    \n",
    "    'primary_cleaner': ['rougher.output.concentrate_', 'primary_cleaner.output.concentrate_', 'primary_cleaner.output.tail_'],\n",
    "    \n",
    "    'secondary_cleaner': ['primary_cleaner.output.concentrate_', 'final.output.concentrate_', 'final.output.tail_']\n",
    "}\n",
    "legend = ['flotation', 'primary_cleaner', 'secondary_cleaner']\n",
    "\n",
    "for stage, c_i, type in zip(legend, range(len(stages)), ['feed', 'tail', 'concentrate']):\n",
    "    for metal, m_i in zip(metals, range(len(metals))):\n",
    "        maxrange = 0\n",
    "        for col in stages[stage]:\n",
    "            compare = abs(train[col + metal].max() - train[col + metal].min())\n",
    "            if compare > maxrange:\n",
    "                maxrange = compare\n",
    "                bin_set = col\n",
    "        bin = np.arange(train[bin_set + metal].min(), train[bin_set + metal].max(), maxrange/200)\n",
    "        for col in stages[stage]:\n",
    "            axs[c_i, m_i].hist(train[col + metal], bins=bin, alpha=0.6)\n",
    "            axs[c_i, m_i].set_title('Histogram of ' + type + ' for metal ' + str.capitalize(metal) + ' in training set')\n",
    "            axs[c_i, m_i].legend(legend)\n",
    "            axs[c_i, m_i].set_xlabel('Value')\n",
    "            axs[c_i, m_i].set_ylabel('Count')\n",
    "            \n",
    "\n",
    "\n",
    "plt.show()\n",
    "    "
   ]
  },
  {
   "cell_type": "markdown",
   "metadata": {},
   "source": [
    "*Graph Analysis*"
   ]
  },
  {
   "cell_type": "markdown",
   "metadata": {},
   "source": [
    "The graphs above show the distributions of metal concentrations in the ore during flotation, primary filtration and secondary filtration. We can see that values can vary a lot from stage to stage for each metal. The main abnormalities found are zero values, specially in gold concentrations. According to the simulation, these values can generate calculation errors because of divisions by zero. We will remove these values from the data. Since the distributions are too different from each other, removing the ouliers for each plot would greatly affect the number of samples, and it is assumed that these outliers are only part of the process. The zero values will be removed, while others will be kept."
   ]
  },
  {
   "cell_type": "code",
   "execution_count": 1315,
   "metadata": {},
   "outputs": [],
   "source": [
    "for stage in stages:\n",
    "    for j in metals:\n",
    "        for i in range(3):\n",
    "            train = train[train[stages[stage][i] + j] > 0.5]\n"
   ]
  },
  {
   "cell_type": "code",
   "execution_count": 1316,
   "metadata": {},
   "outputs": [],
   "source": [
    "train = train[ (train['rougher.input.feed_size'] < 100) & (train['rougher.input.feed_size'] > 9) ]\n",
    "test = test[ (test['rougher.input.feed_size'] < 100) & (test['rougher.input.feed_size'] > 9) ]"
   ]
  },
  {
   "cell_type": "code",
   "execution_count": 1317,
   "metadata": {},
   "outputs": [
    {
     "data": {
      "text/html": [
       "<div>\n",
       "<style scoped>\n",
       "    .dataframe tbody tr th:only-of-type {\n",
       "        vertical-align: middle;\n",
       "    }\n",
       "\n",
       "    .dataframe tbody tr th {\n",
       "        vertical-align: top;\n",
       "    }\n",
       "\n",
       "    .dataframe thead th {\n",
       "        text-align: right;\n",
       "    }\n",
       "</style>\n",
       "<table border=\"1\" class=\"dataframe\">\n",
       "  <thead>\n",
       "    <tr style=\"text-align: right;\">\n",
       "      <th></th>\n",
       "      <th>rougher.input.feed_size</th>\n",
       "      <th>rougher.input.feed_size</th>\n",
       "    </tr>\n",
       "  </thead>\n",
       "  <tbody>\n",
       "    <tr>\n",
       "      <td>count</td>\n",
       "      <td>8660.000000</td>\n",
       "      <td>5147.000000</td>\n",
       "    </tr>\n",
       "    <tr>\n",
       "      <td>mean</td>\n",
       "      <td>56.306366</td>\n",
       "      <td>54.539562</td>\n",
       "    </tr>\n",
       "    <tr>\n",
       "      <td>std</td>\n",
       "      <td>10.516039</td>\n",
       "      <td>13.036544</td>\n",
       "    </tr>\n",
       "    <tr>\n",
       "      <td>min</td>\n",
       "      <td>9.659576</td>\n",
       "      <td>25.891541</td>\n",
       "    </tr>\n",
       "    <tr>\n",
       "      <td>25%</td>\n",
       "      <td>49.253212</td>\n",
       "      <td>43.873737</td>\n",
       "    </tr>\n",
       "    <tr>\n",
       "      <td>50%</td>\n",
       "      <td>54.332352</td>\n",
       "      <td>50.399414</td>\n",
       "    </tr>\n",
       "    <tr>\n",
       "      <td>75%</td>\n",
       "      <td>61.228279</td>\n",
       "      <td>61.477100</td>\n",
       "    </tr>\n",
       "    <tr>\n",
       "      <td>max</td>\n",
       "      <td>99.944870</td>\n",
       "      <td>99.938789</td>\n",
       "    </tr>\n",
       "  </tbody>\n",
       "</table>\n",
       "</div>"
      ],
      "text/plain": [
       "       rougher.input.feed_size  rougher.input.feed_size\n",
       "count              8660.000000              5147.000000\n",
       "mean                 56.306366                54.539562\n",
       "std                  10.516039                13.036544\n",
       "min                   9.659576                25.891541\n",
       "25%                  49.253212                43.873737\n",
       "50%                  54.332352                50.399414\n",
       "75%                  61.228279                61.477100\n",
       "max                  99.944870                99.938789"
      ]
     },
     "execution_count": 1317,
     "metadata": {},
     "output_type": "execute_result"
    }
   ],
   "source": [
    "feed_size = pd.concat([train['rougher.input.feed_size'], test['rougher.input.feed_size']], axis=1)\n",
    "\n",
    "feed_size.describe()"
   ]
  },
  {
   "cell_type": "code",
   "execution_count": 1318,
   "metadata": {},
   "outputs": [
    {
     "data": {
      "image/png": "[encoded data removed]",
      "text/plain": [
       "<Figure size 1440x432 with 2 Axes>"
      ]
     },
     "metadata": {
      "needs_background": "light"
     },
     "output_type": "display_data"
    }
   ],
   "source": [
    "fig, axs = plt.subplots(1,2, figsize=(20,6))\n",
    "fig.set_tight_layout(True)\n",
    "\n",
    "feed_size.boxplot()\n",
    "axs[1].set_title('Boxplot of feed size particles')\n",
    "axs[1].set_ylabel('Value')\n",
    "\n",
    "for dframe in [train, test]:\n",
    "    compare = abs(dframe['rougher.input.feed_size'].max() - dframe['rougher.input.feed_size'].min())\n",
    "    if compare > maxrange:\n",
    "        maxrange = compare\n",
    "        bin_set = i\n",
    "bin = np.arange(dframe['rougher.input.feed_size'].min(), dframe['rougher.input.feed_size'].max(), maxrange/300)\n",
    "\n",
    "for dframe in [train, test]:\n",
    "    axs[0].hist(dframe['rougher.input.feed_size'], bins=bin, density=True, alpha=0.7)\n",
    "axs[0].set_title('Histogram of feed size particles')\n",
    "axs[0].legend(['Train', 'Test'])\n",
    "\n",
    "plt.show()"
   ]
  },
  {
   "cell_type": "markdown",
   "metadata": {},
   "source": [
    "*Graph Analysis*"
   ]
  },
  {
   "cell_type": "markdown",
   "metadata": {},
   "source": [
    "By looking at the graph above, we can see that there are differences between the distributions of feed size. At this point, the data has been filtered through and we have remove the majority of outliers. We can still see that the feed size distributions are not the same, but are close enough to each other for the model training."
   ]
  },
  {
   "cell_type": "markdown",
   "metadata": {},
   "source": [
    "### Results"
   ]
  },
  {
   "cell_type": "markdown",
   "metadata": {},
   "source": [
    "We have checked data distributions to determine if there are problems in the data regarding outliers, or distributions so different that we will train a model that will not be able to predict the data. We have also checked correlations between the features and the target variable. We can see that many of the features are not considerably correlated with the target variables. It may be possible to optimize the model by these features."
   ]
  },
  {
   "cell_type": "markdown",
   "metadata": {},
   "source": [
    "## Model Training"
   ]
  },
  {
   "cell_type": "markdown",
   "metadata": {},
   "source": [
    "### Objective"
   ]
  },
  {
   "cell_type": "markdown",
   "metadata": {},
   "source": [
    "After preparing the data and confirming distributions and correlations, we will train a model to predict the gold recovered from the ore. We will use the training data to train a model and evaluate the model performance with the validation set. The metric used will be the symmetric Mean Absolute Percentage Error (SMAPE). SMAPE is a metric that measures the percentage of differences between the predicted and the actual values. The SMAPE is calculated as the absolute percentage difference between the predicted and the actual values."
   ]
  },
  {
   "cell_type": "markdown",
   "metadata": {},
   "source": [
    "### Code"
   ]
  },
  {
   "cell_type": "code",
   "execution_count": 1319,
   "metadata": {},
   "outputs": [
    {
     "name": "stdout",
     "output_type": "stream",
     "text": [
      "Size of training dataset is: 8660\n",
      "Size of validation dataset is 5147\n"
     ]
    }
   ],
   "source": [
    "train = train.loc[:, train_columns].reset_index(drop=True)\n",
    "test = test.loc[:, train_columns].reset_index(drop=True)\n",
    "print('Size of training dataset is: ' + str(train.shape[0]))\n",
    "print('Size of validation dataset is ' + str(test.shape[0]))"
   ]
  },
  {
   "cell_type": "code",
   "execution_count": 1320,
   "metadata": {},
   "outputs": [],
   "source": [
    "train = train.loc[:, train.columns.str.contains('^[a-z+._\\d]+floatbank[a-z+._\\d]+') == False]\n",
    "test = test.loc[:, test.columns.str.contains('^[a-z+._\\d]+floatbank[a-z+._\\d]+') == False]"
   ]
  },
  {
   "cell_type": "code",
   "execution_count": 1321,
   "metadata": {},
   "outputs": [],
   "source": [
    "def target_features(df, tar_col, remove=[]):\n",
    "    target = df[tar_col]\n",
    "    remove.append(tar_col)\n",
    "    features = df[[x for x in df if x not in remove]]\n",
    "    return target, features"
   ]
  },
  {
   "cell_type": "code",
   "execution_count": 1322,
   "metadata": {},
   "outputs": [],
   "source": [
    "def smape(target, prediction):\n",
    "    sum = 0.0\n",
    "    for i, j in zip(target, prediction):\n",
    "        parcel = abs(i - j)/(( abs(i) + abs(j) )/2)\n",
    "        sum = sum + parcel\n",
    "    result = sum/len(target)\n",
    "    return result\n",
    "\n",
    "smape_scorer = metrics.make_scorer(smape, greater_is_better=True)"
   ]
  },
  {
   "cell_type": "code",
   "execution_count": 1323,
   "metadata": {},
   "outputs": [],
   "source": [
    "def report(target, features=None, predictions=None, model=None, predictions_proba=None, classifier=True):\n",
    "    \"\"\"\n",
    "    Prints a report of the model's performance. If regressor, add classifier=False\n",
    "    \"\"\"\n",
    "    flag = 0\n",
    "    if model != None:\n",
    "        if predictions is not None:\n",
    "            warnings.warn('Both model and predictions were passed. Ignoring model.')\n",
    "        else:\n",
    "            if features is None:\n",
    "                raise ValueError('Features must be passed if model is passed.')\n",
    "            predictions = model.predict(features)\n",
    "            if classifier == True:\n",
    "                predictions_proba = model.predict_proba(features)\n",
    "    if predictions is not None:\n",
    "        if classifier == True:\n",
    "            print(f'Accuracy: {metrics.accuracy_score(target,predictions):.2%}') \n",
    "            print(f'Recall: {metrics.recall_score(target,predictions):.2%}')\n",
    "            print(f'Precision: {metrics.precision_score(target,predictions):.2%}')\n",
    "            print(f'F1 Score: {metrics.f1_score(target,predictions):.2%}')\n",
    "        elif classifier == False:\n",
    "            print(f'Mean Absolute Error: {metrics.mean_absolute_error(target,predictions):.2f}')\n",
    "            print(f'Root Mean Squared Error: {np.sqrt(metrics.mean_squared_error(target,predictions)):.2f}') \n",
    "            print(f'R2 Score: {metrics.r2_score(target,predictions):.2f}')\n",
    "            print(f'Predictions mean value: {np.mean(predictions):.2f} (Target mean is {np.mean(target):.2f})')\n",
    "            print(f'Predictions median value: {np.median(predictions):.2f} (Target median is {np.median(target):.2f})')\n",
    "            print(f'Smape Score: {smape(target, predictions):.2%}')\n",
    "            target = pd.Series(target).reset_index(drop=True).sort_values()\n",
    "            predictions = pd.Series(predictions)\n",
    "            predictions = predictions.iloc[target.index].reset_index(drop=True)\n",
    "            target = target.reset_index(drop=True)\n",
    "            plt.plot(predictions, label='Predicted')\n",
    "            plt.plot(target, label='Actual', color='orange')\n",
    "            plt.legend(['Predicted', 'Actual'])\n",
    "            plt.xlabel('Sample Number')\n",
    "            plt.show()\n",
    "    if predictions_proba is not None:\n",
    "        fpr, tpr, thresholds = metrics.roc_curve(target, predictions_proba[:,1])\n",
    "        print(f'AUC-ROC: {metrics.roc_auc_score(target,predictions_proba[:,1]):.2%}')\n",
    "        flag = 1\n",
    "    if flag == 1:\n",
    "        return fpr, tpr, thresholds, predictions\n",
    "    else:\n",
    "        return predictions"
   ]
  },
  {
   "cell_type": "code",
   "execution_count": 1324,
   "metadata": {},
   "outputs": [],
   "source": [
    "train_target = []\n",
    "train_feat = []\n",
    "\n",
    "x, y = target_features(train, 'rougher.output.recovery', remove=['final.output.recovery', 'date'])\n",
    "train_target.append(x)\n",
    "train_feat.append(y)\n",
    "\n",
    "x, y = target_features(train, 'final.output.recovery', remove=['date'])\n",
    "train_target.append(x)\n",
    "train_feat.append(y)"
   ]
  },
  {
   "cell_type": "code",
   "execution_count": 1325,
   "metadata": {},
   "outputs": [],
   "source": [
    "valid_target = []\n",
    "valid_feat = []\n",
    "\n",
    "x, y = target_features(test, 'rougher.output.recovery', remove=['final.output.recovery', 'date'])\n",
    "valid_target.append(x)\n",
    "valid_feat.append(y)\n",
    "\n",
    "x, y = target_features(test, 'final.output.recovery', remove=['date'])\n",
    "valid_target.append(x)\n",
    "valid_feat.append(y)"
   ]
  },
  {
   "cell_type": "code",
   "execution_count": 1326,
   "metadata": {},
   "outputs": [],
   "source": [
    "valid_feat[0] = valid_feat[0].loc[:, valid_feat[0].columns.str.contains('rougher[a-z+._\\d]+') == True]\n",
    "train_feat[0] = train_feat[0].loc[:, train_feat[0].columns.str.contains('rougher[a-z+._\\d]+') == True]"
   ]
  },
  {
   "cell_type": "code",
   "execution_count": 1327,
   "metadata": {},
   "outputs": [
    {
     "name": "stdout",
     "output_type": "stream",
     "text": [
      "Report of linear model for 1:\n",
      "Mean Absolute Error: 5.36\n",
      "Root Mean Squared Error: 12.53\n",
      "R2 Score: 0.06\n",
      "Predictions mean value: 84.87 (Target mean is 85.21)\n",
      "Predictions median value: 84.36 (Target median is 87.46)\n",
      "Smape Score: 8.28%\n"
     ]
    },
    {
     "data": {
      "image/png": "[encoded data removed]",
      "text/plain": [
       "<Figure size 432x288 with 1 Axes>"
      ]
     },
     "metadata": {
      "needs_background": "light"
     },
     "output_type": "display_data"
    },
    {
     "name": "stdout",
     "output_type": "stream",
     "text": [
      "\n",
      "\n",
      "Report of linear model for 2:\n",
      "Mean Absolute Error: 5.25\n",
      "Root Mean Squared Error: 9.85\n",
      "R2 Score: -0.28\n",
      "Predictions mean value: 68.77 (Target mean is 68.68)\n",
      "Predictions median value: 70.01 (Target median is 69.86)\n",
      "Smape Score: 9.19%\n"
     ]
    },
    {
     "data": {
      "image/png": "[encoded data removed]",
      "text/plain": [
       "<Figure size 432x288 with 1 Axes>"
      ]
     },
     "metadata": {
      "needs_background": "light"
     },
     "output_type": "display_data"
    },
    {
     "name": "stdout",
     "output_type": "stream",
     "text": [
      "\n",
      "\n",
      "Smape of full model: 8.96%\n",
      "Cross validation smape values are \n",
      " 6.37% \n",
      " 5.78% \n",
      " 6.73% \n",
      " 7.55%\n"
     ]
    }
   ],
   "source": [
    "# Launching linear model\n",
    "linear_model = []\n",
    "for i in range(2):\n",
    "    linear_model.append(LinearRegression(normalize=True))\n",
    "\n",
    "smape_value = []\n",
    "valid_predict = []\n",
    "for i in range(2):\n",
    "    print(f'Report of linear model for {i+1}:')\n",
    "    linear_model[i].fit(train_feat[i], train_target[i])\n",
    "    valid_predict.append(linear_model[i].predict(valid_feat[i]))\n",
    "    report(valid_target[i], predictions=valid_predict[i], classifier=False)\n",
    "    smape_value.append(cross_val_score(linear_model[i], train_feat[i], train_target[i], scoring=smape_scorer, cv=4))\n",
    "    print('\\n')\n",
    "\n",
    "total_smape = []\n",
    "for i, j in zip(smape_value[0], smape_value[1]):\n",
    "    total_smape.append(i*0.25 + j*0.75)\n",
    "    \n",
    "print(f'Smape of full model: {smape(valid_target[0], valid_predict[0]) * 0.25 + smape(valid_target[1], valid_predict[1])*0.75:.2%}')\n",
    "\n",
    "print(f'Cross validation smape values are \\n {total_smape[0]:.2%} \\n {total_smape[1]:.2%} \\n {total_smape[2]:.2%} \\n {total_smape[3]:.2%}')\n"
   ]
  },
  {
   "cell_type": "code",
   "execution_count": 1328,
   "metadata": {},
   "outputs": [
    {
     "name": "stdout",
     "output_type": "stream",
     "text": [
      "Report of tree model for 1:\n",
      "Mean Absolute Error: 6.56\n",
      "Root Mean Squared Error: 13.75\n",
      "R2 Score: -0.13\n",
      "Predictions mean value: 86.20 (Target mean is 85.21)\n",
      "Predictions median value: 86.74 (Target median is 87.46)\n",
      "Smape Score: 9.74%\n"
     ]
    },
    {
     "data": {
      "image/png": "[encoded data removed]",
      "text/plain": [
       "<Figure size 432x288 with 1 Axes>"
      ]
     },
     "metadata": {
      "needs_background": "light"
     },
     "output_type": "display_data"
    },
    {
     "name": "stdout",
     "output_type": "stream",
     "text": [
      "\n",
      "\n",
      "Report of tree model for 2:\n",
      "Mean Absolute Error: 7.38\n",
      "Root Mean Squared Error: 10.54\n",
      "R2 Score: -0.46\n",
      "Predictions mean value: 66.65 (Target mean is 68.68)\n",
      "Predictions median value: 67.28 (Target median is 69.86)\n",
      "Smape Score: 11.92%\n"
     ]
    },
    {
     "data": {
      "image/png": "[encoded data removed]",
      "text/plain": [
       "<Figure size 432x288 with 1 Axes>"
      ]
     },
     "metadata": {
      "needs_background": "light"
     },
     "output_type": "display_data"
    },
    {
     "name": "stdout",
     "output_type": "stream",
     "text": [
      "\n",
      "\n",
      "Smape of full model: 11.37%\n",
      "Cross validation smape values are \n",
      " 10.43% \n",
      " 10.05% \n",
      " 9.79% \n",
      " 9.89%\n"
     ]
    }
   ],
   "source": [
    "# Launching tree model\n",
    "tree_model = []\n",
    "for i in range(2):\n",
    "    tree_model.append(DecisionTreeRegressor(\n",
    "        random_state = 1995\n",
    "    ))\n",
    "\n",
    "smape_value = []\n",
    "valid_predict = []\n",
    "for i in range(2):\n",
    "    print(f'Report of tree model for {i+1}:')\n",
    "    tree_model[i].fit(train_feat[i], train_target[i])\n",
    "    valid_predict.append(tree_model[i].predict(valid_feat[i]))\n",
    "    report(valid_target[i], predictions=valid_predict[i], classifier=False)\n",
    "    smape_value.append(cross_val_score(tree_model[i], train_feat[i], train_target[i], scoring=smape_scorer, cv=4))\n",
    "    print('\\n')\n",
    "\n",
    "total_smape = []\n",
    "for i, j in zip(smape_value[0], smape_value[1]):\n",
    "    total_smape.append(i*0.25 + j*0.75)\n",
    "    \n",
    "print(f'Smape of full model: {smape(valid_target[0], valid_predict[0]) * 0.25 + smape(valid_target[1], valid_predict[1])*0.75:.2%}')\n",
    "\n",
    "print(f'Cross validation smape values are \\n {total_smape[0]:.2%} \\n {total_smape[1]:.2%} \\n {total_smape[2]:.2%} \\n {total_smape[3]:.2%}')\n"
   ]
  },
  {
   "cell_type": "code",
   "execution_count": 1329,
   "metadata": {},
   "outputs": [
    {
     "name": "stdout",
     "output_type": "stream",
     "text": [
      "Report of forest model for 1:\n",
      "Mean Absolute Error: 5.37\n",
      "Root Mean Squared Error: 12.72\n",
      "R2 Score: 0.03\n",
      "Predictions mean value: 86.09 (Target mean is 85.21)\n",
      "Predictions median value: 86.21 (Target median is 87.46)\n",
      "Smape Score: 8.24%\n"
     ]
    },
    {
     "data": {
      "image/png": "[encoded data removed]",
      "text/plain": [
       "<Figure size 432x288 with 1 Axes>"
      ]
     },
     "metadata": {
      "needs_background": "light"
     },
     "output_type": "display_data"
    }
   ],
   "source": [
    "# Launching forest model\n",
    "forest_model = []\n",
    "for i in range(2):\n",
    "    forest_model.append(RandomForestRegressor(\n",
    "        random_state = 1995,\n",
    "        n_estimators=50\n",
    "    ))\n",
    "\n",
    "smape_value = []\n",
    "valid_predict = []\n",
    "for i in range(2):\n",
    "    print(f'Report of forest model for {i+1}:')\n",
    "    forest_model[i].fit(train_feat[i], train_target[i])\n",
    "    valid_predict.append(forest_model[i].predict(valid_feat[i]))\n",
    "    report(valid_target[i], predictions=valid_predict[i], classifier=False)\n",
    "    smape_value.append(cross_val_score(forest_model[i], train_feat[i], train_target[i], scoring=smape_scorer, cv=4))\n",
    "    print('\\n')\n",
    "\n",
    "total_smape = []\n",
    "for i, j in zip(smape_value[0], smape_value[1]):\n",
    "    total_smape.append(i*0.25 + j*0.75)\n",
    "    \n",
    "print(f'Smape of full model: {smape(valid_target[0], valid_predict[0]) * 0.25 + smape(valid_target[1], valid_predict[1])*0.75 :.2%}')\n",
    "\n",
    "print(f'Cross validation smape values are \\n {total_smape[0]:.2%} \\n {total_smape[1]:.2%} \\n {total_smape[2]:.2%} \\n {total_smape[3]:.2%}')\n"
   ]
  },
  {
   "cell_type": "code",
   "execution_count": null,
   "metadata": {},
   "outputs": [],
   "source": [
    "#dump(forest_model[0], 'rougher.joblib')\n",
    "#dump(forest_model[1], 'final.joblib')"
   ]
  },
  {
   "cell_type": "markdown",
   "metadata": {},
   "source": [
    "OBS: Uncomment the code above to save the models\n",
    "\n",
    "Below are the features used in the rougher model:"
   ]
  },
  {
   "cell_type": "code",
   "execution_count": null,
   "metadata": {},
   "outputs": [
    {
     "name": "stdout",
     "output_type": "stream",
     "text": [
      "['rougher.input.feed_ag' 'rougher.input.feed_au' 'rougher.input.feed_pb'\n",
      " 'rougher.input.feed_rate' 'rougher.input.feed_size'\n",
      " 'rougher.input.feed_sol']\n"
     ]
    }
   ],
   "source": [
    "print(train_feat[0].columns.values)"
   ]
  },
  {
   "cell_type": "markdown",
   "metadata": {},
   "source": [
    "Next up are the features used in the final model:"
   ]
  },
  {
   "cell_type": "code",
   "execution_count": null,
   "metadata": {},
   "outputs": [
    {
     "name": "stdout",
     "output_type": "stream",
     "text": [
      "['primary_cleaner.input.depressant' 'primary_cleaner.input.feed_size'\n",
      " 'primary_cleaner.input.sulfate' 'primary_cleaner.input.xanthate'\n",
      " 'rougher.input.feed_ag' 'rougher.input.feed_au' 'rougher.input.feed_pb'\n",
      " 'rougher.input.feed_rate' 'rougher.input.feed_size'\n",
      " 'rougher.input.feed_sol' 'rougher.output.recovery']\n"
     ]
    }
   ],
   "source": [
    "print(train_feat[1].columns.values)"
   ]
  },
  {
   "cell_type": "markdown",
   "metadata": {},
   "source": [
    "### Results"
   ]
  },
  {
   "cell_type": "markdown",
   "metadata": {},
   "source": [
    "Of all trained models, the Random Forest model was the best performing. The model had a final SMAPE value of 8.45%, being cross validated with 4 models of subsets of the data. Plots comparing the target values and the predicted value were were made for each test performed. The model was trained on the full dataset. The cross validation has been done also with SMAPE scoring, and the final values obtained were between 6% and 8%. Since the floatbank information did not add up too much to the final model, this information was left out of the training and features, making the necessary input considerably easier to obtain. These models are considered our final product in this project."
   ]
  },
  {
   "cell_type": "markdown",
   "metadata": {},
   "source": [
    "## Conclusion"
   ]
  },
  {
   "cell_type": "markdown",
   "metadata": {},
   "source": [
    "The data provided consisted of a training set, a test set and the full dataset. We have noticed many missing values during the data preprocessing, and the data was cleaned according to the columns available in the test set. Most of the output data was calculated after acquiring information, and specifically for the gold recovery calculation, most of it was not necessary. Although the data had information about flotation and filtration, we paid attention to not use data that would only be acquired in a posterior stage.\n",
    "\n",
    "In this project we aimed to develop a trained model for the prediction of the gold recovered from the ore. We have used the data from the three stages of the gold recovery process to train a model, and the SMAPE metric to evaluate the model performance, obtaining a final value of 8.55%. The best performing method was the Random Forest model to train the model, and the cross validation confirmed the results. The full dataset was used to train the model.\n",
    "\n",
    "One final remark is that floatbank information did not considerably improve the models, so that this information was not used in the training. Therefore, it will also be faster and easier to apply the model to new data. This ML model may be used to optimize efficiency and expectations of gold ore production based on identified data instead of simulations.\n",
    "\n"
   ]
  }
 ],
 "metadata": {
  "ExecuteTimeLog": [
   {
    "duration": 1478,
    "start_time": "2021-11-19T03:49:05.405Z"
   },
   {
    "duration": 1827,
    "start_time": "2021-11-19T03:49:06.885Z"
   },
   {
    "duration": 1385,
    "start_time": "2021-11-19T03:49:07.330Z"
   },
   {
    "duration": 1381,
    "start_time": "2021-11-19T03:49:07.336Z"
   },
   {
    "duration": 1375,
    "start_time": "2021-11-19T03:49:07.343Z"
   },
   {
    "duration": 1369,
    "start_time": "2021-11-19T03:49:07.351Z"
   },
   {
    "duration": 1364,
    "start_time": "2021-11-19T03:49:07.358Z"
   },
   {
    "duration": 1353,
    "start_time": "2021-11-19T03:49:07.370Z"
   },
   {
    "duration": 1351,
    "start_time": "2021-11-19T03:49:07.373Z"
   },
   {
    "duration": 1350,
    "start_time": "2021-11-19T03:49:07.375Z"
   },
   {
    "duration": 1127,
    "start_time": "2021-11-19T03:49:07.600Z"
   },
   {
    "duration": 1121,
    "start_time": "2021-11-19T03:49:07.607Z"
   },
   {
    "duration": 1115,
    "start_time": "2021-11-19T03:49:07.615Z"
   },
   {
    "duration": 1110,
    "start_time": "2021-11-19T03:49:07.621Z"
   },
   {
    "duration": 1104,
    "start_time": "2021-11-19T03:49:07.628Z"
   },
   {
    "duration": 1099,
    "start_time": "2021-11-19T03:49:07.635Z"
   },
   {
    "duration": 1093,
    "start_time": "2021-11-19T03:49:07.642Z"
   },
   {
    "duration": 1088,
    "start_time": "2021-11-19T03:49:07.649Z"
   },
   {
    "duration": 1082,
    "start_time": "2021-11-19T03:49:07.656Z"
   },
   {
    "duration": 1074,
    "start_time": "2021-11-19T03:49:07.665Z"
   },
   {
    "duration": 1069,
    "start_time": "2021-11-19T03:49:07.672Z"
   },
   {
    "duration": 1067,
    "start_time": "2021-11-19T03:49:07.675Z"
   },
   {
    "duration": 875,
    "start_time": "2021-11-19T03:49:07.869Z"
   },
   {
    "duration": 866,
    "start_time": "2021-11-19T03:49:07.879Z"
   },
   {
    "duration": 860,
    "start_time": "2021-11-19T03:49:07.886Z"
   },
   {
    "duration": 855,
    "start_time": "2021-11-19T03:49:07.893Z"
   },
   {
    "duration": 848,
    "start_time": "2021-11-19T03:49:07.901Z"
   },
   {
    "duration": 843,
    "start_time": "2021-11-19T03:49:07.908Z"
   },
   {
    "duration": 842,
    "start_time": "2021-11-19T03:49:07.910Z"
   },
   {
    "duration": 840,
    "start_time": "2021-11-19T03:49:07.913Z"
   },
   {
    "duration": 843,
    "start_time": "2021-11-19T03:49:07.920Z"
   },
   {
    "duration": 1671,
    "start_time": "2021-11-19T03:49:41.385Z"
   },
   {
    "duration": 345,
    "start_time": "2021-11-19T03:50:08.339Z"
   },
   {
    "duration": 1764,
    "start_time": "2021-11-19T03:50:18.480Z"
   },
   {
    "duration": 4,
    "start_time": "2021-11-19T03:51:01.593Z"
   },
   {
    "duration": 326,
    "start_time": "2021-11-19T03:51:03.552Z"
   },
   {
    "duration": 225,
    "start_time": "2021-11-19T03:51:22.438Z"
   },
   {
    "duration": 29,
    "start_time": "2021-11-19T03:51:24.925Z"
   },
   {
    "duration": 58,
    "start_time": "2021-11-19T03:51:32.112Z"
   },
   {
    "duration": 11,
    "start_time": "2021-11-19T03:51:36.404Z"
   },
   {
    "duration": 5,
    "start_time": "2021-11-19T03:51:37.214Z"
   },
   {
    "duration": 5,
    "start_time": "2021-11-19T03:51:37.866Z"
   },
   {
    "duration": 60,
    "start_time": "2021-11-19T03:51:40.955Z"
   },
   {
    "duration": 7,
    "start_time": "2021-11-19T03:51:41.301Z"
   },
   {
    "duration": 4,
    "start_time": "2021-11-19T03:51:41.994Z"
   },
   {
    "duration": 14,
    "start_time": "2021-11-19T03:51:45.938Z"
   },
   {
    "duration": 40,
    "start_time": "2021-11-19T03:51:46.358Z"
   },
   {
    "duration": 24,
    "start_time": "2021-11-19T03:51:48.557Z"
   },
   {
    "duration": 13,
    "start_time": "2021-11-19T03:51:49.177Z"
   },
   {
    "duration": 2584,
    "start_time": "2021-11-19T03:51:49.703Z"
   },
   {
    "duration": 5,
    "start_time": "2021-11-19T03:51:56.488Z"
   },
   {
    "duration": 9,
    "start_time": "2021-11-19T03:51:59.514Z"
   },
   {
    "duration": 9,
    "start_time": "2021-11-19T03:52:04.588Z"
   },
   {
    "duration": 308,
    "start_time": "2021-11-19T03:52:08.407Z"
   },
   {
    "duration": 287,
    "start_time": "2021-11-19T03:52:23.175Z"
   },
   {
    "duration": 57,
    "start_time": "2021-11-19T03:52:31.601Z"
   },
   {
    "duration": 3,
    "start_time": "2021-11-19T03:52:37.023Z"
   },
   {
    "duration": 7,
    "start_time": "2021-11-19T03:52:37.700Z"
   },
   {
    "duration": 19,
    "start_time": "2021-11-19T03:52:39.130Z"
   },
   {
    "duration": 60,
    "start_time": "2021-11-19T03:52:40.613Z"
   },
   {
    "duration": 2792,
    "start_time": "2021-11-19T03:52:41.257Z"
   },
   {
    "duration": 4811,
    "start_time": "2021-11-19T03:52:47.288Z"
   },
   {
    "duration": 206,
    "start_time": "2021-11-19T03:52:55.641Z"
   },
   {
    "duration": 13,
    "start_time": "2021-11-19T03:53:02.281Z"
   },
   {
    "duration": 14,
    "start_time": "2021-11-19T03:53:03.383Z"
   },
   {
    "duration": 19,
    "start_time": "2021-11-19T03:53:03.399Z"
   },
   {
    "duration": 12,
    "start_time": "2021-11-19T03:53:05.129Z"
   },
   {
    "duration": 23,
    "start_time": "2021-11-19T03:53:07.430Z"
   },
   {
    "duration": 2,
    "start_time": "2021-11-19T03:53:08.849Z"
   },
   {
    "duration": 1147,
    "start_time": "2021-11-19T03:54:07.948Z"
   },
   {
    "duration": 182,
    "start_time": "2021-11-19T03:54:09.097Z"
   },
   {
    "duration": 19,
    "start_time": "2021-11-19T03:54:09.282Z"
   },
   {
    "duration": 48,
    "start_time": "2021-11-19T03:54:09.303Z"
   },
   {
    "duration": 22,
    "start_time": "2021-11-19T03:54:09.353Z"
   },
   {
    "duration": 6,
    "start_time": "2021-11-19T03:54:09.377Z"
   },
   {
    "duration": 6,
    "start_time": "2021-11-19T03:54:09.385Z"
   },
   {
    "duration": 87,
    "start_time": "2021-11-19T03:54:09.393Z"
   },
   {
    "duration": 7,
    "start_time": "2021-11-19T03:54:09.483Z"
   },
   {
    "duration": 6,
    "start_time": "2021-11-19T03:54:09.492Z"
   },
   {
    "duration": 16,
    "start_time": "2021-11-19T03:54:09.499Z"
   },
   {
    "duration": 58,
    "start_time": "2021-11-19T03:54:09.517Z"
   },
   {
    "duration": 23,
    "start_time": "2021-11-19T03:54:09.577Z"
   },
   {
    "duration": 12,
    "start_time": "2021-11-19T03:54:09.602Z"
   },
   {
    "duration": 2621,
    "start_time": "2021-11-19T03:54:09.616Z"
   },
   {
    "duration": 5,
    "start_time": "2021-11-19T03:54:12.239Z"
   },
   {
    "duration": 28,
    "start_time": "2021-11-19T03:54:12.245Z"
   },
   {
    "duration": 10,
    "start_time": "2021-11-19T03:54:12.275Z"
   },
   {
    "duration": 68,
    "start_time": "2021-11-19T03:54:12.287Z"
   },
   {
    "duration": 6,
    "start_time": "2021-11-19T03:54:12.357Z"
   },
   {
    "duration": 16,
    "start_time": "2021-11-19T03:54:12.365Z"
   },
   {
    "duration": 37,
    "start_time": "2021-11-19T03:54:12.382Z"
   },
   {
    "duration": 43,
    "start_time": "2021-11-19T03:54:12.421Z"
   },
   {
    "duration": 2275,
    "start_time": "2021-11-19T03:54:12.466Z"
   },
   {
    "duration": 3851,
    "start_time": "2021-11-19T03:54:14.743Z"
   },
   {
    "duration": 220,
    "start_time": "2021-11-19T03:54:18.596Z"
   },
   {
    "duration": 12,
    "start_time": "2021-11-19T03:54:18.819Z"
   },
   {
    "duration": 11,
    "start_time": "2021-11-19T03:54:18.833Z"
   },
   {
    "duration": 14,
    "start_time": "2021-11-19T03:54:18.863Z"
   },
   {
    "duration": 13,
    "start_time": "2021-11-19T03:54:18.879Z"
   },
   {
    "duration": 26,
    "start_time": "2021-11-19T03:54:18.894Z"
   },
   {
    "duration": 2,
    "start_time": "2021-11-19T03:54:18.922Z"
   },
   {
    "duration": 1115,
    "start_time": "2021-11-19T03:54:53.709Z"
   },
   {
    "duration": 179,
    "start_time": "2021-11-19T03:54:54.826Z"
   },
   {
    "duration": 18,
    "start_time": "2021-11-19T03:54:55.007Z"
   },
   {
    "duration": 45,
    "start_time": "2021-11-19T03:54:55.027Z"
   },
   {
    "duration": 12,
    "start_time": "2021-11-19T03:54:55.073Z"
   },
   {
    "duration": 5,
    "start_time": "2021-11-19T03:54:55.087Z"
   },
   {
    "duration": 5,
    "start_time": "2021-11-19T03:54:55.094Z"
   },
   {
    "duration": 79,
    "start_time": "2021-11-19T03:54:55.102Z"
   },
   {
    "duration": 7,
    "start_time": "2021-11-19T03:54:55.184Z"
   },
   {
    "duration": 8,
    "start_time": "2021-11-19T03:54:55.192Z"
   },
   {
    "duration": 15,
    "start_time": "2021-11-19T03:54:55.201Z"
   },
   {
    "duration": 62,
    "start_time": "2021-11-19T03:54:55.217Z"
   },
   {
    "duration": 23,
    "start_time": "2021-11-19T03:54:55.281Z"
   },
   {
    "duration": 11,
    "start_time": "2021-11-19T03:54:55.305Z"
   },
   {
    "duration": 2538,
    "start_time": "2021-11-19T03:54:55.317Z"
   },
   {
    "duration": 7,
    "start_time": "2021-11-19T03:54:57.857Z"
   },
   {
    "duration": 11,
    "start_time": "2021-11-19T03:54:57.865Z"
   },
   {
    "duration": 8,
    "start_time": "2021-11-19T03:54:57.877Z"
   },
   {
    "duration": 77,
    "start_time": "2021-11-19T03:54:57.887Z"
   },
   {
    "duration": 2,
    "start_time": "2021-11-19T03:54:57.966Z"
   },
   {
    "duration": 30,
    "start_time": "2021-11-19T03:54:57.970Z"
   },
   {
    "duration": 58,
    "start_time": "2021-11-19T03:54:58.001Z"
   },
   {
    "duration": 201,
    "start_time": "2021-11-19T03:54:58.062Z"
   },
   {
    "duration": 2899,
    "start_time": "2021-11-19T03:54:58.265Z"
   },
   {
    "duration": 5079,
    "start_time": "2021-11-19T03:55:01.166Z"
   },
   {
    "duration": 216,
    "start_time": "2021-11-19T03:55:06.247Z"
   },
   {
    "duration": 11,
    "start_time": "2021-11-19T03:55:06.464Z"
   },
   {
    "duration": 12,
    "start_time": "2021-11-19T03:55:06.477Z"
   },
   {
    "duration": 11,
    "start_time": "2021-11-19T03:55:06.490Z"
   },
   {
    "duration": 11,
    "start_time": "2021-11-19T03:55:06.503Z"
   },
   {
    "duration": 56,
    "start_time": "2021-11-19T03:55:06.515Z"
   },
   {
    "duration": 2,
    "start_time": "2021-11-19T03:55:06.573Z"
   },
   {
    "duration": 1117,
    "start_time": "2021-11-19T03:55:25.376Z"
   },
   {
    "duration": 175,
    "start_time": "2021-11-19T03:55:26.495Z"
   },
   {
    "duration": 20,
    "start_time": "2021-11-19T03:55:26.673Z"
   },
   {
    "duration": 47,
    "start_time": "2021-11-19T03:55:26.695Z"
   },
   {
    "duration": 27,
    "start_time": "2021-11-19T03:55:26.744Z"
   },
   {
    "duration": 19,
    "start_time": "2021-11-19T03:55:26.772Z"
   },
   {
    "duration": 22,
    "start_time": "2021-11-19T03:55:26.792Z"
   },
   {
    "duration": 61,
    "start_time": "2021-11-19T03:55:26.815Z"
   },
   {
    "duration": 6,
    "start_time": "2021-11-19T03:55:26.879Z"
   },
   {
    "duration": 9,
    "start_time": "2021-11-19T03:55:26.887Z"
   },
   {
    "duration": 26,
    "start_time": "2021-11-19T03:55:26.898Z"
   },
   {
    "duration": 44,
    "start_time": "2021-11-19T03:55:26.925Z"
   },
   {
    "duration": 31,
    "start_time": "2021-11-19T03:55:26.971Z"
   },
   {
    "duration": 11,
    "start_time": "2021-11-19T03:55:27.004Z"
   },
   {
    "duration": 2713,
    "start_time": "2021-11-19T03:55:27.017Z"
   },
   {
    "duration": 4,
    "start_time": "2021-11-19T03:55:29.732Z"
   },
   {
    "duration": 26,
    "start_time": "2021-11-19T03:55:29.738Z"
   },
   {
    "duration": 15,
    "start_time": "2021-11-19T03:55:29.766Z"
   },
   {
    "duration": 81,
    "start_time": "2021-11-19T03:55:29.782Z"
   },
   {
    "duration": 3,
    "start_time": "2021-11-19T03:55:29.865Z"
   },
   {
    "duration": 18,
    "start_time": "2021-11-19T03:55:29.870Z"
   },
   {
    "duration": 45,
    "start_time": "2021-11-19T03:55:29.890Z"
   },
   {
    "duration": 135,
    "start_time": "2021-11-19T03:55:29.937Z"
   },
   {
    "duration": 2303,
    "start_time": "2021-11-19T03:55:30.164Z"
   },
   {
    "duration": 4905,
    "start_time": "2021-11-19T03:55:32.468Z"
   },
   {
    "duration": 233,
    "start_time": "2021-11-19T03:55:37.374Z"
   },
   {
    "duration": 11,
    "start_time": "2021-11-19T03:55:37.610Z"
   },
   {
    "duration": 46,
    "start_time": "2021-11-19T03:55:37.623Z"
   },
   {
    "duration": 51,
    "start_time": "2021-11-19T03:55:37.671Z"
   },
   {
    "duration": 38,
    "start_time": "2021-11-19T03:55:37.724Z"
   },
   {
    "duration": 70,
    "start_time": "2021-11-19T03:55:37.764Z"
   },
   {
    "duration": 17,
    "start_time": "2021-11-19T03:55:37.835Z"
   },
   {
    "duration": 1160,
    "start_time": "2021-11-19T03:56:20.246Z"
   },
   {
    "duration": 175,
    "start_time": "2021-11-19T03:56:21.408Z"
   },
   {
    "duration": 19,
    "start_time": "2021-11-19T03:56:21.585Z"
   },
   {
    "duration": 46,
    "start_time": "2021-11-19T03:56:21.606Z"
   },
   {
    "duration": 18,
    "start_time": "2021-11-19T03:56:21.654Z"
   },
   {
    "duration": 5,
    "start_time": "2021-11-19T03:56:21.673Z"
   },
   {
    "duration": 5,
    "start_time": "2021-11-19T03:56:21.679Z"
   },
   {
    "duration": 80,
    "start_time": "2021-11-19T03:56:21.687Z"
   },
   {
    "duration": 8,
    "start_time": "2021-11-19T03:56:21.770Z"
   },
   {
    "duration": 6,
    "start_time": "2021-11-19T03:56:21.780Z"
   },
   {
    "duration": 23,
    "start_time": "2021-11-19T03:56:21.788Z"
   },
   {
    "duration": 51,
    "start_time": "2021-11-19T03:56:21.813Z"
   },
   {
    "duration": 28,
    "start_time": "2021-11-19T03:56:21.866Z"
   },
   {
    "duration": 13,
    "start_time": "2021-11-19T03:56:21.896Z"
   },
   {
    "duration": 2580,
    "start_time": "2021-11-19T03:56:21.911Z"
   },
   {
    "duration": 5,
    "start_time": "2021-11-19T03:56:24.494Z"
   },
   {
    "duration": 9,
    "start_time": "2021-11-19T03:56:24.501Z"
   },
   {
    "duration": 8,
    "start_time": "2021-11-19T03:56:24.511Z"
   },
   {
    "duration": 83,
    "start_time": "2021-11-19T03:56:24.521Z"
   },
   {
    "duration": 3,
    "start_time": "2021-11-19T03:56:24.606Z"
   },
   {
    "duration": 7,
    "start_time": "2021-11-19T03:56:24.610Z"
   },
   {
    "duration": 19,
    "start_time": "2021-11-19T03:56:24.619Z"
   },
   {
    "duration": 130,
    "start_time": "2021-11-19T03:56:24.641Z"
   },
   {
    "duration": 2675,
    "start_time": "2021-11-19T03:56:24.863Z"
   },
   {
    "duration": 4852,
    "start_time": "2021-11-19T03:56:27.540Z"
   },
   {
    "duration": 228,
    "start_time": "2021-11-19T03:56:32.393Z"
   },
   {
    "duration": 11,
    "start_time": "2021-11-19T03:56:32.623Z"
   },
   {
    "duration": 22,
    "start_time": "2021-11-19T03:56:32.635Z"
   },
   {
    "duration": 27,
    "start_time": "2021-11-19T03:56:32.662Z"
   },
   {
    "duration": 31,
    "start_time": "2021-11-19T03:56:32.691Z"
   },
   {
    "duration": 33,
    "start_time": "2021-11-19T03:56:32.723Z"
   },
   {
    "duration": 22,
    "start_time": "2021-11-19T03:56:32.758Z"
   },
   {
    "duration": 1197,
    "start_time": "2021-11-19T03:59:57.027Z"
   },
   {
    "duration": 191,
    "start_time": "2021-11-19T03:59:58.226Z"
   },
   {
    "duration": 19,
    "start_time": "2021-11-19T03:59:58.419Z"
   },
   {
    "duration": 48,
    "start_time": "2021-11-19T03:59:58.440Z"
   },
   {
    "duration": 11,
    "start_time": "2021-11-19T03:59:58.490Z"
   },
   {
    "duration": 5,
    "start_time": "2021-11-19T03:59:58.502Z"
   },
   {
    "duration": 5,
    "start_time": "2021-11-19T03:59:58.509Z"
   },
   {
    "duration": 79,
    "start_time": "2021-11-19T03:59:58.515Z"
   },
   {
    "duration": 7,
    "start_time": "2021-11-19T03:59:58.597Z"
   },
   {
    "duration": 4,
    "start_time": "2021-11-19T03:59:58.606Z"
   },
   {
    "duration": 18,
    "start_time": "2021-11-19T03:59:58.612Z"
   },
   {
    "duration": 54,
    "start_time": "2021-11-19T03:59:58.632Z"
   },
   {
    "duration": 25,
    "start_time": "2021-11-19T03:59:58.687Z"
   },
   {
    "duration": 12,
    "start_time": "2021-11-19T03:59:58.713Z"
   },
   {
    "duration": 2661,
    "start_time": "2021-11-19T03:59:58.726Z"
   },
   {
    "duration": 5,
    "start_time": "2021-11-19T04:00:01.389Z"
   },
   {
    "duration": 37,
    "start_time": "2021-11-19T04:00:01.395Z"
   },
   {
    "duration": 26,
    "start_time": "2021-11-19T04:00:01.434Z"
   },
   {
    "duration": 80,
    "start_time": "2021-11-19T04:00:01.462Z"
   },
   {
    "duration": 4,
    "start_time": "2021-11-19T04:00:01.544Z"
   },
   {
    "duration": 33,
    "start_time": "2021-11-19T04:00:01.549Z"
   },
   {
    "duration": 34,
    "start_time": "2021-11-19T04:00:01.584Z"
   },
   {
    "duration": 157,
    "start_time": "2021-11-19T04:00:01.620Z"
   },
   {
    "duration": 2947,
    "start_time": "2021-11-19T04:00:01.779Z"
   },
   {
    "duration": 4804,
    "start_time": "2021-11-19T04:00:04.728Z"
   },
   {
    "duration": 211,
    "start_time": "2021-11-19T04:00:09.534Z"
   },
   {
    "duration": 21,
    "start_time": "2021-11-19T04:00:09.748Z"
   },
   {
    "duration": 22,
    "start_time": "2021-11-19T04:00:09.771Z"
   },
   {
    "duration": 21,
    "start_time": "2021-11-19T04:00:09.795Z"
   },
   {
    "duration": 63,
    "start_time": "2021-11-19T04:00:09.818Z"
   },
   {
    "duration": 36,
    "start_time": "2021-11-19T04:00:09.883Z"
   },
   {
    "duration": 32,
    "start_time": "2021-11-19T04:00:09.920Z"
   }
  ],
  "interpreter": {
   "hash": "ac58549e391d20381b1a26588b215b2d55fa392d44f90ad4f3113cc049903f1d"
  },
  "kernelspec": {
   "display_name": "Python 3",
   "language": "python",
   "name": "python3"
  },
  "language_info": {
   "codemirror_mode": {
    "name": "ipython",
    "version": 3
   },
   "file_extension": ".py",
   "mimetype": "text/x-python",
   "name": "python",
   "nbconvert_exporter": "python",
   "pygments_lexer": "ipython3",
   "version": "3.7.12"
  },
  "toc": {
   "base_numbering": 1,
   "nav_menu": {},
   "number_sections": true,
   "sideBar": true,
   "skip_h1_title": true,
   "title_cell": "Table of Contents",
   "title_sidebar": "Contents",
   "toc_cell": false,
   "toc_position": {},
   "toc_section_display": true,
   "toc_window_display": false
  }
 },
 "nbformat": 4,
 "nbformat_minor": 2
}
