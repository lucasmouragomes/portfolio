{
 "cells": [
  {
   "cell_type": "markdown",
   "source": [
    "# Cabs Project"
   ],
   "metadata": {}
  },
  {
   "cell_type": "markdown",
   "source": [
    "## Introduction"
   ],
   "metadata": {}
  },
  {
   "cell_type": "markdown",
   "source": [
    "\r\n",
    "The present document is a study on data about cabs in Chicago. The data has been extracted from a Database of cab rides in November 2017. Our main objective is to find patterns regarding taxi companies, dropoff locations and the effects of weather on rides. This work will be used as intelligence to plan out a marketing campaign and a new transportation project for the O'Hare airport to better solve traffic issues during rush hours."
   ],
   "metadata": {}
  },
  {
   "cell_type": "markdown",
   "source": [
    "\r\n",
    "## Data Preprocess"
   ],
   "metadata": {}
  },
  {
   "cell_type": "markdown",
   "source": [
    "### Objective"
   ],
   "metadata": {}
  },
  {
   "cell_type": "markdown",
   "source": [
    "\r\n",
    "Three tables were provided in order to conduct our studies:\r\n",
    "\r\n",
    "Company - information on companies and the amount of trips during November 15 and 16 of 2017.\r\n",
    "\r\n",
    "Dropoff - Drop off neighborhoods and the average number of trips ending at each during November 2017.\r\n",
    "\r\n",
    "Weather - weather conditions during rides from Loop to the O'Hare Airport."
   ],
   "metadata": {}
  },
  {
   "cell_type": "markdown",
   "source": [
    "\n",
    "The first step is to explore data and validate information. Data often comes with a few unpredicted issues, and these will be fixed in this preprocessing section.  These can include missing values, artifacts and incorrect data types. We will take a first look at the data and the information available while making sure the values are correctly loaded: numeric data should correctly be assigned as integer or float, corresponding to their values. Likewise, dates must also be correctly parsed by the software. Analysis is much easier when the data is standardized and categorized. At the end of this section, we expect to have data ready for analysis and the drawing of results."
   ],
   "metadata": {}
  },
  {
   "cell_type": "markdown",
   "source": [
    "### Code"
   ],
   "metadata": {}
  },
  {
   "cell_type": "code",
   "execution_count": 1,
   "source": [
    "import pandas as pd\n",
    "import matplotlib.pyplot as plt\n",
    "from IPython.display import display\n",
    "import numpy\n",
    "import scipy.stats as st\n",
    "\n",
    "\n",
    "path_array = ['', '/', '/datasets/', './datasets/', '../datasets/']\n",
    "CSVPATH = None\n",
    "\n",
    "for i in path_array:\n",
    "    try:\n",
    "        pd.read_csv(i + 'project_sql_result_01.csv', nrows=1)\n",
    "        CSVPATH = i\n",
    "    except:\n",
    "        pass\n",
    "\n",
    "if CSVPATH:\n",
    "    print('Path found is', 'current folder' if CSVPATH == '' else CSVPATH)\n",
    "else:\n",
    "    print('No path found')"
   ],
   "outputs": [
    {
     "output_type": "stream",
     "name": "stdout",
     "text": [
      "Path found is /datasets/\n"
     ]
    }
   ],
   "metadata": {}
  },
  {
   "cell_type": "code",
   "execution_count": 2,
   "source": [
    "def optimize_types(df):\n",
    "    df_dtypes = df.dtypes\n",
    "    df_names = df.index\n",
    "    df_types = [i.name for i in df_dtypes.values]\n",
    "    df_types = dict(zip(df_names, df_types))\n",
    "    return df_types"
   ],
   "outputs": [],
   "metadata": {}
  },
  {
   "cell_type": "code",
   "execution_count": 3,
   "source": [
    "company = pd.read_csv(CSVPATH + 'project_sql_result_01.csv', nrows=10)\n",
    "\n",
    "company['trips_amount'] = pd.to_numeric(company['trips_amount'], downcast='integer')\n",
    "\n",
    "company_types = optimize_types(company)\n",
    "\n",
    "company = pd.read_csv(\n",
    "    CSVPATH+'project_sql_result_01.csv', \n",
    "    dtype=company_types)\n",
    "\n",
    "company.info()\n",
    "company.head()"
   ],
   "outputs": [
    {
     "output_type": "stream",
     "name": "stdout",
     "text": [
      "<class 'pandas.core.frame.DataFrame'>\n",
      "RangeIndex: 64 entries, 0 to 63\n",
      "Data columns (total 2 columns):\n",
      "company_name    64 non-null object\n",
      "trips_amount    64 non-null int16\n",
      "dtypes: int16(1), object(1)\n",
      "memory usage: 768.0+ bytes\n"
     ]
    },
    {
     "output_type": "execute_result",
     "data": {
      "text/html": [
       "<div>\n",
       "<style scoped>\n",
       "    .dataframe tbody tr th:only-of-type {\n",
       "        vertical-align: middle;\n",
       "    }\n",
       "\n",
       "    .dataframe tbody tr th {\n",
       "        vertical-align: top;\n",
       "    }\n",
       "\n",
       "    .dataframe thead th {\n",
       "        text-align: right;\n",
       "    }\n",
       "</style>\n",
       "<table border=\"1\" class=\"dataframe\">\n",
       "  <thead>\n",
       "    <tr style=\"text-align: right;\">\n",
       "      <th></th>\n",
       "      <th>company_name</th>\n",
       "      <th>trips_amount</th>\n",
       "    </tr>\n",
       "  </thead>\n",
       "  <tbody>\n",
       "    <tr>\n",
       "      <td>0</td>\n",
       "      <td>Flash Cab</td>\n",
       "      <td>19558</td>\n",
       "    </tr>\n",
       "    <tr>\n",
       "      <td>1</td>\n",
       "      <td>Taxi Affiliation Services</td>\n",
       "      <td>11422</td>\n",
       "    </tr>\n",
       "    <tr>\n",
       "      <td>2</td>\n",
       "      <td>Medallion Leasing</td>\n",
       "      <td>10367</td>\n",
       "    </tr>\n",
       "    <tr>\n",
       "      <td>3</td>\n",
       "      <td>Yellow Cab</td>\n",
       "      <td>9888</td>\n",
       "    </tr>\n",
       "    <tr>\n",
       "      <td>4</td>\n",
       "      <td>Taxi Affiliation Service Yellow</td>\n",
       "      <td>9299</td>\n",
       "    </tr>\n",
       "  </tbody>\n",
       "</table>\n",
       "</div>"
      ],
      "text/plain": [
       "                      company_name  trips_amount\n",
       "0                        Flash Cab         19558\n",
       "1        Taxi Affiliation Services         11422\n",
       "2                Medallion Leasing         10367\n",
       "3                       Yellow Cab          9888\n",
       "4  Taxi Affiliation Service Yellow          9299"
      ]
     },
     "metadata": {},
     "execution_count": 3
    }
   ],
   "metadata": {}
  },
  {
   "cell_type": "code",
   "execution_count": 4,
   "source": [
    "dropoff = pd.read_csv(CSVPATH + 'project_sql_result_04.csv', nrows=10)\n",
    "dropoff['average_trips'] = pd.to_numeric(dropoff['average_trips'], downcast='float')\n",
    "\n",
    "dropoff_types = optimize_types(dropoff)\n",
    "\n",
    "dropoff = pd.read_csv(\n",
    "    CSVPATH+'project_sql_result_04.csv', \n",
    "    dtype=dropoff_types)\n",
    "\n",
    "dropoff.info()"
   ],
   "outputs": [
    {
     "output_type": "stream",
     "name": "stdout",
     "text": [
      "<class 'pandas.core.frame.DataFrame'>\n",
      "RangeIndex: 94 entries, 0 to 93\n",
      "Data columns (total 2 columns):\n",
      "dropoff_location_name    94 non-null object\n",
      "average_trips            94 non-null float32\n",
      "dtypes: float32(1), object(1)\n",
      "memory usage: 1.2+ KB\n"
     ]
    }
   ],
   "metadata": {}
  },
  {
   "cell_type": "code",
   "execution_count": 5,
   "source": [
    "weather = pd.read_csv(CSVPATH + 'project_sql_result_07.csv')\n",
    "\n",
    "weather['duration_seconds'] = pd.to_numeric(weather['duration_seconds'], downcast='integer')\n",
    "\n",
    "weather_types = optimize_types(weather)\n",
    "\n",
    "weather = pd.read_csv(\n",
    "    CSVPATH+'project_sql_result_07.csv', \n",
    "    dtype=weather_types,\n",
    "    parse_dates=['start_ts'],\n",
    "    infer_datetime_format='%Y-%m-%d %H:%M:%S')\n",
    "\n",
    "weather.info()\n",
    "weather['day_hour'] = weather['start_ts'].apply(lambda x: x.hour)\n",
    "weather.head()"
   ],
   "outputs": [
    {
     "output_type": "stream",
     "name": "stdout",
     "text": [
      "<class 'pandas.core.frame.DataFrame'>\n",
      "RangeIndex: 1068 entries, 0 to 1067\n",
      "Data columns (total 3 columns):\n",
      "start_ts              1068 non-null datetime64[ns]\n",
      "weather_conditions    1068 non-null object\n",
      "duration_seconds      1068 non-null int16\n",
      "dtypes: datetime64[ns](1), int16(1), object(1)\n",
      "memory usage: 18.9+ KB\n"
     ]
    },
    {
     "output_type": "execute_result",
     "data": {
      "text/html": [
       "<div>\n",
       "<style scoped>\n",
       "    .dataframe tbody tr th:only-of-type {\n",
       "        vertical-align: middle;\n",
       "    }\n",
       "\n",
       "    .dataframe tbody tr th {\n",
       "        vertical-align: top;\n",
       "    }\n",
       "\n",
       "    .dataframe thead th {\n",
       "        text-align: right;\n",
       "    }\n",
       "</style>\n",
       "<table border=\"1\" class=\"dataframe\">\n",
       "  <thead>\n",
       "    <tr style=\"text-align: right;\">\n",
       "      <th></th>\n",
       "      <th>start_ts</th>\n",
       "      <th>weather_conditions</th>\n",
       "      <th>duration_seconds</th>\n",
       "      <th>day_hour</th>\n",
       "    </tr>\n",
       "  </thead>\n",
       "  <tbody>\n",
       "    <tr>\n",
       "      <td>0</td>\n",
       "      <td>2017-11-25 16:00:00</td>\n",
       "      <td>Good</td>\n",
       "      <td>2410</td>\n",
       "      <td>16</td>\n",
       "    </tr>\n",
       "    <tr>\n",
       "      <td>1</td>\n",
       "      <td>2017-11-25 14:00:00</td>\n",
       "      <td>Good</td>\n",
       "      <td>1920</td>\n",
       "      <td>14</td>\n",
       "    </tr>\n",
       "    <tr>\n",
       "      <td>2</td>\n",
       "      <td>2017-11-25 12:00:00</td>\n",
       "      <td>Good</td>\n",
       "      <td>1543</td>\n",
       "      <td>12</td>\n",
       "    </tr>\n",
       "    <tr>\n",
       "      <td>3</td>\n",
       "      <td>2017-11-04 10:00:00</td>\n",
       "      <td>Good</td>\n",
       "      <td>2512</td>\n",
       "      <td>10</td>\n",
       "    </tr>\n",
       "    <tr>\n",
       "      <td>4</td>\n",
       "      <td>2017-11-11 07:00:00</td>\n",
       "      <td>Good</td>\n",
       "      <td>1440</td>\n",
       "      <td>7</td>\n",
       "    </tr>\n",
       "  </tbody>\n",
       "</table>\n",
       "</div>"
      ],
      "text/plain": [
       "             start_ts weather_conditions  duration_seconds  day_hour\n",
       "0 2017-11-25 16:00:00               Good              2410        16\n",
       "1 2017-11-25 14:00:00               Good              1920        14\n",
       "2 2017-11-25 12:00:00               Good              1543        12\n",
       "3 2017-11-04 10:00:00               Good              2512        10\n",
       "4 2017-11-11 07:00:00               Good              1440         7"
      ]
     },
     "metadata": {},
     "execution_count": 5
    }
   ],
   "metadata": {}
  },
  {
   "cell_type": "code",
   "execution_count": 6,
   "source": [
    "n_duplicated = weather[weather.duplicated()].shape[0]\n",
    "print('Number of duplicates on weather: ' + str(n_duplicated))\n",
    "print(f'Percentage: {n_duplicated/weather.shape[0]:.2%}')"
   ],
   "outputs": [
    {
     "output_type": "stream",
     "name": "stdout",
     "text": [
      "Number of duplicates on weather: 197\n",
      "Percentage: 18.45%\n"
     ]
    }
   ],
   "metadata": {}
  },
  {
   "cell_type": "code",
   "execution_count": 7,
   "source": [
    "weather = weather.drop_duplicates().reset_index(drop=True)\n",
    "\n",
    "weather.info()"
   ],
   "outputs": [
    {
     "output_type": "stream",
     "name": "stdout",
     "text": [
      "<class 'pandas.core.frame.DataFrame'>\n",
      "RangeIndex: 871 entries, 0 to 870\n",
      "Data columns (total 4 columns):\n",
      "start_ts              871 non-null datetime64[ns]\n",
      "weather_conditions    871 non-null object\n",
      "duration_seconds      871 non-null int16\n",
      "day_hour              871 non-null int64\n",
      "dtypes: datetime64[ns](1), int16(1), int64(1), object(1)\n",
      "memory usage: 22.2+ KB\n"
     ]
    }
   ],
   "metadata": {}
  },
  {
   "cell_type": "markdown",
   "source": [
    "### Results"
   ],
   "metadata": {}
  },
  {
   "cell_type": "markdown",
   "source": [
    "Since the data has been acquired from a Database, not many issues were found. However, we found 18% of the data about weather were duplicated data, and we can't be sure if some of these entries were only coincidences. Since that percetage is quite significant, and the duration in seconds is not so likely to be exactly the same along with the start time, we have decided to drop duplicates."
   ],
   "metadata": {}
  },
  {
   "cell_type": "markdown",
   "source": [
    "<div class=\"alert alert-success\">\n",
    "<b>Reviewer's comment</b>\n",
    "  \n",
    "Alright, the data was loaded and inspected. You have a good point about duplicates, without ride IDs we can't know for sure if these are distinct rides. Dropping seems reasonable to me!\n",
    "  \n",
    "</div>"
   ],
   "metadata": {}
  },
  {
   "cell_type": "markdown",
   "source": [
    "\n",
    "## Exploratory Data Analysis\n"
   ],
   "metadata": {}
  },
  {
   "cell_type": "markdown",
   "source": [
    "\n",
    "### Objective\n"
   ],
   "metadata": {}
  },
  {
   "cell_type": "markdown",
   "source": [
    "In this section, we ain to draw conclusions from the data. We aim to draw graphs about leading cab companies, most visited locations and differences in ride durations based on good or bad weather."
   ],
   "metadata": {}
  },
  {
   "cell_type": "markdown",
   "source": [
    "\n",
    "### Code"
   ],
   "metadata": {}
  },
  {
   "cell_type": "code",
   "execution_count": 8,
   "source": [
    "top_companies = company.sort_values('trips_amount', ascending=False).head(10)\n",
    "display(top_companies)\n",
    "company.describe().round(decimals=2)"
   ],
   "outputs": [
    {
     "output_type": "display_data",
     "data": {
      "text/html": [
       "<div>\n",
       "<style scoped>\n",
       "    .dataframe tbody tr th:only-of-type {\n",
       "        vertical-align: middle;\n",
       "    }\n",
       "\n",
       "    .dataframe tbody tr th {\n",
       "        vertical-align: top;\n",
       "    }\n",
       "\n",
       "    .dataframe thead th {\n",
       "        text-align: right;\n",
       "    }\n",
       "</style>\n",
       "<table border=\"1\" class=\"dataframe\">\n",
       "  <thead>\n",
       "    <tr style=\"text-align: right;\">\n",
       "      <th></th>\n",
       "      <th>company_name</th>\n",
       "      <th>trips_amount</th>\n",
       "    </tr>\n",
       "  </thead>\n",
       "  <tbody>\n",
       "    <tr>\n",
       "      <td>0</td>\n",
       "      <td>Flash Cab</td>\n",
       "      <td>19558</td>\n",
       "    </tr>\n",
       "    <tr>\n",
       "      <td>1</td>\n",
       "      <td>Taxi Affiliation Services</td>\n",
       "      <td>11422</td>\n",
       "    </tr>\n",
       "    <tr>\n",
       "      <td>2</td>\n",
       "      <td>Medallion Leasing</td>\n",
       "      <td>10367</td>\n",
       "    </tr>\n",
       "    <tr>\n",
       "      <td>3</td>\n",
       "      <td>Yellow Cab</td>\n",
       "      <td>9888</td>\n",
       "    </tr>\n",
       "    <tr>\n",
       "      <td>4</td>\n",
       "      <td>Taxi Affiliation Service Yellow</td>\n",
       "      <td>9299</td>\n",
       "    </tr>\n",
       "    <tr>\n",
       "      <td>5</td>\n",
       "      <td>Chicago Carriage Cab Corp</td>\n",
       "      <td>9181</td>\n",
       "    </tr>\n",
       "    <tr>\n",
       "      <td>6</td>\n",
       "      <td>City Service</td>\n",
       "      <td>8448</td>\n",
       "    </tr>\n",
       "    <tr>\n",
       "      <td>7</td>\n",
       "      <td>Sun Taxi</td>\n",
       "      <td>7701</td>\n",
       "    </tr>\n",
       "    <tr>\n",
       "      <td>8</td>\n",
       "      <td>Star North Management LLC</td>\n",
       "      <td>7455</td>\n",
       "    </tr>\n",
       "    <tr>\n",
       "      <td>9</td>\n",
       "      <td>Blue Ribbon Taxi Association Inc.</td>\n",
       "      <td>5953</td>\n",
       "    </tr>\n",
       "  </tbody>\n",
       "</table>\n",
       "</div>"
      ],
      "text/plain": [
       "                        company_name  trips_amount\n",
       "0                          Flash Cab         19558\n",
       "1          Taxi Affiliation Services         11422\n",
       "2                  Medallion Leasing         10367\n",
       "3                         Yellow Cab          9888\n",
       "4    Taxi Affiliation Service Yellow          9299\n",
       "5          Chicago Carriage Cab Corp          9181\n",
       "6                       City Service          8448\n",
       "7                           Sun Taxi          7701\n",
       "8          Star North Management LLC          7455\n",
       "9  Blue Ribbon Taxi Association Inc.          5953"
      ]
     },
     "metadata": {}
    },
    {
     "output_type": "execute_result",
     "data": {
      "text/html": [
       "<div>\n",
       "<style scoped>\n",
       "    .dataframe tbody tr th:only-of-type {\n",
       "        vertical-align: middle;\n",
       "    }\n",
       "\n",
       "    .dataframe tbody tr th {\n",
       "        vertical-align: top;\n",
       "    }\n",
       "\n",
       "    .dataframe thead th {\n",
       "        text-align: right;\n",
       "    }\n",
       "</style>\n",
       "<table border=\"1\" class=\"dataframe\">\n",
       "  <thead>\n",
       "    <tr style=\"text-align: right;\">\n",
       "      <th></th>\n",
       "      <th>trips_amount</th>\n",
       "    </tr>\n",
       "  </thead>\n",
       "  <tbody>\n",
       "    <tr>\n",
       "      <td>count</td>\n",
       "      <td>64.00</td>\n",
       "    </tr>\n",
       "    <tr>\n",
       "      <td>mean</td>\n",
       "      <td>2145.48</td>\n",
       "    </tr>\n",
       "    <tr>\n",
       "      <td>std</td>\n",
       "      <td>3812.31</td>\n",
       "    </tr>\n",
       "    <tr>\n",
       "      <td>min</td>\n",
       "      <td>2.00</td>\n",
       "    </tr>\n",
       "    <tr>\n",
       "      <td>25%</td>\n",
       "      <td>20.75</td>\n",
       "    </tr>\n",
       "    <tr>\n",
       "      <td>50%</td>\n",
       "      <td>178.50</td>\n",
       "    </tr>\n",
       "    <tr>\n",
       "      <td>75%</td>\n",
       "      <td>2106.50</td>\n",
       "    </tr>\n",
       "    <tr>\n",
       "      <td>max</td>\n",
       "      <td>19558.00</td>\n",
       "    </tr>\n",
       "  </tbody>\n",
       "</table>\n",
       "</div>"
      ],
      "text/plain": [
       "       trips_amount\n",
       "count         64.00\n",
       "mean        2145.48\n",
       "std         3812.31\n",
       "min            2.00\n",
       "25%           20.75\n",
       "50%          178.50\n",
       "75%         2106.50\n",
       "max        19558.00"
      ]
     },
     "metadata": {},
     "execution_count": 8
    }
   ],
   "metadata": {}
  },
  {
   "cell_type": "code",
   "execution_count": 9,
   "source": [
    "print(f'Percentage of trips from top companies: {top_companies[\"trips_amount\"].sum()/company[\"trips_amount\"].sum():.2%}')"
   ],
   "outputs": [
    {
     "output_type": "stream",
     "name": "stdout",
     "text": [
      "Percentage of trips from top companies: 72.30%\n"
     ]
    }
   ],
   "metadata": {}
  },
  {
   "cell_type": "code",
   "execution_count": 10,
   "source": [
    "top_companies.set_index('company_name').plot(kind='bar')\n",
    "plt.gca().legend_ = None\n",
    "plt.xlabel('Company names')\n",
    "plt.ylabel('Trips amount')\n",
    "plt.title('Number of trips per company')\n",
    "plt.show()\n",
    "company.boxplot()\n",
    "plt.title('Boxplot of trips amount')\n",
    "plt.ylabel('Number of trips')\n",
    "plt.show()"
   ],
   "outputs": [
    {
     "output_type": "display_data",
     "data": {
      "image/png": "[encoded data removed]",
      "text/plain": [
       "<Figure size 432x288 with 1 Axes>"
      ]
     },
     "metadata": {
      "needs_background": "light"
     }
    },
    {
     "output_type": "display_data",
     "data": {
      "image/png": "[encoded data removed]",
      "text/plain": [
       "<Figure size 432x288 with 1 Axes>"
      ]
     },
     "metadata": {
      "needs_background": "light"
     }
    }
   ],
   "metadata": {}
  },
  {
   "cell_type": "markdown",
   "source": [
    "*Graph Analysis*\n",
    "\n",
    "By looking at the first graph, we can check the 10 leading companies in trip amounts. The top company is Flash Cab, with almost twice as many rides as the second place. Although these companies sum more than 5,000 trips, most of the 64 companies analyzed sum less than 2,500 rides. The top companies, in the overall scene, can be considered outliers in the business, and that can be confirmed by the second boxplot graph."
   ],
   "metadata": {}
  },
  {
   "cell_type": "code",
   "execution_count": 11,
   "source": [
    "top_dropoff = dropoff.sort_values('average_trips', ascending=False).head(10)\n",
    "display(top_dropoff)\n",
    "dropoff.describe()"
   ],
   "outputs": [
    {
     "output_type": "display_data",
     "data": {
      "text/html": [
       "<div>\n",
       "<style scoped>\n",
       "    .dataframe tbody tr th:only-of-type {\n",
       "        vertical-align: middle;\n",
       "    }\n",
       "\n",
       "    .dataframe tbody tr th {\n",
       "        vertical-align: top;\n",
       "    }\n",
       "\n",
       "    .dataframe thead th {\n",
       "        text-align: right;\n",
       "    }\n",
       "</style>\n",
       "<table border=\"1\" class=\"dataframe\">\n",
       "  <thead>\n",
       "    <tr style=\"text-align: right;\">\n",
       "      <th></th>\n",
       "      <th>dropoff_location_name</th>\n",
       "      <th>average_trips</th>\n",
       "    </tr>\n",
       "  </thead>\n",
       "  <tbody>\n",
       "    <tr>\n",
       "      <td>0</td>\n",
       "      <td>Loop</td>\n",
       "      <td>10727.466797</td>\n",
       "    </tr>\n",
       "    <tr>\n",
       "      <td>1</td>\n",
       "      <td>River North</td>\n",
       "      <td>9523.666992</td>\n",
       "    </tr>\n",
       "    <tr>\n",
       "      <td>2</td>\n",
       "      <td>Streeterville</td>\n",
       "      <td>6664.666504</td>\n",
       "    </tr>\n",
       "    <tr>\n",
       "      <td>3</td>\n",
       "      <td>West Loop</td>\n",
       "      <td>5163.666504</td>\n",
       "    </tr>\n",
       "    <tr>\n",
       "      <td>4</td>\n",
       "      <td>O'Hare</td>\n",
       "      <td>2546.899902</td>\n",
       "    </tr>\n",
       "    <tr>\n",
       "      <td>5</td>\n",
       "      <td>Lake View</td>\n",
       "      <td>2420.966553</td>\n",
       "    </tr>\n",
       "    <tr>\n",
       "      <td>6</td>\n",
       "      <td>Grant Park</td>\n",
       "      <td>2068.533447</td>\n",
       "    </tr>\n",
       "    <tr>\n",
       "      <td>7</td>\n",
       "      <td>Museum Campus</td>\n",
       "      <td>1510.000000</td>\n",
       "    </tr>\n",
       "    <tr>\n",
       "      <td>8</td>\n",
       "      <td>Gold Coast</td>\n",
       "      <td>1364.233276</td>\n",
       "    </tr>\n",
       "    <tr>\n",
       "      <td>9</td>\n",
       "      <td>Sheffield &amp; DePaul</td>\n",
       "      <td>1259.766724</td>\n",
       "    </tr>\n",
       "  </tbody>\n",
       "</table>\n",
       "</div>"
      ],
      "text/plain": [
       "  dropoff_location_name  average_trips\n",
       "0                  Loop   10727.466797\n",
       "1           River North    9523.666992\n",
       "2         Streeterville    6664.666504\n",
       "3             West Loop    5163.666504\n",
       "4                O'Hare    2546.899902\n",
       "5             Lake View    2420.966553\n",
       "6            Grant Park    2068.533447\n",
       "7         Museum Campus    1510.000000\n",
       "8            Gold Coast    1364.233276\n",
       "9    Sheffield & DePaul    1259.766724"
      ]
     },
     "metadata": {}
    },
    {
     "output_type": "execute_result",
     "data": {
      "text/html": [
       "<div>\n",
       "<style scoped>\n",
       "    .dataframe tbody tr th:only-of-type {\n",
       "        vertical-align: middle;\n",
       "    }\n",
       "\n",
       "    .dataframe tbody tr th {\n",
       "        vertical-align: top;\n",
       "    }\n",
       "\n",
       "    .dataframe thead th {\n",
       "        text-align: right;\n",
       "    }\n",
       "</style>\n",
       "<table border=\"1\" class=\"dataframe\">\n",
       "  <thead>\n",
       "    <tr style=\"text-align: right;\">\n",
       "      <th></th>\n",
       "      <th>average_trips</th>\n",
       "    </tr>\n",
       "  </thead>\n",
       "  <tbody>\n",
       "    <tr>\n",
       "      <td>count</td>\n",
       "      <td>94.000000</td>\n",
       "    </tr>\n",
       "    <tr>\n",
       "      <td>mean</td>\n",
       "      <td>599.953735</td>\n",
       "    </tr>\n",
       "    <tr>\n",
       "      <td>std</td>\n",
       "      <td>1714.591064</td>\n",
       "    </tr>\n",
       "    <tr>\n",
       "      <td>min</td>\n",
       "      <td>1.800000</td>\n",
       "    </tr>\n",
       "    <tr>\n",
       "      <td>25%</td>\n",
       "      <td>14.266667</td>\n",
       "    </tr>\n",
       "    <tr>\n",
       "      <td>50%</td>\n",
       "      <td>52.016666</td>\n",
       "    </tr>\n",
       "    <tr>\n",
       "      <td>75%</td>\n",
       "      <td>298.858330</td>\n",
       "    </tr>\n",
       "    <tr>\n",
       "      <td>max</td>\n",
       "      <td>10727.466797</td>\n",
       "    </tr>\n",
       "  </tbody>\n",
       "</table>\n",
       "</div>"
      ],
      "text/plain": [
       "       average_trips\n",
       "count      94.000000\n",
       "mean      599.953735\n",
       "std      1714.591064\n",
       "min         1.800000\n",
       "25%        14.266667\n",
       "50%        52.016666\n",
       "75%       298.858330\n",
       "max     10727.466797"
      ]
     },
     "metadata": {},
     "execution_count": 11
    }
   ],
   "metadata": {}
  },
  {
   "cell_type": "code",
   "execution_count": 12,
   "source": [
    "print(f'Percentage of trips from most visited locations: {top_dropoff[\"average_trips\"].sum()/dropoff[\"average_trips\"].sum():.2%}')"
   ],
   "outputs": [
    {
     "output_type": "stream",
     "name": "stdout",
     "text": [
      "Percentage of trips from most visited locations: 76.69%\n"
     ]
    }
   ],
   "metadata": {}
  },
  {
   "cell_type": "code",
   "execution_count": 13,
   "source": [
    "top_dropoff.set_index('dropoff_location_name').plot(kind='bar')\n",
    "plt.gca().legend_ = None\n",
    "plt.xlabel('Dropoff neighborhood')\n",
    "plt.ylabel('Average trip count')\n",
    "plt.title('Average trips by dropoff location')\n",
    "plt.show()\n",
    "dropoff.boxplot()\n",
    "plt.title('Average trips per location')\n",
    "plt.show()"
   ],
   "outputs": [
    {
     "output_type": "display_data",
     "data": {
      "image/png": "[encoded data removed]",
      "text/plain": [
       "<Figure size 432x288 with 1 Axes>"
      ]
     },
     "metadata": {
      "needs_background": "light"
     }
    },
    {
     "output_type": "display_data",
     "data": {
      "image/png": "[encoded data removed]",
      "text/plain": [
       "<Figure size 432x288 with 1 Axes>"
      ]
     },
     "metadata": {
      "needs_background": "light"
     }
    }
   ],
   "metadata": {}
  },
  {
   "cell_type": "markdown",
   "source": [
    "*Graph Analysis*\n",
    "\n",
    "By taking a look at the average number of trips per location, we can define that the main destinations are Loop, River North, Streeterville and Westloop. These four destinations count more than twice the fifth most visited destination, which is O'Hare, the neighborhood where the airport is. Most destinations count less than 300 average trips."
   ],
   "metadata": {}
  },
  {
   "cell_type": "code",
   "execution_count": 14,
   "source": [
    "weather = weather.query('duration_seconds > 60')\n",
    "weather.groupby('weather_conditions').describe().transpose().round(2)"
   ],
   "outputs": [
    {
     "output_type": "execute_result",
     "data": {
      "text/html": [
       "<div>\n",
       "<style scoped>\n",
       "    .dataframe tbody tr th:only-of-type {\n",
       "        vertical-align: middle;\n",
       "    }\n",
       "\n",
       "    .dataframe tbody tr th {\n",
       "        vertical-align: top;\n",
       "    }\n",
       "\n",
       "    .dataframe thead th {\n",
       "        text-align: right;\n",
       "    }\n",
       "</style>\n",
       "<table border=\"1\" class=\"dataframe\">\n",
       "  <thead>\n",
       "    <tr style=\"text-align: right;\">\n",
       "      <th></th>\n",
       "      <th>weather_conditions</th>\n",
       "      <th>Bad</th>\n",
       "      <th>Good</th>\n",
       "    </tr>\n",
       "  </thead>\n",
       "  <tbody>\n",
       "    <tr>\n",
       "      <td rowspan=\"8\" valign=\"top\">duration_seconds</td>\n",
       "      <td>count</td>\n",
       "      <td>148.00</td>\n",
       "      <td>716.00</td>\n",
       "    </tr>\n",
       "    <tr>\n",
       "      <td>mean</td>\n",
       "      <td>2409.23</td>\n",
       "      <td>2052.04</td>\n",
       "    </tr>\n",
       "    <tr>\n",
       "      <td>std</td>\n",
       "      <td>751.54</td>\n",
       "      <td>750.72</td>\n",
       "    </tr>\n",
       "    <tr>\n",
       "      <td>min</td>\n",
       "      <td>480.00</td>\n",
       "      <td>420.00</td>\n",
       "    </tr>\n",
       "    <tr>\n",
       "      <td>25%</td>\n",
       "      <td>1746.00</td>\n",
       "      <td>1440.00</td>\n",
       "    </tr>\n",
       "    <tr>\n",
       "      <td>50%</td>\n",
       "      <td>2463.50</td>\n",
       "      <td>1918.00</td>\n",
       "    </tr>\n",
       "    <tr>\n",
       "      <td>75%</td>\n",
       "      <td>2940.00</td>\n",
       "      <td>2497.75</td>\n",
       "    </tr>\n",
       "    <tr>\n",
       "      <td>max</td>\n",
       "      <td>4980.00</td>\n",
       "      <td>7440.00</td>\n",
       "    </tr>\n",
       "    <tr>\n",
       "      <td rowspan=\"8\" valign=\"top\">day_hour</td>\n",
       "      <td>count</td>\n",
       "      <td>148.00</td>\n",
       "      <td>716.00</td>\n",
       "    </tr>\n",
       "    <tr>\n",
       "      <td>mean</td>\n",
       "      <td>13.30</td>\n",
       "      <td>11.15</td>\n",
       "    </tr>\n",
       "    <tr>\n",
       "      <td>std</td>\n",
       "      <td>3.85</td>\n",
       "      <td>4.16</td>\n",
       "    </tr>\n",
       "    <tr>\n",
       "      <td>min</td>\n",
       "      <td>0.00</td>\n",
       "      <td>0.00</td>\n",
       "    </tr>\n",
       "    <tr>\n",
       "      <td>25%</td>\n",
       "      <td>10.00</td>\n",
       "      <td>8.00</td>\n",
       "    </tr>\n",
       "    <tr>\n",
       "      <td>50%</td>\n",
       "      <td>13.00</td>\n",
       "      <td>11.00</td>\n",
       "    </tr>\n",
       "    <tr>\n",
       "      <td>75%</td>\n",
       "      <td>16.00</td>\n",
       "      <td>14.00</td>\n",
       "    </tr>\n",
       "    <tr>\n",
       "      <td>max</td>\n",
       "      <td>21.00</td>\n",
       "      <td>23.00</td>\n",
       "    </tr>\n",
       "  </tbody>\n",
       "</table>\n",
       "</div>"
      ],
      "text/plain": [
       "weather_conditions          Bad     Good\n",
       "duration_seconds count   148.00   716.00\n",
       "                 mean   2409.23  2052.04\n",
       "                 std     751.54   750.72\n",
       "                 min     480.00   420.00\n",
       "                 25%    1746.00  1440.00\n",
       "                 50%    2463.50  1918.00\n",
       "                 75%    2940.00  2497.75\n",
       "                 max    4980.00  7440.00\n",
       "day_hour         count   148.00   716.00\n",
       "                 mean     13.30    11.15\n",
       "                 std       3.85     4.16\n",
       "                 min       0.00     0.00\n",
       "                 25%      10.00     8.00\n",
       "                 50%      13.00    11.00\n",
       "                 75%      16.00    14.00\n",
       "                 max      21.00    23.00"
      ]
     },
     "metadata": {},
     "execution_count": 14
    }
   ],
   "metadata": {}
  },
  {
   "cell_type": "code",
   "execution_count": null,
   "source": [
    "weather_by_hour = weather.pivot_table(\r\n",
    "    index='day_hour', \r\n",
    "    columns='weather_conditions', \r\n",
    "    values='duration_seconds',\r\n",
    "    aggfunc=['mean', 'count']\r\n",
    ")\r\n",
    "\r\n",
    "weather_by_hour"
   ],
   "outputs": [],
   "metadata": {}
  },
  {
   "cell_type": "code",
   "execution_count": null,
   "source": [
    "good = weather.query('weather_conditions == \"Good\"').sort_values('day_hour')\r\n",
    "bad = weather.query('weather_conditions == \"Bad\"').sort_values('day_hour')\r\n",
    "(\r\n",
    "good.groupby('day_hour')['duration_seconds'].mean().to_frame(name='Good').join(\r\n",
    "bad.groupby('day_hour')['duration_seconds'].mean().to_frame(name='Bad'))\r\n",
    ").plot(kind='bar', figsize=(10,4))\r\n",
    "plt.gca().legend().set_title('Weather conditions')\r\n",
    "plt.xlabel('Hour of the day')\r\n",
    "plt.ylabel('Average duration (s)')\r\n",
    "plt.title('Duration of rides by hour of the day')\r\n",
    "plt.show()"
   ],
   "outputs": [],
   "metadata": {}
  },
  {
   "cell_type": "markdown",
   "source": [
    "*Graph Analysis*\r\n",
    "\r\n",
    "The graph above shows the progression of mean duration along the day according to the weather. If no information is available, then there aren't any readings for the corresponding weather condition during that hour on the days analyzed. We can see that the means do not vary that much according to the weather, and we can only say state that the mean is higher during bad weather conditions during the afternoon. This hypothesis will be further analyzed in the next section."
   ],
   "metadata": {}
  },
  {
   "cell_type": "markdown",
   "source": [
    "### Results"
   ],
   "metadata": {}
  },
  {
   "cell_type": "markdown",
   "source": [
    "By inspecting the data and plotting a few graphs, we were able to visualize the top companies and locations visited pointed by the data regarding trip counts. \n",
    "\n",
    "The ten leading companies in trip amounts stand out from the others by reaching from two to five times the average number of trips throughout companies. They hold up a total of 74% of the trip amounts, in a local market with 64 competing businesses.\n",
    "\n",
    "As for locations, the 10 most visited locations also hold up a share of 76% of the trip counts, with Loop leading by more than twice the average visits of the second place. Up next are River North, Streeterville and Westloop."
   ],
   "metadata": {}
  },
  {
   "cell_type": "markdown",
   "source": [
    "## Hypothesis Testing"
   ],
   "metadata": {}
  },
  {
   "cell_type": "markdown",
   "source": [
    "### Objective"
   ],
   "metadata": {}
  },
  {
   "cell_type": "markdown",
   "source": [
    "After studying the graph of trip durations and respective weather conditions, we have formulated a hypothesis that the average duration is higher during bad weather. However, considering rush hours we can expect that the effects of bad weather will be different thoughout the day. \r\n",
    "\r\n",
    "We will formulate the following null hypothesis:\r\n",
    "\r\n",
    "'The average duration of rides during bad weather is the same as the average duration during good weather'\r\n",
    "\r\n",
    "Opposed to the alternative hypothesis:\r\n",
    "\r\n",
    "'The average duration of rides during bad weather is higher than the average duration during good weather.'\r\n",
    " \r\n",
    "We will check the hypothesis for the two cases:\r\n",
    "    \r\n",
    "- Daily\r\n",
    "- Hourly\r\n",
    "\r\n",
    "We will check the probabilities of getting samples results as extreme as the other sample based on one of the sample batch and decide that if the probabilities are less than 5%, then they are highly unlikely to be true and will be considered false. The two sample batches are trips during good weather and bad weather.\r\n",
    "\r\n",
    "The data considered is for any Saturday of November 2017 and we will apply the one-tailed T-test."
   ],
   "metadata": {}
  },
  {
   "cell_type": "markdown",
   "source": [
    "### Code"
   ],
   "metadata": {}
  },
  {
   "cell_type": "code",
   "execution_count": null,
   "source": [
    "alpha = 0.05"
   ],
   "outputs": [],
   "metadata": {}
  },
  {
   "cell_type": "code",
   "execution_count": null,
   "source": [
    "hours_bad_data_available = bad.groupby('day_hour').count().query('start_ts > 10')['start_ts'].index\r\n",
    "\r\n",
    "hours_bad_data_available.values"
   ],
   "outputs": [],
   "metadata": {}
  },
  {
   "cell_type": "code",
   "execution_count": null,
   "source": [
    "p_value_array = []\r\n",
    "\r\n",
    "for hour in hours_bad_data_available:\r\n",
    "    p_value_array.append(\r\n",
    "        st.ttest_ind(\r\n",
    "            bad.query('day_hour == @hour')['duration_seconds'].values, \r\n",
    "            good.query('day_hour == @hour')['duration_seconds'].values, \r\n",
    "            equal_var=False\r\n",
    "        ).pvalue/2\r\n",
    "    )\r\n",
    "\r\n",
    "print('Running the Student\\'s test for the values of good weather and bad weather by hour.')\r\n",
    "pd.Series(index=hours_bad_data_available, data=p_value_array, name='p_values')"
   ],
   "outputs": [],
   "metadata": {}
  },
  {
   "cell_type": "code",
   "execution_count": null,
   "source": [
    "hour_array = [12, 13, 16]\r\n",
    "raise_in_mean = 0\r\n",
    "for hour in hour_array:\r\n",
    "    raise_in_mean += (\r\n",
    "        bad[ bad['day_hour'] == hour]['duration_seconds'].mean()\r\n",
    "        /\r\n",
    "        good[ good['day_hour'] == hour]['duration_seconds'].mean()\r\n",
    "    )\r\n",
    "\r\n",
    "raise_in_mean /= 3\r\n",
    "print(f\"The raise in trip durations due to bad weather is {raise_in_mean - 1:.2%}\")"
   ],
   "outputs": [],
   "metadata": {}
  },
  {
   "cell_type": "code",
   "execution_count": null,
   "source": [
    "result = st.ttest_ind(\r\n",
    "    good.query('day_hour.isin(@hours_bad_data_available)')['duration_seconds'].values,\r\n",
    "    bad.query('day_hour.isin(@hours_bad_data_available)')['duration_seconds'].values,\r\n",
    "    equal_var=False\r\n",
    ")\r\n",
    "\r\n",
    "print('Running the Student\\'s test for the values of good weather and bad weather through the whole day.')\r\n",
    "print(f'The resulting p-value is {result.pvalue/2:.2f}')\r\n",
    "if result.pvalue > alpha:\r\n",
    "    print('It is too high, so the null hypothesis can\\'t be rejected. The batches could come from the same populations')\r\n",
    "else:\r\n",
    "    print('It is too low, the null hypothesis is rejected. The batches probably come from different populations')"
   ],
   "outputs": [],
   "metadata": {
    "scrolled": true
   }
  },
  {
   "cell_type": "markdown",
   "source": [
    "### Results"
   ],
   "metadata": {}
  },
  {
   "cell_type": "markdown",
   "source": [
    "We have come to the conclusion that the average duration during good and bad weather conditions are not the same when they are analyzed hourly. More precisely, the biggest change is during the afternoon, where the duration raise by about 26% during bad weather when compared to good weather. This has been done by calculating how likely it is to obtain the measurements equal to the data gathered for bad weather if we were to consider only good weather. The probability calculated was 0%, which means there is enough evidence that they are not the same.\n",
    "\n",
    "It is important to note that if we were only to consider the means for each hour and group them to analyze, we could end up with the idea that there isn't much difference. However, this would be a mistake, as we would be reducing the size of our sample batch to the 24 hours of the day and computing the variance of samples over the averages, and not the variance over all samples."
   ],
   "metadata": {}
  },
  {
   "cell_type": "markdown",
   "source": [
    "## Conclusion"
   ],
   "metadata": {}
  },
  {
   "cell_type": "markdown",
   "source": [
    "The data provided was used to draw conclusions on the leading companies and most visited locations in Chicago by cab rides. We found out the ten dominant companies which hold up 74% of the amounts of trips, leaded by Flash Cab. This market intelligence can be useful for defining how the companies in this business should be tackled, as most of the rides are made by about 15% of the 64 companies.\n",
    "\n",
    "Furthermore, we could define the most visited locations in Chicago, and the O'Hare airport neighborhood is in fifth place. The other 4 locations have steep rising curve of average trips, leaded by Loop. Public projects could use this information to point out notable locations to work on.\n",
    "\n",
    "Lastly, we have statistically confirmed that bad weather has an effect on durations of rides to the  airport, although the effects are most prominent during the afternoon. The average ride duration is increased by about 26%, while these effects are much lower during the morning. It is important to note that only data from the saturdays of November 2017 was used, and no rides were done during bad weather in the mornings. This was probably due to consistent good weather."
   ],
   "metadata": {}
  }
 ],
 "metadata": {
  "ExecuteTimeLog": [
   {
    "duration": 347,
    "start_time": "2021-09-15T14:19:18.648Z"
   },
   {
    "duration": 1519,
    "start_time": "2021-09-15T14:19:40.530Z"
   },
   {
    "duration": 3,
    "start_time": "2021-09-15T14:19:42.050Z"
   },
   {
    "duration": 20,
    "start_time": "2021-09-15T14:19:42.055Z"
   },
   {
    "duration": 22,
    "start_time": "2021-09-15T14:19:42.077Z"
   },
   {
    "duration": 56,
    "start_time": "2021-09-15T14:19:42.101Z"
   },
   {
    "duration": 7,
    "start_time": "2021-09-15T14:19:42.159Z"
   },
   {
    "duration": 16,
    "start_time": "2021-09-15T14:19:42.168Z"
   },
   {
    "duration": 19,
    "start_time": "2021-09-15T14:19:42.186Z"
   },
   {
    "duration": 3,
    "start_time": "2021-09-15T14:19:42.209Z"
   },
   {
    "duration": 340,
    "start_time": "2021-09-15T14:19:42.214Z"
   },
   {
    "duration": 15,
    "start_time": "2021-09-15T14:19:42.555Z"
   },
   {
    "duration": 4,
    "start_time": "2021-09-15T14:19:42.571Z"
   },
   {
    "duration": 305,
    "start_time": "2021-09-15T14:19:42.576Z"
   },
   {
    "duration": 35,
    "start_time": "2021-09-15T14:19:42.882Z"
   },
   {
    "duration": 27,
    "start_time": "2021-09-15T14:19:42.919Z"
   },
   {
    "duration": 419,
    "start_time": "2021-09-15T14:19:42.948Z"
   },
   {
    "duration": 2,
    "start_time": "2021-09-15T14:19:43.369Z"
   },
   {
    "duration": 20,
    "start_time": "2021-09-15T14:19:43.373Z"
   },
   {
    "duration": 411,
    "start_time": "2021-09-15T14:19:43.395Z"
   },
   {
    "duration": 377,
    "start_time": "2021-09-15T14:19:43.431Z"
   },
   {
    "duration": 369,
    "start_time": "2021-09-15T14:19:43.440Z"
   },
   {
    "duration": 1641,
    "start_time": "2021-09-15T14:20:02.599Z"
   },
   {
    "duration": 3,
    "start_time": "2021-09-15T14:20:04.242Z"
   },
   {
    "duration": 21,
    "start_time": "2021-09-15T14:20:04.247Z"
   },
   {
    "duration": 22,
    "start_time": "2021-09-15T14:20:04.270Z"
   },
   {
    "duration": 48,
    "start_time": "2021-09-15T14:20:04.293Z"
   },
   {
    "duration": 6,
    "start_time": "2021-09-15T14:20:04.343Z"
   },
   {
    "duration": 10,
    "start_time": "2021-09-15T14:20:04.351Z"
   },
   {
    "duration": 31,
    "start_time": "2021-09-15T14:20:04.363Z"
   },
   {
    "duration": 3,
    "start_time": "2021-09-15T14:20:04.396Z"
   },
   {
    "duration": 402,
    "start_time": "2021-09-15T14:20:04.401Z"
   },
   {
    "duration": 15,
    "start_time": "2021-09-15T14:20:04.804Z"
   },
   {
    "duration": 3,
    "start_time": "2021-09-15T14:20:04.821Z"
   },
   {
    "duration": 311,
    "start_time": "2021-09-15T14:20:04.825Z"
   },
   {
    "duration": 27,
    "start_time": "2021-09-15T14:20:05.137Z"
   },
   {
    "duration": 48,
    "start_time": "2021-09-15T14:20:05.166Z"
   },
   {
    "duration": 316,
    "start_time": "2021-09-15T14:20:05.215Z"
   },
   {
    "duration": 3,
    "start_time": "2021-09-15T14:20:05.532Z"
   },
   {
    "duration": 12,
    "start_time": "2021-09-15T14:20:05.536Z"
   },
   {
    "duration": 61,
    "start_time": "2021-09-15T14:20:05.550Z"
   },
   {
    "duration": 20,
    "start_time": "2021-09-15T14:20:05.613Z"
   },
   {
    "duration": 15,
    "start_time": "2021-09-15T14:20:05.635Z"
   },
   {
    "duration": 1482,
    "start_time": "2021-09-15T14:20:29.983Z"
   },
   {
    "duration": 3,
    "start_time": "2021-09-15T14:20:31.467Z"
   },
   {
    "duration": 28,
    "start_time": "2021-09-15T14:20:31.472Z"
   },
   {
    "duration": 22,
    "start_time": "2021-09-15T14:20:31.501Z"
   },
   {
    "duration": 63,
    "start_time": "2021-09-15T14:20:31.524Z"
   },
   {
    "duration": 5,
    "start_time": "2021-09-15T14:20:31.589Z"
   },
   {
    "duration": 12,
    "start_time": "2021-09-15T14:20:31.596Z"
   },
   {
    "duration": 17,
    "start_time": "2021-09-15T14:20:31.610Z"
   },
   {
    "duration": 8,
    "start_time": "2021-09-15T14:20:31.628Z"
   },
   {
    "duration": 345,
    "start_time": "2021-09-15T14:20:31.637Z"
   },
   {
    "duration": 20,
    "start_time": "2021-09-15T14:20:31.984Z"
   },
   {
    "duration": 9,
    "start_time": "2021-09-15T14:20:32.006Z"
   },
   {
    "duration": 301,
    "start_time": "2021-09-15T14:20:32.016Z"
   },
   {
    "duration": 30,
    "start_time": "2021-09-15T14:20:32.318Z"
   },
   {
    "duration": 47,
    "start_time": "2021-09-15T14:20:32.349Z"
   },
   {
    "duration": 307,
    "start_time": "2021-09-15T14:20:32.398Z"
   },
   {
    "duration": 2,
    "start_time": "2021-09-15T14:20:32.707Z"
   },
   {
    "duration": 12,
    "start_time": "2021-09-15T14:20:32.710Z"
   },
   {
    "duration": 36,
    "start_time": "2021-09-15T14:20:32.723Z"
   },
   {
    "duration": 9,
    "start_time": "2021-09-15T14:20:32.760Z"
   },
   {
    "duration": 14,
    "start_time": "2021-09-15T14:20:32.791Z"
   },
   {
    "duration": 1404,
    "start_time": "2021-09-15T14:21:56.932Z"
   },
   {
    "duration": 3,
    "start_time": "2021-09-15T14:21:58.338Z"
   },
   {
    "duration": 21,
    "start_time": "2021-09-15T14:21:58.343Z"
   },
   {
    "duration": 21,
    "start_time": "2021-09-15T14:21:58.366Z"
   },
   {
    "duration": 49,
    "start_time": "2021-09-15T14:21:58.389Z"
   },
   {
    "duration": 6,
    "start_time": "2021-09-15T14:21:58.439Z"
   },
   {
    "duration": 10,
    "start_time": "2021-09-15T14:21:58.446Z"
   },
   {
    "duration": 15,
    "start_time": "2021-09-15T14:21:58.459Z"
   },
   {
    "duration": 3,
    "start_time": "2021-09-15T14:21:58.476Z"
   },
   {
    "duration": 331,
    "start_time": "2021-09-15T14:21:58.480Z"
   },
   {
    "duration": 16,
    "start_time": "2021-09-15T14:21:58.812Z"
   },
   {
    "duration": 4,
    "start_time": "2021-09-15T14:21:58.829Z"
   },
   {
    "duration": 312,
    "start_time": "2021-09-15T14:21:58.834Z"
   },
   {
    "duration": 29,
    "start_time": "2021-09-15T14:21:59.148Z"
   },
   {
    "duration": 39,
    "start_time": "2021-09-15T14:21:59.179Z"
   },
   {
    "duration": 317,
    "start_time": "2021-09-15T14:21:59.220Z"
   },
   {
    "duration": 3,
    "start_time": "2021-09-15T14:21:59.539Z"
   },
   {
    "duration": 13,
    "start_time": "2021-09-15T14:21:59.544Z"
   },
   {
    "duration": 54,
    "start_time": "2021-09-15T14:21:59.558Z"
   },
   {
    "duration": 11,
    "start_time": "2021-09-15T14:21:59.614Z"
   },
   {
    "duration": 14,
    "start_time": "2021-09-15T14:21:59.627Z"
   },
   {
    "duration": 1604,
    "start_time": "2021-09-15T14:23:44.419Z"
   },
   {
    "duration": 4,
    "start_time": "2021-09-15T14:23:46.025Z"
   },
   {
    "duration": 23,
    "start_time": "2021-09-15T14:23:46.031Z"
   },
   {
    "duration": 22,
    "start_time": "2021-09-15T14:23:46.056Z"
   },
   {
    "duration": 50,
    "start_time": "2021-09-15T14:23:46.079Z"
   },
   {
    "duration": 6,
    "start_time": "2021-09-15T14:23:46.130Z"
   },
   {
    "duration": 12,
    "start_time": "2021-09-15T14:23:46.138Z"
   },
   {
    "duration": 20,
    "start_time": "2021-09-15T14:23:46.152Z"
   },
   {
    "duration": 3,
    "start_time": "2021-09-15T14:23:46.174Z"
   },
   {
    "duration": 331,
    "start_time": "2021-09-15T14:23:46.179Z"
   },
   {
    "duration": 16,
    "start_time": "2021-09-15T14:23:46.511Z"
   },
   {
    "duration": 3,
    "start_time": "2021-09-15T14:23:46.529Z"
   },
   {
    "duration": 306,
    "start_time": "2021-09-15T14:23:46.534Z"
   },
   {
    "duration": 31,
    "start_time": "2021-09-15T14:23:46.842Z"
   }
  ],
  "interpreter": {
   "hash": "ac58549e391d20381b1a26588b215b2d55fa392d44f90ad4f3113cc049903f1d"
  },
  "kernelspec": {
   "name": "python3",
   "display_name": "Python 3.7.10 64-bit ('praktikum': conda)"
  },
  "language_info": {
   "codemirror_mode": {
    "name": "ipython",
    "version": 3
   },
   "file_extension": ".py",
   "mimetype": "text/x-python",
   "name": "python",
   "nbconvert_exporter": "python",
   "pygments_lexer": "ipython3",
   "version": "3.7.10"
  },
  "toc": {
   "base_numbering": 1,
   "nav_menu": {},
   "number_sections": true,
   "sideBar": true,
   "skip_h1_title": true,
   "title_cell": "Table of Contents",
   "title_sidebar": "Contents",
   "toc_cell": false,
   "toc_position": {},
   "toc_section_display": true,
   "toc_window_display": false
  }
 },
 "nbformat": 4,
 "nbformat_minor": 2
}