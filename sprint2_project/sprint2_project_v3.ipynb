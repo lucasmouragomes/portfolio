{
 "cells": [
  {
   "cell_type": "markdown",
   "source": [
    "# Analyzing risk of defaulting on bank loans\r\n",
    "\r\n",
    "This project is meant to help a bank's loan division on evaluating a borrower's score using statistics of customers. The data of more than 20,000 clients was used as reference and they were analyzed with regards to age, monthly income, marital status, income type and purpose for asking a loan. The customer's score may be used as a trustworthiness index to repay a loan. It may help to define the client's eligibility for a loan, total credit available or interest rates for their loans.\r\n",
    "\r\n",
    "The present report contains the following sections:\r\n",
    "\r\n",
    "- Checking data, to learn about it and find inconsistent information\r\n",
    "- Preprocessing, to make up for errors found\r\n",
    "- Dictionaries, to standardize IDs and create reference tables\r\n",
    "- Categorization, to better visualize the data\r\n",
    "- Re-checking data, after fixing issues to verify it is correct\r\n",
    "- Analysis, making using of pivot tables to answer questions\r\n",
    "- Conclusion, summing up the results gathered\r\n"
   ],
   "metadata": {}
  },
  {
   "cell_type": "markdown",
   "source": [
    "\n",
    "## Checking the data\n",
    "\n",
    "### Introduction\n",
    "\n",
    "The first step is to look into the data to better understand what information is available to gather results and reach our problem question: **is there any relation between a customer's profile characteristics and their risk of defaulting on a loan?**\n",
    "\n",
    "The data available is very likely to be missing information; to have artifacts or duplicates; or to have inconsistent categorical variables. After reading through it, we will list what must be done to fix these issues and prepare for the next section.\n",
    "\n",
    "Below is a reference for what details are available for each:\n",
    "\n",
    "- children: the number of children in the family\n",
    "- days_employed: how long the customer has been working\n",
    "- dob_years: the customer’s age\n",
    "- education: the customer’s education level\n",
    "- education_id: identifier for the customer’s education\n",
    "- family_status: the customer’s marital status\n",
    "- family_status_id: identifier for the customer’s marital status\n",
    "- gender: the customer’s gender\n",
    "- income_type: the customer’s income type\n",
    "- debt: whether the customer has ever defaulted on a loan\n",
    "- total_income: monthly income\n",
    "- purpose: reason for taking out a loan\n",
    "\n",
    "### Data info"
   ],
   "metadata": {}
  },
  {
   "cell_type": "code",
   "execution_count": 1,
   "source": [
    "import pandas as pd \r\n",
    "\r\n",
    "try:\r\n",
    "    df = pd.read_csv('./datasets/credit_scoring_eng.csv')\r\n",
    "except:\r\n",
    "    df = pd.read_csv('credit_scoring_eng.csv')\r\n",
    "    \r\n",
    "df.info()\r\n",
    "df.head(10)"
   ],
   "outputs": [
    {
     "output_type": "stream",
     "name": "stdout",
     "text": [
      "<class 'pandas.core.frame.DataFrame'>\n",
      "RangeIndex: 21525 entries, 0 to 21524\n",
      "Data columns (total 12 columns):\n",
      " #   Column            Non-Null Count  Dtype  \n",
      "---  ------            --------------  -----  \n",
      " 0   children          21525 non-null  int64  \n",
      " 1   days_employed     19351 non-null  float64\n",
      " 2   dob_years         21525 non-null  int64  \n",
      " 3   education         21525 non-null  object \n",
      " 4   education_id      21525 non-null  int64  \n",
      " 5   family_status     21525 non-null  object \n",
      " 6   family_status_id  21525 non-null  int64  \n",
      " 7   gender            21525 non-null  object \n",
      " 8   income_type       21525 non-null  object \n",
      " 9   debt              21525 non-null  int64  \n",
      " 10  total_income      19351 non-null  float64\n",
      " 11  purpose           21525 non-null  object \n",
      "dtypes: float64(2), int64(5), object(5)\n",
      "memory usage: 2.0+ MB\n"
     ]
    },
    {
     "output_type": "execute_result",
     "data": {
      "text/plain": [
       "   children  days_employed  dob_years            education  education_id  \\\n",
       "0         1   -8437.673028         42    bachelor's degree             0   \n",
       "1         1   -4024.803754         36  secondary education             1   \n",
       "2         0   -5623.422610         33  Secondary Education             1   \n",
       "3         3   -4124.747207         32  secondary education             1   \n",
       "4         0  340266.072047         53  secondary education             1   \n",
       "5         0    -926.185831         27    bachelor's degree             0   \n",
       "6         0   -2879.202052         43    bachelor's degree             0   \n",
       "7         0    -152.779569         50  SECONDARY EDUCATION             1   \n",
       "8         2   -6929.865299         35    BACHELOR'S DEGREE             0   \n",
       "9         0   -2188.756445         41  secondary education             1   \n",
       "\n",
       "       family_status  family_status_id gender income_type  debt  total_income  \\\n",
       "0            married                 0      F    employee     0     40620.102   \n",
       "1            married                 0      F    employee     0     17932.802   \n",
       "2            married                 0      M    employee     0     23341.752   \n",
       "3            married                 0      M    employee     0     42820.568   \n",
       "4  civil partnership                 1      F     retiree     0     25378.572   \n",
       "5  civil partnership                 1      M    business     0     40922.170   \n",
       "6            married                 0      F    business     0     38484.156   \n",
       "7            married                 0      M    employee     0     21731.829   \n",
       "8  civil partnership                 1      F    employee     0     15337.093   \n",
       "9            married                 0      M    employee     0     23108.150   \n",
       "\n",
       "                               purpose  \n",
       "0                purchase of the house  \n",
       "1                         car purchase  \n",
       "2                purchase of the house  \n",
       "3              supplementary education  \n",
       "4                    to have a wedding  \n",
       "5                purchase of the house  \n",
       "6                 housing transactions  \n",
       "7                            education  \n",
       "8                     having a wedding  \n",
       "9  purchase of the house for my family  "
      ],
      "text/html": [
       "<div>\n",
       "<style scoped>\n",
       "    .dataframe tbody tr th:only-of-type {\n",
       "        vertical-align: middle;\n",
       "    }\n",
       "\n",
       "    .dataframe tbody tr th {\n",
       "        vertical-align: top;\n",
       "    }\n",
       "\n",
       "    .dataframe thead th {\n",
       "        text-align: right;\n",
       "    }\n",
       "</style>\n",
       "<table border=\"1\" class=\"dataframe\">\n",
       "  <thead>\n",
       "    <tr style=\"text-align: right;\">\n",
       "      <th></th>\n",
       "      <th>children</th>\n",
       "      <th>days_employed</th>\n",
       "      <th>dob_years</th>\n",
       "      <th>education</th>\n",
       "      <th>education_id</th>\n",
       "      <th>family_status</th>\n",
       "      <th>family_status_id</th>\n",
       "      <th>gender</th>\n",
       "      <th>income_type</th>\n",
       "      <th>debt</th>\n",
       "      <th>total_income</th>\n",
       "      <th>purpose</th>\n",
       "    </tr>\n",
       "  </thead>\n",
       "  <tbody>\n",
       "    <tr>\n",
       "      <th>0</th>\n",
       "      <td>1</td>\n",
       "      <td>-8437.673028</td>\n",
       "      <td>42</td>\n",
       "      <td>bachelor's degree</td>\n",
       "      <td>0</td>\n",
       "      <td>married</td>\n",
       "      <td>0</td>\n",
       "      <td>F</td>\n",
       "      <td>employee</td>\n",
       "      <td>0</td>\n",
       "      <td>40620.102</td>\n",
       "      <td>purchase of the house</td>\n",
       "    </tr>\n",
       "    <tr>\n",
       "      <th>1</th>\n",
       "      <td>1</td>\n",
       "      <td>-4024.803754</td>\n",
       "      <td>36</td>\n",
       "      <td>secondary education</td>\n",
       "      <td>1</td>\n",
       "      <td>married</td>\n",
       "      <td>0</td>\n",
       "      <td>F</td>\n",
       "      <td>employee</td>\n",
       "      <td>0</td>\n",
       "      <td>17932.802</td>\n",
       "      <td>car purchase</td>\n",
       "    </tr>\n",
       "    <tr>\n",
       "      <th>2</th>\n",
       "      <td>0</td>\n",
       "      <td>-5623.422610</td>\n",
       "      <td>33</td>\n",
       "      <td>Secondary Education</td>\n",
       "      <td>1</td>\n",
       "      <td>married</td>\n",
       "      <td>0</td>\n",
       "      <td>M</td>\n",
       "      <td>employee</td>\n",
       "      <td>0</td>\n",
       "      <td>23341.752</td>\n",
       "      <td>purchase of the house</td>\n",
       "    </tr>\n",
       "    <tr>\n",
       "      <th>3</th>\n",
       "      <td>3</td>\n",
       "      <td>-4124.747207</td>\n",
       "      <td>32</td>\n",
       "      <td>secondary education</td>\n",
       "      <td>1</td>\n",
       "      <td>married</td>\n",
       "      <td>0</td>\n",
       "      <td>M</td>\n",
       "      <td>employee</td>\n",
       "      <td>0</td>\n",
       "      <td>42820.568</td>\n",
       "      <td>supplementary education</td>\n",
       "    </tr>\n",
       "    <tr>\n",
       "      <th>4</th>\n",
       "      <td>0</td>\n",
       "      <td>340266.072047</td>\n",
       "      <td>53</td>\n",
       "      <td>secondary education</td>\n",
       "      <td>1</td>\n",
       "      <td>civil partnership</td>\n",
       "      <td>1</td>\n",
       "      <td>F</td>\n",
       "      <td>retiree</td>\n",
       "      <td>0</td>\n",
       "      <td>25378.572</td>\n",
       "      <td>to have a wedding</td>\n",
       "    </tr>\n",
       "    <tr>\n",
       "      <th>5</th>\n",
       "      <td>0</td>\n",
       "      <td>-926.185831</td>\n",
       "      <td>27</td>\n",
       "      <td>bachelor's degree</td>\n",
       "      <td>0</td>\n",
       "      <td>civil partnership</td>\n",
       "      <td>1</td>\n",
       "      <td>M</td>\n",
       "      <td>business</td>\n",
       "      <td>0</td>\n",
       "      <td>40922.170</td>\n",
       "      <td>purchase of the house</td>\n",
       "    </tr>\n",
       "    <tr>\n",
       "      <th>6</th>\n",
       "      <td>0</td>\n",
       "      <td>-2879.202052</td>\n",
       "      <td>43</td>\n",
       "      <td>bachelor's degree</td>\n",
       "      <td>0</td>\n",
       "      <td>married</td>\n",
       "      <td>0</td>\n",
       "      <td>F</td>\n",
       "      <td>business</td>\n",
       "      <td>0</td>\n",
       "      <td>38484.156</td>\n",
       "      <td>housing transactions</td>\n",
       "    </tr>\n",
       "    <tr>\n",
       "      <th>7</th>\n",
       "      <td>0</td>\n",
       "      <td>-152.779569</td>\n",
       "      <td>50</td>\n",
       "      <td>SECONDARY EDUCATION</td>\n",
       "      <td>1</td>\n",
       "      <td>married</td>\n",
       "      <td>0</td>\n",
       "      <td>M</td>\n",
       "      <td>employee</td>\n",
       "      <td>0</td>\n",
       "      <td>21731.829</td>\n",
       "      <td>education</td>\n",
       "    </tr>\n",
       "    <tr>\n",
       "      <th>8</th>\n",
       "      <td>2</td>\n",
       "      <td>-6929.865299</td>\n",
       "      <td>35</td>\n",
       "      <td>BACHELOR'S DEGREE</td>\n",
       "      <td>0</td>\n",
       "      <td>civil partnership</td>\n",
       "      <td>1</td>\n",
       "      <td>F</td>\n",
       "      <td>employee</td>\n",
       "      <td>0</td>\n",
       "      <td>15337.093</td>\n",
       "      <td>having a wedding</td>\n",
       "    </tr>\n",
       "    <tr>\n",
       "      <th>9</th>\n",
       "      <td>0</td>\n",
       "      <td>-2188.756445</td>\n",
       "      <td>41</td>\n",
       "      <td>secondary education</td>\n",
       "      <td>1</td>\n",
       "      <td>married</td>\n",
       "      <td>0</td>\n",
       "      <td>M</td>\n",
       "      <td>employee</td>\n",
       "      <td>0</td>\n",
       "      <td>23108.150</td>\n",
       "      <td>purchase of the house for my family</td>\n",
       "    </tr>\n",
       "  </tbody>\n",
       "</table>\n",
       "</div>"
      ]
     },
     "metadata": {},
     "execution_count": 1
    }
   ],
   "metadata": {
    "scrolled": false
   }
  },
  {
   "cell_type": "markdown",
   "source": [
    "Let's check the percentage of missing values for each column:"
   ],
   "metadata": {}
  },
  {
   "cell_type": "code",
   "execution_count": 2,
   "source": [
    "df.isnull().sum()/df.count()"
   ],
   "outputs": [
    {
     "output_type": "execute_result",
     "data": {
      "text/plain": [
       "children            0.000000\n",
       "days_employed       0.112346\n",
       "dob_years           0.000000\n",
       "education           0.000000\n",
       "education_id        0.000000\n",
       "family_status       0.000000\n",
       "family_status_id    0.000000\n",
       "gender              0.000000\n",
       "income_type         0.000000\n",
       "debt                0.000000\n",
       "total_income        0.112346\n",
       "purpose             0.000000\n",
       "dtype: float64"
      ]
     },
     "metadata": {},
     "execution_count": 2
    }
   ],
   "metadata": {}
  },
  {
   "cell_type": "code",
   "execution_count": 3,
   "source": [
    "print(f\"The unique values for number of children are {df['children'].unique()}\")\r\n",
    "print()\r\n",
    "print('Here is a short description of the days employed column:')\r\n",
    "print(f\"{df['days_employed'].describe()}\")\r\n",
    "print()\r\n",
    "print(f\"And here is a description of the age of customers \\n {df['dob_years'].describe()}\")\r\n",
    "print()\r\n",
    "print(f\"Unique values in 'education': \\n {df['education'].unique()}\")\r\n",
    "print()\r\n",
    "print(f\"Unique values in 'family_status': {df['family_status'].unique()}\")\r\n",
    "print()\r\n",
    "print(f\"Unique values in 'income_type': {df['income_type'].unique()}\")\r\n",
    "print()\r\n",
    "print(f\"Unique values in 'debt': {df['debt'].unique()}\")\r\n",
    "print()\r\n",
    "print(f\"Number of duplicates: {df.duplicated().sum()}\")\r\n",
    "print(f\"A few duplicated rows: \\n {df[df.duplicated()].head(3)}\")\r\n",
    "print()\r\n",
    "print(f\"Artifacts in gender: {df[~df['gender'].isin(['F', 'M', 'X'])]['gender'].unique()}\")\r\n",
    "print()\r\n",
    "print(f\"Artifacts in 'total_income': {df[df['total_income'] <= 0]['total_income'].value_counts().head()}\")"
   ],
   "outputs": [
    {
     "output_type": "stream",
     "name": "stdout",
     "text": [
      "The unique values for number of children are [ 1  0  3  2 -1  4 20  5]\n",
      "\n",
      "Here is a short description of the days employed column:\n",
      "count     19351.000000\n",
      "mean      63046.497661\n",
      "std      140827.311974\n",
      "min      -18388.949901\n",
      "25%       -2747.423625\n",
      "50%       -1203.369529\n",
      "75%        -291.095954\n",
      "max      401755.400475\n",
      "Name: days_employed, dtype: float64\n",
      "\n",
      "And here is a description of the age of customers \n",
      " count    21525.000000\n",
      "mean        43.293380\n",
      "std         12.574584\n",
      "min          0.000000\n",
      "25%         33.000000\n",
      "50%         42.000000\n",
      "75%         53.000000\n",
      "max         75.000000\n",
      "Name: dob_years, dtype: float64\n",
      "\n",
      "Unique values in 'education': \n",
      " [\"bachelor's degree\" 'secondary education' 'Secondary Education'\n",
      " 'SECONDARY EDUCATION' \"BACHELOR'S DEGREE\" 'some college'\n",
      " 'primary education' \"Bachelor's Degree\" 'SOME COLLEGE' 'Some College'\n",
      " 'PRIMARY EDUCATION' 'Primary Education' 'Graduate Degree'\n",
      " 'GRADUATE DEGREE' 'graduate degree']\n",
      "\n",
      "Unique values in 'family_status': ['married' 'civil partnership' 'widow / widower' 'divorced' 'unmarried']\n",
      "\n",
      "Unique values in 'income_type': ['employee' 'retiree' 'business' 'civil servant' 'unemployed'\n",
      " 'entrepreneur' 'student' 'paternity / maternity leave']\n",
      "\n",
      "Unique values in 'debt': [0 1]\n",
      "\n",
      "Number of duplicates: 54\n",
      "A few duplicated rows: \n",
      "       children  days_employed  dob_years            education  education_id  \\\n",
      "2849         0            NaN         41  secondary education             1   \n",
      "4182         1            NaN         34    BACHELOR'S DEGREE             0   \n",
      "4851         0            NaN         60  secondary education             1   \n",
      "\n",
      "          family_status  family_status_id gender income_type  debt  \\\n",
      "2849            married                 0      F    employee     0   \n",
      "4182  civil partnership                 1      F    employee     0   \n",
      "4851  civil partnership                 1      F     retiree     0   \n",
      "\n",
      "      total_income                              purpose  \n",
      "2849           NaN  purchase of the house for my family  \n",
      "4182           NaN                     wedding ceremony  \n",
      "4851           NaN                     wedding ceremony  \n",
      "\n",
      "Artifacts in gender: ['XNA']\n",
      "\n",
      "Artifacts in 'total_income': Series([], Name: total_income, dtype: int64)\n"
     ]
    }
   ],
   "metadata": {}
  },
  {
   "cell_type": "markdown",
   "source": [
    "### Conclusion\n",
    "\n",
    "After using the <code>.describe()</code> and <code>.unique()</code> methods for each column of the data, we could find out problems with the data. Fixing these will be our first step before we can analyze the information and get to the end results.\n",
    "\n",
    "We have a list of things to be dealt with:\n",
    "- There are missing values in 'days_employed' and 'total_income'\n",
    "- 'days_employed' and 'total_income' could be int type\n",
    "- 'children' has artifacts\n",
    "- 'days_employed' has negative values and positive data has artifacts (values are too high)\n",
    "- 'dob_years' has age 0 entries\n",
    "- 'education' entries need to be standardized\n",
    "- 'education_id' should use a dictionary\n",
    "- 'family_id' should use a dictionary\n",
    "- 'income_type' could use a dictionary and has artifacts ('entrepreneur')\n",
    "- 'purpose' needs stemming\n",
    "- a few rows with missing values are duplicated"
   ],
   "metadata": {}
  },
  {
   "cell_type": "markdown",
   "source": [
    "\n",
    "## Data preprocessing\n",
    "\n",
    "### Introduction\n",
    "\n",
    "In this section, we will start to fix the issues pointed out in section 1 to prepare data for analysis. We will start with missing values. Here are some options available to deal with the missing data:\n",
    " 1. If the missing data comprises a small percentage (5~10%) of the data, deleting it can be an option. \n",
    " 2. If it is possible to find a reason why this data came in a wrong format, it might be restored to its correct value\n",
    " 3. If the data is not the main variable of interest, the missing values can be filled and still be useful for the anaylis."
   ],
   "metadata": {}
  },
  {
   "cell_type": "markdown",
   "source": [
    "### Processing missing values\n",
    "\n",
    "Missing values were found in 'days_employed' and 'total_income'. These are numerical values, they represent a quantitative data. This type of data can generally be replaced by their mean or median if they are not the main variable of analysis. We can identify the percentage of missing data, how this missing data affects the main variable of interest and then correctly fill it."
   ],
   "metadata": {}
  },
  {
   "cell_type": "code",
   "execution_count": 4,
   "source": [
    "df[df['days_employed'].isnull()].isnull().sum()"
   ],
   "outputs": [
    {
     "output_type": "execute_result",
     "data": {
      "text/plain": [
       "children               0\n",
       "days_employed       2174\n",
       "dob_years              0\n",
       "education              0\n",
       "education_id           0\n",
       "family_status          0\n",
       "family_status_id       0\n",
       "gender                 0\n",
       "income_type            0\n",
       "debt                   0\n",
       "total_income        2174\n",
       "purpose                0\n",
       "dtype: int64"
      ]
     },
     "metadata": {},
     "execution_count": 4
    }
   ],
   "metadata": {}
  },
  {
   "cell_type": "code",
   "execution_count": 5,
   "source": [
    "df[df['income_type'].isin(['unemployed', 'student'])]"
   ],
   "outputs": [
    {
     "output_type": "execute_result",
     "data": {
      "text/plain": [
       "       children  days_employed  dob_years            education  education_id  \\\n",
       "3133          1  337524.466835         31  secondary education             1   \n",
       "9410          0    -578.751554         22    bachelor's degree             0   \n",
       "14798         0  395302.838654         45    Bachelor's Degree             0   \n",
       "\n",
       "           family_status  family_status_id gender income_type  debt  \\\n",
       "3133             married                 0      M  unemployed     1   \n",
       "9410           unmarried                 4      M     student     0   \n",
       "14798  civil partnership                 1      F  unemployed     0   \n",
       "\n",
       "       total_income                          purpose  \n",
       "3133       9593.119  buying property for renting out  \n",
       "9410      15712.260     construction of own property  \n",
       "14798     32435.602               housing renovation  "
      ],
      "text/html": [
       "<div>\n",
       "<style scoped>\n",
       "    .dataframe tbody tr th:only-of-type {\n",
       "        vertical-align: middle;\n",
       "    }\n",
       "\n",
       "    .dataframe tbody tr th {\n",
       "        vertical-align: top;\n",
       "    }\n",
       "\n",
       "    .dataframe thead th {\n",
       "        text-align: right;\n",
       "    }\n",
       "</style>\n",
       "<table border=\"1\" class=\"dataframe\">\n",
       "  <thead>\n",
       "    <tr style=\"text-align: right;\">\n",
       "      <th></th>\n",
       "      <th>children</th>\n",
       "      <th>days_employed</th>\n",
       "      <th>dob_years</th>\n",
       "      <th>education</th>\n",
       "      <th>education_id</th>\n",
       "      <th>family_status</th>\n",
       "      <th>family_status_id</th>\n",
       "      <th>gender</th>\n",
       "      <th>income_type</th>\n",
       "      <th>debt</th>\n",
       "      <th>total_income</th>\n",
       "      <th>purpose</th>\n",
       "    </tr>\n",
       "  </thead>\n",
       "  <tbody>\n",
       "    <tr>\n",
       "      <th>3133</th>\n",
       "      <td>1</td>\n",
       "      <td>337524.466835</td>\n",
       "      <td>31</td>\n",
       "      <td>secondary education</td>\n",
       "      <td>1</td>\n",
       "      <td>married</td>\n",
       "      <td>0</td>\n",
       "      <td>M</td>\n",
       "      <td>unemployed</td>\n",
       "      <td>1</td>\n",
       "      <td>9593.119</td>\n",
       "      <td>buying property for renting out</td>\n",
       "    </tr>\n",
       "    <tr>\n",
       "      <th>9410</th>\n",
       "      <td>0</td>\n",
       "      <td>-578.751554</td>\n",
       "      <td>22</td>\n",
       "      <td>bachelor's degree</td>\n",
       "      <td>0</td>\n",
       "      <td>unmarried</td>\n",
       "      <td>4</td>\n",
       "      <td>M</td>\n",
       "      <td>student</td>\n",
       "      <td>0</td>\n",
       "      <td>15712.260</td>\n",
       "      <td>construction of own property</td>\n",
       "    </tr>\n",
       "    <tr>\n",
       "      <th>14798</th>\n",
       "      <td>0</td>\n",
       "      <td>395302.838654</td>\n",
       "      <td>45</td>\n",
       "      <td>Bachelor's Degree</td>\n",
       "      <td>0</td>\n",
       "      <td>civil partnership</td>\n",
       "      <td>1</td>\n",
       "      <td>F</td>\n",
       "      <td>unemployed</td>\n",
       "      <td>0</td>\n",
       "      <td>32435.602</td>\n",
       "      <td>housing renovation</td>\n",
       "    </tr>\n",
       "  </tbody>\n",
       "</table>\n",
       "</div>"
      ]
     },
     "metadata": {},
     "execution_count": 5
    }
   ],
   "metadata": {}
  },
  {
   "cell_type": "code",
   "execution_count": 6,
   "source": [
    "df.loc[df['income_type'] == 'unemployed', 'days_employed'] = 0"
   ],
   "outputs": [],
   "metadata": {}
  },
  {
   "cell_type": "code",
   "execution_count": 7,
   "source": [
    "miss = df[df['days_employed'].isnull()]\n",
    "print(f\"The percentage of customers with debts in missing data is {miss[miss['debt'] == 1]['debt'].count()/miss.shape[0]:.2%}\")\n",
    "print(f\"The percentage of customers with debts in whole data is {df[df['debt'] == 1]['debt'].count()/df.shape[0]:.2%}\")"
   ],
   "outputs": [
    {
     "output_type": "stream",
     "name": "stdout",
     "text": [
      "The percentage of customers with debts in missing data is 7.82%\n",
      "The percentage of customers with debts in whole data is 8.09%\n"
     ]
    }
   ],
   "metadata": {}
  },
  {
   "cell_type": "markdown",
   "source": [
    "To fill missing values with the mean or media, the data for days employed must first be fixed. It has data as negative numbers and absurdly high numbers, which will affect these values for the column."
   ],
   "metadata": {}
  },
  {
   "cell_type": "code",
   "execution_count": 8,
   "source": [
    "print(f\"Percentage of negative days employed is {df[df['days_employed'] < 0]['days_employed'].count()/df.shape[0]:.2%}\")"
   ],
   "outputs": [
    {
     "output_type": "stream",
     "name": "stdout",
     "text": [
      "Percentage of negative days employed is 73.90%\n"
     ]
    }
   ],
   "metadata": {
    "scrolled": true
   }
  },
  {
   "cell_type": "code",
   "execution_count": 9,
   "source": [
    "positive_days = df[df['days_employed'] > 0]\n",
    "print(positive_days[positive_days['days_employed'] < 300000]['days_employed'])\n",
    "print(f\"Percentage of artifacts as positive days is {df[df['days_employed'] > 300000]['days_employed'].count()/df.shape[0]:.2%}\")"
   ],
   "outputs": [
    {
     "output_type": "stream",
     "name": "stdout",
     "text": [
      "Series([], Name: days_employed, dtype: float64)\n",
      "Percentage of artifacts as positive days is 16.00%\n"
     ]
    }
   ],
   "metadata": {}
  },
  {
   "cell_type": "code",
   "execution_count": 10,
   "source": [
    "df.loc[df['days_employed'] > 0, 'days_employed'] = None\n",
    "df['days_employed'] = df['days_employed'].abs()"
   ],
   "outputs": [],
   "metadata": {}
  },
  {
   "cell_type": "code",
   "execution_count": 11,
   "source": [
    "\r\n",
    "days_employed_mean = df['days_employed'].mean()\r\n",
    "days_employed_median = df['days_employed'].median()\r\n",
    "income_mean = df['total_income'].mean()\r\n",
    "income_median = df['total_income'].median()\r\n",
    "\r\n",
    "print(f'The mean of days employed is {days_employed_mean:.1f}')\r\n",
    "print(f'The median of days employed is {days_employed_median:.1f}')\r\n",
    "print(f'The mean of total income is {income_mean:.1f}')\r\n",
    "print(f'The median of total income is {income_median:.1f}')"
   ],
   "outputs": [
    {
     "output_type": "stream",
     "name": "stdout",
     "text": [
      "The mean of days employed is 2352.7\n",
      "The median of days employed is 1629.9\n",
      "The mean of total income is 26787.6\n",
      "The median of total income is 23202.9\n"
     ]
    }
   ],
   "metadata": {}
  },
  {
   "cell_type": "code",
   "execution_count": 12,
   "source": [
    "df['days_employed'] = df['days_employed']\r\n",
    "df['total_income'] = df['total_income']\r\n",
    "df['days_employed'].fillna(days_employed_median, inplace=True)\r\n",
    "df['total_income'].fillna(income_mean, inplace=True)\r\n",
    "\r\n",
    "print(f\"New mean of days employed is {df['days_employed'].mean():.1f}\")"
   ],
   "outputs": [
    {
     "output_type": "stream",
     "name": "stdout",
     "text": [
      "New mean of days employed is 2164.1\n"
     ]
    }
   ],
   "metadata": {}
  },
  {
   "cell_type": "markdown",
   "source": [
    "### Conclusion of missing values\n",
    "\n",
    "- Some rows were missing days employed and monthly income altogether\n",
    "- 10% of the data has missing values for these columns\n",
    "- 73% of the data had negative values for 'days_employed', so they must be the negative of real data\n",
    "- 16% of the data had absurdly high values for 'days_employed', it doesn't seem random but I couldn't identify what caused it\n",
    "- The percentage of customers who have defaulted is the same in missing data and globally\n",
    "- Missing data will be filled with median and mean values, depending on outliers\n",
    "- Artifacts in 'days_employed' have been taken care of before filling\n",
    "    - For 'income_type' unemployed, the values were turned to zero\n",
    "- 'days_employed' has significant outliers, so missing values will be filled with median: 1630\n",
    "- 'total_income' doesn't have significant outliers, so missing values will be filled with mean: 26788\n"
   ],
   "metadata": {}
  },
  {
   "cell_type": "markdown",
   "source": [
    "###  Data type replacement\n",
    "\n",
    "In this section, data types 'float64' will be changed to 'int64' for better visualization. The data used for customer analysis doesn't need to get as detailed as decimal places. Artifacts, which are incorrect values mixed with correct data, will also get analyzed and correctly replaced or deleted, according to the reason why it was created and percentage of ocurrence in the data.\n",
    "\n",
    "To turn float numbers into int, they will be first rounded and then converted using the <code>.round().astype()</code> methods."
   ],
   "metadata": {}
  },
  {
   "cell_type": "code",
   "execution_count": 13,
   "source": [
    "df['days_employed'] = df['days_employed'].round().astype('int64')\n",
    "print(f\"'days_employed' dtype is {df['days_employed'].dtype}\")\n",
    "\n",
    "df['total_income'] = df['total_income'].round().astype('int64')\n",
    "df['total_income'].dtype\n",
    "print(f\"'total_income' dtype is {df['total_income'].dtype}\")\n"
   ],
   "outputs": [
    {
     "output_type": "stream",
     "name": "stdout",
     "text": [
      "'days_employed' dtype is int64\n",
      "'total_income' dtype is int64\n"
     ]
    }
   ],
   "metadata": {
    "scrolled": true
   }
  },
  {
   "cell_type": "markdown",
   "source": [
    "### Correction of artifacts\n",
    "\n",
    "Artifacts must be analyzed individually and then replaced by suitable values. Examples are: Age = 0 for a customer, or a negative number of children. They were identified in section 1, and we will correct them here."
   ],
   "metadata": {}
  },
  {
   "cell_type": "code",
   "execution_count": 14,
   "source": [
    "df.loc[df['children'] == 20, 'children'] = 2\r\n",
    "df.loc[df['children'] == -1, 'children'] = 1\r\n",
    "df['children'].value_counts()"
   ],
   "outputs": [
    {
     "output_type": "execute_result",
     "data": {
      "text/plain": [
       "0    14149\n",
       "1     4865\n",
       "2     2131\n",
       "3      330\n",
       "4       41\n",
       "5        9\n",
       "Name: children, dtype: int64"
      ]
     },
     "metadata": {},
     "execution_count": 14
    }
   ],
   "metadata": {}
  },
  {
   "cell_type": "code",
   "execution_count": 15,
   "source": [
    "print(df['dob_years'].value_counts().sort_index().head())\r\n",
    "age_mean = df[df['dob_years'] != 0]['dob_years'].mean()\r\n",
    "age_median = df[df['dob_years'] != 0]['dob_years'].median()\r\n",
    "\r\n",
    "print(f\"The mean of age is {age_mean:.1f}\")\r\n",
    "print(f\"The median of age is {age_median}\")\r\n",
    "df.loc[df['dob_years'] == 0, 'dob_years'] = int(age_mean)\r\n",
    "df['dob_years'].value_counts().sort_index().head()"
   ],
   "outputs": [
    {
     "output_type": "stream",
     "name": "stdout",
     "text": [
      "0     101\n",
      "19     14\n",
      "20     51\n",
      "21    111\n",
      "22    183\n",
      "Name: dob_years, dtype: int64\n",
      "The mean of age is 43.5\n",
      "The median of age is 43.0\n"
     ]
    },
    {
     "output_type": "execute_result",
     "data": {
      "text/plain": [
       "19     14\n",
       "20     51\n",
       "21    111\n",
       "22    183\n",
       "23    254\n",
       "Name: dob_years, dtype: int64"
      ]
     },
     "metadata": {},
     "execution_count": 15
    }
   ],
   "metadata": {}
  },
  {
   "cell_type": "code",
   "execution_count": 16,
   "source": [
    "df['education'] = df['education'].str.lower()\n",
    "df['education'].value_counts()"
   ],
   "outputs": [
    {
     "output_type": "execute_result",
     "data": {
      "text/plain": [
       "secondary education    15233\n",
       "bachelor's degree       5260\n",
       "some college             744\n",
       "primary education        282\n",
       "graduate degree            6\n",
       "Name: education, dtype: int64"
      ]
     },
     "metadata": {},
     "execution_count": 16
    }
   ],
   "metadata": {}
  },
  {
   "cell_type": "code",
   "execution_count": 17,
   "source": [
    "df.loc[df['income_type'] == 'entrepreneur', 'income_type'] = 'business'\n",
    "df['income_type'].value_counts()"
   ],
   "outputs": [
    {
     "output_type": "execute_result",
     "data": {
      "text/plain": [
       "employee                       11119\n",
       "business                        5087\n",
       "retiree                         3856\n",
       "civil servant                   1459\n",
       "unemployed                         2\n",
       "paternity / maternity leave        1\n",
       "student                            1\n",
       "Name: income_type, dtype: int64"
      ]
     },
     "metadata": {},
     "execution_count": 17
    }
   ],
   "metadata": {}
  },
  {
   "cell_type": "code",
   "execution_count": 18,
   "source": [
    "df.loc[df['gender'] == 'XNA', 'gender'] = 'X'\r\n",
    "df['gender'].unique()"
   ],
   "outputs": [
    {
     "output_type": "execute_result",
     "data": {
      "text/plain": [
       "array(['F', 'M', 'X'], dtype=object)"
      ]
     },
     "metadata": {},
     "execution_count": 18
    }
   ],
   "metadata": {}
  },
  {
   "cell_type": "markdown",
   "source": [
    "### Conclusion\n",
    "- a few entries had values in 'children' as 20 or -1, they were replaced by 2 and 1 respectively\n",
    "- 'days_employed' dtypes were cast to int and negative values were replaced by their absolute\n",
    "- 'total_income' dtypes were cast to int\n",
    "- 'dob_years' entries with age 0 were replaced by mean, because mean and median are close\n",
    "- 'education' entries were all replaced by their lower case versions\n",
    "- 'XNA' were assumed to be 'X' gender, including all categories apart from M and F"
   ],
   "metadata": {}
  },
  {
   "cell_type": "markdown",
   "source": [
    "## Dictionaries\n",
    "\n",
    "### Introduction\n",
    "\n",
    "Dictionaries are reference tables that identify the information contained in ID numbers. This can prove useful when changing these information to new categories. Instead of changing the values in each row, only the reference table is replaced.\n",
    "\n",
    "### Creating dictionaries\n",
    "\n",
    "There is no reason to establish an ID for information that is already cointained in each row. As a matter of maintaing good habits for data, reference tables will be created for 'family_status', 'education' and 'income_type'."
   ],
   "metadata": {}
  },
  {
   "cell_type": "code",
   "execution_count": 19,
   "source": [
    "family_ref = df[['family_status_id', 'family_status']]\r\n",
    "family_ref = family_ref.drop_duplicates().reset_index(drop=True)\r\n",
    "family_ref"
   ],
   "outputs": [
    {
     "output_type": "execute_result",
     "data": {
      "text/plain": [
       "   family_status_id      family_status\n",
       "0                 0            married\n",
       "1                 1  civil partnership\n",
       "2                 2    widow / widower\n",
       "3                 3           divorced\n",
       "4                 4          unmarried"
      ],
      "text/html": [
       "<div>\n",
       "<style scoped>\n",
       "    .dataframe tbody tr th:only-of-type {\n",
       "        vertical-align: middle;\n",
       "    }\n",
       "\n",
       "    .dataframe tbody tr th {\n",
       "        vertical-align: top;\n",
       "    }\n",
       "\n",
       "    .dataframe thead th {\n",
       "        text-align: right;\n",
       "    }\n",
       "</style>\n",
       "<table border=\"1\" class=\"dataframe\">\n",
       "  <thead>\n",
       "    <tr style=\"text-align: right;\">\n",
       "      <th></th>\n",
       "      <th>family_status_id</th>\n",
       "      <th>family_status</th>\n",
       "    </tr>\n",
       "  </thead>\n",
       "  <tbody>\n",
       "    <tr>\n",
       "      <th>0</th>\n",
       "      <td>0</td>\n",
       "      <td>married</td>\n",
       "    </tr>\n",
       "    <tr>\n",
       "      <th>1</th>\n",
       "      <td>1</td>\n",
       "      <td>civil partnership</td>\n",
       "    </tr>\n",
       "    <tr>\n",
       "      <th>2</th>\n",
       "      <td>2</td>\n",
       "      <td>widow / widower</td>\n",
       "    </tr>\n",
       "    <tr>\n",
       "      <th>3</th>\n",
       "      <td>3</td>\n",
       "      <td>divorced</td>\n",
       "    </tr>\n",
       "    <tr>\n",
       "      <th>4</th>\n",
       "      <td>4</td>\n",
       "      <td>unmarried</td>\n",
       "    </tr>\n",
       "  </tbody>\n",
       "</table>\n",
       "</div>"
      ]
     },
     "metadata": {},
     "execution_count": 19
    }
   ],
   "metadata": {}
  },
  {
   "cell_type": "code",
   "execution_count": 20,
   "source": [
    "education_ref = df[['education_id', 'education']]\r\n",
    "education_ref = education_ref.drop_duplicates().reset_index(drop=True)"
   ],
   "outputs": [],
   "metadata": {}
  },
  {
   "cell_type": "code",
   "execution_count": 21,
   "source": [
    "df.drop(columns=['education', 'family_status'], inplace=True)"
   ],
   "outputs": [],
   "metadata": {}
  },
  {
   "cell_type": "code",
   "execution_count": 22,
   "source": [
    "income_ref = df[['income_type']]\r\n",
    "income_ref = income_ref.drop_duplicates().reset_index(drop=True)\r\n",
    "income_ref = income_ref.reindex(\r\n",
    "    reversed([4, 5, 0, 6, 2, 3, 1])\r\n",
    "    ).reset_index(drop=True)\r\n",
    "income_ref['income_type_id'] = income_ref.index\r\n",
    "income_ref = income_ref[['income_type_id', 'income_type']]\r\n",
    "df = df.merge(\r\n",
    "    income_ref, on='income_type', how='left'\r\n",
    ") \r\n",
    "df.drop(labels='income_type', axis=1, inplace=True)"
   ],
   "outputs": [],
   "metadata": {}
  },
  {
   "cell_type": "markdown",
   "source": [
    "### Conclusions\n",
    "- Dictionaries were created for both family status and education, so it is easier to keep track of information\n",
    "- Education could have a dictionary that scales with higher education, but this could create inconsistencies with new data\n",
    "- Income type now has a dictionary that scales with safer types of income\n",
    "- Only \"id\" columns were kept in the dataframe\n"
   ],
   "metadata": {}
  },
  {
   "cell_type": "markdown",
   "source": [
    "## Data Categorization\n",
    "\n",
    "### Introduction\n",
    "\n",
    "Data categorization is necessary to improve data readability. It is especially necessary when dealing with quantitative variables such as income and age, otherwise this data can hardly be inserted in pivot tables.\n",
    "\n",
    "\n",
    "### Creating categories\n",
    "Categorization will be categorized according to the following topics:\n",
    "\n",
    "- Do they have children?\n",
    "- What is their age group?\n",
    "- How much is their monthly income?\n",
    "- What is their main purpose to apply for a loan?\n",
    "- Are they employed for a long time?\n"
   ],
   "metadata": {}
  },
  {
   "cell_type": "code",
   "execution_count": 23,
   "source": [
    "def categorize(data_val, min_num, max_num, cat_num):\r\n",
    "    if type(data_val) != type(1):\r\n",
    "        return ValueError('Data value is not int!')\r\n",
    "    step_val = (max_num - min_num)/cat_num\r\n",
    "    groups = []\r\n",
    "    for i in range(cat_num+1):\r\n",
    "        groups.append(int(min_num+i*step_val))\r\n",
    "    if data_val <= groups[0]:\r\n",
    "        return str(groups[0]) + ' <'\r\n",
    "    if data_val > groups[cat_num]:\r\n",
    "        return str(groups[cat_num] + 1) + ' >'\r\n",
    "    for i in range(len(groups)):\r\n",
    "        if data_val <= groups[i + 1]:\r\n",
    "            return str(groups[i] + 1) + '-' + str(groups[i+1])\r\n",
    "    return ValueError('Error')"
   ],
   "outputs": [],
   "metadata": {}
  },
  {
   "cell_type": "code",
   "execution_count": 24,
   "source": [
    "def has_children(children):\r\n",
    "    if children > 0:\r\n",
    "        return True\r\n",
    "    else:\r\n",
    "        return False\r\n",
    "\r\n",
    "\r\n",
    "df['has_children'] = df['children'].apply(has_children)\r\n",
    "\r\n",
    "min_num = 25\r\n",
    "max_num = 65\r\n",
    "cat_num = 4\r\n",
    "\r\n",
    "df['age_group'] = df['dob_years'].apply(categorize, args=(min_num, max_num, cat_num))\r\n",
    "\r\n",
    "min_num = df['total_income'].describe()['25%']\r\n",
    "max_num = df['total_income'].describe()['75%']\r\n",
    "cat_num = 5\r\n",
    "\r\n",
    "df['total_income_group'] = df['total_income'].apply(categorize, args=(min_num, max_num, cat_num))\r\n",
    "df['total_income_group'].value_counts()"
   ],
   "outputs": [
    {
     "output_type": "execute_result",
     "data": {
      "text/plain": [
       "17248 <        5382\n",
       "31288 >        5381\n",
       "25672-28479    3794\n",
       "20056-22863    2022\n",
       "17249-20055    2015\n",
       "22864-25671    1753\n",
       "28480-31287    1178\n",
       "Name: total_income_group, dtype: int64"
      ]
     },
     "metadata": {},
     "execution_count": 24
    }
   ],
   "metadata": {}
  },
  {
   "cell_type": "code",
   "execution_count": 25,
   "source": [
    "import nltk\r\n",
    "from nltk.stem import SnowballStemmer, WordNetLemmatizer\r\n",
    "from collections import Counter\r\n",
    "\r\n",
    "wordnet_lemma = WordNetLemmatizer()\r\n",
    "english_stem = SnowballStemmer('english')\r\n",
    "\r\n",
    "words = ' '.join(df['purpose'])\r\n",
    "words = words.lower()\r\n",
    "words = nltk.word_tokenize(words)\r\n",
    "lemmas = [wordnet_lemma.lemmatize(word, pos='n') for word in words]\r\n",
    "lemmas = [english_stem.stem(word) for word in lemmas]\r\n",
    "\r\n",
    "def tokenize_purpose(phrase):    \r\n",
    "    stem_list = [['residenti', 'hous'], ['estat', 'properti'], ['second-hand'], ['car'], ['educ', 'univers'], ['wed']]\r\n",
    "    phrase = phrase.lower()\r\n",
    "    tokens = nltk.word_tokenize(phrase)\r\n",
    "    tokens = [wordnet_lemma.lemmatize(word, pos='n') for word in tokens]\r\n",
    "    tokens = [english_stem.stem(word) for word in tokens]\r\n",
    "    for word in tokens:\r\n",
    "        if word in stem_list[0]:\r\n",
    "            return 'housing'\r\n",
    "        elif word in stem_list[1]:\r\n",
    "            return 'property'\r\n",
    "        elif word in stem_list[2]:\r\n",
    "            return 'second-hand'\r\n",
    "        elif word in stem_list[3]:\r\n",
    "            return 'car'\r\n",
    "        elif word in stem_list[4]:\r\n",
    "            return 'education'\r\n",
    "        elif word in stem_list[5]:\r\n",
    "            return 'wedding'\r\n",
    "        else:\r\n",
    "            output = 'artifact'\r\n",
    "    return output\r\n",
    "\r\n",
    "df['purpose_stem'] = df['purpose'].apply(tokenize_purpose)\r\n",
    "df['purpose_stem'].value_counts()"
   ],
   "outputs": [
    {
     "output_type": "execute_result",
     "data": {
      "text/plain": [
       "property       6413\n",
       "housing        4427\n",
       "education      4022\n",
       "car            3347\n",
       "wedding        2348\n",
       "second-hand     968\n",
       "Name: purpose_stem, dtype: int64"
      ]
     },
     "metadata": {},
     "execution_count": 25
    }
   ],
   "metadata": {
    "tags": []
   }
  },
  {
   "cell_type": "code",
   "execution_count": 26,
   "source": [
    "def veteran(days):\n",
    "    if days > 365*5:\n",
    "        return True\n",
    "    else:\n",
    "        return False\n",
    "\n",
    "df['veteran'] = df['days_employed'].apply(veteran)\n",
    "df['veteran'].value_counts()"
   ],
   "outputs": [
    {
     "output_type": "execute_result",
     "data": {
      "text/plain": [
       "False    14257\n",
       "True      7268\n",
       "Name: veteran, dtype: int64"
      ]
     },
     "metadata": {},
     "execution_count": 26
    }
   ],
   "metadata": {}
  },
  {
   "cell_type": "markdown",
   "source": [
    "### Conclusion\n",
    "\n",
    "- Data has been categorized:\n",
    "    - There is a column for children as boolean. 'has_children'\n",
    "    - There are groups for age and total income. 'age_group' and 'total_income_group'\n",
    "    - Purpose has been categorized according to stems. 'purpose_stem'\n",
    "    - There is a boolean category for people in the same employment for too long."
   ],
   "metadata": {}
  },
  {
   "cell_type": "markdown",
   "source": [
    "## Rechecking Data\n",
    "\n",
    "\n",
    "### Introduction\n",
    "\n",
    "Duplicated rows can be a nuisance when analyzing data, as they may deviate results with information from the same customer. In this case, there isn't a unique identifier for each client, yet it seems unlikely that a customer has exactly the same entries. Therefore, they must be removed."
   ],
   "metadata": {}
  },
  {
   "cell_type": "markdown",
   "source": [
    "### Checking the data again\n",
    "\n",
    "At this point all of the issues have been taken care of. Let us just check that everything looks good!"
   ],
   "metadata": {}
  },
  {
   "cell_type": "code",
   "execution_count": 27,
   "source": [
    "df.info()"
   ],
   "outputs": [
    {
     "output_type": "stream",
     "name": "stdout",
     "text": [
      "<class 'pandas.core.frame.DataFrame'>\n",
      "Int64Index: 21525 entries, 0 to 21524\n",
      "Data columns (total 15 columns):\n",
      " #   Column              Non-Null Count  Dtype \n",
      "---  ------              --------------  ----- \n",
      " 0   children            21525 non-null  int64 \n",
      " 1   days_employed       21525 non-null  int64 \n",
      " 2   dob_years           21525 non-null  int64 \n",
      " 3   education_id        21525 non-null  int64 \n",
      " 4   family_status_id    21525 non-null  int64 \n",
      " 5   gender              21525 non-null  object\n",
      " 6   debt                21525 non-null  int64 \n",
      " 7   total_income        21525 non-null  int64 \n",
      " 8   purpose             21525 non-null  object\n",
      " 9   income_type_id      21525 non-null  int64 \n",
      " 10  has_children        21525 non-null  bool  \n",
      " 11  age_group           21525 non-null  object\n",
      " 12  total_income_group  21525 non-null  object\n",
      " 13  purpose_stem        21525 non-null  object\n",
      " 14  veteran             21525 non-null  bool  \n",
      "dtypes: bool(2), int64(8), object(5)\n",
      "memory usage: 2.3+ MB\n"
     ]
    }
   ],
   "metadata": {
    "scrolled": true
   }
  },
  {
   "cell_type": "code",
   "execution_count": 28,
   "source": [
    "duplicated_rows = df[df.duplicated()]\n",
    "print(f\"The percentage of duplicated rows is {duplicated_rows['debt'].count()/df.shape[0]:.2%}\")"
   ],
   "outputs": [
    {
     "output_type": "stream",
     "name": "stdout",
     "text": [
      "The percentage of duplicated rows is 0.33%\n"
     ]
    }
   ],
   "metadata": {}
  },
  {
   "cell_type": "code",
   "execution_count": 29,
   "source": [
    "df = df.drop_duplicates().reset_index(drop=True)\n",
    "df[df.duplicated()]"
   ],
   "outputs": [
    {
     "output_type": "execute_result",
     "data": {
      "text/plain": [
       "Empty DataFrame\n",
       "Columns: [children, days_employed, dob_years, education_id, family_status_id, gender, debt, total_income, purpose, income_type_id, has_children, age_group, total_income_group, purpose_stem, veteran]\n",
       "Index: []"
      ],
      "text/html": [
       "<div>\n",
       "<style scoped>\n",
       "    .dataframe tbody tr th:only-of-type {\n",
       "        vertical-align: middle;\n",
       "    }\n",
       "\n",
       "    .dataframe tbody tr th {\n",
       "        vertical-align: top;\n",
       "    }\n",
       "\n",
       "    .dataframe thead th {\n",
       "        text-align: right;\n",
       "    }\n",
       "</style>\n",
       "<table border=\"1\" class=\"dataframe\">\n",
       "  <thead>\n",
       "    <tr style=\"text-align: right;\">\n",
       "      <th></th>\n",
       "      <th>children</th>\n",
       "      <th>days_employed</th>\n",
       "      <th>dob_years</th>\n",
       "      <th>education_id</th>\n",
       "      <th>family_status_id</th>\n",
       "      <th>gender</th>\n",
       "      <th>debt</th>\n",
       "      <th>total_income</th>\n",
       "      <th>purpose</th>\n",
       "      <th>income_type_id</th>\n",
       "      <th>has_children</th>\n",
       "      <th>age_group</th>\n",
       "      <th>total_income_group</th>\n",
       "      <th>purpose_stem</th>\n",
       "      <th>veteran</th>\n",
       "    </tr>\n",
       "  </thead>\n",
       "  <tbody>\n",
       "  </tbody>\n",
       "</table>\n",
       "</div>"
      ]
     },
     "metadata": {},
     "execution_count": 29
    }
   ],
   "metadata": {
    "scrolled": true
   }
  },
  {
   "cell_type": "code",
   "execution_count": 30,
   "source": [
    "df.head(10)"
   ],
   "outputs": [
    {
     "output_type": "execute_result",
     "data": {
      "text/plain": [
       "   children  days_employed  dob_years  education_id  family_status_id gender  \\\n",
       "0         1           8438         42             0                 0      F   \n",
       "1         1           4025         36             1                 0      F   \n",
       "2         0           5623         33             1                 0      M   \n",
       "3         3           4125         32             1                 0      M   \n",
       "4         0           1630         53             1                 1      F   \n",
       "5         0            926         27             0                 1      M   \n",
       "6         0           2879         43             0                 0      F   \n",
       "7         0            153         50             1                 0      M   \n",
       "8         2           6930         35             0                 1      F   \n",
       "9         0           2189         41             1                 0      M   \n",
       "\n",
       "   debt  total_income                              purpose  income_type_id  \\\n",
       "0     0         40620                purchase of the house               4   \n",
       "1     0         17933                         car purchase               4   \n",
       "2     0         23342                purchase of the house               4   \n",
       "3     0         42821              supplementary education               4   \n",
       "4     0         25379                    to have a wedding               0   \n",
       "5     0         40922                purchase of the house               2   \n",
       "6     0         38484                 housing transactions               2   \n",
       "7     0         21732                            education               4   \n",
       "8     0         15337                     having a wedding               4   \n",
       "9     0         23108  purchase of the house for my family               4   \n",
       "\n",
       "   has_children age_group total_income_group purpose_stem  veteran  \n",
       "0          True     36-45            31288 >      housing     True  \n",
       "1          True     36-45        17249-20055          car     True  \n",
       "2         False     26-35        22864-25671      housing     True  \n",
       "3          True     26-35            31288 >    education     True  \n",
       "4         False     46-55        22864-25671      wedding    False  \n",
       "5         False     26-35            31288 >      housing    False  \n",
       "6         False     36-45            31288 >      housing     True  \n",
       "7         False     46-55        20056-22863    education    False  \n",
       "8          True     26-35            17248 <      wedding     True  \n",
       "9         False     36-45        22864-25671      housing     True  "
      ],
      "text/html": [
       "<div>\n",
       "<style scoped>\n",
       "    .dataframe tbody tr th:only-of-type {\n",
       "        vertical-align: middle;\n",
       "    }\n",
       "\n",
       "    .dataframe tbody tr th {\n",
       "        vertical-align: top;\n",
       "    }\n",
       "\n",
       "    .dataframe thead th {\n",
       "        text-align: right;\n",
       "    }\n",
       "</style>\n",
       "<table border=\"1\" class=\"dataframe\">\n",
       "  <thead>\n",
       "    <tr style=\"text-align: right;\">\n",
       "      <th></th>\n",
       "      <th>children</th>\n",
       "      <th>days_employed</th>\n",
       "      <th>dob_years</th>\n",
       "      <th>education_id</th>\n",
       "      <th>family_status_id</th>\n",
       "      <th>gender</th>\n",
       "      <th>debt</th>\n",
       "      <th>total_income</th>\n",
       "      <th>purpose</th>\n",
       "      <th>income_type_id</th>\n",
       "      <th>has_children</th>\n",
       "      <th>age_group</th>\n",
       "      <th>total_income_group</th>\n",
       "      <th>purpose_stem</th>\n",
       "      <th>veteran</th>\n",
       "    </tr>\n",
       "  </thead>\n",
       "  <tbody>\n",
       "    <tr>\n",
       "      <th>0</th>\n",
       "      <td>1</td>\n",
       "      <td>8438</td>\n",
       "      <td>42</td>\n",
       "      <td>0</td>\n",
       "      <td>0</td>\n",
       "      <td>F</td>\n",
       "      <td>0</td>\n",
       "      <td>40620</td>\n",
       "      <td>purchase of the house</td>\n",
       "      <td>4</td>\n",
       "      <td>True</td>\n",
       "      <td>36-45</td>\n",
       "      <td>31288 &gt;</td>\n",
       "      <td>housing</td>\n",
       "      <td>True</td>\n",
       "    </tr>\n",
       "    <tr>\n",
       "      <th>1</th>\n",
       "      <td>1</td>\n",
       "      <td>4025</td>\n",
       "      <td>36</td>\n",
       "      <td>1</td>\n",
       "      <td>0</td>\n",
       "      <td>F</td>\n",
       "      <td>0</td>\n",
       "      <td>17933</td>\n",
       "      <td>car purchase</td>\n",
       "      <td>4</td>\n",
       "      <td>True</td>\n",
       "      <td>36-45</td>\n",
       "      <td>17249-20055</td>\n",
       "      <td>car</td>\n",
       "      <td>True</td>\n",
       "    </tr>\n",
       "    <tr>\n",
       "      <th>2</th>\n",
       "      <td>0</td>\n",
       "      <td>5623</td>\n",
       "      <td>33</td>\n",
       "      <td>1</td>\n",
       "      <td>0</td>\n",
       "      <td>M</td>\n",
       "      <td>0</td>\n",
       "      <td>23342</td>\n",
       "      <td>purchase of the house</td>\n",
       "      <td>4</td>\n",
       "      <td>False</td>\n",
       "      <td>26-35</td>\n",
       "      <td>22864-25671</td>\n",
       "      <td>housing</td>\n",
       "      <td>True</td>\n",
       "    </tr>\n",
       "    <tr>\n",
       "      <th>3</th>\n",
       "      <td>3</td>\n",
       "      <td>4125</td>\n",
       "      <td>32</td>\n",
       "      <td>1</td>\n",
       "      <td>0</td>\n",
       "      <td>M</td>\n",
       "      <td>0</td>\n",
       "      <td>42821</td>\n",
       "      <td>supplementary education</td>\n",
       "      <td>4</td>\n",
       "      <td>True</td>\n",
       "      <td>26-35</td>\n",
       "      <td>31288 &gt;</td>\n",
       "      <td>education</td>\n",
       "      <td>True</td>\n",
       "    </tr>\n",
       "    <tr>\n",
       "      <th>4</th>\n",
       "      <td>0</td>\n",
       "      <td>1630</td>\n",
       "      <td>53</td>\n",
       "      <td>1</td>\n",
       "      <td>1</td>\n",
       "      <td>F</td>\n",
       "      <td>0</td>\n",
       "      <td>25379</td>\n",
       "      <td>to have a wedding</td>\n",
       "      <td>0</td>\n",
       "      <td>False</td>\n",
       "      <td>46-55</td>\n",
       "      <td>22864-25671</td>\n",
       "      <td>wedding</td>\n",
       "      <td>False</td>\n",
       "    </tr>\n",
       "    <tr>\n",
       "      <th>5</th>\n",
       "      <td>0</td>\n",
       "      <td>926</td>\n",
       "      <td>27</td>\n",
       "      <td>0</td>\n",
       "      <td>1</td>\n",
       "      <td>M</td>\n",
       "      <td>0</td>\n",
       "      <td>40922</td>\n",
       "      <td>purchase of the house</td>\n",
       "      <td>2</td>\n",
       "      <td>False</td>\n",
       "      <td>26-35</td>\n",
       "      <td>31288 &gt;</td>\n",
       "      <td>housing</td>\n",
       "      <td>False</td>\n",
       "    </tr>\n",
       "    <tr>\n",
       "      <th>6</th>\n",
       "      <td>0</td>\n",
       "      <td>2879</td>\n",
       "      <td>43</td>\n",
       "      <td>0</td>\n",
       "      <td>0</td>\n",
       "      <td>F</td>\n",
       "      <td>0</td>\n",
       "      <td>38484</td>\n",
       "      <td>housing transactions</td>\n",
       "      <td>2</td>\n",
       "      <td>False</td>\n",
       "      <td>36-45</td>\n",
       "      <td>31288 &gt;</td>\n",
       "      <td>housing</td>\n",
       "      <td>True</td>\n",
       "    </tr>\n",
       "    <tr>\n",
       "      <th>7</th>\n",
       "      <td>0</td>\n",
       "      <td>153</td>\n",
       "      <td>50</td>\n",
       "      <td>1</td>\n",
       "      <td>0</td>\n",
       "      <td>M</td>\n",
       "      <td>0</td>\n",
       "      <td>21732</td>\n",
       "      <td>education</td>\n",
       "      <td>4</td>\n",
       "      <td>False</td>\n",
       "      <td>46-55</td>\n",
       "      <td>20056-22863</td>\n",
       "      <td>education</td>\n",
       "      <td>False</td>\n",
       "    </tr>\n",
       "    <tr>\n",
       "      <th>8</th>\n",
       "      <td>2</td>\n",
       "      <td>6930</td>\n",
       "      <td>35</td>\n",
       "      <td>0</td>\n",
       "      <td>1</td>\n",
       "      <td>F</td>\n",
       "      <td>0</td>\n",
       "      <td>15337</td>\n",
       "      <td>having a wedding</td>\n",
       "      <td>4</td>\n",
       "      <td>True</td>\n",
       "      <td>26-35</td>\n",
       "      <td>17248 &lt;</td>\n",
       "      <td>wedding</td>\n",
       "      <td>True</td>\n",
       "    </tr>\n",
       "    <tr>\n",
       "      <th>9</th>\n",
       "      <td>0</td>\n",
       "      <td>2189</td>\n",
       "      <td>41</td>\n",
       "      <td>1</td>\n",
       "      <td>0</td>\n",
       "      <td>M</td>\n",
       "      <td>0</td>\n",
       "      <td>23108</td>\n",
       "      <td>purchase of the house for my family</td>\n",
       "      <td>4</td>\n",
       "      <td>False</td>\n",
       "      <td>36-45</td>\n",
       "      <td>22864-25671</td>\n",
       "      <td>housing</td>\n",
       "      <td>True</td>\n",
       "    </tr>\n",
       "  </tbody>\n",
       "</table>\n",
       "</div>"
      ]
     },
     "metadata": {},
     "execution_count": 30
    }
   ],
   "metadata": {}
  },
  {
   "cell_type": "markdown",
   "source": [
    "### Conclusions\n",
    "- Duplicated data was within the customers with previously missing values, so it doesn't seem completely at random\n",
    "    - It is still hard to identify the reason why the duplicates are there\n",
    "    - The 'purpose' column does not support the hypothesis of coincidences\n",
    "- They represented only 0.25% of the total data, so duplicates were deleted\\\n",
    "- The data looks sharp for analysis!"
   ],
   "metadata": {}
  },
  {
   "cell_type": "markdown",
   "source": [
    "## Answering questions\n",
    "\n",
    "1) Question:\n",
    "- Is there a relation between having kids and repaying a loan on time?"
   ],
   "metadata": {}
  },
  {
   "cell_type": "code",
   "execution_count": 31,
   "source": [
    "def create_pivot_percentage(df, index, columns, values, margins):\n",
    "    pivot_sum = df.pivot_table(index=index, columns=columns, values=values, aggfunc='sum', margins=margins)\n",
    "    pivot_count = df.pivot_table(index=index, columns=columns, values=values, aggfunc='count', margins=margins)\n",
    "    return pivot_sum/pivot_count\n",
    "\n",
    "create_pivot_percentage(df, 'age_group', 'has_children', 'debt', True)"
   ],
   "outputs": [
    {
     "output_type": "execute_result",
     "data": {
      "text/plain": [
       "has_children     False      True       All\n",
       "age_group                                 \n",
       "25 <          0.106622  0.105572  0.106331\n",
       "26-35         0.105523  0.106325  0.105962\n",
       "36-45         0.080584  0.085503  0.083027\n",
       "46-55         0.066581  0.074675  0.068135\n",
       "56-65         0.056321  0.057432  0.056412\n",
       "66 >          0.049475  0.057143  0.049858\n",
       "All           0.075438  0.092082  0.081150"
      ],
      "text/html": [
       "<div>\n",
       "<style scoped>\n",
       "    .dataframe tbody tr th:only-of-type {\n",
       "        vertical-align: middle;\n",
       "    }\n",
       "\n",
       "    .dataframe tbody tr th {\n",
       "        vertical-align: top;\n",
       "    }\n",
       "\n",
       "    .dataframe thead th {\n",
       "        text-align: right;\n",
       "    }\n",
       "</style>\n",
       "<table border=\"1\" class=\"dataframe\">\n",
       "  <thead>\n",
       "    <tr style=\"text-align: right;\">\n",
       "      <th>has_children</th>\n",
       "      <th>False</th>\n",
       "      <th>True</th>\n",
       "      <th>All</th>\n",
       "    </tr>\n",
       "    <tr>\n",
       "      <th>age_group</th>\n",
       "      <th></th>\n",
       "      <th></th>\n",
       "      <th></th>\n",
       "    </tr>\n",
       "  </thead>\n",
       "  <tbody>\n",
       "    <tr>\n",
       "      <th>25 &lt;</th>\n",
       "      <td>0.106622</td>\n",
       "      <td>0.105572</td>\n",
       "      <td>0.106331</td>\n",
       "    </tr>\n",
       "    <tr>\n",
       "      <th>26-35</th>\n",
       "      <td>0.105523</td>\n",
       "      <td>0.106325</td>\n",
       "      <td>0.105962</td>\n",
       "    </tr>\n",
       "    <tr>\n",
       "      <th>36-45</th>\n",
       "      <td>0.080584</td>\n",
       "      <td>0.085503</td>\n",
       "      <td>0.083027</td>\n",
       "    </tr>\n",
       "    <tr>\n",
       "      <th>46-55</th>\n",
       "      <td>0.066581</td>\n",
       "      <td>0.074675</td>\n",
       "      <td>0.068135</td>\n",
       "    </tr>\n",
       "    <tr>\n",
       "      <th>56-65</th>\n",
       "      <td>0.056321</td>\n",
       "      <td>0.057432</td>\n",
       "      <td>0.056412</td>\n",
       "    </tr>\n",
       "    <tr>\n",
       "      <th>66 &gt;</th>\n",
       "      <td>0.049475</td>\n",
       "      <td>0.057143</td>\n",
       "      <td>0.049858</td>\n",
       "    </tr>\n",
       "    <tr>\n",
       "      <th>All</th>\n",
       "      <td>0.075438</td>\n",
       "      <td>0.092082</td>\n",
       "      <td>0.081150</td>\n",
       "    </tr>\n",
       "  </tbody>\n",
       "</table>\n",
       "</div>"
      ]
     },
     "metadata": {},
     "execution_count": 31
    }
   ],
   "metadata": {}
  },
  {
   "cell_type": "markdown",
   "source": [
    "1) Answer:\n",
    "- A comparison was made considering the percentage of defaulting based on whether they have kids with the total for each age group. The percentage of defaulting is pretty similar whether the person has kids or not, independent of age. The clear relation is that the younger the person, the more likely they will default. This is useful for credit score."
   ],
   "metadata": {}
  },
  {
   "cell_type": "markdown",
   "source": [
    "2) Question:\n",
    "- Is there a relation between marital status and repaying a loan on time?"
   ],
   "metadata": {}
  },
  {
   "cell_type": "code",
   "execution_count": 32,
   "source": [
    "tempdf = df.merge(family_ref, on='family_status_id', how='left')\n",
    "\n",
    "create_pivot_percentage(tempdf, 'age_group', 'family_status', 'debt', False)"
   ],
   "outputs": [
    {
     "output_type": "execute_result",
     "data": {
      "text/plain": [
       "family_status  civil partnership  divorced   married  unmarried  \\\n",
       "age_group                                                         \n",
       "25 <                    0.095395  0.181818  0.095128   0.120253   \n",
       "26-35                   0.112132  0.095238  0.101088   0.117841   \n",
       "36-45                   0.103302  0.057851  0.077603   0.093264   \n",
       "46-55                   0.083144  0.070796  0.060200   0.089686   \n",
       "56-65                   0.061977  0.054054  0.054842   0.042683   \n",
       "66 >                    0.048544  0.102564  0.046243   0.026667   \n",
       "\n",
       "family_status  widow / widower  \n",
       "age_group                       \n",
       "25 <                  0.000000  \n",
       "26-35                 0.105263  \n",
       "36-45                 0.064516  \n",
       "46-55                 0.065574  \n",
       "56-65                 0.066955  \n",
       "66 >                  0.057554  "
      ],
      "text/html": [
       "<div>\n",
       "<style scoped>\n",
       "    .dataframe tbody tr th:only-of-type {\n",
       "        vertical-align: middle;\n",
       "    }\n",
       "\n",
       "    .dataframe tbody tr th {\n",
       "        vertical-align: top;\n",
       "    }\n",
       "\n",
       "    .dataframe thead th {\n",
       "        text-align: right;\n",
       "    }\n",
       "</style>\n",
       "<table border=\"1\" class=\"dataframe\">\n",
       "  <thead>\n",
       "    <tr style=\"text-align: right;\">\n",
       "      <th>family_status</th>\n",
       "      <th>civil partnership</th>\n",
       "      <th>divorced</th>\n",
       "      <th>married</th>\n",
       "      <th>unmarried</th>\n",
       "      <th>widow / widower</th>\n",
       "    </tr>\n",
       "    <tr>\n",
       "      <th>age_group</th>\n",
       "      <th></th>\n",
       "      <th></th>\n",
       "      <th></th>\n",
       "      <th></th>\n",
       "      <th></th>\n",
       "    </tr>\n",
       "  </thead>\n",
       "  <tbody>\n",
       "    <tr>\n",
       "      <th>25 &lt;</th>\n",
       "      <td>0.095395</td>\n",
       "      <td>0.181818</td>\n",
       "      <td>0.095128</td>\n",
       "      <td>0.120253</td>\n",
       "      <td>0.000000</td>\n",
       "    </tr>\n",
       "    <tr>\n",
       "      <th>26-35</th>\n",
       "      <td>0.112132</td>\n",
       "      <td>0.095238</td>\n",
       "      <td>0.101088</td>\n",
       "      <td>0.117841</td>\n",
       "      <td>0.105263</td>\n",
       "    </tr>\n",
       "    <tr>\n",
       "      <th>36-45</th>\n",
       "      <td>0.103302</td>\n",
       "      <td>0.057851</td>\n",
       "      <td>0.077603</td>\n",
       "      <td>0.093264</td>\n",
       "      <td>0.064516</td>\n",
       "    </tr>\n",
       "    <tr>\n",
       "      <th>46-55</th>\n",
       "      <td>0.083144</td>\n",
       "      <td>0.070796</td>\n",
       "      <td>0.060200</td>\n",
       "      <td>0.089686</td>\n",
       "      <td>0.065574</td>\n",
       "    </tr>\n",
       "    <tr>\n",
       "      <th>56-65</th>\n",
       "      <td>0.061977</td>\n",
       "      <td>0.054054</td>\n",
       "      <td>0.054842</td>\n",
       "      <td>0.042683</td>\n",
       "      <td>0.066955</td>\n",
       "    </tr>\n",
       "    <tr>\n",
       "      <th>66 &gt;</th>\n",
       "      <td>0.048544</td>\n",
       "      <td>0.102564</td>\n",
       "      <td>0.046243</td>\n",
       "      <td>0.026667</td>\n",
       "      <td>0.057554</td>\n",
       "    </tr>\n",
       "  </tbody>\n",
       "</table>\n",
       "</div>"
      ]
     },
     "metadata": {},
     "execution_count": 32
    }
   ],
   "metadata": {}
  },
  {
   "cell_type": "markdown",
   "source": [
    "2) Answer:\n",
    "- For unmarried or widow/windower clients the same relation stands for age groups: younger clients are more likely to default on loans. \n",
    "- If they are divorced before they're 25 years-old, the percentage gets to it's highest of 18%. Elders get the second place.\n",
    "- As for married or civil partnership, the percentage of people who have defaulted starts decreasing after they're 36 years-old."
   ],
   "metadata": {}
  },
  {
   "cell_type": "markdown",
   "source": [
    "3) Question:\n",
    "- Is there a relation between income level and repaying a loan on time?"
   ],
   "metadata": {}
  },
  {
   "cell_type": "code",
   "execution_count": 33,
   "source": [
    "tempdf = df.merge(income_ref, on='income_type_id', how='left')\n",
    "\n",
    "create_pivot_percentage(tempdf, 'total_income_group', 'income_type', 'debt', True)"
   ],
   "outputs": [
    {
     "output_type": "execute_result",
     "data": {
      "text/plain": [
       "income_type         business  civil servant  employee  \\\n",
       "total_income_group                                      \n",
       "17248 <             0.082447       0.068182  0.095711   \n",
       "17249-20055         0.093995       0.077519  0.105359   \n",
       "20056-22863         0.066079       0.084615  0.100909   \n",
       "22864-25671         0.083333       0.026087  0.105263   \n",
       "25672-28479         0.073707       0.045977  0.101200   \n",
       "28480-31287         0.088235       0.089744  0.086601   \n",
       "31288 >             0.063922       0.048469  0.083694   \n",
       "All                 0.074016       0.059025  0.095724   \n",
       "\n",
       "income_type         paternity / maternity leave   retiree  student  \\\n",
       "total_income_group                                                   \n",
       "17248 <                                     1.0  0.047455      0.0   \n",
       "17249-20055                                 NaN  0.049751      NaN   \n",
       "20056-22863                                 NaN  0.053254      NaN   \n",
       "22864-25671                                 NaN  0.066929      NaN   \n",
       "25672-28479                                 NaN  0.070755      NaN   \n",
       "28480-31287                                 NaN  0.074324      NaN   \n",
       "31288 >                                     NaN  0.060302      NaN   \n",
       "All                                         1.0  0.056412      0.0   \n",
       "\n",
       "income_type         unemployed       All  \n",
       "total_income_group                        \n",
       "17248 <                    1.0  0.079339  \n",
       "17249-20055                NaN  0.090323  \n",
       "20056-22863                NaN  0.084075  \n",
       "22864-25671                NaN  0.089561  \n",
       "25672-28479                NaN  0.085415  \n",
       "28480-31287                NaN  0.085739  \n",
       "31288 >                    0.0  0.071734  \n",
       "All                        0.5  0.081150  "
      ],
      "text/html": [
       "<div>\n",
       "<style scoped>\n",
       "    .dataframe tbody tr th:only-of-type {\n",
       "        vertical-align: middle;\n",
       "    }\n",
       "\n",
       "    .dataframe tbody tr th {\n",
       "        vertical-align: top;\n",
       "    }\n",
       "\n",
       "    .dataframe thead th {\n",
       "        text-align: right;\n",
       "    }\n",
       "</style>\n",
       "<table border=\"1\" class=\"dataframe\">\n",
       "  <thead>\n",
       "    <tr style=\"text-align: right;\">\n",
       "      <th>income_type</th>\n",
       "      <th>business</th>\n",
       "      <th>civil servant</th>\n",
       "      <th>employee</th>\n",
       "      <th>paternity / maternity leave</th>\n",
       "      <th>retiree</th>\n",
       "      <th>student</th>\n",
       "      <th>unemployed</th>\n",
       "      <th>All</th>\n",
       "    </tr>\n",
       "    <tr>\n",
       "      <th>total_income_group</th>\n",
       "      <th></th>\n",
       "      <th></th>\n",
       "      <th></th>\n",
       "      <th></th>\n",
       "      <th></th>\n",
       "      <th></th>\n",
       "      <th></th>\n",
       "      <th></th>\n",
       "    </tr>\n",
       "  </thead>\n",
       "  <tbody>\n",
       "    <tr>\n",
       "      <th>17248 &lt;</th>\n",
       "      <td>0.082447</td>\n",
       "      <td>0.068182</td>\n",
       "      <td>0.095711</td>\n",
       "      <td>1.0</td>\n",
       "      <td>0.047455</td>\n",
       "      <td>0.0</td>\n",
       "      <td>1.0</td>\n",
       "      <td>0.079339</td>\n",
       "    </tr>\n",
       "    <tr>\n",
       "      <th>17249-20055</th>\n",
       "      <td>0.093995</td>\n",
       "      <td>0.077519</td>\n",
       "      <td>0.105359</td>\n",
       "      <td>NaN</td>\n",
       "      <td>0.049751</td>\n",
       "      <td>NaN</td>\n",
       "      <td>NaN</td>\n",
       "      <td>0.090323</td>\n",
       "    </tr>\n",
       "    <tr>\n",
       "      <th>20056-22863</th>\n",
       "      <td>0.066079</td>\n",
       "      <td>0.084615</td>\n",
       "      <td>0.100909</td>\n",
       "      <td>NaN</td>\n",
       "      <td>0.053254</td>\n",
       "      <td>NaN</td>\n",
       "      <td>NaN</td>\n",
       "      <td>0.084075</td>\n",
       "    </tr>\n",
       "    <tr>\n",
       "      <th>22864-25671</th>\n",
       "      <td>0.083333</td>\n",
       "      <td>0.026087</td>\n",
       "      <td>0.105263</td>\n",
       "      <td>NaN</td>\n",
       "      <td>0.066929</td>\n",
       "      <td>NaN</td>\n",
       "      <td>NaN</td>\n",
       "      <td>0.089561</td>\n",
       "    </tr>\n",
       "    <tr>\n",
       "      <th>25672-28479</th>\n",
       "      <td>0.073707</td>\n",
       "      <td>0.045977</td>\n",
       "      <td>0.101200</td>\n",
       "      <td>NaN</td>\n",
       "      <td>0.070755</td>\n",
       "      <td>NaN</td>\n",
       "      <td>NaN</td>\n",
       "      <td>0.085415</td>\n",
       "    </tr>\n",
       "    <tr>\n",
       "      <th>28480-31287</th>\n",
       "      <td>0.088235</td>\n",
       "      <td>0.089744</td>\n",
       "      <td>0.086601</td>\n",
       "      <td>NaN</td>\n",
       "      <td>0.074324</td>\n",
       "      <td>NaN</td>\n",
       "      <td>NaN</td>\n",
       "      <td>0.085739</td>\n",
       "    </tr>\n",
       "    <tr>\n",
       "      <th>31288 &gt;</th>\n",
       "      <td>0.063922</td>\n",
       "      <td>0.048469</td>\n",
       "      <td>0.083694</td>\n",
       "      <td>NaN</td>\n",
       "      <td>0.060302</td>\n",
       "      <td>NaN</td>\n",
       "      <td>0.0</td>\n",
       "      <td>0.071734</td>\n",
       "    </tr>\n",
       "    <tr>\n",
       "      <th>All</th>\n",
       "      <td>0.074016</td>\n",
       "      <td>0.059025</td>\n",
       "      <td>0.095724</td>\n",
       "      <td>1.0</td>\n",
       "      <td>0.056412</td>\n",
       "      <td>0.0</td>\n",
       "      <td>0.5</td>\n",
       "      <td>0.081150</td>\n",
       "    </tr>\n",
       "  </tbody>\n",
       "</table>\n",
       "</div>"
      ]
     },
     "metadata": {},
     "execution_count": 33
    }
   ],
   "metadata": {}
  },
  {
   "cell_type": "code",
   "execution_count": 34,
   "source": [
    "tempdf = df.merge(income_ref, on='income_type_id', how='left')\n",
    "\n",
    "create_pivot_percentage(tempdf, 'income_type', 'veteran', 'debt', True).sort_values('All', ascending=False)"
   ],
   "outputs": [
    {
     "output_type": "execute_result",
     "data": {
      "text/plain": [
       "veteran                         False      True       All\n",
       "income_type                                              \n",
       "paternity / maternity leave       NaN  1.000000  1.000000\n",
       "unemployed                   0.500000       NaN  0.500000\n",
       "employee                     0.109525  0.074977  0.095724\n",
       "All                          0.086846  0.070033  0.081150\n",
       "business                     0.080026  0.064614  0.074016\n",
       "civil servant                0.063439  0.055944  0.059025\n",
       "retiree                      0.056412       NaN  0.056412\n",
       "student                      0.000000       NaN  0.000000"
      ],
      "text/html": [
       "<div>\n",
       "<style scoped>\n",
       "    .dataframe tbody tr th:only-of-type {\n",
       "        vertical-align: middle;\n",
       "    }\n",
       "\n",
       "    .dataframe tbody tr th {\n",
       "        vertical-align: top;\n",
       "    }\n",
       "\n",
       "    .dataframe thead th {\n",
       "        text-align: right;\n",
       "    }\n",
       "</style>\n",
       "<table border=\"1\" class=\"dataframe\">\n",
       "  <thead>\n",
       "    <tr style=\"text-align: right;\">\n",
       "      <th>veteran</th>\n",
       "      <th>False</th>\n",
       "      <th>True</th>\n",
       "      <th>All</th>\n",
       "    </tr>\n",
       "    <tr>\n",
       "      <th>income_type</th>\n",
       "      <th></th>\n",
       "      <th></th>\n",
       "      <th></th>\n",
       "    </tr>\n",
       "  </thead>\n",
       "  <tbody>\n",
       "    <tr>\n",
       "      <th>paternity / maternity leave</th>\n",
       "      <td>NaN</td>\n",
       "      <td>1.000000</td>\n",
       "      <td>1.000000</td>\n",
       "    </tr>\n",
       "    <tr>\n",
       "      <th>unemployed</th>\n",
       "      <td>0.500000</td>\n",
       "      <td>NaN</td>\n",
       "      <td>0.500000</td>\n",
       "    </tr>\n",
       "    <tr>\n",
       "      <th>employee</th>\n",
       "      <td>0.109525</td>\n",
       "      <td>0.074977</td>\n",
       "      <td>0.095724</td>\n",
       "    </tr>\n",
       "    <tr>\n",
       "      <th>All</th>\n",
       "      <td>0.086846</td>\n",
       "      <td>0.070033</td>\n",
       "      <td>0.081150</td>\n",
       "    </tr>\n",
       "    <tr>\n",
       "      <th>business</th>\n",
       "      <td>0.080026</td>\n",
       "      <td>0.064614</td>\n",
       "      <td>0.074016</td>\n",
       "    </tr>\n",
       "    <tr>\n",
       "      <th>civil servant</th>\n",
       "      <td>0.063439</td>\n",
       "      <td>0.055944</td>\n",
       "      <td>0.059025</td>\n",
       "    </tr>\n",
       "    <tr>\n",
       "      <th>retiree</th>\n",
       "      <td>0.056412</td>\n",
       "      <td>NaN</td>\n",
       "      <td>0.056412</td>\n",
       "    </tr>\n",
       "    <tr>\n",
       "      <th>student</th>\n",
       "      <td>0.000000</td>\n",
       "      <td>NaN</td>\n",
       "      <td>0.000000</td>\n",
       "    </tr>\n",
       "  </tbody>\n",
       "</table>\n",
       "</div>"
      ]
     },
     "metadata": {},
     "execution_count": 34
    }
   ],
   "metadata": {}
  },
  {
   "cell_type": "markdown",
   "source": [
    "3) Answer:\n",
    "- Besides very high total income values makes the client more trustworthy, there isn't much relation between defaulting on a loan and their income level.\n",
    "- However, considering income type, 9.5% of the employees have defaulted on loans, followed by 7.5% of business owners, 5.9% of civil servants and 5.6% of retirees. Students and paternity / maternity leave do not have significant data for analysis.\n",
    "- People with long periods in the same job tend to offer less risks, specially for employees and business owners."
   ],
   "metadata": {}
  },
  {
   "cell_type": "markdown",
   "source": [
    "4) Question:\n",
    "- How do different loan purposes affect on-time repayment of the loan?"
   ],
   "metadata": {}
  },
  {
   "cell_type": "code",
   "execution_count": 35,
   "source": [
    "tempdf = df.merge(education_ref, on='education_id', how='left')\n",
    "create_pivot_percentage(tempdf, 'purpose_stem', 'education', 'debt', True).sort_values('All', ascending=False)"
   ],
   "outputs": [
    {
     "output_type": "execute_result",
     "data": {
      "text/plain": [
       "education     bachelor's degree  graduate degree  primary education  \\\n",
       "purpose_stem                                                          \n",
       "car                    0.056533              NaN           0.139535   \n",
       "education              0.058887              0.0           0.090909   \n",
       "second-hand            0.091667              NaN           0.000000   \n",
       "All                    0.052952              0.0           0.109929   \n",
       "wedding                0.045000              NaN           0.142857   \n",
       "property               0.052465              0.0           0.092784   \n",
       "housing                0.041894              0.0           0.148936   \n",
       "\n",
       "education     secondary education  some college       All  \n",
       "purpose_stem                                               \n",
       "car                      0.105616      0.111111  0.094554  \n",
       "education                0.103043      0.091603  0.092200  \n",
       "second-hand              0.091716      0.083333  0.090249  \n",
       "All                      0.089902      0.091398  0.081150  \n",
       "wedding                  0.092203      0.075000  0.080034  \n",
       "property                 0.083222      0.085837  0.075829  \n",
       "housing                  0.073718      0.095238  0.067271  "
      ],
      "text/html": [
       "<div>\n",
       "<style scoped>\n",
       "    .dataframe tbody tr th:only-of-type {\n",
       "        vertical-align: middle;\n",
       "    }\n",
       "\n",
       "    .dataframe tbody tr th {\n",
       "        vertical-align: top;\n",
       "    }\n",
       "\n",
       "    .dataframe thead th {\n",
       "        text-align: right;\n",
       "    }\n",
       "</style>\n",
       "<table border=\"1\" class=\"dataframe\">\n",
       "  <thead>\n",
       "    <tr style=\"text-align: right;\">\n",
       "      <th>education</th>\n",
       "      <th>bachelor's degree</th>\n",
       "      <th>graduate degree</th>\n",
       "      <th>primary education</th>\n",
       "      <th>secondary education</th>\n",
       "      <th>some college</th>\n",
       "      <th>All</th>\n",
       "    </tr>\n",
       "    <tr>\n",
       "      <th>purpose_stem</th>\n",
       "      <th></th>\n",
       "      <th></th>\n",
       "      <th></th>\n",
       "      <th></th>\n",
       "      <th></th>\n",
       "      <th></th>\n",
       "    </tr>\n",
       "  </thead>\n",
       "  <tbody>\n",
       "    <tr>\n",
       "      <th>car</th>\n",
       "      <td>0.056533</td>\n",
       "      <td>NaN</td>\n",
       "      <td>0.139535</td>\n",
       "      <td>0.105616</td>\n",
       "      <td>0.111111</td>\n",
       "      <td>0.094554</td>\n",
       "    </tr>\n",
       "    <tr>\n",
       "      <th>education</th>\n",
       "      <td>0.058887</td>\n",
       "      <td>0.0</td>\n",
       "      <td>0.090909</td>\n",
       "      <td>0.103043</td>\n",
       "      <td>0.091603</td>\n",
       "      <td>0.092200</td>\n",
       "    </tr>\n",
       "    <tr>\n",
       "      <th>second-hand</th>\n",
       "      <td>0.091667</td>\n",
       "      <td>NaN</td>\n",
       "      <td>0.000000</td>\n",
       "      <td>0.091716</td>\n",
       "      <td>0.083333</td>\n",
       "      <td>0.090249</td>\n",
       "    </tr>\n",
       "    <tr>\n",
       "      <th>All</th>\n",
       "      <td>0.052952</td>\n",
       "      <td>0.0</td>\n",
       "      <td>0.109929</td>\n",
       "      <td>0.089902</td>\n",
       "      <td>0.091398</td>\n",
       "      <td>0.081150</td>\n",
       "    </tr>\n",
       "    <tr>\n",
       "      <th>wedding</th>\n",
       "      <td>0.045000</td>\n",
       "      <td>NaN</td>\n",
       "      <td>0.142857</td>\n",
       "      <td>0.092203</td>\n",
       "      <td>0.075000</td>\n",
       "      <td>0.080034</td>\n",
       "    </tr>\n",
       "    <tr>\n",
       "      <th>property</th>\n",
       "      <td>0.052465</td>\n",
       "      <td>0.0</td>\n",
       "      <td>0.092784</td>\n",
       "      <td>0.083222</td>\n",
       "      <td>0.085837</td>\n",
       "      <td>0.075829</td>\n",
       "    </tr>\n",
       "    <tr>\n",
       "      <th>housing</th>\n",
       "      <td>0.041894</td>\n",
       "      <td>0.0</td>\n",
       "      <td>0.148936</td>\n",
       "      <td>0.073718</td>\n",
       "      <td>0.095238</td>\n",
       "      <td>0.067271</td>\n",
       "    </tr>\n",
       "  </tbody>\n",
       "</table>\n",
       "</div>"
      ]
     },
     "metadata": {},
     "execution_count": 35
    }
   ],
   "metadata": {}
  },
  {
   "cell_type": "markdown",
   "source": [
    "4) Answer:\n",
    "- Loans taken to buy cars or for education are more likely to get defaulted, with a percentage of 9.4%. Loans for properties and housing have the lowest rates, with 7.5% and 6.7%, respectively.\n",
    "- People with lower levels of education have higher rates of defaulting, specially when the purpose are cars, housing or weddings."
   ],
   "metadata": {}
  },
  {
   "cell_type": "markdown",
   "source": [
    "## Conclusion\n",
    "\n",
    "### Data Preprocess Tasks\n",
    "- The data came with missing values in days_employed and total_income\n",
    "    - days_employed had all of its values wrong in some way, so the code must be checked\n",
    "- Marital status and education should have dictionaries, and income_type could use it as well\n",
    "- Some entries are showing artifacts as 0 in age, this should be looked into \n"
   ],
   "metadata": {}
  },
  {
   "cell_type": "markdown",
   "source": [
    "### Analysis results\n",
    "- Younger people tend to default more often, with rates varying from 6% for elders to 10% for the young.\n",
    "- Kids didn't show a high impact on defaulting, whatever the age.\n",
    "- The divorced young have a default rate of 18%, which is relatively very high.\n",
    "- Unmarried clients show the same progression according to age, starting at 12% for the young and 2% for elders.\n",
    "- Married and civil partners default rates rise to 11% and 10%, respectively, before slowly decreasing after the 25-35 year-old group.\n",
    "- Divorced default rates reach their lowest rates at 36-45 years-old and 56-66 years-old, with 5.7% and 5.4%, respectively.\n",
    "- Income ranges only significantly affect default rates for very high incomes values, when they lower.\n",
    "- In order of risk of defaulting: employees, business owners, retirees and civil servants. \n",
    "- People with significant time in the same job have lower default rates, specially employees and business owners\n",
    "- Loans to buy cars and education are more likely to get defaulted, while those for properties and housing are lowers, ranging from 9.4% to 6.7%\n",
    "- Poeple with lower levels of education have higher default rates regarding, specially when the purpose are cars, wedding ceremonies and housing.\n"
   ],
   "metadata": {}
  }
 ],
 "metadata": {
  "ExecuteTimeLog": [
   {
    "duration": 970,
    "start_time": "2021-06-27T15:54:23.162Z"
   },
   {
    "duration": 3,
    "start_time": "2021-06-27T15:54:24.136Z"
   },
   {
    "duration": 13,
    "start_time": "2021-06-27T15:54:24.142Z"
   },
   {
    "duration": 19,
    "start_time": "2021-06-27T15:54:24.158Z"
   },
   {
    "duration": 47,
    "start_time": "2021-06-27T15:54:24.180Z"
   },
   {
    "duration": 12,
    "start_time": "2021-06-27T15:54:24.230Z"
   },
   {
    "duration": 14,
    "start_time": "2021-06-27T15:54:24.244Z"
   },
   {
    "duration": 13,
    "start_time": "2021-06-27T15:54:24.261Z"
   },
   {
    "duration": 8,
    "start_time": "2021-06-27T15:54:24.278Z"
   },
   {
    "duration": 42,
    "start_time": "2021-06-27T15:54:24.290Z"
   },
   {
    "duration": 8,
    "start_time": "2021-06-27T15:54:24.334Z"
   },
   {
    "duration": 18,
    "start_time": "2021-06-27T15:54:24.345Z"
   },
   {
    "duration": 8,
    "start_time": "2021-06-27T15:54:24.365Z"
   },
   {
    "duration": 74,
    "start_time": "2021-06-27T15:54:24.375Z"
   },
   {
    "duration": 21,
    "start_time": "2021-06-27T15:54:24.451Z"
   },
   {
    "duration": 15,
    "start_time": "2021-06-27T15:54:24.475Z"
   },
   {
    "duration": 47,
    "start_time": "2021-06-27T15:54:24.492Z"
   },
   {
    "duration": 44,
    "start_time": "2021-06-27T15:54:24.541Z"
   },
   {
    "duration": 44,
    "start_time": "2021-06-27T15:54:24.587Z"
   },
   {
    "duration": 12,
    "start_time": "2021-06-27T15:54:24.634Z"
   },
   {
    "duration": 9,
    "start_time": "2021-06-27T15:54:24.649Z"
   },
   {
    "duration": 372,
    "start_time": "2021-06-27T15:54:24.661Z"
   },
   {
    "duration": -78,
    "start_time": "2021-06-27T15:54:25.114Z"
   },
   {
    "duration": -80,
    "start_time": "2021-06-27T15:54:25.117Z"
   },
   {
    "duration": -79,
    "start_time": "2021-06-27T15:54:25.118Z"
   },
   {
    "duration": -79,
    "start_time": "2021-06-27T15:54:25.120Z"
   },
   {
    "duration": -78,
    "start_time": "2021-06-27T15:54:25.121Z"
   },
   {
    "duration": -77,
    "start_time": "2021-06-27T15:54:25.122Z"
   },
   {
    "duration": -77,
    "start_time": "2021-06-27T15:54:25.124Z"
   },
   {
    "duration": -76,
    "start_time": "2021-06-27T15:54:25.125Z"
   },
   {
    "duration": -75,
    "start_time": "2021-06-27T15:54:25.126Z"
   },
   {
    "duration": 363,
    "start_time": "2021-06-27T23:51:52.162Z"
   },
   {
    "duration": 289,
    "start_time": "2021-06-27T23:51:57.314Z"
   },
   {
    "duration": 1100,
    "start_time": "2021-06-27T23:52:48.256Z"
   },
   {
    "duration": 6,
    "start_time": "2021-06-27T23:52:49.359Z"
   },
   {
    "duration": 11,
    "start_time": "2021-06-27T23:52:49.387Z"
   },
   {
    "duration": 18,
    "start_time": "2021-06-27T23:52:49.401Z"
   },
   {
    "duration": 12,
    "start_time": "2021-06-27T23:52:49.421Z"
   },
   {
    "duration": 15,
    "start_time": "2021-06-27T23:52:49.436Z"
   },
   {
    "duration": 39,
    "start_time": "2021-06-27T23:52:49.453Z"
   },
   {
    "duration": 11,
    "start_time": "2021-06-27T23:52:49.496Z"
   },
   {
    "duration": 15,
    "start_time": "2021-06-27T23:52:49.510Z"
   },
   {
    "duration": 20,
    "start_time": "2021-06-27T23:52:49.527Z"
   },
   {
    "duration": 38,
    "start_time": "2021-06-27T23:52:49.549Z"
   },
   {
    "duration": 16,
    "start_time": "2021-06-27T23:52:49.590Z"
   },
   {
    "duration": 8,
    "start_time": "2021-06-27T23:52:49.608Z"
   },
   {
    "duration": 32,
    "start_time": "2021-06-27T23:52:49.618Z"
   },
   {
    "duration": 22,
    "start_time": "2021-06-27T23:52:49.685Z"
   },
   {
    "duration": 18,
    "start_time": "2021-06-27T23:52:49.709Z"
   },
   {
    "duration": 25,
    "start_time": "2021-06-27T23:52:49.729Z"
   },
   {
    "duration": 45,
    "start_time": "2021-06-27T23:52:49.786Z"
   },
   {
    "duration": 14,
    "start_time": "2021-06-27T23:52:49.833Z"
   },
   {
    "duration": 35,
    "start_time": "2021-06-27T23:52:49.850Z"
   },
   {
    "duration": 7,
    "start_time": "2021-06-27T23:52:49.888Z"
   },
   {
    "duration": 409,
    "start_time": "2021-06-27T23:52:49.898Z"
   },
   {
    "duration": 173,
    "start_time": "2021-06-27T23:52:50.138Z"
   },
   {
    "duration": 168,
    "start_time": "2021-06-27T23:52:50.145Z"
   },
   {
    "duration": 163,
    "start_time": "2021-06-27T23:52:50.151Z"
   },
   {
    "duration": 160,
    "start_time": "2021-06-27T23:52:50.156Z"
   },
   {
    "duration": 157,
    "start_time": "2021-06-27T23:52:50.160Z"
   },
   {
    "duration": 146,
    "start_time": "2021-06-27T23:52:50.173Z"
   },
   {
    "duration": 131,
    "start_time": "2021-06-27T23:52:50.190Z"
   },
   {
    "duration": 114,
    "start_time": "2021-06-27T23:52:50.208Z"
   },
   {
    "duration": 109,
    "start_time": "2021-06-27T23:52:50.215Z"
   },
   {
    "duration": 117,
    "start_time": "2021-06-28T00:10:54.647Z"
   },
   {
    "duration": 311,
    "start_time": "2021-06-28T00:11:20.157Z"
   },
   {
    "duration": 1004,
    "start_time": "2021-06-28T00:27:45.391Z"
   },
   {
    "duration": 12,
    "start_time": "2021-06-28T00:27:48.774Z"
   },
   {
    "duration": 857,
    "start_time": "2021-06-28T00:31:28.822Z"
   },
   {
    "duration": 5,
    "start_time": "2021-06-28T00:31:41.296Z"
   },
   {
    "duration": 9,
    "start_time": "2021-06-28T00:31:47.105Z"
   },
   {
    "duration": 13,
    "start_time": "2021-06-28T00:39:04.604Z"
   },
   {
    "duration": 10,
    "start_time": "2021-06-28T00:39:12.325Z"
   },
   {
    "duration": 10,
    "start_time": "2021-06-28T00:39:32.417Z"
   },
   {
    "duration": 12,
    "start_time": "2021-06-28T02:18:13.304Z"
   },
   {
    "duration": 15,
    "start_time": "2021-06-28T02:19:27.955Z"
   },
   {
    "duration": 102,
    "start_time": "2021-06-28T02:22:32.314Z"
   },
   {
    "duration": 111,
    "start_time": "2021-06-28T02:22:45.795Z"
   },
   {
    "duration": 37,
    "start_time": "2021-06-28T02:23:01.757Z"
   },
   {
    "duration": 34,
    "start_time": "2021-06-28T02:23:31.584Z"
   },
   {
    "duration": 534,
    "start_time": "2021-06-28T02:23:55.211Z"
   },
   {
    "duration": 34,
    "start_time": "2021-06-28T02:24:16.770Z"
   },
   {
    "duration": 325,
    "start_time": "2021-06-28T02:56:34.520Z"
   },
   {
    "duration": 301,
    "start_time": "2021-06-28T02:57:25.708Z"
   },
   {
    "duration": 44,
    "start_time": "2021-06-28T02:57:41.635Z"
   },
   {
    "duration": 334,
    "start_time": "2021-06-28T02:58:09.809Z"
   },
   {
    "duration": 356,
    "start_time": "2021-06-28T02:59:11.929Z"
   },
   {
    "duration": 39,
    "start_time": "2021-06-28T02:59:26.096Z"
   },
   {
    "duration": 42,
    "start_time": "2021-06-28T03:00:15.666Z"
   },
   {
    "duration": 417,
    "start_time": "2021-06-28T13:00:07.051Z"
   },
   {
    "duration": 999,
    "start_time": "2021-06-28T13:00:22.068Z"
   },
   {
    "duration": 42,
    "start_time": "2021-06-28T13:00:27.116Z"
   },
   {
    "duration": 41,
    "start_time": "2021-06-28T13:01:26.977Z"
   },
   {
    "duration": 41,
    "start_time": "2021-06-28T13:01:34.648Z"
   },
   {
    "duration": 8354,
    "start_time": "2021-06-28T13:02:12.528Z"
   },
   {
    "duration": 9261,
    "start_time": "2021-06-28T13:02:23.419Z"
   },
   {
    "duration": 43,
    "start_time": "2021-06-28T13:02:45.110Z"
   },
   {
    "duration": 103,
    "start_time": "2021-06-28T13:11:14.950Z"
   },
   {
    "duration": 315,
    "start_time": "2021-06-28T13:11:22.816Z"
   },
   {
    "duration": 62,
    "start_time": "2021-06-28T13:11:41.700Z"
   },
   {
    "duration": 1224,
    "start_time": "2021-06-28T17:54:18.475Z"
   },
   {
    "duration": 69,
    "start_time": "2021-06-28T17:54:19.702Z"
   },
   {
    "duration": 11,
    "start_time": "2021-06-28T17:54:19.774Z"
   },
   {
    "duration": 19,
    "start_time": "2021-06-28T17:54:19.808Z"
   },
   {
    "duration": 8,
    "start_time": "2021-06-28T17:54:19.829Z"
   },
   {
    "duration": 16,
    "start_time": "2021-06-28T17:54:19.840Z"
   },
   {
    "duration": 7,
    "start_time": "2021-06-28T17:54:19.858Z"
   },
   {
    "duration": 49,
    "start_time": "2021-06-28T17:54:19.869Z"
   },
   {
    "duration": 8,
    "start_time": "2021-06-28T17:54:19.921Z"
   },
   {
    "duration": 22,
    "start_time": "2021-06-28T17:54:19.932Z"
   },
   {
    "duration": 8,
    "start_time": "2021-06-28T17:54:19.956Z"
   },
   {
    "duration": 50,
    "start_time": "2021-06-28T17:54:19.967Z"
   },
   {
    "duration": 9,
    "start_time": "2021-06-28T17:54:20.019Z"
   },
   {
    "duration": 37,
    "start_time": "2021-06-28T17:54:20.031Z"
   },
   {
    "duration": 49,
    "start_time": "2021-06-28T17:54:20.070Z"
   },
   {
    "duration": 17,
    "start_time": "2021-06-28T17:54:20.122Z"
   },
   {
    "duration": 25,
    "start_time": "2021-06-28T17:54:20.142Z"
   },
   {
    "duration": 77,
    "start_time": "2021-06-28T17:54:20.170Z"
   },
   {
    "duration": 14,
    "start_time": "2021-06-28T17:54:20.249Z"
   },
   {
    "duration": 11,
    "start_time": "2021-06-28T17:54:20.266Z"
   },
   {
    "duration": 29,
    "start_time": "2021-06-28T17:54:20.280Z"
   },
   {
    "duration": 429,
    "start_time": "2021-06-28T17:54:20.312Z"
   },
   {
    "duration": 236,
    "start_time": "2021-06-28T17:54:20.508Z"
   },
   {
    "duration": 227,
    "start_time": "2021-06-28T17:54:20.518Z"
   },
   {
    "duration": 208,
    "start_time": "2021-06-28T17:54:20.538Z"
   },
   {
    "duration": 197,
    "start_time": "2021-06-28T17:54:20.551Z"
   },
   {
    "duration": 191,
    "start_time": "2021-06-28T17:54:20.559Z"
   },
   {
    "duration": 149,
    "start_time": "2021-06-28T17:54:20.602Z"
   },
   {
    "duration": 141,
    "start_time": "2021-06-28T17:54:20.611Z"
   },
   {
    "duration": 131,
    "start_time": "2021-06-28T17:54:20.623Z"
   },
   {
    "duration": 53,
    "start_time": "2021-06-28T17:54:20.702Z"
   },
   {
    "duration": 1083,
    "start_time": "2021-06-28T17:55:15.441Z"
   },
   {
    "duration": 90,
    "start_time": "2021-06-28T17:55:16.527Z"
   },
   {
    "duration": 14,
    "start_time": "2021-06-28T17:55:16.620Z"
   },
   {
    "duration": 42,
    "start_time": "2021-06-28T17:55:16.638Z"
   },
   {
    "duration": 9,
    "start_time": "2021-06-28T17:55:16.683Z"
   },
   {
    "duration": 11,
    "start_time": "2021-06-28T17:55:16.709Z"
   },
   {
    "duration": 8,
    "start_time": "2021-06-28T17:55:16.723Z"
   },
   {
    "duration": 11,
    "start_time": "2021-06-28T17:55:16.735Z"
   },
   {
    "duration": 9,
    "start_time": "2021-06-28T17:55:16.749Z"
   },
   {
    "duration": 56,
    "start_time": "2021-06-28T17:55:16.760Z"
   },
   {
    "duration": 8,
    "start_time": "2021-06-28T17:55:16.819Z"
   },
   {
    "duration": 15,
    "start_time": "2021-06-28T17:55:16.829Z"
   },
   {
    "duration": 8,
    "start_time": "2021-06-28T17:55:16.847Z"
   },
   {
    "duration": 71,
    "start_time": "2021-06-28T17:55:16.857Z"
   },
   {
    "duration": 21,
    "start_time": "2021-06-28T17:55:16.930Z"
   },
   {
    "duration": 21,
    "start_time": "2021-06-28T17:55:16.953Z"
   },
   {
    "duration": 22,
    "start_time": "2021-06-28T17:55:17.009Z"
   },
   {
    "duration": 47,
    "start_time": "2021-06-28T17:55:17.033Z"
   },
   {
    "duration": 36,
    "start_time": "2021-06-28T17:55:17.082Z"
   },
   {
    "duration": 10,
    "start_time": "2021-06-28T17:55:17.121Z"
   },
   {
    "duration": 8,
    "start_time": "2021-06-28T17:55:17.133Z"
   },
   {
    "duration": 78,
    "start_time": "2021-06-28T17:55:17.143Z"
   },
   {
    "duration": 104,
    "start_time": "2021-06-28T17:55:17.226Z"
   },
   {
    "duration": 9761,
    "start_time": "2021-06-28T17:55:17.333Z"
   },
   {
    "duration": 26,
    "start_time": "2021-06-28T17:55:27.096Z"
   },
   {
    "duration": 136,
    "start_time": "2021-06-28T17:55:27.125Z"
   },
   {
    "duration": 89,
    "start_time": "2021-06-28T17:55:27.264Z"
   },
   {
    "duration": 193,
    "start_time": "2021-06-28T17:55:27.355Z"
   },
   {
    "duration": 163,
    "start_time": "2021-06-28T17:55:27.550Z"
   },
   {
    "duration": 31,
    "start_time": "2021-06-28T17:55:27.716Z"
   },
   {
    "duration": 188,
    "start_time": "2021-06-28T17:55:27.750Z"
   },
   {
    "duration": 493,
    "start_time": "2021-06-28T17:57:13.579Z"
   },
   {
    "duration": 1066,
    "start_time": "2021-06-28T17:57:21.538Z"
   },
   {
    "duration": 68,
    "start_time": "2021-06-28T17:57:22.606Z"
   },
   {
    "duration": 10,
    "start_time": "2021-06-28T17:57:22.677Z"
   },
   {
    "duration": 39,
    "start_time": "2021-06-28T17:57:22.690Z"
   },
   {
    "duration": 10,
    "start_time": "2021-06-28T17:57:22.732Z"
   },
   {
    "duration": 15,
    "start_time": "2021-06-28T17:57:22.744Z"
   },
   {
    "duration": 53,
    "start_time": "2021-06-28T17:57:22.762Z"
   },
   {
    "duration": 12,
    "start_time": "2021-06-28T17:57:22.819Z"
   },
   {
    "duration": 9,
    "start_time": "2021-06-28T17:57:22.835Z"
   },
   {
    "duration": 12,
    "start_time": "2021-06-28T17:57:22.847Z"
   },
   {
    "duration": 53,
    "start_time": "2021-06-28T17:57:22.862Z"
   },
   {
    "duration": 18,
    "start_time": "2021-06-28T17:57:22.918Z"
   },
   {
    "duration": 11,
    "start_time": "2021-06-28T17:57:22.938Z"
   },
   {
    "duration": 73,
    "start_time": "2021-06-28T17:57:22.952Z"
   },
   {
    "duration": 23,
    "start_time": "2021-06-28T17:57:23.027Z"
   },
   {
    "duration": 25,
    "start_time": "2021-06-28T17:57:23.052Z"
   },
   {
    "duration": 47,
    "start_time": "2021-06-28T17:57:23.079Z"
   },
   {
    "duration": 48,
    "start_time": "2021-06-28T17:57:23.128Z"
   },
   {
    "duration": 32,
    "start_time": "2021-06-28T17:57:23.178Z"
   },
   {
    "duration": 10,
    "start_time": "2021-06-28T17:57:23.212Z"
   },
   {
    "duration": 10,
    "start_time": "2021-06-28T17:57:23.225Z"
   },
   {
    "duration": 37,
    "start_time": "2021-06-28T17:57:23.238Z"
   },
   {
    "duration": 113,
    "start_time": "2021-06-28T17:57:23.279Z"
   },
   {
    "duration": 10142,
    "start_time": "2021-06-28T17:57:23.395Z"
   },
   {
    "duration": 18,
    "start_time": "2021-06-28T17:57:33.540Z"
   },
   {
    "duration": 157,
    "start_time": "2021-06-28T17:57:33.560Z"
   },
   {
    "duration": 87,
    "start_time": "2021-06-28T17:57:33.738Z"
   },
   {
    "duration": 215,
    "start_time": "2021-06-28T17:57:33.828Z"
   },
   {
    "duration": 172,
    "start_time": "2021-06-28T17:57:34.046Z"
   },
   {
    "duration": 36,
    "start_time": "2021-06-28T17:57:34.221Z"
   },
   {
    "duration": 210,
    "start_time": "2021-06-28T17:57:34.260Z"
   },
   {
    "duration": 1148,
    "start_time": "2021-06-28T17:58:06.464Z"
   },
   {
    "duration": 70,
    "start_time": "2021-06-28T17:58:07.615Z"
   },
   {
    "duration": 11,
    "start_time": "2021-06-28T17:58:07.708Z"
   },
   {
    "duration": 22,
    "start_time": "2021-06-28T17:58:07.722Z"
   },
   {
    "duration": 32,
    "start_time": "2021-06-28T17:58:07.746Z"
   },
   {
    "duration": 39,
    "start_time": "2021-06-28T17:58:07.780Z"
   },
   {
    "duration": 14,
    "start_time": "2021-06-28T17:58:07.822Z"
   },
   {
    "duration": 14,
    "start_time": "2021-06-28T17:58:07.839Z"
   },
   {
    "duration": 31,
    "start_time": "2021-06-28T17:58:07.856Z"
   },
   {
    "duration": 11,
    "start_time": "2021-06-28T17:58:07.889Z"
   },
   {
    "duration": 12,
    "start_time": "2021-06-28T17:58:07.902Z"
   },
   {
    "duration": 19,
    "start_time": "2021-06-28T17:58:07.916Z"
   },
   {
    "duration": 8,
    "start_time": "2021-06-28T17:58:07.938Z"
   },
   {
    "duration": 62,
    "start_time": "2021-06-28T17:58:07.948Z"
   },
   {
    "duration": 21,
    "start_time": "2021-06-28T17:58:08.013Z"
   },
   {
    "duration": 39,
    "start_time": "2021-06-28T17:58:08.036Z"
   },
   {
    "duration": 33,
    "start_time": "2021-06-28T17:58:08.077Z"
   },
   {
    "duration": 52,
    "start_time": "2021-06-28T17:58:08.113Z"
   },
   {
    "duration": 42,
    "start_time": "2021-06-28T17:58:08.168Z"
   },
   {
    "duration": 11,
    "start_time": "2021-06-28T17:58:08.212Z"
   },
   {
    "duration": 25,
    "start_time": "2021-06-28T17:58:08.225Z"
   },
   {
    "duration": 38,
    "start_time": "2021-06-28T17:58:08.253Z"
   },
   {
    "duration": 89,
    "start_time": "2021-06-28T17:58:08.308Z"
   },
   {
    "duration": 9506,
    "start_time": "2021-06-28T17:58:08.409Z"
   },
   {
    "duration": 16,
    "start_time": "2021-06-28T17:58:17.918Z"
   },
   {
    "duration": 147,
    "start_time": "2021-06-28T17:58:17.937Z"
   },
   {
    "duration": 85,
    "start_time": "2021-06-28T17:58:18.086Z"
   },
   {
    "duration": 283,
    "start_time": "2021-06-28T17:58:18.173Z"
   },
   {
    "duration": 251,
    "start_time": "2021-06-28T17:58:18.459Z"
   },
   {
    "duration": 33,
    "start_time": "2021-06-28T17:58:18.713Z"
   },
   {
    "duration": 191,
    "start_time": "2021-06-28T17:58:18.748Z"
   },
   {
    "duration": 1067,
    "start_time": "2021-07-04T20:52:39.198Z"
   },
   {
    "duration": 71,
    "start_time": "2021-07-04T20:52:40.268Z"
   },
   {
    "duration": 32,
    "start_time": "2021-07-04T20:52:40.343Z"
   },
   {
    "duration": 19,
    "start_time": "2021-07-04T20:52:40.379Z"
   },
   {
    "duration": 10,
    "start_time": "2021-07-04T20:52:40.401Z"
   },
   {
    "duration": 15,
    "start_time": "2021-07-04T20:52:40.414Z"
   },
   {
    "duration": 10,
    "start_time": "2021-07-04T20:52:40.468Z"
   },
   {
    "duration": 12,
    "start_time": "2021-07-04T20:52:40.480Z"
   },
   {
    "duration": 8,
    "start_time": "2021-07-04T20:52:40.496Z"
   },
   {
    "duration": 13,
    "start_time": "2021-07-04T20:52:40.507Z"
   },
   {
    "duration": 51,
    "start_time": "2021-07-04T20:52:40.522Z"
   },
   {
    "duration": 9,
    "start_time": "2021-07-04T20:52:40.576Z"
   },
   {
    "duration": 17,
    "start_time": "2021-07-04T20:52:40.588Z"
   },
   {
    "duration": 67,
    "start_time": "2021-07-04T20:52:40.607Z"
   },
   {
    "duration": 22,
    "start_time": "2021-07-04T20:52:40.676Z"
   },
   {
    "duration": 15,
    "start_time": "2021-07-04T20:52:40.700Z"
   },
   {
    "duration": 12,
    "start_time": "2021-07-04T20:52:40.718Z"
   },
   {
    "duration": 22,
    "start_time": "2021-07-04T20:52:40.767Z"
   },
   {
    "duration": 47,
    "start_time": "2021-07-04T20:52:40.792Z"
   },
   {
    "duration": 39,
    "start_time": "2021-07-04T20:52:40.841Z"
   },
   {
    "duration": 10,
    "start_time": "2021-07-04T20:52:40.883Z"
   },
   {
    "duration": 7,
    "start_time": "2021-07-04T20:52:40.895Z"
   },
   {
    "duration": 62,
    "start_time": "2021-07-04T20:52:40.905Z"
   },
   {
    "duration": 100,
    "start_time": "2021-07-04T20:52:40.969Z"
   },
   {
    "duration": 9321,
    "start_time": "2021-07-04T20:52:41.071Z"
   },
   {
    "duration": 16,
    "start_time": "2021-07-04T20:52:50.394Z"
   },
   {
    "duration": 136,
    "start_time": "2021-07-04T20:52:50.415Z"
   },
   {
    "duration": 78,
    "start_time": "2021-07-04T20:52:50.553Z"
   },
   {
    "duration": 188,
    "start_time": "2021-07-04T20:52:50.633Z"
   },
   {
    "duration": 156,
    "start_time": "2021-07-04T20:52:50.823Z"
   },
   {
    "duration": 32,
    "start_time": "2021-07-04T20:52:50.981Z"
   },
   {
    "duration": 190,
    "start_time": "2021-07-04T20:52:51.015Z"
   },
   {
    "duration": 1483,
    "start_time": "2021-07-04T23:06:28.248Z"
   },
   {
    "duration": 130,
    "start_time": "2021-07-04T23:06:29.735Z"
   },
   {
    "duration": 15,
    "start_time": "2021-07-04T23:06:29.869Z"
   },
   {
    "duration": 19,
    "start_time": "2021-07-04T23:06:29.887Z"
   },
   {
    "duration": 53,
    "start_time": "2021-07-04T23:06:29.909Z"
   },
   {
    "duration": 15,
    "start_time": "2021-07-04T23:06:29.965Z"
   },
   {
    "duration": 8,
    "start_time": "2021-07-04T23:06:29.983Z"
   },
   {
    "duration": 28,
    "start_time": "2021-07-04T23:06:29.995Z"
   },
   {
    "duration": 38,
    "start_time": "2021-07-04T23:06:30.026Z"
   },
   {
    "duration": 10,
    "start_time": "2021-07-04T23:06:30.066Z"
   },
   {
    "duration": 16,
    "start_time": "2021-07-04T23:06:30.079Z"
   },
   {
    "duration": 38,
    "start_time": "2021-07-04T23:06:30.098Z"
   },
   {
    "duration": 44,
    "start_time": "2021-07-04T23:06:30.139Z"
   },
   {
    "duration": 32,
    "start_time": "2021-07-04T23:06:30.186Z"
   },
   {
    "duration": 52,
    "start_time": "2021-07-04T23:06:30.220Z"
   },
   {
    "duration": 26,
    "start_time": "2021-07-04T23:06:30.274Z"
   },
   {
    "duration": 18,
    "start_time": "2021-07-04T23:06:30.302Z"
   },
   {
    "duration": 51,
    "start_time": "2021-07-04T23:06:30.322Z"
   },
   {
    "duration": 48,
    "start_time": "2021-07-04T23:06:30.376Z"
   },
   {
    "duration": 40,
    "start_time": "2021-07-04T23:06:30.427Z"
   },
   {
    "duration": 11,
    "start_time": "2021-07-04T23:06:30.470Z"
   },
   {
    "duration": 9,
    "start_time": "2021-07-04T23:06:30.483Z"
   },
   {
    "duration": 73,
    "start_time": "2021-07-04T23:06:30.497Z"
   },
   {
    "duration": 101,
    "start_time": "2021-07-04T23:06:30.573Z"
   },
   {
    "duration": 9271,
    "start_time": "2021-07-04T23:06:30.678Z"
   },
   {
    "duration": 27,
    "start_time": "2021-07-04T23:06:39.951Z"
   },
   {
    "duration": 195,
    "start_time": "2021-07-04T23:06:39.981Z"
   },
   {
    "duration": 118,
    "start_time": "2021-07-04T23:06:40.180Z"
   },
   {
    "duration": 265,
    "start_time": "2021-07-04T23:06:40.301Z"
   },
   {
    "duration": 225,
    "start_time": "2021-07-04T23:06:40.569Z"
   },
   {
    "duration": 47,
    "start_time": "2021-07-04T23:06:40.797Z"
   },
   {
    "duration": 257,
    "start_time": "2021-07-04T23:06:40.863Z"
   },
   {
    "duration": 768,
    "start_time": "2021-07-05T15:28:44.510Z"
   },
   {
    "duration": 54,
    "start_time": "2021-07-05T15:28:45.280Z"
   },
   {
    "duration": 7,
    "start_time": "2021-07-05T15:28:45.336Z"
   },
   {
    "duration": 12,
    "start_time": "2021-07-05T15:28:45.344Z"
   },
   {
    "duration": 6,
    "start_time": "2021-07-05T15:28:45.358Z"
   },
   {
    "duration": 33,
    "start_time": "2021-07-05T15:28:45.365Z"
   },
   {
    "duration": 6,
    "start_time": "2021-07-05T15:28:45.401Z"
   },
   {
    "duration": 10,
    "start_time": "2021-07-05T15:28:45.410Z"
   },
   {
    "duration": 7,
    "start_time": "2021-07-05T15:28:45.422Z"
   },
   {
    "duration": 10,
    "start_time": "2021-07-05T15:28:45.431Z"
   },
   {
    "duration": 6,
    "start_time": "2021-07-05T15:28:45.443Z"
   },
   {
    "duration": 43,
    "start_time": "2021-07-05T15:28:45.451Z"
   },
   {
    "duration": 15,
    "start_time": "2021-07-05T15:28:45.497Z"
   },
   {
    "duration": 17,
    "start_time": "2021-07-05T15:28:45.513Z"
   },
   {
    "duration": 14,
    "start_time": "2021-07-05T15:28:45.532Z"
   },
   {
    "duration": 53,
    "start_time": "2021-07-05T15:28:45.548Z"
   },
   {
    "duration": 10,
    "start_time": "2021-07-05T15:28:45.603Z"
   },
   {
    "duration": 15,
    "start_time": "2021-07-05T15:28:45.614Z"
   },
   {
    "duration": 28,
    "start_time": "2021-07-05T15:28:45.630Z"
   },
   {
    "duration": 40,
    "start_time": "2021-07-05T15:28:45.659Z"
   },
   {
    "duration": 10,
    "start_time": "2021-07-05T15:28:45.701Z"
   },
   {
    "duration": 6,
    "start_time": "2021-07-05T15:28:45.714Z"
   },
   {
    "duration": 23,
    "start_time": "2021-07-05T15:28:45.724Z"
   },
   {
    "duration": 88,
    "start_time": "2021-07-05T15:28:45.749Z"
   },
   {
    "duration": 6116,
    "start_time": "2021-07-05T15:28:45.839Z"
   },
   {
    "duration": 11,
    "start_time": "2021-07-05T15:28:51.957Z"
   },
   {
    "duration": 95,
    "start_time": "2021-07-05T15:28:51.969Z"
   },
   {
    "duration": 63,
    "start_time": "2021-07-05T15:28:52.065Z"
   },
   {
    "duration": 119,
    "start_time": "2021-07-05T15:28:52.130Z"
   },
   {
    "duration": 105,
    "start_time": "2021-07-05T15:28:52.250Z"
   },
   {
    "duration": 31,
    "start_time": "2021-07-05T15:28:52.357Z"
   },
   {
    "duration": 114,
    "start_time": "2021-07-05T15:28:52.391Z"
   },
   {
    "duration": 4594,
    "start_time": "2021-07-05T15:29:02.124Z"
   },
   {
    "duration": 700,
    "start_time": "2021-07-05T15:29:33.456Z"
   },
   {
    "duration": 60,
    "start_time": "2021-07-05T15:29:40.642Z"
   },
   {
    "duration": 1145,
    "start_time": "2021-07-05T15:30:03.588Z"
   },
   {
    "duration": 1103,
    "start_time": "2021-07-05T15:30:12.210Z"
   },
   {
    "duration": 68,
    "start_time": "2021-07-05T15:30:23.653Z"
   },
   {
    "duration": 791,
    "start_time": "2021-07-05T15:31:14.075Z"
   },
   {
    "duration": 58,
    "start_time": "2021-07-05T15:31:14.868Z"
   },
   {
    "duration": 8,
    "start_time": "2021-07-05T15:31:14.928Z"
   },
   {
    "duration": 12,
    "start_time": "2021-07-05T15:31:14.938Z"
   },
   {
    "duration": 7,
    "start_time": "2021-07-05T15:31:14.952Z"
   },
   {
    "duration": 37,
    "start_time": "2021-07-05T15:31:14.960Z"
   },
   {
    "duration": 7,
    "start_time": "2021-07-05T15:31:15.000Z"
   },
   {
    "duration": 20,
    "start_time": "2021-07-05T15:31:15.009Z"
   },
   {
    "duration": 6,
    "start_time": "2021-07-05T15:31:15.032Z"
   },
   {
    "duration": 25,
    "start_time": "2021-07-05T15:31:15.041Z"
   },
   {
    "duration": 14,
    "start_time": "2021-07-05T15:31:15.068Z"
   },
   {
    "duration": 18,
    "start_time": "2021-07-05T15:31:15.084Z"
   },
   {
    "duration": 21,
    "start_time": "2021-07-05T15:31:15.104Z"
   },
   {
    "duration": 22,
    "start_time": "2021-07-05T15:31:15.127Z"
   },
   {
    "duration": 16,
    "start_time": "2021-07-05T15:31:15.151Z"
   },
   {
    "duration": 15,
    "start_time": "2021-07-05T15:31:15.189Z"
   },
   {
    "duration": 11,
    "start_time": "2021-07-05T15:31:15.206Z"
   },
   {
    "duration": 15,
    "start_time": "2021-07-05T15:31:15.219Z"
   },
   {
    "duration": 28,
    "start_time": "2021-07-05T15:31:15.236Z"
   },
   {
    "duration": 17,
    "start_time": "2021-07-05T15:31:15.285Z"
   },
   {
    "duration": 6,
    "start_time": "2021-07-05T15:31:15.304Z"
   },
   {
    "duration": 5,
    "start_time": "2021-07-05T15:31:15.313Z"
   },
   {
    "duration": 22,
    "start_time": "2021-07-05T15:31:15.319Z"
   },
   {
    "duration": 91,
    "start_time": "2021-07-05T15:31:15.343Z"
   },
   {
    "duration": 5848,
    "start_time": "2021-07-05T15:31:15.435Z"
   },
   {
    "duration": 20,
    "start_time": "2021-07-05T15:31:21.286Z"
   },
   {
    "duration": 121,
    "start_time": "2021-07-05T15:31:21.310Z"
   },
   {
    "duration": 68,
    "start_time": "2021-07-05T15:31:21.433Z"
   },
   {
    "duration": 122,
    "start_time": "2021-07-05T15:31:21.504Z"
   },
   {
    "duration": 106,
    "start_time": "2021-07-05T15:31:21.628Z"
   },
   {
    "duration": 20,
    "start_time": "2021-07-05T15:31:21.735Z"
   },
   {
    "duration": 119,
    "start_time": "2021-07-05T15:31:21.757Z"
   },
   {
    "duration": 868,
    "start_time": "2021-07-05T15:49:09.315Z"
   },
   {
    "duration": 57,
    "start_time": "2021-07-05T15:49:10.195Z"
   },
   {
    "duration": 6,
    "start_time": "2021-07-05T15:49:10.254Z"
   },
   {
    "duration": 39,
    "start_time": "2021-07-05T15:49:10.262Z"
   },
   {
    "duration": 25,
    "start_time": "2021-07-05T15:49:10.303Z"
   },
   {
    "duration": 17,
    "start_time": "2021-07-05T15:49:10.330Z"
   },
   {
    "duration": 17,
    "start_time": "2021-07-05T15:49:10.349Z"
   },
   {
    "duration": 25,
    "start_time": "2021-07-05T15:49:10.368Z"
   },
   {
    "duration": 13,
    "start_time": "2021-07-05T15:49:10.396Z"
   },
   {
    "duration": 22,
    "start_time": "2021-07-05T15:49:10.411Z"
   },
   {
    "duration": 26,
    "start_time": "2021-07-05T15:49:10.434Z"
   },
   {
    "duration": 12,
    "start_time": "2021-07-05T15:49:10.462Z"
   },
   {
    "duration": 29,
    "start_time": "2021-07-05T15:49:10.476Z"
   },
   {
    "duration": 17,
    "start_time": "2021-07-05T15:49:10.507Z"
   },
   {
    "duration": 16,
    "start_time": "2021-07-05T15:49:10.526Z"
   },
   {
    "duration": 26,
    "start_time": "2021-07-05T15:49:10.543Z"
   },
   {
    "duration": 32,
    "start_time": "2021-07-05T15:49:10.570Z"
   },
   {
    "duration": 28,
    "start_time": "2021-07-05T15:49:10.603Z"
   },
   {
    "duration": 29,
    "start_time": "2021-07-05T15:49:10.633Z"
   },
   {
    "duration": 11,
    "start_time": "2021-07-05T15:49:10.664Z"
   },
   {
    "duration": 22,
    "start_time": "2021-07-05T15:49:10.677Z"
   },
   {
    "duration": 13,
    "start_time": "2021-07-05T15:49:10.703Z"
   },
   {
    "duration": 45,
    "start_time": "2021-07-05T15:49:10.718Z"
   },
   {
    "duration": 61,
    "start_time": "2021-07-05T15:49:10.765Z"
   },
   {
    "duration": 5931,
    "start_time": "2021-07-05T15:49:10.828Z"
   },
   {
    "duration": 11,
    "start_time": "2021-07-05T15:49:16.760Z"
   },
   {
    "duration": 92,
    "start_time": "2021-07-05T15:49:16.772Z"
   },
   {
    "duration": 65,
    "start_time": "2021-07-05T15:49:16.865Z"
   },
   {
    "duration": 118,
    "start_time": "2021-07-05T15:49:16.931Z"
   },
   {
    "duration": 113,
    "start_time": "2021-07-05T15:49:17.051Z"
   },
   {
    "duration": 37,
    "start_time": "2021-07-05T15:49:17.166Z"
   },
   {
    "duration": 115,
    "start_time": "2021-07-05T15:49:17.205Z"
   },
   {
    "duration": 319,
    "start_time": "2021-07-05T19:46:09.776Z"
   },
   {
    "duration": 944,
    "start_time": "2021-07-05T19:46:17.984Z"
   },
   {
    "duration": 79,
    "start_time": "2021-07-05T19:46:18.932Z"
   },
   {
    "duration": 10,
    "start_time": "2021-07-05T19:46:19.014Z"
   },
   {
    "duration": 42,
    "start_time": "2021-07-05T19:46:19.026Z"
   },
   {
    "duration": 9,
    "start_time": "2021-07-05T19:46:19.070Z"
   },
   {
    "duration": 10,
    "start_time": "2021-07-05T19:46:19.082Z"
   },
   {
    "duration": 8,
    "start_time": "2021-07-05T19:46:19.095Z"
   },
   {
    "duration": 57,
    "start_time": "2021-07-05T19:46:19.107Z"
   },
   {
    "duration": 8,
    "start_time": "2021-07-05T19:46:19.167Z"
   },
   {
    "duration": 11,
    "start_time": "2021-07-05T19:46:19.177Z"
   },
   {
    "duration": 10,
    "start_time": "2021-07-05T19:46:19.190Z"
   },
   {
    "duration": 11,
    "start_time": "2021-07-05T19:46:19.203Z"
   },
   {
    "duration": 19,
    "start_time": "2021-07-05T19:46:19.256Z"
   },
   {
    "duration": 31,
    "start_time": "2021-07-05T19:46:19.278Z"
   },
   {
    "duration": 55,
    "start_time": "2021-07-05T19:46:19.312Z"
   },
   {
    "duration": 14,
    "start_time": "2021-07-05T19:46:19.370Z"
   },
   {
    "duration": 16,
    "start_time": "2021-07-05T19:46:19.387Z"
   },
   {
    "duration": 53,
    "start_time": "2021-07-05T19:46:19.405Z"
   },
   {
    "duration": 15,
    "start_time": "2021-07-05T19:46:19.460Z"
   },
   {
    "duration": 10,
    "start_time": "2021-07-05T19:46:19.478Z"
   },
   {
    "duration": 12,
    "start_time": "2021-07-05T19:46:19.491Z"
   },
   {
    "duration": 57,
    "start_time": "2021-07-05T19:46:19.505Z"
   },
   {
    "duration": 96,
    "start_time": "2021-07-05T19:46:19.567Z"
   },
   {
    "duration": 9462,
    "start_time": "2021-07-05T19:46:19.666Z"
   },
   {
    "duration": 35,
    "start_time": "2021-07-05T19:46:29.131Z"
   },
   {
    "duration": 29,
    "start_time": "2021-07-05T19:46:29.168Z"
   },
   {
    "duration": 80,
    "start_time": "2021-07-05T19:46:29.200Z"
   },
   {
    "duration": 127,
    "start_time": "2021-07-05T19:46:29.283Z"
   },
   {
    "duration": 84,
    "start_time": "2021-07-05T19:46:29.412Z"
   },
   {
    "duration": 169,
    "start_time": "2021-07-05T19:46:29.498Z"
   },
   {
    "duration": 155,
    "start_time": "2021-07-05T19:46:29.669Z"
   },
   {
    "duration": 43,
    "start_time": "2021-07-05T19:46:29.827Z"
   },
   {
    "duration": 172,
    "start_time": "2021-07-05T19:46:29.872Z"
   },
   {
    "duration": 966,
    "start_time": "2021-07-05T20:46:04.989Z"
   },
   {
    "duration": 21,
    "start_time": "2021-07-05T20:46:05.957Z"
   },
   {
    "duration": 86,
    "start_time": "2021-07-05T20:46:05.981Z"
   },
   {
    "duration": 11,
    "start_time": "2021-07-05T20:46:06.069Z"
   },
   {
    "duration": 18,
    "start_time": "2021-07-05T20:46:06.083Z"
   },
   {
    "duration": 11,
    "start_time": "2021-07-05T20:46:06.104Z"
   },
   {
    "duration": 42,
    "start_time": "2021-07-05T20:46:06.117Z"
   },
   {
    "duration": 7,
    "start_time": "2021-07-05T20:46:06.163Z"
   },
   {
    "duration": 12,
    "start_time": "2021-07-05T20:46:06.173Z"
   },
   {
    "duration": 8,
    "start_time": "2021-07-05T20:46:06.188Z"
   },
   {
    "duration": 15,
    "start_time": "2021-07-05T20:46:06.198Z"
   },
   {
    "duration": 44,
    "start_time": "2021-07-05T20:46:06.216Z"
   },
   {
    "duration": 10,
    "start_time": "2021-07-05T20:46:06.262Z"
   },
   {
    "duration": 17,
    "start_time": "2021-07-05T20:46:06.275Z"
   },
   {
    "duration": 62,
    "start_time": "2021-07-05T20:46:06.295Z"
   },
   {
    "duration": 22,
    "start_time": "2021-07-05T20:46:06.360Z"
   },
   {
    "duration": 20,
    "start_time": "2021-07-05T20:46:06.385Z"
   },
   {
    "duration": 12,
    "start_time": "2021-07-05T20:46:06.407Z"
   },
   {
    "duration": 44,
    "start_time": "2021-07-05T20:46:06.422Z"
   },
   {
    "duration": 9,
    "start_time": "2021-07-05T20:46:06.469Z"
   },
   {
    "duration": 6,
    "start_time": "2021-07-05T20:46:06.481Z"
   },
   {
    "duration": 67,
    "start_time": "2021-07-05T20:46:06.489Z"
   },
   {
    "duration": 82,
    "start_time": "2021-07-05T20:46:06.560Z"
   },
   {
    "duration": 9306,
    "start_time": "2021-07-05T20:46:06.657Z"
   },
   {
    "duration": 16,
    "start_time": "2021-07-05T20:46:15.965Z"
   },
   {
    "duration": 18,
    "start_time": "2021-07-05T20:46:15.984Z"
   },
   {
    "duration": 53,
    "start_time": "2021-07-05T20:46:16.005Z"
   },
   {
    "duration": 47,
    "start_time": "2021-07-05T20:46:16.061Z"
   },
   {
    "duration": 125,
    "start_time": "2021-07-05T20:46:16.111Z"
   },
   {
    "duration": 79,
    "start_time": "2021-07-05T20:46:16.238Z"
   },
   {
    "duration": 174,
    "start_time": "2021-07-05T20:46:16.319Z"
   },
   {
    "duration": 146,
    "start_time": "2021-07-05T20:46:16.495Z"
   },
   {
    "duration": 36,
    "start_time": "2021-07-05T20:46:16.643Z"
   },
   {
    "duration": 162,
    "start_time": "2021-07-05T20:46:16.681Z"
   },
   {
    "duration": 948,
    "start_time": "2021-07-05T20:49:14.063Z"
   },
   {
    "duration": 22,
    "start_time": "2021-07-05T20:49:15.013Z"
   },
   {
    "duration": 66,
    "start_time": "2021-07-05T20:49:15.056Z"
   },
   {
    "duration": 31,
    "start_time": "2021-07-05T20:49:15.125Z"
   },
   {
    "duration": 17,
    "start_time": "2021-07-05T20:49:15.158Z"
   },
   {
    "duration": 13,
    "start_time": "2021-07-05T20:49:15.177Z"
   },
   {
    "duration": 14,
    "start_time": "2021-07-05T20:49:15.193Z"
   },
   {
    "duration": 9,
    "start_time": "2021-07-05T20:49:15.211Z"
   },
   {
    "duration": 45,
    "start_time": "2021-07-05T20:49:15.224Z"
   },
   {
    "duration": 7,
    "start_time": "2021-07-05T20:49:15.271Z"
   },
   {
    "duration": 9,
    "start_time": "2021-07-05T20:49:15.280Z"
   },
   {
    "duration": 9,
    "start_time": "2021-07-05T20:49:15.292Z"
   },
   {
    "duration": 52,
    "start_time": "2021-07-05T20:49:15.304Z"
   },
   {
    "duration": 16,
    "start_time": "2021-07-05T20:49:15.359Z"
   },
   {
    "duration": 27,
    "start_time": "2021-07-05T20:49:15.377Z"
   },
   {
    "duration": 49,
    "start_time": "2021-07-05T20:49:15.407Z"
   },
   {
    "duration": 15,
    "start_time": "2021-07-05T20:49:15.458Z"
   },
   {
    "duration": 12,
    "start_time": "2021-07-05T20:49:15.475Z"
   },
   {
    "duration": 16,
    "start_time": "2021-07-05T20:49:15.489Z"
   },
   {
    "duration": 49,
    "start_time": "2021-07-05T20:49:15.507Z"
   },
   {
    "duration": 6,
    "start_time": "2021-07-05T20:49:15.558Z"
   },
   {
    "duration": 34,
    "start_time": "2021-07-05T20:49:15.566Z"
   },
   {
    "duration": 88,
    "start_time": "2021-07-05T20:49:15.604Z"
   },
   {
    "duration": 9304,
    "start_time": "2021-07-05T20:49:15.695Z"
   },
   {
    "duration": 17,
    "start_time": "2021-07-05T20:49:25.001Z"
   },
   {
    "duration": 39,
    "start_time": "2021-07-05T20:49:25.020Z"
   },
   {
    "duration": 23,
    "start_time": "2021-07-05T20:49:25.062Z"
   },
   {
    "duration": 68,
    "start_time": "2021-07-05T20:49:25.087Z"
   },
   {
    "duration": 109,
    "start_time": "2021-07-05T20:49:25.158Z"
   },
   {
    "duration": 66,
    "start_time": "2021-07-05T20:49:25.270Z"
   },
   {
    "duration": 167,
    "start_time": "2021-07-05T20:49:25.355Z"
   },
   {
    "duration": 144,
    "start_time": "2021-07-05T20:49:25.524Z"
   },
   {
    "duration": 32,
    "start_time": "2021-07-05T20:49:25.671Z"
   },
   {
    "duration": 182,
    "start_time": "2021-07-05T20:49:25.705Z"
   },
   {
    "duration": 1007,
    "start_time": "2021-07-05T20:50:09.574Z"
   },
   {
    "duration": 29,
    "start_time": "2021-07-05T20:50:10.584Z"
   },
   {
    "duration": 84,
    "start_time": "2021-07-05T20:50:10.616Z"
   },
   {
    "duration": 11,
    "start_time": "2021-07-05T20:50:10.704Z"
   },
   {
    "duration": 43,
    "start_time": "2021-07-05T20:50:10.718Z"
   },
   {
    "duration": 9,
    "start_time": "2021-07-05T20:50:10.764Z"
   },
   {
    "duration": 12,
    "start_time": "2021-07-05T20:50:10.777Z"
   },
   {
    "duration": 9,
    "start_time": "2021-07-05T20:50:10.793Z"
   },
   {
    "duration": 52,
    "start_time": "2021-07-05T20:50:10.805Z"
   },
   {
    "duration": 10,
    "start_time": "2021-07-05T20:50:10.859Z"
   },
   {
    "duration": 13,
    "start_time": "2021-07-05T20:50:10.871Z"
   },
   {
    "duration": 8,
    "start_time": "2021-07-05T20:50:10.886Z"
   },
   {
    "duration": 12,
    "start_time": "2021-07-05T20:50:10.896Z"
   },
   {
    "duration": 59,
    "start_time": "2021-07-05T20:50:10.911Z"
   },
   {
    "duration": 29,
    "start_time": "2021-07-05T20:50:10.973Z"
   },
   {
    "duration": 59,
    "start_time": "2021-07-05T20:50:11.005Z"
   },
   {
    "duration": 16,
    "start_time": "2021-07-05T20:50:11.067Z"
   },
   {
    "duration": 11,
    "start_time": "2021-07-05T20:50:11.086Z"
   },
   {
    "duration": 16,
    "start_time": "2021-07-05T20:50:11.100Z"
   },
   {
    "duration": 10,
    "start_time": "2021-07-05T20:50:11.157Z"
   },
   {
    "duration": 7,
    "start_time": "2021-07-05T20:50:11.170Z"
   },
   {
    "duration": 36,
    "start_time": "2021-07-05T20:50:11.179Z"
   },
   {
    "duration": 112,
    "start_time": "2021-07-05T20:50:11.219Z"
   },
   {
    "duration": 8823,
    "start_time": "2021-07-05T20:50:11.334Z"
   },
   {
    "duration": 19,
    "start_time": "2021-07-05T20:50:20.160Z"
   },
   {
    "duration": 29,
    "start_time": "2021-07-05T20:50:20.182Z"
   },
   {
    "duration": 49,
    "start_time": "2021-07-05T20:50:20.214Z"
   },
   {
    "duration": 48,
    "start_time": "2021-07-05T20:50:20.266Z"
   },
   {
    "duration": 123,
    "start_time": "2021-07-05T20:50:20.316Z"
   },
   {
    "duration": 85,
    "start_time": "2021-07-05T20:50:20.441Z"
   },
   {
    "duration": 176,
    "start_time": "2021-07-05T20:50:20.528Z"
   },
   {
    "duration": 155,
    "start_time": "2021-07-05T20:50:20.707Z"
   },
   {
    "duration": 30,
    "start_time": "2021-07-05T20:50:20.864Z"
   },
   {
    "duration": 175,
    "start_time": "2021-07-05T20:50:20.896Z"
   },
   {
    "duration": 937,
    "start_time": "2021-07-05T20:54:25.103Z"
   },
   {
    "duration": 19,
    "start_time": "2021-07-05T20:54:26.042Z"
   },
   {
    "duration": 64,
    "start_time": "2021-07-05T20:54:26.064Z"
   },
   {
    "duration": 31,
    "start_time": "2021-07-05T20:54:26.130Z"
   },
   {
    "duration": 19,
    "start_time": "2021-07-05T20:54:26.163Z"
   },
   {
    "duration": 10,
    "start_time": "2021-07-05T20:54:26.185Z"
   },
   {
    "duration": 12,
    "start_time": "2021-07-05T20:54:26.197Z"
   },
   {
    "duration": 47,
    "start_time": "2021-07-05T20:54:26.214Z"
   },
   {
    "duration": 12,
    "start_time": "2021-07-05T20:54:26.264Z"
   },
   {
    "duration": 7,
    "start_time": "2021-07-05T20:54:26.279Z"
   },
   {
    "duration": 10,
    "start_time": "2021-07-05T20:54:26.288Z"
   },
   {
    "duration": 7,
    "start_time": "2021-07-05T20:54:26.300Z"
   },
   {
    "duration": 53,
    "start_time": "2021-07-05T20:54:26.309Z"
   },
   {
    "duration": 27,
    "start_time": "2021-07-05T20:54:26.365Z"
   },
   {
    "duration": 26,
    "start_time": "2021-07-05T20:54:26.394Z"
   },
   {
    "duration": 51,
    "start_time": "2021-07-05T20:54:26.423Z"
   },
   {
    "duration": 19,
    "start_time": "2021-07-05T20:54:26.477Z"
   },
   {
    "duration": 15,
    "start_time": "2021-07-05T20:54:26.498Z"
   },
   {
    "duration": 42,
    "start_time": "2021-07-05T20:54:26.515Z"
   },
   {
    "duration": 9,
    "start_time": "2021-07-05T20:54:26.560Z"
   },
   {
    "duration": 10,
    "start_time": "2021-07-05T20:54:26.572Z"
   },
   {
    "duration": 34,
    "start_time": "2021-07-05T20:54:26.584Z"
   },
   {
    "duration": 106,
    "start_time": "2021-07-05T20:54:26.622Z"
   },
   {
    "duration": -450,
    "start_time": "2021-07-05T20:54:27.181Z"
   },
   {
    "duration": -457,
    "start_time": "2021-07-05T20:54:27.189Z"
   },
   {
    "duration": -460,
    "start_time": "2021-07-05T20:54:27.194Z"
   },
   {
    "duration": -468,
    "start_time": "2021-07-05T20:54:27.203Z"
   },
   {
    "duration": -471,
    "start_time": "2021-07-05T20:54:27.208Z"
   },
   {
    "duration": -474,
    "start_time": "2021-07-05T20:54:27.212Z"
   },
   {
    "duration": -480,
    "start_time": "2021-07-05T20:54:27.220Z"
   },
   {
    "duration": -483,
    "start_time": "2021-07-05T20:54:27.224Z"
   },
   {
    "duration": -487,
    "start_time": "2021-07-05T20:54:27.230Z"
   },
   {
    "duration": -493,
    "start_time": "2021-07-05T20:54:27.237Z"
   },
   {
    "duration": -607,
    "start_time": "2021-07-05T20:54:27.352Z"
   },
   {
    "duration": 961,
    "start_time": "2021-07-05T20:54:48.461Z"
   },
   {
    "duration": 33,
    "start_time": "2021-07-05T20:54:49.424Z"
   },
   {
    "duration": 66,
    "start_time": "2021-07-05T20:54:49.460Z"
   },
   {
    "duration": 33,
    "start_time": "2021-07-05T20:54:49.528Z"
   },
   {
    "duration": 22,
    "start_time": "2021-07-05T20:54:49.563Z"
   },
   {
    "duration": 15,
    "start_time": "2021-07-05T20:54:49.587Z"
   },
   {
    "duration": 21,
    "start_time": "2021-07-05T20:54:49.605Z"
   },
   {
    "duration": 9,
    "start_time": "2021-07-05T20:54:49.630Z"
   },
   {
    "duration": 11,
    "start_time": "2021-07-05T20:54:49.656Z"
   },
   {
    "duration": 7,
    "start_time": "2021-07-05T20:54:49.670Z"
   },
   {
    "duration": 15,
    "start_time": "2021-07-05T20:54:49.679Z"
   },
   {
    "duration": 16,
    "start_time": "2021-07-05T20:54:49.696Z"
   },
   {
    "duration": 18,
    "start_time": "2021-07-05T20:54:49.714Z"
   },
   {
    "duration": 34,
    "start_time": "2021-07-05T20:54:49.735Z"
   },
   {
    "duration": 25,
    "start_time": "2021-07-05T20:54:49.772Z"
   },
   {
    "duration": 19,
    "start_time": "2021-07-05T20:54:49.799Z"
   },
   {
    "duration": 48,
    "start_time": "2021-07-05T20:54:49.820Z"
   },
   {
    "duration": 22,
    "start_time": "2021-07-05T20:54:49.870Z"
   },
   {
    "duration": 26,
    "start_time": "2021-07-05T20:54:49.894Z"
   },
   {
    "duration": 10,
    "start_time": "2021-07-05T20:54:49.922Z"
   },
   {
    "duration": 22,
    "start_time": "2021-07-05T20:54:49.934Z"
   },
   {
    "duration": 43,
    "start_time": "2021-07-05T20:54:49.958Z"
   },
   {
    "duration": 1062,
    "start_time": "2021-07-05T20:54:50.005Z"
   },
   {
    "duration": 157,
    "start_time": "2021-07-05T20:54:50.914Z"
   },
   {
    "duration": 113,
    "start_time": "2021-07-05T20:54:50.960Z"
   },
   {
    "duration": 101,
    "start_time": "2021-07-05T20:54:50.975Z"
   },
   {
    "duration": 89,
    "start_time": "2021-07-05T20:54:50.989Z"
   },
   {
    "duration": 22,
    "start_time": "2021-07-05T20:54:51.058Z"
   },
   {
    "duration": 10,
    "start_time": "2021-07-05T20:54:51.072Z"
   },
   {
    "duration": -5,
    "start_time": "2021-07-05T20:54:51.090Z"
   },
   {
    "duration": -7,
    "start_time": "2021-07-05T20:54:51.094Z"
   },
   {
    "duration": -14,
    "start_time": "2021-07-05T20:54:51.103Z"
   },
   {
    "duration": -15,
    "start_time": "2021-07-05T20:54:51.106Z"
   },
   {
    "duration": -17,
    "start_time": "2021-07-05T20:54:51.110Z"
   },
   {
    "duration": 1043,
    "start_time": "2021-07-05T20:55:14.619Z"
   },
   {
    "duration": 22,
    "start_time": "2021-07-05T20:55:15.665Z"
   },
   {
    "duration": 95,
    "start_time": "2021-07-05T20:55:15.691Z"
   },
   {
    "duration": 12,
    "start_time": "2021-07-05T20:55:15.789Z"
   },
   {
    "duration": 22,
    "start_time": "2021-07-05T20:55:15.804Z"
   },
   {
    "duration": 8,
    "start_time": "2021-07-05T20:55:15.855Z"
   },
   {
    "duration": 18,
    "start_time": "2021-07-05T20:55:15.866Z"
   },
   {
    "duration": 9,
    "start_time": "2021-07-05T20:55:15.890Z"
   },
   {
    "duration": 11,
    "start_time": "2021-07-05T20:55:15.903Z"
   },
   {
    "duration": 10,
    "start_time": "2021-07-05T20:55:15.957Z"
   },
   {
    "duration": 19,
    "start_time": "2021-07-05T20:55:15.969Z"
   },
   {
    "duration": 16,
    "start_time": "2021-07-05T20:55:15.991Z"
   },
   {
    "duration": 10,
    "start_time": "2021-07-05T20:55:16.010Z"
   },
   {
    "duration": 42,
    "start_time": "2021-07-05T20:55:16.022Z"
   },
   {
    "duration": 25,
    "start_time": "2021-07-05T20:55:16.067Z"
   },
   {
    "duration": 21,
    "start_time": "2021-07-05T20:55:16.094Z"
   },
   {
    "duration": 44,
    "start_time": "2021-07-05T20:55:16.117Z"
   },
   {
    "duration": 19,
    "start_time": "2021-07-05T20:55:16.163Z"
   },
   {
    "duration": 15,
    "start_time": "2021-07-05T20:55:16.185Z"
   },
   {
    "duration": 10,
    "start_time": "2021-07-05T20:55:16.202Z"
   },
   {
    "duration": 7,
    "start_time": "2021-07-05T20:55:16.214Z"
   },
   {
    "duration": 31,
    "start_time": "2021-07-05T20:55:16.257Z"
   },
   {
    "duration": 1154,
    "start_time": "2021-07-05T20:55:16.293Z"
   },
   {
    "duration": -242,
    "start_time": "2021-07-05T20:55:17.692Z"
   },
   {
    "duration": -262,
    "start_time": "2021-07-05T20:55:17.714Z"
   },
   {
    "duration": -269,
    "start_time": "2021-07-05T20:55:17.722Z"
   },
   {
    "duration": -290,
    "start_time": "2021-07-05T20:55:17.745Z"
   },
   {
    "duration": -299,
    "start_time": "2021-07-05T20:55:17.755Z"
   },
   {
    "duration": -300,
    "start_time": "2021-07-05T20:55:17.758Z"
   },
   {
    "duration": -301,
    "start_time": "2021-07-05T20:55:17.761Z"
   },
   {
    "duration": -310,
    "start_time": "2021-07-05T20:55:17.771Z"
   },
   {
    "duration": -311,
    "start_time": "2021-07-05T20:55:17.774Z"
   },
   {
    "duration": -375,
    "start_time": "2021-07-05T20:55:17.839Z"
   },
   {
    "duration": -382,
    "start_time": "2021-07-05T20:55:17.847Z"
   },
   {
    "duration": 983,
    "start_time": "2021-07-05T20:56:30.838Z"
   },
   {
    "duration": 33,
    "start_time": "2021-07-05T20:56:31.824Z"
   },
   {
    "duration": 63,
    "start_time": "2021-07-05T20:56:31.860Z"
   },
   {
    "duration": 31,
    "start_time": "2021-07-05T20:56:31.926Z"
   },
   {
    "duration": 18,
    "start_time": "2021-07-05T20:56:31.959Z"
   },
   {
    "duration": 18,
    "start_time": "2021-07-05T20:56:31.980Z"
   },
   {
    "duration": 21,
    "start_time": "2021-07-05T20:56:32.000Z"
   },
   {
    "duration": 8,
    "start_time": "2021-07-05T20:56:32.024Z"
   },
   {
    "duration": 10,
    "start_time": "2021-07-05T20:56:32.055Z"
   },
   {
    "duration": 8,
    "start_time": "2021-07-05T20:56:32.068Z"
   },
   {
    "duration": 25,
    "start_time": "2021-07-05T20:56:32.078Z"
   },
   {
    "duration": 18,
    "start_time": "2021-07-05T20:56:32.105Z"
   },
   {
    "duration": 34,
    "start_time": "2021-07-05T20:56:32.125Z"
   },
   {
    "duration": 19,
    "start_time": "2021-07-05T20:56:32.162Z"
   },
   {
    "duration": 38,
    "start_time": "2021-07-05T20:56:32.184Z"
   },
   {
    "duration": 49,
    "start_time": "2021-07-05T20:56:32.225Z"
   },
   {
    "duration": 16,
    "start_time": "2021-07-05T20:56:32.276Z"
   },
   {
    "duration": 11,
    "start_time": "2021-07-05T20:56:32.294Z"
   },
   {
    "duration": 52,
    "start_time": "2021-07-05T20:56:32.307Z"
   },
   {
    "duration": 11,
    "start_time": "2021-07-05T20:56:32.362Z"
   },
   {
    "duration": 17,
    "start_time": "2021-07-05T20:56:32.375Z"
   },
   {
    "duration": 38,
    "start_time": "2021-07-05T20:56:32.395Z"
   },
   {
    "duration": 1121,
    "start_time": "2021-07-05T20:56:32.437Z"
   },
   {
    "duration": -593,
    "start_time": "2021-07-05T20:56:34.154Z"
   },
   {
    "duration": -608,
    "start_time": "2021-07-05T20:56:34.170Z"
   },
   {
    "duration": -620,
    "start_time": "2021-07-05T20:56:34.184Z"
   },
   {
    "duration": -674,
    "start_time": "2021-07-05T20:56:34.239Z"
   },
   {
    "duration": -688,
    "start_time": "2021-07-05T20:56:34.255Z"
   },
   {
    "duration": -704,
    "start_time": "2021-07-05T20:56:34.272Z"
   },
   {
    "duration": -725,
    "start_time": "2021-07-05T20:56:34.295Z"
   },
   {
    "duration": -732,
    "start_time": "2021-07-05T20:56:34.303Z"
   },
   {
    "duration": -748,
    "start_time": "2021-07-05T20:56:34.321Z"
   },
   {
    "duration": -788,
    "start_time": "2021-07-05T20:56:34.362Z"
   },
   {
    "duration": -791,
    "start_time": "2021-07-05T20:56:34.367Z"
   },
   {
    "duration": 6,
    "start_time": "2021-07-05T21:03:30.046Z"
   },
   {
    "duration": 6,
    "start_time": "2021-07-05T21:03:54.771Z"
   },
   {
    "duration": 6,
    "start_time": "2021-07-05T21:04:13.084Z"
   },
   {
    "duration": 7,
    "start_time": "2021-07-05T21:04:26.980Z"
   },
   {
    "duration": 7,
    "start_time": "2021-07-05T21:04:44.398Z"
   },
   {
    "duration": 7,
    "start_time": "2021-07-05T21:04:53.774Z"
   },
   {
    "duration": 8,
    "start_time": "2021-07-05T21:05:07.202Z"
   },
   {
    "duration": 7,
    "start_time": "2021-07-05T21:05:24.308Z"
   },
   {
    "duration": 417,
    "start_time": "2021-07-05T21:08:18.876Z"
   },
   {
    "duration": 408,
    "start_time": "2021-07-05T21:08:38.018Z"
   },
   {
    "duration": 8,
    "start_time": "2021-07-05T21:08:45.396Z"
   },
   {
    "duration": 8,
    "start_time": "2021-07-05T21:08:53.891Z"
   },
   {
    "duration": 423,
    "start_time": "2021-07-05T21:10:51.696Z"
   },
   {
    "duration": 9,
    "start_time": "2021-07-05T21:11:28.978Z"
   },
   {
    "duration": 150,
    "start_time": "2021-07-05T21:13:28.068Z"
   },
   {
    "duration": 446,
    "start_time": "2021-07-05T21:13:32.217Z"
   },
   {
    "duration": 9,
    "start_time": "2021-07-05T21:13:41.427Z"
   },
   {
    "duration": 12,
    "start_time": "2021-07-05T21:13:47.270Z"
   },
   {
    "duration": 9,
    "start_time": "2021-07-05T21:13:54.882Z"
   },
   {
    "duration": 9,
    "start_time": "2021-07-05T21:13:59.800Z"
   },
   {
    "duration": 456,
    "start_time": "2021-07-05T21:14:04.803Z"
   },
   {
    "duration": 7,
    "start_time": "2021-07-05T21:14:52.580Z"
   },
   {
    "duration": 10,
    "start_time": "2021-07-05T21:15:16.170Z"
   },
   {
    "duration": 9,
    "start_time": "2021-07-05T21:15:20.724Z"
   },
   {
    "duration": 10,
    "start_time": "2021-07-05T21:15:26.599Z"
   },
   {
    "duration": 11,
    "start_time": "2021-07-05T21:17:00.307Z"
   },
   {
    "duration": 14,
    "start_time": "2021-07-05T21:17:06.420Z"
   },
   {
    "duration": 10,
    "start_time": "2021-07-05T21:17:19.920Z"
   },
   {
    "duration": 25,
    "start_time": "2021-07-05T21:17:58.049Z"
   },
   {
    "duration": 464,
    "start_time": "2021-07-05T21:28:00.951Z"
   },
   {
    "duration": 11,
    "start_time": "2021-07-05T21:28:16.711Z"
   },
   {
    "duration": 969,
    "start_time": "2021-07-05T21:29:42.530Z"
   },
   {
    "duration": 22,
    "start_time": "2021-07-05T21:29:43.503Z"
   },
   {
    "duration": 85,
    "start_time": "2021-07-05T21:29:43.528Z"
   },
   {
    "duration": 12,
    "start_time": "2021-07-05T21:29:43.617Z"
   },
   {
    "duration": 41,
    "start_time": "2021-07-05T21:29:43.632Z"
   },
   {
    "duration": 15,
    "start_time": "2021-07-05T21:29:43.677Z"
   },
   {
    "duration": 18,
    "start_time": "2021-07-05T21:29:43.694Z"
   },
   {
    "duration": 9,
    "start_time": "2021-07-05T21:29:43.716Z"
   },
   {
    "duration": 12,
    "start_time": "2021-07-05T21:29:43.757Z"
   },
   {
    "duration": 8,
    "start_time": "2021-07-05T21:29:43.771Z"
   },
   {
    "duration": 22,
    "start_time": "2021-07-05T21:29:43.781Z"
   },
   {
    "duration": 11,
    "start_time": "2021-07-05T21:29:43.805Z"
   },
   {
    "duration": 37,
    "start_time": "2021-07-05T21:29:43.819Z"
   },
   {
    "duration": 17,
    "start_time": "2021-07-05T21:29:43.858Z"
   },
   {
    "duration": 25,
    "start_time": "2021-07-05T21:29:43.877Z"
   },
   {
    "duration": 21,
    "start_time": "2021-07-05T21:29:43.904Z"
   },
   {
    "duration": 15,
    "start_time": "2021-07-05T21:29:43.957Z"
   },
   {
    "duration": 17,
    "start_time": "2021-07-05T21:29:43.974Z"
   },
   {
    "duration": 16,
    "start_time": "2021-07-05T21:29:43.993Z"
   },
   {
    "duration": 47,
    "start_time": "2021-07-05T21:29:44.011Z"
   },
   {
    "duration": 5,
    "start_time": "2021-07-05T21:29:44.061Z"
   },
   {
    "duration": 34,
    "start_time": "2021-07-05T21:29:44.069Z"
   },
   {
    "duration": 11,
    "start_time": "2021-07-05T21:29:44.109Z"
   },
   {
    "duration": 1120,
    "start_time": "2021-07-05T21:29:44.123Z"
   },
   {
    "duration": -135,
    "start_time": "2021-07-05T21:29:45.381Z"
   },
   {
    "duration": -147,
    "start_time": "2021-07-05T21:29:45.394Z"
   },
   {
    "duration": -154,
    "start_time": "2021-07-05T21:29:45.404Z"
   },
   {
    "duration": -156,
    "start_time": "2021-07-05T21:29:45.407Z"
   },
   {
    "duration": -160,
    "start_time": "2021-07-05T21:29:45.412Z"
   },
   {
    "duration": -183,
    "start_time": "2021-07-05T21:29:45.436Z"
   },
   {
    "duration": -186,
    "start_time": "2021-07-05T21:29:45.441Z"
   },
   {
    "duration": -188,
    "start_time": "2021-07-05T21:29:45.444Z"
   },
   {
    "duration": -308,
    "start_time": "2021-07-05T21:29:45.565Z"
   },
   {
    "duration": -310,
    "start_time": "2021-07-05T21:29:45.569Z"
   },
   {
    "duration": -314,
    "start_time": "2021-07-05T21:29:45.574Z"
   },
   {
    "duration": 930,
    "start_time": "2021-07-05T21:30:14.085Z"
   },
   {
    "duration": 20,
    "start_time": "2021-07-05T21:30:15.017Z"
   },
   {
    "duration": 76,
    "start_time": "2021-07-05T21:30:15.040Z"
   },
   {
    "duration": 10,
    "start_time": "2021-07-05T21:30:15.119Z"
   },
   {
    "duration": 18,
    "start_time": "2021-07-05T21:30:15.156Z"
   },
   {
    "duration": 11,
    "start_time": "2021-07-05T21:30:15.176Z"
   },
   {
    "duration": 12,
    "start_time": "2021-07-05T21:30:15.190Z"
   },
   {
    "duration": 8,
    "start_time": "2021-07-05T21:30:15.206Z"
   },
   {
    "duration": 46,
    "start_time": "2021-07-05T21:30:15.217Z"
   },
   {
    "duration": 8,
    "start_time": "2021-07-05T21:30:15.265Z"
   },
   {
    "duration": 14,
    "start_time": "2021-07-05T21:30:15.275Z"
   },
   {
    "duration": 9,
    "start_time": "2021-07-05T21:30:15.291Z"
   },
   {
    "duration": 17,
    "start_time": "2021-07-05T21:30:15.302Z"
   },
   {
    "duration": 17,
    "start_time": "2021-07-05T21:30:15.356Z"
   },
   {
    "duration": 26,
    "start_time": "2021-07-05T21:30:15.375Z"
   },
   {
    "duration": 21,
    "start_time": "2021-07-05T21:30:15.403Z"
   },
   {
    "duration": 40,
    "start_time": "2021-07-05T21:30:15.426Z"
   },
   {
    "duration": 26,
    "start_time": "2021-07-05T21:30:15.468Z"
   },
   {
    "duration": 24,
    "start_time": "2021-07-05T21:30:15.496Z"
   },
   {
    "duration": 16,
    "start_time": "2021-07-05T21:30:15.522Z"
   },
   {
    "duration": 18,
    "start_time": "2021-07-05T21:30:15.541Z"
   },
   {
    "duration": 45,
    "start_time": "2021-07-05T21:30:15.561Z"
   },
   {
    "duration": 11,
    "start_time": "2021-07-05T21:30:15.611Z"
   },
   {
    "duration": 4216,
    "start_time": "2021-07-05T21:30:15.625Z"
   },
   {
    "duration": -3910,
    "start_time": "2021-07-05T21:30:23.753Z"
   },
   {
    "duration": -3923,
    "start_time": "2021-07-05T21:30:23.768Z"
   },
   {
    "duration": -3931,
    "start_time": "2021-07-05T21:30:23.777Z"
   },
   {
    "duration": -3937,
    "start_time": "2021-07-05T21:30:23.785Z"
   },
   {
    "duration": -3951,
    "start_time": "2021-07-05T21:30:23.800Z"
   },
   {
    "duration": -3961,
    "start_time": "2021-07-05T21:30:23.812Z"
   },
   {
    "duration": -3970,
    "start_time": "2021-07-05T21:30:23.823Z"
   },
   {
    "duration": -3974,
    "start_time": "2021-07-05T21:30:23.828Z"
   },
   {
    "duration": -3976,
    "start_time": "2021-07-05T21:30:23.832Z"
   },
   {
    "duration": -3985,
    "start_time": "2021-07-05T21:30:23.842Z"
   },
   {
    "duration": -3987,
    "start_time": "2021-07-05T21:30:23.846Z"
   },
   {
    "duration": 949,
    "start_time": "2021-07-05T21:32:34.690Z"
   },
   {
    "duration": 21,
    "start_time": "2021-07-05T21:32:35.642Z"
   },
   {
    "duration": 63,
    "start_time": "2021-07-05T21:32:35.666Z"
   },
   {
    "duration": 31,
    "start_time": "2021-07-05T21:32:35.732Z"
   },
   {
    "duration": 18,
    "start_time": "2021-07-05T21:32:35.766Z"
   },
   {
    "duration": 12,
    "start_time": "2021-07-05T21:32:35.786Z"
   },
   {
    "duration": 14,
    "start_time": "2021-07-05T21:32:35.801Z"
   },
   {
    "duration": 8,
    "start_time": "2021-07-05T21:32:35.856Z"
   },
   {
    "duration": 12,
    "start_time": "2021-07-05T21:32:35.867Z"
   },
   {
    "duration": 9,
    "start_time": "2021-07-05T21:32:35.881Z"
   },
   {
    "duration": 11,
    "start_time": "2021-07-05T21:32:35.892Z"
   },
   {
    "duration": 51,
    "start_time": "2021-07-05T21:32:35.905Z"
   },
   {
    "duration": 9,
    "start_time": "2021-07-05T21:32:35.958Z"
   },
   {
    "duration": 22,
    "start_time": "2021-07-05T21:32:35.969Z"
   },
   {
    "duration": 26,
    "start_time": "2021-07-05T21:32:35.993Z"
   },
   {
    "duration": 59,
    "start_time": "2021-07-05T21:32:36.021Z"
   },
   {
    "duration": 14,
    "start_time": "2021-07-05T21:32:36.083Z"
   },
   {
    "duration": 19,
    "start_time": "2021-07-05T21:32:36.100Z"
   },
   {
    "duration": 39,
    "start_time": "2021-07-05T21:32:36.122Z"
   },
   {
    "duration": 9,
    "start_time": "2021-07-05T21:32:36.163Z"
   },
   {
    "duration": 6,
    "start_time": "2021-07-05T21:32:36.175Z"
   },
   {
    "duration": 37,
    "start_time": "2021-07-05T21:32:36.184Z"
   },
   {
    "duration": 32,
    "start_time": "2021-07-05T21:32:36.225Z"
   },
   {
    "duration": 452,
    "start_time": "2021-07-05T21:32:36.260Z"
   },
   {
    "duration": -24,
    "start_time": "2021-07-05T21:32:36.738Z"
   },
   {
    "duration": -41,
    "start_time": "2021-07-05T21:32:36.757Z"
   },
   {
    "duration": -51,
    "start_time": "2021-07-05T21:32:36.768Z"
   },
   {
    "duration": -56,
    "start_time": "2021-07-05T21:32:36.774Z"
   },
   {
    "duration": -63,
    "start_time": "2021-07-05T21:32:36.783Z"
   },
   {
    "duration": -66,
    "start_time": "2021-07-05T21:32:36.787Z"
   },
   {
    "duration": -70,
    "start_time": "2021-07-05T21:32:36.793Z"
   },
   {
    "duration": -77,
    "start_time": "2021-07-05T21:32:36.802Z"
   },
   {
    "duration": -92,
    "start_time": "2021-07-05T21:32:36.818Z"
   },
   {
    "duration": -94,
    "start_time": "2021-07-05T21:32:36.822Z"
   },
   {
    "duration": -106,
    "start_time": "2021-07-05T21:32:36.835Z"
   },
   {
    "duration": 980,
    "start_time": "2021-07-05T21:32:45.598Z"
   },
   {
    "duration": 27,
    "start_time": "2021-07-05T21:32:46.581Z"
   },
   {
    "duration": 82,
    "start_time": "2021-07-05T21:32:46.612Z"
   },
   {
    "duration": 10,
    "start_time": "2021-07-05T21:32:46.698Z"
   },
   {
    "duration": 20,
    "start_time": "2021-07-05T21:32:46.710Z"
   },
   {
    "duration": 37,
    "start_time": "2021-07-05T21:32:46.732Z"
   },
   {
    "duration": 26,
    "start_time": "2021-07-05T21:32:46.771Z"
   },
   {
    "duration": 8,
    "start_time": "2021-07-05T21:32:46.801Z"
   },
   {
    "duration": 12,
    "start_time": "2021-07-05T21:32:46.811Z"
   },
   {
    "duration": 33,
    "start_time": "2021-07-05T21:32:46.826Z"
   },
   {
    "duration": 11,
    "start_time": "2021-07-05T21:32:46.862Z"
   },
   {
    "duration": 9,
    "start_time": "2021-07-05T21:32:46.875Z"
   },
   {
    "duration": 16,
    "start_time": "2021-07-05T21:32:46.886Z"
   },
   {
    "duration": 53,
    "start_time": "2021-07-05T21:32:46.905Z"
   },
   {
    "duration": 28,
    "start_time": "2021-07-05T21:32:46.960Z"
   },
   {
    "duration": 20,
    "start_time": "2021-07-05T21:32:46.990Z"
   },
   {
    "duration": 47,
    "start_time": "2021-07-05T21:32:47.012Z"
   },
   {
    "duration": 14,
    "start_time": "2021-07-05T21:32:47.062Z"
   },
   {
    "duration": 16,
    "start_time": "2021-07-05T21:32:47.078Z"
   },
   {
    "duration": 11,
    "start_time": "2021-07-05T21:32:47.097Z"
   },
   {
    "duration": 45,
    "start_time": "2021-07-05T21:32:47.111Z"
   },
   {
    "duration": 39,
    "start_time": "2021-07-05T21:32:47.159Z"
   },
   {
    "duration": 11,
    "start_time": "2021-07-05T21:32:47.203Z"
   },
   {
    "duration": 513,
    "start_time": "2021-07-05T21:32:47.218Z"
   },
   {
    "duration": -12,
    "start_time": "2021-07-05T21:32:47.745Z"
   },
   {
    "duration": -25,
    "start_time": "2021-07-05T21:32:47.760Z"
   },
   {
    "duration": -36,
    "start_time": "2021-07-05T21:32:47.773Z"
   },
   {
    "duration": -47,
    "start_time": "2021-07-05T21:32:47.785Z"
   },
   {
    "duration": -54,
    "start_time": "2021-07-05T21:32:47.794Z"
   },
   {
    "duration": -68,
    "start_time": "2021-07-05T21:32:47.809Z"
   },
   {
    "duration": -79,
    "start_time": "2021-07-05T21:32:47.822Z"
   },
   {
    "duration": -91,
    "start_time": "2021-07-05T21:32:47.835Z"
   },
   {
    "duration": -95,
    "start_time": "2021-07-05T21:32:47.841Z"
   },
   {
    "duration": -101,
    "start_time": "2021-07-05T21:32:47.850Z"
   },
   {
    "duration": -105,
    "start_time": "2021-07-05T21:32:47.855Z"
   },
   {
    "duration": 920,
    "start_time": "2021-07-05T21:33:20.201Z"
   },
   {
    "duration": 43,
    "start_time": "2021-07-05T21:33:21.124Z"
   },
   {
    "duration": 64,
    "start_time": "2021-07-05T21:33:21.170Z"
   },
   {
    "duration": 29,
    "start_time": "2021-07-05T21:33:21.237Z"
   },
   {
    "duration": 20,
    "start_time": "2021-07-05T21:33:21.269Z"
   },
   {
    "duration": 12,
    "start_time": "2021-07-05T21:33:21.292Z"
   },
   {
    "duration": 12,
    "start_time": "2021-07-05T21:33:21.307Z"
   },
   {
    "duration": 38,
    "start_time": "2021-07-05T21:33:21.323Z"
   },
   {
    "duration": 12,
    "start_time": "2021-07-05T21:33:21.364Z"
   },
   {
    "duration": 11,
    "start_time": "2021-07-05T21:33:21.378Z"
   },
   {
    "duration": 9,
    "start_time": "2021-07-05T21:33:21.391Z"
   },
   {
    "duration": 17,
    "start_time": "2021-07-05T21:33:21.402Z"
   },
   {
    "duration": 41,
    "start_time": "2021-07-05T21:33:21.421Z"
   },
   {
    "duration": 28,
    "start_time": "2021-07-05T21:33:21.464Z"
   },
   {
    "duration": 24,
    "start_time": "2021-07-05T21:33:21.494Z"
   },
   {
    "duration": 46,
    "start_time": "2021-07-05T21:33:21.520Z"
   },
   {
    "duration": 15,
    "start_time": "2021-07-05T21:33:21.569Z"
   },
   {
    "duration": 11,
    "start_time": "2021-07-05T21:33:21.587Z"
   },
   {
    "duration": 20,
    "start_time": "2021-07-05T21:33:21.600Z"
   },
   {
    "duration": 40,
    "start_time": "2021-07-05T21:33:21.622Z"
   },
   {
    "duration": 8,
    "start_time": "2021-07-05T21:33:21.665Z"
   },
   {
    "duration": 41,
    "start_time": "2021-07-05T21:33:21.675Z"
   },
   {
    "duration": 10,
    "start_time": "2021-07-05T21:33:21.720Z"
   },
   {
    "duration": 235,
    "start_time": "2021-07-05T21:33:21.733Z"
   },
   {
    "duration": 8515,
    "start_time": "2021-07-05T21:33:21.971Z"
   },
   {
    "duration": 16,
    "start_time": "2021-07-05T21:33:30.489Z"
   },
   {
    "duration": 46,
    "start_time": "2021-07-05T21:33:30.507Z"
   },
   {
    "duration": 23,
    "start_time": "2021-07-05T21:33:30.555Z"
   },
   {
    "duration": 50,
    "start_time": "2021-07-05T21:33:30.580Z"
   },
   {
    "duration": 142,
    "start_time": "2021-07-05T21:33:30.633Z"
   },
   {
    "duration": 88,
    "start_time": "2021-07-05T21:33:30.778Z"
   },
   {
    "duration": 169,
    "start_time": "2021-07-05T21:33:30.869Z"
   },
   {
    "duration": 153,
    "start_time": "2021-07-05T21:33:31.040Z"
   },
   {
    "duration": 30,
    "start_time": "2021-07-05T21:33:31.195Z"
   },
   {
    "duration": 167,
    "start_time": "2021-07-05T21:33:31.227Z"
   },
   {
    "duration": 930,
    "start_time": "2021-07-05T21:36:52.297Z"
   },
   {
    "duration": 29,
    "start_time": "2021-07-05T21:36:53.229Z"
   },
   {
    "duration": 66,
    "start_time": "2021-07-05T21:36:53.261Z"
   },
   {
    "duration": 35,
    "start_time": "2021-07-05T21:36:53.330Z"
   },
   {
    "duration": 18,
    "start_time": "2021-07-05T21:36:53.368Z"
   },
   {
    "duration": 21,
    "start_time": "2021-07-05T21:36:53.388Z"
   },
   {
    "duration": 12,
    "start_time": "2021-07-05T21:36:53.411Z"
   },
   {
    "duration": 8,
    "start_time": "2021-07-05T21:36:53.455Z"
   },
   {
    "duration": 11,
    "start_time": "2021-07-05T21:36:53.466Z"
   },
   {
    "duration": 9,
    "start_time": "2021-07-05T21:36:53.480Z"
   },
   {
    "duration": 10,
    "start_time": "2021-07-05T21:36:53.491Z"
   },
   {
    "duration": 10,
    "start_time": "2021-07-05T21:36:53.503Z"
   },
   {
    "duration": 8,
    "start_time": "2021-07-05T21:36:53.556Z"
   },
   {
    "duration": 21,
    "start_time": "2021-07-05T21:36:53.566Z"
   },
   {
    "duration": 25,
    "start_time": "2021-07-05T21:36:53.589Z"
   },
   {
    "duration": 56,
    "start_time": "2021-07-05T21:36:53.616Z"
   },
   {
    "duration": 14,
    "start_time": "2021-07-05T21:36:53.675Z"
   },
   {
    "duration": 20,
    "start_time": "2021-07-05T21:36:53.691Z"
   },
   {
    "duration": 43,
    "start_time": "2021-07-05T21:36:53.713Z"
   },
   {
    "duration": 10,
    "start_time": "2021-07-05T21:36:53.758Z"
   },
   {
    "duration": 8,
    "start_time": "2021-07-05T21:36:53.770Z"
   },
   {
    "duration": 32,
    "start_time": "2021-07-05T21:36:53.781Z"
   },
   {
    "duration": 10,
    "start_time": "2021-07-05T21:36:53.818Z"
   },
   {
    "duration": 432,
    "start_time": "2021-07-05T21:36:53.857Z"
   },
   {
    "duration": -8,
    "start_time": "2021-07-05T21:36:54.299Z"
   },
   {
    "duration": -14,
    "start_time": "2021-07-05T21:36:54.308Z"
   },
   {
    "duration": -30,
    "start_time": "2021-07-05T21:36:54.325Z"
   },
   {
    "duration": -40,
    "start_time": "2021-07-05T21:36:54.337Z"
   },
   {
    "duration": -44,
    "start_time": "2021-07-05T21:36:54.343Z"
   },
   {
    "duration": -51,
    "start_time": "2021-07-05T21:36:54.351Z"
   },
   {
    "duration": -53,
    "start_time": "2021-07-05T21:36:54.354Z"
   },
   {
    "duration": -56,
    "start_time": "2021-07-05T21:36:54.359Z"
   },
   {
    "duration": -61,
    "start_time": "2021-07-05T21:36:54.366Z"
   },
   {
    "duration": -63,
    "start_time": "2021-07-05T21:36:54.370Z"
   },
   {
    "duration": -66,
    "start_time": "2021-07-05T21:36:54.374Z"
   },
   {
    "duration": 453,
    "start_time": "2021-07-05T21:37:11.835Z"
   },
   {
    "duration": 210,
    "start_time": "2021-07-05T21:37:19.957Z"
   },
   {
    "duration": 205,
    "start_time": "2021-07-05T21:37:29.427Z"
   },
   {
    "duration": 211,
    "start_time": "2021-07-05T21:38:49.256Z"
   },
   {
    "duration": 1200,
    "start_time": "2021-07-05T21:39:19.222Z"
   },
   {
    "duration": 45,
    "start_time": "2021-07-05T21:39:20.426Z"
   },
   {
    "duration": 120,
    "start_time": "2021-07-05T21:39:20.475Z"
   },
   {
    "duration": 13,
    "start_time": "2021-07-05T21:39:20.599Z"
   },
   {
    "duration": 43,
    "start_time": "2021-07-05T21:39:20.614Z"
   },
   {
    "duration": 17,
    "start_time": "2021-07-05T21:39:20.660Z"
   },
   {
    "duration": 15,
    "start_time": "2021-07-05T21:39:20.680Z"
   },
   {
    "duration": 9,
    "start_time": "2021-07-05T21:39:20.700Z"
   },
   {
    "duration": 49,
    "start_time": "2021-07-05T21:39:20.713Z"
   },
   {
    "duration": 10,
    "start_time": "2021-07-05T21:39:20.765Z"
   },
   {
    "duration": 22,
    "start_time": "2021-07-05T21:39:20.778Z"
   },
   {
    "duration": 13,
    "start_time": "2021-07-05T21:39:20.803Z"
   },
   {
    "duration": 37,
    "start_time": "2021-07-05T21:39:20.819Z"
   },
   {
    "duration": 25,
    "start_time": "2021-07-05T21:39:20.859Z"
   },
   {
    "duration": 29,
    "start_time": "2021-07-05T21:39:20.886Z"
   },
   {
    "duration": 58,
    "start_time": "2021-07-05T21:39:20.917Z"
   },
   {
    "duration": 16,
    "start_time": "2021-07-05T21:39:20.978Z"
   },
   {
    "duration": 14,
    "start_time": "2021-07-05T21:39:20.997Z"
   },
   {
    "duration": 54,
    "start_time": "2021-07-05T21:39:21.013Z"
   },
   {
    "duration": 11,
    "start_time": "2021-07-05T21:39:21.070Z"
   },
   {
    "duration": 16,
    "start_time": "2021-07-05T21:39:21.083Z"
   },
   {
    "duration": 37,
    "start_time": "2021-07-05T21:39:21.101Z"
   },
   {
    "duration": 10,
    "start_time": "2021-07-05T21:39:21.159Z"
   },
   {
    "duration": 319,
    "start_time": "2021-07-05T21:39:21.172Z"
   },
   {
    "duration": 8819,
    "start_time": "2021-07-05T21:39:21.494Z"
   },
   {
    "duration": 16,
    "start_time": "2021-07-05T21:39:30.316Z"
   },
   {
    "duration": 68,
    "start_time": "2021-07-05T21:39:30.334Z"
   },
   {
    "duration": 28,
    "start_time": "2021-07-05T21:39:30.405Z"
   },
   {
    "duration": 66,
    "start_time": "2021-07-05T21:39:30.437Z"
   },
   {
    "duration": 119,
    "start_time": "2021-07-05T21:39:30.505Z"
   },
   {
    "duration": 80,
    "start_time": "2021-07-05T21:39:30.626Z"
   },
   {
    "duration": 167,
    "start_time": "2021-07-05T21:39:30.708Z"
   },
   {
    "duration": 147,
    "start_time": "2021-07-05T21:39:30.877Z"
   },
   {
    "duration": 43,
    "start_time": "2021-07-05T21:39:31.026Z"
   },
   {
    "duration": 155,
    "start_time": "2021-07-05T21:39:31.071Z"
   },
   {
    "duration": 1028,
    "start_time": "2021-07-05T21:40:05.797Z"
   },
   {
    "duration": 37,
    "start_time": "2021-07-05T21:40:06.827Z"
   },
   {
    "duration": 89,
    "start_time": "2021-07-05T21:40:06.867Z"
   },
   {
    "duration": 10,
    "start_time": "2021-07-05T21:40:06.959Z"
   },
   {
    "duration": 20,
    "start_time": "2021-07-05T21:40:06.971Z"
   },
   {
    "duration": 11,
    "start_time": "2021-07-05T21:40:06.994Z"
   },
   {
    "duration": 55,
    "start_time": "2021-07-05T21:40:07.008Z"
   },
   {
    "duration": 8,
    "start_time": "2021-07-05T21:40:07.067Z"
   },
   {
    "duration": 16,
    "start_time": "2021-07-05T21:40:07.079Z"
   },
   {
    "duration": 24,
    "start_time": "2021-07-05T21:40:07.098Z"
   },
   {
    "duration": 43,
    "start_time": "2021-07-05T21:40:07.125Z"
   },
   {
    "duration": 11,
    "start_time": "2021-07-05T21:40:07.171Z"
   },
   {
    "duration": 13,
    "start_time": "2021-07-05T21:40:07.185Z"
   },
   {
    "duration": 69,
    "start_time": "2021-07-05T21:40:07.201Z"
   },
   {
    "duration": 28,
    "start_time": "2021-07-05T21:40:07.273Z"
   },
   {
    "duration": 267,
    "start_time": "2021-07-06T02:25:11.745Z"
   },
   {
    "duration": 758,
    "start_time": "2021-07-06T02:25:18.098Z"
   },
   {
    "duration": 13,
    "start_time": "2021-07-06T02:25:18.858Z"
   },
   {
    "duration": 40,
    "start_time": "2021-07-06T02:25:18.873Z"
   },
   {
    "duration": 31,
    "start_time": "2021-07-06T02:25:18.914Z"
   },
   {
    "duration": 11,
    "start_time": "2021-07-06T02:25:18.947Z"
   },
   {
    "duration": 12,
    "start_time": "2021-07-06T02:25:18.959Z"
   },
   {
    "duration": 10,
    "start_time": "2021-07-06T02:25:18.972Z"
   },
   {
    "duration": 4,
    "start_time": "2021-07-06T02:25:18.984Z"
   },
   {
    "duration": 10,
    "start_time": "2021-07-06T02:25:18.990Z"
   },
   {
    "duration": 5,
    "start_time": "2021-07-06T02:25:19.002Z"
   },
   {
    "duration": 32,
    "start_time": "2021-07-06T02:25:19.008Z"
   },
   {
    "duration": 5,
    "start_time": "2021-07-06T02:25:19.042Z"
   },
   {
    "duration": 7,
    "start_time": "2021-07-06T02:25:19.048Z"
   },
   {
    "duration": 12,
    "start_time": "2021-07-06T02:25:19.056Z"
   },
   {
    "duration": 15,
    "start_time": "2021-07-06T02:25:19.070Z"
   },
   {
    "duration": 13,
    "start_time": "2021-07-06T02:25:19.087Z"
   },
   {
    "duration": 52,
    "start_time": "2021-07-06T02:25:19.101Z"
   },
   {
    "duration": 7,
    "start_time": "2021-07-06T02:25:19.155Z"
   },
   {
    "duration": 11,
    "start_time": "2021-07-06T02:25:19.163Z"
   },
   {
    "duration": 7,
    "start_time": "2021-07-06T02:25:19.175Z"
   },
   {
    "duration": 12,
    "start_time": "2021-07-06T02:25:19.183Z"
   },
   {
    "duration": 24,
    "start_time": "2021-07-06T02:25:19.196Z"
   },
   {
    "duration": 7,
    "start_time": "2021-07-06T02:25:19.222Z"
   },
   {
    "duration": 1255,
    "start_time": "2021-07-06T02:25:19.241Z"
   },
   {
    "duration": -1230,
    "start_time": "2021-07-06T02:25:21.728Z"
   },
   {
    "duration": -1268,
    "start_time": "2021-07-06T02:25:21.767Z"
   },
   {
    "duration": -1286,
    "start_time": "2021-07-06T02:25:21.786Z"
   },
   {
    "duration": -1310,
    "start_time": "2021-07-06T02:25:21.811Z"
   },
   {
    "duration": -1505,
    "start_time": "2021-07-06T02:25:22.007Z"
   },
   {
    "duration": -1549,
    "start_time": "2021-07-06T02:25:22.052Z"
   },
   {
    "duration": -1579,
    "start_time": "2021-07-06T02:25:22.083Z"
   },
   {
    "duration": -1610,
    "start_time": "2021-07-06T02:25:22.115Z"
   },
   {
    "duration": -1660,
    "start_time": "2021-07-06T02:25:22.166Z"
   },
   {
    "duration": -1695,
    "start_time": "2021-07-06T02:25:22.202Z"
   },
   {
    "duration": -1742,
    "start_time": "2021-07-06T02:25:22.250Z"
   },
   {
    "duration": 1901,
    "start_time": "2021-07-06T15:34:48.216Z"
   },
   {
    "duration": 38,
    "start_time": "2021-07-06T15:34:50.121Z"
   },
   {
    "duration": 70,
    "start_time": "2021-07-06T15:34:50.162Z"
   },
   {
    "duration": 10,
    "start_time": "2021-07-06T15:34:50.255Z"
   },
   {
    "duration": 25,
    "start_time": "2021-07-06T15:34:50.268Z"
   },
   {
    "duration": 8,
    "start_time": "2021-07-06T15:34:50.295Z"
   },
   {
    "duration": 50,
    "start_time": "2021-07-06T15:34:50.306Z"
   },
   {
    "duration": 8,
    "start_time": "2021-07-06T15:34:50.360Z"
   },
   {
    "duration": 17,
    "start_time": "2021-07-06T15:34:50.371Z"
   },
   {
    "duration": 16,
    "start_time": "2021-07-06T15:34:50.391Z"
   },
   {
    "duration": 46,
    "start_time": "2021-07-06T15:34:50.409Z"
   },
   {
    "duration": 8,
    "start_time": "2021-07-06T15:34:50.457Z"
   },
   {
    "duration": 17,
    "start_time": "2021-07-06T15:34:50.468Z"
   },
   {
    "duration": 18,
    "start_time": "2021-07-06T15:34:50.487Z"
   },
   {
    "duration": 60,
    "start_time": "2021-07-06T15:34:50.507Z"
   },
   {
    "duration": 22,
    "start_time": "2021-07-06T15:34:50.569Z"
   },
   {
    "duration": 21,
    "start_time": "2021-07-06T15:34:50.594Z"
   },
   {
    "duration": 48,
    "start_time": "2021-07-06T15:34:50.618Z"
   },
   {
    "duration": 24,
    "start_time": "2021-07-06T15:34:50.669Z"
   },
   {
    "duration": 14,
    "start_time": "2021-07-06T15:34:50.696Z"
   },
   {
    "duration": 24,
    "start_time": "2021-07-06T15:34:50.713Z"
   },
   {
    "duration": 55,
    "start_time": "2021-07-06T15:34:50.740Z"
   },
   {
    "duration": 14,
    "start_time": "2021-07-06T15:34:50.801Z"
   },
   {
    "duration": 2685,
    "start_time": "2021-07-06T15:34:50.818Z"
   },
   {
    "duration": -859,
    "start_time": "2021-07-06T15:34:54.365Z"
   },
   {
    "duration": -865,
    "start_time": "2021-07-06T15:34:54.373Z"
   },
   {
    "duration": -875,
    "start_time": "2021-07-06T15:34:54.385Z"
   },
   {
    "duration": -885,
    "start_time": "2021-07-06T15:34:54.396Z"
   },
   {
    "duration": -887,
    "start_time": "2021-07-06T15:34:54.400Z"
   },
   {
    "duration": -899,
    "start_time": "2021-07-06T15:34:54.414Z"
   },
   {
    "duration": -902,
    "start_time": "2021-07-06T15:34:54.419Z"
   },
   {
    "duration": -910,
    "start_time": "2021-07-06T15:34:54.429Z"
   },
   {
    "duration": -912,
    "start_time": "2021-07-06T15:34:54.433Z"
   },
   {
    "duration": -922,
    "start_time": "2021-07-06T15:34:54.444Z"
   },
   {
    "duration": -924,
    "start_time": "2021-07-06T15:34:54.448Z"
   },
   {
    "duration": 1044,
    "start_time": "2021-07-06T16:48:35.400Z"
   },
   {
    "duration": 19,
    "start_time": "2021-07-06T16:48:36.447Z"
   },
   {
    "duration": 77,
    "start_time": "2021-07-06T16:48:36.469Z"
   },
   {
    "duration": 14,
    "start_time": "2021-07-06T16:48:36.549Z"
   },
   {
    "duration": 33,
    "start_time": "2021-07-06T16:48:36.566Z"
   },
   {
    "duration": 26,
    "start_time": "2021-07-06T16:48:36.602Z"
   },
   {
    "duration": 40,
    "start_time": "2021-07-06T16:48:36.630Z"
   },
   {
    "duration": 9,
    "start_time": "2021-07-06T16:48:36.673Z"
   },
   {
    "duration": 31,
    "start_time": "2021-07-06T16:48:36.685Z"
   },
   {
    "duration": 29,
    "start_time": "2021-07-06T16:48:36.718Z"
   },
   {
    "duration": 16,
    "start_time": "2021-07-06T16:48:36.750Z"
   },
   {
    "duration": 47,
    "start_time": "2021-07-06T16:48:36.768Z"
   },
   {
    "duration": 28,
    "start_time": "2021-07-06T16:48:36.818Z"
   },
   {
    "duration": 42,
    "start_time": "2021-07-06T16:48:36.848Z"
   },
   {
    "duration": 29,
    "start_time": "2021-07-06T16:48:36.892Z"
   },
   {
    "duration": 22,
    "start_time": "2021-07-06T16:48:36.923Z"
   },
   {
    "duration": 45,
    "start_time": "2021-07-06T16:48:36.947Z"
   },
   {
    "duration": 25,
    "start_time": "2021-07-06T16:48:36.995Z"
   },
   {
    "duration": 30,
    "start_time": "2021-07-06T16:48:37.023Z"
   },
   {
    "duration": 26,
    "start_time": "2021-07-06T16:48:37.057Z"
   },
   {
    "duration": 28,
    "start_time": "2021-07-06T16:48:37.086Z"
   },
   {
    "duration": 61,
    "start_time": "2021-07-06T16:48:37.116Z"
   },
   {
    "duration": 11,
    "start_time": "2021-07-06T16:48:37.184Z"
   },
   {
    "duration": 1458,
    "start_time": "2021-07-06T16:48:37.199Z"
   },
   {
    "duration": 367,
    "start_time": "2021-07-06T16:48:38.294Z"
   },
   {
    "duration": 356,
    "start_time": "2021-07-06T16:48:38.307Z"
   },
   {
    "duration": 353,
    "start_time": "2021-07-06T16:48:38.312Z"
   },
   {
    "duration": 341,
    "start_time": "2021-07-06T16:48:38.327Z"
   },
   {
    "duration": 162,
    "start_time": "2021-07-06T16:48:38.508Z"
   },
   {
    "duration": 154,
    "start_time": "2021-07-06T16:48:38.518Z"
   },
   {
    "duration": 151,
    "start_time": "2021-07-06T16:48:38.523Z"
   },
   {
    "duration": 149,
    "start_time": "2021-07-06T16:48:38.528Z"
   },
   {
    "duration": 139,
    "start_time": "2021-07-06T16:48:38.540Z"
   },
   {
    "duration": 136,
    "start_time": "2021-07-06T16:48:38.545Z"
   },
   {
    "duration": 127,
    "start_time": "2021-07-06T16:48:38.556Z"
   },
   {
    "duration": 963,
    "start_time": "2021-07-06T16:49:04.493Z"
   },
   {
    "duration": 21,
    "start_time": "2021-07-06T16:49:05.458Z"
   },
   {
    "duration": 92,
    "start_time": "2021-07-06T16:49:05.482Z"
   },
   {
    "duration": 10,
    "start_time": "2021-07-06T16:49:05.577Z"
   },
   {
    "duration": 27,
    "start_time": "2021-07-06T16:49:05.590Z"
   },
   {
    "duration": 9,
    "start_time": "2021-07-06T16:49:05.620Z"
   },
   {
    "duration": 12,
    "start_time": "2021-07-06T16:49:05.655Z"
   },
   {
    "duration": 9,
    "start_time": "2021-07-06T16:49:05.671Z"
   },
   {
    "duration": 15,
    "start_time": "2021-07-06T16:49:05.683Z"
   },
   {
    "duration": 8,
    "start_time": "2021-07-06T16:49:05.701Z"
   },
   {
    "duration": 54,
    "start_time": "2021-07-06T16:49:05.711Z"
   },
   {
    "duration": 12,
    "start_time": "2021-07-06T16:49:05.767Z"
   },
   {
    "duration": 9,
    "start_time": "2021-07-06T16:49:05.781Z"
   },
   {
    "duration": 18,
    "start_time": "2021-07-06T16:49:05.793Z"
   },
   {
    "duration": 59,
    "start_time": "2021-07-06T16:49:05.813Z"
   },
   {
    "duration": 22,
    "start_time": "2021-07-06T16:49:05.875Z"
   },
   {
    "duration": 16,
    "start_time": "2021-07-06T16:49:05.899Z"
   },
   {
    "duration": 43,
    "start_time": "2021-07-06T16:49:05.918Z"
   },
   {
    "duration": 17,
    "start_time": "2021-07-06T16:49:05.964Z"
   },
   {
    "duration": 12,
    "start_time": "2021-07-06T16:49:05.983Z"
   },
   {
    "duration": 19,
    "start_time": "2021-07-06T16:49:05.997Z"
   },
   {
    "duration": 57,
    "start_time": "2021-07-06T16:49:06.019Z"
   },
   {
    "duration": 10,
    "start_time": "2021-07-06T16:49:06.081Z"
   },
   {
    "duration": 1470,
    "start_time": "2021-07-06T16:49:06.094Z"
   },
   {
    "duration": 142,
    "start_time": "2021-07-06T16:49:07.425Z"
   },
   {
    "duration": 139,
    "start_time": "2021-07-06T16:49:07.430Z"
   },
   {
    "duration": 132,
    "start_time": "2021-07-06T16:49:07.439Z"
   },
   {
    "duration": 131,
    "start_time": "2021-07-06T16:49:07.442Z"
   },
   {
    "duration": 127,
    "start_time": "2021-07-06T16:49:07.448Z"
   },
   {
    "duration": 119,
    "start_time": "2021-07-06T16:49:07.457Z"
   },
   {
    "duration": 117,
    "start_time": "2021-07-06T16:49:07.461Z"
   },
   {
    "duration": 108,
    "start_time": "2021-07-06T16:49:07.471Z"
   },
   {
    "duration": 107,
    "start_time": "2021-07-06T16:49:07.474Z"
   },
   {
    "duration": 104,
    "start_time": "2021-07-06T16:49:07.478Z"
   },
   {
    "duration": 95,
    "start_time": "2021-07-06T16:49:07.488Z"
   },
   {
    "duration": 96,
    "start_time": "2021-07-06T16:49:44.035Z"
   },
   {
    "duration": 962,
    "start_time": "2021-07-06T16:49:54.974Z"
   },
   {
    "duration": 27,
    "start_time": "2021-07-06T16:49:55.939Z"
   },
   {
    "duration": 68,
    "start_time": "2021-07-06T16:49:55.969Z"
   },
   {
    "duration": 13,
    "start_time": "2021-07-06T16:49:56.053Z"
   },
   {
    "duration": 29,
    "start_time": "2021-07-06T16:49:56.069Z"
   },
   {
    "duration": 23,
    "start_time": "2021-07-06T16:49:56.100Z"
   },
   {
    "duration": 21,
    "start_time": "2021-07-06T16:49:56.126Z"
   },
   {
    "duration": 16,
    "start_time": "2021-07-06T16:49:56.157Z"
   },
   {
    "duration": 18,
    "start_time": "2021-07-06T16:49:56.176Z"
   },
   {
    "duration": 23,
    "start_time": "2021-07-06T16:49:56.197Z"
   },
   {
    "duration": 28,
    "start_time": "2021-07-06T16:49:56.223Z"
   },
   {
    "duration": 20,
    "start_time": "2021-07-06T16:49:56.254Z"
   },
   {
    "duration": 25,
    "start_time": "2021-07-06T16:49:56.276Z"
   },
   {
    "duration": 33,
    "start_time": "2021-07-06T16:49:56.303Z"
   },
   {
    "duration": 29,
    "start_time": "2021-07-06T16:49:56.339Z"
   },
   {
    "duration": 23,
    "start_time": "2021-07-06T16:49:56.370Z"
   },
   {
    "duration": 31,
    "start_time": "2021-07-06T16:49:56.396Z"
   },
   {
    "duration": 30,
    "start_time": "2021-07-06T16:49:56.430Z"
   },
   {
    "duration": 18,
    "start_time": "2021-07-06T16:49:56.463Z"
   },
   {
    "duration": 17,
    "start_time": "2021-07-06T16:49:56.484Z"
   },
   {
    "duration": 28,
    "start_time": "2021-07-06T16:49:56.504Z"
   },
   {
    "duration": 39,
    "start_time": "2021-07-06T16:49:56.535Z"
   },
   {
    "duration": 10,
    "start_time": "2021-07-06T16:49:56.579Z"
   },
   {
    "duration": 1385,
    "start_time": "2021-07-06T16:49:56.592Z"
   },
   {
    "duration": 367,
    "start_time": "2021-07-06T16:49:57.613Z"
   },
   {
    "duration": 360,
    "start_time": "2021-07-06T16:49:57.622Z"
   },
   {
    "duration": 357,
    "start_time": "2021-07-06T16:49:57.626Z"
   },
   {
    "duration": 356,
    "start_time": "2021-07-06T16:49:57.629Z"
   },
   {
    "duration": 176,
    "start_time": "2021-07-06T16:49:57.811Z"
   },
   {
    "duration": 173,
    "start_time": "2021-07-06T16:49:57.815Z"
   },
   {
    "duration": 167,
    "start_time": "2021-07-06T16:49:57.823Z"
   },
   {
    "duration": 165,
    "start_time": "2021-07-06T16:49:57.827Z"
   },
   {
    "duration": 163,
    "start_time": "2021-07-06T16:49:57.830Z"
   },
   {
    "duration": 155,
    "start_time": "2021-07-06T16:49:57.840Z"
   },
   {
    "duration": 154,
    "start_time": "2021-07-06T16:49:57.842Z"
   },
   {
    "duration": 1023,
    "start_time": "2021-07-06T16:50:59.280Z"
   },
   {
    "duration": 21,
    "start_time": "2021-07-06T16:51:00.306Z"
   },
   {
    "duration": 90,
    "start_time": "2021-07-06T16:51:00.330Z"
   },
   {
    "duration": 10,
    "start_time": "2021-07-06T16:51:00.423Z"
   },
   {
    "duration": 18,
    "start_time": "2021-07-06T16:51:00.455Z"
   },
   {
    "duration": 22,
    "start_time": "2021-07-06T16:51:00.476Z"
   },
   {
    "duration": 28,
    "start_time": "2021-07-06T16:51:00.500Z"
   },
   {
    "duration": 36,
    "start_time": "2021-07-06T16:51:00.531Z"
   },
   {
    "duration": 21,
    "start_time": "2021-07-06T16:51:00.571Z"
   },
   {
    "duration": 15,
    "start_time": "2021-07-06T16:51:00.595Z"
   },
   {
    "duration": 21,
    "start_time": "2021-07-06T16:51:00.613Z"
   },
   {
    "duration": 14,
    "start_time": "2021-07-06T16:51:00.637Z"
   },
   {
    "duration": 18,
    "start_time": "2021-07-06T16:51:00.655Z"
   },
   {
    "duration": 43,
    "start_time": "2021-07-06T16:51:00.675Z"
   },
   {
    "duration": 49,
    "start_time": "2021-07-06T16:51:00.721Z"
   },
   {
    "duration": 33,
    "start_time": "2021-07-06T16:51:00.773Z"
   },
   {
    "duration": 16,
    "start_time": "2021-07-06T16:51:00.809Z"
   },
   {
    "duration": 40,
    "start_time": "2021-07-06T16:51:00.828Z"
   },
   {
    "duration": 33,
    "start_time": "2021-07-06T16:51:00.870Z"
   },
   {
    "duration": 18,
    "start_time": "2021-07-06T16:51:00.906Z"
   },
   {
    "duration": 22,
    "start_time": "2021-07-06T16:51:00.927Z"
   },
   {
    "duration": 62,
    "start_time": "2021-07-06T16:51:00.952Z"
   },
   {
    "duration": 12,
    "start_time": "2021-07-06T16:51:01.016Z"
   },
   {
    "duration": 311,
    "start_time": "2021-07-06T16:51:01.030Z"
   },
   {
    "duration": 9137,
    "start_time": "2021-07-06T16:51:01.344Z"
   },
   {
    "duration": 18,
    "start_time": "2021-07-06T16:51:10.483Z"
   },
   {
    "duration": 33,
    "start_time": "2021-07-06T16:51:10.505Z"
   },
   {
    "duration": 33,
    "start_time": "2021-07-06T16:51:10.541Z"
   },
   {
    "duration": 49,
    "start_time": "2021-07-06T16:51:10.576Z"
   },
   {
    "duration": 147,
    "start_time": "2021-07-06T16:51:10.628Z"
   },
   {
    "duration": 92,
    "start_time": "2021-07-06T16:51:10.778Z"
   },
   {
    "duration": 189,
    "start_time": "2021-07-06T16:51:10.874Z"
   },
   {
    "duration": 157,
    "start_time": "2021-07-06T16:51:11.066Z"
   },
   {
    "duration": 43,
    "start_time": "2021-07-06T16:51:11.225Z"
   },
   {
    "duration": 172,
    "start_time": "2021-07-06T16:51:11.271Z"
   },
   {
    "duration": 998,
    "start_time": "2021-07-06T16:52:39.847Z"
   },
   {
    "duration": 25,
    "start_time": "2021-07-06T16:52:40.848Z"
   },
   {
    "duration": 82,
    "start_time": "2021-07-06T16:52:40.876Z"
   },
   {
    "duration": 11,
    "start_time": "2021-07-06T16:52:40.961Z"
   },
   {
    "duration": 20,
    "start_time": "2021-07-06T16:52:40.974Z"
   },
   {
    "duration": 10,
    "start_time": "2021-07-06T16:52:40.996Z"
   },
   {
    "duration": 46,
    "start_time": "2021-07-06T16:52:41.008Z"
   },
   {
    "duration": 9,
    "start_time": "2021-07-06T16:52:41.058Z"
   },
   {
    "duration": 13,
    "start_time": "2021-07-06T16:52:41.069Z"
   },
   {
    "duration": 7,
    "start_time": "2021-07-06T16:52:41.085Z"
   },
   {
    "duration": 12,
    "start_time": "2021-07-06T16:52:41.094Z"
   },
   {
    "duration": 50,
    "start_time": "2021-07-06T16:52:41.108Z"
   },
   {
    "duration": 8,
    "start_time": "2021-07-06T16:52:41.161Z"
   },
   {
    "duration": 20,
    "start_time": "2021-07-06T16:52:41.172Z"
   },
   {
    "duration": 27,
    "start_time": "2021-07-06T16:52:41.194Z"
   },
   {
    "duration": 52,
    "start_time": "2021-07-06T16:52:41.223Z"
   },
   {
    "duration": 15,
    "start_time": "2021-07-06T16:52:41.277Z"
   },
   {
    "duration": 15,
    "start_time": "2021-07-06T16:52:41.295Z"
   },
   {
    "duration": 53,
    "start_time": "2021-07-06T16:52:41.313Z"
   },
   {
    "duration": 9,
    "start_time": "2021-07-06T16:52:41.369Z"
   },
   {
    "duration": 6,
    "start_time": "2021-07-06T16:52:41.381Z"
   },
   {
    "duration": 64,
    "start_time": "2021-07-06T16:52:41.390Z"
   },
   {
    "duration": 11,
    "start_time": "2021-07-06T16:52:41.459Z"
   },
   {
    "duration": 315,
    "start_time": "2021-07-06T16:52:41.473Z"
   },
   {
    "duration": 9007,
    "start_time": "2021-07-06T16:52:41.790Z"
   },
   {
    "duration": 18,
    "start_time": "2021-07-06T16:52:50.799Z"
   },
   {
    "duration": 40,
    "start_time": "2021-07-06T16:52:50.819Z"
   },
   {
    "duration": 24,
    "start_time": "2021-07-06T16:52:50.861Z"
   },
   {
    "duration": 76,
    "start_time": "2021-07-06T16:52:50.888Z"
   },
   {
    "duration": 416,
    "start_time": "2021-07-06T16:52:50.967Z"
   },
   {
    "duration": 377,
    "start_time": "2021-07-06T16:52:51.008Z"
   },
   {
    "duration": 369,
    "start_time": "2021-07-06T16:52:51.018Z"
   },
   {
    "duration": 366,
    "start_time": "2021-07-06T16:52:51.022Z"
   },
   {
    "duration": 364,
    "start_time": "2021-07-06T16:52:51.025Z"
   },
   {
    "duration": 179,
    "start_time": "2021-07-06T16:52:51.211Z"
   },
   {
    "duration": 1043,
    "start_time": "2021-07-06T16:53:02.056Z"
   },
   {
    "duration": 20,
    "start_time": "2021-07-06T16:53:03.102Z"
   },
   {
    "duration": 91,
    "start_time": "2021-07-06T16:53:03.125Z"
   },
   {
    "duration": 10,
    "start_time": "2021-07-06T16:53:03.219Z"
   },
   {
    "duration": 34,
    "start_time": "2021-07-06T16:53:03.231Z"
   },
   {
    "duration": 18,
    "start_time": "2021-07-06T16:53:03.268Z"
   },
   {
    "duration": 29,
    "start_time": "2021-07-06T16:53:03.288Z"
   },
   {
    "duration": 31,
    "start_time": "2021-07-06T16:53:03.321Z"
   },
   {
    "duration": 16,
    "start_time": "2021-07-06T16:53:03.355Z"
   },
   {
    "duration": 24,
    "start_time": "2021-07-06T16:53:03.374Z"
   },
   {
    "duration": 21,
    "start_time": "2021-07-06T16:53:03.400Z"
   },
   {
    "duration": 16,
    "start_time": "2021-07-06T16:53:03.423Z"
   },
   {
    "duration": 15,
    "start_time": "2021-07-06T16:53:03.441Z"
   },
   {
    "duration": 25,
    "start_time": "2021-07-06T16:53:03.458Z"
   },
   {
    "duration": 34,
    "start_time": "2021-07-06T16:53:03.485Z"
   },
   {
    "duration": 37,
    "start_time": "2021-07-06T16:53:03.522Z"
   },
   {
    "duration": 25,
    "start_time": "2021-07-06T16:53:03.562Z"
   },
   {
    "duration": 27,
    "start_time": "2021-07-06T16:53:03.590Z"
   },
   {
    "duration": 34,
    "start_time": "2021-07-06T16:53:03.619Z"
   },
   {
    "duration": 16,
    "start_time": "2021-07-06T16:53:03.655Z"
   },
   {
    "duration": 14,
    "start_time": "2021-07-06T16:53:03.673Z"
   },
   {
    "duration": 56,
    "start_time": "2021-07-06T16:53:03.689Z"
   },
   {
    "duration": 10,
    "start_time": "2021-07-06T16:53:03.752Z"
   },
   {
    "duration": 295,
    "start_time": "2021-07-06T16:53:03.765Z"
   },
   {
    "duration": 9216,
    "start_time": "2021-07-06T16:53:04.063Z"
   },
   {
    "duration": 17,
    "start_time": "2021-07-06T16:53:13.282Z"
   },
   {
    "duration": 20,
    "start_time": "2021-07-06T16:53:13.355Z"
   },
   {
    "duration": 78,
    "start_time": "2021-07-06T16:53:13.377Z"
   },
   {
    "duration": 101,
    "start_time": "2021-07-06T16:53:13.457Z"
   },
   {
    "duration": 214,
    "start_time": "2021-07-06T16:53:13.561Z"
   },
   {
    "duration": 177,
    "start_time": "2021-07-06T16:53:13.778Z"
   },
   {
    "duration": 198,
    "start_time": "2021-07-06T16:53:13.957Z"
   },
   {
    "duration": 156,
    "start_time": "2021-07-06T16:53:14.158Z"
   },
   {
    "duration": 45,
    "start_time": "2021-07-06T16:53:14.316Z"
   },
   {
    "duration": 177,
    "start_time": "2021-07-06T16:53:14.363Z"
   },
   {
    "duration": 1119,
    "start_time": "2021-07-06T16:55:31.853Z"
   },
   {
    "duration": 21,
    "start_time": "2021-07-06T16:55:32.975Z"
   },
   {
    "duration": 97,
    "start_time": "2021-07-06T16:55:33.000Z"
   },
   {
    "duration": 10,
    "start_time": "2021-07-06T16:55:33.100Z"
   },
   {
    "duration": 20,
    "start_time": "2021-07-06T16:55:33.112Z"
   },
   {
    "duration": 9,
    "start_time": "2021-07-06T16:55:33.155Z"
   },
   {
    "duration": 20,
    "start_time": "2021-07-06T16:55:33.167Z"
   },
   {
    "duration": 9,
    "start_time": "2021-07-06T16:55:33.190Z"
   },
   {
    "duration": 20,
    "start_time": "2021-07-06T16:55:33.203Z"
   },
   {
    "duration": 36,
    "start_time": "2021-07-06T16:55:33.226Z"
   },
   {
    "duration": 12,
    "start_time": "2021-07-06T16:55:33.264Z"
   },
   {
    "duration": 8,
    "start_time": "2021-07-06T16:55:33.278Z"
   },
   {
    "duration": 9,
    "start_time": "2021-07-06T16:55:33.289Z"
   },
   {
    "duration": 67,
    "start_time": "2021-07-06T16:55:33.300Z"
   },
   {
    "duration": 28,
    "start_time": "2021-07-06T16:55:33.370Z"
   },
   {
    "duration": 53,
    "start_time": "2021-07-06T16:55:33.401Z"
   },
   {
    "duration": 18,
    "start_time": "2021-07-06T16:55:33.456Z"
   },
   {
    "duration": 26,
    "start_time": "2021-07-06T16:55:33.477Z"
   },
   {
    "duration": 30,
    "start_time": "2021-07-06T16:55:33.505Z"
   },
   {
    "duration": 12,
    "start_time": "2021-07-06T16:55:33.553Z"
   },
   {
    "duration": 13,
    "start_time": "2021-07-06T16:55:33.567Z"
   },
   {
    "duration": 36,
    "start_time": "2021-07-06T16:55:33.582Z"
   },
   {
    "duration": 32,
    "start_time": "2021-07-06T16:55:33.622Z"
   },
   {
    "duration": 331,
    "start_time": "2021-07-06T16:55:33.658Z"
   },
   {
    "duration": 9323,
    "start_time": "2021-07-06T16:55:33.991Z"
   },
   {
    "duration": 17,
    "start_time": "2021-07-06T16:55:43.316Z"
   },
   {
    "duration": 34,
    "start_time": "2021-07-06T16:55:43.336Z"
   },
   {
    "duration": 31,
    "start_time": "2021-07-06T16:55:43.372Z"
   },
   {
    "duration": 69,
    "start_time": "2021-07-06T16:55:43.406Z"
   },
   {
    "duration": 122,
    "start_time": "2021-07-06T16:55:43.478Z"
   },
   {
    "duration": 79,
    "start_time": "2021-07-06T16:55:43.602Z"
   },
   {
    "duration": 181,
    "start_time": "2021-07-06T16:55:43.684Z"
   },
   {
    "duration": 157,
    "start_time": "2021-07-06T16:55:43.868Z"
   },
   {
    "duration": 44,
    "start_time": "2021-07-06T16:55:44.028Z"
   },
   {
    "duration": 180,
    "start_time": "2021-07-06T16:55:44.075Z"
   },
   {
    "duration": 1122,
    "start_time": "2021-07-06T16:58:53.834Z"
   },
   {
    "duration": 20,
    "start_time": "2021-07-06T16:58:54.959Z"
   },
   {
    "duration": 93,
    "start_time": "2021-07-06T16:58:54.982Z"
   },
   {
    "duration": 10,
    "start_time": "2021-07-06T16:58:55.078Z"
   },
   {
    "duration": 22,
    "start_time": "2021-07-06T16:58:55.090Z"
   },
   {
    "duration": 13,
    "start_time": "2021-07-06T16:58:55.114Z"
   },
   {
    "duration": 11,
    "start_time": "2021-07-06T16:58:55.154Z"
   },
   {
    "duration": 8,
    "start_time": "2021-07-06T16:58:55.169Z"
   },
   {
    "duration": 12,
    "start_time": "2021-07-06T16:58:55.179Z"
   },
   {
    "duration": 9,
    "start_time": "2021-07-06T16:58:55.193Z"
   },
   {
    "duration": 55,
    "start_time": "2021-07-06T16:58:55.205Z"
   },
   {
    "duration": 7,
    "start_time": "2021-07-06T16:58:55.263Z"
   },
   {
    "duration": 8,
    "start_time": "2021-07-06T16:58:55.273Z"
   },
   {
    "duration": 16,
    "start_time": "2021-07-06T16:58:55.284Z"
   },
   {
    "duration": 65,
    "start_time": "2021-07-06T16:58:55.303Z"
   },
   {
    "duration": 23,
    "start_time": "2021-07-06T16:58:55.371Z"
   },
   {
    "duration": 21,
    "start_time": "2021-07-06T16:58:55.396Z"
   },
   {
    "duration": 43,
    "start_time": "2021-07-06T16:58:55.419Z"
   },
   {
    "duration": 19,
    "start_time": "2021-07-06T16:58:55.465Z"
   },
   {
    "duration": 11,
    "start_time": "2021-07-06T16:58:55.486Z"
   },
   {
    "duration": 6,
    "start_time": "2021-07-06T16:58:55.500Z"
   },
   {
    "duration": 67,
    "start_time": "2021-07-06T16:58:55.509Z"
   },
   {
    "duration": 13,
    "start_time": "2021-07-06T16:58:55.583Z"
   },
   {
    "duration": 308,
    "start_time": "2021-07-06T16:58:55.600Z"
   },
   {
    "duration": 10069,
    "start_time": "2021-07-06T16:58:55.911Z"
   },
   {
    "duration": 17,
    "start_time": "2021-07-06T16:59:05.982Z"
   },
   {
    "duration": 39,
    "start_time": "2021-07-06T16:59:06.001Z"
   },
   {
    "duration": 32,
    "start_time": "2021-07-06T16:59:06.042Z"
   },
   {
    "duration": 50,
    "start_time": "2021-07-06T16:59:06.077Z"
   },
   {
    "duration": 141,
    "start_time": "2021-07-06T16:59:06.130Z"
   },
   {
    "duration": 697,
    "start_time": "2021-07-06T16:59:06.273Z"
   },
   {
    "duration": 156,
    "start_time": "2021-07-06T16:59:06.816Z"
   },
   {
    "duration": 150,
    "start_time": "2021-07-06T16:59:06.824Z"
   },
   {
    "duration": 147,
    "start_time": "2021-07-06T16:59:06.828Z"
   },
   {
    "duration": 144,
    "start_time": "2021-07-06T16:59:06.833Z"
   },
   {
    "duration": 1117,
    "start_time": "2021-07-06T16:59:27.519Z"
   },
   {
    "duration": 29,
    "start_time": "2021-07-06T16:59:28.638Z"
   },
   {
    "duration": 89,
    "start_time": "2021-07-06T16:59:28.670Z"
   },
   {
    "duration": 12,
    "start_time": "2021-07-06T16:59:28.763Z"
   },
   {
    "duration": 29,
    "start_time": "2021-07-06T16:59:28.778Z"
   },
   {
    "duration": 19,
    "start_time": "2021-07-06T16:59:28.810Z"
   },
   {
    "duration": 32,
    "start_time": "2021-07-06T16:59:28.832Z"
   },
   {
    "duration": 16,
    "start_time": "2021-07-06T16:59:28.868Z"
   },
   {
    "duration": 17,
    "start_time": "2021-07-06T16:59:28.888Z"
   },
   {
    "duration": 20,
    "start_time": "2021-07-06T16:59:28.907Z"
   },
   {
    "duration": 26,
    "start_time": "2021-07-06T16:59:28.929Z"
   },
   {
    "duration": 32,
    "start_time": "2021-07-06T16:59:28.958Z"
   },
   {
    "duration": 30,
    "start_time": "2021-07-06T16:59:28.994Z"
   },
   {
    "duration": 22,
    "start_time": "2021-07-06T16:59:29.027Z"
   },
   {
    "duration": 32,
    "start_time": "2021-07-06T16:59:29.051Z"
   },
   {
    "duration": 34,
    "start_time": "2021-07-06T16:59:29.086Z"
   },
   {
    "duration": 33,
    "start_time": "2021-07-06T16:59:29.123Z"
   },
   {
    "duration": 22,
    "start_time": "2021-07-06T16:59:29.158Z"
   },
   {
    "duration": 17,
    "start_time": "2021-07-06T16:59:29.182Z"
   },
   {
    "duration": 15,
    "start_time": "2021-07-06T16:59:29.201Z"
   },
   {
    "duration": 17,
    "start_time": "2021-07-06T16:59:29.219Z"
   },
   {
    "duration": 54,
    "start_time": "2021-07-06T16:59:29.238Z"
   },
   {
    "duration": 12,
    "start_time": "2021-07-06T16:59:29.297Z"
   },
   {
    "duration": 319,
    "start_time": "2021-07-06T16:59:29.312Z"
   },
   {
    "duration": 9448,
    "start_time": "2021-07-06T16:59:29.634Z"
   },
   {
    "duration": 18,
    "start_time": "2021-07-06T16:59:39.085Z"
   },
   {
    "duration": 34,
    "start_time": "2021-07-06T16:59:39.105Z"
   },
   {
    "duration": 41,
    "start_time": "2021-07-06T16:59:39.141Z"
   },
   {
    "duration": 74,
    "start_time": "2021-07-06T16:59:39.185Z"
   },
   {
    "duration": 135,
    "start_time": "2021-07-06T16:59:39.261Z"
   },
   {
    "duration": 694,
    "start_time": "2021-07-06T16:59:39.399Z"
   },
   {
    "duration": 159,
    "start_time": "2021-07-06T16:59:39.937Z"
   },
   {
    "duration": 149,
    "start_time": "2021-07-06T16:59:39.948Z"
   },
   {
    "duration": 149,
    "start_time": "2021-07-06T16:59:39.950Z"
   },
   {
    "duration": 147,
    "start_time": "2021-07-06T16:59:39.953Z"
   },
   {
    "duration": 85,
    "start_time": "2021-07-06T16:59:55.278Z"
   },
   {
    "duration": 168,
    "start_time": "2021-07-06T16:59:59.838Z"
   },
   {
    "duration": 153,
    "start_time": "2021-07-06T17:00:02.815Z"
   },
   {
    "duration": 33,
    "start_time": "2021-07-06T17:01:08.318Z"
   },
   {
    "duration": 281,
    "start_time": "2021-07-06T17:02:03.827Z"
   },
   {
    "duration": 182,
    "start_time": "2021-07-06T17:02:09.355Z"
   },
   {
    "duration": 429,
    "start_time": "2021-07-06T17:03:08.743Z"
   },
   {
    "duration": 159,
    "start_time": "2021-07-06T17:03:13.543Z"
   },
   {
    "duration": 114,
    "start_time": "2021-07-06T17:09:13.764Z"
   },
   {
    "duration": 116,
    "start_time": "2021-07-06T17:09:37.771Z"
   },
   {
    "duration": 1029,
    "start_time": "2021-07-06T17:10:36.854Z"
   },
   {
    "duration": 19,
    "start_time": "2021-07-06T17:10:37.885Z"
   },
   {
    "duration": 92,
    "start_time": "2021-07-06T17:10:37.907Z"
   },
   {
    "duration": 11,
    "start_time": "2021-07-06T17:10:38.002Z"
   },
   {
    "duration": 40,
    "start_time": "2021-07-06T17:10:38.016Z"
   },
   {
    "duration": 8,
    "start_time": "2021-07-06T17:10:38.058Z"
   },
   {
    "duration": 13,
    "start_time": "2021-07-06T17:10:38.069Z"
   },
   {
    "duration": 9,
    "start_time": "2021-07-06T17:10:38.085Z"
   },
   {
    "duration": 11,
    "start_time": "2021-07-06T17:10:38.097Z"
   },
   {
    "duration": 49,
    "start_time": "2021-07-06T17:10:38.111Z"
   },
   {
    "duration": 12,
    "start_time": "2021-07-06T17:10:38.163Z"
   },
   {
    "duration": 10,
    "start_time": "2021-07-06T17:10:38.178Z"
   },
   {
    "duration": 14,
    "start_time": "2021-07-06T17:10:38.190Z"
   },
   {
    "duration": 62,
    "start_time": "2021-07-06T17:10:38.206Z"
   },
   {
    "duration": 27,
    "start_time": "2021-07-06T17:10:38.271Z"
   },
   {
    "duration": 22,
    "start_time": "2021-07-06T17:10:38.301Z"
   },
   {
    "duration": 15,
    "start_time": "2021-07-06T17:10:38.355Z"
   },
   {
    "duration": 25,
    "start_time": "2021-07-06T17:10:38.372Z"
   },
   {
    "duration": 19,
    "start_time": "2021-07-06T17:10:38.399Z"
   },
   {
    "duration": 11,
    "start_time": "2021-07-06T17:10:38.420Z"
   },
   {
    "duration": 25,
    "start_time": "2021-07-06T17:10:38.433Z"
   },
   {
    "duration": 55,
    "start_time": "2021-07-06T17:10:38.460Z"
   },
   {
    "duration": 11,
    "start_time": "2021-07-06T17:10:38.519Z"
   },
   {
    "duration": 298,
    "start_time": "2021-07-06T17:10:38.533Z"
   },
   {
    "duration": 9023,
    "start_time": "2021-07-06T17:10:38.834Z"
   },
   {
    "duration": 17,
    "start_time": "2021-07-06T17:10:47.860Z"
   },
   {
    "duration": 24,
    "start_time": "2021-07-06T17:10:47.879Z"
   },
   {
    "duration": 53,
    "start_time": "2021-07-06T17:10:47.905Z"
   },
   {
    "duration": 48,
    "start_time": "2021-07-06T17:10:47.960Z"
   },
   {
    "duration": 137,
    "start_time": "2021-07-06T17:10:48.010Z"
   },
   {
    "duration": 72,
    "start_time": "2021-07-06T17:10:48.149Z"
   },
   {
    "duration": 182,
    "start_time": "2021-07-06T17:10:48.223Z"
   },
   {
    "duration": 161,
    "start_time": "2021-07-06T17:10:48.408Z"
   },
   {
    "duration": 177,
    "start_time": "2021-07-06T17:10:48.572Z"
   },
   {
    "duration": 7,
    "start_time": "2021-07-06T17:12:18.668Z"
   },
   {
    "duration": 976,
    "start_time": "2021-07-06T17:12:56.713Z"
   },
   {
    "duration": 20,
    "start_time": "2021-07-06T17:12:57.692Z"
   },
   {
    "duration": 92,
    "start_time": "2021-07-06T17:12:57.715Z"
   },
   {
    "duration": 9,
    "start_time": "2021-07-06T17:12:57.810Z"
   },
   {
    "duration": 35,
    "start_time": "2021-07-06T17:12:57.821Z"
   },
   {
    "duration": 10,
    "start_time": "2021-07-06T17:12:57.858Z"
   },
   {
    "duration": 12,
    "start_time": "2021-07-06T17:12:57.870Z"
   },
   {
    "duration": 10,
    "start_time": "2021-07-06T17:12:57.886Z"
   },
   {
    "duration": 16,
    "start_time": "2021-07-06T17:12:57.899Z"
   },
   {
    "duration": 42,
    "start_time": "2021-07-06T17:12:57.917Z"
   },
   {
    "duration": 12,
    "start_time": "2021-07-06T17:12:57.962Z"
   },
   {
    "duration": 8,
    "start_time": "2021-07-06T17:12:57.977Z"
   },
   {
    "duration": 9,
    "start_time": "2021-07-06T17:12:57.987Z"
   },
   {
    "duration": 57,
    "start_time": "2021-07-06T17:12:57.999Z"
   },
   {
    "duration": 28,
    "start_time": "2021-07-06T17:12:58.059Z"
   },
   {
    "duration": 21,
    "start_time": "2021-07-06T17:12:58.090Z"
   },
   {
    "duration": 50,
    "start_time": "2021-07-06T17:12:58.113Z"
   },
   {
    "duration": 13,
    "start_time": "2021-07-06T17:12:58.166Z"
   },
   {
    "duration": 22,
    "start_time": "2021-07-06T17:12:58.182Z"
   },
   {
    "duration": 11,
    "start_time": "2021-07-06T17:12:58.206Z"
   },
   {
    "duration": 40,
    "start_time": "2021-07-06T17:12:58.219Z"
   },
   {
    "duration": 39,
    "start_time": "2021-07-06T17:12:58.262Z"
   },
   {
    "duration": 8,
    "start_time": "2021-07-06T17:12:58.306Z"
   },
   {
    "duration": 325,
    "start_time": "2021-07-06T17:12:58.317Z"
   },
   {
    "duration": 9293,
    "start_time": "2021-07-06T17:12:58.644Z"
   },
   {
    "duration": 26,
    "start_time": "2021-07-06T17:13:07.939Z"
   },
   {
    "duration": 28,
    "start_time": "2021-07-06T17:13:07.968Z"
   },
   {
    "duration": 23,
    "start_time": "2021-07-06T17:13:07.999Z"
   },
   {
    "duration": 70,
    "start_time": "2021-07-06T17:13:08.024Z"
   },
   {
    "duration": 133,
    "start_time": "2021-07-06T17:13:08.097Z"
   },
   {
    "duration": 84,
    "start_time": "2021-07-06T17:13:08.232Z"
   },
   {
    "duration": 174,
    "start_time": "2021-07-06T17:13:08.318Z"
   },
   {
    "duration": 153,
    "start_time": "2021-07-06T17:13:08.494Z"
   },
   {
    "duration": 169,
    "start_time": "2021-07-06T17:13:08.654Z"
   },
   {
    "duration": 1026,
    "start_time": "2021-07-06T17:13:52.336Z"
   },
   {
    "duration": 20,
    "start_time": "2021-07-06T17:13:53.365Z"
   },
   {
    "duration": 94,
    "start_time": "2021-07-06T17:13:53.388Z"
   },
   {
    "duration": 11,
    "start_time": "2021-07-06T17:13:53.485Z"
   },
   {
    "duration": 19,
    "start_time": "2021-07-06T17:13:53.498Z"
   },
   {
    "duration": 37,
    "start_time": "2021-07-06T17:13:53.519Z"
   },
   {
    "duration": 11,
    "start_time": "2021-07-06T17:13:53.559Z"
   },
   {
    "duration": 8,
    "start_time": "2021-07-06T17:13:53.575Z"
   },
   {
    "duration": 20,
    "start_time": "2021-07-06T17:13:53.586Z"
   },
   {
    "duration": 11,
    "start_time": "2021-07-06T17:13:53.609Z"
   },
   {
    "duration": 35,
    "start_time": "2021-07-06T17:13:53.622Z"
   },
   {
    "duration": 23,
    "start_time": "2021-07-06T17:13:53.659Z"
   },
   {
    "duration": 23,
    "start_time": "2021-07-06T17:13:53.685Z"
   },
   {
    "duration": 25,
    "start_time": "2021-07-06T17:13:53.710Z"
   },
   {
    "duration": 35,
    "start_time": "2021-07-06T17:13:53.738Z"
   },
   {
    "duration": 21,
    "start_time": "2021-07-06T17:13:53.775Z"
   },
   {
    "duration": 19,
    "start_time": "2021-07-06T17:13:53.798Z"
   },
   {
    "duration": 41,
    "start_time": "2021-07-06T17:13:53.820Z"
   },
   {
    "duration": 30,
    "start_time": "2021-07-06T17:13:53.864Z"
   },
   {
    "duration": 12,
    "start_time": "2021-07-06T17:13:53.897Z"
   },
   {
    "duration": 24,
    "start_time": "2021-07-06T17:13:53.911Z"
   },
   {
    "duration": 66,
    "start_time": "2021-07-06T17:13:53.938Z"
   },
   {
    "duration": 7,
    "start_time": "2021-07-06T17:13:54.010Z"
   },
   {
    "duration": 335,
    "start_time": "2021-07-06T17:13:54.020Z"
   },
   {
    "duration": 9556,
    "start_time": "2021-07-06T17:13:54.358Z"
   },
   {
    "duration": 17,
    "start_time": "2021-07-06T17:14:03.917Z"
   },
   {
    "duration": 37,
    "start_time": "2021-07-06T17:14:03.937Z"
   },
   {
    "duration": 22,
    "start_time": "2021-07-06T17:14:03.976Z"
   },
   {
    "duration": 72,
    "start_time": "2021-07-06T17:14:04.000Z"
   },
   {
    "duration": 124,
    "start_time": "2021-07-06T17:14:04.075Z"
   },
   {
    "duration": 83,
    "start_time": "2021-07-06T17:14:04.201Z"
   },
   {
    "duration": 180,
    "start_time": "2021-07-06T17:14:04.286Z"
   },
   {
    "duration": 153,
    "start_time": "2021-07-06T17:14:04.468Z"
   },
   {
    "duration": 176,
    "start_time": "2021-07-06T17:14:04.624Z"
   },
   {
    "duration": 964,
    "start_time": "2021-07-06T17:15:42.597Z"
   },
   {
    "duration": 24,
    "start_time": "2021-07-06T17:15:43.564Z"
   },
   {
    "duration": 100,
    "start_time": "2021-07-06T17:15:43.591Z"
   },
   {
    "duration": 11,
    "start_time": "2021-07-06T17:15:43.694Z"
   },
   {
    "duration": 29,
    "start_time": "2021-07-06T17:15:43.707Z"
   },
   {
    "duration": 21,
    "start_time": "2021-07-06T17:15:43.738Z"
   },
   {
    "duration": 16,
    "start_time": "2021-07-06T17:15:43.762Z"
   },
   {
    "duration": 9,
    "start_time": "2021-07-06T17:15:43.783Z"
   },
   {
    "duration": 13,
    "start_time": "2021-07-06T17:15:43.796Z"
   },
   {
    "duration": 55,
    "start_time": "2021-07-06T17:15:43.811Z"
   },
   {
    "duration": 14,
    "start_time": "2021-07-06T17:15:43.868Z"
   },
   {
    "duration": 20,
    "start_time": "2021-07-06T17:15:43.884Z"
   },
   {
    "duration": 12,
    "start_time": "2021-07-06T17:15:43.906Z"
   },
   {
    "duration": 17,
    "start_time": "2021-07-06T17:15:43.920Z"
   },
   {
    "duration": 39,
    "start_time": "2021-07-06T17:15:43.939Z"
   },
   {
    "duration": 22,
    "start_time": "2021-07-06T17:15:43.981Z"
   },
   {
    "duration": 24,
    "start_time": "2021-07-06T17:15:44.005Z"
   },
   {
    "duration": 33,
    "start_time": "2021-07-06T17:15:44.031Z"
   },
   {
    "duration": 17,
    "start_time": "2021-07-06T17:15:44.067Z"
   },
   {
    "duration": 13,
    "start_time": "2021-07-06T17:15:44.086Z"
   },
   {
    "duration": 10,
    "start_time": "2021-07-06T17:15:44.101Z"
   },
   {
    "duration": 70,
    "start_time": "2021-07-06T17:15:44.113Z"
   },
   {
    "duration": 8,
    "start_time": "2021-07-06T17:15:44.189Z"
   },
   {
    "duration": 293,
    "start_time": "2021-07-06T17:15:44.200Z"
   },
   {
    "duration": 9382,
    "start_time": "2021-07-06T17:15:44.496Z"
   },
   {
    "duration": 17,
    "start_time": "2021-07-06T17:15:53.881Z"
   },
   {
    "duration": 25,
    "start_time": "2021-07-06T17:15:53.900Z"
   },
   {
    "duration": 44,
    "start_time": "2021-07-06T17:15:53.927Z"
   },
   {
    "duration": 47,
    "start_time": "2021-07-06T17:15:53.974Z"
   },
   {
    "duration": 144,
    "start_time": "2021-07-06T17:15:54.024Z"
   },
   {
    "duration": 100,
    "start_time": "2021-07-06T17:15:54.171Z"
   },
   {
    "duration": 183,
    "start_time": "2021-07-06T17:15:54.273Z"
   },
   {
    "duration": 169,
    "start_time": "2021-07-06T17:15:54.458Z"
   },
   {
    "duration": 170,
    "start_time": "2021-07-06T17:15:54.629Z"
   },
   {
    "duration": 21,
    "start_time": "2021-07-06T17:16:42.143Z"
   },
   {
    "duration": 120,
    "start_time": "2021-07-06T17:17:30.195Z"
   },
   {
    "duration": 70,
    "start_time": "2021-07-06T17:17:33.894Z"
   },
   {
    "duration": 71,
    "start_time": "2021-07-06T17:17:44.769Z"
   },
   {
    "duration": 164,
    "start_time": "2021-07-06T17:17:48.182Z"
   },
   {
    "duration": 141,
    "start_time": "2021-07-06T17:17:51.682Z"
   },
   {
    "duration": 164,
    "start_time": "2021-07-06T17:17:54.999Z"
   },
   {
    "duration": 1127,
    "start_time": "2021-07-07T15:37:02.351Z"
   },
   {
    "duration": 20,
    "start_time": "2021-07-07T15:37:03.480Z"
   },
   {
    "duration": 93,
    "start_time": "2021-07-07T15:37:03.503Z"
   },
   {
    "duration": 10,
    "start_time": "2021-07-07T15:37:03.599Z"
   },
   {
    "duration": 24,
    "start_time": "2021-07-07T15:37:03.611Z"
   },
   {
    "duration": 30,
    "start_time": "2021-07-07T15:37:03.637Z"
   },
   {
    "duration": 17,
    "start_time": "2021-07-07T15:37:03.669Z"
   },
   {
    "duration": 7,
    "start_time": "2021-07-07T15:37:03.690Z"
   },
   {
    "duration": 11,
    "start_time": "2021-07-07T15:37:03.700Z"
   },
   {
    "duration": 51,
    "start_time": "2021-07-07T15:37:03.713Z"
   },
   {
    "duration": 15,
    "start_time": "2021-07-07T15:37:03.766Z"
   },
   {
    "duration": 7,
    "start_time": "2021-07-07T15:37:03.783Z"
   },
   {
    "duration": 8,
    "start_time": "2021-07-07T15:37:03.792Z"
   },
   {
    "duration": 17,
    "start_time": "2021-07-07T15:37:03.802Z"
   },
   {
    "duration": 64,
    "start_time": "2021-07-07T15:37:03.821Z"
   },
   {
    "duration": 21,
    "start_time": "2021-07-07T15:37:03.887Z"
   },
   {
    "duration": 18,
    "start_time": "2021-07-07T15:37:03.910Z"
   },
   {
    "duration": 11,
    "start_time": "2021-07-07T15:37:03.963Z"
   },
   {
    "duration": 17,
    "start_time": "2021-07-07T15:37:03.977Z"
   },
   {
    "duration": 11,
    "start_time": "2021-07-07T15:37:03.997Z"
   },
   {
    "duration": 15,
    "start_time": "2021-07-07T15:37:04.011Z"
   },
   {
    "duration": 63,
    "start_time": "2021-07-07T15:37:04.028Z"
   },
   {
    "duration": 7,
    "start_time": "2021-07-07T15:37:04.096Z"
   },
   {
    "duration": 316,
    "start_time": "2021-07-07T15:37:04.106Z"
   },
   {
    "duration": 9255,
    "start_time": "2021-07-07T15:37:04.424Z"
   },
   {
    "duration": 16,
    "start_time": "2021-07-07T15:37:13.682Z"
   },
   {
    "duration": 20,
    "start_time": "2021-07-07T15:37:13.701Z"
   },
   {
    "duration": 54,
    "start_time": "2021-07-07T15:37:13.724Z"
   },
   {
    "duration": 50,
    "start_time": "2021-07-07T15:37:13.782Z"
   },
   {
    "duration": 45,
    "start_time": "2021-07-07T15:37:13.835Z"
   },
   {
    "duration": 134,
    "start_time": "2021-07-07T15:37:13.883Z"
   },
   {
    "duration": 77,
    "start_time": "2021-07-07T15:37:14.020Z"
   },
   {
    "duration": 177,
    "start_time": "2021-07-07T15:37:14.099Z"
   },
   {
    "duration": 157,
    "start_time": "2021-07-07T15:37:14.278Z"
   },
   {
    "duration": 174,
    "start_time": "2021-07-07T15:37:14.437Z"
   }
  ],
  "interpreter": {
   "hash": "fd578b525fe7fcca8a3ea11350d18bcbeb29af20bd1df15f6c5fd2c9cf111483"
  },
  "kernelspec": {
   "name": "python3",
   "display_name": "Python 3.9.0 64-bit"
  },
  "language_info": {
   "codemirror_mode": {
    "name": "ipython",
    "version": 3
   },
   "file_extension": ".py",
   "mimetype": "text/x-python",
   "name": "python",
   "nbconvert_exporter": "python",
   "pygments_lexer": "ipython3",
   "version": "3.9.0"
  },
  "toc": {
   "base_numbering": 1,
   "nav_menu": {},
   "number_sections": true,
   "sideBar": true,
   "skip_h1_title": true,
   "title_cell": "Table of Contents",
   "title_sidebar": "Contents",
   "toc_cell": false,
   "toc_position": {
    "height": "calc(100% - 180px)",
    "left": "10px",
    "top": "150px",
    "width": "165px"
   },
   "toc_section_display": true,
   "toc_window_display": true
  }
 },
 "nbformat": 4,
 "nbformat_minor": 2
}