{
 "cells": [
  {
   "cell_type": "markdown",
   "metadata": {},
   "source": [
    "# Beta Bank Churn Predictions"
   ]
  },
  {
   "cell_type": "markdown",
   "metadata": {},
   "source": [
    "## Introduction"
   ]
  },
  {
   "cell_type": "markdown",
   "metadata": {},
   "source": [
    "In this project we aim to train a prediction model for churns of Beta Bank. It will be used to identify customers with high probabilities of leaving soon in order to create strategies to retain these customers or improving any faults that these customers may point out. As a general overview, the data will be prepared, analyzed and then used to train a model. The model will be tested on a test set and the results will be evaluated. We expect the final model to be useful in generating intelligence and predictions to help Beta Bank in making the best decisions on their marketing and customer service activities."
   ]
  },
  {
   "cell_type": "markdown",
   "metadata": {},
   "source": [
    "\n",
    "## Data Preprocess"
   ]
  },
  {
   "cell_type": "markdown",
   "metadata": {},
   "source": [
    "### Objective"
   ]
  },
  {
   "cell_type": "markdown",
   "metadata": {},
   "source": [
    "\n",
    "The first step is to explore data and validate information. Data often comes with a few unpredicted issues, and these will be fixed in this preprocessing section.  These can include missing values, artifacts and incorrect data types. We will take a first look at the data and the information available while making sure the values are correctly loaded: numeric data should correctly be assigned as integer or float, corresponding to their values. At the end of this section, we expect to have data ready for analysis and the drawing of results."
   ]
  },
  {
   "cell_type": "markdown",
   "metadata": {},
   "source": [
    "### Code"
   ]
  },
  {
   "cell_type": "code",
   "execution_count": 1,
   "metadata": {},
   "outputs": [],
   "source": [
    "import pandas as pd\n",
    "import matplotlib.pyplot as plt\n",
    "from IPython.display import display\n",
    "\n",
    "from sklearn.preprocessing import OneHotEncoder\n",
    "from sklearn.preprocessing import StandardScaler\n",
    "from sklearn.tree import DecisionTreeClassifier\n",
    "from sklearn.linear_model import LogisticRegression\n",
    "from sklearn.ensemble import RandomForestClassifier\n",
    "import sklearn.metrics as metrics\n",
    "\n",
    "from sklearn.utils import shuffle\n",
    "\n",
    "import sys\n",
    "import warnings\n",
    "if not sys.warnoptions:\n",
    "       warnings.simplefilter(\"ignore\")\n",
    "\n",
    "import joblib"
   ]
  },
  {
   "cell_type": "code",
   "execution_count": 2,
   "metadata": {},
   "outputs": [
    {
     "name": "stdout",
     "output_type": "stream",
     "text": [
      "Path found is ../datasets/\n"
     ]
    }
   ],
   "source": [
    "path_array = ['', '/', '/datasets/', './datasets/', '../datasets/']\n",
    "CSVPATH = None\n",
    "\n",
    "for i in path_array:\n",
    "    try:\n",
    "        pd.read_csv(i + 'Churn.csv', nrows=1)\n",
    "        CSVPATH = i\n",
    "        break\n",
    "    except:\n",
    "        pass\n",
    "\n",
    "if CSVPATH:\n",
    "    print('Path found is', 'current folder' if CSVPATH == '' else CSVPATH)\n",
    "else:\n",
    "    print('No path found')"
   ]
  },
  {
   "cell_type": "code",
   "execution_count": 3,
   "metadata": {},
   "outputs": [],
   "source": [
    "df = pd.read_csv(i + 'Churn.csv')"
   ]
  },
  {
   "cell_type": "code",
   "execution_count": 4,
   "metadata": {},
   "outputs": [
    {
     "name": "stdout",
     "output_type": "stream",
     "text": [
      "<class 'pandas.core.frame.DataFrame'>\n",
      "RangeIndex: 10000 entries, 0 to 9999\n",
      "Data columns (total 14 columns):\n",
      "RowNumber          10000 non-null uint16\n",
      "CustomerId         10000 non-null uint32\n",
      "Surname            10000 non-null object\n",
      "CreditScore        10000 non-null uint16\n",
      "Geography          10000 non-null object\n",
      "Gender             10000 non-null object\n",
      "Age                10000 non-null uint8\n",
      "Tenure             9091 non-null float32\n",
      "Balance            10000 non-null float32\n",
      "NumOfProducts      10000 non-null uint8\n",
      "HasCrCard          10000 non-null bool\n",
      "IsActiveMember     10000 non-null bool\n",
      "EstimatedSalary    10000 non-null float32\n",
      "Exited             10000 non-null bool\n",
      "dtypes: bool(3), float32(3), object(3), uint16(2), uint32(1), uint8(2)\n",
      "memory usage: 478.6+ KB\n"
     ]
    },
    {
     "data": {
      "text/html": [
       "<div>\n",
       "<style scoped>\n",
       "    .dataframe tbody tr th:only-of-type {\n",
       "        vertical-align: middle;\n",
       "    }\n",
       "\n",
       "    .dataframe tbody tr th {\n",
       "        vertical-align: top;\n",
       "    }\n",
       "\n",
       "    .dataframe thead th {\n",
       "        text-align: right;\n",
       "    }\n",
       "</style>\n",
       "<table border=\"1\" class=\"dataframe\">\n",
       "  <thead>\n",
       "    <tr style=\"text-align: right;\">\n",
       "      <th></th>\n",
       "      <th>RowNumber</th>\n",
       "      <th>CustomerId</th>\n",
       "      <th>Surname</th>\n",
       "      <th>CreditScore</th>\n",
       "      <th>Geography</th>\n",
       "      <th>Gender</th>\n",
       "      <th>Age</th>\n",
       "      <th>Tenure</th>\n",
       "      <th>Balance</th>\n",
       "      <th>NumOfProducts</th>\n",
       "      <th>HasCrCard</th>\n",
       "      <th>IsActiveMember</th>\n",
       "      <th>EstimatedSalary</th>\n",
       "      <th>Exited</th>\n",
       "    </tr>\n",
       "  </thead>\n",
       "  <tbody>\n",
       "    <tr>\n",
       "      <td>0</td>\n",
       "      <td>1</td>\n",
       "      <td>15634602</td>\n",
       "      <td>Hargrave</td>\n",
       "      <td>619</td>\n",
       "      <td>France</td>\n",
       "      <td>Female</td>\n",
       "      <td>42</td>\n",
       "      <td>2.0</td>\n",
       "      <td>0.000000</td>\n",
       "      <td>1</td>\n",
       "      <td>True</td>\n",
       "      <td>True</td>\n",
       "      <td>101348.882812</td>\n",
       "      <td>True</td>\n",
       "    </tr>\n",
       "    <tr>\n",
       "      <td>1</td>\n",
       "      <td>2</td>\n",
       "      <td>15647311</td>\n",
       "      <td>Hill</td>\n",
       "      <td>608</td>\n",
       "      <td>Spain</td>\n",
       "      <td>Female</td>\n",
       "      <td>41</td>\n",
       "      <td>1.0</td>\n",
       "      <td>83807.859375</td>\n",
       "      <td>1</td>\n",
       "      <td>False</td>\n",
       "      <td>True</td>\n",
       "      <td>112542.578125</td>\n",
       "      <td>False</td>\n",
       "    </tr>\n",
       "    <tr>\n",
       "      <td>2</td>\n",
       "      <td>3</td>\n",
       "      <td>15619304</td>\n",
       "      <td>Onio</td>\n",
       "      <td>502</td>\n",
       "      <td>France</td>\n",
       "      <td>Female</td>\n",
       "      <td>42</td>\n",
       "      <td>8.0</td>\n",
       "      <td>159660.796875</td>\n",
       "      <td>3</td>\n",
       "      <td>True</td>\n",
       "      <td>False</td>\n",
       "      <td>113931.570312</td>\n",
       "      <td>True</td>\n",
       "    </tr>\n",
       "    <tr>\n",
       "      <td>3</td>\n",
       "      <td>4</td>\n",
       "      <td>15701354</td>\n",
       "      <td>Boni</td>\n",
       "      <td>699</td>\n",
       "      <td>France</td>\n",
       "      <td>Female</td>\n",
       "      <td>39</td>\n",
       "      <td>1.0</td>\n",
       "      <td>0.000000</td>\n",
       "      <td>2</td>\n",
       "      <td>False</td>\n",
       "      <td>False</td>\n",
       "      <td>93826.632812</td>\n",
       "      <td>False</td>\n",
       "    </tr>\n",
       "    <tr>\n",
       "      <td>4</td>\n",
       "      <td>5</td>\n",
       "      <td>15737888</td>\n",
       "      <td>Mitchell</td>\n",
       "      <td>850</td>\n",
       "      <td>Spain</td>\n",
       "      <td>Female</td>\n",
       "      <td>43</td>\n",
       "      <td>2.0</td>\n",
       "      <td>125510.820312</td>\n",
       "      <td>1</td>\n",
       "      <td>True</td>\n",
       "      <td>True</td>\n",
       "      <td>79084.101562</td>\n",
       "      <td>False</td>\n",
       "    </tr>\n",
       "  </tbody>\n",
       "</table>\n",
       "</div>"
      ],
      "text/plain": [
       "   RowNumber  CustomerId   Surname  CreditScore Geography  Gender  Age  \\\n",
       "0          1    15634602  Hargrave          619    France  Female   42   \n",
       "1          2    15647311      Hill          608     Spain  Female   41   \n",
       "2          3    15619304      Onio          502    France  Female   42   \n",
       "3          4    15701354      Boni          699    France  Female   39   \n",
       "4          5    15737888  Mitchell          850     Spain  Female   43   \n",
       "\n",
       "   Tenure        Balance  NumOfProducts  HasCrCard  IsActiveMember  \\\n",
       "0     2.0       0.000000              1       True            True   \n",
       "1     1.0   83807.859375              1      False            True   \n",
       "2     8.0  159660.796875              3       True           False   \n",
       "3     1.0       0.000000              2      False           False   \n",
       "4     2.0  125510.820312              1       True            True   \n",
       "\n",
       "   EstimatedSalary  Exited  \n",
       "0    101348.882812    True  \n",
       "1    112542.578125   False  \n",
       "2    113931.570312    True  \n",
       "3     93826.632812   False  \n",
       "4     79084.101562   False  "
      ]
     },
     "execution_count": 4,
     "metadata": {},
     "output_type": "execute_result"
    }
   ],
   "source": [
    "def optimize_types(df):\n",
    "    df_dtypes = df.dtypes\n",
    "    df_names = df.index\n",
    "    df_types = [i.name for i in df_dtypes.values]\n",
    "    df_types = dict(zip(df_names, df_types))\n",
    "    return df_types\n",
    "\n",
    "float_columns = ['Balance', 'EstimatedSalary', 'Tenure']\n",
    "\n",
    "for col in float_columns:\n",
    "    df[col] = pd.to_numeric(df[col], downcast = 'float')\n",
    "\n",
    "int_columns = [ ]\n",
    "\n",
    "uint_columns = [ 'RowNumber', \n",
    "                 'CustomerId', \n",
    "                 'CreditScore',\n",
    "                 'CustomerId',\n",
    "                 'Age',\n",
    "                 'NumOfProducts']\n",
    "\n",
    "\n",
    "for col in int_columns:\n",
    "    df[col] = pd.to_numeric(df[col], downcast = 'integer')\n",
    "\n",
    "for col in uint_columns:\n",
    "    df[col] = pd.to_numeric(df[col], downcast = 'unsigned')\n",
    "\n",
    "bool_columns = ['IsActiveMember',\n",
    "                'Exited',\n",
    "                'HasCrCard' ]\n",
    "\n",
    "df[bool_columns] = df[bool_columns].astype('bool')\n",
    "    \n",
    "df_types = optimize_types(df)\n",
    "\n",
    "df = pd.read_csv(\n",
    "    CSVPATH+'Churn.csv', \n",
    "    dtype=df_types)\n",
    "\n",
    "df.info()\n",
    "df.head()"
   ]
  },
  {
   "cell_type": "code",
   "execution_count": 5,
   "metadata": {},
   "outputs": [
    {
     "name": "stdout",
     "output_type": "stream",
     "text": [
      "Number of duplicated rows: 0\n"
     ]
    }
   ],
   "source": [
    "print(f'Number of duplicated rows: {df[df.duplicated()].shape[0]}')"
   ]
  },
  {
   "cell_type": "code",
   "execution_count": 6,
   "metadata": {},
   "outputs": [
    {
     "name": "stdout",
     "output_type": "stream",
     "text": [
      "Max count of same customer ID: 1\n"
     ]
    }
   ],
   "source": [
    "print('Max count of same customer ID:', df['CustomerId'].value_counts().max())"
   ]
  },
  {
   "cell_type": "code",
   "execution_count": 7,
   "metadata": {},
   "outputs": [
    {
     "data": {
      "text/plain": [
       "array([ 2.,  1.,  8.,  7.,  4.,  6.,  3., 10.,  5.,  9.,  0., nan])"
      ]
     },
     "execution_count": 7,
     "metadata": {},
     "output_type": "execute_result"
    }
   ],
   "source": [
    "df['Tenure'].unique()"
   ]
  },
  {
   "cell_type": "code",
   "execution_count": 8,
   "metadata": {},
   "outputs": [
    {
     "data": {
      "text/html": [
       "<div>\n",
       "<style scoped>\n",
       "    .dataframe tbody tr th:only-of-type {\n",
       "        vertical-align: middle;\n",
       "    }\n",
       "\n",
       "    .dataframe tbody tr th {\n",
       "        vertical-align: top;\n",
       "    }\n",
       "\n",
       "    .dataframe thead th {\n",
       "        text-align: right;\n",
       "    }\n",
       "</style>\n",
       "<table border=\"1\" class=\"dataframe\">\n",
       "  <thead>\n",
       "    <tr style=\"text-align: right;\">\n",
       "      <th></th>\n",
       "      <th>RowNumber</th>\n",
       "      <th>CustomerId</th>\n",
       "      <th>CreditScore</th>\n",
       "      <th>Age</th>\n",
       "      <th>Tenure</th>\n",
       "      <th>Balance</th>\n",
       "      <th>NumOfProducts</th>\n",
       "      <th>EstimatedSalary</th>\n",
       "    </tr>\n",
       "  </thead>\n",
       "  <tbody>\n",
       "    <tr>\n",
       "      <td>count</td>\n",
       "      <td>10000.00</td>\n",
       "      <td>10000.00</td>\n",
       "      <td>10000.00</td>\n",
       "      <td>10000.00</td>\n",
       "      <td>9091.00</td>\n",
       "      <td>10000.00</td>\n",
       "      <td>10000.00</td>\n",
       "      <td>10000.00</td>\n",
       "    </tr>\n",
       "    <tr>\n",
       "      <td>mean</td>\n",
       "      <td>5000.50</td>\n",
       "      <td>15690940.57</td>\n",
       "      <td>650.53</td>\n",
       "      <td>38.92</td>\n",
       "      <td>5.00</td>\n",
       "      <td>76485.89</td>\n",
       "      <td>1.53</td>\n",
       "      <td>100090.23</td>\n",
       "    </tr>\n",
       "    <tr>\n",
       "      <td>std</td>\n",
       "      <td>2886.90</td>\n",
       "      <td>71936.19</td>\n",
       "      <td>96.65</td>\n",
       "      <td>10.49</td>\n",
       "      <td>2.89</td>\n",
       "      <td>62397.41</td>\n",
       "      <td>0.58</td>\n",
       "      <td>57510.49</td>\n",
       "    </tr>\n",
       "    <tr>\n",
       "      <td>min</td>\n",
       "      <td>1.00</td>\n",
       "      <td>15565701.00</td>\n",
       "      <td>350.00</td>\n",
       "      <td>18.00</td>\n",
       "      <td>0.00</td>\n",
       "      <td>0.00</td>\n",
       "      <td>1.00</td>\n",
       "      <td>11.58</td>\n",
       "    </tr>\n",
       "    <tr>\n",
       "      <td>25%</td>\n",
       "      <td>2500.75</td>\n",
       "      <td>15628528.25</td>\n",
       "      <td>584.00</td>\n",
       "      <td>32.00</td>\n",
       "      <td>2.00</td>\n",
       "      <td>0.00</td>\n",
       "      <td>1.00</td>\n",
       "      <td>51002.11</td>\n",
       "    </tr>\n",
       "    <tr>\n",
       "      <td>50%</td>\n",
       "      <td>5000.50</td>\n",
       "      <td>15690738.00</td>\n",
       "      <td>652.00</td>\n",
       "      <td>37.00</td>\n",
       "      <td>5.00</td>\n",
       "      <td>97198.54</td>\n",
       "      <td>1.00</td>\n",
       "      <td>100193.91</td>\n",
       "    </tr>\n",
       "    <tr>\n",
       "      <td>75%</td>\n",
       "      <td>7500.25</td>\n",
       "      <td>15753233.75</td>\n",
       "      <td>718.00</td>\n",
       "      <td>44.00</td>\n",
       "      <td>7.00</td>\n",
       "      <td>127644.24</td>\n",
       "      <td>2.00</td>\n",
       "      <td>149388.25</td>\n",
       "    </tr>\n",
       "    <tr>\n",
       "      <td>max</td>\n",
       "      <td>10000.00</td>\n",
       "      <td>15815690.00</td>\n",
       "      <td>850.00</td>\n",
       "      <td>92.00</td>\n",
       "      <td>10.00</td>\n",
       "      <td>250898.09</td>\n",
       "      <td>4.00</td>\n",
       "      <td>199992.48</td>\n",
       "    </tr>\n",
       "  </tbody>\n",
       "</table>\n",
       "</div>"
      ],
      "text/plain": [
       "       RowNumber   CustomerId  CreditScore       Age   Tenure    Balance  \\\n",
       "count   10000.00     10000.00     10000.00  10000.00  9091.00   10000.00   \n",
       "mean     5000.50  15690940.57       650.53     38.92     5.00   76485.89   \n",
       "std      2886.90     71936.19        96.65     10.49     2.89   62397.41   \n",
       "min         1.00  15565701.00       350.00     18.00     0.00       0.00   \n",
       "25%      2500.75  15628528.25       584.00     32.00     2.00       0.00   \n",
       "50%      5000.50  15690738.00       652.00     37.00     5.00   97198.54   \n",
       "75%      7500.25  15753233.75       718.00     44.00     7.00  127644.24   \n",
       "max     10000.00  15815690.00       850.00     92.00    10.00  250898.09   \n",
       "\n",
       "       NumOfProducts  EstimatedSalary  \n",
       "count       10000.00         10000.00  \n",
       "mean            1.53        100090.23  \n",
       "std             0.58         57510.49  \n",
       "min             1.00            11.58  \n",
       "25%             1.00         51002.11  \n",
       "50%             1.00        100193.91  \n",
       "75%             2.00        149388.25  \n",
       "max             4.00        199992.48  "
      ]
     },
     "metadata": {},
     "output_type": "display_data"
    },
    {
     "data": {
      "text/html": [
       "<div>\n",
       "<style scoped>\n",
       "    .dataframe tbody tr th:only-of-type {\n",
       "        vertical-align: middle;\n",
       "    }\n",
       "\n",
       "    .dataframe tbody tr th {\n",
       "        vertical-align: top;\n",
       "    }\n",
       "\n",
       "    .dataframe thead th {\n",
       "        text-align: right;\n",
       "    }\n",
       "</style>\n",
       "<table border=\"1\" class=\"dataframe\">\n",
       "  <thead>\n",
       "    <tr style=\"text-align: right;\">\n",
       "      <th></th>\n",
       "      <th>Surname</th>\n",
       "      <th>Geography</th>\n",
       "      <th>Gender</th>\n",
       "      <th>IsActiveMember</th>\n",
       "      <th>Exited</th>\n",
       "    </tr>\n",
       "  </thead>\n",
       "  <tbody>\n",
       "    <tr>\n",
       "      <td>count</td>\n",
       "      <td>10000</td>\n",
       "      <td>10000</td>\n",
       "      <td>10000</td>\n",
       "      <td>10000</td>\n",
       "      <td>10000</td>\n",
       "    </tr>\n",
       "    <tr>\n",
       "      <td>unique</td>\n",
       "      <td>2932</td>\n",
       "      <td>3</td>\n",
       "      <td>2</td>\n",
       "      <td>2</td>\n",
       "      <td>2</td>\n",
       "    </tr>\n",
       "    <tr>\n",
       "      <td>top</td>\n",
       "      <td>Smith</td>\n",
       "      <td>France</td>\n",
       "      <td>Male</td>\n",
       "      <td>True</td>\n",
       "      <td>False</td>\n",
       "    </tr>\n",
       "    <tr>\n",
       "      <td>freq</td>\n",
       "      <td>32</td>\n",
       "      <td>5014</td>\n",
       "      <td>5457</td>\n",
       "      <td>5151</td>\n",
       "      <td>7963</td>\n",
       "    </tr>\n",
       "  </tbody>\n",
       "</table>\n",
       "</div>"
      ],
      "text/plain": [
       "       Surname Geography Gender IsActiveMember Exited\n",
       "count    10000     10000  10000          10000  10000\n",
       "unique    2932         3      2              2      2\n",
       "top      Smith    France   Male           True  False\n",
       "freq        32      5014   5457           5151   7963"
      ]
     },
     "metadata": {},
     "output_type": "display_data"
    }
   ],
   "source": [
    "display(df.describe().round(2))\n",
    "display(df[['Surname', 'Geography', 'Gender', 'IsActiveMember', 'Exited']].describe())"
   ]
  },
  {
   "cell_type": "code",
   "execution_count": 9,
   "metadata": {},
   "outputs": [
    {
     "name": "stdout",
     "output_type": "stream",
     "text": [
      "Percentage of missing values in Tenure column: 9.09%\n",
      "Empty Tenure values have been filled in with 5, which is both the median and the mean.\n"
     ]
    }
   ],
   "source": [
    "print(f\"Percentage of missing values in Tenure column: {df[df['Tenure'].isna()].shape[0]/df.shape[0]:.2%}\" )\n",
    "df['Tenure'] = pd.to_numeric(df['Tenure'].fillna(5).astype('int'), downcast='unsigned')\n",
    "print('Empty Tenure values have been filled in with 5, which is both the median and the mean.')"
   ]
  },
  {
   "cell_type": "code",
   "execution_count": 10,
   "metadata": {},
   "outputs": [],
   "source": [
    "eda_df = df.copy()"
   ]
  },
  {
   "cell_type": "markdown",
   "metadata": {},
   "source": [
    "### Results"
   ]
  },
  {
   "cell_type": "markdown",
   "metadata": {},
   "source": [
    "Data has been loaded with optimized data types and no duplicates were found. Around 10% of the data has missing values for Tenure. Next, we will take a look at the distributions and prepare our datasets for model training."
   ]
  },
  {
   "cell_type": "markdown",
   "metadata": {},
   "source": [
    "\n",
    "## Exploratory Data Analysis\n"
   ]
  },
  {
   "cell_type": "markdown",
   "metadata": {},
   "source": [
    "\n",
    "### Objective\n"
   ]
  },
  {
   "cell_type": "markdown",
   "metadata": {},
   "source": [
    "In this section, we will plot histograms of data each plan, so we can have a general understanding of the information before training the churn prediction model. A scatterplot matrix should be plotted beforehand to check the correlations and what factors can affect our suggestions on user plans."
   ]
  },
  {
   "cell_type": "markdown",
   "metadata": {},
   "source": [
    "\n",
    "### Code"
   ]
  },
  {
   "cell_type": "code",
   "execution_count": 11,
   "metadata": {},
   "outputs": [
    {
     "data": {
      "text/plain": [
       "RowNumber         -0.016571\n",
       "CustomerId        -0.006248\n",
       "CreditScore       -0.027094\n",
       "Age                0.285323\n",
       "Tenure            -0.015989\n",
       "Balance            0.118533\n",
       "NumOfProducts     -0.047820\n",
       "HasCrCard         -0.007138\n",
       "IsActiveMember    -0.156128\n",
       "EstimatedSalary    0.012097\n",
       "Exited             1.000000\n",
       "Name: Exited, dtype: float64"
      ]
     },
     "execution_count": 11,
     "metadata": {},
     "output_type": "execute_result"
    }
   ],
   "source": [
    "eda_df.corr()['Exited']"
   ]
  },
  {
   "cell_type": "code",
   "execution_count": 12,
   "metadata": {},
   "outputs": [
    {
     "name": "stdout",
     "output_type": "stream",
     "text": [
      "Locations available: ['France', 'Spain', 'Germany']\n",
      "\n",
      "Location counts:\n"
     ]
    },
    {
     "data": {
      "text/plain": [
       "France     5014\n",
       "Germany    2509\n",
       "Spain      2477\n",
       "Name: Geography, dtype: int64"
      ]
     },
     "metadata": {},
     "output_type": "display_data"
    },
    {
     "name": "stdout",
     "output_type": "stream",
     "text": [
      "\n",
      "Customers by country (%), Exited by country (%):\n",
      "France: 50.14%, 16.15%\n",
      "Spain: 24.77%, 16.67%\n",
      "Germany: 25.09%, 32.44%\n"
     ]
    }
   ],
   "source": [
    "countries = list(eda_df[\"Geography\"].unique())\n",
    "print(f'Locations available: {countries}', end='\\n\\n')\n",
    "\n",
    "print('Location counts:')\n",
    "display(eda_df['Geography'].value_counts())\n",
    "\n",
    "print('\\nCustomers by country (%), Exited by country (%):')\n",
    "\n",
    "for country in countries:\n",
    "    print(country, ': ', f'{eda_df.query(\"Geography == @country\").shape[0]/eda_df.shape[0]:.2%}, {eda_df.query(\"Geography == @country and Exited == True\").shape[0]/eda_df.query(\"Geography == @country\").shape[0]:.2%}', sep='')"
   ]
  },
  {
   "cell_type": "code",
   "execution_count": 13,
   "metadata": {},
   "outputs": [
    {
     "name": "stdout",
     "output_type": "stream",
     "text": [
      "Gender counts:\n"
     ]
    },
    {
     "data": {
      "text/plain": [
       "Male      5457\n",
       "Female    4543\n",
       "Name: Gender, dtype: int64"
      ]
     },
     "metadata": {},
     "output_type": "display_data"
    },
    {
     "name": "stdout",
     "output_type": "stream",
     "text": [
      "\n",
      "Customers by gender (%), Exited by gender (%):\n",
      "Female: 45.43%, 25.07%\n",
      "Male: 54.57%, 16.46%\n"
     ]
    }
   ],
   "source": [
    "genders = list(eda_df[\"Gender\"].unique())\n",
    "\n",
    "print('Gender counts:')\n",
    "display(eda_df['Gender'].value_counts())\n",
    "\n",
    "print('\\nCustomers by gender (%), Exited by gender (%):')\n",
    "\n",
    "for gender in genders:\n",
    "    print(gender, ': ', f'{eda_df.query(\"Gender == @gender\").shape[0]/eda_df.shape[0]:.2%}, {eda_df.query(\"Gender == @gender and Exited == True\").shape[0]/eda_df.query(\"Gender == @gender\").shape[0]:.2%}', sep='')"
   ]
  },
  {
   "cell_type": "code",
   "execution_count": 14,
   "metadata": {},
   "outputs": [
    {
     "data": {
      "text/html": [
       "<div>\n",
       "<style scoped>\n",
       "    .dataframe tbody tr th:only-of-type {\n",
       "        vertical-align: middle;\n",
       "    }\n",
       "\n",
       "    .dataframe tbody tr th {\n",
       "        vertical-align: top;\n",
       "    }\n",
       "\n",
       "    .dataframe thead th {\n",
       "        text-align: right;\n",
       "    }\n",
       "</style>\n",
       "<table border=\"1\" class=\"dataframe\">\n",
       "  <thead>\n",
       "    <tr style=\"text-align: right;\">\n",
       "      <th></th>\n",
       "      <th>RowNumber</th>\n",
       "      <th>CustomerId</th>\n",
       "      <th>Surname</th>\n",
       "      <th>CreditScore</th>\n",
       "      <th>Geography</th>\n",
       "      <th>Gender</th>\n",
       "      <th>Age</th>\n",
       "      <th>Tenure</th>\n",
       "      <th>Balance</th>\n",
       "      <th>NumOfProducts</th>\n",
       "      <th>HasCrCard</th>\n",
       "      <th>IsActiveMember</th>\n",
       "      <th>EstimatedSalary</th>\n",
       "      <th>Exited</th>\n",
       "    </tr>\n",
       "  </thead>\n",
       "  <tbody>\n",
       "    <tr>\n",
       "      <td>0</td>\n",
       "      <td>1</td>\n",
       "      <td>15634602</td>\n",
       "      <td>Hargrave</td>\n",
       "      <td>619</td>\n",
       "      <td>France</td>\n",
       "      <td>Female</td>\n",
       "      <td>42</td>\n",
       "      <td>2</td>\n",
       "      <td>0.000000</td>\n",
       "      <td>1</td>\n",
       "      <td>True</td>\n",
       "      <td>True</td>\n",
       "      <td>101348.882812</td>\n",
       "      <td>True</td>\n",
       "    </tr>\n",
       "    <tr>\n",
       "      <td>1</td>\n",
       "      <td>2</td>\n",
       "      <td>15647311</td>\n",
       "      <td>Hill</td>\n",
       "      <td>608</td>\n",
       "      <td>Spain</td>\n",
       "      <td>Female</td>\n",
       "      <td>41</td>\n",
       "      <td>1</td>\n",
       "      <td>83807.859375</td>\n",
       "      <td>1</td>\n",
       "      <td>False</td>\n",
       "      <td>True</td>\n",
       "      <td>112542.578125</td>\n",
       "      <td>False</td>\n",
       "    </tr>\n",
       "    <tr>\n",
       "      <td>2</td>\n",
       "      <td>3</td>\n",
       "      <td>15619304</td>\n",
       "      <td>Onio</td>\n",
       "      <td>502</td>\n",
       "      <td>France</td>\n",
       "      <td>Female</td>\n",
       "      <td>42</td>\n",
       "      <td>8</td>\n",
       "      <td>159660.796875</td>\n",
       "      <td>3</td>\n",
       "      <td>True</td>\n",
       "      <td>False</td>\n",
       "      <td>113931.570312</td>\n",
       "      <td>True</td>\n",
       "    </tr>\n",
       "    <tr>\n",
       "      <td>3</td>\n",
       "      <td>4</td>\n",
       "      <td>15701354</td>\n",
       "      <td>Boni</td>\n",
       "      <td>699</td>\n",
       "      <td>France</td>\n",
       "      <td>Female</td>\n",
       "      <td>39</td>\n",
       "      <td>1</td>\n",
       "      <td>0.000000</td>\n",
       "      <td>2</td>\n",
       "      <td>False</td>\n",
       "      <td>False</td>\n",
       "      <td>93826.632812</td>\n",
       "      <td>False</td>\n",
       "    </tr>\n",
       "    <tr>\n",
       "      <td>4</td>\n",
       "      <td>5</td>\n",
       "      <td>15737888</td>\n",
       "      <td>Mitchell</td>\n",
       "      <td>850</td>\n",
       "      <td>Spain</td>\n",
       "      <td>Female</td>\n",
       "      <td>43</td>\n",
       "      <td>2</td>\n",
       "      <td>125510.820312</td>\n",
       "      <td>1</td>\n",
       "      <td>True</td>\n",
       "      <td>True</td>\n",
       "      <td>79084.101562</td>\n",
       "      <td>False</td>\n",
       "    </tr>\n",
       "  </tbody>\n",
       "</table>\n",
       "</div>"
      ],
      "text/plain": [
       "   RowNumber  CustomerId   Surname  CreditScore Geography  Gender  Age  \\\n",
       "0          1    15634602  Hargrave          619    France  Female   42   \n",
       "1          2    15647311      Hill          608     Spain  Female   41   \n",
       "2          3    15619304      Onio          502    France  Female   42   \n",
       "3          4    15701354      Boni          699    France  Female   39   \n",
       "4          5    15737888  Mitchell          850     Spain  Female   43   \n",
       "\n",
       "   Tenure        Balance  NumOfProducts  HasCrCard  IsActiveMember  \\\n",
       "0       2       0.000000              1       True            True   \n",
       "1       1   83807.859375              1      False            True   \n",
       "2       8  159660.796875              3       True           False   \n",
       "3       1       0.000000              2      False           False   \n",
       "4       2  125510.820312              1       True            True   \n",
       "\n",
       "   EstimatedSalary  Exited  \n",
       "0    101348.882812    True  \n",
       "1    112542.578125   False  \n",
       "2    113931.570312    True  \n",
       "3     93826.632812   False  \n",
       "4     79084.101562   False  "
      ]
     },
     "execution_count": 14,
     "metadata": {},
     "output_type": "execute_result"
    }
   ],
   "source": [
    "eda_df.head()"
   ]
  },
  {
   "cell_type": "code",
   "execution_count": 15,
   "metadata": {},
   "outputs": [
    {
     "data": {
      "image/png": "[encoded data removed]",
      "text/plain": [
       "<Figure size 1800x720 with 6 Axes>"
      ]
     },
     "metadata": {
      "needs_background": "light"
     },
     "output_type": "display_data"
    }
   ],
   "source": [
    "histogram_plots = ['Age', 'Balance', 'CreditScore', 'Tenure', 'EstimatedSalary']\n",
    "\n",
    "title = ['Age Histogram', 'Account Balance Histogram', 'Credit Score Histogram', 'Tenure Time Histogram', 'Estimated Salary Histogram']\n",
    "\n",
    "exit = eda_df[eda_df['Exited'] == True].reset_index(drop=True)\n",
    "\n",
    "no_exit = eda_df[eda_df['Exited'] == False].reset_index(drop=True)\n",
    "\n",
    "\n",
    "fig, axs = plt.subplots(2,3)\n",
    "fig.set_size_inches(25, 10)\n",
    "fig.set_tight_layout(True)\n",
    "\n",
    "for col, t in zip(histogram_plots, title):\n",
    "    if histogram_plots.index(col) < 3:\n",
    "        axs[0, histogram_plots.index(col)].hist(eda_df[col], bins=30, alpha=0.75)\n",
    "        axs[0, histogram_plots.index(col)].hist(no_exit[col], bins=30, alpha=0.75)\n",
    "        axs[0, histogram_plots.index(col)].hist(exit[col], bins=30, alpha=0.75)\n",
    "        axs[0, histogram_plots.index(col)].legend(['Total', \"Haven't Left\", \"Have Left\"])\n",
    "        axs[0, histogram_plots.index(col)].set(ylabel = 'Count', xlabel = col, title=t)\n",
    "    else:   \n",
    "        axs[1, histogram_plots.index(col)-3].hist(eda_df[col], bins=30, alpha=0.75)\n",
    "        axs[1, histogram_plots.index(col)-3].hist(no_exit[col], bins=30, alpha=0.75)\n",
    "        axs[1, histogram_plots.index(col)-3].hist(exit[col], bins=30, alpha=0.75)\n",
    "        axs[1, histogram_plots.index(col)-3].legend(['Total', \"Haven't Left\", \"Have Left\"])\n",
    "        axs[1, histogram_plots.index(col)-3].set(ylabel = 'Count', xlabel = col, title=t)\n",
    "        \n",
    "axs[1,2].bar(eda_df['NumOfProducts'].value_counts().index, eda_df['NumOfProducts'].value_counts().values, 0.15)\n",
    "axs[1,2].bar(no_exit['NumOfProducts'].value_counts().index + 0.15, no_exit['NumOfProducts'].value_counts().values, 0.15)\n",
    "axs[1,2].bar(exit['NumOfProducts'].value_counts().index + 0.30, exit['NumOfProducts'].value_counts().values, 0.15)\n",
    "axs[1,2].set(\n",
    "    xticks=[1, 2, 3, 4],\n",
    "    title='Customer count by Number of Products used',\n",
    "    xlabel='Number of Products',\n",
    "    ylabel='Count')\n",
    "axs[1,2].legend(['Total', \"Hasn't Left\" , \"Has Left\"])\n",
    "plt.show()"
   ]
  },
  {
   "cell_type": "markdown",
   "metadata": {},
   "source": [
    "*Graph Analysis*\n",
    "\n",
    "A relevant feature is the age of the customer. We can see that the distribution of age for customer who have left is significantly different than the distribution of customers in general. The mean and median age of customers who have left are close to 45 years-old, ranging from 30 to 65. Meanwhile, the average age of customers is 38 years-old and the distribution is heavily skewed to the right. As for the other featuires, they are generally not prominent in determining the probability of leaving. Therefore, different models using various input combinations will be tested before deciding on the best model, both in terms of accuracy and efficiency.\n",
    "\n",
    "By looking at the number of products graph, we can see that users that use two of the products are less likely to leave, suggesting that these are the most loyal users. On the other hand, all of the customers that used more than two products have left the company, although they only count to less than 500 customers. A reason would be that these users had just started using the company services and were trying as many products as possible, but they had not felt satisfied with the overall experience."
   ]
  },
  {
   "cell_type": "markdown",
   "metadata": {},
   "source": [
    "### Results"
   ]
  },
  {
   "cell_type": "markdown",
   "metadata": {},
   "source": [
    "We have taken a look at distributions of data to decide on the most important features to be used in our model. No specific features were found to be defining and therefore we will need to test different combinations of features. However, information on geography and gender show different patterns for churn rates, as well as number of products used. The graph shows double the churn rates for users in Germany when compared to both Spain and France, reaching up to 32% of users. As for female users, they have left the bank slightly more often that male users, reaching up to 25%. Additionally, we can also conclude that customers that use two products are less likely to leave the bank, while users that use more than two products generally do not stay."
   ]
  },
  {
   "cell_type": "markdown",
   "metadata": {},
   "source": [
    "## Model Training"
   ]
  },
  {
   "cell_type": "markdown",
   "metadata": {},
   "source": [
    "### Objective"
   ]
  },
  {
   "cell_type": "markdown",
   "metadata": {},
   "source": [
    "A machine learning model is a program trained by a computer to generate output (prediction) based on input (features), by identifying patterns of data to which it has been previously exposed. This program can be configured by changing the classification methods and its settings (hyperparameters) such as the intrinsic complexity of the program, as well as the data to which it has been exposed. These models can be classifiers or regressors that can predict categorical or numerical variables respectively.\n",
    "\n",
    "Our objective is to produce a model that can predict churns in Beta bank based on data of previous users, so we will be using classifiers. We expect to introduce features of users each at a time (observations), and receive predictions. We will try out reducing the number of features to get a succesfull model with the least number of information from the user. To accomplish that, we will try out a few different classifiers and tune them to get the most succesful result."
   ]
  },
  {
   "cell_type": "markdown",
   "metadata": {},
   "source": [
    "### Code"
   ]
  },
  {
   "cell_type": "code",
   "execution_count": 16,
   "metadata": {},
   "outputs": [],
   "source": [
    "drop_cols = ['CustomerId', 'Surname', 'RowNumber'] \n",
    "df = eda_df.drop(drop_cols, axis=1)"
   ]
  },
  {
   "cell_type": "code",
   "execution_count": 17,
   "metadata": {},
   "outputs": [
    {
     "name": "stdout",
     "output_type": "stream",
     "text": [
      "Splitting dataframes in proportion: 3, 1, 1\n",
      "Train dataframe size: 6000\n",
      "Validation dataframe size: 1999\n",
      "Test dataframe size: 1999\n"
     ]
    }
   ],
   "source": [
    "def split_df(df, train=3, valid=1, test=1):\n",
    "    split_size = int(df.shape[0]/(train+valid+test))\n",
    "    train_df = df[0 : train*split_size].reset_index(drop=True)\n",
    "    valid_df = df[train*split_size+1 : (train+valid)*split_size].reset_index(drop=True)\n",
    "    test_df = df[(train+valid)*split_size+1 : df.shape[0]].reset_index(drop=True)\n",
    "    return train_df, valid_df, test_df\n",
    "\n",
    "train_df, valid_df, test_df = split_df(df)\n",
    "\n",
    "print('Splitting dataframes in proportion: 3, 1, 1')\n",
    "print('Train dataframe size:', train_df.shape[0])\n",
    "print('Validation dataframe size:', valid_df.shape[0])\n",
    "print('Test dataframe size:', test_df.shape[0])"
   ]
  },
  {
   "cell_type": "code",
   "execution_count": 18,
   "metadata": {},
   "outputs": [],
   "source": [
    "def train_ohe_scaler(train_df, ohe_encoder=None, std_scaler=None):\n",
    "    \"\"\"\n",
    "    Apply OHE and Scale on a df of strings and numbers. Object columns are automatically found and OHE is applied to them. \n",
    "    After that, numbers are scaled. The encoder and the scaler can be manually passed, otherwise they are created.\n",
    "\n",
    "    Output is feature-prepared DataFrame, OneHotEncoder object and StandardScaler object.\n",
    "    obs: DataFrame has no object columns and the encoded objects are on the rightmost columns.\n",
    "    \"\"\"\n",
    "    ret = 0\n",
    "    df = train_df\n",
    "    # create encoders if None were passed\n",
    "    if ohe_encoder == None:\n",
    "        ohe_encoder = OneHotEncoder(handle_unknown='error', drop='first')\n",
    "        ret+=1\n",
    "    if std_scaler == None:\n",
    "        std_scaler = StandardScaler()\n",
    "        ret+=2\n",
    "\n",
    "    # Find object and boolean variables\n",
    "    object_cols = []\n",
    "    bool_cols = []\n",
    "    for col, dtype in zip(df.columns, df.dtypes):\n",
    "        if dtype == 'object':\n",
    "            object_cols.append(col)\n",
    "        if dtype in ['bool']:\n",
    "            bool_cols.append(col)\n",
    "\n",
    "    # Train ohe_encoder on object columns\n",
    "    ohe_encoder.fit(df[object_cols])\n",
    "\n",
    "    # backup_boolean_cols\n",
    "    df_bool = df[bool_cols]\n",
    "    df = df.drop(bool_cols, axis=1)\n",
    "\n",
    "    # Leave df with numerical columns only by dropping objects and adding ohe\n",
    "    df = df.drop(object_cols, axis=1)\n",
    "\n",
    "    # Train scaler\n",
    "    std_scaler.fit(df)\n",
    "    \n",
    "    return ohe_encoder, std_scaler\n",
    "\n",
    "def encode_scale(df, ohe_encoder, std_scaler):\n",
    "    \n",
    "    # Find object and boolean variables\n",
    "    object_cols = []\n",
    "    bool_cols = []\n",
    "    for col, dtype in zip(df.columns, df.dtypes):\n",
    "        if dtype == 'object':\n",
    "            object_cols.append(col)\n",
    "        if dtype in ['bool']:\n",
    "            bool_cols.append(col)\n",
    "            \n",
    "    # Transform and create encoded df\n",
    "    ohe_encoded = pd.DataFrame(\n",
    "                data=ohe_encoder.transform(df[object_cols]).toarray(), \n",
    "                columns=ohe_encoder.get_feature_names(object_cols)\n",
    "    ).astype('bool')\n",
    "            \n",
    "        # backup_boolean_cols\n",
    "    df_bool = df[bool_cols]\n",
    "    df = df.drop(bool_cols, axis=1)\n",
    "\n",
    "    # Leave df with numerical columns only by dropping objects and adding ohe\n",
    "    df = df.drop(object_cols, axis=1)\n",
    "    \n",
    "    # Transform and create scaled df\n",
    "    scaler = pd.DataFrame(\n",
    "        std_scaler.transform(df), \n",
    "        columns=df.columns\n",
    "        )\n",
    "    \n",
    "    df = df_bool.join(scaler).join(ohe_encoded)\n",
    "\n",
    "    return df\n",
    "    "
   ]
  },
  {
   "cell_type": "code",
   "execution_count": 19,
   "metadata": {},
   "outputs": [
    {
     "data": {
      "text/html": [
       "<div>\n",
       "<style scoped>\n",
       "    .dataframe tbody tr th:only-of-type {\n",
       "        vertical-align: middle;\n",
       "    }\n",
       "\n",
       "    .dataframe tbody tr th {\n",
       "        vertical-align: top;\n",
       "    }\n",
       "\n",
       "    .dataframe thead th {\n",
       "        text-align: right;\n",
       "    }\n",
       "</style>\n",
       "<table border=\"1\" class=\"dataframe\">\n",
       "  <thead>\n",
       "    <tr style=\"text-align: right;\">\n",
       "      <th></th>\n",
       "      <th>HasCrCard</th>\n",
       "      <th>IsActiveMember</th>\n",
       "      <th>Exited</th>\n",
       "      <th>CreditScore</th>\n",
       "      <th>Age</th>\n",
       "      <th>Tenure</th>\n",
       "      <th>Balance</th>\n",
       "      <th>NumOfProducts</th>\n",
       "      <th>EstimatedSalary</th>\n",
       "      <th>Geography_Germany</th>\n",
       "      <th>Geography_Spain</th>\n",
       "      <th>Gender_Male</th>\n",
       "    </tr>\n",
       "  </thead>\n",
       "  <tbody>\n",
       "    <tr>\n",
       "      <td>0</td>\n",
       "      <td>True</td>\n",
       "      <td>True</td>\n",
       "      <td>True</td>\n",
       "      <td>-0.328324</td>\n",
       "      <td>0.290799</td>\n",
       "      <td>-1.094152</td>\n",
       "      <td>-1.227573</td>\n",
       "      <td>-0.900618</td>\n",
       "      <td>0.015075</td>\n",
       "      <td>False</td>\n",
       "      <td>False</td>\n",
       "      <td>False</td>\n",
       "    </tr>\n",
       "    <tr>\n",
       "      <td>1</td>\n",
       "      <td>False</td>\n",
       "      <td>True</td>\n",
       "      <td>False</td>\n",
       "      <td>-0.441607</td>\n",
       "      <td>0.195849</td>\n",
       "      <td>-1.457758</td>\n",
       "      <td>0.116434</td>\n",
       "      <td>-0.900618</td>\n",
       "      <td>0.209443</td>\n",
       "      <td>False</td>\n",
       "      <td>True</td>\n",
       "      <td>False</td>\n",
       "    </tr>\n",
       "    <tr>\n",
       "      <td>2</td>\n",
       "      <td>True</td>\n",
       "      <td>False</td>\n",
       "      <td>True</td>\n",
       "      <td>-1.533246</td>\n",
       "      <td>0.290799</td>\n",
       "      <td>1.087486</td>\n",
       "      <td>1.332870</td>\n",
       "      <td>2.525956</td>\n",
       "      <td>0.233562</td>\n",
       "      <td>False</td>\n",
       "      <td>False</td>\n",
       "      <td>False</td>\n",
       "    </tr>\n",
       "    <tr>\n",
       "      <td>3</td>\n",
       "      <td>False</td>\n",
       "      <td>False</td>\n",
       "      <td>False</td>\n",
       "      <td>0.495554</td>\n",
       "      <td>0.005950</td>\n",
       "      <td>-1.457758</td>\n",
       "      <td>-1.227573</td>\n",
       "      <td>0.812669</td>\n",
       "      <td>-0.115541</td>\n",
       "      <td>False</td>\n",
       "      <td>False</td>\n",
       "      <td>False</td>\n",
       "    </tr>\n",
       "    <tr>\n",
       "      <td>4</td>\n",
       "      <td>True</td>\n",
       "      <td>True</td>\n",
       "      <td>False</td>\n",
       "      <td>2.050625</td>\n",
       "      <td>0.385748</td>\n",
       "      <td>-1.094152</td>\n",
       "      <td>0.785215</td>\n",
       "      <td>-0.900618</td>\n",
       "      <td>-0.371531</td>\n",
       "      <td>False</td>\n",
       "      <td>True</td>\n",
       "      <td>False</td>\n",
       "    </tr>\n",
       "  </tbody>\n",
       "</table>\n",
       "</div>"
      ],
      "text/plain": [
       "   HasCrCard  IsActiveMember  Exited  CreditScore       Age    Tenure  \\\n",
       "0       True            True    True    -0.328324  0.290799 -1.094152   \n",
       "1      False            True   False    -0.441607  0.195849 -1.457758   \n",
       "2       True           False    True    -1.533246  0.290799  1.087486   \n",
       "3      False           False   False     0.495554  0.005950 -1.457758   \n",
       "4       True            True   False     2.050625  0.385748 -1.094152   \n",
       "\n",
       "    Balance  NumOfProducts  EstimatedSalary  Geography_Germany  \\\n",
       "0 -1.227573      -0.900618         0.015075              False   \n",
       "1  0.116434      -0.900618         0.209443              False   \n",
       "2  1.332870       2.525956         0.233562              False   \n",
       "3 -1.227573       0.812669        -0.115541              False   \n",
       "4  0.785215      -0.900618        -0.371531              False   \n",
       "\n",
       "   Geography_Spain  Gender_Male  \n",
       "0            False        False  \n",
       "1             True        False  \n",
       "2            False        False  \n",
       "3            False        False  \n",
       "4             True        False  "
      ]
     },
     "metadata": {},
     "output_type": "display_data"
    },
    {
     "data": {
      "text/html": [
       "<div>\n",
       "<style scoped>\n",
       "    .dataframe tbody tr th:only-of-type {\n",
       "        vertical-align: middle;\n",
       "    }\n",
       "\n",
       "    .dataframe tbody tr th {\n",
       "        vertical-align: top;\n",
       "    }\n",
       "\n",
       "    .dataframe thead th {\n",
       "        text-align: right;\n",
       "    }\n",
       "</style>\n",
       "<table border=\"1\" class=\"dataframe\">\n",
       "  <thead>\n",
       "    <tr style=\"text-align: right;\">\n",
       "      <th></th>\n",
       "      <th>HasCrCard</th>\n",
       "      <th>IsActiveMember</th>\n",
       "      <th>Exited</th>\n",
       "      <th>CreditScore</th>\n",
       "      <th>Age</th>\n",
       "      <th>Tenure</th>\n",
       "      <th>Balance</th>\n",
       "      <th>NumOfProducts</th>\n",
       "      <th>EstimatedSalary</th>\n",
       "      <th>Geography_Germany</th>\n",
       "      <th>Geography_Spain</th>\n",
       "      <th>Gender_Male</th>\n",
       "    </tr>\n",
       "  </thead>\n",
       "  <tbody>\n",
       "    <tr>\n",
       "      <td>0</td>\n",
       "      <td>True</td>\n",
       "      <td>False</td>\n",
       "      <td>False</td>\n",
       "      <td>0.577942</td>\n",
       "      <td>-0.658697</td>\n",
       "      <td>1.451092</td>\n",
       "      <td>-1.227573</td>\n",
       "      <td>0.812669</td>\n",
       "      <td>0.451380</td>\n",
       "      <td>False</td>\n",
       "      <td>True</td>\n",
       "      <td>True</td>\n",
       "    </tr>\n",
       "    <tr>\n",
       "      <td>1</td>\n",
       "      <td>False</td>\n",
       "      <td>False</td>\n",
       "      <td>False</td>\n",
       "      <td>-0.626980</td>\n",
       "      <td>-0.183949</td>\n",
       "      <td>-1.457758</td>\n",
       "      <td>-1.227573</td>\n",
       "      <td>0.812669</td>\n",
       "      <td>0.573974</td>\n",
       "      <td>False</td>\n",
       "      <td>True</td>\n",
       "      <td>True</td>\n",
       "    </tr>\n",
       "    <tr>\n",
       "      <td>2</td>\n",
       "      <td>True</td>\n",
       "      <td>True</td>\n",
       "      <td>True</td>\n",
       "      <td>-0.493100</td>\n",
       "      <td>1.715042</td>\n",
       "      <td>0.360273</td>\n",
       "      <td>0.456302</td>\n",
       "      <td>0.812669</td>\n",
       "      <td>-0.226921</td>\n",
       "      <td>False</td>\n",
       "      <td>True</td>\n",
       "      <td>True</td>\n",
       "    </tr>\n",
       "    <tr>\n",
       "      <td>3</td>\n",
       "      <td>True</td>\n",
       "      <td>True</td>\n",
       "      <td>False</td>\n",
       "      <td>-0.369518</td>\n",
       "      <td>0.575648</td>\n",
       "      <td>-0.003333</td>\n",
       "      <td>-1.227573</td>\n",
       "      <td>0.812669</td>\n",
       "      <td>1.118348</td>\n",
       "      <td>False</td>\n",
       "      <td>False</td>\n",
       "      <td>True</td>\n",
       "    </tr>\n",
       "    <tr>\n",
       "      <td>4</td>\n",
       "      <td>True</td>\n",
       "      <td>False</td>\n",
       "      <td>False</td>\n",
       "      <td>-0.173847</td>\n",
       "      <td>-0.278899</td>\n",
       "      <td>-1.457758</td>\n",
       "      <td>-0.112713</td>\n",
       "      <td>-0.900618</td>\n",
       "      <td>0.273618</td>\n",
       "      <td>False</td>\n",
       "      <td>False</td>\n",
       "      <td>False</td>\n",
       "    </tr>\n",
       "  </tbody>\n",
       "</table>\n",
       "</div>"
      ],
      "text/plain": [
       "   HasCrCard  IsActiveMember  Exited  CreditScore       Age    Tenure  \\\n",
       "0       True           False   False     0.577942 -0.658697  1.451092   \n",
       "1      False           False   False    -0.626980 -0.183949 -1.457758   \n",
       "2       True            True    True    -0.493100  1.715042  0.360273   \n",
       "3       True            True   False    -0.369518  0.575648 -0.003333   \n",
       "4       True           False   False    -0.173847 -0.278899 -1.457758   \n",
       "\n",
       "    Balance  NumOfProducts  EstimatedSalary  Geography_Germany  \\\n",
       "0 -1.227573       0.812669         0.451380              False   \n",
       "1 -1.227573       0.812669         0.573974              False   \n",
       "2  0.456302       0.812669        -0.226921              False   \n",
       "3 -1.227573       0.812669         1.118348              False   \n",
       "4 -0.112713      -0.900618         0.273618              False   \n",
       "\n",
       "   Geography_Spain  Gender_Male  \n",
       "0             True         True  \n",
       "1             True         True  \n",
       "2             True         True  \n",
       "3            False         True  \n",
       "4            False        False  "
      ]
     },
     "metadata": {},
     "output_type": "display_data"
    },
    {
     "data": {
      "text/html": [
       "<div>\n",
       "<style scoped>\n",
       "    .dataframe tbody tr th:only-of-type {\n",
       "        vertical-align: middle;\n",
       "    }\n",
       "\n",
       "    .dataframe tbody tr th {\n",
       "        vertical-align: top;\n",
       "    }\n",
       "\n",
       "    .dataframe thead th {\n",
       "        text-align: right;\n",
       "    }\n",
       "</style>\n",
       "<table border=\"1\" class=\"dataframe\">\n",
       "  <thead>\n",
       "    <tr style=\"text-align: right;\">\n",
       "      <th></th>\n",
       "      <th>HasCrCard</th>\n",
       "      <th>IsActiveMember</th>\n",
       "      <th>Exited</th>\n",
       "      <th>CreditScore</th>\n",
       "      <th>Age</th>\n",
       "      <th>Tenure</th>\n",
       "      <th>Balance</th>\n",
       "      <th>NumOfProducts</th>\n",
       "      <th>EstimatedSalary</th>\n",
       "      <th>Geography_Germany</th>\n",
       "      <th>Geography_Spain</th>\n",
       "      <th>Gender_Male</th>\n",
       "    </tr>\n",
       "  </thead>\n",
       "  <tbody>\n",
       "    <tr>\n",
       "      <td>0</td>\n",
       "      <td>True</td>\n",
       "      <td>False</td>\n",
       "      <td>True</td>\n",
       "      <td>1.278239</td>\n",
       "      <td>-0.848596</td>\n",
       "      <td>-0.003333</td>\n",
       "      <td>-1.227573</td>\n",
       "      <td>-0.900618</td>\n",
       "      <td>1.621801</td>\n",
       "      <td>False</td>\n",
       "      <td>False</td>\n",
       "      <td>False</td>\n",
       "    </tr>\n",
       "    <tr>\n",
       "      <td>1</td>\n",
       "      <td>True</td>\n",
       "      <td>False</td>\n",
       "      <td>False</td>\n",
       "      <td>0.516151</td>\n",
       "      <td>0.195849</td>\n",
       "      <td>-1.094152</td>\n",
       "      <td>-1.227573</td>\n",
       "      <td>-0.900618</td>\n",
       "      <td>-0.913764</td>\n",
       "      <td>False</td>\n",
       "      <td>False</td>\n",
       "      <td>False</td>\n",
       "    </tr>\n",
       "    <tr>\n",
       "      <td>2</td>\n",
       "      <td>True</td>\n",
       "      <td>True</td>\n",
       "      <td>False</td>\n",
       "      <td>0.588241</td>\n",
       "      <td>-1.893041</td>\n",
       "      <td>0.723880</td>\n",
       "      <td>0.578422</td>\n",
       "      <td>-0.900618</td>\n",
       "      <td>-1.666756</td>\n",
       "      <td>False</td>\n",
       "      <td>True</td>\n",
       "      <td>True</td>\n",
       "    </tr>\n",
       "    <tr>\n",
       "      <td>3</td>\n",
       "      <td>True</td>\n",
       "      <td>True</td>\n",
       "      <td>False</td>\n",
       "      <td>-1.337575</td>\n",
       "      <td>-1.608192</td>\n",
       "      <td>1.814699</td>\n",
       "      <td>-1.227573</td>\n",
       "      <td>-0.900618</td>\n",
       "      <td>0.014434</td>\n",
       "      <td>False</td>\n",
       "      <td>True</td>\n",
       "      <td>False</td>\n",
       "    </tr>\n",
       "    <tr>\n",
       "      <td>4</td>\n",
       "      <td>False</td>\n",
       "      <td>True</td>\n",
       "      <td>False</td>\n",
       "      <td>-0.153250</td>\n",
       "      <td>-1.418293</td>\n",
       "      <td>1.451092</td>\n",
       "      <td>-1.227573</td>\n",
       "      <td>0.812669</td>\n",
       "      <td>-1.070493</td>\n",
       "      <td>False</td>\n",
       "      <td>False</td>\n",
       "      <td>False</td>\n",
       "    </tr>\n",
       "  </tbody>\n",
       "</table>\n",
       "</div>"
      ],
      "text/plain": [
       "   HasCrCard  IsActiveMember  Exited  CreditScore       Age    Tenure  \\\n",
       "0       True           False    True     1.278239 -0.848596 -0.003333   \n",
       "1       True           False   False     0.516151  0.195849 -1.094152   \n",
       "2       True            True   False     0.588241 -1.893041  0.723880   \n",
       "3       True            True   False    -1.337575 -1.608192  1.814699   \n",
       "4      False            True   False    -0.153250 -1.418293  1.451092   \n",
       "\n",
       "    Balance  NumOfProducts  EstimatedSalary  Geography_Germany  \\\n",
       "0 -1.227573      -0.900618         1.621801              False   \n",
       "1 -1.227573      -0.900618        -0.913764              False   \n",
       "2  0.578422      -0.900618        -1.666756              False   \n",
       "3 -1.227573      -0.900618         0.014434              False   \n",
       "4 -1.227573       0.812669        -1.070493              False   \n",
       "\n",
       "   Geography_Spain  Gender_Male  \n",
       "0            False        False  \n",
       "1            False        False  \n",
       "2             True         True  \n",
       "3             True        False  \n",
       "4            False        False  "
      ]
     },
     "metadata": {},
     "output_type": "display_data"
    }
   ],
   "source": [
    "ohe_encoder, std_scaler = train_ohe_scaler(train_df)\n",
    "\n",
    "train_df = encode_scale(train_df, ohe_encoder, std_scaler)\n",
    "test_df = encode_scale(test_df, ohe_encoder, std_scaler)\n",
    "valid_df = encode_scale(valid_df, ohe_encoder, std_scaler)\n",
    "\n",
    "display(train_df.head())\n",
    "display(test_df.head())\n",
    "display(valid_df.head())"
   ]
  },
  {
   "cell_type": "code",
   "execution_count": 20,
   "metadata": {},
   "outputs": [],
   "source": [
    "def target_features(df, tar_col, remove=[]):\n",
    "    target = df[tar_col]\n",
    "    remove.append(tar_col)\n",
    "    features = df[[x for x in train_df.columns.values if x not in remove]]\n",
    "    return target, features"
   ]
  },
  {
   "cell_type": "code",
   "execution_count": 21,
   "metadata": {},
   "outputs": [],
   "source": [
    "def find_level(model, param, level=10):\n",
    "    best = {\n",
    "        'i': -1, \n",
    "        'score': -1\n",
    "    }\n",
    "    for i in range(1, level+1):\n",
    "        setattr(model, param, i)\n",
    "        model.fit(train_feat, train_target)\n",
    "        score = model.score(valid_feat, valid_target)\n",
    "        if (score - best['score']) > 0.001:\n",
    "            best['score'] = score\n",
    "            best['i'] = i\n",
    "    return best['score'], best['i']\n",
    "\n",
    "def report(target, features=None, predictions=None, model=None, predictions_proba=None, output=True):\n",
    "    flag = 0\n",
    "    if model != None:\n",
    "        if predictions is not None:\n",
    "            warnings.warn('Both model and predictions were passed. Ignoring model.')\n",
    "        else:\n",
    "            if features is None:\n",
    "                raise ValueError('Features must be passed if model is passed.')\n",
    "            predictions = model.predict(features)\n",
    "            predictions_proba = model.predict_proba(features)\n",
    "    if predictions is not None:\n",
    "        print(f'Accuracy: {metrics.accuracy_score(target,predictions):.2%}') \n",
    "        print(f'Recall: {metrics.recall_score(target,predictions):.2%}')\n",
    "        print(f'Precision: {metrics.precision_score(target,predictions):.2%}')\n",
    "        print(f'F1 Score: {metrics.f1_score(target,predictions):.2%}')\n",
    "    if predictions_proba is not None:\n",
    "        fpr, tpr, thresholds = metrics.roc_curve(target, predictions_proba[:,1])\n",
    "        print(f'AUC-ROC: {metrics.roc_auc_score(target,predictions_proba[:,1]):.2%}')\n",
    "        flag = 1\n",
    "    if flag == 1 and output == True:\n",
    "        return fpr, tpr, thresholds\n",
    "    else:\n",
    "        return None"
   ]
  },
  {
   "cell_type": "code",
   "execution_count": 22,
   "metadata": {},
   "outputs": [],
   "source": [
    "train_target, train_feat = target_features(train_df, 'Exited')\n",
    "\n",
    "valid_target, valid_feat = target_features(valid_df, 'Exited')\n",
    "\n",
    "test_target, test_feat = target_features(test_df, 'Exited')\n",
    "\n",
    "def resample(features, target, repeat, fraction):\n",
    "    features_zeros = features[target == 0]\n",
    "    features_ones = features[target == 1]\n",
    "    target_zeros = target[target == 0]\n",
    "    target_ones = target[target == 1]\n",
    "\n",
    "    features_resampled = pd.concat([features_zeros.sample(frac=fraction, random_state=1995)] + [features_ones] * repeat)\n",
    "    target_resampled = pd.concat([target_zeros.sample(frac=fraction, random_state=1995)] + [target_ones] * repeat)\n",
    "    \n",
    "    features_resampled, target_resampled = shuffle(\n",
    "        features_resampled, target_resampled, random_state=1995)\n",
    "    \n",
    "    return features_resampled, target_resampled\n",
    "\n",
    "train_feat, train_target = resample(train_feat, train_target, 2, 0.75)\n",
    "fprVec = []\n",
    "tprVec = []\n",
    "thresholdsVec = []"
   ]
  },
  {
   "cell_type": "code",
   "execution_count": 23,
   "metadata": {},
   "outputs": [
    {
     "data": {
      "text/plain": [
       "LogisticRegression(C=1.0, class_weight={0: 1, 1: 0.95}, dual=False,\n",
       "                   fit_intercept=True, intercept_scaling=1, l1_ratio=None,\n",
       "                   max_iter=100, multi_class='warn', n_jobs=None, penalty='l2',\n",
       "                   random_state=1995, solver='liblinear', tol=0.0001, verbose=0,\n",
       "                   warm_start=False)"
      ]
     },
     "metadata": {},
     "output_type": "display_data"
    },
    {
     "name": "stdout",
     "output_type": "stream",
     "text": [
      "\n",
      "Report of linear model:\n",
      "Accuracy: 76.29%\n",
      "Recall: 51.03%\n",
      "Precision: 41.29%\n",
      "F1 Score: 45.64%\n",
      "AUC-ROC: 74.41%\n"
     ]
    }
   ],
   "source": [
    "# Launching linear model\n",
    "linear_model = LogisticRegression(\n",
    "    solver='liblinear',\n",
    "    random_state=1995,\n",
    "    class_weight= {\n",
    "        1: 0.95,\n",
    "        0: 1\n",
    "    }\n",
    ")\n",
    "\n",
    "display(linear_model.fit(train_feat, train_target))\n",
    "print('\\nReport of linear model:')\n",
    "fpr, tpr, thresholds = report(test_target, features=test_feat, model=linear_model)\n",
    "fprVec.append(fpr)\n",
    "tprVec.append(tpr)\n",
    "thresholdsVec.append(thresholds)"
   ]
  },
  {
   "cell_type": "code",
   "execution_count": 24,
   "metadata": {},
   "outputs": [
    {
     "data": {
      "text/plain": [
       "DecisionTreeClassifier(class_weight='balanced', criterion='gini', max_depth=3,\n",
       "                       max_features=None, max_leaf_nodes=None,\n",
       "                       min_impurity_decrease=0.0, min_impurity_split=None,\n",
       "                       min_samples_leaf=1, min_samples_split=2,\n",
       "                       min_weight_fraction_leaf=0.0, presort=False,\n",
       "                       random_state=1995, splitter='best')"
      ]
     },
     "metadata": {},
     "output_type": "display_data"
    },
    {
     "name": "stdout",
     "output_type": "stream",
     "text": [
      "\n",
      "Report of tree model:\n",
      "Accuracy: 79.34%\n",
      "Recall: 50.26%\n",
      "Precision: 47.23%\n",
      "F1 Score: 48.70%\n",
      "AUC-ROC: 78.13%\n"
     ]
    }
   ],
   "source": [
    "# Launching tree model and finding the ideal depth\n",
    "tree_model = DecisionTreeClassifier(\n",
    "    random_state=1995,\n",
    "    class_weight='balanced'\n",
    "    )\n",
    "\n",
    "score, level = find_level(tree_model, 'max_depth', 100)\n",
    "\n",
    "tree_model.max_depth = level\n",
    "display(tree_model.fit(train_feat, train_target))\n",
    "\n",
    "print('\\nReport of tree model:')\n",
    "\n",
    "fpr, tpr, thresholds = report(test_target, features=test_feat, model=tree_model)\n",
    "fprVec.append(fpr)\n",
    "tprVec.append(tpr)\n",
    "thresholdsVec.append(thresholds)"
   ]
  },
  {
   "cell_type": "code",
   "execution_count": 25,
   "metadata": {},
   "outputs": [
    {
     "data": {
      "text/plain": [
       "RandomForestClassifier(bootstrap=True, class_weight={0: 1, 1: 1},\n",
       "                       criterion='gini', max_depth=None, max_features='auto',\n",
       "                       max_leaf_nodes=20, min_impurity_decrease=0.0,\n",
       "                       min_impurity_split=None, min_samples_leaf=1,\n",
       "                       min_samples_split=2, min_weight_fraction_leaf=0.0,\n",
       "                       n_estimators=13, n_jobs=None, oob_score=False,\n",
       "                       random_state=1995, verbose=0, warm_start=False)"
      ]
     },
     "metadata": {},
     "output_type": "display_data"
    },
    {
     "name": "stdout",
     "output_type": "stream",
     "text": [
      "Report of Random Forest model:\n",
      "Accuracy: 84.24%\n",
      "Recall: 59.74%\n",
      "Precision: 59.59%\n",
      "F1 Score: 59.67%\n",
      "AUC-ROC: 84.37%\n"
     ]
    }
   ],
   "source": [
    "# Launching forest model and finding ideal number of estimators\n",
    "forest_model = RandomForestClassifier(\n",
    "    max_leaf_nodes=20, \n",
    "    random_state=1995, \n",
    "    class_weight={\n",
    "        1: 1,\n",
    "        0: 1\n",
    "    }\n",
    "    )\n",
    "\n",
    "score, level = find_level(forest_model, 'n_estimators', 50)\n",
    "\n",
    "forest_model.n_estimators = level\n",
    "display(forest_model.fit(train_feat, train_target))\n",
    "print('Report of Random Forest model:')\n",
    "fpr, tpr, thresholds = report(test_target, features=test_feat, model=forest_model)\n",
    "fprVec.append(fpr)\n",
    "tprVec.append(tpr)\n",
    "thresholdsVec.append(thresholds)\n"
   ]
  },
  {
   "cell_type": "code",
   "execution_count": 26,
   "metadata": {},
   "outputs": [
    {
     "data": {
      "image/png": "[encoded data removed]",
      "text/plain": [
       "<Figure size 576x432 with 1 Axes>"
      ]
     },
     "metadata": {
      "needs_background": "light"
     },
     "output_type": "display_data"
    }
   ],
   "source": [
    "\n",
    "# Plotting ROC curves\n",
    "def plot_roc(fpr, tpr, models, thresholds=None, title='ROC Curves'):\n",
    "    colors = ['red', 'green', 'blue', 'brown']\n",
    "    plt.figure(figsize=(8,6))\n",
    "    for i in range(len(fpr)):\n",
    "        plt.plot(\n",
    "                fpr[i], \n",
    "                tpr[i], \n",
    "                label=f'ROC curve for class {i}', \n",
    "                linewidth=2,\n",
    "                color=colors[i]\n",
    "            )\n",
    "        \n",
    "    plt.title('ROC Curves')\n",
    "    plt.xlabel('False Positive Rates')\n",
    "    plt.ylabel('True Positive Rates')\n",
    "    plt.plot([0,1], [0,1], 'k--')\n",
    "    plt.ylim(0, 1)\n",
    "    plt.xlim(0, 1)\n",
    "    plt.legend(models)\n",
    "    plt.show()\n",
    "    \n",
    "\n",
    "plot_roc(fprVec, tprVec, ['Logistic Regression', 'Decision Tree', 'Random Forest'])"
   ]
  },
  {
   "cell_type": "markdown",
   "metadata": {},
   "source": [
    "*Graph Analysis*\n",
    "\n",
    "By looking at the ROC curves for each model, we can have a better look at the performance of each model. It is clear that the random forest model did a better job at predicting the churn rate than the logistic regression model or the decision tree model.\n",
    "\n"
   ]
  },
  {
   "cell_type": "code",
   "execution_count": 27,
   "metadata": {},
   "outputs": [
    {
     "name": "stdout",
     "output_type": "stream",
     "text": [
      "Sanity check: when assigning churn to all users\n",
      "Accuracy: 19.51%\n",
      "Recall: 100.00%\n",
      "Precision: 19.51%\n",
      "F1 Score: 32.65%\n"
     ]
    }
   ],
   "source": [
    "print('Sanity check: when assigning churn to all users')\n",
    "report( test_target, predictions=[1 for x in range(len(test_target))])"
   ]
  },
  {
   "cell_type": "code",
   "execution_count": 28,
   "metadata": {},
   "outputs": [
    {
     "name": "stdout",
     "output_type": "stream",
     "text": [
      "Sanity check: when assigning churn or no-churn interchangeably\n",
      "Accuracy: 51.13%\n",
      "Recall: 52.82%\n",
      "Precision: 20.62%\n",
      "F1 Score: 29.66%\n"
     ]
    }
   ],
   "source": [
    "print('Sanity check: when assigning churn or no-churn interchangeably')\n",
    "report(test_target, predictions=[0 if x%2 == 0 else 1 for x in range(len(test_target)) ])"
   ]
  },
  {
   "cell_type": "code",
   "execution_count": 29,
   "metadata": {},
   "outputs": [
    {
     "name": "stdout",
     "output_type": "stream",
     "text": [
      "Sanity check: when assigning no-churn to all users\n",
      "Accuracy: 80.49%\n",
      "Recall: 0.00%\n",
      "Precision: 0.00%\n",
      "F1 Score: 0.00%\n"
     ]
    }
   ],
   "source": [
    "print('Sanity check: when assigning no-churn to all users')\n",
    "report(test_target, predictions=[0 for x in range(len(test_target))])\n"
   ]
  },
  {
   "cell_type": "code",
   "execution_count": 30,
   "metadata": {},
   "outputs": [
    {
     "name": "stdout",
     "output_type": "stream",
     "text": [
      "Sanity check: when assigning churn to 2/3 of users\n",
      "Accuracy: 60.53%\n",
      "Recall: 34.36%\n",
      "Precision: 20.09%\n",
      "F1 Score: 25.35%\n"
     ]
    }
   ],
   "source": [
    "print('Sanity check: when assigning churn to 2/3 of users')\n",
    "report(test_target, predictions=[1 if x%3 == 0 else 0 for x in range(len(test_target)) ])"
   ]
  },
  {
   "cell_type": "code",
   "execution_count": 31,
   "metadata": {},
   "outputs": [
    {
     "name": "stdout",
     "output_type": "stream",
     "text": [
      "The final model is a Random Forest model with 13 estimators. \n",
      "The random state defined was 1995. \n",
      "Inputs are: \n",
      "['HasCrCard' 'IsActiveMember' 'CreditScore' 'Age' 'Tenure' 'Balance'\n",
      " 'NumOfProducts' 'EstimatedSalary' 'Geography_Germany' 'Geography_Spain'\n",
      " 'Gender_Male'].\n",
      "\n",
      "The importances of each feature are respectively [0.0, 0.12, 0.0, 0.45, 0.0, 0.05, 0.29, 0.01, 0.04, 0.0, 0.03].\n",
      "\n",
      "The inputs must be correctly encoded with the associated encoders.\n",
      "\n",
      "Generating report for validation dataset:\n",
      "Accuracy: 84.84%\n",
      "Recall: 62.47%\n",
      "Precision: 61.69%\n",
      "F1 Score: 62.08%\n",
      "AUC-ROC: 85.65%\n"
     ]
    }
   ],
   "source": [
    "final_model = forest_model\n",
    "importances = final_model.feature_importances_\n",
    "print(f'The final model is a Random Forest model with 13 estimators. \\nThe random state defined was 1995. \\nInputs are: \\n{train_feat.columns.values}.\\n\\nThe importances of each feature are respectively', list(importances.round(2)), end='.\\n\\n')\n",
    "\n",
    "print('The inputs must be correctly encoded with the associated encoders.')\n",
    "\n",
    "print('\\nGenerating report for validation dataset:')\n",
    "report(valid_target, features=valid_feat, model=final_model, output=False)"
   ]
  },
  {
   "cell_type": "code",
   "execution_count": 32,
   "metadata": {},
   "outputs": [],
   "source": [
    "#dump(final_model, 'model.joblib')\n",
    "#dump(ohe_encoder, 'ohe_encoder.joblib')\n",
    "#dump(std_scaler, 'std_scaler.joblib')"
   ]
  },
  {
   "cell_type": "markdown",
   "metadata": {},
   "source": [
    "OBS: Use the code lines above to save the model."
   ]
  },
  {
   "cell_type": "markdown",
   "metadata": {},
   "source": [
    "### Results"
   ]
  },
  {
   "cell_type": "markdown",
   "metadata": {},
   "source": [
    "We have succesfully come up with a Random Forest model that can correctly predict about 84% of the cases, with similar recall and precision rates of 60%. The model has been tuned to use less features in order to reduce the number of information from the user. The features used are the following:\n",
    "\n",
    "    - Customer's activeness\n",
    "    - Credit Score\n",
    "    - Age\n",
    "    - Tenure\n",
    "    - NumOfProducts\n",
    "    - Estimated Salary\n",
    "    - Country\n",
    "    - Gender\n",
    "\n",
    "The model was obtained by dividing data in train, test and validation datasets. After that, data was resampled by shuffling and upsampling the churn cases and downsapling the no-churn cases. The final results shown were obtained by predicting from the validation dataset."
   ]
  },
  {
   "cell_type": "markdown",
   "metadata": {},
   "source": [
    "## Conclusion"
   ]
  },
  {
   "cell_type": "markdown",
   "metadata": {},
   "source": [
    "This document aimed to produce a trained machine learning model to predict churn cases for Beta Bank, so it is a classifier. Data of customers from three regions - Spain, France and Germany - was provided for an exploratory data analysis and model training. The data quality was high enough that only Tenure rates showed missing data, while no other errors were found. By plotting histograms, we could verify that patterns in the data were not very clear to customers apart regarding churns, but still different enough to create a reasonable prediction model. We could also check the correlation between characteristics, and we could see that no specific information is defining when predicting churns, although there were clearly higher rates for German customers and generally female customers. Therefore, the relationships between the data provided and the churn rates are complex, and must be analyzed thoroughly to achieve good predictions results. We can conclude that a model that can predict the churn rate of customers is much needed.\n",
    "\n",
    "Our final model was able to reach about 84% accuracy, with precision and recall of 60%. A high precision means that the model is able to predict churn cases without missing. A high recall means that the model is able to correctly identify churn cases. We have aimed to achieve reasonable scores for both indexes, by reaching a higher F1 Score. Several provided features of customers were cut out of the required features of the model, as they were not relevant to the prediction according to the exploratory data analysis. The model was trained with a random forest classifier, and was tuned to use less features in order to reduce the number of information from the user. It can be used to predict which users will potentially leave the bank. In that way, Beta Bank may reach out to these users to listen to their specific to retain these customers before they leave. This could also lead to better intelligence regarding customer profiles as well as identifying areas that could be developed in the company, such as product quality in different countries or maybe customer support.\n",
    "\n",
    "As a final remark, we have checked that customers that use exactly two products are generally less likely to leave the bank. However, this must be further studied before creating a causal relation between these factors and the churn of users. It could be that the experience of integration in using two products is much better than that of using only one product, and this should be included in customer survey. On the other hand, churn rates for customers that use more than two products are very high, although there are not many observations of this case. This could mean that the less popular products do not provide much value to the customers, or that there is an issue when integrating more than 2 products. Additional information about which products were being used by each customer could lead to a better understanding of the customer's experience and their patterns."
   ]
  }
 ],
 "metadata": {
  "ExecuteTimeLog": [
   {
    "duration": 1478,
    "start_time": "2021-11-19T03:49:05.405Z"
   },
   {
    "duration": 1827,
    "start_time": "2021-11-19T03:49:06.885Z"
   },
   {
    "duration": 1385,
    "start_time": "2021-11-19T03:49:07.330Z"
   },
   {
    "duration": 1381,
    "start_time": "2021-11-19T03:49:07.336Z"
   },
   {
    "duration": 1375,
    "start_time": "2021-11-19T03:49:07.343Z"
   },
   {
    "duration": 1369,
    "start_time": "2021-11-19T03:49:07.351Z"
   },
   {
    "duration": 1364,
    "start_time": "2021-11-19T03:49:07.358Z"
   },
   {
    "duration": 1353,
    "start_time": "2021-11-19T03:49:07.370Z"
   },
   {
    "duration": 1351,
    "start_time": "2021-11-19T03:49:07.373Z"
   },
   {
    "duration": 1350,
    "start_time": "2021-11-19T03:49:07.375Z"
   },
   {
    "duration": 1127,
    "start_time": "2021-11-19T03:49:07.600Z"
   },
   {
    "duration": 1121,
    "start_time": "2021-11-19T03:49:07.607Z"
   },
   {
    "duration": 1115,
    "start_time": "2021-11-19T03:49:07.615Z"
   },
   {
    "duration": 1110,
    "start_time": "2021-11-19T03:49:07.621Z"
   },
   {
    "duration": 1104,
    "start_time": "2021-11-19T03:49:07.628Z"
   },
   {
    "duration": 1099,
    "start_time": "2021-11-19T03:49:07.635Z"
   },
   {
    "duration": 1093,
    "start_time": "2021-11-19T03:49:07.642Z"
   },
   {
    "duration": 1088,
    "start_time": "2021-11-19T03:49:07.649Z"
   },
   {
    "duration": 1082,
    "start_time": "2021-11-19T03:49:07.656Z"
   },
   {
    "duration": 1074,
    "start_time": "2021-11-19T03:49:07.665Z"
   },
   {
    "duration": 1069,
    "start_time": "2021-11-19T03:49:07.672Z"
   },
   {
    "duration": 1067,
    "start_time": "2021-11-19T03:49:07.675Z"
   },
   {
    "duration": 875,
    "start_time": "2021-11-19T03:49:07.869Z"
   },
   {
    "duration": 866,
    "start_time": "2021-11-19T03:49:07.879Z"
   },
   {
    "duration": 860,
    "start_time": "2021-11-19T03:49:07.886Z"
   },
   {
    "duration": 855,
    "start_time": "2021-11-19T03:49:07.893Z"
   },
   {
    "duration": 848,
    "start_time": "2021-11-19T03:49:07.901Z"
   },
   {
    "duration": 843,
    "start_time": "2021-11-19T03:49:07.908Z"
   },
   {
    "duration": 842,
    "start_time": "2021-11-19T03:49:07.910Z"
   },
   {
    "duration": 840,
    "start_time": "2021-11-19T03:49:07.913Z"
   },
   {
    "duration": 843,
    "start_time": "2021-11-19T03:49:07.920Z"
   },
   {
    "duration": 1671,
    "start_time": "2021-11-19T03:49:41.385Z"
   },
   {
    "duration": 345,
    "start_time": "2021-11-19T03:50:08.339Z"
   },
   {
    "duration": 1764,
    "start_time": "2021-11-19T03:50:18.480Z"
   },
   {
    "duration": 4,
    "start_time": "2021-11-19T03:51:01.593Z"
   },
   {
    "duration": 326,
    "start_time": "2021-11-19T03:51:03.552Z"
   },
   {
    "duration": 225,
    "start_time": "2021-11-19T03:51:22.438Z"
   },
   {
    "duration": 29,
    "start_time": "2021-11-19T03:51:24.925Z"
   },
   {
    "duration": 58,
    "start_time": "2021-11-19T03:51:32.112Z"
   },
   {
    "duration": 11,
    "start_time": "2021-11-19T03:51:36.404Z"
   },
   {
    "duration": 5,
    "start_time": "2021-11-19T03:51:37.214Z"
   },
   {
    "duration": 5,
    "start_time": "2021-11-19T03:51:37.866Z"
   },
   {
    "duration": 60,
    "start_time": "2021-11-19T03:51:40.955Z"
   },
   {
    "duration": 7,
    "start_time": "2021-11-19T03:51:41.301Z"
   },
   {
    "duration": 4,
    "start_time": "2021-11-19T03:51:41.994Z"
   },
   {
    "duration": 14,
    "start_time": "2021-11-19T03:51:45.938Z"
   },
   {
    "duration": 40,
    "start_time": "2021-11-19T03:51:46.358Z"
   },
   {
    "duration": 24,
    "start_time": "2021-11-19T03:51:48.557Z"
   },
   {
    "duration": 13,
    "start_time": "2021-11-19T03:51:49.177Z"
   },
   {
    "duration": 2584,
    "start_time": "2021-11-19T03:51:49.703Z"
   },
   {
    "duration": 5,
    "start_time": "2021-11-19T03:51:56.488Z"
   },
   {
    "duration": 9,
    "start_time": "2021-11-19T03:51:59.514Z"
   },
   {
    "duration": 9,
    "start_time": "2021-11-19T03:52:04.588Z"
   },
   {
    "duration": 308,
    "start_time": "2021-11-19T03:52:08.407Z"
   },
   {
    "duration": 287,
    "start_time": "2021-11-19T03:52:23.175Z"
   },
   {
    "duration": 57,
    "start_time": "2021-11-19T03:52:31.601Z"
   },
   {
    "duration": 3,
    "start_time": "2021-11-19T03:52:37.023Z"
   },
   {
    "duration": 7,
    "start_time": "2021-11-19T03:52:37.700Z"
   },
   {
    "duration": 19,
    "start_time": "2021-11-19T03:52:39.130Z"
   },
   {
    "duration": 60,
    "start_time": "2021-11-19T03:52:40.613Z"
   },
   {
    "duration": 2792,
    "start_time": "2021-11-19T03:52:41.257Z"
   },
   {
    "duration": 4811,
    "start_time": "2021-11-19T03:52:47.288Z"
   },
   {
    "duration": 206,
    "start_time": "2021-11-19T03:52:55.641Z"
   },
   {
    "duration": 13,
    "start_time": "2021-11-19T03:53:02.281Z"
   },
   {
    "duration": 14,
    "start_time": "2021-11-19T03:53:03.383Z"
   },
   {
    "duration": 19,
    "start_time": "2021-11-19T03:53:03.399Z"
   },
   {
    "duration": 12,
    "start_time": "2021-11-19T03:53:05.129Z"
   },
   {
    "duration": 23,
    "start_time": "2021-11-19T03:53:07.430Z"
   },
   {
    "duration": 2,
    "start_time": "2021-11-19T03:53:08.849Z"
   },
   {
    "duration": 1147,
    "start_time": "2021-11-19T03:54:07.948Z"
   },
   {
    "duration": 182,
    "start_time": "2021-11-19T03:54:09.097Z"
   },
   {
    "duration": 19,
    "start_time": "2021-11-19T03:54:09.282Z"
   },
   {
    "duration": 48,
    "start_time": "2021-11-19T03:54:09.303Z"
   },
   {
    "duration": 22,
    "start_time": "2021-11-19T03:54:09.353Z"
   },
   {
    "duration": 6,
    "start_time": "2021-11-19T03:54:09.377Z"
   },
   {
    "duration": 6,
    "start_time": "2021-11-19T03:54:09.385Z"
   },
   {
    "duration": 87,
    "start_time": "2021-11-19T03:54:09.393Z"
   },
   {
    "duration": 7,
    "start_time": "2021-11-19T03:54:09.483Z"
   },
   {
    "duration": 6,
    "start_time": "2021-11-19T03:54:09.492Z"
   },
   {
    "duration": 16,
    "start_time": "2021-11-19T03:54:09.499Z"
   },
   {
    "duration": 58,
    "start_time": "2021-11-19T03:54:09.517Z"
   },
   {
    "duration": 23,
    "start_time": "2021-11-19T03:54:09.577Z"
   },
   {
    "duration": 12,
    "start_time": "2021-11-19T03:54:09.602Z"
   },
   {
    "duration": 2621,
    "start_time": "2021-11-19T03:54:09.616Z"
   },
   {
    "duration": 5,
    "start_time": "2021-11-19T03:54:12.239Z"
   },
   {
    "duration": 28,
    "start_time": "2021-11-19T03:54:12.245Z"
   },
   {
    "duration": 10,
    "start_time": "2021-11-19T03:54:12.275Z"
   },
   {
    "duration": 68,
    "start_time": "2021-11-19T03:54:12.287Z"
   },
   {
    "duration": 6,
    "start_time": "2021-11-19T03:54:12.357Z"
   },
   {
    "duration": 16,
    "start_time": "2021-11-19T03:54:12.365Z"
   },
   {
    "duration": 37,
    "start_time": "2021-11-19T03:54:12.382Z"
   },
   {
    "duration": 43,
    "start_time": "2021-11-19T03:54:12.421Z"
   },
   {
    "duration": 2275,
    "start_time": "2021-11-19T03:54:12.466Z"
   },
   {
    "duration": 3851,
    "start_time": "2021-11-19T03:54:14.743Z"
   },
   {
    "duration": 220,
    "start_time": "2021-11-19T03:54:18.596Z"
   },
   {
    "duration": 12,
    "start_time": "2021-11-19T03:54:18.819Z"
   },
   {
    "duration": 11,
    "start_time": "2021-11-19T03:54:18.833Z"
   },
   {
    "duration": 14,
    "start_time": "2021-11-19T03:54:18.863Z"
   },
   {
    "duration": 13,
    "start_time": "2021-11-19T03:54:18.879Z"
   },
   {
    "duration": 26,
    "start_time": "2021-11-19T03:54:18.894Z"
   },
   {
    "duration": 2,
    "start_time": "2021-11-19T03:54:18.922Z"
   },
   {
    "duration": 1115,
    "start_time": "2021-11-19T03:54:53.709Z"
   },
   {
    "duration": 179,
    "start_time": "2021-11-19T03:54:54.826Z"
   },
   {
    "duration": 18,
    "start_time": "2021-11-19T03:54:55.007Z"
   },
   {
    "duration": 45,
    "start_time": "2021-11-19T03:54:55.027Z"
   },
   {
    "duration": 12,
    "start_time": "2021-11-19T03:54:55.073Z"
   },
   {
    "duration": 5,
    "start_time": "2021-11-19T03:54:55.087Z"
   },
   {
    "duration": 5,
    "start_time": "2021-11-19T03:54:55.094Z"
   },
   {
    "duration": 79,
    "start_time": "2021-11-19T03:54:55.102Z"
   },
   {
    "duration": 7,
    "start_time": "2021-11-19T03:54:55.184Z"
   },
   {
    "duration": 8,
    "start_time": "2021-11-19T03:54:55.192Z"
   },
   {
    "duration": 15,
    "start_time": "2021-11-19T03:54:55.201Z"
   },
   {
    "duration": 62,
    "start_time": "2021-11-19T03:54:55.217Z"
   },
   {
    "duration": 23,
    "start_time": "2021-11-19T03:54:55.281Z"
   },
   {
    "duration": 11,
    "start_time": "2021-11-19T03:54:55.305Z"
   },
   {
    "duration": 2538,
    "start_time": "2021-11-19T03:54:55.317Z"
   },
   {
    "duration": 7,
    "start_time": "2021-11-19T03:54:57.857Z"
   },
   {
    "duration": 11,
    "start_time": "2021-11-19T03:54:57.865Z"
   },
   {
    "duration": 8,
    "start_time": "2021-11-19T03:54:57.877Z"
   },
   {
    "duration": 77,
    "start_time": "2021-11-19T03:54:57.887Z"
   },
   {
    "duration": 2,
    "start_time": "2021-11-19T03:54:57.966Z"
   },
   {
    "duration": 30,
    "start_time": "2021-11-19T03:54:57.970Z"
   },
   {
    "duration": 58,
    "start_time": "2021-11-19T03:54:58.001Z"
   },
   {
    "duration": 201,
    "start_time": "2021-11-19T03:54:58.062Z"
   },
   {
    "duration": 2899,
    "start_time": "2021-11-19T03:54:58.265Z"
   },
   {
    "duration": 5079,
    "start_time": "2021-11-19T03:55:01.166Z"
   },
   {
    "duration": 216,
    "start_time": "2021-11-19T03:55:06.247Z"
   },
   {
    "duration": 11,
    "start_time": "2021-11-19T03:55:06.464Z"
   },
   {
    "duration": 12,
    "start_time": "2021-11-19T03:55:06.477Z"
   },
   {
    "duration": 11,
    "start_time": "2021-11-19T03:55:06.490Z"
   },
   {
    "duration": 11,
    "start_time": "2021-11-19T03:55:06.503Z"
   },
   {
    "duration": 56,
    "start_time": "2021-11-19T03:55:06.515Z"
   },
   {
    "duration": 2,
    "start_time": "2021-11-19T03:55:06.573Z"
   },
   {
    "duration": 1117,
    "start_time": "2021-11-19T03:55:25.376Z"
   },
   {
    "duration": 175,
    "start_time": "2021-11-19T03:55:26.495Z"
   },
   {
    "duration": 20,
    "start_time": "2021-11-19T03:55:26.673Z"
   },
   {
    "duration": 47,
    "start_time": "2021-11-19T03:55:26.695Z"
   },
   {
    "duration": 27,
    "start_time": "2021-11-19T03:55:26.744Z"
   },
   {
    "duration": 19,
    "start_time": "2021-11-19T03:55:26.772Z"
   },
   {
    "duration": 22,
    "start_time": "2021-11-19T03:55:26.792Z"
   },
   {
    "duration": 61,
    "start_time": "2021-11-19T03:55:26.815Z"
   },
   {
    "duration": 6,
    "start_time": "2021-11-19T03:55:26.879Z"
   },
   {
    "duration": 9,
    "start_time": "2021-11-19T03:55:26.887Z"
   },
   {
    "duration": 26,
    "start_time": "2021-11-19T03:55:26.898Z"
   },
   {
    "duration": 44,
    "start_time": "2021-11-19T03:55:26.925Z"
   },
   {
    "duration": 31,
    "start_time": "2021-11-19T03:55:26.971Z"
   },
   {
    "duration": 11,
    "start_time": "2021-11-19T03:55:27.004Z"
   },
   {
    "duration": 2713,
    "start_time": "2021-11-19T03:55:27.017Z"
   },
   {
    "duration": 4,
    "start_time": "2021-11-19T03:55:29.732Z"
   },
   {
    "duration": 26,
    "start_time": "2021-11-19T03:55:29.738Z"
   },
   {
    "duration": 15,
    "start_time": "2021-11-19T03:55:29.766Z"
   },
   {
    "duration": 81,
    "start_time": "2021-11-19T03:55:29.782Z"
   },
   {
    "duration": 3,
    "start_time": "2021-11-19T03:55:29.865Z"
   },
   {
    "duration": 18,
    "start_time": "2021-11-19T03:55:29.870Z"
   },
   {
    "duration": 45,
    "start_time": "2021-11-19T03:55:29.890Z"
   },
   {
    "duration": 135,
    "start_time": "2021-11-19T03:55:29.937Z"
   },
   {
    "duration": 2303,
    "start_time": "2021-11-19T03:55:30.164Z"
   },
   {
    "duration": 4905,
    "start_time": "2021-11-19T03:55:32.468Z"
   },
   {
    "duration": 233,
    "start_time": "2021-11-19T03:55:37.374Z"
   },
   {
    "duration": 11,
    "start_time": "2021-11-19T03:55:37.610Z"
   },
   {
    "duration": 46,
    "start_time": "2021-11-19T03:55:37.623Z"
   },
   {
    "duration": 51,
    "start_time": "2021-11-19T03:55:37.671Z"
   },
   {
    "duration": 38,
    "start_time": "2021-11-19T03:55:37.724Z"
   },
   {
    "duration": 70,
    "start_time": "2021-11-19T03:55:37.764Z"
   },
   {
    "duration": 17,
    "start_time": "2021-11-19T03:55:37.835Z"
   },
   {
    "duration": 1160,
    "start_time": "2021-11-19T03:56:20.246Z"
   },
   {
    "duration": 175,
    "start_time": "2021-11-19T03:56:21.408Z"
   },
   {
    "duration": 19,
    "start_time": "2021-11-19T03:56:21.585Z"
   },
   {
    "duration": 46,
    "start_time": "2021-11-19T03:56:21.606Z"
   },
   {
    "duration": 18,
    "start_time": "2021-11-19T03:56:21.654Z"
   },
   {
    "duration": 5,
    "start_time": "2021-11-19T03:56:21.673Z"
   },
   {
    "duration": 5,
    "start_time": "2021-11-19T03:56:21.679Z"
   },
   {
    "duration": 80,
    "start_time": "2021-11-19T03:56:21.687Z"
   },
   {
    "duration": 8,
    "start_time": "2021-11-19T03:56:21.770Z"
   },
   {
    "duration": 6,
    "start_time": "2021-11-19T03:56:21.780Z"
   },
   {
    "duration": 23,
    "start_time": "2021-11-19T03:56:21.788Z"
   },
   {
    "duration": 51,
    "start_time": "2021-11-19T03:56:21.813Z"
   },
   {
    "duration": 28,
    "start_time": "2021-11-19T03:56:21.866Z"
   },
   {
    "duration": 13,
    "start_time": "2021-11-19T03:56:21.896Z"
   },
   {
    "duration": 2580,
    "start_time": "2021-11-19T03:56:21.911Z"
   },
   {
    "duration": 5,
    "start_time": "2021-11-19T03:56:24.494Z"
   },
   {
    "duration": 9,
    "start_time": "2021-11-19T03:56:24.501Z"
   },
   {
    "duration": 8,
    "start_time": "2021-11-19T03:56:24.511Z"
   },
   {
    "duration": 83,
    "start_time": "2021-11-19T03:56:24.521Z"
   },
   {
    "duration": 3,
    "start_time": "2021-11-19T03:56:24.606Z"
   },
   {
    "duration": 7,
    "start_time": "2021-11-19T03:56:24.610Z"
   },
   {
    "duration": 19,
    "start_time": "2021-11-19T03:56:24.619Z"
   },
   {
    "duration": 130,
    "start_time": "2021-11-19T03:56:24.641Z"
   },
   {
    "duration": 2675,
    "start_time": "2021-11-19T03:56:24.863Z"
   },
   {
    "duration": 4852,
    "start_time": "2021-11-19T03:56:27.540Z"
   },
   {
    "duration": 228,
    "start_time": "2021-11-19T03:56:32.393Z"
   },
   {
    "duration": 11,
    "start_time": "2021-11-19T03:56:32.623Z"
   },
   {
    "duration": 22,
    "start_time": "2021-11-19T03:56:32.635Z"
   },
   {
    "duration": 27,
    "start_time": "2021-11-19T03:56:32.662Z"
   },
   {
    "duration": 31,
    "start_time": "2021-11-19T03:56:32.691Z"
   },
   {
    "duration": 33,
    "start_time": "2021-11-19T03:56:32.723Z"
   },
   {
    "duration": 22,
    "start_time": "2021-11-19T03:56:32.758Z"
   },
   {
    "duration": 1197,
    "start_time": "2021-11-19T03:59:57.027Z"
   },
   {
    "duration": 191,
    "start_time": "2021-11-19T03:59:58.226Z"
   },
   {
    "duration": 19,
    "start_time": "2021-11-19T03:59:58.419Z"
   },
   {
    "duration": 48,
    "start_time": "2021-11-19T03:59:58.440Z"
   },
   {
    "duration": 11,
    "start_time": "2021-11-19T03:59:58.490Z"
   },
   {
    "duration": 5,
    "start_time": "2021-11-19T03:59:58.502Z"
   },
   {
    "duration": 5,
    "start_time": "2021-11-19T03:59:58.509Z"
   },
   {
    "duration": 79,
    "start_time": "2021-11-19T03:59:58.515Z"
   },
   {
    "duration": 7,
    "start_time": "2021-11-19T03:59:58.597Z"
   },
   {
    "duration": 4,
    "start_time": "2021-11-19T03:59:58.606Z"
   },
   {
    "duration": 18,
    "start_time": "2021-11-19T03:59:58.612Z"
   },
   {
    "duration": 54,
    "start_time": "2021-11-19T03:59:58.632Z"
   },
   {
    "duration": 25,
    "start_time": "2021-11-19T03:59:58.687Z"
   },
   {
    "duration": 12,
    "start_time": "2021-11-19T03:59:58.713Z"
   },
   {
    "duration": 2661,
    "start_time": "2021-11-19T03:59:58.726Z"
   },
   {
    "duration": 5,
    "start_time": "2021-11-19T04:00:01.389Z"
   },
   {
    "duration": 37,
    "start_time": "2021-11-19T04:00:01.395Z"
   },
   {
    "duration": 26,
    "start_time": "2021-11-19T04:00:01.434Z"
   },
   {
    "duration": 80,
    "start_time": "2021-11-19T04:00:01.462Z"
   },
   {
    "duration": 4,
    "start_time": "2021-11-19T04:00:01.544Z"
   },
   {
    "duration": 33,
    "start_time": "2021-11-19T04:00:01.549Z"
   },
   {
    "duration": 34,
    "start_time": "2021-11-19T04:00:01.584Z"
   },
   {
    "duration": 157,
    "start_time": "2021-11-19T04:00:01.620Z"
   },
   {
    "duration": 2947,
    "start_time": "2021-11-19T04:00:01.779Z"
   },
   {
    "duration": 4804,
    "start_time": "2021-11-19T04:00:04.728Z"
   },
   {
    "duration": 211,
    "start_time": "2021-11-19T04:00:09.534Z"
   },
   {
    "duration": 21,
    "start_time": "2021-11-19T04:00:09.748Z"
   },
   {
    "duration": 22,
    "start_time": "2021-11-19T04:00:09.771Z"
   },
   {
    "duration": 21,
    "start_time": "2021-11-19T04:00:09.795Z"
   },
   {
    "duration": 63,
    "start_time": "2021-11-19T04:00:09.818Z"
   },
   {
    "duration": 36,
    "start_time": "2021-11-19T04:00:09.883Z"
   },
   {
    "duration": 32,
    "start_time": "2021-11-19T04:00:09.920Z"
   }
  ],
  "interpreter": {
   "hash": "ac58549e391d20381b1a26588b215b2d55fa392d44f90ad4f3113cc049903f1d"
  },
  "kernelspec": {
   "display_name": "Python 3",
   "language": "python",
   "name": "python3"
  },
  "language_info": {
   "codemirror_mode": {
    "name": "ipython",
    "version": 3
   },
   "file_extension": ".py",
   "mimetype": "text/x-python",
   "name": "python",
   "nbconvert_exporter": "python",
   "pygments_lexer": "ipython3",
   "version": "3.7.12"
  },
  "toc": {
   "base_numbering": 1,
   "nav_menu": {},
   "number_sections": true,
   "sideBar": true,
   "skip_h1_title": true,
   "title_cell": "Table of Contents",
   "title_sidebar": "Contents",
   "toc_cell": false,
   "toc_position": {},
   "toc_section_display": true,
   "toc_window_display": false
  }
 },
 "nbformat": 4,
 "nbformat_minor": 2
}
