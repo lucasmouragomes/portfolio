{
 "cells": [
  {
   "cell_type": "code",
   "execution_count": null,
   "source": [
    "import pandas as pd\r\n",
    "from sklearn.model_selection import train_test_split\r\n",
    "\r\n",
    "data = pd.read_csv('../datasets/travel_insurance_us.csv')\r\n",
    "\r\n",
    "train, valid = train_test_split(data, random_state=12345)\r\n",
    "\r\n",
    "def target_features(df, tar_col, remove=[]):\r\n",
    "    target = df[tar_col]\r\n",
    "    remove.append(tar_col)\r\n",
    "    features = df[[x for x in train.columns.values if x not in remove]]\r\n",
    "    return target, features\r\n",
    "\r\n",
    "remove_list = []\r\n",
    "target_train, features_train = target_features(train, 'Claim', remove_list)\r\n",
    "target_valid, features_valid = target_features(valid, 'Claim', remove_list)\r\n",
    "\r\n",
    "print(features_train.shape[0])\r\n",
    "print(features_valid.shape[0])\r\n"
   ],
   "outputs": [],
   "metadata": {}
  },
  {
   "cell_type": "code",
   "execution_count": null,
   "source": [
    "import pandas as pd\r\n",
    "from sklearn.model_selection import train_test_split\r\n",
    "from sklearn.linear_model import LogisticRegression\r\n",
    "\r\n",
    "data = pd.read_csv('../datasets/travel_insurance_us.csv')\r\n",
    "\r\n",
    "data_ohe = pd.get_dummies(data, drop_first=True)\r\n",
    "target = data_ohe['Claim']\r\n",
    "features = data_ohe.drop('Claim', axis=1)\r\n",
    "\r\n",
    "target_train, target_valid, features_train, features_valid = train_test_split(target, features)\r\n",
    "\r\n",
    "print('Trained!')"
   ],
   "outputs": [],
   "metadata": {}
  },
  {
   "cell_type": "code",
   "execution_count": null,
   "source": [
    "import pandas as pd\r\n",
    "from sklearn.model_selection import train_test_split\r\n",
    "from sklearn.preprocessing import StandardScaler\r\n",
    "\r\n",
    "data = pd.read_csv('travel_insurance_us.csv')\r\n",
    "\r\n",
    "data_ohe = pd.get_dummies(data, drop_first=True)\r\n",
    "target = data_ohe['Claim']\r\n",
    "features = data_ohe.drop('Claim', axis=1)\r\n",
    "features_train, features_valid, target_train, target_valid = train_test_split(\r\n",
    "    features, target, test_size=0.25, random_state=12345)\r\n",
    "\r\n",
    "numeric = ['Duration', 'Net Sales', 'Commission (in value)', 'Age']\r\n",
    "\r\n",
    "scaler = StandardScaler()\r\n",
    "scaler.fit(features_train[numeric])\r\n",
    "features_train[numeric] = scaler.transform(features_train[numeric])\r\n",
    "features_valid[numeric] = scaler.transform(features_valid[numeric])\r\n",
    "\r\n",
    "print(features_train.shape)"
   ],
   "outputs": [],
   "metadata": {}
  },
  {
   "cell_type": "code",
   "execution_count": null,
   "source": [
    "import pandas as pd\r\n",
    "\r\n",
    "target = pd.Series([1, 0, 0, 1, 1, 0, 1, 0, 1, 1, 0, 0, 0, 1])\r\n",
    "predictions = pd.Series([1, 1, 0, 0, 1, 1, 1, 0, 0, 1, 0, 1, 0, 1])\r\n",
    "\r\n",
    "print(((target==0) & (predictions==0)).sum())\r\n",
    "\r\n"
   ],
   "outputs": [],
   "metadata": {}
  },
  {
   "cell_type": "code",
   "execution_count": null,
   "source": [
    "import pandas as pd\r\n",
    "from sklearn.model_selection import train_test_split\r\n",
    "from sklearn.linear_model import LogisticRegression\r\n",
    "\r\n",
    "data = pd.read_csv('../datasets/travel_insurance_us_preprocessed.csv')\r\n",
    "\r\n",
    "target = data['Claim']\r\n",
    "features = data.drop('Claim', axis=1)\r\n",
    "features_train, features_valid, target_train, target_valid = train_test_split(\r\n",
    "    features, target, test_size=0.25, random_state=12345\r\n",
    ")\r\n",
    "\r\n",
    "model = LogisticRegression(random_state=12345, solver='liblinear')\r\n",
    "model.fit(features_train, target_train)\r\n",
    "\r\n",
    "probabilities_one_valid = model.predict_proba(features_valid)[:, 1]\r\n",
    "\r\n",
    "print(probabilities_one_valid[:5])"
   ],
   "outputs": [],
   "metadata": {}
  },
  {
   "cell_type": "code",
   "execution_count": null,
   "source": [
    "import pandas as pd\r\n",
    "import matplotlib.pyplot as plt\r\n",
    "from sklearn.model_selection import train_test_split\r\n",
    "from sklearn.linear_model import LogisticRegression\r\n",
    "from sklearn.metrics import roc_auc_score\r\n",
    "\r\n",
    "data = pd.read_csv('../datasets/travel_insurance_us_preprocessed.csv')\r\n",
    "\r\n",
    "target = data['Claim']\r\n",
    "features = data.drop('Claim', axis=1)\r\n",
    "features_train, features_valid, target_train, target_valid = train_test_split(\r\n",
    "    features, target, test_size=0.25, random_state=12345\r\n",
    ")\r\n",
    "\r\n",
    "model = LogisticRegression(random_state=12345, solver='liblinear')\r\n",
    "model.fit(features_train, target_train)\r\n",
    "\r\n",
    "probabilities_valid = model.predict_proba(features_valid)\r\n",
    "probabilities_one_valid = probabilities_valid[:, 1]\r\n",
    "\r\n",
    "auc_roc = roc_auc_score(target_valid, probabilities_one_valid)\r\n",
    "\r\n",
    "print(auc_roc)"
   ],
   "outputs": [],
   "metadata": {}
  },
  {
   "cell_type": "code",
   "execution_count": null,
   "source": [
    "import pandas as pd\r\n",
    "from sklearn.model_selection import train_test_split\r\n",
    "from sklearn.preprocessing import StandardScaler\r\n",
    "\r\n",
    "data = pd.read_csv('../datasets/flights.csv')\r\n",
    "\r\n",
    "data_ohe = pd.get_dummies(data, drop_first=True)\r\n",
    "\r\n",
    "target = data_ohe['Arrival Delay']\r\n",
    "features = data_ohe.drop(['Arrival Delay'], axis=1)\r\n",
    "features_train, features_valid, target_train, target_valid = train_test_split(\r\n",
    "    features, target, test_size=0.25, random_state=12345\r\n",
    ")\r\n",
    "\r\n",
    "numeric = ['Day', 'Day Of Week', 'Origin Airport Delay Rate',\r\n",
    "       'Destination Airport Delay Rate', 'Scheduled Time', 'Distance',\r\n",
    "       'Scheduled Departure Hour', 'Scheduled Departure Minute']\r\n",
    "\r\n",
    "pd.options.mode.chained_assignment = None\r\n",
    "scaler = StandardScaler()\r\n",
    "scaler.fit(features_train.loc[:, numeric])\r\n",
    "features_train.loc[:,numeric] = scaler.transform(features_train.loc[:, numeric])\r\n",
    "features_valid.loc[:, numeric] = scaler.transform(features_valid.loc[:, numeric])\r\n",
    "\r\n",
    "print(features_train.shape)\r\n",
    "print(features_valid.shape)"
   ],
   "outputs": [],
   "metadata": {}
  },
  {
   "cell_type": "code",
   "execution_count": null,
   "source": [
    "import pandas as pd\r\n",
    "from sklearn.model_selection import train_test_split\r\n",
    "from sklearn.linear_model import LinearRegression\r\n",
    "from sklearn.metrics import mean_squared_error\r\n",
    "\r\n",
    "data = pd.read_csv('../datasets/flights_preprocessed.csv')\r\n",
    "\r\n",
    "target = data['Arrival Delay']\r\n",
    "features = data.drop(['Arrival Delay'], axis=1)\r\n",
    "features_train, features_valid, target_train, target_valid = train_test_split(\r\n",
    "    features, target, test_size=0.25, random_state=12345\r\n",
    ")\r\n",
    "\r\n",
    "model = LinearRegression()\r\n",
    "model.fit(features_train, target_train)\r\n",
    "predicted_valid = model.predict(features_valid)\r\n",
    "mse = mean_squared_error(target_valid, predicted_valid)\r\n",
    "\r\n",
    "print('Linear Regression')\r\n",
    "print('MSE =', mse)\r\n",
    "print('RMSE =', mse ** 0.5)\r\n",
    "\r\n",
    "mse = mean_squared_error(target_valid, [target_valid.mean() for x in target_valid])\r\n",
    "\r\n",
    "print('Mean')\r\n",
    "print('MSE =', mse)\r\n",
    "print('RMSE =', mse ** 0.5)"
   ],
   "outputs": [],
   "metadata": {}
  },
  {
   "cell_type": "code",
   "execution_count": 1,
   "source": [
    "import pandas as pd\r\n",
    "from sklearn.model_selection import train_test_split\r\n",
    "from sklearn.ensemble import RandomForestRegressor\r\n",
    "from joblib import dump\r\n",
    "\r\n",
    "df = pd.read_csv('../datasets/flights_preprocessed.csv')\r\n",
    "\r\n",
    "df_target = df['Arrival Delay']\r\n",
    "df_features = df.drop('Arrival Delay', axis=1)\r\n",
    "train, valid = train_test_split(df, test_size=0.25, random_state=1995)\r\n",
    "\r\n",
    "target_train = train['Arrival Delay']\r\n",
    "target_valid = valid['Arrival Delay']\r\n",
    "features_train = train.drop('Arrival Delay', axis=1)\r\n",
    "features_valid = valid.drop('Arrival Delay', axis=1)\r\n",
    "\r\n",
    "model = RandomForestRegressor(max_depth=11, n_estimators=90, random_state=1995)\r\n"
   ],
   "outputs": [],
   "metadata": {}
  },
  {
   "cell_type": "code",
   "execution_count": 2,
   "source": [
    "model.fit(features_train, target_train)\r\n"
   ],
   "outputs": [
    {
     "output_type": "execute_result",
     "data": {
      "text/plain": [
       "RandomForestRegressor(bootstrap=True, criterion='mse', max_depth=11,\n",
       "                      max_features='auto', max_leaf_nodes=None,\n",
       "                      min_impurity_decrease=0.0, min_impurity_split=None,\n",
       "                      min_samples_leaf=1, min_samples_split=2,\n",
       "                      min_weight_fraction_leaf=0.0, n_estimators=90,\n",
       "                      n_jobs=None, oob_score=False, random_state=1995,\n",
       "                      verbose=0, warm_start=False)"
      ]
     },
     "metadata": {},
     "execution_count": 2
    }
   ],
   "metadata": {}
  },
  {
   "cell_type": "code",
   "execution_count": 7,
   "source": [
    "from sklearn.metrics import mean_absolute_error\r\n",
    "mean_absolute_error(df_target, model.predict(df_features))"
   ],
   "outputs": [
    {
     "output_type": "execute_result",
     "data": {
      "text/plain": [
       "23.622650569086826"
      ]
     },
     "metadata": {},
     "execution_count": 7
    }
   ],
   "metadata": {}
  },
  {
   "cell_type": "code",
   "execution_count": 8,
   "source": [
    "dump(model, 'model.joblib')"
   ],
   "outputs": [
    {
     "output_type": "execute_result",
     "data": {
      "text/plain": [
       "['model.joblib']"
      ]
     },
     "metadata": {},
     "execution_count": 8
    }
   ],
   "metadata": {}
  }
 ],
 "metadata": {
  "orig_nbformat": 4,
  "language_info": {
   "name": "python",
   "version": "3.7.10",
   "mimetype": "text/x-python",
   "codemirror_mode": {
    "name": "ipython",
    "version": 3
   },
   "pygments_lexer": "ipython3",
   "nbconvert_exporter": "python",
   "file_extension": ".py"
  },
  "kernelspec": {
   "name": "python3",
   "display_name": "Python 3.7.10 64-bit ('praktikum': conda)"
  },
  "interpreter": {
   "hash": "ac58549e391d20381b1a26588b215b2d55fa392d44f90ad4f3113cc049903f1d"
  }
 },
 "nbformat": 4,
 "nbformat_minor": 2
}