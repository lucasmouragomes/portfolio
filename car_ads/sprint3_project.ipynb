{
 "cells": [
  {
   "cell_type": "markdown",
   "source": [
    "# RESEARCH ON CAR SALE ADS"
   ],
   "metadata": {}
  },
  {
   "cell_type": "markdown",
   "source": [
    "## *Introduction*"
   ],
   "metadata": {}
  },
  {
   "cell_type": "markdown",
   "source": [
    "\n",
    "The present project aims to determine which factors influence the price of vehicles at Crakshaft List. The proposed data has detailed information about all advertisements for vehicles published on our website every day for the last few years. This study will help understand correlation between price and product characteristics, which could lead to marketing intelligence, suggestions on prices based on available data or a broader understanding of the vehicles sold.\n",
    "\n",
    "The dataset contains the following fields:\n",
    "\n",
    "    - price\n",
    "    - model_year\n",
    "    - model\n",
    "    - condition\n",
    "    - cylinders\n",
    "    - fuel — gas, diesel, etc.\n",
    "    - odometer — the vehicle's mileage when the ad was published\n",
    "    - transmission\n",
    "    - paint_color\n",
    "    - is_4wd — whether the vehicle has 4-wheel drive (Boolean type)\n",
    "    - date_posted — the date the ad was published\n",
    "    - days_listed — from publication to removal"
   ],
   "metadata": {}
  },
  {
   "cell_type": "markdown",
   "source": [
    "## *Validating data*"
   ],
   "metadata": {}
  },
  {
   "cell_type": "markdown",
   "source": [
    "### Objective"
   ],
   "metadata": {}
  },
  {
   "cell_type": "markdown",
   "source": [
    "The first step is to take a first look at the data and understand what information is available and what can be used. In this step we will validate numerical and categorical values, whether they look reasonable. After that, we can define what data must be looked into to draw conclusions later in the analysis section.\n",
    "    "
   ],
   "metadata": {}
  },
  {
   "cell_type": "markdown",
   "source": [
    "### Overall data: duplicated, types and missing\n"
   ],
   "metadata": {}
  },
  {
   "cell_type": "markdown",
   "source": [
    "#### Explanation\n",
    "\n",
    "Here we should check a few entries, check if there are duplicates, missing values or wrong data types. Data types are how the software understands the data: a single algarism of a number could mean a date, a text or its own numerical value. If it doesn't get the correct data types, we won't be able to use our methods of analysis."
   ],
   "metadata": {}
  },
  {
   "cell_type": "markdown",
   "source": [
    "#### Code"
   ],
   "metadata": {}
  },
  {
   "cell_type": "code",
   "execution_count": 1,
   "source": [
    "import pandas as pd\n",
    "import matplotlib.pyplot as plt\n",
    "\n",
    "try:\n",
    "    df = pd.read_csv('/datasets/vehicles_us.csv')\n",
    "except:\n",
    "    df = pd.read_csv('vehicles_us.csv')\n",
    "    \n",
    "df.info()"
   ],
   "outputs": [
    {
     "output_type": "stream",
     "name": "stdout",
     "text": [
      "<class 'pandas.core.frame.DataFrame'>\n",
      "RangeIndex: 51525 entries, 0 to 51524\n",
      "Data columns (total 13 columns):\n",
      "price           51525 non-null int64\n",
      "model_year      47906 non-null float64\n",
      "model           51525 non-null object\n",
      "condition       51525 non-null object\n",
      "cylinders       46265 non-null float64\n",
      "fuel            51525 non-null object\n",
      "odometer        43633 non-null float64\n",
      "transmission    51525 non-null object\n",
      "type            51525 non-null object\n",
      "paint_color     42258 non-null object\n",
      "is_4wd          25572 non-null float64\n",
      "date_posted     51525 non-null object\n",
      "days_listed     51525 non-null int64\n",
      "dtypes: float64(4), int64(2), object(7)\n",
      "memory usage: 5.1+ MB\n"
     ]
    }
   ],
   "metadata": {}
  },
  {
   "cell_type": "code",
   "execution_count": 2,
   "source": [
    "print(f\"Number of duplicates: {df.duplicated().sum()}\")"
   ],
   "outputs": [
    {
     "output_type": "stream",
     "name": "stdout",
     "text": [
      "Number of duplicates: 0\n"
     ]
    }
   ],
   "metadata": {}
  },
  {
   "cell_type": "code",
   "execution_count": 3,
   "source": [
    "na_pct = (df.isna().sum()/df.shape[0])\n",
    "na_pct = na_pct[na_pct != 0]\n",
    "print(f\"Rows with missing values: \\n{na_pct}\")"
   ],
   "outputs": [
    {
     "output_type": "stream",
     "name": "stdout",
     "text": [
      "Rows with missing values: \n",
      "model_year     0.070238\n",
      "cylinders      0.102086\n",
      "odometer       0.153168\n",
      "paint_color    0.179854\n",
      "is_4wd         0.503697\n",
      "dtype: float64\n"
     ]
    }
   ],
   "metadata": {}
  },
  {
   "cell_type": "code",
   "execution_count": 4,
   "source": [
    "df[df['model_year'].isna()].head()"
   ],
   "outputs": [
    {
     "output_type": "execute_result",
     "data": {
      "text/plain": [
       "    price  model_year            model  condition  cylinders fuel  odometer  \\\n",
       "1   25500         NaN       ford f-150       good        6.0  gas   88705.0   \n",
       "20   6990         NaN  chevrolet tahoe  excellent        8.0  gas  147485.0   \n",
       "65  12800         NaN       ford f-150  excellent        6.0  gas  108500.0   \n",
       "69   7800         NaN       ford f-150   like new        8.0  gas   97510.0   \n",
       "72   3650         NaN   subaru impreza  excellent        NaN  gas   74000.0   \n",
       "\n",
       "   transmission    type paint_color  is_4wd date_posted  days_listed  \n",
       "1     automatic  pickup       white     1.0  2018-10-19           50  \n",
       "20    automatic     SUV      silver     1.0  2018-08-05           28  \n",
       "65    automatic  pickup       white     NaN  2018-09-23           15  \n",
       "69    automatic   truck       white     1.0  2019-02-20           39  \n",
       "72    automatic   sedan        blue     1.0  2018-08-07           60  "
      ],
      "text/html": [
       "<div>\n",
       "<style scoped>\n",
       "    .dataframe tbody tr th:only-of-type {\n",
       "        vertical-align: middle;\n",
       "    }\n",
       "\n",
       "    .dataframe tbody tr th {\n",
       "        vertical-align: top;\n",
       "    }\n",
       "\n",
       "    .dataframe thead th {\n",
       "        text-align: right;\n",
       "    }\n",
       "</style>\n",
       "<table border=\"1\" class=\"dataframe\">\n",
       "  <thead>\n",
       "    <tr style=\"text-align: right;\">\n",
       "      <th></th>\n",
       "      <th>price</th>\n",
       "      <th>model_year</th>\n",
       "      <th>model</th>\n",
       "      <th>condition</th>\n",
       "      <th>cylinders</th>\n",
       "      <th>fuel</th>\n",
       "      <th>odometer</th>\n",
       "      <th>transmission</th>\n",
       "      <th>type</th>\n",
       "      <th>paint_color</th>\n",
       "      <th>is_4wd</th>\n",
       "      <th>date_posted</th>\n",
       "      <th>days_listed</th>\n",
       "    </tr>\n",
       "  </thead>\n",
       "  <tbody>\n",
       "    <tr>\n",
       "      <td>1</td>\n",
       "      <td>25500</td>\n",
       "      <td>NaN</td>\n",
       "      <td>ford f-150</td>\n",
       "      <td>good</td>\n",
       "      <td>6.0</td>\n",
       "      <td>gas</td>\n",
       "      <td>88705.0</td>\n",
       "      <td>automatic</td>\n",
       "      <td>pickup</td>\n",
       "      <td>white</td>\n",
       "      <td>1.0</td>\n",
       "      <td>2018-10-19</td>\n",
       "      <td>50</td>\n",
       "    </tr>\n",
       "    <tr>\n",
       "      <td>20</td>\n",
       "      <td>6990</td>\n",
       "      <td>NaN</td>\n",
       "      <td>chevrolet tahoe</td>\n",
       "      <td>excellent</td>\n",
       "      <td>8.0</td>\n",
       "      <td>gas</td>\n",
       "      <td>147485.0</td>\n",
       "      <td>automatic</td>\n",
       "      <td>SUV</td>\n",
       "      <td>silver</td>\n",
       "      <td>1.0</td>\n",
       "      <td>2018-08-05</td>\n",
       "      <td>28</td>\n",
       "    </tr>\n",
       "    <tr>\n",
       "      <td>65</td>\n",
       "      <td>12800</td>\n",
       "      <td>NaN</td>\n",
       "      <td>ford f-150</td>\n",
       "      <td>excellent</td>\n",
       "      <td>6.0</td>\n",
       "      <td>gas</td>\n",
       "      <td>108500.0</td>\n",
       "      <td>automatic</td>\n",
       "      <td>pickup</td>\n",
       "      <td>white</td>\n",
       "      <td>NaN</td>\n",
       "      <td>2018-09-23</td>\n",
       "      <td>15</td>\n",
       "    </tr>\n",
       "    <tr>\n",
       "      <td>69</td>\n",
       "      <td>7800</td>\n",
       "      <td>NaN</td>\n",
       "      <td>ford f-150</td>\n",
       "      <td>like new</td>\n",
       "      <td>8.0</td>\n",
       "      <td>gas</td>\n",
       "      <td>97510.0</td>\n",
       "      <td>automatic</td>\n",
       "      <td>truck</td>\n",
       "      <td>white</td>\n",
       "      <td>1.0</td>\n",
       "      <td>2019-02-20</td>\n",
       "      <td>39</td>\n",
       "    </tr>\n",
       "    <tr>\n",
       "      <td>72</td>\n",
       "      <td>3650</td>\n",
       "      <td>NaN</td>\n",
       "      <td>subaru impreza</td>\n",
       "      <td>excellent</td>\n",
       "      <td>NaN</td>\n",
       "      <td>gas</td>\n",
       "      <td>74000.0</td>\n",
       "      <td>automatic</td>\n",
       "      <td>sedan</td>\n",
       "      <td>blue</td>\n",
       "      <td>1.0</td>\n",
       "      <td>2018-08-07</td>\n",
       "      <td>60</td>\n",
       "    </tr>\n",
       "  </tbody>\n",
       "</table>\n",
       "</div>"
      ]
     },
     "metadata": {},
     "execution_count": 4
    }
   ],
   "metadata": {}
  },
  {
   "cell_type": "code",
   "execution_count": 5,
   "source": [
    "df[df['cylinders'].isna()].head()"
   ],
   "outputs": [
    {
     "output_type": "execute_result",
     "data": {
      "text/plain": [
       "    price  model_year              model  condition  cylinders fuel  odometer  \\\n",
       "9    9200      2008.0        honda pilot  excellent        NaN  gas  147191.0   \n",
       "36  10499      2013.0       chrysler 300       good        NaN  gas   88042.0   \n",
       "37   7500      2005.0      toyota tacoma       good        NaN  gas  160000.0   \n",
       "59   5200      2006.0  toyota highlander       good        NaN  gas  186000.0   \n",
       "63  30000      1966.0       ford mustang  excellent        NaN  gas   51000.0   \n",
       "\n",
       "   transmission         type paint_color  is_4wd date_posted  days_listed  \n",
       "9     automatic          SUV        blue     1.0  2019-02-15           17  \n",
       "36    automatic        sedan         NaN     NaN  2018-05-05           22  \n",
       "37    automatic       pickup         NaN     NaN  2018-07-22           44  \n",
       "59    automatic          SUV       green     NaN  2018-12-20            2  \n",
       "63       manual  convertible         red     NaN  2019-01-23           17  "
      ],
      "text/html": [
       "<div>\n",
       "<style scoped>\n",
       "    .dataframe tbody tr th:only-of-type {\n",
       "        vertical-align: middle;\n",
       "    }\n",
       "\n",
       "    .dataframe tbody tr th {\n",
       "        vertical-align: top;\n",
       "    }\n",
       "\n",
       "    .dataframe thead th {\n",
       "        text-align: right;\n",
       "    }\n",
       "</style>\n",
       "<table border=\"1\" class=\"dataframe\">\n",
       "  <thead>\n",
       "    <tr style=\"text-align: right;\">\n",
       "      <th></th>\n",
       "      <th>price</th>\n",
       "      <th>model_year</th>\n",
       "      <th>model</th>\n",
       "      <th>condition</th>\n",
       "      <th>cylinders</th>\n",
       "      <th>fuel</th>\n",
       "      <th>odometer</th>\n",
       "      <th>transmission</th>\n",
       "      <th>type</th>\n",
       "      <th>paint_color</th>\n",
       "      <th>is_4wd</th>\n",
       "      <th>date_posted</th>\n",
       "      <th>days_listed</th>\n",
       "    </tr>\n",
       "  </thead>\n",
       "  <tbody>\n",
       "    <tr>\n",
       "      <td>9</td>\n",
       "      <td>9200</td>\n",
       "      <td>2008.0</td>\n",
       "      <td>honda pilot</td>\n",
       "      <td>excellent</td>\n",
       "      <td>NaN</td>\n",
       "      <td>gas</td>\n",
       "      <td>147191.0</td>\n",
       "      <td>automatic</td>\n",
       "      <td>SUV</td>\n",
       "      <td>blue</td>\n",
       "      <td>1.0</td>\n",
       "      <td>2019-02-15</td>\n",
       "      <td>17</td>\n",
       "    </tr>\n",
       "    <tr>\n",
       "      <td>36</td>\n",
       "      <td>10499</td>\n",
       "      <td>2013.0</td>\n",
       "      <td>chrysler 300</td>\n",
       "      <td>good</td>\n",
       "      <td>NaN</td>\n",
       "      <td>gas</td>\n",
       "      <td>88042.0</td>\n",
       "      <td>automatic</td>\n",
       "      <td>sedan</td>\n",
       "      <td>NaN</td>\n",
       "      <td>NaN</td>\n",
       "      <td>2018-05-05</td>\n",
       "      <td>22</td>\n",
       "    </tr>\n",
       "    <tr>\n",
       "      <td>37</td>\n",
       "      <td>7500</td>\n",
       "      <td>2005.0</td>\n",
       "      <td>toyota tacoma</td>\n",
       "      <td>good</td>\n",
       "      <td>NaN</td>\n",
       "      <td>gas</td>\n",
       "      <td>160000.0</td>\n",
       "      <td>automatic</td>\n",
       "      <td>pickup</td>\n",
       "      <td>NaN</td>\n",
       "      <td>NaN</td>\n",
       "      <td>2018-07-22</td>\n",
       "      <td>44</td>\n",
       "    </tr>\n",
       "    <tr>\n",
       "      <td>59</td>\n",
       "      <td>5200</td>\n",
       "      <td>2006.0</td>\n",
       "      <td>toyota highlander</td>\n",
       "      <td>good</td>\n",
       "      <td>NaN</td>\n",
       "      <td>gas</td>\n",
       "      <td>186000.0</td>\n",
       "      <td>automatic</td>\n",
       "      <td>SUV</td>\n",
       "      <td>green</td>\n",
       "      <td>NaN</td>\n",
       "      <td>2018-12-20</td>\n",
       "      <td>2</td>\n",
       "    </tr>\n",
       "    <tr>\n",
       "      <td>63</td>\n",
       "      <td>30000</td>\n",
       "      <td>1966.0</td>\n",
       "      <td>ford mustang</td>\n",
       "      <td>excellent</td>\n",
       "      <td>NaN</td>\n",
       "      <td>gas</td>\n",
       "      <td>51000.0</td>\n",
       "      <td>manual</td>\n",
       "      <td>convertible</td>\n",
       "      <td>red</td>\n",
       "      <td>NaN</td>\n",
       "      <td>2019-01-23</td>\n",
       "      <td>17</td>\n",
       "    </tr>\n",
       "  </tbody>\n",
       "</table>\n",
       "</div>"
      ]
     },
     "metadata": {},
     "execution_count": 5
    }
   ],
   "metadata": {}
  },
  {
   "cell_type": "code",
   "execution_count": 6,
   "source": [
    "df[df['odometer'].isna()].head()"
   ],
   "outputs": [
    {
     "output_type": "execute_result",
     "data": {
      "text/plain": [
       "    price  model_year             model  condition  cylinders fuel  odometer  \\\n",
       "3    1500      2003.0        ford f-150       fair        8.0  gas       NaN   \n",
       "15  17990      2013.0          ram 1500  excellent        8.0  gas       NaN   \n",
       "23   7500      2004.0     jeep wrangler       good        6.0  gas       NaN   \n",
       "24   3950      2009.0      chrysler 200  excellent        4.0  gas       NaN   \n",
       "25  11499      2017.0  chevrolet malibu   like new        4.0  gas       NaN   \n",
       "\n",
       "   transmission    type paint_color  is_4wd date_posted  days_listed  \n",
       "3     automatic  pickup         NaN     NaN  2019-03-22            9  \n",
       "15    automatic  pickup         red     1.0  2018-05-15          111  \n",
       "23    automatic     SUV         red     1.0  2018-05-17           39  \n",
       "24    automatic   sedan         red     NaN  2018-06-11           40  \n",
       "25    automatic   sedan         NaN     NaN  2018-07-26           43  "
      ],
      "text/html": [
       "<div>\n",
       "<style scoped>\n",
       "    .dataframe tbody tr th:only-of-type {\n",
       "        vertical-align: middle;\n",
       "    }\n",
       "\n",
       "    .dataframe tbody tr th {\n",
       "        vertical-align: top;\n",
       "    }\n",
       "\n",
       "    .dataframe thead th {\n",
       "        text-align: right;\n",
       "    }\n",
       "</style>\n",
       "<table border=\"1\" class=\"dataframe\">\n",
       "  <thead>\n",
       "    <tr style=\"text-align: right;\">\n",
       "      <th></th>\n",
       "      <th>price</th>\n",
       "      <th>model_year</th>\n",
       "      <th>model</th>\n",
       "      <th>condition</th>\n",
       "      <th>cylinders</th>\n",
       "      <th>fuel</th>\n",
       "      <th>odometer</th>\n",
       "      <th>transmission</th>\n",
       "      <th>type</th>\n",
       "      <th>paint_color</th>\n",
       "      <th>is_4wd</th>\n",
       "      <th>date_posted</th>\n",
       "      <th>days_listed</th>\n",
       "    </tr>\n",
       "  </thead>\n",
       "  <tbody>\n",
       "    <tr>\n",
       "      <td>3</td>\n",
       "      <td>1500</td>\n",
       "      <td>2003.0</td>\n",
       "      <td>ford f-150</td>\n",
       "      <td>fair</td>\n",
       "      <td>8.0</td>\n",
       "      <td>gas</td>\n",
       "      <td>NaN</td>\n",
       "      <td>automatic</td>\n",
       "      <td>pickup</td>\n",
       "      <td>NaN</td>\n",
       "      <td>NaN</td>\n",
       "      <td>2019-03-22</td>\n",
       "      <td>9</td>\n",
       "    </tr>\n",
       "    <tr>\n",
       "      <td>15</td>\n",
       "      <td>17990</td>\n",
       "      <td>2013.0</td>\n",
       "      <td>ram 1500</td>\n",
       "      <td>excellent</td>\n",
       "      <td>8.0</td>\n",
       "      <td>gas</td>\n",
       "      <td>NaN</td>\n",
       "      <td>automatic</td>\n",
       "      <td>pickup</td>\n",
       "      <td>red</td>\n",
       "      <td>1.0</td>\n",
       "      <td>2018-05-15</td>\n",
       "      <td>111</td>\n",
       "    </tr>\n",
       "    <tr>\n",
       "      <td>23</td>\n",
       "      <td>7500</td>\n",
       "      <td>2004.0</td>\n",
       "      <td>jeep wrangler</td>\n",
       "      <td>good</td>\n",
       "      <td>6.0</td>\n",
       "      <td>gas</td>\n",
       "      <td>NaN</td>\n",
       "      <td>automatic</td>\n",
       "      <td>SUV</td>\n",
       "      <td>red</td>\n",
       "      <td>1.0</td>\n",
       "      <td>2018-05-17</td>\n",
       "      <td>39</td>\n",
       "    </tr>\n",
       "    <tr>\n",
       "      <td>24</td>\n",
       "      <td>3950</td>\n",
       "      <td>2009.0</td>\n",
       "      <td>chrysler 200</td>\n",
       "      <td>excellent</td>\n",
       "      <td>4.0</td>\n",
       "      <td>gas</td>\n",
       "      <td>NaN</td>\n",
       "      <td>automatic</td>\n",
       "      <td>sedan</td>\n",
       "      <td>red</td>\n",
       "      <td>NaN</td>\n",
       "      <td>2018-06-11</td>\n",
       "      <td>40</td>\n",
       "    </tr>\n",
       "    <tr>\n",
       "      <td>25</td>\n",
       "      <td>11499</td>\n",
       "      <td>2017.0</td>\n",
       "      <td>chevrolet malibu</td>\n",
       "      <td>like new</td>\n",
       "      <td>4.0</td>\n",
       "      <td>gas</td>\n",
       "      <td>NaN</td>\n",
       "      <td>automatic</td>\n",
       "      <td>sedan</td>\n",
       "      <td>NaN</td>\n",
       "      <td>NaN</td>\n",
       "      <td>2018-07-26</td>\n",
       "      <td>43</td>\n",
       "    </tr>\n",
       "  </tbody>\n",
       "</table>\n",
       "</div>"
      ]
     },
     "metadata": {},
     "execution_count": 6
    }
   ],
   "metadata": {}
  },
  {
   "cell_type": "code",
   "execution_count": 7,
   "source": [
    "df[df['paint_color'].isna()].head()"
   ],
   "outputs": [
    {
     "output_type": "execute_result",
     "data": {
      "text/plain": [
       "    price  model_year        model  condition  cylinders fuel  odometer  \\\n",
       "0    9400      2011.0       bmw x5       good        6.0  gas  145000.0   \n",
       "3    1500      2003.0   ford f-150       fair        8.0  gas       NaN   \n",
       "8   11500      2012.0  kia sorento  excellent        4.0  gas  104174.0   \n",
       "12  18990      2012.0     ram 1500  excellent        8.0  gas  140742.0   \n",
       "21   5250      2007.0  toyota rav4       good        6.0  gas  154000.0   \n",
       "\n",
       "   transmission    type paint_color  is_4wd date_posted  days_listed  \n",
       "0     automatic     SUV         NaN     1.0  2018-06-23           19  \n",
       "3     automatic  pickup         NaN     NaN  2019-03-22            9  \n",
       "8     automatic     SUV         NaN     1.0  2018-07-16           19  \n",
       "12    automatic  pickup         NaN     1.0  2019-04-02           37  \n",
       "21    automatic     SUV         NaN     NaN  2018-08-22            8  "
      ],
      "text/html": [
       "<div>\n",
       "<style scoped>\n",
       "    .dataframe tbody tr th:only-of-type {\n",
       "        vertical-align: middle;\n",
       "    }\n",
       "\n",
       "    .dataframe tbody tr th {\n",
       "        vertical-align: top;\n",
       "    }\n",
       "\n",
       "    .dataframe thead th {\n",
       "        text-align: right;\n",
       "    }\n",
       "</style>\n",
       "<table border=\"1\" class=\"dataframe\">\n",
       "  <thead>\n",
       "    <tr style=\"text-align: right;\">\n",
       "      <th></th>\n",
       "      <th>price</th>\n",
       "      <th>model_year</th>\n",
       "      <th>model</th>\n",
       "      <th>condition</th>\n",
       "      <th>cylinders</th>\n",
       "      <th>fuel</th>\n",
       "      <th>odometer</th>\n",
       "      <th>transmission</th>\n",
       "      <th>type</th>\n",
       "      <th>paint_color</th>\n",
       "      <th>is_4wd</th>\n",
       "      <th>date_posted</th>\n",
       "      <th>days_listed</th>\n",
       "    </tr>\n",
       "  </thead>\n",
       "  <tbody>\n",
       "    <tr>\n",
       "      <td>0</td>\n",
       "      <td>9400</td>\n",
       "      <td>2011.0</td>\n",
       "      <td>bmw x5</td>\n",
       "      <td>good</td>\n",
       "      <td>6.0</td>\n",
       "      <td>gas</td>\n",
       "      <td>145000.0</td>\n",
       "      <td>automatic</td>\n",
       "      <td>SUV</td>\n",
       "      <td>NaN</td>\n",
       "      <td>1.0</td>\n",
       "      <td>2018-06-23</td>\n",
       "      <td>19</td>\n",
       "    </tr>\n",
       "    <tr>\n",
       "      <td>3</td>\n",
       "      <td>1500</td>\n",
       "      <td>2003.0</td>\n",
       "      <td>ford f-150</td>\n",
       "      <td>fair</td>\n",
       "      <td>8.0</td>\n",
       "      <td>gas</td>\n",
       "      <td>NaN</td>\n",
       "      <td>automatic</td>\n",
       "      <td>pickup</td>\n",
       "      <td>NaN</td>\n",
       "      <td>NaN</td>\n",
       "      <td>2019-03-22</td>\n",
       "      <td>9</td>\n",
       "    </tr>\n",
       "    <tr>\n",
       "      <td>8</td>\n",
       "      <td>11500</td>\n",
       "      <td>2012.0</td>\n",
       "      <td>kia sorento</td>\n",
       "      <td>excellent</td>\n",
       "      <td>4.0</td>\n",
       "      <td>gas</td>\n",
       "      <td>104174.0</td>\n",
       "      <td>automatic</td>\n",
       "      <td>SUV</td>\n",
       "      <td>NaN</td>\n",
       "      <td>1.0</td>\n",
       "      <td>2018-07-16</td>\n",
       "      <td>19</td>\n",
       "    </tr>\n",
       "    <tr>\n",
       "      <td>12</td>\n",
       "      <td>18990</td>\n",
       "      <td>2012.0</td>\n",
       "      <td>ram 1500</td>\n",
       "      <td>excellent</td>\n",
       "      <td>8.0</td>\n",
       "      <td>gas</td>\n",
       "      <td>140742.0</td>\n",
       "      <td>automatic</td>\n",
       "      <td>pickup</td>\n",
       "      <td>NaN</td>\n",
       "      <td>1.0</td>\n",
       "      <td>2019-04-02</td>\n",
       "      <td>37</td>\n",
       "    </tr>\n",
       "    <tr>\n",
       "      <td>21</td>\n",
       "      <td>5250</td>\n",
       "      <td>2007.0</td>\n",
       "      <td>toyota rav4</td>\n",
       "      <td>good</td>\n",
       "      <td>6.0</td>\n",
       "      <td>gas</td>\n",
       "      <td>154000.0</td>\n",
       "      <td>automatic</td>\n",
       "      <td>SUV</td>\n",
       "      <td>NaN</td>\n",
       "      <td>NaN</td>\n",
       "      <td>2018-08-22</td>\n",
       "      <td>8</td>\n",
       "    </tr>\n",
       "  </tbody>\n",
       "</table>\n",
       "</div>"
      ]
     },
     "metadata": {},
     "execution_count": 7
    }
   ],
   "metadata": {}
  },
  {
   "cell_type": "code",
   "execution_count": 8,
   "source": [
    "df[df['is_4wd'].isna()].head()"
   ],
   "outputs": [
    {
     "output_type": "execute_result",
     "data": {
      "text/plain": [
       "    price  model_year           model  condition  cylinders fuel  odometer  \\\n",
       "2    5500      2013.0  hyundai sonata   like new        4.0  gas  110000.0   \n",
       "3    1500      2003.0      ford f-150       fair        8.0  gas       NaN   \n",
       "4   14900      2017.0    chrysler 200  excellent        4.0  gas   80903.0   \n",
       "6   12990      2015.0    toyota camry  excellent        4.0  gas   79212.0   \n",
       "11   8990      2012.0    honda accord  excellent        4.0  gas  111142.0   \n",
       "\n",
       "   transmission    type paint_color  is_4wd date_posted  days_listed  \n",
       "2     automatic   sedan         red     NaN  2019-02-07           79  \n",
       "3     automatic  pickup         NaN     NaN  2019-03-22            9  \n",
       "4     automatic   sedan       black     NaN  2019-04-02           28  \n",
       "6     automatic   sedan       white     NaN  2018-12-27           73  \n",
       "11    automatic   sedan        grey     NaN  2019-03-28           29  "
      ],
      "text/html": [
       "<div>\n",
       "<style scoped>\n",
       "    .dataframe tbody tr th:only-of-type {\n",
       "        vertical-align: middle;\n",
       "    }\n",
       "\n",
       "    .dataframe tbody tr th {\n",
       "        vertical-align: top;\n",
       "    }\n",
       "\n",
       "    .dataframe thead th {\n",
       "        text-align: right;\n",
       "    }\n",
       "</style>\n",
       "<table border=\"1\" class=\"dataframe\">\n",
       "  <thead>\n",
       "    <tr style=\"text-align: right;\">\n",
       "      <th></th>\n",
       "      <th>price</th>\n",
       "      <th>model_year</th>\n",
       "      <th>model</th>\n",
       "      <th>condition</th>\n",
       "      <th>cylinders</th>\n",
       "      <th>fuel</th>\n",
       "      <th>odometer</th>\n",
       "      <th>transmission</th>\n",
       "      <th>type</th>\n",
       "      <th>paint_color</th>\n",
       "      <th>is_4wd</th>\n",
       "      <th>date_posted</th>\n",
       "      <th>days_listed</th>\n",
       "    </tr>\n",
       "  </thead>\n",
       "  <tbody>\n",
       "    <tr>\n",
       "      <td>2</td>\n",
       "      <td>5500</td>\n",
       "      <td>2013.0</td>\n",
       "      <td>hyundai sonata</td>\n",
       "      <td>like new</td>\n",
       "      <td>4.0</td>\n",
       "      <td>gas</td>\n",
       "      <td>110000.0</td>\n",
       "      <td>automatic</td>\n",
       "      <td>sedan</td>\n",
       "      <td>red</td>\n",
       "      <td>NaN</td>\n",
       "      <td>2019-02-07</td>\n",
       "      <td>79</td>\n",
       "    </tr>\n",
       "    <tr>\n",
       "      <td>3</td>\n",
       "      <td>1500</td>\n",
       "      <td>2003.0</td>\n",
       "      <td>ford f-150</td>\n",
       "      <td>fair</td>\n",
       "      <td>8.0</td>\n",
       "      <td>gas</td>\n",
       "      <td>NaN</td>\n",
       "      <td>automatic</td>\n",
       "      <td>pickup</td>\n",
       "      <td>NaN</td>\n",
       "      <td>NaN</td>\n",
       "      <td>2019-03-22</td>\n",
       "      <td>9</td>\n",
       "    </tr>\n",
       "    <tr>\n",
       "      <td>4</td>\n",
       "      <td>14900</td>\n",
       "      <td>2017.0</td>\n",
       "      <td>chrysler 200</td>\n",
       "      <td>excellent</td>\n",
       "      <td>4.0</td>\n",
       "      <td>gas</td>\n",
       "      <td>80903.0</td>\n",
       "      <td>automatic</td>\n",
       "      <td>sedan</td>\n",
       "      <td>black</td>\n",
       "      <td>NaN</td>\n",
       "      <td>2019-04-02</td>\n",
       "      <td>28</td>\n",
       "    </tr>\n",
       "    <tr>\n",
       "      <td>6</td>\n",
       "      <td>12990</td>\n",
       "      <td>2015.0</td>\n",
       "      <td>toyota camry</td>\n",
       "      <td>excellent</td>\n",
       "      <td>4.0</td>\n",
       "      <td>gas</td>\n",
       "      <td>79212.0</td>\n",
       "      <td>automatic</td>\n",
       "      <td>sedan</td>\n",
       "      <td>white</td>\n",
       "      <td>NaN</td>\n",
       "      <td>2018-12-27</td>\n",
       "      <td>73</td>\n",
       "    </tr>\n",
       "    <tr>\n",
       "      <td>11</td>\n",
       "      <td>8990</td>\n",
       "      <td>2012.0</td>\n",
       "      <td>honda accord</td>\n",
       "      <td>excellent</td>\n",
       "      <td>4.0</td>\n",
       "      <td>gas</td>\n",
       "      <td>111142.0</td>\n",
       "      <td>automatic</td>\n",
       "      <td>sedan</td>\n",
       "      <td>grey</td>\n",
       "      <td>NaN</td>\n",
       "      <td>2019-03-28</td>\n",
       "      <td>29</td>\n",
       "    </tr>\n",
       "  </tbody>\n",
       "</table>\n",
       "</div>"
      ]
     },
     "metadata": {},
     "execution_count": 8
    }
   ],
   "metadata": {}
  },
  {
   "cell_type": "markdown",
   "source": [
    "#### Results\n"
   ],
   "metadata": {}
  },
  {
   "cell_type": "markdown",
   "source": [
    "Our conclusions about the general aspects of the table:\n",
    "\n",
    "There are no duplicates.\n",
    "\n",
    "There is no clear reason why data is missing for each of the columns. Except for the column 'is_4wd', the rest of the missing values seem to be missing completely at random and could have been caused by bugs, or information just wasn't added when listing the ads. This should be checked with the corresponding department.\n",
    "\n",
    "Here are the actions to take:\n",
    "\n",
    "- Missing data on 'model_year' will be deleted.\n",
    "- 'cylinders' will be filled based on available information.\n",
    "- 'odometer' will be filled in with median/mean depending on outliers.\n",
    "- 'is_4wd' will be filled in with 0, since it is missing False values.\n",
    "\n",
    "Data types must be changed as follows:\n",
    "\n",
    "- 'model_year', 'cylinders', 'odometer' will be turned into int.\n",
    "- 'is_4wd' will be cast as Boolean.\n",
    "- 'date_posted' will become datetime."
   ],
   "metadata": {}
  },
  {
   "cell_type": "markdown",
   "source": [
    "### Checking categorical Data"
   ],
   "metadata": {}
  },
  {
   "cell_type": "markdown",
   "source": [
    "#### Explanation"
   ],
   "metadata": {}
  },
  {
   "cell_type": "markdown",
   "source": [
    "\n",
    "It is important to look into the values of categorical data in order to verify categories are not repeated or mispelled. Unique values should be verified and fixed, if necessary. Along that, sometimes data could be more useful using dictionaries for numerical values. Reference tables are interesting because they can quickly be changed according to new labels requirements. In some cases, the numerical values are useful for analysis and plotting. The cols we should look into include: 'model', 'condition', 'fuel', 'transmission', 'type' and 'paint_color'."
   ],
   "metadata": {}
  },
  {
   "cell_type": "markdown",
   "source": [
    "#### Code"
   ],
   "metadata": {}
  },
  {
   "cell_type": "code",
   "execution_count": 9,
   "source": [
    "cat_cols = ['cylinders', 'condition', 'fuel', 'transmission', 'type', 'paint_color', 'is_4wd']\n",
    "for col in cat_cols:\n",
    "    print(f\"Unique values in column '{str(col)}': {df[col].unique()}\\n\\n\")"
   ],
   "outputs": [
    {
     "output_type": "stream",
     "name": "stdout",
     "text": [
      "Unique values in column 'cylinders': [ 6.  4.  8. nan  5. 10.  3. 12.]\n",
      "\n",
      "\n",
      "Unique values in column 'condition': ['good' 'like new' 'fair' 'excellent' 'salvage' 'new']\n",
      "\n",
      "\n",
      "Unique values in column 'fuel': ['gas' 'diesel' 'other' 'hybrid' 'electric']\n",
      "\n",
      "\n",
      "Unique values in column 'transmission': ['automatic' 'manual' 'other']\n",
      "\n",
      "\n",
      "Unique values in column 'type': ['SUV' 'pickup' 'sedan' 'truck' 'coupe' 'van' 'convertible' 'hatchback'\n",
      " 'wagon' 'mini-van' 'other' 'offroad' 'bus']\n",
      "\n",
      "\n",
      "Unique values in column 'paint_color': [nan 'white' 'red' 'black' 'blue' 'grey' 'silver' 'custom' 'orange'\n",
      " 'yellow' 'brown' 'green' 'purple']\n",
      "\n",
      "\n",
      "Unique values in column 'is_4wd': [ 1. nan]\n",
      "\n",
      "\n"
     ]
    }
   ],
   "metadata": {}
  },
  {
   "cell_type": "markdown",
   "source": [
    "#### Results\n"
   ],
   "metadata": {}
  },
  {
   "cell_type": "markdown",
   "source": [
    "\n",
    "In general, categorical data looks good. Only a couples things must be done: 'condition' could use a dictionary and numerical reference; 'is_4wd' apparently uses null values for False."
   ],
   "metadata": {}
  },
  {
   "cell_type": "markdown",
   "source": [
    "### Checking Numerical Data"
   ],
   "metadata": {}
  },
  {
   "cell_type": "markdown",
   "source": [
    "#### Explanation"
   ],
   "metadata": {}
  },
  {
   "cell_type": "markdown",
   "source": [
    "\n",
    "Here we will quickly go over the description of numerical columns to check if there are values too far off the expected values. We use some indexes such as average value, median, count and frequency of values to "
   ],
   "metadata": {}
  },
  {
   "cell_type": "markdown",
   "source": [
    "#### Code"
   ],
   "metadata": {}
  },
  {
   "cell_type": "code",
   "execution_count": 10,
   "source": [
    "num_cols = ['price', 'model_year', 'odometer', 'days_listed']\n",
    "df[num_cols].describe()"
   ],
   "outputs": [
    {
     "output_type": "execute_result",
     "data": {
      "text/plain": [
       "               price    model_year       odometer  days_listed\n",
       "count   51525.000000  47906.000000   43633.000000  51525.00000\n",
       "mean    12132.464920   2009.750470  115553.461738     39.55476\n",
       "std     10040.803015      6.282065   65094.611341     28.20427\n",
       "min         1.000000   1908.000000       0.000000      0.00000\n",
       "25%      5000.000000   2006.000000   70000.000000     19.00000\n",
       "50%      9000.000000   2011.000000  113000.000000     33.00000\n",
       "75%     16839.000000   2014.000000  155000.000000     53.00000\n",
       "max    375000.000000   2019.000000  990000.000000    271.00000"
      ],
      "text/html": [
       "<div>\n",
       "<style scoped>\n",
       "    .dataframe tbody tr th:only-of-type {\n",
       "        vertical-align: middle;\n",
       "    }\n",
       "\n",
       "    .dataframe tbody tr th {\n",
       "        vertical-align: top;\n",
       "    }\n",
       "\n",
       "    .dataframe thead th {\n",
       "        text-align: right;\n",
       "    }\n",
       "</style>\n",
       "<table border=\"1\" class=\"dataframe\">\n",
       "  <thead>\n",
       "    <tr style=\"text-align: right;\">\n",
       "      <th></th>\n",
       "      <th>price</th>\n",
       "      <th>model_year</th>\n",
       "      <th>odometer</th>\n",
       "      <th>days_listed</th>\n",
       "    </tr>\n",
       "  </thead>\n",
       "  <tbody>\n",
       "    <tr>\n",
       "      <td>count</td>\n",
       "      <td>51525.000000</td>\n",
       "      <td>47906.000000</td>\n",
       "      <td>43633.000000</td>\n",
       "      <td>51525.00000</td>\n",
       "    </tr>\n",
       "    <tr>\n",
       "      <td>mean</td>\n",
       "      <td>12132.464920</td>\n",
       "      <td>2009.750470</td>\n",
       "      <td>115553.461738</td>\n",
       "      <td>39.55476</td>\n",
       "    </tr>\n",
       "    <tr>\n",
       "      <td>std</td>\n",
       "      <td>10040.803015</td>\n",
       "      <td>6.282065</td>\n",
       "      <td>65094.611341</td>\n",
       "      <td>28.20427</td>\n",
       "    </tr>\n",
       "    <tr>\n",
       "      <td>min</td>\n",
       "      <td>1.000000</td>\n",
       "      <td>1908.000000</td>\n",
       "      <td>0.000000</td>\n",
       "      <td>0.00000</td>\n",
       "    </tr>\n",
       "    <tr>\n",
       "      <td>25%</td>\n",
       "      <td>5000.000000</td>\n",
       "      <td>2006.000000</td>\n",
       "      <td>70000.000000</td>\n",
       "      <td>19.00000</td>\n",
       "    </tr>\n",
       "    <tr>\n",
       "      <td>50%</td>\n",
       "      <td>9000.000000</td>\n",
       "      <td>2011.000000</td>\n",
       "      <td>113000.000000</td>\n",
       "      <td>33.00000</td>\n",
       "    </tr>\n",
       "    <tr>\n",
       "      <td>75%</td>\n",
       "      <td>16839.000000</td>\n",
       "      <td>2014.000000</td>\n",
       "      <td>155000.000000</td>\n",
       "      <td>53.00000</td>\n",
       "    </tr>\n",
       "    <tr>\n",
       "      <td>max</td>\n",
       "      <td>375000.000000</td>\n",
       "      <td>2019.000000</td>\n",
       "      <td>990000.000000</td>\n",
       "      <td>271.00000</td>\n",
       "    </tr>\n",
       "  </tbody>\n",
       "</table>\n",
       "</div>"
      ]
     },
     "metadata": {},
     "execution_count": 10
    }
   ],
   "metadata": {}
  },
  {
   "cell_type": "markdown",
   "source": [
    "#### Results"
   ],
   "metadata": {}
  },
  {
   "cell_type": "markdown",
   "source": [
    "Although most of the data looks reasonable, we can see the minimum value for price is 1, and that must be looked into. However, there doesn't seem to have too many outliers for any of the columns."
   ],
   "metadata": {}
  },
  {
   "cell_type": "markdown",
   "source": [
    "### Checking String Data\n"
   ],
   "metadata": {}
  },
  {
   "cell_type": "markdown",
   "source": [
    "#### Explanation"
   ],
   "metadata": {}
  },
  {
   "cell_type": "markdown",
   "source": [
    "Here we will take a look at information such as dates and models of cars. This information can have a lot of unique entries, and we can check it in order to get an overview of these columns."
   ],
   "metadata": {}
  },
  {
   "cell_type": "markdown",
   "source": [
    "#### Code"
   ],
   "metadata": {}
  },
  {
   "cell_type": "code",
   "execution_count": 11,
   "source": [
    "str_cols = ['date_posted', 'model']\r\n",
    "\r\n",
    "for col in str_cols:\r\n",
    "    print(sorted(df[col].unique()[1:100]), '\\n')"
   ],
   "outputs": [
    {
     "output_type": "stream",
     "name": "stdout",
     "text": [
      "['2018-05-02', '2018-05-03', '2018-05-05', '2018-05-06', '2018-05-09', '2018-05-11', '2018-05-15', '2018-05-16', '2018-05-17', '2018-05-19', '2018-05-27', '2018-05-29', '2018-06-01', '2018-06-02', '2018-06-04', '2018-06-08', '2018-06-11', '2018-06-16', '2018-06-20', '2018-06-30', '2018-07-01', '2018-07-08', '2018-07-12', '2018-07-15', '2018-07-16', '2018-07-19', '2018-07-20', '2018-07-22', '2018-07-24', '2018-07-26', '2018-07-27', '2018-08-05', '2018-08-07', '2018-08-16', '2018-08-22', '2018-08-25', '2018-09-08', '2018-09-10', '2018-09-13', '2018-09-15', '2018-09-17', '2018-09-20', '2018-09-22', '2018-09-23', '2018-09-25', '2018-10-09', '2018-10-13', '2018-10-18', '2018-10-19', '2018-10-22', '2018-10-25', '2018-10-26', '2018-10-28', '2018-10-30', '2018-11-07', '2018-11-08', '2018-11-12', '2018-11-18', '2018-11-26', '2018-11-27', '2018-11-29', '2018-12-14', '2018-12-20', '2018-12-24', '2018-12-25', '2018-12-27', '2018-12-30', '2019-01-05', '2019-01-07', '2019-01-12', '2019-01-13', '2019-01-14', '2019-01-15', '2019-01-16', '2019-01-23', '2019-01-30', '2019-01-31', '2019-02-07', '2019-02-15', '2019-02-16', '2019-02-18', '2019-02-19', '2019-02-20', '2019-02-27', '2019-02-28', '2019-03-03', '2019-03-04', '2019-03-08', '2019-03-10', '2019-03-11', '2019-03-13', '2019-03-14', '2019-03-22', '2019-03-28', '2019-03-29', '2019-03-31', '2019-04-02', '2019-04-09', '2019-04-18'] \n",
      "\n",
      "['acura tl', 'buick enclave', 'cadillac escalade', 'chevrolet camaro', 'chevrolet camaro lt coupe 2d', 'chevrolet colorado', 'chevrolet corvette', 'chevrolet cruze', 'chevrolet equinox', 'chevrolet impala', 'chevrolet malibu', 'chevrolet silverado', 'chevrolet silverado 1500', 'chevrolet silverado 1500 crew', 'chevrolet silverado 2500hd', 'chevrolet silverado 3500hd', 'chevrolet suburban', 'chevrolet tahoe', 'chevrolet trailblazer', 'chevrolet traverse', 'chrysler 200', 'chrysler 300', 'chrysler town & country', 'dodge charger', 'dodge dakota', 'dodge grand caravan', 'ford econoline', 'ford edge', 'ford escape', 'ford expedition', 'ford explorer', 'ford f-150', 'ford f-250', 'ford f-250 sd', 'ford f-250 super duty', 'ford f-350 sd', 'ford f150', 'ford f150 supercrew cab xlt', 'ford f250', 'ford f250 super duty', 'ford f350', 'ford f350 super duty', 'ford focus', 'ford focus se', 'ford fusion', 'ford fusion se', 'ford mustang', 'ford mustang gt coupe 2d', 'ford ranger', 'ford taurus', 'gmc acadia', 'gmc sierra', 'gmc sierra 1500', 'gmc sierra 2500hd', 'gmc yukon', 'honda accord', 'honda civic', 'honda civic lx', 'honda cr-v', 'honda odyssey', 'honda pilot', 'hyundai elantra', 'hyundai santa fe', 'hyundai sonata', 'jeep cherokee', 'jeep grand cherokee', 'jeep grand cherokee laredo', 'jeep liberty', 'jeep wrangler', 'jeep wrangler unlimited', 'kia sorento', 'kia soul', 'mercedes-benz benze sprinter 2500', 'nissan altima', 'nissan frontier', 'nissan frontier crew cab sv', 'nissan maxima', 'nissan murano', 'nissan rogue', 'nissan sentra', 'nissan versa', 'ram 1500', 'ram 2500', 'ram 3500', 'subaru forester', 'subaru impreza', 'subaru outback', 'toyota 4runner', 'toyota camry', 'toyota camry le', 'toyota corolla', 'toyota highlander', 'toyota prius', 'toyota rav4', 'toyota sienna', 'toyota tacoma', 'toyota tundra', 'volkswagen jetta', 'volkswagen passat'] \n",
      "\n"
     ]
    }
   ],
   "metadata": {}
  },
  {
   "cell_type": "markdown",
   "source": [
    "#### Results"
   ],
   "metadata": {}
  },
  {
   "cell_type": "markdown",
   "source": [
    "The data for dates will be turned into 'datetime' in order to be analyzed. The format is YYYY-mm-dd."
   ],
   "metadata": {}
  },
  {
   "cell_type": "markdown",
   "source": [
    "### Conclusion"
   ],
   "metadata": {}
  },
  {
   "cell_type": "markdown",
   "source": [
    "The outline of data has been drawn. An initial guess of the most prominent columns are car type, number of cylinders, model year and mileage. A thorough study could be done using car models, but that can be used as a last resort.\n",
    "\n",
    "Problems outlined:\n",
    "- Some prices are too low.\n",
    "- Data is missing in some columns: model_year, is_4wd, cylinders, odometer\n",
    "- Some data types must be corrected: is_4wd into 'bool', numeric data into 'int' and dates into 'datetime'\n"
   ],
   "metadata": {}
  },
  {
   "cell_type": "markdown",
   "source": [
    "## *Data preprocessing*"
   ],
   "metadata": {}
  },
  {
   "cell_type": "markdown",
   "source": [
    "### Objective"
   ],
   "metadata": {}
  },
  {
   "cell_type": "markdown",
   "source": [
    "In this stage, issues found when validating the data will be fixed. This step is strictly necessary to achieve results, as applying functions to data containing wrong values could generate many errors and additional efforts."
   ],
   "metadata": {}
  },
  {
   "cell_type": "markdown",
   "source": [
    "### Filling in missing values"
   ],
   "metadata": {}
  },
  {
   "cell_type": "markdown",
   "source": [
    "#### Explanation"
   ],
   "metadata": {}
  },
  {
   "cell_type": "markdown",
   "source": [
    "\n",
    "At this point, missing values in colums will be filled in and corrected, according to the conclusions drawn from checking the data. The percentage of missing values in model year was only 7%, and that information is quite important, so the corresponding entries will be deleted. As for number of cylinders, that can be partially recovered from the car models, and this effort could prove useful later. Odometer will be filled in with mean or median values, while is_4wd has a straight up solution of filling with False.\n",
    "\n"
   ],
   "metadata": {}
  },
  {
   "cell_type": "markdown",
   "source": [
    "#### Code"
   ],
   "metadata": {}
  },
  {
   "cell_type": "code",
   "execution_count": 12,
   "source": [
    "print(f\"Initial number of rows: {df.shape[0]}\")\r\n",
    "df = df[ df['model_year'].notna()]\r\n",
    "print(f\"Number of rows after deleting on 'model_year': {df.shape[0]}\")"
   ],
   "outputs": [
    {
     "output_type": "stream",
     "name": "stdout",
     "text": [
      "Initial number of rows: 51525\n",
      "Number of rows after deleting on 'model_year': 47906\n"
     ]
    }
   ],
   "metadata": {}
  },
  {
   "cell_type": "code",
   "execution_count": 13,
   "source": [
    "groupby_cyl = df.query(\"cylinders.notna()\").groupby('model')['cylinders']\r\n",
    "\r\n",
    "cyl_comb_val = groupby_cyl.value_counts()\r\n",
    "cyl_comb_val.head() "
   ],
   "outputs": [
    {
     "output_type": "execute_result",
     "data": {
      "text/plain": [
       "model          cylinders\n",
       "acura tl       6.0          197\n",
       "               4.0            3\n",
       "bmw x5         6.0          186\n",
       "               8.0           45\n",
       "buick enclave  6.0          232\n",
       "Name: cylinders, dtype: int64"
      ]
     },
     "metadata": {},
     "execution_count": 13
    }
   ],
   "metadata": {}
  },
  {
   "cell_type": "markdown",
   "source": [
    "Since there are multiple cylinder quantity categories for each car model, we will fill in with the modes calculated per car model. In order to do that we can check the impact of this decision on the overall data."
   ],
   "metadata": {}
  },
  {
   "cell_type": "code",
   "execution_count": 14,
   "source": [
    "cyl_cat_len = groupby_cyl.unique().map(len)\r\n",
    "cyl_cat_len.name = 'cylinder categories count'\r\n",
    "cyl_na_count = (\r\n",
    "    df.query(\"cylinders.isna()\")\r\n",
    "        .fillna('na')\r\n",
    "            .groupby('model')['cylinders']\r\n",
    "                .count()\r\n",
    ")\r\n",
    "cyl_na_count.name = 'null count'\r\n",
    "\r\n",
    "cyl = pd.concat([cyl_cat_len, cyl_na_count], axis=1)\r\n",
    "cyl['non null count'] = cyl_comb_val.groupby(level=0).sum()\r\n",
    "cyl['total count'] = cyl['non null count'] + cyl['null count']\r\n",
    "cyl['% null values'] = cyl['null count']/cyl['total count']\r\n",
    "cyl['highest count per category'] = (cyl_comb_val.unstack().max(axis=1))\r\n",
    "cyl['% of most frequent cylinder category'] = cyl['highest count per category']/cyl['total count']\r\n",
    "cyl.drop(\r\n",
    "    ['null count', 'non null count', 'total count', 'highest count per category'],\r\n",
    "     axis=1\r\n",
    "     ).sort_values('% null values', ascending=False).head()"
   ],
   "outputs": [
    {
     "output_type": "execute_result",
     "data": {
      "text/plain": [
       "                            cylinder categories count  % null values  \\\n",
       "model                                                                  \n",
       "jeep grand cherokee laredo                          3       0.142857   \n",
       "nissan murano                                       3       0.139535   \n",
       "subaru impreza                                      2       0.139130   \n",
       "kia soul                                            1       0.130435   \n",
       "ford focus                                          4       0.125874   \n",
       "\n",
       "                            % of most frequent cylinder category  \n",
       "model                                                             \n",
       "jeep grand cherokee laredo                              0.670996  \n",
       "nissan murano                                           0.800000  \n",
       "subaru impreza                                          0.856522  \n",
       "kia soul                                                0.869565  \n",
       "ford focus                                              0.853147  "
      ],
      "text/html": [
       "<div>\n",
       "<style scoped>\n",
       "    .dataframe tbody tr th:only-of-type {\n",
       "        vertical-align: middle;\n",
       "    }\n",
       "\n",
       "    .dataframe tbody tr th {\n",
       "        vertical-align: top;\n",
       "    }\n",
       "\n",
       "    .dataframe thead th {\n",
       "        text-align: right;\n",
       "    }\n",
       "</style>\n",
       "<table border=\"1\" class=\"dataframe\">\n",
       "  <thead>\n",
       "    <tr style=\"text-align: right;\">\n",
       "      <th></th>\n",
       "      <th>cylinder categories count</th>\n",
       "      <th>% null values</th>\n",
       "      <th>% of most frequent cylinder category</th>\n",
       "    </tr>\n",
       "    <tr>\n",
       "      <th>model</th>\n",
       "      <th></th>\n",
       "      <th></th>\n",
       "      <th></th>\n",
       "    </tr>\n",
       "  </thead>\n",
       "  <tbody>\n",
       "    <tr>\n",
       "      <td>jeep grand cherokee laredo</td>\n",
       "      <td>3</td>\n",
       "      <td>0.142857</td>\n",
       "      <td>0.670996</td>\n",
       "    </tr>\n",
       "    <tr>\n",
       "      <td>nissan murano</td>\n",
       "      <td>3</td>\n",
       "      <td>0.139535</td>\n",
       "      <td>0.800000</td>\n",
       "    </tr>\n",
       "    <tr>\n",
       "      <td>subaru impreza</td>\n",
       "      <td>2</td>\n",
       "      <td>0.139130</td>\n",
       "      <td>0.856522</td>\n",
       "    </tr>\n",
       "    <tr>\n",
       "      <td>kia soul</td>\n",
       "      <td>1</td>\n",
       "      <td>0.130435</td>\n",
       "      <td>0.869565</td>\n",
       "    </tr>\n",
       "    <tr>\n",
       "      <td>ford focus</td>\n",
       "      <td>4</td>\n",
       "      <td>0.125874</td>\n",
       "      <td>0.853147</td>\n",
       "    </tr>\n",
       "  </tbody>\n",
       "</table>\n",
       "</div>"
      ]
     },
     "metadata": {},
     "execution_count": 14
    }
   ],
   "metadata": {}
  },
  {
   "cell_type": "markdown",
   "source": [
    "After filling in the number of cylinders using the mode per car model, the percentage of null values will be summed to the most frequent cylinder categories. The highest impact will be increasing the percentage in 14% of the total data. That doesn't seem like a big change, we can check the histograms before and after to confirm that."
   ],
   "metadata": {}
  },
  {
   "cell_type": "code",
   "execution_count": 15,
   "source": [
    "plt.figure()\n",
    "plt.hist(df['cylinders'], bins=50)\n",
    "\n",
    "cyl_fill_ref = cyl_comb_val.unstack().idxmax(axis=1)\n",
    "cyl_fill_ref.name = 'cylinders'\n",
    "cyl_na = df['cylinders'].isna()\n",
    "\n",
    "df.loc[cyl_na, 'cylinders'] = (\n",
    "    df[cyl_na].apply(\n",
    "        lambda x: cyl_fill_ref[x['model']], \n",
    "        axis=1\n",
    "    )\n",
    ")\n",
    "plt.hist(df['cylinders'], bins=50, zorder=-1)\n",
    "plt.title('Histogram of cylinders after filling')\n",
    "plt.legend(['Before', 'After'])\n",
    "plt.xlabel('Cylinders')\n",
    "plt.ylabel('Frequency')\n",
    "plt.show()"
   ],
   "outputs": [
    {
     "output_type": "display_data",
     "data": {
      "text/plain": [
       "<Figure size 432x288 with 1 Axes>"
      ],
      "image/png": "[encoded data removed]"
     },
     "metadata": {
      "needs_background": "light"
     }
    }
   ],
   "metadata": {}
  },
  {
   "cell_type": "markdown",
   "source": [
    "In this graph we can see the effects of filling in cylinder values. The values have been filled in a proportion similar to what we already had in the histogram. Therefore, we can conclude the strategy used for filling was satisfatory."
   ],
   "metadata": {}
  },
  {
   "cell_type": "code",
   "execution_count": 16,
   "source": [
    "df.boxplot('odometer')\n",
    "plt.title('Boxplot of odometer')\n",
    "plt.ylabel('Value')\n",
    "plt.show()"
   ],
   "outputs": [
    {
     "output_type": "display_data",
     "data": {
      "text/plain": [
       "<Figure size 432x288 with 1 Axes>"
      ],
      "image/png": "[encoded data removed]"
     },
     "metadata": {
      "needs_background": "light"
     }
    }
   ],
   "metadata": {}
  },
  {
   "cell_type": "markdown",
   "source": [
    "As we can see from the boxplot of the mileage of vehicles, the third quartile, which is the max value that comprises 75% of the data, stands at the top of the box on 155000 and the upper whiskers mark the threshold of what we will consider as outliers. By looking at this graph, we can quickly check where this threshold is located and have an initial guess at whether the missing values will be filled in with the mean or the median. For this data set, we will use the mean after confirming the percentage of outliers is small."
   ],
   "metadata": {}
  },
  {
   "cell_type": "code",
   "execution_count": 17,
   "source": [
    "print(f\"Percentage of outliers: {df[ df['odometer'] > 250000]['odometer'].count()/df.shape[0]:.3%}\")\n",
    "print(f\"Values will be filled with the mean {df['odometer'].mean():.0f}\")"
   ],
   "outputs": [
    {
     "output_type": "stream",
     "name": "stdout",
     "text": [
      "Percentage of outliers: 2.019%\n",
      "Values will be filled with the mean 115425\n"
     ]
    }
   ],
   "metadata": {}
  },
  {
   "cell_type": "code",
   "execution_count": 18,
   "source": [
    "df['odometer'].fillna(int(df['odometer'].mean()), inplace=True)"
   ],
   "outputs": [],
   "metadata": {}
  },
  {
   "cell_type": "code",
   "execution_count": 19,
   "source": [
    "df['paint_color'].fillna('unknown', inplace=True)"
   ],
   "outputs": [],
   "metadata": {}
  },
  {
   "cell_type": "code",
   "execution_count": 20,
   "source": [
    "df['is_4wd'].fillna(0, inplace=True)"
   ],
   "outputs": [],
   "metadata": {}
  },
  {
   "cell_type": "code",
   "execution_count": 21,
   "source": [
    "na_pct = (df.isna().sum()/df.shape[0])\n",
    "na_pct = na_pct[na_pct != 0]\n",
    "if na_pct.empty:\n",
    "    print('There are no missing values.')\n",
    "else:\n",
    "    rint(f\"Rows with missing values: \\n{na_pct}\")\n"
   ],
   "outputs": [
    {
     "output_type": "stream",
     "name": "stdout",
     "text": [
      "There are no missing values.\n"
     ]
    }
   ],
   "metadata": {}
  },
  {
   "cell_type": "markdown",
   "source": [
    "#### Results\n",
    "Missing variables have been deleted or filled in correctly. The impact of filling in cylinders has been calculated using a histogram, a graph that allows visualization of frequency of values in a column. Another graph has been used to analyze outliers in mileage. Odometer has been filled considering the impacts of outliers, and a boxplot shows exactly the entries out of the quartile ranges."
   ],
   "metadata": {}
  },
  {
   "cell_type": "markdown",
   "source": [
    "### Correcting data types"
   ],
   "metadata": {}
  },
  {
   "cell_type": "markdown",
   "source": [
    "#### Explanation"
   ],
   "metadata": {}
  },
  {
   "cell_type": "markdown",
   "source": [
    "The code must be able to correctly identify the type of data for the entries, such as what is text, what is numeric or what represents time. This information about the type of data is strictly necessary to correctly analyze using graphics and functions. Numbers with float point will be changed into integers for better visualization, times displayed as text will be transformed into time objects and information of True/False will be turned into boolean."
   ],
   "metadata": {}
  },
  {
   "cell_type": "markdown",
   "source": [
    "#### Code"
   ],
   "metadata": {}
  },
  {
   "cell_type": "code",
   "execution_count": 22,
   "source": [
    "df[['model_year', 'cylinders', 'odometer']] = df[['model_year', 'cylinders', 'odometer']].astype('int64', errors='raise')"
   ],
   "outputs": [],
   "metadata": {}
  },
  {
   "cell_type": "code",
   "execution_count": 23,
   "source": [
    "df['is_4wd'] = df['is_4wd'].astype(bool)"
   ],
   "outputs": [],
   "metadata": {}
  },
  {
   "cell_type": "code",
   "execution_count": 24,
   "source": [
    "df['date_posted'] = pd.to_datetime(df['date_posted'], format='%Y-%m-%d')"
   ],
   "outputs": [],
   "metadata": {}
  },
  {
   "cell_type": "code",
   "execution_count": 25,
   "source": [
    "df[['model_year', 'cylinders', 'odometer', 'is_4wd', 'date_posted']].dtypes"
   ],
   "outputs": [
    {
     "output_type": "execute_result",
     "data": {
      "text/plain": [
       "model_year              int64\n",
       "cylinders               int64\n",
       "odometer                int64\n",
       "is_4wd                   bool\n",
       "date_posted    datetime64[ns]\n",
       "dtype: object"
      ]
     },
     "metadata": {},
     "execution_count": 25
    }
   ],
   "metadata": {}
  },
  {
   "cell_type": "markdown",
   "source": [
    "#### Results\n"
   ],
   "metadata": {}
  },
  {
   "cell_type": "markdown",
   "source": [
    "Now the data for date posted can be acessed and used for calculations on time in a much easier way. Additionally, visualizing integers instead of float point numbers is much easier on the eyes."
   ],
   "metadata": {}
  },
  {
   "cell_type": "markdown",
   "source": [
    "### Dictionaries"
   ],
   "metadata": {}
  },
  {
   "cell_type": "markdown",
   "source": [
    "#### Explanation"
   ],
   "metadata": {}
  },
  {
   "cell_type": "markdown",
   "source": [
    "Creating dictionaries is useful for a handful of reasons. Using numbered IDs helps with security of the data, it can also help with numeric methods in cases were categories describe quality, and it makes it much easier to change the text displayed for each category. In this case, the 'condition' col will be turned into numeric and have a reference table to access the condition as text."
   ],
   "metadata": {}
  },
  {
   "cell_type": "markdown",
   "source": [
    "#### Code"
   ],
   "metadata": {}
  },
  {
   "cell_type": "code",
   "execution_count": 26,
   "source": [
    "cond_unique = df['condition'].unique()\n",
    "cond_unique"
   ],
   "outputs": [
    {
     "output_type": "execute_result",
     "data": {
      "text/plain": [
       "array(['good', 'like new', 'fair', 'excellent', 'salvage', 'new'],\n",
       "      dtype=object)"
      ]
     },
     "metadata": {},
     "execution_count": 26
    }
   ],
   "metadata": {}
  },
  {
   "cell_type": "code",
   "execution_count": 27,
   "source": [
    "cond_list = [2, 4, 1, 3, 0, 5]\n",
    "\n",
    "cond_df = []\n",
    "for cond_id, condition in zip(cond_list, cond_unique):\n",
    "    cond_df.append(\n",
    "        {\n",
    "            'condition': cond_id,\n",
    "            'condition_text': condition\n",
    "        }\n",
    "    )\n",
    "\n",
    "condition_ref = pd.DataFrame(cond_df).sort_values('condition')\n",
    "\n",
    "condition_ref"
   ],
   "outputs": [
    {
     "output_type": "execute_result",
     "data": {
      "text/plain": [
       "   condition condition_text\n",
       "4          0        salvage\n",
       "2          1           fair\n",
       "0          2           good\n",
       "3          3      excellent\n",
       "1          4       like new\n",
       "5          5            new"
      ],
      "text/html": [
       "<div>\n",
       "<style scoped>\n",
       "    .dataframe tbody tr th:only-of-type {\n",
       "        vertical-align: middle;\n",
       "    }\n",
       "\n",
       "    .dataframe tbody tr th {\n",
       "        vertical-align: top;\n",
       "    }\n",
       "\n",
       "    .dataframe thead th {\n",
       "        text-align: right;\n",
       "    }\n",
       "</style>\n",
       "<table border=\"1\" class=\"dataframe\">\n",
       "  <thead>\n",
       "    <tr style=\"text-align: right;\">\n",
       "      <th></th>\n",
       "      <th>condition</th>\n",
       "      <th>condition_text</th>\n",
       "    </tr>\n",
       "  </thead>\n",
       "  <tbody>\n",
       "    <tr>\n",
       "      <td>4</td>\n",
       "      <td>0</td>\n",
       "      <td>salvage</td>\n",
       "    </tr>\n",
       "    <tr>\n",
       "      <td>2</td>\n",
       "      <td>1</td>\n",
       "      <td>fair</td>\n",
       "    </tr>\n",
       "    <tr>\n",
       "      <td>0</td>\n",
       "      <td>2</td>\n",
       "      <td>good</td>\n",
       "    </tr>\n",
       "    <tr>\n",
       "      <td>3</td>\n",
       "      <td>3</td>\n",
       "      <td>excellent</td>\n",
       "    </tr>\n",
       "    <tr>\n",
       "      <td>1</td>\n",
       "      <td>4</td>\n",
       "      <td>like new</td>\n",
       "    </tr>\n",
       "    <tr>\n",
       "      <td>5</td>\n",
       "      <td>5</td>\n",
       "      <td>new</td>\n",
       "    </tr>\n",
       "  </tbody>\n",
       "</table>\n",
       "</div>"
      ]
     },
     "metadata": {},
     "execution_count": 27
    }
   ],
   "metadata": {}
  },
  {
   "cell_type": "code",
   "execution_count": 28,
   "source": [
    "df['condition'].replace(cond_unique, cond_list, inplace=True)\n",
    "df['condition'].unique()"
   ],
   "outputs": [
    {
     "output_type": "execute_result",
     "data": {
      "text/plain": [
       "array([2, 4, 1, 3, 0, 5])"
      ]
     },
     "metadata": {},
     "execution_count": 28
    }
   ],
   "metadata": {}
  },
  {
   "cell_type": "markdown",
   "source": [
    "#### Results"
   ],
   "metadata": {}
  },
  {
   "cell_type": "markdown",
   "source": [
    "For the 'condition' column, data has been categorized in a scale from 0 to 5, describing condition from salvage to new. This will allow numeric methods to be applied over the column. A reference table has been created to get the text information back when necessary, stored in the variable <code>condition_ref</code>"
   ],
   "metadata": {}
  },
  {
   "cell_type": "markdown",
   "source": [
    "### Calculation"
   ],
   "metadata": {}
  },
  {
   "cell_type": "markdown",
   "source": [
    "#### Explanation"
   ],
   "metadata": {}
  },
  {
   "cell_type": "markdown",
   "source": [
    "At this point, calculations to create new columns based on available data will be made to obtain useful information, such as weekdays for dates, or percentages, or average values. In some cases, this information is much more detailed and straightfoward than the raw data. A good example is the calculation of vehicle ages, which will be done using the difference between car model and the date of posting the ad."
   ],
   "metadata": {}
  },
  {
   "cell_type": "markdown",
   "source": [
    "#### Code"
   ],
   "metadata": {}
  },
  {
   "cell_type": "code",
   "execution_count": 29,
   "source": [
    "\n",
    "df['weekday'] = df['date_posted'].apply(lambda x: x.weekday())\n",
    "df['weekday_name'] = df['date_posted'].apply(lambda x: x.day_name())\n",
    "df['day'] = df['date_posted'].apply(lambda x: x.day)\n",
    "df['month'] = df['date_posted'].apply(lambda x: x.month)\n",
    "df['year'] = df['date_posted'].apply(lambda x: x.year)\n"
   ],
   "outputs": [],
   "metadata": {}
  },
  {
   "cell_type": "code",
   "execution_count": 30,
   "source": [
    "df['vehicle_age'] = df['year'] - df['model_year']\n",
    "df['vehicle_age']"
   ],
   "outputs": [
    {
     "output_type": "execute_result",
     "data": {
      "text/plain": [
       "0         7\n",
       "2         6\n",
       "3        16\n",
       "4         2\n",
       "5         4\n",
       "         ..\n",
       "51520     5\n",
       "51521    16\n",
       "51522     9\n",
       "51523     5\n",
       "51524     4\n",
       "Name: vehicle_age, Length: 47906, dtype: int64"
      ]
     },
     "metadata": {},
     "execution_count": 30
    }
   ],
   "metadata": {}
  },
  {
   "cell_type": "code",
   "execution_count": 31,
   "source": [
    "df['mileage_year'] = df['odometer']/df['vehicle_age'].replace(0, 1)"
   ],
   "outputs": [],
   "metadata": {}
  },
  {
   "cell_type": "code",
   "execution_count": 32,
   "source": [
    "df.head()"
   ],
   "outputs": [
    {
     "output_type": "execute_result",
     "data": {
      "text/plain": [
       "   price  model_year           model  condition  cylinders fuel  odometer  \\\n",
       "0   9400        2011          bmw x5          2          6  gas    145000   \n",
       "2   5500        2013  hyundai sonata          4          4  gas    110000   \n",
       "3   1500        2003      ford f-150          1          8  gas    115425   \n",
       "4  14900        2017    chrysler 200          3          4  gas     80903   \n",
       "5  14990        2014    chrysler 300          3          6  gas     57954   \n",
       "\n",
       "  transmission    type paint_color  is_4wd date_posted  days_listed  weekday  \\\n",
       "0    automatic     SUV     unknown    True  2018-06-23           19        5   \n",
       "2    automatic   sedan         red   False  2019-02-07           79        3   \n",
       "3    automatic  pickup     unknown   False  2019-03-22            9        4   \n",
       "4    automatic   sedan       black   False  2019-04-02           28        1   \n",
       "5    automatic   sedan       black    True  2018-06-20           15        2   \n",
       "\n",
       "  weekday_name  day  month  year  vehicle_age  mileage_year  \n",
       "0     Saturday   23      6  2018            7  20714.285714  \n",
       "2     Thursday    7      2  2019            6  18333.333333  \n",
       "3       Friday   22      3  2019           16   7214.062500  \n",
       "4      Tuesday    2      4  2019            2  40451.500000  \n",
       "5    Wednesday   20      6  2018            4  14488.500000  "
      ],
      "text/html": [
       "<div>\n",
       "<style scoped>\n",
       "    .dataframe tbody tr th:only-of-type {\n",
       "        vertical-align: middle;\n",
       "    }\n",
       "\n",
       "    .dataframe tbody tr th {\n",
       "        vertical-align: top;\n",
       "    }\n",
       "\n",
       "    .dataframe thead th {\n",
       "        text-align: right;\n",
       "    }\n",
       "</style>\n",
       "<table border=\"1\" class=\"dataframe\">\n",
       "  <thead>\n",
       "    <tr style=\"text-align: right;\">\n",
       "      <th></th>\n",
       "      <th>price</th>\n",
       "      <th>model_year</th>\n",
       "      <th>model</th>\n",
       "      <th>condition</th>\n",
       "      <th>cylinders</th>\n",
       "      <th>fuel</th>\n",
       "      <th>odometer</th>\n",
       "      <th>transmission</th>\n",
       "      <th>type</th>\n",
       "      <th>paint_color</th>\n",
       "      <th>is_4wd</th>\n",
       "      <th>date_posted</th>\n",
       "      <th>days_listed</th>\n",
       "      <th>weekday</th>\n",
       "      <th>weekday_name</th>\n",
       "      <th>day</th>\n",
       "      <th>month</th>\n",
       "      <th>year</th>\n",
       "      <th>vehicle_age</th>\n",
       "      <th>mileage_year</th>\n",
       "    </tr>\n",
       "  </thead>\n",
       "  <tbody>\n",
       "    <tr>\n",
       "      <td>0</td>\n",
       "      <td>9400</td>\n",
       "      <td>2011</td>\n",
       "      <td>bmw x5</td>\n",
       "      <td>2</td>\n",
       "      <td>6</td>\n",
       "      <td>gas</td>\n",
       "      <td>145000</td>\n",
       "      <td>automatic</td>\n",
       "      <td>SUV</td>\n",
       "      <td>unknown</td>\n",
       "      <td>True</td>\n",
       "      <td>2018-06-23</td>\n",
       "      <td>19</td>\n",
       "      <td>5</td>\n",
       "      <td>Saturday</td>\n",
       "      <td>23</td>\n",
       "      <td>6</td>\n",
       "      <td>2018</td>\n",
       "      <td>7</td>\n",
       "      <td>20714.285714</td>\n",
       "    </tr>\n",
       "    <tr>\n",
       "      <td>2</td>\n",
       "      <td>5500</td>\n",
       "      <td>2013</td>\n",
       "      <td>hyundai sonata</td>\n",
       "      <td>4</td>\n",
       "      <td>4</td>\n",
       "      <td>gas</td>\n",
       "      <td>110000</td>\n",
       "      <td>automatic</td>\n",
       "      <td>sedan</td>\n",
       "      <td>red</td>\n",
       "      <td>False</td>\n",
       "      <td>2019-02-07</td>\n",
       "      <td>79</td>\n",
       "      <td>3</td>\n",
       "      <td>Thursday</td>\n",
       "      <td>7</td>\n",
       "      <td>2</td>\n",
       "      <td>2019</td>\n",
       "      <td>6</td>\n",
       "      <td>18333.333333</td>\n",
       "    </tr>\n",
       "    <tr>\n",
       "      <td>3</td>\n",
       "      <td>1500</td>\n",
       "      <td>2003</td>\n",
       "      <td>ford f-150</td>\n",
       "      <td>1</td>\n",
       "      <td>8</td>\n",
       "      <td>gas</td>\n",
       "      <td>115425</td>\n",
       "      <td>automatic</td>\n",
       "      <td>pickup</td>\n",
       "      <td>unknown</td>\n",
       "      <td>False</td>\n",
       "      <td>2019-03-22</td>\n",
       "      <td>9</td>\n",
       "      <td>4</td>\n",
       "      <td>Friday</td>\n",
       "      <td>22</td>\n",
       "      <td>3</td>\n",
       "      <td>2019</td>\n",
       "      <td>16</td>\n",
       "      <td>7214.062500</td>\n",
       "    </tr>\n",
       "    <tr>\n",
       "      <td>4</td>\n",
       "      <td>14900</td>\n",
       "      <td>2017</td>\n",
       "      <td>chrysler 200</td>\n",
       "      <td>3</td>\n",
       "      <td>4</td>\n",
       "      <td>gas</td>\n",
       "      <td>80903</td>\n",
       "      <td>automatic</td>\n",
       "      <td>sedan</td>\n",
       "      <td>black</td>\n",
       "      <td>False</td>\n",
       "      <td>2019-04-02</td>\n",
       "      <td>28</td>\n",
       "      <td>1</td>\n",
       "      <td>Tuesday</td>\n",
       "      <td>2</td>\n",
       "      <td>4</td>\n",
       "      <td>2019</td>\n",
       "      <td>2</td>\n",
       "      <td>40451.500000</td>\n",
       "    </tr>\n",
       "    <tr>\n",
       "      <td>5</td>\n",
       "      <td>14990</td>\n",
       "      <td>2014</td>\n",
       "      <td>chrysler 300</td>\n",
       "      <td>3</td>\n",
       "      <td>6</td>\n",
       "      <td>gas</td>\n",
       "      <td>57954</td>\n",
       "      <td>automatic</td>\n",
       "      <td>sedan</td>\n",
       "      <td>black</td>\n",
       "      <td>True</td>\n",
       "      <td>2018-06-20</td>\n",
       "      <td>15</td>\n",
       "      <td>2</td>\n",
       "      <td>Wednesday</td>\n",
       "      <td>20</td>\n",
       "      <td>6</td>\n",
       "      <td>2018</td>\n",
       "      <td>4</td>\n",
       "      <td>14488.500000</td>\n",
       "    </tr>\n",
       "  </tbody>\n",
       "</table>\n",
       "</div>"
      ]
     },
     "metadata": {},
     "execution_count": 32
    }
   ],
   "metadata": {
    "scrolled": true
   }
  },
  {
   "cell_type": "markdown",
   "source": [
    "#### Results"
   ],
   "metadata": {}
  },
  {
   "cell_type": "markdown",
   "source": [
    "A few columns have added:\n",
    "    \n",
    "- Weekday when the add was posted.\n",
    "- Day of the month when the ad was posted.\n",
    "- Month when the add was posted.\n",
    "- Year when the add was posted.\n",
    "- Vehicle age, subtracting model year from the day it was listed\n",
    "- Mileage per year, dividing total mileage by the car age"
   ],
   "metadata": {}
  },
  {
   "cell_type": "markdown",
   "source": [
    "### Conclusion\n",
    "\n",
    "Many things were done in this section. First, all issues found during data validation have been found, except unusual values that will be looked into during analysis. Missing values and data types have been corrected, and new columns created. These columns include specific values about the date the car was posted, the vehicle age by subtracting model year from the year it was posted and average mileage per year. This will help with analysis in the next section."
   ],
   "metadata": {}
  },
  {
   "cell_type": "markdown",
   "source": [
    "## *Analysis*"
   ],
   "metadata": {}
  },
  {
   "cell_type": "markdown",
   "source": [
    "### Objective"
   ],
   "metadata": {}
  },
  {
   "cell_type": "markdown",
   "source": [
    "In this section, we will dive into the data and do our Exploratory Data Analysis. Here we will find useful information to draw conclusions and answer questions related to how the price of a car is defined based on its characteristics."
   ],
   "metadata": {}
  },
  {
   "cell_type": "markdown",
   "source": [
    "### Filtering Data"
   ],
   "metadata": {}
  },
  {
   "cell_type": "markdown",
   "source": [
    "#### Explanation"
   ],
   "metadata": {}
  },
  {
   "cell_type": "markdown",
   "source": [
    "Data are prone to contain wrong information. That could be related to technical issues, or maybe just to seasonal events. For instance, technical problems, offers, specials cases such as donations could have happened during data acquisition, causing wrong information to show up in our table. For instance, the prices col had ads listed at price 1, and that doesn't seem reasonable. We will filter out using limits for data and exclude outliers, so that we can continue our analysis with filtered data. In order to do that, we will use histograms and boxplots again. These are useful when looking out for outliers."
   ],
   "metadata": {}
  },
  {
   "cell_type": "markdown",
   "source": [
    "#### Code"
   ],
   "metadata": {}
  },
  {
   "cell_type": "code",
   "execution_count": 33,
   "source": [
    "parameters = ['price', 'vehicle_age', 'odometer', 'cylinders', 'condition', 'mileage_year']\n",
    "\n",
    "df[parameters].describe()"
   ],
   "outputs": [
    {
     "output_type": "execute_result",
     "data": {
      "text/plain": [
       "               price   vehicle_age       odometer     cylinders     condition  \\\n",
       "count   47906.000000  47906.000000   47906.000000  47906.000000  47906.000000   \n",
       "mean    12160.465203      8.556966  115425.376028      6.123012      2.638605   \n",
       "std     10082.453773      6.295266   60013.469811      1.657062      0.711839   \n",
       "min         1.000000      0.000000       0.000000      3.000000      0.000000   \n",
       "25%      5000.000000      4.000000   79000.000000      4.000000      2.000000   \n",
       "50%      9000.000000      7.000000  115425.000000      6.000000      3.000000   \n",
       "75%     16900.000000     12.000000  146327.000000      8.000000      3.000000   \n",
       "max    375000.000000    110.000000  990000.000000     12.000000      5.000000   \n",
       "\n",
       "        mileage_year  \n",
       "count   47906.000000  \n",
       "mean    19453.381169  \n",
       "std     17534.750561  \n",
       "min         0.000000  \n",
       "25%     10493.181818  \n",
       "50%     15077.727273  \n",
       "75%     22428.571429  \n",
       "max    373200.000000  "
      ],
      "text/html": [
       "<div>\n",
       "<style scoped>\n",
       "    .dataframe tbody tr th:only-of-type {\n",
       "        vertical-align: middle;\n",
       "    }\n",
       "\n",
       "    .dataframe tbody tr th {\n",
       "        vertical-align: top;\n",
       "    }\n",
       "\n",
       "    .dataframe thead th {\n",
       "        text-align: right;\n",
       "    }\n",
       "</style>\n",
       "<table border=\"1\" class=\"dataframe\">\n",
       "  <thead>\n",
       "    <tr style=\"text-align: right;\">\n",
       "      <th></th>\n",
       "      <th>price</th>\n",
       "      <th>vehicle_age</th>\n",
       "      <th>odometer</th>\n",
       "      <th>cylinders</th>\n",
       "      <th>condition</th>\n",
       "      <th>mileage_year</th>\n",
       "    </tr>\n",
       "  </thead>\n",
       "  <tbody>\n",
       "    <tr>\n",
       "      <td>count</td>\n",
       "      <td>47906.000000</td>\n",
       "      <td>47906.000000</td>\n",
       "      <td>47906.000000</td>\n",
       "      <td>47906.000000</td>\n",
       "      <td>47906.000000</td>\n",
       "      <td>47906.000000</td>\n",
       "    </tr>\n",
       "    <tr>\n",
       "      <td>mean</td>\n",
       "      <td>12160.465203</td>\n",
       "      <td>8.556966</td>\n",
       "      <td>115425.376028</td>\n",
       "      <td>6.123012</td>\n",
       "      <td>2.638605</td>\n",
       "      <td>19453.381169</td>\n",
       "    </tr>\n",
       "    <tr>\n",
       "      <td>std</td>\n",
       "      <td>10082.453773</td>\n",
       "      <td>6.295266</td>\n",
       "      <td>60013.469811</td>\n",
       "      <td>1.657062</td>\n",
       "      <td>0.711839</td>\n",
       "      <td>17534.750561</td>\n",
       "    </tr>\n",
       "    <tr>\n",
       "      <td>min</td>\n",
       "      <td>1.000000</td>\n",
       "      <td>0.000000</td>\n",
       "      <td>0.000000</td>\n",
       "      <td>3.000000</td>\n",
       "      <td>0.000000</td>\n",
       "      <td>0.000000</td>\n",
       "    </tr>\n",
       "    <tr>\n",
       "      <td>25%</td>\n",
       "      <td>5000.000000</td>\n",
       "      <td>4.000000</td>\n",
       "      <td>79000.000000</td>\n",
       "      <td>4.000000</td>\n",
       "      <td>2.000000</td>\n",
       "      <td>10493.181818</td>\n",
       "    </tr>\n",
       "    <tr>\n",
       "      <td>50%</td>\n",
       "      <td>9000.000000</td>\n",
       "      <td>7.000000</td>\n",
       "      <td>115425.000000</td>\n",
       "      <td>6.000000</td>\n",
       "      <td>3.000000</td>\n",
       "      <td>15077.727273</td>\n",
       "    </tr>\n",
       "    <tr>\n",
       "      <td>75%</td>\n",
       "      <td>16900.000000</td>\n",
       "      <td>12.000000</td>\n",
       "      <td>146327.000000</td>\n",
       "      <td>8.000000</td>\n",
       "      <td>3.000000</td>\n",
       "      <td>22428.571429</td>\n",
       "    </tr>\n",
       "    <tr>\n",
       "      <td>max</td>\n",
       "      <td>375000.000000</td>\n",
       "      <td>110.000000</td>\n",
       "      <td>990000.000000</td>\n",
       "      <td>12.000000</td>\n",
       "      <td>5.000000</td>\n",
       "      <td>373200.000000</td>\n",
       "    </tr>\n",
       "  </tbody>\n",
       "</table>\n",
       "</div>"
      ]
     },
     "metadata": {},
     "execution_count": 33
    }
   ],
   "metadata": {}
  },
  {
   "cell_type": "code",
   "execution_count": 34,
   "source": [
    "def draw_hist(df, parameters, bin_val):\n",
    "    for col in parameters:\n",
    "        plt.figure(figsize=(10,4))\n",
    "        plt.hist(df[col], bins=bin_val)\n",
    "        plt.title(f'Histogram of {col}')\n",
    "        plt.xlabel(col.capitalize())\n",
    "        plt.ylabel('Frequency')\n",
    "        plt.show()\n",
    "\n",
    "plt.show()\n",
    "\n",
    "draw_hist(df, parameters, 100)"
   ],
   "outputs": [
    {
     "output_type": "display_data",
     "data": {
      "text/plain": [
       "<Figure size 720x288 with 1 Axes>"
      ],
      "image/png": "[encoded data removed]"
     },
     "metadata": {
      "needs_background": "light"
     }
    },
    {
     "output_type": "display_data",
     "data": {
      "text/plain": [
       "<Figure size 720x288 with 1 Axes>"
      ],
      "image/png": "[encoded data removed]"
     },
     "metadata": {
      "needs_background": "light"
     }
    },
    {
     "output_type": "display_data",
     "data": {
      "text/plain": [
       "<Figure size 720x288 with 1 Axes>"
      ],
      "image/png": "[encoded data removed]"
     },
     "metadata": {
      "needs_background": "light"
     }
    },
    {
     "output_type": "display_data",
     "data": {
      "text/plain": [
       "<Figure size 720x288 with 1 Axes>"
      ],
      "image/png": "[encoded data removed]"
     },
     "metadata": {
      "needs_background": "light"
     }
    },
    {
     "output_type": "display_data",
     "data": {
      "text/plain": [
       "<Figure size 720x288 with 1 Axes>"
      ],
      "image/png": "[encoded data removed]"
     },
     "metadata": {
      "needs_background": "light"
     }
    },
    {
     "output_type": "display_data",
     "data": {
      "text/plain": [
       "<Figure size 720x288 with 1 Axes>"
      ],
      "image/png": "[encoded data removed]"
     },
     "metadata": {
      "needs_background": "light"
     }
    }
   ],
   "metadata": {}
  },
  {
   "cell_type": "markdown",
   "source": [
    "All histograms seem to follow the expected shape: peaks around the median value and descending as values increase or decrease away from the peak center. The histograms of price, odometer, vehicle age and mileage per year show that this data could be filtered to get better estimates when working with the dataset. As for cylinders and condition, we can see that most data revolve around good to excellent condition and in 4, 6 and 8 cylinders. We won't filter the data based on these last two characteristics because that could compromise the representativity of some car types."
   ],
   "metadata": {}
  },
  {
   "cell_type": "code",
   "execution_count": 35,
   "source": [
    "box_param = ['price', 'mileage_year']\n",
    "\n",
    "for col in box_param:\n",
    "    df.boxplot(col)\n",
    "    plt.title(f\"Boxplot of {col}\")\n",
    "    plt.ylabel('Value')\n",
    "    plt.show()"
   ],
   "outputs": [
    {
     "output_type": "display_data",
     "data": {
      "text/plain": [
       "<Figure size 432x288 with 1 Axes>"
      ],
      "image/png": "[encoded data removed]"
     },
     "metadata": {
      "needs_background": "light"
     }
    },
    {
     "output_type": "display_data",
     "data": {
      "text/plain": [
       "<Figure size 432x288 with 1 Axes>"
      ],
      "image/png": "[encoded data removed]"
     },
     "metadata": {
      "needs_background": "light"
     }
    }
   ],
   "metadata": {}
  },
  {
   "cell_type": "markdown",
   "source": [
    "The graphs above show that price and mileage have samples far away from the median and mean, going past the whiskers, which can be used as a reference threshold for outliers. Filtering the dataset past outliers should give us better estimates of mean and median when analyzing characteristics."
   ],
   "metadata": {}
  },
  {
   "cell_type": "code",
   "execution_count": 36,
   "source": [
    "filt_df = df.query(\"1000 <= price <= 50000 and vehicle_age <= 25 and mileage_year <= 50000 and odometer <= 300000\")\n",
    "filt_df = filt_df.reset_index(drop=True)\n",
    "\n",
    "print('Number of rows:')\n",
    "print(f\"Unfiltered data: {df.shape[0]}\")\n",
    "print(f\"Filtered data: {filt_df.shape[0]}\")"
   ],
   "outputs": [
    {
     "output_type": "stream",
     "name": "stdout",
     "text": [
      "Number of rows:\n",
      "Unfiltered data: 47906\n",
      "Filtered data: 43510\n"
     ]
    }
   ],
   "metadata": {}
  },
  {
   "cell_type": "code",
   "execution_count": 37,
   "source": [
    "draw_hist(filt_df, parameters, 40)"
   ],
   "outputs": [
    {
     "output_type": "display_data",
     "data": {
      "text/plain": [
       "<Figure size 720x288 with 1 Axes>"
      ],
      "image/png": "[encoded data removed]"
     },
     "metadata": {
      "needs_background": "light"
     }
    },
    {
     "output_type": "display_data",
     "data": {
      "text/plain": [
       "<Figure size 720x288 with 1 Axes>"
      ],
      "image/png": "[encoded data removed]"
     },
     "metadata": {
      "needs_background": "light"
     }
    },
    {
     "output_type": "display_data",
     "data": {
      "text/plain": [
       "<Figure size 720x288 with 1 Axes>"
      ],
      "image/png": "[encoded data removed]"
     },
     "metadata": {
      "needs_background": "light"
     }
    },
    {
     "output_type": "display_data",
     "data": {
      "text/plain": [
       "<Figure size 720x288 with 1 Axes>"
      ],
      "image/png": "[encoded data removed]"
     },
     "metadata": {
      "needs_background": "light"
     }
    },
    {
     "output_type": "display_data",
     "data": {
      "text/plain": [
       "<Figure size 720x288 with 1 Axes>"
      ],
      "image/png": "[encoded data removed]"
     },
     "metadata": {
      "needs_background": "light"
     }
    },
    {
     "output_type": "display_data",
     "data": {
      "text/plain": [
       "<Figure size 720x288 with 1 Axes>"
      ],
      "image/png": "[encoded data removed]"
     },
     "metadata": {
      "needs_background": "light"
     }
    }
   ],
   "metadata": {}
  },
  {
   "cell_type": "markdown",
   "source": [
    "Now the histograms are more focused on the important values!"
   ],
   "metadata": {}
  },
  {
   "cell_type": "markdown",
   "source": [
    "#### Results"
   ],
   "metadata": {}
  },
  {
   "cell_type": "markdown",
   "source": [
    "The analyzed cols include:\n",
    "\n",
    "    - price\n",
    "    - vehicle_age\n",
    "    - odometer\n",
    "    - number of cylinders\n",
    "    - condition\n",
    "    - mileage per year\n",
    "\n",
    "For each of these cols, the description (<code>.describe()</code>) and the histograms were created. Some prices have been considered unreasonably low, and were filtered out to get better results, considering the lower limit as 1000 dolalrs. Similarly, entries with high values for price (>50,000), vehicle age (>30) and mileage per year(>100,000) have been drawn out. The impact of filtering these entries on car types and models has been measured using a histogram for car type and percentage per car model, and it isn't significant. After filtering the data, the histograms look much better. After filtering the data, histograms look much more concise and meaningful. They all keep the aspect of a normal gaussian distribution."
   ],
   "metadata": {}
  },
  {
   "cell_type": "markdown",
   "source": [
    "### Analyzing early and late sales"
   ],
   "metadata": {}
  },
  {
   "cell_type": "markdown",
   "source": [
    "#### Explanation\n",
    "\n",
    "After filtering data, we can start answering questions. What makes an add sell early, and what makes it sell late? We will look for patterns using histograms."
   ],
   "metadata": {}
  },
  {
   "cell_type": "markdown",
   "source": [
    "#### Code"
   ],
   "metadata": {}
  },
  {
   "cell_type": "code",
   "execution_count": 38,
   "source": [
    "print(filt_df['days_listed'].describe())\n",
    "\n",
    "filt_df['days_listed'].hist(bins=50)\n",
    "plt.title('Histogram of days listed')\n",
    "plt.xlabel('Days listed')\n",
    "plt.ylabel('Frequency')\n",
    "plt.show()\n",
    "\n",
    "filt_df.boxplot('days_listed')\n",
    "plt.title('Boxplot of days listed')\n",
    "plt.ylabel('Values')\n",
    "plt.show()\n"
   ],
   "outputs": [
    {
     "output_type": "stream",
     "name": "stdout",
     "text": [
      "count    43510.000000\n",
      "mean        39.598805\n",
      "std         28.231087\n",
      "min          0.000000\n",
      "25%         19.000000\n",
      "50%         33.000000\n",
      "75%         53.000000\n",
      "max        271.000000\n",
      "Name: days_listed, dtype: float64\n"
     ]
    },
    {
     "output_type": "display_data",
     "data": {
      "text/plain": [
       "<Figure size 432x288 with 1 Axes>"
      ],
      "image/png": "[encoded data removed]"
     },
     "metadata": {
      "needs_background": "light"
     }
    },
    {
     "output_type": "display_data",
     "data": {
      "text/plain": [
       "<Figure size 432x288 with 1 Axes>"
      ],
      "image/png": "[encoded data removed]"
     },
     "metadata": {
      "needs_background": "light"
     }
    }
   ],
   "metadata": {
    "scrolled": false
   }
  },
  {
   "cell_type": "markdown",
   "source": [
    "This histogram of the days listed for ads show that the average lifetime is around 1 month, and most of them won't go past 100 days. This can be proved by the position of whiskers in the boxplot. We should dive deeper to check what patterns can we find out for ads that are removed early or late."
   ],
   "metadata": {}
  },
  {
   "cell_type": "code",
   "execution_count": 39,
   "source": [
    "def median_mean(df_query, name):\n",
    "     return df_query.aggregate(['median', 'mean'], axis=0).T.add_suffix(name)"
   ],
   "outputs": [],
   "metadata": {}
  },
  {
   "cell_type": "code",
   "execution_count": 40,
   "source": [
    "def categorize_days_listed(row):\n",
    "    if row['days_listed'] <= 3:\n",
    "        return 'earlier'\n",
    "    elif row['days_listed'] <= 10:\n",
    "        return 'early'\n",
    "    elif row['days_listed'] <= 90:\n",
    "        return 'average'\n",
    "    elif row['days_listed'] > 90:\n",
    "        return 'late'\n",
    "        \n",
    "filt_df['listed_time'] = filt_df.apply(categorize_days_listed, axis=1)"
   ],
   "outputs": [],
   "metadata": {}
  },
  {
   "cell_type": "code",
   "execution_count": 41,
   "source": [
    "filt_df.pivot_table(columns='listed_time', aggfunc=['median', 'mean'])"
   ],
   "outputs": [
    {
     "output_type": "execute_result",
     "data": {
      "text/plain": [
       "              median                                     mean                 \\\n",
       "listed_time  average  earlier   early     late        average        earlier   \n",
       "condition          3        3       3        3       2.627549       2.671642   \n",
       "cylinders          6        6       6        6       6.090406       6.089552   \n",
       "day               15       16      15       15      15.441859      15.839891   \n",
       "days_listed       35        2       8      107      38.602632       2.151967   \n",
       "is_4wd         False     True   False    False       0.492873       0.521031   \n",
       "mileage_year   14648  15277.8   14600  15058.2   16578.586675   16985.191028   \n",
       "model_year      2011     2011    2011     2010    2009.735581    2009.972863   \n",
       "month              7        7       7        7       6.589803       6.814111   \n",
       "odometer      115425   115425  115425   115425  115487.013322  115890.769335   \n",
       "price           9000     9900    8995     8999   11911.902961   12064.744912   \n",
       "vehicle_age        8        7       8        8       8.578509       8.325645   \n",
       "weekday            3        3       3        3       3.003043       2.868385   \n",
       "year            2018     2018    2018     2018    2018.314090    2018.298507   \n",
       "\n",
       "                                            \n",
       "listed_time           early           late  \n",
       "condition          2.632535       2.649559  \n",
       "cylinders          6.083706       6.063352  \n",
       "day               15.493814      15.444667  \n",
       "days_listed        7.369044     114.329992  \n",
       "is_4wd             0.480916       0.495188  \n",
       "mileage_year   16554.300690   16877.697015  \n",
       "model_year      2009.718347    2009.820770  \n",
       "month              6.569360       6.566159  \n",
       "odometer      115612.320874  116152.750200  \n",
       "price          11787.737563   11762.929431  \n",
       "vehicle_age        8.593314       8.498797  \n",
       "weekday            2.970519       3.015638  \n",
       "year            2018.311661    2018.319567  "
      ],
      "text/html": [
       "<div>\n",
       "<style scoped>\n",
       "    .dataframe tbody tr th:only-of-type {\n",
       "        vertical-align: middle;\n",
       "    }\n",
       "\n",
       "    .dataframe tbody tr th {\n",
       "        vertical-align: top;\n",
       "    }\n",
       "\n",
       "    .dataframe thead tr th {\n",
       "        text-align: left;\n",
       "    }\n",
       "</style>\n",
       "<table border=\"1\" class=\"dataframe\">\n",
       "  <thead>\n",
       "    <tr>\n",
       "      <th></th>\n",
       "      <th colspan=\"4\" halign=\"left\">median</th>\n",
       "      <th colspan=\"4\" halign=\"left\">mean</th>\n",
       "    </tr>\n",
       "    <tr>\n",
       "      <th>listed_time</th>\n",
       "      <th>average</th>\n",
       "      <th>earlier</th>\n",
       "      <th>early</th>\n",
       "      <th>late</th>\n",
       "      <th>average</th>\n",
       "      <th>earlier</th>\n",
       "      <th>early</th>\n",
       "      <th>late</th>\n",
       "    </tr>\n",
       "  </thead>\n",
       "  <tbody>\n",
       "    <tr>\n",
       "      <td>condition</td>\n",
       "      <td>3</td>\n",
       "      <td>3</td>\n",
       "      <td>3</td>\n",
       "      <td>3</td>\n",
       "      <td>2.627549</td>\n",
       "      <td>2.671642</td>\n",
       "      <td>2.632535</td>\n",
       "      <td>2.649559</td>\n",
       "    </tr>\n",
       "    <tr>\n",
       "      <td>cylinders</td>\n",
       "      <td>6</td>\n",
       "      <td>6</td>\n",
       "      <td>6</td>\n",
       "      <td>6</td>\n",
       "      <td>6.090406</td>\n",
       "      <td>6.089552</td>\n",
       "      <td>6.083706</td>\n",
       "      <td>6.063352</td>\n",
       "    </tr>\n",
       "    <tr>\n",
       "      <td>day</td>\n",
       "      <td>15</td>\n",
       "      <td>16</td>\n",
       "      <td>15</td>\n",
       "      <td>15</td>\n",
       "      <td>15.441859</td>\n",
       "      <td>15.839891</td>\n",
       "      <td>15.493814</td>\n",
       "      <td>15.444667</td>\n",
       "    </tr>\n",
       "    <tr>\n",
       "      <td>days_listed</td>\n",
       "      <td>35</td>\n",
       "      <td>2</td>\n",
       "      <td>8</td>\n",
       "      <td>107</td>\n",
       "      <td>38.602632</td>\n",
       "      <td>2.151967</td>\n",
       "      <td>7.369044</td>\n",
       "      <td>114.329992</td>\n",
       "    </tr>\n",
       "    <tr>\n",
       "      <td>is_4wd</td>\n",
       "      <td>False</td>\n",
       "      <td>True</td>\n",
       "      <td>False</td>\n",
       "      <td>False</td>\n",
       "      <td>0.492873</td>\n",
       "      <td>0.521031</td>\n",
       "      <td>0.480916</td>\n",
       "      <td>0.495188</td>\n",
       "    </tr>\n",
       "    <tr>\n",
       "      <td>mileage_year</td>\n",
       "      <td>14648</td>\n",
       "      <td>15277.8</td>\n",
       "      <td>14600</td>\n",
       "      <td>15058.2</td>\n",
       "      <td>16578.586675</td>\n",
       "      <td>16985.191028</td>\n",
       "      <td>16554.300690</td>\n",
       "      <td>16877.697015</td>\n",
       "    </tr>\n",
       "    <tr>\n",
       "      <td>model_year</td>\n",
       "      <td>2011</td>\n",
       "      <td>2011</td>\n",
       "      <td>2011</td>\n",
       "      <td>2010</td>\n",
       "      <td>2009.735581</td>\n",
       "      <td>2009.972863</td>\n",
       "      <td>2009.718347</td>\n",
       "      <td>2009.820770</td>\n",
       "    </tr>\n",
       "    <tr>\n",
       "      <td>month</td>\n",
       "      <td>7</td>\n",
       "      <td>7</td>\n",
       "      <td>7</td>\n",
       "      <td>7</td>\n",
       "      <td>6.589803</td>\n",
       "      <td>6.814111</td>\n",
       "      <td>6.569360</td>\n",
       "      <td>6.566159</td>\n",
       "    </tr>\n",
       "    <tr>\n",
       "      <td>odometer</td>\n",
       "      <td>115425</td>\n",
       "      <td>115425</td>\n",
       "      <td>115425</td>\n",
       "      <td>115425</td>\n",
       "      <td>115487.013322</td>\n",
       "      <td>115890.769335</td>\n",
       "      <td>115612.320874</td>\n",
       "      <td>116152.750200</td>\n",
       "    </tr>\n",
       "    <tr>\n",
       "      <td>price</td>\n",
       "      <td>9000</td>\n",
       "      <td>9900</td>\n",
       "      <td>8995</td>\n",
       "      <td>8999</td>\n",
       "      <td>11911.902961</td>\n",
       "      <td>12064.744912</td>\n",
       "      <td>11787.737563</td>\n",
       "      <td>11762.929431</td>\n",
       "    </tr>\n",
       "    <tr>\n",
       "      <td>vehicle_age</td>\n",
       "      <td>8</td>\n",
       "      <td>7</td>\n",
       "      <td>8</td>\n",
       "      <td>8</td>\n",
       "      <td>8.578509</td>\n",
       "      <td>8.325645</td>\n",
       "      <td>8.593314</td>\n",
       "      <td>8.498797</td>\n",
       "    </tr>\n",
       "    <tr>\n",
       "      <td>weekday</td>\n",
       "      <td>3</td>\n",
       "      <td>3</td>\n",
       "      <td>3</td>\n",
       "      <td>3</td>\n",
       "      <td>3.003043</td>\n",
       "      <td>2.868385</td>\n",
       "      <td>2.970519</td>\n",
       "      <td>3.015638</td>\n",
       "    </tr>\n",
       "    <tr>\n",
       "      <td>year</td>\n",
       "      <td>2018</td>\n",
       "      <td>2018</td>\n",
       "      <td>2018</td>\n",
       "      <td>2018</td>\n",
       "      <td>2018.314090</td>\n",
       "      <td>2018.298507</td>\n",
       "      <td>2018.311661</td>\n",
       "      <td>2018.319567</td>\n",
       "    </tr>\n",
       "  </tbody>\n",
       "</table>\n",
       "</div>"
      ]
     },
     "metadata": {},
     "execution_count": 41
    }
   ],
   "metadata": {}
  },
  {
   "cell_type": "code",
   "execution_count": 42,
   "source": [
    "def analyze_time(df, index, values, pct):\n",
    "    pivot = df.pivot_table(columns='listed_time', index=index, values=values, aggfunc='count', margins=True, margins_name='total_count')\n",
    "    pivot = pivot.drop(index='total_count')\n",
    "    if pct == True:\n",
    "        total = pivot['total_count']\n",
    "        pivot = pivot.divide(pivot['total_count'], axis=0)\n",
    "        pivot = pivot*100\n",
    "        pivot.loc['mean', :] = pivot.mean()\n",
    "        pivot = pivot.round(decimals=3)\n",
    "        pivot['total_count'] = total\n",
    "    pivot = pivot.sort_values('total_count', ascending=False)\n",
    "    return pivot\n",
    "    "
   ],
   "outputs": [],
   "metadata": {}
  },
  {
   "cell_type": "code",
   "execution_count": 43,
   "source": [
    "print('----------------------------------------------------- \\\n",
    "        \\n Analysys of columns by days listed (%): \\\n",
    "     \\n-----------------------------------------------------')\n",
    "for col in cat_cols:\n",
    "    print()\n",
    "    print(analyze_time(filt_df, col, 'days_listed', True))"
   ],
   "outputs": [
    {
     "output_type": "stream",
     "name": "stdout",
     "text": [
      "-----------------------------------------------------         \n",
      " Analysys of columns by days listed (%):      \n",
      "-----------------------------------------------------\n",
      "\n",
      "listed_time  average  earlier   early    late  total_count\n",
      "cylinders                                                 \n",
      "6             84.104    1.667   8.702   5.527      15054.0\n",
      "8             83.823    1.706   8.746   5.725      14830.0\n",
      "4             83.605    1.726   8.730   5.939      13150.0\n",
      "5             81.224    0.816  11.020   6.939        245.0\n",
      "10            85.000    2.000   7.000   6.000        200.0\n",
      "3             79.310      NaN  10.345  10.345         29.0\n",
      "12           100.000      NaN     NaN     NaN          2.0\n",
      "mean          85.295    1.583   9.091   6.746          NaN\n",
      "\n",
      "listed_time  average  earlier   early   late  total_count\n",
      "condition                                                \n",
      "3             83.833    1.741   8.525  5.902      20740.0\n",
      "2             84.020    1.623   8.725  5.632      17559.0\n",
      "4             82.647    1.839   9.713  5.802       3861.0\n",
      "1             84.693    1.430   9.504  4.373       1189.0\n",
      "5             90.217    3.261   4.348  2.174         92.0\n",
      "0             85.507      NaN  10.145  4.348         69.0\n",
      "mean          85.153    1.979   8.493  4.705          NaN\n",
      "\n",
      "listed_time  average  earlier   early   late  total_count\n",
      "fuel                                                     \n",
      "gas           83.863    1.684   8.691  5.762      40088.0\n",
      "diesel        83.974    1.721   9.008  5.297       2964.0\n",
      "hybrid        80.223    2.786  11.142  5.850        359.0\n",
      "other         84.043    1.064   8.511  6.383         94.0\n",
      "electric     100.000      NaN     NaN    NaN          5.0\n",
      "mean          86.421    1.813   9.338  5.823          NaN\n",
      "\n",
      "listed_time   average  earlier  early   late  total_count\n",
      "transmission                                             \n",
      "automatic      83.817    1.673  8.728  5.783      39930.0\n",
      "manual         84.181    1.651  8.996  5.172       2301.0\n",
      "other          84.050    2.424  8.366  5.160       1279.0\n",
      "mean           84.016    1.916  8.697  5.372          NaN\n",
      "\n",
      "listed_time  average  earlier   early   late  total_count\n",
      "type                                                     \n",
      "SUV           83.651    1.642   8.726  5.981      10600.0\n",
      "sedan         83.960    1.668   8.724  5.649      10374.0\n",
      "truck         84.165    1.641   8.767  5.427      10300.0\n",
      "pickup        84.116    1.808   8.550  5.526       5918.0\n",
      "coupe         83.862    1.391   8.904  5.843       1797.0\n",
      "wagon         82.548    2.356   8.100  6.996       1358.0\n",
      "mini-van      82.840    2.071   9.172  5.917       1014.0\n",
      "hatchback     82.957    1.919   8.916  6.208        886.0\n",
      "van           82.022    1.685  10.112  6.180        534.0\n",
      "convertible   84.783    1.863   8.385  4.969        322.0\n",
      "other         86.538      NaN   9.135  4.327        208.0\n",
      "offroad       81.250    2.273   8.523  7.955        176.0\n",
      "bus           82.609      NaN  13.043  4.348         23.0\n",
      "mean          83.485    1.847   9.158  5.794          NaN\n",
      "\n",
      "listed_time  average  earlier   early   late  total_count\n",
      "paint_color                                              \n",
      "white         83.912    1.610   8.891  5.587       8323.0\n",
      "unknown       84.192    1.499   8.391  5.919       7806.0\n",
      "black         83.770    1.535   8.960  5.736       6451.0\n",
      "silver        83.463    1.837   9.057  5.642       5388.0\n",
      "grey          83.858    1.969   8.731  5.442       4318.0\n",
      "blue          83.508    1.914   8.600  5.978       3814.0\n",
      "red           84.229    1.694   8.177  5.901       3779.0\n",
      "green         83.361    2.090   8.779  5.769       1196.0\n",
      "brown         85.014    1.825   7.301  5.860       1041.0\n",
      "custom        83.140    1.686  10.011  5.163        949.0\n",
      "orange        81.006    1.117  11.732  6.145        179.0\n",
      "yellow        86.034    1.117   6.704  6.145        179.0\n",
      "purple        73.563    2.299  17.241  6.897         87.0\n",
      "mean          83.004    1.707   9.429  5.860          NaN\n",
      "\n",
      "listed_time  average  earlier  early   late  total_count\n",
      "is_4wd                                                  \n",
      "False         83.771    1.598  8.930  5.701      22084.0\n",
      "True          83.917    1.792  8.527  5.764      21426.0\n",
      "mean          83.844    1.695  8.728  5.732          NaN\n"
     ]
    }
   ],
   "metadata": {
    "scrolled": false
   }
  },
  {
   "cell_type": "markdown",
   "source": [
    "The percentage distribution of characteristics in cars sold doesn't change much according to the duration of ads. The analysis here is made by checking how does the percentage of ads that fit a required value for each characteristics changes with duration of days listed. A few observations will be made in the results of this section.\n"
   ],
   "metadata": {}
  },
  {
   "cell_type": "markdown",
   "source": [
    "#### Results"
   ],
   "metadata": {}
  },
  {
   "cell_type": "markdown",
   "source": [
    "Most ads are listed for up to 3 months, but the average is around 1 month. We have thoroughly looked for patterns in differences between very early (within 4 days), early (within 11 days), average (between early and late) and late (after 90 days). Here are the results:\n",
    "\n",
    "    - Purple cars are more likely to be sold the earliest, when compared with other colors of cars;\n",
    "    - As for type, the same can be told about mini-vans, wagons and hatchbacks; \n",
    "    - Probability of hybrid cars sold the earliest is higher than for other types of transmission;\n",
    "    - Hybrid cars in general have higher rates of being sold earlier than other fuel types;\n",
    "    - New cars rates of being sold late is 2 times lower.\n",
    "    - The percentage of offroad cars being sold late is higher than for other cars;\n",
    "    - Cars in conditions fair are less likely to be sold late, this could be due to their prices.\n",
    "    - Cars in conditinos good and excellent are more likely to be sold late.\n",
    "\n",
    "The resulting tables are very informative and definitely have usage in defining what types of cars ads are more likely to be removed at what time."
   ],
   "metadata": {}
  },
  {
   "cell_type": "markdown",
   "source": [
    "### Analyzing prices"
   ],
   "metadata": {}
  },
  {
   "cell_type": "markdown",
   "source": [
    "#### Explanation"
   ],
   "metadata": {}
  },
  {
   "cell_type": "markdown",
   "source": [
    "In this section we will define what characteristics have the most impact on prices. To do that, we will plot scatter plots, which help track how a variable changes according to variations on another variable. Categorical variables can't be used with scatter plots, so boxplots will be used to check prices based on individual charateristics."
   ],
   "metadata": {}
  },
  {
   "cell_type": "markdown",
   "source": [
    "#### Code"
   ],
   "metadata": {}
  },
  {
   "cell_type": "code",
   "execution_count": 44,
   "source": [
    "pivot_type = filt_df.pivot_table(index='type', values='price', aggfunc=('count', 'mean')).sort_values('count')\n",
    "pivot_type.columns = ['count', 'mean_price']\n",
    "\n",
    "pivot_type.plot(kind='bar', figsize=(8,6))\n",
    "plt.ylabel('Value')\n",
    "plt.xlabel('Car types')\n",
    "plt.legend(['Ad counts', 'Mean price'])\n",
    "plt.title('Ad count and mean price by car type')\n",
    "plt.show()"
   ],
   "outputs": [
    {
     "output_type": "display_data",
     "data": {
      "text/plain": [
       "<Figure size 576x432 with 1 Axes>"
      ],
      "image/png": "[encoded data removed]"
     },
     "metadata": {
      "needs_background": "light"
     }
    }
   ],
   "metadata": {}
  },
  {
   "cell_type": "markdown",
   "source": [
    "Although not the highest priced, the most sold types of cars in count are trucks, sedan and SUV."
   ],
   "metadata": {}
  },
  {
   "cell_type": "code",
   "execution_count": 45,
   "source": [
    "sts = filt_df.query('type in [\"SUV\", \"truck\", \"sedan\"]')\n",
    "\n",
    "anprice_num = ['price', 'vehicle_age', 'odometer', 'condition']\n",
    "anprice_cat = ['paint_color', 'transmission', 'type', 'cylinders']"
   ],
   "outputs": [],
   "metadata": {}
  },
  {
   "cell_type": "code",
   "execution_count": 46,
   "source": [
    "pd.plotting.scatter_matrix(sts[anprice_num], figsize=(10.5,10.5))\n",
    "plt.suptitle('Scatter matrix of price, age, mileage and condition')\n",
    "plt.show()"
   ],
   "outputs": [
    {
     "output_type": "display_data",
     "data": {
      "text/plain": [
       "<Figure size 756x756 with 16 Axes>"
      ],
      "image/png": "[encoded data removed]"
     },
     "metadata": {
      "needs_background": "light"
     }
    }
   ],
   "metadata": {}
  },
  {
   "cell_type": "markdown",
   "source": [
    "The figure above shows correlation between a few variables. Data which increases along the horizontal axis shows positive correlation, while data that decreases along the horizontal axis shows negative correlation. This can help us check the impact of each variable on another."
   ],
   "metadata": {}
  },
  {
   "cell_type": "code",
   "execution_count": 47,
   "source": [
    "filt_df[anprice_num].corr()"
   ],
   "outputs": [
    {
     "output_type": "execute_result",
     "data": {
      "text/plain": [
       "                price  vehicle_age  odometer  condition\n",
       "price        1.000000    -0.583509 -0.489355   0.232764\n",
       "vehicle_age -0.583509     1.000000  0.555689  -0.278213\n",
       "odometer    -0.489355     0.555689  1.000000  -0.264653\n",
       "condition    0.232764    -0.278213 -0.264653   1.000000"
      ],
      "text/html": [
       "<div>\n",
       "<style scoped>\n",
       "    .dataframe tbody tr th:only-of-type {\n",
       "        vertical-align: middle;\n",
       "    }\n",
       "\n",
       "    .dataframe tbody tr th {\n",
       "        vertical-align: top;\n",
       "    }\n",
       "\n",
       "    .dataframe thead th {\n",
       "        text-align: right;\n",
       "    }\n",
       "</style>\n",
       "<table border=\"1\" class=\"dataframe\">\n",
       "  <thead>\n",
       "    <tr style=\"text-align: right;\">\n",
       "      <th></th>\n",
       "      <th>price</th>\n",
       "      <th>vehicle_age</th>\n",
       "      <th>odometer</th>\n",
       "      <th>condition</th>\n",
       "    </tr>\n",
       "  </thead>\n",
       "  <tbody>\n",
       "    <tr>\n",
       "      <td>price</td>\n",
       "      <td>1.000000</td>\n",
       "      <td>-0.583509</td>\n",
       "      <td>-0.489355</td>\n",
       "      <td>0.232764</td>\n",
       "    </tr>\n",
       "    <tr>\n",
       "      <td>vehicle_age</td>\n",
       "      <td>-0.583509</td>\n",
       "      <td>1.000000</td>\n",
       "      <td>0.555689</td>\n",
       "      <td>-0.278213</td>\n",
       "    </tr>\n",
       "    <tr>\n",
       "      <td>odometer</td>\n",
       "      <td>-0.489355</td>\n",
       "      <td>0.555689</td>\n",
       "      <td>1.000000</td>\n",
       "      <td>-0.264653</td>\n",
       "    </tr>\n",
       "    <tr>\n",
       "      <td>condition</td>\n",
       "      <td>0.232764</td>\n",
       "      <td>-0.278213</td>\n",
       "      <td>-0.264653</td>\n",
       "      <td>1.000000</td>\n",
       "    </tr>\n",
       "  </tbody>\n",
       "</table>\n",
       "</div>"
      ]
     },
     "metadata": {},
     "execution_count": 47
    }
   ],
   "metadata": {}
  },
  {
   "cell_type": "code",
   "execution_count": 49,
   "source": [
    "import sys\n",
    "import warnings\n",
    "if not sys.warnoptions:\n",
    "       warnings.simplefilter(\"ignore\")"
   ],
   "outputs": [],
   "metadata": {}
  },
  {
   "cell_type": "code",
   "execution_count": 50,
   "source": [
    "for col in anprice_cat:\n",
    "    sts.boxplot(column='price', by=col, figsize=(12,4))\n",
    "    plt.suptitle('')\n",
    "    plt.ylabel('Price')\n",
    "    plt.xlabel(col.capitalize())\n",
    "    plt.title(f'Boxplot of {col}')\n",
    "    \n",
    "    ## The warning seems to be related to pandas x numpy version. I couldn't find a workaround."
   ],
   "outputs": [
    {
     "output_type": "display_data",
     "data": {
      "text/plain": [
       "<Figure size 864x288 with 1 Axes>"
      ],
      "image/png": "[encoded data removed]"
     },
     "metadata": {
      "needs_background": "light"
     }
    },
    {
     "output_type": "display_data",
     "data": {
      "text/plain": [
       "<Figure size 864x288 with 1 Axes>"
      ],
      "image/png": "[encoded data removed]"
     },
     "metadata": {
      "needs_background": "light"
     }
    },
    {
     "output_type": "display_data",
     "data": {
      "text/plain": [
       "<Figure size 864x288 with 1 Axes>"
      ],
      "image/png": "[encoded data removed]"
     },
     "metadata": {
      "needs_background": "light"
     }
    },
    {
     "output_type": "display_data",
     "data": {
      "text/plain": [
       "<Figure size 864x288 with 1 Axes>"
      ],
      "image/png": "[encoded data removed]"
     },
     "metadata": {
      "needs_background": "light"
     }
    }
   ],
   "metadata": {}
  },
  {
   "cell_type": "markdown",
   "source": [
    "The graphs above help show the distribution of qualitative variables regarding price. This will help show which categories have higher median and mean prices, and more outlier values for prices. As we can see, trucks have much higher prices in general than SUVs, which have higher prices than sedans. With the boxplots, we can check how this is distributed. We can confirm cars with transmission 'other' have higher prices and also cars with 8 cylinders are the most valuable."
   ],
   "metadata": {}
  },
  {
   "cell_type": "markdown",
   "source": [
    "#### Results"
   ],
   "metadata": {}
  },
  {
   "cell_type": "markdown",
   "source": [
    "By the calculated graphs and tables, we can get to some conclusive results. As expected, both odometer and vehicle age have a high impact, which is inversely proportional: the lower these values, the higher the price. The good condition of the car shows a positive correlation with the price, but not as much as the mileage and vehicle age. As for the number of cylinders, they play a significant role in price until 8 cylinders. Generally, black and white cars are more valuable than other colors.\n",
    "\n",
    "\n"
   ],
   "metadata": {}
  },
  {
   "cell_type": "markdown",
   "source": [
    "## *Overall conclusion*"
   ],
   "metadata": {}
  },
  {
   "cell_type": "markdown",
   "source": [
    "To summarize this project, we have investigated the data from a table of car ads in order to draw results about what makes a listing for a car get removed faster and what characteristics are the most influential in a vehicle's price. The main steps were checking the overall characteristics available, fixing issues such as missing values with clever methods and analyzing the filtered data. The main results regarding time were tables that can provide a lot of information on relative times of ads being removed. The most common car types sold were SUVs, trucks and sedans, and their prices are mostly correlated with their model years and the mileage, while condition plays a less significant role. The higher the vehicle age or the mileage, then the lower the car's price. On the other hand, a better condition means a more expensive car. Additionally, information regarding medians and means were gathered using histograms and boxplots, which are available along the analysis section."
   ],
   "metadata": {}
  }
 ],
 "metadata": {
  "ExecuteTimeLog": [
   {
    "duration": 308,
    "start_time": "2021-07-26T23:52:15.796Z"
   },
   {
    "duration": 3029,
    "start_time": "2021-07-26T23:52:28.444Z"
   },
   {
    "duration": -59,
    "start_time": "2021-07-26T23:52:31.537Z"
   },
   {
    "duration": -75,
    "start_time": "2021-07-26T23:52:31.554Z"
   },
   {
    "duration": -94,
    "start_time": "2021-07-26T23:52:31.575Z"
   },
   {
    "duration": -110,
    "start_time": "2021-07-26T23:52:31.592Z"
   },
   {
    "duration": -120,
    "start_time": "2021-07-26T23:52:31.603Z"
   },
   {
    "duration": -131,
    "start_time": "2021-07-26T23:52:31.616Z"
   },
   {
    "duration": -140,
    "start_time": "2021-07-26T23:52:31.626Z"
   },
   {
    "duration": -157,
    "start_time": "2021-07-26T23:52:31.644Z"
   },
   {
    "duration": -173,
    "start_time": "2021-07-26T23:52:31.662Z"
   },
   {
    "duration": -189,
    "start_time": "2021-07-26T23:52:31.679Z"
   },
   {
    "duration": -203,
    "start_time": "2021-07-26T23:52:31.694Z"
   },
   {
    "duration": -218,
    "start_time": "2021-07-26T23:52:31.711Z"
   },
   {
    "duration": -230,
    "start_time": "2021-07-26T23:52:31.724Z"
   },
   {
    "duration": -247,
    "start_time": "2021-07-26T23:52:31.743Z"
   },
   {
    "duration": -263,
    "start_time": "2021-07-26T23:52:31.760Z"
   },
   {
    "duration": -283,
    "start_time": "2021-07-26T23:52:31.782Z"
   },
   {
    "duration": -303,
    "start_time": "2021-07-26T23:52:31.803Z"
   },
   {
    "duration": -322,
    "start_time": "2021-07-26T23:52:31.824Z"
   },
   {
    "duration": -412,
    "start_time": "2021-07-26T23:52:31.915Z"
   },
   {
    "duration": -424,
    "start_time": "2021-07-26T23:52:31.929Z"
   },
   {
    "duration": -447,
    "start_time": "2021-07-26T23:52:31.953Z"
   },
   {
    "duration": -462,
    "start_time": "2021-07-26T23:52:31.969Z"
   },
   {
    "duration": -473,
    "start_time": "2021-07-26T23:52:31.982Z"
   },
   {
    "duration": -481,
    "start_time": "2021-07-26T23:52:31.991Z"
   },
   {
    "duration": -492,
    "start_time": "2021-07-26T23:52:32.004Z"
   },
   {
    "duration": -506,
    "start_time": "2021-07-26T23:52:32.019Z"
   },
   {
    "duration": -478,
    "start_time": "2021-07-26T23:52:32.032Z"
   },
   {
    "duration": -485,
    "start_time": "2021-07-26T23:52:32.040Z"
   },
   {
    "duration": -502,
    "start_time": "2021-07-26T23:52:32.058Z"
   },
   {
    "duration": -513,
    "start_time": "2021-07-26T23:52:32.071Z"
   },
   {
    "duration": -528,
    "start_time": "2021-07-26T23:52:32.087Z"
   },
   {
    "duration": -538,
    "start_time": "2021-07-26T23:52:32.099Z"
   },
   {
    "duration": -546,
    "start_time": "2021-07-26T23:52:32.108Z"
   },
   {
    "duration": -560,
    "start_time": "2021-07-26T23:52:32.123Z"
   },
   {
    "duration": -574,
    "start_time": "2021-07-26T23:52:32.139Z"
   },
   {
    "duration": -587,
    "start_time": "2021-07-26T23:52:32.153Z"
   },
   {
    "duration": -600,
    "start_time": "2021-07-26T23:52:32.167Z"
   },
   {
    "duration": -610,
    "start_time": "2021-07-26T23:52:32.178Z"
   },
   {
    "duration": -626,
    "start_time": "2021-07-26T23:52:32.196Z"
   },
   {
    "duration": -641,
    "start_time": "2021-07-26T23:52:32.213Z"
   },
   {
    "duration": -661,
    "start_time": "2021-07-26T23:52:32.234Z"
   },
   {
    "duration": -679,
    "start_time": "2021-07-26T23:52:32.254Z"
   },
   {
    "duration": -695,
    "start_time": "2021-07-26T23:52:32.271Z"
   },
   {
    "duration": -707,
    "start_time": "2021-07-26T23:52:32.285Z"
   },
   {
    "duration": -716,
    "start_time": "2021-07-26T23:52:32.296Z"
   },
   {
    "duration": -736,
    "start_time": "2021-07-26T23:52:32.318Z"
   },
   {
    "duration": -747,
    "start_time": "2021-07-26T23:52:32.331Z"
   },
   {
    "duration": 954,
    "start_time": "2021-07-26T23:53:26.190Z"
   },
   {
    "duration": 54,
    "start_time": "2021-07-26T23:53:27.146Z"
   },
   {
    "duration": 29,
    "start_time": "2021-07-26T23:53:27.203Z"
   },
   {
    "duration": 43,
    "start_time": "2021-07-26T23:53:27.235Z"
   },
   {
    "duration": 23,
    "start_time": "2021-07-26T23:53:27.280Z"
   },
   {
    "duration": 55,
    "start_time": "2021-07-26T23:53:27.305Z"
   },
   {
    "duration": 25,
    "start_time": "2021-07-26T23:53:27.362Z"
   },
   {
    "duration": 25,
    "start_time": "2021-07-26T23:53:27.391Z"
   },
   {
    "duration": 51,
    "start_time": "2021-07-26T23:53:27.419Z"
   },
   {
    "duration": 43,
    "start_time": "2021-07-26T23:53:27.473Z"
   },
   {
    "duration": 40,
    "start_time": "2021-07-26T23:53:27.518Z"
   },
   {
    "duration": 17,
    "start_time": "2021-07-26T23:53:27.560Z"
   },
   {
    "duration": 33,
    "start_time": "2021-07-26T23:53:27.579Z"
   },
   {
    "duration": 119,
    "start_time": "2021-07-26T23:53:27.614Z"
   },
   {
    "duration": 795,
    "start_time": "2021-07-26T23:53:27.735Z"
   },
   {
    "duration": 225,
    "start_time": "2021-07-26T23:53:28.532Z"
   },
   {
    "duration": 8,
    "start_time": "2021-07-26T23:53:28.759Z"
   },
   {
    "duration": 8,
    "start_time": "2021-07-26T23:53:28.769Z"
   },
   {
    "duration": 7,
    "start_time": "2021-07-26T23:53:28.779Z"
   },
   {
    "duration": 7,
    "start_time": "2021-07-26T23:53:28.789Z"
   },
   {
    "duration": 62,
    "start_time": "2021-07-26T23:53:28.798Z"
   },
   {
    "duration": 9,
    "start_time": "2021-07-26T23:53:28.863Z"
   },
   {
    "duration": 4,
    "start_time": "2021-07-26T23:53:28.877Z"
   },
   {
    "duration": 24,
    "start_time": "2021-07-26T23:53:28.884Z"
   },
   {
    "duration": 43,
    "start_time": "2021-07-26T23:53:28.911Z"
   },
   {
    "duration": 7,
    "start_time": "2021-07-26T23:53:28.957Z"
   },
   {
    "duration": 66,
    "start_time": "2021-07-26T23:53:28.967Z"
   },
   {
    "duration": 49,
    "start_time": "2021-07-26T23:53:29.035Z"
   },
   {
    "duration": 1720,
    "start_time": "2021-07-26T23:53:29.086Z"
   },
   {
    "duration": 9,
    "start_time": "2021-07-26T23:53:30.809Z"
   },
   {
    "duration": 14,
    "start_time": "2021-07-26T23:53:30.820Z"
   },
   {
    "duration": 43,
    "start_time": "2021-07-26T23:53:30.836Z"
   },
   {
    "duration": 101,
    "start_time": "2021-07-26T23:53:30.882Z"
   },
   {
    "duration": 3447,
    "start_time": "2021-07-26T23:53:30.985Z"
   },
   {
    "duration": 535,
    "start_time": "2021-07-26T23:53:34.435Z"
   },
   {
    "duration": 33,
    "start_time": "2021-07-26T23:53:34.973Z"
   },
   {
    "duration": 4,
    "start_time": "2021-07-27T00:02:48.432Z"
   },
   {
    "duration": 327,
    "start_time": "2021-07-27T00:25:30.073Z"
   },
   {
    "duration": 1014,
    "start_time": "2021-07-27T00:25:37.044Z"
   },
   {
    "duration": 48,
    "start_time": "2021-07-27T00:25:38.061Z"
   },
   {
    "duration": 43,
    "start_time": "2021-07-27T00:25:38.112Z"
   },
   {
    "duration": 25,
    "start_time": "2021-07-27T00:25:38.158Z"
   },
   {
    "duration": 20,
    "start_time": "2021-07-27T00:25:38.186Z"
   },
   {
    "duration": 54,
    "start_time": "2021-07-27T00:25:38.209Z"
   },
   {
    "duration": 24,
    "start_time": "2021-07-27T00:25:38.265Z"
   },
   {
    "duration": 23,
    "start_time": "2021-07-27T00:25:38.291Z"
   },
   {
    "duration": 51,
    "start_time": "2021-07-27T00:25:38.318Z"
   },
   {
    "duration": 43,
    "start_time": "2021-07-27T00:25:38.373Z"
   },
   {
    "duration": 37,
    "start_time": "2021-07-27T00:25:38.418Z"
   },
   {
    "duration": 17,
    "start_time": "2021-07-27T00:25:38.458Z"
   },
   {
    "duration": 33,
    "start_time": "2021-07-27T00:25:38.478Z"
   },
   {
    "duration": 115,
    "start_time": "2021-07-27T00:25:38.513Z"
   },
   {
    "duration": 933,
    "start_time": "2021-07-27T00:25:38.631Z"
   },
   {
    "duration": 248,
    "start_time": "2021-07-27T00:25:39.567Z"
   },
   {
    "duration": 9,
    "start_time": "2021-07-27T00:25:39.817Z"
   },
   {
    "duration": 25,
    "start_time": "2021-07-27T00:25:39.829Z"
   },
   {
    "duration": 8,
    "start_time": "2021-07-27T00:25:39.857Z"
   },
   {
    "duration": 13,
    "start_time": "2021-07-27T00:25:39.868Z"
   },
   {
    "duration": 24,
    "start_time": "2021-07-27T00:25:39.884Z"
   },
   {
    "duration": 10,
    "start_time": "2021-07-27T00:25:39.911Z"
   },
   {
    "duration": 33,
    "start_time": "2021-07-27T00:25:39.923Z"
   },
   {
    "duration": 73,
    "start_time": "2021-07-27T00:25:39.958Z"
   },
   {
    "duration": 29,
    "start_time": "2021-07-27T00:25:40.033Z"
   },
   {
    "duration": 7,
    "start_time": "2021-07-27T00:25:40.065Z"
   },
   {
    "duration": 14,
    "start_time": "2021-07-27T00:25:40.077Z"
   },
   {
    "duration": 63,
    "start_time": "2021-07-27T00:25:40.094Z"
   },
   {
    "duration": 1642,
    "start_time": "2021-07-27T00:25:40.159Z"
   },
   {
    "duration": 12,
    "start_time": "2021-07-27T00:25:41.804Z"
   },
   {
    "duration": 9,
    "start_time": "2021-07-27T00:25:41.819Z"
   },
   {
    "duration": 44,
    "start_time": "2021-07-27T00:25:41.831Z"
   },
   {
    "duration": 80,
    "start_time": "2021-07-27T00:25:41.878Z"
   },
   {
    "duration": 3321,
    "start_time": "2021-07-27T00:25:41.960Z"
   },
   {
    "duration": 474,
    "start_time": "2021-07-27T00:25:45.283Z"
   },
   {
    "duration": 34,
    "start_time": "2021-07-27T00:25:45.759Z"
   },
   {
    "duration": -273,
    "start_time": "2021-07-27T00:26:56.381Z"
   },
   {
    "duration": -286,
    "start_time": "2021-07-27T00:26:56.395Z"
   },
   {
    "duration": -300,
    "start_time": "2021-07-27T00:26:56.411Z"
   },
   {
    "duration": -312,
    "start_time": "2021-07-27T00:26:56.425Z"
   },
   {
    "duration": -319,
    "start_time": "2021-07-27T00:26:56.434Z"
   },
   {
    "duration": -332,
    "start_time": "2021-07-27T00:26:56.448Z"
   },
   {
    "duration": -346,
    "start_time": "2021-07-27T00:26:56.464Z"
   },
   {
    "duration": -359,
    "start_time": "2021-07-27T00:26:56.479Z"
   },
   {
    "duration": -370,
    "start_time": "2021-07-27T00:26:56.492Z"
   },
   {
    "duration": -376,
    "start_time": "2021-07-27T00:26:56.500Z"
   },
   {
    "duration": -389,
    "start_time": "2021-07-27T00:26:56.514Z"
   },
   {
    "duration": -376,
    "start_time": "2021-07-27T00:26:56.531Z"
   },
   {
    "duration": 737,
    "start_time": "2021-07-27T01:03:30.098Z"
   },
   {
    "duration": 1009,
    "start_time": "2021-07-27T01:03:46.931Z"
   },
   {
    "duration": 57,
    "start_time": "2021-07-27T01:03:47.944Z"
   },
   {
    "duration": 30,
    "start_time": "2021-07-27T01:03:48.004Z"
   },
   {
    "duration": 44,
    "start_time": "2021-07-27T01:03:48.037Z"
   },
   {
    "duration": 23,
    "start_time": "2021-07-27T01:03:48.084Z"
   },
   {
    "duration": 56,
    "start_time": "2021-07-27T01:03:48.110Z"
   },
   {
    "duration": 27,
    "start_time": "2021-07-27T01:03:48.169Z"
   },
   {
    "duration": 63,
    "start_time": "2021-07-27T01:03:48.202Z"
   },
   {
    "duration": 24,
    "start_time": "2021-07-27T01:03:48.269Z"
   },
   {
    "duration": 75,
    "start_time": "2021-07-27T01:03:48.296Z"
   },
   {
    "duration": 15,
    "start_time": "2021-07-27T01:03:48.374Z"
   },
   {
    "duration": 18,
    "start_time": "2021-07-27T01:03:48.393Z"
   },
   {
    "duration": 70,
    "start_time": "2021-07-27T01:03:48.414Z"
   },
   {
    "duration": 106,
    "start_time": "2021-07-27T01:03:48.487Z"
   },
   {
    "duration": 775,
    "start_time": "2021-07-27T01:03:48.596Z"
   },
   {
    "duration": 229,
    "start_time": "2021-07-27T01:03:49.373Z"
   },
   {
    "duration": 8,
    "start_time": "2021-07-27T01:03:49.604Z"
   },
   {
    "duration": 10,
    "start_time": "2021-07-27T01:03:49.614Z"
   },
   {
    "duration": 7,
    "start_time": "2021-07-27T01:03:49.626Z"
   },
   {
    "duration": 4,
    "start_time": "2021-07-27T01:03:49.654Z"
   },
   {
    "duration": 25,
    "start_time": "2021-07-27T01:03:49.661Z"
   },
   {
    "duration": 23,
    "start_time": "2021-07-27T01:03:49.689Z"
   },
   {
    "duration": 5,
    "start_time": "2021-07-27T01:03:49.717Z"
   },
   {
    "duration": 41,
    "start_time": "2021-07-27T01:03:49.725Z"
   },
   {
    "duration": 12,
    "start_time": "2021-07-27T01:03:49.768Z"
   },
   {
    "duration": 8,
    "start_time": "2021-07-27T01:03:49.782Z"
   },
   {
    "duration": 89,
    "start_time": "2021-07-27T01:03:49.792Z"
   },
   {
    "duration": 31,
    "start_time": "2021-07-27T01:03:49.884Z"
   },
   {
    "duration": 1650,
    "start_time": "2021-07-27T01:03:49.918Z"
   },
   {
    "duration": 11,
    "start_time": "2021-07-27T01:03:51.571Z"
   },
   {
    "duration": 15,
    "start_time": "2021-07-27T01:03:51.585Z"
   },
   {
    "duration": 54,
    "start_time": "2021-07-27T01:03:51.602Z"
   },
   {
    "duration": 69,
    "start_time": "2021-07-27T01:03:51.659Z"
   },
   {
    "duration": 3432,
    "start_time": "2021-07-27T01:03:51.731Z"
   },
   {
    "duration": 488,
    "start_time": "2021-07-27T01:03:55.166Z"
   },
   {
    "duration": 34,
    "start_time": "2021-07-27T01:03:55.656Z"
   },
   {
    "duration": 971,
    "start_time": "2021-07-27T01:06:07.577Z"
   },
   {
    "duration": 50,
    "start_time": "2021-07-27T01:06:08.551Z"
   },
   {
    "duration": 50,
    "start_time": "2021-07-27T01:06:08.606Z"
   },
   {
    "duration": 27,
    "start_time": "2021-07-27T01:06:08.660Z"
   },
   {
    "duration": 21,
    "start_time": "2021-07-27T01:06:08.690Z"
   },
   {
    "duration": 58,
    "start_time": "2021-07-27T01:06:08.713Z"
   },
   {
    "duration": 24,
    "start_time": "2021-07-27T01:06:08.774Z"
   },
   {
    "duration": 25,
    "start_time": "2021-07-27T01:06:08.801Z"
   },
   {
    "duration": 22,
    "start_time": "2021-07-27T01:06:08.855Z"
   },
   {
    "duration": 42,
    "start_time": "2021-07-27T01:06:08.879Z"
   },
   {
    "duration": 36,
    "start_time": "2021-07-27T01:06:08.924Z"
   },
   {
    "duration": 16,
    "start_time": "2021-07-27T01:06:08.963Z"
   },
   {
    "duration": 33,
    "start_time": "2021-07-27T01:06:08.982Z"
   },
   {
    "duration": 83,
    "start_time": "2021-07-27T01:06:09.054Z"
   },
   {
    "duration": 756,
    "start_time": "2021-07-27T01:06:09.139Z"
   },
   {
    "duration": 231,
    "start_time": "2021-07-27T01:06:09.898Z"
   },
   {
    "duration": 21,
    "start_time": "2021-07-27T01:06:10.132Z"
   },
   {
    "duration": 7,
    "start_time": "2021-07-27T01:06:10.156Z"
   },
   {
    "duration": 8,
    "start_time": "2021-07-27T01:06:10.166Z"
   },
   {
    "duration": 10,
    "start_time": "2021-07-27T01:06:10.176Z"
   },
   {
    "duration": 26,
    "start_time": "2021-07-27T01:06:10.188Z"
   },
   {
    "duration": 10,
    "start_time": "2021-07-27T01:06:10.216Z"
   },
   {
    "duration": 5,
    "start_time": "2021-07-27T01:06:10.258Z"
   },
   {
    "duration": 19,
    "start_time": "2021-07-27T01:06:10.266Z"
   },
   {
    "duration": 13,
    "start_time": "2021-07-27T01:06:10.287Z"
   },
   {
    "duration": 8,
    "start_time": "2021-07-27T01:06:10.302Z"
   },
   {
    "duration": 61,
    "start_time": "2021-07-27T01:06:10.355Z"
   },
   {
    "duration": 50,
    "start_time": "2021-07-27T01:06:10.418Z"
   },
   {
    "duration": 1690,
    "start_time": "2021-07-27T01:06:10.470Z"
   },
   {
    "duration": 8,
    "start_time": "2021-07-27T01:06:12.163Z"
   },
   {
    "duration": 9,
    "start_time": "2021-07-27T01:06:12.174Z"
   },
   {
    "duration": 24,
    "start_time": "2021-07-27T01:06:12.185Z"
   },
   {
    "duration": 92,
    "start_time": "2021-07-27T01:06:12.212Z"
   },
   {
    "duration": 3303,
    "start_time": "2021-07-27T01:06:12.306Z"
   },
   {
    "duration": 495,
    "start_time": "2021-07-27T01:06:15.612Z"
   },
   {
    "duration": 47,
    "start_time": "2021-07-27T01:06:16.109Z"
   },
   {
    "duration": 342,
    "start_time": "2021-07-27T01:06:16.159Z"
   },
   {
    "duration": -3,
    "start_time": "2021-07-27T01:06:16.506Z"
   },
   {
    "duration": -14,
    "start_time": "2021-07-27T01:06:16.519Z"
   },
   {
    "duration": -23,
    "start_time": "2021-07-27T01:06:16.529Z"
   },
   {
    "duration": -28,
    "start_time": "2021-07-27T01:06:16.536Z"
   },
   {
    "duration": -40,
    "start_time": "2021-07-27T01:06:16.549Z"
   },
   {
    "duration": -46,
    "start_time": "2021-07-27T01:06:16.556Z"
   },
   {
    "duration": -55,
    "start_time": "2021-07-27T01:06:16.567Z"
   },
   {
    "duration": -65,
    "start_time": "2021-07-27T01:06:16.579Z"
   },
   {
    "duration": -69,
    "start_time": "2021-07-27T01:06:16.584Z"
   },
   {
    "duration": -81,
    "start_time": "2021-07-27T01:06:16.598Z"
   },
   {
    "duration": -91,
    "start_time": "2021-07-27T01:06:16.609Z"
   },
   {
    "duration": 992,
    "start_time": "2021-07-27T01:08:01.488Z"
   },
   {
    "duration": 50,
    "start_time": "2021-07-27T01:08:02.483Z"
   },
   {
    "duration": 38,
    "start_time": "2021-07-27T01:08:02.536Z"
   },
   {
    "duration": 28,
    "start_time": "2021-07-27T01:08:02.577Z"
   },
   {
    "duration": 54,
    "start_time": "2021-07-27T01:08:02.607Z"
   },
   {
    "duration": 22,
    "start_time": "2021-07-27T01:08:02.664Z"
   },
   {
    "duration": 25,
    "start_time": "2021-07-27T01:08:02.689Z"
   },
   {
    "duration": 56,
    "start_time": "2021-07-27T01:08:02.718Z"
   },
   {
    "duration": 21,
    "start_time": "2021-07-27T01:08:02.777Z"
   },
   {
    "duration": 72,
    "start_time": "2021-07-27T01:08:02.801Z"
   },
   {
    "duration": 12,
    "start_time": "2021-07-27T01:08:02.875Z"
   },
   {
    "duration": 25,
    "start_time": "2021-07-27T01:08:02.890Z"
   },
   {
    "duration": 55,
    "start_time": "2021-07-27T01:08:02.917Z"
   },
   {
    "duration": 98,
    "start_time": "2021-07-27T01:08:02.974Z"
   },
   {
    "duration": 769,
    "start_time": "2021-07-27T01:08:03.075Z"
   },
   {
    "duration": 222,
    "start_time": "2021-07-27T01:08:03.855Z"
   },
   {
    "duration": 8,
    "start_time": "2021-07-27T01:08:04.079Z"
   },
   {
    "duration": 14,
    "start_time": "2021-07-27T01:08:04.089Z"
   },
   {
    "duration": 19,
    "start_time": "2021-07-27T01:08:04.105Z"
   },
   {
    "duration": 11,
    "start_time": "2021-07-27T01:08:04.126Z"
   },
   {
    "duration": 34,
    "start_time": "2021-07-27T01:08:04.139Z"
   },
   {
    "duration": 9,
    "start_time": "2021-07-27T01:08:04.175Z"
   },
   {
    "duration": 17,
    "start_time": "2021-07-27T01:08:04.189Z"
   },
   {
    "duration": 25,
    "start_time": "2021-07-27T01:08:04.209Z"
   },
   {
    "duration": 27,
    "start_time": "2021-07-27T01:08:04.236Z"
   },
   {
    "duration": 8,
    "start_time": "2021-07-27T01:08:04.266Z"
   },
   {
    "duration": 81,
    "start_time": "2021-07-27T01:08:04.276Z"
   },
   {
    "duration": 35,
    "start_time": "2021-07-27T01:08:04.360Z"
   },
   {
    "duration": 1652,
    "start_time": "2021-07-27T01:08:04.398Z"
   },
   {
    "duration": 9,
    "start_time": "2021-07-27T01:08:06.055Z"
   },
   {
    "duration": 17,
    "start_time": "2021-07-27T01:08:06.066Z"
   },
   {
    "duration": 33,
    "start_time": "2021-07-27T01:08:06.085Z"
   },
   {
    "duration": 86,
    "start_time": "2021-07-27T01:08:06.120Z"
   },
   {
    "duration": 3349,
    "start_time": "2021-07-27T01:08:06.208Z"
   },
   {
    "duration": 478,
    "start_time": "2021-07-27T01:08:09.559Z"
   },
   {
    "duration": 41,
    "start_time": "2021-07-27T01:08:10.040Z"
   },
   {
    "duration": 373,
    "start_time": "2021-07-27T01:08:10.084Z"
   },
   {
    "duration": -2,
    "start_time": "2021-07-27T01:08:10.461Z"
   },
   {
    "duration": -14,
    "start_time": "2021-07-27T01:08:10.475Z"
   },
   {
    "duration": -28,
    "start_time": "2021-07-27T01:08:10.490Z"
   },
   {
    "duration": -41,
    "start_time": "2021-07-27T01:08:10.505Z"
   },
   {
    "duration": -49,
    "start_time": "2021-07-27T01:08:10.514Z"
   },
   {
    "duration": -60,
    "start_time": "2021-07-27T01:08:10.527Z"
   },
   {
    "duration": -72,
    "start_time": "2021-07-27T01:08:10.540Z"
   },
   {
    "duration": -81,
    "start_time": "2021-07-27T01:08:10.550Z"
   },
   {
    "duration": -94,
    "start_time": "2021-07-27T01:08:10.564Z"
   },
   {
    "duration": -104,
    "start_time": "2021-07-27T01:08:10.576Z"
   },
   {
    "duration": -118,
    "start_time": "2021-07-27T01:08:10.591Z"
   },
   {
    "duration": 37,
    "start_time": "2021-07-27T01:12:08.057Z"
   },
   {
    "duration": 2319,
    "start_time": "2021-07-27T01:13:09.867Z"
   },
   {
    "duration": 2315,
    "start_time": "2021-07-27T01:13:21.887Z"
   },
   {
    "duration": 989,
    "start_time": "2021-07-27T01:15:05.482Z"
   },
   {
    "duration": 49,
    "start_time": "2021-07-27T01:15:06.473Z"
   },
   {
    "duration": 44,
    "start_time": "2021-07-27T01:15:06.525Z"
   },
   {
    "duration": 27,
    "start_time": "2021-07-27T01:15:06.572Z"
   },
   {
    "duration": 21,
    "start_time": "2021-07-27T01:15:06.601Z"
   },
   {
    "duration": 47,
    "start_time": "2021-07-27T01:15:06.624Z"
   },
   {
    "duration": 23,
    "start_time": "2021-07-27T01:15:06.674Z"
   },
   {
    "duration": 54,
    "start_time": "2021-07-27T01:15:06.701Z"
   },
   {
    "duration": 24,
    "start_time": "2021-07-27T01:15:06.758Z"
   },
   {
    "duration": 70,
    "start_time": "2021-07-27T01:15:06.784Z"
   },
   {
    "duration": 12,
    "start_time": "2021-07-27T01:15:06.857Z"
   },
   {
    "duration": 21,
    "start_time": "2021-07-27T01:15:06.872Z"
   },
   {
    "duration": 61,
    "start_time": "2021-07-27T01:15:06.896Z"
   },
   {
    "duration": 97,
    "start_time": "2021-07-27T01:15:06.959Z"
   },
   {
    "duration": 771,
    "start_time": "2021-07-27T01:15:07.059Z"
   },
   {
    "duration": 231,
    "start_time": "2021-07-27T01:15:07.832Z"
   },
   {
    "duration": 8,
    "start_time": "2021-07-27T01:15:08.066Z"
   },
   {
    "duration": 24,
    "start_time": "2021-07-27T01:15:08.076Z"
   },
   {
    "duration": 8,
    "start_time": "2021-07-27T01:15:08.103Z"
   },
   {
    "duration": 17,
    "start_time": "2021-07-27T01:15:08.113Z"
   },
   {
    "duration": 39,
    "start_time": "2021-07-27T01:15:08.133Z"
   },
   {
    "duration": 9,
    "start_time": "2021-07-27T01:15:08.174Z"
   },
   {
    "duration": 13,
    "start_time": "2021-07-27T01:15:08.188Z"
   },
   {
    "duration": 28,
    "start_time": "2021-07-27T01:15:08.204Z"
   },
   {
    "duration": 24,
    "start_time": "2021-07-27T01:15:08.234Z"
   },
   {
    "duration": 22,
    "start_time": "2021-07-27T01:15:08.260Z"
   },
   {
    "duration": 72,
    "start_time": "2021-07-27T01:15:08.284Z"
   },
   {
    "duration": 36,
    "start_time": "2021-07-27T01:15:08.358Z"
   },
   {
    "duration": 1667,
    "start_time": "2021-07-27T01:15:08.397Z"
   },
   {
    "duration": 12,
    "start_time": "2021-07-27T01:15:10.066Z"
   },
   {
    "duration": 9,
    "start_time": "2021-07-27T01:15:10.081Z"
   },
   {
    "duration": 27,
    "start_time": "2021-07-27T01:15:10.092Z"
   },
   {
    "duration": 68,
    "start_time": "2021-07-27T01:15:10.154Z"
   },
   {
    "duration": 3758,
    "start_time": "2021-07-27T01:15:10.225Z"
   },
   {
    "duration": 481,
    "start_time": "2021-07-27T01:15:13.985Z"
   },
   {
    "duration": 34,
    "start_time": "2021-07-27T01:15:14.468Z"
   },
   {
    "duration": 2482,
    "start_time": "2021-07-27T01:15:14.504Z"
   },
   {
    "duration": 576,
    "start_time": "2021-07-27T01:15:16.988Z"
   },
   {
    "duration": 41,
    "start_time": "2021-07-27T01:15:17.567Z"
   },
   {
    "duration": 489,
    "start_time": "2021-07-27T01:15:17.611Z"
   },
   {
    "duration": 7137,
    "start_time": "2021-07-27T01:15:18.103Z"
   },
   {
    "duration": 11,
    "start_time": "2021-07-27T01:15:25.243Z"
   },
   {
    "duration": 81,
    "start_time": "2021-07-27T01:15:25.257Z"
   },
   {
    "duration": 98,
    "start_time": "2021-07-27T01:15:25.341Z"
   },
   {
    "duration": -112,
    "start_time": "2021-07-27T01:15:25.553Z"
   },
   {
    "duration": -119,
    "start_time": "2021-07-27T01:15:25.561Z"
   },
   {
    "duration": -126,
    "start_time": "2021-07-27T01:15:25.570Z"
   },
   {
    "duration": 947,
    "start_time": "2021-07-27T01:23:25.988Z"
   },
   {
    "duration": 60,
    "start_time": "2021-07-27T01:23:26.939Z"
   },
   {
    "duration": 32,
    "start_time": "2021-07-27T01:23:27.003Z"
   },
   {
    "duration": 27,
    "start_time": "2021-07-27T01:23:27.056Z"
   },
   {
    "duration": 24,
    "start_time": "2021-07-27T01:23:27.086Z"
   },
   {
    "duration": 57,
    "start_time": "2021-07-27T01:23:27.114Z"
   },
   {
    "duration": 27,
    "start_time": "2021-07-27T01:23:27.173Z"
   },
   {
    "duration": 56,
    "start_time": "2021-07-27T01:23:27.204Z"
   },
   {
    "duration": 24,
    "start_time": "2021-07-27T01:23:27.263Z"
   },
   {
    "duration": 67,
    "start_time": "2021-07-27T01:23:27.290Z"
   },
   {
    "duration": 15,
    "start_time": "2021-07-27T01:23:27.360Z"
   },
   {
    "duration": 17,
    "start_time": "2021-07-27T01:23:27.377Z"
   },
   {
    "duration": 67,
    "start_time": "2021-07-27T01:23:27.396Z"
   },
   {
    "duration": 96,
    "start_time": "2021-07-27T01:23:27.465Z"
   },
   {
    "duration": 755,
    "start_time": "2021-07-27T01:23:27.563Z"
   },
   {
    "duration": 243,
    "start_time": "2021-07-27T01:23:28.320Z"
   },
   {
    "duration": 9,
    "start_time": "2021-07-27T01:23:28.566Z"
   },
   {
    "duration": 5,
    "start_time": "2021-07-27T01:23:28.578Z"
   },
   {
    "duration": 11,
    "start_time": "2021-07-27T01:23:28.586Z"
   },
   {
    "duration": 6,
    "start_time": "2021-07-27T01:23:28.599Z"
   },
   {
    "duration": 61,
    "start_time": "2021-07-27T01:23:28.607Z"
   },
   {
    "duration": 9,
    "start_time": "2021-07-27T01:23:28.670Z"
   },
   {
    "duration": 5,
    "start_time": "2021-07-27T01:23:28.685Z"
   },
   {
    "duration": 24,
    "start_time": "2021-07-27T01:23:28.693Z"
   },
   {
    "duration": 44,
    "start_time": "2021-07-27T01:23:28.720Z"
   },
   {
    "duration": 7,
    "start_time": "2021-07-27T01:23:28.767Z"
   },
   {
    "duration": 89,
    "start_time": "2021-07-27T01:23:28.777Z"
   },
   {
    "duration": 29,
    "start_time": "2021-07-27T01:23:28.869Z"
   },
   {
    "duration": 1753,
    "start_time": "2021-07-27T01:23:28.901Z"
   },
   {
    "duration": 9,
    "start_time": "2021-07-27T01:23:30.657Z"
   },
   {
    "duration": 18,
    "start_time": "2021-07-27T01:23:30.669Z"
   },
   {
    "duration": 30,
    "start_time": "2021-07-27T01:23:30.689Z"
   },
   {
    "duration": 86,
    "start_time": "2021-07-27T01:23:30.721Z"
   },
   {
    "duration": 3306,
    "start_time": "2021-07-27T01:23:30.810Z"
   },
   {
    "duration": 482,
    "start_time": "2021-07-27T01:23:34.118Z"
   },
   {
    "duration": 34,
    "start_time": "2021-07-27T01:23:34.603Z"
   },
   {
    "duration": 2449,
    "start_time": "2021-07-27T01:23:34.655Z"
   },
   {
    "duration": 406,
    "start_time": "2021-07-27T01:23:37.106Z"
   },
   {
    "duration": 40,
    "start_time": "2021-07-27T01:23:37.514Z"
   },
   {
    "duration": 562,
    "start_time": "2021-07-27T01:23:37.556Z"
   },
   {
    "duration": 7200,
    "start_time": "2021-07-27T01:23:38.121Z"
   },
   {
    "duration": 5,
    "start_time": "2021-07-27T01:23:45.323Z"
   },
   {
    "duration": 94,
    "start_time": "2021-07-27T01:23:45.330Z"
   },
   {
    "duration": 13364,
    "start_time": "2021-07-27T01:23:45.426Z"
   },
   {
    "duration": 16,
    "start_time": "2021-07-27T01:23:58.792Z"
   },
   {
    "duration": 1578,
    "start_time": "2021-07-27T01:23:58.810Z"
   },
   {
    "duration": 623,
    "start_time": "2021-07-27T01:24:56.052Z"
   },
   {
    "duration": 1548,
    "start_time": "2021-07-27T01:25:04.439Z"
   },
   {
    "duration": 2391,
    "start_time": "2021-07-27T01:26:25.300Z"
   },
   {
    "duration": 1652,
    "start_time": "2021-07-27T01:26:37.606Z"
   },
   {
    "duration": 289,
    "start_time": "2021-07-27T01:26:56.675Z"
   },
   {
    "duration": 1630,
    "start_time": "2021-07-27T01:27:36.413Z"
   },
   {
    "duration": 1534,
    "start_time": "2021-07-27T01:33:01.037Z"
   },
   {
    "duration": 1546,
    "start_time": "2021-07-27T01:33:14.470Z"
   },
   {
    "duration": 88,
    "start_time": "2021-07-27T01:36:16.788Z"
   },
   {
    "duration": 58,
    "start_time": "2021-07-27T01:36:50.226Z"
   },
   {
    "duration": 46,
    "start_time": "2021-07-27T01:37:04.500Z"
   },
   {
    "duration": 196,
    "start_time": "2021-07-27T01:37:35.087Z"
   },
   {
    "duration": 23,
    "start_time": "2021-07-27T01:37:49.192Z"
   },
   {
    "duration": 1527,
    "start_time": "2021-07-27T01:38:34.896Z"
   },
   {
    "duration": 1084,
    "start_time": "2021-07-27T04:16:58.344Z"
   },
   {
    "duration": 58,
    "start_time": "2021-07-27T04:16:59.431Z"
   },
   {
    "duration": 30,
    "start_time": "2021-07-27T04:16:59.493Z"
   },
   {
    "duration": 54,
    "start_time": "2021-07-27T04:16:59.526Z"
   },
   {
    "duration": 23,
    "start_time": "2021-07-27T04:16:59.583Z"
   },
   {
    "duration": 60,
    "start_time": "2021-07-27T04:16:59.609Z"
   },
   {
    "duration": 26,
    "start_time": "2021-07-27T04:16:59.672Z"
   },
   {
    "duration": 26,
    "start_time": "2021-07-27T04:16:59.701Z"
   },
   {
    "duration": 24,
    "start_time": "2021-07-27T04:16:59.767Z"
   },
   {
    "duration": 73,
    "start_time": "2021-07-27T04:16:59.796Z"
   },
   {
    "duration": 13,
    "start_time": "2021-07-27T04:16:59.872Z"
   },
   {
    "duration": 19,
    "start_time": "2021-07-27T04:16:59.888Z"
   },
   {
    "duration": 74,
    "start_time": "2021-07-27T04:16:59.910Z"
   },
   {
    "duration": 97,
    "start_time": "2021-07-27T04:16:59.986Z"
   },
   {
    "duration": 792,
    "start_time": "2021-07-27T04:17:00.085Z"
   },
   {
    "duration": 242,
    "start_time": "2021-07-27T04:17:00.880Z"
   },
   {
    "duration": 10,
    "start_time": "2021-07-27T04:17:01.125Z"
   },
   {
    "duration": 31,
    "start_time": "2021-07-27T04:17:01.137Z"
   },
   {
    "duration": 14,
    "start_time": "2021-07-27T04:17:01.171Z"
   },
   {
    "duration": 8,
    "start_time": "2021-07-27T04:17:01.187Z"
   },
   {
    "duration": 26,
    "start_time": "2021-07-27T04:17:01.197Z"
   },
   {
    "duration": 10,
    "start_time": "2021-07-27T04:17:01.226Z"
   },
   {
    "duration": 31,
    "start_time": "2021-07-27T04:17:01.239Z"
   },
   {
    "duration": 96,
    "start_time": "2021-07-27T04:17:01.273Z"
   },
   {
    "duration": 16,
    "start_time": "2021-07-27T04:17:01.371Z"
   },
   {
    "duration": 11,
    "start_time": "2021-07-27T04:17:01.389Z"
   },
   {
    "duration": 15,
    "start_time": "2021-07-27T04:17:01.407Z"
   },
   {
    "duration": 71,
    "start_time": "2021-07-27T04:17:01.425Z"
   },
   {
    "duration": 1870,
    "start_time": "2021-07-27T04:17:01.499Z"
   },
   {
    "duration": 11,
    "start_time": "2021-07-27T04:17:03.372Z"
   },
   {
    "duration": 18,
    "start_time": "2021-07-27T04:17:03.386Z"
   },
   {
    "duration": 47,
    "start_time": "2021-07-27T04:17:03.407Z"
   },
   {
    "duration": 69,
    "start_time": "2021-07-27T04:17:03.457Z"
   },
   {
    "duration": 3411,
    "start_time": "2021-07-27T04:17:03.529Z"
   },
   {
    "duration": 512,
    "start_time": "2021-07-27T04:17:06.943Z"
   },
   {
    "duration": 34,
    "start_time": "2021-07-27T04:17:07.466Z"
   },
   {
    "duration": 2531,
    "start_time": "2021-07-27T04:17:07.503Z"
   },
   {
    "duration": 434,
    "start_time": "2021-07-27T04:17:10.037Z"
   },
   {
    "duration": 30,
    "start_time": "2021-07-27T04:17:10.474Z"
   },
   {
    "duration": 588,
    "start_time": "2021-07-27T04:17:10.506Z"
   },
   {
    "duration": 7229,
    "start_time": "2021-07-27T04:17:11.096Z"
   },
   {
    "duration": 5,
    "start_time": "2021-07-27T04:17:18.327Z"
   },
   {
    "duration": 100,
    "start_time": "2021-07-27T04:17:18.334Z"
   },
   {
    "duration": 13980,
    "start_time": "2021-07-27T04:17:18.436Z"
   },
   {
    "duration": 15,
    "start_time": "2021-07-27T04:17:32.418Z"
   },
   {
    "duration": 1633,
    "start_time": "2021-07-27T04:17:32.436Z"
   },
   {
    "duration": 1038,
    "start_time": "2021-07-27T04:18:47.292Z"
   },
   {
    "duration": 53,
    "start_time": "2021-07-27T04:18:48.333Z"
   },
   {
    "duration": 26,
    "start_time": "2021-07-27T04:18:48.390Z"
   },
   {
    "duration": 51,
    "start_time": "2021-07-27T04:18:48.419Z"
   },
   {
    "duration": 21,
    "start_time": "2021-07-27T04:18:48.473Z"
   },
   {
    "duration": 22,
    "start_time": "2021-07-27T04:18:48.496Z"
   },
   {
    "duration": 55,
    "start_time": "2021-07-27T04:18:48.521Z"
   },
   {
    "duration": 25,
    "start_time": "2021-07-27T04:18:48.581Z"
   },
   {
    "duration": 62,
    "start_time": "2021-07-27T04:18:48.610Z"
   },
   {
    "duration": 45,
    "start_time": "2021-07-27T04:18:48.674Z"
   },
   {
    "duration": 47,
    "start_time": "2021-07-27T04:18:48.722Z"
   },
   {
    "duration": 20,
    "start_time": "2021-07-27T04:18:48.772Z"
   },
   {
    "duration": 36,
    "start_time": "2021-07-27T04:18:48.795Z"
   },
   {
    "duration": 101,
    "start_time": "2021-07-27T04:18:48.867Z"
   },
   {
    "duration": 790,
    "start_time": "2021-07-27T04:18:48.972Z"
   },
   {
    "duration": 238,
    "start_time": "2021-07-27T04:18:49.766Z"
   },
   {
    "duration": 9,
    "start_time": "2021-07-27T04:18:50.007Z"
   },
   {
    "duration": 7,
    "start_time": "2021-07-27T04:18:50.019Z"
   },
   {
    "duration": 39,
    "start_time": "2021-07-27T04:18:50.029Z"
   },
   {
    "duration": 8,
    "start_time": "2021-07-27T04:18:50.071Z"
   },
   {
    "duration": 27,
    "start_time": "2021-07-27T04:18:50.081Z"
   },
   {
    "duration": 10,
    "start_time": "2021-07-27T04:18:50.111Z"
   },
   {
    "duration": 5,
    "start_time": "2021-07-27T04:18:50.127Z"
   },
   {
    "duration": 49,
    "start_time": "2021-07-27T04:18:50.135Z"
   },
   {
    "duration": 14,
    "start_time": "2021-07-27T04:18:50.187Z"
   },
   {
    "duration": 8,
    "start_time": "2021-07-27T04:18:50.203Z"
   },
   {
    "duration": 111,
    "start_time": "2021-07-27T04:18:50.213Z"
   },
   {
    "duration": 47,
    "start_time": "2021-07-27T04:18:50.326Z"
   },
   {
    "duration": 1719,
    "start_time": "2021-07-27T04:18:50.375Z"
   },
   {
    "duration": 11,
    "start_time": "2021-07-27T04:18:52.097Z"
   },
   {
    "duration": 15,
    "start_time": "2021-07-27T04:18:52.110Z"
   },
   {
    "duration": 44,
    "start_time": "2021-07-27T04:18:52.128Z"
   },
   {
    "duration": 60,
    "start_time": "2021-07-27T04:18:52.175Z"
   },
   {
    "duration": 3560,
    "start_time": "2021-07-27T04:18:52.237Z"
   },
   {
    "duration": 490,
    "start_time": "2021-07-27T04:18:55.800Z"
   },
   {
    "duration": 35,
    "start_time": "2021-07-27T04:18:56.293Z"
   },
   {
    "duration": 2530,
    "start_time": "2021-07-27T04:18:56.331Z"
   },
   {
    "duration": 522,
    "start_time": "2021-07-27T04:18:58.866Z"
   },
   {
    "duration": 27,
    "start_time": "2021-07-27T04:18:59.391Z"
   },
   {
    "duration": 481,
    "start_time": "2021-07-27T04:18:59.421Z"
   },
   {
    "duration": 7053,
    "start_time": "2021-07-27T04:18:59.905Z"
   },
   {
    "duration": 9,
    "start_time": "2021-07-27T04:19:06.960Z"
   },
   {
    "duration": 101,
    "start_time": "2021-07-27T04:19:06.972Z"
   },
   {
    "duration": 4,
    "start_time": "2021-07-27T04:19:07.075Z"
   },
   {
    "duration": 13297,
    "start_time": "2021-07-27T04:19:07.081Z"
   },
   {
    "duration": 18,
    "start_time": "2021-07-27T04:19:20.380Z"
   },
   {
    "duration": 2068,
    "start_time": "2021-07-27T04:19:20.401Z"
   },
   {
    "duration": 18,
    "start_time": "2021-07-27T04:33:57.607Z"
   },
   {
    "duration": 16,
    "start_time": "2021-07-27T04:34:09.466Z"
   },
   {
    "duration": 11,
    "start_time": "2021-07-27T04:35:22.294Z"
   },
   {
    "duration": 8,
    "start_time": "2021-07-27T04:35:29.695Z"
   },
   {
    "duration": 7507,
    "start_time": "2021-07-27T04:35:38.969Z"
   },
   {
    "duration": 7235,
    "start_time": "2021-07-27T04:35:55.795Z"
   },
   {
    "duration": 79,
    "start_time": "2021-07-27T04:36:07.447Z"
   },
   {
    "duration": 8,
    "start_time": "2021-07-27T04:36:12.828Z"
   },
   {
    "duration": 1018,
    "start_time": "2021-07-27T13:42:26.989Z"
   },
   {
    "duration": 58,
    "start_time": "2021-07-27T13:42:28.010Z"
   },
   {
    "duration": 26,
    "start_time": "2021-07-27T13:42:28.071Z"
   },
   {
    "duration": 27,
    "start_time": "2021-07-27T13:42:28.099Z"
   },
   {
    "duration": 54,
    "start_time": "2021-07-27T13:42:28.128Z"
   },
   {
    "duration": 21,
    "start_time": "2021-07-27T13:42:28.184Z"
   },
   {
    "duration": 57,
    "start_time": "2021-07-27T13:42:28.207Z"
   },
   {
    "duration": 25,
    "start_time": "2021-07-27T13:42:28.268Z"
   },
   {
    "duration": 22,
    "start_time": "2021-07-27T13:42:28.296Z"
   },
   {
    "duration": 72,
    "start_time": "2021-07-27T13:42:28.321Z"
   },
   {
    "duration": 11,
    "start_time": "2021-07-27T13:42:28.396Z"
   },
   {
    "duration": 17,
    "start_time": "2021-07-27T13:42:28.410Z"
   },
   {
    "duration": 64,
    "start_time": "2021-07-27T13:42:28.429Z"
   },
   {
    "duration": 103,
    "start_time": "2021-07-27T13:42:28.495Z"
   },
   {
    "duration": 786,
    "start_time": "2021-07-27T13:42:28.601Z"
   },
   {
    "duration": 242,
    "start_time": "2021-07-27T13:42:29.389Z"
   },
   {
    "duration": 8,
    "start_time": "2021-07-27T13:42:29.634Z"
   },
   {
    "duration": 22,
    "start_time": "2021-07-27T13:42:29.644Z"
   },
   {
    "duration": 10,
    "start_time": "2021-07-27T13:42:29.669Z"
   },
   {
    "duration": 7,
    "start_time": "2021-07-27T13:42:29.682Z"
   },
   {
    "duration": 24,
    "start_time": "2021-07-27T13:42:29.691Z"
   },
   {
    "duration": 9,
    "start_time": "2021-07-27T13:42:29.717Z"
   },
   {
    "duration": 34,
    "start_time": "2021-07-27T13:42:29.731Z"
   },
   {
    "duration": 19,
    "start_time": "2021-07-27T13:42:29.768Z"
   },
   {
    "duration": 11,
    "start_time": "2021-07-27T13:42:29.789Z"
   },
   {
    "duration": 9,
    "start_time": "2021-07-27T13:42:29.802Z"
   },
   {
    "duration": 101,
    "start_time": "2021-07-27T13:42:29.813Z"
   },
   {
    "duration": 44,
    "start_time": "2021-07-27T13:42:29.917Z"
   },
   {
    "duration": 1766,
    "start_time": "2021-07-27T13:42:29.964Z"
   },
   {
    "duration": 8,
    "start_time": "2021-07-27T13:42:31.733Z"
   },
   {
    "duration": 21,
    "start_time": "2021-07-27T13:42:31.744Z"
   },
   {
    "duration": 51,
    "start_time": "2021-07-27T13:42:31.767Z"
   },
   {
    "duration": 83,
    "start_time": "2021-07-27T13:42:31.820Z"
   },
   {
    "duration": 3541,
    "start_time": "2021-07-27T13:42:31.905Z"
   },
   {
    "duration": 491,
    "start_time": "2021-07-27T13:42:35.448Z"
   },
   {
    "duration": 41,
    "start_time": "2021-07-27T13:42:35.941Z"
   },
   {
    "duration": 2522,
    "start_time": "2021-07-27T13:42:35.984Z"
   },
   {
    "duration": 443,
    "start_time": "2021-07-27T13:42:38.508Z"
   },
   {
    "duration": 32,
    "start_time": "2021-07-27T13:42:38.953Z"
   },
   {
    "duration": 497,
    "start_time": "2021-07-27T13:42:38.988Z"
   },
   {
    "duration": 7194,
    "start_time": "2021-07-27T13:42:39.488Z"
   },
   {
    "duration": 5,
    "start_time": "2021-07-27T13:42:46.684Z"
   },
   {
    "duration": 99,
    "start_time": "2021-07-27T13:42:46.692Z"
   },
   {
    "duration": 8,
    "start_time": "2021-07-27T13:42:46.794Z"
   },
   {
    "duration": 13,
    "start_time": "2021-07-27T13:42:46.804Z"
   },
   {
    "duration": 13426,
    "start_time": "2021-07-27T13:42:46.820Z"
   },
   {
    "duration": 25,
    "start_time": "2021-07-27T13:43:00.248Z"
   },
   {
    "duration": 1983,
    "start_time": "2021-07-27T13:43:00.275Z"
   },
   {
    "duration": 978,
    "start_time": "2021-07-27T13:43:41.412Z"
   },
   {
    "duration": 50,
    "start_time": "2021-07-27T13:43:42.394Z"
   },
   {
    "duration": 38,
    "start_time": "2021-07-27T13:43:42.463Z"
   },
   {
    "duration": 26,
    "start_time": "2021-07-27T13:43:42.504Z"
   },
   {
    "duration": 49,
    "start_time": "2021-07-27T13:43:42.533Z"
   },
   {
    "duration": 22,
    "start_time": "2021-07-27T13:43:42.584Z"
   },
   {
    "duration": 24,
    "start_time": "2021-07-27T13:43:42.608Z"
   },
   {
    "duration": 23,
    "start_time": "2021-07-27T13:43:42.664Z"
   },
   {
    "duration": 22,
    "start_time": "2021-07-27T13:43:42.690Z"
   },
   {
    "duration": 75,
    "start_time": "2021-07-27T13:43:42.715Z"
   },
   {
    "duration": 12,
    "start_time": "2021-07-27T13:43:42.792Z"
   },
   {
    "duration": 23,
    "start_time": "2021-07-27T13:43:42.806Z"
   },
   {
    "duration": 59,
    "start_time": "2021-07-27T13:43:42.831Z"
   },
   {
    "duration": 98,
    "start_time": "2021-07-27T13:43:42.892Z"
   },
   {
    "duration": 772,
    "start_time": "2021-07-27T13:43:42.992Z"
   },
   {
    "duration": 230,
    "start_time": "2021-07-27T13:43:43.767Z"
   },
   {
    "duration": 7,
    "start_time": "2021-07-27T13:43:44.000Z"
   },
   {
    "duration": 15,
    "start_time": "2021-07-27T13:43:44.009Z"
   },
   {
    "duration": 20,
    "start_time": "2021-07-27T13:43:44.027Z"
   },
   {
    "duration": 15,
    "start_time": "2021-07-27T13:43:44.049Z"
   },
   {
    "duration": 27,
    "start_time": "2021-07-27T13:43:44.066Z"
   },
   {
    "duration": 10,
    "start_time": "2021-07-27T13:43:44.095Z"
   },
   {
    "duration": 10,
    "start_time": "2021-07-27T13:43:44.111Z"
   },
   {
    "duration": 38,
    "start_time": "2021-07-27T13:43:44.124Z"
   },
   {
    "duration": 12,
    "start_time": "2021-07-27T13:43:44.164Z"
   },
   {
    "duration": 7,
    "start_time": "2021-07-27T13:43:44.179Z"
   },
   {
    "duration": 80,
    "start_time": "2021-07-27T13:43:44.188Z"
   },
   {
    "duration": 35,
    "start_time": "2021-07-27T13:43:44.271Z"
   },
   {
    "duration": 1739,
    "start_time": "2021-07-27T13:43:44.309Z"
   },
   {
    "duration": 13,
    "start_time": "2021-07-27T13:43:46.051Z"
   },
   {
    "duration": 10,
    "start_time": "2021-07-27T13:43:46.067Z"
   },
   {
    "duration": 28,
    "start_time": "2021-07-27T13:43:46.080Z"
   },
   {
    "duration": 102,
    "start_time": "2021-07-27T13:43:46.111Z"
   },
   {
    "duration": 3499,
    "start_time": "2021-07-27T13:43:46.216Z"
   },
   {
    "duration": 502,
    "start_time": "2021-07-27T13:43:49.717Z"
   },
   {
    "duration": 47,
    "start_time": "2021-07-27T13:43:50.222Z"
   },
   {
    "duration": 2659,
    "start_time": "2021-07-27T13:43:50.272Z"
   },
   {
    "duration": 433,
    "start_time": "2021-07-27T13:43:52.933Z"
   },
   {
    "duration": 29,
    "start_time": "2021-07-27T13:43:53.368Z"
   },
   {
    "duration": 494,
    "start_time": "2021-07-27T13:43:53.399Z"
   },
   {
    "duration": 6975,
    "start_time": "2021-07-27T13:43:53.896Z"
   },
   {
    "duration": 4,
    "start_time": "2021-07-27T13:44:00.873Z"
   },
   {
    "duration": 119,
    "start_time": "2021-07-27T13:44:00.879Z"
   },
   {
    "duration": 7,
    "start_time": "2021-07-27T13:44:01.000Z"
   },
   {
    "duration": 21,
    "start_time": "2021-07-27T13:44:01.009Z"
   },
   {
    "duration": 13870,
    "start_time": "2021-07-27T13:44:01.033Z"
   },
   {
    "duration": 15,
    "start_time": "2021-07-27T13:44:14.905Z"
   },
   {
    "duration": 1994,
    "start_time": "2021-07-27T13:44:14.923Z"
   },
   {
    "duration": 1007,
    "start_time": "2021-07-27T13:45:35.920Z"
   },
   {
    "duration": 58,
    "start_time": "2021-07-27T13:45:36.929Z"
   },
   {
    "duration": 26,
    "start_time": "2021-07-27T13:45:36.990Z"
   },
   {
    "duration": 49,
    "start_time": "2021-07-27T13:45:37.018Z"
   },
   {
    "duration": 22,
    "start_time": "2021-07-27T13:45:37.069Z"
   },
   {
    "duration": 27,
    "start_time": "2021-07-27T13:45:37.093Z"
   },
   {
    "duration": 50,
    "start_time": "2021-07-27T13:45:37.122Z"
   },
   {
    "duration": 25,
    "start_time": "2021-07-27T13:45:37.176Z"
   },
   {
    "duration": 22,
    "start_time": "2021-07-27T13:45:37.204Z"
   },
   {
    "duration": 42,
    "start_time": "2021-07-27T13:45:37.262Z"
   },
   {
    "duration": 11,
    "start_time": "2021-07-27T13:45:37.306Z"
   },
   {
    "duration": 45,
    "start_time": "2021-07-27T13:45:37.319Z"
   },
   {
    "duration": 33,
    "start_time": "2021-07-27T13:45:37.366Z"
   },
   {
    "duration": 108,
    "start_time": "2021-07-27T13:45:37.402Z"
   },
   {
    "duration": 885,
    "start_time": "2021-07-27T13:45:37.512Z"
   },
   {
    "duration": 245,
    "start_time": "2021-07-27T13:45:38.399Z"
   },
   {
    "duration": 17,
    "start_time": "2021-07-27T13:45:38.647Z"
   },
   {
    "duration": 8,
    "start_time": "2021-07-27T13:45:38.667Z"
   },
   {
    "duration": 10,
    "start_time": "2021-07-27T13:45:38.678Z"
   },
   {
    "duration": 7,
    "start_time": "2021-07-27T13:45:38.690Z"
   },
   {
    "duration": 25,
    "start_time": "2021-07-27T13:45:38.700Z"
   },
   {
    "duration": 10,
    "start_time": "2021-07-27T13:45:38.763Z"
   },
   {
    "duration": 4,
    "start_time": "2021-07-27T13:45:38.778Z"
   },
   {
    "duration": 20,
    "start_time": "2021-07-27T13:45:38.785Z"
   },
   {
    "duration": 12,
    "start_time": "2021-07-27T13:45:38.807Z"
   },
   {
    "duration": 44,
    "start_time": "2021-07-27T13:45:38.822Z"
   },
   {
    "duration": 64,
    "start_time": "2021-07-27T13:45:38.869Z"
   },
   {
    "duration": 49,
    "start_time": "2021-07-27T13:45:38.935Z"
   },
   {
    "duration": 1795,
    "start_time": "2021-07-27T13:45:38.986Z"
   },
   {
    "duration": 9,
    "start_time": "2021-07-27T13:45:40.783Z"
   },
   {
    "duration": 13,
    "start_time": "2021-07-27T13:45:40.794Z"
   },
   {
    "duration": 38,
    "start_time": "2021-07-27T13:45:40.809Z"
   },
   {
    "duration": 86,
    "start_time": "2021-07-27T13:45:40.849Z"
   },
   {
    "duration": 3567,
    "start_time": "2021-07-27T13:45:40.937Z"
   },
   {
    "duration": 493,
    "start_time": "2021-07-27T13:45:44.506Z"
   },
   {
    "duration": 42,
    "start_time": "2021-07-27T13:45:45.002Z"
   },
   {
    "duration": 3791,
    "start_time": "2021-07-27T13:45:45.063Z"
   },
   {
    "duration": 630,
    "start_time": "2021-07-27T13:45:48.861Z"
   },
   {
    "duration": 28,
    "start_time": "2021-07-27T13:45:49.493Z"
   },
   {
    "duration": 494,
    "start_time": "2021-07-27T13:45:49.524Z"
   },
   {
    "duration": 7716,
    "start_time": "2021-07-27T13:45:50.021Z"
   },
   {
    "duration": 4,
    "start_time": "2021-07-27T13:45:57.740Z"
   },
   {
    "duration": 65,
    "start_time": "2021-07-27T13:45:57.746Z"
   },
   {
    "duration": 8,
    "start_time": "2021-07-27T13:45:57.813Z"
   },
   {
    "duration": 8,
    "start_time": "2021-07-27T13:45:57.824Z"
   },
   {
    "duration": 14121,
    "start_time": "2021-07-27T13:45:57.835Z"
   },
   {
    "duration": 17,
    "start_time": "2021-07-27T13:46:11.962Z"
   },
   {
    "duration": 2144,
    "start_time": "2021-07-27T13:46:11.982Z"
   },
   {
    "duration": 5,
    "start_time": "2021-07-27T13:51:30.138Z"
   },
   {
    "duration": 49,
    "start_time": "2021-07-27T13:51:37.084Z"
   },
   {
    "duration": 4,
    "start_time": "2021-07-27T13:52:59.854Z"
   },
   {
    "duration": 52,
    "start_time": "2021-07-27T13:53:01.644Z"
   },
   {
    "duration": 7129,
    "start_time": "2021-07-27T13:53:04.578Z"
   },
   {
    "duration": 4,
    "start_time": "2021-07-27T13:54:00.488Z"
   },
   {
    "duration": 52,
    "start_time": "2021-07-27T13:54:02.500Z"
   },
   {
    "duration": 6,
    "start_time": "2021-07-27T14:00:30.546Z"
   },
   {
    "duration": 123,
    "start_time": "2021-07-27T14:00:32.559Z"
   },
   {
    "duration": 7,
    "start_time": "2021-07-27T14:01:41.269Z"
   },
   {
    "duration": 146,
    "start_time": "2021-07-27T14:01:42.998Z"
   },
   {
    "duration": 6,
    "start_time": "2021-07-27T14:02:08.752Z"
   },
   {
    "duration": 160,
    "start_time": "2021-07-27T14:02:10.332Z"
   },
   {
    "duration": 5,
    "start_time": "2021-07-27T14:06:06.920Z"
   },
   {
    "duration": 130,
    "start_time": "2021-07-27T14:06:08.600Z"
   },
   {
    "duration": 6,
    "start_time": "2021-07-27T14:07:09.864Z"
   },
   {
    "duration": 1404,
    "start_time": "2021-07-27T14:07:11.316Z"
   },
   {
    "duration": 9,
    "start_time": "2021-07-27T14:07:45.762Z"
   },
   {
    "duration": 583,
    "start_time": "2021-07-27T14:07:47.352Z"
   },
   {
    "duration": 7,
    "start_time": "2021-07-27T14:08:05.936Z"
   },
   {
    "duration": 133,
    "start_time": "2021-07-27T14:08:07.586Z"
   },
   {
    "duration": 7,
    "start_time": "2021-07-27T14:17:10.723Z"
   },
   {
    "duration": 300,
    "start_time": "2021-07-27T14:18:00.189Z"
   },
   {
    "duration": 7,
    "start_time": "2021-07-27T14:18:02.757Z"
   },
   {
    "duration": 376,
    "start_time": "2021-07-27T14:18:03.883Z"
   },
   {
    "duration": 629,
    "start_time": "2021-07-27T14:18:15.900Z"
   },
   {
    "duration": 701,
    "start_time": "2021-07-27T14:19:12.460Z"
   },
   {
    "duration": 514,
    "start_time": "2021-07-27T14:19:27.247Z"
   },
   {
    "duration": 7,
    "start_time": "2021-07-27T14:21:37.473Z"
   },
   {
    "duration": 549,
    "start_time": "2021-07-27T14:21:39.825Z"
   },
   {
    "duration": 6,
    "start_time": "2021-07-27T14:21:57.059Z"
   },
   {
    "duration": 553,
    "start_time": "2021-07-27T14:21:59.963Z"
   },
   {
    "duration": 6,
    "start_time": "2021-07-27T14:22:29.576Z"
   },
   {
    "duration": 467,
    "start_time": "2021-07-27T14:22:31.157Z"
   },
   {
    "duration": 8,
    "start_time": "2021-07-27T14:22:49.777Z"
   },
   {
    "duration": 512,
    "start_time": "2021-07-27T14:22:51.793Z"
   },
   {
    "duration": 1001,
    "start_time": "2021-07-27T14:23:20.326Z"
   },
   {
    "duration": 53,
    "start_time": "2021-07-27T14:23:21.329Z"
   },
   {
    "duration": 25,
    "start_time": "2021-07-27T14:23:21.386Z"
   },
   {
    "duration": 53,
    "start_time": "2021-07-27T14:23:21.414Z"
   },
   {
    "duration": 23,
    "start_time": "2021-07-27T14:23:21.470Z"
   },
   {
    "duration": 22,
    "start_time": "2021-07-27T14:23:21.496Z"
   },
   {
    "duration": 57,
    "start_time": "2021-07-27T14:23:21.520Z"
   },
   {
    "duration": 26,
    "start_time": "2021-07-27T14:23:21.581Z"
   },
   {
    "duration": 22,
    "start_time": "2021-07-27T14:23:21.610Z"
   },
   {
    "duration": 67,
    "start_time": "2021-07-27T14:23:21.634Z"
   },
   {
    "duration": 11,
    "start_time": "2021-07-27T14:23:21.704Z"
   },
   {
    "duration": 48,
    "start_time": "2021-07-27T14:23:21.717Z"
   },
   {
    "duration": 37,
    "start_time": "2021-07-27T14:23:21.768Z"
   },
   {
    "duration": 108,
    "start_time": "2021-07-27T14:23:21.807Z"
   },
   {
    "duration": 803,
    "start_time": "2021-07-27T14:23:21.918Z"
   },
   {
    "duration": 342,
    "start_time": "2021-07-27T14:23:22.723Z"
   },
   {
    "duration": 11,
    "start_time": "2021-07-27T14:23:23.068Z"
   },
   {
    "duration": 7,
    "start_time": "2021-07-27T14:23:23.082Z"
   },
   {
    "duration": 13,
    "start_time": "2021-07-27T14:23:23.092Z"
   },
   {
    "duration": 14,
    "start_time": "2021-07-27T14:23:23.108Z"
   },
   {
    "duration": 56,
    "start_time": "2021-07-27T14:23:23.124Z"
   },
   {
    "duration": 9,
    "start_time": "2021-07-27T14:23:23.182Z"
   },
   {
    "duration": 4,
    "start_time": "2021-07-27T14:23:23.196Z"
   },
   {
    "duration": 21,
    "start_time": "2021-07-27T14:23:23.203Z"
   },
   {
    "duration": 38,
    "start_time": "2021-07-27T14:23:23.226Z"
   },
   {
    "duration": 9,
    "start_time": "2021-07-27T14:23:23.266Z"
   },
   {
    "duration": 91,
    "start_time": "2021-07-27T14:23:23.277Z"
   },
   {
    "duration": 30,
    "start_time": "2021-07-27T14:23:23.371Z"
   },
   {
    "duration": 1780,
    "start_time": "2021-07-27T14:23:23.403Z"
   },
   {
    "duration": 9,
    "start_time": "2021-07-27T14:23:25.185Z"
   },
   {
    "duration": 8,
    "start_time": "2021-07-27T14:23:25.197Z"
   },
   {
    "duration": 25,
    "start_time": "2021-07-27T14:23:25.207Z"
   },
   {
    "duration": 88,
    "start_time": "2021-07-27T14:23:25.234Z"
   },
   {
    "duration": 3375,
    "start_time": "2021-07-27T14:23:25.324Z"
   },
   {
    "duration": 507,
    "start_time": "2021-07-27T14:23:28.701Z"
   },
   {
    "duration": 32,
    "start_time": "2021-07-27T14:23:29.210Z"
   },
   {
    "duration": 2937,
    "start_time": "2021-07-27T14:23:29.245Z"
   },
   {
    "duration": 419,
    "start_time": "2021-07-27T14:23:32.185Z"
   },
   {
    "duration": 29,
    "start_time": "2021-07-27T14:23:32.606Z"
   },
   {
    "duration": 487,
    "start_time": "2021-07-27T14:23:32.637Z"
   },
   {
    "duration": 7239,
    "start_time": "2021-07-27T14:23:33.126Z"
   },
   {
    "duration": 6,
    "start_time": "2021-07-27T14:23:40.368Z"
   },
   {
    "duration": 381,
    "start_time": "2021-07-27T14:23:40.376Z"
   },
   {
    "duration": -24,
    "start_time": "2021-07-27T14:23:40.784Z"
   },
   {
    "duration": -27,
    "start_time": "2021-07-27T14:23:40.788Z"
   },
   {
    "duration": -34,
    "start_time": "2021-07-27T14:23:40.797Z"
   },
   {
    "duration": -38,
    "start_time": "2021-07-27T14:23:40.802Z"
   },
   {
    "duration": -43,
    "start_time": "2021-07-27T14:23:40.808Z"
   },
   {
    "duration": 129,
    "start_time": "2021-07-27T14:23:52.531Z"
   },
   {
    "duration": 7,
    "start_time": "2021-07-27T14:25:50.293Z"
   },
   {
    "duration": 143,
    "start_time": "2021-07-27T14:25:52.479Z"
   },
   {
    "duration": 141,
    "start_time": "2021-07-27T14:29:10.376Z"
   },
   {
    "duration": 7,
    "start_time": "2021-07-27T14:30:15.306Z"
   },
   {
    "duration": 4,
    "start_time": "2021-07-27T14:36:18.188Z"
   },
   {
    "duration": 665,
    "start_time": "2021-07-27T14:36:19.706Z"
   },
   {
    "duration": 5,
    "start_time": "2021-07-27T14:36:35.099Z"
   },
   {
    "duration": 7021,
    "start_time": "2021-07-27T14:36:36.998Z"
   },
   {
    "duration": 7069,
    "start_time": "2021-07-27T14:37:03.924Z"
   },
   {
    "duration": 5,
    "start_time": "2021-07-27T14:37:24.813Z"
   },
   {
    "duration": 7214,
    "start_time": "2021-07-27T14:37:26.770Z"
   },
   {
    "duration": 33,
    "start_time": "2021-07-27T14:39:33.242Z"
   },
   {
    "duration": 66,
    "start_time": "2021-07-27T14:39:53.244Z"
   },
   {
    "duration": 66,
    "start_time": "2021-07-27T14:42:30.302Z"
   },
   {
    "duration": 75,
    "start_time": "2021-07-27T14:49:16.162Z"
   },
   {
    "duration": 71,
    "start_time": "2021-07-27T14:49:22.312Z"
   },
   {
    "duration": 71,
    "start_time": "2021-07-27T14:49:30.130Z"
   },
   {
    "duration": 72,
    "start_time": "2021-07-27T14:49:40.160Z"
   },
   {
    "duration": 327,
    "start_time": "2021-07-27T14:49:57.227Z"
   },
   {
    "duration": 74,
    "start_time": "2021-07-27T14:50:04.295Z"
   },
   {
    "duration": 1043,
    "start_time": "2021-07-27T14:50:52.333Z"
   },
   {
    "duration": 52,
    "start_time": "2021-07-27T14:50:53.378Z"
   },
   {
    "duration": 47,
    "start_time": "2021-07-27T14:50:53.433Z"
   },
   {
    "duration": 25,
    "start_time": "2021-07-27T14:50:53.483Z"
   },
   {
    "duration": 20,
    "start_time": "2021-07-27T14:50:53.510Z"
   },
   {
    "duration": 49,
    "start_time": "2021-07-27T14:50:53.532Z"
   },
   {
    "duration": 24,
    "start_time": "2021-07-27T14:50:53.583Z"
   },
   {
    "duration": 52,
    "start_time": "2021-07-27T14:50:53.610Z"
   },
   {
    "duration": 26,
    "start_time": "2021-07-27T14:50:53.666Z"
   },
   {
    "duration": 77,
    "start_time": "2021-07-27T14:50:53.695Z"
   },
   {
    "duration": 14,
    "start_time": "2021-07-27T14:50:53.775Z"
   },
   {
    "duration": 17,
    "start_time": "2021-07-27T14:50:53.792Z"
   },
   {
    "duration": 73,
    "start_time": "2021-07-27T14:50:53.812Z"
   },
   {
    "duration": 117,
    "start_time": "2021-07-27T14:50:53.888Z"
   },
   {
    "duration": 801,
    "start_time": "2021-07-27T14:50:54.007Z"
   },
   {
    "duration": 241,
    "start_time": "2021-07-27T14:50:54.810Z"
   },
   {
    "duration": 11,
    "start_time": "2021-07-27T14:50:55.054Z"
   },
   {
    "duration": 9,
    "start_time": "2021-07-27T14:50:55.068Z"
   },
   {
    "duration": 14,
    "start_time": "2021-07-27T14:50:55.079Z"
   },
   {
    "duration": 8,
    "start_time": "2021-07-27T14:50:55.096Z"
   },
   {
    "duration": 56,
    "start_time": "2021-07-27T14:50:55.106Z"
   },
   {
    "duration": 9,
    "start_time": "2021-07-27T14:50:55.164Z"
   },
   {
    "duration": 5,
    "start_time": "2021-07-27T14:50:55.178Z"
   },
   {
    "duration": 21,
    "start_time": "2021-07-27T14:50:55.186Z"
   },
   {
    "duration": 13,
    "start_time": "2021-07-27T14:50:55.209Z"
   },
   {
    "duration": 8,
    "start_time": "2021-07-27T14:50:55.263Z"
   },
   {
    "duration": 70,
    "start_time": "2021-07-27T14:50:55.273Z"
   },
   {
    "duration": 32,
    "start_time": "2021-07-27T14:50:55.363Z"
   },
   {
    "duration": 1777,
    "start_time": "2021-07-27T14:50:55.398Z"
   },
   {
    "duration": 8,
    "start_time": "2021-07-27T14:50:57.178Z"
   },
   {
    "duration": 10,
    "start_time": "2021-07-27T14:50:57.188Z"
   },
   {
    "duration": 29,
    "start_time": "2021-07-27T14:50:57.201Z"
   },
   {
    "duration": 89,
    "start_time": "2021-07-27T14:50:57.232Z"
   },
   {
    "duration": 3818,
    "start_time": "2021-07-27T14:50:57.323Z"
   },
   {
    "duration": 508,
    "start_time": "2021-07-27T14:51:01.144Z"
   },
   {
    "duration": 34,
    "start_time": "2021-07-27T14:51:01.662Z"
   },
   {
    "duration": 2593,
    "start_time": "2021-07-27T14:51:01.699Z"
   },
   {
    "duration": 437,
    "start_time": "2021-07-27T14:51:04.294Z"
   },
   {
    "duration": 44,
    "start_time": "2021-07-27T14:51:04.733Z"
   },
   {
    "duration": 493,
    "start_time": "2021-07-27T14:51:04.780Z"
   },
   {
    "duration": 4,
    "start_time": "2021-07-27T14:51:05.276Z"
   },
   {
    "duration": 7372,
    "start_time": "2021-07-27T14:51:05.282Z"
   },
   {
    "duration": 8,
    "start_time": "2021-07-27T14:51:12.656Z"
   },
   {
    "duration": 169,
    "start_time": "2021-07-27T14:51:12.667Z"
   },
   {
    "duration": 93,
    "start_time": "2021-07-27T14:51:12.838Z"
   },
   {
    "duration": 3,
    "start_time": "2021-07-27T14:51:12.933Z"
   },
   {
    "duration": 13815,
    "start_time": "2021-07-27T14:51:12.939Z"
   },
   {
    "duration": 21,
    "start_time": "2021-07-27T14:51:26.756Z"
   },
   {
    "duration": 2095,
    "start_time": "2021-07-27T14:51:26.779Z"
   },
   {
    "duration": 1038,
    "start_time": "2021-07-27T14:51:41.743Z"
   },
   {
    "duration": 48,
    "start_time": "2021-07-27T14:51:42.784Z"
   },
   {
    "duration": 46,
    "start_time": "2021-07-27T14:51:42.835Z"
   },
   {
    "duration": 27,
    "start_time": "2021-07-27T14:51:42.883Z"
   },
   {
    "duration": 20,
    "start_time": "2021-07-27T14:51:42.912Z"
   },
   {
    "duration": 40,
    "start_time": "2021-07-27T14:51:42.935Z"
   },
   {
    "duration": 27,
    "start_time": "2021-07-27T14:51:42.978Z"
   },
   {
    "duration": 62,
    "start_time": "2021-07-27T14:51:43.011Z"
   },
   {
    "duration": 23,
    "start_time": "2021-07-27T14:51:43.077Z"
   },
   {
    "duration": 78,
    "start_time": "2021-07-27T14:51:43.103Z"
   },
   {
    "duration": 12,
    "start_time": "2021-07-27T14:51:43.184Z"
   },
   {
    "duration": 17,
    "start_time": "2021-07-27T14:51:43.199Z"
   },
   {
    "duration": 77,
    "start_time": "2021-07-27T14:51:43.219Z"
   },
   {
    "duration": 152,
    "start_time": "2021-07-27T14:51:43.299Z"
   },
   {
    "duration": 784,
    "start_time": "2021-07-27T14:51:43.454Z"
   },
   {
    "duration": 245,
    "start_time": "2021-07-27T14:51:44.241Z"
   },
   {
    "duration": 8,
    "start_time": "2021-07-27T14:51:44.488Z"
   },
   {
    "duration": 10,
    "start_time": "2021-07-27T14:51:44.498Z"
   },
   {
    "duration": 13,
    "start_time": "2021-07-27T14:51:44.511Z"
   },
   {
    "duration": 11,
    "start_time": "2021-07-27T14:51:44.527Z"
   },
   {
    "duration": 35,
    "start_time": "2021-07-27T14:51:44.562Z"
   },
   {
    "duration": 11,
    "start_time": "2021-07-27T14:51:44.600Z"
   },
   {
    "duration": 6,
    "start_time": "2021-07-27T14:51:44.620Z"
   },
   {
    "duration": 46,
    "start_time": "2021-07-27T14:51:44.630Z"
   },
   {
    "duration": 11,
    "start_time": "2021-07-27T14:51:44.679Z"
   },
   {
    "duration": 7,
    "start_time": "2021-07-27T14:51:44.693Z"
   },
   {
    "duration": 100,
    "start_time": "2021-07-27T14:51:44.703Z"
   },
   {
    "duration": 75,
    "start_time": "2021-07-27T14:51:44.805Z"
   },
   {
    "duration": 1824,
    "start_time": "2021-07-27T14:51:44.882Z"
   },
   {
    "duration": 9,
    "start_time": "2021-07-27T14:51:46.708Z"
   },
   {
    "duration": 9,
    "start_time": "2021-07-27T14:51:46.719Z"
   },
   {
    "duration": 46,
    "start_time": "2021-07-27T14:51:46.730Z"
   },
   {
    "duration": 85,
    "start_time": "2021-07-27T14:51:46.778Z"
   },
   {
    "duration": 3509,
    "start_time": "2021-07-27T14:51:46.865Z"
   },
   {
    "duration": 499,
    "start_time": "2021-07-27T14:51:50.377Z"
   },
   {
    "duration": 35,
    "start_time": "2021-07-27T14:51:50.880Z"
   },
   {
    "duration": 2564,
    "start_time": "2021-07-27T14:51:50.917Z"
   },
   {
    "duration": 436,
    "start_time": "2021-07-27T14:51:53.483Z"
   },
   {
    "duration": 48,
    "start_time": "2021-07-27T14:51:53.921Z"
   },
   {
    "duration": 495,
    "start_time": "2021-07-27T14:51:53.971Z"
   },
   {
    "duration": 4,
    "start_time": "2021-07-27T14:51:54.469Z"
   },
   {
    "duration": 7276,
    "start_time": "2021-07-27T14:51:54.475Z"
   },
   {
    "duration": 11,
    "start_time": "2021-07-27T14:52:01.753Z"
   },
   {
    "duration": 178,
    "start_time": "2021-07-27T14:52:01.767Z"
   },
   {
    "duration": 84,
    "start_time": "2021-07-27T14:52:01.947Z"
   },
   {
    "duration": 29,
    "start_time": "2021-07-27T14:52:02.034Z"
   },
   {
    "duration": 13613,
    "start_time": "2021-07-27T14:52:02.066Z"
   },
   {
    "duration": 15,
    "start_time": "2021-07-27T14:52:15.682Z"
   },
   {
    "duration": 2099,
    "start_time": "2021-07-27T14:52:15.699Z"
   },
   {
    "duration": 1018,
    "start_time": "2021-07-27T14:54:39.358Z"
   },
   {
    "duration": 51,
    "start_time": "2021-07-27T14:54:40.379Z"
   },
   {
    "duration": 42,
    "start_time": "2021-07-27T14:54:40.433Z"
   },
   {
    "duration": 38,
    "start_time": "2021-07-27T14:54:40.479Z"
   },
   {
    "duration": 59,
    "start_time": "2021-07-27T14:54:40.520Z"
   },
   {
    "duration": 30,
    "start_time": "2021-07-27T14:54:40.582Z"
   },
   {
    "duration": 55,
    "start_time": "2021-07-27T14:54:40.615Z"
   },
   {
    "duration": 34,
    "start_time": "2021-07-27T14:54:40.675Z"
   },
   {
    "duration": 61,
    "start_time": "2021-07-27T14:54:40.713Z"
   },
   {
    "duration": 59,
    "start_time": "2021-07-27T14:54:40.778Z"
   },
   {
    "duration": 33,
    "start_time": "2021-07-27T14:54:40.840Z"
   },
   {
    "duration": 19,
    "start_time": "2021-07-27T14:54:40.877Z"
   },
   {
    "duration": 73,
    "start_time": "2021-07-27T14:54:40.899Z"
   },
   {
    "duration": 138,
    "start_time": "2021-07-27T14:54:40.975Z"
   },
   {
    "duration": 1250,
    "start_time": "2021-07-27T14:54:41.116Z"
   },
   {
    "duration": 307,
    "start_time": "2021-07-27T14:54:42.368Z"
   },
   {
    "duration": 8,
    "start_time": "2021-07-27T14:54:42.678Z"
   },
   {
    "duration": 16,
    "start_time": "2021-07-27T14:54:42.688Z"
   },
   {
    "duration": 17,
    "start_time": "2021-07-27T14:54:42.707Z"
   },
   {
    "duration": 13,
    "start_time": "2021-07-27T14:54:42.726Z"
   },
   {
    "duration": 44,
    "start_time": "2021-07-27T14:54:42.741Z"
   },
   {
    "duration": 10,
    "start_time": "2021-07-27T14:54:42.787Z"
   },
   {
    "duration": 14,
    "start_time": "2021-07-27T14:54:42.801Z"
   },
   {
    "duration": 26,
    "start_time": "2021-07-27T14:54:42.818Z"
   },
   {
    "duration": 21,
    "start_time": "2021-07-27T14:54:42.847Z"
   },
   {
    "duration": 8,
    "start_time": "2021-07-27T14:54:42.870Z"
   },
   {
    "duration": 94,
    "start_time": "2021-07-27T14:54:42.880Z"
   },
   {
    "duration": 37,
    "start_time": "2021-07-27T14:54:42.976Z"
   },
   {
    "duration": 1792,
    "start_time": "2021-07-27T14:54:43.015Z"
   },
   {
    "duration": 9,
    "start_time": "2021-07-27T14:54:44.809Z"
   },
   {
    "duration": 11,
    "start_time": "2021-07-27T14:54:44.820Z"
   },
   {
    "duration": 49,
    "start_time": "2021-07-27T14:54:44.833Z"
   },
   {
    "duration": 79,
    "start_time": "2021-07-27T14:54:44.884Z"
   },
   {
    "duration": 3513,
    "start_time": "2021-07-27T14:54:44.966Z"
   },
   {
    "duration": 488,
    "start_time": "2021-07-27T14:54:48.482Z"
   },
   {
    "duration": 34,
    "start_time": "2021-07-27T14:54:48.972Z"
   },
   {
    "duration": 2596,
    "start_time": "2021-07-27T14:54:49.009Z"
   },
   {
    "duration": 429,
    "start_time": "2021-07-27T14:54:51.607Z"
   },
   {
    "duration": 40,
    "start_time": "2021-07-27T14:54:52.038Z"
   },
   {
    "duration": 489,
    "start_time": "2021-07-27T14:54:52.080Z"
   },
   {
    "duration": 4,
    "start_time": "2021-07-27T14:54:52.571Z"
   },
   {
    "duration": 7259,
    "start_time": "2021-07-27T14:54:52.577Z"
   },
   {
    "duration": 7,
    "start_time": "2021-07-27T14:54:59.839Z"
   },
   {
    "duration": 175,
    "start_time": "2021-07-27T14:54:59.848Z"
   },
   {
    "duration": 91,
    "start_time": "2021-07-27T14:55:00.026Z"
   },
   {
    "duration": 4,
    "start_time": "2021-07-27T14:55:00.120Z"
   },
   {
    "duration": 13790,
    "start_time": "2021-07-27T14:55:00.127Z"
   },
   {
    "duration": 20,
    "start_time": "2021-07-27T14:55:13.920Z"
   },
   {
    "duration": 2084,
    "start_time": "2021-07-27T14:55:13.963Z"
   },
   {
    "duration": 78,
    "start_time": "2021-07-27T14:57:03.918Z"
   },
   {
    "duration": 79,
    "start_time": "2021-07-27T14:57:08.980Z"
   },
   {
    "duration": 111,
    "start_time": "2021-07-27T14:57:37.609Z"
   },
   {
    "duration": 83,
    "start_time": "2021-07-27T14:58:20.550Z"
   },
   {
    "duration": 7,
    "start_time": "2021-07-27T14:59:48.233Z"
   },
   {
    "duration": 535,
    "start_time": "2021-07-27T14:59:49.875Z"
   },
   {
    "duration": 9,
    "start_time": "2021-07-27T14:59:59.428Z"
   },
   {
    "duration": 7,
    "start_time": "2021-07-27T15:00:05.048Z"
   },
   {
    "duration": 143,
    "start_time": "2021-07-27T15:00:06.651Z"
   },
   {
    "duration": 5,
    "start_time": "2021-07-27T15:02:27.843Z"
   },
   {
    "duration": -212,
    "start_time": "2021-07-27T15:03:04.663Z"
   },
   {
    "duration": -221,
    "start_time": "2021-07-27T15:03:04.674Z"
   },
   {
    "duration": 5,
    "start_time": "2021-07-27T15:03:25.291Z"
   },
   {
    "duration": 7541,
    "start_time": "2021-07-27T15:03:27.015Z"
   },
   {
    "duration": 75,
    "start_time": "2021-07-27T15:04:37.467Z"
   },
   {
    "duration": 78,
    "start_time": "2021-07-27T15:05:24.831Z"
   },
   {
    "duration": 83,
    "start_time": "2021-07-27T15:06:10.639Z"
   },
   {
    "duration": 6215,
    "start_time": "2021-07-27T15:07:39.796Z"
   },
   {
    "duration": 84,
    "start_time": "2021-07-27T15:08:05.013Z"
   },
   {
    "duration": 6574,
    "start_time": "2021-07-27T15:08:42.574Z"
   },
   {
    "duration": 377,
    "start_time": "2021-07-27T15:10:03.249Z"
   },
   {
    "duration": 90,
    "start_time": "2021-07-27T15:10:25.483Z"
   },
   {
    "duration": 90,
    "start_time": "2021-07-27T15:11:42.039Z"
   },
   {
    "duration": 228,
    "start_time": "2021-07-27T15:18:14.486Z"
   },
   {
    "duration": 285,
    "start_time": "2021-07-27T15:20:32.229Z"
   },
   {
    "duration": 1001,
    "start_time": "2021-07-27T15:21:09.352Z"
   },
   {
    "duration": 51,
    "start_time": "2021-07-27T15:21:10.356Z"
   },
   {
    "duration": 28,
    "start_time": "2021-07-27T15:21:10.410Z"
   },
   {
    "duration": 43,
    "start_time": "2021-07-27T15:21:10.441Z"
   },
   {
    "duration": 21,
    "start_time": "2021-07-27T15:21:10.487Z"
   },
   {
    "duration": 52,
    "start_time": "2021-07-27T15:21:10.511Z"
   },
   {
    "duration": 25,
    "start_time": "2021-07-27T15:21:10.566Z"
   },
   {
    "duration": 25,
    "start_time": "2021-07-27T15:21:10.594Z"
   },
   {
    "duration": 51,
    "start_time": "2021-07-27T15:21:10.622Z"
   },
   {
    "duration": 42,
    "start_time": "2021-07-27T15:21:10.676Z"
   },
   {
    "duration": 41,
    "start_time": "2021-07-27T15:21:10.721Z"
   },
   {
    "duration": 16,
    "start_time": "2021-07-27T15:21:10.764Z"
   },
   {
    "duration": 32,
    "start_time": "2021-07-27T15:21:10.782Z"
   },
   {
    "duration": 113,
    "start_time": "2021-07-27T15:21:10.816Z"
   },
   {
    "duration": 796,
    "start_time": "2021-07-27T15:21:10.931Z"
   },
   {
    "duration": 243,
    "start_time": "2021-07-27T15:21:11.729Z"
   },
   {
    "duration": 8,
    "start_time": "2021-07-27T15:21:11.974Z"
   },
   {
    "duration": 7,
    "start_time": "2021-07-27T15:21:11.984Z"
   },
   {
    "duration": 8,
    "start_time": "2021-07-27T15:21:11.993Z"
   },
   {
    "duration": 9,
    "start_time": "2021-07-27T15:21:12.003Z"
   },
   {
    "duration": 55,
    "start_time": "2021-07-27T15:21:12.015Z"
   },
   {
    "duration": 10,
    "start_time": "2021-07-27T15:21:12.072Z"
   },
   {
    "duration": 7,
    "start_time": "2021-07-27T15:21:12.087Z"
   },
   {
    "duration": 21,
    "start_time": "2021-07-27T15:21:12.098Z"
   },
   {
    "duration": 46,
    "start_time": "2021-07-27T15:21:12.122Z"
   },
   {
    "duration": 8,
    "start_time": "2021-07-27T15:21:12.171Z"
   },
   {
    "duration": 94,
    "start_time": "2021-07-27T15:21:12.182Z"
   },
   {
    "duration": 32,
    "start_time": "2021-07-27T15:21:12.279Z"
   },
   {
    "duration": 1737,
    "start_time": "2021-07-27T15:21:12.313Z"
   },
   {
    "duration": 13,
    "start_time": "2021-07-27T15:21:14.053Z"
   },
   {
    "duration": 9,
    "start_time": "2021-07-27T15:21:14.068Z"
   },
   {
    "duration": 26,
    "start_time": "2021-07-27T15:21:14.080Z"
   },
   {
    "duration": 100,
    "start_time": "2021-07-27T15:21:14.108Z"
   },
   {
    "duration": 3532,
    "start_time": "2021-07-27T15:21:14.210Z"
   },
   {
    "duration": 500,
    "start_time": "2021-07-27T15:21:17.744Z"
   },
   {
    "duration": 40,
    "start_time": "2021-07-27T15:21:18.246Z"
   },
   {
    "duration": 2576,
    "start_time": "2021-07-27T15:21:18.289Z"
   },
   {
    "duration": 453,
    "start_time": "2021-07-27T15:21:20.867Z"
   },
   {
    "duration": 43,
    "start_time": "2021-07-27T15:21:21.322Z"
   },
   {
    "duration": 476,
    "start_time": "2021-07-27T15:21:21.367Z"
   },
   {
    "duration": 4,
    "start_time": "2021-07-27T15:21:21.845Z"
   },
   {
    "duration": 7168,
    "start_time": "2021-07-27T15:21:21.861Z"
   },
   {
    "duration": 6,
    "start_time": "2021-07-27T15:21:29.032Z"
   },
   {
    "duration": 150,
    "start_time": "2021-07-27T15:21:29.040Z"
   },
   {
    "duration": 84,
    "start_time": "2021-07-27T15:21:29.192Z"
   },
   {
    "duration": 375,
    "start_time": "2021-07-27T15:21:29.279Z"
   },
   {
    "duration": -1913,
    "start_time": "2021-07-27T15:21:31.570Z"
   },
   {
    "duration": -1917,
    "start_time": "2021-07-27T15:21:31.575Z"
   },
   {
    "duration": -1924,
    "start_time": "2021-07-27T15:21:31.583Z"
   },
   {
    "duration": -1927,
    "start_time": "2021-07-27T15:21:31.588Z"
   },
   {
    "duration": 995,
    "start_time": "2021-07-27T15:21:52.200Z"
   },
   {
    "duration": 65,
    "start_time": "2021-07-27T15:21:53.197Z"
   },
   {
    "duration": 25,
    "start_time": "2021-07-27T15:21:53.265Z"
   },
   {
    "duration": 26,
    "start_time": "2021-07-27T15:21:53.293Z"
   },
   {
    "duration": 59,
    "start_time": "2021-07-27T15:21:53.321Z"
   },
   {
    "duration": 24,
    "start_time": "2021-07-27T15:21:53.383Z"
   },
   {
    "duration": 57,
    "start_time": "2021-07-27T15:21:53.410Z"
   },
   {
    "duration": 24,
    "start_time": "2021-07-27T15:21:53.469Z"
   },
   {
    "duration": 22,
    "start_time": "2021-07-27T15:21:53.497Z"
   },
   {
    "duration": 80,
    "start_time": "2021-07-27T15:21:53.522Z"
   },
   {
    "duration": 11,
    "start_time": "2021-07-27T15:21:53.605Z"
   },
   {
    "duration": 44,
    "start_time": "2021-07-27T15:21:53.618Z"
   },
   {
    "duration": 33,
    "start_time": "2021-07-27T15:21:53.664Z"
   },
   {
    "duration": 115,
    "start_time": "2021-07-27T15:21:53.699Z"
   },
   {
    "duration": 790,
    "start_time": "2021-07-27T15:21:53.816Z"
   },
   {
    "duration": 234,
    "start_time": "2021-07-27T15:21:54.609Z"
   },
   {
    "duration": 19,
    "start_time": "2021-07-27T15:21:54.846Z"
   },
   {
    "duration": 7,
    "start_time": "2021-07-27T15:21:54.867Z"
   },
   {
    "duration": 8,
    "start_time": "2021-07-27T15:21:54.877Z"
   },
   {
    "duration": 8,
    "start_time": "2021-07-27T15:21:54.887Z"
   },
   {
    "duration": 27,
    "start_time": "2021-07-27T15:21:54.897Z"
   },
   {
    "duration": 37,
    "start_time": "2021-07-27T15:21:54.926Z"
   },
   {
    "duration": 4,
    "start_time": "2021-07-27T15:21:54.966Z"
   },
   {
    "duration": 91,
    "start_time": "2021-07-27T15:21:54.972Z"
   },
   {
    "duration": 12,
    "start_time": "2021-07-27T15:21:55.066Z"
   },
   {
    "duration": 7,
    "start_time": "2021-07-27T15:21:55.080Z"
   },
   {
    "duration": 13,
    "start_time": "2021-07-27T15:21:55.092Z"
   },
   {
    "duration": 65,
    "start_time": "2021-07-27T15:21:55.108Z"
   },
   {
    "duration": 1832,
    "start_time": "2021-07-27T15:21:55.176Z"
   },
   {
    "duration": 11,
    "start_time": "2021-07-27T15:21:57.010Z"
   },
   {
    "duration": 9,
    "start_time": "2021-07-27T15:21:57.024Z"
   },
   {
    "duration": 50,
    "start_time": "2021-07-27T15:21:57.035Z"
   },
   {
    "duration": 90,
    "start_time": "2021-07-27T15:21:57.089Z"
   },
   {
    "duration": 4084,
    "start_time": "2021-07-27T15:21:57.183Z"
   },
   {
    "duration": 725,
    "start_time": "2021-07-27T15:22:01.270Z"
   },
   {
    "duration": 42,
    "start_time": "2021-07-27T15:22:01.999Z"
   },
   {
    "duration": 3755,
    "start_time": "2021-07-27T15:22:02.045Z"
   },
   {
    "duration": 639,
    "start_time": "2021-07-27T15:22:05.803Z"
   },
   {
    "duration": 50,
    "start_time": "2021-07-27T15:22:06.445Z"
   },
   {
    "duration": 695,
    "start_time": "2021-07-27T15:22:06.498Z"
   },
   {
    "duration": 5,
    "start_time": "2021-07-27T15:22:07.195Z"
   },
   {
    "duration": 7282,
    "start_time": "2021-07-27T15:22:07.204Z"
   },
   {
    "duration": 9,
    "start_time": "2021-07-27T15:22:14.489Z"
   },
   {
    "duration": 164,
    "start_time": "2021-07-27T15:22:14.500Z"
   },
   {
    "duration": 95,
    "start_time": "2021-07-27T15:22:14.667Z"
   },
   {
    "duration": 464,
    "start_time": "2021-07-27T15:22:14.764Z"
   },
   {
    "duration": 30,
    "start_time": "2021-07-27T15:22:15.200Z"
   },
   {
    "duration": 26,
    "start_time": "2021-07-27T15:22:15.205Z"
   },
   {
    "duration": 23,
    "start_time": "2021-07-27T15:22:15.209Z"
   },
   {
    "duration": 15,
    "start_time": "2021-07-27T15:22:15.218Z"
   },
   {
    "duration": 325,
    "start_time": "2021-07-27T15:22:46.833Z"
   },
   {
    "duration": 121,
    "start_time": "2021-07-27T15:23:31.423Z"
   },
   {
    "duration": 321,
    "start_time": "2021-07-27T15:24:30.314Z"
   },
   {
    "duration": 109,
    "start_time": "2021-07-27T15:24:55.097Z"
   },
   {
    "duration": 3,
    "start_time": "2021-07-27T15:56:43.523Z"
   },
   {
    "duration": 475,
    "start_time": "2021-07-27T15:57:01.750Z"
   },
   {
    "duration": 75,
    "start_time": "2021-07-27T16:33:01.871Z"
   },
   {
    "duration": 7288,
    "start_time": "2021-07-27T16:36:08.161Z"
   },
   {
    "duration": 24,
    "start_time": "2021-07-27T16:38:25.384Z"
   },
   {
    "duration": 642,
    "start_time": "2021-07-27T16:38:35.277Z"
   },
   {
    "duration": 1060,
    "start_time": "2021-07-27T16:38:43.727Z"
   },
   {
    "duration": 50,
    "start_time": "2021-07-27T16:38:44.790Z"
   },
   {
    "duration": 43,
    "start_time": "2021-07-27T16:38:44.843Z"
   },
   {
    "duration": 26,
    "start_time": "2021-07-27T16:38:44.889Z"
   },
   {
    "duration": 51,
    "start_time": "2021-07-27T16:38:44.918Z"
   },
   {
    "duration": 22,
    "start_time": "2021-07-27T16:38:44.972Z"
   },
   {
    "duration": 23,
    "start_time": "2021-07-27T16:38:44.997Z"
   },
   {
    "duration": 56,
    "start_time": "2021-07-27T16:38:45.024Z"
   },
   {
    "duration": 24,
    "start_time": "2021-07-27T16:38:45.083Z"
   },
   {
    "duration": 71,
    "start_time": "2021-07-27T16:38:45.109Z"
   },
   {
    "duration": 12,
    "start_time": "2021-07-27T16:38:45.182Z"
   },
   {
    "duration": 18,
    "start_time": "2021-07-27T16:38:45.196Z"
   },
   {
    "duration": 67,
    "start_time": "2021-07-27T16:38:45.216Z"
   },
   {
    "duration": 105,
    "start_time": "2021-07-27T16:38:45.286Z"
   },
   {
    "duration": 798,
    "start_time": "2021-07-27T16:38:45.394Z"
   },
   {
    "duration": 376,
    "start_time": "2021-07-27T16:38:46.195Z"
   },
   {
    "duration": 10,
    "start_time": "2021-07-27T16:38:46.575Z"
   },
   {
    "duration": 7,
    "start_time": "2021-07-27T16:38:46.587Z"
   },
   {
    "duration": 9,
    "start_time": "2021-07-27T16:38:46.597Z"
   },
   {
    "duration": 8,
    "start_time": "2021-07-27T16:38:46.609Z"
   },
   {
    "duration": 79,
    "start_time": "2021-07-27T16:38:46.620Z"
   },
   {
    "duration": 9,
    "start_time": "2021-07-27T16:38:46.702Z"
   },
   {
    "duration": 5,
    "start_time": "2021-07-27T16:38:46.717Z"
   },
   {
    "duration": 51,
    "start_time": "2021-07-27T16:38:46.725Z"
   },
   {
    "duration": 15,
    "start_time": "2021-07-27T16:38:46.779Z"
   },
   {
    "duration": 8,
    "start_time": "2021-07-27T16:38:46.796Z"
   },
   {
    "duration": 106,
    "start_time": "2021-07-27T16:38:46.807Z"
   },
   {
    "duration": 46,
    "start_time": "2021-07-27T16:38:46.916Z"
   },
   {
    "duration": 1756,
    "start_time": "2021-07-27T16:38:46.964Z"
   },
   {
    "duration": 9,
    "start_time": "2021-07-27T16:38:48.722Z"
   },
   {
    "duration": 7,
    "start_time": "2021-07-27T16:38:48.733Z"
   },
   {
    "duration": 42,
    "start_time": "2021-07-27T16:38:48.743Z"
   },
   {
    "duration": 85,
    "start_time": "2021-07-27T16:38:48.787Z"
   },
   {
    "duration": 3543,
    "start_time": "2021-07-27T16:38:48.874Z"
   },
   {
    "duration": 501,
    "start_time": "2021-07-27T16:38:52.419Z"
   },
   {
    "duration": 47,
    "start_time": "2021-07-27T16:38:52.922Z"
   },
   {
    "duration": 2590,
    "start_time": "2021-07-27T16:38:52.972Z"
   },
   {
    "duration": 445,
    "start_time": "2021-07-27T16:38:55.564Z"
   },
   {
    "duration": 5,
    "start_time": "2021-07-27T16:38:56.011Z"
   },
   {
    "duration": 47,
    "start_time": "2021-07-27T16:38:56.019Z"
   },
   {
    "duration": 125,
    "start_time": "2021-07-27T16:38:56.069Z"
   },
   {
    "duration": 7,
    "start_time": "2021-07-27T16:38:56.197Z"
   },
   {
    "duration": 384,
    "start_time": "2021-07-27T16:38:56.206Z"
   },
   {
    "duration": -19,
    "start_time": "2021-07-27T16:38:56.612Z"
   },
   {
    "duration": -34,
    "start_time": "2021-07-27T16:38:56.629Z"
   },
   {
    "duration": -45,
    "start_time": "2021-07-27T16:38:56.641Z"
   },
   {
    "duration": -54,
    "start_time": "2021-07-27T16:38:56.652Z"
   },
   {
    "duration": -63,
    "start_time": "2021-07-27T16:38:56.662Z"
   },
   {
    "duration": -65,
    "start_time": "2021-07-27T16:38:56.666Z"
   },
   {
    "duration": -72,
    "start_time": "2021-07-27T16:38:56.674Z"
   },
   {
    "duration": 4,
    "start_time": "2021-07-27T16:40:52.089Z"
   },
   {
    "duration": 29,
    "start_time": "2021-07-27T16:40:53.889Z"
   },
   {
    "duration": 109,
    "start_time": "2021-07-27T16:40:57.054Z"
   },
   {
    "duration": 5459,
    "start_time": "2021-07-27T16:42:06.365Z"
   },
   {
    "duration": 275,
    "start_time": "2021-07-27T16:43:39.995Z"
   },
   {
    "duration": 4,
    "start_time": "2021-07-27T16:43:41.651Z"
   },
   {
    "duration": 5138,
    "start_time": "2021-07-27T16:43:43.275Z"
   },
   {
    "duration": 4,
    "start_time": "2021-07-27T16:43:58.687Z"
   },
   {
    "duration": 4941,
    "start_time": "2021-07-27T16:44:00.099Z"
   },
   {
    "duration": 4929,
    "start_time": "2021-07-27T16:44:20.821Z"
   },
   {
    "duration": 4968,
    "start_time": "2021-07-27T16:47:29.633Z"
   },
   {
    "duration": 4971,
    "start_time": "2021-07-27T16:47:43.479Z"
   },
   {
    "duration": 4,
    "start_time": "2021-07-27T16:55:41.371Z"
   },
   {
    "duration": 219,
    "start_time": "2021-07-27T16:58:02.377Z"
   },
   {
    "duration": 16,
    "start_time": "2021-07-27T16:58:07.893Z"
   },
   {
    "duration": 19,
    "start_time": "2021-07-27T16:58:15.815Z"
   },
   {
    "duration": 1074,
    "start_time": "2021-07-27T17:03:18.537Z"
   },
   {
    "duration": 62,
    "start_time": "2021-07-27T17:03:19.614Z"
   },
   {
    "duration": 33,
    "start_time": "2021-07-27T17:03:19.679Z"
   },
   {
    "duration": 27,
    "start_time": "2021-07-27T17:03:19.715Z"
   },
   {
    "duration": 28,
    "start_time": "2021-07-27T17:03:19.745Z"
   },
   {
    "duration": 22,
    "start_time": "2021-07-27T17:03:19.776Z"
   },
   {
    "duration": 25,
    "start_time": "2021-07-27T17:03:19.800Z"
   },
   {
    "duration": 43,
    "start_time": "2021-07-27T17:03:19.829Z"
   },
   {
    "duration": 22,
    "start_time": "2021-07-27T17:03:19.875Z"
   },
   {
    "duration": 48,
    "start_time": "2021-07-27T17:03:19.900Z"
   },
   {
    "duration": 21,
    "start_time": "2021-07-27T17:03:19.950Z"
   },
   {
    "duration": 16,
    "start_time": "2021-07-27T17:03:19.973Z"
   },
   {
    "duration": 37,
    "start_time": "2021-07-27T17:03:19.991Z"
   },
   {
    "duration": 98,
    "start_time": "2021-07-27T17:03:20.030Z"
   },
   {
    "duration": 1026,
    "start_time": "2021-07-27T17:03:20.131Z"
   },
   {
    "duration": 235,
    "start_time": "2021-07-27T17:03:21.159Z"
   },
   {
    "duration": 9,
    "start_time": "2021-07-27T17:03:21.397Z"
   },
   {
    "duration": 8,
    "start_time": "2021-07-27T17:03:21.408Z"
   },
   {
    "duration": 11,
    "start_time": "2021-07-27T17:03:21.419Z"
   },
   {
    "duration": 30,
    "start_time": "2021-07-27T17:03:21.432Z"
   },
   {
    "duration": 25,
    "start_time": "2021-07-27T17:03:21.465Z"
   },
   {
    "duration": 10,
    "start_time": "2021-07-27T17:03:21.492Z"
   },
   {
    "duration": 5,
    "start_time": "2021-07-27T17:03:21.510Z"
   },
   {
    "duration": 55,
    "start_time": "2021-07-27T17:03:21.520Z"
   },
   {
    "duration": 13,
    "start_time": "2021-07-27T17:03:21.578Z"
   },
   {
    "duration": 8,
    "start_time": "2021-07-27T17:03:21.593Z"
   },
   {
    "duration": 116,
    "start_time": "2021-07-27T17:03:21.603Z"
   },
   {
    "duration": 42,
    "start_time": "2021-07-27T17:03:21.721Z"
   },
   {
    "duration": 1747,
    "start_time": "2021-07-27T17:03:21.765Z"
   },
   {
    "duration": 9,
    "start_time": "2021-07-27T17:03:23.514Z"
   },
   {
    "duration": 10,
    "start_time": "2021-07-27T17:03:23.525Z"
   },
   {
    "duration": 45,
    "start_time": "2021-07-27T17:03:23.538Z"
   },
   {
    "duration": 87,
    "start_time": "2021-07-27T17:03:23.585Z"
   },
   {
    "duration": 3504,
    "start_time": "2021-07-27T17:03:23.675Z"
   },
   {
    "duration": 505,
    "start_time": "2021-07-27T17:03:27.181Z"
   },
   {
    "duration": 33,
    "start_time": "2021-07-27T17:03:27.689Z"
   },
   {
    "duration": 2587,
    "start_time": "2021-07-27T17:03:27.725Z"
   },
   {
    "duration": 437,
    "start_time": "2021-07-27T17:03:30.315Z"
   },
   {
    "duration": 9,
    "start_time": "2021-07-27T17:03:30.754Z"
   },
   {
    "duration": 37,
    "start_time": "2021-07-27T17:03:30.765Z"
   },
   {
    "duration": 369,
    "start_time": "2021-07-27T17:03:30.805Z"
   },
   {
    "duration": 0,
    "start_time": "2021-07-27T17:03:31.177Z"
   },
   {
    "duration": -19,
    "start_time": "2021-07-27T17:03:31.197Z"
   },
   {
    "duration": -33,
    "start_time": "2021-07-27T17:03:31.213Z"
   },
   {
    "duration": -49,
    "start_time": "2021-07-27T17:03:31.230Z"
   },
   {
    "duration": -62,
    "start_time": "2021-07-27T17:03:31.245Z"
   },
   {
    "duration": -76,
    "start_time": "2021-07-27T17:03:31.261Z"
   },
   {
    "duration": -90,
    "start_time": "2021-07-27T17:03:31.276Z"
   },
   {
    "duration": -104,
    "start_time": "2021-07-27T17:03:31.292Z"
   },
   {
    "duration": -119,
    "start_time": "2021-07-27T17:03:31.309Z"
   },
   {
    "duration": 4790,
    "start_time": "2021-07-27T17:03:50.379Z"
   },
   {
    "duration": 238,
    "start_time": "2021-07-27T17:07:43.370Z"
   },
   {
    "duration": 4,
    "start_time": "2021-07-27T17:07:49.306Z"
   },
   {
    "duration": 227,
    "start_time": "2021-07-27T17:07:52.323Z"
   },
   {
    "duration": 244,
    "start_time": "2021-07-27T17:08:06.847Z"
   },
   {
    "duration": 99,
    "start_time": "2021-07-27T17:09:04.366Z"
   },
   {
    "duration": 112,
    "start_time": "2021-07-27T17:09:13.478Z"
   },
   {
    "duration": 4,
    "start_time": "2021-07-27T17:10:40.957Z"
   },
   {
    "duration": 258,
    "start_time": "2021-07-27T17:10:41.926Z"
   },
   {
    "duration": 275,
    "start_time": "2021-07-27T17:11:16.828Z"
   },
   {
    "duration": 4,
    "start_time": "2021-07-27T17:11:21.590Z"
   },
   {
    "duration": 117,
    "start_time": "2021-07-27T17:11:23.188Z"
   },
   {
    "duration": 87,
    "start_time": "2021-07-27T17:11:57.865Z"
   },
   {
    "duration": 129,
    "start_time": "2021-07-27T17:12:05.677Z"
   },
   {
    "duration": 32,
    "start_time": "2021-07-27T17:20:16.103Z"
   },
   {
    "duration": 36,
    "start_time": "2021-07-27T17:20:35.083Z"
   },
   {
    "duration": 37,
    "start_time": "2021-07-27T17:21:00.309Z"
   },
   {
    "duration": 37,
    "start_time": "2021-07-27T17:21:48.614Z"
   },
   {
    "duration": 252,
    "start_time": "2021-07-27T17:23:34.607Z"
   },
   {
    "duration": 6,
    "start_time": "2021-07-27T17:23:38.444Z"
   },
   {
    "duration": 124,
    "start_time": "2021-07-27T17:23:40.001Z"
   },
   {
    "duration": 33,
    "start_time": "2021-07-27T17:24:04.001Z"
   },
   {
    "duration": 27,
    "start_time": "2021-07-27T17:27:07.850Z"
   },
   {
    "duration": 5082,
    "start_time": "2021-07-27T17:27:09.991Z"
   },
   {
    "duration": 4,
    "start_time": "2021-07-27T17:27:42.717Z"
   },
   {
    "duration": 6,
    "start_time": "2021-07-27T17:27:43.867Z"
   },
   {
    "duration": 161,
    "start_time": "2021-07-27T17:27:48.756Z"
   },
   {
    "duration": 159,
    "start_time": "2021-07-27T17:28:18.479Z"
   },
   {
    "duration": 156,
    "start_time": "2021-07-27T17:29:09.947Z"
   },
   {
    "duration": 85,
    "start_time": "2021-07-27T17:29:21.860Z"
   },
   {
    "duration": 84,
    "start_time": "2021-07-27T17:29:38.168Z"
   },
   {
    "duration": 154,
    "start_time": "2021-07-27T17:29:46.495Z"
   },
   {
    "duration": 155,
    "start_time": "2021-07-27T17:29:54.747Z"
   },
   {
    "duration": 163,
    "start_time": "2021-07-27T17:30:00.857Z"
   },
   {
    "duration": 152,
    "start_time": "2021-07-27T17:30:28.319Z"
   },
   {
    "duration": 154,
    "start_time": "2021-07-27T17:30:47.162Z"
   },
   {
    "duration": 151,
    "start_time": "2021-07-27T17:30:53.179Z"
   },
   {
    "duration": 37,
    "start_time": "2021-07-27T17:31:00.755Z"
   },
   {
    "duration": 6,
    "start_time": "2021-07-27T17:31:23.195Z"
   },
   {
    "duration": 156,
    "start_time": "2021-07-27T17:31:25.953Z"
   },
   {
    "duration": 36,
    "start_time": "2021-07-27T17:31:29.781Z"
   },
   {
    "duration": 38,
    "start_time": "2021-07-27T17:34:47.355Z"
   },
   {
    "duration": 38,
    "start_time": "2021-07-27T17:34:52.577Z"
   },
   {
    "duration": 38,
    "start_time": "2021-07-27T17:35:48.545Z"
   },
   {
    "duration": 36,
    "start_time": "2021-07-27T17:36:02.135Z"
   },
   {
    "duration": 31,
    "start_time": "2021-07-27T17:37:20.163Z"
   },
   {
    "duration": 28,
    "start_time": "2021-07-27T17:37:22.982Z"
   },
   {
    "duration": 38,
    "start_time": "2021-07-27T17:37:32.094Z"
   },
   {
    "duration": 38,
    "start_time": "2021-07-27T17:37:40.251Z"
   },
   {
    "duration": 6,
    "start_time": "2021-07-27T17:40:30.945Z"
   },
   {
    "duration": 114,
    "start_time": "2021-07-27T17:40:43.799Z"
   },
   {
    "duration": 28,
    "start_time": "2021-07-27T17:40:56.473Z"
   },
   {
    "duration": 6,
    "start_time": "2021-07-27T17:41:58.414Z"
   },
   {
    "duration": 115,
    "start_time": "2021-07-27T17:41:59.699Z"
   },
   {
    "duration": 26,
    "start_time": "2021-07-27T17:42:07.319Z"
   },
   {
    "duration": 27,
    "start_time": "2021-07-27T17:42:49.489Z"
   },
   {
    "duration": 25,
    "start_time": "2021-07-27T17:42:55.746Z"
   },
   {
    "duration": 99,
    "start_time": "2021-07-27T17:44:10.083Z"
   },
   {
    "duration": 96,
    "start_time": "2021-07-27T17:44:18.201Z"
   },
   {
    "duration": 99,
    "start_time": "2021-07-27T17:44:38.027Z"
   },
   {
    "duration": 25,
    "start_time": "2021-07-27T17:45:24.229Z"
   },
   {
    "duration": 39,
    "start_time": "2021-07-27T17:45:29.817Z"
   },
   {
    "duration": 54,
    "start_time": "2021-07-27T17:46:28.673Z"
   },
   {
    "duration": 39,
    "start_time": "2021-07-27T17:46:36.111Z"
   },
   {
    "duration": 40,
    "start_time": "2021-07-27T17:47:24.120Z"
   },
   {
    "duration": 41,
    "start_time": "2021-07-27T17:47:35.259Z"
   },
   {
    "duration": 76,
    "start_time": "2021-07-27T17:52:24.587Z"
   },
   {
    "duration": 91,
    "start_time": "2021-07-27T17:53:08.057Z"
   },
   {
    "duration": 319,
    "start_time": "2021-07-27T17:53:13.928Z"
   },
   {
    "duration": 3747,
    "start_time": "2021-07-27T17:53:23.768Z"
   },
   {
    "duration": 1931,
    "start_time": "2021-07-27T17:54:09.465Z"
   },
   {
    "duration": 2143,
    "start_time": "2021-07-27T17:54:31.157Z"
   },
   {
    "duration": 8,
    "start_time": "2021-07-27T17:54:38.955Z"
   },
   {
    "duration": 5161,
    "start_time": "2021-07-27T17:56:05.061Z"
   },
   {
    "duration": 85,
    "start_time": "2021-07-27T17:58:51.342Z"
   },
   {
    "duration": 89,
    "start_time": "2021-07-27T18:01:36.706Z"
   },
   {
    "duration": 284,
    "start_time": "2021-07-27T18:01:42.182Z"
   },
   {
    "duration": 402,
    "start_time": "2021-07-27T18:01:50.456Z"
   },
   {
    "duration": 442,
    "start_time": "2021-07-27T18:02:20.555Z"
   },
   {
    "duration": 273,
    "start_time": "2021-07-27T18:02:34.296Z"
   },
   {
    "duration": 398,
    "start_time": "2021-07-27T18:02:43.246Z"
   },
   {
    "duration": 165,
    "start_time": "2021-07-27T18:04:08.945Z"
   },
   {
    "duration": 164,
    "start_time": "2021-07-27T18:04:21.039Z"
   },
   {
    "duration": 180,
    "start_time": "2021-07-27T18:04:34.707Z"
   },
   {
    "duration": 2111,
    "start_time": "2021-07-27T18:05:45.093Z"
   },
   {
    "duration": 87,
    "start_time": "2021-07-27T18:05:48.391Z"
   },
   {
    "duration": 1956,
    "start_time": "2021-07-27T18:12:56.633Z"
   },
   {
    "duration": 87,
    "start_time": "2021-07-27T18:13:02.189Z"
   },
   {
    "duration": 1872,
    "start_time": "2021-07-27T18:13:13.225Z"
   },
   {
    "duration": 88,
    "start_time": "2021-07-27T18:13:18.742Z"
   },
   {
    "duration": 89,
    "start_time": "2021-07-27T18:14:55.507Z"
   },
   {
    "duration": 228,
    "start_time": "2021-07-27T18:15:01.076Z"
   },
   {
    "duration": 43,
    "start_time": "2021-07-27T18:15:06.813Z"
   },
   {
    "duration": 701,
    "start_time": "2021-07-27T22:34:16.939Z"
   },
   {
    "duration": 712,
    "start_time": "2021-07-27T22:34:35.005Z"
   },
   {
    "duration": 15,
    "start_time": "2021-07-27T22:35:38.245Z"
   },
   {
    "duration": 10640,
    "start_time": "2021-07-27T22:35:40.413Z"
   },
   {
    "duration": 16,
    "start_time": "2021-07-27T22:36:00.101Z"
   },
   {
    "duration": 1973,
    "start_time": "2021-07-27T22:36:28.541Z"
   },
   {
    "duration": 271,
    "start_time": "2021-07-27T22:37:12.657Z"
   },
   {
    "duration": 249,
    "start_time": "2021-07-27T22:37:18.875Z"
   },
   {
    "duration": 1502,
    "start_time": "2021-07-27T22:37:32.885Z"
   },
   {
    "duration": 1435,
    "start_time": "2021-07-28T12:09:30.330Z"
   },
   {
    "duration": 71,
    "start_time": "2021-07-28T12:09:31.768Z"
   },
   {
    "duration": 57,
    "start_time": "2021-07-28T12:09:31.843Z"
   },
   {
    "duration": 37,
    "start_time": "2021-07-28T12:09:31.904Z"
   },
   {
    "duration": 52,
    "start_time": "2021-07-28T12:09:31.943Z"
   },
   {
    "duration": 22,
    "start_time": "2021-07-28T12:09:31.997Z"
   },
   {
    "duration": 61,
    "start_time": "2021-07-28T12:09:32.021Z"
   },
   {
    "duration": 25,
    "start_time": "2021-07-28T12:09:32.085Z"
   },
   {
    "duration": 22,
    "start_time": "2021-07-28T12:09:32.113Z"
   },
   {
    "duration": 42,
    "start_time": "2021-07-28T12:09:32.168Z"
   },
   {
    "duration": 11,
    "start_time": "2021-07-28T12:09:32.212Z"
   },
   {
    "duration": 50,
    "start_time": "2021-07-28T12:09:32.225Z"
   },
   {
    "duration": 34,
    "start_time": "2021-07-28T12:09:32.278Z"
   },
   {
    "duration": 112,
    "start_time": "2021-07-28T12:09:32.314Z"
   },
   {
    "duration": 1015,
    "start_time": "2021-07-28T12:09:32.428Z"
   },
   {
    "duration": 278,
    "start_time": "2021-07-28T12:09:33.446Z"
   },
   {
    "duration": 9,
    "start_time": "2021-07-28T12:09:33.727Z"
   },
   {
    "duration": 28,
    "start_time": "2021-07-28T12:09:33.739Z"
   },
   {
    "duration": 9,
    "start_time": "2021-07-28T12:09:33.769Z"
   },
   {
    "duration": 7,
    "start_time": "2021-07-28T12:09:33.780Z"
   },
   {
    "duration": 25,
    "start_time": "2021-07-28T12:09:33.790Z"
   },
   {
    "duration": 9,
    "start_time": "2021-07-28T12:09:33.817Z"
   },
   {
    "duration": 35,
    "start_time": "2021-07-28T12:09:33.832Z"
   },
   {
    "duration": 21,
    "start_time": "2021-07-28T12:09:33.871Z"
   },
   {
    "duration": 13,
    "start_time": "2021-07-28T12:09:33.895Z"
   },
   {
    "duration": 8,
    "start_time": "2021-07-28T12:09:33.910Z"
   },
   {
    "duration": 101,
    "start_time": "2021-07-28T12:09:33.920Z"
   },
   {
    "duration": 44,
    "start_time": "2021-07-28T12:09:34.024Z"
   },
   {
    "duration": 1909,
    "start_time": "2021-07-28T12:09:34.071Z"
   },
   {
    "duration": 8,
    "start_time": "2021-07-28T12:09:35.983Z"
   },
   {
    "duration": 11,
    "start_time": "2021-07-28T12:09:35.994Z"
   },
   {
    "duration": 59,
    "start_time": "2021-07-28T12:09:36.008Z"
   },
   {
    "duration": 69,
    "start_time": "2021-07-28T12:09:36.070Z"
   },
   {
    "duration": 3494,
    "start_time": "2021-07-28T12:09:36.141Z"
   },
   {
    "duration": 480,
    "start_time": "2021-07-28T12:09:39.638Z"
   },
   {
    "duration": 47,
    "start_time": "2021-07-28T12:09:40.121Z"
   },
   {
    "duration": 2584,
    "start_time": "2021-07-28T12:09:40.170Z"
   },
   {
    "duration": 529,
    "start_time": "2021-07-28T12:09:42.756Z"
   },
   {
    "duration": 5,
    "start_time": "2021-07-28T12:09:43.287Z"
   },
   {
    "duration": 3201,
    "start_time": "2021-07-28T12:09:43.295Z"
   },
   {
    "duration": 117,
    "start_time": "2021-07-28T12:09:46.499Z"
   },
   {
    "duration": 204,
    "start_time": "2021-07-28T12:09:46.619Z"
   },
   {
    "duration": 523,
    "start_time": "2021-07-28T12:09:46.826Z"
   },
   {
    "duration": -31,
    "start_time": "2021-07-28T12:09:47.383Z"
   },
   {
    "duration": -35,
    "start_time": "2021-07-28T12:09:47.388Z"
   },
   {
    "duration": -37,
    "start_time": "2021-07-28T12:09:47.392Z"
   },
   {
    "duration": -40,
    "start_time": "2021-07-28T12:09:47.397Z"
   },
   {
    "duration": -43,
    "start_time": "2021-07-28T12:09:47.401Z"
   },
   {
    "duration": 1101,
    "start_time": "2021-07-28T22:17:11.680Z"
   },
   {
    "duration": 50,
    "start_time": "2021-07-28T22:17:12.784Z"
   },
   {
    "duration": 38,
    "start_time": "2021-07-28T22:17:12.837Z"
   },
   {
    "duration": 36,
    "start_time": "2021-07-28T22:17:12.878Z"
   },
   {
    "duration": 50,
    "start_time": "2021-07-28T22:17:12.916Z"
   },
   {
    "duration": 33,
    "start_time": "2021-07-28T22:17:12.969Z"
   },
   {
    "duration": 55,
    "start_time": "2021-07-28T22:17:13.006Z"
   },
   {
    "duration": 33,
    "start_time": "2021-07-28T22:17:13.068Z"
   },
   {
    "duration": 61,
    "start_time": "2021-07-28T22:17:13.105Z"
   },
   {
    "duration": 59,
    "start_time": "2021-07-28T22:17:13.169Z"
   },
   {
    "duration": 19,
    "start_time": "2021-07-28T22:17:13.256Z"
   },
   {
    "duration": 26,
    "start_time": "2021-07-28T22:17:13.278Z"
   },
   {
    "duration": 59,
    "start_time": "2021-07-28T22:17:13.306Z"
   },
   {
    "duration": 97,
    "start_time": "2021-07-28T22:17:13.368Z"
   },
   {
    "duration": 887,
    "start_time": "2021-07-28T22:17:13.468Z"
   },
   {
    "duration": 336,
    "start_time": "2021-07-28T22:17:14.358Z"
   },
   {
    "duration": 9,
    "start_time": "2021-07-28T22:17:14.696Z"
   },
   {
    "duration": 25,
    "start_time": "2021-07-28T22:17:14.708Z"
   },
   {
    "duration": 22,
    "start_time": "2021-07-28T22:17:14.736Z"
   },
   {
    "duration": 16,
    "start_time": "2021-07-28T22:17:14.761Z"
   },
   {
    "duration": 41,
    "start_time": "2021-07-28T22:17:14.780Z"
   },
   {
    "duration": 9,
    "start_time": "2021-07-28T22:17:14.823Z"
   },
   {
    "duration": 22,
    "start_time": "2021-07-28T22:17:14.837Z"
   },
   {
    "duration": 23,
    "start_time": "2021-07-28T22:17:14.863Z"
   },
   {
    "duration": 19,
    "start_time": "2021-07-28T22:17:14.889Z"
   },
   {
    "duration": 17,
    "start_time": "2021-07-28T22:17:14.910Z"
   },
   {
    "duration": 85,
    "start_time": "2021-07-28T22:17:14.929Z"
   },
   {
    "duration": 61,
    "start_time": "2021-07-28T22:17:15.016Z"
   },
   {
    "duration": 1700,
    "start_time": "2021-07-28T22:17:15.079Z"
   },
   {
    "duration": 8,
    "start_time": "2021-07-28T22:17:16.782Z"
   },
   {
    "duration": 20,
    "start_time": "2021-07-28T22:17:16.793Z"
   },
   {
    "duration": 41,
    "start_time": "2021-07-28T22:17:16.815Z"
   },
   {
    "duration": 95,
    "start_time": "2021-07-28T22:17:16.859Z"
   },
   {
    "duration": 3423,
    "start_time": "2021-07-28T22:17:16.957Z"
   },
   {
    "duration": 474,
    "start_time": "2021-07-28T22:17:20.383Z"
   },
   {
    "duration": 34,
    "start_time": "2021-07-28T22:17:20.860Z"
   },
   {
    "duration": 2493,
    "start_time": "2021-07-28T22:17:20.897Z"
   },
   {
    "duration": 425,
    "start_time": "2021-07-28T22:17:23.393Z"
   },
   {
    "duration": 4,
    "start_time": "2021-07-28T22:17:23.821Z"
   },
   {
    "duration": 1913,
    "start_time": "2021-07-28T22:17:23.827Z"
   },
   {
    "duration": 103,
    "start_time": "2021-07-28T22:17:25.742Z"
   },
   {
    "duration": 178,
    "start_time": "2021-07-28T22:17:25.855Z"
   },
   {
    "duration": 358,
    "start_time": "2021-07-28T22:17:26.035Z"
   },
   {
    "duration": -330,
    "start_time": "2021-07-28T22:17:26.726Z"
   },
   {
    "duration": -337,
    "start_time": "2021-07-28T22:17:26.734Z"
   },
   {
    "duration": -339,
    "start_time": "2021-07-28T22:17:26.737Z"
   },
   {
    "duration": -342,
    "start_time": "2021-07-28T22:17:26.742Z"
   },
   {
    "duration": -345,
    "start_time": "2021-07-28T22:17:26.746Z"
   },
   {
    "duration": 24,
    "start_time": "2021-07-28T22:26:21.555Z"
   },
   {
    "duration": 22,
    "start_time": "2021-07-28T22:26:29.290Z"
   },
   {
    "duration": 23,
    "start_time": "2021-07-28T22:26:34.778Z"
   },
   {
    "duration": 985,
    "start_time": "2021-07-28T22:26:57.784Z"
   },
   {
    "duration": 52,
    "start_time": "2021-07-28T22:26:58.771Z"
   },
   {
    "duration": 30,
    "start_time": "2021-07-28T22:26:58.826Z"
   },
   {
    "duration": 26,
    "start_time": "2021-07-28T22:26:58.859Z"
   },
   {
    "duration": 21,
    "start_time": "2021-07-28T22:26:58.888Z"
   },
   {
    "duration": 26,
    "start_time": "2021-07-28T22:26:58.911Z"
   },
   {
    "duration": 32,
    "start_time": "2021-07-28T22:26:58.940Z"
   },
   {
    "duration": 25,
    "start_time": "2021-07-28T22:26:58.974Z"
   },
   {
    "duration": 60,
    "start_time": "2021-07-28T22:26:59.003Z"
   },
   {
    "duration": 98,
    "start_time": "2021-07-28T22:26:59.066Z"
   },
   {
    "duration": 12,
    "start_time": "2021-07-28T22:26:59.166Z"
   },
   {
    "duration": 23,
    "start_time": "2021-07-28T22:26:59.180Z"
   },
   {
    "duration": 35,
    "start_time": "2021-07-28T22:26:59.255Z"
   },
   {
    "duration": 91,
    "start_time": "2021-07-28T22:26:59.293Z"
   },
   {
    "duration": 992,
    "start_time": "2021-07-28T22:26:59.386Z"
   },
   {
    "duration": 301,
    "start_time": "2021-07-28T22:27:00.380Z"
   },
   {
    "duration": 8,
    "start_time": "2021-07-28T22:27:00.683Z"
   },
   {
    "duration": 62,
    "start_time": "2021-07-28T22:27:00.693Z"
   },
   {
    "duration": 21,
    "start_time": "2021-07-28T22:27:00.757Z"
   },
   {
    "duration": 22,
    "start_time": "2021-07-28T22:27:00.781Z"
   },
   {
    "duration": 83,
    "start_time": "2021-07-28T22:27:00.807Z"
   },
   {
    "duration": 13,
    "start_time": "2021-07-28T22:27:00.892Z"
   },
   {
    "duration": 36,
    "start_time": "2021-07-28T22:27:00.908Z"
   },
   {
    "duration": 29,
    "start_time": "2021-07-28T22:27:00.947Z"
   },
   {
    "duration": 90,
    "start_time": "2021-07-28T22:27:00.979Z"
   },
   {
    "duration": 27,
    "start_time": "2021-07-28T22:27:01.071Z"
   },
   {
    "duration": 52,
    "start_time": "2021-07-28T22:27:01.103Z"
   },
   {
    "duration": 103,
    "start_time": "2021-07-28T22:27:01.159Z"
   },
   {
    "duration": 2340,
    "start_time": "2021-07-28T22:27:01.265Z"
   },
   {
    "duration": 11,
    "start_time": "2021-07-28T22:27:03.608Z"
   },
   {
    "duration": 14,
    "start_time": "2021-07-28T22:27:03.622Z"
   },
   {
    "duration": 38,
    "start_time": "2021-07-28T22:27:03.639Z"
   },
   {
    "duration": 85,
    "start_time": "2021-07-28T22:27:03.680Z"
   },
   {
    "duration": 4014,
    "start_time": "2021-07-28T22:27:03.768Z"
   },
   {
    "duration": 485,
    "start_time": "2021-07-28T22:27:07.785Z"
   },
   {
    "duration": 36,
    "start_time": "2021-07-28T22:27:08.273Z"
   },
   {
    "duration": 2604,
    "start_time": "2021-07-28T22:27:08.312Z"
   },
   {
    "duration": 413,
    "start_time": "2021-07-28T22:27:10.919Z"
   },
   {
    "duration": 20,
    "start_time": "2021-07-28T22:27:11.334Z"
   },
   {
    "duration": 1828,
    "start_time": "2021-07-28T22:27:11.357Z"
   },
   {
    "duration": 104,
    "start_time": "2021-07-28T22:27:13.188Z"
   },
   {
    "duration": 177,
    "start_time": "2021-07-28T22:27:13.295Z"
   },
   {
    "duration": 342,
    "start_time": "2021-07-28T22:27:13.475Z"
   },
   {
    "duration": -349,
    "start_time": "2021-07-28T22:27:14.168Z"
   },
   {
    "duration": -354,
    "start_time": "2021-07-28T22:27:14.174Z"
   },
   {
    "duration": -356,
    "start_time": "2021-07-28T22:27:14.178Z"
   },
   {
    "duration": -359,
    "start_time": "2021-07-28T22:27:14.182Z"
   },
   {
    "duration": -368,
    "start_time": "2021-07-28T22:27:14.192Z"
   },
   {
    "duration": 118,
    "start_time": "2021-07-28T23:04:50.946Z"
   },
   {
    "duration": 132,
    "start_time": "2021-07-29T00:33:14.488Z"
   },
   {
    "duration": 459,
    "start_time": "2021-07-29T00:37:49.182Z"
   },
   {
    "duration": 1006,
    "start_time": "2021-07-29T00:37:57.488Z"
   },
   {
    "duration": 64,
    "start_time": "2021-07-29T00:37:58.498Z"
   },
   {
    "duration": 27,
    "start_time": "2021-07-29T00:37:58.566Z"
   },
   {
    "duration": 58,
    "start_time": "2021-07-29T00:37:58.597Z"
   },
   {
    "duration": 22,
    "start_time": "2021-07-29T00:37:58.658Z"
   },
   {
    "duration": 22,
    "start_time": "2021-07-29T00:37:58.682Z"
   },
   {
    "duration": 58,
    "start_time": "2021-07-29T00:37:58.706Z"
   },
   {
    "duration": 26,
    "start_time": "2021-07-29T00:37:58.770Z"
   },
   {
    "duration": 21,
    "start_time": "2021-07-29T00:37:58.799Z"
   },
   {
    "duration": 70,
    "start_time": "2021-07-29T00:37:58.822Z"
   },
   {
    "duration": 10,
    "start_time": "2021-07-29T00:37:58.895Z"
   },
   {
    "duration": 48,
    "start_time": "2021-07-29T00:37:58.908Z"
   },
   {
    "duration": 31,
    "start_time": "2021-07-29T00:37:58.959Z"
   },
   {
    "duration": 102,
    "start_time": "2021-07-29T00:37:58.993Z"
   },
   {
    "duration": 751,
    "start_time": "2021-07-29T00:37:59.097Z"
   },
   {
    "duration": 228,
    "start_time": "2021-07-29T00:37:59.850Z"
   },
   {
    "duration": 8,
    "start_time": "2021-07-29T00:38:00.080Z"
   },
   {
    "duration": 11,
    "start_time": "2021-07-29T00:38:00.090Z"
   },
   {
    "duration": 11,
    "start_time": "2021-07-29T00:38:00.104Z"
   },
   {
    "duration": 13,
    "start_time": "2021-07-29T00:38:00.118Z"
   },
   {
    "duration": 38,
    "start_time": "2021-07-29T00:38:00.133Z"
   },
   {
    "duration": 9,
    "start_time": "2021-07-29T00:38:00.173Z"
   },
   {
    "duration": 7,
    "start_time": "2021-07-29T00:38:00.187Z"
   },
   {
    "duration": 28,
    "start_time": "2021-07-29T00:38:00.197Z"
   },
   {
    "duration": 38,
    "start_time": "2021-07-29T00:38:00.228Z"
   },
   {
    "duration": 12,
    "start_time": "2021-07-29T00:38:00.268Z"
   },
   {
    "duration": 108,
    "start_time": "2021-07-29T00:38:00.283Z"
   },
   {
    "duration": 52,
    "start_time": "2021-07-29T00:38:00.394Z"
   },
   {
    "duration": 1793,
    "start_time": "2021-07-29T00:38:00.449Z"
   },
   {
    "duration": 17,
    "start_time": "2021-07-29T00:38:02.244Z"
   },
   {
    "duration": 13,
    "start_time": "2021-07-29T00:38:02.263Z"
   },
   {
    "duration": 23,
    "start_time": "2021-07-29T00:38:02.279Z"
   },
   {
    "duration": 87,
    "start_time": "2021-07-29T00:38:02.305Z"
   },
   {
    "duration": 3434,
    "start_time": "2021-07-29T00:38:02.395Z"
   },
   {
    "duration": 469,
    "start_time": "2021-07-29T00:38:05.832Z"
   },
   {
    "duration": 51,
    "start_time": "2021-07-29T00:38:06.304Z"
   },
   {
    "duration": 2538,
    "start_time": "2021-07-29T00:38:06.357Z"
   },
   {
    "duration": 410,
    "start_time": "2021-07-29T00:38:08.897Z"
   },
   {
    "duration": 4,
    "start_time": "2021-07-29T00:38:09.309Z"
   },
   {
    "duration": 1881,
    "start_time": "2021-07-29T00:38:09.315Z"
   },
   {
    "duration": 102,
    "start_time": "2021-07-29T00:38:11.198Z"
   },
   {
    "duration": 190,
    "start_time": "2021-07-29T00:38:11.302Z"
   },
   {
    "duration": 468,
    "start_time": "2021-07-29T00:38:11.494Z"
   },
   {
    "duration": 1183,
    "start_time": "2021-07-29T00:38:10.782Z"
   },
   {
    "duration": 1177,
    "start_time": "2021-07-29T00:38:10.789Z"
   },
   {
    "duration": 1166,
    "start_time": "2021-07-29T00:38:10.801Z"
   },
   {
    "duration": 1158,
    "start_time": "2021-07-29T00:38:10.811Z"
   },
   {
    "duration": 1153,
    "start_time": "2021-07-29T00:38:10.817Z"
   },
   {
    "duration": 175,
    "start_time": "2021-07-29T00:38:27.369Z"
   },
   {
    "duration": 172,
    "start_time": "2021-07-29T00:38:34.361Z"
   },
   {
    "duration": 57,
    "start_time": "2021-07-29T00:39:58.416Z"
   },
   {
    "duration": 1800,
    "start_time": "2021-07-29T00:41:14.283Z"
   },
   {
    "duration": 77,
    "start_time": "2021-07-29T00:41:18.803Z"
   },
   {
    "duration": 5,
    "start_time": "2021-07-29T00:41:20.043Z"
   },
   {
    "duration": 58,
    "start_time": "2021-07-29T00:41:34.467Z"
   },
   {
    "duration": 1017,
    "start_time": "2021-07-29T00:43:46.091Z"
   },
   {
    "duration": 60,
    "start_time": "2021-07-29T00:43:47.111Z"
   },
   {
    "duration": 26,
    "start_time": "2021-07-29T00:43:47.174Z"
   },
   {
    "duration": 25,
    "start_time": "2021-07-29T00:43:47.202Z"
   },
   {
    "duration": 45,
    "start_time": "2021-07-29T00:43:47.229Z"
   },
   {
    "duration": 21,
    "start_time": "2021-07-29T00:43:47.276Z"
   },
   {
    "duration": 24,
    "start_time": "2021-07-29T00:43:47.299Z"
   },
   {
    "duration": 53,
    "start_time": "2021-07-29T00:43:47.326Z"
   },
   {
    "duration": 22,
    "start_time": "2021-07-29T00:43:47.382Z"
   },
   {
    "duration": 73,
    "start_time": "2021-07-29T00:43:47.406Z"
   },
   {
    "duration": 11,
    "start_time": "2021-07-29T00:43:47.481Z"
   },
   {
    "duration": 16,
    "start_time": "2021-07-29T00:43:47.494Z"
   },
   {
    "duration": 65,
    "start_time": "2021-07-29T00:43:47.513Z"
   },
   {
    "duration": 97,
    "start_time": "2021-07-29T00:43:47.580Z"
   },
   {
    "duration": 720,
    "start_time": "2021-07-29T00:43:47.680Z"
   },
   {
    "duration": 228,
    "start_time": "2021-07-29T00:43:48.402Z"
   },
   {
    "duration": 7,
    "start_time": "2021-07-29T00:43:48.633Z"
   },
   {
    "duration": 5,
    "start_time": "2021-07-29T00:43:48.656Z"
   },
   {
    "duration": 8,
    "start_time": "2021-07-29T00:43:48.663Z"
   },
   {
    "duration": 10,
    "start_time": "2021-07-29T00:43:48.673Z"
   },
   {
    "duration": 24,
    "start_time": "2021-07-29T00:43:48.685Z"
   },
   {
    "duration": 9,
    "start_time": "2021-07-29T00:43:48.711Z"
   },
   {
    "duration": 33,
    "start_time": "2021-07-29T00:43:48.725Z"
   },
   {
    "duration": 19,
    "start_time": "2021-07-29T00:43:48.761Z"
   },
   {
    "duration": 12,
    "start_time": "2021-07-29T00:43:48.782Z"
   },
   {
    "duration": 7,
    "start_time": "2021-07-29T00:43:48.796Z"
   },
   {
    "duration": 108,
    "start_time": "2021-07-29T00:43:48.805Z"
   },
   {
    "duration": 42,
    "start_time": "2021-07-29T00:43:48.915Z"
   },
   {
    "duration": 1644,
    "start_time": "2021-07-29T00:43:48.959Z"
   },
   {
    "duration": 8,
    "start_time": "2021-07-29T00:43:50.606Z"
   },
   {
    "duration": 22,
    "start_time": "2021-07-29T00:43:50.616Z"
   },
   {
    "duration": 44,
    "start_time": "2021-07-29T00:43:50.640Z"
   },
   {
    "duration": 70,
    "start_time": "2021-07-29T00:43:50.686Z"
   },
   {
    "duration": 3362,
    "start_time": "2021-07-29T00:43:50.759Z"
   },
   {
    "duration": 464,
    "start_time": "2021-07-29T00:43:54.123Z"
   },
   {
    "duration": 33,
    "start_time": "2021-07-29T00:43:54.590Z"
   },
   {
    "duration": 2536,
    "start_time": "2021-07-29T00:43:54.625Z"
   },
   {
    "duration": 404,
    "start_time": "2021-07-29T00:43:57.164Z"
   },
   {
    "duration": 3,
    "start_time": "2021-07-29T00:43:57.571Z"
   },
   {
    "duration": 1805,
    "start_time": "2021-07-29T00:43:57.577Z"
   },
   {
    "duration": 102,
    "start_time": "2021-07-29T00:43:59.384Z"
   },
   {
    "duration": 4,
    "start_time": "2021-07-29T00:43:59.489Z"
   },
   {
    "duration": 224,
    "start_time": "2021-07-29T00:43:59.495Z"
   },
   {
    "duration": 77,
    "start_time": "2021-07-29T00:43:59.722Z"
   },
   {
    "duration": 532,
    "start_time": "2021-07-29T00:43:59.801Z"
   },
   {
    "duration": 23,
    "start_time": "2021-07-29T00:44:00.335Z"
   },
   {
    "duration": 10506,
    "start_time": "2021-07-29T00:44:00.361Z"
   },
   {
    "duration": 15,
    "start_time": "2021-07-29T00:44:10.870Z"
   },
   {
    "duration": 1844,
    "start_time": "2021-07-29T00:44:10.888Z"
   },
   {
    "duration": 11,
    "start_time": "2021-07-29T02:29:08.167Z"
   },
   {
    "duration": 444,
    "start_time": "2021-07-29T02:33:15.712Z"
   },
   {
    "duration": 225,
    "start_time": "2021-07-29T02:33:47.056Z"
   },
   {
    "duration": 979,
    "start_time": "2021-07-29T02:56:53.277Z"
   },
   {
    "duration": 48,
    "start_time": "2021-07-29T02:56:54.259Z"
   },
   {
    "duration": 24,
    "start_time": "2021-07-29T02:56:54.309Z"
   },
   {
    "duration": 25,
    "start_time": "2021-07-29T02:56:54.355Z"
   },
   {
    "duration": 21,
    "start_time": "2021-07-29T02:56:54.382Z"
   },
   {
    "duration": 21,
    "start_time": "2021-07-29T02:56:54.405Z"
   },
   {
    "duration": 23,
    "start_time": "2021-07-29T02:56:54.456Z"
   },
   {
    "duration": 23,
    "start_time": "2021-07-29T02:56:54.483Z"
   },
   {
    "duration": 49,
    "start_time": "2021-07-29T02:56:54.509Z"
   },
   {
    "duration": 38,
    "start_time": "2021-07-29T02:56:54.560Z"
   },
   {
    "duration": 12,
    "start_time": "2021-07-29T02:56:54.600Z"
   },
   {
    "duration": 49,
    "start_time": "2021-07-29T02:56:54.614Z"
   },
   {
    "duration": 31,
    "start_time": "2021-07-29T02:56:54.665Z"
   },
   {
    "duration": 103,
    "start_time": "2021-07-29T02:56:54.698Z"
   },
   {
    "duration": 741,
    "start_time": "2021-07-29T02:56:54.803Z"
   },
   {
    "duration": 227,
    "start_time": "2021-07-29T02:56:55.546Z"
   },
   {
    "duration": 9,
    "start_time": "2021-07-29T02:56:55.775Z"
   },
   {
    "duration": 7,
    "start_time": "2021-07-29T02:56:55.787Z"
   },
   {
    "duration": 16,
    "start_time": "2021-07-29T02:56:55.796Z"
   },
   {
    "duration": 18,
    "start_time": "2021-07-29T02:56:55.814Z"
   },
   {
    "duration": 37,
    "start_time": "2021-07-29T02:56:55.834Z"
   },
   {
    "duration": 17,
    "start_time": "2021-07-29T02:56:55.874Z"
   },
   {
    "duration": 5,
    "start_time": "2021-07-29T02:56:55.896Z"
   },
   {
    "duration": 24,
    "start_time": "2021-07-29T02:56:55.904Z"
   },
   {
    "duration": 26,
    "start_time": "2021-07-29T02:56:55.930Z"
   },
   {
    "duration": 8,
    "start_time": "2021-07-29T02:56:55.958Z"
   },
   {
    "duration": 61,
    "start_time": "2021-07-29T02:56:55.968Z"
   },
   {
    "duration": 50,
    "start_time": "2021-07-29T02:56:56.031Z"
   },
   {
    "duration": 1657,
    "start_time": "2021-07-29T02:56:56.084Z"
   },
   {
    "duration": 14,
    "start_time": "2021-07-29T02:56:57.743Z"
   },
   {
    "duration": 16,
    "start_time": "2021-07-29T02:56:57.760Z"
   },
   {
    "duration": 30,
    "start_time": "2021-07-29T02:56:57.778Z"
   },
   {
    "duration": 71,
    "start_time": "2021-07-29T02:56:57.811Z"
   },
   {
    "duration": 3183,
    "start_time": "2021-07-29T02:56:57.885Z"
   },
   {
    "duration": 473,
    "start_time": "2021-07-29T02:57:01.071Z"
   },
   {
    "duration": 41,
    "start_time": "2021-07-29T02:57:01.546Z"
   },
   {
    "duration": 2441,
    "start_time": "2021-07-29T02:57:01.589Z"
   },
   {
    "duration": 416,
    "start_time": "2021-07-29T02:57:04.032Z"
   },
   {
    "duration": 3,
    "start_time": "2021-07-29T02:57:04.457Z"
   },
   {
    "duration": 1747,
    "start_time": "2021-07-29T02:57:04.463Z"
   },
   {
    "duration": 94,
    "start_time": "2021-07-29T02:57:06.212Z"
   },
   {
    "duration": 4,
    "start_time": "2021-07-29T02:57:06.308Z"
   },
   {
    "duration": 186,
    "start_time": "2021-07-29T02:57:06.314Z"
   },
   {
    "duration": 67,
    "start_time": "2021-07-29T02:57:06.502Z"
   },
   {
    "duration": 451,
    "start_time": "2021-07-29T02:57:06.572Z"
   },
   {
    "duration": 15,
    "start_time": "2021-07-29T02:57:07.025Z"
   },
   {
    "duration": 10087,
    "start_time": "2021-07-29T02:57:07.043Z"
   },
   {
    "duration": 35,
    "start_time": "2021-07-29T02:57:17.133Z"
   },
   {
    "duration": 1709,
    "start_time": "2021-07-29T02:57:17.171Z"
   },
   {
    "duration": 1006,
    "start_time": "2021-07-29T02:57:59.757Z"
   },
   {
    "duration": 47,
    "start_time": "2021-07-29T02:58:00.766Z"
   },
   {
    "duration": 44,
    "start_time": "2021-07-29T02:58:00.816Z"
   },
   {
    "duration": 26,
    "start_time": "2021-07-29T02:58:00.863Z"
   },
   {
    "duration": 20,
    "start_time": "2021-07-29T02:58:00.891Z"
   },
   {
    "duration": 48,
    "start_time": "2021-07-29T02:58:00.914Z"
   },
   {
    "duration": 22,
    "start_time": "2021-07-29T02:58:00.965Z"
   },
   {
    "duration": 23,
    "start_time": "2021-07-29T02:58:00.991Z"
   },
   {
    "duration": 52,
    "start_time": "2021-07-29T02:58:01.017Z"
   },
   {
    "duration": 42,
    "start_time": "2021-07-29T02:58:01.071Z"
   },
   {
    "duration": 10,
    "start_time": "2021-07-29T02:58:01.116Z"
   },
   {
    "duration": 41,
    "start_time": "2021-07-29T02:58:01.128Z"
   },
   {
    "duration": 36,
    "start_time": "2021-07-29T02:58:01.172Z"
   },
   {
    "duration": 105,
    "start_time": "2021-07-29T02:58:01.210Z"
   },
   {
    "duration": 743,
    "start_time": "2021-07-29T02:58:01.318Z"
   },
   {
    "duration": 241,
    "start_time": "2021-07-29T02:58:02.064Z"
   },
   {
    "duration": 10,
    "start_time": "2021-07-29T02:58:02.307Z"
   },
   {
    "duration": 7,
    "start_time": "2021-07-29T02:58:02.319Z"
   },
   {
    "duration": 31,
    "start_time": "2021-07-29T02:58:02.328Z"
   },
   {
    "duration": 13,
    "start_time": "2021-07-29T02:58:02.361Z"
   },
   {
    "duration": 36,
    "start_time": "2021-07-29T02:58:02.376Z"
   },
   {
    "duration": 8,
    "start_time": "2021-07-29T02:58:02.414Z"
   },
   {
    "duration": 10,
    "start_time": "2021-07-29T02:58:02.427Z"
   },
   {
    "duration": 28,
    "start_time": "2021-07-29T02:58:02.441Z"
   },
   {
    "duration": 14,
    "start_time": "2021-07-29T02:58:02.471Z"
   },
   {
    "duration": 10,
    "start_time": "2021-07-29T02:58:02.488Z"
   },
   {
    "duration": 95,
    "start_time": "2021-07-29T02:58:02.500Z"
   },
   {
    "duration": 31,
    "start_time": "2021-07-29T02:58:02.598Z"
   },
   {
    "duration": 1711,
    "start_time": "2021-07-29T02:58:02.632Z"
   },
   {
    "duration": 16,
    "start_time": "2021-07-29T02:58:04.346Z"
   },
   {
    "duration": 14,
    "start_time": "2021-07-29T02:58:04.365Z"
   },
   {
    "duration": 25,
    "start_time": "2021-07-29T02:58:04.382Z"
   },
   {
    "duration": 95,
    "start_time": "2021-07-29T02:58:04.410Z"
   },
   {
    "duration": 3381,
    "start_time": "2021-07-29T02:58:04.508Z"
   },
   {
    "duration": 456,
    "start_time": "2021-07-29T02:58:07.891Z"
   },
   {
    "duration": 34,
    "start_time": "2021-07-29T02:58:08.355Z"
   },
   {
    "duration": 2379,
    "start_time": "2021-07-29T02:58:08.392Z"
   },
   {
    "duration": 400,
    "start_time": "2021-07-29T02:58:10.773Z"
   },
   {
    "duration": 4,
    "start_time": "2021-07-29T02:58:11.176Z"
   },
   {
    "duration": 1653,
    "start_time": "2021-07-29T02:58:11.183Z"
   },
   {
    "duration": 94,
    "start_time": "2021-07-29T02:58:12.838Z"
   },
   {
    "duration": 5,
    "start_time": "2021-07-29T02:58:12.935Z"
   },
   {
    "duration": 190,
    "start_time": "2021-07-29T02:58:12.956Z"
   },
   {
    "duration": 60,
    "start_time": "2021-07-29T02:58:13.149Z"
   },
   {
    "duration": 468,
    "start_time": "2021-07-29T02:58:13.212Z"
   },
   {
    "duration": 18,
    "start_time": "2021-07-29T02:58:13.683Z"
   },
   {
    "duration": 10321,
    "start_time": "2021-07-29T02:58:13.703Z"
   },
   {
    "duration": 31,
    "start_time": "2021-07-29T02:58:24.027Z"
   },
   {
    "duration": 1633,
    "start_time": "2021-07-29T02:58:24.061Z"
   },
   {
    "duration": 15,
    "start_time": "2021-07-29T03:09:59.564Z"
   },
   {
    "duration": 970,
    "start_time": "2021-07-29T03:10:10.613Z"
   },
   {
    "duration": 47,
    "start_time": "2021-07-29T03:10:11.585Z"
   },
   {
    "duration": 42,
    "start_time": "2021-07-29T03:10:11.635Z"
   },
   {
    "duration": 29,
    "start_time": "2021-07-29T03:10:11.680Z"
   },
   {
    "duration": 49,
    "start_time": "2021-07-29T03:10:11.711Z"
   },
   {
    "duration": 21,
    "start_time": "2021-07-29T03:10:11.763Z"
   },
   {
    "duration": 22,
    "start_time": "2021-07-29T03:10:11.787Z"
   },
   {
    "duration": 55,
    "start_time": "2021-07-29T03:10:11.813Z"
   },
   {
    "duration": 21,
    "start_time": "2021-07-29T03:10:11.871Z"
   },
   {
    "duration": 65,
    "start_time": "2021-07-29T03:10:11.894Z"
   },
   {
    "duration": 11,
    "start_time": "2021-07-29T03:10:11.961Z"
   },
   {
    "duration": 16,
    "start_time": "2021-07-29T03:10:11.974Z"
   },
   {
    "duration": 62,
    "start_time": "2021-07-29T03:10:11.993Z"
   },
   {
    "duration": 82,
    "start_time": "2021-07-29T03:10:12.058Z"
   },
   {
    "duration": 847,
    "start_time": "2021-07-29T03:10:12.142Z"
   },
   {
    "duration": 225,
    "start_time": "2021-07-29T03:10:12.993Z"
   },
   {
    "duration": 10,
    "start_time": "2021-07-29T03:10:13.221Z"
   },
   {
    "duration": 24,
    "start_time": "2021-07-29T03:10:13.234Z"
   },
   {
    "duration": 10,
    "start_time": "2021-07-29T03:10:13.261Z"
   },
   {
    "duration": 18,
    "start_time": "2021-07-29T03:10:13.273Z"
   },
   {
    "duration": 27,
    "start_time": "2021-07-29T03:10:13.293Z"
   },
   {
    "duration": 35,
    "start_time": "2021-07-29T03:10:13.322Z"
   },
   {
    "duration": 4,
    "start_time": "2021-07-29T03:10:13.364Z"
   },
   {
    "duration": 22,
    "start_time": "2021-07-29T03:10:13.372Z"
   },
   {
    "duration": 15,
    "start_time": "2021-07-29T03:10:13.397Z"
   },
   {
    "duration": 45,
    "start_time": "2021-07-29T03:10:13.415Z"
   },
   {
    "duration": 64,
    "start_time": "2021-07-29T03:10:13.463Z"
   },
   {
    "duration": 46,
    "start_time": "2021-07-29T03:10:13.529Z"
   },
   {
    "duration": 1721,
    "start_time": "2021-07-29T03:10:13.578Z"
   },
   {
    "duration": 11,
    "start_time": "2021-07-29T03:10:15.301Z"
   },
   {
    "duration": 9,
    "start_time": "2021-07-29T03:10:15.315Z"
   },
   {
    "duration": 45,
    "start_time": "2021-07-29T03:10:15.326Z"
   },
   {
    "duration": 90,
    "start_time": "2021-07-29T03:10:15.374Z"
   },
   {
    "duration": 3291,
    "start_time": "2021-07-29T03:10:15.467Z"
   },
   {
    "duration": 472,
    "start_time": "2021-07-29T03:10:18.761Z"
   },
   {
    "duration": 46,
    "start_time": "2021-07-29T03:10:19.236Z"
   },
   {
    "duration": 2322,
    "start_time": "2021-07-29T03:10:19.285Z"
   },
   {
    "duration": 396,
    "start_time": "2021-07-29T03:10:21.610Z"
   },
   {
    "duration": 4,
    "start_time": "2021-07-29T03:10:22.009Z"
   },
   {
    "duration": 1668,
    "start_time": "2021-07-29T03:10:22.015Z"
   },
   {
    "duration": 98,
    "start_time": "2021-07-29T03:10:23.686Z"
   },
   {
    "duration": 4,
    "start_time": "2021-07-29T03:10:23.786Z"
   },
   {
    "duration": 193,
    "start_time": "2021-07-29T03:10:23.792Z"
   },
   {
    "duration": 69,
    "start_time": "2021-07-29T03:10:23.987Z"
   },
   {
    "duration": 507,
    "start_time": "2021-07-29T03:10:24.058Z"
   },
   {
    "duration": 15,
    "start_time": "2021-07-29T03:10:24.567Z"
   },
   {
    "duration": 10112,
    "start_time": "2021-07-29T03:10:24.585Z"
   },
   {
    "duration": 16,
    "start_time": "2021-07-29T03:10:34.700Z"
   },
   {
    "duration": 1599,
    "start_time": "2021-07-29T03:10:34.718Z"
   },
   {
    "duration": 1175,
    "start_time": "2021-07-29T03:10:49.359Z"
   },
   {
    "duration": 53,
    "start_time": "2021-07-29T03:10:50.536Z"
   },
   {
    "duration": 27,
    "start_time": "2021-07-29T03:10:50.593Z"
   },
   {
    "duration": 50,
    "start_time": "2021-07-29T03:10:50.623Z"
   },
   {
    "duration": 24,
    "start_time": "2021-07-29T03:10:50.676Z"
   },
   {
    "duration": 54,
    "start_time": "2021-07-29T03:10:50.702Z"
   },
   {
    "duration": 28,
    "start_time": "2021-07-29T03:10:50.759Z"
   },
   {
    "duration": 24,
    "start_time": "2021-07-29T03:10:50.790Z"
   },
   {
    "duration": 49,
    "start_time": "2021-07-29T03:10:50.817Z"
   },
   {
    "duration": 40,
    "start_time": "2021-07-29T03:10:50.869Z"
   },
   {
    "duration": 10,
    "start_time": "2021-07-29T03:10:50.911Z"
   },
   {
    "duration": 44,
    "start_time": "2021-07-29T03:10:50.923Z"
   },
   {
    "duration": 32,
    "start_time": "2021-07-29T03:10:50.970Z"
   },
   {
    "duration": 108,
    "start_time": "2021-07-29T03:10:51.004Z"
   },
   {
    "duration": 736,
    "start_time": "2021-07-29T03:10:51.114Z"
   },
   {
    "duration": 228,
    "start_time": "2021-07-29T03:10:51.852Z"
   },
   {
    "duration": 9,
    "start_time": "2021-07-29T03:10:52.082Z"
   },
   {
    "duration": 22,
    "start_time": "2021-07-29T03:10:52.093Z"
   },
   {
    "duration": 28,
    "start_time": "2021-07-29T03:10:52.117Z"
   },
   {
    "duration": 11,
    "start_time": "2021-07-29T03:10:52.148Z"
   },
   {
    "duration": 53,
    "start_time": "2021-07-29T03:10:52.161Z"
   },
   {
    "duration": 9,
    "start_time": "2021-07-29T03:10:52.216Z"
   },
   {
    "duration": 19,
    "start_time": "2021-07-29T03:10:52.230Z"
   },
   {
    "duration": 29,
    "start_time": "2021-07-29T03:10:52.252Z"
   },
   {
    "duration": 21,
    "start_time": "2021-07-29T03:10:52.284Z"
   },
   {
    "duration": 20,
    "start_time": "2021-07-29T03:10:52.308Z"
   },
   {
    "duration": 73,
    "start_time": "2021-07-29T03:10:52.330Z"
   },
   {
    "duration": 39,
    "start_time": "2021-07-29T03:10:52.405Z"
   },
   {
    "duration": 1625,
    "start_time": "2021-07-29T03:10:52.446Z"
   },
   {
    "duration": 9,
    "start_time": "2021-07-29T03:10:54.073Z"
   },
   {
    "duration": 25,
    "start_time": "2021-07-29T03:10:54.084Z"
   },
   {
    "duration": 36,
    "start_time": "2021-07-29T03:10:54.111Z"
   },
   {
    "duration": 80,
    "start_time": "2021-07-29T03:10:54.149Z"
   },
   {
    "duration": 3312,
    "start_time": "2021-07-29T03:10:54.231Z"
   },
   {
    "duration": 458,
    "start_time": "2021-07-29T03:10:57.545Z"
   },
   {
    "duration": 32,
    "start_time": "2021-07-29T03:10:58.005Z"
   },
   {
    "duration": 2367,
    "start_time": "2021-07-29T03:10:58.055Z"
   },
   {
    "duration": 402,
    "start_time": "2021-07-29T03:11:00.424Z"
   },
   {
    "duration": 4,
    "start_time": "2021-07-29T03:11:00.828Z"
   },
   {
    "duration": 1707,
    "start_time": "2021-07-29T03:11:00.834Z"
   },
   {
    "duration": 93,
    "start_time": "2021-07-29T03:11:02.543Z"
   },
   {
    "duration": 4,
    "start_time": "2021-07-29T03:11:02.639Z"
   },
   {
    "duration": 187,
    "start_time": "2021-07-29T03:11:02.656Z"
   },
   {
    "duration": 67,
    "start_time": "2021-07-29T03:11:02.845Z"
   },
   {
    "duration": 479,
    "start_time": "2021-07-29T03:11:02.915Z"
   },
   {
    "duration": 15,
    "start_time": "2021-07-29T03:11:03.397Z"
   },
   {
    "duration": 10584,
    "start_time": "2021-07-29T03:11:03.415Z"
   },
   {
    "duration": 15,
    "start_time": "2021-07-29T03:11:14.001Z"
   },
   {
    "duration": 1653,
    "start_time": "2021-07-29T03:11:14.018Z"
   },
   {
    "duration": 809,
    "start_time": "2021-07-29T03:21:57.848Z"
   },
   {
    "duration": 677,
    "start_time": "2021-07-29T03:22:35.646Z"
   },
   {
    "duration": 948,
    "start_time": "2021-07-29T03:24:19.095Z"
   },
   {
    "duration": 53,
    "start_time": "2021-07-29T03:24:20.045Z"
   },
   {
    "duration": 25,
    "start_time": "2021-07-29T03:24:20.101Z"
   },
   {
    "duration": 47,
    "start_time": "2021-07-29T03:24:20.129Z"
   },
   {
    "duration": 22,
    "start_time": "2021-07-29T03:24:20.179Z"
   },
   {
    "duration": 21,
    "start_time": "2021-07-29T03:24:20.204Z"
   },
   {
    "duration": 26,
    "start_time": "2021-07-29T03:24:20.255Z"
   },
   {
    "duration": 27,
    "start_time": "2021-07-29T03:24:20.284Z"
   },
   {
    "duration": 51,
    "start_time": "2021-07-29T03:24:20.314Z"
   },
   {
    "duration": 42,
    "start_time": "2021-07-29T03:24:20.367Z"
   },
   {
    "duration": 11,
    "start_time": "2021-07-29T03:24:20.412Z"
   },
   {
    "duration": 17,
    "start_time": "2021-07-29T03:24:20.455Z"
   },
   {
    "duration": 32,
    "start_time": "2021-07-29T03:24:20.475Z"
   },
   {
    "duration": 104,
    "start_time": "2021-07-29T03:24:20.510Z"
   },
   {
    "duration": 734,
    "start_time": "2021-07-29T03:24:20.617Z"
   },
   {
    "duration": 213,
    "start_time": "2021-07-29T03:24:21.356Z"
   },
   {
    "duration": 8,
    "start_time": "2021-07-29T03:24:21.571Z"
   },
   {
    "duration": 7,
    "start_time": "2021-07-29T03:24:21.582Z"
   },
   {
    "duration": 15,
    "start_time": "2021-07-29T03:24:21.592Z"
   },
   {
    "duration": 11,
    "start_time": "2021-07-29T03:24:21.609Z"
   },
   {
    "duration": 46,
    "start_time": "2021-07-29T03:24:21.622Z"
   },
   {
    "duration": 9,
    "start_time": "2021-07-29T03:24:21.671Z"
   },
   {
    "duration": 10,
    "start_time": "2021-07-29T03:24:21.686Z"
   },
   {
    "duration": 25,
    "start_time": "2021-07-29T03:24:21.699Z"
   },
   {
    "duration": 31,
    "start_time": "2021-07-29T03:24:21.726Z"
   },
   {
    "duration": 7,
    "start_time": "2021-07-29T03:24:21.759Z"
   },
   {
    "duration": 66,
    "start_time": "2021-07-29T03:24:21.769Z"
   },
   {
    "duration": 40,
    "start_time": "2021-07-29T03:24:21.837Z"
   },
   {
    "duration": 1625,
    "start_time": "2021-07-29T03:24:21.880Z"
   },
   {
    "duration": 8,
    "start_time": "2021-07-29T03:24:23.507Z"
   },
   {
    "duration": 10,
    "start_time": "2021-07-29T03:24:23.518Z"
   },
   {
    "duration": 42,
    "start_time": "2021-07-29T03:24:23.531Z"
   },
   {
    "duration": 61,
    "start_time": "2021-07-29T03:24:23.575Z"
   },
   {
    "duration": 3225,
    "start_time": "2021-07-29T03:24:23.638Z"
   },
   {
    "duration": 461,
    "start_time": "2021-07-29T03:24:26.866Z"
   },
   {
    "duration": 46,
    "start_time": "2021-07-29T03:24:27.330Z"
   },
   {
    "duration": 2332,
    "start_time": "2021-07-29T03:24:27.379Z"
   },
   {
    "duration": 604,
    "start_time": "2021-07-29T03:24:29.713Z"
   },
   {
    "duration": 4,
    "start_time": "2021-07-29T03:24:30.320Z"
   },
   {
    "duration": 1737,
    "start_time": "2021-07-29T03:24:30.327Z"
   },
   {
    "duration": 94,
    "start_time": "2021-07-29T03:24:32.066Z"
   },
   {
    "duration": 4,
    "start_time": "2021-07-29T03:24:32.162Z"
   },
   {
    "duration": 201,
    "start_time": "2021-07-29T03:24:32.168Z"
   },
   {
    "duration": 59,
    "start_time": "2021-07-29T03:24:32.371Z"
   },
   {
    "duration": 469,
    "start_time": "2021-07-29T03:24:32.433Z"
   },
   {
    "duration": 15,
    "start_time": "2021-07-29T03:24:32.904Z"
   },
   {
    "duration": 10086,
    "start_time": "2021-07-29T03:24:32.921Z"
   },
   {
    "duration": 20,
    "start_time": "2021-07-29T03:24:43.010Z"
   },
   {
    "duration": 1699,
    "start_time": "2021-07-29T03:24:43.057Z"
   },
   {
    "duration": 4,
    "start_time": "2021-07-29T03:43:22.279Z"
   },
   {
    "duration": 207,
    "start_time": "2021-07-29T03:43:23.966Z"
   },
   {
    "duration": 4,
    "start_time": "2021-07-29T03:46:17.754Z"
   },
   {
    "duration": 24,
    "start_time": "2021-07-29T03:46:43.749Z"
   },
   {
    "duration": 26,
    "start_time": "2021-07-29T03:47:17.318Z"
   },
   {
    "duration": 25,
    "start_time": "2021-07-29T03:47:21.031Z"
   },
   {
    "duration": 4,
    "start_time": "2021-07-29T03:47:25.553Z"
   },
   {
    "duration": 24,
    "start_time": "2021-07-29T03:47:26.795Z"
   },
   {
    "duration": 5,
    "start_time": "2021-07-29T03:47:31.878Z"
   },
   {
    "duration": 26,
    "start_time": "2021-07-29T03:47:33.842Z"
   },
   {
    "duration": 33,
    "start_time": "2021-07-29T03:48:05.089Z"
   },
   {
    "duration": 5,
    "start_time": "2021-07-29T03:48:11.194Z"
   },
   {
    "duration": 42,
    "start_time": "2021-07-29T03:48:12.827Z"
   },
   {
    "duration": 5,
    "start_time": "2021-07-29T03:49:12.444Z"
   },
   {
    "duration": 3336,
    "start_time": "2021-07-29T03:49:13.123Z"
   },
   {
    "duration": 4,
    "start_time": "2021-07-29T03:49:37.872Z"
   },
   {
    "duration": 2842,
    "start_time": "2021-07-29T03:49:39.040Z"
   },
   {
    "duration": 171,
    "start_time": "2021-07-29T03:49:48.258Z"
   },
   {
    "duration": 5583,
    "start_time": "2021-07-29T03:49:49.003Z"
   },
   {
    "duration": 4,
    "start_time": "2021-07-29T03:49:56.114Z"
   },
   {
    "duration": 9061,
    "start_time": "2021-07-29T03:49:56.722Z"
   },
   {
    "duration": 5,
    "start_time": "2021-07-29T03:50:09.953Z"
   },
   {
    "duration": 10036,
    "start_time": "2021-07-29T03:50:11.811Z"
   },
   {
    "duration": 4,
    "start_time": "2021-07-29T03:50:33.371Z"
   },
   {
    "duration": 4845,
    "start_time": "2021-07-29T03:50:33.948Z"
   },
   {
    "duration": 6,
    "start_time": "2021-07-29T03:50:43.405Z"
   },
   {
    "duration": 8310,
    "start_time": "2021-07-29T03:50:45.139Z"
   },
   {
    "duration": 4,
    "start_time": "2021-07-29T03:50:59.720Z"
   },
   {
    "duration": 25,
    "start_time": "2021-07-29T03:51:01.360Z"
   },
   {
    "duration": 5,
    "start_time": "2021-07-29T03:51:30.786Z"
   },
   {
    "duration": 24,
    "start_time": "2021-07-29T03:51:31.687Z"
   },
   {
    "duration": 5,
    "start_time": "2021-07-29T03:52:19.562Z"
   },
   {
    "duration": 5805,
    "start_time": "2021-07-29T03:52:24.024Z"
   },
   {
    "duration": 4,
    "start_time": "2021-07-29T03:52:46.287Z"
   },
   {
    "duration": 5,
    "start_time": "2021-07-29T03:53:15.332Z"
   },
   {
    "duration": 4,
    "start_time": "2021-07-29T03:53:41.053Z"
   },
   {
    "duration": 1989,
    "start_time": "2021-07-29T03:53:41.821Z"
   },
   {
    "duration": 5,
    "start_time": "2021-07-29T03:54:07.880Z"
   },
   {
    "duration": 5901,
    "start_time": "2021-07-29T03:54:12.764Z"
   },
   {
    "duration": 4,
    "start_time": "2021-07-29T03:55:18.503Z"
   },
   {
    "duration": 66,
    "start_time": "2021-07-29T03:55:19.181Z"
   },
   {
    "duration": 4,
    "start_time": "2021-07-29T03:58:10.450Z"
   },
   {
    "duration": 75,
    "start_time": "2021-07-29T03:58:11.207Z"
   },
   {
    "duration": 5,
    "start_time": "2021-07-29T03:58:20.698Z"
   },
   {
    "duration": 70,
    "start_time": "2021-07-29T03:58:21.334Z"
   },
   {
    "duration": 5,
    "start_time": "2021-07-29T03:59:30.033Z"
   },
   {
    "duration": 79,
    "start_time": "2021-07-29T03:59:30.883Z"
   },
   {
    "duration": 5,
    "start_time": "2021-07-29T04:00:47.762Z"
   },
   {
    "duration": 69,
    "start_time": "2021-07-29T04:00:48.379Z"
   },
   {
    "duration": 5,
    "start_time": "2021-07-29T04:01:15.810Z"
   },
   {
    "duration": 71,
    "start_time": "2021-07-29T04:01:16.558Z"
   },
   {
    "duration": 5,
    "start_time": "2021-07-29T04:01:24.227Z"
   },
   {
    "duration": 74,
    "start_time": "2021-07-29T04:01:25.744Z"
   },
   {
    "duration": 5,
    "start_time": "2021-07-29T04:02:12.877Z"
   },
   {
    "duration": 499,
    "start_time": "2021-07-29T04:02:13.645Z"
   },
   {
    "duration": 5,
    "start_time": "2021-07-29T04:03:26.846Z"
   },
   {
    "duration": 6,
    "start_time": "2021-07-29T04:04:19.627Z"
   },
   {
    "duration": 497,
    "start_time": "2021-07-29T04:04:19.636Z"
   },
   {
    "duration": 1093,
    "start_time": "2021-07-29T04:05:06.089Z"
   },
   {
    "duration": 51,
    "start_time": "2021-07-29T04:05:07.186Z"
   },
   {
    "duration": 41,
    "start_time": "2021-07-29T04:05:07.241Z"
   },
   {
    "duration": 26,
    "start_time": "2021-07-29T04:05:07.285Z"
   },
   {
    "duration": 53,
    "start_time": "2021-07-29T04:05:07.313Z"
   },
   {
    "duration": 22,
    "start_time": "2021-07-29T04:05:07.368Z"
   },
   {
    "duration": 25,
    "start_time": "2021-07-29T04:05:07.393Z"
   },
   {
    "duration": 54,
    "start_time": "2021-07-29T04:05:07.422Z"
   },
   {
    "duration": 22,
    "start_time": "2021-07-29T04:05:07.480Z"
   },
   {
    "duration": 71,
    "start_time": "2021-07-29T04:05:07.505Z"
   },
   {
    "duration": 11,
    "start_time": "2021-07-29T04:05:07.579Z"
   },
   {
    "duration": 16,
    "start_time": "2021-07-29T04:05:07.593Z"
   },
   {
    "duration": 66,
    "start_time": "2021-07-29T04:05:07.612Z"
   },
   {
    "duration": 98,
    "start_time": "2021-07-29T04:05:07.680Z"
   },
   {
    "duration": 762,
    "start_time": "2021-07-29T04:05:07.781Z"
   },
   {
    "duration": 229,
    "start_time": "2021-07-29T04:05:08.545Z"
   },
   {
    "duration": 10,
    "start_time": "2021-07-29T04:05:08.777Z"
   },
   {
    "duration": 8,
    "start_time": "2021-07-29T04:05:08.790Z"
   },
   {
    "duration": 13,
    "start_time": "2021-07-29T04:05:08.801Z"
   },
   {
    "duration": 10,
    "start_time": "2021-07-29T04:05:08.816Z"
   },
   {
    "duration": 52,
    "start_time": "2021-07-29T04:05:08.829Z"
   },
   {
    "duration": 14,
    "start_time": "2021-07-29T04:05:08.884Z"
   },
   {
    "duration": 8,
    "start_time": "2021-07-29T04:05:08.905Z"
   },
   {
    "duration": 40,
    "start_time": "2021-07-29T04:05:08.916Z"
   },
   {
    "duration": 15,
    "start_time": "2021-07-29T04:05:08.958Z"
   },
   {
    "duration": 9,
    "start_time": "2021-07-29T04:05:08.976Z"
   },
   {
    "duration": 98,
    "start_time": "2021-07-29T04:05:08.988Z"
   },
   {
    "duration": 31,
    "start_time": "2021-07-29T04:05:09.088Z"
   },
   {
    "duration": 1790,
    "start_time": "2021-07-29T04:05:09.121Z"
   },
   {
    "duration": 8,
    "start_time": "2021-07-29T04:05:10.913Z"
   },
   {
    "duration": 7,
    "start_time": "2021-07-29T04:05:10.923Z"
   },
   {
    "duration": 42,
    "start_time": "2021-07-29T04:05:10.932Z"
   },
   {
    "duration": 79,
    "start_time": "2021-07-29T04:05:10.977Z"
   },
   {
    "duration": 3403,
    "start_time": "2021-07-29T04:05:11.058Z"
   },
   {
    "duration": 485,
    "start_time": "2021-07-29T04:05:14.463Z"
   },
   {
    "duration": 34,
    "start_time": "2021-07-29T04:05:14.950Z"
   },
   {
    "duration": 2560,
    "start_time": "2021-07-29T04:05:14.986Z"
   },
   {
    "duration": 619,
    "start_time": "2021-07-29T04:05:17.548Z"
   },
   {
    "duration": 5,
    "start_time": "2021-07-29T04:05:18.169Z"
   },
   {
    "duration": 1920,
    "start_time": "2021-07-29T04:05:18.177Z"
   },
   {
    "duration": 96,
    "start_time": "2021-07-29T04:05:20.099Z"
   },
   {
    "duration": 5,
    "start_time": "2021-07-29T04:05:20.198Z"
   },
   {
    "duration": 494,
    "start_time": "2021-07-29T04:05:20.205Z"
   },
   {
    "duration": 168,
    "start_time": "2021-07-29T04:05:20.701Z"
   },
   {
    "duration": 505,
    "start_time": "2021-07-29T04:05:20.872Z"
   },
   {
    "duration": 14,
    "start_time": "2021-07-29T04:05:21.380Z"
   },
   {
    "duration": 10818,
    "start_time": "2021-07-29T04:05:21.397Z"
   },
   {
    "duration": 38,
    "start_time": "2021-07-29T04:05:32.219Z"
   },
   {
    "duration": 1785,
    "start_time": "2021-07-29T04:05:32.261Z"
   },
   {
    "duration": 5,
    "start_time": "2021-07-29T04:05:42.151Z"
   },
   {
    "duration": 515,
    "start_time": "2021-07-29T04:05:45.390Z"
   },
   {
    "duration": 5,
    "start_time": "2021-07-29T04:06:28.305Z"
   },
   {
    "duration": 528,
    "start_time": "2021-07-29T04:06:28.844Z"
   },
   {
    "duration": 5,
    "start_time": "2021-07-29T04:19:02.530Z"
   },
   {
    "duration": 457,
    "start_time": "2021-07-29T04:19:06.099Z"
   },
   {
    "duration": 6,
    "start_time": "2021-07-29T04:20:49.489Z"
   },
   {
    "duration": 448,
    "start_time": "2021-07-29T04:20:50.781Z"
   },
   {
    "duration": 6,
    "start_time": "2021-07-29T04:21:22.407Z"
   },
   {
    "duration": 962,
    "start_time": "2021-07-29T04:21:23.028Z"
   },
   {
    "duration": 6,
    "start_time": "2021-07-29T04:21:31.844Z"
   },
   {
    "duration": 835,
    "start_time": "2021-07-29T04:21:34.435Z"
   },
   {
    "duration": 6,
    "start_time": "2021-07-29T04:22:16.384Z"
   },
   {
    "duration": 805,
    "start_time": "2021-07-29T04:22:17.505Z"
   },
   {
    "duration": 5,
    "start_time": "2021-07-29T04:22:25.502Z"
   },
   {
    "duration": 448,
    "start_time": "2021-07-29T04:22:26.352Z"
   },
   {
    "duration": 5,
    "start_time": "2021-07-29T04:22:33.711Z"
   },
   {
    "duration": 432,
    "start_time": "2021-07-29T04:22:34.564Z"
   },
   {
    "duration": 6,
    "start_time": "2021-07-29T04:22:54.346Z"
   },
   {
    "duration": 773,
    "start_time": "2021-07-29T04:22:55.285Z"
   },
   {
    "duration": 6,
    "start_time": "2021-07-29T04:23:10.798Z"
   },
   {
    "duration": 494,
    "start_time": "2021-07-29T04:23:11.362Z"
   },
   {
    "duration": 6,
    "start_time": "2021-07-29T04:23:43.794Z"
   },
   {
    "duration": 472,
    "start_time": "2021-07-29T04:23:44.753Z"
   },
   {
    "duration": 6,
    "start_time": "2021-07-29T04:24:01.553Z"
   },
   {
    "duration": 6,
    "start_time": "2021-07-29T04:24:06.614Z"
   },
   {
    "duration": 451,
    "start_time": "2021-07-29T04:24:06.909Z"
   },
   {
    "duration": 5,
    "start_time": "2021-07-29T04:24:24.403Z"
   },
   {
    "duration": 485,
    "start_time": "2021-07-29T04:24:25.671Z"
   },
   {
    "duration": 5,
    "start_time": "2021-07-29T04:24:37.874Z"
   },
   {
    "duration": 435,
    "start_time": "2021-07-29T04:24:39.538Z"
   },
   {
    "duration": 6,
    "start_time": "2021-07-29T04:24:52.311Z"
   },
   {
    "duration": 461,
    "start_time": "2021-07-29T04:24:55.735Z"
   },
   {
    "duration": 6,
    "start_time": "2021-07-29T04:25:34.556Z"
   },
   {
    "duration": 433,
    "start_time": "2021-07-29T04:25:35.814Z"
   },
   {
    "duration": 6,
    "start_time": "2021-07-29T04:25:50.517Z"
   },
   {
    "duration": 426,
    "start_time": "2021-07-29T04:25:51.413Z"
   },
   {
    "duration": 5,
    "start_time": "2021-07-29T04:26:33.728Z"
   },
   {
    "duration": 499,
    "start_time": "2021-07-29T04:26:34.251Z"
   },
   {
    "duration": 6,
    "start_time": "2021-07-29T04:26:59.187Z"
   },
   {
    "duration": 502,
    "start_time": "2021-07-29T04:26:59.625Z"
   },
   {
    "duration": 6,
    "start_time": "2021-07-29T04:28:05.207Z"
   },
   {
    "duration": 810,
    "start_time": "2021-07-29T04:28:05.723Z"
   },
   {
    "duration": 6,
    "start_time": "2021-07-29T04:28:21.056Z"
   },
   {
    "duration": 815,
    "start_time": "2021-07-29T04:28:21.540Z"
   },
   {
    "duration": 5,
    "start_time": "2021-07-29T04:29:18.824Z"
   },
   {
    "duration": 510,
    "start_time": "2021-07-29T04:29:19.270Z"
   },
   {
    "duration": 6,
    "start_time": "2021-07-29T04:29:25.544Z"
   },
   {
    "duration": 505,
    "start_time": "2021-07-29T04:29:27.802Z"
   },
   {
    "duration": 6,
    "start_time": "2021-07-29T04:33:29.960Z"
   },
   {
    "duration": 472,
    "start_time": "2021-07-29T04:33:30.473Z"
   },
   {
    "duration": 9,
    "start_time": "2021-07-29T04:33:56.481Z"
   },
   {
    "duration": 495,
    "start_time": "2021-07-29T04:33:58.140Z"
   },
   {
    "duration": 6,
    "start_time": "2021-07-29T04:34:15.915Z"
   },
   {
    "duration": 466,
    "start_time": "2021-07-29T04:34:18.266Z"
   },
   {
    "duration": 127,
    "start_time": "2021-07-29T04:37:05.698Z"
   },
   {
    "duration": 480,
    "start_time": "2021-07-29T04:37:06.279Z"
   },
   {
    "duration": 6,
    "start_time": "2021-07-29T04:37:16.294Z"
   },
   {
    "duration": 543,
    "start_time": "2021-07-29T04:37:16.898Z"
   },
   {
    "duration": 10113,
    "start_time": "2021-07-29T04:42:47.629Z"
   },
   {
    "duration": 964,
    "start_time": "2021-07-29T04:47:35.700Z"
   },
   {
    "duration": 49,
    "start_time": "2021-07-29T04:47:36.668Z"
   },
   {
    "duration": 55,
    "start_time": "2021-07-29T04:47:36.721Z"
   },
   {
    "duration": 28,
    "start_time": "2021-07-29T04:47:36.779Z"
   },
   {
    "duration": 51,
    "start_time": "2021-07-29T04:47:36.810Z"
   },
   {
    "duration": 24,
    "start_time": "2021-07-29T04:47:36.864Z"
   },
   {
    "duration": 26,
    "start_time": "2021-07-29T04:47:36.891Z"
   },
   {
    "duration": 26,
    "start_time": "2021-07-29T04:47:36.959Z"
   },
   {
    "duration": 23,
    "start_time": "2021-07-29T04:47:36.989Z"
   },
   {
    "duration": 77,
    "start_time": "2021-07-29T04:47:37.015Z"
   },
   {
    "duration": 17,
    "start_time": "2021-07-29T04:47:37.095Z"
   },
   {
    "duration": 53,
    "start_time": "2021-07-29T04:47:37.115Z"
   },
   {
    "duration": 43,
    "start_time": "2021-07-29T04:47:37.171Z"
   },
   {
    "duration": 123,
    "start_time": "2021-07-29T04:47:37.217Z"
   },
   {
    "duration": 750,
    "start_time": "2021-07-29T04:47:37.342Z"
   },
   {
    "duration": 219,
    "start_time": "2021-07-29T04:47:38.094Z"
   },
   {
    "duration": 9,
    "start_time": "2021-07-29T04:47:38.315Z"
   },
   {
    "duration": 6,
    "start_time": "2021-07-29T04:47:38.326Z"
   },
   {
    "duration": 26,
    "start_time": "2021-07-29T04:47:38.334Z"
   },
   {
    "duration": 9,
    "start_time": "2021-07-29T04:47:38.362Z"
   },
   {
    "duration": 31,
    "start_time": "2021-07-29T04:47:38.374Z"
   },
   {
    "duration": 9,
    "start_time": "2021-07-29T04:47:38.407Z"
   },
   {
    "duration": 5,
    "start_time": "2021-07-29T04:47:38.421Z"
   },
   {
    "duration": 42,
    "start_time": "2021-07-29T04:47:38.429Z"
   },
   {
    "duration": 11,
    "start_time": "2021-07-29T04:47:38.474Z"
   },
   {
    "duration": 7,
    "start_time": "2021-07-29T04:47:38.488Z"
   },
   {
    "duration": 101,
    "start_time": "2021-07-29T04:47:38.497Z"
   },
   {
    "duration": 32,
    "start_time": "2021-07-29T04:47:38.601Z"
   },
   {
    "duration": 1629,
    "start_time": "2021-07-29T04:47:38.636Z"
   },
   {
    "duration": 9,
    "start_time": "2021-07-29T04:47:40.268Z"
   },
   {
    "duration": 11,
    "start_time": "2021-07-29T04:47:40.279Z"
   },
   {
    "duration": 28,
    "start_time": "2021-07-29T04:47:40.292Z"
   },
   {
    "duration": 97,
    "start_time": "2021-07-29T04:47:40.323Z"
   },
   {
    "duration": 3491,
    "start_time": "2021-07-29T04:47:40.422Z"
   },
   {
    "duration": 548,
    "start_time": "2021-07-29T04:47:43.915Z"
   },
   {
    "duration": 32,
    "start_time": "2021-07-29T04:47:44.465Z"
   },
   {
    "duration": 2456,
    "start_time": "2021-07-29T04:47:44.499Z"
   },
   {
    "duration": 631,
    "start_time": "2021-07-29T04:47:46.958Z"
   },
   {
    "duration": 4,
    "start_time": "2021-07-29T04:47:47.592Z"
   },
   {
    "duration": 2062,
    "start_time": "2021-07-29T04:47:47.598Z"
   },
   {
    "duration": 105,
    "start_time": "2021-07-29T04:47:49.662Z"
   },
   {
    "duration": 6,
    "start_time": "2021-07-29T04:47:49.770Z"
   },
   {
    "duration": 555,
    "start_time": "2021-07-29T04:47:49.778Z"
   },
   {
    "duration": 467,
    "start_time": "2021-07-29T04:47:50.336Z"
   },
   {
    "duration": 16,
    "start_time": "2021-07-29T04:47:50.806Z"
   },
   {
    "duration": 10060,
    "start_time": "2021-07-29T04:47:50.824Z"
   },
   {
    "duration": 17,
    "start_time": "2021-07-29T04:48:00.887Z"
   },
   {
    "duration": 1892,
    "start_time": "2021-07-29T04:48:00.906Z"
   },
   {
    "duration": 1041,
    "start_time": "2021-07-29T04:50:47.176Z"
   },
   {
    "duration": 56,
    "start_time": "2021-07-29T04:50:48.220Z"
   },
   {
    "duration": 25,
    "start_time": "2021-07-29T04:50:48.279Z"
   },
   {
    "duration": 50,
    "start_time": "2021-07-29T04:50:48.307Z"
   },
   {
    "duration": 24,
    "start_time": "2021-07-29T04:50:48.360Z"
   },
   {
    "duration": 23,
    "start_time": "2021-07-29T04:50:48.386Z"
   },
   {
    "duration": 61,
    "start_time": "2021-07-29T04:50:48.412Z"
   },
   {
    "duration": 25,
    "start_time": "2021-07-29T04:50:48.477Z"
   },
   {
    "duration": 24,
    "start_time": "2021-07-29T04:50:48.505Z"
   },
   {
    "duration": 63,
    "start_time": "2021-07-29T04:50:48.531Z"
   },
   {
    "duration": 11,
    "start_time": "2021-07-29T04:50:48.597Z"
   },
   {
    "duration": 52,
    "start_time": "2021-07-29T04:50:48.611Z"
   },
   {
    "duration": 31,
    "start_time": "2021-07-29T04:50:48.666Z"
   },
   {
    "duration": 96,
    "start_time": "2021-07-29T04:50:48.699Z"
   },
   {
    "duration": 711,
    "start_time": "2021-07-29T04:50:48.797Z"
   },
   {
    "duration": 228,
    "start_time": "2021-07-29T04:50:49.510Z"
   },
   {
    "duration": 16,
    "start_time": "2021-07-29T04:50:49.740Z"
   },
   {
    "duration": 6,
    "start_time": "2021-07-29T04:50:49.758Z"
   },
   {
    "duration": 12,
    "start_time": "2021-07-29T04:50:49.766Z"
   },
   {
    "duration": 7,
    "start_time": "2021-07-29T04:50:49.780Z"
   },
   {
    "duration": 27,
    "start_time": "2021-07-29T04:50:49.790Z"
   },
   {
    "duration": 41,
    "start_time": "2021-07-29T04:50:49.820Z"
   },
   {
    "duration": 5,
    "start_time": "2021-07-29T04:50:49.867Z"
   },
   {
    "duration": 18,
    "start_time": "2021-07-29T04:50:49.875Z"
   },
   {
    "duration": 15,
    "start_time": "2021-07-29T04:50:49.895Z"
   },
   {
    "duration": 44,
    "start_time": "2021-07-29T04:50:49.912Z"
   },
   {
    "duration": 68,
    "start_time": "2021-07-29T04:50:49.958Z"
   },
   {
    "duration": 29,
    "start_time": "2021-07-29T04:50:50.057Z"
   },
   {
    "duration": 1987,
    "start_time": "2021-07-29T04:50:50.088Z"
   },
   {
    "duration": 10,
    "start_time": "2021-07-29T04:50:52.078Z"
   },
   {
    "duration": 19,
    "start_time": "2021-07-29T04:50:52.090Z"
   },
   {
    "duration": 58,
    "start_time": "2021-07-29T04:50:52.112Z"
   },
   {
    "duration": 88,
    "start_time": "2021-07-29T04:50:52.175Z"
   },
   {
    "duration": 3650,
    "start_time": "2021-07-29T04:50:52.265Z"
   },
   {
    "duration": 457,
    "start_time": "2021-07-29T04:50:55.918Z"
   },
   {
    "duration": 31,
    "start_time": "2021-07-29T04:50:56.377Z"
   },
   {
    "duration": 2687,
    "start_time": "2021-07-29T04:50:56.411Z"
   },
   {
    "duration": 796,
    "start_time": "2021-07-29T04:50:59.101Z"
   },
   {
    "duration": 4,
    "start_time": "2021-07-29T04:50:59.899Z"
   },
   {
    "duration": 1723,
    "start_time": "2021-07-29T04:50:59.905Z"
   },
   {
    "duration": 95,
    "start_time": "2021-07-29T04:51:01.630Z"
   },
   {
    "duration": 6,
    "start_time": "2021-07-29T04:51:01.727Z"
   },
   {
    "duration": 595,
    "start_time": "2021-07-29T04:51:01.735Z"
   },
   {
    "duration": 469,
    "start_time": "2021-07-29T04:51:02.333Z"
   },
   {
    "duration": 14,
    "start_time": "2021-07-29T04:51:02.804Z"
   },
   {
    "duration": 10367,
    "start_time": "2021-07-29T04:51:02.821Z"
   },
   {
    "duration": 17,
    "start_time": "2021-07-29T04:51:13.191Z"
   },
   {
    "duration": 1683,
    "start_time": "2021-07-29T04:51:13.211Z"
   },
   {
    "duration": 1580,
    "start_time": "2021-07-30T04:22:09.695Z"
   },
   {
    "duration": 58,
    "start_time": "2021-07-30T04:22:11.278Z"
   },
   {
    "duration": 30,
    "start_time": "2021-07-30T04:22:11.341Z"
   },
   {
    "duration": 44,
    "start_time": "2021-07-30T04:22:11.374Z"
   },
   {
    "duration": 22,
    "start_time": "2021-07-30T04:22:11.421Z"
   },
   {
    "duration": 25,
    "start_time": "2021-07-30T04:22:11.445Z"
   },
   {
    "duration": 27,
    "start_time": "2021-07-30T04:22:11.502Z"
   },
   {
    "duration": 24,
    "start_time": "2021-07-30T04:22:11.533Z"
   },
   {
    "duration": 55,
    "start_time": "2021-07-30T04:22:11.561Z"
   },
   {
    "duration": 41,
    "start_time": "2021-07-30T04:22:11.619Z"
   },
   {
    "duration": 39,
    "start_time": "2021-07-30T04:22:11.662Z"
   },
   {
    "duration": 15,
    "start_time": "2021-07-30T04:22:11.704Z"
   },
   {
    "duration": 35,
    "start_time": "2021-07-30T04:22:11.722Z"
   },
   {
    "duration": 106,
    "start_time": "2021-07-30T04:22:11.759Z"
   },
   {
    "duration": 821,
    "start_time": "2021-07-30T04:22:11.868Z"
   },
   {
    "duration": 227,
    "start_time": "2021-07-30T04:22:12.691Z"
   },
   {
    "duration": 9,
    "start_time": "2021-07-30T04:22:12.921Z"
   },
   {
    "duration": 6,
    "start_time": "2021-07-30T04:22:12.933Z"
   },
   {
    "duration": 16,
    "start_time": "2021-07-30T04:22:12.941Z"
   },
   {
    "duration": 26,
    "start_time": "2021-07-30T04:22:12.959Z"
   },
   {
    "duration": 34,
    "start_time": "2021-07-30T04:22:12.988Z"
   },
   {
    "duration": 9,
    "start_time": "2021-07-30T04:22:13.024Z"
   },
   {
    "duration": 7,
    "start_time": "2021-07-30T04:22:13.038Z"
   },
   {
    "duration": 25,
    "start_time": "2021-07-30T04:22:13.048Z"
   },
   {
    "duration": 34,
    "start_time": "2021-07-30T04:22:13.076Z"
   },
   {
    "duration": 8,
    "start_time": "2021-07-30T04:22:13.112Z"
   },
   {
    "duration": 80,
    "start_time": "2021-07-30T04:22:13.122Z"
   },
   {
    "duration": 27,
    "start_time": "2021-07-30T04:22:13.204Z"
   },
   {
    "duration": 1693,
    "start_time": "2021-07-30T04:22:13.233Z"
   },
   {
    "duration": 9,
    "start_time": "2021-07-30T04:22:14.929Z"
   },
   {
    "duration": 10,
    "start_time": "2021-07-30T04:22:14.941Z"
   },
   {
    "duration": 49,
    "start_time": "2021-07-30T04:22:14.953Z"
   },
   {
    "duration": 62,
    "start_time": "2021-07-30T04:22:15.005Z"
   },
   {
    "duration": 3303,
    "start_time": "2021-07-30T04:22:15.069Z"
   },
   {
    "duration": 472,
    "start_time": "2021-07-30T04:22:18.374Z"
   },
   {
    "duration": 33,
    "start_time": "2021-07-30T04:22:18.848Z"
   },
   {
    "duration": 2344,
    "start_time": "2021-07-30T04:22:18.883Z"
   },
   {
    "duration": 613,
    "start_time": "2021-07-30T04:22:21.230Z"
   },
   {
    "duration": 3,
    "start_time": "2021-07-30T04:22:21.846Z"
   },
   {
    "duration": 1778,
    "start_time": "2021-07-30T04:22:21.852Z"
   },
   {
    "duration": 95,
    "start_time": "2021-07-30T04:22:23.632Z"
   },
   {
    "duration": 6,
    "start_time": "2021-07-30T04:22:23.729Z"
   },
   {
    "duration": 525,
    "start_time": "2021-07-30T04:22:23.737Z"
   },
   {
    "duration": 451,
    "start_time": "2021-07-30T04:22:24.264Z"
   },
   {
    "duration": 15,
    "start_time": "2021-07-30T04:22:24.718Z"
   },
   {
    "duration": 9989,
    "start_time": "2021-07-30T04:22:24.735Z"
   },
   {
    "duration": 16,
    "start_time": "2021-07-30T04:22:34.728Z"
   },
   {
    "duration": 1826,
    "start_time": "2021-07-30T04:22:34.746Z"
   },
   {
    "duration": 4,
    "start_time": "2021-07-30T04:38:11.013Z"
   },
   {
    "duration": 1799,
    "start_time": "2021-07-30T04:38:11.613Z"
   }
  ],
  "interpreter": {
   "hash": "fd578b525fe7fcca8a3ea11350d18bcbeb29af20bd1df15f6c5fd2c9cf111483"
  },
  "kernelspec": {
   "display_name": "Python 3",
   "language": "python",
   "name": "python3"
  },
  "language_info": {
   "codemirror_mode": {
    "name": "ipython",
    "version": 3
   },
   "file_extension": ".py",
   "mimetype": "text/x-python",
   "name": "python",
   "nbconvert_exporter": "python",
   "pygments_lexer": "ipython3",
   "version": "3.7.8"
  },
  "toc": {
   "base_numbering": 1,
   "nav_menu": {},
   "number_sections": true,
   "sideBar": true,
   "skip_h1_title": true,
   "title_cell": "Table of Contents",
   "title_sidebar": "Contents",
   "toc_cell": false,
   "toc_position": {},
   "toc_section_display": true,
   "toc_window_display": false
  }
 },
 "nbformat": 4,
 "nbformat_minor": 2
}