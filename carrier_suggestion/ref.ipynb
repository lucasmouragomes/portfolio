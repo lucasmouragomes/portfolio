{
 "cells": [
  {
   "cell_type": "code",
   "execution_count": null,
   "source": [
    "import pandas as pd\r\n",
    "from sklearn.model_selection import train_test_split\r\n",
    "from sklearn.linear_model import LogisticRegression\r\n",
    "from joblib import dump\r\n",
    "from sklearn.metrics import mean_squared_error\r\n"
   ],
   "outputs": [],
   "metadata": {}
  },
  {
   "cell_type": "code",
   "execution_count": null,
   "source": [
    "\r\n",
    "df = pd.read_csv('../datasets/train_data_us.csv')\r\n",
    "\r\n",
    "df.loc[df['last_price'] > 113000, 'price_class'] = 1\r\n",
    "df.loc[df['last_price'] <= 113000, 'price_class'] = 0\r\n",
    "\r\n",
    "def prepare(df):\r\n",
    "    features = df.drop(['last_price', 'price_class'], axis=1)\r\n",
    "    target = df['price_class']\r\n",
    "    return features, target\r\n",
    "\r\n",
    "model = LogisticRegression(random_state=12345, solver='liblinear')\r\n",
    "\r\n",
    "df_train, df_valid = train_test_split(df)\r\n",
    "\r\n",
    "train_features, train_target = prepare(df_train)\r\n",
    "valid_features, valid_target = prepare(df_valid)\r\n",
    "\r\n",
    "model.fit(train_features, train_target)\r\n",
    "\r\n",
    "model.score(valid_features, valid_target)\r\n"
   ],
   "outputs": [],
   "metadata": {}
  },
  {
   "cell_type": "code",
   "execution_count": null,
   "source": [
    "\r\n",
    "dump(model, 'model.joblib')\r\n"
   ],
   "outputs": [],
   "metadata": {}
  },
  {
   "cell_type": "code",
   "execution_count": 244,
   "source": [
    "import pandas as pd\r\n",
    "from sklearn.linear_model import LinearRegression\r\n",
    "from sklearn.ensemble import RandomForestRegressor\r\n",
    "from sklearn.tree import DecisionTreeRegressor\r\n",
    "from sklearn.metrics import mean_squared_error\r\n",
    "\r\n",
    "df = pd.read_csv('../datasets/train_data_us.csv')\r\n",
    "\r\n",
    "# initialize variables:\r\n",
    "features = df.drop(['last_price'], axis=1)\r\n",
    "target = df['last_price']/100000\r\n",
    "\r\n",
    "model1 = LinearRegression()\r\n",
    "model2 = RandomForestRegressor(random_state=12345, n_estimators=10)\r\n",
    "model3 = DecisionTreeRegressor(random_state=12345, max_depth=4)\r\n",
    "\r\n",
    "def fit_models(models):\r\n",
    "    for i in range(len(models)):\r\n",
    "        models[i].fit(features,target)\r\n",
    "    return\r\n",
    "\r\n",
    "fit_models([model1, model2, model3])\r\n",
    "\r\n",
    "def score_models(models):\r\n",
    "    for i in range(len(models)):\r\n",
    "        print( f'Model {i+1}: {mean_squared_error(models[i].predict(features), target.values)**0.5}')\r\n",
    "    return\r\n",
    "\r\n",
    "score_models([model1, model2, model3])\r\n",
    "\r\n",
    "final_model = model2"
   ],
   "outputs": [
    {
     "output_type": "stream",
     "name": "stdout",
     "text": [
      "Model 1: 1.5891279406359249\n",
      "Model 2: 0.681055724308232\n",
      "Model 3: 1.3090047716253077\n"
     ]
    }
   ],
   "metadata": {}
  }
 ],
 "metadata": {
  "orig_nbformat": 4,
  "language_info": {
   "name": "python",
   "version": "3.7.10",
   "mimetype": "text/x-python",
   "codemirror_mode": {
    "name": "ipython",
    "version": 3
   },
   "pygments_lexer": "ipython3",
   "nbconvert_exporter": "python",
   "file_extension": ".py"
  },
  "kernelspec": {
   "name": "python3",
   "display_name": "Python 3.7.10 64-bit ('praktikum': conda)"
  },
  "interpreter": {
   "hash": "ac58549e391d20381b1a26588b215b2d55fa392d44f90ad4f3113cc049903f1d"
  }
 },
 "nbformat": 4,
 "nbformat_minor": 2
}