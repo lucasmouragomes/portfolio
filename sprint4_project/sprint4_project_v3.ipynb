{
 "cells": [
  {
   "cell_type": "markdown",
   "source": [
    "# Revenue Analysis for Megaline"
   ],
   "metadata": {}
  },
  {
   "cell_type": "markdown",
   "source": [
    "## Introduction"
   ],
   "metadata": {}
  },
  {
   "cell_type": "markdown",
   "source": [
    "The present document comprises of an analysis of revenue from users in the plans 'Surf' and 'Ultimate' of Megaline Company. Data for all calls, messages and internet sessions for each user has been gathered and will now be analyzed in order to find out the average revenue per plan, consumer patterns and average revenue per user. This research has been done as a part of the advertising budget analysis in order to assist the marketing team on the decision making process.\n",
    "\n",
    "The main sections in this report are:\n",
    "- Proprocessing, where we validate and prepare data for analysis.\n",
    "- Analysis, where we create hypothesis about the data while drawing conclusions.\n",
    "- Hypothesis testing, where we test these hypothesis to check if they are reasonable.\n",
    "- Conclusion, summing up the knowledge researched."
   ],
   "metadata": {}
  },
  {
   "cell_type": "markdown",
   "source": [
    "## Preprocessing Data"
   ],
   "metadata": {}
  },
  {
   "cell_type": "markdown",
   "source": [
    "### Introduction"
   ],
   "metadata": {}
  },
  {
   "cell_type": "markdown",
   "source": [
    "The first step is to explore data and validate information. Our final objective is to delineate patterns between consumers from the two different plans: are these consumers need very different? Which one brings more revenue?\n",
    "\n",
    "Data often comes with a few unpredicted issues, and these will be fixed in this preprocessing section. These can include missing values, wrong values and incorrect data types. Analysis is much easier when the data is standardized and categorized. At the end of this section, we expect to have data ready for analysis and the drawing of results."
   ],
   "metadata": {}
  },
  {
   "cell_type": "markdown",
   "source": [
    "### General Information"
   ],
   "metadata": {}
  },
  {
   "cell_type": "markdown",
   "source": [
    "#### Explanation"
   ],
   "metadata": {}
  },
  {
   "cell_type": "markdown",
   "source": [
    "Five tables were provided:\n",
    "\n",
    "- Plans: with information about each of Megaline's plans analyzed.\n",
    "- Users: containing details about the users, including ID, name, location and plan registry date.\n",
    "- Calls: each call has a specific ID associated with a user ID.\n",
    "- Messages: how many messages have been sent for each user.\n",
    "- Internet: data rates for each user stored in sessions.\n",
    "\n",
    "We will first load them partially, check data types and reload them correctly parsed. Then, we will check if there are any duplicates, artifacts or missing data."
   ],
   "metadata": {}
  },
  {
   "cell_type": "markdown",
   "source": [
    "#### Code"
   ],
   "metadata": {}
  },
  {
   "cell_type": "code",
   "execution_count": 1,
   "source": [
    "import pandas as pd\r\n",
    "import numpy as np\r\n",
    "import matplotlib.pyplot as plt\r\n",
    "import nltk\r\n",
    "from nltk.stem import SnowballStemmer, WordNetLemmatizer\r\n",
    "\r\n",
    "try:\r\n",
    "    pd.read_csv('megaline_calls.csv', nrows=1)\r\n",
    "    CSVPATH = ''\r\n",
    "except:\r\n",
    "    pass\r\n",
    "\r\n",
    "try:\r\n",
    "    pd.read_csv('/megaline_calls.csv', nrows=1)\r\n",
    "    CSVPATH = '/'\r\n",
    "except:\r\n",
    "    pass\r\n",
    "\r\n",
    "try:\r\n",
    "    pd.read_csv('/datasets/megaline_calls.csv', nrows=1)\r\n",
    "    CSVPATH = '/datasets/'\r\n",
    "except:\r\n",
    "    pass\r\n",
    "\r\n",
    "try:\r\n",
    "    pd.read_csv('./datasets/megaline_calls.csv', nrows=1)\r\n",
    "    CSVPATH = './datasets/'\r\n",
    "except:\r\n",
    "    pass\r\n",
    "\r\n",
    "print('Path found is', CSVPATH)\r\n",
    "\r\n",
    "def optimize_types(df):\r\n",
    "    df_dtypes = df.dtypes\r\n",
    "    df_names = df.index\r\n",
    "    df_types = [i.name for i in df_dtypes.values]\r\n",
    "    df_types = dict(zip(df_names, df_types))"
   ],
   "outputs": [
    {
     "output_type": "stream",
     "name": "stdout",
     "text": [
      "Path found is ./datasets/\n"
     ]
    }
   ],
   "metadata": {}
  },
  {
   "cell_type": "code",
   "execution_count": 2,
   "source": [
    "calls = pd.read_csv(CSVPATH+'megaline_calls.csv', nrows=5)\r\n",
    "\r\n",
    "calls['user_id'] = pd.to_numeric(calls['user_id'], downcast='unsigned')\r\n",
    "calls['duration'] = pd.to_numeric(calls['duration'], downcast='float')\r\n",
    "\r\n",
    "calls_types = optimize_types(calls)\r\n",
    "\r\n",
    "calls = pd.read_csv(\r\n",
    "    CSVPATH+'megaline_calls.csv', \r\n",
    "    dtype=calls_types, \r\n",
    "    parse_dates=['call_date'],\r\n",
    "    infer_datetime_format='%Y-%m-%d')\r\n",
    "\r\n",
    "calls.info()\r\n",
    "\r\n",
    "print('\\nNumber of duplicates in calls:', calls[calls.duplicated()].size, '\\n\\n')\r\n",
    "\r\n",
    "print('Description of dataset \"calls\":')\r\n",
    "display(calls[['call_date']].describe())\r\n",
    "\r\n",
    "\r\n",
    "print('Head of dataset \"calls\":')\r\n",
    "display(calls.describe())\r\n",
    "\r\n",
    "display(calls.head())\r\n",
    "\r\n",
    "print('Number of calls with zero duration:',\r\n",
    "      calls[calls['duration'] == 0]['duration'].count(),\r\n",
    "      'of', \r\n",
    "      calls['duration'].count()\r\n",
    "     )\r\n",
    "\r\n",
    "calls[calls['duration'] == 0]"
   ],
   "outputs": [
    {
     "output_type": "stream",
     "name": "stdout",
     "text": [
      "<class 'pandas.core.frame.DataFrame'>\n",
      "RangeIndex: 137735 entries, 0 to 137734\n",
      "Data columns (total 4 columns):\n",
      " #   Column     Non-Null Count   Dtype         \n",
      "---  ------     --------------   -----         \n",
      " 0   id         137735 non-null  object        \n",
      " 1   user_id    137735 non-null  int64         \n",
      " 2   call_date  137735 non-null  datetime64[ns]\n",
      " 3   duration   137735 non-null  float64       \n",
      "dtypes: datetime64[ns](1), float64(1), int64(1), object(1)\n",
      "memory usage: 4.2+ MB\n",
      "\n",
      "Number of duplicates in calls: 0 \n",
      "\n",
      "\n",
      "Description of dataset \"calls\":\n"
     ]
    },
    {
     "output_type": "stream",
     "name": "stderr",
     "text": [
      "<ipython-input-2-3b1597f34e9c>:19: FutureWarning: Treating datetime data as categorical rather than numeric in `.describe` is deprecated and will be removed in a future version of pandas. Specify `datetime_is_numeric=True` to silence this warning and adopt the future behavior now.\n",
      "  display(calls[['call_date']].describe())\n"
     ]
    },
    {
     "output_type": "display_data",
     "data": {
      "text/plain": [
       "                  call_date\n",
       "count                137735\n",
       "unique                  351\n",
       "top     2018-12-27 00:00:00\n",
       "freq                   1091\n",
       "first   2018-01-15 00:00:00\n",
       "last    2018-12-31 00:00:00"
      ],
      "text/html": [
       "<div>\n",
       "<style scoped>\n",
       "    .dataframe tbody tr th:only-of-type {\n",
       "        vertical-align: middle;\n",
       "    }\n",
       "\n",
       "    .dataframe tbody tr th {\n",
       "        vertical-align: top;\n",
       "    }\n",
       "\n",
       "    .dataframe thead th {\n",
       "        text-align: right;\n",
       "    }\n",
       "</style>\n",
       "<table border=\"1\" class=\"dataframe\">\n",
       "  <thead>\n",
       "    <tr style=\"text-align: right;\">\n",
       "      <th></th>\n",
       "      <th>call_date</th>\n",
       "    </tr>\n",
       "  </thead>\n",
       "  <tbody>\n",
       "    <tr>\n",
       "      <th>count</th>\n",
       "      <td>137735</td>\n",
       "    </tr>\n",
       "    <tr>\n",
       "      <th>unique</th>\n",
       "      <td>351</td>\n",
       "    </tr>\n",
       "    <tr>\n",
       "      <th>top</th>\n",
       "      <td>2018-12-27 00:00:00</td>\n",
       "    </tr>\n",
       "    <tr>\n",
       "      <th>freq</th>\n",
       "      <td>1091</td>\n",
       "    </tr>\n",
       "    <tr>\n",
       "      <th>first</th>\n",
       "      <td>2018-01-15 00:00:00</td>\n",
       "    </tr>\n",
       "    <tr>\n",
       "      <th>last</th>\n",
       "      <td>2018-12-31 00:00:00</td>\n",
       "    </tr>\n",
       "  </tbody>\n",
       "</table>\n",
       "</div>"
      ]
     },
     "metadata": {}
    },
    {
     "output_type": "stream",
     "name": "stdout",
     "text": [
      "Head of dataset \"calls\":\n"
     ]
    },
    {
     "output_type": "display_data",
     "data": {
      "text/plain": [
       "             user_id       duration\n",
       "count  137735.000000  137735.000000\n",
       "mean     1247.658046       6.745927\n",
       "std       139.416268       5.839241\n",
       "min      1000.000000       0.000000\n",
       "25%      1128.000000       1.290000\n",
       "50%      1247.000000       5.980000\n",
       "75%      1365.000000      10.690000\n",
       "max      1499.000000      37.600000"
      ],
      "text/html": [
       "<div>\n",
       "<style scoped>\n",
       "    .dataframe tbody tr th:only-of-type {\n",
       "        vertical-align: middle;\n",
       "    }\n",
       "\n",
       "    .dataframe tbody tr th {\n",
       "        vertical-align: top;\n",
       "    }\n",
       "\n",
       "    .dataframe thead th {\n",
       "        text-align: right;\n",
       "    }\n",
       "</style>\n",
       "<table border=\"1\" class=\"dataframe\">\n",
       "  <thead>\n",
       "    <tr style=\"text-align: right;\">\n",
       "      <th></th>\n",
       "      <th>user_id</th>\n",
       "      <th>duration</th>\n",
       "    </tr>\n",
       "  </thead>\n",
       "  <tbody>\n",
       "    <tr>\n",
       "      <th>count</th>\n",
       "      <td>137735.000000</td>\n",
       "      <td>137735.000000</td>\n",
       "    </tr>\n",
       "    <tr>\n",
       "      <th>mean</th>\n",
       "      <td>1247.658046</td>\n",
       "      <td>6.745927</td>\n",
       "    </tr>\n",
       "    <tr>\n",
       "      <th>std</th>\n",
       "      <td>139.416268</td>\n",
       "      <td>5.839241</td>\n",
       "    </tr>\n",
       "    <tr>\n",
       "      <th>min</th>\n",
       "      <td>1000.000000</td>\n",
       "      <td>0.000000</td>\n",
       "    </tr>\n",
       "    <tr>\n",
       "      <th>25%</th>\n",
       "      <td>1128.000000</td>\n",
       "      <td>1.290000</td>\n",
       "    </tr>\n",
       "    <tr>\n",
       "      <th>50%</th>\n",
       "      <td>1247.000000</td>\n",
       "      <td>5.980000</td>\n",
       "    </tr>\n",
       "    <tr>\n",
       "      <th>75%</th>\n",
       "      <td>1365.000000</td>\n",
       "      <td>10.690000</td>\n",
       "    </tr>\n",
       "    <tr>\n",
       "      <th>max</th>\n",
       "      <td>1499.000000</td>\n",
       "      <td>37.600000</td>\n",
       "    </tr>\n",
       "  </tbody>\n",
       "</table>\n",
       "</div>"
      ]
     },
     "metadata": {}
    },
    {
     "output_type": "display_data",
     "data": {
      "text/plain": [
       "         id  user_id  call_date  duration\n",
       "0   1000_93     1000 2018-12-27      8.52\n",
       "1  1000_145     1000 2018-12-27     13.66\n",
       "2  1000_247     1000 2018-12-27     14.48\n",
       "3  1000_309     1000 2018-12-28      5.76\n",
       "4  1000_380     1000 2018-12-30      4.22"
      ],
      "text/html": [
       "<div>\n",
       "<style scoped>\n",
       "    .dataframe tbody tr th:only-of-type {\n",
       "        vertical-align: middle;\n",
       "    }\n",
       "\n",
       "    .dataframe tbody tr th {\n",
       "        vertical-align: top;\n",
       "    }\n",
       "\n",
       "    .dataframe thead th {\n",
       "        text-align: right;\n",
       "    }\n",
       "</style>\n",
       "<table border=\"1\" class=\"dataframe\">\n",
       "  <thead>\n",
       "    <tr style=\"text-align: right;\">\n",
       "      <th></th>\n",
       "      <th>id</th>\n",
       "      <th>user_id</th>\n",
       "      <th>call_date</th>\n",
       "      <th>duration</th>\n",
       "    </tr>\n",
       "  </thead>\n",
       "  <tbody>\n",
       "    <tr>\n",
       "      <th>0</th>\n",
       "      <td>1000_93</td>\n",
       "      <td>1000</td>\n",
       "      <td>2018-12-27</td>\n",
       "      <td>8.52</td>\n",
       "    </tr>\n",
       "    <tr>\n",
       "      <th>1</th>\n",
       "      <td>1000_145</td>\n",
       "      <td>1000</td>\n",
       "      <td>2018-12-27</td>\n",
       "      <td>13.66</td>\n",
       "    </tr>\n",
       "    <tr>\n",
       "      <th>2</th>\n",
       "      <td>1000_247</td>\n",
       "      <td>1000</td>\n",
       "      <td>2018-12-27</td>\n",
       "      <td>14.48</td>\n",
       "    </tr>\n",
       "    <tr>\n",
       "      <th>3</th>\n",
       "      <td>1000_309</td>\n",
       "      <td>1000</td>\n",
       "      <td>2018-12-28</td>\n",
       "      <td>5.76</td>\n",
       "    </tr>\n",
       "    <tr>\n",
       "      <th>4</th>\n",
       "      <td>1000_380</td>\n",
       "      <td>1000</td>\n",
       "      <td>2018-12-30</td>\n",
       "      <td>4.22</td>\n",
       "    </tr>\n",
       "  </tbody>\n",
       "</table>\n",
       "</div>"
      ]
     },
     "metadata": {}
    },
    {
     "output_type": "stream",
     "name": "stdout",
     "text": [
      "Number of calls with zero duration: 26834 of 137735\n"
     ]
    },
    {
     "output_type": "execute_result",
     "data": {
      "text/plain": [
       "              id  user_id  call_date  duration\n",
       "19        1001_4     1001 2018-12-05       0.0\n",
       "25       1001_13     1001 2018-12-24       0.0\n",
       "31       1001_30     1001 2018-10-17       0.0\n",
       "32       1001_31     1001 2018-11-03       0.0\n",
       "34       1001_35     1001 2018-12-21       0.0\n",
       "...          ...      ...        ...       ...\n",
       "137714  1499_183     1499 2018-11-10       0.0\n",
       "137715  1499_184     1499 2018-09-15       0.0\n",
       "137720  1499_189     1499 2018-12-27       0.0\n",
       "137722  1499_191     1499 2018-12-24       0.0\n",
       "137725  1499_194     1499 2018-10-31       0.0\n",
       "\n",
       "[26834 rows x 4 columns]"
      ],
      "text/html": [
       "<div>\n",
       "<style scoped>\n",
       "    .dataframe tbody tr th:only-of-type {\n",
       "        vertical-align: middle;\n",
       "    }\n",
       "\n",
       "    .dataframe tbody tr th {\n",
       "        vertical-align: top;\n",
       "    }\n",
       "\n",
       "    .dataframe thead th {\n",
       "        text-align: right;\n",
       "    }\n",
       "</style>\n",
       "<table border=\"1\" class=\"dataframe\">\n",
       "  <thead>\n",
       "    <tr style=\"text-align: right;\">\n",
       "      <th></th>\n",
       "      <th>id</th>\n",
       "      <th>user_id</th>\n",
       "      <th>call_date</th>\n",
       "      <th>duration</th>\n",
       "    </tr>\n",
       "  </thead>\n",
       "  <tbody>\n",
       "    <tr>\n",
       "      <th>19</th>\n",
       "      <td>1001_4</td>\n",
       "      <td>1001</td>\n",
       "      <td>2018-12-05</td>\n",
       "      <td>0.0</td>\n",
       "    </tr>\n",
       "    <tr>\n",
       "      <th>25</th>\n",
       "      <td>1001_13</td>\n",
       "      <td>1001</td>\n",
       "      <td>2018-12-24</td>\n",
       "      <td>0.0</td>\n",
       "    </tr>\n",
       "    <tr>\n",
       "      <th>31</th>\n",
       "      <td>1001_30</td>\n",
       "      <td>1001</td>\n",
       "      <td>2018-10-17</td>\n",
       "      <td>0.0</td>\n",
       "    </tr>\n",
       "    <tr>\n",
       "      <th>32</th>\n",
       "      <td>1001_31</td>\n",
       "      <td>1001</td>\n",
       "      <td>2018-11-03</td>\n",
       "      <td>0.0</td>\n",
       "    </tr>\n",
       "    <tr>\n",
       "      <th>34</th>\n",
       "      <td>1001_35</td>\n",
       "      <td>1001</td>\n",
       "      <td>2018-12-21</td>\n",
       "      <td>0.0</td>\n",
       "    </tr>\n",
       "    <tr>\n",
       "      <th>...</th>\n",
       "      <td>...</td>\n",
       "      <td>...</td>\n",
       "      <td>...</td>\n",
       "      <td>...</td>\n",
       "    </tr>\n",
       "    <tr>\n",
       "      <th>137714</th>\n",
       "      <td>1499_183</td>\n",
       "      <td>1499</td>\n",
       "      <td>2018-11-10</td>\n",
       "      <td>0.0</td>\n",
       "    </tr>\n",
       "    <tr>\n",
       "      <th>137715</th>\n",
       "      <td>1499_184</td>\n",
       "      <td>1499</td>\n",
       "      <td>2018-09-15</td>\n",
       "      <td>0.0</td>\n",
       "    </tr>\n",
       "    <tr>\n",
       "      <th>137720</th>\n",
       "      <td>1499_189</td>\n",
       "      <td>1499</td>\n",
       "      <td>2018-12-27</td>\n",
       "      <td>0.0</td>\n",
       "    </tr>\n",
       "    <tr>\n",
       "      <th>137722</th>\n",
       "      <td>1499_191</td>\n",
       "      <td>1499</td>\n",
       "      <td>2018-12-24</td>\n",
       "      <td>0.0</td>\n",
       "    </tr>\n",
       "    <tr>\n",
       "      <th>137725</th>\n",
       "      <td>1499_194</td>\n",
       "      <td>1499</td>\n",
       "      <td>2018-10-31</td>\n",
       "      <td>0.0</td>\n",
       "    </tr>\n",
       "  </tbody>\n",
       "</table>\n",
       "<p>26834 rows × 4 columns</p>\n",
       "</div>"
      ]
     },
     "metadata": {},
     "execution_count": 2
    }
   ],
   "metadata": {}
  },
  {
   "cell_type": "code",
   "execution_count": 3,
   "source": [
    "internet = pd.read_csv(CSVPATH+'megaline_internet.csv', nrows=5)\r\n",
    "\r\n",
    "internet['user_id'] = pd.to_numeric(internet['user_id'], downcast='unsigned')\r\n",
    "internet['mb_used'] = pd.to_numeric(internet['mb_used'], downcast='float')\r\n",
    "\r\n",
    "internet_types = optimize_types(internet)\r\n",
    "\r\n",
    "internet = pd.read_csv(\r\n",
    "    CSVPATH+'megaline_internet.csv', \r\n",
    "    dtype=internet_types, \r\n",
    "    parse_dates=['session_date'],\r\n",
    "    infer_datetime_format='%Y-%m-%d')\r\n",
    "\r\n",
    "internet.info()\r\n",
    "\r\n",
    "print('\\nNumber of duplicates in internet:', internet[internet.duplicated()].size, '\\n\\n')\r\n",
    "\r\n",
    "print('Description of dataset \"internet\":')\r\n",
    "display(internet[['session_date']].describe())\r\n",
    "display(internet[['user_id', 'mb_used']].describe())\r\n",
    "\r\n",
    "print('Head of dataset \"internet\":')\r\n",
    "display(internet.head())\r\n",
    "\r\n",
    "print('Number of sessions with zero mb_used:',\r\n",
    "      internet[internet['mb_used'] == 0]['mb_used'].count(),\r\n",
    "      'of', \r\n",
    "      internet['mb_used'].count()\r\n",
    "     )\r\n",
    "\r\n",
    "internet[internet['mb_used'] == 0]"
   ],
   "outputs": [
    {
     "output_type": "stream",
     "name": "stdout",
     "text": [
      "<class 'pandas.core.frame.DataFrame'>\n",
      "RangeIndex: 104825 entries, 0 to 104824\n",
      "Data columns (total 4 columns):\n",
      " #   Column        Non-Null Count   Dtype         \n",
      "---  ------        --------------   -----         \n",
      " 0   id            104825 non-null  object        \n",
      " 1   user_id       104825 non-null  int64         \n",
      " 2   session_date  104825 non-null  datetime64[ns]\n",
      " 3   mb_used       104825 non-null  float64       \n",
      "dtypes: datetime64[ns](1), float64(1), int64(1), object(1)\n",
      "memory usage: 3.2+ MB\n",
      "\n",
      "Number of duplicates in internet: 0 \n",
      "\n",
      "\n",
      "Description of dataset \"internet\":\n"
     ]
    },
    {
     "output_type": "stream",
     "name": "stderr",
     "text": [
      "<ipython-input-3-b36c23f59f3e>:19: FutureWarning: Treating datetime data as categorical rather than numeric in `.describe` is deprecated and will be removed in a future version of pandas. Specify `datetime_is_numeric=True` to silence this warning and adopt the future behavior now.\n",
      "  display(internet[['session_date']].describe())\n"
     ]
    },
    {
     "output_type": "display_data",
     "data": {
      "text/plain": [
       "               session_date\n",
       "count                104825\n",
       "unique                  351\n",
       "top     2018-12-24 00:00:00\n",
       "freq                    851\n",
       "first   2018-01-15 00:00:00\n",
       "last    2018-12-31 00:00:00"
      ],
      "text/html": [
       "<div>\n",
       "<style scoped>\n",
       "    .dataframe tbody tr th:only-of-type {\n",
       "        vertical-align: middle;\n",
       "    }\n",
       "\n",
       "    .dataframe tbody tr th {\n",
       "        vertical-align: top;\n",
       "    }\n",
       "\n",
       "    .dataframe thead th {\n",
       "        text-align: right;\n",
       "    }\n",
       "</style>\n",
       "<table border=\"1\" class=\"dataframe\">\n",
       "  <thead>\n",
       "    <tr style=\"text-align: right;\">\n",
       "      <th></th>\n",
       "      <th>session_date</th>\n",
       "    </tr>\n",
       "  </thead>\n",
       "  <tbody>\n",
       "    <tr>\n",
       "      <th>count</th>\n",
       "      <td>104825</td>\n",
       "    </tr>\n",
       "    <tr>\n",
       "      <th>unique</th>\n",
       "      <td>351</td>\n",
       "    </tr>\n",
       "    <tr>\n",
       "      <th>top</th>\n",
       "      <td>2018-12-24 00:00:00</td>\n",
       "    </tr>\n",
       "    <tr>\n",
       "      <th>freq</th>\n",
       "      <td>851</td>\n",
       "    </tr>\n",
       "    <tr>\n",
       "      <th>first</th>\n",
       "      <td>2018-01-15 00:00:00</td>\n",
       "    </tr>\n",
       "    <tr>\n",
       "      <th>last</th>\n",
       "      <td>2018-12-31 00:00:00</td>\n",
       "    </tr>\n",
       "  </tbody>\n",
       "</table>\n",
       "</div>"
      ]
     },
     "metadata": {}
    },
    {
     "output_type": "display_data",
     "data": {
      "text/plain": [
       "             user_id        mb_used\n",
       "count  104825.000000  104825.000000\n",
       "mean     1242.496361     366.713701\n",
       "std       142.053913     277.170542\n",
       "min      1000.000000       0.000000\n",
       "25%      1122.000000     136.080000\n",
       "50%      1236.000000     343.980000\n",
       "75%      1367.000000     554.610000\n",
       "max      1499.000000    1693.470000"
      ],
      "text/html": [
       "<div>\n",
       "<style scoped>\n",
       "    .dataframe tbody tr th:only-of-type {\n",
       "        vertical-align: middle;\n",
       "    }\n",
       "\n",
       "    .dataframe tbody tr th {\n",
       "        vertical-align: top;\n",
       "    }\n",
       "\n",
       "    .dataframe thead th {\n",
       "        text-align: right;\n",
       "    }\n",
       "</style>\n",
       "<table border=\"1\" class=\"dataframe\">\n",
       "  <thead>\n",
       "    <tr style=\"text-align: right;\">\n",
       "      <th></th>\n",
       "      <th>user_id</th>\n",
       "      <th>mb_used</th>\n",
       "    </tr>\n",
       "  </thead>\n",
       "  <tbody>\n",
       "    <tr>\n",
       "      <th>count</th>\n",
       "      <td>104825.000000</td>\n",
       "      <td>104825.000000</td>\n",
       "    </tr>\n",
       "    <tr>\n",
       "      <th>mean</th>\n",
       "      <td>1242.496361</td>\n",
       "      <td>366.713701</td>\n",
       "    </tr>\n",
       "    <tr>\n",
       "      <th>std</th>\n",
       "      <td>142.053913</td>\n",
       "      <td>277.170542</td>\n",
       "    </tr>\n",
       "    <tr>\n",
       "      <th>min</th>\n",
       "      <td>1000.000000</td>\n",
       "      <td>0.000000</td>\n",
       "    </tr>\n",
       "    <tr>\n",
       "      <th>25%</th>\n",
       "      <td>1122.000000</td>\n",
       "      <td>136.080000</td>\n",
       "    </tr>\n",
       "    <tr>\n",
       "      <th>50%</th>\n",
       "      <td>1236.000000</td>\n",
       "      <td>343.980000</td>\n",
       "    </tr>\n",
       "    <tr>\n",
       "      <th>75%</th>\n",
       "      <td>1367.000000</td>\n",
       "      <td>554.610000</td>\n",
       "    </tr>\n",
       "    <tr>\n",
       "      <th>max</th>\n",
       "      <td>1499.000000</td>\n",
       "      <td>1693.470000</td>\n",
       "    </tr>\n",
       "  </tbody>\n",
       "</table>\n",
       "</div>"
      ]
     },
     "metadata": {}
    },
    {
     "output_type": "stream",
     "name": "stdout",
     "text": [
      "Head of dataset \"internet\":\n"
     ]
    },
    {
     "output_type": "display_data",
     "data": {
      "text/plain": [
       "         id  user_id session_date  mb_used\n",
       "0   1000_13     1000   2018-12-29    89.86\n",
       "1  1000_204     1000   2018-12-31     0.00\n",
       "2  1000_379     1000   2018-12-28   660.40\n",
       "3  1000_413     1000   2018-12-26   270.99\n",
       "4  1000_442     1000   2018-12-27   880.22"
      ],
      "text/html": [
       "<div>\n",
       "<style scoped>\n",
       "    .dataframe tbody tr th:only-of-type {\n",
       "        vertical-align: middle;\n",
       "    }\n",
       "\n",
       "    .dataframe tbody tr th {\n",
       "        vertical-align: top;\n",
       "    }\n",
       "\n",
       "    .dataframe thead th {\n",
       "        text-align: right;\n",
       "    }\n",
       "</style>\n",
       "<table border=\"1\" class=\"dataframe\">\n",
       "  <thead>\n",
       "    <tr style=\"text-align: right;\">\n",
       "      <th></th>\n",
       "      <th>id</th>\n",
       "      <th>user_id</th>\n",
       "      <th>session_date</th>\n",
       "      <th>mb_used</th>\n",
       "    </tr>\n",
       "  </thead>\n",
       "  <tbody>\n",
       "    <tr>\n",
       "      <th>0</th>\n",
       "      <td>1000_13</td>\n",
       "      <td>1000</td>\n",
       "      <td>2018-12-29</td>\n",
       "      <td>89.86</td>\n",
       "    </tr>\n",
       "    <tr>\n",
       "      <th>1</th>\n",
       "      <td>1000_204</td>\n",
       "      <td>1000</td>\n",
       "      <td>2018-12-31</td>\n",
       "      <td>0.00</td>\n",
       "    </tr>\n",
       "    <tr>\n",
       "      <th>2</th>\n",
       "      <td>1000_379</td>\n",
       "      <td>1000</td>\n",
       "      <td>2018-12-28</td>\n",
       "      <td>660.40</td>\n",
       "    </tr>\n",
       "    <tr>\n",
       "      <th>3</th>\n",
       "      <td>1000_413</td>\n",
       "      <td>1000</td>\n",
       "      <td>2018-12-26</td>\n",
       "      <td>270.99</td>\n",
       "    </tr>\n",
       "    <tr>\n",
       "      <th>4</th>\n",
       "      <td>1000_442</td>\n",
       "      <td>1000</td>\n",
       "      <td>2018-12-27</td>\n",
       "      <td>880.22</td>\n",
       "    </tr>\n",
       "  </tbody>\n",
       "</table>\n",
       "</div>"
      ]
     },
     "metadata": {}
    },
    {
     "output_type": "stream",
     "name": "stdout",
     "text": [
      "Number of sessions with zero mb_used: 13747 of 104825\n"
     ]
    },
    {
     "output_type": "execute_result",
     "data": {
      "text/plain": [
       "              id  user_id session_date  mb_used\n",
       "1       1000_204     1000   2018-12-31      0.0\n",
       "14       1001_26     1001   2018-09-17      0.0\n",
       "16       1001_28     1001   2018-10-17      0.0\n",
       "34       1001_54     1001   2018-09-02      0.0\n",
       "43       1001_77     1001   2018-10-31      0.0\n",
       "...          ...      ...          ...      ...\n",
       "104797  1499_192     1499   2018-09-19      0.0\n",
       "104804  1499_199     1499   2018-12-09      0.0\n",
       "104816  1499_211     1499   2018-09-26      0.0\n",
       "104817  1499_212     1499   2018-09-11      0.0\n",
       "104823  1499_218     1499   2018-12-07      0.0\n",
       "\n",
       "[13747 rows x 4 columns]"
      ],
      "text/html": [
       "<div>\n",
       "<style scoped>\n",
       "    .dataframe tbody tr th:only-of-type {\n",
       "        vertical-align: middle;\n",
       "    }\n",
       "\n",
       "    .dataframe tbody tr th {\n",
       "        vertical-align: top;\n",
       "    }\n",
       "\n",
       "    .dataframe thead th {\n",
       "        text-align: right;\n",
       "    }\n",
       "</style>\n",
       "<table border=\"1\" class=\"dataframe\">\n",
       "  <thead>\n",
       "    <tr style=\"text-align: right;\">\n",
       "      <th></th>\n",
       "      <th>id</th>\n",
       "      <th>user_id</th>\n",
       "      <th>session_date</th>\n",
       "      <th>mb_used</th>\n",
       "    </tr>\n",
       "  </thead>\n",
       "  <tbody>\n",
       "    <tr>\n",
       "      <th>1</th>\n",
       "      <td>1000_204</td>\n",
       "      <td>1000</td>\n",
       "      <td>2018-12-31</td>\n",
       "      <td>0.0</td>\n",
       "    </tr>\n",
       "    <tr>\n",
       "      <th>14</th>\n",
       "      <td>1001_26</td>\n",
       "      <td>1001</td>\n",
       "      <td>2018-09-17</td>\n",
       "      <td>0.0</td>\n",
       "    </tr>\n",
       "    <tr>\n",
       "      <th>16</th>\n",
       "      <td>1001_28</td>\n",
       "      <td>1001</td>\n",
       "      <td>2018-10-17</td>\n",
       "      <td>0.0</td>\n",
       "    </tr>\n",
       "    <tr>\n",
       "      <th>34</th>\n",
       "      <td>1001_54</td>\n",
       "      <td>1001</td>\n",
       "      <td>2018-09-02</td>\n",
       "      <td>0.0</td>\n",
       "    </tr>\n",
       "    <tr>\n",
       "      <th>43</th>\n",
       "      <td>1001_77</td>\n",
       "      <td>1001</td>\n",
       "      <td>2018-10-31</td>\n",
       "      <td>0.0</td>\n",
       "    </tr>\n",
       "    <tr>\n",
       "      <th>...</th>\n",
       "      <td>...</td>\n",
       "      <td>...</td>\n",
       "      <td>...</td>\n",
       "      <td>...</td>\n",
       "    </tr>\n",
       "    <tr>\n",
       "      <th>104797</th>\n",
       "      <td>1499_192</td>\n",
       "      <td>1499</td>\n",
       "      <td>2018-09-19</td>\n",
       "      <td>0.0</td>\n",
       "    </tr>\n",
       "    <tr>\n",
       "      <th>104804</th>\n",
       "      <td>1499_199</td>\n",
       "      <td>1499</td>\n",
       "      <td>2018-12-09</td>\n",
       "      <td>0.0</td>\n",
       "    </tr>\n",
       "    <tr>\n",
       "      <th>104816</th>\n",
       "      <td>1499_211</td>\n",
       "      <td>1499</td>\n",
       "      <td>2018-09-26</td>\n",
       "      <td>0.0</td>\n",
       "    </tr>\n",
       "    <tr>\n",
       "      <th>104817</th>\n",
       "      <td>1499_212</td>\n",
       "      <td>1499</td>\n",
       "      <td>2018-09-11</td>\n",
       "      <td>0.0</td>\n",
       "    </tr>\n",
       "    <tr>\n",
       "      <th>104823</th>\n",
       "      <td>1499_218</td>\n",
       "      <td>1499</td>\n",
       "      <td>2018-12-07</td>\n",
       "      <td>0.0</td>\n",
       "    </tr>\n",
       "  </tbody>\n",
       "</table>\n",
       "<p>13747 rows × 4 columns</p>\n",
       "</div>"
      ]
     },
     "metadata": {},
     "execution_count": 3
    }
   ],
   "metadata": {}
  },
  {
   "cell_type": "code",
   "execution_count": 4,
   "source": [
    "messages = pd.read_csv(CSVPATH+'megaline_messages.csv', nrows=5)\r\n",
    "\r\n",
    "messages['user_id'] = pd.to_numeric(messages['user_id'], downcast='unsigned')\r\n",
    "\r\n",
    "messages_types = optimize_types(messages)\r\n",
    "\r\n",
    "messages = pd.read_csv(\r\n",
    "    CSVPATH+'megaline_messages.csv', \r\n",
    "    dtype=messages_types, \r\n",
    "    parse_dates=['message_date'],\r\n",
    "    infer_datetime_format='%Y-%m-%d')\r\n",
    "\r\n",
    "messages.info()\r\n",
    "\r\n",
    "print('\\nNumber of duplicates in messages:', messages[messages.duplicated()].size, '\\n\\n')\r\n",
    "\r\n",
    "print('Description of dataset \"messages\":')\r\n",
    "display(messages[['message_date']].describe())\r\n",
    "\r\n",
    "print('Head of dataset \"messages\":')\r\n",
    "display(messages.head())\r\n"
   ],
   "outputs": [
    {
     "output_type": "stream",
     "name": "stdout",
     "text": [
      "<class 'pandas.core.frame.DataFrame'>\n",
      "RangeIndex: 76051 entries, 0 to 76050\n",
      "Data columns (total 3 columns):\n",
      " #   Column        Non-Null Count  Dtype         \n",
      "---  ------        --------------  -----         \n",
      " 0   id            76051 non-null  object        \n",
      " 1   user_id       76051 non-null  int64         \n",
      " 2   message_date  76051 non-null  datetime64[ns]\n",
      "dtypes: datetime64[ns](1), int64(1), object(1)\n",
      "memory usage: 1.7+ MB\n",
      "\n",
      "Number of duplicates in messages: 0 \n",
      "\n",
      "\n",
      "Description of dataset \"messages\":\n"
     ]
    },
    {
     "output_type": "stream",
     "name": "stderr",
     "text": [
      "<ipython-input-4-7604292c03ba>:18: FutureWarning: Treating datetime data as categorical rather than numeric in `.describe` is deprecated and will be removed in a future version of pandas. Specify `datetime_is_numeric=True` to silence this warning and adopt the future behavior now.\n",
      "  display(messages[['message_date']].describe())\n"
     ]
    },
    {
     "output_type": "display_data",
     "data": {
      "text/plain": [
       "               message_date\n",
       "count                 76051\n",
       "unique                  351\n",
       "top     2018-12-28 00:00:00\n",
       "freq                    702\n",
       "first   2018-01-15 00:00:00\n",
       "last    2018-12-31 00:00:00"
      ],
      "text/html": [
       "<div>\n",
       "<style scoped>\n",
       "    .dataframe tbody tr th:only-of-type {\n",
       "        vertical-align: middle;\n",
       "    }\n",
       "\n",
       "    .dataframe tbody tr th {\n",
       "        vertical-align: top;\n",
       "    }\n",
       "\n",
       "    .dataframe thead th {\n",
       "        text-align: right;\n",
       "    }\n",
       "</style>\n",
       "<table border=\"1\" class=\"dataframe\">\n",
       "  <thead>\n",
       "    <tr style=\"text-align: right;\">\n",
       "      <th></th>\n",
       "      <th>message_date</th>\n",
       "    </tr>\n",
       "  </thead>\n",
       "  <tbody>\n",
       "    <tr>\n",
       "      <th>count</th>\n",
       "      <td>76051</td>\n",
       "    </tr>\n",
       "    <tr>\n",
       "      <th>unique</th>\n",
       "      <td>351</td>\n",
       "    </tr>\n",
       "    <tr>\n",
       "      <th>top</th>\n",
       "      <td>2018-12-28 00:00:00</td>\n",
       "    </tr>\n",
       "    <tr>\n",
       "      <th>freq</th>\n",
       "      <td>702</td>\n",
       "    </tr>\n",
       "    <tr>\n",
       "      <th>first</th>\n",
       "      <td>2018-01-15 00:00:00</td>\n",
       "    </tr>\n",
       "    <tr>\n",
       "      <th>last</th>\n",
       "      <td>2018-12-31 00:00:00</td>\n",
       "    </tr>\n",
       "  </tbody>\n",
       "</table>\n",
       "</div>"
      ]
     },
     "metadata": {}
    },
    {
     "output_type": "stream",
     "name": "stdout",
     "text": [
      "Head of dataset \"messages\":\n"
     ]
    },
    {
     "output_type": "display_data",
     "data": {
      "text/plain": [
       "         id  user_id message_date\n",
       "0  1000_125     1000   2018-12-27\n",
       "1  1000_160     1000   2018-12-31\n",
       "2  1000_223     1000   2018-12-31\n",
       "3  1000_251     1000   2018-12-27\n",
       "4  1000_255     1000   2018-12-26"
      ],
      "text/html": [
       "<div>\n",
       "<style scoped>\n",
       "    .dataframe tbody tr th:only-of-type {\n",
       "        vertical-align: middle;\n",
       "    }\n",
       "\n",
       "    .dataframe tbody tr th {\n",
       "        vertical-align: top;\n",
       "    }\n",
       "\n",
       "    .dataframe thead th {\n",
       "        text-align: right;\n",
       "    }\n",
       "</style>\n",
       "<table border=\"1\" class=\"dataframe\">\n",
       "  <thead>\n",
       "    <tr style=\"text-align: right;\">\n",
       "      <th></th>\n",
       "      <th>id</th>\n",
       "      <th>user_id</th>\n",
       "      <th>message_date</th>\n",
       "    </tr>\n",
       "  </thead>\n",
       "  <tbody>\n",
       "    <tr>\n",
       "      <th>0</th>\n",
       "      <td>1000_125</td>\n",
       "      <td>1000</td>\n",
       "      <td>2018-12-27</td>\n",
       "    </tr>\n",
       "    <tr>\n",
       "      <th>1</th>\n",
       "      <td>1000_160</td>\n",
       "      <td>1000</td>\n",
       "      <td>2018-12-31</td>\n",
       "    </tr>\n",
       "    <tr>\n",
       "      <th>2</th>\n",
       "      <td>1000_223</td>\n",
       "      <td>1000</td>\n",
       "      <td>2018-12-31</td>\n",
       "    </tr>\n",
       "    <tr>\n",
       "      <th>3</th>\n",
       "      <td>1000_251</td>\n",
       "      <td>1000</td>\n",
       "      <td>2018-12-27</td>\n",
       "    </tr>\n",
       "    <tr>\n",
       "      <th>4</th>\n",
       "      <td>1000_255</td>\n",
       "      <td>1000</td>\n",
       "      <td>2018-12-26</td>\n",
       "    </tr>\n",
       "  </tbody>\n",
       "</table>\n",
       "</div>"
      ]
     },
     "metadata": {}
    }
   ],
   "metadata": {}
  },
  {
   "cell_type": "code",
   "execution_count": 5,
   "source": [
    "plans = pd.read_csv(CSVPATH+'megaline_plans.csv')\r\n",
    "\r\n",
    "plans.info()\r\n",
    "\r\n",
    "plans"
   ],
   "outputs": [
    {
     "output_type": "stream",
     "name": "stdout",
     "text": [
      "<class 'pandas.core.frame.DataFrame'>\n",
      "RangeIndex: 2 entries, 0 to 1\n",
      "Data columns (total 8 columns):\n",
      " #   Column                 Non-Null Count  Dtype  \n",
      "---  ------                 --------------  -----  \n",
      " 0   messages_included      2 non-null      int64  \n",
      " 1   mb_per_month_included  2 non-null      int64  \n",
      " 2   minutes_included       2 non-null      int64  \n",
      " 3   usd_monthly_pay        2 non-null      int64  \n",
      " 4   usd_per_gb             2 non-null      int64  \n",
      " 5   usd_per_message        2 non-null      float64\n",
      " 6   usd_per_minute         2 non-null      float64\n",
      " 7   plan_name              2 non-null      object \n",
      "dtypes: float64(2), int64(5), object(1)\n",
      "memory usage: 256.0+ bytes\n"
     ]
    },
    {
     "output_type": "execute_result",
     "data": {
      "text/plain": [
       "   messages_included  mb_per_month_included  minutes_included  \\\n",
       "0                 50                  15360               500   \n",
       "1               1000                  30720              3000   \n",
       "\n",
       "   usd_monthly_pay  usd_per_gb  usd_per_message  usd_per_minute plan_name  \n",
       "0               20          10             0.03            0.03      surf  \n",
       "1               70           7             0.01            0.01  ultimate  "
      ],
      "text/html": [
       "<div>\n",
       "<style scoped>\n",
       "    .dataframe tbody tr th:only-of-type {\n",
       "        vertical-align: middle;\n",
       "    }\n",
       "\n",
       "    .dataframe tbody tr th {\n",
       "        vertical-align: top;\n",
       "    }\n",
       "\n",
       "    .dataframe thead th {\n",
       "        text-align: right;\n",
       "    }\n",
       "</style>\n",
       "<table border=\"1\" class=\"dataframe\">\n",
       "  <thead>\n",
       "    <tr style=\"text-align: right;\">\n",
       "      <th></th>\n",
       "      <th>messages_included</th>\n",
       "      <th>mb_per_month_included</th>\n",
       "      <th>minutes_included</th>\n",
       "      <th>usd_monthly_pay</th>\n",
       "      <th>usd_per_gb</th>\n",
       "      <th>usd_per_message</th>\n",
       "      <th>usd_per_minute</th>\n",
       "      <th>plan_name</th>\n",
       "    </tr>\n",
       "  </thead>\n",
       "  <tbody>\n",
       "    <tr>\n",
       "      <th>0</th>\n",
       "      <td>50</td>\n",
       "      <td>15360</td>\n",
       "      <td>500</td>\n",
       "      <td>20</td>\n",
       "      <td>10</td>\n",
       "      <td>0.03</td>\n",
       "      <td>0.03</td>\n",
       "      <td>surf</td>\n",
       "    </tr>\n",
       "    <tr>\n",
       "      <th>1</th>\n",
       "      <td>1000</td>\n",
       "      <td>30720</td>\n",
       "      <td>3000</td>\n",
       "      <td>70</td>\n",
       "      <td>7</td>\n",
       "      <td>0.01</td>\n",
       "      <td>0.01</td>\n",
       "      <td>ultimate</td>\n",
       "    </tr>\n",
       "  </tbody>\n",
       "</table>\n",
       "</div>"
      ]
     },
     "metadata": {},
     "execution_count": 5
    }
   ],
   "metadata": {}
  },
  {
   "cell_type": "code",
   "execution_count": 6,
   "source": [
    "users = pd.read_csv(CSVPATH+'megaline_users.csv', nrows=5)\r\n",
    "\r\n",
    "users['user_id'] = pd.to_numeric(users['user_id'], downcast='unsigned')\r\n",
    "users['age'] = pd.to_numeric(users['age'], downcast='unsigned')\r\n",
    "users['plan'] = users['plan'].astype('category')\r\n",
    "\r\n",
    "users_dtypes = users.dtypes\r\n",
    "users_names = users.index\r\n",
    "types = [i.name for i in users_dtypes.values]\r\n",
    "users_types = dict(zip(users_names, types))\r\n",
    "\r\n",
    "users = pd.read_csv(\r\n",
    "    CSVPATH+'megaline_users.csv', \r\n",
    "    dtype=users_types, \r\n",
    "    parse_dates=['reg_date', 'churn_date'],\r\n",
    "    infer_datetime_format='%Y-%m-%d')\r\n",
    "\r\n",
    "users.info()\r\n",
    "\r\n",
    "print('\\nNumber of duplicates is users:', users[users.duplicated()].size)\r\n",
    "print()\r\n",
    "print('Unique values in plan:', users['plan'].unique())\r\n",
    "print()\r\n",
    "display(users[['reg_date', 'churn_date']].describe())"
   ],
   "outputs": [
    {
     "output_type": "stream",
     "name": "stdout",
     "text": [
      "<class 'pandas.core.frame.DataFrame'>\n",
      "RangeIndex: 500 entries, 0 to 499\n",
      "Data columns (total 8 columns):\n",
      " #   Column      Non-Null Count  Dtype         \n",
      "---  ------      --------------  -----         \n",
      " 0   user_id     500 non-null    uint16        \n",
      " 1   first_name  500 non-null    object        \n",
      " 2   last_name   500 non-null    object        \n",
      " 3   age         500 non-null    uint8         \n",
      " 4   city        500 non-null    object        \n",
      " 5   reg_date    500 non-null    datetime64[ns]\n",
      " 6   plan        500 non-null    object        \n",
      " 7   churn_date  34 non-null     datetime64[ns]\n",
      "dtypes: datetime64[ns](2), object(4), uint16(1), uint8(1)\n",
      "memory usage: 25.0+ KB\n",
      "\n",
      "Number of duplicates is users: 0\n",
      "\n",
      "Unique values in plan: ['ultimate' 'surf']\n",
      "\n"
     ]
    },
    {
     "output_type": "stream",
     "name": "stderr",
     "text": [
      "<ipython-input-6-c7d3c2b54727>:24: FutureWarning: Treating datetime data as categorical rather than numeric in `.describe` is deprecated and will be removed in a future version of pandas. Specify `datetime_is_numeric=True` to silence this warning and adopt the future behavior now.\n",
      "  display(users[['reg_date', 'churn_date']].describe())\n",
      "<ipython-input-6-c7d3c2b54727>:24: FutureWarning: Treating datetime data as categorical rather than numeric in `.describe` is deprecated and will be removed in a future version of pandas. Specify `datetime_is_numeric=True` to silence this warning and adopt the future behavior now.\n",
      "  display(users[['reg_date', 'churn_date']].describe())\n"
     ]
    },
    {
     "output_type": "display_data",
     "data": {
      "text/plain": [
       "                   reg_date           churn_date\n",
       "count                   500                   34\n",
       "unique                  266                   29\n",
       "top     2018-07-12 00:00:00  2018-12-18 00:00:00\n",
       "freq                      5                    3\n",
       "first   2018-01-01 00:00:00  2018-07-31 00:00:00\n",
       "last    2018-12-31 00:00:00  2018-12-31 00:00:00"
      ],
      "text/html": [
       "<div>\n",
       "<style scoped>\n",
       "    .dataframe tbody tr th:only-of-type {\n",
       "        vertical-align: middle;\n",
       "    }\n",
       "\n",
       "    .dataframe tbody tr th {\n",
       "        vertical-align: top;\n",
       "    }\n",
       "\n",
       "    .dataframe thead th {\n",
       "        text-align: right;\n",
       "    }\n",
       "</style>\n",
       "<table border=\"1\" class=\"dataframe\">\n",
       "  <thead>\n",
       "    <tr style=\"text-align: right;\">\n",
       "      <th></th>\n",
       "      <th>reg_date</th>\n",
       "      <th>churn_date</th>\n",
       "    </tr>\n",
       "  </thead>\n",
       "  <tbody>\n",
       "    <tr>\n",
       "      <th>count</th>\n",
       "      <td>500</td>\n",
       "      <td>34</td>\n",
       "    </tr>\n",
       "    <tr>\n",
       "      <th>unique</th>\n",
       "      <td>266</td>\n",
       "      <td>29</td>\n",
       "    </tr>\n",
       "    <tr>\n",
       "      <th>top</th>\n",
       "      <td>2018-07-12 00:00:00</td>\n",
       "      <td>2018-12-18 00:00:00</td>\n",
       "    </tr>\n",
       "    <tr>\n",
       "      <th>freq</th>\n",
       "      <td>5</td>\n",
       "      <td>3</td>\n",
       "    </tr>\n",
       "    <tr>\n",
       "      <th>first</th>\n",
       "      <td>2018-01-01 00:00:00</td>\n",
       "      <td>2018-07-31 00:00:00</td>\n",
       "    </tr>\n",
       "    <tr>\n",
       "      <th>last</th>\n",
       "      <td>2018-12-31 00:00:00</td>\n",
       "      <td>2018-12-31 00:00:00</td>\n",
       "    </tr>\n",
       "  </tbody>\n",
       "</table>\n",
       "</div>"
      ]
     },
     "metadata": {}
    }
   ],
   "metadata": {}
  },
  {
   "cell_type": "markdown",
   "source": [
    "#### Results"
   ],
   "metadata": {}
  },
  {
   "cell_type": "markdown",
   "source": [
    "We have correctly loaded the data in each table with their associated data types. Numeric values have been loaded as integers and floats and dates as datetime objects. We have checked every table for duplicates and also artifacts (incorrect values).\n",
    "\n",
    "For about 20% of the calls and 10% of the internet sessions, we could see zero values for duration and megabytes used, respectively. There are many possible reasons, but they could be related to unanswered or ignored calls or starting an internet connection without really spending mobile data. Another possible reason is that some websites might not be charged in mobile data for services associated with Megaline. Those values were not altered because they won't show up as issues when monthly rates per user are calculated.\n",
    "\n",
    "The only missing values present are on the churn dates of users, which have been left as null to maintain the datetime characteristic of the column, leaving the missing values as 'NaT'. Keeping missing values on the 'churn_date' column was probably intentional, because users who didn't terminate their plans should not have a date there."
   ],
   "metadata": {}
  },
  {
   "cell_type": "markdown",
   "source": [
    "### Calculation: defining monthly bills"
   ],
   "metadata": {}
  },
  {
   "cell_type": "markdown",
   "source": [
    "#### Explanation"
   ],
   "metadata": {}
  },
  {
   "cell_type": "markdown",
   "source": [
    "The second step is to make a few calculations based on data. Getting to know which specific month does a call, message or internet session belong to is vital for correct visualization of revenue. For example, if the billing date of a user is February 15, a call that has been done in March 3 should be considered as done in February, because it is not past the billing date. Therefore, we took into account the registry date as a reference for the billing date.\n",
    "\n",
    "We also expect to sum all chargeable values per month for each user, reminding that partial minutes as counted as whole minutes for calls, and partial megabytes are counted as whole gigabytes for internet session data rates."
   ],
   "metadata": {}
  },
  {
   "cell_type": "markdown",
   "source": [
    "#### Code"
   ],
   "metadata": {}
  },
  {
   "cell_type": "code",
   "execution_count": 7,
   "source": [
    "def decide_month(row):\r\n",
    "    result = row['call_date'].month\r\n",
    "    if row['call_date'].day < row['reg_date'].day:\r\n",
    "        result = row['call_date'].month - 1\r\n",
    "    elif row['call_date'].day >= row['reg_date'].day:\r\n",
    "        pass\r\n",
    "    if result < 1:\r\n",
    "        raise\r\n",
    "    return result"
   ],
   "outputs": [],
   "metadata": {}
  },
  {
   "cell_type": "code",
   "execution_count": 8,
   "source": [
    "users_merge = ['user_id', 'reg_date']\r\n",
    "calls = calls.merge(users[users_merge], on='user_id', how='left')\r\n",
    "calls['call_month'] = calls.apply(decide_month, axis=1)\r\n",
    "\r\n",
    "monthly_calls_count_user = calls.pivot_table(index='user_id', columns='call_month', values='id', aggfunc='count').fillna(0).astype('int')\r\n",
    "monthly_calls_count_user = monthly_calls_count_user.apply(lambda x: [x[i] for i in range(1,13)], axis=1)\r\n",
    "monthly_calls_count_user.name = 'calls'\r\n",
    "monthly_calls_count_user.head()"
   ],
   "outputs": [
    {
     "output_type": "execute_result",
     "data": {
      "text/plain": [
       "user_id\n",
       "1000           [0, 0, 0, 0, 0, 0, 0, 0, 0, 0, 0, 16]\n",
       "1001       [0, 0, 0, 0, 0, 0, 0, 47, 44, 72, 66, 32]\n",
       "1002         [0, 0, 0, 0, 0, 0, 0, 0, 0, 49, 49, 15]\n",
       "1003         [0, 0, 0, 0, 0, 0, 0, 0, 0, 0, 109, 40]\n",
       "1004    [0, 0, 0, 0, 51, 53, 44, 47, 57, 50, 48, 20]\n",
       "Name: calls, dtype: object"
      ]
     },
     "metadata": {},
     "execution_count": 8
    }
   ],
   "metadata": {}
  },
  {
   "cell_type": "code",
   "execution_count": 9,
   "source": [
    "calls['duration_charged'] = calls['duration'].apply(np.ceil)\r\n",
    "monthly_duration_charged_user = calls.pivot_table(index='user_id', columns='call_month', values='duration_charged', aggfunc='sum').fillna(0).astype('int')\r\n",
    "monthly_duration_charged_user = monthly_duration_charged_user.apply(lambda x: [x[i] for i in range(1,13)], axis=1)\r\n",
    "monthly_duration_charged_user.name = 'duration'\r\n",
    "monthly_duration_charged_user.head()"
   ],
   "outputs": [
    {
     "output_type": "execute_result",
     "data": {
      "text/plain": [
       "user_id\n",
       "1000               [0, 0, 0, 0, 0, 0, 0, 0, 0, 0, 0, 124]\n",
       "1001       [0, 0, 0, 0, 0, 0, 0, 296, 279, 457, 450, 246]\n",
       "1002           [0, 0, 0, 0, 0, 0, 0, 0, 0, 319, 377, 133]\n",
       "1003             [0, 0, 0, 0, 0, 0, 0, 0, 0, 0, 772, 332]\n",
       "1004    [0, 0, 0, 0, 407, 387, 312, 303, 382, 420, 423...\n",
       "Name: duration, dtype: object"
      ]
     },
     "metadata": {},
     "execution_count": 9
    }
   ],
   "metadata": {}
  },
  {
   "cell_type": "code",
   "execution_count": 10,
   "source": [
    "messages = messages.merge(users[users_merge], on='user_id', how='left')\r\n",
    "messages['message_month'] = messages['message_date'].apply(lambda x: x.month)\r\n",
    "\r\n",
    "monthly_messages_user = messages.pivot_table(index='user_id', columns='message_month', values='id', aggfunc='count').fillna(0).astype('int')\r\n",
    "monthly_messages_user = monthly_messages_user.apply(lambda x: [x[i] for i in range(1,13)], axis=1)\r\n",
    "monthly_messages_user.name = 'messages'\r\n",
    "monthly_messages_user.head()"
   ],
   "outputs": [
    {
     "output_type": "execute_result",
     "data": {
      "text/plain": [
       "user_id\n",
       "1000          [0, 0, 0, 0, 0, 0, 0, 0, 0, 0, 0, 11]\n",
       "1001      [0, 0, 0, 0, 0, 0, 0, 30, 44, 53, 36, 44]\n",
       "1002        [0, 0, 0, 0, 0, 0, 0, 0, 0, 15, 32, 41]\n",
       "1003          [0, 0, 0, 0, 0, 0, 0, 0, 0, 0, 0, 50]\n",
       "1004    [0, 0, 0, 0, 7, 18, 26, 25, 21, 24, 25, 31]\n",
       "Name: messages, dtype: object"
      ]
     },
     "metadata": {},
     "execution_count": 10
    }
   ],
   "metadata": {}
  },
  {
   "cell_type": "code",
   "execution_count": 11,
   "source": [
    "internet = internet.merge(users[users_merge], on='user_id', how='left')\r\n",
    "internet['session_month'] = internet['session_date'].apply(lambda x: x.month)\r\n",
    "\r\n",
    "monthly_internet_user = internet.pivot_table(index='user_id', columns='session_month', values='mb_used', aggfunc='sum').fillna(0)\r\n",
    "monthly_internet_user = (np.ceil(monthly_internet_user/1024)).astype('uint')\r\n",
    "monthly_internet_user = monthly_internet_user.apply(lambda x: [x[i] for i in range(1,13)], axis=1)\r\n",
    "monthly_internet_user.name = 'internet'\r\n",
    "monthly_internet_user.head()"
   ],
   "outputs": [
    {
     "output_type": "execute_result",
     "data": {
      "text/plain": [
       "user_id\n",
       "1000           [0, 0, 0, 0, 0, 0, 0, 0, 0, 0, 0, 2]\n",
       "1001       [0, 0, 0, 0, 0, 0, 0, 7, 14, 22, 19, 19]\n",
       "1002         [0, 0, 0, 0, 0, 0, 0, 0, 0, 7, 19, 15]\n",
       "1003          [0, 0, 0, 0, 0, 0, 0, 0, 0, 0, 0, 27]\n",
       "1004    [0, 0, 0, 0, 7, 21, 24, 28, 19, 15, 22, 21]\n",
       "Name: internet, dtype: object"
      ]
     },
     "metadata": {},
     "execution_count": 11
    }
   ],
   "metadata": {}
  },
  {
   "cell_type": "code",
   "execution_count": 12,
   "source": [
    "tent_df = pd.concat([\r\n",
    "    monthly_calls_count_user, \r\n",
    "    monthly_duration_charged_user, \r\n",
    "    monthly_messages_user,\r\n",
    "    monthly_internet_user\r\n",
    "    ], axis=1)"
   ],
   "outputs": [],
   "metadata": {}
  },
  {
   "cell_type": "code",
   "execution_count": 13,
   "source": [
    "users['reg_month'] = users['reg_date'].apply(lambda x: x.month)\r\n",
    "users['churn_month'] = users['churn_date'].apply(lambda x: x.month)\r\n",
    "plan_columns = ['plan', 'reg_date', 'reg_month', 'churn_month', 'user_id']"
   ],
   "outputs": [],
   "metadata": {}
  },
  {
   "cell_type": "code",
   "execution_count": 14,
   "source": [
    "df = tent_df.merge( users[plan_columns] , on='user_id', how='outer')\r\n",
    "monthly = ['calls', 'duration', 'messages', 'internet']\r\n",
    "\r\n",
    "zeros = [0 for x in range(1,13)]\r\n",
    "\r\n",
    "for col in df[monthly]:\r\n",
    "    for row in df.loc[getattr(df, col).isna(), col].index:\r\n",
    "        df.at[row, col] = zeros\r\n",
    "\r\n",
    "df['churn_month'] = df['churn_month'].fillna(0).astype('int64')\r\n",
    "\r\n",
    "df.info()"
   ],
   "outputs": [
    {
     "output_type": "stream",
     "name": "stdout",
     "text": [
      "<class 'pandas.core.frame.DataFrame'>\n",
      "Int64Index: 500 entries, 0 to 499\n",
      "Data columns (total 9 columns):\n",
      " #   Column       Non-Null Count  Dtype         \n",
      "---  ------       --------------  -----         \n",
      " 0   user_id      500 non-null    int64         \n",
      " 1   calls        500 non-null    object        \n",
      " 2   duration     500 non-null    object        \n",
      " 3   messages     500 non-null    object        \n",
      " 4   internet     500 non-null    object        \n",
      " 5   plan         500 non-null    object        \n",
      " 6   reg_date     500 non-null    datetime64[ns]\n",
      " 7   reg_month    500 non-null    int64         \n",
      " 8   churn_month  500 non-null    int64         \n",
      "dtypes: datetime64[ns](1), int64(3), object(5)\n",
      "memory usage: 55.2+ KB\n"
     ]
    }
   ],
   "metadata": {}
  },
  {
   "cell_type": "markdown",
   "source": [
    "#### Results"
   ],
   "metadata": {}
  },
  {
   "cell_type": "markdown",
   "source": [
    "After categorizing months and grouping data based on users, we have a single dataframe with the most relevant information to calculate billing prices. The missing values have been dealt with in the process, but during this work they may prove relevant to calculate means in an easier way. We have monthly total chargeable counts for calls, durations, . Each of these columns contain ordered lists for each month of 2018, starting from January to December. It is important to note that the data for December has a flaw in that only users billed in first day of each month could have all their data from December displayed, as information from January 2019 is not available."
   ],
   "metadata": {}
  },
  {
   "cell_type": "markdown",
   "source": [
    "### Calculation: monthly revenues per user"
   ],
   "metadata": {}
  },
  {
   "cell_type": "markdown",
   "source": [
    "#### Explanation"
   ],
   "metadata": {}
  },
  {
   "cell_type": "markdown",
   "source": [
    "Now that we have vectors with the information of calls for each month, we can create a single function to calculate the total expense from the resulting dataframe of the last subsection. We need to take into account when billing the registry month and churn months, to correctly assign plan values. We expect to add a column for monthly bills with a 12-element list similar to calls, duration, messages and internet."
   ],
   "metadata": {}
  },
  {
   "cell_type": "markdown",
   "source": [
    "#### Code"
   ],
   "metadata": {}
  },
  {
   "cell_type": "code",
   "execution_count": 15,
   "source": [
    "def total_paid_by_user_per_month(row):\r\n",
    "\r\n",
    "    # Select plan row in dataframe plan\r\n",
    "    plan_row = plans[ plans['plan_name'] == row['plan']].reset_index(drop=True)\r\n",
    "    \r\n",
    "    # Create a list containing exceeded minutes based on plan row\r\n",
    "    exceed_minutes = [ \r\n",
    "        (x - plan_row.iloc[0]['minutes_included'] ) \r\n",
    "        if (x >= plan_row.iloc[0]['minutes_included']) \r\n",
    "        else 0 \r\n",
    "        for x in row['duration'] \r\n",
    "        ]\r\n",
    "\r\n",
    "    # Create a list containing exceeded messages based on plan row\r\n",
    "    exceed_messages = [ \r\n",
    "        (x - plan_row.iloc[0]['messages_included'] ) \r\n",
    "        if (x >= plan_row.iloc[0]['messages_included']) \r\n",
    "        else 0 \r\n",
    "        for x in row['messages'] \r\n",
    "        ]\r\n",
    "\r\n",
    "    # Create a list containing exceeded data rates based on plan row\r\n",
    "    exceed_internet = [ \r\n",
    "        (x - plan_row.iloc[0]['mb_per_month_included'] ) \r\n",
    "        if (x >= plan_row.iloc[0][ 'mb_per_month_included']) \r\n",
    "        else 0 \r\n",
    "        for x in row['internet'] \r\n",
    "        ]\r\n",
    "\r\n",
    "    # Create a list with the monthly rates for the months billed\r\n",
    "    monthly_value_paid = [ \r\n",
    "        plan_row.iloc[0]['usd_monthly_pay'] \r\n",
    "        if (x >= row['reg_month']) and ((row['churn_month'] == 0) or (x < row['churn_month'] or (row['churn_month'] == row['reg_month'])))\r\n",
    "        else 0\r\n",
    "        for x in range(1, 13)\r\n",
    "        ]\r\n",
    "    \r\n",
    "    # Create a list by multiplying previous lists for their weighs in plan row and sum it all up\r\n",
    "    total_paid = [\r\n",
    "        (\r\n",
    "            exceed_minutes[x]*plan_row.iloc[0]['usd_per_minute'] +\r\n",
    "            exceed_messages[x]*plan_row.iloc[0]['usd_per_message'] +\r\n",
    "            exceed_internet[x]*plan_row.iloc[0]['usd_per_gb'] +\r\n",
    "            monthly_value_paid[x]            \r\n",
    "        )\r\n",
    "        if (row['churn_month'] == 0) or (x < row['churn_month'] - 1) or (row['churn_month'] == row['reg_month'])\r\n",
    "        else 0\r\n",
    "        for x in range(0, 12)\r\n",
    "    ]\r\n",
    "\r\n",
    "    # Return the list with monthly values paid\r\n",
    "    return total_paid\r\n",
    "\r\n"
   ],
   "outputs": [],
   "metadata": {}
  },
  {
   "cell_type": "code",
   "execution_count": 16,
   "source": [
    "df['total_paid'] = df.apply(total_paid_by_user_per_month, axis=1)"
   ],
   "outputs": [],
   "metadata": {}
  },
  {
   "cell_type": "code",
   "execution_count": 17,
   "source": [
    "backup_df = df\r\n",
    "df = df[['user_id', 'duration', 'messages', 'internet', 'total_paid', 'plan']]"
   ],
   "outputs": [],
   "metadata": {}
  },
  {
   "cell_type": "code",
   "execution_count": 18,
   "source": [
    "df = df.set_index('user_id')"
   ],
   "outputs": [],
   "metadata": {}
  },
  {
   "cell_type": "code",
   "execution_count": 19,
   "source": [
    "user_duration = pd.DataFrame(df.duration.tolist(), index=df.index, columns=[str(i) for i in range(1,13)]).replace(0, np.NaN).join(df[['plan']])\r\n",
    "user_messages = pd.DataFrame(df.messages.tolist(), index=df.index, columns=[str(i) for i in range(1,13)]).replace(0, np.NaN).join(df[['plan']])\r\n",
    "user_internet = pd.DataFrame(df.internet.tolist(), index=df.index, columns=[str(i) for i in range(1,13)]).replace(0, np.NaN).join(df[['plan']])\r\n",
    "user_paid = pd.DataFrame(df.total_paid.tolist(), index=df.index, columns=[str(i) for i in range(1,13)]).replace(0, np.NaN).join(df[['plan']])"
   ],
   "outputs": [],
   "metadata": {}
  },
  {
   "cell_type": "code",
   "execution_count": 20,
   "source": [
    "user_paid.info()"
   ],
   "outputs": [
    {
     "output_type": "stream",
     "name": "stdout",
     "text": [
      "<class 'pandas.core.frame.DataFrame'>\n",
      "Int64Index: 500 entries, 1000 to 1473\n",
      "Data columns (total 13 columns):\n",
      " #   Column  Non-Null Count  Dtype  \n",
      "---  ------  --------------  -----  \n",
      " 0   1       49 non-null     float64\n",
      " 1   2       91 non-null     float64\n",
      " 2   3       131 non-null    float64\n",
      " 3   4       176 non-null    float64\n",
      " 4   5       214 non-null    float64\n",
      " 5   6       268 non-null    float64\n",
      " 6   7       303 non-null    float64\n",
      " 7   8       348 non-null    float64\n",
      " 8   9       376 non-null    float64\n",
      " 9   10      414 non-null    float64\n",
      " 10  11      443 non-null    float64\n",
      " 11  12      469 non-null    float64\n",
      " 12  plan    500 non-null    object \n",
      "dtypes: float64(12), object(1)\n",
      "memory usage: 70.9+ KB\n"
     ]
    }
   ],
   "metadata": {}
  },
  {
   "cell_type": "markdown",
   "source": [
    "#### Results"
   ],
   "metadata": {}
  },
  {
   "cell_type": "markdown",
   "source": [
    "As we expected, the dataframe now contains monthly bills per user for the whole year in the column 'total_paid'. However, using lists can be a little tricky in the analysis sections. For that, a few auxiliary tables have been created to be used in the next section. Those are tables containing total chargeable ammounts per column per user, and a reference of their monthly plans. Users without bills in a specific month have null entries, so that when calculating means, that specific value will be disconsidered."
   ],
   "metadata": {}
  },
  {
   "cell_type": "markdown",
   "source": [
    "### Conclusion"
   ],
   "metadata": {}
  },
  {
   "cell_type": "markdown",
   "source": [
    "To summarize the preprocess section, we have: \n",
    "- correctly loaded data types and validated the tables for wrong data (duplicates, missing values, etc.); \n",
    "- grouped calls, messages and data rates in chargeable ammounts per month for each user, on the basis of user IDs;\n",
    "- calculated each bill's price and grouped them in the same previous monthly format;\n",
    "- generated auxiliary tables to calculate means and statistical indexes. \n",
    "\n",
    "At this point, the resulting dataframes are harder to visualize, but the data is readily available for the section of analysis and will be displayed better using histograms."
   ],
   "metadata": {}
  },
  {
   "cell_type": "markdown",
   "source": [
    "## Analysis"
   ],
   "metadata": {}
  },
  {
   "cell_type": "markdown",
   "source": [
    "### Introduction"
   ],
   "metadata": {}
  },
  {
   "cell_type": "markdown",
   "source": [
    "After going through data and preprocessing it, we can start getting some conclusions. For that, we will calculate means and statistical indexes such as standard deviation and variance, as well as plotting histograms to visualize distributions. It is important to notice that our data is relatively small (only 500 users). We will be plotting means for each user, so we want to conserve as much data as possible. With that in mind, we should avoid filtering users if they clearly are not artifacts."
   ],
   "metadata": {}
  },
  {
   "cell_type": "markdown",
   "source": [
    "### Statistical indexes"
   ],
   "metadata": {}
  },
  {
   "cell_type": "markdown",
   "source": [
    "#### Explanation"
   ],
   "metadata": {}
  },
  {
   "cell_type": "markdown",
   "source": [
    "We will calculate means, medians, standard deviation and variance for monthly bills, dividing users per plans. We can compare these values for each chargeable services and the monthly expenses. We will check what these indexes have to tell us."
   ],
   "metadata": {}
  },
  {
   "cell_type": "markdown",
   "source": [
    "#### Code"
   ],
   "metadata": {}
  },
  {
   "cell_type": "code",
   "execution_count": 21,
   "source": [
    "user_duration['mean'] = user_duration.apply('mean', axis=1)\r\n",
    "user_messages['mean'] = user_messages.apply('mean', axis=1)\r\n",
    "user_internet['mean'] = user_internet.apply('mean', axis=1)\r\n",
    "user_paid['mean'] = user_paid.apply('mean', axis=1)\r\n"
   ],
   "outputs": [],
   "metadata": {}
  },
  {
   "cell_type": "code",
   "execution_count": 22,
   "source": [
    "print('Call duration:')\r\n",
    "user_duration[['plan','mean']].pivot_table(index='plan', aggfunc=['mean', 'median', 'sum', np.std, np.var])"
   ],
   "outputs": [
    {
     "output_type": "stream",
     "name": "stdout",
     "text": [
      "Call duration:\n"
     ]
    },
    {
     "output_type": "execute_result",
     "data": {
      "text/plain": [
       "                mean      median            sum         std           var\n",
       "                mean        mean           mean        mean          mean\n",
       "plan                                                                     \n",
       "surf      398.833067  382.233333  130019.579762  185.214766  34304.509593\n",
       "ultimate  385.633747  382.833333   59773.230772  193.743485  37536.538161"
      ],
      "text/html": [
       "<div>\n",
       "<style scoped>\n",
       "    .dataframe tbody tr th:only-of-type {\n",
       "        vertical-align: middle;\n",
       "    }\n",
       "\n",
       "    .dataframe tbody tr th {\n",
       "        vertical-align: top;\n",
       "    }\n",
       "\n",
       "    .dataframe thead tr th {\n",
       "        text-align: left;\n",
       "    }\n",
       "\n",
       "    .dataframe thead tr:last-of-type th {\n",
       "        text-align: right;\n",
       "    }\n",
       "</style>\n",
       "<table border=\"1\" class=\"dataframe\">\n",
       "  <thead>\n",
       "    <tr>\n",
       "      <th></th>\n",
       "      <th>mean</th>\n",
       "      <th>median</th>\n",
       "      <th>sum</th>\n",
       "      <th>std</th>\n",
       "      <th>var</th>\n",
       "    </tr>\n",
       "    <tr>\n",
       "      <th></th>\n",
       "      <th>mean</th>\n",
       "      <th>mean</th>\n",
       "      <th>mean</th>\n",
       "      <th>mean</th>\n",
       "      <th>mean</th>\n",
       "    </tr>\n",
       "    <tr>\n",
       "      <th>plan</th>\n",
       "      <th></th>\n",
       "      <th></th>\n",
       "      <th></th>\n",
       "      <th></th>\n",
       "      <th></th>\n",
       "    </tr>\n",
       "  </thead>\n",
       "  <tbody>\n",
       "    <tr>\n",
       "      <th>surf</th>\n",
       "      <td>398.833067</td>\n",
       "      <td>382.233333</td>\n",
       "      <td>130019.579762</td>\n",
       "      <td>185.214766</td>\n",
       "      <td>34304.509593</td>\n",
       "    </tr>\n",
       "    <tr>\n",
       "      <th>ultimate</th>\n",
       "      <td>385.633747</td>\n",
       "      <td>382.833333</td>\n",
       "      <td>59773.230772</td>\n",
       "      <td>193.743485</td>\n",
       "      <td>37536.538161</td>\n",
       "    </tr>\n",
       "  </tbody>\n",
       "</table>\n",
       "</div>"
      ]
     },
     "metadata": {},
     "execution_count": 22
    }
   ],
   "metadata": {}
  },
  {
   "cell_type": "code",
   "execution_count": 23,
   "source": [
    "print('Number of messages:')\r\n",
    "user_messages[['plan','mean']].pivot_table(index='plan', aggfunc=['mean', 'median', 'sum', np.std, np.var])"
   ],
   "outputs": [
    {
     "output_type": "stream",
     "name": "stdout",
     "text": [
      "Number of messages:\n"
     ]
    },
    {
     "output_type": "execute_result",
     "data": {
      "text/plain": [
       "               mean     median           sum        std         var\n",
       "               mean       mean          mean       mean        mean\n",
       "plan                                                               \n",
       "surf      40.137032  31.333333  10836.998557  29.707724  882.548853\n",
       "ultimate  45.805450  43.000000   6046.319444  30.841711  951.211155"
      ],
      "text/html": [
       "<div>\n",
       "<style scoped>\n",
       "    .dataframe tbody tr th:only-of-type {\n",
       "        vertical-align: middle;\n",
       "    }\n",
       "\n",
       "    .dataframe tbody tr th {\n",
       "        vertical-align: top;\n",
       "    }\n",
       "\n",
       "    .dataframe thead tr th {\n",
       "        text-align: left;\n",
       "    }\n",
       "\n",
       "    .dataframe thead tr:last-of-type th {\n",
       "        text-align: right;\n",
       "    }\n",
       "</style>\n",
       "<table border=\"1\" class=\"dataframe\">\n",
       "  <thead>\n",
       "    <tr>\n",
       "      <th></th>\n",
       "      <th>mean</th>\n",
       "      <th>median</th>\n",
       "      <th>sum</th>\n",
       "      <th>std</th>\n",
       "      <th>var</th>\n",
       "    </tr>\n",
       "    <tr>\n",
       "      <th></th>\n",
       "      <th>mean</th>\n",
       "      <th>mean</th>\n",
       "      <th>mean</th>\n",
       "      <th>mean</th>\n",
       "      <th>mean</th>\n",
       "    </tr>\n",
       "    <tr>\n",
       "      <th>plan</th>\n",
       "      <th></th>\n",
       "      <th></th>\n",
       "      <th></th>\n",
       "      <th></th>\n",
       "      <th></th>\n",
       "    </tr>\n",
       "  </thead>\n",
       "  <tbody>\n",
       "    <tr>\n",
       "      <th>surf</th>\n",
       "      <td>40.137032</td>\n",
       "      <td>31.333333</td>\n",
       "      <td>10836.998557</td>\n",
       "      <td>29.707724</td>\n",
       "      <td>882.548853</td>\n",
       "    </tr>\n",
       "    <tr>\n",
       "      <th>ultimate</th>\n",
       "      <td>45.805450</td>\n",
       "      <td>43.000000</td>\n",
       "      <td>6046.319444</td>\n",
       "      <td>30.841711</td>\n",
       "      <td>951.211155</td>\n",
       "    </tr>\n",
       "  </tbody>\n",
       "</table>\n",
       "</div>"
      ]
     },
     "metadata": {},
     "execution_count": 23
    }
   ],
   "metadata": {}
  },
  {
   "cell_type": "code",
   "execution_count": 24,
   "source": [
    "print('Gigabytes used:')\r\n",
    "user_internet[['plan','mean']].pivot_table(index='plan', aggfunc=['mean', 'median', 'sum', np.std, np.var])"
   ],
   "outputs": [
    {
     "output_type": "stream",
     "name": "stdout",
     "text": [
      "Gigabytes used:\n"
     ]
    },
    {
     "output_type": "execute_result",
     "data": {
      "text/plain": [
       "               mean     median          sum       std        var\n",
       "               mean       mean         mean      mean       mean\n",
       "plan                                                            \n",
       "surf      16.094546  16.000000  5343.389286  6.014402  36.173036\n",
       "ultimate  16.177140  15.666667  2539.811003  5.753526  33.103058"
      ],
      "text/html": [
       "<div>\n",
       "<style scoped>\n",
       "    .dataframe tbody tr th:only-of-type {\n",
       "        vertical-align: middle;\n",
       "    }\n",
       "\n",
       "    .dataframe tbody tr th {\n",
       "        vertical-align: top;\n",
       "    }\n",
       "\n",
       "    .dataframe thead tr th {\n",
       "        text-align: left;\n",
       "    }\n",
       "\n",
       "    .dataframe thead tr:last-of-type th {\n",
       "        text-align: right;\n",
       "    }\n",
       "</style>\n",
       "<table border=\"1\" class=\"dataframe\">\n",
       "  <thead>\n",
       "    <tr>\n",
       "      <th></th>\n",
       "      <th>mean</th>\n",
       "      <th>median</th>\n",
       "      <th>sum</th>\n",
       "      <th>std</th>\n",
       "      <th>var</th>\n",
       "    </tr>\n",
       "    <tr>\n",
       "      <th></th>\n",
       "      <th>mean</th>\n",
       "      <th>mean</th>\n",
       "      <th>mean</th>\n",
       "      <th>mean</th>\n",
       "      <th>mean</th>\n",
       "    </tr>\n",
       "    <tr>\n",
       "      <th>plan</th>\n",
       "      <th></th>\n",
       "      <th></th>\n",
       "      <th></th>\n",
       "      <th></th>\n",
       "      <th></th>\n",
       "    </tr>\n",
       "  </thead>\n",
       "  <tbody>\n",
       "    <tr>\n",
       "      <th>surf</th>\n",
       "      <td>16.094546</td>\n",
       "      <td>16.000000</td>\n",
       "      <td>5343.389286</td>\n",
       "      <td>6.014402</td>\n",
       "      <td>36.173036</td>\n",
       "    </tr>\n",
       "    <tr>\n",
       "      <th>ultimate</th>\n",
       "      <td>16.177140</td>\n",
       "      <td>15.666667</td>\n",
       "      <td>2539.811003</td>\n",
       "      <td>5.753526</td>\n",
       "      <td>33.103058</td>\n",
       "    </tr>\n",
       "  </tbody>\n",
       "</table>\n",
       "</div>"
      ]
     },
     "metadata": {},
     "execution_count": 24
    }
   ],
   "metadata": {}
  },
  {
   "cell_type": "code",
   "execution_count": 25,
   "source": [
    "print('Count per plan:')\r\n",
    "user_internet[['plan','mean']].groupby('plan').count()"
   ],
   "outputs": [
    {
     "output_type": "stream",
     "name": "stdout",
     "text": [
      "Count per plan:\n"
     ]
    },
    {
     "output_type": "execute_result",
     "data": {
      "text/plain": [
       "          mean\n",
       "plan          \n",
       "surf       332\n",
       "ultimate   157"
      ],
      "text/html": [
       "<div>\n",
       "<style scoped>\n",
       "    .dataframe tbody tr th:only-of-type {\n",
       "        vertical-align: middle;\n",
       "    }\n",
       "\n",
       "    .dataframe tbody tr th {\n",
       "        vertical-align: top;\n",
       "    }\n",
       "\n",
       "    .dataframe thead th {\n",
       "        text-align: right;\n",
       "    }\n",
       "</style>\n",
       "<table border=\"1\" class=\"dataframe\">\n",
       "  <thead>\n",
       "    <tr style=\"text-align: right;\">\n",
       "      <th></th>\n",
       "      <th>mean</th>\n",
       "    </tr>\n",
       "    <tr>\n",
       "      <th>plan</th>\n",
       "      <th></th>\n",
       "    </tr>\n",
       "  </thead>\n",
       "  <tbody>\n",
       "    <tr>\n",
       "      <th>surf</th>\n",
       "      <td>332</td>\n",
       "    </tr>\n",
       "    <tr>\n",
       "      <th>ultimate</th>\n",
       "      <td>157</td>\n",
       "    </tr>\n",
       "  </tbody>\n",
       "</table>\n",
       "</div>"
      ]
     },
     "metadata": {},
     "execution_count": 25
    }
   ],
   "metadata": {}
  },
  {
   "cell_type": "code",
   "execution_count": 26,
   "source": [
    "print('Bill prices:')\r\n",
    "user_paid[['plan', 'mean']].pivot_table(index='plan', aggfunc=['mean', 'median', 'sum', np.std, np.var])"
   ],
   "outputs": [
    {
     "output_type": "stream",
     "name": "stdout",
     "text": [
      "Bill prices:\n"
     ]
    },
    {
     "output_type": "execute_result",
     "data": {
      "text/plain": [
       "               mean  median           sum      std       var\n",
       "               mean    mean          mean     mean      mean\n",
       "plan                                                        \n",
       "surf      21.408297  20.243   7257.412603  2.52015  6.351155\n",
       "ultimate  70.000000  70.000  11270.000000  0.00000  0.000000"
      ],
      "text/html": [
       "<div>\n",
       "<style scoped>\n",
       "    .dataframe tbody tr th:only-of-type {\n",
       "        vertical-align: middle;\n",
       "    }\n",
       "\n",
       "    .dataframe tbody tr th {\n",
       "        vertical-align: top;\n",
       "    }\n",
       "\n",
       "    .dataframe thead tr th {\n",
       "        text-align: left;\n",
       "    }\n",
       "\n",
       "    .dataframe thead tr:last-of-type th {\n",
       "        text-align: right;\n",
       "    }\n",
       "</style>\n",
       "<table border=\"1\" class=\"dataframe\">\n",
       "  <thead>\n",
       "    <tr>\n",
       "      <th></th>\n",
       "      <th>mean</th>\n",
       "      <th>median</th>\n",
       "      <th>sum</th>\n",
       "      <th>std</th>\n",
       "      <th>var</th>\n",
       "    </tr>\n",
       "    <tr>\n",
       "      <th></th>\n",
       "      <th>mean</th>\n",
       "      <th>mean</th>\n",
       "      <th>mean</th>\n",
       "      <th>mean</th>\n",
       "      <th>mean</th>\n",
       "    </tr>\n",
       "    <tr>\n",
       "      <th>plan</th>\n",
       "      <th></th>\n",
       "      <th></th>\n",
       "      <th></th>\n",
       "      <th></th>\n",
       "      <th></th>\n",
       "    </tr>\n",
       "  </thead>\n",
       "  <tbody>\n",
       "    <tr>\n",
       "      <th>surf</th>\n",
       "      <td>21.408297</td>\n",
       "      <td>20.243</td>\n",
       "      <td>7257.412603</td>\n",
       "      <td>2.52015</td>\n",
       "      <td>6.351155</td>\n",
       "    </tr>\n",
       "    <tr>\n",
       "      <th>ultimate</th>\n",
       "      <td>70.000000</td>\n",
       "      <td>70.000</td>\n",
       "      <td>11270.000000</td>\n",
       "      <td>0.00000</td>\n",
       "      <td>0.000000</td>\n",
       "    </tr>\n",
       "  </tbody>\n",
       "</table>\n",
       "</div>"
      ]
     },
     "metadata": {},
     "execution_count": 26
    }
   ],
   "metadata": {}
  },
  {
   "cell_type": "markdown",
   "source": [
    "#### Results"
   ],
   "metadata": {}
  },
  {
   "cell_type": "markdown",
   "source": [
    "With the calculated indexes, we can create a few hyphotesis:\n",
    "- Means can have a high dispersion in every column, but on average users for each plan spend pretty much the same regarding call minutes and gigabytes of internet.\n",
    "- The last assumption is particularly not true for messages, where a few users are presented as high-valued outliers.\n",
    "- In the big picture, most ultimate plan users would be happy using Surf instead, while using the same ammount of minutes, messages and data rates.\n",
    "- Revenue in absolute values is higher for ultimate plan, considering all users.\n",
    "\n",
    "The last assumption can't be validated with the owned data, but that could be easily checked if we could know how many users are registered on Surf, and how many are on Ultimate. For a fact"
   ],
   "metadata": {}
  },
  {
   "cell_type": "markdown",
   "source": [
    "### Density Histograms"
   ],
   "metadata": {}
  },
  {
   "cell_type": "markdown",
   "source": [
    "#### Explanation"
   ],
   "metadata": {}
  },
  {
   "cell_type": "markdown",
   "source": [
    "Next up, we will plot a few graphs to check distributions for the auxiliary dataframes. These will help  get a general comparison of values between both plans."
   ],
   "metadata": {}
  },
  {
   "cell_type": "markdown",
   "source": [
    "#### Code"
   ],
   "metadata": {}
  },
  {
   "cell_type": "code",
   "execution_count": 27,
   "source": [
    "plt.figure()\r\n",
    "(user_duration.loc[user_duration['plan'] == 'surf', 'mean']).hist(bins=[0 + 25*i for i in range(1,41)], density=True)\r\n",
    "user_duration.loc[user_duration['plan'] == 'ultimate', 'mean'].hist(bins=[0 + 25*i for i in range(1,41)], density=True)\r\n",
    "plt.legend(['Surf', 'Ultimate'])\r\n",
    "plt.title('Average minutes talked per month by user')\r\n",
    "plt.xlabel('Minutes per month')\r\n",
    "plt.ylabel('Probability')\r\n",
    "plt.show()"
   ],
   "outputs": [
    {
     "output_type": "display_data",
     "data": {
      "text/plain": [
       "<Figure size 432x288 with 1 Axes>"
      ],
      "image/svg+xml": "<?xml version=\"1.0\" encoding=\"utf-8\" standalone=\"no\"?>\r\n<!DOCTYPE svg PUBLIC \"-//W3C//DTD SVG 1.1//EN\"\r\n  \"http://www.w3.org/Graphics/SVG/1.1/DTD/svg11.dtd\">\r\n<svg height=\"277.314375pt\" version=\"1.1\" viewBox=\"0 0 404.86875 277.314375\" width=\"404.86875pt\" xmlns=\"http://www.w3.org/2000/svg\" xmlns:xlink=\"http://www.w3.org/1999/xlink\">\r\n <metadata>\r\n  <rdf:RDF xmlns:cc=\"http://creativecommons.org/ns#\" xmlns:dc=\"http://purl.org/dc/elements/1.1/\" xmlns:rdf=\"http://www.w3.org/1999/02/22-rdf-syntax-ns#\">\r\n   <cc:Work>\r\n    <dc:type rdf:resource=\"http://purl.org/dc/dcmitype/StillImage\"/>\r\n    <dc:date>2021-08-13T15:51:52.435388</dc:date>\r\n    <dc:format>image/svg+xml</dc:format>\r\n    <dc:creator>\r\n     <cc:Agent>\r\n      <dc:title>Matplotlib v3.4.2, https://matplotlib.org/</dc:title>\r\n     </cc:Agent>\r\n    </dc:creator>\r\n   </cc:Work>\r\n  </rdf:RDF>\r\n </metadata>\r\n <defs>\r\n  <style type=\"text/css\">*{stroke-linecap:butt;stroke-linejoin:round;}</style>\r\n </defs>\r\n <g id=\"figure_1\">\r\n  <g id=\"patch_1\">\r\n   <path d=\"M 0 277.314375 \r\nL 404.86875 277.314375 \r\nL 404.86875 0 \r\nL 0 0 \r\nz\r\n\" style=\"fill:none;\"/>\r\n  </g>\r\n  <g id=\"axes_1\">\r\n   <g id=\"patch_2\">\r\n    <path d=\"M 62.86875 239.758125 \r\nL 397.66875 239.758125 \r\nL 397.66875 22.318125 \r\nL 62.86875 22.318125 \r\nz\r\n\" style=\"fill:#ffffff;\"/>\r\n   </g>\r\n   <g id=\"patch_3\">\r\n    <path clip-path=\"url(#p2cfbd8244b)\" d=\"M 78.086932 239.758125 \r\nL 85.891128 239.758125 \r\nL 85.891128 207.071699 \r\nL 78.086932 207.071699 \r\nz\r\n\" style=\"fill:#1f77b4;\"/>\r\n   </g>\r\n   <g id=\"patch_4\">\r\n    <path clip-path=\"url(#p2cfbd8244b)\" d=\"M 85.891128 239.758125 \r\nL 93.695323 239.758125 \r\nL 93.695323 220.146269 \r\nL 85.891128 220.146269 \r\nz\r\n\" style=\"fill:#1f77b4;\"/>\r\n   </g>\r\n   <g id=\"patch_5\">\r\n    <path clip-path=\"url(#p2cfbd8244b)\" d=\"M 93.695323 239.758125 \r\nL 101.499519 239.758125 \r\nL 101.499519 220.146269 \r\nL 93.695323 220.146269 \r\nz\r\n\" style=\"fill:#1f77b4;\"/>\r\n   </g>\r\n   <g id=\"patch_6\">\r\n    <path clip-path=\"url(#p2cfbd8244b)\" d=\"M 101.499519 239.758125 \r\nL 109.303715 239.758125 \r\nL 109.303715 213.608984 \r\nL 101.499519 213.608984 \r\nz\r\n\" style=\"fill:#1f77b4;\"/>\r\n   </g>\r\n   <g id=\"patch_7\">\r\n    <path clip-path=\"url(#p2cfbd8244b)\" d=\"M 109.303715 239.758125 \r\nL 117.107911 239.758125 \r\nL 117.107911 207.071699 \r\nL 109.303715 207.071699 \r\nz\r\n\" style=\"fill:#1f77b4;\"/>\r\n   </g>\r\n   <g id=\"patch_8\">\r\n    <path clip-path=\"url(#p2cfbd8244b)\" d=\"M 117.107911 239.758125 \r\nL 124.912107 239.758125 \r\nL 124.912107 167.847987 \r\nL 117.107911 167.847987 \r\nz\r\n\" style=\"fill:#1f77b4;\"/>\r\n   </g>\r\n   <g id=\"patch_9\">\r\n    <path clip-path=\"url(#p2cfbd8244b)\" d=\"M 124.912107 239.758125 \r\nL 132.716302 239.758125 \r\nL 132.716302 200.534413 \r\nL 124.912107 200.534413 \r\nz\r\n\" style=\"fill:#1f77b4;\"/>\r\n   </g>\r\n   <g id=\"patch_10\">\r\n    <path clip-path=\"url(#p2cfbd8244b)\" d=\"M 132.716302 239.758125 \r\nL 140.520498 239.758125 \r\nL 140.520498 180.922558 \r\nL 132.716302 180.922558 \r\nz\r\n\" style=\"fill:#1f77b4;\"/>\r\n   </g>\r\n   <g id=\"patch_11\">\r\n    <path clip-path=\"url(#p2cfbd8244b)\" d=\"M 140.520498 239.758125 \r\nL 148.324694 239.758125 \r\nL 148.324694 141.698846 \r\nL 140.520498 141.698846 \r\nz\r\n\" style=\"fill:#1f77b4;\"/>\r\n   </g>\r\n   <g id=\"patch_12\">\r\n    <path clip-path=\"url(#p2cfbd8244b)\" d=\"M 148.324694 239.758125 \r\nL 156.12889 239.758125 \r\nL 156.12889 148.236131 \r\nL 148.324694 148.236131 \r\nz\r\n\" style=\"fill:#1f77b4;\"/>\r\n   </g>\r\n   <g id=\"patch_13\">\r\n    <path clip-path=\"url(#p2cfbd8244b)\" d=\"M 156.12889 239.758125 \r\nL 163.933086 239.758125 \r\nL 163.933086 56.714137 \r\nL 156.12889 56.714137 \r\nz\r\n\" style=\"fill:#1f77b4;\"/>\r\n   </g>\r\n   <g id=\"patch_14\">\r\n    <path clip-path=\"url(#p2cfbd8244b)\" d=\"M 163.933086 239.758125 \r\nL 171.737281 239.758125 \r\nL 171.737281 115.549705 \r\nL 163.933086 115.549705 \r\nz\r\n\" style=\"fill:#1f77b4;\"/>\r\n   </g>\r\n   <g id=\"patch_15\">\r\n    <path clip-path=\"url(#p2cfbd8244b)\" d=\"M 171.737281 239.758125 \r\nL 179.541477 239.758125 \r\nL 179.541477 95.937849 \r\nL 171.737281 95.937849 \r\nz\r\n\" style=\"fill:#1f77b4;\"/>\r\n   </g>\r\n   <g id=\"patch_16\">\r\n    <path clip-path=\"url(#p2cfbd8244b)\" d=\"M 179.541477 239.758125 \r\nL 187.345673 239.758125 \r\nL 187.345673 180.922558 \r\nL 179.541477 180.922558 \r\nz\r\n\" style=\"fill:#1f77b4;\"/>\r\n   </g>\r\n   <g id=\"patch_17\">\r\n    <path clip-path=\"url(#p2cfbd8244b)\" d=\"M 187.345673 239.758125 \r\nL 195.149869 239.758125 \r\nL 195.149869 148.236131 \r\nL 187.345673 148.236131 \r\nz\r\n\" style=\"fill:#1f77b4;\"/>\r\n   </g>\r\n   <g id=\"patch_18\">\r\n    <path clip-path=\"url(#p2cfbd8244b)\" d=\"M 195.149869 239.758125 \r\nL 202.954065 239.758125 \r\nL 202.954065 128.624275 \r\nL 195.149869 128.624275 \r\nz\r\n\" style=\"fill:#1f77b4;\"/>\r\n   </g>\r\n   <g id=\"patch_19\">\r\n    <path clip-path=\"url(#p2cfbd8244b)\" d=\"M 202.954065 239.758125 \r\nL 210.75826 239.758125 \r\nL 210.75826 82.863279 \r\nL 202.954065 82.863279 \r\nz\r\n\" style=\"fill:#1f77b4;\"/>\r\n   </g>\r\n   <g id=\"patch_20\">\r\n    <path clip-path=\"url(#p2cfbd8244b)\" d=\"M 210.75826 239.758125 \r\nL 218.562456 239.758125 \r\nL 218.562456 187.459843 \r\nL 210.75826 187.459843 \r\nz\r\n\" style=\"fill:#1f77b4;\"/>\r\n   </g>\r\n   <g id=\"patch_21\">\r\n    <path clip-path=\"url(#p2cfbd8244b)\" d=\"M 218.562456 239.758125 \r\nL 226.366652 239.758125 \r\nL 226.366652 109.01242 \r\nL 218.562456 109.01242 \r\nz\r\n\" style=\"fill:#1f77b4;\"/>\r\n   </g>\r\n   <g id=\"patch_22\">\r\n    <path clip-path=\"url(#p2cfbd8244b)\" d=\"M 226.366652 239.758125 \r\nL 234.170848 239.758125 \r\nL 234.170848 161.310702 \r\nL 226.366652 161.310702 \r\nz\r\n\" style=\"fill:#1f77b4;\"/>\r\n   </g>\r\n   <g id=\"patch_23\">\r\n    <path clip-path=\"url(#p2cfbd8244b)\" d=\"M 234.170848 239.758125 \r\nL 241.975044 239.758125 \r\nL 241.975044 148.236131 \r\nL 234.170848 148.236131 \r\nz\r\n\" style=\"fill:#1f77b4;\"/>\r\n   </g>\r\n   <g id=\"patch_24\">\r\n    <path clip-path=\"url(#p2cfbd8244b)\" d=\"M 241.975044 239.758125 \r\nL 249.77924 239.758125 \r\nL 249.77924 180.922558 \r\nL 241.975044 180.922558 \r\nz\r\n\" style=\"fill:#1f77b4;\"/>\r\n   </g>\r\n   <g id=\"patch_25\">\r\n    <path clip-path=\"url(#p2cfbd8244b)\" d=\"M 249.77924 239.758125 \r\nL 257.583435 239.758125 \r\nL 257.583435 193.997128 \r\nL 249.77924 193.997128 \r\nz\r\n\" style=\"fill:#1f77b4;\"/>\r\n   </g>\r\n   <g id=\"patch_26\">\r\n    <path clip-path=\"url(#p2cfbd8244b)\" d=\"M 257.583435 239.758125 \r\nL 265.387631 239.758125 \r\nL 265.387631 174.385272 \r\nL 257.583435 174.385272 \r\nz\r\n\" style=\"fill:#1f77b4;\"/>\r\n   </g>\r\n   <g id=\"patch_27\">\r\n    <path clip-path=\"url(#p2cfbd8244b)\" d=\"M 265.387631 239.758125 \r\nL 273.191827 239.758125 \r\nL 273.191827 193.997128 \r\nL 265.387631 193.997128 \r\nz\r\n\" style=\"fill:#1f77b4;\"/>\r\n   </g>\r\n   <g id=\"patch_28\">\r\n    <path clip-path=\"url(#p2cfbd8244b)\" d=\"M 273.191827 239.758125 \r\nL 280.996023 239.758125 \r\nL 280.996023 220.146269 \r\nL 273.191827 220.146269 \r\nz\r\n\" style=\"fill:#1f77b4;\"/>\r\n   </g>\r\n   <g id=\"patch_29\">\r\n    <path clip-path=\"url(#p2cfbd8244b)\" d=\"M 280.996023 239.758125 \r\nL 288.800219 239.758125 \r\nL 288.800219 193.997128 \r\nL 280.996023 193.997128 \r\nz\r\n\" style=\"fill:#1f77b4;\"/>\r\n   </g>\r\n   <g id=\"patch_30\">\r\n    <path clip-path=\"url(#p2cfbd8244b)\" d=\"M 288.800219 239.758125 \r\nL 296.604414 239.758125 \r\nL 296.604414 220.146269 \r\nL 288.800219 220.146269 \r\nz\r\n\" style=\"fill:#1f77b4;\"/>\r\n   </g>\r\n   <g id=\"patch_31\">\r\n    <path clip-path=\"url(#p2cfbd8244b)\" d=\"M 296.604414 239.758125 \r\nL 304.40861 239.758125 \r\nL 304.40861 233.22084 \r\nL 296.604414 233.22084 \r\nz\r\n\" style=\"fill:#1f77b4;\"/>\r\n   </g>\r\n   <g id=\"patch_32\">\r\n    <path clip-path=\"url(#p2cfbd8244b)\" d=\"M 304.40861 239.758125 \r\nL 312.212806 239.758125 \r\nL 312.212806 220.146269 \r\nL 304.40861 220.146269 \r\nz\r\n\" style=\"fill:#1f77b4;\"/>\r\n   </g>\r\n   <g id=\"patch_33\">\r\n    <path clip-path=\"url(#p2cfbd8244b)\" d=\"M 312.212806 239.758125 \r\nL 320.017002 239.758125 \r\nL 320.017002 239.758125 \r\nL 312.212806 239.758125 \r\nz\r\n\" style=\"fill:#1f77b4;\"/>\r\n   </g>\r\n   <g id=\"patch_34\">\r\n    <path clip-path=\"url(#p2cfbd8244b)\" d=\"M 320.017002 239.758125 \r\nL 327.821198 239.758125 \r\nL 327.821198 220.146269 \r\nL 320.017002 220.146269 \r\nz\r\n\" style=\"fill:#1f77b4;\"/>\r\n   </g>\r\n   <g id=\"patch_35\">\r\n    <path clip-path=\"url(#p2cfbd8244b)\" d=\"M 327.821198 239.758125 \r\nL 335.625393 239.758125 \r\nL 335.625393 220.146269 \r\nL 327.821198 220.146269 \r\nz\r\n\" style=\"fill:#1f77b4;\"/>\r\n   </g>\r\n   <g id=\"patch_36\">\r\n    <path clip-path=\"url(#p2cfbd8244b)\" d=\"M 335.625393 239.758125 \r\nL 343.429589 239.758125 \r\nL 343.429589 239.758125 \r\nL 335.625393 239.758125 \r\nz\r\n\" style=\"fill:#1f77b4;\"/>\r\n   </g>\r\n   <g id=\"patch_37\">\r\n    <path clip-path=\"url(#p2cfbd8244b)\" d=\"M 343.429589 239.758125 \r\nL 351.233785 239.758125 \r\nL 351.233785 233.22084 \r\nL 343.429589 233.22084 \r\nz\r\n\" style=\"fill:#1f77b4;\"/>\r\n   </g>\r\n   <g id=\"patch_38\">\r\n    <path clip-path=\"url(#p2cfbd8244b)\" d=\"M 351.233785 239.758125 \r\nL 359.037981 239.758125 \r\nL 359.037981 233.22084 \r\nL 351.233785 233.22084 \r\nz\r\n\" style=\"fill:#1f77b4;\"/>\r\n   </g>\r\n   <g id=\"patch_39\">\r\n    <path clip-path=\"url(#p2cfbd8244b)\" d=\"M 359.037981 239.758125 \r\nL 366.842177 239.758125 \r\nL 366.842177 239.758125 \r\nL 359.037981 239.758125 \r\nz\r\n\" style=\"fill:#1f77b4;\"/>\r\n   </g>\r\n   <g id=\"patch_40\">\r\n    <path clip-path=\"url(#p2cfbd8244b)\" d=\"M 366.842177 239.758125 \r\nL 374.646372 239.758125 \r\nL 374.646372 239.758125 \r\nL 366.842177 239.758125 \r\nz\r\n\" style=\"fill:#1f77b4;\"/>\r\n   </g>\r\n   <g id=\"patch_41\">\r\n    <path clip-path=\"url(#p2cfbd8244b)\" d=\"M 374.646372 239.758125 \r\nL 382.450568 239.758125 \r\nL 382.450568 233.22084 \r\nL 374.646372 233.22084 \r\nz\r\n\" style=\"fill:#1f77b4;\"/>\r\n   </g>\r\n   <g id=\"patch_42\">\r\n    <path clip-path=\"url(#p2cfbd8244b)\" d=\"M 78.086932 239.758125 \r\nL 85.891128 239.758125 \r\nL 85.891128 212.146696 \r\nL 78.086932 212.146696 \r\nz\r\n\" style=\"fill:#ff7f0e;\"/>\r\n   </g>\r\n   <g id=\"patch_43\">\r\n    <path clip-path=\"url(#p2cfbd8244b)\" d=\"M 85.891128 239.758125 \r\nL 93.695323 239.758125 \r\nL 93.695323 212.146696 \r\nL 85.891128 212.146696 \r\nz\r\n\" style=\"fill:#ff7f0e;\"/>\r\n   </g>\r\n   <g id=\"patch_44\">\r\n    <path clip-path=\"url(#p2cfbd8244b)\" d=\"M 93.695323 239.758125 \r\nL 101.499519 239.758125 \r\nL 101.499519 212.146696 \r\nL 93.695323 212.146696 \r\nz\r\n\" style=\"fill:#ff7f0e;\"/>\r\n   </g>\r\n   <g id=\"patch_45\">\r\n    <path clip-path=\"url(#p2cfbd8244b)\" d=\"M 101.499519 239.758125 \r\nL 109.303715 239.758125 \r\nL 109.303715 156.923839 \r\nL 101.499519 156.923839 \r\nz\r\n\" style=\"fill:#ff7f0e;\"/>\r\n   </g>\r\n   <g id=\"patch_46\">\r\n    <path clip-path=\"url(#p2cfbd8244b)\" d=\"M 109.303715 239.758125 \r\nL 117.107911 239.758125 \r\nL 117.107911 198.340982 \r\nL 109.303715 198.340982 \r\nz\r\n\" style=\"fill:#ff7f0e;\"/>\r\n   </g>\r\n   <g id=\"patch_47\">\r\n    <path clip-path=\"url(#p2cfbd8244b)\" d=\"M 117.107911 239.758125 \r\nL 124.912107 239.758125 \r\nL 124.912107 184.535268 \r\nL 117.107911 184.535268 \r\nz\r\n\" style=\"fill:#ff7f0e;\"/>\r\n   </g>\r\n   <g id=\"patch_48\">\r\n    <path clip-path=\"url(#p2cfbd8244b)\" d=\"M 124.912107 239.758125 \r\nL 132.716302 239.758125 \r\nL 132.716302 143.118125 \r\nL 124.912107 143.118125 \r\nz\r\n\" style=\"fill:#ff7f0e;\"/>\r\n   </g>\r\n   <g id=\"patch_49\">\r\n    <path clip-path=\"url(#p2cfbd8244b)\" d=\"M 132.716302 239.758125 \r\nL 140.520498 239.758125 \r\nL 140.520498 143.118125 \r\nL 132.716302 143.118125 \r\nz\r\n\" style=\"fill:#ff7f0e;\"/>\r\n   </g>\r\n   <g id=\"patch_50\">\r\n    <path clip-path=\"url(#p2cfbd8244b)\" d=\"M 140.520498 239.758125 \r\nL 148.324694 239.758125 \r\nL 148.324694 115.506696 \r\nL 140.520498 115.506696 \r\nz\r\n\" style=\"fill:#ff7f0e;\"/>\r\n   </g>\r\n   <g id=\"patch_51\">\r\n    <path clip-path=\"url(#p2cfbd8244b)\" d=\"M 148.324694 239.758125 \r\nL 156.12889 239.758125 \r\nL 156.12889 170.729554 \r\nL 148.324694 170.729554 \r\nz\r\n\" style=\"fill:#ff7f0e;\"/>\r\n   </g>\r\n   <g id=\"patch_52\">\r\n    <path clip-path=\"url(#p2cfbd8244b)\" d=\"M 156.12889 239.758125 \r\nL 163.933086 239.758125 \r\nL 163.933086 184.535268 \r\nL 156.12889 184.535268 \r\nz\r\n\" style=\"fill:#ff7f0e;\"/>\r\n   </g>\r\n   <g id=\"patch_53\">\r\n    <path clip-path=\"url(#p2cfbd8244b)\" d=\"M 163.933086 239.758125 \r\nL 171.737281 239.758125 \r\nL 171.737281 143.118125 \r\nL 163.933086 143.118125 \r\nz\r\n\" style=\"fill:#ff7f0e;\"/>\r\n   </g>\r\n   <g id=\"patch_54\">\r\n    <path clip-path=\"url(#p2cfbd8244b)\" d=\"M 171.737281 239.758125 \r\nL 179.541477 239.758125 \r\nL 179.541477 170.729554 \r\nL 171.737281 170.729554 \r\nz\r\n\" style=\"fill:#ff7f0e;\"/>\r\n   </g>\r\n   <g id=\"patch_55\">\r\n    <path clip-path=\"url(#p2cfbd8244b)\" d=\"M 179.541477 239.758125 \r\nL 187.345673 239.758125 \r\nL 187.345673 60.283839 \r\nL 179.541477 60.283839 \r\nz\r\n\" style=\"fill:#ff7f0e;\"/>\r\n   </g>\r\n   <g id=\"patch_56\">\r\n    <path clip-path=\"url(#p2cfbd8244b)\" d=\"M 187.345673 239.758125 \r\nL 195.149869 239.758125 \r\nL 195.149869 184.535268 \r\nL 187.345673 184.535268 \r\nz\r\n\" style=\"fill:#ff7f0e;\"/>\r\n   </g>\r\n   <g id=\"patch_57\">\r\n    <path clip-path=\"url(#p2cfbd8244b)\" d=\"M 195.149869 239.758125 \r\nL 202.954065 239.758125 \r\nL 202.954065 32.672411 \r\nL 195.149869 32.672411 \r\nz\r\n\" style=\"fill:#ff7f0e;\"/>\r\n   </g>\r\n   <g id=\"patch_58\">\r\n    <path clip-path=\"url(#p2cfbd8244b)\" d=\"M 202.954065 239.758125 \r\nL 210.75826 239.758125 \r\nL 210.75826 143.118125 \r\nL 202.954065 143.118125 \r\nz\r\n\" style=\"fill:#ff7f0e;\"/>\r\n   </g>\r\n   <g id=\"patch_59\">\r\n    <path clip-path=\"url(#p2cfbd8244b)\" d=\"M 210.75826 239.758125 \r\nL 218.562456 239.758125 \r\nL 218.562456 170.729554 \r\nL 210.75826 170.729554 \r\nz\r\n\" style=\"fill:#ff7f0e;\"/>\r\n   </g>\r\n   <g id=\"patch_60\">\r\n    <path clip-path=\"url(#p2cfbd8244b)\" d=\"M 218.562456 239.758125 \r\nL 226.366652 239.758125 \r\nL 226.366652 129.312411 \r\nL 218.562456 129.312411 \r\nz\r\n\" style=\"fill:#ff7f0e;\"/>\r\n   </g>\r\n   <g id=\"patch_61\">\r\n    <path clip-path=\"url(#p2cfbd8244b)\" d=\"M 226.366652 239.758125 \r\nL 234.170848 239.758125 \r\nL 234.170848 129.312411 \r\nL 226.366652 129.312411 \r\nz\r\n\" style=\"fill:#ff7f0e;\"/>\r\n   </g>\r\n   <g id=\"patch_62\">\r\n    <path clip-path=\"url(#p2cfbd8244b)\" d=\"M 234.170848 239.758125 \r\nL 241.975044 239.758125 \r\nL 241.975044 129.312411 \r\nL 234.170848 129.312411 \r\nz\r\n\" style=\"fill:#ff7f0e;\"/>\r\n   </g>\r\n   <g id=\"patch_63\">\r\n    <path clip-path=\"url(#p2cfbd8244b)\" d=\"M 241.975044 239.758125 \r\nL 249.77924 239.758125 \r\nL 249.77924 184.535268 \r\nL 241.975044 184.535268 \r\nz\r\n\" style=\"fill:#ff7f0e;\"/>\r\n   </g>\r\n   <g id=\"patch_64\">\r\n    <path clip-path=\"url(#p2cfbd8244b)\" d=\"M 249.77924 239.758125 \r\nL 257.583435 239.758125 \r\nL 257.583435 198.340982 \r\nL 249.77924 198.340982 \r\nz\r\n\" style=\"fill:#ff7f0e;\"/>\r\n   </g>\r\n   <g id=\"patch_65\">\r\n    <path clip-path=\"url(#p2cfbd8244b)\" d=\"M 257.583435 239.758125 \r\nL 265.387631 239.758125 \r\nL 265.387631 225.952411 \r\nL 257.583435 225.952411 \r\nz\r\n\" style=\"fill:#ff7f0e;\"/>\r\n   </g>\r\n   <g id=\"patch_66\">\r\n    <path clip-path=\"url(#p2cfbd8244b)\" d=\"M 265.387631 239.758125 \r\nL 273.191827 239.758125 \r\nL 273.191827 212.146696 \r\nL 265.387631 212.146696 \r\nz\r\n\" style=\"fill:#ff7f0e;\"/>\r\n   </g>\r\n   <g id=\"patch_67\">\r\n    <path clip-path=\"url(#p2cfbd8244b)\" d=\"M 273.191827 239.758125 \r\nL 280.996023 239.758125 \r\nL 280.996023 184.535268 \r\nL 273.191827 184.535268 \r\nz\r\n\" style=\"fill:#ff7f0e;\"/>\r\n   </g>\r\n   <g id=\"patch_68\">\r\n    <path clip-path=\"url(#p2cfbd8244b)\" d=\"M 280.996023 239.758125 \r\nL 288.800219 239.758125 \r\nL 288.800219 239.758125 \r\nL 280.996023 239.758125 \r\nz\r\n\" style=\"fill:#ff7f0e;\"/>\r\n   </g>\r\n   <g id=\"patch_69\">\r\n    <path clip-path=\"url(#p2cfbd8244b)\" d=\"M 288.800219 239.758125 \r\nL 296.604414 239.758125 \r\nL 296.604414 198.340982 \r\nL 288.800219 198.340982 \r\nz\r\n\" style=\"fill:#ff7f0e;\"/>\r\n   </g>\r\n   <g id=\"patch_70\">\r\n    <path clip-path=\"url(#p2cfbd8244b)\" d=\"M 296.604414 239.758125 \r\nL 304.40861 239.758125 \r\nL 304.40861 239.758125 \r\nL 296.604414 239.758125 \r\nz\r\n\" style=\"fill:#ff7f0e;\"/>\r\n   </g>\r\n   <g id=\"patch_71\">\r\n    <path clip-path=\"url(#p2cfbd8244b)\" d=\"M 304.40861 239.758125 \r\nL 312.212806 239.758125 \r\nL 312.212806 239.758125 \r\nL 304.40861 239.758125 \r\nz\r\n\" style=\"fill:#ff7f0e;\"/>\r\n   </g>\r\n   <g id=\"patch_72\">\r\n    <path clip-path=\"url(#p2cfbd8244b)\" d=\"M 312.212806 239.758125 \r\nL 320.017002 239.758125 \r\nL 320.017002 225.952411 \r\nL 312.212806 225.952411 \r\nz\r\n\" style=\"fill:#ff7f0e;\"/>\r\n   </g>\r\n   <g id=\"patch_73\">\r\n    <path clip-path=\"url(#p2cfbd8244b)\" d=\"M 320.017002 239.758125 \r\nL 327.821198 239.758125 \r\nL 327.821198 239.758125 \r\nL 320.017002 239.758125 \r\nz\r\n\" style=\"fill:#ff7f0e;\"/>\r\n   </g>\r\n   <g id=\"patch_74\">\r\n    <path clip-path=\"url(#p2cfbd8244b)\" d=\"M 327.821198 239.758125 \r\nL 335.625393 239.758125 \r\nL 335.625393 239.758125 \r\nL 327.821198 239.758125 \r\nz\r\n\" style=\"fill:#ff7f0e;\"/>\r\n   </g>\r\n   <g id=\"patch_75\">\r\n    <path clip-path=\"url(#p2cfbd8244b)\" d=\"M 335.625393 239.758125 \r\nL 343.429589 239.758125 \r\nL 343.429589 225.952411 \r\nL 335.625393 225.952411 \r\nz\r\n\" style=\"fill:#ff7f0e;\"/>\r\n   </g>\r\n   <g id=\"patch_76\">\r\n    <path clip-path=\"url(#p2cfbd8244b)\" d=\"M 343.429589 239.758125 \r\nL 351.233785 239.758125 \r\nL 351.233785 225.952411 \r\nL 343.429589 225.952411 \r\nz\r\n\" style=\"fill:#ff7f0e;\"/>\r\n   </g>\r\n   <g id=\"patch_77\">\r\n    <path clip-path=\"url(#p2cfbd8244b)\" d=\"M 351.233785 239.758125 \r\nL 359.037981 239.758125 \r\nL 359.037981 239.758125 \r\nL 351.233785 239.758125 \r\nz\r\n\" style=\"fill:#ff7f0e;\"/>\r\n   </g>\r\n   <g id=\"patch_78\">\r\n    <path clip-path=\"url(#p2cfbd8244b)\" d=\"M 359.037981 239.758125 \r\nL 366.842177 239.758125 \r\nL 366.842177 225.952411 \r\nL 359.037981 225.952411 \r\nz\r\n\" style=\"fill:#ff7f0e;\"/>\r\n   </g>\r\n   <g id=\"patch_79\">\r\n    <path clip-path=\"url(#p2cfbd8244b)\" d=\"M 366.842177 239.758125 \r\nL 374.646372 239.758125 \r\nL 374.646372 239.758125 \r\nL 366.842177 239.758125 \r\nz\r\n\" style=\"fill:#ff7f0e;\"/>\r\n   </g>\r\n   <g id=\"patch_80\">\r\n    <path clip-path=\"url(#p2cfbd8244b)\" d=\"M 374.646372 239.758125 \r\nL 382.450568 239.758125 \r\nL 382.450568 239.758125 \r\nL 374.646372 239.758125 \r\nz\r\n\" style=\"fill:#ff7f0e;\"/>\r\n   </g>\r\n   <g id=\"matplotlib.axis_1\">\r\n    <g id=\"xtick_1\">\r\n     <g id=\"line2d_1\">\r\n      <path clip-path=\"url(#p2cfbd8244b)\" d=\"M 70.282736 239.758125 \r\nL 70.282736 22.318125 \r\n\" style=\"fill:none;stroke:#b0b0b0;stroke-linecap:square;stroke-width:0.8;\"/>\r\n     </g>\r\n     <g id=\"line2d_2\">\r\n      <defs>\r\n       <path d=\"M 0 0 \r\nL 0 3.5 \r\n\" id=\"mc3bc45a302\" style=\"stroke:#000000;stroke-width:0.8;\"/>\r\n      </defs>\r\n      <g>\r\n       <use style=\"stroke:#000000;stroke-width:0.8;\" x=\"70.282736\" xlink:href=\"#mc3bc45a302\" y=\"239.758125\"/>\r\n      </g>\r\n     </g>\r\n     <g id=\"text_1\">\r\n      <!-- 0 -->\r\n      <g transform=\"translate(67.101486 254.356562)scale(0.1 -0.1)\">\r\n       <defs>\r\n        <path d=\"M 2034 4250 \r\nQ 1547 4250 1301 3770 \r\nQ 1056 3291 1056 2328 \r\nQ 1056 1369 1301 889 \r\nQ 1547 409 2034 409 \r\nQ 2525 409 2770 889 \r\nQ 3016 1369 3016 2328 \r\nQ 3016 3291 2770 3770 \r\nQ 2525 4250 2034 4250 \r\nz\r\nM 2034 4750 \r\nQ 2819 4750 3233 4129 \r\nQ 3647 3509 3647 2328 \r\nQ 3647 1150 3233 529 \r\nQ 2819 -91 2034 -91 \r\nQ 1250 -91 836 529 \r\nQ 422 1150 422 2328 \r\nQ 422 3509 836 4129 \r\nQ 1250 4750 2034 4750 \r\nz\r\n\" id=\"DejaVuSans-30\" transform=\"scale(0.015625)\"/>\r\n       </defs>\r\n       <use xlink:href=\"#DejaVuSans-30\"/>\r\n      </g>\r\n     </g>\r\n    </g>\r\n    <g id=\"xtick_2\">\r\n     <g id=\"line2d_3\">\r\n      <path clip-path=\"url(#p2cfbd8244b)\" d=\"M 132.716302 239.758125 \r\nL 132.716302 22.318125 \r\n\" style=\"fill:none;stroke:#b0b0b0;stroke-linecap:square;stroke-width:0.8;\"/>\r\n     </g>\r\n     <g id=\"line2d_4\">\r\n      <g>\r\n       <use style=\"stroke:#000000;stroke-width:0.8;\" x=\"132.716302\" xlink:href=\"#mc3bc45a302\" y=\"239.758125\"/>\r\n      </g>\r\n     </g>\r\n     <g id=\"text_2\">\r\n      <!-- 200 -->\r\n      <g transform=\"translate(123.172552 254.356562)scale(0.1 -0.1)\">\r\n       <defs>\r\n        <path d=\"M 1228 531 \r\nL 3431 531 \r\nL 3431 0 \r\nL 469 0 \r\nL 469 531 \r\nQ 828 903 1448 1529 \r\nQ 2069 2156 2228 2338 \r\nQ 2531 2678 2651 2914 \r\nQ 2772 3150 2772 3378 \r\nQ 2772 3750 2511 3984 \r\nQ 2250 4219 1831 4219 \r\nQ 1534 4219 1204 4116 \r\nQ 875 4013 500 3803 \r\nL 500 4441 \r\nQ 881 4594 1212 4672 \r\nQ 1544 4750 1819 4750 \r\nQ 2544 4750 2975 4387 \r\nQ 3406 4025 3406 3419 \r\nQ 3406 3131 3298 2873 \r\nQ 3191 2616 2906 2266 \r\nQ 2828 2175 2409 1742 \r\nQ 1991 1309 1228 531 \r\nz\r\n\" id=\"DejaVuSans-32\" transform=\"scale(0.015625)\"/>\r\n       </defs>\r\n       <use xlink:href=\"#DejaVuSans-32\"/>\r\n       <use x=\"63.623047\" xlink:href=\"#DejaVuSans-30\"/>\r\n       <use x=\"127.246094\" xlink:href=\"#DejaVuSans-30\"/>\r\n      </g>\r\n     </g>\r\n    </g>\r\n    <g id=\"xtick_3\">\r\n     <g id=\"line2d_5\">\r\n      <path clip-path=\"url(#p2cfbd8244b)\" d=\"M 195.149869 239.758125 \r\nL 195.149869 22.318125 \r\n\" style=\"fill:none;stroke:#b0b0b0;stroke-linecap:square;stroke-width:0.8;\"/>\r\n     </g>\r\n     <g id=\"line2d_6\">\r\n      <g>\r\n       <use style=\"stroke:#000000;stroke-width:0.8;\" x=\"195.149869\" xlink:href=\"#mc3bc45a302\" y=\"239.758125\"/>\r\n      </g>\r\n     </g>\r\n     <g id=\"text_3\">\r\n      <!-- 400 -->\r\n      <g transform=\"translate(185.606119 254.356562)scale(0.1 -0.1)\">\r\n       <defs>\r\n        <path d=\"M 2419 4116 \r\nL 825 1625 \r\nL 2419 1625 \r\nL 2419 4116 \r\nz\r\nM 2253 4666 \r\nL 3047 4666 \r\nL 3047 1625 \r\nL 3713 1625 \r\nL 3713 1100 \r\nL 3047 1100 \r\nL 3047 0 \r\nL 2419 0 \r\nL 2419 1100 \r\nL 313 1100 \r\nL 313 1709 \r\nL 2253 4666 \r\nz\r\n\" id=\"DejaVuSans-34\" transform=\"scale(0.015625)\"/>\r\n       </defs>\r\n       <use xlink:href=\"#DejaVuSans-34\"/>\r\n       <use x=\"63.623047\" xlink:href=\"#DejaVuSans-30\"/>\r\n       <use x=\"127.246094\" xlink:href=\"#DejaVuSans-30\"/>\r\n      </g>\r\n     </g>\r\n    </g>\r\n    <g id=\"xtick_4\">\r\n     <g id=\"line2d_7\">\r\n      <path clip-path=\"url(#p2cfbd8244b)\" d=\"M 257.583435 239.758125 \r\nL 257.583435 22.318125 \r\n\" style=\"fill:none;stroke:#b0b0b0;stroke-linecap:square;stroke-width:0.8;\"/>\r\n     </g>\r\n     <g id=\"line2d_8\">\r\n      <g>\r\n       <use style=\"stroke:#000000;stroke-width:0.8;\" x=\"257.583435\" xlink:href=\"#mc3bc45a302\" y=\"239.758125\"/>\r\n      </g>\r\n     </g>\r\n     <g id=\"text_4\">\r\n      <!-- 600 -->\r\n      <g transform=\"translate(248.039685 254.356562)scale(0.1 -0.1)\">\r\n       <defs>\r\n        <path d=\"M 2113 2584 \r\nQ 1688 2584 1439 2293 \r\nQ 1191 2003 1191 1497 \r\nQ 1191 994 1439 701 \r\nQ 1688 409 2113 409 \r\nQ 2538 409 2786 701 \r\nQ 3034 994 3034 1497 \r\nQ 3034 2003 2786 2293 \r\nQ 2538 2584 2113 2584 \r\nz\r\nM 3366 4563 \r\nL 3366 3988 \r\nQ 3128 4100 2886 4159 \r\nQ 2644 4219 2406 4219 \r\nQ 1781 4219 1451 3797 \r\nQ 1122 3375 1075 2522 \r\nQ 1259 2794 1537 2939 \r\nQ 1816 3084 2150 3084 \r\nQ 2853 3084 3261 2657 \r\nQ 3669 2231 3669 1497 \r\nQ 3669 778 3244 343 \r\nQ 2819 -91 2113 -91 \r\nQ 1303 -91 875 529 \r\nQ 447 1150 447 2328 \r\nQ 447 3434 972 4092 \r\nQ 1497 4750 2381 4750 \r\nQ 2619 4750 2861 4703 \r\nQ 3103 4656 3366 4563 \r\nz\r\n\" id=\"DejaVuSans-36\" transform=\"scale(0.015625)\"/>\r\n       </defs>\r\n       <use xlink:href=\"#DejaVuSans-36\"/>\r\n       <use x=\"63.623047\" xlink:href=\"#DejaVuSans-30\"/>\r\n       <use x=\"127.246094\" xlink:href=\"#DejaVuSans-30\"/>\r\n      </g>\r\n     </g>\r\n    </g>\r\n    <g id=\"xtick_5\">\r\n     <g id=\"line2d_9\">\r\n      <path clip-path=\"url(#p2cfbd8244b)\" d=\"M 320.017002 239.758125 \r\nL 320.017002 22.318125 \r\n\" style=\"fill:none;stroke:#b0b0b0;stroke-linecap:square;stroke-width:0.8;\"/>\r\n     </g>\r\n     <g id=\"line2d_10\">\r\n      <g>\r\n       <use style=\"stroke:#000000;stroke-width:0.8;\" x=\"320.017002\" xlink:href=\"#mc3bc45a302\" y=\"239.758125\"/>\r\n      </g>\r\n     </g>\r\n     <g id=\"text_5\">\r\n      <!-- 800 -->\r\n      <g transform=\"translate(310.473252 254.356562)scale(0.1 -0.1)\">\r\n       <defs>\r\n        <path d=\"M 2034 2216 \r\nQ 1584 2216 1326 1975 \r\nQ 1069 1734 1069 1313 \r\nQ 1069 891 1326 650 \r\nQ 1584 409 2034 409 \r\nQ 2484 409 2743 651 \r\nQ 3003 894 3003 1313 \r\nQ 3003 1734 2745 1975 \r\nQ 2488 2216 2034 2216 \r\nz\r\nM 1403 2484 \r\nQ 997 2584 770 2862 \r\nQ 544 3141 544 3541 \r\nQ 544 4100 942 4425 \r\nQ 1341 4750 2034 4750 \r\nQ 2731 4750 3128 4425 \r\nQ 3525 4100 3525 3541 \r\nQ 3525 3141 3298 2862 \r\nQ 3072 2584 2669 2484 \r\nQ 3125 2378 3379 2068 \r\nQ 3634 1759 3634 1313 \r\nQ 3634 634 3220 271 \r\nQ 2806 -91 2034 -91 \r\nQ 1263 -91 848 271 \r\nQ 434 634 434 1313 \r\nQ 434 1759 690 2068 \r\nQ 947 2378 1403 2484 \r\nz\r\nM 1172 3481 \r\nQ 1172 3119 1398 2916 \r\nQ 1625 2713 2034 2713 \r\nQ 2441 2713 2670 2916 \r\nQ 2900 3119 2900 3481 \r\nQ 2900 3844 2670 4047 \r\nQ 2441 4250 2034 4250 \r\nQ 1625 4250 1398 4047 \r\nQ 1172 3844 1172 3481 \r\nz\r\n\" id=\"DejaVuSans-38\" transform=\"scale(0.015625)\"/>\r\n       </defs>\r\n       <use xlink:href=\"#DejaVuSans-38\"/>\r\n       <use x=\"63.623047\" xlink:href=\"#DejaVuSans-30\"/>\r\n       <use x=\"127.246094\" xlink:href=\"#DejaVuSans-30\"/>\r\n      </g>\r\n     </g>\r\n    </g>\r\n    <g id=\"xtick_6\">\r\n     <g id=\"line2d_11\">\r\n      <path clip-path=\"url(#p2cfbd8244b)\" d=\"M 382.450568 239.758125 \r\nL 382.450568 22.318125 \r\n\" style=\"fill:none;stroke:#b0b0b0;stroke-linecap:square;stroke-width:0.8;\"/>\r\n     </g>\r\n     <g id=\"line2d_12\">\r\n      <g>\r\n       <use style=\"stroke:#000000;stroke-width:0.8;\" x=\"382.450568\" xlink:href=\"#mc3bc45a302\" y=\"239.758125\"/>\r\n      </g>\r\n     </g>\r\n     <g id=\"text_6\">\r\n      <!-- 1000 -->\r\n      <g transform=\"translate(369.725568 254.356562)scale(0.1 -0.1)\">\r\n       <defs>\r\n        <path d=\"M 794 531 \r\nL 1825 531 \r\nL 1825 4091 \r\nL 703 3866 \r\nL 703 4441 \r\nL 1819 4666 \r\nL 2450 4666 \r\nL 2450 531 \r\nL 3481 531 \r\nL 3481 0 \r\nL 794 0 \r\nL 794 531 \r\nz\r\n\" id=\"DejaVuSans-31\" transform=\"scale(0.015625)\"/>\r\n       </defs>\r\n       <use xlink:href=\"#DejaVuSans-31\"/>\r\n       <use x=\"63.623047\" xlink:href=\"#DejaVuSans-30\"/>\r\n       <use x=\"127.246094\" xlink:href=\"#DejaVuSans-30\"/>\r\n       <use x=\"190.869141\" xlink:href=\"#DejaVuSans-30\"/>\r\n      </g>\r\n     </g>\r\n    </g>\r\n    <g id=\"text_7\">\r\n     <!-- Minutes per month -->\r\n     <g transform=\"translate(182.875 268.034687)scale(0.1 -0.1)\">\r\n      <defs>\r\n       <path d=\"M 628 4666 \r\nL 1569 4666 \r\nL 2759 1491 \r\nL 3956 4666 \r\nL 4897 4666 \r\nL 4897 0 \r\nL 4281 0 \r\nL 4281 4097 \r\nL 3078 897 \r\nL 2444 897 \r\nL 1241 4097 \r\nL 1241 0 \r\nL 628 0 \r\nL 628 4666 \r\nz\r\n\" id=\"DejaVuSans-4d\" transform=\"scale(0.015625)\"/>\r\n       <path d=\"M 603 3500 \r\nL 1178 3500 \r\nL 1178 0 \r\nL 603 0 \r\nL 603 3500 \r\nz\r\nM 603 4863 \r\nL 1178 4863 \r\nL 1178 4134 \r\nL 603 4134 \r\nL 603 4863 \r\nz\r\n\" id=\"DejaVuSans-69\" transform=\"scale(0.015625)\"/>\r\n       <path d=\"M 3513 2113 \r\nL 3513 0 \r\nL 2938 0 \r\nL 2938 2094 \r\nQ 2938 2591 2744 2837 \r\nQ 2550 3084 2163 3084 \r\nQ 1697 3084 1428 2787 \r\nQ 1159 2491 1159 1978 \r\nL 1159 0 \r\nL 581 0 \r\nL 581 3500 \r\nL 1159 3500 \r\nL 1159 2956 \r\nQ 1366 3272 1645 3428 \r\nQ 1925 3584 2291 3584 \r\nQ 2894 3584 3203 3211 \r\nQ 3513 2838 3513 2113 \r\nz\r\n\" id=\"DejaVuSans-6e\" transform=\"scale(0.015625)\"/>\r\n       <path d=\"M 544 1381 \r\nL 544 3500 \r\nL 1119 3500 \r\nL 1119 1403 \r\nQ 1119 906 1312 657 \r\nQ 1506 409 1894 409 \r\nQ 2359 409 2629 706 \r\nQ 2900 1003 2900 1516 \r\nL 2900 3500 \r\nL 3475 3500 \r\nL 3475 0 \r\nL 2900 0 \r\nL 2900 538 \r\nQ 2691 219 2414 64 \r\nQ 2138 -91 1772 -91 \r\nQ 1169 -91 856 284 \r\nQ 544 659 544 1381 \r\nz\r\nM 1991 3584 \r\nL 1991 3584 \r\nz\r\n\" id=\"DejaVuSans-75\" transform=\"scale(0.015625)\"/>\r\n       <path d=\"M 1172 4494 \r\nL 1172 3500 \r\nL 2356 3500 \r\nL 2356 3053 \r\nL 1172 3053 \r\nL 1172 1153 \r\nQ 1172 725 1289 603 \r\nQ 1406 481 1766 481 \r\nL 2356 481 \r\nL 2356 0 \r\nL 1766 0 \r\nQ 1100 0 847 248 \r\nQ 594 497 594 1153 \r\nL 594 3053 \r\nL 172 3053 \r\nL 172 3500 \r\nL 594 3500 \r\nL 594 4494 \r\nL 1172 4494 \r\nz\r\n\" id=\"DejaVuSans-74\" transform=\"scale(0.015625)\"/>\r\n       <path d=\"M 3597 1894 \r\nL 3597 1613 \r\nL 953 1613 \r\nQ 991 1019 1311 708 \r\nQ 1631 397 2203 397 \r\nQ 2534 397 2845 478 \r\nQ 3156 559 3463 722 \r\nL 3463 178 \r\nQ 3153 47 2828 -22 \r\nQ 2503 -91 2169 -91 \r\nQ 1331 -91 842 396 \r\nQ 353 884 353 1716 \r\nQ 353 2575 817 3079 \r\nQ 1281 3584 2069 3584 \r\nQ 2775 3584 3186 3129 \r\nQ 3597 2675 3597 1894 \r\nz\r\nM 3022 2063 \r\nQ 3016 2534 2758 2815 \r\nQ 2500 3097 2075 3097 \r\nQ 1594 3097 1305 2825 \r\nQ 1016 2553 972 2059 \r\nL 3022 2063 \r\nz\r\n\" id=\"DejaVuSans-65\" transform=\"scale(0.015625)\"/>\r\n       <path d=\"M 2834 3397 \r\nL 2834 2853 \r\nQ 2591 2978 2328 3040 \r\nQ 2066 3103 1784 3103 \r\nQ 1356 3103 1142 2972 \r\nQ 928 2841 928 2578 \r\nQ 928 2378 1081 2264 \r\nQ 1234 2150 1697 2047 \r\nL 1894 2003 \r\nQ 2506 1872 2764 1633 \r\nQ 3022 1394 3022 966 \r\nQ 3022 478 2636 193 \r\nQ 2250 -91 1575 -91 \r\nQ 1294 -91 989 -36 \r\nQ 684 19 347 128 \r\nL 347 722 \r\nQ 666 556 975 473 \r\nQ 1284 391 1588 391 \r\nQ 1994 391 2212 530 \r\nQ 2431 669 2431 922 \r\nQ 2431 1156 2273 1281 \r\nQ 2116 1406 1581 1522 \r\nL 1381 1569 \r\nQ 847 1681 609 1914 \r\nQ 372 2147 372 2553 \r\nQ 372 3047 722 3315 \r\nQ 1072 3584 1716 3584 \r\nQ 2034 3584 2315 3537 \r\nQ 2597 3491 2834 3397 \r\nz\r\n\" id=\"DejaVuSans-73\" transform=\"scale(0.015625)\"/>\r\n       <path id=\"DejaVuSans-20\" transform=\"scale(0.015625)\"/>\r\n       <path d=\"M 1159 525 \r\nL 1159 -1331 \r\nL 581 -1331 \r\nL 581 3500 \r\nL 1159 3500 \r\nL 1159 2969 \r\nQ 1341 3281 1617 3432 \r\nQ 1894 3584 2278 3584 \r\nQ 2916 3584 3314 3078 \r\nQ 3713 2572 3713 1747 \r\nQ 3713 922 3314 415 \r\nQ 2916 -91 2278 -91 \r\nQ 1894 -91 1617 61 \r\nQ 1341 213 1159 525 \r\nz\r\nM 3116 1747 \r\nQ 3116 2381 2855 2742 \r\nQ 2594 3103 2138 3103 \r\nQ 1681 3103 1420 2742 \r\nQ 1159 2381 1159 1747 \r\nQ 1159 1113 1420 752 \r\nQ 1681 391 2138 391 \r\nQ 2594 391 2855 752 \r\nQ 3116 1113 3116 1747 \r\nz\r\n\" id=\"DejaVuSans-70\" transform=\"scale(0.015625)\"/>\r\n       <path d=\"M 2631 2963 \r\nQ 2534 3019 2420 3045 \r\nQ 2306 3072 2169 3072 \r\nQ 1681 3072 1420 2755 \r\nQ 1159 2438 1159 1844 \r\nL 1159 0 \r\nL 581 0 \r\nL 581 3500 \r\nL 1159 3500 \r\nL 1159 2956 \r\nQ 1341 3275 1631 3429 \r\nQ 1922 3584 2338 3584 \r\nQ 2397 3584 2469 3576 \r\nQ 2541 3569 2628 3553 \r\nL 2631 2963 \r\nz\r\n\" id=\"DejaVuSans-72\" transform=\"scale(0.015625)\"/>\r\n       <path d=\"M 3328 2828 \r\nQ 3544 3216 3844 3400 \r\nQ 4144 3584 4550 3584 \r\nQ 5097 3584 5394 3201 \r\nQ 5691 2819 5691 2113 \r\nL 5691 0 \r\nL 5113 0 \r\nL 5113 2094 \r\nQ 5113 2597 4934 2840 \r\nQ 4756 3084 4391 3084 \r\nQ 3944 3084 3684 2787 \r\nQ 3425 2491 3425 1978 \r\nL 3425 0 \r\nL 2847 0 \r\nL 2847 2094 \r\nQ 2847 2600 2669 2842 \r\nQ 2491 3084 2119 3084 \r\nQ 1678 3084 1418 2786 \r\nQ 1159 2488 1159 1978 \r\nL 1159 0 \r\nL 581 0 \r\nL 581 3500 \r\nL 1159 3500 \r\nL 1159 2956 \r\nQ 1356 3278 1631 3431 \r\nQ 1906 3584 2284 3584 \r\nQ 2666 3584 2933 3390 \r\nQ 3200 3197 3328 2828 \r\nz\r\n\" id=\"DejaVuSans-6d\" transform=\"scale(0.015625)\"/>\r\n       <path d=\"M 1959 3097 \r\nQ 1497 3097 1228 2736 \r\nQ 959 2375 959 1747 \r\nQ 959 1119 1226 758 \r\nQ 1494 397 1959 397 \r\nQ 2419 397 2687 759 \r\nQ 2956 1122 2956 1747 \r\nQ 2956 2369 2687 2733 \r\nQ 2419 3097 1959 3097 \r\nz\r\nM 1959 3584 \r\nQ 2709 3584 3137 3096 \r\nQ 3566 2609 3566 1747 \r\nQ 3566 888 3137 398 \r\nQ 2709 -91 1959 -91 \r\nQ 1206 -91 779 398 \r\nQ 353 888 353 1747 \r\nQ 353 2609 779 3096 \r\nQ 1206 3584 1959 3584 \r\nz\r\n\" id=\"DejaVuSans-6f\" transform=\"scale(0.015625)\"/>\r\n       <path d=\"M 3513 2113 \r\nL 3513 0 \r\nL 2938 0 \r\nL 2938 2094 \r\nQ 2938 2591 2744 2837 \r\nQ 2550 3084 2163 3084 \r\nQ 1697 3084 1428 2787 \r\nQ 1159 2491 1159 1978 \r\nL 1159 0 \r\nL 581 0 \r\nL 581 4863 \r\nL 1159 4863 \r\nL 1159 2956 \r\nQ 1366 3272 1645 3428 \r\nQ 1925 3584 2291 3584 \r\nQ 2894 3584 3203 3211 \r\nQ 3513 2838 3513 2113 \r\nz\r\n\" id=\"DejaVuSans-68\" transform=\"scale(0.015625)\"/>\r\n      </defs>\r\n      <use xlink:href=\"#DejaVuSans-4d\"/>\r\n      <use x=\"86.279297\" xlink:href=\"#DejaVuSans-69\"/>\r\n      <use x=\"114.0625\" xlink:href=\"#DejaVuSans-6e\"/>\r\n      <use x=\"177.441406\" xlink:href=\"#DejaVuSans-75\"/>\r\n      <use x=\"240.820312\" xlink:href=\"#DejaVuSans-74\"/>\r\n      <use x=\"280.029297\" xlink:href=\"#DejaVuSans-65\"/>\r\n      <use x=\"341.552734\" xlink:href=\"#DejaVuSans-73\"/>\r\n      <use x=\"393.652344\" xlink:href=\"#DejaVuSans-20\"/>\r\n      <use x=\"425.439453\" xlink:href=\"#DejaVuSans-70\"/>\r\n      <use x=\"488.916016\" xlink:href=\"#DejaVuSans-65\"/>\r\n      <use x=\"550.439453\" xlink:href=\"#DejaVuSans-72\"/>\r\n      <use x=\"591.552734\" xlink:href=\"#DejaVuSans-20\"/>\r\n      <use x=\"623.339844\" xlink:href=\"#DejaVuSans-6d\"/>\r\n      <use x=\"720.751953\" xlink:href=\"#DejaVuSans-6f\"/>\r\n      <use x=\"781.933594\" xlink:href=\"#DejaVuSans-6e\"/>\r\n      <use x=\"845.3125\" xlink:href=\"#DejaVuSans-74\"/>\r\n      <use x=\"884.521484\" xlink:href=\"#DejaVuSans-68\"/>\r\n     </g>\r\n    </g>\r\n   </g>\r\n   <g id=\"matplotlib.axis_2\">\r\n    <g id=\"ytick_1\">\r\n     <g id=\"line2d_13\">\r\n      <path clip-path=\"url(#p2cfbd8244b)\" d=\"M 62.86875 239.758125 \r\nL 397.66875 239.758125 \r\n\" style=\"fill:none;stroke:#b0b0b0;stroke-linecap:square;stroke-width:0.8;\"/>\r\n     </g>\r\n     <g id=\"line2d_14\">\r\n      <defs>\r\n       <path d=\"M 0 0 \r\nL -3.5 0 \r\n\" id=\"me56d7a74ee\" style=\"stroke:#000000;stroke-width:0.8;\"/>\r\n      </defs>\r\n      <g>\r\n       <use style=\"stroke:#000000;stroke-width:0.8;\" x=\"62.86875\" xlink:href=\"#me56d7a74ee\" y=\"239.758125\"/>\r\n      </g>\r\n     </g>\r\n     <g id=\"text_8\">\r\n      <!-- 0.0000 -->\r\n      <g transform=\"translate(20.878125 243.557344)scale(0.1 -0.1)\">\r\n       <defs>\r\n        <path d=\"M 684 794 \r\nL 1344 794 \r\nL 1344 0 \r\nL 684 0 \r\nL 684 794 \r\nz\r\n\" id=\"DejaVuSans-2e\" transform=\"scale(0.015625)\"/>\r\n       </defs>\r\n       <use xlink:href=\"#DejaVuSans-30\"/>\r\n       <use x=\"63.623047\" xlink:href=\"#DejaVuSans-2e\"/>\r\n       <use x=\"95.410156\" xlink:href=\"#DejaVuSans-30\"/>\r\n       <use x=\"159.033203\" xlink:href=\"#DejaVuSans-30\"/>\r\n       <use x=\"222.65625\" xlink:href=\"#DejaVuSans-30\"/>\r\n       <use x=\"286.279297\" xlink:href=\"#DejaVuSans-30\"/>\r\n      </g>\r\n     </g>\r\n    </g>\r\n    <g id=\"ytick_2\">\r\n     <g id=\"line2d_15\">\r\n      <path clip-path=\"url(#p2cfbd8244b)\" d=\"M 62.86875 213.527268 \r\nL 397.66875 213.527268 \r\n\" style=\"fill:none;stroke:#b0b0b0;stroke-linecap:square;stroke-width:0.8;\"/>\r\n     </g>\r\n     <g id=\"line2d_16\">\r\n      <g>\r\n       <use style=\"stroke:#000000;stroke-width:0.8;\" x=\"62.86875\" xlink:href=\"#me56d7a74ee\" y=\"213.527268\"/>\r\n      </g>\r\n     </g>\r\n     <g id=\"text_9\">\r\n      <!-- 0.0005 -->\r\n      <g transform=\"translate(20.878125 217.326487)scale(0.1 -0.1)\">\r\n       <defs>\r\n        <path d=\"M 691 4666 \r\nL 3169 4666 \r\nL 3169 4134 \r\nL 1269 4134 \r\nL 1269 2991 \r\nQ 1406 3038 1543 3061 \r\nQ 1681 3084 1819 3084 \r\nQ 2600 3084 3056 2656 \r\nQ 3513 2228 3513 1497 \r\nQ 3513 744 3044 326 \r\nQ 2575 -91 1722 -91 \r\nQ 1428 -91 1123 -41 \r\nQ 819 9 494 109 \r\nL 494 744 \r\nQ 775 591 1075 516 \r\nQ 1375 441 1709 441 \r\nQ 2250 441 2565 725 \r\nQ 2881 1009 2881 1497 \r\nQ 2881 1984 2565 2268 \r\nQ 2250 2553 1709 2553 \r\nQ 1456 2553 1204 2497 \r\nQ 953 2441 691 2322 \r\nL 691 4666 \r\nz\r\n\" id=\"DejaVuSans-35\" transform=\"scale(0.015625)\"/>\r\n       </defs>\r\n       <use xlink:href=\"#DejaVuSans-30\"/>\r\n       <use x=\"63.623047\" xlink:href=\"#DejaVuSans-2e\"/>\r\n       <use x=\"95.410156\" xlink:href=\"#DejaVuSans-30\"/>\r\n       <use x=\"159.033203\" xlink:href=\"#DejaVuSans-30\"/>\r\n       <use x=\"222.65625\" xlink:href=\"#DejaVuSans-30\"/>\r\n       <use x=\"286.279297\" xlink:href=\"#DejaVuSans-35\"/>\r\n      </g>\r\n     </g>\r\n    </g>\r\n    <g id=\"ytick_3\">\r\n     <g id=\"line2d_17\">\r\n      <path clip-path=\"url(#p2cfbd8244b)\" d=\"M 62.86875 187.296411 \r\nL 397.66875 187.296411 \r\n\" style=\"fill:none;stroke:#b0b0b0;stroke-linecap:square;stroke-width:0.8;\"/>\r\n     </g>\r\n     <g id=\"line2d_18\">\r\n      <g>\r\n       <use style=\"stroke:#000000;stroke-width:0.8;\" x=\"62.86875\" xlink:href=\"#me56d7a74ee\" y=\"187.296411\"/>\r\n      </g>\r\n     </g>\r\n     <g id=\"text_10\">\r\n      <!-- 0.0010 -->\r\n      <g transform=\"translate(20.878125 191.095629)scale(0.1 -0.1)\">\r\n       <use xlink:href=\"#DejaVuSans-30\"/>\r\n       <use x=\"63.623047\" xlink:href=\"#DejaVuSans-2e\"/>\r\n       <use x=\"95.410156\" xlink:href=\"#DejaVuSans-30\"/>\r\n       <use x=\"159.033203\" xlink:href=\"#DejaVuSans-30\"/>\r\n       <use x=\"222.65625\" xlink:href=\"#DejaVuSans-31\"/>\r\n       <use x=\"286.279297\" xlink:href=\"#DejaVuSans-30\"/>\r\n      </g>\r\n     </g>\r\n    </g>\r\n    <g id=\"ytick_4\">\r\n     <g id=\"line2d_19\">\r\n      <path clip-path=\"url(#p2cfbd8244b)\" d=\"M 62.86875 161.065554 \r\nL 397.66875 161.065554 \r\n\" style=\"fill:none;stroke:#b0b0b0;stroke-linecap:square;stroke-width:0.8;\"/>\r\n     </g>\r\n     <g id=\"line2d_20\">\r\n      <g>\r\n       <use style=\"stroke:#000000;stroke-width:0.8;\" x=\"62.86875\" xlink:href=\"#me56d7a74ee\" y=\"161.065554\"/>\r\n      </g>\r\n     </g>\r\n     <g id=\"text_11\">\r\n      <!-- 0.0015 -->\r\n      <g transform=\"translate(20.878125 164.864772)scale(0.1 -0.1)\">\r\n       <use xlink:href=\"#DejaVuSans-30\"/>\r\n       <use x=\"63.623047\" xlink:href=\"#DejaVuSans-2e\"/>\r\n       <use x=\"95.410156\" xlink:href=\"#DejaVuSans-30\"/>\r\n       <use x=\"159.033203\" xlink:href=\"#DejaVuSans-30\"/>\r\n       <use x=\"222.65625\" xlink:href=\"#DejaVuSans-31\"/>\r\n       <use x=\"286.279297\" xlink:href=\"#DejaVuSans-35\"/>\r\n      </g>\r\n     </g>\r\n    </g>\r\n    <g id=\"ytick_5\">\r\n     <g id=\"line2d_21\">\r\n      <path clip-path=\"url(#p2cfbd8244b)\" d=\"M 62.86875 134.834696 \r\nL 397.66875 134.834696 \r\n\" style=\"fill:none;stroke:#b0b0b0;stroke-linecap:square;stroke-width:0.8;\"/>\r\n     </g>\r\n     <g id=\"line2d_22\">\r\n      <g>\r\n       <use style=\"stroke:#000000;stroke-width:0.8;\" x=\"62.86875\" xlink:href=\"#me56d7a74ee\" y=\"134.834696\"/>\r\n      </g>\r\n     </g>\r\n     <g id=\"text_12\">\r\n      <!-- 0.0020 -->\r\n      <g transform=\"translate(20.878125 138.633915)scale(0.1 -0.1)\">\r\n       <use xlink:href=\"#DejaVuSans-30\"/>\r\n       <use x=\"63.623047\" xlink:href=\"#DejaVuSans-2e\"/>\r\n       <use x=\"95.410156\" xlink:href=\"#DejaVuSans-30\"/>\r\n       <use x=\"159.033203\" xlink:href=\"#DejaVuSans-30\"/>\r\n       <use x=\"222.65625\" xlink:href=\"#DejaVuSans-32\"/>\r\n       <use x=\"286.279297\" xlink:href=\"#DejaVuSans-30\"/>\r\n      </g>\r\n     </g>\r\n    </g>\r\n    <g id=\"ytick_6\">\r\n     <g id=\"line2d_23\">\r\n      <path clip-path=\"url(#p2cfbd8244b)\" d=\"M 62.86875 108.603839 \r\nL 397.66875 108.603839 \r\n\" style=\"fill:none;stroke:#b0b0b0;stroke-linecap:square;stroke-width:0.8;\"/>\r\n     </g>\r\n     <g id=\"line2d_24\">\r\n      <g>\r\n       <use style=\"stroke:#000000;stroke-width:0.8;\" x=\"62.86875\" xlink:href=\"#me56d7a74ee\" y=\"108.603839\"/>\r\n      </g>\r\n     </g>\r\n     <g id=\"text_13\">\r\n      <!-- 0.0025 -->\r\n      <g transform=\"translate(20.878125 112.403058)scale(0.1 -0.1)\">\r\n       <use xlink:href=\"#DejaVuSans-30\"/>\r\n       <use x=\"63.623047\" xlink:href=\"#DejaVuSans-2e\"/>\r\n       <use x=\"95.410156\" xlink:href=\"#DejaVuSans-30\"/>\r\n       <use x=\"159.033203\" xlink:href=\"#DejaVuSans-30\"/>\r\n       <use x=\"222.65625\" xlink:href=\"#DejaVuSans-32\"/>\r\n       <use x=\"286.279297\" xlink:href=\"#DejaVuSans-35\"/>\r\n      </g>\r\n     </g>\r\n    </g>\r\n    <g id=\"ytick_7\">\r\n     <g id=\"line2d_25\">\r\n      <path clip-path=\"url(#p2cfbd8244b)\" d=\"M 62.86875 82.372982 \r\nL 397.66875 82.372982 \r\n\" style=\"fill:none;stroke:#b0b0b0;stroke-linecap:square;stroke-width:0.8;\"/>\r\n     </g>\r\n     <g id=\"line2d_26\">\r\n      <g>\r\n       <use style=\"stroke:#000000;stroke-width:0.8;\" x=\"62.86875\" xlink:href=\"#me56d7a74ee\" y=\"82.372982\"/>\r\n      </g>\r\n     </g>\r\n     <g id=\"text_14\">\r\n      <!-- 0.0030 -->\r\n      <g transform=\"translate(20.878125 86.172201)scale(0.1 -0.1)\">\r\n       <defs>\r\n        <path d=\"M 2597 2516 \r\nQ 3050 2419 3304 2112 \r\nQ 3559 1806 3559 1356 \r\nQ 3559 666 3084 287 \r\nQ 2609 -91 1734 -91 \r\nQ 1441 -91 1130 -33 \r\nQ 819 25 488 141 \r\nL 488 750 \r\nQ 750 597 1062 519 \r\nQ 1375 441 1716 441 \r\nQ 2309 441 2620 675 \r\nQ 2931 909 2931 1356 \r\nQ 2931 1769 2642 2001 \r\nQ 2353 2234 1838 2234 \r\nL 1294 2234 \r\nL 1294 2753 \r\nL 1863 2753 \r\nQ 2328 2753 2575 2939 \r\nQ 2822 3125 2822 3475 \r\nQ 2822 3834 2567 4026 \r\nQ 2313 4219 1838 4219 \r\nQ 1578 4219 1281 4162 \r\nQ 984 4106 628 3988 \r\nL 628 4550 \r\nQ 988 4650 1302 4700 \r\nQ 1616 4750 1894 4750 \r\nQ 2613 4750 3031 4423 \r\nQ 3450 4097 3450 3541 \r\nQ 3450 3153 3228 2886 \r\nQ 3006 2619 2597 2516 \r\nz\r\n\" id=\"DejaVuSans-33\" transform=\"scale(0.015625)\"/>\r\n       </defs>\r\n       <use xlink:href=\"#DejaVuSans-30\"/>\r\n       <use x=\"63.623047\" xlink:href=\"#DejaVuSans-2e\"/>\r\n       <use x=\"95.410156\" xlink:href=\"#DejaVuSans-30\"/>\r\n       <use x=\"159.033203\" xlink:href=\"#DejaVuSans-30\"/>\r\n       <use x=\"222.65625\" xlink:href=\"#DejaVuSans-33\"/>\r\n       <use x=\"286.279297\" xlink:href=\"#DejaVuSans-30\"/>\r\n      </g>\r\n     </g>\r\n    </g>\r\n    <g id=\"ytick_8\">\r\n     <g id=\"line2d_27\">\r\n      <path clip-path=\"url(#p2cfbd8244b)\" d=\"M 62.86875 56.142125 \r\nL 397.66875 56.142125 \r\n\" style=\"fill:none;stroke:#b0b0b0;stroke-linecap:square;stroke-width:0.8;\"/>\r\n     </g>\r\n     <g id=\"line2d_28\">\r\n      <g>\r\n       <use style=\"stroke:#000000;stroke-width:0.8;\" x=\"62.86875\" xlink:href=\"#me56d7a74ee\" y=\"56.142125\"/>\r\n      </g>\r\n     </g>\r\n     <g id=\"text_15\">\r\n      <!-- 0.0035 -->\r\n      <g transform=\"translate(20.878125 59.941344)scale(0.1 -0.1)\">\r\n       <use xlink:href=\"#DejaVuSans-30\"/>\r\n       <use x=\"63.623047\" xlink:href=\"#DejaVuSans-2e\"/>\r\n       <use x=\"95.410156\" xlink:href=\"#DejaVuSans-30\"/>\r\n       <use x=\"159.033203\" xlink:href=\"#DejaVuSans-30\"/>\r\n       <use x=\"222.65625\" xlink:href=\"#DejaVuSans-33\"/>\r\n       <use x=\"286.279297\" xlink:href=\"#DejaVuSans-35\"/>\r\n      </g>\r\n     </g>\r\n    </g>\r\n    <g id=\"ytick_9\">\r\n     <g id=\"line2d_29\">\r\n      <path clip-path=\"url(#p2cfbd8244b)\" d=\"M 62.86875 29.911268 \r\nL 397.66875 29.911268 \r\n\" style=\"fill:none;stroke:#b0b0b0;stroke-linecap:square;stroke-width:0.8;\"/>\r\n     </g>\r\n     <g id=\"line2d_30\">\r\n      <g>\r\n       <use style=\"stroke:#000000;stroke-width:0.8;\" x=\"62.86875\" xlink:href=\"#me56d7a74ee\" y=\"29.911268\"/>\r\n      </g>\r\n     </g>\r\n     <g id=\"text_16\">\r\n      <!-- 0.0040 -->\r\n      <g transform=\"translate(20.878125 33.710487)scale(0.1 -0.1)\">\r\n       <use xlink:href=\"#DejaVuSans-30\"/>\r\n       <use x=\"63.623047\" xlink:href=\"#DejaVuSans-2e\"/>\r\n       <use x=\"95.410156\" xlink:href=\"#DejaVuSans-30\"/>\r\n       <use x=\"159.033203\" xlink:href=\"#DejaVuSans-30\"/>\r\n       <use x=\"222.65625\" xlink:href=\"#DejaVuSans-34\"/>\r\n       <use x=\"286.279297\" xlink:href=\"#DejaVuSans-30\"/>\r\n      </g>\r\n     </g>\r\n    </g>\r\n    <g id=\"text_17\">\r\n     <!-- Probability -->\r\n     <g transform=\"translate(14.798438 157.467031)rotate(-90)scale(0.1 -0.1)\">\r\n      <defs>\r\n       <path d=\"M 1259 4147 \r\nL 1259 2394 \r\nL 2053 2394 \r\nQ 2494 2394 2734 2622 \r\nQ 2975 2850 2975 3272 \r\nQ 2975 3691 2734 3919 \r\nQ 2494 4147 2053 4147 \r\nL 1259 4147 \r\nz\r\nM 628 4666 \r\nL 2053 4666 \r\nQ 2838 4666 3239 4311 \r\nQ 3641 3956 3641 3272 \r\nQ 3641 2581 3239 2228 \r\nQ 2838 1875 2053 1875 \r\nL 1259 1875 \r\nL 1259 0 \r\nL 628 0 \r\nL 628 4666 \r\nz\r\n\" id=\"DejaVuSans-50\" transform=\"scale(0.015625)\"/>\r\n       <path d=\"M 3116 1747 \r\nQ 3116 2381 2855 2742 \r\nQ 2594 3103 2138 3103 \r\nQ 1681 3103 1420 2742 \r\nQ 1159 2381 1159 1747 \r\nQ 1159 1113 1420 752 \r\nQ 1681 391 2138 391 \r\nQ 2594 391 2855 752 \r\nQ 3116 1113 3116 1747 \r\nz\r\nM 1159 2969 \r\nQ 1341 3281 1617 3432 \r\nQ 1894 3584 2278 3584 \r\nQ 2916 3584 3314 3078 \r\nQ 3713 2572 3713 1747 \r\nQ 3713 922 3314 415 \r\nQ 2916 -91 2278 -91 \r\nQ 1894 -91 1617 61 \r\nQ 1341 213 1159 525 \r\nL 1159 0 \r\nL 581 0 \r\nL 581 4863 \r\nL 1159 4863 \r\nL 1159 2969 \r\nz\r\n\" id=\"DejaVuSans-62\" transform=\"scale(0.015625)\"/>\r\n       <path d=\"M 2194 1759 \r\nQ 1497 1759 1228 1600 \r\nQ 959 1441 959 1056 \r\nQ 959 750 1161 570 \r\nQ 1363 391 1709 391 \r\nQ 2188 391 2477 730 \r\nQ 2766 1069 2766 1631 \r\nL 2766 1759 \r\nL 2194 1759 \r\nz\r\nM 3341 1997 \r\nL 3341 0 \r\nL 2766 0 \r\nL 2766 531 \r\nQ 2569 213 2275 61 \r\nQ 1981 -91 1556 -91 \r\nQ 1019 -91 701 211 \r\nQ 384 513 384 1019 \r\nQ 384 1609 779 1909 \r\nQ 1175 2209 1959 2209 \r\nL 2766 2209 \r\nL 2766 2266 \r\nQ 2766 2663 2505 2880 \r\nQ 2244 3097 1772 3097 \r\nQ 1472 3097 1187 3025 \r\nQ 903 2953 641 2809 \r\nL 641 3341 \r\nQ 956 3463 1253 3523 \r\nQ 1550 3584 1831 3584 \r\nQ 2591 3584 2966 3190 \r\nQ 3341 2797 3341 1997 \r\nz\r\n\" id=\"DejaVuSans-61\" transform=\"scale(0.015625)\"/>\r\n       <path d=\"M 603 4863 \r\nL 1178 4863 \r\nL 1178 0 \r\nL 603 0 \r\nL 603 4863 \r\nz\r\n\" id=\"DejaVuSans-6c\" transform=\"scale(0.015625)\"/>\r\n       <path d=\"M 2059 -325 \r\nQ 1816 -950 1584 -1140 \r\nQ 1353 -1331 966 -1331 \r\nL 506 -1331 \r\nL 506 -850 \r\nL 844 -850 \r\nQ 1081 -850 1212 -737 \r\nQ 1344 -625 1503 -206 \r\nL 1606 56 \r\nL 191 3500 \r\nL 800 3500 \r\nL 1894 763 \r\nL 2988 3500 \r\nL 3597 3500 \r\nL 2059 -325 \r\nz\r\n\" id=\"DejaVuSans-79\" transform=\"scale(0.015625)\"/>\r\n      </defs>\r\n      <use xlink:href=\"#DejaVuSans-50\"/>\r\n      <use x=\"58.552734\" xlink:href=\"#DejaVuSans-72\"/>\r\n      <use x=\"97.416016\" xlink:href=\"#DejaVuSans-6f\"/>\r\n      <use x=\"158.597656\" xlink:href=\"#DejaVuSans-62\"/>\r\n      <use x=\"222.074219\" xlink:href=\"#DejaVuSans-61\"/>\r\n      <use x=\"283.353516\" xlink:href=\"#DejaVuSans-62\"/>\r\n      <use x=\"346.830078\" xlink:href=\"#DejaVuSans-69\"/>\r\n      <use x=\"374.613281\" xlink:href=\"#DejaVuSans-6c\"/>\r\n      <use x=\"402.396484\" xlink:href=\"#DejaVuSans-69\"/>\r\n      <use x=\"430.179688\" xlink:href=\"#DejaVuSans-74\"/>\r\n      <use x=\"469.388672\" xlink:href=\"#DejaVuSans-79\"/>\r\n     </g>\r\n    </g>\r\n   </g>\r\n   <g id=\"patch_81\">\r\n    <path d=\"M 62.86875 239.758125 \r\nL 62.86875 22.318125 \r\n\" style=\"fill:none;stroke:#000000;stroke-linecap:square;stroke-linejoin:miter;stroke-width:0.8;\"/>\r\n   </g>\r\n   <g id=\"patch_82\">\r\n    <path d=\"M 397.66875 239.758125 \r\nL 397.66875 22.318125 \r\n\" style=\"fill:none;stroke:#000000;stroke-linecap:square;stroke-linejoin:miter;stroke-width:0.8;\"/>\r\n   </g>\r\n   <g id=\"patch_83\">\r\n    <path d=\"M 62.86875 239.758125 \r\nL 397.66875 239.758125 \r\n\" style=\"fill:none;stroke:#000000;stroke-linecap:square;stroke-linejoin:miter;stroke-width:0.8;\"/>\r\n   </g>\r\n   <g id=\"patch_84\">\r\n    <path d=\"M 62.86875 22.318125 \r\nL 397.66875 22.318125 \r\n\" style=\"fill:none;stroke:#000000;stroke-linecap:square;stroke-linejoin:miter;stroke-width:0.8;\"/>\r\n   </g>\r\n   <g id=\"text_18\">\r\n    <!-- Average minutes talked per month by user -->\r\n    <g transform=\"translate(101.56125 16.318125)scale(0.12 -0.12)\">\r\n     <defs>\r\n      <path d=\"M 2188 4044 \r\nL 1331 1722 \r\nL 3047 1722 \r\nL 2188 4044 \r\nz\r\nM 1831 4666 \r\nL 2547 4666 \r\nL 4325 0 \r\nL 3669 0 \r\nL 3244 1197 \r\nL 1141 1197 \r\nL 716 0 \r\nL 50 0 \r\nL 1831 4666 \r\nz\r\n\" id=\"DejaVuSans-41\" transform=\"scale(0.015625)\"/>\r\n      <path d=\"M 191 3500 \r\nL 800 3500 \r\nL 1894 563 \r\nL 2988 3500 \r\nL 3597 3500 \r\nL 2284 0 \r\nL 1503 0 \r\nL 191 3500 \r\nz\r\n\" id=\"DejaVuSans-76\" transform=\"scale(0.015625)\"/>\r\n      <path d=\"M 2906 1791 \r\nQ 2906 2416 2648 2759 \r\nQ 2391 3103 1925 3103 \r\nQ 1463 3103 1205 2759 \r\nQ 947 2416 947 1791 \r\nQ 947 1169 1205 825 \r\nQ 1463 481 1925 481 \r\nQ 2391 481 2648 825 \r\nQ 2906 1169 2906 1791 \r\nz\r\nM 3481 434 \r\nQ 3481 -459 3084 -895 \r\nQ 2688 -1331 1869 -1331 \r\nQ 1566 -1331 1297 -1286 \r\nQ 1028 -1241 775 -1147 \r\nL 775 -588 \r\nQ 1028 -725 1275 -790 \r\nQ 1522 -856 1778 -856 \r\nQ 2344 -856 2625 -561 \r\nQ 2906 -266 2906 331 \r\nL 2906 616 \r\nQ 2728 306 2450 153 \r\nQ 2172 0 1784 0 \r\nQ 1141 0 747 490 \r\nQ 353 981 353 1791 \r\nQ 353 2603 747 3093 \r\nQ 1141 3584 1784 3584 \r\nQ 2172 3584 2450 3431 \r\nQ 2728 3278 2906 2969 \r\nL 2906 3500 \r\nL 3481 3500 \r\nL 3481 434 \r\nz\r\n\" id=\"DejaVuSans-67\" transform=\"scale(0.015625)\"/>\r\n      <path d=\"M 581 4863 \r\nL 1159 4863 \r\nL 1159 1991 \r\nL 2875 3500 \r\nL 3609 3500 \r\nL 1753 1863 \r\nL 3688 0 \r\nL 2938 0 \r\nL 1159 1709 \r\nL 1159 0 \r\nL 581 0 \r\nL 581 4863 \r\nz\r\n\" id=\"DejaVuSans-6b\" transform=\"scale(0.015625)\"/>\r\n      <path d=\"M 2906 2969 \r\nL 2906 4863 \r\nL 3481 4863 \r\nL 3481 0 \r\nL 2906 0 \r\nL 2906 525 \r\nQ 2725 213 2448 61 \r\nQ 2172 -91 1784 -91 \r\nQ 1150 -91 751 415 \r\nQ 353 922 353 1747 \r\nQ 353 2572 751 3078 \r\nQ 1150 3584 1784 3584 \r\nQ 2172 3584 2448 3432 \r\nQ 2725 3281 2906 2969 \r\nz\r\nM 947 1747 \r\nQ 947 1113 1208 752 \r\nQ 1469 391 1925 391 \r\nQ 2381 391 2643 752 \r\nQ 2906 1113 2906 1747 \r\nQ 2906 2381 2643 2742 \r\nQ 2381 3103 1925 3103 \r\nQ 1469 3103 1208 2742 \r\nQ 947 2381 947 1747 \r\nz\r\n\" id=\"DejaVuSans-64\" transform=\"scale(0.015625)\"/>\r\n     </defs>\r\n     <use xlink:href=\"#DejaVuSans-41\"/>\r\n     <use x=\"62.533203\" xlink:href=\"#DejaVuSans-76\"/>\r\n     <use x=\"121.712891\" xlink:href=\"#DejaVuSans-65\"/>\r\n     <use x=\"183.236328\" xlink:href=\"#DejaVuSans-72\"/>\r\n     <use x=\"224.349609\" xlink:href=\"#DejaVuSans-61\"/>\r\n     <use x=\"285.628906\" xlink:href=\"#DejaVuSans-67\"/>\r\n     <use x=\"349.105469\" xlink:href=\"#DejaVuSans-65\"/>\r\n     <use x=\"410.628906\" xlink:href=\"#DejaVuSans-20\"/>\r\n     <use x=\"442.416016\" xlink:href=\"#DejaVuSans-6d\"/>\r\n     <use x=\"539.828125\" xlink:href=\"#DejaVuSans-69\"/>\r\n     <use x=\"567.611328\" xlink:href=\"#DejaVuSans-6e\"/>\r\n     <use x=\"630.990234\" xlink:href=\"#DejaVuSans-75\"/>\r\n     <use x=\"694.369141\" xlink:href=\"#DejaVuSans-74\"/>\r\n     <use x=\"733.578125\" xlink:href=\"#DejaVuSans-65\"/>\r\n     <use x=\"795.101562\" xlink:href=\"#DejaVuSans-73\"/>\r\n     <use x=\"847.201172\" xlink:href=\"#DejaVuSans-20\"/>\r\n     <use x=\"878.988281\" xlink:href=\"#DejaVuSans-74\"/>\r\n     <use x=\"918.197266\" xlink:href=\"#DejaVuSans-61\"/>\r\n     <use x=\"979.476562\" xlink:href=\"#DejaVuSans-6c\"/>\r\n     <use x=\"1007.259766\" xlink:href=\"#DejaVuSans-6b\"/>\r\n     <use x=\"1061.544922\" xlink:href=\"#DejaVuSans-65\"/>\r\n     <use x=\"1123.068359\" xlink:href=\"#DejaVuSans-64\"/>\r\n     <use x=\"1186.544922\" xlink:href=\"#DejaVuSans-20\"/>\r\n     <use x=\"1218.332031\" xlink:href=\"#DejaVuSans-70\"/>\r\n     <use x=\"1281.808594\" xlink:href=\"#DejaVuSans-65\"/>\r\n     <use x=\"1343.332031\" xlink:href=\"#DejaVuSans-72\"/>\r\n     <use x=\"1384.445312\" xlink:href=\"#DejaVuSans-20\"/>\r\n     <use x=\"1416.232422\" xlink:href=\"#DejaVuSans-6d\"/>\r\n     <use x=\"1513.644531\" xlink:href=\"#DejaVuSans-6f\"/>\r\n     <use x=\"1574.826172\" xlink:href=\"#DejaVuSans-6e\"/>\r\n     <use x=\"1638.205078\" xlink:href=\"#DejaVuSans-74\"/>\r\n     <use x=\"1677.414062\" xlink:href=\"#DejaVuSans-68\"/>\r\n     <use x=\"1740.792969\" xlink:href=\"#DejaVuSans-20\"/>\r\n     <use x=\"1772.580078\" xlink:href=\"#DejaVuSans-62\"/>\r\n     <use x=\"1836.056641\" xlink:href=\"#DejaVuSans-79\"/>\r\n     <use x=\"1895.236328\" xlink:href=\"#DejaVuSans-20\"/>\r\n     <use x=\"1927.023438\" xlink:href=\"#DejaVuSans-75\"/>\r\n     <use x=\"1990.402344\" xlink:href=\"#DejaVuSans-73\"/>\r\n     <use x=\"2042.501953\" xlink:href=\"#DejaVuSans-65\"/>\r\n     <use x=\"2104.025391\" xlink:href=\"#DejaVuSans-72\"/>\r\n    </g>\r\n   </g>\r\n   <g id=\"legend_1\">\r\n    <g id=\"patch_85\">\r\n     <path d=\"M 315.93125 59.674375 \r\nL 390.66875 59.674375 \r\nQ 392.66875 59.674375 392.66875 57.674375 \r\nL 392.66875 29.318125 \r\nQ 392.66875 27.318125 390.66875 27.318125 \r\nL 315.93125 27.318125 \r\nQ 313.93125 27.318125 313.93125 29.318125 \r\nL 313.93125 57.674375 \r\nQ 313.93125 59.674375 315.93125 59.674375 \r\nz\r\n\" style=\"fill:#ffffff;opacity:0.8;stroke:#cccccc;stroke-linejoin:miter;\"/>\r\n    </g>\r\n    <g id=\"patch_86\">\r\n     <path d=\"M 317.93125 38.916562 \r\nL 337.93125 38.916562 \r\nL 337.93125 31.916562 \r\nL 317.93125 31.916562 \r\nz\r\n\" style=\"fill:#1f77b4;\"/>\r\n    </g>\r\n    <g id=\"text_19\">\r\n     <!-- Surf -->\r\n     <g transform=\"translate(345.93125 38.916562)scale(0.1 -0.1)\">\r\n      <defs>\r\n       <path d=\"M 3425 4513 \r\nL 3425 3897 \r\nQ 3066 4069 2747 4153 \r\nQ 2428 4238 2131 4238 \r\nQ 1616 4238 1336 4038 \r\nQ 1056 3838 1056 3469 \r\nQ 1056 3159 1242 3001 \r\nQ 1428 2844 1947 2747 \r\nL 2328 2669 \r\nQ 3034 2534 3370 2195 \r\nQ 3706 1856 3706 1288 \r\nQ 3706 609 3251 259 \r\nQ 2797 -91 1919 -91 \r\nQ 1588 -91 1214 -16 \r\nQ 841 59 441 206 \r\nL 441 856 \r\nQ 825 641 1194 531 \r\nQ 1563 422 1919 422 \r\nQ 2459 422 2753 634 \r\nQ 3047 847 3047 1241 \r\nQ 3047 1584 2836 1778 \r\nQ 2625 1972 2144 2069 \r\nL 1759 2144 \r\nQ 1053 2284 737 2584 \r\nQ 422 2884 422 3419 \r\nQ 422 4038 858 4394 \r\nQ 1294 4750 2059 4750 \r\nQ 2388 4750 2728 4690 \r\nQ 3069 4631 3425 4513 \r\nz\r\n\" id=\"DejaVuSans-53\" transform=\"scale(0.015625)\"/>\r\n       <path d=\"M 2375 4863 \r\nL 2375 4384 \r\nL 1825 4384 \r\nQ 1516 4384 1395 4259 \r\nQ 1275 4134 1275 3809 \r\nL 1275 3500 \r\nL 2222 3500 \r\nL 2222 3053 \r\nL 1275 3053 \r\nL 1275 0 \r\nL 697 0 \r\nL 697 3053 \r\nL 147 3053 \r\nL 147 3500 \r\nL 697 3500 \r\nL 697 3744 \r\nQ 697 4328 969 4595 \r\nQ 1241 4863 1831 4863 \r\nL 2375 4863 \r\nz\r\n\" id=\"DejaVuSans-66\" transform=\"scale(0.015625)\"/>\r\n      </defs>\r\n      <use xlink:href=\"#DejaVuSans-53\"/>\r\n      <use x=\"63.476562\" xlink:href=\"#DejaVuSans-75\"/>\r\n      <use x=\"126.855469\" xlink:href=\"#DejaVuSans-72\"/>\r\n      <use x=\"167.96875\" xlink:href=\"#DejaVuSans-66\"/>\r\n     </g>\r\n    </g>\r\n    <g id=\"patch_87\">\r\n     <path d=\"M 317.93125 53.594687 \r\nL 337.93125 53.594687 \r\nL 337.93125 46.594687 \r\nL 317.93125 46.594687 \r\nz\r\n\" style=\"fill:#ff7f0e;\"/>\r\n    </g>\r\n    <g id=\"text_20\">\r\n     <!-- Ultimate -->\r\n     <g transform=\"translate(345.93125 53.594687)scale(0.1 -0.1)\">\r\n      <defs>\r\n       <path d=\"M 556 4666 \r\nL 1191 4666 \r\nL 1191 1831 \r\nQ 1191 1081 1462 751 \r\nQ 1734 422 2344 422 \r\nQ 2950 422 3222 751 \r\nQ 3494 1081 3494 1831 \r\nL 3494 4666 \r\nL 4128 4666 \r\nL 4128 1753 \r\nQ 4128 841 3676 375 \r\nQ 3225 -91 2344 -91 \r\nQ 1459 -91 1007 375 \r\nQ 556 841 556 1753 \r\nL 556 4666 \r\nz\r\n\" id=\"DejaVuSans-55\" transform=\"scale(0.015625)\"/>\r\n      </defs>\r\n      <use xlink:href=\"#DejaVuSans-55\"/>\r\n      <use x=\"73.193359\" xlink:href=\"#DejaVuSans-6c\"/>\r\n      <use x=\"100.976562\" xlink:href=\"#DejaVuSans-74\"/>\r\n      <use x=\"140.185547\" xlink:href=\"#DejaVuSans-69\"/>\r\n      <use x=\"167.96875\" xlink:href=\"#DejaVuSans-6d\"/>\r\n      <use x=\"265.380859\" xlink:href=\"#DejaVuSans-61\"/>\r\n      <use x=\"326.660156\" xlink:href=\"#DejaVuSans-74\"/>\r\n      <use x=\"365.869141\" xlink:href=\"#DejaVuSans-65\"/>\r\n     </g>\r\n    </g>\r\n   </g>\r\n  </g>\r\n </g>\r\n <defs>\r\n  <clipPath id=\"p2cfbd8244b\">\r\n   <rect height=\"217.44\" width=\"334.8\" x=\"62.86875\" y=\"22.318125\"/>\r\n  </clipPath>\r\n </defs>\r\n</svg>\r\n",
      "image/png": "[encoded data removed]"
     },
     "metadata": {
      "needs_background": "light"
     }
    }
   ],
   "metadata": {}
  },
  {
   "cell_type": "markdown",
   "source": [
    "The graph above display the density distribution of minutes talked per month for users, for each plan. The distributions as similar to normal distributions and do not differ much between plans."
   ],
   "metadata": {}
  },
  {
   "cell_type": "code",
   "execution_count": 28,
   "source": [
    "plt.figure()\r\n",
    "user_messages.loc[user_messages['plan'] == 'surf', 'mean'].hist(bins=[0 + 4*i for i in range(1,41)], density=True)\r\n",
    "user_messages.loc[user_messages['plan'] == 'ultimate', 'mean'].hist(bins=[0 + 4*i for i in range(1,41)], density=True)\r\n",
    "plt.legend(['Surf', 'Ultimate'])\r\n",
    "plt.title('Average messages sent per month by user')\r\n",
    "plt.xlabel('Messages per month')\r\n",
    "plt.ylabel('Probability')\r\n",
    "plt.show()"
   ],
   "outputs": [
    {
     "output_type": "display_data",
     "data": {
      "text/plain": [
       "<Figure size 432x288 with 1 Axes>"
      ],
      "image/svg+xml": "<?xml version=\"1.0\" encoding=\"utf-8\" standalone=\"no\"?>\r\n<!DOCTYPE svg PUBLIC \"-//W3C//DTD SVG 1.1//EN\"\r\n  \"http://www.w3.org/Graphics/SVG/1.1/DTD/svg11.dtd\">\r\n<svg height=\"277.314375pt\" version=\"1.1\" viewBox=\"0 0 398.50625 277.314375\" width=\"398.50625pt\" xmlns=\"http://www.w3.org/2000/svg\" xmlns:xlink=\"http://www.w3.org/1999/xlink\">\r\n <metadata>\r\n  <rdf:RDF xmlns:cc=\"http://creativecommons.org/ns#\" xmlns:dc=\"http://purl.org/dc/elements/1.1/\" xmlns:rdf=\"http://www.w3.org/1999/02/22-rdf-syntax-ns#\">\r\n   <cc:Work>\r\n    <dc:type rdf:resource=\"http://purl.org/dc/dcmitype/StillImage\"/>\r\n    <dc:date>2021-08-13T15:51:53.039061</dc:date>\r\n    <dc:format>image/svg+xml</dc:format>\r\n    <dc:creator>\r\n     <cc:Agent>\r\n      <dc:title>Matplotlib v3.4.2, https://matplotlib.org/</dc:title>\r\n     </cc:Agent>\r\n    </dc:creator>\r\n   </cc:Work>\r\n  </rdf:RDF>\r\n </metadata>\r\n <defs>\r\n  <style type=\"text/css\">*{stroke-linecap:butt;stroke-linejoin:round;}</style>\r\n </defs>\r\n <g id=\"figure_1\">\r\n  <g id=\"patch_1\">\r\n   <path d=\"M 0 277.314375 \r\nL 398.50625 277.314375 \r\nL 398.50625 0 \r\nL 0 0 \r\nz\r\n\" style=\"fill:none;\"/>\r\n  </g>\r\n  <g id=\"axes_1\">\r\n   <g id=\"patch_2\">\r\n    <path d=\"M 56.50625 239.758125 \r\nL 391.30625 239.758125 \r\nL 391.30625 22.318125 \r\nL 56.50625 22.318125 \r\nz\r\n\" style=\"fill:#ffffff;\"/>\r\n   </g>\r\n   <g id=\"patch_3\">\r\n    <path clip-path=\"url(#p8523d71614)\" d=\"M 71.724432 239.758125 \r\nL 79.528628 239.758125 \r\nL 79.528628 178.399395 \r\nL 71.724432 178.399395 \r\nz\r\n\" style=\"fill:#1f77b4;\"/>\r\n   </g>\r\n   <g id=\"patch_4\">\r\n    <path clip-path=\"url(#p8523d71614)\" d=\"M 79.528628 239.758125 \r\nL 87.332823 239.758125 \r\nL 87.332823 86.3613 \r\nL 79.528628 86.3613 \r\nz\r\n\" style=\"fill:#1f77b4;\"/>\r\n   </g>\r\n   <g id=\"patch_5\">\r\n    <path clip-path=\"url(#p8523d71614)\" d=\"M 87.332823 239.758125 \r\nL 95.137019 239.758125 \r\nL 95.137019 101.700982 \r\nL 87.332823 101.700982 \r\nz\r\n\" style=\"fill:#1f77b4;\"/>\r\n   </g>\r\n   <g id=\"patch_6\">\r\n    <path clip-path=\"url(#p8523d71614)\" d=\"M 95.137019 239.758125 \r\nL 102.941215 239.758125 \r\nL 102.941215 124.710506 \r\nL 95.137019 124.710506 \r\nz\r\n\" style=\"fill:#1f77b4;\"/>\r\n   </g>\r\n   <g id=\"patch_7\">\r\n    <path clip-path=\"url(#p8523d71614)\" d=\"M 102.941215 239.758125 \r\nL 110.745411 239.758125 \r\nL 110.745411 140.050188 \r\nL 102.941215 140.050188 \r\nz\r\n\" style=\"fill:#1f77b4;\"/>\r\n   </g>\r\n   <g id=\"patch_8\">\r\n    <path clip-path=\"url(#p8523d71614)\" d=\"M 110.745411 239.758125 \r\nL 118.549607 239.758125 \r\nL 118.549607 63.351776 \r\nL 110.745411 63.351776 \r\nz\r\n\" style=\"fill:#1f77b4;\"/>\r\n   </g>\r\n   <g id=\"patch_9\">\r\n    <path clip-path=\"url(#p8523d71614)\" d=\"M 118.549607 239.758125 \r\nL 126.353802 239.758125 \r\nL 126.353802 32.672411 \r\nL 118.549607 32.672411 \r\nz\r\n\" style=\"fill:#1f77b4;\"/>\r\n   </g>\r\n   <g id=\"patch_10\">\r\n    <path clip-path=\"url(#p8523d71614)\" d=\"M 126.353802 239.758125 \r\nL 134.157998 239.758125 \r\nL 134.157998 109.370823 \r\nL 126.353802 109.370823 \r\nz\r\n\" style=\"fill:#1f77b4;\"/>\r\n   </g>\r\n   <g id=\"patch_11\">\r\n    <path clip-path=\"url(#p8523d71614)\" d=\"M 134.157998 239.758125 \r\nL 141.962194 239.758125 \r\nL 141.962194 186.069236 \r\nL 134.157998 186.069236 \r\nz\r\n\" style=\"fill:#1f77b4;\"/>\r\n   </g>\r\n   <g id=\"patch_12\">\r\n    <path clip-path=\"url(#p8523d71614)\" d=\"M 141.962194 239.758125 \r\nL 149.76639 239.758125 \r\nL 149.76639 147.72003 \r\nL 141.962194 147.72003 \r\nz\r\n\" style=\"fill:#1f77b4;\"/>\r\n   </g>\r\n   <g id=\"patch_13\">\r\n    <path clip-path=\"url(#p8523d71614)\" d=\"M 149.76639 239.758125 \r\nL 157.570586 239.758125 \r\nL 157.570586 163.059712 \r\nL 149.76639 163.059712 \r\nz\r\n\" style=\"fill:#1f77b4;\"/>\r\n   </g>\r\n   <g id=\"patch_14\">\r\n    <path clip-path=\"url(#p8523d71614)\" d=\"M 157.570586 239.758125 \r\nL 165.374781 239.758125 \r\nL 165.374781 170.729554 \r\nL 157.570586 170.729554 \r\nz\r\n\" style=\"fill:#1f77b4;\"/>\r\n   </g>\r\n   <g id=\"patch_15\">\r\n    <path clip-path=\"url(#p8523d71614)\" d=\"M 165.374781 239.758125 \r\nL 173.178977 239.758125 \r\nL 173.178977 147.72003 \r\nL 165.374781 147.72003 \r\nz\r\n\" style=\"fill:#1f77b4;\"/>\r\n   </g>\r\n   <g id=\"patch_16\">\r\n    <path clip-path=\"url(#p8523d71614)\" d=\"M 173.178977 239.758125 \r\nL 180.983173 239.758125 \r\nL 180.983173 170.729554 \r\nL 173.178977 170.729554 \r\nz\r\n\" style=\"fill:#1f77b4;\"/>\r\n   </g>\r\n   <g id=\"patch_17\">\r\n    <path clip-path=\"url(#p8523d71614)\" d=\"M 180.983173 239.758125 \r\nL 188.787369 239.758125 \r\nL 188.787369 201.408919 \r\nL 180.983173 201.408919 \r\nz\r\n\" style=\"fill:#1f77b4;\"/>\r\n   </g>\r\n   <g id=\"patch_18\">\r\n    <path clip-path=\"url(#p8523d71614)\" d=\"M 188.787369 239.758125 \r\nL 196.591565 239.758125 \r\nL 196.591565 186.069236 \r\nL 188.787369 186.069236 \r\nz\r\n\" style=\"fill:#1f77b4;\"/>\r\n   </g>\r\n   <g id=\"patch_19\">\r\n    <path clip-path=\"url(#p8523d71614)\" d=\"M 196.591565 239.758125 \r\nL 204.39576 239.758125 \r\nL 204.39576 201.408919 \r\nL 196.591565 201.408919 \r\nz\r\n\" style=\"fill:#1f77b4;\"/>\r\n   </g>\r\n   <g id=\"patch_20\">\r\n    <path clip-path=\"url(#p8523d71614)\" d=\"M 204.39576 239.758125 \r\nL 212.199956 239.758125 \r\nL 212.199956 224.418442 \r\nL 204.39576 224.418442 \r\nz\r\n\" style=\"fill:#1f77b4;\"/>\r\n   </g>\r\n   <g id=\"patch_21\">\r\n    <path clip-path=\"url(#p8523d71614)\" d=\"M 212.199956 239.758125 \r\nL 220.004152 239.758125 \r\nL 220.004152 155.389871 \r\nL 212.199956 155.389871 \r\nz\r\n\" style=\"fill:#1f77b4;\"/>\r\n   </g>\r\n   <g id=\"patch_22\">\r\n    <path clip-path=\"url(#p8523d71614)\" d=\"M 220.004152 239.758125 \r\nL 227.808348 239.758125 \r\nL 227.808348 193.739077 \r\nL 220.004152 193.739077 \r\nz\r\n\" style=\"fill:#1f77b4;\"/>\r\n   </g>\r\n   <g id=\"patch_23\">\r\n    <path clip-path=\"url(#p8523d71614)\" d=\"M 227.808348 239.758125 \r\nL 235.612544 239.758125 \r\nL 235.612544 209.07876 \r\nL 227.808348 209.07876 \r\nz\r\n\" style=\"fill:#1f77b4;\"/>\r\n   </g>\r\n   <g id=\"patch_24\">\r\n    <path clip-path=\"url(#p8523d71614)\" d=\"M 235.612544 239.758125 \r\nL 243.41674 239.758125 \r\nL 243.41674 232.088284 \r\nL 235.612544 232.088284 \r\nz\r\n\" style=\"fill:#1f77b4;\"/>\r\n   </g>\r\n   <g id=\"patch_25\">\r\n    <path clip-path=\"url(#p8523d71614)\" d=\"M 243.41674 239.758125 \r\nL 251.220935 239.758125 \r\nL 251.220935 216.748601 \r\nL 243.41674 216.748601 \r\nz\r\n\" style=\"fill:#1f77b4;\"/>\r\n   </g>\r\n   <g id=\"patch_26\">\r\n    <path clip-path=\"url(#p8523d71614)\" d=\"M 251.220935 239.758125 \r\nL 259.025131 239.758125 \r\nL 259.025131 232.088284 \r\nL 251.220935 232.088284 \r\nz\r\n\" style=\"fill:#1f77b4;\"/>\r\n   </g>\r\n   <g id=\"patch_27\">\r\n    <path clip-path=\"url(#p8523d71614)\" d=\"M 259.025131 239.758125 \r\nL 266.829327 239.758125 \r\nL 266.829327 232.088284 \r\nL 259.025131 232.088284 \r\nz\r\n\" style=\"fill:#1f77b4;\"/>\r\n   </g>\r\n   <g id=\"patch_28\">\r\n    <path clip-path=\"url(#p8523d71614)\" d=\"M 266.829327 239.758125 \r\nL 274.633523 239.758125 \r\nL 274.633523 209.07876 \r\nL 266.829327 209.07876 \r\nz\r\n\" style=\"fill:#1f77b4;\"/>\r\n   </g>\r\n   <g id=\"patch_29\">\r\n    <path clip-path=\"url(#p8523d71614)\" d=\"M 274.633523 239.758125 \r\nL 282.437719 239.758125 \r\nL 282.437719 232.088284 \r\nL 274.633523 232.088284 \r\nz\r\n\" style=\"fill:#1f77b4;\"/>\r\n   </g>\r\n   <g id=\"patch_30\">\r\n    <path clip-path=\"url(#p8523d71614)\" d=\"M 282.437719 239.758125 \r\nL 290.241914 239.758125 \r\nL 290.241914 239.758125 \r\nL 282.437719 239.758125 \r\nz\r\n\" style=\"fill:#1f77b4;\"/>\r\n   </g>\r\n   <g id=\"patch_31\">\r\n    <path clip-path=\"url(#p8523d71614)\" d=\"M 290.241914 239.758125 \r\nL 298.04611 239.758125 \r\nL 298.04611 239.758125 \r\nL 290.241914 239.758125 \r\nz\r\n\" style=\"fill:#1f77b4;\"/>\r\n   </g>\r\n   <g id=\"patch_32\">\r\n    <path clip-path=\"url(#p8523d71614)\" d=\"M 298.04611 239.758125 \r\nL 305.850306 239.758125 \r\nL 305.850306 224.418442 \r\nL 298.04611 224.418442 \r\nz\r\n\" style=\"fill:#1f77b4;\"/>\r\n   </g>\r\n   <g id=\"patch_33\">\r\n    <path clip-path=\"url(#p8523d71614)\" d=\"M 305.850306 239.758125 \r\nL 313.654502 239.758125 \r\nL 313.654502 239.758125 \r\nL 305.850306 239.758125 \r\nz\r\n\" style=\"fill:#1f77b4;\"/>\r\n   </g>\r\n   <g id=\"patch_34\">\r\n    <path clip-path=\"url(#p8523d71614)\" d=\"M 313.654502 239.758125 \r\nL 321.458698 239.758125 \r\nL 321.458698 232.088284 \r\nL 313.654502 232.088284 \r\nz\r\n\" style=\"fill:#1f77b4;\"/>\r\n   </g>\r\n   <g id=\"patch_35\">\r\n    <path clip-path=\"url(#p8523d71614)\" d=\"M 321.458698 239.758125 \r\nL 329.262893 239.758125 \r\nL 329.262893 232.088284 \r\nL 321.458698 232.088284 \r\nz\r\n\" style=\"fill:#1f77b4;\"/>\r\n   </g>\r\n   <g id=\"patch_36\">\r\n    <path clip-path=\"url(#p8523d71614)\" d=\"M 329.262893 239.758125 \r\nL 337.067089 239.758125 \r\nL 337.067089 232.088284 \r\nL 329.262893 232.088284 \r\nz\r\n\" style=\"fill:#1f77b4;\"/>\r\n   </g>\r\n   <g id=\"patch_37\">\r\n    <path clip-path=\"url(#p8523d71614)\" d=\"M 337.067089 239.758125 \r\nL 344.871285 239.758125 \r\nL 344.871285 239.758125 \r\nL 337.067089 239.758125 \r\nz\r\n\" style=\"fill:#1f77b4;\"/>\r\n   </g>\r\n   <g id=\"patch_38\">\r\n    <path clip-path=\"url(#p8523d71614)\" d=\"M 344.871285 239.758125 \r\nL 352.675481 239.758125 \r\nL 352.675481 239.758125 \r\nL 344.871285 239.758125 \r\nz\r\n\" style=\"fill:#1f77b4;\"/>\r\n   </g>\r\n   <g id=\"patch_39\">\r\n    <path clip-path=\"url(#p8523d71614)\" d=\"M 352.675481 239.758125 \r\nL 360.479677 239.758125 \r\nL 360.479677 239.758125 \r\nL 352.675481 239.758125 \r\nz\r\n\" style=\"fill:#1f77b4;\"/>\r\n   </g>\r\n   <g id=\"patch_40\">\r\n    <path clip-path=\"url(#p8523d71614)\" d=\"M 360.479677 239.758125 \r\nL 368.283872 239.758125 \r\nL 368.283872 239.758125 \r\nL 360.479677 239.758125 \r\nz\r\n\" style=\"fill:#1f77b4;\"/>\r\n   </g>\r\n   <g id=\"patch_41\">\r\n    <path clip-path=\"url(#p8523d71614)\" d=\"M 368.283872 239.758125 \r\nL 376.088068 239.758125 \r\nL 376.088068 224.418442 \r\nL 368.283872 224.418442 \r\nz\r\n\" style=\"fill:#1f77b4;\"/>\r\n   </g>\r\n   <g id=\"patch_42\">\r\n    <path clip-path=\"url(#p8523d71614)\" d=\"M 71.724432 239.758125 \r\nL 79.528628 239.758125 \r\nL 79.528628 192.643386 \r\nL 71.724432 192.643386 \r\nz\r\n\" style=\"fill:#ff7f0e;\"/>\r\n   </g>\r\n   <g id=\"patch_43\">\r\n    <path clip-path=\"url(#p8523d71614)\" d=\"M 79.528628 239.758125 \r\nL 87.332823 239.758125 \r\nL 87.332823 114.11882 \r\nL 79.528628 114.11882 \r\nz\r\n\" style=\"fill:#ff7f0e;\"/>\r\n   </g>\r\n   <g id=\"patch_44\">\r\n    <path clip-path=\"url(#p8523d71614)\" d=\"M 87.332823 239.758125 \r\nL 95.137019 239.758125 \r\nL 95.137019 114.11882 \r\nL 87.332823 114.11882 \r\nz\r\n\" style=\"fill:#ff7f0e;\"/>\r\n   </g>\r\n   <g id=\"patch_45\">\r\n    <path clip-path=\"url(#p8523d71614)\" d=\"M 95.137019 239.758125 \r\nL 102.941215 239.758125 \r\nL 102.941215 192.643386 \r\nL 95.137019 192.643386 \r\nz\r\n\" style=\"fill:#ff7f0e;\"/>\r\n   </g>\r\n   <g id=\"patch_46\">\r\n    <path clip-path=\"url(#p8523d71614)\" d=\"M 102.941215 239.758125 \r\nL 110.745411 239.758125 \r\nL 110.745411 114.11882 \r\nL 102.941215 114.11882 \r\nz\r\n\" style=\"fill:#ff7f0e;\"/>\r\n   </g>\r\n   <g id=\"patch_47\">\r\n    <path clip-path=\"url(#p8523d71614)\" d=\"M 110.745411 239.758125 \r\nL 118.549607 239.758125 \r\nL 118.549607 114.11882 \r\nL 110.745411 114.11882 \r\nz\r\n\" style=\"fill:#ff7f0e;\"/>\r\n   </g>\r\n   <g id=\"patch_48\">\r\n    <path clip-path=\"url(#p8523d71614)\" d=\"M 118.549607 239.758125 \r\nL 126.353802 239.758125 \r\nL 126.353802 145.528647 \r\nL 118.549607 145.528647 \r\nz\r\n\" style=\"fill:#ff7f0e;\"/>\r\n   </g>\r\n   <g id=\"patch_49\">\r\n    <path clip-path=\"url(#p8523d71614)\" d=\"M 126.353802 239.758125 \r\nL 134.157998 239.758125 \r\nL 134.157998 129.823733 \r\nL 126.353802 129.823733 \r\nz\r\n\" style=\"fill:#ff7f0e;\"/>\r\n   </g>\r\n   <g id=\"patch_50\">\r\n    <path clip-path=\"url(#p8523d71614)\" d=\"M 134.157998 239.758125 \r\nL 141.962194 239.758125 \r\nL 141.962194 145.528647 \r\nL 134.157998 145.528647 \r\nz\r\n\" style=\"fill:#ff7f0e;\"/>\r\n   </g>\r\n   <g id=\"patch_51\">\r\n    <path clip-path=\"url(#p8523d71614)\" d=\"M 141.962194 239.758125 \r\nL 149.76639 239.758125 \r\nL 149.76639 161.23356 \r\nL 141.962194 161.23356 \r\nz\r\n\" style=\"fill:#ff7f0e;\"/>\r\n   </g>\r\n   <g id=\"patch_52\">\r\n    <path clip-path=\"url(#p8523d71614)\" d=\"M 149.76639 239.758125 \r\nL 157.570586 239.758125 \r\nL 157.570586 129.823733 \r\nL 149.76639 129.823733 \r\nz\r\n\" style=\"fill:#ff7f0e;\"/>\r\n   </g>\r\n   <g id=\"patch_53\">\r\n    <path clip-path=\"url(#p8523d71614)\" d=\"M 157.570586 239.758125 \r\nL 165.374781 239.758125 \r\nL 165.374781 129.823733 \r\nL 157.570586 129.823733 \r\nz\r\n\" style=\"fill:#ff7f0e;\"/>\r\n   </g>\r\n   <g id=\"patch_54\">\r\n    <path clip-path=\"url(#p8523d71614)\" d=\"M 165.374781 239.758125 \r\nL 173.178977 239.758125 \r\nL 173.178977 145.528647 \r\nL 165.374781 145.528647 \r\nz\r\n\" style=\"fill:#ff7f0e;\"/>\r\n   </g>\r\n   <g id=\"patch_55\">\r\n    <path clip-path=\"url(#p8523d71614)\" d=\"M 173.178977 239.758125 \r\nL 180.983173 239.758125 \r\nL 180.983173 192.643386 \r\nL 173.178977 192.643386 \r\nz\r\n\" style=\"fill:#ff7f0e;\"/>\r\n   </g>\r\n   <g id=\"patch_56\">\r\n    <path clip-path=\"url(#p8523d71614)\" d=\"M 180.983173 239.758125 \r\nL 188.787369 239.758125 \r\nL 188.787369 129.823733 \r\nL 180.983173 129.823733 \r\nz\r\n\" style=\"fill:#ff7f0e;\"/>\r\n   </g>\r\n   <g id=\"patch_57\">\r\n    <path clip-path=\"url(#p8523d71614)\" d=\"M 188.787369 239.758125 \r\nL 196.591565 239.758125 \r\nL 196.591565 145.528647 \r\nL 188.787369 145.528647 \r\nz\r\n\" style=\"fill:#ff7f0e;\"/>\r\n   </g>\r\n   <g id=\"patch_58\">\r\n    <path clip-path=\"url(#p8523d71614)\" d=\"M 196.591565 239.758125 \r\nL 204.39576 239.758125 \r\nL 204.39576 176.938473 \r\nL 196.591565 176.938473 \r\nz\r\n\" style=\"fill:#ff7f0e;\"/>\r\n   </g>\r\n   <g id=\"patch_59\">\r\n    <path clip-path=\"url(#p8523d71614)\" d=\"M 204.39576 239.758125 \r\nL 212.199956 239.758125 \r\nL 212.199956 176.938473 \r\nL 204.39576 176.938473 \r\nz\r\n\" style=\"fill:#ff7f0e;\"/>\r\n   </g>\r\n   <g id=\"patch_60\">\r\n    <path clip-path=\"url(#p8523d71614)\" d=\"M 212.199956 239.758125 \r\nL 220.004152 239.758125 \r\nL 220.004152 176.938473 \r\nL 212.199956 176.938473 \r\nz\r\n\" style=\"fill:#ff7f0e;\"/>\r\n   </g>\r\n   <g id=\"patch_61\">\r\n    <path clip-path=\"url(#p8523d71614)\" d=\"M 220.004152 239.758125 \r\nL 227.808348 239.758125 \r\nL 227.808348 192.643386 \r\nL 220.004152 192.643386 \r\nz\r\n\" style=\"fill:#ff7f0e;\"/>\r\n   </g>\r\n   <g id=\"patch_62\">\r\n    <path clip-path=\"url(#p8523d71614)\" d=\"M 227.808348 239.758125 \r\nL 235.612544 239.758125 \r\nL 235.612544 208.348299 \r\nL 227.808348 208.348299 \r\nz\r\n\" style=\"fill:#ff7f0e;\"/>\r\n   </g>\r\n   <g id=\"patch_63\">\r\n    <path clip-path=\"url(#p8523d71614)\" d=\"M 235.612544 239.758125 \r\nL 243.41674 239.758125 \r\nL 243.41674 239.758125 \r\nL 235.612544 239.758125 \r\nz\r\n\" style=\"fill:#ff7f0e;\"/>\r\n   </g>\r\n   <g id=\"patch_64\">\r\n    <path clip-path=\"url(#p8523d71614)\" d=\"M 243.41674 239.758125 \r\nL 251.220935 239.758125 \r\nL 251.220935 224.053212 \r\nL 243.41674 224.053212 \r\nz\r\n\" style=\"fill:#ff7f0e;\"/>\r\n   </g>\r\n   <g id=\"patch_65\">\r\n    <path clip-path=\"url(#p8523d71614)\" d=\"M 251.220935 239.758125 \r\nL 259.025131 239.758125 \r\nL 259.025131 208.348299 \r\nL 251.220935 208.348299 \r\nz\r\n\" style=\"fill:#ff7f0e;\"/>\r\n   </g>\r\n   <g id=\"patch_66\">\r\n    <path clip-path=\"url(#p8523d71614)\" d=\"M 259.025131 239.758125 \r\nL 266.829327 239.758125 \r\nL 266.829327 208.348299 \r\nL 259.025131 208.348299 \r\nz\r\n\" style=\"fill:#ff7f0e;\"/>\r\n   </g>\r\n   <g id=\"patch_67\">\r\n    <path clip-path=\"url(#p8523d71614)\" d=\"M 266.829327 239.758125 \r\nL 274.633523 239.758125 \r\nL 274.633523 224.053212 \r\nL 266.829327 224.053212 \r\nz\r\n\" style=\"fill:#ff7f0e;\"/>\r\n   </g>\r\n   <g id=\"patch_68\">\r\n    <path clip-path=\"url(#p8523d71614)\" d=\"M 274.633523 239.758125 \r\nL 282.437719 239.758125 \r\nL 282.437719 239.758125 \r\nL 274.633523 239.758125 \r\nz\r\n\" style=\"fill:#ff7f0e;\"/>\r\n   </g>\r\n   <g id=\"patch_69\">\r\n    <path clip-path=\"url(#p8523d71614)\" d=\"M 282.437719 239.758125 \r\nL 290.241914 239.758125 \r\nL 290.241914 239.758125 \r\nL 282.437719 239.758125 \r\nz\r\n\" style=\"fill:#ff7f0e;\"/>\r\n   </g>\r\n   <g id=\"patch_70\">\r\n    <path clip-path=\"url(#p8523d71614)\" d=\"M 290.241914 239.758125 \r\nL 298.04611 239.758125 \r\nL 298.04611 224.053212 \r\nL 290.241914 224.053212 \r\nz\r\n\" style=\"fill:#ff7f0e;\"/>\r\n   </g>\r\n   <g id=\"patch_71\">\r\n    <path clip-path=\"url(#p8523d71614)\" d=\"M 298.04611 239.758125 \r\nL 305.850306 239.758125 \r\nL 305.850306 239.758125 \r\nL 298.04611 239.758125 \r\nz\r\n\" style=\"fill:#ff7f0e;\"/>\r\n   </g>\r\n   <g id=\"patch_72\">\r\n    <path clip-path=\"url(#p8523d71614)\" d=\"M 305.850306 239.758125 \r\nL 313.654502 239.758125 \r\nL 313.654502 208.348299 \r\nL 305.850306 208.348299 \r\nz\r\n\" style=\"fill:#ff7f0e;\"/>\r\n   </g>\r\n   <g id=\"patch_73\">\r\n    <path clip-path=\"url(#p8523d71614)\" d=\"M 313.654502 239.758125 \r\nL 321.458698 239.758125 \r\nL 321.458698 239.758125 \r\nL 313.654502 239.758125 \r\nz\r\n\" style=\"fill:#ff7f0e;\"/>\r\n   </g>\r\n   <g id=\"patch_74\">\r\n    <path clip-path=\"url(#p8523d71614)\" d=\"M 321.458698 239.758125 \r\nL 329.262893 239.758125 \r\nL 329.262893 239.758125 \r\nL 321.458698 239.758125 \r\nz\r\n\" style=\"fill:#ff7f0e;\"/>\r\n   </g>\r\n   <g id=\"patch_75\">\r\n    <path clip-path=\"url(#p8523d71614)\" d=\"M 329.262893 239.758125 \r\nL 337.067089 239.758125 \r\nL 337.067089 239.758125 \r\nL 329.262893 239.758125 \r\nz\r\n\" style=\"fill:#ff7f0e;\"/>\r\n   </g>\r\n   <g id=\"patch_76\">\r\n    <path clip-path=\"url(#p8523d71614)\" d=\"M 337.067089 239.758125 \r\nL 344.871285 239.758125 \r\nL 344.871285 224.053212 \r\nL 337.067089 224.053212 \r\nz\r\n\" style=\"fill:#ff7f0e;\"/>\r\n   </g>\r\n   <g id=\"patch_77\">\r\n    <path clip-path=\"url(#p8523d71614)\" d=\"M 344.871285 239.758125 \r\nL 352.675481 239.758125 \r\nL 352.675481 239.758125 \r\nL 344.871285 239.758125 \r\nz\r\n\" style=\"fill:#ff7f0e;\"/>\r\n   </g>\r\n   <g id=\"patch_78\">\r\n    <path clip-path=\"url(#p8523d71614)\" d=\"M 352.675481 239.758125 \r\nL 360.479677 239.758125 \r\nL 360.479677 224.053212 \r\nL 352.675481 224.053212 \r\nz\r\n\" style=\"fill:#ff7f0e;\"/>\r\n   </g>\r\n   <g id=\"patch_79\">\r\n    <path clip-path=\"url(#p8523d71614)\" d=\"M 360.479677 239.758125 \r\nL 368.283872 239.758125 \r\nL 368.283872 239.758125 \r\nL 360.479677 239.758125 \r\nz\r\n\" style=\"fill:#ff7f0e;\"/>\r\n   </g>\r\n   <g id=\"patch_80\">\r\n    <path clip-path=\"url(#p8523d71614)\" d=\"M 368.283872 239.758125 \r\nL 376.088068 239.758125 \r\nL 376.088068 239.758125 \r\nL 368.283872 239.758125 \r\nz\r\n\" style=\"fill:#ff7f0e;\"/>\r\n   </g>\r\n   <g id=\"matplotlib.axis_1\">\r\n    <g id=\"xtick_1\">\r\n     <g id=\"line2d_1\">\r\n      <path clip-path=\"url(#p8523d71614)\" d=\"M 63.920236 239.758125 \r\nL 63.920236 22.318125 \r\n\" style=\"fill:none;stroke:#b0b0b0;stroke-linecap:square;stroke-width:0.8;\"/>\r\n     </g>\r\n     <g id=\"line2d_2\">\r\n      <defs>\r\n       <path d=\"M 0 0 \r\nL 0 3.5 \r\n\" id=\"m65dbfa863d\" style=\"stroke:#000000;stroke-width:0.8;\"/>\r\n      </defs>\r\n      <g>\r\n       <use style=\"stroke:#000000;stroke-width:0.8;\" x=\"63.920236\" xlink:href=\"#m65dbfa863d\" y=\"239.758125\"/>\r\n      </g>\r\n     </g>\r\n     <g id=\"text_1\">\r\n      <!-- 0 -->\r\n      <g transform=\"translate(60.738986 254.356562)scale(0.1 -0.1)\">\r\n       <defs>\r\n        <path d=\"M 2034 4250 \r\nQ 1547 4250 1301 3770 \r\nQ 1056 3291 1056 2328 \r\nQ 1056 1369 1301 889 \r\nQ 1547 409 2034 409 \r\nQ 2525 409 2770 889 \r\nQ 3016 1369 3016 2328 \r\nQ 3016 3291 2770 3770 \r\nQ 2525 4250 2034 4250 \r\nz\r\nM 2034 4750 \r\nQ 2819 4750 3233 4129 \r\nQ 3647 3509 3647 2328 \r\nQ 3647 1150 3233 529 \r\nQ 2819 -91 2034 -91 \r\nQ 1250 -91 836 529 \r\nQ 422 1150 422 2328 \r\nQ 422 3509 836 4129 \r\nQ 1250 4750 2034 4750 \r\nz\r\n\" id=\"DejaVuSans-30\" transform=\"scale(0.015625)\"/>\r\n       </defs>\r\n       <use xlink:href=\"#DejaVuSans-30\"/>\r\n      </g>\r\n     </g>\r\n    </g>\r\n    <g id=\"xtick_2\">\r\n     <g id=\"line2d_3\">\r\n      <path clip-path=\"url(#p8523d71614)\" d=\"M 102.941215 239.758125 \r\nL 102.941215 22.318125 \r\n\" style=\"fill:none;stroke:#b0b0b0;stroke-linecap:square;stroke-width:0.8;\"/>\r\n     </g>\r\n     <g id=\"line2d_4\">\r\n      <g>\r\n       <use style=\"stroke:#000000;stroke-width:0.8;\" x=\"102.941215\" xlink:href=\"#m65dbfa863d\" y=\"239.758125\"/>\r\n      </g>\r\n     </g>\r\n     <g id=\"text_2\">\r\n      <!-- 20 -->\r\n      <g transform=\"translate(96.578715 254.356562)scale(0.1 -0.1)\">\r\n       <defs>\r\n        <path d=\"M 1228 531 \r\nL 3431 531 \r\nL 3431 0 \r\nL 469 0 \r\nL 469 531 \r\nQ 828 903 1448 1529 \r\nQ 2069 2156 2228 2338 \r\nQ 2531 2678 2651 2914 \r\nQ 2772 3150 2772 3378 \r\nQ 2772 3750 2511 3984 \r\nQ 2250 4219 1831 4219 \r\nQ 1534 4219 1204 4116 \r\nQ 875 4013 500 3803 \r\nL 500 4441 \r\nQ 881 4594 1212 4672 \r\nQ 1544 4750 1819 4750 \r\nQ 2544 4750 2975 4387 \r\nQ 3406 4025 3406 3419 \r\nQ 3406 3131 3298 2873 \r\nQ 3191 2616 2906 2266 \r\nQ 2828 2175 2409 1742 \r\nQ 1991 1309 1228 531 \r\nz\r\n\" id=\"DejaVuSans-32\" transform=\"scale(0.015625)\"/>\r\n       </defs>\r\n       <use xlink:href=\"#DejaVuSans-32\"/>\r\n       <use x=\"63.623047\" xlink:href=\"#DejaVuSans-30\"/>\r\n      </g>\r\n     </g>\r\n    </g>\r\n    <g id=\"xtick_3\">\r\n     <g id=\"line2d_5\">\r\n      <path clip-path=\"url(#p8523d71614)\" d=\"M 141.962194 239.758125 \r\nL 141.962194 22.318125 \r\n\" style=\"fill:none;stroke:#b0b0b0;stroke-linecap:square;stroke-width:0.8;\"/>\r\n     </g>\r\n     <g id=\"line2d_6\">\r\n      <g>\r\n       <use style=\"stroke:#000000;stroke-width:0.8;\" x=\"141.962194\" xlink:href=\"#m65dbfa863d\" y=\"239.758125\"/>\r\n      </g>\r\n     </g>\r\n     <g id=\"text_3\">\r\n      <!-- 40 -->\r\n      <g transform=\"translate(135.599694 254.356562)scale(0.1 -0.1)\">\r\n       <defs>\r\n        <path d=\"M 2419 4116 \r\nL 825 1625 \r\nL 2419 1625 \r\nL 2419 4116 \r\nz\r\nM 2253 4666 \r\nL 3047 4666 \r\nL 3047 1625 \r\nL 3713 1625 \r\nL 3713 1100 \r\nL 3047 1100 \r\nL 3047 0 \r\nL 2419 0 \r\nL 2419 1100 \r\nL 313 1100 \r\nL 313 1709 \r\nL 2253 4666 \r\nz\r\n\" id=\"DejaVuSans-34\" transform=\"scale(0.015625)\"/>\r\n       </defs>\r\n       <use xlink:href=\"#DejaVuSans-34\"/>\r\n       <use x=\"63.623047\" xlink:href=\"#DejaVuSans-30\"/>\r\n      </g>\r\n     </g>\r\n    </g>\r\n    <g id=\"xtick_4\">\r\n     <g id=\"line2d_7\">\r\n      <path clip-path=\"url(#p8523d71614)\" d=\"M 180.983173 239.758125 \r\nL 180.983173 22.318125 \r\n\" style=\"fill:none;stroke:#b0b0b0;stroke-linecap:square;stroke-width:0.8;\"/>\r\n     </g>\r\n     <g id=\"line2d_8\">\r\n      <g>\r\n       <use style=\"stroke:#000000;stroke-width:0.8;\" x=\"180.983173\" xlink:href=\"#m65dbfa863d\" y=\"239.758125\"/>\r\n      </g>\r\n     </g>\r\n     <g id=\"text_4\">\r\n      <!-- 60 -->\r\n      <g transform=\"translate(174.620673 254.356562)scale(0.1 -0.1)\">\r\n       <defs>\r\n        <path d=\"M 2113 2584 \r\nQ 1688 2584 1439 2293 \r\nQ 1191 2003 1191 1497 \r\nQ 1191 994 1439 701 \r\nQ 1688 409 2113 409 \r\nQ 2538 409 2786 701 \r\nQ 3034 994 3034 1497 \r\nQ 3034 2003 2786 2293 \r\nQ 2538 2584 2113 2584 \r\nz\r\nM 3366 4563 \r\nL 3366 3988 \r\nQ 3128 4100 2886 4159 \r\nQ 2644 4219 2406 4219 \r\nQ 1781 4219 1451 3797 \r\nQ 1122 3375 1075 2522 \r\nQ 1259 2794 1537 2939 \r\nQ 1816 3084 2150 3084 \r\nQ 2853 3084 3261 2657 \r\nQ 3669 2231 3669 1497 \r\nQ 3669 778 3244 343 \r\nQ 2819 -91 2113 -91 \r\nQ 1303 -91 875 529 \r\nQ 447 1150 447 2328 \r\nQ 447 3434 972 4092 \r\nQ 1497 4750 2381 4750 \r\nQ 2619 4750 2861 4703 \r\nQ 3103 4656 3366 4563 \r\nz\r\n\" id=\"DejaVuSans-36\" transform=\"scale(0.015625)\"/>\r\n       </defs>\r\n       <use xlink:href=\"#DejaVuSans-36\"/>\r\n       <use x=\"63.623047\" xlink:href=\"#DejaVuSans-30\"/>\r\n      </g>\r\n     </g>\r\n    </g>\r\n    <g id=\"xtick_5\">\r\n     <g id=\"line2d_9\">\r\n      <path clip-path=\"url(#p8523d71614)\" d=\"M 220.004152 239.758125 \r\nL 220.004152 22.318125 \r\n\" style=\"fill:none;stroke:#b0b0b0;stroke-linecap:square;stroke-width:0.8;\"/>\r\n     </g>\r\n     <g id=\"line2d_10\">\r\n      <g>\r\n       <use style=\"stroke:#000000;stroke-width:0.8;\" x=\"220.004152\" xlink:href=\"#m65dbfa863d\" y=\"239.758125\"/>\r\n      </g>\r\n     </g>\r\n     <g id=\"text_5\">\r\n      <!-- 80 -->\r\n      <g transform=\"translate(213.641652 254.356562)scale(0.1 -0.1)\">\r\n       <defs>\r\n        <path d=\"M 2034 2216 \r\nQ 1584 2216 1326 1975 \r\nQ 1069 1734 1069 1313 \r\nQ 1069 891 1326 650 \r\nQ 1584 409 2034 409 \r\nQ 2484 409 2743 651 \r\nQ 3003 894 3003 1313 \r\nQ 3003 1734 2745 1975 \r\nQ 2488 2216 2034 2216 \r\nz\r\nM 1403 2484 \r\nQ 997 2584 770 2862 \r\nQ 544 3141 544 3541 \r\nQ 544 4100 942 4425 \r\nQ 1341 4750 2034 4750 \r\nQ 2731 4750 3128 4425 \r\nQ 3525 4100 3525 3541 \r\nQ 3525 3141 3298 2862 \r\nQ 3072 2584 2669 2484 \r\nQ 3125 2378 3379 2068 \r\nQ 3634 1759 3634 1313 \r\nQ 3634 634 3220 271 \r\nQ 2806 -91 2034 -91 \r\nQ 1263 -91 848 271 \r\nQ 434 634 434 1313 \r\nQ 434 1759 690 2068 \r\nQ 947 2378 1403 2484 \r\nz\r\nM 1172 3481 \r\nQ 1172 3119 1398 2916 \r\nQ 1625 2713 2034 2713 \r\nQ 2441 2713 2670 2916 \r\nQ 2900 3119 2900 3481 \r\nQ 2900 3844 2670 4047 \r\nQ 2441 4250 2034 4250 \r\nQ 1625 4250 1398 4047 \r\nQ 1172 3844 1172 3481 \r\nz\r\n\" id=\"DejaVuSans-38\" transform=\"scale(0.015625)\"/>\r\n       </defs>\r\n       <use xlink:href=\"#DejaVuSans-38\"/>\r\n       <use x=\"63.623047\" xlink:href=\"#DejaVuSans-30\"/>\r\n      </g>\r\n     </g>\r\n    </g>\r\n    <g id=\"xtick_6\">\r\n     <g id=\"line2d_11\">\r\n      <path clip-path=\"url(#p8523d71614)\" d=\"M 259.025131 239.758125 \r\nL 259.025131 22.318125 \r\n\" style=\"fill:none;stroke:#b0b0b0;stroke-linecap:square;stroke-width:0.8;\"/>\r\n     </g>\r\n     <g id=\"line2d_12\">\r\n      <g>\r\n       <use style=\"stroke:#000000;stroke-width:0.8;\" x=\"259.025131\" xlink:href=\"#m65dbfa863d\" y=\"239.758125\"/>\r\n      </g>\r\n     </g>\r\n     <g id=\"text_6\">\r\n      <!-- 100 -->\r\n      <g transform=\"translate(249.481381 254.356562)scale(0.1 -0.1)\">\r\n       <defs>\r\n        <path d=\"M 794 531 \r\nL 1825 531 \r\nL 1825 4091 \r\nL 703 3866 \r\nL 703 4441 \r\nL 1819 4666 \r\nL 2450 4666 \r\nL 2450 531 \r\nL 3481 531 \r\nL 3481 0 \r\nL 794 0 \r\nL 794 531 \r\nz\r\n\" id=\"DejaVuSans-31\" transform=\"scale(0.015625)\"/>\r\n       </defs>\r\n       <use xlink:href=\"#DejaVuSans-31\"/>\r\n       <use x=\"63.623047\" xlink:href=\"#DejaVuSans-30\"/>\r\n       <use x=\"127.246094\" xlink:href=\"#DejaVuSans-30\"/>\r\n      </g>\r\n     </g>\r\n    </g>\r\n    <g id=\"xtick_7\">\r\n     <g id=\"line2d_13\">\r\n      <path clip-path=\"url(#p8523d71614)\" d=\"M 298.04611 239.758125 \r\nL 298.04611 22.318125 \r\n\" style=\"fill:none;stroke:#b0b0b0;stroke-linecap:square;stroke-width:0.8;\"/>\r\n     </g>\r\n     <g id=\"line2d_14\">\r\n      <g>\r\n       <use style=\"stroke:#000000;stroke-width:0.8;\" x=\"298.04611\" xlink:href=\"#m65dbfa863d\" y=\"239.758125\"/>\r\n      </g>\r\n     </g>\r\n     <g id=\"text_7\">\r\n      <!-- 120 -->\r\n      <g transform=\"translate(288.50236 254.356562)scale(0.1 -0.1)\">\r\n       <use xlink:href=\"#DejaVuSans-31\"/>\r\n       <use x=\"63.623047\" xlink:href=\"#DejaVuSans-32\"/>\r\n       <use x=\"127.246094\" xlink:href=\"#DejaVuSans-30\"/>\r\n      </g>\r\n     </g>\r\n    </g>\r\n    <g id=\"xtick_8\">\r\n     <g id=\"line2d_15\">\r\n      <path clip-path=\"url(#p8523d71614)\" d=\"M 337.067089 239.758125 \r\nL 337.067089 22.318125 \r\n\" style=\"fill:none;stroke:#b0b0b0;stroke-linecap:square;stroke-width:0.8;\"/>\r\n     </g>\r\n     <g id=\"line2d_16\">\r\n      <g>\r\n       <use style=\"stroke:#000000;stroke-width:0.8;\" x=\"337.067089\" xlink:href=\"#m65dbfa863d\" y=\"239.758125\"/>\r\n      </g>\r\n     </g>\r\n     <g id=\"text_8\">\r\n      <!-- 140 -->\r\n      <g transform=\"translate(327.523339 254.356562)scale(0.1 -0.1)\">\r\n       <use xlink:href=\"#DejaVuSans-31\"/>\r\n       <use x=\"63.623047\" xlink:href=\"#DejaVuSans-34\"/>\r\n       <use x=\"127.246094\" xlink:href=\"#DejaVuSans-30\"/>\r\n      </g>\r\n     </g>\r\n    </g>\r\n    <g id=\"xtick_9\">\r\n     <g id=\"line2d_17\">\r\n      <path clip-path=\"url(#p8523d71614)\" d=\"M 376.088068 239.758125 \r\nL 376.088068 22.318125 \r\n\" style=\"fill:none;stroke:#b0b0b0;stroke-linecap:square;stroke-width:0.8;\"/>\r\n     </g>\r\n     <g id=\"line2d_18\">\r\n      <g>\r\n       <use style=\"stroke:#000000;stroke-width:0.8;\" x=\"376.088068\" xlink:href=\"#m65dbfa863d\" y=\"239.758125\"/>\r\n      </g>\r\n     </g>\r\n     <g id=\"text_9\">\r\n      <!-- 160 -->\r\n      <g transform=\"translate(366.544318 254.356562)scale(0.1 -0.1)\">\r\n       <use xlink:href=\"#DejaVuSans-31\"/>\r\n       <use x=\"63.623047\" xlink:href=\"#DejaVuSans-36\"/>\r\n       <use x=\"127.246094\" xlink:href=\"#DejaVuSans-30\"/>\r\n      </g>\r\n     </g>\r\n    </g>\r\n    <g id=\"text_10\">\r\n     <!-- Messages per month -->\r\n     <g transform=\"translate(171.675 268.034687)scale(0.1 -0.1)\">\r\n      <defs>\r\n       <path d=\"M 628 4666 \r\nL 1569 4666 \r\nL 2759 1491 \r\nL 3956 4666 \r\nL 4897 4666 \r\nL 4897 0 \r\nL 4281 0 \r\nL 4281 4097 \r\nL 3078 897 \r\nL 2444 897 \r\nL 1241 4097 \r\nL 1241 0 \r\nL 628 0 \r\nL 628 4666 \r\nz\r\n\" id=\"DejaVuSans-4d\" transform=\"scale(0.015625)\"/>\r\n       <path d=\"M 3597 1894 \r\nL 3597 1613 \r\nL 953 1613 \r\nQ 991 1019 1311 708 \r\nQ 1631 397 2203 397 \r\nQ 2534 397 2845 478 \r\nQ 3156 559 3463 722 \r\nL 3463 178 \r\nQ 3153 47 2828 -22 \r\nQ 2503 -91 2169 -91 \r\nQ 1331 -91 842 396 \r\nQ 353 884 353 1716 \r\nQ 353 2575 817 3079 \r\nQ 1281 3584 2069 3584 \r\nQ 2775 3584 3186 3129 \r\nQ 3597 2675 3597 1894 \r\nz\r\nM 3022 2063 \r\nQ 3016 2534 2758 2815 \r\nQ 2500 3097 2075 3097 \r\nQ 1594 3097 1305 2825 \r\nQ 1016 2553 972 2059 \r\nL 3022 2063 \r\nz\r\n\" id=\"DejaVuSans-65\" transform=\"scale(0.015625)\"/>\r\n       <path d=\"M 2834 3397 \r\nL 2834 2853 \r\nQ 2591 2978 2328 3040 \r\nQ 2066 3103 1784 3103 \r\nQ 1356 3103 1142 2972 \r\nQ 928 2841 928 2578 \r\nQ 928 2378 1081 2264 \r\nQ 1234 2150 1697 2047 \r\nL 1894 2003 \r\nQ 2506 1872 2764 1633 \r\nQ 3022 1394 3022 966 \r\nQ 3022 478 2636 193 \r\nQ 2250 -91 1575 -91 \r\nQ 1294 -91 989 -36 \r\nQ 684 19 347 128 \r\nL 347 722 \r\nQ 666 556 975 473 \r\nQ 1284 391 1588 391 \r\nQ 1994 391 2212 530 \r\nQ 2431 669 2431 922 \r\nQ 2431 1156 2273 1281 \r\nQ 2116 1406 1581 1522 \r\nL 1381 1569 \r\nQ 847 1681 609 1914 \r\nQ 372 2147 372 2553 \r\nQ 372 3047 722 3315 \r\nQ 1072 3584 1716 3584 \r\nQ 2034 3584 2315 3537 \r\nQ 2597 3491 2834 3397 \r\nz\r\n\" id=\"DejaVuSans-73\" transform=\"scale(0.015625)\"/>\r\n       <path d=\"M 2194 1759 \r\nQ 1497 1759 1228 1600 \r\nQ 959 1441 959 1056 \r\nQ 959 750 1161 570 \r\nQ 1363 391 1709 391 \r\nQ 2188 391 2477 730 \r\nQ 2766 1069 2766 1631 \r\nL 2766 1759 \r\nL 2194 1759 \r\nz\r\nM 3341 1997 \r\nL 3341 0 \r\nL 2766 0 \r\nL 2766 531 \r\nQ 2569 213 2275 61 \r\nQ 1981 -91 1556 -91 \r\nQ 1019 -91 701 211 \r\nQ 384 513 384 1019 \r\nQ 384 1609 779 1909 \r\nQ 1175 2209 1959 2209 \r\nL 2766 2209 \r\nL 2766 2266 \r\nQ 2766 2663 2505 2880 \r\nQ 2244 3097 1772 3097 \r\nQ 1472 3097 1187 3025 \r\nQ 903 2953 641 2809 \r\nL 641 3341 \r\nQ 956 3463 1253 3523 \r\nQ 1550 3584 1831 3584 \r\nQ 2591 3584 2966 3190 \r\nQ 3341 2797 3341 1997 \r\nz\r\n\" id=\"DejaVuSans-61\" transform=\"scale(0.015625)\"/>\r\n       <path d=\"M 2906 1791 \r\nQ 2906 2416 2648 2759 \r\nQ 2391 3103 1925 3103 \r\nQ 1463 3103 1205 2759 \r\nQ 947 2416 947 1791 \r\nQ 947 1169 1205 825 \r\nQ 1463 481 1925 481 \r\nQ 2391 481 2648 825 \r\nQ 2906 1169 2906 1791 \r\nz\r\nM 3481 434 \r\nQ 3481 -459 3084 -895 \r\nQ 2688 -1331 1869 -1331 \r\nQ 1566 -1331 1297 -1286 \r\nQ 1028 -1241 775 -1147 \r\nL 775 -588 \r\nQ 1028 -725 1275 -790 \r\nQ 1522 -856 1778 -856 \r\nQ 2344 -856 2625 -561 \r\nQ 2906 -266 2906 331 \r\nL 2906 616 \r\nQ 2728 306 2450 153 \r\nQ 2172 0 1784 0 \r\nQ 1141 0 747 490 \r\nQ 353 981 353 1791 \r\nQ 353 2603 747 3093 \r\nQ 1141 3584 1784 3584 \r\nQ 2172 3584 2450 3431 \r\nQ 2728 3278 2906 2969 \r\nL 2906 3500 \r\nL 3481 3500 \r\nL 3481 434 \r\nz\r\n\" id=\"DejaVuSans-67\" transform=\"scale(0.015625)\"/>\r\n       <path id=\"DejaVuSans-20\" transform=\"scale(0.015625)\"/>\r\n       <path d=\"M 1159 525 \r\nL 1159 -1331 \r\nL 581 -1331 \r\nL 581 3500 \r\nL 1159 3500 \r\nL 1159 2969 \r\nQ 1341 3281 1617 3432 \r\nQ 1894 3584 2278 3584 \r\nQ 2916 3584 3314 3078 \r\nQ 3713 2572 3713 1747 \r\nQ 3713 922 3314 415 \r\nQ 2916 -91 2278 -91 \r\nQ 1894 -91 1617 61 \r\nQ 1341 213 1159 525 \r\nz\r\nM 3116 1747 \r\nQ 3116 2381 2855 2742 \r\nQ 2594 3103 2138 3103 \r\nQ 1681 3103 1420 2742 \r\nQ 1159 2381 1159 1747 \r\nQ 1159 1113 1420 752 \r\nQ 1681 391 2138 391 \r\nQ 2594 391 2855 752 \r\nQ 3116 1113 3116 1747 \r\nz\r\n\" id=\"DejaVuSans-70\" transform=\"scale(0.015625)\"/>\r\n       <path d=\"M 2631 2963 \r\nQ 2534 3019 2420 3045 \r\nQ 2306 3072 2169 3072 \r\nQ 1681 3072 1420 2755 \r\nQ 1159 2438 1159 1844 \r\nL 1159 0 \r\nL 581 0 \r\nL 581 3500 \r\nL 1159 3500 \r\nL 1159 2956 \r\nQ 1341 3275 1631 3429 \r\nQ 1922 3584 2338 3584 \r\nQ 2397 3584 2469 3576 \r\nQ 2541 3569 2628 3553 \r\nL 2631 2963 \r\nz\r\n\" id=\"DejaVuSans-72\" transform=\"scale(0.015625)\"/>\r\n       <path d=\"M 3328 2828 \r\nQ 3544 3216 3844 3400 \r\nQ 4144 3584 4550 3584 \r\nQ 5097 3584 5394 3201 \r\nQ 5691 2819 5691 2113 \r\nL 5691 0 \r\nL 5113 0 \r\nL 5113 2094 \r\nQ 5113 2597 4934 2840 \r\nQ 4756 3084 4391 3084 \r\nQ 3944 3084 3684 2787 \r\nQ 3425 2491 3425 1978 \r\nL 3425 0 \r\nL 2847 0 \r\nL 2847 2094 \r\nQ 2847 2600 2669 2842 \r\nQ 2491 3084 2119 3084 \r\nQ 1678 3084 1418 2786 \r\nQ 1159 2488 1159 1978 \r\nL 1159 0 \r\nL 581 0 \r\nL 581 3500 \r\nL 1159 3500 \r\nL 1159 2956 \r\nQ 1356 3278 1631 3431 \r\nQ 1906 3584 2284 3584 \r\nQ 2666 3584 2933 3390 \r\nQ 3200 3197 3328 2828 \r\nz\r\n\" id=\"DejaVuSans-6d\" transform=\"scale(0.015625)\"/>\r\n       <path d=\"M 1959 3097 \r\nQ 1497 3097 1228 2736 \r\nQ 959 2375 959 1747 \r\nQ 959 1119 1226 758 \r\nQ 1494 397 1959 397 \r\nQ 2419 397 2687 759 \r\nQ 2956 1122 2956 1747 \r\nQ 2956 2369 2687 2733 \r\nQ 2419 3097 1959 3097 \r\nz\r\nM 1959 3584 \r\nQ 2709 3584 3137 3096 \r\nQ 3566 2609 3566 1747 \r\nQ 3566 888 3137 398 \r\nQ 2709 -91 1959 -91 \r\nQ 1206 -91 779 398 \r\nQ 353 888 353 1747 \r\nQ 353 2609 779 3096 \r\nQ 1206 3584 1959 3584 \r\nz\r\n\" id=\"DejaVuSans-6f\" transform=\"scale(0.015625)\"/>\r\n       <path d=\"M 3513 2113 \r\nL 3513 0 \r\nL 2938 0 \r\nL 2938 2094 \r\nQ 2938 2591 2744 2837 \r\nQ 2550 3084 2163 3084 \r\nQ 1697 3084 1428 2787 \r\nQ 1159 2491 1159 1978 \r\nL 1159 0 \r\nL 581 0 \r\nL 581 3500 \r\nL 1159 3500 \r\nL 1159 2956 \r\nQ 1366 3272 1645 3428 \r\nQ 1925 3584 2291 3584 \r\nQ 2894 3584 3203 3211 \r\nQ 3513 2838 3513 2113 \r\nz\r\n\" id=\"DejaVuSans-6e\" transform=\"scale(0.015625)\"/>\r\n       <path d=\"M 1172 4494 \r\nL 1172 3500 \r\nL 2356 3500 \r\nL 2356 3053 \r\nL 1172 3053 \r\nL 1172 1153 \r\nQ 1172 725 1289 603 \r\nQ 1406 481 1766 481 \r\nL 2356 481 \r\nL 2356 0 \r\nL 1766 0 \r\nQ 1100 0 847 248 \r\nQ 594 497 594 1153 \r\nL 594 3053 \r\nL 172 3053 \r\nL 172 3500 \r\nL 594 3500 \r\nL 594 4494 \r\nL 1172 4494 \r\nz\r\n\" id=\"DejaVuSans-74\" transform=\"scale(0.015625)\"/>\r\n       <path d=\"M 3513 2113 \r\nL 3513 0 \r\nL 2938 0 \r\nL 2938 2094 \r\nQ 2938 2591 2744 2837 \r\nQ 2550 3084 2163 3084 \r\nQ 1697 3084 1428 2787 \r\nQ 1159 2491 1159 1978 \r\nL 1159 0 \r\nL 581 0 \r\nL 581 4863 \r\nL 1159 4863 \r\nL 1159 2956 \r\nQ 1366 3272 1645 3428 \r\nQ 1925 3584 2291 3584 \r\nQ 2894 3584 3203 3211 \r\nQ 3513 2838 3513 2113 \r\nz\r\n\" id=\"DejaVuSans-68\" transform=\"scale(0.015625)\"/>\r\n      </defs>\r\n      <use xlink:href=\"#DejaVuSans-4d\"/>\r\n      <use x=\"86.279297\" xlink:href=\"#DejaVuSans-65\"/>\r\n      <use x=\"147.802734\" xlink:href=\"#DejaVuSans-73\"/>\r\n      <use x=\"199.902344\" xlink:href=\"#DejaVuSans-73\"/>\r\n      <use x=\"252.001953\" xlink:href=\"#DejaVuSans-61\"/>\r\n      <use x=\"313.28125\" xlink:href=\"#DejaVuSans-67\"/>\r\n      <use x=\"376.757812\" xlink:href=\"#DejaVuSans-65\"/>\r\n      <use x=\"438.28125\" xlink:href=\"#DejaVuSans-73\"/>\r\n      <use x=\"490.380859\" xlink:href=\"#DejaVuSans-20\"/>\r\n      <use x=\"522.167969\" xlink:href=\"#DejaVuSans-70\"/>\r\n      <use x=\"585.644531\" xlink:href=\"#DejaVuSans-65\"/>\r\n      <use x=\"647.167969\" xlink:href=\"#DejaVuSans-72\"/>\r\n      <use x=\"688.28125\" xlink:href=\"#DejaVuSans-20\"/>\r\n      <use x=\"720.068359\" xlink:href=\"#DejaVuSans-6d\"/>\r\n      <use x=\"817.480469\" xlink:href=\"#DejaVuSans-6f\"/>\r\n      <use x=\"878.662109\" xlink:href=\"#DejaVuSans-6e\"/>\r\n      <use x=\"942.041016\" xlink:href=\"#DejaVuSans-74\"/>\r\n      <use x=\"981.25\" xlink:href=\"#DejaVuSans-68\"/>\r\n     </g>\r\n    </g>\r\n   </g>\r\n   <g id=\"matplotlib.axis_2\">\r\n    <g id=\"ytick_1\">\r\n     <g id=\"line2d_19\">\r\n      <path clip-path=\"url(#p8523d71614)\" d=\"M 56.50625 239.758125 \r\nL 391.30625 239.758125 \r\n\" style=\"fill:none;stroke:#b0b0b0;stroke-linecap:square;stroke-width:0.8;\"/>\r\n     </g>\r\n     <g id=\"line2d_20\">\r\n      <defs>\r\n       <path d=\"M 0 0 \r\nL -3.5 0 \r\n\" id=\"m15e1f5a2ba\" style=\"stroke:#000000;stroke-width:0.8;\"/>\r\n      </defs>\r\n      <g>\r\n       <use style=\"stroke:#000000;stroke-width:0.8;\" x=\"56.50625\" xlink:href=\"#m15e1f5a2ba\" y=\"239.758125\"/>\r\n      </g>\r\n     </g>\r\n     <g id=\"text_11\">\r\n      <!-- 0.000 -->\r\n      <g transform=\"translate(20.878125 243.557344)scale(0.1 -0.1)\">\r\n       <defs>\r\n        <path d=\"M 684 794 \r\nL 1344 794 \r\nL 1344 0 \r\nL 684 0 \r\nL 684 794 \r\nz\r\n\" id=\"DejaVuSans-2e\" transform=\"scale(0.015625)\"/>\r\n       </defs>\r\n       <use xlink:href=\"#DejaVuSans-30\"/>\r\n       <use x=\"63.623047\" xlink:href=\"#DejaVuSans-2e\"/>\r\n       <use x=\"95.410156\" xlink:href=\"#DejaVuSans-30\"/>\r\n       <use x=\"159.033203\" xlink:href=\"#DejaVuSans-30\"/>\r\n       <use x=\"222.65625\" xlink:href=\"#DejaVuSans-30\"/>\r\n      </g>\r\n     </g>\r\n    </g>\r\n    <g id=\"ytick_2\">\r\n     <g id=\"line2d_21\">\r\n      <path clip-path=\"url(#p8523d71614)\" d=\"M 56.50625 200.181744 \r\nL 391.30625 200.181744 \r\n\" style=\"fill:none;stroke:#b0b0b0;stroke-linecap:square;stroke-width:0.8;\"/>\r\n     </g>\r\n     <g id=\"line2d_22\">\r\n      <g>\r\n       <use style=\"stroke:#000000;stroke-width:0.8;\" x=\"56.50625\" xlink:href=\"#m15e1f5a2ba\" y=\"200.181744\"/>\r\n      </g>\r\n     </g>\r\n     <g id=\"text_12\">\r\n      <!-- 0.005 -->\r\n      <g transform=\"translate(20.878125 203.980963)scale(0.1 -0.1)\">\r\n       <defs>\r\n        <path d=\"M 691 4666 \r\nL 3169 4666 \r\nL 3169 4134 \r\nL 1269 4134 \r\nL 1269 2991 \r\nQ 1406 3038 1543 3061 \r\nQ 1681 3084 1819 3084 \r\nQ 2600 3084 3056 2656 \r\nQ 3513 2228 3513 1497 \r\nQ 3513 744 3044 326 \r\nQ 2575 -91 1722 -91 \r\nQ 1428 -91 1123 -41 \r\nQ 819 9 494 109 \r\nL 494 744 \r\nQ 775 591 1075 516 \r\nQ 1375 441 1709 441 \r\nQ 2250 441 2565 725 \r\nQ 2881 1009 2881 1497 \r\nQ 2881 1984 2565 2268 \r\nQ 2250 2553 1709 2553 \r\nQ 1456 2553 1204 2497 \r\nQ 953 2441 691 2322 \r\nL 691 4666 \r\nz\r\n\" id=\"DejaVuSans-35\" transform=\"scale(0.015625)\"/>\r\n       </defs>\r\n       <use xlink:href=\"#DejaVuSans-30\"/>\r\n       <use x=\"63.623047\" xlink:href=\"#DejaVuSans-2e\"/>\r\n       <use x=\"95.410156\" xlink:href=\"#DejaVuSans-30\"/>\r\n       <use x=\"159.033203\" xlink:href=\"#DejaVuSans-30\"/>\r\n       <use x=\"222.65625\" xlink:href=\"#DejaVuSans-35\"/>\r\n      </g>\r\n     </g>\r\n    </g>\r\n    <g id=\"ytick_3\">\r\n     <g id=\"line2d_23\">\r\n      <path clip-path=\"url(#p8523d71614)\" d=\"M 56.50625 160.605363 \r\nL 391.30625 160.605363 \r\n\" style=\"fill:none;stroke:#b0b0b0;stroke-linecap:square;stroke-width:0.8;\"/>\r\n     </g>\r\n     <g id=\"line2d_24\">\r\n      <g>\r\n       <use style=\"stroke:#000000;stroke-width:0.8;\" x=\"56.50625\" xlink:href=\"#m15e1f5a2ba\" y=\"160.605363\"/>\r\n      </g>\r\n     </g>\r\n     <g id=\"text_13\">\r\n      <!-- 0.010 -->\r\n      <g transform=\"translate(20.878125 164.404582)scale(0.1 -0.1)\">\r\n       <use xlink:href=\"#DejaVuSans-30\"/>\r\n       <use x=\"63.623047\" xlink:href=\"#DejaVuSans-2e\"/>\r\n       <use x=\"95.410156\" xlink:href=\"#DejaVuSans-30\"/>\r\n       <use x=\"159.033203\" xlink:href=\"#DejaVuSans-31\"/>\r\n       <use x=\"222.65625\" xlink:href=\"#DejaVuSans-30\"/>\r\n      </g>\r\n     </g>\r\n    </g>\r\n    <g id=\"ytick_4\">\r\n     <g id=\"line2d_25\">\r\n      <path clip-path=\"url(#p8523d71614)\" d=\"M 56.50625 121.028982 \r\nL 391.30625 121.028982 \r\n\" style=\"fill:none;stroke:#b0b0b0;stroke-linecap:square;stroke-width:0.8;\"/>\r\n     </g>\r\n     <g id=\"line2d_26\">\r\n      <g>\r\n       <use style=\"stroke:#000000;stroke-width:0.8;\" x=\"56.50625\" xlink:href=\"#m15e1f5a2ba\" y=\"121.028982\"/>\r\n      </g>\r\n     </g>\r\n     <g id=\"text_14\">\r\n      <!-- 0.015 -->\r\n      <g transform=\"translate(20.878125 124.828201)scale(0.1 -0.1)\">\r\n       <use xlink:href=\"#DejaVuSans-30\"/>\r\n       <use x=\"63.623047\" xlink:href=\"#DejaVuSans-2e\"/>\r\n       <use x=\"95.410156\" xlink:href=\"#DejaVuSans-30\"/>\r\n       <use x=\"159.033203\" xlink:href=\"#DejaVuSans-31\"/>\r\n       <use x=\"222.65625\" xlink:href=\"#DejaVuSans-35\"/>\r\n      </g>\r\n     </g>\r\n    </g>\r\n    <g id=\"ytick_5\">\r\n     <g id=\"line2d_27\">\r\n      <path clip-path=\"url(#p8523d71614)\" d=\"M 56.50625 81.452601 \r\nL 391.30625 81.452601 \r\n\" style=\"fill:none;stroke:#b0b0b0;stroke-linecap:square;stroke-width:0.8;\"/>\r\n     </g>\r\n     <g id=\"line2d_28\">\r\n      <g>\r\n       <use style=\"stroke:#000000;stroke-width:0.8;\" x=\"56.50625\" xlink:href=\"#m15e1f5a2ba\" y=\"81.452601\"/>\r\n      </g>\r\n     </g>\r\n     <g id=\"text_15\">\r\n      <!-- 0.020 -->\r\n      <g transform=\"translate(20.878125 85.25182)scale(0.1 -0.1)\">\r\n       <use xlink:href=\"#DejaVuSans-30\"/>\r\n       <use x=\"63.623047\" xlink:href=\"#DejaVuSans-2e\"/>\r\n       <use x=\"95.410156\" xlink:href=\"#DejaVuSans-30\"/>\r\n       <use x=\"159.033203\" xlink:href=\"#DejaVuSans-32\"/>\r\n       <use x=\"222.65625\" xlink:href=\"#DejaVuSans-30\"/>\r\n      </g>\r\n     </g>\r\n    </g>\r\n    <g id=\"ytick_6\">\r\n     <g id=\"line2d_29\">\r\n      <path clip-path=\"url(#p8523d71614)\" d=\"M 56.50625 41.87622 \r\nL 391.30625 41.87622 \r\n\" style=\"fill:none;stroke:#b0b0b0;stroke-linecap:square;stroke-width:0.8;\"/>\r\n     </g>\r\n     <g id=\"line2d_30\">\r\n      <g>\r\n       <use style=\"stroke:#000000;stroke-width:0.8;\" x=\"56.50625\" xlink:href=\"#m15e1f5a2ba\" y=\"41.87622\"/>\r\n      </g>\r\n     </g>\r\n     <g id=\"text_16\">\r\n      <!-- 0.025 -->\r\n      <g transform=\"translate(20.878125 45.675439)scale(0.1 -0.1)\">\r\n       <use xlink:href=\"#DejaVuSans-30\"/>\r\n       <use x=\"63.623047\" xlink:href=\"#DejaVuSans-2e\"/>\r\n       <use x=\"95.410156\" xlink:href=\"#DejaVuSans-30\"/>\r\n       <use x=\"159.033203\" xlink:href=\"#DejaVuSans-32\"/>\r\n       <use x=\"222.65625\" xlink:href=\"#DejaVuSans-35\"/>\r\n      </g>\r\n     </g>\r\n    </g>\r\n    <g id=\"text_17\">\r\n     <!-- Probability -->\r\n     <g transform=\"translate(14.798437 157.467031)rotate(-90)scale(0.1 -0.1)\">\r\n      <defs>\r\n       <path d=\"M 1259 4147 \r\nL 1259 2394 \r\nL 2053 2394 \r\nQ 2494 2394 2734 2622 \r\nQ 2975 2850 2975 3272 \r\nQ 2975 3691 2734 3919 \r\nQ 2494 4147 2053 4147 \r\nL 1259 4147 \r\nz\r\nM 628 4666 \r\nL 2053 4666 \r\nQ 2838 4666 3239 4311 \r\nQ 3641 3956 3641 3272 \r\nQ 3641 2581 3239 2228 \r\nQ 2838 1875 2053 1875 \r\nL 1259 1875 \r\nL 1259 0 \r\nL 628 0 \r\nL 628 4666 \r\nz\r\n\" id=\"DejaVuSans-50\" transform=\"scale(0.015625)\"/>\r\n       <path d=\"M 3116 1747 \r\nQ 3116 2381 2855 2742 \r\nQ 2594 3103 2138 3103 \r\nQ 1681 3103 1420 2742 \r\nQ 1159 2381 1159 1747 \r\nQ 1159 1113 1420 752 \r\nQ 1681 391 2138 391 \r\nQ 2594 391 2855 752 \r\nQ 3116 1113 3116 1747 \r\nz\r\nM 1159 2969 \r\nQ 1341 3281 1617 3432 \r\nQ 1894 3584 2278 3584 \r\nQ 2916 3584 3314 3078 \r\nQ 3713 2572 3713 1747 \r\nQ 3713 922 3314 415 \r\nQ 2916 -91 2278 -91 \r\nQ 1894 -91 1617 61 \r\nQ 1341 213 1159 525 \r\nL 1159 0 \r\nL 581 0 \r\nL 581 4863 \r\nL 1159 4863 \r\nL 1159 2969 \r\nz\r\n\" id=\"DejaVuSans-62\" transform=\"scale(0.015625)\"/>\r\n       <path d=\"M 603 3500 \r\nL 1178 3500 \r\nL 1178 0 \r\nL 603 0 \r\nL 603 3500 \r\nz\r\nM 603 4863 \r\nL 1178 4863 \r\nL 1178 4134 \r\nL 603 4134 \r\nL 603 4863 \r\nz\r\n\" id=\"DejaVuSans-69\" transform=\"scale(0.015625)\"/>\r\n       <path d=\"M 603 4863 \r\nL 1178 4863 \r\nL 1178 0 \r\nL 603 0 \r\nL 603 4863 \r\nz\r\n\" id=\"DejaVuSans-6c\" transform=\"scale(0.015625)\"/>\r\n       <path d=\"M 2059 -325 \r\nQ 1816 -950 1584 -1140 \r\nQ 1353 -1331 966 -1331 \r\nL 506 -1331 \r\nL 506 -850 \r\nL 844 -850 \r\nQ 1081 -850 1212 -737 \r\nQ 1344 -625 1503 -206 \r\nL 1606 56 \r\nL 191 3500 \r\nL 800 3500 \r\nL 1894 763 \r\nL 2988 3500 \r\nL 3597 3500 \r\nL 2059 -325 \r\nz\r\n\" id=\"DejaVuSans-79\" transform=\"scale(0.015625)\"/>\r\n      </defs>\r\n      <use xlink:href=\"#DejaVuSans-50\"/>\r\n      <use x=\"58.552734\" xlink:href=\"#DejaVuSans-72\"/>\r\n      <use x=\"97.416016\" xlink:href=\"#DejaVuSans-6f\"/>\r\n      <use x=\"158.597656\" xlink:href=\"#DejaVuSans-62\"/>\r\n      <use x=\"222.074219\" xlink:href=\"#DejaVuSans-61\"/>\r\n      <use x=\"283.353516\" xlink:href=\"#DejaVuSans-62\"/>\r\n      <use x=\"346.830078\" xlink:href=\"#DejaVuSans-69\"/>\r\n      <use x=\"374.613281\" xlink:href=\"#DejaVuSans-6c\"/>\r\n      <use x=\"402.396484\" xlink:href=\"#DejaVuSans-69\"/>\r\n      <use x=\"430.179688\" xlink:href=\"#DejaVuSans-74\"/>\r\n      <use x=\"469.388672\" xlink:href=\"#DejaVuSans-79\"/>\r\n     </g>\r\n    </g>\r\n   </g>\r\n   <g id=\"patch_81\">\r\n    <path d=\"M 56.50625 239.758125 \r\nL 56.50625 22.318125 \r\n\" style=\"fill:none;stroke:#000000;stroke-linecap:square;stroke-linejoin:miter;stroke-width:0.8;\"/>\r\n   </g>\r\n   <g id=\"patch_82\">\r\n    <path d=\"M 391.30625 239.758125 \r\nL 391.30625 22.318125 \r\n\" style=\"fill:none;stroke:#000000;stroke-linecap:square;stroke-linejoin:miter;stroke-width:0.8;\"/>\r\n   </g>\r\n   <g id=\"patch_83\">\r\n    <path d=\"M 56.50625 239.758125 \r\nL 391.30625 239.758125 \r\n\" style=\"fill:none;stroke:#000000;stroke-linecap:square;stroke-linejoin:miter;stroke-width:0.8;\"/>\r\n   </g>\r\n   <g id=\"patch_84\">\r\n    <path d=\"M 56.50625 22.318125 \r\nL 391.30625 22.318125 \r\n\" style=\"fill:none;stroke:#000000;stroke-linecap:square;stroke-linejoin:miter;stroke-width:0.8;\"/>\r\n   </g>\r\n   <g id=\"text_18\">\r\n    <!-- Average messages sent per month by user -->\r\n    <g transform=\"translate(94.875313 16.318125)scale(0.12 -0.12)\">\r\n     <defs>\r\n      <path d=\"M 2188 4044 \r\nL 1331 1722 \r\nL 3047 1722 \r\nL 2188 4044 \r\nz\r\nM 1831 4666 \r\nL 2547 4666 \r\nL 4325 0 \r\nL 3669 0 \r\nL 3244 1197 \r\nL 1141 1197 \r\nL 716 0 \r\nL 50 0 \r\nL 1831 4666 \r\nz\r\n\" id=\"DejaVuSans-41\" transform=\"scale(0.015625)\"/>\r\n      <path d=\"M 191 3500 \r\nL 800 3500 \r\nL 1894 563 \r\nL 2988 3500 \r\nL 3597 3500 \r\nL 2284 0 \r\nL 1503 0 \r\nL 191 3500 \r\nz\r\n\" id=\"DejaVuSans-76\" transform=\"scale(0.015625)\"/>\r\n      <path d=\"M 544 1381 \r\nL 544 3500 \r\nL 1119 3500 \r\nL 1119 1403 \r\nQ 1119 906 1312 657 \r\nQ 1506 409 1894 409 \r\nQ 2359 409 2629 706 \r\nQ 2900 1003 2900 1516 \r\nL 2900 3500 \r\nL 3475 3500 \r\nL 3475 0 \r\nL 2900 0 \r\nL 2900 538 \r\nQ 2691 219 2414 64 \r\nQ 2138 -91 1772 -91 \r\nQ 1169 -91 856 284 \r\nQ 544 659 544 1381 \r\nz\r\nM 1991 3584 \r\nL 1991 3584 \r\nz\r\n\" id=\"DejaVuSans-75\" transform=\"scale(0.015625)\"/>\r\n     </defs>\r\n     <use xlink:href=\"#DejaVuSans-41\"/>\r\n     <use x=\"62.533203\" xlink:href=\"#DejaVuSans-76\"/>\r\n     <use x=\"121.712891\" xlink:href=\"#DejaVuSans-65\"/>\r\n     <use x=\"183.236328\" xlink:href=\"#DejaVuSans-72\"/>\r\n     <use x=\"224.349609\" xlink:href=\"#DejaVuSans-61\"/>\r\n     <use x=\"285.628906\" xlink:href=\"#DejaVuSans-67\"/>\r\n     <use x=\"349.105469\" xlink:href=\"#DejaVuSans-65\"/>\r\n     <use x=\"410.628906\" xlink:href=\"#DejaVuSans-20\"/>\r\n     <use x=\"442.416016\" xlink:href=\"#DejaVuSans-6d\"/>\r\n     <use x=\"539.828125\" xlink:href=\"#DejaVuSans-65\"/>\r\n     <use x=\"601.351562\" xlink:href=\"#DejaVuSans-73\"/>\r\n     <use x=\"653.451172\" xlink:href=\"#DejaVuSans-73\"/>\r\n     <use x=\"705.550781\" xlink:href=\"#DejaVuSans-61\"/>\r\n     <use x=\"766.830078\" xlink:href=\"#DejaVuSans-67\"/>\r\n     <use x=\"830.306641\" xlink:href=\"#DejaVuSans-65\"/>\r\n     <use x=\"891.830078\" xlink:href=\"#DejaVuSans-73\"/>\r\n     <use x=\"943.929688\" xlink:href=\"#DejaVuSans-20\"/>\r\n     <use x=\"975.716797\" xlink:href=\"#DejaVuSans-73\"/>\r\n     <use x=\"1027.816406\" xlink:href=\"#DejaVuSans-65\"/>\r\n     <use x=\"1089.339844\" xlink:href=\"#DejaVuSans-6e\"/>\r\n     <use x=\"1152.71875\" xlink:href=\"#DejaVuSans-74\"/>\r\n     <use x=\"1191.927734\" xlink:href=\"#DejaVuSans-20\"/>\r\n     <use x=\"1223.714844\" xlink:href=\"#DejaVuSans-70\"/>\r\n     <use x=\"1287.191406\" xlink:href=\"#DejaVuSans-65\"/>\r\n     <use x=\"1348.714844\" xlink:href=\"#DejaVuSans-72\"/>\r\n     <use x=\"1389.828125\" xlink:href=\"#DejaVuSans-20\"/>\r\n     <use x=\"1421.615234\" xlink:href=\"#DejaVuSans-6d\"/>\r\n     <use x=\"1519.027344\" xlink:href=\"#DejaVuSans-6f\"/>\r\n     <use x=\"1580.208984\" xlink:href=\"#DejaVuSans-6e\"/>\r\n     <use x=\"1643.587891\" xlink:href=\"#DejaVuSans-74\"/>\r\n     <use x=\"1682.796875\" xlink:href=\"#DejaVuSans-68\"/>\r\n     <use x=\"1746.175781\" xlink:href=\"#DejaVuSans-20\"/>\r\n     <use x=\"1777.962891\" xlink:href=\"#DejaVuSans-62\"/>\r\n     <use x=\"1841.439453\" xlink:href=\"#DejaVuSans-79\"/>\r\n     <use x=\"1900.619141\" xlink:href=\"#DejaVuSans-20\"/>\r\n     <use x=\"1932.40625\" xlink:href=\"#DejaVuSans-75\"/>\r\n     <use x=\"1995.785156\" xlink:href=\"#DejaVuSans-73\"/>\r\n     <use x=\"2047.884766\" xlink:href=\"#DejaVuSans-65\"/>\r\n     <use x=\"2109.408203\" xlink:href=\"#DejaVuSans-72\"/>\r\n    </g>\r\n   </g>\r\n   <g id=\"legend_1\">\r\n    <g id=\"patch_85\">\r\n     <path d=\"M 309.56875 59.674375 \r\nL 384.30625 59.674375 \r\nQ 386.30625 59.674375 386.30625 57.674375 \r\nL 386.30625 29.318125 \r\nQ 386.30625 27.318125 384.30625 27.318125 \r\nL 309.56875 27.318125 \r\nQ 307.56875 27.318125 307.56875 29.318125 \r\nL 307.56875 57.674375 \r\nQ 307.56875 59.674375 309.56875 59.674375 \r\nz\r\n\" style=\"fill:#ffffff;opacity:0.8;stroke:#cccccc;stroke-linejoin:miter;\"/>\r\n    </g>\r\n    <g id=\"patch_86\">\r\n     <path d=\"M 311.56875 38.916562 \r\nL 331.56875 38.916562 \r\nL 331.56875 31.916562 \r\nL 311.56875 31.916562 \r\nz\r\n\" style=\"fill:#1f77b4;\"/>\r\n    </g>\r\n    <g id=\"text_19\">\r\n     <!-- Surf -->\r\n     <g transform=\"translate(339.56875 38.916562)scale(0.1 -0.1)\">\r\n      <defs>\r\n       <path d=\"M 3425 4513 \r\nL 3425 3897 \r\nQ 3066 4069 2747 4153 \r\nQ 2428 4238 2131 4238 \r\nQ 1616 4238 1336 4038 \r\nQ 1056 3838 1056 3469 \r\nQ 1056 3159 1242 3001 \r\nQ 1428 2844 1947 2747 \r\nL 2328 2669 \r\nQ 3034 2534 3370 2195 \r\nQ 3706 1856 3706 1288 \r\nQ 3706 609 3251 259 \r\nQ 2797 -91 1919 -91 \r\nQ 1588 -91 1214 -16 \r\nQ 841 59 441 206 \r\nL 441 856 \r\nQ 825 641 1194 531 \r\nQ 1563 422 1919 422 \r\nQ 2459 422 2753 634 \r\nQ 3047 847 3047 1241 \r\nQ 3047 1584 2836 1778 \r\nQ 2625 1972 2144 2069 \r\nL 1759 2144 \r\nQ 1053 2284 737 2584 \r\nQ 422 2884 422 3419 \r\nQ 422 4038 858 4394 \r\nQ 1294 4750 2059 4750 \r\nQ 2388 4750 2728 4690 \r\nQ 3069 4631 3425 4513 \r\nz\r\n\" id=\"DejaVuSans-53\" transform=\"scale(0.015625)\"/>\r\n       <path d=\"M 2375 4863 \r\nL 2375 4384 \r\nL 1825 4384 \r\nQ 1516 4384 1395 4259 \r\nQ 1275 4134 1275 3809 \r\nL 1275 3500 \r\nL 2222 3500 \r\nL 2222 3053 \r\nL 1275 3053 \r\nL 1275 0 \r\nL 697 0 \r\nL 697 3053 \r\nL 147 3053 \r\nL 147 3500 \r\nL 697 3500 \r\nL 697 3744 \r\nQ 697 4328 969 4595 \r\nQ 1241 4863 1831 4863 \r\nL 2375 4863 \r\nz\r\n\" id=\"DejaVuSans-66\" transform=\"scale(0.015625)\"/>\r\n      </defs>\r\n      <use xlink:href=\"#DejaVuSans-53\"/>\r\n      <use x=\"63.476562\" xlink:href=\"#DejaVuSans-75\"/>\r\n      <use x=\"126.855469\" xlink:href=\"#DejaVuSans-72\"/>\r\n      <use x=\"167.96875\" xlink:href=\"#DejaVuSans-66\"/>\r\n     </g>\r\n    </g>\r\n    <g id=\"patch_87\">\r\n     <path d=\"M 311.56875 53.594687 \r\nL 331.56875 53.594687 \r\nL 331.56875 46.594687 \r\nL 311.56875 46.594687 \r\nz\r\n\" style=\"fill:#ff7f0e;\"/>\r\n    </g>\r\n    <g id=\"text_20\">\r\n     <!-- Ultimate -->\r\n     <g transform=\"translate(339.56875 53.594687)scale(0.1 -0.1)\">\r\n      <defs>\r\n       <path d=\"M 556 4666 \r\nL 1191 4666 \r\nL 1191 1831 \r\nQ 1191 1081 1462 751 \r\nQ 1734 422 2344 422 \r\nQ 2950 422 3222 751 \r\nQ 3494 1081 3494 1831 \r\nL 3494 4666 \r\nL 4128 4666 \r\nL 4128 1753 \r\nQ 4128 841 3676 375 \r\nQ 3225 -91 2344 -91 \r\nQ 1459 -91 1007 375 \r\nQ 556 841 556 1753 \r\nL 556 4666 \r\nz\r\n\" id=\"DejaVuSans-55\" transform=\"scale(0.015625)\"/>\r\n      </defs>\r\n      <use xlink:href=\"#DejaVuSans-55\"/>\r\n      <use x=\"73.193359\" xlink:href=\"#DejaVuSans-6c\"/>\r\n      <use x=\"100.976562\" xlink:href=\"#DejaVuSans-74\"/>\r\n      <use x=\"140.185547\" xlink:href=\"#DejaVuSans-69\"/>\r\n      <use x=\"167.96875\" xlink:href=\"#DejaVuSans-6d\"/>\r\n      <use x=\"265.380859\" xlink:href=\"#DejaVuSans-61\"/>\r\n      <use x=\"326.660156\" xlink:href=\"#DejaVuSans-74\"/>\r\n      <use x=\"365.869141\" xlink:href=\"#DejaVuSans-65\"/>\r\n     </g>\r\n    </g>\r\n   </g>\r\n  </g>\r\n </g>\r\n <defs>\r\n  <clipPath id=\"p8523d71614\">\r\n   <rect height=\"217.44\" width=\"334.8\" x=\"56.50625\" y=\"22.318125\"/>\r\n  </clipPath>\r\n </defs>\r\n</svg>\r\n",
      "image/png": "[encoded data removed]"
     },
     "metadata": {
      "needs_background": "light"
     }
    }
   ],
   "metadata": {}
  },
  {
   "cell_type": "markdown",
   "source": [
    "Looking at the density histogram messages, we hardly see a peak in probabilities of messages per month for Ultimate users, while Surf users have a peak at low values of messages per month. Therefore, we expect that Ultimate users have a higher probability of using more messages per month, because of the positive skew."
   ],
   "metadata": {}
  },
  {
   "cell_type": "code",
   "execution_count": 29,
   "source": [
    "plt.figure()\r\n",
    "user_internet.loc[user_internet['plan'] == 'surf', 'mean'].hist(bins=[0 + 1*i for i in range(1,49)], density=True)\r\n",
    "user_internet.loc[user_internet['plan'] == 'ultimate', 'mean'].hist(bins=[0 + 1*i for i in range(1,49)], density=True)\r\n",
    "plt.legend(['Surf', 'Ultimate'])\r\n",
    "plt.title('Average GB of data used per month by user')\r\n",
    "plt.xlabel('GB of data per month')\r\n",
    "plt.ylabel('Probability')\r\n",
    "plt.show()"
   ],
   "outputs": [
    {
     "output_type": "display_data",
     "data": {
      "text/plain": [
       "<Figure size 432x288 with 1 Axes>"
      ],
      "image/svg+xml": "<?xml version=\"1.0\" encoding=\"utf-8\" standalone=\"no\"?>\r\n<!DOCTYPE svg PUBLIC \"-//W3C//DTD SVG 1.1//EN\"\r\n  \"http://www.w3.org/Graphics/SVG/1.1/DTD/svg11.dtd\">\r\n<svg height=\"277.314375pt\" version=\"1.1\" viewBox=\"0 0 396.239712 277.314375\" width=\"396.239712pt\" xmlns=\"http://www.w3.org/2000/svg\" xmlns:xlink=\"http://www.w3.org/1999/xlink\">\r\n <metadata>\r\n  <rdf:RDF xmlns:cc=\"http://creativecommons.org/ns#\" xmlns:dc=\"http://purl.org/dc/elements/1.1/\" xmlns:rdf=\"http://www.w3.org/1999/02/22-rdf-syntax-ns#\">\r\n   <cc:Work>\r\n    <dc:type rdf:resource=\"http://purl.org/dc/dcmitype/StillImage\"/>\r\n    <dc:date>2021-08-13T15:51:53.677884</dc:date>\r\n    <dc:format>image/svg+xml</dc:format>\r\n    <dc:creator>\r\n     <cc:Agent>\r\n      <dc:title>Matplotlib v3.4.2, https://matplotlib.org/</dc:title>\r\n     </cc:Agent>\r\n    </dc:creator>\r\n   </cc:Work>\r\n  </rdf:RDF>\r\n </metadata>\r\n <defs>\r\n  <style type=\"text/css\">*{stroke-linecap:butt;stroke-linejoin:round;}</style>\r\n </defs>\r\n <g id=\"figure_1\">\r\n  <g id=\"patch_1\">\r\n   <path d=\"M 0 277.314375 \r\nL 396.239712 277.314375 \r\nL 396.239712 0 \r\nL 0 0 \r\nz\r\n\" style=\"fill:none;\"/>\r\n  </g>\r\n  <g id=\"axes_1\">\r\n   <g id=\"patch_2\">\r\n    <path d=\"M 50.14375 239.758125 \r\nL 384.94375 239.758125 \r\nL 384.94375 22.318125 \r\nL 50.14375 22.318125 \r\nz\r\n\" style=\"fill:#ffffff;\"/>\r\n   </g>\r\n   <g id=\"patch_3\">\r\n    <path clip-path=\"url(#pbfcd30222e)\" d=\"M 65.361932 239.758125 \r\nL 71.837754 239.758125 \r\nL 71.837754 216.441676 \r\nL 65.361932 216.441676 \r\nz\r\n\" style=\"fill:#1f77b4;\"/>\r\n   </g>\r\n   <g id=\"patch_4\">\r\n    <path clip-path=\"url(#pbfcd30222e)\" d=\"M 71.837754 239.758125 \r\nL 78.313576 239.758125 \r\nL 78.313576 230.431545 \r\nL 71.837754 230.431545 \r\nz\r\n\" style=\"fill:#1f77b4;\"/>\r\n   </g>\r\n   <g id=\"patch_5\">\r\n    <path clip-path=\"url(#pbfcd30222e)\" d=\"M 78.313576 239.758125 \r\nL 84.789398 239.758125 \r\nL 84.789398 235.094835 \r\nL 78.313576 235.094835 \r\nz\r\n\" style=\"fill:#1f77b4;\"/>\r\n   </g>\r\n   <g id=\"patch_6\">\r\n    <path clip-path=\"url(#pbfcd30222e)\" d=\"M 84.789398 239.758125 \r\nL 91.26522 239.758125 \r\nL 91.26522 225.768255 \r\nL 84.789398 225.768255 \r\nz\r\n\" style=\"fill:#1f77b4;\"/>\r\n   </g>\r\n   <g id=\"patch_7\">\r\n    <path clip-path=\"url(#pbfcd30222e)\" d=\"M 91.26522 239.758125 \r\nL 97.741042 239.758125 \r\nL 97.741042 225.768255 \r\nL 91.26522 225.768255 \r\nz\r\n\" style=\"fill:#1f77b4;\"/>\r\n   </g>\r\n   <g id=\"patch_8\">\r\n    <path clip-path=\"url(#pbfcd30222e)\" d=\"M 97.741042 239.758125 \r\nL 104.216864 239.758125 \r\nL 104.216864 216.441676 \r\nL 97.741042 216.441676 \r\nz\r\n\" style=\"fill:#1f77b4;\"/>\r\n   </g>\r\n   <g id=\"patch_9\">\r\n    <path clip-path=\"url(#pbfcd30222e)\" d=\"M 104.216864 239.758125 \r\nL 110.692686 239.758125 \r\nL 110.692686 211.778386 \r\nL 104.216864 211.778386 \r\nz\r\n\" style=\"fill:#1f77b4;\"/>\r\n   </g>\r\n   <g id=\"patch_10\">\r\n    <path clip-path=\"url(#pbfcd30222e)\" d=\"M 110.692686 239.758125 \r\nL 117.168508 239.758125 \r\nL 117.168508 197.788516 \r\nL 110.692686 197.788516 \r\nz\r\n\" style=\"fill:#1f77b4;\"/>\r\n   </g>\r\n   <g id=\"patch_11\">\r\n    <path clip-path=\"url(#pbfcd30222e)\" d=\"M 117.168508 239.758125 \r\nL 123.64433 239.758125 \r\nL 123.64433 202.451806 \r\nL 117.168508 202.451806 \r\nz\r\n\" style=\"fill:#1f77b4;\"/>\r\n   </g>\r\n   <g id=\"patch_12\">\r\n    <path clip-path=\"url(#pbfcd30222e)\" d=\"M 123.64433 239.758125 \r\nL 130.120152 239.758125 \r\nL 130.120152 202.451806 \r\nL 123.64433 202.451806 \r\nz\r\n\" style=\"fill:#1f77b4;\"/>\r\n   </g>\r\n   <g id=\"patch_13\">\r\n    <path clip-path=\"url(#pbfcd30222e)\" d=\"M 130.120152 239.758125 \r\nL 136.595974 239.758125 \r\nL 136.595974 169.808777 \r\nL 130.120152 169.808777 \r\nz\r\n\" style=\"fill:#1f77b4;\"/>\r\n   </g>\r\n   <g id=\"patch_14\">\r\n    <path clip-path=\"url(#pbfcd30222e)\" d=\"M 136.595974 239.758125 \r\nL 143.071796 239.758125 \r\nL 143.071796 165.145487 \r\nL 136.595974 165.145487 \r\nz\r\n\" style=\"fill:#1f77b4;\"/>\r\n   </g>\r\n   <g id=\"patch_15\">\r\n    <path clip-path=\"url(#pbfcd30222e)\" d=\"M 143.071796 239.758125 \r\nL 149.547618 239.758125 \r\nL 149.547618 165.145487 \r\nL 143.071796 165.145487 \r\nz\r\n\" style=\"fill:#1f77b4;\"/>\r\n   </g>\r\n   <g id=\"patch_16\">\r\n    <path clip-path=\"url(#pbfcd30222e)\" d=\"M 149.547618 239.758125 \r\nL 156.023441 239.758125 \r\nL 156.023441 71.879689 \r\nL 149.547618 71.879689 \r\nz\r\n\" style=\"fill:#1f77b4;\"/>\r\n   </g>\r\n   <g id=\"patch_17\">\r\n    <path clip-path=\"url(#pbfcd30222e)\" d=\"M 156.023441 239.758125 \r\nL 162.499263 239.758125 \r\nL 162.499263 132.502457 \r\nL 156.023441 132.502457 \r\nz\r\n\" style=\"fill:#1f77b4;\"/>\r\n   </g>\r\n   <g id=\"patch_18\">\r\n    <path clip-path=\"url(#pbfcd30222e)\" d=\"M 162.499263 239.758125 \r\nL 168.975085 239.758125 \r\nL 168.975085 71.879689 \r\nL 162.499263 71.879689 \r\nz\r\n\" style=\"fill:#1f77b4;\"/>\r\n   </g>\r\n   <g id=\"patch_19\">\r\n    <path clip-path=\"url(#pbfcd30222e)\" d=\"M 168.975085 239.758125 \r\nL 175.450907 239.758125 \r\nL 175.450907 118.512588 \r\nL 168.975085 118.512588 \r\nz\r\n\" style=\"fill:#1f77b4;\"/>\r\n   </g>\r\n   <g id=\"patch_20\">\r\n    <path clip-path=\"url(#pbfcd30222e)\" d=\"M 175.450907 239.758125 \r\nL 181.926729 239.758125 \r\nL 181.926729 146.492327 \r\nL 175.450907 146.492327 \r\nz\r\n\" style=\"fill:#1f77b4;\"/>\r\n   </g>\r\n   <g id=\"patch_21\">\r\n    <path clip-path=\"url(#pbfcd30222e)\" d=\"M 181.926729 239.758125 \r\nL 188.402551 239.758125 \r\nL 188.402551 113.849298 \r\nL 181.926729 113.849298 \r\nz\r\n\" style=\"fill:#1f77b4;\"/>\r\n   </g>\r\n   <g id=\"patch_22\">\r\n    <path clip-path=\"url(#pbfcd30222e)\" d=\"M 188.402551 239.758125 \r\nL 194.878373 239.758125 \r\nL 194.878373 155.818907 \r\nL 188.402551 155.818907 \r\nz\r\n\" style=\"fill:#1f77b4;\"/>\r\n   </g>\r\n   <g id=\"patch_23\">\r\n    <path clip-path=\"url(#pbfcd30222e)\" d=\"M 194.878373 239.758125 \r\nL 201.354195 239.758125 \r\nL 201.354195 188.461936 \r\nL 194.878373 188.461936 \r\nz\r\n\" style=\"fill:#1f77b4;\"/>\r\n   </g>\r\n   <g id=\"patch_24\">\r\n    <path clip-path=\"url(#pbfcd30222e)\" d=\"M 201.354195 239.758125 \r\nL 207.830017 239.758125 \r\nL 207.830017 197.788516 \r\nL 201.354195 197.788516 \r\nz\r\n\" style=\"fill:#1f77b4;\"/>\r\n   </g>\r\n   <g id=\"patch_25\">\r\n    <path clip-path=\"url(#pbfcd30222e)\" d=\"M 207.830017 239.758125 \r\nL 214.305839 239.758125 \r\nL 214.305839 225.768255 \r\nL 207.830017 225.768255 \r\nz\r\n\" style=\"fill:#1f77b4;\"/>\r\n   </g>\r\n   <g id=\"patch_26\">\r\n    <path clip-path=\"url(#pbfcd30222e)\" d=\"M 214.305839 239.758125 \r\nL 220.781661 239.758125 \r\nL 220.781661 225.768255 \r\nL 214.305839 225.768255 \r\nz\r\n\" style=\"fill:#1f77b4;\"/>\r\n   </g>\r\n   <g id=\"patch_27\">\r\n    <path clip-path=\"url(#pbfcd30222e)\" d=\"M 220.781661 239.758125 \r\nL 227.257483 239.758125 \r\nL 227.257483 221.104965 \r\nL 220.781661 221.104965 \r\nz\r\n\" style=\"fill:#1f77b4;\"/>\r\n   </g>\r\n   <g id=\"patch_28\">\r\n    <path clip-path=\"url(#pbfcd30222e)\" d=\"M 227.257483 239.758125 \r\nL 233.733305 239.758125 \r\nL 233.733305 235.094835 \r\nL 227.257483 235.094835 \r\nz\r\n\" style=\"fill:#1f77b4;\"/>\r\n   </g>\r\n   <g id=\"patch_29\">\r\n    <path clip-path=\"url(#pbfcd30222e)\" d=\"M 233.733305 239.758125 \r\nL 240.209127 239.758125 \r\nL 240.209127 211.778386 \r\nL 233.733305 211.778386 \r\nz\r\n\" style=\"fill:#1f77b4;\"/>\r\n   </g>\r\n   <g id=\"patch_30\">\r\n    <path clip-path=\"url(#pbfcd30222e)\" d=\"M 240.209127 239.758125 \r\nL 246.684949 239.758125 \r\nL 246.684949 235.094835 \r\nL 240.209127 235.094835 \r\nz\r\n\" style=\"fill:#1f77b4;\"/>\r\n   </g>\r\n   <g id=\"patch_31\">\r\n    <path clip-path=\"url(#pbfcd30222e)\" d=\"M 246.684949 239.758125 \r\nL 253.160771 239.758125 \r\nL 253.160771 221.104965 \r\nL 246.684949 221.104965 \r\nz\r\n\" style=\"fill:#1f77b4;\"/>\r\n   </g>\r\n   <g id=\"patch_32\">\r\n    <path clip-path=\"url(#pbfcd30222e)\" d=\"M 253.160771 239.758125 \r\nL 259.636593 239.758125 \r\nL 259.636593 235.094835 \r\nL 253.160771 235.094835 \r\nz\r\n\" style=\"fill:#1f77b4;\"/>\r\n   </g>\r\n   <g id=\"patch_33\">\r\n    <path clip-path=\"url(#pbfcd30222e)\" d=\"M 259.636593 239.758125 \r\nL 266.112415 239.758125 \r\nL 266.112415 235.094835 \r\nL 259.636593 235.094835 \r\nz\r\n\" style=\"fill:#1f77b4;\"/>\r\n   </g>\r\n   <g id=\"patch_34\">\r\n    <path clip-path=\"url(#pbfcd30222e)\" d=\"M 266.112415 239.758125 \r\nL 272.588237 239.758125 \r\nL 272.588237 235.094835 \r\nL 266.112415 235.094835 \r\nz\r\n\" style=\"fill:#1f77b4;\"/>\r\n   </g>\r\n   <g id=\"patch_35\">\r\n    <path clip-path=\"url(#pbfcd30222e)\" d=\"M 272.588237 239.758125 \r\nL 279.064059 239.758125 \r\nL 279.064059 239.758125 \r\nL 272.588237 239.758125 \r\nz\r\n\" style=\"fill:#1f77b4;\"/>\r\n   </g>\r\n   <g id=\"patch_36\">\r\n    <path clip-path=\"url(#pbfcd30222e)\" d=\"M 279.064059 239.758125 \r\nL 285.539882 239.758125 \r\nL 285.539882 230.431545 \r\nL 279.064059 230.431545 \r\nz\r\n\" style=\"fill:#1f77b4;\"/>\r\n   </g>\r\n   <g id=\"patch_37\">\r\n    <path clip-path=\"url(#pbfcd30222e)\" d=\"M 285.539882 239.758125 \r\nL 292.015704 239.758125 \r\nL 292.015704 239.758125 \r\nL 285.539882 239.758125 \r\nz\r\n\" style=\"fill:#1f77b4;\"/>\r\n   </g>\r\n   <g id=\"patch_38\">\r\n    <path clip-path=\"url(#pbfcd30222e)\" d=\"M 292.015704 239.758125 \r\nL 298.491526 239.758125 \r\nL 298.491526 239.758125 \r\nL 292.015704 239.758125 \r\nz\r\n\" style=\"fill:#1f77b4;\"/>\r\n   </g>\r\n   <g id=\"patch_39\">\r\n    <path clip-path=\"url(#pbfcd30222e)\" d=\"M 298.491526 239.758125 \r\nL 304.967348 239.758125 \r\nL 304.967348 239.758125 \r\nL 298.491526 239.758125 \r\nz\r\n\" style=\"fill:#1f77b4;\"/>\r\n   </g>\r\n   <g id=\"patch_40\">\r\n    <path clip-path=\"url(#pbfcd30222e)\" d=\"M 304.967348 239.758125 \r\nL 311.44317 239.758125 \r\nL 311.44317 239.758125 \r\nL 304.967348 239.758125 \r\nz\r\n\" style=\"fill:#1f77b4;\"/>\r\n   </g>\r\n   <g id=\"patch_41\">\r\n    <path clip-path=\"url(#pbfcd30222e)\" d=\"M 311.44317 239.758125 \r\nL 317.918992 239.758125 \r\nL 317.918992 235.094835 \r\nL 311.44317 235.094835 \r\nz\r\n\" style=\"fill:#1f77b4;\"/>\r\n   </g>\r\n   <g id=\"patch_42\">\r\n    <path clip-path=\"url(#pbfcd30222e)\" d=\"M 317.918992 239.758125 \r\nL 324.394814 239.758125 \r\nL 324.394814 239.758125 \r\nL 317.918992 239.758125 \r\nz\r\n\" style=\"fill:#1f77b4;\"/>\r\n   </g>\r\n   <g id=\"patch_43\">\r\n    <path clip-path=\"url(#pbfcd30222e)\" d=\"M 324.394814 239.758125 \r\nL 330.870636 239.758125 \r\nL 330.870636 239.758125 \r\nL 324.394814 239.758125 \r\nz\r\n\" style=\"fill:#1f77b4;\"/>\r\n   </g>\r\n   <g id=\"patch_44\">\r\n    <path clip-path=\"url(#pbfcd30222e)\" d=\"M 330.870636 239.758125 \r\nL 337.346458 239.758125 \r\nL 337.346458 239.758125 \r\nL 330.870636 239.758125 \r\nz\r\n\" style=\"fill:#1f77b4;\"/>\r\n   </g>\r\n   <g id=\"patch_45\">\r\n    <path clip-path=\"url(#pbfcd30222e)\" d=\"M 337.346458 239.758125 \r\nL 343.82228 239.758125 \r\nL 343.82228 239.758125 \r\nL 337.346458 239.758125 \r\nz\r\n\" style=\"fill:#1f77b4;\"/>\r\n   </g>\r\n   <g id=\"patch_46\">\r\n    <path clip-path=\"url(#pbfcd30222e)\" d=\"M 343.82228 239.758125 \r\nL 350.298102 239.758125 \r\nL 350.298102 235.094835 \r\nL 343.82228 235.094835 \r\nz\r\n\" style=\"fill:#1f77b4;\"/>\r\n   </g>\r\n   <g id=\"patch_47\">\r\n    <path clip-path=\"url(#pbfcd30222e)\" d=\"M 350.298102 239.758125 \r\nL 356.773924 239.758125 \r\nL 356.773924 239.758125 \r\nL 350.298102 239.758125 \r\nz\r\n\" style=\"fill:#1f77b4;\"/>\r\n   </g>\r\n   <g id=\"patch_48\">\r\n    <path clip-path=\"url(#pbfcd30222e)\" d=\"M 356.773924 239.758125 \r\nL 363.249746 239.758125 \r\nL 363.249746 239.758125 \r\nL 356.773924 239.758125 \r\nz\r\n\" style=\"fill:#1f77b4;\"/>\r\n   </g>\r\n   <g id=\"patch_49\">\r\n    <path clip-path=\"url(#pbfcd30222e)\" d=\"M 363.249746 239.758125 \r\nL 369.725568 239.758125 \r\nL 369.725568 239.758125 \r\nL 363.249746 239.758125 \r\nz\r\n\" style=\"fill:#1f77b4;\"/>\r\n   </g>\r\n   <g id=\"patch_50\">\r\n    <path clip-path=\"url(#pbfcd30222e)\" d=\"M 65.361932 239.758125 \r\nL 71.837754 239.758125 \r\nL 71.837754 229.896901 \r\nL 65.361932 229.896901 \r\nz\r\n\" style=\"fill:#ff7f0e;\"/>\r\n   </g>\r\n   <g id=\"patch_51\">\r\n    <path clip-path=\"url(#pbfcd30222e)\" d=\"M 71.837754 239.758125 \r\nL 78.313576 239.758125 \r\nL 78.313576 220.035676 \r\nL 71.837754 220.035676 \r\nz\r\n\" style=\"fill:#ff7f0e;\"/>\r\n   </g>\r\n   <g id=\"patch_52\">\r\n    <path clip-path=\"url(#pbfcd30222e)\" d=\"M 78.313576 239.758125 \r\nL 84.789398 239.758125 \r\nL 84.789398 239.758125 \r\nL 78.313576 239.758125 \r\nz\r\n\" style=\"fill:#ff7f0e;\"/>\r\n   </g>\r\n   <g id=\"patch_53\">\r\n    <path clip-path=\"url(#pbfcd30222e)\" d=\"M 84.789398 239.758125 \r\nL 91.26522 239.758125 \r\nL 91.26522 239.758125 \r\nL 84.789398 239.758125 \r\nz\r\n\" style=\"fill:#ff7f0e;\"/>\r\n   </g>\r\n   <g id=\"patch_54\">\r\n    <path clip-path=\"url(#pbfcd30222e)\" d=\"M 91.26522 239.758125 \r\nL 97.741042 239.758125 \r\nL 97.741042 220.035676 \r\nL 91.26522 220.035676 \r\nz\r\n\" style=\"fill:#ff7f0e;\"/>\r\n   </g>\r\n   <g id=\"patch_55\">\r\n    <path clip-path=\"url(#pbfcd30222e)\" d=\"M 97.741042 239.758125 \r\nL 104.216864 239.758125 \r\nL 104.216864 229.896901 \r\nL 97.741042 229.896901 \r\nz\r\n\" style=\"fill:#ff7f0e;\"/>\r\n   </g>\r\n   <g id=\"patch_56\">\r\n    <path clip-path=\"url(#pbfcd30222e)\" d=\"M 104.216864 239.758125 \r\nL 110.692686 239.758125 \r\nL 110.692686 190.452003 \r\nL 104.216864 190.452003 \r\nz\r\n\" style=\"fill:#ff7f0e;\"/>\r\n   </g>\r\n   <g id=\"patch_57\">\r\n    <path clip-path=\"url(#pbfcd30222e)\" d=\"M 110.692686 239.758125 \r\nL 117.168508 239.758125 \r\nL 117.168508 229.896901 \r\nL 110.692686 229.896901 \r\nz\r\n\" style=\"fill:#ff7f0e;\"/>\r\n   </g>\r\n   <g id=\"patch_58\">\r\n    <path clip-path=\"url(#pbfcd30222e)\" d=\"M 117.168508 239.758125 \r\nL 123.64433 239.758125 \r\nL 123.64433 220.035676 \r\nL 117.168508 220.035676 \r\nz\r\n\" style=\"fill:#ff7f0e;\"/>\r\n   </g>\r\n   <g id=\"patch_59\">\r\n    <path clip-path=\"url(#pbfcd30222e)\" d=\"M 123.64433 239.758125 \r\nL 130.120152 239.758125 \r\nL 130.120152 151.007105 \r\nL 123.64433 151.007105 \r\nz\r\n\" style=\"fill:#ff7f0e;\"/>\r\n   </g>\r\n   <g id=\"patch_60\">\r\n    <path clip-path=\"url(#pbfcd30222e)\" d=\"M 130.120152 239.758125 \r\nL 136.595974 239.758125 \r\nL 136.595974 160.868329 \r\nL 130.120152 160.868329 \r\nz\r\n\" style=\"fill:#ff7f0e;\"/>\r\n   </g>\r\n   <g id=\"patch_61\">\r\n    <path clip-path=\"url(#pbfcd30222e)\" d=\"M 136.595974 239.758125 \r\nL 143.071796 239.758125 \r\nL 143.071796 141.14588 \r\nL 136.595974 141.14588 \r\nz\r\n\" style=\"fill:#ff7f0e;\"/>\r\n   </g>\r\n   <g id=\"patch_62\">\r\n    <path clip-path=\"url(#pbfcd30222e)\" d=\"M 143.071796 239.758125 \r\nL 149.547618 239.758125 \r\nL 149.547618 200.313227 \r\nL 143.071796 200.313227 \r\nz\r\n\" style=\"fill:#ff7f0e;\"/>\r\n   </g>\r\n   <g id=\"patch_63\">\r\n    <path clip-path=\"url(#pbfcd30222e)\" d=\"M 149.547618 239.758125 \r\nL 156.023441 239.758125 \r\nL 156.023441 81.978533 \r\nL 149.547618 81.978533 \r\nz\r\n\" style=\"fill:#ff7f0e;\"/>\r\n   </g>\r\n   <g id=\"patch_64\">\r\n    <path clip-path=\"url(#pbfcd30222e)\" d=\"M 156.023441 239.758125 \r\nL 162.499263 239.758125 \r\nL 162.499263 32.672411 \r\nL 156.023441 32.672411 \r\nz\r\n\" style=\"fill:#ff7f0e;\"/>\r\n   </g>\r\n   <g id=\"patch_65\">\r\n    <path clip-path=\"url(#pbfcd30222e)\" d=\"M 162.499263 239.758125 \r\nL 168.975085 239.758125 \r\nL 168.975085 141.14588 \r\nL 162.499263 141.14588 \r\nz\r\n\" style=\"fill:#ff7f0e;\"/>\r\n   </g>\r\n   <g id=\"patch_66\">\r\n    <path clip-path=\"url(#pbfcd30222e)\" d=\"M 168.975085 239.758125 \r\nL 175.450907 239.758125 \r\nL 175.450907 111.562207 \r\nL 168.975085 111.562207 \r\nz\r\n\" style=\"fill:#ff7f0e;\"/>\r\n   </g>\r\n   <g id=\"patch_67\">\r\n    <path clip-path=\"url(#pbfcd30222e)\" d=\"M 175.450907 239.758125 \r\nL 181.926729 239.758125 \r\nL 181.926729 131.284656 \r\nL 175.450907 131.284656 \r\nz\r\n\" style=\"fill:#ff7f0e;\"/>\r\n   </g>\r\n   <g id=\"patch_68\">\r\n    <path clip-path=\"url(#pbfcd30222e)\" d=\"M 181.926729 239.758125 \r\nL 188.402551 239.758125 \r\nL 188.402551 141.14588 \r\nL 181.926729 141.14588 \r\nz\r\n\" style=\"fill:#ff7f0e;\"/>\r\n   </g>\r\n   <g id=\"patch_69\">\r\n    <path clip-path=\"url(#pbfcd30222e)\" d=\"M 188.402551 239.758125 \r\nL 194.878373 239.758125 \r\nL 194.878373 180.590778 \r\nL 188.402551 180.590778 \r\nz\r\n\" style=\"fill:#ff7f0e;\"/>\r\n   </g>\r\n   <g id=\"patch_70\">\r\n    <path clip-path=\"url(#pbfcd30222e)\" d=\"M 194.878373 239.758125 \r\nL 201.354195 239.758125 \r\nL 201.354195 200.313227 \r\nL 194.878373 200.313227 \r\nz\r\n\" style=\"fill:#ff7f0e;\"/>\r\n   </g>\r\n   <g id=\"patch_71\">\r\n    <path clip-path=\"url(#pbfcd30222e)\" d=\"M 201.354195 239.758125 \r\nL 207.830017 239.758125 \r\nL 207.830017 190.452003 \r\nL 201.354195 190.452003 \r\nz\r\n\" style=\"fill:#ff7f0e;\"/>\r\n   </g>\r\n   <g id=\"patch_72\">\r\n    <path clip-path=\"url(#pbfcd30222e)\" d=\"M 207.830017 239.758125 \r\nL 214.305839 239.758125 \r\nL 214.305839 220.035676 \r\nL 207.830017 220.035676 \r\nz\r\n\" style=\"fill:#ff7f0e;\"/>\r\n   </g>\r\n   <g id=\"patch_73\">\r\n    <path clip-path=\"url(#pbfcd30222e)\" d=\"M 214.305839 239.758125 \r\nL 220.781661 239.758125 \r\nL 220.781661 229.896901 \r\nL 214.305839 229.896901 \r\nz\r\n\" style=\"fill:#ff7f0e;\"/>\r\n   </g>\r\n   <g id=\"patch_74\">\r\n    <path clip-path=\"url(#pbfcd30222e)\" d=\"M 220.781661 239.758125 \r\nL 227.257483 239.758125 \r\nL 227.257483 210.174452 \r\nL 220.781661 210.174452 \r\nz\r\n\" style=\"fill:#ff7f0e;\"/>\r\n   </g>\r\n   <g id=\"patch_75\">\r\n    <path clip-path=\"url(#pbfcd30222e)\" d=\"M 227.257483 239.758125 \r\nL 233.733305 239.758125 \r\nL 233.733305 210.174452 \r\nL 227.257483 210.174452 \r\nz\r\n\" style=\"fill:#ff7f0e;\"/>\r\n   </g>\r\n   <g id=\"patch_76\">\r\n    <path clip-path=\"url(#pbfcd30222e)\" d=\"M 233.733305 239.758125 \r\nL 240.209127 239.758125 \r\nL 240.209127 229.896901 \r\nL 233.733305 229.896901 \r\nz\r\n\" style=\"fill:#ff7f0e;\"/>\r\n   </g>\r\n   <g id=\"patch_77\">\r\n    <path clip-path=\"url(#pbfcd30222e)\" d=\"M 240.209127 239.758125 \r\nL 246.684949 239.758125 \r\nL 246.684949 220.035676 \r\nL 240.209127 220.035676 \r\nz\r\n\" style=\"fill:#ff7f0e;\"/>\r\n   </g>\r\n   <g id=\"patch_78\">\r\n    <path clip-path=\"url(#pbfcd30222e)\" d=\"M 246.684949 239.758125 \r\nL 253.160771 239.758125 \r\nL 253.160771 239.758125 \r\nL 246.684949 239.758125 \r\nz\r\n\" style=\"fill:#ff7f0e;\"/>\r\n   </g>\r\n   <g id=\"patch_79\">\r\n    <path clip-path=\"url(#pbfcd30222e)\" d=\"M 253.160771 239.758125 \r\nL 259.636593 239.758125 \r\nL 259.636593 229.896901 \r\nL 253.160771 229.896901 \r\nz\r\n\" style=\"fill:#ff7f0e;\"/>\r\n   </g>\r\n   <g id=\"patch_80\">\r\n    <path clip-path=\"url(#pbfcd30222e)\" d=\"M 259.636593 239.758125 \r\nL 266.112415 239.758125 \r\nL 266.112415 229.896901 \r\nL 259.636593 229.896901 \r\nz\r\n\" style=\"fill:#ff7f0e;\"/>\r\n   </g>\r\n   <g id=\"patch_81\">\r\n    <path clip-path=\"url(#pbfcd30222e)\" d=\"M 266.112415 239.758125 \r\nL 272.588237 239.758125 \r\nL 272.588237 239.758125 \r\nL 266.112415 239.758125 \r\nz\r\n\" style=\"fill:#ff7f0e;\"/>\r\n   </g>\r\n   <g id=\"patch_82\">\r\n    <path clip-path=\"url(#pbfcd30222e)\" d=\"M 272.588237 239.758125 \r\nL 279.064059 239.758125 \r\nL 279.064059 239.758125 \r\nL 272.588237 239.758125 \r\nz\r\n\" style=\"fill:#ff7f0e;\"/>\r\n   </g>\r\n   <g id=\"patch_83\">\r\n    <path clip-path=\"url(#pbfcd30222e)\" d=\"M 279.064059 239.758125 \r\nL 285.539882 239.758125 \r\nL 285.539882 229.896901 \r\nL 279.064059 229.896901 \r\nz\r\n\" style=\"fill:#ff7f0e;\"/>\r\n   </g>\r\n   <g id=\"patch_84\">\r\n    <path clip-path=\"url(#pbfcd30222e)\" d=\"M 285.539882 239.758125 \r\nL 292.015704 239.758125 \r\nL 292.015704 229.896901 \r\nL 285.539882 229.896901 \r\nz\r\n\" style=\"fill:#ff7f0e;\"/>\r\n   </g>\r\n   <g id=\"patch_85\">\r\n    <path clip-path=\"url(#pbfcd30222e)\" d=\"M 292.015704 239.758125 \r\nL 298.491526 239.758125 \r\nL 298.491526 239.758125 \r\nL 292.015704 239.758125 \r\nz\r\n\" style=\"fill:#ff7f0e;\"/>\r\n   </g>\r\n   <g id=\"patch_86\">\r\n    <path clip-path=\"url(#pbfcd30222e)\" d=\"M 298.491526 239.758125 \r\nL 304.967348 239.758125 \r\nL 304.967348 239.758125 \r\nL 298.491526 239.758125 \r\nz\r\n\" style=\"fill:#ff7f0e;\"/>\r\n   </g>\r\n   <g id=\"patch_87\">\r\n    <path clip-path=\"url(#pbfcd30222e)\" d=\"M 304.967348 239.758125 \r\nL 311.44317 239.758125 \r\nL 311.44317 239.758125 \r\nL 304.967348 239.758125 \r\nz\r\n\" style=\"fill:#ff7f0e;\"/>\r\n   </g>\r\n   <g id=\"patch_88\">\r\n    <path clip-path=\"url(#pbfcd30222e)\" d=\"M 311.44317 239.758125 \r\nL 317.918992 239.758125 \r\nL 317.918992 239.758125 \r\nL 311.44317 239.758125 \r\nz\r\n\" style=\"fill:#ff7f0e;\"/>\r\n   </g>\r\n   <g id=\"patch_89\">\r\n    <path clip-path=\"url(#pbfcd30222e)\" d=\"M 317.918992 239.758125 \r\nL 324.394814 239.758125 \r\nL 324.394814 239.758125 \r\nL 317.918992 239.758125 \r\nz\r\n\" style=\"fill:#ff7f0e;\"/>\r\n   </g>\r\n   <g id=\"patch_90\">\r\n    <path clip-path=\"url(#pbfcd30222e)\" d=\"M 324.394814 239.758125 \r\nL 330.870636 239.758125 \r\nL 330.870636 239.758125 \r\nL 324.394814 239.758125 \r\nz\r\n\" style=\"fill:#ff7f0e;\"/>\r\n   </g>\r\n   <g id=\"patch_91\">\r\n    <path clip-path=\"url(#pbfcd30222e)\" d=\"M 330.870636 239.758125 \r\nL 337.346458 239.758125 \r\nL 337.346458 239.758125 \r\nL 330.870636 239.758125 \r\nz\r\n\" style=\"fill:#ff7f0e;\"/>\r\n   </g>\r\n   <g id=\"patch_92\">\r\n    <path clip-path=\"url(#pbfcd30222e)\" d=\"M 337.346458 239.758125 \r\nL 343.82228 239.758125 \r\nL 343.82228 239.758125 \r\nL 337.346458 239.758125 \r\nz\r\n\" style=\"fill:#ff7f0e;\"/>\r\n   </g>\r\n   <g id=\"patch_93\">\r\n    <path clip-path=\"url(#pbfcd30222e)\" d=\"M 343.82228 239.758125 \r\nL 350.298102 239.758125 \r\nL 350.298102 239.758125 \r\nL 343.82228 239.758125 \r\nz\r\n\" style=\"fill:#ff7f0e;\"/>\r\n   </g>\r\n   <g id=\"patch_94\">\r\n    <path clip-path=\"url(#pbfcd30222e)\" d=\"M 350.298102 239.758125 \r\nL 356.773924 239.758125 \r\nL 356.773924 239.758125 \r\nL 350.298102 239.758125 \r\nz\r\n\" style=\"fill:#ff7f0e;\"/>\r\n   </g>\r\n   <g id=\"patch_95\">\r\n    <path clip-path=\"url(#pbfcd30222e)\" d=\"M 356.773924 239.758125 \r\nL 363.249746 239.758125 \r\nL 363.249746 239.758125 \r\nL 356.773924 239.758125 \r\nz\r\n\" style=\"fill:#ff7f0e;\"/>\r\n   </g>\r\n   <g id=\"patch_96\">\r\n    <path clip-path=\"url(#pbfcd30222e)\" d=\"M 363.249746 239.758125 \r\nL 369.725568 239.758125 \r\nL 369.725568 239.758125 \r\nL 363.249746 239.758125 \r\nz\r\n\" style=\"fill:#ff7f0e;\"/>\r\n   </g>\r\n   <g id=\"matplotlib.axis_1\">\r\n    <g id=\"xtick_1\">\r\n     <g id=\"line2d_1\">\r\n      <path clip-path=\"url(#pbfcd30222e)\" d=\"M 58.88611 239.758125 \r\nL 58.88611 22.318125 \r\n\" style=\"fill:none;stroke:#b0b0b0;stroke-linecap:square;stroke-width:0.8;\"/>\r\n     </g>\r\n     <g id=\"line2d_2\">\r\n      <defs>\r\n       <path d=\"M 0 0 \r\nL 0 3.5 \r\n\" id=\"m5569872d09\" style=\"stroke:#000000;stroke-width:0.8;\"/>\r\n      </defs>\r\n      <g>\r\n       <use style=\"stroke:#000000;stroke-width:0.8;\" x=\"58.88611\" xlink:href=\"#m5569872d09\" y=\"239.758125\"/>\r\n      </g>\r\n     </g>\r\n     <g id=\"text_1\">\r\n      <!-- 0 -->\r\n      <g transform=\"translate(55.70486 254.356562)scale(0.1 -0.1)\">\r\n       <defs>\r\n        <path d=\"M 2034 4250 \r\nQ 1547 4250 1301 3770 \r\nQ 1056 3291 1056 2328 \r\nQ 1056 1369 1301 889 \r\nQ 1547 409 2034 409 \r\nQ 2525 409 2770 889 \r\nQ 3016 1369 3016 2328 \r\nQ 3016 3291 2770 3770 \r\nQ 2525 4250 2034 4250 \r\nz\r\nM 2034 4750 \r\nQ 2819 4750 3233 4129 \r\nQ 3647 3509 3647 2328 \r\nQ 3647 1150 3233 529 \r\nQ 2819 -91 2034 -91 \r\nQ 1250 -91 836 529 \r\nQ 422 1150 422 2328 \r\nQ 422 3509 836 4129 \r\nQ 1250 4750 2034 4750 \r\nz\r\n\" id=\"DejaVuSans-30\" transform=\"scale(0.015625)\"/>\r\n       </defs>\r\n       <use xlink:href=\"#DejaVuSans-30\"/>\r\n      </g>\r\n     </g>\r\n    </g>\r\n    <g id=\"xtick_2\">\r\n     <g id=\"line2d_3\">\r\n      <path clip-path=\"url(#pbfcd30222e)\" d=\"M 123.64433 239.758125 \r\nL 123.64433 22.318125 \r\n\" style=\"fill:none;stroke:#b0b0b0;stroke-linecap:square;stroke-width:0.8;\"/>\r\n     </g>\r\n     <g id=\"line2d_4\">\r\n      <g>\r\n       <use style=\"stroke:#000000;stroke-width:0.8;\" x=\"123.64433\" xlink:href=\"#m5569872d09\" y=\"239.758125\"/>\r\n      </g>\r\n     </g>\r\n     <g id=\"text_2\">\r\n      <!-- 10 -->\r\n      <g transform=\"translate(117.28183 254.356562)scale(0.1 -0.1)\">\r\n       <defs>\r\n        <path d=\"M 794 531 \r\nL 1825 531 \r\nL 1825 4091 \r\nL 703 3866 \r\nL 703 4441 \r\nL 1819 4666 \r\nL 2450 4666 \r\nL 2450 531 \r\nL 3481 531 \r\nL 3481 0 \r\nL 794 0 \r\nL 794 531 \r\nz\r\n\" id=\"DejaVuSans-31\" transform=\"scale(0.015625)\"/>\r\n       </defs>\r\n       <use xlink:href=\"#DejaVuSans-31\"/>\r\n       <use x=\"63.623047\" xlink:href=\"#DejaVuSans-30\"/>\r\n      </g>\r\n     </g>\r\n    </g>\r\n    <g id=\"xtick_3\">\r\n     <g id=\"line2d_5\">\r\n      <path clip-path=\"url(#pbfcd30222e)\" d=\"M 188.402551 239.758125 \r\nL 188.402551 22.318125 \r\n\" style=\"fill:none;stroke:#b0b0b0;stroke-linecap:square;stroke-width:0.8;\"/>\r\n     </g>\r\n     <g id=\"line2d_6\">\r\n      <g>\r\n       <use style=\"stroke:#000000;stroke-width:0.8;\" x=\"188.402551\" xlink:href=\"#m5569872d09\" y=\"239.758125\"/>\r\n      </g>\r\n     </g>\r\n     <g id=\"text_3\">\r\n      <!-- 20 -->\r\n      <g transform=\"translate(182.040051 254.356562)scale(0.1 -0.1)\">\r\n       <defs>\r\n        <path d=\"M 1228 531 \r\nL 3431 531 \r\nL 3431 0 \r\nL 469 0 \r\nL 469 531 \r\nQ 828 903 1448 1529 \r\nQ 2069 2156 2228 2338 \r\nQ 2531 2678 2651 2914 \r\nQ 2772 3150 2772 3378 \r\nQ 2772 3750 2511 3984 \r\nQ 2250 4219 1831 4219 \r\nQ 1534 4219 1204 4116 \r\nQ 875 4013 500 3803 \r\nL 500 4441 \r\nQ 881 4594 1212 4672 \r\nQ 1544 4750 1819 4750 \r\nQ 2544 4750 2975 4387 \r\nQ 3406 4025 3406 3419 \r\nQ 3406 3131 3298 2873 \r\nQ 3191 2616 2906 2266 \r\nQ 2828 2175 2409 1742 \r\nQ 1991 1309 1228 531 \r\nz\r\n\" id=\"DejaVuSans-32\" transform=\"scale(0.015625)\"/>\r\n       </defs>\r\n       <use xlink:href=\"#DejaVuSans-32\"/>\r\n       <use x=\"63.623047\" xlink:href=\"#DejaVuSans-30\"/>\r\n      </g>\r\n     </g>\r\n    </g>\r\n    <g id=\"xtick_4\">\r\n     <g id=\"line2d_7\">\r\n      <path clip-path=\"url(#pbfcd30222e)\" d=\"M 253.160771 239.758125 \r\nL 253.160771 22.318125 \r\n\" style=\"fill:none;stroke:#b0b0b0;stroke-linecap:square;stroke-width:0.8;\"/>\r\n     </g>\r\n     <g id=\"line2d_8\">\r\n      <g>\r\n       <use style=\"stroke:#000000;stroke-width:0.8;\" x=\"253.160771\" xlink:href=\"#m5569872d09\" y=\"239.758125\"/>\r\n      </g>\r\n     </g>\r\n     <g id=\"text_4\">\r\n      <!-- 30 -->\r\n      <g transform=\"translate(246.798271 254.356562)scale(0.1 -0.1)\">\r\n       <defs>\r\n        <path d=\"M 2597 2516 \r\nQ 3050 2419 3304 2112 \r\nQ 3559 1806 3559 1356 \r\nQ 3559 666 3084 287 \r\nQ 2609 -91 1734 -91 \r\nQ 1441 -91 1130 -33 \r\nQ 819 25 488 141 \r\nL 488 750 \r\nQ 750 597 1062 519 \r\nQ 1375 441 1716 441 \r\nQ 2309 441 2620 675 \r\nQ 2931 909 2931 1356 \r\nQ 2931 1769 2642 2001 \r\nQ 2353 2234 1838 2234 \r\nL 1294 2234 \r\nL 1294 2753 \r\nL 1863 2753 \r\nQ 2328 2753 2575 2939 \r\nQ 2822 3125 2822 3475 \r\nQ 2822 3834 2567 4026 \r\nQ 2313 4219 1838 4219 \r\nQ 1578 4219 1281 4162 \r\nQ 984 4106 628 3988 \r\nL 628 4550 \r\nQ 988 4650 1302 4700 \r\nQ 1616 4750 1894 4750 \r\nQ 2613 4750 3031 4423 \r\nQ 3450 4097 3450 3541 \r\nQ 3450 3153 3228 2886 \r\nQ 3006 2619 2597 2516 \r\nz\r\n\" id=\"DejaVuSans-33\" transform=\"scale(0.015625)\"/>\r\n       </defs>\r\n       <use xlink:href=\"#DejaVuSans-33\"/>\r\n       <use x=\"63.623047\" xlink:href=\"#DejaVuSans-30\"/>\r\n      </g>\r\n     </g>\r\n    </g>\r\n    <g id=\"xtick_5\">\r\n     <g id=\"line2d_9\">\r\n      <path clip-path=\"url(#pbfcd30222e)\" d=\"M 317.918992 239.758125 \r\nL 317.918992 22.318125 \r\n\" style=\"fill:none;stroke:#b0b0b0;stroke-linecap:square;stroke-width:0.8;\"/>\r\n     </g>\r\n     <g id=\"line2d_10\">\r\n      <g>\r\n       <use style=\"stroke:#000000;stroke-width:0.8;\" x=\"317.918992\" xlink:href=\"#m5569872d09\" y=\"239.758125\"/>\r\n      </g>\r\n     </g>\r\n     <g id=\"text_5\">\r\n      <!-- 40 -->\r\n      <g transform=\"translate(311.556492 254.356562)scale(0.1 -0.1)\">\r\n       <defs>\r\n        <path d=\"M 2419 4116 \r\nL 825 1625 \r\nL 2419 1625 \r\nL 2419 4116 \r\nz\r\nM 2253 4666 \r\nL 3047 4666 \r\nL 3047 1625 \r\nL 3713 1625 \r\nL 3713 1100 \r\nL 3047 1100 \r\nL 3047 0 \r\nL 2419 0 \r\nL 2419 1100 \r\nL 313 1100 \r\nL 313 1709 \r\nL 2253 4666 \r\nz\r\n\" id=\"DejaVuSans-34\" transform=\"scale(0.015625)\"/>\r\n       </defs>\r\n       <use xlink:href=\"#DejaVuSans-34\"/>\r\n       <use x=\"63.623047\" xlink:href=\"#DejaVuSans-30\"/>\r\n      </g>\r\n     </g>\r\n    </g>\r\n    <g id=\"xtick_6\">\r\n     <g id=\"line2d_11\">\r\n      <path clip-path=\"url(#pbfcd30222e)\" d=\"M 382.677212 239.758125 \r\nL 382.677212 22.318125 \r\n\" style=\"fill:none;stroke:#b0b0b0;stroke-linecap:square;stroke-width:0.8;\"/>\r\n     </g>\r\n     <g id=\"line2d_12\">\r\n      <g>\r\n       <use style=\"stroke:#000000;stroke-width:0.8;\" x=\"382.677212\" xlink:href=\"#m5569872d09\" y=\"239.758125\"/>\r\n      </g>\r\n     </g>\r\n     <g id=\"text_6\">\r\n      <!-- 50 -->\r\n      <g transform=\"translate(376.314712 254.356562)scale(0.1 -0.1)\">\r\n       <defs>\r\n        <path d=\"M 691 4666 \r\nL 3169 4666 \r\nL 3169 4134 \r\nL 1269 4134 \r\nL 1269 2991 \r\nQ 1406 3038 1543 3061 \r\nQ 1681 3084 1819 3084 \r\nQ 2600 3084 3056 2656 \r\nQ 3513 2228 3513 1497 \r\nQ 3513 744 3044 326 \r\nQ 2575 -91 1722 -91 \r\nQ 1428 -91 1123 -41 \r\nQ 819 9 494 109 \r\nL 494 744 \r\nQ 775 591 1075 516 \r\nQ 1375 441 1709 441 \r\nQ 2250 441 2565 725 \r\nQ 2881 1009 2881 1497 \r\nQ 2881 1984 2565 2268 \r\nQ 2250 2553 1709 2553 \r\nQ 1456 2553 1204 2497 \r\nQ 953 2441 691 2322 \r\nL 691 4666 \r\nz\r\n\" id=\"DejaVuSans-35\" transform=\"scale(0.015625)\"/>\r\n       </defs>\r\n       <use xlink:href=\"#DejaVuSans-35\"/>\r\n       <use x=\"63.623047\" xlink:href=\"#DejaVuSans-30\"/>\r\n      </g>\r\n     </g>\r\n    </g>\r\n    <g id=\"text_7\">\r\n     <!-- GB of data per month -->\r\n     <g transform=\"translate(163.267188 268.034687)scale(0.1 -0.1)\">\r\n      <defs>\r\n       <path d=\"M 3809 666 \r\nL 3809 1919 \r\nL 2778 1919 \r\nL 2778 2438 \r\nL 4434 2438 \r\nL 4434 434 \r\nQ 4069 175 3628 42 \r\nQ 3188 -91 2688 -91 \r\nQ 1594 -91 976 548 \r\nQ 359 1188 359 2328 \r\nQ 359 3472 976 4111 \r\nQ 1594 4750 2688 4750 \r\nQ 3144 4750 3555 4637 \r\nQ 3966 4525 4313 4306 \r\nL 4313 3634 \r\nQ 3963 3931 3569 4081 \r\nQ 3175 4231 2741 4231 \r\nQ 1884 4231 1454 3753 \r\nQ 1025 3275 1025 2328 \r\nQ 1025 1384 1454 906 \r\nQ 1884 428 2741 428 \r\nQ 3075 428 3337 486 \r\nQ 3600 544 3809 666 \r\nz\r\n\" id=\"DejaVuSans-47\" transform=\"scale(0.015625)\"/>\r\n       <path d=\"M 1259 2228 \r\nL 1259 519 \r\nL 2272 519 \r\nQ 2781 519 3026 730 \r\nQ 3272 941 3272 1375 \r\nQ 3272 1813 3026 2020 \r\nQ 2781 2228 2272 2228 \r\nL 1259 2228 \r\nz\r\nM 1259 4147 \r\nL 1259 2741 \r\nL 2194 2741 \r\nQ 2656 2741 2882 2914 \r\nQ 3109 3088 3109 3444 \r\nQ 3109 3797 2882 3972 \r\nQ 2656 4147 2194 4147 \r\nL 1259 4147 \r\nz\r\nM 628 4666 \r\nL 2241 4666 \r\nQ 2963 4666 3353 4366 \r\nQ 3744 4066 3744 3513 \r\nQ 3744 3084 3544 2831 \r\nQ 3344 2578 2956 2516 \r\nQ 3422 2416 3680 2098 \r\nQ 3938 1781 3938 1306 \r\nQ 3938 681 3513 340 \r\nQ 3088 0 2303 0 \r\nL 628 0 \r\nL 628 4666 \r\nz\r\n\" id=\"DejaVuSans-42\" transform=\"scale(0.015625)\"/>\r\n       <path id=\"DejaVuSans-20\" transform=\"scale(0.015625)\"/>\r\n       <path d=\"M 1959 3097 \r\nQ 1497 3097 1228 2736 \r\nQ 959 2375 959 1747 \r\nQ 959 1119 1226 758 \r\nQ 1494 397 1959 397 \r\nQ 2419 397 2687 759 \r\nQ 2956 1122 2956 1747 \r\nQ 2956 2369 2687 2733 \r\nQ 2419 3097 1959 3097 \r\nz\r\nM 1959 3584 \r\nQ 2709 3584 3137 3096 \r\nQ 3566 2609 3566 1747 \r\nQ 3566 888 3137 398 \r\nQ 2709 -91 1959 -91 \r\nQ 1206 -91 779 398 \r\nQ 353 888 353 1747 \r\nQ 353 2609 779 3096 \r\nQ 1206 3584 1959 3584 \r\nz\r\n\" id=\"DejaVuSans-6f\" transform=\"scale(0.015625)\"/>\r\n       <path d=\"M 2375 4863 \r\nL 2375 4384 \r\nL 1825 4384 \r\nQ 1516 4384 1395 4259 \r\nQ 1275 4134 1275 3809 \r\nL 1275 3500 \r\nL 2222 3500 \r\nL 2222 3053 \r\nL 1275 3053 \r\nL 1275 0 \r\nL 697 0 \r\nL 697 3053 \r\nL 147 3053 \r\nL 147 3500 \r\nL 697 3500 \r\nL 697 3744 \r\nQ 697 4328 969 4595 \r\nQ 1241 4863 1831 4863 \r\nL 2375 4863 \r\nz\r\n\" id=\"DejaVuSans-66\" transform=\"scale(0.015625)\"/>\r\n       <path d=\"M 2906 2969 \r\nL 2906 4863 \r\nL 3481 4863 \r\nL 3481 0 \r\nL 2906 0 \r\nL 2906 525 \r\nQ 2725 213 2448 61 \r\nQ 2172 -91 1784 -91 \r\nQ 1150 -91 751 415 \r\nQ 353 922 353 1747 \r\nQ 353 2572 751 3078 \r\nQ 1150 3584 1784 3584 \r\nQ 2172 3584 2448 3432 \r\nQ 2725 3281 2906 2969 \r\nz\r\nM 947 1747 \r\nQ 947 1113 1208 752 \r\nQ 1469 391 1925 391 \r\nQ 2381 391 2643 752 \r\nQ 2906 1113 2906 1747 \r\nQ 2906 2381 2643 2742 \r\nQ 2381 3103 1925 3103 \r\nQ 1469 3103 1208 2742 \r\nQ 947 2381 947 1747 \r\nz\r\n\" id=\"DejaVuSans-64\" transform=\"scale(0.015625)\"/>\r\n       <path d=\"M 2194 1759 \r\nQ 1497 1759 1228 1600 \r\nQ 959 1441 959 1056 \r\nQ 959 750 1161 570 \r\nQ 1363 391 1709 391 \r\nQ 2188 391 2477 730 \r\nQ 2766 1069 2766 1631 \r\nL 2766 1759 \r\nL 2194 1759 \r\nz\r\nM 3341 1997 \r\nL 3341 0 \r\nL 2766 0 \r\nL 2766 531 \r\nQ 2569 213 2275 61 \r\nQ 1981 -91 1556 -91 \r\nQ 1019 -91 701 211 \r\nQ 384 513 384 1019 \r\nQ 384 1609 779 1909 \r\nQ 1175 2209 1959 2209 \r\nL 2766 2209 \r\nL 2766 2266 \r\nQ 2766 2663 2505 2880 \r\nQ 2244 3097 1772 3097 \r\nQ 1472 3097 1187 3025 \r\nQ 903 2953 641 2809 \r\nL 641 3341 \r\nQ 956 3463 1253 3523 \r\nQ 1550 3584 1831 3584 \r\nQ 2591 3584 2966 3190 \r\nQ 3341 2797 3341 1997 \r\nz\r\n\" id=\"DejaVuSans-61\" transform=\"scale(0.015625)\"/>\r\n       <path d=\"M 1172 4494 \r\nL 1172 3500 \r\nL 2356 3500 \r\nL 2356 3053 \r\nL 1172 3053 \r\nL 1172 1153 \r\nQ 1172 725 1289 603 \r\nQ 1406 481 1766 481 \r\nL 2356 481 \r\nL 2356 0 \r\nL 1766 0 \r\nQ 1100 0 847 248 \r\nQ 594 497 594 1153 \r\nL 594 3053 \r\nL 172 3053 \r\nL 172 3500 \r\nL 594 3500 \r\nL 594 4494 \r\nL 1172 4494 \r\nz\r\n\" id=\"DejaVuSans-74\" transform=\"scale(0.015625)\"/>\r\n       <path d=\"M 1159 525 \r\nL 1159 -1331 \r\nL 581 -1331 \r\nL 581 3500 \r\nL 1159 3500 \r\nL 1159 2969 \r\nQ 1341 3281 1617 3432 \r\nQ 1894 3584 2278 3584 \r\nQ 2916 3584 3314 3078 \r\nQ 3713 2572 3713 1747 \r\nQ 3713 922 3314 415 \r\nQ 2916 -91 2278 -91 \r\nQ 1894 -91 1617 61 \r\nQ 1341 213 1159 525 \r\nz\r\nM 3116 1747 \r\nQ 3116 2381 2855 2742 \r\nQ 2594 3103 2138 3103 \r\nQ 1681 3103 1420 2742 \r\nQ 1159 2381 1159 1747 \r\nQ 1159 1113 1420 752 \r\nQ 1681 391 2138 391 \r\nQ 2594 391 2855 752 \r\nQ 3116 1113 3116 1747 \r\nz\r\n\" id=\"DejaVuSans-70\" transform=\"scale(0.015625)\"/>\r\n       <path d=\"M 3597 1894 \r\nL 3597 1613 \r\nL 953 1613 \r\nQ 991 1019 1311 708 \r\nQ 1631 397 2203 397 \r\nQ 2534 397 2845 478 \r\nQ 3156 559 3463 722 \r\nL 3463 178 \r\nQ 3153 47 2828 -22 \r\nQ 2503 -91 2169 -91 \r\nQ 1331 -91 842 396 \r\nQ 353 884 353 1716 \r\nQ 353 2575 817 3079 \r\nQ 1281 3584 2069 3584 \r\nQ 2775 3584 3186 3129 \r\nQ 3597 2675 3597 1894 \r\nz\r\nM 3022 2063 \r\nQ 3016 2534 2758 2815 \r\nQ 2500 3097 2075 3097 \r\nQ 1594 3097 1305 2825 \r\nQ 1016 2553 972 2059 \r\nL 3022 2063 \r\nz\r\n\" id=\"DejaVuSans-65\" transform=\"scale(0.015625)\"/>\r\n       <path d=\"M 2631 2963 \r\nQ 2534 3019 2420 3045 \r\nQ 2306 3072 2169 3072 \r\nQ 1681 3072 1420 2755 \r\nQ 1159 2438 1159 1844 \r\nL 1159 0 \r\nL 581 0 \r\nL 581 3500 \r\nL 1159 3500 \r\nL 1159 2956 \r\nQ 1341 3275 1631 3429 \r\nQ 1922 3584 2338 3584 \r\nQ 2397 3584 2469 3576 \r\nQ 2541 3569 2628 3553 \r\nL 2631 2963 \r\nz\r\n\" id=\"DejaVuSans-72\" transform=\"scale(0.015625)\"/>\r\n       <path d=\"M 3328 2828 \r\nQ 3544 3216 3844 3400 \r\nQ 4144 3584 4550 3584 \r\nQ 5097 3584 5394 3201 \r\nQ 5691 2819 5691 2113 \r\nL 5691 0 \r\nL 5113 0 \r\nL 5113 2094 \r\nQ 5113 2597 4934 2840 \r\nQ 4756 3084 4391 3084 \r\nQ 3944 3084 3684 2787 \r\nQ 3425 2491 3425 1978 \r\nL 3425 0 \r\nL 2847 0 \r\nL 2847 2094 \r\nQ 2847 2600 2669 2842 \r\nQ 2491 3084 2119 3084 \r\nQ 1678 3084 1418 2786 \r\nQ 1159 2488 1159 1978 \r\nL 1159 0 \r\nL 581 0 \r\nL 581 3500 \r\nL 1159 3500 \r\nL 1159 2956 \r\nQ 1356 3278 1631 3431 \r\nQ 1906 3584 2284 3584 \r\nQ 2666 3584 2933 3390 \r\nQ 3200 3197 3328 2828 \r\nz\r\n\" id=\"DejaVuSans-6d\" transform=\"scale(0.015625)\"/>\r\n       <path d=\"M 3513 2113 \r\nL 3513 0 \r\nL 2938 0 \r\nL 2938 2094 \r\nQ 2938 2591 2744 2837 \r\nQ 2550 3084 2163 3084 \r\nQ 1697 3084 1428 2787 \r\nQ 1159 2491 1159 1978 \r\nL 1159 0 \r\nL 581 0 \r\nL 581 3500 \r\nL 1159 3500 \r\nL 1159 2956 \r\nQ 1366 3272 1645 3428 \r\nQ 1925 3584 2291 3584 \r\nQ 2894 3584 3203 3211 \r\nQ 3513 2838 3513 2113 \r\nz\r\n\" id=\"DejaVuSans-6e\" transform=\"scale(0.015625)\"/>\r\n       <path d=\"M 3513 2113 \r\nL 3513 0 \r\nL 2938 0 \r\nL 2938 2094 \r\nQ 2938 2591 2744 2837 \r\nQ 2550 3084 2163 3084 \r\nQ 1697 3084 1428 2787 \r\nQ 1159 2491 1159 1978 \r\nL 1159 0 \r\nL 581 0 \r\nL 581 4863 \r\nL 1159 4863 \r\nL 1159 2956 \r\nQ 1366 3272 1645 3428 \r\nQ 1925 3584 2291 3584 \r\nQ 2894 3584 3203 3211 \r\nQ 3513 2838 3513 2113 \r\nz\r\n\" id=\"DejaVuSans-68\" transform=\"scale(0.015625)\"/>\r\n      </defs>\r\n      <use xlink:href=\"#DejaVuSans-47\"/>\r\n      <use x=\"77.490234\" xlink:href=\"#DejaVuSans-42\"/>\r\n      <use x=\"146.09375\" xlink:href=\"#DejaVuSans-20\"/>\r\n      <use x=\"177.880859\" xlink:href=\"#DejaVuSans-6f\"/>\r\n      <use x=\"239.0625\" xlink:href=\"#DejaVuSans-66\"/>\r\n      <use x=\"274.267578\" xlink:href=\"#DejaVuSans-20\"/>\r\n      <use x=\"306.054688\" xlink:href=\"#DejaVuSans-64\"/>\r\n      <use x=\"369.53125\" xlink:href=\"#DejaVuSans-61\"/>\r\n      <use x=\"430.810547\" xlink:href=\"#DejaVuSans-74\"/>\r\n      <use x=\"470.019531\" xlink:href=\"#DejaVuSans-61\"/>\r\n      <use x=\"531.298828\" xlink:href=\"#DejaVuSans-20\"/>\r\n      <use x=\"563.085938\" xlink:href=\"#DejaVuSans-70\"/>\r\n      <use x=\"626.5625\" xlink:href=\"#DejaVuSans-65\"/>\r\n      <use x=\"688.085938\" xlink:href=\"#DejaVuSans-72\"/>\r\n      <use x=\"729.199219\" xlink:href=\"#DejaVuSans-20\"/>\r\n      <use x=\"760.986328\" xlink:href=\"#DejaVuSans-6d\"/>\r\n      <use x=\"858.398438\" xlink:href=\"#DejaVuSans-6f\"/>\r\n      <use x=\"919.580078\" xlink:href=\"#DejaVuSans-6e\"/>\r\n      <use x=\"982.958984\" xlink:href=\"#DejaVuSans-74\"/>\r\n      <use x=\"1022.167969\" xlink:href=\"#DejaVuSans-68\"/>\r\n     </g>\r\n    </g>\r\n   </g>\r\n   <g id=\"matplotlib.axis_2\">\r\n    <g id=\"ytick_1\">\r\n     <g id=\"line2d_13\">\r\n      <path clip-path=\"url(#pbfcd30222e)\" d=\"M 50.14375 239.758125 \r\nL 384.94375 239.758125 \r\n\" style=\"fill:none;stroke:#b0b0b0;stroke-linecap:square;stroke-width:0.8;\"/>\r\n     </g>\r\n     <g id=\"line2d_14\">\r\n      <defs>\r\n       <path d=\"M 0 0 \r\nL -3.5 0 \r\n\" id=\"m8ae4ea91ce\" style=\"stroke:#000000;stroke-width:0.8;\"/>\r\n      </defs>\r\n      <g>\r\n       <use style=\"stroke:#000000;stroke-width:0.8;\" x=\"50.14375\" xlink:href=\"#m8ae4ea91ce\" y=\"239.758125\"/>\r\n      </g>\r\n     </g>\r\n     <g id=\"text_8\">\r\n      <!-- 0.00 -->\r\n      <g transform=\"translate(20.878125 243.557344)scale(0.1 -0.1)\">\r\n       <defs>\r\n        <path d=\"M 684 794 \r\nL 1344 794 \r\nL 1344 0 \r\nL 684 0 \r\nL 684 794 \r\nz\r\n\" id=\"DejaVuSans-2e\" transform=\"scale(0.015625)\"/>\r\n       </defs>\r\n       <use xlink:href=\"#DejaVuSans-30\"/>\r\n       <use x=\"63.623047\" xlink:href=\"#DejaVuSans-2e\"/>\r\n       <use x=\"95.410156\" xlink:href=\"#DejaVuSans-30\"/>\r\n       <use x=\"159.033203\" xlink:href=\"#DejaVuSans-30\"/>\r\n      </g>\r\n     </g>\r\n    </g>\r\n    <g id=\"ytick_2\">\r\n     <g id=\"line2d_15\">\r\n      <path clip-path=\"url(#pbfcd30222e)\" d=\"M 50.14375 208.79388 \r\nL 384.94375 208.79388 \r\n\" style=\"fill:none;stroke:#b0b0b0;stroke-linecap:square;stroke-width:0.8;\"/>\r\n     </g>\r\n     <g id=\"line2d_16\">\r\n      <g>\r\n       <use style=\"stroke:#000000;stroke-width:0.8;\" x=\"50.14375\" xlink:href=\"#m8ae4ea91ce\" y=\"208.79388\"/>\r\n      </g>\r\n     </g>\r\n     <g id=\"text_9\">\r\n      <!-- 0.02 -->\r\n      <g transform=\"translate(20.878125 212.593099)scale(0.1 -0.1)\">\r\n       <use xlink:href=\"#DejaVuSans-30\"/>\r\n       <use x=\"63.623047\" xlink:href=\"#DejaVuSans-2e\"/>\r\n       <use x=\"95.410156\" xlink:href=\"#DejaVuSans-30\"/>\r\n       <use x=\"159.033203\" xlink:href=\"#DejaVuSans-32\"/>\r\n      </g>\r\n     </g>\r\n    </g>\r\n    <g id=\"ytick_3\">\r\n     <g id=\"line2d_17\">\r\n      <path clip-path=\"url(#pbfcd30222e)\" d=\"M 50.14375 177.829635 \r\nL 384.94375 177.829635 \r\n\" style=\"fill:none;stroke:#b0b0b0;stroke-linecap:square;stroke-width:0.8;\"/>\r\n     </g>\r\n     <g id=\"line2d_18\">\r\n      <g>\r\n       <use style=\"stroke:#000000;stroke-width:0.8;\" x=\"50.14375\" xlink:href=\"#m8ae4ea91ce\" y=\"177.829635\"/>\r\n      </g>\r\n     </g>\r\n     <g id=\"text_10\">\r\n      <!-- 0.04 -->\r\n      <g transform=\"translate(20.878125 181.628854)scale(0.1 -0.1)\">\r\n       <use xlink:href=\"#DejaVuSans-30\"/>\r\n       <use x=\"63.623047\" xlink:href=\"#DejaVuSans-2e\"/>\r\n       <use x=\"95.410156\" xlink:href=\"#DejaVuSans-30\"/>\r\n       <use x=\"159.033203\" xlink:href=\"#DejaVuSans-34\"/>\r\n      </g>\r\n     </g>\r\n    </g>\r\n    <g id=\"ytick_4\">\r\n     <g id=\"line2d_19\">\r\n      <path clip-path=\"url(#pbfcd30222e)\" d=\"M 50.14375 146.86539 \r\nL 384.94375 146.86539 \r\n\" style=\"fill:none;stroke:#b0b0b0;stroke-linecap:square;stroke-width:0.8;\"/>\r\n     </g>\r\n     <g id=\"line2d_20\">\r\n      <g>\r\n       <use style=\"stroke:#000000;stroke-width:0.8;\" x=\"50.14375\" xlink:href=\"#m8ae4ea91ce\" y=\"146.86539\"/>\r\n      </g>\r\n     </g>\r\n     <g id=\"text_11\">\r\n      <!-- 0.06 -->\r\n      <g transform=\"translate(20.878125 150.664609)scale(0.1 -0.1)\">\r\n       <defs>\r\n        <path d=\"M 2113 2584 \r\nQ 1688 2584 1439 2293 \r\nQ 1191 2003 1191 1497 \r\nQ 1191 994 1439 701 \r\nQ 1688 409 2113 409 \r\nQ 2538 409 2786 701 \r\nQ 3034 994 3034 1497 \r\nQ 3034 2003 2786 2293 \r\nQ 2538 2584 2113 2584 \r\nz\r\nM 3366 4563 \r\nL 3366 3988 \r\nQ 3128 4100 2886 4159 \r\nQ 2644 4219 2406 4219 \r\nQ 1781 4219 1451 3797 \r\nQ 1122 3375 1075 2522 \r\nQ 1259 2794 1537 2939 \r\nQ 1816 3084 2150 3084 \r\nQ 2853 3084 3261 2657 \r\nQ 3669 2231 3669 1497 \r\nQ 3669 778 3244 343 \r\nQ 2819 -91 2113 -91 \r\nQ 1303 -91 875 529 \r\nQ 447 1150 447 2328 \r\nQ 447 3434 972 4092 \r\nQ 1497 4750 2381 4750 \r\nQ 2619 4750 2861 4703 \r\nQ 3103 4656 3366 4563 \r\nz\r\n\" id=\"DejaVuSans-36\" transform=\"scale(0.015625)\"/>\r\n       </defs>\r\n       <use xlink:href=\"#DejaVuSans-30\"/>\r\n       <use x=\"63.623047\" xlink:href=\"#DejaVuSans-2e\"/>\r\n       <use x=\"95.410156\" xlink:href=\"#DejaVuSans-30\"/>\r\n       <use x=\"159.033203\" xlink:href=\"#DejaVuSans-36\"/>\r\n      </g>\r\n     </g>\r\n    </g>\r\n    <g id=\"ytick_5\">\r\n     <g id=\"line2d_21\">\r\n      <path clip-path=\"url(#pbfcd30222e)\" d=\"M 50.14375 115.901145 \r\nL 384.94375 115.901145 \r\n\" style=\"fill:none;stroke:#b0b0b0;stroke-linecap:square;stroke-width:0.8;\"/>\r\n     </g>\r\n     <g id=\"line2d_22\">\r\n      <g>\r\n       <use style=\"stroke:#000000;stroke-width:0.8;\" x=\"50.14375\" xlink:href=\"#m8ae4ea91ce\" y=\"115.901145\"/>\r\n      </g>\r\n     </g>\r\n     <g id=\"text_12\">\r\n      <!-- 0.08 -->\r\n      <g transform=\"translate(20.878125 119.700364)scale(0.1 -0.1)\">\r\n       <defs>\r\n        <path d=\"M 2034 2216 \r\nQ 1584 2216 1326 1975 \r\nQ 1069 1734 1069 1313 \r\nQ 1069 891 1326 650 \r\nQ 1584 409 2034 409 \r\nQ 2484 409 2743 651 \r\nQ 3003 894 3003 1313 \r\nQ 3003 1734 2745 1975 \r\nQ 2488 2216 2034 2216 \r\nz\r\nM 1403 2484 \r\nQ 997 2584 770 2862 \r\nQ 544 3141 544 3541 \r\nQ 544 4100 942 4425 \r\nQ 1341 4750 2034 4750 \r\nQ 2731 4750 3128 4425 \r\nQ 3525 4100 3525 3541 \r\nQ 3525 3141 3298 2862 \r\nQ 3072 2584 2669 2484 \r\nQ 3125 2378 3379 2068 \r\nQ 3634 1759 3634 1313 \r\nQ 3634 634 3220 271 \r\nQ 2806 -91 2034 -91 \r\nQ 1263 -91 848 271 \r\nQ 434 634 434 1313 \r\nQ 434 1759 690 2068 \r\nQ 947 2378 1403 2484 \r\nz\r\nM 1172 3481 \r\nQ 1172 3119 1398 2916 \r\nQ 1625 2713 2034 2713 \r\nQ 2441 2713 2670 2916 \r\nQ 2900 3119 2900 3481 \r\nQ 2900 3844 2670 4047 \r\nQ 2441 4250 2034 4250 \r\nQ 1625 4250 1398 4047 \r\nQ 1172 3844 1172 3481 \r\nz\r\n\" id=\"DejaVuSans-38\" transform=\"scale(0.015625)\"/>\r\n       </defs>\r\n       <use xlink:href=\"#DejaVuSans-30\"/>\r\n       <use x=\"63.623047\" xlink:href=\"#DejaVuSans-2e\"/>\r\n       <use x=\"95.410156\" xlink:href=\"#DejaVuSans-30\"/>\r\n       <use x=\"159.033203\" xlink:href=\"#DejaVuSans-38\"/>\r\n      </g>\r\n     </g>\r\n    </g>\r\n    <g id=\"ytick_6\">\r\n     <g id=\"line2d_23\">\r\n      <path clip-path=\"url(#pbfcd30222e)\" d=\"M 50.14375 84.936901 \r\nL 384.94375 84.936901 \r\n\" style=\"fill:none;stroke:#b0b0b0;stroke-linecap:square;stroke-width:0.8;\"/>\r\n     </g>\r\n     <g id=\"line2d_24\">\r\n      <g>\r\n       <use style=\"stroke:#000000;stroke-width:0.8;\" x=\"50.14375\" xlink:href=\"#m8ae4ea91ce\" y=\"84.936901\"/>\r\n      </g>\r\n     </g>\r\n     <g id=\"text_13\">\r\n      <!-- 0.10 -->\r\n      <g transform=\"translate(20.878125 88.736119)scale(0.1 -0.1)\">\r\n       <use xlink:href=\"#DejaVuSans-30\"/>\r\n       <use x=\"63.623047\" xlink:href=\"#DejaVuSans-2e\"/>\r\n       <use x=\"95.410156\" xlink:href=\"#DejaVuSans-31\"/>\r\n       <use x=\"159.033203\" xlink:href=\"#DejaVuSans-30\"/>\r\n      </g>\r\n     </g>\r\n    </g>\r\n    <g id=\"ytick_7\">\r\n     <g id=\"line2d_25\">\r\n      <path clip-path=\"url(#pbfcd30222e)\" d=\"M 50.14375 53.972656 \r\nL 384.94375 53.972656 \r\n\" style=\"fill:none;stroke:#b0b0b0;stroke-linecap:square;stroke-width:0.8;\"/>\r\n     </g>\r\n     <g id=\"line2d_26\">\r\n      <g>\r\n       <use style=\"stroke:#000000;stroke-width:0.8;\" x=\"50.14375\" xlink:href=\"#m8ae4ea91ce\" y=\"53.972656\"/>\r\n      </g>\r\n     </g>\r\n     <g id=\"text_14\">\r\n      <!-- 0.12 -->\r\n      <g transform=\"translate(20.878125 57.771874)scale(0.1 -0.1)\">\r\n       <use xlink:href=\"#DejaVuSans-30\"/>\r\n       <use x=\"63.623047\" xlink:href=\"#DejaVuSans-2e\"/>\r\n       <use x=\"95.410156\" xlink:href=\"#DejaVuSans-31\"/>\r\n       <use x=\"159.033203\" xlink:href=\"#DejaVuSans-32\"/>\r\n      </g>\r\n     </g>\r\n    </g>\r\n    <g id=\"ytick_8\">\r\n     <g id=\"line2d_27\">\r\n      <path clip-path=\"url(#pbfcd30222e)\" d=\"M 50.14375 23.008411 \r\nL 384.94375 23.008411 \r\n\" style=\"fill:none;stroke:#b0b0b0;stroke-linecap:square;stroke-width:0.8;\"/>\r\n     </g>\r\n     <g id=\"line2d_28\">\r\n      <g>\r\n       <use style=\"stroke:#000000;stroke-width:0.8;\" x=\"50.14375\" xlink:href=\"#m8ae4ea91ce\" y=\"23.008411\"/>\r\n      </g>\r\n     </g>\r\n     <g id=\"text_15\">\r\n      <!-- 0.14 -->\r\n      <g transform=\"translate(20.878125 26.807629)scale(0.1 -0.1)\">\r\n       <use xlink:href=\"#DejaVuSans-30\"/>\r\n       <use x=\"63.623047\" xlink:href=\"#DejaVuSans-2e\"/>\r\n       <use x=\"95.410156\" xlink:href=\"#DejaVuSans-31\"/>\r\n       <use x=\"159.033203\" xlink:href=\"#DejaVuSans-34\"/>\r\n      </g>\r\n     </g>\r\n    </g>\r\n    <g id=\"text_16\">\r\n     <!-- Probability -->\r\n     <g transform=\"translate(14.798438 157.467031)rotate(-90)scale(0.1 -0.1)\">\r\n      <defs>\r\n       <path d=\"M 1259 4147 \r\nL 1259 2394 \r\nL 2053 2394 \r\nQ 2494 2394 2734 2622 \r\nQ 2975 2850 2975 3272 \r\nQ 2975 3691 2734 3919 \r\nQ 2494 4147 2053 4147 \r\nL 1259 4147 \r\nz\r\nM 628 4666 \r\nL 2053 4666 \r\nQ 2838 4666 3239 4311 \r\nQ 3641 3956 3641 3272 \r\nQ 3641 2581 3239 2228 \r\nQ 2838 1875 2053 1875 \r\nL 1259 1875 \r\nL 1259 0 \r\nL 628 0 \r\nL 628 4666 \r\nz\r\n\" id=\"DejaVuSans-50\" transform=\"scale(0.015625)\"/>\r\n       <path d=\"M 3116 1747 \r\nQ 3116 2381 2855 2742 \r\nQ 2594 3103 2138 3103 \r\nQ 1681 3103 1420 2742 \r\nQ 1159 2381 1159 1747 \r\nQ 1159 1113 1420 752 \r\nQ 1681 391 2138 391 \r\nQ 2594 391 2855 752 \r\nQ 3116 1113 3116 1747 \r\nz\r\nM 1159 2969 \r\nQ 1341 3281 1617 3432 \r\nQ 1894 3584 2278 3584 \r\nQ 2916 3584 3314 3078 \r\nQ 3713 2572 3713 1747 \r\nQ 3713 922 3314 415 \r\nQ 2916 -91 2278 -91 \r\nQ 1894 -91 1617 61 \r\nQ 1341 213 1159 525 \r\nL 1159 0 \r\nL 581 0 \r\nL 581 4863 \r\nL 1159 4863 \r\nL 1159 2969 \r\nz\r\n\" id=\"DejaVuSans-62\" transform=\"scale(0.015625)\"/>\r\n       <path d=\"M 603 3500 \r\nL 1178 3500 \r\nL 1178 0 \r\nL 603 0 \r\nL 603 3500 \r\nz\r\nM 603 4863 \r\nL 1178 4863 \r\nL 1178 4134 \r\nL 603 4134 \r\nL 603 4863 \r\nz\r\n\" id=\"DejaVuSans-69\" transform=\"scale(0.015625)\"/>\r\n       <path d=\"M 603 4863 \r\nL 1178 4863 \r\nL 1178 0 \r\nL 603 0 \r\nL 603 4863 \r\nz\r\n\" id=\"DejaVuSans-6c\" transform=\"scale(0.015625)\"/>\r\n       <path d=\"M 2059 -325 \r\nQ 1816 -950 1584 -1140 \r\nQ 1353 -1331 966 -1331 \r\nL 506 -1331 \r\nL 506 -850 \r\nL 844 -850 \r\nQ 1081 -850 1212 -737 \r\nQ 1344 -625 1503 -206 \r\nL 1606 56 \r\nL 191 3500 \r\nL 800 3500 \r\nL 1894 763 \r\nL 2988 3500 \r\nL 3597 3500 \r\nL 2059 -325 \r\nz\r\n\" id=\"DejaVuSans-79\" transform=\"scale(0.015625)\"/>\r\n      </defs>\r\n      <use xlink:href=\"#DejaVuSans-50\"/>\r\n      <use x=\"58.552734\" xlink:href=\"#DejaVuSans-72\"/>\r\n      <use x=\"97.416016\" xlink:href=\"#DejaVuSans-6f\"/>\r\n      <use x=\"158.597656\" xlink:href=\"#DejaVuSans-62\"/>\r\n      <use x=\"222.074219\" xlink:href=\"#DejaVuSans-61\"/>\r\n      <use x=\"283.353516\" xlink:href=\"#DejaVuSans-62\"/>\r\n      <use x=\"346.830078\" xlink:href=\"#DejaVuSans-69\"/>\r\n      <use x=\"374.613281\" xlink:href=\"#DejaVuSans-6c\"/>\r\n      <use x=\"402.396484\" xlink:href=\"#DejaVuSans-69\"/>\r\n      <use x=\"430.179688\" xlink:href=\"#DejaVuSans-74\"/>\r\n      <use x=\"469.388672\" xlink:href=\"#DejaVuSans-79\"/>\r\n     </g>\r\n    </g>\r\n   </g>\r\n   <g id=\"patch_97\">\r\n    <path d=\"M 50.14375 239.758125 \r\nL 50.14375 22.318125 \r\n\" style=\"fill:none;stroke:#000000;stroke-linecap:square;stroke-linejoin:miter;stroke-width:0.8;\"/>\r\n   </g>\r\n   <g id=\"patch_98\">\r\n    <path d=\"M 384.94375 239.758125 \r\nL 384.94375 22.318125 \r\n\" style=\"fill:none;stroke:#000000;stroke-linecap:square;stroke-linejoin:miter;stroke-width:0.8;\"/>\r\n   </g>\r\n   <g id=\"patch_99\">\r\n    <path d=\"M 50.14375 239.758125 \r\nL 384.94375 239.758125 \r\n\" style=\"fill:none;stroke:#000000;stroke-linecap:square;stroke-linejoin:miter;stroke-width:0.8;\"/>\r\n   </g>\r\n   <g id=\"patch_100\">\r\n    <path d=\"M 50.14375 22.318125 \r\nL 384.94375 22.318125 \r\n\" style=\"fill:none;stroke:#000000;stroke-linecap:square;stroke-linejoin:miter;stroke-width:0.8;\"/>\r\n   </g>\r\n   <g id=\"text_17\">\r\n    <!-- Average GB of data used per month by user -->\r\n    <g transform=\"translate(85.269063 16.318125)scale(0.12 -0.12)\">\r\n     <defs>\r\n      <path d=\"M 2188 4044 \r\nL 1331 1722 \r\nL 3047 1722 \r\nL 2188 4044 \r\nz\r\nM 1831 4666 \r\nL 2547 4666 \r\nL 4325 0 \r\nL 3669 0 \r\nL 3244 1197 \r\nL 1141 1197 \r\nL 716 0 \r\nL 50 0 \r\nL 1831 4666 \r\nz\r\n\" id=\"DejaVuSans-41\" transform=\"scale(0.015625)\"/>\r\n      <path d=\"M 191 3500 \r\nL 800 3500 \r\nL 1894 563 \r\nL 2988 3500 \r\nL 3597 3500 \r\nL 2284 0 \r\nL 1503 0 \r\nL 191 3500 \r\nz\r\n\" id=\"DejaVuSans-76\" transform=\"scale(0.015625)\"/>\r\n      <path d=\"M 2906 1791 \r\nQ 2906 2416 2648 2759 \r\nQ 2391 3103 1925 3103 \r\nQ 1463 3103 1205 2759 \r\nQ 947 2416 947 1791 \r\nQ 947 1169 1205 825 \r\nQ 1463 481 1925 481 \r\nQ 2391 481 2648 825 \r\nQ 2906 1169 2906 1791 \r\nz\r\nM 3481 434 \r\nQ 3481 -459 3084 -895 \r\nQ 2688 -1331 1869 -1331 \r\nQ 1566 -1331 1297 -1286 \r\nQ 1028 -1241 775 -1147 \r\nL 775 -588 \r\nQ 1028 -725 1275 -790 \r\nQ 1522 -856 1778 -856 \r\nQ 2344 -856 2625 -561 \r\nQ 2906 -266 2906 331 \r\nL 2906 616 \r\nQ 2728 306 2450 153 \r\nQ 2172 0 1784 0 \r\nQ 1141 0 747 490 \r\nQ 353 981 353 1791 \r\nQ 353 2603 747 3093 \r\nQ 1141 3584 1784 3584 \r\nQ 2172 3584 2450 3431 \r\nQ 2728 3278 2906 2969 \r\nL 2906 3500 \r\nL 3481 3500 \r\nL 3481 434 \r\nz\r\n\" id=\"DejaVuSans-67\" transform=\"scale(0.015625)\"/>\r\n      <path d=\"M 544 1381 \r\nL 544 3500 \r\nL 1119 3500 \r\nL 1119 1403 \r\nQ 1119 906 1312 657 \r\nQ 1506 409 1894 409 \r\nQ 2359 409 2629 706 \r\nQ 2900 1003 2900 1516 \r\nL 2900 3500 \r\nL 3475 3500 \r\nL 3475 0 \r\nL 2900 0 \r\nL 2900 538 \r\nQ 2691 219 2414 64 \r\nQ 2138 -91 1772 -91 \r\nQ 1169 -91 856 284 \r\nQ 544 659 544 1381 \r\nz\r\nM 1991 3584 \r\nL 1991 3584 \r\nz\r\n\" id=\"DejaVuSans-75\" transform=\"scale(0.015625)\"/>\r\n      <path d=\"M 2834 3397 \r\nL 2834 2853 \r\nQ 2591 2978 2328 3040 \r\nQ 2066 3103 1784 3103 \r\nQ 1356 3103 1142 2972 \r\nQ 928 2841 928 2578 \r\nQ 928 2378 1081 2264 \r\nQ 1234 2150 1697 2047 \r\nL 1894 2003 \r\nQ 2506 1872 2764 1633 \r\nQ 3022 1394 3022 966 \r\nQ 3022 478 2636 193 \r\nQ 2250 -91 1575 -91 \r\nQ 1294 -91 989 -36 \r\nQ 684 19 347 128 \r\nL 347 722 \r\nQ 666 556 975 473 \r\nQ 1284 391 1588 391 \r\nQ 1994 391 2212 530 \r\nQ 2431 669 2431 922 \r\nQ 2431 1156 2273 1281 \r\nQ 2116 1406 1581 1522 \r\nL 1381 1569 \r\nQ 847 1681 609 1914 \r\nQ 372 2147 372 2553 \r\nQ 372 3047 722 3315 \r\nQ 1072 3584 1716 3584 \r\nQ 2034 3584 2315 3537 \r\nQ 2597 3491 2834 3397 \r\nz\r\n\" id=\"DejaVuSans-73\" transform=\"scale(0.015625)\"/>\r\n     </defs>\r\n     <use xlink:href=\"#DejaVuSans-41\"/>\r\n     <use x=\"62.533203\" xlink:href=\"#DejaVuSans-76\"/>\r\n     <use x=\"121.712891\" xlink:href=\"#DejaVuSans-65\"/>\r\n     <use x=\"183.236328\" xlink:href=\"#DejaVuSans-72\"/>\r\n     <use x=\"224.349609\" xlink:href=\"#DejaVuSans-61\"/>\r\n     <use x=\"285.628906\" xlink:href=\"#DejaVuSans-67\"/>\r\n     <use x=\"349.105469\" xlink:href=\"#DejaVuSans-65\"/>\r\n     <use x=\"410.628906\" xlink:href=\"#DejaVuSans-20\"/>\r\n     <use x=\"442.416016\" xlink:href=\"#DejaVuSans-47\"/>\r\n     <use x=\"519.90625\" xlink:href=\"#DejaVuSans-42\"/>\r\n     <use x=\"588.509766\" xlink:href=\"#DejaVuSans-20\"/>\r\n     <use x=\"620.296875\" xlink:href=\"#DejaVuSans-6f\"/>\r\n     <use x=\"681.478516\" xlink:href=\"#DejaVuSans-66\"/>\r\n     <use x=\"716.683594\" xlink:href=\"#DejaVuSans-20\"/>\r\n     <use x=\"748.470703\" xlink:href=\"#DejaVuSans-64\"/>\r\n     <use x=\"811.947266\" xlink:href=\"#DejaVuSans-61\"/>\r\n     <use x=\"873.226562\" xlink:href=\"#DejaVuSans-74\"/>\r\n     <use x=\"912.435547\" xlink:href=\"#DejaVuSans-61\"/>\r\n     <use x=\"973.714844\" xlink:href=\"#DejaVuSans-20\"/>\r\n     <use x=\"1005.501953\" xlink:href=\"#DejaVuSans-75\"/>\r\n     <use x=\"1068.880859\" xlink:href=\"#DejaVuSans-73\"/>\r\n     <use x=\"1120.980469\" xlink:href=\"#DejaVuSans-65\"/>\r\n     <use x=\"1182.503906\" xlink:href=\"#DejaVuSans-64\"/>\r\n     <use x=\"1245.980469\" xlink:href=\"#DejaVuSans-20\"/>\r\n     <use x=\"1277.767578\" xlink:href=\"#DejaVuSans-70\"/>\r\n     <use x=\"1341.244141\" xlink:href=\"#DejaVuSans-65\"/>\r\n     <use x=\"1402.767578\" xlink:href=\"#DejaVuSans-72\"/>\r\n     <use x=\"1443.880859\" xlink:href=\"#DejaVuSans-20\"/>\r\n     <use x=\"1475.667969\" xlink:href=\"#DejaVuSans-6d\"/>\r\n     <use x=\"1573.080078\" xlink:href=\"#DejaVuSans-6f\"/>\r\n     <use x=\"1634.261719\" xlink:href=\"#DejaVuSans-6e\"/>\r\n     <use x=\"1697.640625\" xlink:href=\"#DejaVuSans-74\"/>\r\n     <use x=\"1736.849609\" xlink:href=\"#DejaVuSans-68\"/>\r\n     <use x=\"1800.228516\" xlink:href=\"#DejaVuSans-20\"/>\r\n     <use x=\"1832.015625\" xlink:href=\"#DejaVuSans-62\"/>\r\n     <use x=\"1895.492188\" xlink:href=\"#DejaVuSans-79\"/>\r\n     <use x=\"1954.671875\" xlink:href=\"#DejaVuSans-20\"/>\r\n     <use x=\"1986.458984\" xlink:href=\"#DejaVuSans-75\"/>\r\n     <use x=\"2049.837891\" xlink:href=\"#DejaVuSans-73\"/>\r\n     <use x=\"2101.9375\" xlink:href=\"#DejaVuSans-65\"/>\r\n     <use x=\"2163.460938\" xlink:href=\"#DejaVuSans-72\"/>\r\n    </g>\r\n   </g>\r\n   <g id=\"legend_1\">\r\n    <g id=\"patch_101\">\r\n     <path d=\"M 303.20625 59.674375 \r\nL 377.94375 59.674375 \r\nQ 379.94375 59.674375 379.94375 57.674375 \r\nL 379.94375 29.318125 \r\nQ 379.94375 27.318125 377.94375 27.318125 \r\nL 303.20625 27.318125 \r\nQ 301.20625 27.318125 301.20625 29.318125 \r\nL 301.20625 57.674375 \r\nQ 301.20625 59.674375 303.20625 59.674375 \r\nz\r\n\" style=\"fill:#ffffff;opacity:0.8;stroke:#cccccc;stroke-linejoin:miter;\"/>\r\n    </g>\r\n    <g id=\"patch_102\">\r\n     <path d=\"M 305.20625 38.916562 \r\nL 325.20625 38.916562 \r\nL 325.20625 31.916562 \r\nL 305.20625 31.916562 \r\nz\r\n\" style=\"fill:#1f77b4;\"/>\r\n    </g>\r\n    <g id=\"text_18\">\r\n     <!-- Surf -->\r\n     <g transform=\"translate(333.20625 38.916562)scale(0.1 -0.1)\">\r\n      <defs>\r\n       <path d=\"M 3425 4513 \r\nL 3425 3897 \r\nQ 3066 4069 2747 4153 \r\nQ 2428 4238 2131 4238 \r\nQ 1616 4238 1336 4038 \r\nQ 1056 3838 1056 3469 \r\nQ 1056 3159 1242 3001 \r\nQ 1428 2844 1947 2747 \r\nL 2328 2669 \r\nQ 3034 2534 3370 2195 \r\nQ 3706 1856 3706 1288 \r\nQ 3706 609 3251 259 \r\nQ 2797 -91 1919 -91 \r\nQ 1588 -91 1214 -16 \r\nQ 841 59 441 206 \r\nL 441 856 \r\nQ 825 641 1194 531 \r\nQ 1563 422 1919 422 \r\nQ 2459 422 2753 634 \r\nQ 3047 847 3047 1241 \r\nQ 3047 1584 2836 1778 \r\nQ 2625 1972 2144 2069 \r\nL 1759 2144 \r\nQ 1053 2284 737 2584 \r\nQ 422 2884 422 3419 \r\nQ 422 4038 858 4394 \r\nQ 1294 4750 2059 4750 \r\nQ 2388 4750 2728 4690 \r\nQ 3069 4631 3425 4513 \r\nz\r\n\" id=\"DejaVuSans-53\" transform=\"scale(0.015625)\"/>\r\n      </defs>\r\n      <use xlink:href=\"#DejaVuSans-53\"/>\r\n      <use x=\"63.476562\" xlink:href=\"#DejaVuSans-75\"/>\r\n      <use x=\"126.855469\" xlink:href=\"#DejaVuSans-72\"/>\r\n      <use x=\"167.96875\" xlink:href=\"#DejaVuSans-66\"/>\r\n     </g>\r\n    </g>\r\n    <g id=\"patch_103\">\r\n     <path d=\"M 305.20625 53.594687 \r\nL 325.20625 53.594687 \r\nL 325.20625 46.594687 \r\nL 305.20625 46.594687 \r\nz\r\n\" style=\"fill:#ff7f0e;\"/>\r\n    </g>\r\n    <g id=\"text_19\">\r\n     <!-- Ultimate -->\r\n     <g transform=\"translate(333.20625 53.594687)scale(0.1 -0.1)\">\r\n      <defs>\r\n       <path d=\"M 556 4666 \r\nL 1191 4666 \r\nL 1191 1831 \r\nQ 1191 1081 1462 751 \r\nQ 1734 422 2344 422 \r\nQ 2950 422 3222 751 \r\nQ 3494 1081 3494 1831 \r\nL 3494 4666 \r\nL 4128 4666 \r\nL 4128 1753 \r\nQ 4128 841 3676 375 \r\nQ 3225 -91 2344 -91 \r\nQ 1459 -91 1007 375 \r\nQ 556 841 556 1753 \r\nL 556 4666 \r\nz\r\n\" id=\"DejaVuSans-55\" transform=\"scale(0.015625)\"/>\r\n      </defs>\r\n      <use xlink:href=\"#DejaVuSans-55\"/>\r\n      <use x=\"73.193359\" xlink:href=\"#DejaVuSans-6c\"/>\r\n      <use x=\"100.976562\" xlink:href=\"#DejaVuSans-74\"/>\r\n      <use x=\"140.185547\" xlink:href=\"#DejaVuSans-69\"/>\r\n      <use x=\"167.96875\" xlink:href=\"#DejaVuSans-6d\"/>\r\n      <use x=\"265.380859\" xlink:href=\"#DejaVuSans-61\"/>\r\n      <use x=\"326.660156\" xlink:href=\"#DejaVuSans-74\"/>\r\n      <use x=\"365.869141\" xlink:href=\"#DejaVuSans-65\"/>\r\n     </g>\r\n    </g>\r\n   </g>\r\n  </g>\r\n </g>\r\n <defs>\r\n  <clipPath id=\"pbfcd30222e\">\r\n   <rect height=\"217.44\" width=\"334.8\" x=\"50.14375\" y=\"22.318125\"/>\r\n  </clipPath>\r\n </defs>\r\n</svg>\r\n",
      "image/png": "[encoded data removed]"
     },
     "metadata": {
      "needs_background": "light"
     }
    }
   ],
   "metadata": {}
  },
  {
   "cell_type": "markdown",
   "source": [
    "For the probabilities of data used per month, there isn't a relative skew for any of the plans. We expect users for each plans to generally use the same ammount per month."
   ],
   "metadata": {}
  },
  {
   "cell_type": "code",
   "execution_count": 30,
   "source": [
    "plt.figure()\r\n",
    "user_paid.loc[user_paid['plan'] == 'surf', 'mean'].hist(bins=[15 + 3*i for i in range(1,21)], density=True)\r\n",
    "user_paid.loc[user_paid['plan'] == 'ultimate', 'mean'].hist(bins=[20 + 3*i for i in range(1,21)], density=True)\r\n",
    "plt.legend(['Surf', 'Ultimate'])\r\n",
    "plt.title('Average price paid per month by user')\r\n",
    "plt.xlabel('Price per month')\r\n",
    "plt.ylabel('Probability')\r\n",
    "plt.show()"
   ],
   "outputs": [
    {
     "output_type": "display_data",
     "data": {
      "text/plain": [
       "<Figure size 432x288 with 1 Axes>"
      ],
      "image/svg+xml": "<?xml version=\"1.0\" encoding=\"utf-8\" standalone=\"no\"?>\r\n<!DOCTYPE svg PUBLIC \"-//W3C//DTD SVG 1.1//EN\"\r\n  \"http://www.w3.org/Graphics/SVG/1.1/DTD/svg11.dtd\">\r\n<svg height=\"277.314375pt\" version=\"1.1\" viewBox=\"0 0 392.14375 277.314375\" width=\"392.14375pt\" xmlns=\"http://www.w3.org/2000/svg\" xmlns:xlink=\"http://www.w3.org/1999/xlink\">\r\n <metadata>\r\n  <rdf:RDF xmlns:cc=\"http://creativecommons.org/ns#\" xmlns:dc=\"http://purl.org/dc/elements/1.1/\" xmlns:rdf=\"http://www.w3.org/1999/02/22-rdf-syntax-ns#\">\r\n   <cc:Work>\r\n    <dc:type rdf:resource=\"http://purl.org/dc/dcmitype/StillImage\"/>\r\n    <dc:date>2021-08-13T15:51:54.128823</dc:date>\r\n    <dc:format>image/svg+xml</dc:format>\r\n    <dc:creator>\r\n     <cc:Agent>\r\n      <dc:title>Matplotlib v3.4.2, https://matplotlib.org/</dc:title>\r\n     </cc:Agent>\r\n    </dc:creator>\r\n   </cc:Work>\r\n  </rdf:RDF>\r\n </metadata>\r\n <defs>\r\n  <style type=\"text/css\">*{stroke-linecap:butt;stroke-linejoin:round;}</style>\r\n </defs>\r\n <g id=\"figure_1\">\r\n  <g id=\"patch_1\">\r\n   <path d=\"M 0 277.314375 \r\nL 392.14375 277.314375 \r\nL 392.14375 0 \r\nL 0 0 \r\nz\r\n\" style=\"fill:none;\"/>\r\n  </g>\r\n  <g id=\"axes_1\">\r\n   <g id=\"patch_2\">\r\n    <path d=\"M 50.14375 239.758125 \r\nL 384.94375 239.758125 \r\nL 384.94375 22.318125 \r\nL 50.14375 22.318125 \r\nz\r\n\" style=\"fill:#ffffff;\"/>\r\n   </g>\r\n   <g id=\"patch_3\">\r\n    <path clip-path=\"url(#pdbd1a2d77b)\" d=\"M 65.361932 239.758125 \r\nL 80.089205 239.758125 \r\nL 80.089205 100.479238 \r\nL 65.361932 100.479238 \r\nz\r\n\" style=\"fill:#1f77b4;\"/>\r\n   </g>\r\n   <g id=\"patch_4\">\r\n    <path clip-path=\"url(#pdbd1a2d77b)\" d=\"M 80.089205 239.758125 \r\nL 94.816477 239.758125 \r\nL 94.816477 193.942701 \r\nL 80.089205 193.942701 \r\nz\r\n\" style=\"fill:#1f77b4;\"/>\r\n   </g>\r\n   <g id=\"patch_5\">\r\n    <path clip-path=\"url(#pdbd1a2d77b)\" d=\"M 94.816477 239.758125 \r\nL 109.54375 239.758125 \r\nL 109.54375 228.762423 \r\nL 94.816477 228.762423 \r\nz\r\n\" style=\"fill:#1f77b4;\"/>\r\n   </g>\r\n   <g id=\"patch_6\">\r\n    <path clip-path=\"url(#pdbd1a2d77b)\" d=\"M 109.54375 239.758125 \r\nL 124.271023 239.758125 \r\nL 124.271023 233.03853 \r\nL 109.54375 233.03853 \r\nz\r\n\" style=\"fill:#1f77b4;\"/>\r\n   </g>\r\n   <g id=\"patch_7\">\r\n    <path clip-path=\"url(#pdbd1a2d77b)\" d=\"M 124.271023 239.758125 \r\nL 138.998295 239.758125 \r\nL 138.998295 236.092891 \r\nL 124.271023 236.092891 \r\nz\r\n\" style=\"fill:#1f77b4;\"/>\r\n   </g>\r\n   <g id=\"patch_8\">\r\n    <path clip-path=\"url(#pdbd1a2d77b)\" d=\"M 138.998295 239.758125 \r\nL 153.725568 239.758125 \r\nL 153.725568 239.758125 \r\nL 138.998295 239.758125 \r\nz\r\n\" style=\"fill:#1f77b4;\"/>\r\n   </g>\r\n   <g id=\"patch_9\">\r\n    <path clip-path=\"url(#pdbd1a2d77b)\" d=\"M 153.725568 239.758125 \r\nL 168.452841 239.758125 \r\nL 168.452841 239.758125 \r\nL 153.725568 239.758125 \r\nz\r\n\" style=\"fill:#1f77b4;\"/>\r\n   </g>\r\n   <g id=\"patch_10\">\r\n    <path clip-path=\"url(#pdbd1a2d77b)\" d=\"M 168.452841 239.758125 \r\nL 183.180114 239.758125 \r\nL 183.180114 239.147253 \r\nL 168.452841 239.147253 \r\nz\r\n\" style=\"fill:#1f77b4;\"/>\r\n   </g>\r\n   <g id=\"patch_11\">\r\n    <path clip-path=\"url(#pdbd1a2d77b)\" d=\"M 183.180114 239.758125 \r\nL 197.907386 239.758125 \r\nL 197.907386 239.758125 \r\nL 183.180114 239.758125 \r\nz\r\n\" style=\"fill:#1f77b4;\"/>\r\n   </g>\r\n   <g id=\"patch_12\">\r\n    <path clip-path=\"url(#pdbd1a2d77b)\" d=\"M 197.907386 239.758125 \r\nL 212.634659 239.758125 \r\nL 212.634659 239.758125 \r\nL 197.907386 239.758125 \r\nz\r\n\" style=\"fill:#1f77b4;\"/>\r\n   </g>\r\n   <g id=\"patch_13\">\r\n    <path clip-path=\"url(#pdbd1a2d77b)\" d=\"M 212.634659 239.758125 \r\nL 227.361932 239.758125 \r\nL 227.361932 239.758125 \r\nL 212.634659 239.758125 \r\nz\r\n\" style=\"fill:#1f77b4;\"/>\r\n   </g>\r\n   <g id=\"patch_14\">\r\n    <path clip-path=\"url(#pdbd1a2d77b)\" d=\"M 227.361932 239.758125 \r\nL 242.089205 239.758125 \r\nL 242.089205 239.758125 \r\nL 227.361932 239.758125 \r\nz\r\n\" style=\"fill:#1f77b4;\"/>\r\n   </g>\r\n   <g id=\"patch_15\">\r\n    <path clip-path=\"url(#pdbd1a2d77b)\" d=\"M 242.089205 239.758125 \r\nL 256.816477 239.758125 \r\nL 256.816477 239.758125 \r\nL 242.089205 239.758125 \r\nz\r\n\" style=\"fill:#1f77b4;\"/>\r\n   </g>\r\n   <g id=\"patch_16\">\r\n    <path clip-path=\"url(#pdbd1a2d77b)\" d=\"M 256.816477 239.758125 \r\nL 271.54375 239.758125 \r\nL 271.54375 239.758125 \r\nL 256.816477 239.758125 \r\nz\r\n\" style=\"fill:#1f77b4;\"/>\r\n   </g>\r\n   <g id=\"patch_17\">\r\n    <path clip-path=\"url(#pdbd1a2d77b)\" d=\"M 271.54375 239.758125 \r\nL 286.271023 239.758125 \r\nL 286.271023 239.758125 \r\nL 271.54375 239.758125 \r\nz\r\n\" style=\"fill:#1f77b4;\"/>\r\n   </g>\r\n   <g id=\"patch_18\">\r\n    <path clip-path=\"url(#pdbd1a2d77b)\" d=\"M 286.271023 239.758125 \r\nL 300.998295 239.758125 \r\nL 300.998295 239.758125 \r\nL 286.271023 239.758125 \r\nz\r\n\" style=\"fill:#1f77b4;\"/>\r\n   </g>\r\n   <g id=\"patch_19\">\r\n    <path clip-path=\"url(#pdbd1a2d77b)\" d=\"M 300.998295 239.758125 \r\nL 315.725568 239.758125 \r\nL 315.725568 239.758125 \r\nL 300.998295 239.758125 \r\nz\r\n\" style=\"fill:#1f77b4;\"/>\r\n   </g>\r\n   <g id=\"patch_20\">\r\n    <path clip-path=\"url(#pdbd1a2d77b)\" d=\"M 315.725568 239.758125 \r\nL 330.452841 239.758125 \r\nL 330.452841 239.758125 \r\nL 315.725568 239.758125 \r\nz\r\n\" style=\"fill:#1f77b4;\"/>\r\n   </g>\r\n   <g id=\"patch_21\">\r\n    <path clip-path=\"url(#pdbd1a2d77b)\" d=\"M 330.452841 239.758125 \r\nL 345.180114 239.758125 \r\nL 345.180114 239.758125 \r\nL 330.452841 239.758125 \r\nz\r\n\" style=\"fill:#1f77b4;\"/>\r\n   </g>\r\n   <g id=\"patch_22\">\r\n    <path clip-path=\"url(#pdbd1a2d77b)\" d=\"M 89.907386 239.758125 \r\nL 104.634659 239.758125 \r\nL 104.634659 239.758125 \r\nL 89.907386 239.758125 \r\nz\r\n\" style=\"fill:#ff7f0e;\"/>\r\n   </g>\r\n   <g id=\"patch_23\">\r\n    <path clip-path=\"url(#pdbd1a2d77b)\" d=\"M 104.634659 239.758125 \r\nL 119.361932 239.758125 \r\nL 119.361932 239.758125 \r\nL 104.634659 239.758125 \r\nz\r\n\" style=\"fill:#ff7f0e;\"/>\r\n   </g>\r\n   <g id=\"patch_24\">\r\n    <path clip-path=\"url(#pdbd1a2d77b)\" d=\"M 119.361932 239.758125 \r\nL 134.089205 239.758125 \r\nL 134.089205 239.758125 \r\nL 119.361932 239.758125 \r\nz\r\n\" style=\"fill:#ff7f0e;\"/>\r\n   </g>\r\n   <g id=\"patch_25\">\r\n    <path clip-path=\"url(#pdbd1a2d77b)\" d=\"M 134.089205 239.758125 \r\nL 148.816477 239.758125 \r\nL 148.816477 239.758125 \r\nL 134.089205 239.758125 \r\nz\r\n\" style=\"fill:#ff7f0e;\"/>\r\n   </g>\r\n   <g id=\"patch_26\">\r\n    <path clip-path=\"url(#pdbd1a2d77b)\" d=\"M 148.816477 239.758125 \r\nL 163.54375 239.758125 \r\nL 163.54375 239.758125 \r\nL 148.816477 239.758125 \r\nz\r\n\" style=\"fill:#ff7f0e;\"/>\r\n   </g>\r\n   <g id=\"patch_27\">\r\n    <path clip-path=\"url(#pdbd1a2d77b)\" d=\"M 163.54375 239.758125 \r\nL 178.271023 239.758125 \r\nL 178.271023 239.758125 \r\nL 163.54375 239.758125 \r\nz\r\n\" style=\"fill:#ff7f0e;\"/>\r\n   </g>\r\n   <g id=\"patch_28\">\r\n    <path clip-path=\"url(#pdbd1a2d77b)\" d=\"M 178.271023 239.758125 \r\nL 192.998295 239.758125 \r\nL 192.998295 239.758125 \r\nL 178.271023 239.758125 \r\nz\r\n\" style=\"fill:#ff7f0e;\"/>\r\n   </g>\r\n   <g id=\"patch_29\">\r\n    <path clip-path=\"url(#pdbd1a2d77b)\" d=\"M 192.998295 239.758125 \r\nL 207.725568 239.758125 \r\nL 207.725568 239.758125 \r\nL 192.998295 239.758125 \r\nz\r\n\" style=\"fill:#ff7f0e;\"/>\r\n   </g>\r\n   <g id=\"patch_30\">\r\n    <path clip-path=\"url(#pdbd1a2d77b)\" d=\"M 207.725568 239.758125 \r\nL 222.452841 239.758125 \r\nL 222.452841 239.758125 \r\nL 207.725568 239.758125 \r\nz\r\n\" style=\"fill:#ff7f0e;\"/>\r\n   </g>\r\n   <g id=\"patch_31\">\r\n    <path clip-path=\"url(#pdbd1a2d77b)\" d=\"M 222.452841 239.758125 \r\nL 237.180114 239.758125 \r\nL 237.180114 239.758125 \r\nL 222.452841 239.758125 \r\nz\r\n\" style=\"fill:#ff7f0e;\"/>\r\n   </g>\r\n   <g id=\"patch_32\">\r\n    <path clip-path=\"url(#pdbd1a2d77b)\" d=\"M 237.180114 239.758125 \r\nL 251.907386 239.758125 \r\nL 251.907386 239.758125 \r\nL 237.180114 239.758125 \r\nz\r\n\" style=\"fill:#ff7f0e;\"/>\r\n   </g>\r\n   <g id=\"patch_33\">\r\n    <path clip-path=\"url(#pdbd1a2d77b)\" d=\"M 251.907386 239.758125 \r\nL 266.634659 239.758125 \r\nL 266.634659 239.758125 \r\nL 251.907386 239.758125 \r\nz\r\n\" style=\"fill:#ff7f0e;\"/>\r\n   </g>\r\n   <g id=\"patch_34\">\r\n    <path clip-path=\"url(#pdbd1a2d77b)\" d=\"M 266.634659 239.758125 \r\nL 281.361932 239.758125 \r\nL 281.361932 239.758125 \r\nL 266.634659 239.758125 \r\nz\r\n\" style=\"fill:#ff7f0e;\"/>\r\n   </g>\r\n   <g id=\"patch_35\">\r\n    <path clip-path=\"url(#pdbd1a2d77b)\" d=\"M 281.361932 239.758125 \r\nL 296.089205 239.758125 \r\nL 296.089205 239.758125 \r\nL 281.361932 239.758125 \r\nz\r\n\" style=\"fill:#ff7f0e;\"/>\r\n   </g>\r\n   <g id=\"patch_36\">\r\n    <path clip-path=\"url(#pdbd1a2d77b)\" d=\"M 296.089205 239.758125 \r\nL 310.816477 239.758125 \r\nL 310.816477 239.758125 \r\nL 296.089205 239.758125 \r\nz\r\n\" style=\"fill:#ff7f0e;\"/>\r\n   </g>\r\n   <g id=\"patch_37\">\r\n    <path clip-path=\"url(#pdbd1a2d77b)\" d=\"M 310.816477 239.758125 \r\nL 325.54375 239.758125 \r\nL 325.54375 32.672411 \r\nL 310.816477 32.672411 \r\nz\r\n\" style=\"fill:#ff7f0e;\"/>\r\n   </g>\r\n   <g id=\"patch_38\">\r\n    <path clip-path=\"url(#pdbd1a2d77b)\" d=\"M 325.54375 239.758125 \r\nL 340.271023 239.758125 \r\nL 340.271023 239.758125 \r\nL 325.54375 239.758125 \r\nz\r\n\" style=\"fill:#ff7f0e;\"/>\r\n   </g>\r\n   <g id=\"patch_39\">\r\n    <path clip-path=\"url(#pdbd1a2d77b)\" d=\"M 340.271023 239.758125 \r\nL 354.998295 239.758125 \r\nL 354.998295 239.758125 \r\nL 340.271023 239.758125 \r\nz\r\n\" style=\"fill:#ff7f0e;\"/>\r\n   </g>\r\n   <g id=\"patch_40\">\r\n    <path clip-path=\"url(#pdbd1a2d77b)\" d=\"M 354.998295 239.758125 \r\nL 369.725568 239.758125 \r\nL 369.725568 239.758125 \r\nL 354.998295 239.758125 \r\nz\r\n\" style=\"fill:#ff7f0e;\"/>\r\n   </g>\r\n   <g id=\"matplotlib.axis_1\">\r\n    <g id=\"xtick_1\">\r\n     <g id=\"line2d_1\">\r\n      <path clip-path=\"url(#pdbd1a2d77b)\" d=\"M 75.180114 239.758125 \r\nL 75.180114 22.318125 \r\n\" style=\"fill:none;stroke:#b0b0b0;stroke-linecap:square;stroke-width:0.8;\"/>\r\n     </g>\r\n     <g id=\"line2d_2\">\r\n      <defs>\r\n       <path d=\"M 0 0 \r\nL 0 3.5 \r\n\" id=\"m7c87e42799\" style=\"stroke:#000000;stroke-width:0.8;\"/>\r\n      </defs>\r\n      <g>\r\n       <use style=\"stroke:#000000;stroke-width:0.8;\" x=\"75.180114\" xlink:href=\"#m7c87e42799\" y=\"239.758125\"/>\r\n      </g>\r\n     </g>\r\n     <g id=\"text_1\">\r\n      <!-- 20 -->\r\n      <g transform=\"translate(68.817614 254.356562)scale(0.1 -0.1)\">\r\n       <defs>\r\n        <path d=\"M 1228 531 \r\nL 3431 531 \r\nL 3431 0 \r\nL 469 0 \r\nL 469 531 \r\nQ 828 903 1448 1529 \r\nQ 2069 2156 2228 2338 \r\nQ 2531 2678 2651 2914 \r\nQ 2772 3150 2772 3378 \r\nQ 2772 3750 2511 3984 \r\nQ 2250 4219 1831 4219 \r\nQ 1534 4219 1204 4116 \r\nQ 875 4013 500 3803 \r\nL 500 4441 \r\nQ 881 4594 1212 4672 \r\nQ 1544 4750 1819 4750 \r\nQ 2544 4750 2975 4387 \r\nQ 3406 4025 3406 3419 \r\nQ 3406 3131 3298 2873 \r\nQ 3191 2616 2906 2266 \r\nQ 2828 2175 2409 1742 \r\nQ 1991 1309 1228 531 \r\nz\r\n\" id=\"DejaVuSans-32\" transform=\"scale(0.015625)\"/>\r\n        <path d=\"M 2034 4250 \r\nQ 1547 4250 1301 3770 \r\nQ 1056 3291 1056 2328 \r\nQ 1056 1369 1301 889 \r\nQ 1547 409 2034 409 \r\nQ 2525 409 2770 889 \r\nQ 3016 1369 3016 2328 \r\nQ 3016 3291 2770 3770 \r\nQ 2525 4250 2034 4250 \r\nz\r\nM 2034 4750 \r\nQ 2819 4750 3233 4129 \r\nQ 3647 3509 3647 2328 \r\nQ 3647 1150 3233 529 \r\nQ 2819 -91 2034 -91 \r\nQ 1250 -91 836 529 \r\nQ 422 1150 422 2328 \r\nQ 422 3509 836 4129 \r\nQ 1250 4750 2034 4750 \r\nz\r\n\" id=\"DejaVuSans-30\" transform=\"scale(0.015625)\"/>\r\n       </defs>\r\n       <use xlink:href=\"#DejaVuSans-32\"/>\r\n       <use x=\"63.623047\" xlink:href=\"#DejaVuSans-30\"/>\r\n      </g>\r\n     </g>\r\n    </g>\r\n    <g id=\"xtick_2\">\r\n     <g id=\"line2d_3\">\r\n      <path clip-path=\"url(#pdbd1a2d77b)\" d=\"M 124.271023 239.758125 \r\nL 124.271023 22.318125 \r\n\" style=\"fill:none;stroke:#b0b0b0;stroke-linecap:square;stroke-width:0.8;\"/>\r\n     </g>\r\n     <g id=\"line2d_4\">\r\n      <g>\r\n       <use style=\"stroke:#000000;stroke-width:0.8;\" x=\"124.271023\" xlink:href=\"#m7c87e42799\" y=\"239.758125\"/>\r\n      </g>\r\n     </g>\r\n     <g id=\"text_2\">\r\n      <!-- 30 -->\r\n      <g transform=\"translate(117.908523 254.356562)scale(0.1 -0.1)\">\r\n       <defs>\r\n        <path d=\"M 2597 2516 \r\nQ 3050 2419 3304 2112 \r\nQ 3559 1806 3559 1356 \r\nQ 3559 666 3084 287 \r\nQ 2609 -91 1734 -91 \r\nQ 1441 -91 1130 -33 \r\nQ 819 25 488 141 \r\nL 488 750 \r\nQ 750 597 1062 519 \r\nQ 1375 441 1716 441 \r\nQ 2309 441 2620 675 \r\nQ 2931 909 2931 1356 \r\nQ 2931 1769 2642 2001 \r\nQ 2353 2234 1838 2234 \r\nL 1294 2234 \r\nL 1294 2753 \r\nL 1863 2753 \r\nQ 2328 2753 2575 2939 \r\nQ 2822 3125 2822 3475 \r\nQ 2822 3834 2567 4026 \r\nQ 2313 4219 1838 4219 \r\nQ 1578 4219 1281 4162 \r\nQ 984 4106 628 3988 \r\nL 628 4550 \r\nQ 988 4650 1302 4700 \r\nQ 1616 4750 1894 4750 \r\nQ 2613 4750 3031 4423 \r\nQ 3450 4097 3450 3541 \r\nQ 3450 3153 3228 2886 \r\nQ 3006 2619 2597 2516 \r\nz\r\n\" id=\"DejaVuSans-33\" transform=\"scale(0.015625)\"/>\r\n       </defs>\r\n       <use xlink:href=\"#DejaVuSans-33\"/>\r\n       <use x=\"63.623047\" xlink:href=\"#DejaVuSans-30\"/>\r\n      </g>\r\n     </g>\r\n    </g>\r\n    <g id=\"xtick_3\">\r\n     <g id=\"line2d_5\">\r\n      <path clip-path=\"url(#pdbd1a2d77b)\" d=\"M 173.361932 239.758125 \r\nL 173.361932 22.318125 \r\n\" style=\"fill:none;stroke:#b0b0b0;stroke-linecap:square;stroke-width:0.8;\"/>\r\n     </g>\r\n     <g id=\"line2d_6\">\r\n      <g>\r\n       <use style=\"stroke:#000000;stroke-width:0.8;\" x=\"173.361932\" xlink:href=\"#m7c87e42799\" y=\"239.758125\"/>\r\n      </g>\r\n     </g>\r\n     <g id=\"text_3\">\r\n      <!-- 40 -->\r\n      <g transform=\"translate(166.999432 254.356562)scale(0.1 -0.1)\">\r\n       <defs>\r\n        <path d=\"M 2419 4116 \r\nL 825 1625 \r\nL 2419 1625 \r\nL 2419 4116 \r\nz\r\nM 2253 4666 \r\nL 3047 4666 \r\nL 3047 1625 \r\nL 3713 1625 \r\nL 3713 1100 \r\nL 3047 1100 \r\nL 3047 0 \r\nL 2419 0 \r\nL 2419 1100 \r\nL 313 1100 \r\nL 313 1709 \r\nL 2253 4666 \r\nz\r\n\" id=\"DejaVuSans-34\" transform=\"scale(0.015625)\"/>\r\n       </defs>\r\n       <use xlink:href=\"#DejaVuSans-34\"/>\r\n       <use x=\"63.623047\" xlink:href=\"#DejaVuSans-30\"/>\r\n      </g>\r\n     </g>\r\n    </g>\r\n    <g id=\"xtick_4\">\r\n     <g id=\"line2d_7\">\r\n      <path clip-path=\"url(#pdbd1a2d77b)\" d=\"M 222.452841 239.758125 \r\nL 222.452841 22.318125 \r\n\" style=\"fill:none;stroke:#b0b0b0;stroke-linecap:square;stroke-width:0.8;\"/>\r\n     </g>\r\n     <g id=\"line2d_8\">\r\n      <g>\r\n       <use style=\"stroke:#000000;stroke-width:0.8;\" x=\"222.452841\" xlink:href=\"#m7c87e42799\" y=\"239.758125\"/>\r\n      </g>\r\n     </g>\r\n     <g id=\"text_4\">\r\n      <!-- 50 -->\r\n      <g transform=\"translate(216.090341 254.356562)scale(0.1 -0.1)\">\r\n       <defs>\r\n        <path d=\"M 691 4666 \r\nL 3169 4666 \r\nL 3169 4134 \r\nL 1269 4134 \r\nL 1269 2991 \r\nQ 1406 3038 1543 3061 \r\nQ 1681 3084 1819 3084 \r\nQ 2600 3084 3056 2656 \r\nQ 3513 2228 3513 1497 \r\nQ 3513 744 3044 326 \r\nQ 2575 -91 1722 -91 \r\nQ 1428 -91 1123 -41 \r\nQ 819 9 494 109 \r\nL 494 744 \r\nQ 775 591 1075 516 \r\nQ 1375 441 1709 441 \r\nQ 2250 441 2565 725 \r\nQ 2881 1009 2881 1497 \r\nQ 2881 1984 2565 2268 \r\nQ 2250 2553 1709 2553 \r\nQ 1456 2553 1204 2497 \r\nQ 953 2441 691 2322 \r\nL 691 4666 \r\nz\r\n\" id=\"DejaVuSans-35\" transform=\"scale(0.015625)\"/>\r\n       </defs>\r\n       <use xlink:href=\"#DejaVuSans-35\"/>\r\n       <use x=\"63.623047\" xlink:href=\"#DejaVuSans-30\"/>\r\n      </g>\r\n     </g>\r\n    </g>\r\n    <g id=\"xtick_5\">\r\n     <g id=\"line2d_9\">\r\n      <path clip-path=\"url(#pdbd1a2d77b)\" d=\"M 271.54375 239.758125 \r\nL 271.54375 22.318125 \r\n\" style=\"fill:none;stroke:#b0b0b0;stroke-linecap:square;stroke-width:0.8;\"/>\r\n     </g>\r\n     <g id=\"line2d_10\">\r\n      <g>\r\n       <use style=\"stroke:#000000;stroke-width:0.8;\" x=\"271.54375\" xlink:href=\"#m7c87e42799\" y=\"239.758125\"/>\r\n      </g>\r\n     </g>\r\n     <g id=\"text_5\">\r\n      <!-- 60 -->\r\n      <g transform=\"translate(265.18125 254.356562)scale(0.1 -0.1)\">\r\n       <defs>\r\n        <path d=\"M 2113 2584 \r\nQ 1688 2584 1439 2293 \r\nQ 1191 2003 1191 1497 \r\nQ 1191 994 1439 701 \r\nQ 1688 409 2113 409 \r\nQ 2538 409 2786 701 \r\nQ 3034 994 3034 1497 \r\nQ 3034 2003 2786 2293 \r\nQ 2538 2584 2113 2584 \r\nz\r\nM 3366 4563 \r\nL 3366 3988 \r\nQ 3128 4100 2886 4159 \r\nQ 2644 4219 2406 4219 \r\nQ 1781 4219 1451 3797 \r\nQ 1122 3375 1075 2522 \r\nQ 1259 2794 1537 2939 \r\nQ 1816 3084 2150 3084 \r\nQ 2853 3084 3261 2657 \r\nQ 3669 2231 3669 1497 \r\nQ 3669 778 3244 343 \r\nQ 2819 -91 2113 -91 \r\nQ 1303 -91 875 529 \r\nQ 447 1150 447 2328 \r\nQ 447 3434 972 4092 \r\nQ 1497 4750 2381 4750 \r\nQ 2619 4750 2861 4703 \r\nQ 3103 4656 3366 4563 \r\nz\r\n\" id=\"DejaVuSans-36\" transform=\"scale(0.015625)\"/>\r\n       </defs>\r\n       <use xlink:href=\"#DejaVuSans-36\"/>\r\n       <use x=\"63.623047\" xlink:href=\"#DejaVuSans-30\"/>\r\n      </g>\r\n     </g>\r\n    </g>\r\n    <g id=\"xtick_6\">\r\n     <g id=\"line2d_11\">\r\n      <path clip-path=\"url(#pdbd1a2d77b)\" d=\"M 320.634659 239.758125 \r\nL 320.634659 22.318125 \r\n\" style=\"fill:none;stroke:#b0b0b0;stroke-linecap:square;stroke-width:0.8;\"/>\r\n     </g>\r\n     <g id=\"line2d_12\">\r\n      <g>\r\n       <use style=\"stroke:#000000;stroke-width:0.8;\" x=\"320.634659\" xlink:href=\"#m7c87e42799\" y=\"239.758125\"/>\r\n      </g>\r\n     </g>\r\n     <g id=\"text_6\">\r\n      <!-- 70 -->\r\n      <g transform=\"translate(314.272159 254.356562)scale(0.1 -0.1)\">\r\n       <defs>\r\n        <path d=\"M 525 4666 \r\nL 3525 4666 \r\nL 3525 4397 \r\nL 1831 0 \r\nL 1172 0 \r\nL 2766 4134 \r\nL 525 4134 \r\nL 525 4666 \r\nz\r\n\" id=\"DejaVuSans-37\" transform=\"scale(0.015625)\"/>\r\n       </defs>\r\n       <use xlink:href=\"#DejaVuSans-37\"/>\r\n       <use x=\"63.623047\" xlink:href=\"#DejaVuSans-30\"/>\r\n      </g>\r\n     </g>\r\n    </g>\r\n    <g id=\"xtick_7\">\r\n     <g id=\"line2d_13\">\r\n      <path clip-path=\"url(#pdbd1a2d77b)\" d=\"M 369.725568 239.758125 \r\nL 369.725568 22.318125 \r\n\" style=\"fill:none;stroke:#b0b0b0;stroke-linecap:square;stroke-width:0.8;\"/>\r\n     </g>\r\n     <g id=\"line2d_14\">\r\n      <g>\r\n       <use style=\"stroke:#000000;stroke-width:0.8;\" x=\"369.725568\" xlink:href=\"#m7c87e42799\" y=\"239.758125\"/>\r\n      </g>\r\n     </g>\r\n     <g id=\"text_7\">\r\n      <!-- 80 -->\r\n      <g transform=\"translate(363.363068 254.356562)scale(0.1 -0.1)\">\r\n       <defs>\r\n        <path d=\"M 2034 2216 \r\nQ 1584 2216 1326 1975 \r\nQ 1069 1734 1069 1313 \r\nQ 1069 891 1326 650 \r\nQ 1584 409 2034 409 \r\nQ 2484 409 2743 651 \r\nQ 3003 894 3003 1313 \r\nQ 3003 1734 2745 1975 \r\nQ 2488 2216 2034 2216 \r\nz\r\nM 1403 2484 \r\nQ 997 2584 770 2862 \r\nQ 544 3141 544 3541 \r\nQ 544 4100 942 4425 \r\nQ 1341 4750 2034 4750 \r\nQ 2731 4750 3128 4425 \r\nQ 3525 4100 3525 3541 \r\nQ 3525 3141 3298 2862 \r\nQ 3072 2584 2669 2484 \r\nQ 3125 2378 3379 2068 \r\nQ 3634 1759 3634 1313 \r\nQ 3634 634 3220 271 \r\nQ 2806 -91 2034 -91 \r\nQ 1263 -91 848 271 \r\nQ 434 634 434 1313 \r\nQ 434 1759 690 2068 \r\nQ 947 2378 1403 2484 \r\nz\r\nM 1172 3481 \r\nQ 1172 3119 1398 2916 \r\nQ 1625 2713 2034 2713 \r\nQ 2441 2713 2670 2916 \r\nQ 2900 3119 2900 3481 \r\nQ 2900 3844 2670 4047 \r\nQ 2441 4250 2034 4250 \r\nQ 1625 4250 1398 4047 \r\nQ 1172 3844 1172 3481 \r\nz\r\n\" id=\"DejaVuSans-38\" transform=\"scale(0.015625)\"/>\r\n       </defs>\r\n       <use xlink:href=\"#DejaVuSans-38\"/>\r\n       <use x=\"63.623047\" xlink:href=\"#DejaVuSans-30\"/>\r\n      </g>\r\n     </g>\r\n    </g>\r\n    <g id=\"text_8\">\r\n     <!-- Price per month -->\r\n     <g transform=\"translate(177.634375 268.034687)scale(0.1 -0.1)\">\r\n      <defs>\r\n       <path d=\"M 1259 4147 \r\nL 1259 2394 \r\nL 2053 2394 \r\nQ 2494 2394 2734 2622 \r\nQ 2975 2850 2975 3272 \r\nQ 2975 3691 2734 3919 \r\nQ 2494 4147 2053 4147 \r\nL 1259 4147 \r\nz\r\nM 628 4666 \r\nL 2053 4666 \r\nQ 2838 4666 3239 4311 \r\nQ 3641 3956 3641 3272 \r\nQ 3641 2581 3239 2228 \r\nQ 2838 1875 2053 1875 \r\nL 1259 1875 \r\nL 1259 0 \r\nL 628 0 \r\nL 628 4666 \r\nz\r\n\" id=\"DejaVuSans-50\" transform=\"scale(0.015625)\"/>\r\n       <path d=\"M 2631 2963 \r\nQ 2534 3019 2420 3045 \r\nQ 2306 3072 2169 3072 \r\nQ 1681 3072 1420 2755 \r\nQ 1159 2438 1159 1844 \r\nL 1159 0 \r\nL 581 0 \r\nL 581 3500 \r\nL 1159 3500 \r\nL 1159 2956 \r\nQ 1341 3275 1631 3429 \r\nQ 1922 3584 2338 3584 \r\nQ 2397 3584 2469 3576 \r\nQ 2541 3569 2628 3553 \r\nL 2631 2963 \r\nz\r\n\" id=\"DejaVuSans-72\" transform=\"scale(0.015625)\"/>\r\n       <path d=\"M 603 3500 \r\nL 1178 3500 \r\nL 1178 0 \r\nL 603 0 \r\nL 603 3500 \r\nz\r\nM 603 4863 \r\nL 1178 4863 \r\nL 1178 4134 \r\nL 603 4134 \r\nL 603 4863 \r\nz\r\n\" id=\"DejaVuSans-69\" transform=\"scale(0.015625)\"/>\r\n       <path d=\"M 3122 3366 \r\nL 3122 2828 \r\nQ 2878 2963 2633 3030 \r\nQ 2388 3097 2138 3097 \r\nQ 1578 3097 1268 2742 \r\nQ 959 2388 959 1747 \r\nQ 959 1106 1268 751 \r\nQ 1578 397 2138 397 \r\nQ 2388 397 2633 464 \r\nQ 2878 531 3122 666 \r\nL 3122 134 \r\nQ 2881 22 2623 -34 \r\nQ 2366 -91 2075 -91 \r\nQ 1284 -91 818 406 \r\nQ 353 903 353 1747 \r\nQ 353 2603 823 3093 \r\nQ 1294 3584 2113 3584 \r\nQ 2378 3584 2631 3529 \r\nQ 2884 3475 3122 3366 \r\nz\r\n\" id=\"DejaVuSans-63\" transform=\"scale(0.015625)\"/>\r\n       <path d=\"M 3597 1894 \r\nL 3597 1613 \r\nL 953 1613 \r\nQ 991 1019 1311 708 \r\nQ 1631 397 2203 397 \r\nQ 2534 397 2845 478 \r\nQ 3156 559 3463 722 \r\nL 3463 178 \r\nQ 3153 47 2828 -22 \r\nQ 2503 -91 2169 -91 \r\nQ 1331 -91 842 396 \r\nQ 353 884 353 1716 \r\nQ 353 2575 817 3079 \r\nQ 1281 3584 2069 3584 \r\nQ 2775 3584 3186 3129 \r\nQ 3597 2675 3597 1894 \r\nz\r\nM 3022 2063 \r\nQ 3016 2534 2758 2815 \r\nQ 2500 3097 2075 3097 \r\nQ 1594 3097 1305 2825 \r\nQ 1016 2553 972 2059 \r\nL 3022 2063 \r\nz\r\n\" id=\"DejaVuSans-65\" transform=\"scale(0.015625)\"/>\r\n       <path id=\"DejaVuSans-20\" transform=\"scale(0.015625)\"/>\r\n       <path d=\"M 1159 525 \r\nL 1159 -1331 \r\nL 581 -1331 \r\nL 581 3500 \r\nL 1159 3500 \r\nL 1159 2969 \r\nQ 1341 3281 1617 3432 \r\nQ 1894 3584 2278 3584 \r\nQ 2916 3584 3314 3078 \r\nQ 3713 2572 3713 1747 \r\nQ 3713 922 3314 415 \r\nQ 2916 -91 2278 -91 \r\nQ 1894 -91 1617 61 \r\nQ 1341 213 1159 525 \r\nz\r\nM 3116 1747 \r\nQ 3116 2381 2855 2742 \r\nQ 2594 3103 2138 3103 \r\nQ 1681 3103 1420 2742 \r\nQ 1159 2381 1159 1747 \r\nQ 1159 1113 1420 752 \r\nQ 1681 391 2138 391 \r\nQ 2594 391 2855 752 \r\nQ 3116 1113 3116 1747 \r\nz\r\n\" id=\"DejaVuSans-70\" transform=\"scale(0.015625)\"/>\r\n       <path d=\"M 3328 2828 \r\nQ 3544 3216 3844 3400 \r\nQ 4144 3584 4550 3584 \r\nQ 5097 3584 5394 3201 \r\nQ 5691 2819 5691 2113 \r\nL 5691 0 \r\nL 5113 0 \r\nL 5113 2094 \r\nQ 5113 2597 4934 2840 \r\nQ 4756 3084 4391 3084 \r\nQ 3944 3084 3684 2787 \r\nQ 3425 2491 3425 1978 \r\nL 3425 0 \r\nL 2847 0 \r\nL 2847 2094 \r\nQ 2847 2600 2669 2842 \r\nQ 2491 3084 2119 3084 \r\nQ 1678 3084 1418 2786 \r\nQ 1159 2488 1159 1978 \r\nL 1159 0 \r\nL 581 0 \r\nL 581 3500 \r\nL 1159 3500 \r\nL 1159 2956 \r\nQ 1356 3278 1631 3431 \r\nQ 1906 3584 2284 3584 \r\nQ 2666 3584 2933 3390 \r\nQ 3200 3197 3328 2828 \r\nz\r\n\" id=\"DejaVuSans-6d\" transform=\"scale(0.015625)\"/>\r\n       <path d=\"M 1959 3097 \r\nQ 1497 3097 1228 2736 \r\nQ 959 2375 959 1747 \r\nQ 959 1119 1226 758 \r\nQ 1494 397 1959 397 \r\nQ 2419 397 2687 759 \r\nQ 2956 1122 2956 1747 \r\nQ 2956 2369 2687 2733 \r\nQ 2419 3097 1959 3097 \r\nz\r\nM 1959 3584 \r\nQ 2709 3584 3137 3096 \r\nQ 3566 2609 3566 1747 \r\nQ 3566 888 3137 398 \r\nQ 2709 -91 1959 -91 \r\nQ 1206 -91 779 398 \r\nQ 353 888 353 1747 \r\nQ 353 2609 779 3096 \r\nQ 1206 3584 1959 3584 \r\nz\r\n\" id=\"DejaVuSans-6f\" transform=\"scale(0.015625)\"/>\r\n       <path d=\"M 3513 2113 \r\nL 3513 0 \r\nL 2938 0 \r\nL 2938 2094 \r\nQ 2938 2591 2744 2837 \r\nQ 2550 3084 2163 3084 \r\nQ 1697 3084 1428 2787 \r\nQ 1159 2491 1159 1978 \r\nL 1159 0 \r\nL 581 0 \r\nL 581 3500 \r\nL 1159 3500 \r\nL 1159 2956 \r\nQ 1366 3272 1645 3428 \r\nQ 1925 3584 2291 3584 \r\nQ 2894 3584 3203 3211 \r\nQ 3513 2838 3513 2113 \r\nz\r\n\" id=\"DejaVuSans-6e\" transform=\"scale(0.015625)\"/>\r\n       <path d=\"M 1172 4494 \r\nL 1172 3500 \r\nL 2356 3500 \r\nL 2356 3053 \r\nL 1172 3053 \r\nL 1172 1153 \r\nQ 1172 725 1289 603 \r\nQ 1406 481 1766 481 \r\nL 2356 481 \r\nL 2356 0 \r\nL 1766 0 \r\nQ 1100 0 847 248 \r\nQ 594 497 594 1153 \r\nL 594 3053 \r\nL 172 3053 \r\nL 172 3500 \r\nL 594 3500 \r\nL 594 4494 \r\nL 1172 4494 \r\nz\r\n\" id=\"DejaVuSans-74\" transform=\"scale(0.015625)\"/>\r\n       <path d=\"M 3513 2113 \r\nL 3513 0 \r\nL 2938 0 \r\nL 2938 2094 \r\nQ 2938 2591 2744 2837 \r\nQ 2550 3084 2163 3084 \r\nQ 1697 3084 1428 2787 \r\nQ 1159 2491 1159 1978 \r\nL 1159 0 \r\nL 581 0 \r\nL 581 4863 \r\nL 1159 4863 \r\nL 1159 2956 \r\nQ 1366 3272 1645 3428 \r\nQ 1925 3584 2291 3584 \r\nQ 2894 3584 3203 3211 \r\nQ 3513 2838 3513 2113 \r\nz\r\n\" id=\"DejaVuSans-68\" transform=\"scale(0.015625)\"/>\r\n      </defs>\r\n      <use xlink:href=\"#DejaVuSans-50\"/>\r\n      <use x=\"58.552734\" xlink:href=\"#DejaVuSans-72\"/>\r\n      <use x=\"99.666016\" xlink:href=\"#DejaVuSans-69\"/>\r\n      <use x=\"127.449219\" xlink:href=\"#DejaVuSans-63\"/>\r\n      <use x=\"182.429688\" xlink:href=\"#DejaVuSans-65\"/>\r\n      <use x=\"243.953125\" xlink:href=\"#DejaVuSans-20\"/>\r\n      <use x=\"275.740234\" xlink:href=\"#DejaVuSans-70\"/>\r\n      <use x=\"339.216797\" xlink:href=\"#DejaVuSans-65\"/>\r\n      <use x=\"400.740234\" xlink:href=\"#DejaVuSans-72\"/>\r\n      <use x=\"441.853516\" xlink:href=\"#DejaVuSans-20\"/>\r\n      <use x=\"473.640625\" xlink:href=\"#DejaVuSans-6d\"/>\r\n      <use x=\"571.052734\" xlink:href=\"#DejaVuSans-6f\"/>\r\n      <use x=\"632.234375\" xlink:href=\"#DejaVuSans-6e\"/>\r\n      <use x=\"695.613281\" xlink:href=\"#DejaVuSans-74\"/>\r\n      <use x=\"734.822266\" xlink:href=\"#DejaVuSans-68\"/>\r\n     </g>\r\n    </g>\r\n   </g>\r\n   <g id=\"matplotlib.axis_2\">\r\n    <g id=\"ytick_1\">\r\n     <g id=\"line2d_15\">\r\n      <path clip-path=\"url(#pdbd1a2d77b)\" d=\"M 50.14375 239.758125 \r\nL 384.94375 239.758125 \r\n\" style=\"fill:none;stroke:#b0b0b0;stroke-linecap:square;stroke-width:0.8;\"/>\r\n     </g>\r\n     <g id=\"line2d_16\">\r\n      <defs>\r\n       <path d=\"M 0 0 \r\nL -3.5 0 \r\n\" id=\"md74744ca5c\" style=\"stroke:#000000;stroke-width:0.8;\"/>\r\n      </defs>\r\n      <g>\r\n       <use style=\"stroke:#000000;stroke-width:0.8;\" x=\"50.14375\" xlink:href=\"#md74744ca5c\" y=\"239.758125\"/>\r\n      </g>\r\n     </g>\r\n     <g id=\"text_9\">\r\n      <!-- 0.00 -->\r\n      <g transform=\"translate(20.878125 243.557344)scale(0.1 -0.1)\">\r\n       <defs>\r\n        <path d=\"M 684 794 \r\nL 1344 794 \r\nL 1344 0 \r\nL 684 0 \r\nL 684 794 \r\nz\r\n\" id=\"DejaVuSans-2e\" transform=\"scale(0.015625)\"/>\r\n       </defs>\r\n       <use xlink:href=\"#DejaVuSans-30\"/>\r\n       <use x=\"63.623047\" xlink:href=\"#DejaVuSans-2e\"/>\r\n       <use x=\"95.410156\" xlink:href=\"#DejaVuSans-30\"/>\r\n       <use x=\"159.033203\" xlink:href=\"#DejaVuSans-30\"/>\r\n      </g>\r\n     </g>\r\n    </g>\r\n    <g id=\"ytick_2\">\r\n     <g id=\"line2d_17\">\r\n      <path clip-path=\"url(#pdbd1a2d77b)\" d=\"M 50.14375 208.695268 \r\nL 384.94375 208.695268 \r\n\" style=\"fill:none;stroke:#b0b0b0;stroke-linecap:square;stroke-width:0.8;\"/>\r\n     </g>\r\n     <g id=\"line2d_18\">\r\n      <g>\r\n       <use style=\"stroke:#000000;stroke-width:0.8;\" x=\"50.14375\" xlink:href=\"#md74744ca5c\" y=\"208.695268\"/>\r\n      </g>\r\n     </g>\r\n     <g id=\"text_10\">\r\n      <!-- 0.05 -->\r\n      <g transform=\"translate(20.878125 212.494487)scale(0.1 -0.1)\">\r\n       <use xlink:href=\"#DejaVuSans-30\"/>\r\n       <use x=\"63.623047\" xlink:href=\"#DejaVuSans-2e\"/>\r\n       <use x=\"95.410156\" xlink:href=\"#DejaVuSans-30\"/>\r\n       <use x=\"159.033203\" xlink:href=\"#DejaVuSans-35\"/>\r\n      </g>\r\n     </g>\r\n    </g>\r\n    <g id=\"ytick_3\">\r\n     <g id=\"line2d_19\">\r\n      <path clip-path=\"url(#pdbd1a2d77b)\" d=\"M 50.14375 177.632411 \r\nL 384.94375 177.632411 \r\n\" style=\"fill:none;stroke:#b0b0b0;stroke-linecap:square;stroke-width:0.8;\"/>\r\n     </g>\r\n     <g id=\"line2d_20\">\r\n      <g>\r\n       <use style=\"stroke:#000000;stroke-width:0.8;\" x=\"50.14375\" xlink:href=\"#md74744ca5c\" y=\"177.632411\"/>\r\n      </g>\r\n     </g>\r\n     <g id=\"text_11\">\r\n      <!-- 0.10 -->\r\n      <g transform=\"translate(20.878125 181.431629)scale(0.1 -0.1)\">\r\n       <defs>\r\n        <path d=\"M 794 531 \r\nL 1825 531 \r\nL 1825 4091 \r\nL 703 3866 \r\nL 703 4441 \r\nL 1819 4666 \r\nL 2450 4666 \r\nL 2450 531 \r\nL 3481 531 \r\nL 3481 0 \r\nL 794 0 \r\nL 794 531 \r\nz\r\n\" id=\"DejaVuSans-31\" transform=\"scale(0.015625)\"/>\r\n       </defs>\r\n       <use xlink:href=\"#DejaVuSans-30\"/>\r\n       <use x=\"63.623047\" xlink:href=\"#DejaVuSans-2e\"/>\r\n       <use x=\"95.410156\" xlink:href=\"#DejaVuSans-31\"/>\r\n       <use x=\"159.033203\" xlink:href=\"#DejaVuSans-30\"/>\r\n      </g>\r\n     </g>\r\n    </g>\r\n    <g id=\"ytick_4\">\r\n     <g id=\"line2d_21\">\r\n      <path clip-path=\"url(#pdbd1a2d77b)\" d=\"M 50.14375 146.569554 \r\nL 384.94375 146.569554 \r\n\" style=\"fill:none;stroke:#b0b0b0;stroke-linecap:square;stroke-width:0.8;\"/>\r\n     </g>\r\n     <g id=\"line2d_22\">\r\n      <g>\r\n       <use style=\"stroke:#000000;stroke-width:0.8;\" x=\"50.14375\" xlink:href=\"#md74744ca5c\" y=\"146.569554\"/>\r\n      </g>\r\n     </g>\r\n     <g id=\"text_12\">\r\n      <!-- 0.15 -->\r\n      <g transform=\"translate(20.878125 150.368772)scale(0.1 -0.1)\">\r\n       <use xlink:href=\"#DejaVuSans-30\"/>\r\n       <use x=\"63.623047\" xlink:href=\"#DejaVuSans-2e\"/>\r\n       <use x=\"95.410156\" xlink:href=\"#DejaVuSans-31\"/>\r\n       <use x=\"159.033203\" xlink:href=\"#DejaVuSans-35\"/>\r\n      </g>\r\n     </g>\r\n    </g>\r\n    <g id=\"ytick_5\">\r\n     <g id=\"line2d_23\">\r\n      <path clip-path=\"url(#pdbd1a2d77b)\" d=\"M 50.14375 115.506696 \r\nL 384.94375 115.506696 \r\n\" style=\"fill:none;stroke:#b0b0b0;stroke-linecap:square;stroke-width:0.8;\"/>\r\n     </g>\r\n     <g id=\"line2d_24\">\r\n      <g>\r\n       <use style=\"stroke:#000000;stroke-width:0.8;\" x=\"50.14375\" xlink:href=\"#md74744ca5c\" y=\"115.506696\"/>\r\n      </g>\r\n     </g>\r\n     <g id=\"text_13\">\r\n      <!-- 0.20 -->\r\n      <g transform=\"translate(20.878125 119.305915)scale(0.1 -0.1)\">\r\n       <use xlink:href=\"#DejaVuSans-30\"/>\r\n       <use x=\"63.623047\" xlink:href=\"#DejaVuSans-2e\"/>\r\n       <use x=\"95.410156\" xlink:href=\"#DejaVuSans-32\"/>\r\n       <use x=\"159.033203\" xlink:href=\"#DejaVuSans-30\"/>\r\n      </g>\r\n     </g>\r\n    </g>\r\n    <g id=\"ytick_6\">\r\n     <g id=\"line2d_25\">\r\n      <path clip-path=\"url(#pdbd1a2d77b)\" d=\"M 50.14375 84.443839 \r\nL 384.94375 84.443839 \r\n\" style=\"fill:none;stroke:#b0b0b0;stroke-linecap:square;stroke-width:0.8;\"/>\r\n     </g>\r\n     <g id=\"line2d_26\">\r\n      <g>\r\n       <use style=\"stroke:#000000;stroke-width:0.8;\" x=\"50.14375\" xlink:href=\"#md74744ca5c\" y=\"84.443839\"/>\r\n      </g>\r\n     </g>\r\n     <g id=\"text_14\">\r\n      <!-- 0.25 -->\r\n      <g transform=\"translate(20.878125 88.243058)scale(0.1 -0.1)\">\r\n       <use xlink:href=\"#DejaVuSans-30\"/>\r\n       <use x=\"63.623047\" xlink:href=\"#DejaVuSans-2e\"/>\r\n       <use x=\"95.410156\" xlink:href=\"#DejaVuSans-32\"/>\r\n       <use x=\"159.033203\" xlink:href=\"#DejaVuSans-35\"/>\r\n      </g>\r\n     </g>\r\n    </g>\r\n    <g id=\"ytick_7\">\r\n     <g id=\"line2d_27\">\r\n      <path clip-path=\"url(#pdbd1a2d77b)\" d=\"M 50.14375 53.380982 \r\nL 384.94375 53.380982 \r\n\" style=\"fill:none;stroke:#b0b0b0;stroke-linecap:square;stroke-width:0.8;\"/>\r\n     </g>\r\n     <g id=\"line2d_28\">\r\n      <g>\r\n       <use style=\"stroke:#000000;stroke-width:0.8;\" x=\"50.14375\" xlink:href=\"#md74744ca5c\" y=\"53.380982\"/>\r\n      </g>\r\n     </g>\r\n     <g id=\"text_15\">\r\n      <!-- 0.30 -->\r\n      <g transform=\"translate(20.878125 57.180201)scale(0.1 -0.1)\">\r\n       <use xlink:href=\"#DejaVuSans-30\"/>\r\n       <use x=\"63.623047\" xlink:href=\"#DejaVuSans-2e\"/>\r\n       <use x=\"95.410156\" xlink:href=\"#DejaVuSans-33\"/>\r\n       <use x=\"159.033203\" xlink:href=\"#DejaVuSans-30\"/>\r\n      </g>\r\n     </g>\r\n    </g>\r\n    <g id=\"ytick_8\">\r\n     <g id=\"line2d_29\">\r\n      <path clip-path=\"url(#pdbd1a2d77b)\" d=\"M 50.14375 22.318125 \r\nL 384.94375 22.318125 \r\n\" style=\"fill:none;stroke:#b0b0b0;stroke-linecap:square;stroke-width:0.8;\"/>\r\n     </g>\r\n     <g id=\"line2d_30\">\r\n      <g>\r\n       <use style=\"stroke:#000000;stroke-width:0.8;\" x=\"50.14375\" xlink:href=\"#md74744ca5c\" y=\"22.318125\"/>\r\n      </g>\r\n     </g>\r\n     <g id=\"text_16\">\r\n      <!-- 0.35 -->\r\n      <g transform=\"translate(20.878125 26.117344)scale(0.1 -0.1)\">\r\n       <use xlink:href=\"#DejaVuSans-30\"/>\r\n       <use x=\"63.623047\" xlink:href=\"#DejaVuSans-2e\"/>\r\n       <use x=\"95.410156\" xlink:href=\"#DejaVuSans-33\"/>\r\n       <use x=\"159.033203\" xlink:href=\"#DejaVuSans-35\"/>\r\n      </g>\r\n     </g>\r\n    </g>\r\n    <g id=\"text_17\">\r\n     <!-- Probability -->\r\n     <g transform=\"translate(14.798438 157.467031)rotate(-90)scale(0.1 -0.1)\">\r\n      <defs>\r\n       <path d=\"M 3116 1747 \r\nQ 3116 2381 2855 2742 \r\nQ 2594 3103 2138 3103 \r\nQ 1681 3103 1420 2742 \r\nQ 1159 2381 1159 1747 \r\nQ 1159 1113 1420 752 \r\nQ 1681 391 2138 391 \r\nQ 2594 391 2855 752 \r\nQ 3116 1113 3116 1747 \r\nz\r\nM 1159 2969 \r\nQ 1341 3281 1617 3432 \r\nQ 1894 3584 2278 3584 \r\nQ 2916 3584 3314 3078 \r\nQ 3713 2572 3713 1747 \r\nQ 3713 922 3314 415 \r\nQ 2916 -91 2278 -91 \r\nQ 1894 -91 1617 61 \r\nQ 1341 213 1159 525 \r\nL 1159 0 \r\nL 581 0 \r\nL 581 4863 \r\nL 1159 4863 \r\nL 1159 2969 \r\nz\r\n\" id=\"DejaVuSans-62\" transform=\"scale(0.015625)\"/>\r\n       <path d=\"M 2194 1759 \r\nQ 1497 1759 1228 1600 \r\nQ 959 1441 959 1056 \r\nQ 959 750 1161 570 \r\nQ 1363 391 1709 391 \r\nQ 2188 391 2477 730 \r\nQ 2766 1069 2766 1631 \r\nL 2766 1759 \r\nL 2194 1759 \r\nz\r\nM 3341 1997 \r\nL 3341 0 \r\nL 2766 0 \r\nL 2766 531 \r\nQ 2569 213 2275 61 \r\nQ 1981 -91 1556 -91 \r\nQ 1019 -91 701 211 \r\nQ 384 513 384 1019 \r\nQ 384 1609 779 1909 \r\nQ 1175 2209 1959 2209 \r\nL 2766 2209 \r\nL 2766 2266 \r\nQ 2766 2663 2505 2880 \r\nQ 2244 3097 1772 3097 \r\nQ 1472 3097 1187 3025 \r\nQ 903 2953 641 2809 \r\nL 641 3341 \r\nQ 956 3463 1253 3523 \r\nQ 1550 3584 1831 3584 \r\nQ 2591 3584 2966 3190 \r\nQ 3341 2797 3341 1997 \r\nz\r\n\" id=\"DejaVuSans-61\" transform=\"scale(0.015625)\"/>\r\n       <path d=\"M 603 4863 \r\nL 1178 4863 \r\nL 1178 0 \r\nL 603 0 \r\nL 603 4863 \r\nz\r\n\" id=\"DejaVuSans-6c\" transform=\"scale(0.015625)\"/>\r\n       <path d=\"M 2059 -325 \r\nQ 1816 -950 1584 -1140 \r\nQ 1353 -1331 966 -1331 \r\nL 506 -1331 \r\nL 506 -850 \r\nL 844 -850 \r\nQ 1081 -850 1212 -737 \r\nQ 1344 -625 1503 -206 \r\nL 1606 56 \r\nL 191 3500 \r\nL 800 3500 \r\nL 1894 763 \r\nL 2988 3500 \r\nL 3597 3500 \r\nL 2059 -325 \r\nz\r\n\" id=\"DejaVuSans-79\" transform=\"scale(0.015625)\"/>\r\n      </defs>\r\n      <use xlink:href=\"#DejaVuSans-50\"/>\r\n      <use x=\"58.552734\" xlink:href=\"#DejaVuSans-72\"/>\r\n      <use x=\"97.416016\" xlink:href=\"#DejaVuSans-6f\"/>\r\n      <use x=\"158.597656\" xlink:href=\"#DejaVuSans-62\"/>\r\n      <use x=\"222.074219\" xlink:href=\"#DejaVuSans-61\"/>\r\n      <use x=\"283.353516\" xlink:href=\"#DejaVuSans-62\"/>\r\n      <use x=\"346.830078\" xlink:href=\"#DejaVuSans-69\"/>\r\n      <use x=\"374.613281\" xlink:href=\"#DejaVuSans-6c\"/>\r\n      <use x=\"402.396484\" xlink:href=\"#DejaVuSans-69\"/>\r\n      <use x=\"430.179688\" xlink:href=\"#DejaVuSans-74\"/>\r\n      <use x=\"469.388672\" xlink:href=\"#DejaVuSans-79\"/>\r\n     </g>\r\n    </g>\r\n   </g>\r\n   <g id=\"patch_41\">\r\n    <path d=\"M 50.14375 239.758125 \r\nL 50.14375 22.318125 \r\n\" style=\"fill:none;stroke:#000000;stroke-linecap:square;stroke-linejoin:miter;stroke-width:0.8;\"/>\r\n   </g>\r\n   <g id=\"patch_42\">\r\n    <path d=\"M 384.94375 239.758125 \r\nL 384.94375 22.318125 \r\n\" style=\"fill:none;stroke:#000000;stroke-linecap:square;stroke-linejoin:miter;stroke-width:0.8;\"/>\r\n   </g>\r\n   <g id=\"patch_43\">\r\n    <path d=\"M 50.14375 239.758125 \r\nL 384.94375 239.758125 \r\n\" style=\"fill:none;stroke:#000000;stroke-linecap:square;stroke-linejoin:miter;stroke-width:0.8;\"/>\r\n   </g>\r\n   <g id=\"patch_44\">\r\n    <path d=\"M 50.14375 22.318125 \r\nL 384.94375 22.318125 \r\n\" style=\"fill:none;stroke:#000000;stroke-linecap:square;stroke-linejoin:miter;stroke-width:0.8;\"/>\r\n   </g>\r\n   <g id=\"text_18\">\r\n    <!-- Average price paid per month by user -->\r\n    <g transform=\"translate(103.680625 16.318125)scale(0.12 -0.12)\">\r\n     <defs>\r\n      <path d=\"M 2188 4044 \r\nL 1331 1722 \r\nL 3047 1722 \r\nL 2188 4044 \r\nz\r\nM 1831 4666 \r\nL 2547 4666 \r\nL 4325 0 \r\nL 3669 0 \r\nL 3244 1197 \r\nL 1141 1197 \r\nL 716 0 \r\nL 50 0 \r\nL 1831 4666 \r\nz\r\n\" id=\"DejaVuSans-41\" transform=\"scale(0.015625)\"/>\r\n      <path d=\"M 191 3500 \r\nL 800 3500 \r\nL 1894 563 \r\nL 2988 3500 \r\nL 3597 3500 \r\nL 2284 0 \r\nL 1503 0 \r\nL 191 3500 \r\nz\r\n\" id=\"DejaVuSans-76\" transform=\"scale(0.015625)\"/>\r\n      <path d=\"M 2906 1791 \r\nQ 2906 2416 2648 2759 \r\nQ 2391 3103 1925 3103 \r\nQ 1463 3103 1205 2759 \r\nQ 947 2416 947 1791 \r\nQ 947 1169 1205 825 \r\nQ 1463 481 1925 481 \r\nQ 2391 481 2648 825 \r\nQ 2906 1169 2906 1791 \r\nz\r\nM 3481 434 \r\nQ 3481 -459 3084 -895 \r\nQ 2688 -1331 1869 -1331 \r\nQ 1566 -1331 1297 -1286 \r\nQ 1028 -1241 775 -1147 \r\nL 775 -588 \r\nQ 1028 -725 1275 -790 \r\nQ 1522 -856 1778 -856 \r\nQ 2344 -856 2625 -561 \r\nQ 2906 -266 2906 331 \r\nL 2906 616 \r\nQ 2728 306 2450 153 \r\nQ 2172 0 1784 0 \r\nQ 1141 0 747 490 \r\nQ 353 981 353 1791 \r\nQ 353 2603 747 3093 \r\nQ 1141 3584 1784 3584 \r\nQ 2172 3584 2450 3431 \r\nQ 2728 3278 2906 2969 \r\nL 2906 3500 \r\nL 3481 3500 \r\nL 3481 434 \r\nz\r\n\" id=\"DejaVuSans-67\" transform=\"scale(0.015625)\"/>\r\n      <path d=\"M 2906 2969 \r\nL 2906 4863 \r\nL 3481 4863 \r\nL 3481 0 \r\nL 2906 0 \r\nL 2906 525 \r\nQ 2725 213 2448 61 \r\nQ 2172 -91 1784 -91 \r\nQ 1150 -91 751 415 \r\nQ 353 922 353 1747 \r\nQ 353 2572 751 3078 \r\nQ 1150 3584 1784 3584 \r\nQ 2172 3584 2448 3432 \r\nQ 2725 3281 2906 2969 \r\nz\r\nM 947 1747 \r\nQ 947 1113 1208 752 \r\nQ 1469 391 1925 391 \r\nQ 2381 391 2643 752 \r\nQ 2906 1113 2906 1747 \r\nQ 2906 2381 2643 2742 \r\nQ 2381 3103 1925 3103 \r\nQ 1469 3103 1208 2742 \r\nQ 947 2381 947 1747 \r\nz\r\n\" id=\"DejaVuSans-64\" transform=\"scale(0.015625)\"/>\r\n      <path d=\"M 544 1381 \r\nL 544 3500 \r\nL 1119 3500 \r\nL 1119 1403 \r\nQ 1119 906 1312 657 \r\nQ 1506 409 1894 409 \r\nQ 2359 409 2629 706 \r\nQ 2900 1003 2900 1516 \r\nL 2900 3500 \r\nL 3475 3500 \r\nL 3475 0 \r\nL 2900 0 \r\nL 2900 538 \r\nQ 2691 219 2414 64 \r\nQ 2138 -91 1772 -91 \r\nQ 1169 -91 856 284 \r\nQ 544 659 544 1381 \r\nz\r\nM 1991 3584 \r\nL 1991 3584 \r\nz\r\n\" id=\"DejaVuSans-75\" transform=\"scale(0.015625)\"/>\r\n      <path d=\"M 2834 3397 \r\nL 2834 2853 \r\nQ 2591 2978 2328 3040 \r\nQ 2066 3103 1784 3103 \r\nQ 1356 3103 1142 2972 \r\nQ 928 2841 928 2578 \r\nQ 928 2378 1081 2264 \r\nQ 1234 2150 1697 2047 \r\nL 1894 2003 \r\nQ 2506 1872 2764 1633 \r\nQ 3022 1394 3022 966 \r\nQ 3022 478 2636 193 \r\nQ 2250 -91 1575 -91 \r\nQ 1294 -91 989 -36 \r\nQ 684 19 347 128 \r\nL 347 722 \r\nQ 666 556 975 473 \r\nQ 1284 391 1588 391 \r\nQ 1994 391 2212 530 \r\nQ 2431 669 2431 922 \r\nQ 2431 1156 2273 1281 \r\nQ 2116 1406 1581 1522 \r\nL 1381 1569 \r\nQ 847 1681 609 1914 \r\nQ 372 2147 372 2553 \r\nQ 372 3047 722 3315 \r\nQ 1072 3584 1716 3584 \r\nQ 2034 3584 2315 3537 \r\nQ 2597 3491 2834 3397 \r\nz\r\n\" id=\"DejaVuSans-73\" transform=\"scale(0.015625)\"/>\r\n     </defs>\r\n     <use xlink:href=\"#DejaVuSans-41\"/>\r\n     <use x=\"62.533203\" xlink:href=\"#DejaVuSans-76\"/>\r\n     <use x=\"121.712891\" xlink:href=\"#DejaVuSans-65\"/>\r\n     <use x=\"183.236328\" xlink:href=\"#DejaVuSans-72\"/>\r\n     <use x=\"224.349609\" xlink:href=\"#DejaVuSans-61\"/>\r\n     <use x=\"285.628906\" xlink:href=\"#DejaVuSans-67\"/>\r\n     <use x=\"349.105469\" xlink:href=\"#DejaVuSans-65\"/>\r\n     <use x=\"410.628906\" xlink:href=\"#DejaVuSans-20\"/>\r\n     <use x=\"442.416016\" xlink:href=\"#DejaVuSans-70\"/>\r\n     <use x=\"505.892578\" xlink:href=\"#DejaVuSans-72\"/>\r\n     <use x=\"547.005859\" xlink:href=\"#DejaVuSans-69\"/>\r\n     <use x=\"574.789062\" xlink:href=\"#DejaVuSans-63\"/>\r\n     <use x=\"629.769531\" xlink:href=\"#DejaVuSans-65\"/>\r\n     <use x=\"691.292969\" xlink:href=\"#DejaVuSans-20\"/>\r\n     <use x=\"723.080078\" xlink:href=\"#DejaVuSans-70\"/>\r\n     <use x=\"786.556641\" xlink:href=\"#DejaVuSans-61\"/>\r\n     <use x=\"847.835938\" xlink:href=\"#DejaVuSans-69\"/>\r\n     <use x=\"875.619141\" xlink:href=\"#DejaVuSans-64\"/>\r\n     <use x=\"939.095703\" xlink:href=\"#DejaVuSans-20\"/>\r\n     <use x=\"970.882812\" xlink:href=\"#DejaVuSans-70\"/>\r\n     <use x=\"1034.359375\" xlink:href=\"#DejaVuSans-65\"/>\r\n     <use x=\"1095.882812\" xlink:href=\"#DejaVuSans-72\"/>\r\n     <use x=\"1136.996094\" xlink:href=\"#DejaVuSans-20\"/>\r\n     <use x=\"1168.783203\" xlink:href=\"#DejaVuSans-6d\"/>\r\n     <use x=\"1266.195312\" xlink:href=\"#DejaVuSans-6f\"/>\r\n     <use x=\"1327.376953\" xlink:href=\"#DejaVuSans-6e\"/>\r\n     <use x=\"1390.755859\" xlink:href=\"#DejaVuSans-74\"/>\r\n     <use x=\"1429.964844\" xlink:href=\"#DejaVuSans-68\"/>\r\n     <use x=\"1493.34375\" xlink:href=\"#DejaVuSans-20\"/>\r\n     <use x=\"1525.130859\" xlink:href=\"#DejaVuSans-62\"/>\r\n     <use x=\"1588.607422\" xlink:href=\"#DejaVuSans-79\"/>\r\n     <use x=\"1647.787109\" xlink:href=\"#DejaVuSans-20\"/>\r\n     <use x=\"1679.574219\" xlink:href=\"#DejaVuSans-75\"/>\r\n     <use x=\"1742.953125\" xlink:href=\"#DejaVuSans-73\"/>\r\n     <use x=\"1795.052734\" xlink:href=\"#DejaVuSans-65\"/>\r\n     <use x=\"1856.576172\" xlink:href=\"#DejaVuSans-72\"/>\r\n    </g>\r\n   </g>\r\n   <g id=\"legend_1\">\r\n    <g id=\"patch_45\">\r\n     <path d=\"M 57.14375 59.674375 \r\nL 131.88125 59.674375 \r\nQ 133.88125 59.674375 133.88125 57.674375 \r\nL 133.88125 29.318125 \r\nQ 133.88125 27.318125 131.88125 27.318125 \r\nL 57.14375 27.318125 \r\nQ 55.14375 27.318125 55.14375 29.318125 \r\nL 55.14375 57.674375 \r\nQ 55.14375 59.674375 57.14375 59.674375 \r\nz\r\n\" style=\"fill:#ffffff;opacity:0.8;stroke:#cccccc;stroke-linejoin:miter;\"/>\r\n    </g>\r\n    <g id=\"patch_46\">\r\n     <path d=\"M 59.14375 38.916562 \r\nL 79.14375 38.916562 \r\nL 79.14375 31.916562 \r\nL 59.14375 31.916562 \r\nz\r\n\" style=\"fill:#1f77b4;\"/>\r\n    </g>\r\n    <g id=\"text_19\">\r\n     <!-- Surf -->\r\n     <g transform=\"translate(87.14375 38.916562)scale(0.1 -0.1)\">\r\n      <defs>\r\n       <path d=\"M 3425 4513 \r\nL 3425 3897 \r\nQ 3066 4069 2747 4153 \r\nQ 2428 4238 2131 4238 \r\nQ 1616 4238 1336 4038 \r\nQ 1056 3838 1056 3469 \r\nQ 1056 3159 1242 3001 \r\nQ 1428 2844 1947 2747 \r\nL 2328 2669 \r\nQ 3034 2534 3370 2195 \r\nQ 3706 1856 3706 1288 \r\nQ 3706 609 3251 259 \r\nQ 2797 -91 1919 -91 \r\nQ 1588 -91 1214 -16 \r\nQ 841 59 441 206 \r\nL 441 856 \r\nQ 825 641 1194 531 \r\nQ 1563 422 1919 422 \r\nQ 2459 422 2753 634 \r\nQ 3047 847 3047 1241 \r\nQ 3047 1584 2836 1778 \r\nQ 2625 1972 2144 2069 \r\nL 1759 2144 \r\nQ 1053 2284 737 2584 \r\nQ 422 2884 422 3419 \r\nQ 422 4038 858 4394 \r\nQ 1294 4750 2059 4750 \r\nQ 2388 4750 2728 4690 \r\nQ 3069 4631 3425 4513 \r\nz\r\n\" id=\"DejaVuSans-53\" transform=\"scale(0.015625)\"/>\r\n       <path d=\"M 2375 4863 \r\nL 2375 4384 \r\nL 1825 4384 \r\nQ 1516 4384 1395 4259 \r\nQ 1275 4134 1275 3809 \r\nL 1275 3500 \r\nL 2222 3500 \r\nL 2222 3053 \r\nL 1275 3053 \r\nL 1275 0 \r\nL 697 0 \r\nL 697 3053 \r\nL 147 3053 \r\nL 147 3500 \r\nL 697 3500 \r\nL 697 3744 \r\nQ 697 4328 969 4595 \r\nQ 1241 4863 1831 4863 \r\nL 2375 4863 \r\nz\r\n\" id=\"DejaVuSans-66\" transform=\"scale(0.015625)\"/>\r\n      </defs>\r\n      <use xlink:href=\"#DejaVuSans-53\"/>\r\n      <use x=\"63.476562\" xlink:href=\"#DejaVuSans-75\"/>\r\n      <use x=\"126.855469\" xlink:href=\"#DejaVuSans-72\"/>\r\n      <use x=\"167.96875\" xlink:href=\"#DejaVuSans-66\"/>\r\n     </g>\r\n    </g>\r\n    <g id=\"patch_47\">\r\n     <path d=\"M 59.14375 53.594687 \r\nL 79.14375 53.594687 \r\nL 79.14375 46.594687 \r\nL 59.14375 46.594687 \r\nz\r\n\" style=\"fill:#ff7f0e;\"/>\r\n    </g>\r\n    <g id=\"text_20\">\r\n     <!-- Ultimate -->\r\n     <g transform=\"translate(87.14375 53.594687)scale(0.1 -0.1)\">\r\n      <defs>\r\n       <path d=\"M 556 4666 \r\nL 1191 4666 \r\nL 1191 1831 \r\nQ 1191 1081 1462 751 \r\nQ 1734 422 2344 422 \r\nQ 2950 422 3222 751 \r\nQ 3494 1081 3494 1831 \r\nL 3494 4666 \r\nL 4128 4666 \r\nL 4128 1753 \r\nQ 4128 841 3676 375 \r\nQ 3225 -91 2344 -91 \r\nQ 1459 -91 1007 375 \r\nQ 556 841 556 1753 \r\nL 556 4666 \r\nz\r\n\" id=\"DejaVuSans-55\" transform=\"scale(0.015625)\"/>\r\n      </defs>\r\n      <use xlink:href=\"#DejaVuSans-55\"/>\r\n      <use x=\"73.193359\" xlink:href=\"#DejaVuSans-6c\"/>\r\n      <use x=\"100.976562\" xlink:href=\"#DejaVuSans-74\"/>\r\n      <use x=\"140.185547\" xlink:href=\"#DejaVuSans-69\"/>\r\n      <use x=\"167.96875\" xlink:href=\"#DejaVuSans-6d\"/>\r\n      <use x=\"265.380859\" xlink:href=\"#DejaVuSans-61\"/>\r\n      <use x=\"326.660156\" xlink:href=\"#DejaVuSans-74\"/>\r\n      <use x=\"365.869141\" xlink:href=\"#DejaVuSans-65\"/>\r\n     </g>\r\n    </g>\r\n   </g>\r\n  </g>\r\n </g>\r\n <defs>\r\n  <clipPath id=\"pdbd1a2d77b\">\r\n   <rect height=\"217.44\" width=\"334.8\" x=\"50.14375\" y=\"22.318125\"/>\r\n  </clipPath>\r\n </defs>\r\n</svg>\r\n",
      "image/png": "[encoded data removed]"
     },
     "metadata": {
      "needs_background": "light"
     }
    }
   ],
   "metadata": {}
  },
  {
   "cell_type": "markdown",
   "source": [
    "Finally, the distribution of prices between plans look nothing alike. By taking a look at the density for average price paid per plan, we can see all users of Ultimate generally only pay the plan price without exceeding limits. While most of the users of Surf won't pay more than $25, their monthly bills show some variance."
   ],
   "metadata": {}
  },
  {
   "cell_type": "markdown",
   "source": [
    "#### Results"
   ],
   "metadata": {}
  },
  {
   "cell_type": "markdown",
   "source": [
    "With the exception of prices, all of the graphs show similar distributions. That strengthens the hypothesis that users in Surf have similar usage of services when compared to Ultimate. This is something to look out for: why these customers prefer ultimate? This should be discussed in the conclusion of this section."
   ],
   "metadata": {}
  },
  {
   "cell_type": "markdown",
   "source": [
    "### Location comparison"
   ],
   "metadata": {}
  },
  {
   "cell_type": "markdown",
   "source": [
    "#### Explanation"
   ],
   "metadata": {}
  },
  {
   "cell_type": "markdown",
   "source": [
    "Here we will make a quick comparison between users in NY-NJ states compared to the rest of the states. This could give us another insight on how important is location for these statistics."
   ],
   "metadata": {}
  },
  {
   "cell_type": "markdown",
   "source": [
    "#### Code"
   ],
   "metadata": {}
  },
  {
   "cell_type": "code",
   "execution_count": 31,
   "source": [
    "wordnet_lemma = WordNetLemmatizer()\r\n",
    "english_stem = SnowballStemmer('english')\r\n",
    "users['token'] = users['city'].apply(nltk.word_tokenize)\r\n",
    "\r\n",
    "NY_list = []\r\n",
    "for row in users['token']:\r\n",
    "    if 'NY-NJ-PA' in row:\r\n",
    "        NY_list.append(True)\r\n",
    "    else:\r\n",
    "        NY_list.append(False)\r\n",
    "\r\n",
    "users = users.join(pd.Series(NY_list, name='NY_list'))"
   ],
   "outputs": [],
   "metadata": {}
  },
  {
   "cell_type": "code",
   "execution_count": 32,
   "source": [
    "user_paid = user_paid.join(users.set_index('user_id')['NY_list'])"
   ],
   "outputs": [],
   "metadata": {}
  },
  {
   "cell_type": "code",
   "execution_count": 33,
   "source": [
    "user_paid.pivot_table(index='plan', columns='NY_list', values='mean', aggfunc=['count', 'mean', np.std, np.var])"
   ],
   "outputs": [
    {
     "output_type": "execute_result",
     "data": {
      "text/plain": [
       "         count             mean                  std                 var  \\\n",
       "NY_list  False True       False      True      False     True      False   \n",
       "plan                                                                       \n",
       "surf       279    60  21.382185  21.529715  2.527779  2.501824  6.389667   \n",
       "ultimate   141    20  70.000000  70.000000  0.000000  0.000000  0.000000   \n",
       "\n",
       "                    \n",
       "NY_list      True   \n",
       "plan                \n",
       "surf      6.259124  \n",
       "ultimate  0.000000  "
      ],
      "text/html": [
       "<div>\n",
       "<style scoped>\n",
       "    .dataframe tbody tr th:only-of-type {\n",
       "        vertical-align: middle;\n",
       "    }\n",
       "\n",
       "    .dataframe tbody tr th {\n",
       "        vertical-align: top;\n",
       "    }\n",
       "\n",
       "    .dataframe thead tr th {\n",
       "        text-align: left;\n",
       "    }\n",
       "\n",
       "    .dataframe thead tr:last-of-type th {\n",
       "        text-align: right;\n",
       "    }\n",
       "</style>\n",
       "<table border=\"1\" class=\"dataframe\">\n",
       "  <thead>\n",
       "    <tr>\n",
       "      <th></th>\n",
       "      <th colspan=\"2\" halign=\"left\">count</th>\n",
       "      <th colspan=\"2\" halign=\"left\">mean</th>\n",
       "      <th colspan=\"2\" halign=\"left\">std</th>\n",
       "      <th colspan=\"2\" halign=\"left\">var</th>\n",
       "    </tr>\n",
       "    <tr>\n",
       "      <th>NY_list</th>\n",
       "      <th>False</th>\n",
       "      <th>True</th>\n",
       "      <th>False</th>\n",
       "      <th>True</th>\n",
       "      <th>False</th>\n",
       "      <th>True</th>\n",
       "      <th>False</th>\n",
       "      <th>True</th>\n",
       "    </tr>\n",
       "    <tr>\n",
       "      <th>plan</th>\n",
       "      <th></th>\n",
       "      <th></th>\n",
       "      <th></th>\n",
       "      <th></th>\n",
       "      <th></th>\n",
       "      <th></th>\n",
       "      <th></th>\n",
       "      <th></th>\n",
       "    </tr>\n",
       "  </thead>\n",
       "  <tbody>\n",
       "    <tr>\n",
       "      <th>surf</th>\n",
       "      <td>279</td>\n",
       "      <td>60</td>\n",
       "      <td>21.382185</td>\n",
       "      <td>21.529715</td>\n",
       "      <td>2.527779</td>\n",
       "      <td>2.501824</td>\n",
       "      <td>6.389667</td>\n",
       "      <td>6.259124</td>\n",
       "    </tr>\n",
       "    <tr>\n",
       "      <th>ultimate</th>\n",
       "      <td>141</td>\n",
       "      <td>20</td>\n",
       "      <td>70.000000</td>\n",
       "      <td>70.000000</td>\n",
       "      <td>0.000000</td>\n",
       "      <td>0.000000</td>\n",
       "      <td>0.000000</td>\n",
       "      <td>0.000000</td>\n",
       "    </tr>\n",
       "  </tbody>\n",
       "</table>\n",
       "</div>"
      ]
     },
     "metadata": {},
     "execution_count": 33
    }
   ],
   "metadata": {}
  },
  {
   "cell_type": "markdown",
   "source": [
    "#### Results"
   ],
   "metadata": {}
  },
  {
   "cell_type": "markdown",
   "source": [
    "In this quick section, we checked the indexes. For these samples of users, we could check that NY-NJ residents have higher rates of adherison to the Surf plan."
   ],
   "metadata": {}
  },
  {
   "cell_type": "markdown",
   "source": [
    "### Overall Conclusion"
   ],
   "metadata": {}
  },
  {
   "cell_type": "markdown",
   "source": [
    "We created a few hypothesis in this analysis. We could check that for this sample most Ultimate users would probably be happy just using Surf plan. Maybe the Ultimate plan users have additional benefits that are not included in rates, or they simply like the comfort of being able to spend a lot of minutes, text messages and gigabytes. On the other hand, they could just be misinformed, and that could mean a liability. After all, that opens space for the competition to offer better plans. In the next section, we will make a statistical analysis to test hypothesis. However, it's very clear that Ultimate users spend much more money on average than Surf users."
   ],
   "metadata": {}
  },
  {
   "cell_type": "markdown",
   "source": [
    "## Hypothesis Testing"
   ],
   "metadata": {}
  },
  {
   "cell_type": "markdown",
   "source": [
    "### Introduction"
   ],
   "metadata": {}
  },
  {
   "cell_type": "markdown",
   "source": [
    "In this section, we will group data samples and test them statistically to check their validity and relevance. Hypothesis testing using data can only be used to clarify whether we can reject a null hyphothesis or we just don't have enough information to do it. A null hypothesis is an assumption considered true until proven wrong, that a quantity to be measured is zero. This quantity is the probability that the arrays of samples provided derive from different batchets. If such null hypothesis is proven wrong, then we can validate an alternative hypothesis. We will do it to attest whether our assumptions in the analysis section are incorrect."
   ],
   "metadata": {}
  },
  {
   "cell_type": "markdown",
   "source": [
    "### Testing"
   ],
   "metadata": {}
  },
  {
   "cell_type": "markdown",
   "source": [
    "#### Explanation"
   ],
   "metadata": {}
  },
  {
   "cell_type": "markdown",
   "source": [
    "We will test two hypotheses:\n",
    "\n",
    "Question 1: Do users in both plans have different patterns regarding calls, messages and data rates? \n",
    "- *The null hypothesis:* Users have the same patterns regardless of the plan. \n",
    "- *The alternative hypothesis:* Users have different patterns depending on the plan. \n",
    "\n",
    "Question 2: Do users in NY have different monthly bill prices when compared to other regions?\n",
    "- *The null hypothesis:* Monthly expenses of NY users are similar to those of users all in other locations. \n",
    "- *The alternative hypothesis:* Monthly expenses of NY users are specific and patterns are different from those of users in other locations. \n",
    "\n",
    "When comparing probabilities, we will use a probability reference value of 10% to tell whether a statement can be rejected or not, because our dataset is considerably reduced. Additionally, the data analysis led us to strong expectations, so we can set the bar higher."
   ],
   "metadata": {}
  },
  {
   "cell_type": "markdown",
   "source": [
    "#### Code"
   ],
   "metadata": {}
  },
  {
   "cell_type": "code",
   "execution_count": 34,
   "source": [
    "import scipy.stats as st\r\n",
    "\r\n",
    "alpha = 0.1"
   ],
   "outputs": [],
   "metadata": {}
  },
  {
   "cell_type": "code",
   "execution_count": 35,
   "source": [
    "print('Testing duration by plan...')\r\n",
    "test_duration = user_duration.pivot_table(index=user_duration.index, values='mean', columns='plan')\r\n",
    "array1 = test_duration[test_duration['surf'].notna()]['surf'].values\r\n",
    "array2 = test_duration[test_duration['ultimate'].notna()]['ultimate'].values\r\n",
    "result = st.ttest_ind(array1, array2, equal_var=True)\r\n",
    "\r\n",
    "print(f\"P-value: {result.pvalue}\")\r\n",
    "print(f\"Probability: {result.pvalue:.2%}\")\r\n",
    "if result.pvalue > alpha:\r\n",
    "    print(f\"It is too high, so both sets are likely to have come from the same population (null hypothesis can't be rejected).\")\r\n",
    "else:\r\n",
    "    print(f\"It is too low, so we have evidence that both sets are not from the the same population (null hypothesis rejected).\")"
   ],
   "outputs": [
    {
     "output_type": "stream",
     "name": "stdout",
     "text": [
      "Testing duration by plan...\n",
      "P-value: 0.4721151053891024\n",
      "Probability: 47.21%\n",
      "It is too high, so both sets are likely to have come from the same population (null hypothesis can't be rejected).\n"
     ]
    }
   ],
   "metadata": {}
  },
  {
   "cell_type": "code",
   "execution_count": 36,
   "source": [
    "print('Testing messages by plan...')\r\n",
    "test_messages = user_messages.pivot_table(index=user_messages.index, values='mean', columns='plan')\r\n",
    "array1 = test_messages[test_messages['surf'].notna()]['surf'].values\r\n",
    "array2 = test_messages[test_messages['ultimate'].notna()]['ultimate'].values\r\n",
    "result = st.ttest_ind(array1, array2, equal_var=True)\r\n",
    "\r\n",
    "print(f\"P-value: {result.pvalue}\")\r\n",
    "print(f\"Probability: {result.pvalue:.2%}\", )\r\n",
    "if result.pvalue > alpha:\r\n",
    "    print(f\"It is too high, so both sets are likely to have come from the same population (null hypothesis can't be rejected).\")\r\n",
    "else:\r\n",
    "    print(f\"It is too low, so we have evidence that both sets are not from the the same population (null hypothesis rejected).\")"
   ],
   "outputs": [
    {
     "output_type": "stream",
     "name": "stdout",
     "text": [
      "Testing messages by plan...\n",
      "P-value: 0.07680266663598279\n",
      "Probability: 7.68%\n",
      "It is too low, so we have evidence that both sets are not from the the same population (null hypothesis rejected).\n"
     ]
    }
   ],
   "metadata": {}
  },
  {
   "cell_type": "code",
   "execution_count": 37,
   "source": [
    "print('Testing data rates by plan...')\r\n",
    "test_internet = user_internet.pivot_table(index=user_internet.index, values='mean', columns='plan')\r\n",
    "array1 = test_internet[test_internet['surf'].notna()]['surf'].values\r\n",
    "array2 = test_internet[test_internet['ultimate'].notna()]['ultimate'].values\r\n",
    "result = st.ttest_ind(array1, array2, equal_var=True)\r\n",
    "\r\n",
    "print(f\"P-value: {result.pvalue}\")\r\n",
    "print(f\"Probability: {result.pvalue:.2%}\", )\r\n",
    "if result.pvalue > alpha:\r\n",
    "    print(f\"It is too high, so both sets are likely to have come from the same population (null hypothesis can't be rejected).\")\r\n",
    "else:\r\n",
    "    print(f\"It is too low, so we have evidence that both sets are not from the the same population (null hypothesis rejected).\")"
   ],
   "outputs": [
    {
     "output_type": "stream",
     "name": "stdout",
     "text": [
      "Testing data rates by plan...\n",
      "P-value: 0.8857578045461794\n",
      "Probability: 88.58%\n",
      "It is too high, so both sets are likely to have come from the same population (null hypothesis can't be rejected).\n"
     ]
    }
   ],
   "metadata": {}
  },
  {
   "cell_type": "code",
   "execution_count": 38,
   "source": [
    "print('Testing revenue by location...')\r\n",
    "\r\n",
    "array1 = user_paid.query('NY_list == True and plan == \"surf\"')['mean'].values\r\n",
    "array2 = user_paid.query('NY_list == False and plan == \"surf\"')['mean'].values\r\n",
    "\r\n",
    "result = st.ttest_ind(array1, array2, equal_var=False)\r\n",
    "\r\n",
    "print(f\"P-value: {result.pvalue}\")\r\n",
    "print(f\"Probability: {result.pvalue:.2%}\", )\r\n",
    "if result.pvalue > alpha:\r\n",
    "    print(f\"It is too high, so both sets are likely to have come from the same population (null hypothesis can't be rejected).\")\r\n",
    "else:\r\n",
    "    print(f\"It is too low, so we have evidence that both sets are not from the the same population (null hypothesis rejected).\")"
   ],
   "outputs": [
    {
     "output_type": "stream",
     "name": "stdout",
     "text": [
      "Testing revenue by location...\n",
      "P-value: 0.680172635994667\n",
      "Probability: 68.02%\n",
      "It is too high, so both sets are likely to have come from the same population (null hypothesis can't be rejected).\n"
     ]
    }
   ],
   "metadata": {}
  },
  {
   "cell_type": "markdown",
   "source": [
    "#### Results"
   ],
   "metadata": {}
  },
  {
   "cell_type": "markdown",
   "source": [
    "The test we have made calculates the probability of arrays being samples of the same dataset. Using the T-test for on the equality of two population means, we can check if two sets of data are not from the same population (p-value lower than threshold). The probabilities and the only null hypothesis we could reject is that message patterns from users in 'Surf' and 'Ultimate' are the same. That means patterns of calls, internet usage and monthly bills are the same independetly on the plan. Additionally, there is no significant differences in the average revenue from users in NY-NJ area, when compared to other regions."
   ],
   "metadata": {}
  },
  {
   "cell_type": "markdown",
   "source": [
    "### Conclusion"
   ],
   "metadata": {}
  },
  {
   "cell_type": "markdown",
   "source": [
    "After our calculations, we can say our hypothesis were reasonable and should be taken into account. When comparing users of both plans, patterns in usage of services were only different regarding messages, we can't conclude they are different for other stats such as duration of call in minutes and data rates in gigabytes. Additionally, we don't have evident to support the hypothesis that average data about NY customers is different from other regions, so location doesn't prove itself a main topic of interest."
   ],
   "metadata": {}
  },
  {
   "cell_type": "markdown",
   "source": [
    "## Overall Conclusion"
   ],
   "metadata": {}
  },
  {
   "cell_type": "markdown",
   "source": [
    "Our objective in this research was to outline patterns in consumers for plans Surf and Ultimate of Megaline Company. This information can prove itself useful for the marketing team to design they next campaign.\n",
    "\n",
    "We got details about 500 users, containing mostly correct data and minimal issues. After preprocessing the data, we did the exploratory data analysis, plotted histograms, and came to the following conclusions about the data in this sample: \n",
    "\n",
    "- Location is not a significant matter of research regarding patterns of usage in services.\n",
    "- The Ultimate plan is more profitable in regards to average price paid per user and in total revenues.\n",
    "- Users in plans Surf and Ultimate have mostly the same needs in quantity of call duration and internet data rates used.\n",
    "- Ultimate users generally use messages service considerably more often than Surf users do.\n",
    "\n",
    "These results were statistically tested and validated.\n",
    "\n",
    "Lastly, this research shows relevant information about the patterns of users in each plan. We have found out that users of Ultimate practically do not exceed their usage limits and that they could save money for the same service had they registered on Surf, although Ultimate could still have other benefits that our team has not been informed for the present analysis."
   ],
   "metadata": {}
  }
 ],
 "metadata": {
  "ExecuteTimeLog": [
   {
    "duration": 1508,
    "start_time": "2021-08-04T07:45:22.686Z"
   },
   {
    "duration": 505,
    "start_time": "2021-08-04T07:45:24.196Z"
   },
   {
    "duration": -985,
    "start_time": "2021-08-04T07:45:25.689Z"
   },
   {
    "duration": -989,
    "start_time": "2021-08-04T07:45:25.694Z"
   },
   {
    "duration": -993,
    "start_time": "2021-08-04T07:45:25.698Z"
   },
   {
    "duration": -995,
    "start_time": "2021-08-04T07:45:25.701Z"
   },
   {
    "duration": -997,
    "start_time": "2021-08-04T07:45:25.705Z"
   },
   {
    "duration": -1000,
    "start_time": "2021-08-04T07:45:25.709Z"
   },
   {
    "duration": -1003,
    "start_time": "2021-08-04T07:45:25.712Z"
   },
   {
    "duration": -1007,
    "start_time": "2021-08-04T07:45:25.717Z"
   },
   {
    "duration": -1010,
    "start_time": "2021-08-04T07:45:25.721Z"
   },
   {
    "duration": -1013,
    "start_time": "2021-08-04T07:45:25.725Z"
   },
   {
    "duration": -1015,
    "start_time": "2021-08-04T07:45:25.728Z"
   },
   {
    "duration": -1017,
    "start_time": "2021-08-04T07:45:25.731Z"
   },
   {
    "duration": -1019,
    "start_time": "2021-08-04T07:45:25.734Z"
   },
   {
    "duration": -1022,
    "start_time": "2021-08-04T07:45:25.738Z"
   },
   {
    "duration": -1026,
    "start_time": "2021-08-04T07:45:25.743Z"
   },
   {
    "duration": -1028,
    "start_time": "2021-08-04T07:45:25.746Z"
   },
   {
    "duration": -1032,
    "start_time": "2021-08-04T07:45:25.750Z"
   },
   {
    "duration": -1035,
    "start_time": "2021-08-04T07:45:25.754Z"
   },
   {
    "duration": -1039,
    "start_time": "2021-08-04T07:45:25.759Z"
   },
   {
    "duration": -1043,
    "start_time": "2021-08-04T07:45:25.764Z"
   },
   {
    "duration": -1045,
    "start_time": "2021-08-04T07:45:25.767Z"
   },
   {
    "duration": -1048,
    "start_time": "2021-08-04T07:45:25.771Z"
   },
   {
    "duration": -1049,
    "start_time": "2021-08-04T07:45:25.773Z"
   },
   {
    "duration": -1052,
    "start_time": "2021-08-04T07:45:25.777Z"
   },
   {
    "duration": -1055,
    "start_time": "2021-08-04T07:45:25.780Z"
   },
   {
    "duration": -1058,
    "start_time": "2021-08-04T07:45:25.784Z"
   },
   {
    "duration": -1061,
    "start_time": "2021-08-04T07:45:25.788Z"
   },
   {
    "duration": -1063,
    "start_time": "2021-08-04T07:45:25.791Z"
   },
   {
    "duration": -1065,
    "start_time": "2021-08-04T07:45:25.794Z"
   },
   {
    "duration": -1067,
    "start_time": "2021-08-04T07:45:25.797Z"
   },
   {
    "duration": -1069,
    "start_time": "2021-08-04T07:45:25.800Z"
   },
   {
    "duration": -1073,
    "start_time": "2021-08-04T07:45:25.804Z"
   },
   {
    "duration": -1075,
    "start_time": "2021-08-04T07:45:25.807Z"
   },
   {
    "duration": -1077,
    "start_time": "2021-08-04T07:45:25.810Z"
   },
   {
    "duration": -1079,
    "start_time": "2021-08-04T07:45:25.813Z"
   },
   {
    "duration": -1081,
    "start_time": "2021-08-04T07:45:25.816Z"
   },
   {
    "duration": 490,
    "start_time": "2021-08-04T10:53:47.613Z"
   },
   {
    "duration": 1724,
    "start_time": "2021-08-04T10:54:00.981Z"
   },
   {
    "duration": 178,
    "start_time": "2021-08-04T10:54:02.707Z"
   },
   {
    "duration": 166,
    "start_time": "2021-08-04T10:54:02.887Z"
   },
   {
    "duration": 99,
    "start_time": "2021-08-04T10:54:03.055Z"
   },
   {
    "duration": 26,
    "start_time": "2021-08-04T10:54:03.156Z"
   },
   {
    "duration": 70,
    "start_time": "2021-08-04T10:54:03.184Z"
   },
   {
    "duration": 13,
    "start_time": "2021-08-04T10:54:03.256Z"
   },
   {
    "duration": 5523,
    "start_time": "2021-08-04T10:54:03.272Z"
   },
   {
    "duration": 94,
    "start_time": "2021-08-04T10:54:08.797Z"
   },
   {
    "duration": 345,
    "start_time": "2021-08-04T10:54:08.893Z"
   },
   {
    "duration": 451,
    "start_time": "2021-08-04T10:54:09.241Z"
   },
   {
    "duration": 5,
    "start_time": "2021-08-04T10:54:09.694Z"
   },
   {
    "duration": 17,
    "start_time": "2021-08-04T10:54:09.701Z"
   },
   {
    "duration": 35,
    "start_time": "2021-08-04T10:54:09.719Z"
   },
   {
    "duration": 8,
    "start_time": "2021-08-04T10:54:09.755Z"
   },
   {
    "duration": 4903,
    "start_time": "2021-08-04T10:54:09.764Z"
   },
   {
    "duration": 4,
    "start_time": "2021-08-04T10:54:14.668Z"
   },
   {
    "duration": 13,
    "start_time": "2021-08-04T10:54:14.674Z"
   },
   {
    "duration": 23,
    "start_time": "2021-08-04T10:54:14.689Z"
   },
   {
    "duration": 6,
    "start_time": "2021-08-04T10:54:14.713Z"
   },
   {
    "duration": 27,
    "start_time": "2021-08-04T10:54:14.721Z"
   },
   {
    "duration": 29,
    "start_time": "2021-08-04T10:54:14.750Z"
   },
   {
    "duration": 29,
    "start_time": "2021-08-04T10:54:14.782Z"
   },
   {
    "duration": 50,
    "start_time": "2021-08-04T10:54:14.813Z"
   },
   {
    "duration": 9,
    "start_time": "2021-08-04T10:54:14.865Z"
   },
   {
    "duration": 31,
    "start_time": "2021-08-04T10:54:14.875Z"
   },
   {
    "duration": 259,
    "start_time": "2021-08-04T10:54:14.908Z"
   },
   {
    "duration": 231,
    "start_time": "2021-08-04T10:54:15.169Z"
   },
   {
    "duration": 287,
    "start_time": "2021-08-04T10:54:15.402Z"
   },
   {
    "duration": 212,
    "start_time": "2021-08-04T10:54:15.691Z"
   },
   {
    "duration": 63,
    "start_time": "2021-08-04T10:54:15.905Z"
   },
   {
    "duration": 7,
    "start_time": "2021-08-04T10:54:15.969Z"
   },
   {
    "duration": 46,
    "start_time": "2021-08-04T10:54:15.978Z"
   },
   {
    "duration": 2,
    "start_time": "2021-08-04T10:54:16.026Z"
   },
   {
    "duration": 24,
    "start_time": "2021-08-04T10:54:16.029Z"
   },
   {
    "duration": 15,
    "start_time": "2021-08-04T10:54:16.054Z"
   },
   {
    "duration": 17,
    "start_time": "2021-08-04T10:54:16.071Z"
   },
   {
    "duration": 12,
    "start_time": "2021-08-04T10:54:16.089Z"
   },
   {
    "duration": 1509,
    "start_time": "2021-08-04T10:57:42.815Z"
   },
   {
    "duration": 159,
    "start_time": "2021-08-04T10:57:44.326Z"
   },
   {
    "duration": 154,
    "start_time": "2021-08-04T10:57:44.487Z"
   },
   {
    "duration": 89,
    "start_time": "2021-08-04T10:57:44.643Z"
   },
   {
    "duration": 25,
    "start_time": "2021-08-04T10:57:44.734Z"
   },
   {
    "duration": 57,
    "start_time": "2021-08-04T10:57:44.761Z"
   },
   {
    "duration": 3,
    "start_time": "2021-08-04T10:57:44.819Z"
   },
   {
    "duration": 5418,
    "start_time": "2021-08-04T10:57:44.823Z"
   },
   {
    "duration": 88,
    "start_time": "2021-08-04T10:57:50.244Z"
   },
   {
    "duration": 347,
    "start_time": "2021-08-04T10:57:50.341Z"
   },
   {
    "duration": 455,
    "start_time": "2021-08-04T10:57:50.689Z"
   },
   {
    "duration": 6,
    "start_time": "2021-08-04T10:57:51.145Z"
   },
   {
    "duration": 12,
    "start_time": "2021-08-04T10:57:51.153Z"
   },
   {
    "duration": 19,
    "start_time": "2021-08-04T10:57:51.166Z"
   },
   {
    "duration": 6,
    "start_time": "2021-08-04T10:57:51.186Z"
   },
   {
    "duration": 5070,
    "start_time": "2021-08-04T10:57:51.194Z"
   },
   {
    "duration": 4,
    "start_time": "2021-08-04T10:57:56.265Z"
   },
   {
    "duration": 13,
    "start_time": "2021-08-04T10:57:56.271Z"
   },
   {
    "duration": 24,
    "start_time": "2021-08-04T10:57:56.286Z"
   },
   {
    "duration": 5,
    "start_time": "2021-08-04T10:57:56.312Z"
   },
   {
    "duration": 28,
    "start_time": "2021-08-04T10:57:56.319Z"
   },
   {
    "duration": 29,
    "start_time": "2021-08-04T10:57:56.348Z"
   },
   {
    "duration": 28,
    "start_time": "2021-08-04T10:57:56.379Z"
   },
   {
    "duration": 52,
    "start_time": "2021-08-04T10:57:56.408Z"
   },
   {
    "duration": 7,
    "start_time": "2021-08-04T10:57:56.462Z"
   },
   {
    "duration": 55,
    "start_time": "2021-08-04T10:57:56.471Z"
   },
   {
    "duration": 242,
    "start_time": "2021-08-04T10:57:56.530Z"
   },
   {
    "duration": 229,
    "start_time": "2021-08-04T10:57:56.775Z"
   },
   {
    "duration": 287,
    "start_time": "2021-08-04T10:57:57.006Z"
   },
   {
    "duration": 216,
    "start_time": "2021-08-04T10:57:57.295Z"
   },
   {
    "duration": 66,
    "start_time": "2021-08-04T10:57:57.513Z"
   },
   {
    "duration": 6,
    "start_time": "2021-08-04T10:57:57.580Z"
   },
   {
    "duration": 55,
    "start_time": "2021-08-04T10:57:57.587Z"
   },
   {
    "duration": 2,
    "start_time": "2021-08-04T10:57:57.643Z"
   },
   {
    "duration": 37,
    "start_time": "2021-08-04T10:57:57.647Z"
   },
   {
    "duration": 38,
    "start_time": "2021-08-04T10:57:57.685Z"
   },
   {
    "duration": 17,
    "start_time": "2021-08-04T10:57:57.725Z"
   },
   {
    "duration": 20,
    "start_time": "2021-08-04T10:57:57.743Z"
   },
   {
    "duration": 1443,
    "start_time": "2021-08-04T10:58:37.175Z"
   },
   {
    "duration": 164,
    "start_time": "2021-08-04T10:58:38.620Z"
   },
   {
    "duration": 163,
    "start_time": "2021-08-04T10:58:38.787Z"
   },
   {
    "duration": 92,
    "start_time": "2021-08-04T10:58:38.952Z"
   },
   {
    "duration": 26,
    "start_time": "2021-08-04T10:58:39.046Z"
   },
   {
    "duration": 53,
    "start_time": "2021-08-04T10:58:39.074Z"
   },
   {
    "duration": 4,
    "start_time": "2021-08-04T10:58:39.128Z"
   },
   {
    "duration": 5921,
    "start_time": "2021-08-04T10:58:39.135Z"
   },
   {
    "duration": 94,
    "start_time": "2021-08-04T10:58:45.058Z"
   },
   {
    "duration": 362,
    "start_time": "2021-08-04T10:58:45.154Z"
   },
   {
    "duration": 457,
    "start_time": "2021-08-04T10:58:45.518Z"
   },
   {
    "duration": 6,
    "start_time": "2021-08-04T10:58:45.977Z"
   },
   {
    "duration": 10,
    "start_time": "2021-08-04T10:58:45.984Z"
   },
   {
    "duration": 17,
    "start_time": "2021-08-04T10:58:45.995Z"
   },
   {
    "duration": 27,
    "start_time": "2021-08-04T10:58:46.014Z"
   },
   {
    "duration": 5091,
    "start_time": "2021-08-04T10:58:46.043Z"
   },
   {
    "duration": 6,
    "start_time": "2021-08-04T10:58:51.136Z"
   },
   {
    "duration": 9,
    "start_time": "2021-08-04T10:58:51.144Z"
   },
   {
    "duration": 27,
    "start_time": "2021-08-04T10:58:51.154Z"
   },
   {
    "duration": 6,
    "start_time": "2021-08-04T10:58:51.182Z"
   },
   {
    "duration": 19,
    "start_time": "2021-08-04T10:58:51.189Z"
   },
   {
    "duration": 48,
    "start_time": "2021-08-04T10:58:51.209Z"
   },
   {
    "duration": 31,
    "start_time": "2021-08-04T10:58:51.261Z"
   },
   {
    "duration": 53,
    "start_time": "2021-08-04T10:58:51.294Z"
   },
   {
    "duration": 7,
    "start_time": "2021-08-04T10:58:51.349Z"
   },
   {
    "duration": 33,
    "start_time": "2021-08-04T10:58:51.358Z"
   },
   {
    "duration": 265,
    "start_time": "2021-08-04T10:58:51.392Z"
   },
   {
    "duration": 224,
    "start_time": "2021-08-04T10:58:51.659Z"
   },
   {
    "duration": 293,
    "start_time": "2021-08-04T10:58:51.885Z"
   },
   {
    "duration": 219,
    "start_time": "2021-08-04T10:58:52.180Z"
   },
   {
    "duration": 61,
    "start_time": "2021-08-04T10:58:52.401Z"
   },
   {
    "duration": 6,
    "start_time": "2021-08-04T10:58:52.464Z"
   },
   {
    "duration": 40,
    "start_time": "2021-08-04T10:58:52.471Z"
   },
   {
    "duration": 2,
    "start_time": "2021-08-04T10:58:52.513Z"
   },
   {
    "duration": 34,
    "start_time": "2021-08-04T10:58:52.517Z"
   },
   {
    "duration": 15,
    "start_time": "2021-08-04T10:58:52.553Z"
   },
   {
    "duration": 15,
    "start_time": "2021-08-04T10:58:52.569Z"
   },
   {
    "duration": 7,
    "start_time": "2021-08-04T10:58:52.585Z"
   },
   {
    "duration": 1885,
    "start_time": "2021-08-04T11:07:47.128Z"
   },
   {
    "duration": 163,
    "start_time": "2021-08-04T11:07:49.015Z"
   },
   {
    "duration": 202,
    "start_time": "2021-08-04T11:07:49.180Z"
   },
   {
    "duration": 105,
    "start_time": "2021-08-04T11:07:49.384Z"
   },
   {
    "duration": 27,
    "start_time": "2021-08-04T11:07:49.490Z"
   },
   {
    "duration": 52,
    "start_time": "2021-08-04T11:07:49.519Z"
   },
   {
    "duration": 3,
    "start_time": "2021-08-04T11:07:49.572Z"
   },
   {
    "duration": 5250,
    "start_time": "2021-08-04T11:07:49.577Z"
   },
   {
    "duration": 96,
    "start_time": "2021-08-04T11:07:54.830Z"
   },
   {
    "duration": 351,
    "start_time": "2021-08-04T11:07:54.928Z"
   },
   {
    "duration": 447,
    "start_time": "2021-08-04T11:07:55.281Z"
   },
   {
    "duration": 4,
    "start_time": "2021-08-04T11:07:55.730Z"
   },
   {
    "duration": 7,
    "start_time": "2021-08-04T11:07:55.741Z"
   },
   {
    "duration": 17,
    "start_time": "2021-08-04T11:07:55.750Z"
   },
   {
    "duration": 6,
    "start_time": "2021-08-04T11:07:55.769Z"
   },
   {
    "duration": 5070,
    "start_time": "2021-08-04T11:07:55.777Z"
   },
   {
    "duration": 5,
    "start_time": "2021-08-04T11:08:00.848Z"
   },
   {
    "duration": 21,
    "start_time": "2021-08-04T11:08:00.854Z"
   },
   {
    "duration": 28,
    "start_time": "2021-08-04T11:08:00.877Z"
   },
   {
    "duration": 6,
    "start_time": "2021-08-04T11:08:00.906Z"
   },
   {
    "duration": 22,
    "start_time": "2021-08-04T11:08:00.914Z"
   },
   {
    "duration": 42,
    "start_time": "2021-08-04T11:08:00.941Z"
   },
   {
    "duration": 33,
    "start_time": "2021-08-04T11:08:00.985Z"
   },
   {
    "duration": 51,
    "start_time": "2021-08-04T11:08:01.020Z"
   },
   {
    "duration": 8,
    "start_time": "2021-08-04T11:08:01.073Z"
   },
   {
    "duration": 43,
    "start_time": "2021-08-04T11:08:01.083Z"
   },
   {
    "duration": 254,
    "start_time": "2021-08-04T11:08:01.129Z"
   },
   {
    "duration": 283,
    "start_time": "2021-08-04T11:08:01.385Z"
   },
   {
    "duration": 244,
    "start_time": "2021-08-04T11:08:01.670Z"
   },
   {
    "duration": 221,
    "start_time": "2021-08-04T11:08:01.915Z"
   },
   {
    "duration": 52,
    "start_time": "2021-08-04T11:08:02.138Z"
   },
   {
    "duration": 6,
    "start_time": "2021-08-04T11:08:02.192Z"
   },
   {
    "duration": 56,
    "start_time": "2021-08-04T11:08:02.199Z"
   },
   {
    "duration": 3,
    "start_time": "2021-08-04T11:08:02.256Z"
   },
   {
    "duration": 18,
    "start_time": "2021-08-04T11:08:02.260Z"
   },
   {
    "duration": 16,
    "start_time": "2021-08-04T11:08:02.280Z"
   },
   {
    "duration": 15,
    "start_time": "2021-08-04T11:08:02.297Z"
   },
   {
    "duration": 31,
    "start_time": "2021-08-04T11:08:02.314Z"
   },
   {
    "duration": 2115,
    "start_time": "2021-08-05T10:25:21.856Z"
   },
   {
    "duration": 250,
    "start_time": "2021-08-05T10:25:23.975Z"
   },
   {
    "duration": 265,
    "start_time": "2021-08-05T10:25:24.228Z"
   },
   {
    "duration": 135,
    "start_time": "2021-08-05T10:25:24.496Z"
   },
   {
    "duration": 39,
    "start_time": "2021-08-05T10:25:24.633Z"
   },
   {
    "duration": 80,
    "start_time": "2021-08-05T10:25:24.675Z"
   },
   {
    "duration": 6,
    "start_time": "2021-08-05T10:25:24.758Z"
   },
   {
    "duration": 10492,
    "start_time": "2021-08-05T10:25:24.768Z"
   },
   {
    "duration": 176,
    "start_time": "2021-08-05T10:25:35.263Z"
   },
   {
    "duration": 579,
    "start_time": "2021-08-05T10:25:35.442Z"
   },
   {
    "duration": 744,
    "start_time": "2021-08-05T10:25:36.024Z"
   },
   {
    "duration": 7,
    "start_time": "2021-08-05T10:25:36.770Z"
   },
   {
    "duration": 29,
    "start_time": "2021-08-05T10:25:36.779Z"
   },
   {
    "duration": 52,
    "start_time": "2021-08-05T10:25:36.810Z"
   },
   {
    "duration": 15,
    "start_time": "2021-08-05T10:25:36.865Z"
   },
   {
    "duration": 11343,
    "start_time": "2021-08-05T10:25:36.883Z"
   },
   {
    "duration": 6,
    "start_time": "2021-08-05T10:25:48.228Z"
   },
   {
    "duration": 30,
    "start_time": "2021-08-05T10:25:48.236Z"
   },
   {
    "duration": 47,
    "start_time": "2021-08-05T10:25:48.268Z"
   },
   {
    "duration": 9,
    "start_time": "2021-08-05T10:25:48.317Z"
   },
   {
    "duration": 38,
    "start_time": "2021-08-05T10:25:48.328Z"
   },
   {
    "duration": 53,
    "start_time": "2021-08-05T10:25:48.368Z"
   },
   {
    "duration": 68,
    "start_time": "2021-08-05T10:25:48.426Z"
   },
   {
    "duration": 65,
    "start_time": "2021-08-05T10:25:48.497Z"
   },
   {
    "duration": 11,
    "start_time": "2021-08-05T10:25:48.564Z"
   },
   {
    "duration": 65,
    "start_time": "2021-08-05T10:25:48.577Z"
   },
   {
    "duration": 428,
    "start_time": "2021-08-05T10:25:48.645Z"
   },
   {
    "duration": 393,
    "start_time": "2021-08-05T10:25:49.075Z"
   },
   {
    "duration": 489,
    "start_time": "2021-08-05T10:25:49.470Z"
   },
   {
    "duration": 385,
    "start_time": "2021-08-05T10:25:49.961Z"
   },
   {
    "duration": 90,
    "start_time": "2021-08-05T10:25:50.356Z"
   },
   {
    "duration": 10,
    "start_time": "2021-08-05T10:25:50.456Z"
   },
   {
    "duration": 83,
    "start_time": "2021-08-05T10:25:50.469Z"
   },
   {
    "duration": 4,
    "start_time": "2021-08-05T10:25:50.556Z"
   },
   {
    "duration": 44,
    "start_time": "2021-08-05T10:25:50.563Z"
   },
   {
    "duration": 45,
    "start_time": "2021-08-05T10:25:50.609Z"
   },
   {
    "duration": 28,
    "start_time": "2021-08-05T10:25:50.656Z"
   },
   {
    "duration": 26,
    "start_time": "2021-08-05T10:25:50.687Z"
   },
   {
    "duration": 2063,
    "start_time": "2021-08-05T10:45:36.558Z"
   },
   {
    "duration": 259,
    "start_time": "2021-08-05T10:45:38.626Z"
   },
   {
    "duration": 231,
    "start_time": "2021-08-05T10:45:38.888Z"
   },
   {
    "duration": 153,
    "start_time": "2021-08-05T10:45:39.122Z"
   },
   {
    "duration": 33,
    "start_time": "2021-08-05T10:45:39.277Z"
   },
   {
    "duration": 83,
    "start_time": "2021-08-05T10:45:39.312Z"
   },
   {
    "duration": 5,
    "start_time": "2021-08-05T10:45:39.399Z"
   },
   {
    "duration": 13134,
    "start_time": "2021-08-05T10:45:39.407Z"
   },
   {
    "duration": 262,
    "start_time": "2021-08-05T10:45:52.544Z"
   },
   {
    "duration": 938,
    "start_time": "2021-08-05T10:45:52.809Z"
   },
   {
    "duration": 1126,
    "start_time": "2021-08-05T10:45:53.757Z"
   },
   {
    "duration": 9,
    "start_time": "2021-08-05T10:45:54.886Z"
   },
   {
    "duration": 28,
    "start_time": "2021-08-05T10:45:54.898Z"
   },
   {
    "duration": 53,
    "start_time": "2021-08-05T10:45:54.929Z"
   },
   {
    "duration": 15,
    "start_time": "2021-08-05T10:45:54.985Z"
   },
   {
    "duration": 16953,
    "start_time": "2021-08-05T10:45:55.003Z"
   },
   {
    "duration": 9,
    "start_time": "2021-08-05T10:46:11.959Z"
   },
   {
    "duration": 24,
    "start_time": "2021-08-05T10:46:11.971Z"
   },
   {
    "duration": 78,
    "start_time": "2021-08-05T10:46:11.999Z"
   },
   {
    "duration": 19,
    "start_time": "2021-08-05T10:46:12.081Z"
   },
   {
    "duration": 53,
    "start_time": "2021-08-05T10:46:12.103Z"
   },
   {
    "duration": 92,
    "start_time": "2021-08-05T10:46:12.164Z"
   },
   {
    "duration": 75,
    "start_time": "2021-08-05T10:46:12.260Z"
   },
   {
    "duration": 74,
    "start_time": "2021-08-05T10:46:12.357Z"
   },
   {
    "duration": 35,
    "start_time": "2021-08-05T10:46:12.434Z"
   },
   {
    "duration": 54,
    "start_time": "2021-08-05T10:46:12.472Z"
   },
   {
    "duration": 449,
    "start_time": "2021-08-05T10:46:12.556Z"
   },
   {
    "duration": 409,
    "start_time": "2021-08-05T10:46:13.007Z"
   },
   {
    "duration": 510,
    "start_time": "2021-08-05T10:46:13.419Z"
   },
   {
    "duration": 411,
    "start_time": "2021-08-05T10:46:13.932Z"
   },
   {
    "duration": 94,
    "start_time": "2021-08-05T10:46:14.345Z"
   },
   {
    "duration": 23,
    "start_time": "2021-08-05T10:46:14.441Z"
   },
   {
    "duration": 89,
    "start_time": "2021-08-05T10:46:14.467Z"
   },
   {
    "duration": 4,
    "start_time": "2021-08-05T10:46:14.559Z"
   },
   {
    "duration": 36,
    "start_time": "2021-08-05T10:46:14.566Z"
   },
   {
    "duration": 52,
    "start_time": "2021-08-05T10:46:14.605Z"
   },
   {
    "duration": 28,
    "start_time": "2021-08-05T10:46:14.660Z"
   },
   {
    "duration": 10,
    "start_time": "2021-08-05T10:46:14.690Z"
   },
   {
    "duration": 93,
    "start_time": "2021-08-05T11:05:45.286Z"
   },
   {
    "duration": 1657,
    "start_time": "2021-08-05T12:26:51.510Z"
   },
   {
    "duration": 514,
    "start_time": "2021-08-05T12:26:56.728Z"
   },
   {
    "duration": 190,
    "start_time": "2021-08-05T12:27:40.926Z"
   },
   {
    "duration": 209,
    "start_time": "2021-08-05T12:28:07.999Z"
   },
   {
    "duration": 197,
    "start_time": "2021-08-05T12:28:23.499Z"
   },
   {
    "duration": 193,
    "start_time": "2021-08-05T12:28:47.768Z"
   },
   {
    "duration": 185,
    "start_time": "2021-08-05T12:28:53.190Z"
   },
   {
    "duration": 228,
    "start_time": "2021-08-05T12:29:00.852Z"
   },
   {
    "duration": 169,
    "start_time": "2021-08-05T12:29:12.973Z"
   },
   {
    "duration": 120,
    "start_time": "2021-08-05T12:29:29.492Z"
   },
   {
    "duration": 24,
    "start_time": "2021-08-05T12:29:36.836Z"
   },
   {
    "duration": 51,
    "start_time": "2021-08-05T12:29:40.126Z"
   },
   {
    "duration": 53,
    "start_time": "2021-08-05T12:29:51.958Z"
   },
   {
    "duration": 53,
    "start_time": "2021-08-05T12:30:01.930Z"
   },
   {
    "duration": 97,
    "start_time": "2021-08-05T12:36:19.832Z"
   },
   {
    "duration": 98,
    "start_time": "2021-08-05T12:36:32.684Z"
   },
   {
    "duration": 177,
    "start_time": "2021-08-05T12:36:53.306Z"
   },
   {
    "duration": 175,
    "start_time": "2021-08-05T12:37:09.506Z"
   },
   {
    "duration": 172,
    "start_time": "2021-08-05T12:37:20.648Z"
   },
   {
    "duration": 196,
    "start_time": "2021-08-05T12:37:46.870Z"
   },
   {
    "duration": 6359,
    "start_time": "2021-08-05T12:39:25.748Z"
   },
   {
    "duration": 82,
    "start_time": "2021-08-05T12:39:35.756Z"
   },
   {
    "duration": 161,
    "start_time": "2021-08-05T12:39:51.900Z"
   },
   {
    "duration": 197,
    "start_time": "2021-08-05T12:40:34.100Z"
   },
   {
    "duration": 193,
    "start_time": "2021-08-05T12:45:19.304Z"
   },
   {
    "duration": 168,
    "start_time": "2021-08-05T12:45:53.502Z"
   },
   {
    "duration": 179,
    "start_time": "2021-08-05T12:47:05.391Z"
   },
   {
    "duration": 175,
    "start_time": "2021-08-05T12:47:16.840Z"
   },
   {
    "duration": 200,
    "start_time": "2021-08-05T12:47:44.124Z"
   },
   {
    "duration": 193,
    "start_time": "2021-08-05T12:47:59.843Z"
   },
   {
    "duration": 311,
    "start_time": "2021-08-05T12:49:16.792Z"
   },
   {
    "duration": 114,
    "start_time": "2021-08-05T12:49:26.227Z"
   },
   {
    "duration": 101,
    "start_time": "2021-08-05T12:49:41.324Z"
   },
   {
    "duration": 418,
    "start_time": "2021-08-05T12:51:37.988Z"
   },
   {
    "duration": 205,
    "start_time": "2021-08-05T12:51:46.269Z"
   },
   {
    "duration": 259,
    "start_time": "2021-08-05T12:52:01.950Z"
   },
   {
    "duration": 175,
    "start_time": "2021-08-05T12:52:58.899Z"
   },
   {
    "duration": 176,
    "start_time": "2021-08-05T13:00:20.927Z"
   },
   {
    "duration": 6102,
    "start_time": "2021-08-05T13:01:11.068Z"
   },
   {
    "duration": 176,
    "start_time": "2021-08-05T13:01:42.652Z"
   },
   {
    "duration": 176,
    "start_time": "2021-08-05T13:01:59.670Z"
   },
   {
    "duration": 167,
    "start_time": "2021-08-05T13:02:22.727Z"
   },
   {
    "duration": 176,
    "start_time": "2021-08-05T13:03:10.876Z"
   },
   {
    "duration": 195,
    "start_time": "2021-08-05T13:04:11.633Z"
   },
   {
    "duration": 238,
    "start_time": "2021-08-05T13:08:01.565Z"
   },
   {
    "duration": 1477,
    "start_time": "2021-08-05T13:08:09.592Z"
   },
   {
    "duration": 182,
    "start_time": "2021-08-05T13:08:11.071Z"
   },
   {
    "duration": 192,
    "start_time": "2021-08-05T13:08:11.255Z"
   },
   {
    "duration": 104,
    "start_time": "2021-08-05T13:08:11.448Z"
   },
   {
    "duration": 22,
    "start_time": "2021-08-05T13:08:11.554Z"
   },
   {
    "duration": 61,
    "start_time": "2021-08-05T13:08:11.577Z"
   },
   {
    "duration": 5,
    "start_time": "2021-08-05T13:08:11.640Z"
   },
   {
    "duration": 5183,
    "start_time": "2021-08-05T13:08:11.648Z"
   },
   {
    "duration": 95,
    "start_time": "2021-08-05T13:08:16.833Z"
   },
   {
    "duration": 366,
    "start_time": "2021-08-05T13:08:16.930Z"
   },
   {
    "duration": 523,
    "start_time": "2021-08-05T13:08:17.297Z"
   },
   {
    "duration": 4,
    "start_time": "2021-08-05T13:08:17.821Z"
   },
   {
    "duration": 11,
    "start_time": "2021-08-05T13:08:17.827Z"
   },
   {
    "duration": 17,
    "start_time": "2021-08-05T13:08:17.839Z"
   },
   {
    "duration": 6,
    "start_time": "2021-08-05T13:08:17.857Z"
   },
   {
    "duration": 5221,
    "start_time": "2021-08-05T13:08:17.864Z"
   },
   {
    "duration": 6,
    "start_time": "2021-08-05T13:08:23.087Z"
   },
   {
    "duration": 10,
    "start_time": "2021-08-05T13:08:23.094Z"
   },
   {
    "duration": 27,
    "start_time": "2021-08-05T13:08:23.106Z"
   },
   {
    "duration": 6,
    "start_time": "2021-08-05T13:08:23.134Z"
   },
   {
    "duration": 18,
    "start_time": "2021-08-05T13:08:23.142Z"
   },
   {
    "duration": 47,
    "start_time": "2021-08-05T13:08:23.161Z"
   },
   {
    "duration": 35,
    "start_time": "2021-08-05T13:08:23.211Z"
   },
   {
    "duration": 47,
    "start_time": "2021-08-05T13:08:23.248Z"
   },
   {
    "duration": 8,
    "start_time": "2021-08-05T13:08:23.296Z"
   },
   {
    "duration": 43,
    "start_time": "2021-08-05T13:08:23.305Z"
   },
   {
    "duration": 257,
    "start_time": "2021-08-05T13:08:23.350Z"
   },
   {
    "duration": 214,
    "start_time": "2021-08-05T13:08:23.609Z"
   },
   {
    "duration": 288,
    "start_time": "2021-08-05T13:08:23.825Z"
   },
   {
    "duration": 214,
    "start_time": "2021-08-05T13:08:24.115Z"
   },
   {
    "duration": 60,
    "start_time": "2021-08-05T13:08:24.331Z"
   },
   {
    "duration": 5,
    "start_time": "2021-08-05T13:08:24.393Z"
   },
   {
    "duration": 42,
    "start_time": "2021-08-05T13:08:24.400Z"
   },
   {
    "duration": 2,
    "start_time": "2021-08-05T13:08:24.443Z"
   },
   {
    "duration": 18,
    "start_time": "2021-08-05T13:08:24.447Z"
   },
   {
    "duration": 36,
    "start_time": "2021-08-05T13:08:24.467Z"
   },
   {
    "duration": 19,
    "start_time": "2021-08-05T13:08:24.505Z"
   },
   {
    "duration": 6,
    "start_time": "2021-08-05T13:08:24.526Z"
   },
   {
    "duration": 17,
    "start_time": "2021-08-05T13:08:50.714Z"
   },
   {
    "duration": 17,
    "start_time": "2021-08-05T13:08:53.155Z"
   },
   {
    "duration": 8,
    "start_time": "2021-08-05T13:08:57.742Z"
   },
   {
    "duration": 14,
    "start_time": "2021-08-05T13:13:20.281Z"
   },
   {
    "duration": 7,
    "start_time": "2021-08-05T13:13:28.193Z"
   },
   {
    "duration": 1093,
    "start_time": "2021-08-05T13:14:49.772Z"
   },
   {
    "duration": 79,
    "start_time": "2021-08-05T13:15:08.520Z"
   },
   {
    "duration": 12,
    "start_time": "2021-08-05T13:15:56.362Z"
   },
   {
    "duration": 10,
    "start_time": "2021-08-05T13:17:20.256Z"
   },
   {
    "duration": 12,
    "start_time": "2021-08-05T13:18:57.605Z"
   },
   {
    "duration": 22,
    "start_time": "2021-08-05T13:19:28.945Z"
   },
   {
    "duration": 12,
    "start_time": "2021-08-05T13:19:46.501Z"
   },
   {
    "duration": 44,
    "start_time": "2021-08-05T13:20:04.958Z"
   },
   {
    "duration": 79,
    "start_time": "2021-08-05T13:20:35.577Z"
   },
   {
    "duration": 50,
    "start_time": "2021-08-05T13:20:41.489Z"
   },
   {
    "duration": 12,
    "start_time": "2021-08-05T13:21:59.591Z"
   },
   {
    "duration": 11,
    "start_time": "2021-08-05T13:22:38.711Z"
   },
   {
    "duration": 1780,
    "start_time": "2021-08-05T13:32:59.345Z"
   },
   {
    "duration": 238,
    "start_time": "2021-08-05T13:33:01.127Z"
   },
   {
    "duration": 294,
    "start_time": "2021-08-05T13:33:01.368Z"
   },
   {
    "duration": 159,
    "start_time": "2021-08-05T13:33:01.664Z"
   },
   {
    "duration": 29,
    "start_time": "2021-08-05T13:33:01.824Z"
   },
   {
    "duration": 63,
    "start_time": "2021-08-05T13:33:01.855Z"
   },
   {
    "duration": 3,
    "start_time": "2021-08-05T13:33:01.920Z"
   },
   {
    "duration": 5438,
    "start_time": "2021-08-05T13:33:01.925Z"
   },
   {
    "duration": 95,
    "start_time": "2021-08-05T13:33:07.365Z"
   },
   {
    "duration": 370,
    "start_time": "2021-08-05T13:33:07.461Z"
   },
   {
    "duration": 468,
    "start_time": "2021-08-05T13:33:07.833Z"
   },
   {
    "duration": 4,
    "start_time": "2021-08-05T13:33:08.303Z"
   },
   {
    "duration": 15,
    "start_time": "2021-08-05T13:33:08.309Z"
   },
   {
    "duration": 21,
    "start_time": "2021-08-05T13:33:08.326Z"
   },
   {
    "duration": 7,
    "start_time": "2021-08-05T13:33:08.349Z"
   },
   {
    "duration": 5357,
    "start_time": "2021-08-05T13:33:08.357Z"
   },
   {
    "duration": 5,
    "start_time": "2021-08-05T13:33:13.715Z"
   },
   {
    "duration": 8,
    "start_time": "2021-08-05T13:33:13.722Z"
   },
   {
    "duration": 24,
    "start_time": "2021-08-05T13:33:13.732Z"
   },
   {
    "duration": 6,
    "start_time": "2021-08-05T13:33:13.758Z"
   },
   {
    "duration": 35,
    "start_time": "2021-08-05T13:33:13.765Z"
   },
   {
    "duration": 33,
    "start_time": "2021-08-05T13:33:13.802Z"
   },
   {
    "duration": 54,
    "start_time": "2021-08-05T13:33:13.839Z"
   },
   {
    "duration": 32,
    "start_time": "2021-08-05T13:33:13.894Z"
   },
   {
    "duration": 7,
    "start_time": "2021-08-05T13:33:13.928Z"
   },
   {
    "duration": 31,
    "start_time": "2021-08-05T13:33:13.937Z"
   },
   {
    "duration": 253,
    "start_time": "2021-08-05T13:33:13.992Z"
   },
   {
    "duration": 331,
    "start_time": "2021-08-05T13:33:14.247Z"
   },
   {
    "duration": 436,
    "start_time": "2021-08-05T13:33:14.580Z"
   },
   {
    "duration": 316,
    "start_time": "2021-08-05T13:33:15.018Z"
   },
   {
    "duration": 61,
    "start_time": "2021-08-05T13:33:15.335Z"
   },
   {
    "duration": 7,
    "start_time": "2021-08-05T13:33:15.398Z"
   },
   {
    "duration": 43,
    "start_time": "2021-08-05T13:33:15.407Z"
   },
   {
    "duration": 2,
    "start_time": "2021-08-05T13:33:15.452Z"
   },
   {
    "duration": 43,
    "start_time": "2021-08-05T13:33:15.455Z"
   },
   {
    "duration": 16,
    "start_time": "2021-08-05T13:33:15.499Z"
   },
   {
    "duration": 15,
    "start_time": "2021-08-05T13:33:15.517Z"
   },
   {
    "duration": 11,
    "start_time": "2021-08-05T13:33:15.533Z"
   },
   {
    "duration": 11,
    "start_time": "2021-08-05T13:33:22.231Z"
   },
   {
    "duration": 191,
    "start_time": "2021-08-05T13:52:19.207Z"
   },
   {
    "duration": 195,
    "start_time": "2021-08-05T13:54:27.211Z"
   },
   {
    "duration": 201,
    "start_time": "2021-08-05T13:54:38.342Z"
   },
   {
    "duration": 1578,
    "start_time": "2021-08-05T14:07:40.769Z"
   },
   {
    "duration": 204,
    "start_time": "2021-08-05T14:07:42.349Z"
   },
   {
    "duration": 189,
    "start_time": "2021-08-05T14:07:42.555Z"
   },
   {
    "duration": 107,
    "start_time": "2021-08-05T14:07:42.746Z"
   },
   {
    "duration": 22,
    "start_time": "2021-08-05T14:07:42.855Z"
   },
   {
    "duration": 65,
    "start_time": "2021-08-05T14:07:42.879Z"
   },
   {
    "duration": 3,
    "start_time": "2021-08-05T14:07:42.946Z"
   },
   {
    "duration": 8107,
    "start_time": "2021-08-05T14:07:42.952Z"
   },
   {
    "duration": 139,
    "start_time": "2021-08-05T14:07:51.061Z"
   },
   {
    "duration": 552,
    "start_time": "2021-08-05T14:07:51.202Z"
   },
   {
    "duration": 663,
    "start_time": "2021-08-05T14:07:51.756Z"
   },
   {
    "duration": 5,
    "start_time": "2021-08-05T14:07:52.421Z"
   },
   {
    "duration": 29,
    "start_time": "2021-08-05T14:07:52.428Z"
   },
   {
    "duration": 25,
    "start_time": "2021-08-05T14:07:52.459Z"
   },
   {
    "duration": 7,
    "start_time": "2021-08-05T14:07:52.486Z"
   },
   {
    "duration": 4775,
    "start_time": "2021-08-05T14:07:52.495Z"
   },
   {
    "duration": 4,
    "start_time": "2021-08-05T14:07:57.271Z"
   },
   {
    "duration": 16,
    "start_time": "2021-08-05T14:07:57.276Z"
   },
   {
    "duration": 24,
    "start_time": "2021-08-05T14:07:57.293Z"
   },
   {
    "duration": 6,
    "start_time": "2021-08-05T14:07:57.318Z"
   },
   {
    "duration": 28,
    "start_time": "2021-08-05T14:07:57.325Z"
   },
   {
    "duration": 28,
    "start_time": "2021-08-05T14:07:57.355Z"
   },
   {
    "duration": 31,
    "start_time": "2021-08-05T14:07:57.386Z"
   },
   {
    "duration": 27,
    "start_time": "2021-08-05T14:07:57.419Z"
   },
   {
    "duration": 7,
    "start_time": "2021-08-05T14:07:57.448Z"
   },
   {
    "duration": 48,
    "start_time": "2021-08-05T14:07:57.456Z"
   },
   {
    "duration": 241,
    "start_time": "2021-08-05T14:07:57.506Z"
   },
   {
    "duration": 215,
    "start_time": "2021-08-05T14:07:57.748Z"
   },
   {
    "duration": 302,
    "start_time": "2021-08-05T14:07:57.964Z"
   },
   {
    "duration": 211,
    "start_time": "2021-08-05T14:07:58.268Z"
   },
   {
    "duration": 54,
    "start_time": "2021-08-05T14:07:58.481Z"
   },
   {
    "duration": 6,
    "start_time": "2021-08-05T14:07:58.536Z"
   },
   {
    "duration": 59,
    "start_time": "2021-08-05T14:07:58.543Z"
   },
   {
    "duration": 2,
    "start_time": "2021-08-05T14:07:58.604Z"
   },
   {
    "duration": 22,
    "start_time": "2021-08-05T14:07:58.608Z"
   },
   {
    "duration": 14,
    "start_time": "2021-08-05T14:07:58.632Z"
   },
   {
    "duration": 15,
    "start_time": "2021-08-05T14:07:58.647Z"
   },
   {
    "duration": 29,
    "start_time": "2021-08-05T14:07:58.663Z"
   },
   {
    "duration": 1457,
    "start_time": "2021-08-05T14:10:36.107Z"
   },
   {
    "duration": 227,
    "start_time": "2021-08-05T14:10:37.565Z"
   },
   {
    "duration": 186,
    "start_time": "2021-08-05T14:10:37.794Z"
   },
   {
    "duration": 100,
    "start_time": "2021-08-05T14:10:37.991Z"
   },
   {
    "duration": 23,
    "start_time": "2021-08-05T14:10:38.092Z"
   },
   {
    "duration": 57,
    "start_time": "2021-08-05T14:10:38.116Z"
   },
   {
    "duration": 3,
    "start_time": "2021-08-05T14:10:38.174Z"
   },
   {
    "duration": 5232,
    "start_time": "2021-08-05T14:10:38.179Z"
   },
   {
    "duration": 97,
    "start_time": "2021-08-05T14:10:43.413Z"
   },
   {
    "duration": 352,
    "start_time": "2021-08-05T14:10:43.512Z"
   },
   {
    "duration": 453,
    "start_time": "2021-08-05T14:10:43.866Z"
   },
   {
    "duration": 5,
    "start_time": "2021-08-05T14:10:44.321Z"
   },
   {
    "duration": 12,
    "start_time": "2021-08-05T14:10:44.328Z"
   },
   {
    "duration": 22,
    "start_time": "2021-08-05T14:10:44.342Z"
   },
   {
    "duration": 25,
    "start_time": "2021-08-05T14:10:44.366Z"
   },
   {
    "duration": 4994,
    "start_time": "2021-08-05T14:10:44.393Z"
   },
   {
    "duration": 4,
    "start_time": "2021-08-05T14:10:49.391Z"
   },
   {
    "duration": 16,
    "start_time": "2021-08-05T14:10:49.397Z"
   },
   {
    "duration": 30,
    "start_time": "2021-08-05T14:10:49.415Z"
   },
   {
    "duration": 5,
    "start_time": "2021-08-05T14:10:49.447Z"
   },
   {
    "duration": 21,
    "start_time": "2021-08-05T14:10:49.454Z"
   },
   {
    "duration": 30,
    "start_time": "2021-08-05T14:10:49.477Z"
   },
   {
    "duration": 32,
    "start_time": "2021-08-05T14:10:49.510Z"
   },
   {
    "duration": 48,
    "start_time": "2021-08-05T14:10:49.544Z"
   },
   {
    "duration": 8,
    "start_time": "2021-08-05T14:10:49.594Z"
   },
   {
    "duration": 34,
    "start_time": "2021-08-05T14:10:49.604Z"
   },
   {
    "duration": 258,
    "start_time": "2021-08-05T14:10:49.639Z"
   },
   {
    "duration": 221,
    "start_time": "2021-08-05T14:10:49.899Z"
   },
   {
    "duration": 304,
    "start_time": "2021-08-05T14:10:50.122Z"
   },
   {
    "duration": 211,
    "start_time": "2021-08-05T14:10:50.427Z"
   },
   {
    "duration": 61,
    "start_time": "2021-08-05T14:10:50.639Z"
   },
   {
    "duration": 6,
    "start_time": "2021-08-05T14:10:50.701Z"
   },
   {
    "duration": 49,
    "start_time": "2021-08-05T14:10:50.708Z"
   },
   {
    "duration": 3,
    "start_time": "2021-08-05T14:10:50.758Z"
   },
   {
    "duration": 29,
    "start_time": "2021-08-05T14:10:50.762Z"
   },
   {
    "duration": 16,
    "start_time": "2021-08-05T14:10:50.793Z"
   },
   {
    "duration": 16,
    "start_time": "2021-08-05T14:10:50.810Z"
   },
   {
    "duration": 10,
    "start_time": "2021-08-05T14:10:50.827Z"
   },
   {
    "duration": 234,
    "start_time": "2021-08-05T14:16:10.392Z"
   },
   {
    "duration": 241,
    "start_time": "2021-08-05T14:16:26.432Z"
   },
   {
    "duration": 355,
    "start_time": "2021-08-05T14:17:55.522Z"
   },
   {
    "duration": 353,
    "start_time": "2021-08-05T14:19:00.909Z"
   },
   {
    "duration": 272,
    "start_time": "2021-08-05T14:21:31.421Z"
   },
   {
    "duration": 261,
    "start_time": "2021-08-05T14:26:34.830Z"
   },
   {
    "duration": 354,
    "start_time": "2021-08-05T14:26:58.310Z"
   },
   {
    "duration": 343,
    "start_time": "2021-08-05T14:27:14.863Z"
   },
   {
    "duration": 356,
    "start_time": "2021-08-05T14:27:49.516Z"
   },
   {
    "duration": 335,
    "start_time": "2021-08-05T14:28:18.220Z"
   },
   {
    "duration": 333,
    "start_time": "2021-08-05T14:28:27.072Z"
   },
   {
    "duration": 234,
    "start_time": "2021-08-05T14:30:48.888Z"
   },
   {
    "duration": 1573,
    "start_time": "2021-08-05T14:43:46.178Z"
   },
   {
    "duration": 227,
    "start_time": "2021-08-05T14:43:47.753Z"
   },
   {
    "duration": 218,
    "start_time": "2021-08-05T14:43:47.992Z"
   },
   {
    "duration": 112,
    "start_time": "2021-08-05T14:43:48.212Z"
   },
   {
    "duration": 24,
    "start_time": "2021-08-05T14:43:48.325Z"
   },
   {
    "duration": 57,
    "start_time": "2021-08-05T14:43:48.351Z"
   },
   {
    "duration": 3,
    "start_time": "2021-08-05T14:43:48.409Z"
   },
   {
    "duration": 5545,
    "start_time": "2021-08-05T14:43:48.414Z"
   },
   {
    "duration": 98,
    "start_time": "2021-08-05T14:43:53.961Z"
   },
   {
    "duration": 391,
    "start_time": "2021-08-05T14:43:54.061Z"
   },
   {
    "duration": 468,
    "start_time": "2021-08-05T14:43:54.454Z"
   },
   {
    "duration": 5,
    "start_time": "2021-08-05T14:43:54.924Z"
   },
   {
    "duration": 12,
    "start_time": "2021-08-05T14:43:54.931Z"
   },
   {
    "duration": 18,
    "start_time": "2021-08-05T14:43:54.945Z"
   },
   {
    "duration": 7,
    "start_time": "2021-08-05T14:43:54.965Z"
   },
   {
    "duration": 5043,
    "start_time": "2021-08-05T14:43:54.973Z"
   },
   {
    "duration": 4,
    "start_time": "2021-08-05T14:44:00.018Z"
   },
   {
    "duration": 11,
    "start_time": "2021-08-05T14:44:00.024Z"
   },
   {
    "duration": 28,
    "start_time": "2021-08-05T14:44:00.036Z"
   },
   {
    "duration": 7,
    "start_time": "2021-08-05T14:44:00.066Z"
   },
   {
    "duration": 30,
    "start_time": "2021-08-05T14:44:00.074Z"
   },
   {
    "duration": 37,
    "start_time": "2021-08-05T14:44:00.105Z"
   },
   {
    "duration": 52,
    "start_time": "2021-08-05T14:44:00.145Z"
   },
   {
    "duration": 34,
    "start_time": "2021-08-05T14:44:00.200Z"
   },
   {
    "duration": 9,
    "start_time": "2021-08-05T14:44:00.236Z"
   },
   {
    "duration": 66,
    "start_time": "2021-08-05T14:44:00.247Z"
   },
   {
    "duration": 394,
    "start_time": "2021-08-05T14:44:00.315Z"
   },
   {
    "duration": 450,
    "start_time": "2021-08-05T14:44:00.712Z"
   },
   {
    "duration": 389,
    "start_time": "2021-08-05T14:44:01.164Z"
   },
   {
    "duration": 273,
    "start_time": "2021-08-05T14:44:01.554Z"
   },
   {
    "duration": 63,
    "start_time": "2021-08-05T14:44:01.828Z"
   },
   {
    "duration": 7,
    "start_time": "2021-08-05T14:44:01.893Z"
   },
   {
    "duration": 56,
    "start_time": "2021-08-05T14:44:01.901Z"
   },
   {
    "duration": 3,
    "start_time": "2021-08-05T14:44:01.959Z"
   },
   {
    "duration": 29,
    "start_time": "2021-08-05T14:44:01.963Z"
   },
   {
    "duration": 35,
    "start_time": "2021-08-05T14:44:01.994Z"
   },
   {
    "duration": 27,
    "start_time": "2021-08-05T14:44:02.031Z"
   },
   {
    "duration": 17,
    "start_time": "2021-08-05T14:44:02.059Z"
   },
   {
    "duration": 2054,
    "start_time": "2021-08-06T12:50:11.746Z"
   },
   {
    "duration": 311,
    "start_time": "2021-08-06T12:50:13.802Z"
   },
   {
    "duration": 293,
    "start_time": "2021-08-06T12:50:14.116Z"
   },
   {
    "duration": 159,
    "start_time": "2021-08-06T12:50:14.412Z"
   },
   {
    "duration": 32,
    "start_time": "2021-08-06T12:50:14.573Z"
   },
   {
    "duration": 92,
    "start_time": "2021-08-06T12:50:14.608Z"
   },
   {
    "duration": 6,
    "start_time": "2021-08-06T12:50:14.703Z"
   },
   {
    "duration": 14226,
    "start_time": "2021-08-06T12:50:14.713Z"
   },
   {
    "duration": 167,
    "start_time": "2021-08-06T12:50:28.943Z"
   },
   {
    "duration": 564,
    "start_time": "2021-08-06T12:50:29.114Z"
   },
   {
    "duration": 847,
    "start_time": "2021-08-06T12:50:29.681Z"
   },
   {
    "duration": 8,
    "start_time": "2021-08-06T12:50:30.531Z"
   },
   {
    "duration": 41,
    "start_time": "2021-08-06T12:50:30.542Z"
   },
   {
    "duration": 40,
    "start_time": "2021-08-06T12:50:30.585Z"
   },
   {
    "duration": 11,
    "start_time": "2021-08-06T12:50:30.628Z"
   },
   {
    "duration": 10394,
    "start_time": "2021-08-06T12:50:30.643Z"
   },
   {
    "duration": 6,
    "start_time": "2021-08-06T12:50:41.039Z"
   },
   {
    "duration": 5,
    "start_time": "2021-08-06T12:50:41.057Z"
   },
   {
    "duration": 41,
    "start_time": "2021-08-06T12:50:41.066Z"
   },
   {
    "duration": 10,
    "start_time": "2021-08-06T12:50:41.109Z"
   },
   {
    "duration": 24,
    "start_time": "2021-08-06T12:50:41.155Z"
   },
   {
    "duration": 77,
    "start_time": "2021-08-06T12:50:41.181Z"
   },
   {
    "duration": 52,
    "start_time": "2021-08-06T12:50:41.263Z"
   },
   {
    "duration": 79,
    "start_time": "2021-08-06T12:50:41.318Z"
   },
   {
    "duration": 14,
    "start_time": "2021-08-06T12:50:41.399Z"
   },
   {
    "duration": 87,
    "start_time": "2021-08-06T12:50:41.415Z"
   },
   {
    "duration": 595,
    "start_time": "2021-08-06T12:50:41.505Z"
   },
   {
    "duration": 703,
    "start_time": "2021-08-06T12:50:42.103Z"
   },
   {
    "duration": 628,
    "start_time": "2021-08-06T12:50:42.809Z"
   },
   {
    "duration": 439,
    "start_time": "2021-08-06T12:50:43.439Z"
   },
   {
    "duration": 109,
    "start_time": "2021-08-06T12:50:43.881Z"
   },
   {
    "duration": 11,
    "start_time": "2021-08-06T12:50:43.993Z"
   },
   {
    "duration": 89,
    "start_time": "2021-08-06T12:50:44.007Z"
   },
   {
    "duration": 3,
    "start_time": "2021-08-06T12:50:44.099Z"
   },
   {
    "duration": 52,
    "start_time": "2021-08-06T12:50:44.106Z"
   },
   {
    "duration": 30,
    "start_time": "2021-08-06T12:50:44.161Z"
   },
   {
    "duration": 25,
    "start_time": "2021-08-06T12:50:44.193Z"
   },
   {
    "duration": 47,
    "start_time": "2021-08-06T12:50:44.221Z"
   }
  ],
  "interpreter": {
   "hash": "fd578b525fe7fcca8a3ea11350d18bcbeb29af20bd1df15f6c5fd2c9cf111483"
  },
  "kernelspec": {
   "name": "python3",
   "display_name": "Python 3.9.0 64-bit"
  },
  "language_info": {
   "codemirror_mode": {
    "name": "ipython",
    "version": 3
   },
   "file_extension": ".py",
   "mimetype": "text/x-python",
   "name": "python",
   "nbconvert_exporter": "python",
   "pygments_lexer": "ipython3",
   "version": "3.9.0"
  },
  "toc": {
   "base_numbering": 1,
   "nav_menu": {},
   "number_sections": true,
   "sideBar": true,
   "skip_h1_title": true,
   "title_cell": "Table of Contents",
   "title_sidebar": "Contents",
   "toc_cell": false,
   "toc_position": {},
   "toc_section_display": true,
   "toc_window_display": false
  }
 },
 "nbformat": 4,
 "nbformat_minor": 2
}