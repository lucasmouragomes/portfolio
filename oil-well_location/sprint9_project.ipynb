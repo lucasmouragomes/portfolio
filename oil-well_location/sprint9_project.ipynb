{
 "cells": [
  {
   "cell_type": "markdown",
   "metadata": {},
   "source": [
    "# Oil Well Locations"
   ]
  },
  {
   "cell_type": "markdown",
   "metadata": {},
   "source": [
    "## Introduction"
   ]
  },
  {
   "cell_type": "markdown",
   "metadata": {},
   "source": [
    "In this project we aim to train a prediction model to locate the best region to explore the construction of new oil wells for OilyGiant Mining Company. Preprocessed data from oil wells located in three different regions was provided to us, and we aim to pick the best region from these three based on reservatory production volume. Each region has many possibilities of positions to place new oil wells and we expect to use the data to train a model that will be able to estimate the production volume for each position based on the preprocessed features. This model will be used to identify the best positions to place new oil wells when exploring a region and achieve the best revenues for the company."
   ]
  },
  {
   "cell_type": "markdown",
   "metadata": {},
   "source": [
    "\n",
    "## Data Preprocess"
   ]
  },
  {
   "cell_type": "markdown",
   "metadata": {},
   "source": [
    "### Objective"
   ]
  },
  {
   "cell_type": "markdown",
   "metadata": {},
   "source": [
    "The preprocessed data of each region contains three features and an id for each well position, as well as the production volume of each well position. We will check for problems in the data and fix them, in order to prepare it for a the training of the model. "
   ]
  },
  {
   "cell_type": "markdown",
   "metadata": {},
   "source": [
    "### Code"
   ]
  },
  {
   "cell_type": "code",
   "execution_count": 105,
   "metadata": {},
   "outputs": [],
   "source": [
    "import pandas as pd\n",
    "import matplotlib.pyplot as plt\n",
    "import numpy as np\n",
    "from IPython.display import display\n",
    "\n",
    "from sklearn.linear_model import LinearRegression\n",
    "from sklearn.model_selection import train_test_split\n",
    "import sklearn.metrics as metrics\n",
    "from sklearn.preprocessing import StandardScaler\n",
    "\n",
    "import sys\n",
    "import warnings\n",
    "if not sys.warnoptions:\n",
    "       warnings.simplefilter(\"ignore\")\n",
    "\n",
    "import joblib"
   ]
  },
  {
   "cell_type": "code",
   "execution_count": 106,
   "metadata": {},
   "outputs": [
    {
     "name": "stdout",
     "output_type": "stream",
     "text": [
      "Path found is ../datasets/\n"
     ]
    }
   ],
   "source": [
    "path_array = ['', '/', '/datasets/', './datasets/', '../datasets/']\n",
    "CSVPATH = None\n",
    "\n",
    "for i in path_array:\n",
    "    try:\n",
    "        pd.read_csv(i + 'geo_data_0.csv', nrows=1)\n",
    "        CSVPATH = i\n",
    "        break\n",
    "    except:\n",
    "        pass\n",
    "\n",
    "if CSVPATH:\n",
    "    print('Path found is', 'current folder' if CSVPATH == '' else CSVPATH)\n",
    "else:\n",
    "    print('No path found')"
   ]
  },
  {
   "cell_type": "code",
   "execution_count": 107,
   "metadata": {},
   "outputs": [
    {
     "name": "stdout",
     "output_type": "stream",
     "text": [
      "<class 'pandas.core.frame.DataFrame'>\n",
      "RangeIndex: 100000 entries, 0 to 99999\n",
      "Data columns (total 5 columns):\n",
      "id         100000 non-null object\n",
      "f0         100000 non-null float32\n",
      "f1         100000 non-null float32\n",
      "f2         100000 non-null float32\n",
      "product    100000 non-null float32\n",
      "dtypes: float32(4), object(1)\n",
      "memory usage: 2.3+ MB\n",
      "\n",
      "\n",
      "<class 'pandas.core.frame.DataFrame'>\n",
      "RangeIndex: 100000 entries, 0 to 99999\n",
      "Data columns (total 5 columns):\n",
      "id         100000 non-null object\n",
      "f0         100000 non-null float32\n",
      "f1         100000 non-null float32\n",
      "f2         100000 non-null float32\n",
      "product    100000 non-null float32\n",
      "dtypes: float32(4), object(1)\n",
      "memory usage: 2.3+ MB\n",
      "\n",
      "\n",
      "<class 'pandas.core.frame.DataFrame'>\n",
      "RangeIndex: 100000 entries, 0 to 99999\n",
      "Data columns (total 5 columns):\n",
      "id         100000 non-null object\n",
      "f0         100000 non-null float32\n",
      "f1         100000 non-null float32\n",
      "f2         100000 non-null float32\n",
      "product    100000 non-null float32\n",
      "dtypes: float32(4), object(1)\n",
      "memory usage: 2.3+ MB\n",
      "\n",
      "\n"
     ]
    }
   ],
   "source": [
    "df = pd.read_csv(CSVPATH + 'geo_data_0.csv', nrows=5)\n",
    "\n",
    "def optimize_types(df):\n",
    "    df_dtypes = df.dtypes\n",
    "    df_names = df.index\n",
    "    df_types = [i.name for i in df_dtypes.values]\n",
    "    df_types = dict(zip(df_names, df_types))\n",
    "    return df_types\n",
    "\n",
    "float_columns = ['f0', 'f1', 'f2', 'product']\n",
    "\n",
    "if float_columns:\n",
    "    for col in float_columns:\n",
    "        df[col] = pd.to_numeric(df[col], downcast = 'float')\n",
    "\n",
    "int_columns = [ ]\n",
    "\n",
    "uint_columns = [ ]\n",
    "\n",
    "if int_columns:\n",
    "    for col in int_columns:\n",
    "        df[col] = pd.to_numeric(df[col], downcast = 'integer')\n",
    "\n",
    "if int_columns:\n",
    "    for col in uint_columns:\n",
    "        df[col] = pd.to_numeric(df[col], downcast = 'unsigned')\n",
    "\n",
    "bool_columns = [ ]\n",
    "\n",
    "if bool_columns:\n",
    "    df[bool_columns] = df[bool_columns].astype('bool')\n",
    "    \n",
    "df_types = optimize_types(df)\n",
    "\n",
    "df = []\n",
    "for i in range(3):\n",
    "    df.append(pd.read_csv(\n",
    "            CSVPATH+'geo_data_' + str(i) +'.csv', \n",
    "            dtype=df_types))\n",
    "\n",
    "for i in range(3):\n",
    "    df[i].info()\n",
    "    print('\\n')\n"
   ]
  },
  {
   "cell_type": "code",
   "execution_count": 108,
   "metadata": {},
   "outputs": [
    {
     "name": "stdout",
     "output_type": "stream",
     "text": [
      "Number of duplicated rows for Region 1: 0\n",
      "Number of duplicated rows for Region 2: 0\n",
      "Number of duplicated rows for Region 3: 0\n"
     ]
    }
   ],
   "source": [
    "for i in range(3):\n",
    "    print('Number of duplicated rows for Region ' + str(i+1) + f': {df[i][df[i].duplicated()].shape[0]}')"
   ]
  },
  {
   "cell_type": "code",
   "execution_count": 109,
   "metadata": {},
   "outputs": [
    {
     "name": "stdout",
     "output_type": "stream",
     "text": [
      "Max count of same well for Region 1: 2\n",
      "Max count of same well for Region 2: 2\n",
      "Max count of same well for Region 3: 2\n"
     ]
    }
   ],
   "source": [
    "for i in range(3):\n",
    "    print('Max count of same well for Region ' + str(i+1) + ':', df[i]['id'].value_counts().max())"
   ]
  },
  {
   "cell_type": "code",
   "execution_count": 110,
   "metadata": {},
   "outputs": [
    {
     "data": {
      "text/html": [
       "<div>\n",
       "<style scoped>\n",
       "    .dataframe tbody tr th:only-of-type {\n",
       "        vertical-align: middle;\n",
       "    }\n",
       "\n",
       "    .dataframe tbody tr th {\n",
       "        vertical-align: top;\n",
       "    }\n",
       "\n",
       "    .dataframe thead th {\n",
       "        text-align: right;\n",
       "    }\n",
       "</style>\n",
       "<table border=\"1\" class=\"dataframe\">\n",
       "  <thead>\n",
       "    <tr style=\"text-align: right;\">\n",
       "      <th></th>\n",
       "      <th>id</th>\n",
       "      <th>f0</th>\n",
       "      <th>f1</th>\n",
       "      <th>f2</th>\n",
       "      <th>product</th>\n",
       "    </tr>\n",
       "  </thead>\n",
       "  <tbody>\n",
       "    <tr>\n",
       "      <td>66136</td>\n",
       "      <td>74z30</td>\n",
       "      <td>1.084962</td>\n",
       "      <td>-0.312358</td>\n",
       "      <td>6.990771</td>\n",
       "      <td>127.643326</td>\n",
       "    </tr>\n",
       "    <tr>\n",
       "      <td>64022</td>\n",
       "      <td>74z30</td>\n",
       "      <td>0.741456</td>\n",
       "      <td>0.459229</td>\n",
       "      <td>5.153109</td>\n",
       "      <td>140.771500</td>\n",
       "    </tr>\n",
       "    <tr>\n",
       "      <td>51970</td>\n",
       "      <td>A5aEY</td>\n",
       "      <td>-0.180335</td>\n",
       "      <td>0.935548</td>\n",
       "      <td>-2.094773</td>\n",
       "      <td>33.020206</td>\n",
       "    </tr>\n",
       "    <tr>\n",
       "      <td>3389</td>\n",
       "      <td>A5aEY</td>\n",
       "      <td>-0.039949</td>\n",
       "      <td>0.156872</td>\n",
       "      <td>0.209861</td>\n",
       "      <td>89.249367</td>\n",
       "    </tr>\n",
       "    <tr>\n",
       "      <td>69163</td>\n",
       "      <td>AGS9W</td>\n",
       "      <td>-0.933795</td>\n",
       "      <td>0.116194</td>\n",
       "      <td>-3.655896</td>\n",
       "      <td>19.230453</td>\n",
       "    </tr>\n",
       "    <tr>\n",
       "      <td>42529</td>\n",
       "      <td>AGS9W</td>\n",
       "      <td>1.454747</td>\n",
       "      <td>-0.479651</td>\n",
       "      <td>0.683380</td>\n",
       "      <td>126.370506</td>\n",
       "    </tr>\n",
       "    <tr>\n",
       "      <td>931</td>\n",
       "      <td>HZww2</td>\n",
       "      <td>0.755284</td>\n",
       "      <td>0.368511</td>\n",
       "      <td>1.863211</td>\n",
       "      <td>30.681774</td>\n",
       "    </tr>\n",
       "    <tr>\n",
       "      <td>7530</td>\n",
       "      <td>HZww2</td>\n",
       "      <td>1.061194</td>\n",
       "      <td>-0.373969</td>\n",
       "      <td>10.430210</td>\n",
       "      <td>158.828690</td>\n",
       "    </tr>\n",
       "    <tr>\n",
       "      <td>63593</td>\n",
       "      <td>QcMuo</td>\n",
       "      <td>0.635635</td>\n",
       "      <td>-0.473422</td>\n",
       "      <td>0.862670</td>\n",
       "      <td>64.578674</td>\n",
       "    </tr>\n",
       "    <tr>\n",
       "      <td>1949</td>\n",
       "      <td>QcMuo</td>\n",
       "      <td>0.506563</td>\n",
       "      <td>-0.323775</td>\n",
       "      <td>-2.215583</td>\n",
       "      <td>75.496506</td>\n",
       "    </tr>\n",
       "    <tr>\n",
       "      <td>75715</td>\n",
       "      <td>Tdehs</td>\n",
       "      <td>0.112079</td>\n",
       "      <td>0.430296</td>\n",
       "      <td>3.218993</td>\n",
       "      <td>60.964020</td>\n",
       "    </tr>\n",
       "    <tr>\n",
       "      <td>21426</td>\n",
       "      <td>Tdehs</td>\n",
       "      <td>0.829406</td>\n",
       "      <td>0.298807</td>\n",
       "      <td>-0.049563</td>\n",
       "      <td>96.035309</td>\n",
       "    </tr>\n",
       "    <tr>\n",
       "      <td>92341</td>\n",
       "      <td>TtcGQ</td>\n",
       "      <td>0.110711</td>\n",
       "      <td>1.022689</td>\n",
       "      <td>0.911381</td>\n",
       "      <td>101.318008</td>\n",
       "    </tr>\n",
       "    <tr>\n",
       "      <td>60140</td>\n",
       "      <td>TtcGQ</td>\n",
       "      <td>0.569276</td>\n",
       "      <td>-0.104876</td>\n",
       "      <td>6.440215</td>\n",
       "      <td>85.350189</td>\n",
       "    </tr>\n",
       "    <tr>\n",
       "      <td>89582</td>\n",
       "      <td>bsk9y</td>\n",
       "      <td>0.398908</td>\n",
       "      <td>-0.400253</td>\n",
       "      <td>10.122376</td>\n",
       "      <td>163.433075</td>\n",
       "    </tr>\n",
       "    <tr>\n",
       "      <td>97785</td>\n",
       "      <td>bsk9y</td>\n",
       "      <td>0.378429</td>\n",
       "      <td>0.005837</td>\n",
       "      <td>0.160827</td>\n",
       "      <td>160.637299</td>\n",
       "    </tr>\n",
       "    <tr>\n",
       "      <td>41724</td>\n",
       "      <td>bxg6G</td>\n",
       "      <td>-0.823752</td>\n",
       "      <td>0.546319</td>\n",
       "      <td>3.630479</td>\n",
       "      <td>93.007797</td>\n",
       "    </tr>\n",
       "    <tr>\n",
       "      <td>1364</td>\n",
       "      <td>bxg6G</td>\n",
       "      <td>0.411645</td>\n",
       "      <td>0.856830</td>\n",
       "      <td>-3.653440</td>\n",
       "      <td>73.604263</td>\n",
       "    </tr>\n",
       "    <tr>\n",
       "      <td>16633</td>\n",
       "      <td>fiKDv</td>\n",
       "      <td>0.157341</td>\n",
       "      <td>1.028359</td>\n",
       "      <td>5.585586</td>\n",
       "      <td>95.817886</td>\n",
       "    </tr>\n",
       "    <tr>\n",
       "      <td>90815</td>\n",
       "      <td>fiKDv</td>\n",
       "      <td>0.049883</td>\n",
       "      <td>0.841313</td>\n",
       "      <td>6.394613</td>\n",
       "      <td>137.346588</td>\n",
       "    </tr>\n",
       "  </tbody>\n",
       "</table>\n",
       "</div>"
      ],
      "text/plain": [
       "          id        f0        f1         f2     product\n",
       "66136  74z30  1.084962 -0.312358   6.990771  127.643326\n",
       "64022  74z30  0.741456  0.459229   5.153109  140.771500\n",
       "51970  A5aEY -0.180335  0.935548  -2.094773   33.020206\n",
       "3389   A5aEY -0.039949  0.156872   0.209861   89.249367\n",
       "69163  AGS9W -0.933795  0.116194  -3.655896   19.230453\n",
       "42529  AGS9W  1.454747 -0.479651   0.683380  126.370506\n",
       "931    HZww2  0.755284  0.368511   1.863211   30.681774\n",
       "7530   HZww2  1.061194 -0.373969  10.430210  158.828690\n",
       "63593  QcMuo  0.635635 -0.473422   0.862670   64.578674\n",
       "1949   QcMuo  0.506563 -0.323775  -2.215583   75.496506\n",
       "75715  Tdehs  0.112079  0.430296   3.218993   60.964020\n",
       "21426  Tdehs  0.829406  0.298807  -0.049563   96.035309\n",
       "92341  TtcGQ  0.110711  1.022689   0.911381  101.318008\n",
       "60140  TtcGQ  0.569276 -0.104876   6.440215   85.350189\n",
       "89582  bsk9y  0.398908 -0.400253  10.122376  163.433075\n",
       "97785  bsk9y  0.378429  0.005837   0.160827  160.637299\n",
       "41724  bxg6G -0.823752  0.546319   3.630479   93.007797\n",
       "1364   bxg6G  0.411645  0.856830  -3.653440   73.604263\n",
       "16633  fiKDv  0.157341  1.028359   5.585586   95.817886\n",
       "90815  fiKDv  0.049883  0.841313   6.394613  137.346588"
      ]
     },
     "execution_count": 110,
     "metadata": {},
     "output_type": "execute_result"
    }
   ],
   "source": [
    "df[0][df[0]['id'].duplicated(keep=False)].sort_values('id')"
   ]
  },
  {
   "cell_type": "code",
   "execution_count": 111,
   "metadata": {},
   "outputs": [
    {
     "data": {
      "text/html": [
       "<div>\n",
       "<style scoped>\n",
       "    .dataframe tbody tr th:only-of-type {\n",
       "        vertical-align: middle;\n",
       "    }\n",
       "\n",
       "    .dataframe tbody tr th {\n",
       "        vertical-align: top;\n",
       "    }\n",
       "\n",
       "    .dataframe thead th {\n",
       "        text-align: right;\n",
       "    }\n",
       "</style>\n",
       "<table border=\"1\" class=\"dataframe\">\n",
       "  <thead>\n",
       "    <tr style=\"text-align: right;\">\n",
       "      <th></th>\n",
       "      <th>id</th>\n",
       "      <th>f0</th>\n",
       "      <th>f1</th>\n",
       "      <th>f2</th>\n",
       "      <th>product</th>\n",
       "    </tr>\n",
       "  </thead>\n",
       "  <tbody>\n",
       "    <tr>\n",
       "      <td>5849</td>\n",
       "      <td>5ltQ6</td>\n",
       "      <td>-3.435401</td>\n",
       "      <td>-12.296043</td>\n",
       "      <td>1.999796</td>\n",
       "      <td>57.085625</td>\n",
       "    </tr>\n",
       "    <tr>\n",
       "      <td>84461</td>\n",
       "      <td>5ltQ6</td>\n",
       "      <td>18.213839</td>\n",
       "      <td>2.191999</td>\n",
       "      <td>3.993869</td>\n",
       "      <td>107.813042</td>\n",
       "    </tr>\n",
       "    <tr>\n",
       "      <td>1305</td>\n",
       "      <td>LHZR0</td>\n",
       "      <td>11.170835</td>\n",
       "      <td>-1.945066</td>\n",
       "      <td>3.002872</td>\n",
       "      <td>80.859779</td>\n",
       "    </tr>\n",
       "    <tr>\n",
       "      <td>41906</td>\n",
       "      <td>LHZR0</td>\n",
       "      <td>-8.989672</td>\n",
       "      <td>-4.286607</td>\n",
       "      <td>2.009139</td>\n",
       "      <td>57.085625</td>\n",
       "    </tr>\n",
       "    <tr>\n",
       "      <td>2721</td>\n",
       "      <td>bfPNe</td>\n",
       "      <td>-9.494442</td>\n",
       "      <td>-5.463692</td>\n",
       "      <td>4.006042</td>\n",
       "      <td>110.992149</td>\n",
       "    </tr>\n",
       "    <tr>\n",
       "      <td>82178</td>\n",
       "      <td>bfPNe</td>\n",
       "      <td>-6.202799</td>\n",
       "      <td>-4.820045</td>\n",
       "      <td>2.995107</td>\n",
       "      <td>84.038887</td>\n",
       "    </tr>\n",
       "    <tr>\n",
       "      <td>47591</td>\n",
       "      <td>wt4Uk</td>\n",
       "      <td>-9.091098</td>\n",
       "      <td>-8.109279</td>\n",
       "      <td>-0.002314</td>\n",
       "      <td>3.179103</td>\n",
       "    </tr>\n",
       "    <tr>\n",
       "      <td>82873</td>\n",
       "      <td>wt4Uk</td>\n",
       "      <td>10.259973</td>\n",
       "      <td>-9.376355</td>\n",
       "      <td>4.994297</td>\n",
       "      <td>134.766312</td>\n",
       "    </tr>\n",
       "  </tbody>\n",
       "</table>\n",
       "</div>"
      ],
      "text/plain": [
       "          id         f0         f1        f2     product\n",
       "5849   5ltQ6  -3.435401 -12.296043  1.999796   57.085625\n",
       "84461  5ltQ6  18.213839   2.191999  3.993869  107.813042\n",
       "1305   LHZR0  11.170835  -1.945066  3.002872   80.859779\n",
       "41906  LHZR0  -8.989672  -4.286607  2.009139   57.085625\n",
       "2721   bfPNe  -9.494442  -5.463692  4.006042  110.992149\n",
       "82178  bfPNe  -6.202799  -4.820045  2.995107   84.038887\n",
       "47591  wt4Uk  -9.091098  -8.109279 -0.002314    3.179103\n",
       "82873  wt4Uk  10.259973  -9.376355  4.994297  134.766312"
      ]
     },
     "execution_count": 111,
     "metadata": {},
     "output_type": "execute_result"
    }
   ],
   "source": [
    "df[1][df[1]['id'].duplicated(keep=False)].sort_values('id')"
   ]
  },
  {
   "cell_type": "code",
   "execution_count": 112,
   "metadata": {},
   "outputs": [
    {
     "data": {
      "text/html": [
       "<div>\n",
       "<style scoped>\n",
       "    .dataframe tbody tr th:only-of-type {\n",
       "        vertical-align: middle;\n",
       "    }\n",
       "\n",
       "    .dataframe tbody tr th {\n",
       "        vertical-align: top;\n",
       "    }\n",
       "\n",
       "    .dataframe thead th {\n",
       "        text-align: right;\n",
       "    }\n",
       "</style>\n",
       "<table border=\"1\" class=\"dataframe\">\n",
       "  <thead>\n",
       "    <tr style=\"text-align: right;\">\n",
       "      <th></th>\n",
       "      <th>id</th>\n",
       "      <th>f0</th>\n",
       "      <th>f1</th>\n",
       "      <th>f2</th>\n",
       "      <th>product</th>\n",
       "    </tr>\n",
       "  </thead>\n",
       "  <tbody>\n",
       "    <tr>\n",
       "      <td>45404</td>\n",
       "      <td>KUPhW</td>\n",
       "      <td>0.231846</td>\n",
       "      <td>-1.698941</td>\n",
       "      <td>4.990775</td>\n",
       "      <td>11.716299</td>\n",
       "    </tr>\n",
       "    <tr>\n",
       "      <td>55967</td>\n",
       "      <td>KUPhW</td>\n",
       "      <td>1.211151</td>\n",
       "      <td>3.176408</td>\n",
       "      <td>5.543540</td>\n",
       "      <td>132.831802</td>\n",
       "    </tr>\n",
       "    <tr>\n",
       "      <td>11449</td>\n",
       "      <td>VF7Jo</td>\n",
       "      <td>2.122656</td>\n",
       "      <td>-0.858275</td>\n",
       "      <td>5.746001</td>\n",
       "      <td>181.716812</td>\n",
       "    </tr>\n",
       "    <tr>\n",
       "      <td>49564</td>\n",
       "      <td>VF7Jo</td>\n",
       "      <td>-0.883115</td>\n",
       "      <td>0.560537</td>\n",
       "      <td>0.723601</td>\n",
       "      <td>136.233414</td>\n",
       "    </tr>\n",
       "    <tr>\n",
       "      <td>44378</td>\n",
       "      <td>Vcm5J</td>\n",
       "      <td>-1.229484</td>\n",
       "      <td>-2.439204</td>\n",
       "      <td>1.222909</td>\n",
       "      <td>137.968292</td>\n",
       "    </tr>\n",
       "    <tr>\n",
       "      <td>95090</td>\n",
       "      <td>Vcm5J</td>\n",
       "      <td>2.587702</td>\n",
       "      <td>1.986875</td>\n",
       "      <td>2.482245</td>\n",
       "      <td>92.327576</td>\n",
       "    </tr>\n",
       "    <tr>\n",
       "      <td>28039</td>\n",
       "      <td>xCHr8</td>\n",
       "      <td>1.633027</td>\n",
       "      <td>0.368135</td>\n",
       "      <td>-2.378367</td>\n",
       "      <td>6.120525</td>\n",
       "    </tr>\n",
       "    <tr>\n",
       "      <td>43233</td>\n",
       "      <td>xCHr8</td>\n",
       "      <td>-0.847066</td>\n",
       "      <td>2.101796</td>\n",
       "      <td>5.597130</td>\n",
       "      <td>184.388641</td>\n",
       "    </tr>\n",
       "  </tbody>\n",
       "</table>\n",
       "</div>"
      ],
      "text/plain": [
       "          id        f0        f1        f2     product\n",
       "45404  KUPhW  0.231846 -1.698941  4.990775   11.716299\n",
       "55967  KUPhW  1.211151  3.176408  5.543540  132.831802\n",
       "11449  VF7Jo  2.122656 -0.858275  5.746001  181.716812\n",
       "49564  VF7Jo -0.883115  0.560537  0.723601  136.233414\n",
       "44378  Vcm5J -1.229484 -2.439204  1.222909  137.968292\n",
       "95090  Vcm5J  2.587702  1.986875  2.482245   92.327576\n",
       "28039  xCHr8  1.633027  0.368135 -2.378367    6.120525\n",
       "43233  xCHr8 -0.847066  2.101796  5.597130  184.388641"
      ]
     },
     "execution_count": 112,
     "metadata": {},
     "output_type": "execute_result"
    }
   ],
   "source": [
    "df[2][df[2]['id'].duplicated(keep=False)].sort_values('id')"
   ]
  },
  {
   "cell_type": "code",
   "execution_count": 113,
   "metadata": {},
   "outputs": [
    {
     "name": "stdout",
     "output_type": "stream",
     "text": [
      "Summary for dataset 0:\n"
     ]
    },
    {
     "data": {
      "text/html": [
       "<div>\n",
       "<style scoped>\n",
       "    .dataframe tbody tr th:only-of-type {\n",
       "        vertical-align: middle;\n",
       "    }\n",
       "\n",
       "    .dataframe tbody tr th {\n",
       "        vertical-align: top;\n",
       "    }\n",
       "\n",
       "    .dataframe thead th {\n",
       "        text-align: right;\n",
       "    }\n",
       "</style>\n",
       "<table border=\"1\" class=\"dataframe\">\n",
       "  <thead>\n",
       "    <tr style=\"text-align: right;\">\n",
       "      <th></th>\n",
       "      <th>f0</th>\n",
       "      <th>f1</th>\n",
       "      <th>f2</th>\n",
       "      <th>product</th>\n",
       "    </tr>\n",
       "  </thead>\n",
       "  <tbody>\n",
       "    <tr>\n",
       "      <td>count</td>\n",
       "      <td>100000.00</td>\n",
       "      <td>100000.00</td>\n",
       "      <td>100000.00</td>\n",
       "      <td>100000.00</td>\n",
       "    </tr>\n",
       "    <tr>\n",
       "      <td>mean</td>\n",
       "      <td>0.50</td>\n",
       "      <td>0.25</td>\n",
       "      <td>2.50</td>\n",
       "      <td>92.50</td>\n",
       "    </tr>\n",
       "    <tr>\n",
       "      <td>std</td>\n",
       "      <td>0.87</td>\n",
       "      <td>0.50</td>\n",
       "      <td>3.25</td>\n",
       "      <td>44.29</td>\n",
       "    </tr>\n",
       "    <tr>\n",
       "      <td>min</td>\n",
       "      <td>-1.41</td>\n",
       "      <td>-0.85</td>\n",
       "      <td>-12.09</td>\n",
       "      <td>0.00</td>\n",
       "    </tr>\n",
       "    <tr>\n",
       "      <td>25%</td>\n",
       "      <td>-0.07</td>\n",
       "      <td>-0.20</td>\n",
       "      <td>0.29</td>\n",
       "      <td>56.50</td>\n",
       "    </tr>\n",
       "    <tr>\n",
       "      <td>50%</td>\n",
       "      <td>0.50</td>\n",
       "      <td>0.25</td>\n",
       "      <td>2.52</td>\n",
       "      <td>91.85</td>\n",
       "    </tr>\n",
       "    <tr>\n",
       "      <td>75%</td>\n",
       "      <td>1.07</td>\n",
       "      <td>0.70</td>\n",
       "      <td>4.72</td>\n",
       "      <td>128.56</td>\n",
       "    </tr>\n",
       "    <tr>\n",
       "      <td>max</td>\n",
       "      <td>2.36</td>\n",
       "      <td>1.34</td>\n",
       "      <td>16.00</td>\n",
       "      <td>185.36</td>\n",
       "    </tr>\n",
       "  </tbody>\n",
       "</table>\n",
       "</div>"
      ],
      "text/plain": [
       "              f0         f1         f2    product\n",
       "count  100000.00  100000.00  100000.00  100000.00\n",
       "mean        0.50       0.25       2.50      92.50\n",
       "std         0.87       0.50       3.25      44.29\n",
       "min        -1.41      -0.85     -12.09       0.00\n",
       "25%        -0.07      -0.20       0.29      56.50\n",
       "50%         0.50       0.25       2.52      91.85\n",
       "75%         1.07       0.70       4.72     128.56\n",
       "max         2.36       1.34      16.00     185.36"
      ]
     },
     "metadata": {},
     "output_type": "display_data"
    },
    {
     "name": "stdout",
     "output_type": "stream",
     "text": [
      "Summary for dataset 1:\n"
     ]
    },
    {
     "data": {
      "text/html": [
       "<div>\n",
       "<style scoped>\n",
       "    .dataframe tbody tr th:only-of-type {\n",
       "        vertical-align: middle;\n",
       "    }\n",
       "\n",
       "    .dataframe tbody tr th {\n",
       "        vertical-align: top;\n",
       "    }\n",
       "\n",
       "    .dataframe thead th {\n",
       "        text-align: right;\n",
       "    }\n",
       "</style>\n",
       "<table border=\"1\" class=\"dataframe\">\n",
       "  <thead>\n",
       "    <tr style=\"text-align: right;\">\n",
       "      <th></th>\n",
       "      <th>f0</th>\n",
       "      <th>f1</th>\n",
       "      <th>f2</th>\n",
       "      <th>product</th>\n",
       "    </tr>\n",
       "  </thead>\n",
       "  <tbody>\n",
       "    <tr>\n",
       "      <td>count</td>\n",
       "      <td>100000.00</td>\n",
       "      <td>100000.00</td>\n",
       "      <td>100000.00</td>\n",
       "      <td>100000.00</td>\n",
       "    </tr>\n",
       "    <tr>\n",
       "      <td>mean</td>\n",
       "      <td>1.14</td>\n",
       "      <td>-4.80</td>\n",
       "      <td>2.49</td>\n",
       "      <td>68.82</td>\n",
       "    </tr>\n",
       "    <tr>\n",
       "      <td>std</td>\n",
       "      <td>8.97</td>\n",
       "      <td>5.12</td>\n",
       "      <td>1.70</td>\n",
       "      <td>45.94</td>\n",
       "    </tr>\n",
       "    <tr>\n",
       "      <td>min</td>\n",
       "      <td>-31.61</td>\n",
       "      <td>-26.36</td>\n",
       "      <td>-0.02</td>\n",
       "      <td>0.00</td>\n",
       "    </tr>\n",
       "    <tr>\n",
       "      <td>25%</td>\n",
       "      <td>-6.30</td>\n",
       "      <td>-8.27</td>\n",
       "      <td>1.00</td>\n",
       "      <td>26.95</td>\n",
       "    </tr>\n",
       "    <tr>\n",
       "      <td>50%</td>\n",
       "      <td>1.15</td>\n",
       "      <td>-4.81</td>\n",
       "      <td>2.01</td>\n",
       "      <td>57.09</td>\n",
       "    </tr>\n",
       "    <tr>\n",
       "      <td>75%</td>\n",
       "      <td>8.62</td>\n",
       "      <td>-1.33</td>\n",
       "      <td>4.00</td>\n",
       "      <td>107.81</td>\n",
       "    </tr>\n",
       "    <tr>\n",
       "      <td>max</td>\n",
       "      <td>29.42</td>\n",
       "      <td>18.73</td>\n",
       "      <td>5.02</td>\n",
       "      <td>137.95</td>\n",
       "    </tr>\n",
       "  </tbody>\n",
       "</table>\n",
       "</div>"
      ],
      "text/plain": [
       "              f0         f1         f2    product\n",
       "count  100000.00  100000.00  100000.00  100000.00\n",
       "mean        1.14      -4.80       2.49      68.82\n",
       "std         8.97       5.12       1.70      45.94\n",
       "min       -31.61     -26.36      -0.02       0.00\n",
       "25%        -6.30      -8.27       1.00      26.95\n",
       "50%         1.15      -4.81       2.01      57.09\n",
       "75%         8.62      -1.33       4.00     107.81\n",
       "max        29.42      18.73       5.02     137.95"
      ]
     },
     "metadata": {},
     "output_type": "display_data"
    },
    {
     "name": "stdout",
     "output_type": "stream",
     "text": [
      "Summary for dataset 2:\n"
     ]
    },
    {
     "data": {
      "text/html": [
       "<div>\n",
       "<style scoped>\n",
       "    .dataframe tbody tr th:only-of-type {\n",
       "        vertical-align: middle;\n",
       "    }\n",
       "\n",
       "    .dataframe tbody tr th {\n",
       "        vertical-align: top;\n",
       "    }\n",
       "\n",
       "    .dataframe thead th {\n",
       "        text-align: right;\n",
       "    }\n",
       "</style>\n",
       "<table border=\"1\" class=\"dataframe\">\n",
       "  <thead>\n",
       "    <tr style=\"text-align: right;\">\n",
       "      <th></th>\n",
       "      <th>f0</th>\n",
       "      <th>f1</th>\n",
       "      <th>f2</th>\n",
       "      <th>product</th>\n",
       "    </tr>\n",
       "  </thead>\n",
       "  <tbody>\n",
       "    <tr>\n",
       "      <td>count</td>\n",
       "      <td>100000.00</td>\n",
       "      <td>100000.00</td>\n",
       "      <td>100000.00</td>\n",
       "      <td>100000.00</td>\n",
       "    </tr>\n",
       "    <tr>\n",
       "      <td>mean</td>\n",
       "      <td>0.00</td>\n",
       "      <td>-0.00</td>\n",
       "      <td>2.50</td>\n",
       "      <td>95.00</td>\n",
       "    </tr>\n",
       "    <tr>\n",
       "      <td>std</td>\n",
       "      <td>1.73</td>\n",
       "      <td>1.73</td>\n",
       "      <td>3.47</td>\n",
       "      <td>44.75</td>\n",
       "    </tr>\n",
       "    <tr>\n",
       "      <td>min</td>\n",
       "      <td>-8.76</td>\n",
       "      <td>-7.08</td>\n",
       "      <td>-11.97</td>\n",
       "      <td>0.00</td>\n",
       "    </tr>\n",
       "    <tr>\n",
       "      <td>25%</td>\n",
       "      <td>-1.16</td>\n",
       "      <td>-1.17</td>\n",
       "      <td>0.13</td>\n",
       "      <td>59.45</td>\n",
       "    </tr>\n",
       "    <tr>\n",
       "      <td>50%</td>\n",
       "      <td>0.01</td>\n",
       "      <td>-0.01</td>\n",
       "      <td>2.48</td>\n",
       "      <td>94.93</td>\n",
       "    </tr>\n",
       "    <tr>\n",
       "      <td>75%</td>\n",
       "      <td>1.16</td>\n",
       "      <td>1.16</td>\n",
       "      <td>4.86</td>\n",
       "      <td>130.60</td>\n",
       "    </tr>\n",
       "    <tr>\n",
       "      <td>max</td>\n",
       "      <td>7.24</td>\n",
       "      <td>7.84</td>\n",
       "      <td>16.74</td>\n",
       "      <td>190.03</td>\n",
       "    </tr>\n",
       "  </tbody>\n",
       "</table>\n",
       "</div>"
      ],
      "text/plain": [
       "              f0         f1         f2    product\n",
       "count  100000.00  100000.00  100000.00  100000.00\n",
       "mean        0.00      -0.00       2.50      95.00\n",
       "std         1.73       1.73       3.47      44.75\n",
       "min        -8.76      -7.08     -11.97       0.00\n",
       "25%        -1.16      -1.17       0.13      59.45\n",
       "50%         0.01      -0.01       2.48      94.93\n",
       "75%         1.16       1.16       4.86     130.60\n",
       "max         7.24       7.84      16.74     190.03"
      ]
     },
     "metadata": {},
     "output_type": "display_data"
    }
   ],
   "source": [
    "for i in range(3):\n",
    "    print('Summary for dataset ' + str(i) + ':')\n",
    "    display(df[i].describe().round(2))"
   ]
  },
  {
   "cell_type": "markdown",
   "metadata": {},
   "source": [
    "### Results"
   ]
  },
  {
   "cell_type": "markdown",
   "metadata": {},
   "source": [
    "Data has been loaded with optimized data types and duplicates on the id columns were found. No missing values were found, but wells with duplicate ids were present. Maybe a single well was used during different periods of time or the same equipment was moved from one position to another. Because the historical data can be useful, so the information for duplicate wells ids were kept. During the training of the machine learning models, the well ids are not necessary. Next, we will take a look at the distributions and prepare our datasets for model training."
   ]
  },
  {
   "cell_type": "markdown",
   "metadata": {},
   "source": [
    "\n",
    "## Exploratory Data Analysis\n"
   ]
  },
  {
   "cell_type": "markdown",
   "metadata": {},
   "source": [
    "\n",
    "### Objective\n"
   ]
  },
  {
   "cell_type": "markdown",
   "metadata": {},
   "source": [
    "The exploratory data analysis consists of checking the distributions of features and the production volume of each well position. We will check how features correlate to production volume and prepare training and validation sets. We will then check for consistency before training the predictor."
   ]
  },
  {
   "cell_type": "markdown",
   "metadata": {},
   "source": [
    "\n",
    "### Code"
   ]
  },
  {
   "cell_type": "code",
   "execution_count": 114,
   "metadata": {},
   "outputs": [
    {
     "name": "stdout",
     "output_type": "stream",
     "text": [
      "Pearson correlation for Region 1:\n"
     ]
    },
    {
     "data": {
      "text/plain": [
       "product    1.00\n",
       "f2         0.48\n",
       "f0         0.14\n",
       "f1        -0.19\n",
       "Name: product, dtype: float64"
      ]
     },
     "metadata": {},
     "output_type": "display_data"
    },
    {
     "name": "stdout",
     "output_type": "stream",
     "text": [
      "\n",
      "\n",
      "Pearson correlation for Region 2:\n"
     ]
    },
    {
     "data": {
      "text/plain": [
       "product    1.00\n",
       "f2         1.00\n",
       "f1        -0.01\n",
       "f0        -0.03\n",
       "Name: product, dtype: float64"
      ]
     },
     "metadata": {},
     "output_type": "display_data"
    },
    {
     "name": "stdout",
     "output_type": "stream",
     "text": [
      "\n",
      "\n",
      "Pearson correlation for Region 3:\n"
     ]
    },
    {
     "data": {
      "text/plain": [
       "product    1.00\n",
       "f2         0.45\n",
       "f1        -0.00\n",
       "f0        -0.00\n",
       "Name: product, dtype: float64"
      ]
     },
     "metadata": {},
     "output_type": "display_data"
    },
    {
     "name": "stdout",
     "output_type": "stream",
     "text": [
      "\n",
      "\n"
     ]
    }
   ],
   "source": [
    "for i in range(3):\n",
    "    print('Pearson correlation for Region ' + str(i+1) + ':')\n",
    "    display(df[i].drop(['id'], axis=1).corr().round(2)['product'].sort_values(ascending=False))\n",
    "    print('\\n')\n"
   ]
  },
  {
   "cell_type": "code",
   "execution_count": 115,
   "metadata": {},
   "outputs": [
    {
     "data": {
      "image/png": "[encoded data removed]",
      "text/plain": [
       "<Figure size 1152x576 with 4 Axes>"
      ]
     },
     "metadata": {
      "needs_background": "light"
     },
     "output_type": "display_data"
    }
   ],
   "source": [
    "histogram_plots = ['f0', 'f1', 'f2', 'product']\n",
    "legend = ['Region 1', 'Region 2', 'Region 3']\n",
    "title = ['Histogram of f0', 'Histogram of f1', 'Histogram of f2', 'Histogram of product']\n",
    "fig, axs = plt.subplots(2,2)\n",
    "fig.set_size_inches(16, 8)\n",
    "fig.set_tight_layout(True)\n",
    "\n",
    "for (col, t) in zip(histogram_plots, title):\n",
    "    \n",
    "    ## Plotting histograms with same bins\n",
    "    maxrange = 0\n",
    "    for i in range(3):\n",
    "        compare = abs(df[i][col].max() - df[i][col].min())\n",
    "        if compare > maxrange:\n",
    "            maxrange = compare\n",
    "            bin_set = i\n",
    "    bin = np.arange(df[i][col].min(), df[i][col].max(), maxrange/200)\n",
    "    \n",
    "    if histogram_plots.index(col) < 2:\n",
    "        for i in range(3):\n",
    "            axs[0, histogram_plots.index(col)].hist(df[i][col], bins=bin, alpha=0.75)\n",
    "        axs[0, histogram_plots.index(col)].legend(legend)\n",
    "        axs[0, histogram_plots.index(col)].set(ylabel = 'Count', xlabel = col, title=t)\n",
    "    else:  \n",
    "        for i in range(3): \n",
    "            axs[1, histogram_plots.index(col)-2].hist(df[i][col], bins=bin, alpha=0.75)\n",
    "        axs[1, histogram_plots.index(col)-2].legend(legend)\n",
    "        axs[1, histogram_plots.index(col)-2].set(ylabel = 'Count', xlabel = col, title=t)\n",
    "        \n",
    "plt.show()"
   ]
  },
  {
   "cell_type": "markdown",
   "metadata": {},
   "source": [
    "*Graph Analysis*\n",
    "\n",
    "By looking at the graphs above, we have an overview of feature and production values. It is clear that every region has different distributions. Region 2 follows an odd pattern of production values, which is not consistent with the other regions, and production volumes are generally very close to six possible values which are mainly defined by feature \"f2\". As for Region 1 and Region 3, both show similar distributions of production values, with their own peculiarities for features. "
   ]
  },
  {
   "cell_type": "code",
   "execution_count": 116,
   "metadata": {},
   "outputs": [
    {
     "name": "stdout",
     "output_type": "stream",
     "text": [
      "<class 'pandas.core.frame.DataFrame'>\n",
      "RangeIndex: 100000 entries, 0 to 99999\n",
      "Data columns (total 5 columns):\n",
      "id         100000 non-null object\n",
      "f0         100000 non-null float64\n",
      "f1         100000 non-null float64\n",
      "f2         100000 non-null float64\n",
      "product    100000 non-null float32\n",
      "dtypes: float32(1), float64(3), object(1)\n",
      "memory usage: 3.4+ MB\n",
      "<class 'pandas.core.frame.DataFrame'>\n",
      "RangeIndex: 100000 entries, 0 to 99999\n",
      "Data columns (total 5 columns):\n",
      "id         100000 non-null object\n",
      "f0         100000 non-null float64\n",
      "f1         100000 non-null float64\n",
      "f2         100000 non-null float64\n",
      "product    100000 non-null float32\n",
      "dtypes: float32(1), float64(3), object(1)\n",
      "memory usage: 3.4+ MB\n",
      "<class 'pandas.core.frame.DataFrame'>\n",
      "RangeIndex: 100000 entries, 0 to 99999\n",
      "Data columns (total 5 columns):\n",
      "id         100000 non-null object\n",
      "f0         100000 non-null float64\n",
      "f1         100000 non-null float64\n",
      "f2         100000 non-null float64\n",
      "product    100000 non-null float32\n",
      "dtypes: float32(1), float64(3), object(1)\n",
      "memory usage: 3.4+ MB\n"
     ]
    }
   ],
   "source": [
    "scaler = []\n",
    "\n",
    "for i in range(3):\n",
    "    scaler.append(StandardScaler())\n",
    "    scaler[i].fit(df[i].drop(['id', 'product'], axis=1))\n",
    "    df[i].loc[:, ['f0', 'f1', 'f2']] = scaler[i].transform(df[i].drop(['id', 'product'], axis=1))\n",
    "    df[i].info()"
   ]
  },
  {
   "cell_type": "code",
   "execution_count": 117,
   "metadata": {},
   "outputs": [
    {
     "name": "stdout",
     "output_type": "stream",
     "text": [
      "Size of train dataset for Region 1: 75000\n",
      "Size of test dataset for Region 1: 25000\n",
      "\n",
      "Size of train dataset for Region 2: 75000\n",
      "Size of test dataset for Region 2: 25000\n",
      "\n",
      "Size of train dataset for Region 3: 75000\n",
      "Size of test dataset for Region 3: 25000\n",
      "\n"
     ]
    }
   ],
   "source": [
    "train = []\n",
    "valid = []\n",
    "\n",
    "for i in range(3):\n",
    "    x, y = train_test_split(df[i], test_size=0.25, shuffle=True, random_state=42)\n",
    "    train.append(x)\n",
    "    valid.append(y)\n",
    "    \n",
    "for i in range(3):\n",
    "    print(f'Size of train dataset for Region {i+1}:', train[i].shape[0])\n",
    "    print(f'Size of test dataset for Region {i+1}:', valid[i].shape[0], end='\\n\\n')"
   ]
  },
  {
   "cell_type": "code",
   "execution_count": 118,
   "metadata": {},
   "outputs": [
    {
     "data": {
      "image/png": "[encoded data removed]",
      "text/plain": [
       "<Figure size 1152x864 with 12 Axes>"
      ]
     },
     "metadata": {
      "needs_background": "light"
     },
     "output_type": "display_data"
    }
   ],
   "source": [
    "histogram_plots = ['f0', 'f1', 'f2', 'product']\n",
    "legend = ['Training', 'Validation']\n",
    "title = ['Region 1', 'Region 2', 'Region 3']\n",
    "fig, axs = plt.subplots(4,3)\n",
    "fig.set_size_inches(16, 12)\n",
    "fig.set_tight_layout(True)\n",
    "\n",
    "for col in range(4):\n",
    "    for i in range(3):\n",
    "        axs[col, i].hist(train[i][histogram_plots[col]], bins=30, alpha=0.75, density=True)\n",
    "        axs[col, i].hist(valid[i][histogram_plots[col]], bins=30, alpha=0.75, density=True)\n",
    "        axs[col, i].legend(legend)\n",
    "        axs[col, i].set(ylabel = 'Count', xlabel = histogram_plots[col], title=title[i])\n",
    "\n",
    "plt.show()"
   ]
  },
  {
   "cell_type": "markdown",
   "metadata": {},
   "source": [
    "*Graph Analysis*\n",
    "\n",
    "The above graphs show the distributions for all three regions in the training and test sets, to see if the data is consistent. This confirms that the training and validation sets show similar distributions and are not biased."
   ]
  },
  {
   "cell_type": "markdown",
   "metadata": {},
   "source": [
    "### Results"
   ]
  },
  {
   "cell_type": "markdown",
   "metadata": {},
   "source": [
    "The main findings of the exploratory data analysis are:\n",
    "    - The production values are not consistent across regions.\n",
    "    - Region 2 has its production values mainly defined by feature \"f2\".\n",
    "    - Region 2 generally has lower values for prodution than the other regions.\n",
    "    - Region 3 shows slightly higher values for production than Region 1."
   ]
  },
  {
   "cell_type": "markdown",
   "metadata": {},
   "source": [
    "## Model Training"
   ]
  },
  {
   "cell_type": "markdown",
   "metadata": {},
   "source": [
    "### Objective"
   ]
  },
  {
   "cell_type": "markdown",
   "metadata": {},
   "source": [
    "A linear regression model will now be trained to predict the production volume for each well position based on the features. The model will be trained on the training set and tested on the validation set. The model will be tested on the test set to see if it is able to predict the production volume for each oil well position and we will check scores for each model to decide on the best model."
   ]
  },
  {
   "cell_type": "markdown",
   "metadata": {},
   "source": [
    "### Code"
   ]
  },
  {
   "cell_type": "code",
   "execution_count": 119,
   "metadata": {},
   "outputs": [],
   "source": [
    "def target_features(df, tar_col, remove=[]):\n",
    "    target = df[tar_col]\n",
    "    remove.append(tar_col)\n",
    "    features = df[[x for x in train[i].columns.values if x not in remove]]\n",
    "    return target, features"
   ]
  },
  {
   "cell_type": "code",
   "execution_count": 120,
   "metadata": {},
   "outputs": [],
   "source": [
    "def find_level(model, param, level=10):\n",
    "    best = {\n",
    "        'i': -1, \n",
    "        'score': -1\n",
    "    }\n",
    "    for i in range(1, level+1):\n",
    "        setattr(model, param, i)\n",
    "        model.fit(train_feat, train_target)\n",
    "        score = model.score(valid_feat, valid_target)\n",
    "        if (score - best['score']) > 0.001:\n",
    "            best['score'] = score\n",
    "            best['i'] = i\n",
    "    return best['score'], best['i']\n",
    "\n",
    "def report(target, features=None, predictions=None, model=None, predictions_proba=None, classifier=True):\n",
    "    \"\"\"\n",
    "    Prints a report of the model's performance. If regressor, add classifier=False\n",
    "    \"\"\"\n",
    "    flag = 0\n",
    "    if model != None:\n",
    "        if predictions is not None:\n",
    "            warnings.warn('Both model and predictions were passed. Ignoring model.')\n",
    "        else:\n",
    "            if features is None:\n",
    "                raise ValueError('Features must be passed if model is passed.')\n",
    "            predictions = model.predict(features)\n",
    "            if classifier == True:\n",
    "                predictions_proba = model.predict_proba(features)\n",
    "    if predictions is not None:\n",
    "        if classifier == True:\n",
    "            print(f'Accuracy: {metrics.accuracy_score(target,predictions):.2%}') \n",
    "            print(f'Recall: {metrics.recall_score(target,predictions):.2%}')\n",
    "            print(f'Precision: {metrics.precision_score(target,predictions):.2%}')\n",
    "            print(f'F1 Score: {metrics.f1_score(target,predictions):.2%}')\n",
    "        elif classifier == False:\n",
    "            print(f'Mean Absolute Error: {metrics.mean_absolute_error(target,predictions):.2f}')\n",
    "            print(f'Root Mean Squared Error: {np.sqrt(metrics.mean_squared_error(target,predictions)):.2f}') \n",
    "            print(f'R2 Score: {metrics.r2_score(target,predictions):.2f}')\n",
    "            print(f'Predictions mean value: {np.mean(predictions):.2f} (Target mean is {np.mean(target):.2f})')\n",
    "            print(f'Predictions median value: {np.median(predictions):.2f} (Target median is {np.median(target):.2f})')\n",
    "            target = pd.Series(target).reset_index(drop=True).sort_values()\n",
    "            predictions = pd.Series(predictions)\n",
    "            predictions = predictions.iloc[target.index].reset_index(drop=True)\n",
    "            target = target.reset_index(drop=True)\n",
    "            plt.plot(predictions, label='Predicted')\n",
    "            plt.plot(target, label='Actual', color='orange')\n",
    "            plt.legend(['Predicted', 'Actual'])\n",
    "            plt.xlabel('Sample Number')\n",
    "            plt.show()\n",
    "    if predictions_proba is not None:\n",
    "        fpr, tpr, thresholds = metrics.roc_curve(target, predictions_proba[:,1])\n",
    "        print(f'AUC-ROC: {metrics.roc_auc_score(target,predictions_proba[:,1]):.2%}')\n",
    "        flag = 1\n",
    "    if flag == 1:\n",
    "        return fpr, tpr, thresholds, predictions\n",
    "    else:\n",
    "        return predictions"
   ]
  },
  {
   "cell_type": "code",
   "execution_count": 121,
   "metadata": {},
   "outputs": [],
   "source": [
    "train_target = []\n",
    "train_feat = []\n",
    "for i in range(3):\n",
    "    x, y = target_features(train[i], 'product', remove=['id'])\n",
    "    train_target.append(x)\n",
    "    train_feat.append(y)\n",
    "\n",
    "valid_target = []\n",
    "valid_feat = []\n",
    "for i in range(3):\n",
    "    x, y = target_features(valid[i], 'product', remove=['id'])\n",
    "    valid_target.append(x)\n",
    "    valid_feat.append(y)"
   ]
  },
  {
   "cell_type": "code",
   "execution_count": 122,
   "metadata": {},
   "outputs": [
    {
     "name": "stdout",
     "output_type": "stream",
     "text": [
      "Report of linear model for Region 1:\n",
      "Mean Absolute Error: 31.05\n",
      "Root Mean Squared Error: 37.76\n",
      "R2 Score: 0.27\n",
      "Predictions mean value: 92.40 (Target mean is 92.33)\n",
      "Predictions median value: 92.41 (Target median is 90.79)\n"
     ]
    },
    {
     "data": {
      "image/png": "[encoded data removed]",
      "text/plain": [
       "<Figure size 432x288 with 1 Axes>"
      ]
     },
     "metadata": {
      "needs_background": "light"
     },
     "output_type": "display_data"
    },
    {
     "name": "stdout",
     "output_type": "stream",
     "text": [
      "\n",
      "\n",
      "Report of linear model for Region 2:\n",
      "Mean Absolute Error: 0.72\n",
      "Root Mean Squared Error: 0.89\n",
      "R2 Score: 1.00\n",
      "Predictions mean value: 68.71 (Target mean is 68.73)\n",
      "Predictions median value: 57.92 (Target median is 57.09)\n"
     ]
    },
    {
     "data": {
      "image/png": "[encoded data removed]",
      "text/plain": [
       "<Figure size 432x288 with 1 Axes>"
      ]
     },
     "metadata": {
      "needs_background": "light"
     },
     "output_type": "display_data"
    },
    {
     "name": "stdout",
     "output_type": "stream",
     "text": [
      "\n",
      "\n",
      "Report of linear model for Region 3:\n",
      "Mean Absolute Error: 32.90\n",
      "Root Mean Squared Error: 40.15\n",
      "R2 Score: 0.20\n",
      "Predictions mean value: 94.77 (Target mean is 95.15)\n",
      "Predictions median value: 94.61 (Target median is 94.94)\n"
     ]
    },
    {
     "data": {
      "image/png": "[encoded data removed]",
      "text/plain": [
       "<Figure size 432x288 with 1 Axes>"
      ]
     },
     "metadata": {
      "needs_background": "light"
     },
     "output_type": "display_data"
    },
    {
     "name": "stdout",
     "output_type": "stream",
     "text": [
      "\n",
      "\n"
     ]
    }
   ],
   "source": [
    "# Launching linear model\n",
    "linear_model = []\n",
    "for i in range(3):\n",
    "    linear_model.append(LinearRegression(normalize=True))\n",
    "\n",
    "valid_predict = []\n",
    "for i in range(3):\n",
    "    print(f'Report of linear model for Region {i+1}:')\n",
    "    linear_model[i].fit(train_feat[i], train_target[i])\n",
    "    valid_predict.append(report(valid_target[i], features=valid_feat[i], model=linear_model[i], classifier=False))\n",
    "    print('\\n')"
   ]
  },
  {
   "cell_type": "markdown",
   "metadata": {},
   "source": [
    "*Graph Analysis*"
   ]
  },
  {
   "cell_type": "markdown",
   "metadata": {},
   "source": [
    "The reports for each model suggest that model 1 performs better than the other models to predict the production volume for each well position. The model 1 has a higher R2 score, which higher than the other models. Although the linear regression model could succesfully predict all values for Region 2, this region shows the worst results for the production volume."
   ]
  },
  {
   "cell_type": "markdown",
   "metadata": {},
   "source": [
    "### Results"
   ]
  },
  {
   "cell_type": "markdown",
   "metadata": {},
   "source": [
    "Linear regression prediction models were trained for each of the three regions. The model 1 has a higher R2 score than the other models, and shows a high average value for production, which suggests this will be a safer choice to correctly predict profit for the company. However, a closer look to the maximum possible revenue should be looked into, as the average value for production was somewhat higher for Region 3. Generally, Region 2 shows the worst results, although the prediction model can succesfully predict all values for this region."
   ]
  },
  {
   "cell_type": "markdown",
   "metadata": {},
   "source": [
    "## Viability Study"
   ]
  },
  {
   "cell_type": "markdown",
   "metadata": {},
   "source": [
    "### Objective"
   ]
  },
  {
   "cell_type": "markdown",
   "metadata": {},
   "source": [
    "In this section we seek to calculate profit based on the prediction models and distributions for each region. Before building wells, a study of 500 points is carried for picking the best 200 points for the profit calculation. The construction of these 200 oil wells will cost 100 million USD. One barrel of production brings 4.5 USD of revenue, and the volume of product is in thousands of barrels. The profit for each well position is calculated by multiplying the production volume by the revenue per barrel. We will simulate samples of 500 points for each region and calculate average profit for the best 200 points.\n",
    "\n",
    "A description of the testing procedure:\n",
    "\n",
    "    - Apply bootstrapping for 1000 samples of 500 points for each region.\n",
    "    - Predict the revenue for each of the 500 points and sort them in descending order.\n",
    "    - Pick the best 200 oil wells from these 500 points, based on the predicted revenue.\n",
    "    - Calculate the profit of the 200 oil wells based on the true values of production volume.\n",
    "    - Perform a sanity check to assess the performance of the ML models.\n"
   ]
  },
  {
   "cell_type": "markdown",
   "metadata": {},
   "source": [
    "### Code"
   ]
  },
  {
   "cell_type": "code",
   "execution_count": 123,
   "metadata": {},
   "outputs": [
    {
     "name": "stdout",
     "output_type": "stream",
     "text": [
      "Cost per well: 500,000 USD\n",
      "Each well must produce at least 111.11 thousand barrels on average to pay for itself (500,000 USD)\n",
      "The average production of Region 1 is 92.50 thousand of barrels (416,250 USD) \n",
      "The average production of Region 2 is 68.82 thousand of barrels (309,712 USD) \n",
      "The average production of Region 3 is 95.00 thousand of barrels (427,500 USD) \n"
     ]
    }
   ],
   "source": [
    "cost_per_well = 100 * 10**6 / 200\n",
    "barrels_to_pay_itself = cost_per_well / 4.5\n",
    "production_to_pay_itself = barrels_to_pay_itself / 1000\n",
    "\n",
    "print(f'Cost per well: {int(cost_per_well):,} USD')\n",
    "print(f'Each well must produce at least {production_to_pay_itself:.2f} thousand barrels on average to pay for itself ({production_to_pay_itself*4500:,.0f} USD)')\n",
    "for i in range(3):\n",
    "    print(f'The average production of Region {i+1} is {df[i][\"product\"].mean():.2f} thousand of barrels ({df[i][\"product\"].mean()*4500:,.0f} USD) ')"
   ]
  },
  {
   "cell_type": "code",
   "execution_count": 124,
   "metadata": {},
   "outputs": [],
   "source": [
    "def revenue(wells, quantity):\n",
    "    profit = wells[:quantity].sum() * 4500\n",
    "    return profit"
   ]
  },
  {
   "cell_type": "code",
   "execution_count": 125,
   "metadata": {},
   "outputs": [
    {
     "data": {
      "image/png": "[encoded data removed]",
      "text/plain": [
       "<Figure size 720x360 with 1 Axes>"
      ]
     },
     "metadata": {
      "needs_background": "light"
     },
     "output_type": "display_data"
    },
    {
     "name": "stdout",
     "output_type": "stream",
     "text": [
      "Average profit using ML model : 4,158,585.55 USD (as opposed to average profit of 2,739,406.92 USD by picking based on f2)\n",
      "Average well production using ML model is: 115.73 thousand barrels\n",
      "Risk of losses by using ML model is 5.30% (as opposed to  16.20% by picking based on f2)\n",
      "Confidence interval of revenue by using ML model is: 99,363,051.78 USD to 108,978,791.97 USD\n"
     ]
    },
    {
     "data": {
      "image/png": "[encoded data removed]",
      "text/plain": [
       "<Figure size 720x360 with 1 Axes>"
      ]
     },
     "metadata": {
      "needs_background": "light"
     },
     "output_type": "display_data"
    },
    {
     "name": "stdout",
     "output_type": "stream",
     "text": [
      "Average profit using ML model : 4,459,496.22 USD (as opposed to average profit of 4,247,086.93 USD by picking based on f2)\n",
      "Average well production using ML model is: 116.07 thousand barrels\n",
      "Risk of losses by using ML model is 1.80% (as opposed to  2.00% by picking based on f2)\n",
      "Confidence interval of revenue by using ML model is: 100,509,860.96 USD to 108,394,588.92 USD\n"
     ]
    },
    {
     "data": {
      "image/png": "[encoded data removed]",
      "text/plain": [
       "<Figure size 720x360 with 1 Axes>"
      ]
     },
     "metadata": {
      "needs_background": "light"
     },
     "output_type": "display_data"
    },
    {
     "name": "stdout",
     "output_type": "stream",
     "text": [
      "Average profit using ML model : 3,672,658.84 USD (as opposed to average profit of 3,657,949.81 USD by picking based on f2)\n",
      "Average well production using ML model is: 115.19 thousand barrels\n",
      "Risk of losses by using ML model is 7.30% (as opposed to  7.70% by picking based on f2)\n",
      "Confidence interval of revenue by using ML model is: 98,464,434.74 USD to 108,843,245.73 USD\n"
     ]
    }
   ],
   "source": [
    "state = np.random.RandomState(1995)\n",
    "\n",
    "for j in range(3):\n",
    "    values = []\n",
    "    values2 = [] \n",
    "    for i in range(1000):\n",
    "        subsample = df[j].sample(n=500, replace=True, random_state=state)\n",
    "        predict = linear_model[j].predict(subsample[['f0', 'f1', 'f2']])\n",
    "        predict = pd.Series(predict)\n",
    "        predict.index = subsample.index\n",
    "        predict = predict.sort_values(ascending=False)\n",
    "        values.append(\n",
    "            revenue(\n",
    "                df[j].loc[predict.index]['product'],\n",
    "                200\n",
    "                )\n",
    "            )\n",
    "        values2.append(\n",
    "            revenue(\n",
    "                subsample.sort_values(by='f2', ascending=False)['product'],\n",
    "                200\n",
    "            )\n",
    "        )\n",
    "    \n",
    "    values = pd.Series(values)\n",
    "    values2 = pd.Series(values2)\n",
    "    \n",
    "    plt.figure(figsize=(10,5))\n",
    "    plt.hist(values, bins=100, alpha=0.5)\n",
    "    plt.hist(values2, bins=100, alpha=0.5)\n",
    "    plt.title(f'Histogram of revenue for Region {j+1}, pick based on ML or f2')\n",
    "    plt.legend(['Picks by model', 'Picks by f2'])\n",
    "    plt.show()\n",
    "    \n",
    "    print(f'Average profit using ML model : {values.mean() - 100000000:,.2f} USD (as opposed to average profit of {values2.mean() - 100000000:,.2f} USD by picking based on f2)')\n",
    "    print(f'Average well production using ML model is: {values.mean()/4500/200:,.2f} thousand barrels')\n",
    "    print(f'Risk of losses by using ML model is {values.where(values < 10**8).dropna().shape[0]/values.shape[0]:.2%} (as opposed to  {values2.where(values2 < 10**8).dropna().shape[0]/values2.shape[0]:.2%} by picking based on f2)')\n",
    "    print(f'Confidence interval of revenue by using ML model is: {values.quantile(0.025):,.2f} USD to {values.quantile(0.975):,.2f} USD')\n"
   ]
  },
  {
   "cell_type": "markdown",
   "metadata": {},
   "source": [
    "*Graph Analysis*\n",
    "\n",
    "The main findings of this simulation are listed below:\n",
    "\n",
    "    - Picking oill wells at random from the 500 points for each region will generally result in big losses.\n",
    "    - The linear model predictions are mainly based on values of feature \"f2\".\n",
    "    - Regions 1 and 3 have oil wells with higher values for production, but they are harder to identify.\n",
    "    - Region 2 has the bet compromise of value with lower risks of losses. Therefore, it is the best region for exploration.\n",
    "    - The risks of losses are only 1.80% for Region 2, while risks are much higher for other Regions."
   ]
  },
  {
   "cell_type": "markdown",
   "metadata": {},
   "source": [
    "### Results"
   ]
  },
  {
   "cell_type": "markdown",
   "metadata": {},
   "source": [
    "In this section, we have calculated target values of production for wells, and compared to the building costs. It turns out that identifying the best well to build based on the provided features is not an easy task for the model, and the results do not provide the best possible profits. However, it is possible to guarantee a low risk of losses for the company by picking Region 2 and applying the linear model to the 500 positions in the study cases. An average profit of approximately 4,5 million USD was calculated for the 200 wells with highest estimated production. This is not a high profit value, but it is still a good estimate for the company to ensure safety a profitable operation. The other regions show high probability of losses without better models, which could be achieved by providing better data regarding features of wells."
   ]
  },
  {
   "cell_type": "markdown",
   "metadata": {},
   "source": [
    "## Conclusion"
   ]
  },
  {
   "cell_type": "markdown",
   "metadata": {},
   "source": [
    "In this study, a linear regression model was trained for each of three regions in order to pick the best region for oil exploration. They will be used to predict the best positions to place oil wells from 500 point of a study case. Three features for each region were provided, with very different distributions for each region. None of these features had big issues regarding quality of the data, except for duplicates in well ids, which could happen to a number of logical reasons, including the same equipment being used in different conditions.\n",
    "\n",
    "The machine learning models were generated as linear models as per requirement. These models generally showed low scores for prediction, with exception of Region 2 which could achieve the best value of 1.0. Additionally, models for Region 1 and Region 3 showed mean absolute errors of 30 while the mean values of preidctions were 90. This suggests that these models are not very successful at predicting oil well production. On the other hand, Region 1 and Region 3 also show the best average production when compared to Region 2, although the specific wells that can achieve optimized results are not easy to identify. \n",
    "\n",
    "After creating a distribution of profit and calculating risks of losses, Region 2 performs better than the others with an average profit of about 4,5 million USD. Correlation of features and target in Region 2 is very high, such that using the f2 feature for prediction is a good choice. However, after calculating revenues for the 200 wellls by means of bootstrapping, the prediction model can achieve slightly better results than prediction based solely on feature f2. The same simulation shows that risks of losses are only 1.80% for Region 2, while risks are much higher for other Regions. These results require applying the model to identify the best oil wells to build.\n",
    "\n",
    "In conclusion, we could achieve an expected profit of approximately 4,5 million USD for the company, with confidence interval of 95% ranging from half a million USD to 8 million USD. Guaranteeing a very low risk of losses. This result should be used to go through a safe method to ensure profit when exploring oil wells. Simulations show that picking wells at random from the 500 points for each region will generally result in very big losses, and this practice is not advised. To provide better results, models could be improved by using more data of other possible features. In that way, exploration of Region 1 and Region 3 could be more advisable, since those regions have the best average production."
   ]
  }
 ],
 "metadata": {
  "ExecuteTimeLog": [
   {
    "duration": 1478,
    "start_time": "2021-11-19T03:49:05.405Z"
   },
   {
    "duration": 1827,
    "start_time": "2021-11-19T03:49:06.885Z"
   },
   {
    "duration": 1385,
    "start_time": "2021-11-19T03:49:07.330Z"
   },
   {
    "duration": 1381,
    "start_time": "2021-11-19T03:49:07.336Z"
   },
   {
    "duration": 1375,
    "start_time": "2021-11-19T03:49:07.343Z"
   },
   {
    "duration": 1369,
    "start_time": "2021-11-19T03:49:07.351Z"
   },
   {
    "duration": 1364,
    "start_time": "2021-11-19T03:49:07.358Z"
   },
   {
    "duration": 1353,
    "start_time": "2021-11-19T03:49:07.370Z"
   },
   {
    "duration": 1351,
    "start_time": "2021-11-19T03:49:07.373Z"
   },
   {
    "duration": 1350,
    "start_time": "2021-11-19T03:49:07.375Z"
   },
   {
    "duration": 1127,
    "start_time": "2021-11-19T03:49:07.600Z"
   },
   {
    "duration": 1121,
    "start_time": "2021-11-19T03:49:07.607Z"
   },
   {
    "duration": 1115,
    "start_time": "2021-11-19T03:49:07.615Z"
   },
   {
    "duration": 1110,
    "start_time": "2021-11-19T03:49:07.621Z"
   },
   {
    "duration": 1104,
    "start_time": "2021-11-19T03:49:07.628Z"
   },
   {
    "duration": 1099,
    "start_time": "2021-11-19T03:49:07.635Z"
   },
   {
    "duration": 1093,
    "start_time": "2021-11-19T03:49:07.642Z"
   },
   {
    "duration": 1088,
    "start_time": "2021-11-19T03:49:07.649Z"
   },
   {
    "duration": 1082,
    "start_time": "2021-11-19T03:49:07.656Z"
   },
   {
    "duration": 1074,
    "start_time": "2021-11-19T03:49:07.665Z"
   },
   {
    "duration": 1069,
    "start_time": "2021-11-19T03:49:07.672Z"
   },
   {
    "duration": 1067,
    "start_time": "2021-11-19T03:49:07.675Z"
   },
   {
    "duration": 875,
    "start_time": "2021-11-19T03:49:07.869Z"
   },
   {
    "duration": 866,
    "start_time": "2021-11-19T03:49:07.879Z"
   },
   {
    "duration": 860,
    "start_time": "2021-11-19T03:49:07.886Z"
   },
   {
    "duration": 855,
    "start_time": "2021-11-19T03:49:07.893Z"
   },
   {
    "duration": 848,
    "start_time": "2021-11-19T03:49:07.901Z"
   },
   {
    "duration": 843,
    "start_time": "2021-11-19T03:49:07.908Z"
   },
   {
    "duration": 842,
    "start_time": "2021-11-19T03:49:07.910Z"
   },
   {
    "duration": 840,
    "start_time": "2021-11-19T03:49:07.913Z"
   },
   {
    "duration": 843,
    "start_time": "2021-11-19T03:49:07.920Z"
   },
   {
    "duration": 1671,
    "start_time": "2021-11-19T03:49:41.385Z"
   },
   {
    "duration": 345,
    "start_time": "2021-11-19T03:50:08.339Z"
   },
   {
    "duration": 1764,
    "start_time": "2021-11-19T03:50:18.480Z"
   },
   {
    "duration": 4,
    "start_time": "2021-11-19T03:51:01.593Z"
   },
   {
    "duration": 326,
    "start_time": "2021-11-19T03:51:03.552Z"
   },
   {
    "duration": 225,
    "start_time": "2021-11-19T03:51:22.438Z"
   },
   {
    "duration": 29,
    "start_time": "2021-11-19T03:51:24.925Z"
   },
   {
    "duration": 58,
    "start_time": "2021-11-19T03:51:32.112Z"
   },
   {
    "duration": 11,
    "start_time": "2021-11-19T03:51:36.404Z"
   },
   {
    "duration": 5,
    "start_time": "2021-11-19T03:51:37.214Z"
   },
   {
    "duration": 5,
    "start_time": "2021-11-19T03:51:37.866Z"
   },
   {
    "duration": 60,
    "start_time": "2021-11-19T03:51:40.955Z"
   },
   {
    "duration": 7,
    "start_time": "2021-11-19T03:51:41.301Z"
   },
   {
    "duration": 4,
    "start_time": "2021-11-19T03:51:41.994Z"
   },
   {
    "duration": 14,
    "start_time": "2021-11-19T03:51:45.938Z"
   },
   {
    "duration": 40,
    "start_time": "2021-11-19T03:51:46.358Z"
   },
   {
    "duration": 24,
    "start_time": "2021-11-19T03:51:48.557Z"
   },
   {
    "duration": 13,
    "start_time": "2021-11-19T03:51:49.177Z"
   },
   {
    "duration": 2584,
    "start_time": "2021-11-19T03:51:49.703Z"
   },
   {
    "duration": 5,
    "start_time": "2021-11-19T03:51:56.488Z"
   },
   {
    "duration": 9,
    "start_time": "2021-11-19T03:51:59.514Z"
   },
   {
    "duration": 9,
    "start_time": "2021-11-19T03:52:04.588Z"
   },
   {
    "duration": 308,
    "start_time": "2021-11-19T03:52:08.407Z"
   },
   {
    "duration": 287,
    "start_time": "2021-11-19T03:52:23.175Z"
   },
   {
    "duration": 57,
    "start_time": "2021-11-19T03:52:31.601Z"
   },
   {
    "duration": 3,
    "start_time": "2021-11-19T03:52:37.023Z"
   },
   {
    "duration": 7,
    "start_time": "2021-11-19T03:52:37.700Z"
   },
   {
    "duration": 19,
    "start_time": "2021-11-19T03:52:39.130Z"
   },
   {
    "duration": 60,
    "start_time": "2021-11-19T03:52:40.613Z"
   },
   {
    "duration": 2792,
    "start_time": "2021-11-19T03:52:41.257Z"
   },
   {
    "duration": 4811,
    "start_time": "2021-11-19T03:52:47.288Z"
   },
   {
    "duration": 206,
    "start_time": "2021-11-19T03:52:55.641Z"
   },
   {
    "duration": 13,
    "start_time": "2021-11-19T03:53:02.281Z"
   },
   {
    "duration": 14,
    "start_time": "2021-11-19T03:53:03.383Z"
   },
   {
    "duration": 19,
    "start_time": "2021-11-19T03:53:03.399Z"
   },
   {
    "duration": 12,
    "start_time": "2021-11-19T03:53:05.129Z"
   },
   {
    "duration": 23,
    "start_time": "2021-11-19T03:53:07.430Z"
   },
   {
    "duration": 2,
    "start_time": "2021-11-19T03:53:08.849Z"
   },
   {
    "duration": 1147,
    "start_time": "2021-11-19T03:54:07.948Z"
   },
   {
    "duration": 182,
    "start_time": "2021-11-19T03:54:09.097Z"
   },
   {
    "duration": 19,
    "start_time": "2021-11-19T03:54:09.282Z"
   },
   {
    "duration": 48,
    "start_time": "2021-11-19T03:54:09.303Z"
   },
   {
    "duration": 22,
    "start_time": "2021-11-19T03:54:09.353Z"
   },
   {
    "duration": 6,
    "start_time": "2021-11-19T03:54:09.377Z"
   },
   {
    "duration": 6,
    "start_time": "2021-11-19T03:54:09.385Z"
   },
   {
    "duration": 87,
    "start_time": "2021-11-19T03:54:09.393Z"
   },
   {
    "duration": 7,
    "start_time": "2021-11-19T03:54:09.483Z"
   },
   {
    "duration": 6,
    "start_time": "2021-11-19T03:54:09.492Z"
   },
   {
    "duration": 16,
    "start_time": "2021-11-19T03:54:09.499Z"
   },
   {
    "duration": 58,
    "start_time": "2021-11-19T03:54:09.517Z"
   },
   {
    "duration": 23,
    "start_time": "2021-11-19T03:54:09.577Z"
   },
   {
    "duration": 12,
    "start_time": "2021-11-19T03:54:09.602Z"
   },
   {
    "duration": 2621,
    "start_time": "2021-11-19T03:54:09.616Z"
   },
   {
    "duration": 5,
    "start_time": "2021-11-19T03:54:12.239Z"
   },
   {
    "duration": 28,
    "start_time": "2021-11-19T03:54:12.245Z"
   },
   {
    "duration": 10,
    "start_time": "2021-11-19T03:54:12.275Z"
   },
   {
    "duration": 68,
    "start_time": "2021-11-19T03:54:12.287Z"
   },
   {
    "duration": 6,
    "start_time": "2021-11-19T03:54:12.357Z"
   },
   {
    "duration": 16,
    "start_time": "2021-11-19T03:54:12.365Z"
   },
   {
    "duration": 37,
    "start_time": "2021-11-19T03:54:12.382Z"
   },
   {
    "duration": 43,
    "start_time": "2021-11-19T03:54:12.421Z"
   },
   {
    "duration": 2275,
    "start_time": "2021-11-19T03:54:12.466Z"
   },
   {
    "duration": 3851,
    "start_time": "2021-11-19T03:54:14.743Z"
   },
   {
    "duration": 220,
    "start_time": "2021-11-19T03:54:18.596Z"
   },
   {
    "duration": 12,
    "start_time": "2021-11-19T03:54:18.819Z"
   },
   {
    "duration": 11,
    "start_time": "2021-11-19T03:54:18.833Z"
   },
   {
    "duration": 14,
    "start_time": "2021-11-19T03:54:18.863Z"
   },
   {
    "duration": 13,
    "start_time": "2021-11-19T03:54:18.879Z"
   },
   {
    "duration": 26,
    "start_time": "2021-11-19T03:54:18.894Z"
   },
   {
    "duration": 2,
    "start_time": "2021-11-19T03:54:18.922Z"
   },
   {
    "duration": 1115,
    "start_time": "2021-11-19T03:54:53.709Z"
   },
   {
    "duration": 179,
    "start_time": "2021-11-19T03:54:54.826Z"
   },
   {
    "duration": 18,
    "start_time": "2021-11-19T03:54:55.007Z"
   },
   {
    "duration": 45,
    "start_time": "2021-11-19T03:54:55.027Z"
   },
   {
    "duration": 12,
    "start_time": "2021-11-19T03:54:55.073Z"
   },
   {
    "duration": 5,
    "start_time": "2021-11-19T03:54:55.087Z"
   },
   {
    "duration": 5,
    "start_time": "2021-11-19T03:54:55.094Z"
   },
   {
    "duration": 79,
    "start_time": "2021-11-19T03:54:55.102Z"
   },
   {
    "duration": 7,
    "start_time": "2021-11-19T03:54:55.184Z"
   },
   {
    "duration": 8,
    "start_time": "2021-11-19T03:54:55.192Z"
   },
   {
    "duration": 15,
    "start_time": "2021-11-19T03:54:55.201Z"
   },
   {
    "duration": 62,
    "start_time": "2021-11-19T03:54:55.217Z"
   },
   {
    "duration": 23,
    "start_time": "2021-11-19T03:54:55.281Z"
   },
   {
    "duration": 11,
    "start_time": "2021-11-19T03:54:55.305Z"
   },
   {
    "duration": 2538,
    "start_time": "2021-11-19T03:54:55.317Z"
   },
   {
    "duration": 7,
    "start_time": "2021-11-19T03:54:57.857Z"
   },
   {
    "duration": 11,
    "start_time": "2021-11-19T03:54:57.865Z"
   },
   {
    "duration": 8,
    "start_time": "2021-11-19T03:54:57.877Z"
   },
   {
    "duration": 77,
    "start_time": "2021-11-19T03:54:57.887Z"
   },
   {
    "duration": 2,
    "start_time": "2021-11-19T03:54:57.966Z"
   },
   {
    "duration": 30,
    "start_time": "2021-11-19T03:54:57.970Z"
   },
   {
    "duration": 58,
    "start_time": "2021-11-19T03:54:58.001Z"
   },
   {
    "duration": 201,
    "start_time": "2021-11-19T03:54:58.062Z"
   },
   {
    "duration": 2899,
    "start_time": "2021-11-19T03:54:58.265Z"
   },
   {
    "duration": 5079,
    "start_time": "2021-11-19T03:55:01.166Z"
   },
   {
    "duration": 216,
    "start_time": "2021-11-19T03:55:06.247Z"
   },
   {
    "duration": 11,
    "start_time": "2021-11-19T03:55:06.464Z"
   },
   {
    "duration": 12,
    "start_time": "2021-11-19T03:55:06.477Z"
   },
   {
    "duration": 11,
    "start_time": "2021-11-19T03:55:06.490Z"
   },
   {
    "duration": 11,
    "start_time": "2021-11-19T03:55:06.503Z"
   },
   {
    "duration": 56,
    "start_time": "2021-11-19T03:55:06.515Z"
   },
   {
    "duration": 2,
    "start_time": "2021-11-19T03:55:06.573Z"
   },
   {
    "duration": 1117,
    "start_time": "2021-11-19T03:55:25.376Z"
   },
   {
    "duration": 175,
    "start_time": "2021-11-19T03:55:26.495Z"
   },
   {
    "duration": 20,
    "start_time": "2021-11-19T03:55:26.673Z"
   },
   {
    "duration": 47,
    "start_time": "2021-11-19T03:55:26.695Z"
   },
   {
    "duration": 27,
    "start_time": "2021-11-19T03:55:26.744Z"
   },
   {
    "duration": 19,
    "start_time": "2021-11-19T03:55:26.772Z"
   },
   {
    "duration": 22,
    "start_time": "2021-11-19T03:55:26.792Z"
   },
   {
    "duration": 61,
    "start_time": "2021-11-19T03:55:26.815Z"
   },
   {
    "duration": 6,
    "start_time": "2021-11-19T03:55:26.879Z"
   },
   {
    "duration": 9,
    "start_time": "2021-11-19T03:55:26.887Z"
   },
   {
    "duration": 26,
    "start_time": "2021-11-19T03:55:26.898Z"
   },
   {
    "duration": 44,
    "start_time": "2021-11-19T03:55:26.925Z"
   },
   {
    "duration": 31,
    "start_time": "2021-11-19T03:55:26.971Z"
   },
   {
    "duration": 11,
    "start_time": "2021-11-19T03:55:27.004Z"
   },
   {
    "duration": 2713,
    "start_time": "2021-11-19T03:55:27.017Z"
   },
   {
    "duration": 4,
    "start_time": "2021-11-19T03:55:29.732Z"
   },
   {
    "duration": 26,
    "start_time": "2021-11-19T03:55:29.738Z"
   },
   {
    "duration": 15,
    "start_time": "2021-11-19T03:55:29.766Z"
   },
   {
    "duration": 81,
    "start_time": "2021-11-19T03:55:29.782Z"
   },
   {
    "duration": 3,
    "start_time": "2021-11-19T03:55:29.865Z"
   },
   {
    "duration": 18,
    "start_time": "2021-11-19T03:55:29.870Z"
   },
   {
    "duration": 45,
    "start_time": "2021-11-19T03:55:29.890Z"
   },
   {
    "duration": 135,
    "start_time": "2021-11-19T03:55:29.937Z"
   },
   {
    "duration": 2303,
    "start_time": "2021-11-19T03:55:30.164Z"
   },
   {
    "duration": 4905,
    "start_time": "2021-11-19T03:55:32.468Z"
   },
   {
    "duration": 233,
    "start_time": "2021-11-19T03:55:37.374Z"
   },
   {
    "duration": 11,
    "start_time": "2021-11-19T03:55:37.610Z"
   },
   {
    "duration": 46,
    "start_time": "2021-11-19T03:55:37.623Z"
   },
   {
    "duration": 51,
    "start_time": "2021-11-19T03:55:37.671Z"
   },
   {
    "duration": 38,
    "start_time": "2021-11-19T03:55:37.724Z"
   },
   {
    "duration": 70,
    "start_time": "2021-11-19T03:55:37.764Z"
   },
   {
    "duration": 17,
    "start_time": "2021-11-19T03:55:37.835Z"
   },
   {
    "duration": 1160,
    "start_time": "2021-11-19T03:56:20.246Z"
   },
   {
    "duration": 175,
    "start_time": "2021-11-19T03:56:21.408Z"
   },
   {
    "duration": 19,
    "start_time": "2021-11-19T03:56:21.585Z"
   },
   {
    "duration": 46,
    "start_time": "2021-11-19T03:56:21.606Z"
   },
   {
    "duration": 18,
    "start_time": "2021-11-19T03:56:21.654Z"
   },
   {
    "duration": 5,
    "start_time": "2021-11-19T03:56:21.673Z"
   },
   {
    "duration": 5,
    "start_time": "2021-11-19T03:56:21.679Z"
   },
   {
    "duration": 80,
    "start_time": "2021-11-19T03:56:21.687Z"
   },
   {
    "duration": 8,
    "start_time": "2021-11-19T03:56:21.770Z"
   },
   {
    "duration": 6,
    "start_time": "2021-11-19T03:56:21.780Z"
   },
   {
    "duration": 23,
    "start_time": "2021-11-19T03:56:21.788Z"
   },
   {
    "duration": 51,
    "start_time": "2021-11-19T03:56:21.813Z"
   },
   {
    "duration": 28,
    "start_time": "2021-11-19T03:56:21.866Z"
   },
   {
    "duration": 13,
    "start_time": "2021-11-19T03:56:21.896Z"
   },
   {
    "duration": 2580,
    "start_time": "2021-11-19T03:56:21.911Z"
   },
   {
    "duration": 5,
    "start_time": "2021-11-19T03:56:24.494Z"
   },
   {
    "duration": 9,
    "start_time": "2021-11-19T03:56:24.501Z"
   },
   {
    "duration": 8,
    "start_time": "2021-11-19T03:56:24.511Z"
   },
   {
    "duration": 83,
    "start_time": "2021-11-19T03:56:24.521Z"
   },
   {
    "duration": 3,
    "start_time": "2021-11-19T03:56:24.606Z"
   },
   {
    "duration": 7,
    "start_time": "2021-11-19T03:56:24.610Z"
   },
   {
    "duration": 19,
    "start_time": "2021-11-19T03:56:24.619Z"
   },
   {
    "duration": 130,
    "start_time": "2021-11-19T03:56:24.641Z"
   },
   {
    "duration": 2675,
    "start_time": "2021-11-19T03:56:24.863Z"
   },
   {
    "duration": 4852,
    "start_time": "2021-11-19T03:56:27.540Z"
   },
   {
    "duration": 228,
    "start_time": "2021-11-19T03:56:32.393Z"
   },
   {
    "duration": 11,
    "start_time": "2021-11-19T03:56:32.623Z"
   },
   {
    "duration": 22,
    "start_time": "2021-11-19T03:56:32.635Z"
   },
   {
    "duration": 27,
    "start_time": "2021-11-19T03:56:32.662Z"
   },
   {
    "duration": 31,
    "start_time": "2021-11-19T03:56:32.691Z"
   },
   {
    "duration": 33,
    "start_time": "2021-11-19T03:56:32.723Z"
   },
   {
    "duration": 22,
    "start_time": "2021-11-19T03:56:32.758Z"
   },
   {
    "duration": 1197,
    "start_time": "2021-11-19T03:59:57.027Z"
   },
   {
    "duration": 191,
    "start_time": "2021-11-19T03:59:58.226Z"
   },
   {
    "duration": 19,
    "start_time": "2021-11-19T03:59:58.419Z"
   },
   {
    "duration": 48,
    "start_time": "2021-11-19T03:59:58.440Z"
   },
   {
    "duration": 11,
    "start_time": "2021-11-19T03:59:58.490Z"
   },
   {
    "duration": 5,
    "start_time": "2021-11-19T03:59:58.502Z"
   },
   {
    "duration": 5,
    "start_time": "2021-11-19T03:59:58.509Z"
   },
   {
    "duration": 79,
    "start_time": "2021-11-19T03:59:58.515Z"
   },
   {
    "duration": 7,
    "start_time": "2021-11-19T03:59:58.597Z"
   },
   {
    "duration": 4,
    "start_time": "2021-11-19T03:59:58.606Z"
   },
   {
    "duration": 18,
    "start_time": "2021-11-19T03:59:58.612Z"
   },
   {
    "duration": 54,
    "start_time": "2021-11-19T03:59:58.632Z"
   },
   {
    "duration": 25,
    "start_time": "2021-11-19T03:59:58.687Z"
   },
   {
    "duration": 12,
    "start_time": "2021-11-19T03:59:58.713Z"
   },
   {
    "duration": 2661,
    "start_time": "2021-11-19T03:59:58.726Z"
   },
   {
    "duration": 5,
    "start_time": "2021-11-19T04:00:01.389Z"
   },
   {
    "duration": 37,
    "start_time": "2021-11-19T04:00:01.395Z"
   },
   {
    "duration": 26,
    "start_time": "2021-11-19T04:00:01.434Z"
   },
   {
    "duration": 80,
    "start_time": "2021-11-19T04:00:01.462Z"
   },
   {
    "duration": 4,
    "start_time": "2021-11-19T04:00:01.544Z"
   },
   {
    "duration": 33,
    "start_time": "2021-11-19T04:00:01.549Z"
   },
   {
    "duration": 34,
    "start_time": "2021-11-19T04:00:01.584Z"
   },
   {
    "duration": 157,
    "start_time": "2021-11-19T04:00:01.620Z"
   },
   {
    "duration": 2947,
    "start_time": "2021-11-19T04:00:01.779Z"
   },
   {
    "duration": 4804,
    "start_time": "2021-11-19T04:00:04.728Z"
   },
   {
    "duration": 211,
    "start_time": "2021-11-19T04:00:09.534Z"
   },
   {
    "duration": 21,
    "start_time": "2021-11-19T04:00:09.748Z"
   },
   {
    "duration": 22,
    "start_time": "2021-11-19T04:00:09.771Z"
   },
   {
    "duration": 21,
    "start_time": "2021-11-19T04:00:09.795Z"
   },
   {
    "duration": 63,
    "start_time": "2021-11-19T04:00:09.818Z"
   },
   {
    "duration": 36,
    "start_time": "2021-11-19T04:00:09.883Z"
   },
   {
    "duration": 32,
    "start_time": "2021-11-19T04:00:09.920Z"
   }
  ],
  "interpreter": {
   "hash": "ac58549e391d20381b1a26588b215b2d55fa392d44f90ad4f3113cc049903f1d"
  },
  "kernelspec": {
   "display_name": "Python 3",
   "language": "python",
   "name": "python3"
  },
  "language_info": {
   "codemirror_mode": {
    "name": "ipython",
    "version": 3
   },
   "file_extension": ".py",
   "mimetype": "text/x-python",
   "name": "python",
   "nbconvert_exporter": "python",
   "pygments_lexer": "ipython3",
   "version": "3.7.12"
  },
  "toc": {
   "base_numbering": 1,
   "nav_menu": {},
   "number_sections": true,
   "sideBar": true,
   "skip_h1_title": true,
   "title_cell": "Table of Contents",
   "title_sidebar": "Contents",
   "toc_cell": false,
   "toc_position": {},
   "toc_section_display": true,
   "toc_window_display": false
  }
 },
 "nbformat": 4,
 "nbformat_minor": 2
}
