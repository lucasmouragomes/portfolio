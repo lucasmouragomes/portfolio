{
 "cells": [
  {
   "cell_type": "code",
   "execution_count": 6,
   "metadata": {},
   "outputs": [
    {
     "name": "stdout",
     "output_type": "stream",
     "text": [
      "Difference between average purchase amounts: -0.7682000000000357\n",
      "p-value = 1.0\n",
      "Failed to reject null hypothesis: average purchase amount is unlikely to increase\n"
     ]
    }
   ],
   "source": [
    "import pandas as pd\n",
    "import numpy as np\n",
    "from numpy.random import RandomState\n",
    "\n",
    "# data for control group A\n",
    "samples_A = pd.Series([\n",
    "     98.24,  97.77,  95.56,  99.49, 101.4 , 105.35,  95.83,  93.02,\n",
    "    101.37,  95.66,  98.34, 100.75, 104.93,  97.  ,  95.46, 100.03,\n",
    "    102.34,  98.23,  97.05,  97.76,  98.63,  98.82,  99.51,  99.31,\n",
    "     98.58,  96.84,  93.71, 101.38, 100.6 , 103.68, 104.78, 101.51,\n",
    "    100.89, 102.27,  99.87,  94.83,  95.95, 105.2 ,  97.  ,  95.54,\n",
    "     98.38,  99.81, 103.34, 101.14, 102.19,  94.77,  94.74,  99.56,\n",
    "    102.  , 100.95, 102.19, 103.75, 103.65,  95.07, 103.53, 100.42,\n",
    "     98.09,  94.86, 101.47, 103.07, 100.15, 100.32, 100.89, 101.23,\n",
    "     95.95, 103.69, 100.09,  96.28,  96.11,  97.63,  99.45, 100.81,\n",
    "    102.18,  94.92,  98.89, 101.48, 101.29,  94.43, 101.55,  95.85,\n",
    "    100.16,  97.49, 105.17, 104.83, 101.9 , 100.56, 104.91,  94.17,\n",
    "    103.48, 100.55, 102.66, 100.62,  96.93, 102.67, 101.27,  98.56,\n",
    "    102.41, 100.69,  99.67, 100.99])\n",
    "\n",
    "# data for treatment group B\n",
    "samples_B = pd.Series([\n",
    "    101.67, 102.27,  97.01, 103.46, 100.76, 101.19,  99.11,  97.59,\n",
    "    101.01, 101.45,  94.8 , 101.55,  96.38,  99.03, 102.83,  97.32,\n",
    "     98.25,  97.17, 101.1 , 102.57, 104.59, 105.63,  98.93, 103.87,\n",
    "     98.48, 101.14, 102.24,  98.55, 105.61, 100.06,  99.  , 102.53,\n",
    "    101.56, 102.68, 103.26,  96.62,  99.48, 107.6 ,  99.87, 103.58,\n",
    "    105.05, 105.69,  94.52,  99.51,  99.81,  99.44,  97.35, 102.97,\n",
    "     99.77,  99.59, 102.12, 104.29,  98.31,  98.83,  96.83,  99.2 ,\n",
    "     97.88, 102.34, 102.04,  99.88,  99.69, 103.43, 100.71,  92.71,\n",
    "     99.99,  99.39,  99.19,  99.29, 100.34, 101.08, 100.29,  93.83,\n",
    "    103.63,  98.88, 105.36, 101.82, 100.86, 100.75,  99.4 ,  95.37,\n",
    "    107.96,  97.69, 102.17,  99.41,  98.97,  97.96,  98.31,  97.09,\n",
    "    103.92, 100.98, 102.76,  98.24,  97.  ,  98.99, 103.54,  99.72,\n",
    "    101.62, 100.62, 102.79, 104.19])\n",
    "\n",
    "# actual difference between the means in the groups\n",
    "AB_difference = samples_A.mean() - samples_B.mean()\n",
    "print(\"Difference between average purchase amounts:\", AB_difference)\n",
    "\n",
    "alpha = 0.05\n",
    "    \n",
    "state = np.random.RandomState(12345)\n",
    "\n",
    "bootstrap_samples = 1000\n",
    "count = 0\n",
    "for i in range(bootstrap_samples):\n",
    "    # concatenate samples\n",
    "    united_samples = pd.concat([samples_A, samples_B], axis=0, ignore_index=True)\n",
    "\n",
    "    # create subsample\n",
    "    state = RandomState(1995)\n",
    "    subsample = united_samples.sample(frac=1, replace=True, random_state=state)\n",
    "    \n",
    "    # split subsample in half\n",
    "    subsample_A = subsample[:len(samples_A)]\n",
    "    subsample_B = subsample[len(samples_A+1):]\n",
    "\n",
    "    # find the difference between the means\n",
    "    bootstrap_difference = subsample_A.mean() - subsample_B.mean()\n",
    "    \n",
    "    # if the difference is not less than actual difference, add \"1\" to the counter\n",
    "    if bootstrap_difference >= AB_difference:\n",
    "        count += 1\n",
    "\n",
    "# p-value is equal to the percentage of excess values\n",
    "pvalue = 1. * count / bootstrap_samples\n",
    "print('p-value =', pvalue)\n",
    "\n",
    "if pvalue < alpha:\n",
    "    print(\"Reject null hypothesis: average purchase amount is likely to increase\")\n",
    "else:\n",
    "    print(\"Failed to reject null hypothesis: average purchase amount is unlikely to increase\")"
   ]
  },
  {
   "cell_type": "code",
   "execution_count": 78,
   "metadata": {},
   "outputs": [
    {
     "name": "stdout",
     "output_type": "stream",
     "text": [
      "     0  1\n",
      "0  0.9  1\n",
      "1  0.8  0\n",
      "2  0.5  1\n",
      "3  0.3  0\n",
      "4  0.2  1\n",
      "5  0.1  0\n",
      "10\n"
     ]
    }
   ],
   "source": [
    "import pandas as pd\n",
    "\n",
    "def revenue(target, probabilities, count):\n",
    "    probs = probabilities.sort_values(ascending=False)\n",
    "    result = 0\n",
    "    probs = pd.concat([probs, target[probs.index]], axis=1).reset_index(drop=True)\n",
    "    for i in range(count):\n",
    "        result += int(probs.values[i, 1])\n",
    "    print(probs)\n",
    "    return 10 * result\n",
    "\n",
    "target = pd.Series([1,   1,   0,  0,   1,    0])\n",
    "probab = pd.Series([0.2, 0.9, 0.8, 0.3, 0.5, 0.1])\n",
    "\n",
    "res = revenue(target, probab, 2)\n",
    "\n",
    "print(res)"
   ]
  },
  {
   "cell_type": "code",
   "execution_count": 82,
   "metadata": {},
   "outputs": [
    {
     "name": "stdout",
     "output_type": "stream",
     "text": [
      "Average revenue: 212.83\n",
      "1% quantile: 80.0\n"
     ]
    }
   ],
   "source": [
    "import pandas as pd\n",
    "import numpy as np\n",
    "\n",
    "# open files\n",
    "# take '0' index to convert data to pd.Series\n",
    "target = pd.read_csv('../datasets/eng_target.csv')['0']\n",
    "probabilities = pd.read_csv('../datasets/eng_probabilites.csv')['0']\n",
    "\n",
    "def revenue(target, probabilities, count):\n",
    "    probs_sorted = probabilities.sort_values(ascending=False)\n",
    "    selected = target[probs_sorted.index][:count]\n",
    "    return 10 * selected.sum()\n",
    "\n",
    "state = np.random.RandomState(12345)\n",
    "    \n",
    "values = []\n",
    "for i in range(1000):\n",
    "    target_subsample = target.sample(frac=0.99, replace=True, random_state=state)\n",
    "    probs_subsample = probabilities[target_subsample.index]\n",
    "    values.append( revenue(target_subsample, probs_subsample, 25) )\n",
    "\n",
    "values = pd.Series(values)\n",
    "lower = values.quantile(0.01)\n",
    "\n",
    "mean = values.mean()\n",
    "print(\"Average revenue:\", mean)\n",
    "print(\"1% quantile:\", lower)"
   ]
  },
  {
   "cell_type": "code",
   "execution_count": 3,
   "metadata": {},
   "outputs": [
    {
     "name": "stdout",
     "output_type": "stream",
     "text": [
      "   age  sex  cp  trestbps  chol  fbs  restecg  thalach  exang  oldpeak  slope  \\\n",
      "0   50    1   0       150   243    0        0      128      0      2.6      1   \n",
      "1   55    0   1       135   250    0        0      161      0      1.4      1   \n",
      "2   54    1   0       140   239    0        1      160      0      1.2      2   \n",
      "3   59    1   3       178   270    0        0      145      0      4.2      0   \n",
      "4   70    1   2       160   269    0        1      112      1      2.9      1   \n",
      "\n",
      "   ca  thal  label_1  label_2  label_3  target  \n",
      "0   0     3        0        0        1       0  \n",
      "1   0     2        1        1        1       1  \n",
      "2   0     2        1        0        1       1  \n",
      "3   0     3        1        0        1       1  \n",
      "4   1     3        1        0        0       0  \n"
     ]
    }
   ],
   "source": [
    "import pandas as pd\n",
    "import numpy as np\n",
    "data = pd.read_csv('../datasets/heart_labeled.csv')\n",
    "\n",
    "data['target'] = np.floor(((data['label_1'] + data['label_2'] + data['label_3'])/2)).astype(int)\n",
    "\n",
    "print(data.head())"
   ]
  },
  {
   "cell_type": "code",
   "execution_count": 11,
   "metadata": {},
   "outputs": [
    {
     "name": "stdout",
     "output_type": "stream",
     "text": [
      "Average model quality score: 0.7689768976897691\n"
     ]
    }
   ],
   "source": [
    "import pandas as pd\n",
    "from sklearn.tree import DecisionTreeClassifier\n",
    "\n",
    "data = pd.read_csv('../datasets/heart.csv')\n",
    "features = data.drop(['target'], axis=1)\n",
    "target = data['target']\n",
    "\n",
    "scores = []\n",
    "\n",
    "# set the block size if there are only three of them\n",
    "sample_size = int(len(data)/3)\n",
    "\n",
    "for i in range(0, len(data), sample_size):\n",
    "    valid_indexes = range(i, i+sample_size)\n",
    "    train_indexes = [x for x in range(len(data)) if x not in valid_indexes]\n",
    "    \n",
    "\t# Split variables features and target into samples features_train, target_train, features_valid, target_valid\n",
    "    target_valid = data.loc[valid_indexes, 'target']\n",
    "    features_valid = data.loc[valid_indexes, :].drop(['target'], axis=1)\n",
    "    \n",
    "    target_train = data.loc[train_indexes, 'target']\n",
    "    features_train = data.loc[train_indexes, :].drop(['target'], axis=1)\n",
    "\n",
    "    model = DecisionTreeClassifier(random_state=0)\n",
    "    model = model.fit(features_train, target_train)\n",
    "    score = model.score(features_valid, target_valid)\n",
    "    \n",
    "    scores.append(score)\n",
    " \n",
    "final_score = np.mean(scores) \n",
    "print('Average model quality score:', final_score)"
   ]
  },
  {
   "cell_type": "code",
   "execution_count": 13,
   "metadata": {},
   "outputs": [
    {
     "name": "stdout",
     "output_type": "stream",
     "text": [
      "Average model evaluation score: 0.7689768976897691\n"
     ]
    }
   ],
   "source": [
    "import pandas as pd\n",
    "from sklearn.tree import DecisionTreeClassifier\n",
    "from sklearn.model_selection import cross_val_score\n",
    "\n",
    "data = pd.read_csv('../datasets/heart.csv')\n",
    "features = data.drop(['target'], axis=1)\n",
    "target = data['target']\n",
    "\n",
    "model = DecisionTreeClassifier(random_state=0)\n",
    "\n",
    "np.mean(cross_val_score(model, features, target, cv=10, scoring='accuracy'))\n",
    "\n",
    "print('Average model evaluation score:', final_score)"
   ]
  }
 ],
 "metadata": {
  "interpreter": {
   "hash": "cba03cc790b23ed8912e28b16cad2d00d30d0a02466e19605ebfcfa9a62ba785"
  },
  "kernelspec": {
   "display_name": "Python 3.7.12 64-bit ('praktikum_env': conda)",
   "language": "python",
   "name": "python3"
  },
  "language_info": {
   "codemirror_mode": {
    "name": "ipython",
    "version": 3
   },
   "file_extension": ".py",
   "mimetype": "text/x-python",
   "name": "python",
   "nbconvert_exporter": "python",
   "pygments_lexer": "ipython3",
   "version": "3.7.12"
  },
  "orig_nbformat": 4
 },
 "nbformat": 4,
 "nbformat_minor": 2
}
