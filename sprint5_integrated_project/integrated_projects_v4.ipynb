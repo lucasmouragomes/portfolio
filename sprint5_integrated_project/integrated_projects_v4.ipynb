{
 "cells": [
  {
   "cell_type": "markdown",
   "source": [
    "# Research on success rates of video games"
   ],
   "metadata": {}
  },
  {
   "cell_type": "markdown",
   "source": [
    "## Introduction\n",
    "\n",
    "The present document is a study on data of video games sales and critic reviews up until 2016, with the main objective of identifying patterns in sales around the world. This information will be used to promote advertising campaigns of 2017 with a better understanding of the current video game sales scenario.\n",
    "\n",
    "## Data Preprocess\n",
    "\n",
    "### Introduction\n",
    "\n",
    "The first step is to explore data and validate information. Our final objective is to delineate patterns between different platforms, genres and consumers.\n",
    "\n",
    "Data often comes with a few unpredicted issues, and these will be fixed in this preprocessing section. These can include missing values, artifacts and incorrect data types. Analysis is much easier when the data is standardized and categorized. At the end of this section, we expect to have data ready for analysis and the drawing of results.\n",
    "\n",
    "### Validating Data\n",
    "\n",
    "#### Objective\n",
    "\n",
    "In this subsection, we will take a first look at the data and the information available. It's important to make sure that the values are correctly loaded: numeric data should correctly be assigned as integer or float, corresponding to their values.\n",
    "\n",
    "\n",
    "#### Code"
   ],
   "metadata": {}
  },
  {
   "cell_type": "code",
   "execution_count": 94,
   "source": [
    "import pandas as pd\r\n",
    "import numpy as np\r\n",
    "import matplotlib.pyplot as plt\r\n",
    "import nltk\r\n",
    "import scipy.stats as st\r\n",
    "from scipy.stats import norm\r\n",
    "from scipy.stats.kde import gaussian_kde\r\n",
    "\r\n",
    "path_array = ['games.csv','/games.csv', '/datasets/games.csv', '../datasets/games.csv']\r\n",
    "\r\n",
    "for i in path_array:\r\n",
    "    try:\r\n",
    "        pd.read_csv(i, nrows=1)\r\n",
    "        CSVPATH = i\r\n",
    "    except:\r\n",
    "        pass\r\n",
    "\r\n",
    "print('Path found is', 'current folder' if CSVPATH == '' else CSVPATH)\r\n"
   ],
   "outputs": [
    {
     "output_type": "stream",
     "name": "stdout",
     "text": [
      "Path found is ../datasets/games.csv\n"
     ]
    }
   ],
   "metadata": {}
  },
  {
   "cell_type": "code",
   "execution_count": 95,
   "source": [
    "games = pd.read_csv(\r\n",
    "    CSVPATH\r\n",
    "    )\r\n",
    "\r\n",
    "games.info()\r\n",
    "games.head()"
   ],
   "outputs": [
    {
     "output_type": "stream",
     "name": "stdout",
     "text": [
      "<class 'pandas.core.frame.DataFrame'>\n",
      "RangeIndex: 16715 entries, 0 to 16714\n",
      "Data columns (total 11 columns):\n",
      " #   Column           Non-Null Count  Dtype  \n",
      "---  ------           --------------  -----  \n",
      " 0   Name             16713 non-null  object \n",
      " 1   Platform         16715 non-null  object \n",
      " 2   Year_of_Release  16446 non-null  float64\n",
      " 3   Genre            16713 non-null  object \n",
      " 4   NA_sales         16715 non-null  float64\n",
      " 5   EU_sales         16715 non-null  float64\n",
      " 6   JP_sales         16715 non-null  float64\n",
      " 7   Other_sales      16715 non-null  float64\n",
      " 8   Critic_Score     8137 non-null   float64\n",
      " 9   User_Score       10014 non-null  object \n",
      " 10  Rating           9949 non-null   object \n",
      "dtypes: float64(6), object(5)\n",
      "memory usage: 1.4+ MB\n"
     ]
    },
    {
     "output_type": "execute_result",
     "data": {
      "text/html": [
       "<div>\n",
       "<style scoped>\n",
       "    .dataframe tbody tr th:only-of-type {\n",
       "        vertical-align: middle;\n",
       "    }\n",
       "\n",
       "    .dataframe tbody tr th {\n",
       "        vertical-align: top;\n",
       "    }\n",
       "\n",
       "    .dataframe thead th {\n",
       "        text-align: right;\n",
       "    }\n",
       "</style>\n",
       "<table border=\"1\" class=\"dataframe\">\n",
       "  <thead>\n",
       "    <tr style=\"text-align: right;\">\n",
       "      <th></th>\n",
       "      <th>Name</th>\n",
       "      <th>Platform</th>\n",
       "      <th>Year_of_Release</th>\n",
       "      <th>Genre</th>\n",
       "      <th>NA_sales</th>\n",
       "      <th>EU_sales</th>\n",
       "      <th>JP_sales</th>\n",
       "      <th>Other_sales</th>\n",
       "      <th>Critic_Score</th>\n",
       "      <th>User_Score</th>\n",
       "      <th>Rating</th>\n",
       "    </tr>\n",
       "  </thead>\n",
       "  <tbody>\n",
       "    <tr>\n",
       "      <th>0</th>\n",
       "      <td>Wii Sports</td>\n",
       "      <td>Wii</td>\n",
       "      <td>2006.0</td>\n",
       "      <td>Sports</td>\n",
       "      <td>41.36</td>\n",
       "      <td>28.96</td>\n",
       "      <td>3.77</td>\n",
       "      <td>8.45</td>\n",
       "      <td>76.0</td>\n",
       "      <td>8</td>\n",
       "      <td>E</td>\n",
       "    </tr>\n",
       "    <tr>\n",
       "      <th>1</th>\n",
       "      <td>Super Mario Bros.</td>\n",
       "      <td>NES</td>\n",
       "      <td>1985.0</td>\n",
       "      <td>Platform</td>\n",
       "      <td>29.08</td>\n",
       "      <td>3.58</td>\n",
       "      <td>6.81</td>\n",
       "      <td>0.77</td>\n",
       "      <td>NaN</td>\n",
       "      <td>NaN</td>\n",
       "      <td>NaN</td>\n",
       "    </tr>\n",
       "    <tr>\n",
       "      <th>2</th>\n",
       "      <td>Mario Kart Wii</td>\n",
       "      <td>Wii</td>\n",
       "      <td>2008.0</td>\n",
       "      <td>Racing</td>\n",
       "      <td>15.68</td>\n",
       "      <td>12.76</td>\n",
       "      <td>3.79</td>\n",
       "      <td>3.29</td>\n",
       "      <td>82.0</td>\n",
       "      <td>8.3</td>\n",
       "      <td>E</td>\n",
       "    </tr>\n",
       "    <tr>\n",
       "      <th>3</th>\n",
       "      <td>Wii Sports Resort</td>\n",
       "      <td>Wii</td>\n",
       "      <td>2009.0</td>\n",
       "      <td>Sports</td>\n",
       "      <td>15.61</td>\n",
       "      <td>10.93</td>\n",
       "      <td>3.28</td>\n",
       "      <td>2.95</td>\n",
       "      <td>80.0</td>\n",
       "      <td>8</td>\n",
       "      <td>E</td>\n",
       "    </tr>\n",
       "    <tr>\n",
       "      <th>4</th>\n",
       "      <td>Pokemon Red/Pokemon Blue</td>\n",
       "      <td>GB</td>\n",
       "      <td>1996.0</td>\n",
       "      <td>Role-Playing</td>\n",
       "      <td>11.27</td>\n",
       "      <td>8.89</td>\n",
       "      <td>10.22</td>\n",
       "      <td>1.00</td>\n",
       "      <td>NaN</td>\n",
       "      <td>NaN</td>\n",
       "      <td>NaN</td>\n",
       "    </tr>\n",
       "  </tbody>\n",
       "</table>\n",
       "</div>"
      ],
      "text/plain": [
       "                       Name Platform  Year_of_Release         Genre  NA_sales  \\\n",
       "0                Wii Sports      Wii           2006.0        Sports     41.36   \n",
       "1         Super Mario Bros.      NES           1985.0      Platform     29.08   \n",
       "2            Mario Kart Wii      Wii           2008.0        Racing     15.68   \n",
       "3         Wii Sports Resort      Wii           2009.0        Sports     15.61   \n",
       "4  Pokemon Red/Pokemon Blue       GB           1996.0  Role-Playing     11.27   \n",
       "\n",
       "   EU_sales  JP_sales  Other_sales  Critic_Score User_Score Rating  \n",
       "0     28.96      3.77         8.45          76.0          8      E  \n",
       "1      3.58      6.81         0.77           NaN        NaN    NaN  \n",
       "2     12.76      3.79         3.29          82.0        8.3      E  \n",
       "3     10.93      3.28         2.95          80.0          8      E  \n",
       "4      8.89     10.22         1.00           NaN        NaN    NaN  "
      ]
     },
     "metadata": {},
     "execution_count": 95
    }
   ],
   "metadata": {}
  },
  {
   "cell_type": "code",
   "execution_count": 96,
   "source": [
    "cat_cols = [col for col in games if games[col].dtype == 'object']\r\n",
    "print(f'Cat columns are {cat_cols}')\r\n",
    "print('Correcting columns...')\r\n",
    "games['User_Score'].replace(to_replace='tbd', value=float('nan'), inplace=True)\r\n",
    "games['User_Score'] = pd.to_numeric(games['User_Score'])\r\n",
    "cat_cols = [col for col in games if games[col].dtype == 'object']\r\n",
    "print(f'Cat columns are now {cat_cols}', '\\n')"
   ],
   "outputs": [
    {
     "output_type": "stream",
     "name": "stdout",
     "text": [
      "Cat columns are ['Name', 'Platform', 'Genre', 'User_Score', 'Rating']\n",
      "Correcting columns...\n",
      "Cat columns are now ['Name', 'Platform', 'Genre', 'Rating'] \n",
      "\n"
     ]
    }
   ],
   "metadata": {}
  },
  {
   "cell_type": "code",
   "execution_count": 97,
   "source": [
    "float_cols = [col for col in games if games[col].dtype == 'float']\r\n",
    "print(f'Float columns are {float_cols}')\r\n",
    "print('Correcting columns...')\r\n",
    "games['Year_of_Release'] = games['Year_of_Release'].astype('Int64')\r\n",
    "float_cols = [col for col in games if games[col].dtype == 'float64']\r\n",
    "print(f'Float columns are now {float_cols}', '\\n')\r\n",
    "\r\n",
    "for col in float_cols:\r\n",
    "    games[col] = pd.to_numeric(games[col], downcast='float')\r\n",
    "\r\n",
    "games.info()"
   ],
   "outputs": [
    {
     "output_type": "stream",
     "name": "stdout",
     "text": [
      "Float columns are ['Year_of_Release', 'NA_sales', 'EU_sales', 'JP_sales', 'Other_sales', 'Critic_Score', 'User_Score']\n",
      "Correcting columns...\n",
      "Float columns are now ['NA_sales', 'EU_sales', 'JP_sales', 'Other_sales', 'Critic_Score', 'User_Score'] \n",
      "\n",
      "<class 'pandas.core.frame.DataFrame'>\n",
      "RangeIndex: 16715 entries, 0 to 16714\n",
      "Data columns (total 11 columns):\n",
      " #   Column           Non-Null Count  Dtype  \n",
      "---  ------           --------------  -----  \n",
      " 0   Name             16713 non-null  object \n",
      " 1   Platform         16715 non-null  object \n",
      " 2   Year_of_Release  16446 non-null  Int64  \n",
      " 3   Genre            16713 non-null  object \n",
      " 4   NA_sales         16715 non-null  float32\n",
      " 5   EU_sales         16715 non-null  float32\n",
      " 6   JP_sales         16715 non-null  float32\n",
      " 7   Other_sales      16715 non-null  float32\n",
      " 8   Critic_Score     8137 non-null   float32\n",
      " 9   User_Score       7590 non-null   float32\n",
      " 10  Rating           9949 non-null   object \n",
      "dtypes: Int64(1), float32(6), object(4)\n",
      "memory usage: 1.0+ MB\n"
     ]
    }
   ],
   "metadata": {
    "scrolled": true
   }
  },
  {
   "cell_type": "markdown",
   "source": [
    "#### Results\n",
    "\n",
    "The data has been loaded and we can check what information are available. For each entry we have:\n",
    "\n",
    "- Name of the game\n",
    "- Video game console\n",
    "- Year of release\n",
    "- Game genre\n",
    "- NA sales in USD million\n",
    "- EU sales in USD million\n",
    "- JP sales in USD million\n",
    "- Sales in the rest of the world in USD million\n",
    "- Critic score\n",
    "- User score\n",
    "- Age and content rating\n",
    "\n",
    "\n",
    "### Missing Values and Artifacts\n",
    "\n",
    "#### Introduction\n",
    "\n",
    "After loading the table, we will look for missing values and decide what to do with the empty values. Additionally, we will quickly search for wrong categories of game genres, platforms or content rating, as well as incorrect numeric data.\n",
    "\n",
    "#### Code"
   ],
   "metadata": {}
  },
  {
   "cell_type": "code",
   "execution_count": 98,
   "source": [
    "(games.isna().sum()/games.shape[0]*100).sort_values(ascending=False).round(decimals=4)"
   ],
   "outputs": [
    {
     "output_type": "execute_result",
     "data": {
      "text/plain": [
       "User_Score         54.5917\n",
       "Critic_Score       51.3192\n",
       "Rating             40.4786\n",
       "Year_of_Release     1.6093\n",
       "Name                0.0120\n",
       "Genre               0.0120\n",
       "Platform            0.0000\n",
       "NA_sales            0.0000\n",
       "EU_sales            0.0000\n",
       "JP_sales            0.0000\n",
       "Other_sales         0.0000\n",
       "dtype: float64"
      ]
     },
     "metadata": {},
     "execution_count": 98
    }
   ],
   "metadata": {}
  },
  {
   "cell_type": "code",
   "execution_count": 99,
   "source": [
    "display(games[ games['Name'].isna() ].head())\r\n",
    "games = games[ games['Name'].notna() ].reset_index(drop=True)"
   ],
   "outputs": [
    {
     "output_type": "display_data",
     "data": {
      "text/html": [
       "<div>\n",
       "<style scoped>\n",
       "    .dataframe tbody tr th:only-of-type {\n",
       "        vertical-align: middle;\n",
       "    }\n",
       "\n",
       "    .dataframe tbody tr th {\n",
       "        vertical-align: top;\n",
       "    }\n",
       "\n",
       "    .dataframe thead th {\n",
       "        text-align: right;\n",
       "    }\n",
       "</style>\n",
       "<table border=\"1\" class=\"dataframe\">\n",
       "  <thead>\n",
       "    <tr style=\"text-align: right;\">\n",
       "      <th></th>\n",
       "      <th>Name</th>\n",
       "      <th>Platform</th>\n",
       "      <th>Year_of_Release</th>\n",
       "      <th>Genre</th>\n",
       "      <th>NA_sales</th>\n",
       "      <th>EU_sales</th>\n",
       "      <th>JP_sales</th>\n",
       "      <th>Other_sales</th>\n",
       "      <th>Critic_Score</th>\n",
       "      <th>User_Score</th>\n",
       "      <th>Rating</th>\n",
       "    </tr>\n",
       "  </thead>\n",
       "  <tbody>\n",
       "    <tr>\n",
       "      <th>659</th>\n",
       "      <td>NaN</td>\n",
       "      <td>GEN</td>\n",
       "      <td>1993</td>\n",
       "      <td>NaN</td>\n",
       "      <td>1.78</td>\n",
       "      <td>0.53</td>\n",
       "      <td>0.00</td>\n",
       "      <td>0.08</td>\n",
       "      <td>NaN</td>\n",
       "      <td>NaN</td>\n",
       "      <td>NaN</td>\n",
       "    </tr>\n",
       "    <tr>\n",
       "      <th>14244</th>\n",
       "      <td>NaN</td>\n",
       "      <td>GEN</td>\n",
       "      <td>1993</td>\n",
       "      <td>NaN</td>\n",
       "      <td>0.00</td>\n",
       "      <td>0.00</td>\n",
       "      <td>0.03</td>\n",
       "      <td>0.00</td>\n",
       "      <td>NaN</td>\n",
       "      <td>NaN</td>\n",
       "      <td>NaN</td>\n",
       "    </tr>\n",
       "  </tbody>\n",
       "</table>\n",
       "</div>"
      ],
      "text/plain": [
       "      Name Platform  Year_of_Release Genre  NA_sales  EU_sales  JP_sales  \\\n",
       "659    NaN      GEN             1993   NaN      1.78      0.53      0.00   \n",
       "14244  NaN      GEN             1993   NaN      0.00      0.00      0.03   \n",
       "\n",
       "       Other_sales  Critic_Score  User_Score Rating  \n",
       "659           0.08           NaN         NaN    NaN  \n",
       "14244         0.00           NaN         NaN    NaN  "
      ]
     },
     "metadata": {}
    }
   ],
   "metadata": {}
  },
  {
   "cell_type": "code",
   "execution_count": 100,
   "source": [
    "print('A few games with missing year of release:')\r\n",
    "display(games[games['Year_of_Release'].isna()].head())\r\n",
    "print('')\r\n",
    "print('Count of missing year of release by genre:')\r\n",
    "games[games['Year_of_Release'].isna()]['Genre'].value_counts()"
   ],
   "outputs": [
    {
     "output_type": "stream",
     "name": "stdout",
     "text": [
      "A few games with missing year of release:\n"
     ]
    },
    {
     "output_type": "display_data",
     "data": {
      "text/html": [
       "<div>\n",
       "<style scoped>\n",
       "    .dataframe tbody tr th:only-of-type {\n",
       "        vertical-align: middle;\n",
       "    }\n",
       "\n",
       "    .dataframe tbody tr th {\n",
       "        vertical-align: top;\n",
       "    }\n",
       "\n",
       "    .dataframe thead th {\n",
       "        text-align: right;\n",
       "    }\n",
       "</style>\n",
       "<table border=\"1\" class=\"dataframe\">\n",
       "  <thead>\n",
       "    <tr style=\"text-align: right;\">\n",
       "      <th></th>\n",
       "      <th>Name</th>\n",
       "      <th>Platform</th>\n",
       "      <th>Year_of_Release</th>\n",
       "      <th>Genre</th>\n",
       "      <th>NA_sales</th>\n",
       "      <th>EU_sales</th>\n",
       "      <th>JP_sales</th>\n",
       "      <th>Other_sales</th>\n",
       "      <th>Critic_Score</th>\n",
       "      <th>User_Score</th>\n",
       "      <th>Rating</th>\n",
       "    </tr>\n",
       "  </thead>\n",
       "  <tbody>\n",
       "    <tr>\n",
       "      <th>183</th>\n",
       "      <td>Madden NFL 2004</td>\n",
       "      <td>PS2</td>\n",
       "      <td>&lt;NA&gt;</td>\n",
       "      <td>Sports</td>\n",
       "      <td>4.26</td>\n",
       "      <td>0.26</td>\n",
       "      <td>0.01</td>\n",
       "      <td>0.71</td>\n",
       "      <td>94.0</td>\n",
       "      <td>8.5</td>\n",
       "      <td>E</td>\n",
       "    </tr>\n",
       "    <tr>\n",
       "      <th>377</th>\n",
       "      <td>FIFA Soccer 2004</td>\n",
       "      <td>PS2</td>\n",
       "      <td>&lt;NA&gt;</td>\n",
       "      <td>Sports</td>\n",
       "      <td>0.59</td>\n",
       "      <td>2.36</td>\n",
       "      <td>0.04</td>\n",
       "      <td>0.51</td>\n",
       "      <td>84.0</td>\n",
       "      <td>6.4</td>\n",
       "      <td>E</td>\n",
       "    </tr>\n",
       "    <tr>\n",
       "      <th>456</th>\n",
       "      <td>LEGO Batman: The Videogame</td>\n",
       "      <td>Wii</td>\n",
       "      <td>&lt;NA&gt;</td>\n",
       "      <td>Action</td>\n",
       "      <td>1.80</td>\n",
       "      <td>0.97</td>\n",
       "      <td>0.00</td>\n",
       "      <td>0.29</td>\n",
       "      <td>74.0</td>\n",
       "      <td>7.9</td>\n",
       "      <td>E10+</td>\n",
       "    </tr>\n",
       "    <tr>\n",
       "      <th>475</th>\n",
       "      <td>wwe Smackdown vs. Raw 2006</td>\n",
       "      <td>PS2</td>\n",
       "      <td>&lt;NA&gt;</td>\n",
       "      <td>Fighting</td>\n",
       "      <td>1.57</td>\n",
       "      <td>1.02</td>\n",
       "      <td>0.00</td>\n",
       "      <td>0.41</td>\n",
       "      <td>NaN</td>\n",
       "      <td>NaN</td>\n",
       "      <td>NaN</td>\n",
       "    </tr>\n",
       "    <tr>\n",
       "      <th>609</th>\n",
       "      <td>Space Invaders</td>\n",
       "      <td>2600</td>\n",
       "      <td>&lt;NA&gt;</td>\n",
       "      <td>Shooter</td>\n",
       "      <td>2.36</td>\n",
       "      <td>0.14</td>\n",
       "      <td>0.00</td>\n",
       "      <td>0.03</td>\n",
       "      <td>NaN</td>\n",
       "      <td>NaN</td>\n",
       "      <td>NaN</td>\n",
       "    </tr>\n",
       "  </tbody>\n",
       "</table>\n",
       "</div>"
      ],
      "text/plain": [
       "                           Name Platform  Year_of_Release     Genre  NA_sales  \\\n",
       "183             Madden NFL 2004      PS2             <NA>    Sports      4.26   \n",
       "377            FIFA Soccer 2004      PS2             <NA>    Sports      0.59   \n",
       "456  LEGO Batman: The Videogame      Wii             <NA>    Action      1.80   \n",
       "475  wwe Smackdown vs. Raw 2006      PS2             <NA>  Fighting      1.57   \n",
       "609              Space Invaders     2600             <NA>   Shooter      2.36   \n",
       "\n",
       "     EU_sales  JP_sales  Other_sales  Critic_Score  User_Score Rating  \n",
       "183      0.26      0.01         0.71          94.0         8.5      E  \n",
       "377      2.36      0.04         0.51          84.0         6.4      E  \n",
       "456      0.97      0.00         0.29          74.0         7.9   E10+  \n",
       "475      1.02      0.00         0.41           NaN         NaN    NaN  \n",
       "609      0.14      0.00         0.03           NaN         NaN    NaN  "
      ]
     },
     "metadata": {}
    },
    {
     "output_type": "stream",
     "name": "stdout",
     "text": [
      "\n",
      "Count of missing year of release by genre:\n"
     ]
    },
    {
     "output_type": "execute_result",
     "data": {
      "text/plain": [
       "Action          62\n",
       "Sports          42\n",
       "Misc            29\n",
       "Shooter         27\n",
       "Racing          23\n",
       "Role-Playing    17\n",
       "Simulation      16\n",
       "Fighting        12\n",
       "Puzzle          11\n",
       "Platform        10\n",
       "Adventure       10\n",
       "Strategy        10\n",
       "Name: Genre, dtype: int64"
      ]
     },
     "metadata": {},
     "execution_count": 100
    }
   ],
   "metadata": {}
  },
  {
   "cell_type": "code",
   "execution_count": 101,
   "source": [
    "def get_year(row):\r\n",
    "    name = row['Name'].split()\r\n",
    "    for word in name:\r\n",
    "        if word.isnumeric():\r\n",
    "            return int(word) - 1 if int(word) > 1980 else None\r\n",
    "    return None\r\n",
    "\r\n",
    "print('Count of missing values in year of release:', \r\n",
    "    games[games['Year_of_Release'].isna()]['Name'].count()\r\n",
    "    )\r\n",
    "\r\n",
    "games.loc[games['Year_of_Release'].isna(), 'Year_of_Release'] = games[games['Year_of_Release'].isna()].apply(get_year, axis=1)\r\n",
    "\r\n",
    "print('Count of missing values in year of release after filling:', \r\n",
    "    games[games['Year_of_Release'].isna()]['Name'].count()\r\n",
    "    )\r\n",
    "\r\n",
    "games = games[games['Year_of_Release'].notna()].reset_index(drop=True)"
   ],
   "outputs": [
    {
     "output_type": "stream",
     "name": "stdout",
     "text": [
      "Count of missing values in year of release: 269\n",
      "Count of missing values in year of release after filling: 254\n"
     ]
    }
   ],
   "metadata": {}
  },
  {
   "cell_type": "code",
   "execution_count": 102,
   "source": [
    "games['Year_of_Release'] = games['Year_of_Release'].astype('uint16')\r\n",
    "(games.isna().sum()/games.shape[0]*100).sort_values(ascending=False).round(decimals=4)"
   ],
   "outputs": [
    {
     "output_type": "execute_result",
     "data": {
      "text/plain": [
       "User_Score         54.6023\n",
       "Critic_Score       51.4308\n",
       "Rating             40.5918\n",
       "Name                0.0000\n",
       "Platform            0.0000\n",
       "Year_of_Release     0.0000\n",
       "Genre               0.0000\n",
       "NA_sales            0.0000\n",
       "EU_sales            0.0000\n",
       "JP_sales            0.0000\n",
       "Other_sales         0.0000\n",
       "dtype: float64"
      ]
     },
     "metadata": {},
     "execution_count": 102
    }
   ],
   "metadata": {}
  },
  {
   "cell_type": "code",
   "execution_count": 103,
   "source": [
    "display(\r\n",
    "    (\r\n",
    "        games[games['Rating'].isna()].groupby('Genre')['Name'].count()\r\n",
    "        /\r\n",
    "        games.groupby('Genre')['Name'].count()\r\n",
    "    ).sort_values(ascending=False)\r\n",
    ")\r\n",
    "\r\n",
    "display(\r\n",
    "    (\r\n",
    "        games[games['Rating'].isna()].groupby('Platform')['Name'].count().sort_values(ascending=False)\r\n",
    "        /\r\n",
    "        games.groupby('Platform')['Name'].count().sort_values(ascending=False)\r\n",
    "    ).sort_values(ascending=True).head(15)\r\n",
    ")\r\n",
    "\r\n",
    "display(\r\n",
    "    (\r\n",
    "        games.groupby('Genre')['Rating'].value_counts()\r\n",
    "    )\r\n",
    ")\r\n"
   ],
   "outputs": [
    {
     "output_type": "display_data",
     "data": {
      "text/plain": [
       "Genre\n",
       "Adventure       0.659706\n",
       "Strategy        0.506686\n",
       "Misc            0.499128\n",
       "Fighting        0.484487\n",
       "Role-Playing    0.480081\n",
       "Puzzle          0.409490\n",
       "Platform        0.361048\n",
       "Sports          0.358222\n",
       "Action          0.351073\n",
       "Simulation      0.347725\n",
       "Racing          0.302685\n",
       "Shooter         0.231481\n",
       "Name: Name, dtype: float64"
      ]
     },
     "metadata": {}
    },
    {
     "output_type": "display_data",
     "data": {
      "text/plain": [
       "Platform\n",
       "XB      0.110422\n",
       "GC      0.156538\n",
       "X360    0.165316\n",
       "PC      0.208986\n",
       "Wii     0.240280\n",
       "XOne    0.246964\n",
       "PS3     0.284074\n",
       "WiiU    0.285714\n",
       "PS2     0.315370\n",
       "PS4     0.349490\n",
       "GBA     0.366215\n",
       "DS      0.408577\n",
       "PSP     0.550251\n",
       "3DS     0.564453\n",
       "PSV     0.650350\n",
       "Name: Name, dtype: float64"
      ]
     },
     "metadata": {}
    },
    {
     "output_type": "display_data",
     "data": {
      "text/plain": [
       "Genre         Rating\n",
       "Action        T          670\n",
       "              M          596\n",
       "              E10+       468\n",
       "              E          410\n",
       "              AO           1\n",
       "              EC           1\n",
       "Adventure     E          159\n",
       "              T          114\n",
       "              M           98\n",
       "              E10+        67\n",
       "              EC           2\n",
       "Fighting      T          357\n",
       "              M           48\n",
       "              E10+        19\n",
       "              E            8\n",
       "Misc          E          449\n",
       "              T          228\n",
       "              E10+       166\n",
       "              M           13\n",
       "              EC           5\n",
       "              K-A          1\n",
       "Platform      E          354\n",
       "              E10+       141\n",
       "              T           63\n",
       "              M            3\n",
       "Puzzle        E          284\n",
       "              E10+        42\n",
       "              T           10\n",
       "Racing        E          577\n",
       "              T          167\n",
       "              E10+        95\n",
       "              M           18\n",
       "Role-Playing  T          415\n",
       "              M          161\n",
       "              E10+       111\n",
       "              E           83\n",
       "Shooter       M          553\n",
       "              T          340\n",
       "              E10+        56\n",
       "              E           47\n",
       "Simulation    E          321\n",
       "              T          186\n",
       "              E10+        47\n",
       "              M            5\n",
       "Sports        E         1170\n",
       "              T          195\n",
       "              E10+       106\n",
       "              M           16\n",
       "Strategy      T          160\n",
       "              E10+        76\n",
       "              E           68\n",
       "              M           25\n",
       "              K-A          2\n",
       "              RP           1\n",
       "Name: Rating, dtype: int64"
      ]
     },
     "metadata": {}
    }
   ],
   "metadata": {}
  },
  {
   "cell_type": "markdown",
   "source": [
    "The data does not present enough evidence to correctly fill in missing values of rates, even when grouped by platform or genre. The missing values on rating will be filled as unknown."
   ],
   "metadata": {}
  },
  {
   "cell_type": "code",
   "execution_count": 104,
   "source": [
    "games['Rating'].fillna('Unknown', inplace=True)"
   ],
   "outputs": [],
   "metadata": {}
  },
  {
   "cell_type": "code",
   "execution_count": 105,
   "source": [
    "games.describe().round(decimals=2)"
   ],
   "outputs": [
    {
     "output_type": "execute_result",
     "data": {
      "text/html": [
       "<div>\n",
       "<style scoped>\n",
       "    .dataframe tbody tr th:only-of-type {\n",
       "        vertical-align: middle;\n",
       "    }\n",
       "\n",
       "    .dataframe tbody tr th {\n",
       "        vertical-align: top;\n",
       "    }\n",
       "\n",
       "    .dataframe thead th {\n",
       "        text-align: right;\n",
       "    }\n",
       "</style>\n",
       "<table border=\"1\" class=\"dataframe\">\n",
       "  <thead>\n",
       "    <tr style=\"text-align: right;\">\n",
       "      <th></th>\n",
       "      <th>Year_of_Release</th>\n",
       "      <th>NA_sales</th>\n",
       "      <th>EU_sales</th>\n",
       "      <th>JP_sales</th>\n",
       "      <th>Other_sales</th>\n",
       "      <th>Critic_Score</th>\n",
       "      <th>User_Score</th>\n",
       "    </tr>\n",
       "  </thead>\n",
       "  <tbody>\n",
       "    <tr>\n",
       "      <th>count</th>\n",
       "      <td>16459.00</td>\n",
       "      <td>16459.00</td>\n",
       "      <td>16459.00</td>\n",
       "      <td>16459.00</td>\n",
       "      <td>16459.00</td>\n",
       "      <td>7994.00</td>\n",
       "      <td>7472.00</td>\n",
       "    </tr>\n",
       "    <tr>\n",
       "      <th>mean</th>\n",
       "      <td>2006.48</td>\n",
       "      <td>0.26</td>\n",
       "      <td>0.15</td>\n",
       "      <td>0.08</td>\n",
       "      <td>0.05</td>\n",
       "      <td>69.00</td>\n",
       "      <td>7.13</td>\n",
       "    </tr>\n",
       "    <tr>\n",
       "      <th>std</th>\n",
       "      <td>5.87</td>\n",
       "      <td>0.82</td>\n",
       "      <td>0.51</td>\n",
       "      <td>0.31</td>\n",
       "      <td>0.19</td>\n",
       "      <td>13.92</td>\n",
       "      <td>1.50</td>\n",
       "    </tr>\n",
       "    <tr>\n",
       "      <th>min</th>\n",
       "      <td>1980.00</td>\n",
       "      <td>0.00</td>\n",
       "      <td>0.00</td>\n",
       "      <td>0.00</td>\n",
       "      <td>0.00</td>\n",
       "      <td>13.00</td>\n",
       "      <td>0.00</td>\n",
       "    </tr>\n",
       "    <tr>\n",
       "      <th>25%</th>\n",
       "      <td>2003.00</td>\n",
       "      <td>0.00</td>\n",
       "      <td>0.00</td>\n",
       "      <td>0.00</td>\n",
       "      <td>0.00</td>\n",
       "      <td>60.00</td>\n",
       "      <td>6.40</td>\n",
       "    </tr>\n",
       "    <tr>\n",
       "      <th>50%</th>\n",
       "      <td>2007.00</td>\n",
       "      <td>0.08</td>\n",
       "      <td>0.02</td>\n",
       "      <td>0.00</td>\n",
       "      <td>0.01</td>\n",
       "      <td>71.00</td>\n",
       "      <td>7.50</td>\n",
       "    </tr>\n",
       "    <tr>\n",
       "      <th>75%</th>\n",
       "      <td>2010.00</td>\n",
       "      <td>0.24</td>\n",
       "      <td>0.11</td>\n",
       "      <td>0.04</td>\n",
       "      <td>0.03</td>\n",
       "      <td>79.00</td>\n",
       "      <td>8.20</td>\n",
       "    </tr>\n",
       "    <tr>\n",
       "      <th>max</th>\n",
       "      <td>2016.00</td>\n",
       "      <td>41.36</td>\n",
       "      <td>28.96</td>\n",
       "      <td>10.22</td>\n",
       "      <td>10.57</td>\n",
       "      <td>98.00</td>\n",
       "      <td>9.70</td>\n",
       "    </tr>\n",
       "  </tbody>\n",
       "</table>\n",
       "</div>"
      ],
      "text/plain": [
       "       Year_of_Release  NA_sales  EU_sales  JP_sales  Other_sales  \\\n",
       "count         16459.00  16459.00  16459.00  16459.00     16459.00   \n",
       "mean           2006.48      0.26      0.15      0.08         0.05   \n",
       "std               5.87      0.82      0.51      0.31         0.19   \n",
       "min            1980.00      0.00      0.00      0.00         0.00   \n",
       "25%            2003.00      0.00      0.00      0.00         0.00   \n",
       "50%            2007.00      0.08      0.02      0.00         0.01   \n",
       "75%            2010.00      0.24      0.11      0.04         0.03   \n",
       "max            2016.00     41.36     28.96     10.22        10.57   \n",
       "\n",
       "       Critic_Score  User_Score  \n",
       "count       7994.00     7472.00  \n",
       "mean          69.00        7.13  \n",
       "std           13.92        1.50  \n",
       "min           13.00        0.00  \n",
       "25%           60.00        6.40  \n",
       "50%           71.00        7.50  \n",
       "75%           79.00        8.20  \n",
       "max           98.00        9.70  "
      ]
     },
     "metadata": {},
     "execution_count": 105
    }
   ],
   "metadata": {}
  },
  {
   "cell_type": "code",
   "execution_count": 106,
   "source": [
    "real_games = games\r\n",
    "\r\n",
    "critic_pivot = games.query('Critic_Score.notna()').pivot_table(index='Platform', columns='Genre', values='Critic_Score')\r\n",
    "\r\n",
    "def fill_critic(row):\r\n",
    "    if row['Platform'] in critic_pivot.index.values:\r\n",
    "        return critic_pivot.loc[row['Platform'], row['Genre']]\r\n",
    "    else:\r\n",
    "        return None\r\n",
    "\r\n",
    "games.loc[ games['Critic_Score'].isna() , 'Critic_Score'] = (\r\n",
    "    games.query('Critic_Score.isna()')\r\n",
    "                .apply(fill_critic, axis=1)\r\n",
    "               )\r\n",
    "\r\n",
    "user_pivot = games.query('User_Score.notna()').pivot_table(index='Platform', columns='Genre', values='User_Score')\r\n",
    "\r\n",
    "def fill_user(row):\r\n",
    "    if row['Platform'] in user_pivot.index.values:\r\n",
    "        return user_pivot.loc[row['Platform'], row['Genre']]\r\n",
    "    else:\r\n",
    "        return None\r\n",
    "    \r\n",
    "games.loc[ games['User_Score'].isna(), 'User_Score'] = (\r\n",
    "    games.query('User_Score.isna()')\r\n",
    "                .apply(fill_user, axis=1)\r\n",
    ")\r\n",
    "\r\n",
    "(games.isna().sum()/games.shape[0]*100).sort_values(ascending=False).round(decimals=4)"
   ],
   "outputs": [
    {
     "output_type": "execute_result",
     "data": {
      "text/plain": [
       "Critic_Score       6.7501\n",
       "User_Score         6.7076\n",
       "Name               0.0000\n",
       "Platform           0.0000\n",
       "Year_of_Release    0.0000\n",
       "Genre              0.0000\n",
       "NA_sales           0.0000\n",
       "EU_sales           0.0000\n",
       "JP_sales           0.0000\n",
       "Other_sales        0.0000\n",
       "Rating             0.0000\n",
       "dtype: float64"
      ]
     },
     "metadata": {},
     "execution_count": 106
    }
   ],
   "metadata": {}
  },
  {
   "cell_type": "code",
   "execution_count": 107,
   "source": [
    "games['Critic_Score'].fillna(games['Critic_Score'].mean(), inplace=True)\r\n",
    "games['User_Score'].fillna(games['User_Score'].mean(), inplace=True)\r\n",
    "\r\n",
    "(games.isna().sum()/games.shape[0]*100).sort_values(ascending=False).round(decimals=4)"
   ],
   "outputs": [
    {
     "output_type": "execute_result",
     "data": {
      "text/plain": [
       "Name               0.0\n",
       "Platform           0.0\n",
       "Year_of_Release    0.0\n",
       "Genre              0.0\n",
       "NA_sales           0.0\n",
       "EU_sales           0.0\n",
       "JP_sales           0.0\n",
       "Other_sales        0.0\n",
       "Critic_Score       0.0\n",
       "User_Score         0.0\n",
       "Rating             0.0\n",
       "dtype: float64"
      ]
     },
     "metadata": {},
     "execution_count": 107
    }
   ],
   "metadata": {}
  },
  {
   "cell_type": "code",
   "execution_count": 108,
   "source": [
    "print(f'Number of duplicated rows:', games[games.duplicated()].count().sum())"
   ],
   "outputs": [
    {
     "output_type": "stream",
     "name": "stdout",
     "text": [
      "Number of duplicated rows: 0\n"
     ]
    }
   ],
   "metadata": {}
  },
  {
   "cell_type": "code",
   "execution_count": 109,
   "source": [
    "games[cat_cols].describe()"
   ],
   "outputs": [
    {
     "output_type": "execute_result",
     "data": {
      "text/html": [
       "<div>\n",
       "<style scoped>\n",
       "    .dataframe tbody tr th:only-of-type {\n",
       "        vertical-align: middle;\n",
       "    }\n",
       "\n",
       "    .dataframe tbody tr th {\n",
       "        vertical-align: top;\n",
       "    }\n",
       "\n",
       "    .dataframe thead th {\n",
       "        text-align: right;\n",
       "    }\n",
       "</style>\n",
       "<table border=\"1\" class=\"dataframe\">\n",
       "  <thead>\n",
       "    <tr style=\"text-align: right;\">\n",
       "      <th></th>\n",
       "      <th>Name</th>\n",
       "      <th>Platform</th>\n",
       "      <th>Genre</th>\n",
       "      <th>Rating</th>\n",
       "    </tr>\n",
       "  </thead>\n",
       "  <tbody>\n",
       "    <tr>\n",
       "      <th>count</th>\n",
       "      <td>16459</td>\n",
       "      <td>16459</td>\n",
       "      <td>16459</td>\n",
       "      <td>16459</td>\n",
       "    </tr>\n",
       "    <tr>\n",
       "      <th>unique</th>\n",
       "      <td>11432</td>\n",
       "      <td>31</td>\n",
       "      <td>12</td>\n",
       "      <td>9</td>\n",
       "    </tr>\n",
       "    <tr>\n",
       "      <th>top</th>\n",
       "      <td>Need for Speed: Most Wanted</td>\n",
       "      <td>PS2</td>\n",
       "      <td>Action</td>\n",
       "      <td>Unknown</td>\n",
       "    </tr>\n",
       "    <tr>\n",
       "      <th>freq</th>\n",
       "      <td>12</td>\n",
       "      <td>2134</td>\n",
       "      <td>3307</td>\n",
       "      <td>6681</td>\n",
       "    </tr>\n",
       "  </tbody>\n",
       "</table>\n",
       "</div>"
      ],
      "text/plain": [
       "                               Name Platform   Genre   Rating\n",
       "count                         16459    16459   16459    16459\n",
       "unique                        11432       31      12        9\n",
       "top     Need for Speed: Most Wanted      PS2  Action  Unknown\n",
       "freq                             12     2134    3307     6681"
      ]
     },
     "metadata": {},
     "execution_count": 109
    }
   ],
   "metadata": {}
  },
  {
   "cell_type": "code",
   "execution_count": 110,
   "source": [
    "print('Unique platforms:', games['Platform'].unique(), '\\n')\r\n",
    "print('Unique genres:', games['Genre'].unique(), '\\n')\r\n",
    "print('Unique ratings:', games['Rating'].unique(), '\\n')\r\n"
   ],
   "outputs": [
    {
     "output_type": "stream",
     "name": "stdout",
     "text": [
      "Unique platforms: ['Wii' 'NES' 'GB' 'DS' 'X360' 'PS3' 'PS2' 'SNES' 'GBA' 'PS4' '3DS' 'N64'\n",
      " 'PS' 'XB' 'PC' '2600' 'PSP' 'XOne' 'WiiU' 'GC' 'GEN' 'DC' 'PSV' 'SAT'\n",
      " 'SCD' 'WS' 'NG' 'TG16' '3DO' 'GG' 'PCFX'] \n",
      "\n",
      "Unique genres: ['Sports' 'Platform' 'Racing' 'Role-Playing' 'Puzzle' 'Misc' 'Shooter'\n",
      " 'Simulation' 'Action' 'Fighting' 'Adventure' 'Strategy'] \n",
      "\n",
      "Unique ratings: ['E' 'Unknown' 'M' 'T' 'E10+' 'K-A' 'AO' 'EC' 'RP'] \n",
      "\n"
     ]
    }
   ],
   "metadata": {}
  },
  {
   "cell_type": "code",
   "execution_count": 111,
   "source": [
    "sales_cols = ['NA_sales', 'EU_sales', 'JP_sales', 'Other_sales']\r\n",
    "games['Total_sales'] = games[sales_cols].sum(axis=1)\r\n",
    "games.info()"
   ],
   "outputs": [
    {
     "output_type": "stream",
     "name": "stdout",
     "text": [
      "<class 'pandas.core.frame.DataFrame'>\n",
      "RangeIndex: 16459 entries, 0 to 16458\n",
      "Data columns (total 12 columns):\n",
      " #   Column           Non-Null Count  Dtype  \n",
      "---  ------           --------------  -----  \n",
      " 0   Name             16459 non-null  object \n",
      " 1   Platform         16459 non-null  object \n",
      " 2   Year_of_Release  16459 non-null  uint16 \n",
      " 3   Genre            16459 non-null  object \n",
      " 4   NA_sales         16459 non-null  float32\n",
      " 5   EU_sales         16459 non-null  float32\n",
      " 6   JP_sales         16459 non-null  float32\n",
      " 7   Other_sales      16459 non-null  float32\n",
      " 8   Critic_Score     16459 non-null  float32\n",
      " 9   User_Score       16459 non-null  float32\n",
      " 10  Rating           16459 non-null  object \n",
      " 11  Total_sales      16459 non-null  float32\n",
      "dtypes: float32(7), object(4), uint16(1)\n",
      "memory usage: 996.7+ KB\n"
     ]
    }
   ],
   "metadata": {}
  },
  {
   "cell_type": "markdown",
   "source": [
    "#### Results\n",
    "\n",
    "We found missing values in Genre, Name, Year of Release, Ratings and Scores, in ascending order of percentages. On the columns Genre and Name, only two entries had values missing for these columns, so these were deleted right away. The same has been done to entries with Year of Release column missing, as these comprised only 1.24% of total data. For missing ratings, we added the category 'Unknown'.\n",
    "\n",
    "As critic and user scores, these columns have more than 50% as missing values. Fortunately, that information is not vital for our research, as sales are the dependent variables of interest. Anyhow the strategy for filling in empty values was using the means considering platform and genre. Any values still left empty - because there weren't other games with the same platform and genre - were filled in with the mean of the whole columns independently on platform and genre. The means were used because the population does not present majority of significant outliers.\n",
    "\n",
    "The missing values could be related to information just not being available at the websites, as less known games do not get many User and Critic reviews. For the empty values in year of release, it seems like a technical failure.\n",
    "\n",
    "In the big picture, no big issues were found regarding incorrect data. However, there could still be artifacts when grouping data by categories. If there are any, they will be filtered out during data analysis. We added a column called Total sales to better visualize global sales for each game."
   ],
   "metadata": {}
  },
  {
   "cell_type": "markdown",
   "source": [
    "### Conclusion"
   ],
   "metadata": {}
  },
  {
   "cell_type": "markdown",
   "source": [
    "The preprocessing stage of the research concludes with loaded data of games ready to be analyzed, including optimized data types, filled in values and validation of outliers. The main issues found were regarding missing values. Rows with important data missing had low percentages, so these rows were deleted right away. Empty values for scores required a categorized strategy, and were mostly filled with mean values by platform and genre."
   ],
   "metadata": {}
  },
  {
   "cell_type": "markdown",
   "source": [
    "## Data Analysis\n",
    "\n",
    "### Introduction\n",
    "\n",
    "In this section, we ain to draw conclusions from the data. Some of these conclusions include identifying what part of the data should we focus our attention to - what years and platforms should we focus our attention to? - or come to findings about the most promising platforms and genres of games. Furthermore, we will take a look at how scores affect sales and check patterns regarding regions of sales.\n",
    "\n",
    "\n",
    "### Filtering the Data\n",
    "\n",
    "#### Objective\n",
    "\n",
    "Our data has information since 1980, and not all of the platforms are relevant for our research. We will look at lifespans of video game platforms and decide which are the most relevant platforms for 2017. To do that, we will check the average lifespan and analyze data starting from the average lifespan in years ago.\n",
    "\n",
    "#### Code"
   ],
   "metadata": {}
  },
  {
   "cell_type": "code",
   "execution_count": 112,
   "source": [
    "plt.boxplot(games['Year_of_Release'])\r\n",
    "plt.title('Boxplot of games by year of release')\r\n",
    "plt.ylabel('Year')\r\n",
    "plt.show()"
   ],
   "outputs": [
    {
     "output_type": "display_data",
     "data": {
      "image/png": "[encoded data removed]",
      "text/plain": [
       "<Figure size 432x288 with 1 Axes>"
      ]
     },
     "metadata": {
      "needs_background": "light"
     }
    }
   ],
   "metadata": {}
  },
  {
   "cell_type": "markdown",
   "source": [
    "In the graph above, we can see that there were few games produced before 1995. They can be regarded as outliers in our data, so we can filter them out right away. Our data is probably more consistent after 1995. We should first take a look at the lifespan of videogames to decide on what part of the data we will focus on."
   ],
   "metadata": {}
  },
  {
   "cell_type": "code",
   "execution_count": 113,
   "source": [
    "backup_games = games\r\n",
    "games = games.query('Year_of_Release > 1995')\r\n",
    "highest_sales_platforms = games.pivot_table(index='Platform', values='Total_sales', aggfunc='sum').sort_values(by='Total_sales', ascending=False).head(10).index.values\r\n",
    "\r\n",
    "games = games[ games['Platform'].isin(highest_sales_platforms) ]\r\n",
    "print('Top 10 platforms with highest sales:', highest_sales_platforms)"
   ],
   "outputs": [
    {
     "output_type": "stream",
     "name": "stdout",
     "text": [
      "Top 10 platforms with highest sales: ['PS2' 'X360' 'PS3' 'Wii' 'DS' 'PS' 'PS4' 'GBA' 'PSP' '3DS']\n"
     ]
    }
   ],
   "metadata": {}
  },
  {
   "cell_type": "code",
   "execution_count": 114,
   "source": [
    "bins = range(1996, 2017)\r\n",
    "platform_lifespan = {}\r\n",
    "distribution_data = []\r\n",
    "for col in highest_sales_platforms:\r\n",
    "    selected = games.query('Platform == @col')['Year_of_Release']\r\n",
    "    lifespan = selected.max() - selected.min()\r\n",
    "    platform_lifespan[col] = lifespan\r\n",
    "    selected = games.query('Platform == @col').groupby('Year_of_Release')['Name'].count()\r\n",
    "    distribution_data.append(selected)\r\n",
    "    \r\n",
    "platform_lifespan = pd.Series(platform_lifespan, name='Lifespan')\r\n",
    "\r\n",
    "plot_data = pd.DataFrame(index=highest_sales_platforms, data=distribution_data).fillna(0)\r\n",
    "distribution_data = np.array(plot_data)\r\n",
    "years_data = plot_data.columns\r\n",
    "\r\n",
    "n_points = 21\r\n",
    "xx = np.linspace(np.min(years_data),\r\n",
    "                 np.max(years_data), n_points)\r\n",
    "colors = ['y', 'b', '']\r\n",
    "ys = []\r\n",
    "plt.figure(figsize=(14, 10))\r\n",
    "for i, d in enumerate(distribution_data):\r\n",
    "    d = d/(sum(d))\r\n",
    "    y = i*(1.0-0.9)\r\n",
    "    ys.append(y)\r\n",
    "    plt.fill_between(xx, np.ones(n_points)*y, \r\n",
    "                         d+y, zorder=len(distribution_data)-i+1, color='C'+str(i))\r\n",
    "    plt.plot(xx, d+y, c='k', zorder=len(distribution_data)-i+1)\r\n",
    "plt.yticks(ys, highest_sales_platforms)\r\n",
    "plt.show()"
   ],
   "outputs": [
    {
     "output_type": "display_data",
     "data": {
      "image/png": "[encoded data removed]",
      "text/plain": [
       "<Figure size 1008x720 with 1 Axes>"
      ]
     },
     "metadata": {
      "needs_background": "light"
     }
    }
   ],
   "metadata": {}
  },
  {
   "cell_type": "markdown",
   "source": [
    "The graph above shows the progression of games produced by year for the top 10 best selling platforms. We can check when games started being produced for each platform to better understand the lifespan of each platform."
   ],
   "metadata": {}
  },
  {
   "cell_type": "code",
   "execution_count": 115,
   "source": [
    "display(platform_lifespan.sort_values(ascending=False))\r\n",
    "print('Mean', platform_lifespan.mean())\r\n",
    "print('Median', platform_lifespan.median())"
   ],
   "outputs": [
    {
     "output_type": "display_data",
     "data": {
      "text/plain": [
       "PS2     11\n",
       "X360    11\n",
       "PSP     11\n",
       "PS3     10\n",
       "Wii     10\n",
       "DS       9\n",
       "PS       7\n",
       "GBA      7\n",
       "3DS      5\n",
       "PS4      3\n",
       "Name: Lifespan, dtype: int64"
      ]
     },
     "metadata": {}
    },
    {
     "output_type": "stream",
     "name": "stdout",
     "text": [
      "Mean 8.4\n",
      "Median 9.5\n"
     ]
    }
   ],
   "metadata": {}
  },
  {
   "cell_type": "code",
   "execution_count": 116,
   "source": [
    "games = backup_games.query('Year_of_Release >= 2014')\r\n",
    "highest_sales_platforms = games.pivot_table(index='Platform', values='Total_sales', aggfunc='sum').sort_values(by='Total_sales', ascending=False).index.values\r\n",
    "\r\n",
    "games = games[ games['Platform'].isin(highest_sales_platforms) ].reset_index(drop=True)\r\n",
    "print('Platforms with sales after 2014:', highest_sales_platforms)"
   ],
   "outputs": [
    {
     "output_type": "stream",
     "name": "stdout",
     "text": [
      "Platforms with sales after 2014: ['PS4' 'XOne' '3DS' 'PS3' 'X360' 'WiiU' 'PC' 'PSV' 'Wii' 'PSP']\n"
     ]
    }
   ],
   "metadata": {}
  },
  {
   "cell_type": "markdown",
   "source": [
    "#### Results\n",
    "\n",
    "The average lifespan of video game platforms is 11 years - that's how long games keep being produced for the same console. Apparently, by 2016 many consoles are ending their lifespans, and we risk considering old platforms if we choose data starting from too much time ago. Considering the last completed year was 2015, we decided to include only data after the last console has died out. Therefore, we have chosen data starting from the year 2014. By plotting the distribution of games produced by year, we could also understand the behavior of games production - it generally follows a normal distribution.\n",
    "\n",
    "Platforms included are: 'PS4', 'XOne', '3DS', 'PS3', 'X360', 'WiiU', 'PC', 'PSV', 'Wii' and 'PSP'.\n",
    "\n",
    "### Analyzing Sales\n",
    "\n",
    "#### Objective\n",
    "\n",
    "Now that the main platforms to be analyzed have been chosen, we can start looking at the most promising ones. Those will clearly be the ones with an expanding market. We can check the growth of sales along time by the release year of games.\n",
    "\n",
    "#### Code"
   ],
   "metadata": {}
  },
  {
   "cell_type": "code",
   "execution_count": 117,
   "source": [
    "import sys\r\n",
    "import warnings\r\n",
    "if not sys.warnoptions:\r\n",
    "       warnings.simplefilter(\"ignore\")"
   ],
   "outputs": [],
   "metadata": {}
  },
  {
   "cell_type": "code",
   "execution_count": 118,
   "source": [
    "bins = range(2003, 2017)\r\n",
    "\r\n",
    "distribution_data = []\r\n",
    "sales_data = []\r\n",
    "\r\n",
    "for col in highest_sales_platforms:\r\n",
    "    selected = games.query('Platform == @col').groupby('Year_of_Release')['Name'].count()\r\n",
    "    distribution_data.append(selected)\r\n",
    "    selected = games.query('Platform == @col').groupby('Year_of_Release')['Total_sales'].sum()\r\n",
    "    sales_data.append(selected)\r\n",
    "\r\n",
    "plt.figure(figsize=(10, 6))\r\n",
    "\r\n",
    "for chart, k in zip(sales_data, range(len(sales_data))):\r\n",
    "    for i in range(1, len(chart.values)):\r\n",
    "        chart.values[i] = chart.values[i] + chart.values[i-1]\r\n",
    "    plt.plot(chart.index, chart.values, label=highest_sales_platforms[k])\r\n",
    "plt.legend(loc='upper left')\r\n",
    "plt.title('Cumulative total number of sales (curve)')\r\n",
    "plt.ylabel('Market in USD millions')\r\n",
    "plt.xlabel('Years')\r\n",
    "plt.show()\r\n",
    "\r\n",
    "plt.figure(figsize=(10, 6))\r\n",
    "\r\n",
    "for chart, k in zip(distribution_data, range(len(distribution_data))):\r\n",
    "    plt.plot(chart.index, chart.values, label=highest_sales_platforms[k])\r\n",
    "plt.legend(loc='upper right')\r\n",
    "plt.title('Number of games produced by year of release')\r\n",
    "plt.ylabel('Games produced')\r\n",
    "plt.xlabel('Years')\r\n",
    "plt.show()"
   ],
   "outputs": [
    {
     "output_type": "display_data",
     "data": {
      "image/png": "[encoded data removed]",
      "text/plain": [
       "<Figure size 720x432 with 1 Axes>"
      ]
     },
     "metadata": {
      "needs_background": "light"
     }
    },
    {
     "output_type": "display_data",
     "data": {
      "image/png": "[encoded data removed]",
      "text/plain": [
       "<Figure size 720x432 with 1 Axes>"
      ]
     },
     "metadata": {
      "needs_background": "light"
     }
    }
   ],
   "metadata": {}
  },
  {
   "cell_type": "markdown",
   "source": [
    "Both of these graphs show very relevant information about the current state of video game platforms. By looking at the first one, we can see the total revenue for platforms. We should look for platforms with a rising graph: the ones with a stapled graph mean not many games are still being produced and the market is currently shrinking. After that, we can look at platforms with games still on production on the second graph, as a second index to look for promising platforms.\n",
    "\n",
    "The most profitable platforms currently are in order PS4, XOne and PC, in order of total revenue, with 3DS coming in as an honorable mention. Platforms XOne and PS4 have a big market on the rising. PC has a steady market with low but rising revenuem, with continuous production of games. 3DS has a big market, but less and less games are being produced, which means it already started to shrink.  Other platforms show stapled markets with lesser games being produced as times passes, meaning their market is shrinking."
   ],
   "metadata": {}
  },
  {
   "cell_type": "code",
   "execution_count": 119,
   "source": [
    "import sys\r\n",
    "import warnings\r\n",
    "if not sys.warnoptions:\r\n",
    "       warnings.simplefilter(\"ignore\")\r\n",
    "\r\n",
    "platform_sales = games.pivot(columns='Platform', values='Total_sales')\r\n",
    "\r\n",
    "plt.figure(figsize=(10,6))\r\n",
    "platform_sales.boxplot()\r\n",
    "\r\n",
    "\r\n",
    "n_successful_games = {}\r\n",
    "for col in platform_sales:\r\n",
    "    n_successful_games[col] = platform_sales[platform_sales[col] > 1][col].count()\r\n",
    "\r\n",
    "print('Number of successful games (total sales > 1) by platform:')\r\n",
    "display(pd.Series(n_successful_games).sort_values(ascending=False))\r\n",
    "\r\n",
    "plt.title('Total sales of games per platform')\r\n",
    "plt.xlabel('Platform')\r\n",
    "plt.ylabel('Total sales')\r\n",
    "plt.show()\r\n",
    "\r\n"
   ],
   "outputs": [
    {
     "output_type": "stream",
     "name": "stdout",
     "text": [
      "Number of successful games (total sales > 1) by platform:\n"
     ]
    },
    {
     "output_type": "display_data",
     "data": {
      "text/plain": [
       "PS4     69\n",
       "XOne    43\n",
       "3DS     16\n",
       "PS3     13\n",
       "X360    13\n",
       "WiiU    11\n",
       "PC       4\n",
       "PSV      1\n",
       "Wii      1\n",
       "PSP      0\n",
       "dtype: int64"
      ]
     },
     "metadata": {}
    },
    {
     "output_type": "display_data",
     "data": {
      "image/png": "[encoded data removed]",
      "text/plain": [
       "<Figure size 720x432 with 1 Axes>"
      ]
     },
     "metadata": {
      "needs_background": "light"
     }
    }
   ],
   "metadata": {
    "scrolled": false
   }
  },
  {
   "cell_type": "markdown",
   "source": [
    "This graph shows the points of revenue per platform. We can see that most games show a relatively low revenue, and that's a pattern across all platforms. Platforms with highest average revenue are XOne as PS4, although there are very successful games in 3DS and WiiU platforms. After those, we can still see some relevance by last generation consoles such as X360 and PS3."
   ],
   "metadata": {}
  },
  {
   "cell_type": "markdown",
   "source": [
    "#### Results\n",
    "\n",
    "In this subsection we defined the promising platforms that our campaign should look forward to. This decision has been done considering expanding and shrinking markets and total revenue. The most promising platforms are PS4, XOne, PC and 3DS \n",
    "### Analyzing Scores\n",
    "\n",
    "#### Objective\n",
    "\n",
    "User and critic scores are expected to have a considerable impact over sales. We will check that by verifying the correlation coefficients between sales and scores for the PS4.\n",
    "\n",
    "#### Code"
   ],
   "metadata": {}
  },
  {
   "cell_type": "code",
   "execution_count": 120,
   "source": [
    "print('Highest count of user score by platform:')\r\n",
    "display(games.query('User_Score.notna()').groupby('Platform')['Name'].count().sort_values(ascending=False).head())\r\n",
    "\r\n",
    "print('Highest count of critic score by platform:')\r\n",
    "games.query('Critic_Score.notna()').groupby('Platform')['Name'].count().sort_values(ascending=False).head()"
   ],
   "outputs": [
    {
     "output_type": "stream",
     "name": "stdout",
     "text": [
      "Highest count of user score by platform:\n"
     ]
    },
    {
     "output_type": "display_data",
     "data": {
      "text/plain": [
       "Platform\n",
       "PS4     376\n",
       "PSV     295\n",
       "XOne    228\n",
       "PS3     219\n",
       "3DS     212\n",
       "Name: Name, dtype: int64"
      ]
     },
     "metadata": {}
    },
    {
     "output_type": "stream",
     "name": "stdout",
     "text": [
      "Highest count of critic score by platform:\n"
     ]
    },
    {
     "output_type": "execute_result",
     "data": {
      "text/plain": [
       "Platform\n",
       "PS4     376\n",
       "PSV     295\n",
       "XOne    228\n",
       "PS3     219\n",
       "3DS     212\n",
       "Name: Name, dtype: int64"
      ]
     },
     "metadata": {},
     "execution_count": 120
    }
   ],
   "metadata": {
    "scrolled": false
   }
  },
  {
   "cell_type": "code",
   "execution_count": 121,
   "source": [
    "ps4 = games.query('Platform == \"PS4\"')[['Name', 'User_Score', 'Critic_Score', 'Total_sales']]\r\n",
    "\r\n",
    "display(ps4.corr())\r\n",
    "pd.plotting.scatter_matrix(ps4, figsize=(10,10))\r\n",
    "plt.show()"
   ],
   "outputs": [
    {
     "output_type": "display_data",
     "data": {
      "text/html": [
       "<div>\n",
       "<style scoped>\n",
       "    .dataframe tbody tr th:only-of-type {\n",
       "        vertical-align: middle;\n",
       "    }\n",
       "\n",
       "    .dataframe tbody tr th {\n",
       "        vertical-align: top;\n",
       "    }\n",
       "\n",
       "    .dataframe thead th {\n",
       "        text-align: right;\n",
       "    }\n",
       "</style>\n",
       "<table border=\"1\" class=\"dataframe\">\n",
       "  <thead>\n",
       "    <tr style=\"text-align: right;\">\n",
       "      <th></th>\n",
       "      <th>User_Score</th>\n",
       "      <th>Critic_Score</th>\n",
       "      <th>Total_sales</th>\n",
       "    </tr>\n",
       "  </thead>\n",
       "  <tbody>\n",
       "    <tr>\n",
       "      <th>User_Score</th>\n",
       "      <td>1.000000</td>\n",
       "      <td>0.532616</td>\n",
       "      <td>-0.056701</td>\n",
       "    </tr>\n",
       "    <tr>\n",
       "      <th>Critic_Score</th>\n",
       "      <td>0.532616</td>\n",
       "      <td>1.000000</td>\n",
       "      <td>0.335604</td>\n",
       "    </tr>\n",
       "    <tr>\n",
       "      <th>Total_sales</th>\n",
       "      <td>-0.056701</td>\n",
       "      <td>0.335604</td>\n",
       "      <td>1.000000</td>\n",
       "    </tr>\n",
       "  </tbody>\n",
       "</table>\n",
       "</div>"
      ],
      "text/plain": [
       "              User_Score  Critic_Score  Total_sales\n",
       "User_Score      1.000000      0.532616    -0.056701\n",
       "Critic_Score    0.532616      1.000000     0.335604\n",
       "Total_sales    -0.056701      0.335604     1.000000"
      ]
     },
     "metadata": {}
    },
    {
     "output_type": "display_data",
     "data": {
      "image/png": "[encoded data removed]",
      "text/plain": [
       "<Figure size 720x720 with 9 Axes>"
      ]
     },
     "metadata": {
      "needs_background": "light"
     }
    }
   ],
   "metadata": {}
  },
  {
   "cell_type": "markdown",
   "source": [
    "This scatter matrix cross values of sales and scores for the PS4. We can confirm that most sales stay at low revenues, and that total sales do increase with higher critic scores. However, user scores are not so relevant to total sales, showing little to no correlation at all. It is interesting to point out that critic score only guarantee a success for really high critic scores, and that average reviews only raises the chances of a commercial success by a margin."
   ],
   "metadata": {}
  },
  {
   "cell_type": "code",
   "execution_count": 122,
   "source": [
    "(\r\n",
    "    games[games['Name'].isin(ps4['Name'])].groupby('Platform')['Total_sales'].mean().sort_values(ascending=False)\r\n",
    "    -\r\n",
    "    games.groupby('Platform')['Total_sales'].mean().sort_values(ascending=False)\r\n",
    ").sort_values(ascending=False)\r\n"
   ],
   "outputs": [
    {
     "output_type": "execute_result",
     "data": {
      "text/plain": [
       "Platform\n",
       "Wii     0.339091\n",
       "PS3     0.101029\n",
       "X360    0.092822\n",
       "PSV     0.065335\n",
       "PSP     0.022308\n",
       "PC      0.009387\n",
       "PS4     0.000000\n",
       "XOne   -0.047614\n",
       "3DS    -0.154868\n",
       "WiiU   -0.291730\n",
       "Name: Total_sales, dtype: float32"
      ]
     },
     "metadata": {},
     "execution_count": 122
    }
   ],
   "metadata": {}
  },
  {
   "cell_type": "code",
   "execution_count": 123,
   "source": [
    "genre_compare = games.pivot_table(index='Genre', values=['Total_sales', 'User_Score', 'Critic_Score'])\r\n",
    "genre_compare.sort_values('Total_sales', ascending=False)"
   ],
   "outputs": [
    {
     "output_type": "execute_result",
     "data": {
      "text/html": [
       "<div>\n",
       "<style scoped>\n",
       "    .dataframe tbody tr th:only-of-type {\n",
       "        vertical-align: middle;\n",
       "    }\n",
       "\n",
       "    .dataframe tbody tr th {\n",
       "        vertical-align: top;\n",
       "    }\n",
       "\n",
       "    .dataframe thead th {\n",
       "        text-align: right;\n",
       "    }\n",
       "</style>\n",
       "<table border=\"1\" class=\"dataframe\">\n",
       "  <thead>\n",
       "    <tr style=\"text-align: right;\">\n",
       "      <th></th>\n",
       "      <th>Critic_Score</th>\n",
       "      <th>Total_sales</th>\n",
       "      <th>User_Score</th>\n",
       "    </tr>\n",
       "    <tr>\n",
       "      <th>Genre</th>\n",
       "      <th></th>\n",
       "      <th></th>\n",
       "      <th></th>\n",
       "    </tr>\n",
       "  </thead>\n",
       "  <tbody>\n",
       "    <tr>\n",
       "      <th>Shooter</th>\n",
       "      <td>74.500824</td>\n",
       "      <td>1.335469</td>\n",
       "      <td>6.566592</td>\n",
       "    </tr>\n",
       "    <tr>\n",
       "      <th>Sports</th>\n",
       "      <td>70.743111</td>\n",
       "      <td>0.680000</td>\n",
       "      <td>5.413676</td>\n",
       "    </tr>\n",
       "    <tr>\n",
       "      <th>Platform</th>\n",
       "      <td>74.734451</td>\n",
       "      <td>0.476053</td>\n",
       "      <td>6.793334</td>\n",
       "    </tr>\n",
       "    <tr>\n",
       "      <th>Fighting</th>\n",
       "      <td>71.041481</td>\n",
       "      <td>0.470333</td>\n",
       "      <td>7.045111</td>\n",
       "    </tr>\n",
       "    <tr>\n",
       "      <th>Role-Playing</th>\n",
       "      <td>73.400963</td>\n",
       "      <td>0.459005</td>\n",
       "      <td>7.475033</td>\n",
       "    </tr>\n",
       "    <tr>\n",
       "      <th>Racing</th>\n",
       "      <td>71.828819</td>\n",
       "      <td>0.398841</td>\n",
       "      <td>6.402706</td>\n",
       "    </tr>\n",
       "    <tr>\n",
       "      <th>Misc</th>\n",
       "      <td>71.932205</td>\n",
       "      <td>0.332301</td>\n",
       "      <td>6.972109</td>\n",
       "    </tr>\n",
       "    <tr>\n",
       "      <th>Action</th>\n",
       "      <td>68.965034</td>\n",
       "      <td>0.322068</td>\n",
       "      <td>6.833713</td>\n",
       "    </tr>\n",
       "    <tr>\n",
       "      <th>Simulation</th>\n",
       "      <td>69.460121</td>\n",
       "      <td>0.298409</td>\n",
       "      <td>6.735536</td>\n",
       "    </tr>\n",
       "    <tr>\n",
       "      <th>Puzzle</th>\n",
       "      <td>71.257141</td>\n",
       "      <td>0.157857</td>\n",
       "      <td>7.386310</td>\n",
       "    </tr>\n",
       "    <tr>\n",
       "      <th>Strategy</th>\n",
       "      <td>73.062584</td>\n",
       "      <td>0.107027</td>\n",
       "      <td>6.372498</td>\n",
       "    </tr>\n",
       "    <tr>\n",
       "      <th>Adventure</th>\n",
       "      <td>70.423828</td>\n",
       "      <td>0.094865</td>\n",
       "      <td>7.443531</td>\n",
       "    </tr>\n",
       "  </tbody>\n",
       "</table>\n",
       "</div>"
      ],
      "text/plain": [
       "              Critic_Score  Total_sales  User_Score\n",
       "Genre                                              \n",
       "Shooter          74.500824     1.335469    6.566592\n",
       "Sports           70.743111     0.680000    5.413676\n",
       "Platform         74.734451     0.476053    6.793334\n",
       "Fighting         71.041481     0.470333    7.045111\n",
       "Role-Playing     73.400963     0.459005    7.475033\n",
       "Racing           71.828819     0.398841    6.402706\n",
       "Misc             71.932205     0.332301    6.972109\n",
       "Action           68.965034     0.322068    6.833713\n",
       "Simulation       69.460121     0.298409    6.735536\n",
       "Puzzle           71.257141     0.157857    7.386310\n",
       "Strategy         73.062584     0.107027    6.372498\n",
       "Adventure        70.423828     0.094865    7.443531"
      ]
     },
     "metadata": {},
     "execution_count": 123
    }
   ],
   "metadata": {}
  },
  {
   "cell_type": "markdown",
   "source": [
    "The genre with the highest sale rates is shooter games by a large margin. However, they aren't the best reviewed by both critics and users accross genres. Those are role-playing and adventure games. The table above shows relevant information to define how acclaimed are games of each genre on average."
   ],
   "metadata": {}
  },
  {
   "cell_type": "markdown",
   "source": [
    "#### Results\n",
    "\n",
    "Reviews have proven themselves important for sales only for high revenue games. The correlation of critic scores with total sales is higher than that of user scores, which is practically non-existent. Good critic reviews raise the chances of commercial successes by a large margin, but they only show really high sales for grades above 90."
   ],
   "metadata": {}
  },
  {
   "cell_type": "markdown",
   "source": [
    "### Analyzing Regions\n",
    "\n",
    "#### Objective\n",
    "\n",
    "At this point, we will have a look at the difference between sales accross regions. The preferred games and best sellers can vary quite a lot. What are the patterns for preferences in each continent?\n",
    "\n",
    "#### Code"
   ],
   "metadata": {}
  },
  {
   "cell_type": "code",
   "execution_count": 124,
   "source": [
    "region_genre = games.pivot_table(index='Genre', values=['JP_sales', 'EU_sales', 'NA_sales'])\r\n",
    "print('Preferred genres in JP:')\r\n",
    "display(region_genre['JP_sales'].sort_values(ascending=False).head()/region_genre['JP_sales'].sum())\r\n",
    "print('Preferred genres in NA:')\r\n",
    "display(region_genre['NA_sales'].sort_values(ascending=False).head()/region_genre['NA_sales'].sum())\r\n",
    "print('Preferred genres in EU:')\r\n",
    "display(region_genre['EU_sales'].sort_values(ascending=False).head()/region_genre['EU_sales'].sum())"
   ],
   "outputs": [
    {
     "output_type": "stream",
     "name": "stdout",
     "text": [
      "Preferred genres in JP:\n"
     ]
    },
    {
     "output_type": "display_data",
     "data": {
      "text/plain": [
       "Genre\n",
       "Role-Playing    0.212582\n",
       "Fighting        0.160070\n",
       "Platform        0.106731\n",
       "Puzzle          0.100156\n",
       "Simulation      0.079156\n",
       "Name: JP_sales, dtype: float32"
      ]
     },
     "metadata": {}
    },
    {
     "output_type": "stream",
     "name": "stdout",
     "text": [
      "Preferred genres in NA:\n"
     ]
    },
    {
     "output_type": "display_data",
     "data": {
      "text/plain": [
       "Genre\n",
       "Shooter         0.311575\n",
       "Sports          0.144608\n",
       "Fighting        0.104558\n",
       "Platform        0.090182\n",
       "Role-Playing    0.076436\n",
       "Name: NA_sales, dtype: float32"
      ]
     },
     "metadata": {}
    },
    {
     "output_type": "stream",
     "name": "stdout",
     "text": [
      "Preferred genres in EU:\n"
     ]
    },
    {
     "output_type": "display_data",
     "data": {
      "text/plain": [
       "Genre\n",
       "Shooter       0.263911\n",
       "Sports        0.146443\n",
       "Racing        0.105581\n",
       "Platform      0.092261\n",
       "Simulation    0.085539\n",
       "Name: EU_sales, dtype: float32"
      ]
     },
     "metadata": {}
    }
   ],
   "metadata": {}
  },
  {
   "cell_type": "code",
   "execution_count": 125,
   "source": [
    "region_platform = games.pivot_table(index='Platform', values=['JP_sales', 'EU_sales', 'NA_sales'])\r\n",
    "print('Preferred platforms in JP:')\r\n",
    "display(region_platform['JP_sales'].sort_values(ascending=False).head()/region_platform['JP_sales'].sum())\r\n",
    "print('Preferred platforms in NA:')\r\n",
    "display(region_platform['NA_sales'].sort_values(ascending=False).head()/region_platform['NA_sales'].sum())\r\n",
    "print('Preferred platforms in EU:')\r\n",
    "display(region_platform['EU_sales'].sort_values(ascending=False).head()/region_platform['EU_sales'].sum())"
   ],
   "outputs": [
    {
     "output_type": "stream",
     "name": "stdout",
     "text": [
      "Preferred platforms in JP:\n"
     ]
    },
    {
     "output_type": "display_data",
     "data": {
      "text/plain": [
       "Platform\n",
       "3DS     0.435565\n",
       "WiiU    0.209010\n",
       "PS3     0.106936\n",
       "PSV     0.102876\n",
       "PS4     0.083379\n",
       "Name: JP_sales, dtype: float32"
      ]
     },
     "metadata": {}
    },
    {
     "output_type": "stream",
     "name": "stdout",
     "text": [
      "Preferred platforms in NA:\n"
     ]
    },
    {
     "output_type": "display_data",
     "data": {
      "text/plain": [
       "Platform\n",
       "XOne    0.223919\n",
       "WiiU    0.166601\n",
       "PS4     0.164751\n",
       "X360    0.160162\n",
       "Wii     0.118786\n",
       "Name: NA_sales, dtype: float32"
      ]
     },
     "metadata": {}
    },
    {
     "output_type": "stream",
     "name": "stdout",
     "text": [
      "Preferred platforms in EU:\n"
     ]
    },
    {
     "output_type": "display_data",
     "data": {
      "text/plain": [
       "Platform\n",
       "PS4     0.242282\n",
       "Wii     0.164945\n",
       "XOne    0.142105\n",
       "WiiU    0.126193\n",
       "X360    0.097760\n",
       "Name: EU_sales, dtype: float32"
      ]
     },
     "metadata": {}
    }
   ],
   "metadata": {}
  },
  {
   "cell_type": "code",
   "execution_count": 126,
   "source": [
    "region_rating = games.pivot_table(index='Rating', values=['JP_sales', 'EU_sales', 'NA_sales'])\r\n",
    "print('Preferred ratings in JP:')\r\n",
    "display(region_rating['JP_sales'].sort_values(ascending=False).head()/region_rating['JP_sales'].sum())\r\n",
    "print('Preferred ratings in NA:')\r\n",
    "display(region_rating['NA_sales'].sort_values(ascending=False).head()/region_rating['NA_sales'].sum())\r\n",
    "print('Preferred ratings in EU:')\r\n",
    "display(region_rating['EU_sales'].sort_values(ascending=False).head()/region_rating['EU_sales'].sum())"
   ],
   "outputs": [
    {
     "output_type": "stream",
     "name": "stdout",
     "text": [
      "Preferred ratings in JP:\n"
     ]
    },
    {
     "output_type": "display_data",
     "data": {
      "text/plain": [
       "Rating\n",
       "Unknown    0.336643\n",
       "T          0.241682\n",
       "E          0.180898\n",
       "M          0.133945\n",
       "E10+       0.106832\n",
       "Name: JP_sales, dtype: float32"
      ]
     },
     "metadata": {}
    },
    {
     "output_type": "stream",
     "name": "stdout",
     "text": [
      "Preferred ratings in NA:\n"
     ]
    },
    {
     "output_type": "display_data",
     "data": {
      "text/plain": [
       "Rating\n",
       "M          0.361932\n",
       "E          0.230469\n",
       "E10+       0.178675\n",
       "T          0.142970\n",
       "Unknown    0.085953\n",
       "Name: NA_sales, dtype: float32"
      ]
     },
     "metadata": {}
    },
    {
     "output_type": "stream",
     "name": "stdout",
     "text": [
      "Preferred ratings in EU:\n"
     ]
    },
    {
     "output_type": "display_data",
     "data": {
      "text/plain": [
       "Rating\n",
       "M          0.365943\n",
       "E          0.275144\n",
       "E10+       0.146755\n",
       "T          0.130476\n",
       "Unknown    0.081682\n",
       "Name: EU_sales, dtype: float32"
      ]
     },
     "metadata": {}
    }
   ],
   "metadata": {}
  },
  {
   "cell_type": "markdown",
   "source": [
    "#### Results\r\n",
    "\r\n",
    "The patterns for continents are very different. Japan generally prefers role-playing games and mobile platforms, while shooter and sports games are the most common in North America and Europe. It is also worth noting that Japan has higher sales for mobile platforms such as the 3DS, while North America and Europe show higher sales for series like the Playstation or the Xbox. Additionally, Japan users tend more to games teen ratings, meanwhile North America and Europe have mature games as the best sellers.\r\n",
    "\r\n",
    "\r\n",
    "### Conclusion\r\n",
    "\r\n",
    "The analysis and tables presented during the code sessions show valuable information about the analyzed data. They include the definition of the most promising platforms, which are the latest releases in the Xbox and Playstation series. However, by looking at the data considering regions and sales, Japan has very different preference patterns for users. These differences may be cultural, as well as related to gaming companies. Japan is a big producer of video games, and companies like Nintendo, which produces games mainly for Everyone or Teens, are headquartered in Japan. This should definitely be taken into account when planning the campaign: the region."
   ],
   "metadata": {}
  },
  {
   "cell_type": "markdown",
   "source": [
    "## Hypothesis testing\n",
    "\n",
    "### Introduction\n",
    "\n",
    "By making use of statistical methods, we can test hypothesis of patterns in our data and get some additional conclusions about means for genres and platforms. We will test user scores in different platforms and genres to see if there are any relations between then. The statistical tests are made by assuming a hypothesis and then checking wether there is enough evidence to reject it, or there isn't enough evidence and it is a possible hypothesis. We will test two hypotheses:\n",
    "\n",
    "When comparing probabilities, we will use a probability reference value of 1% to tell whether a statement can be rejected or not, because so much information has been filled in for our data, and data is not very reliable.\n",
    "\n",
    "### User Scores in DIfferent Platforms\n",
    "\n",
    "#### Objective\n",
    "\n",
    "Question 1: Are Xbox One and PC average user scores are generally the same? \n",
    "- *The null hypothesis:* Games have the same average user score in Xbox One and PC. \n",
    "- *The alternative hypothesis:* Games do not have the same average user score in Xbox One and PC. \n",
    "\n",
    "Since some games are made for both Xbox One and PC, we decided to use these games as main reference for this study, counting up to 80 games, but allowing us to make a paired sample analysis.\n",
    "\n",
    "#### Code"
   ],
   "metadata": {}
  },
  {
   "cell_type": "code",
   "execution_count": 127,
   "source": [
    "alpha = 0.01"
   ],
   "outputs": [],
   "metadata": {}
  },
  {
   "cell_type": "code",
   "execution_count": 128,
   "source": [
    "xone_and_pc = games.query('Platform in [\"XOne\", \"PC\"]').reset_index(drop=True)\r\n",
    "test_xone_and_pc = xone_and_pc.pivot_table(index='Name', values='User_Score', columns='Platform').dropna()\r\n",
    "plt.hist(test_xone_and_pc['XOne'], density=True, alpha=0.75, bins=20)\r\n",
    "plt.hist(test_xone_and_pc['PC'], density=True, alpha=0.75, bins=20)\r\n",
    "plt.legend(['XOne', 'PC'])\r\n",
    "plt.title('Density histograms of user score by platform')\r\n",
    "plt.ylabel('Probability')\r\n",
    "plt.xlabel('User score')\r\n",
    "plt.show()"
   ],
   "outputs": [
    {
     "output_type": "display_data",
     "data": {
      "image/png": "[encoded data removed]",
      "text/plain": [
       "<Figure size 432x288 with 1 Axes>"
      ]
     },
     "metadata": {
      "needs_background": "light"
     }
    }
   ],
   "metadata": {}
  },
  {
   "cell_type": "markdown",
   "source": [
    "The histograms show a higher left skew for PC user scores, while the Xbox One user scores are more centered around the peak."
   ],
   "metadata": {}
  },
  {
   "cell_type": "code",
   "execution_count": 129,
   "source": [
    "print('Testing user scores of XOne and PC...')\r\n",
    "\r\n",
    "array1 = test_xone_and_pc[test_xone_and_pc['XOne'].notna()]['XOne'].values\r\n",
    "array2 = test_xone_and_pc[test_xone_and_pc['PC'].notna()]['PC'].values\r\n",
    "result = st.ttest_rel(array1, array2)\r\n",
    "\r\n",
    "\r\n",
    "# array1 = games.query('Platform == \"XOne\"')['User_Score'].values\r\n",
    "# array2 = games.query('Platform == \"PC\"')['User_Score'].values\r\n",
    "# result = st.ttest_ind(array1, array2)\r\n",
    "\r\n",
    "\r\n",
    "print(f\"P-value: {result.pvalue}\")\r\n",
    "print(f\"Probability: {result.pvalue:.2%}\")\r\n",
    "if result.pvalue > alpha:\r\n",
    "    print(f\"It is too high, so both sets are likely to have come from the same population (null hypothesis can't be rejected).\")\r\n",
    "else:\r\n",
    "    print(f\"It is too low, so we have evidence that both sets are not from the the same population (null hypothesis rejected).\")"
   ],
   "outputs": [
    {
     "output_type": "stream",
     "name": "stdout",
     "text": [
      "Testing user scores of XOne and PC...\n",
      "P-value: 0.00041391401346785463\n",
      "Probability: 0.04%\n",
      "It is too low, so we have evidence that both sets are not from the the same population (null hypothesis rejected).\n"
     ]
    }
   ],
   "metadata": {
    "scrolled": true
   }
  },
  {
   "cell_type": "markdown",
   "source": [
    "#### Results\n",
    "\n",
    "By using a significance threshold of 1%, the null hypothesis has been rejected. That means we have evidence to believe average user scores are different for different platforms. The data used was that of 80 games produced in both Xbox One and PC, but the test shows the same results with or without using all of the sampled data."
   ],
   "metadata": {}
  },
  {
   "cell_type": "markdown",
   "source": [
    "### User Score in Different Genres\n",
    "\n",
    "#### Objective\n",
    "\n",
    "Question 2: Are action and sports games average user scores different?\n",
    "- *The null hypothesis:* Action and sports games have the same average user scores.\n",
    "- *The alternative hypothesis:* Action and sports games do not have the same average user scores.\n",
    "\n",
    "#### Code"
   ],
   "metadata": {}
  },
  {
   "cell_type": "code",
   "execution_count": 92,
   "source": [
    "action_and_sports = games.query('Genre in [\"Action\", \"Sports\"]').reset_index(drop=True)\r\n",
    "test_action_and_sports = action_and_sports.pivot_table(index=action_and_sports.index, values='User_Score', columns='Genre')\r\n",
    "\r\n",
    "display(test_action_and_sports.describe().round(decimals=2))\r\n",
    "\r\n",
    "plt.hist(test_action_and_sports['Action'], density=True, alpha=0.75, bins=20)\r\n",
    "plt.hist(test_action_and_sports['Sports'], density=True, alpha=0.75, bins=20)\r\n",
    "plt.legend(['Action', 'Sports'])\r\n",
    "plt.title('Density histograms of user score by genre')\r\n",
    "plt.ylabel('Probability')\r\n",
    "plt.xlabel('User score')\r\n",
    "plt.show()\r\n"
   ],
   "outputs": [
    {
     "output_type": "display_data",
     "data": {
      "text/html": [
       "<div>\n",
       "<style scoped>\n",
       "    .dataframe tbody tr th:only-of-type {\n",
       "        vertical-align: middle;\n",
       "    }\n",
       "\n",
       "    .dataframe tbody tr th {\n",
       "        vertical-align: top;\n",
       "    }\n",
       "\n",
       "    .dataframe thead th {\n",
       "        text-align: right;\n",
       "    }\n",
       "</style>\n",
       "<table border=\"1\" class=\"dataframe\">\n",
       "  <thead>\n",
       "    <tr style=\"text-align: right;\">\n",
       "      <th>Genre</th>\n",
       "      <th>Action</th>\n",
       "      <th>Sports</th>\n",
       "    </tr>\n",
       "  </thead>\n",
       "  <tbody>\n",
       "    <tr>\n",
       "      <th>count</th>\n",
       "      <td>619.00</td>\n",
       "      <td>161.00</td>\n",
       "    </tr>\n",
       "    <tr>\n",
       "      <th>mean</th>\n",
       "      <td>6.83</td>\n",
       "      <td>5.41</td>\n",
       "    </tr>\n",
       "    <tr>\n",
       "      <th>std</th>\n",
       "      <td>0.97</td>\n",
       "      <td>1.69</td>\n",
       "    </tr>\n",
       "    <tr>\n",
       "      <th>min</th>\n",
       "      <td>2.00</td>\n",
       "      <td>0.20</td>\n",
       "    </tr>\n",
       "    <tr>\n",
       "      <th>25%</th>\n",
       "      <td>6.56</td>\n",
       "      <td>4.30</td>\n",
       "    </tr>\n",
       "    <tr>\n",
       "      <th>50%</th>\n",
       "      <td>6.93</td>\n",
       "      <td>5.78</td>\n",
       "    </tr>\n",
       "    <tr>\n",
       "      <th>75%</th>\n",
       "      <td>7.18</td>\n",
       "      <td>6.51</td>\n",
       "    </tr>\n",
       "    <tr>\n",
       "      <th>max</th>\n",
       "      <td>9.00</td>\n",
       "      <td>8.80</td>\n",
       "    </tr>\n",
       "  </tbody>\n",
       "</table>\n",
       "</div>"
      ],
      "text/plain": [
       "Genre  Action  Sports\n",
       "count  619.00  161.00\n",
       "mean     6.83    5.41\n",
       "std      0.97    1.69\n",
       "min      2.00    0.20\n",
       "25%      6.56    4.30\n",
       "50%      6.93    5.78\n",
       "75%      7.18    6.51\n",
       "max      9.00    8.80"
      ]
     },
     "metadata": {}
    },
    {
     "output_type": "display_data",
     "data": {
      "image/png": "[encoded data removed]",
      "text/plain": [
       "<Figure size 432x288 with 1 Axes>"
      ]
     },
     "metadata": {
      "needs_background": "light"
     }
    }
   ],
   "metadata": {}
  },
  {
   "cell_type": "markdown",
   "source": [
    "Although the graphs overlap quite a bit, the data for sports is skewed to the left, showing that sport games have quite a few badly reviewed games."
   ],
   "metadata": {}
  },
  {
   "cell_type": "code",
   "execution_count": 93,
   "source": [
    "print('Testing user scores of Action and Sports...')\r\n",
    "array1 = test_action_and_sports[test_action_and_sports['Action'].notna()]['Action'].values\r\n",
    "array2 = test_action_and_sports[test_action_and_sports['Sports'].notna()]['Sports'].values\r\n",
    "result = st.ttest_ind(array1, array2)\r\n",
    "\r\n",
    "print(f\"P-value: {result.pvalue}\")\r\n",
    "print(f\"Probability: {result.pvalue:.2%}\")\r\n",
    "if result.pvalue > alpha:\r\n",
    "    print(f\"It is too high, so both sets are likely to have come from the same population (null hypothesis can't be rejected).\")\r\n",
    "else:\r\n",
    "    print(f\"It is too low, so we have evidence that both sets are not from the the same population (null hypothesis rejected).\")"
   ],
   "outputs": [
    {
     "output_type": "stream",
     "name": "stdout",
     "text": [
      "Testing user scores of Action and Sports...\n",
      "P-value: 2.6933084611234397e-39\n",
      "Probability: 0.00%\n",
      "It is too low, so we have evidence that both sets are not from the the same population (null hypothesis rejected).\n"
     ]
    }
   ],
   "metadata": {}
  },
  {
   "cell_type": "markdown",
   "source": [
    "#### Results \n",
    "\n",
    "Although the histograms seemed similar, the statistical significance of user scores in samples of action games and sports games is very low. We have evidence to reject the null hypothesis and believe that average user scores for these two genres are different."
   ],
   "metadata": {}
  },
  {
   "cell_type": "markdown",
   "source": [
    "## Overall Conclusion\n",
    "\n",
    "Our objective in this research was to outline patterns in sales of games to assist an advertising campaign, as well as draw tendencies in the gaming industry such as promising platforms and genres, by region.\n",
    "\n",
    "We got details about more than 15000 games dating back to the first games released for video games. It contained issues in review scores which were dealt with and haven't impacted the research largely. After preprocessing the data, we did the exploratory data analysis, plotted density histograms and total sales along time, and came to the following conclusions about the data in this sample: \n",
    "\n",
    "- Lifespan of video game platforms revolves around 11 years.\n",
    "- Most promising platforms are PS4, XOne, PC and 3DS. The first two will rise in the next few years.\n",
    "- 3DS is the preferred platforms in Japan, but it has had a rough release with shrinking number of games produced.\n",
    "- The Wii is taking very long to die out, and still holds a big share of the market in the united states.\n",
    "- Reviews do not make a success hit for a game, but Critic scores are correlated with sales, specially for high grades.\n",
    "- NA and EU have a more mature gaming audience than in Japan.\n",
    "- Average means accross platforms and genres are generally different. This resul has been statistically tested.\n",
    "\n",
    "In conclusion, we believe the information developed in this research provide very useful insights about what to look forward to in the next year. Looking at the region of the next campaign and what video game consoles are trending is of utmost importance. Furthermore, critic scores are an important part of keeping high sales, while user scores are much less looked at."
   ],
   "metadata": {}
  }
 ],
 "metadata": {
  "ExecuteTimeLog": [
   {
    "duration": 2120,
    "start_time": "2021-08-13T18:19:03.769Z"
   },
   {
    "duration": 68,
    "start_time": "2021-08-13T18:19:05.891Z"
   },
   {
    "duration": 5,
    "start_time": "2021-08-13T18:19:05.962Z"
   },
   {
    "duration": 23,
    "start_time": "2021-08-13T18:19:05.969Z"
   },
   {
    "duration": 30,
    "start_time": "2021-08-13T18:19:05.994Z"
   },
   {
    "duration": 31,
    "start_time": "2021-08-13T18:19:06.026Z"
   },
   {
    "duration": 27,
    "start_time": "2021-08-13T18:19:06.059Z"
   },
   {
    "duration": 28,
    "start_time": "2021-08-13T18:19:06.090Z"
   },
   {
    "duration": 29,
    "start_time": "2021-08-13T18:19:06.156Z"
   },
   {
    "duration": 23,
    "start_time": "2021-08-13T18:19:06.187Z"
   },
   {
    "duration": 50,
    "start_time": "2021-08-13T18:19:06.212Z"
   },
   {
    "duration": 50,
    "start_time": "2021-08-13T18:19:06.264Z"
   },
   {
    "duration": 63,
    "start_time": "2021-08-13T18:19:06.317Z"
   },
   {
    "duration": 9,
    "start_time": "2021-08-13T18:19:06.382Z"
   },
   {
    "duration": 16,
    "start_time": "2021-08-13T18:19:06.394Z"
   },
   {
    "duration": 261,
    "start_time": "2021-08-13T18:19:06.412Z"
   },
   {
    "duration": 26,
    "start_time": "2021-08-13T18:19:06.675Z"
   },
   {
    "duration": 608,
    "start_time": "2021-08-13T18:19:06.703Z"
   },
   {
    "duration": 9,
    "start_time": "2021-08-13T18:19:07.314Z"
   },
   {
    "duration": 47,
    "start_time": "2021-08-13T18:19:07.325Z"
   },
   {
    "duration": 1027,
    "start_time": "2021-08-13T18:19:07.374Z"
   },
   {
    "duration": 4,
    "start_time": "2021-08-13T18:19:08.403Z"
   },
   {
    "duration": 588,
    "start_time": "2021-08-13T18:19:08.412Z"
   },
   {
    "duration": 28,
    "start_time": "2021-08-13T18:19:09.003Z"
   },
   {
    "duration": 1583,
    "start_time": "2021-08-13T18:19:09.033Z"
   },
   {
    "duration": 982,
    "start_time": "2021-08-13T18:19:10.618Z"
   },
   {
    "duration": -6,
    "start_time": "2021-08-13T18:19:11.610Z"
   },
   {
    "duration": -14,
    "start_time": "2021-08-13T18:19:11.620Z"
   },
   {
    "duration": -16,
    "start_time": "2021-08-13T18:19:11.624Z"
   },
   {
    "duration": -23,
    "start_time": "2021-08-13T18:19:11.633Z"
   },
   {
    "duration": -24,
    "start_time": "2021-08-13T18:19:11.636Z"
   },
   {
    "duration": -25,
    "start_time": "2021-08-13T18:19:11.639Z"
   },
   {
    "duration": -28,
    "start_time": "2021-08-13T18:19:11.644Z"
   },
   {
    "duration": -34,
    "start_time": "2021-08-13T18:19:11.652Z"
   },
   {
    "duration": -35,
    "start_time": "2021-08-13T18:19:11.655Z"
   },
   {
    "duration": 2762,
    "start_time": "2021-08-13T18:37:44.591Z"
   },
   {
    "duration": 70,
    "start_time": "2021-08-13T18:37:47.356Z"
   },
   {
    "duration": 6,
    "start_time": "2021-08-13T18:37:47.428Z"
   },
   {
    "duration": 16,
    "start_time": "2021-08-13T18:37:47.456Z"
   },
   {
    "duration": 24,
    "start_time": "2021-08-13T18:37:47.475Z"
   },
   {
    "duration": 56,
    "start_time": "2021-08-13T18:37:47.501Z"
   },
   {
    "duration": 27,
    "start_time": "2021-08-13T18:37:47.560Z"
   },
   {
    "duration": 29,
    "start_time": "2021-08-13T18:37:47.591Z"
   },
   {
    "duration": 46,
    "start_time": "2021-08-13T18:37:47.658Z"
   },
   {
    "duration": 52,
    "start_time": "2021-08-13T18:37:47.707Z"
   },
   {
    "duration": 33,
    "start_time": "2021-08-13T18:37:47.763Z"
   },
   {
    "duration": 102,
    "start_time": "2021-08-13T18:37:47.799Z"
   },
   {
    "duration": 78,
    "start_time": "2021-08-13T18:37:47.904Z"
   },
   {
    "duration": 9,
    "start_time": "2021-08-13T18:37:47.984Z"
   },
   {
    "duration": 16,
    "start_time": "2021-08-13T18:37:47.996Z"
   },
   {
    "duration": 274,
    "start_time": "2021-08-13T18:37:48.014Z"
   },
   {
    "duration": 26,
    "start_time": "2021-08-13T18:37:48.291Z"
   },
   {
    "duration": 602,
    "start_time": "2021-08-13T18:37:48.320Z"
   },
   {
    "duration": 10,
    "start_time": "2021-08-13T18:37:48.924Z"
   },
   {
    "duration": 25,
    "start_time": "2021-08-13T18:37:48.956Z"
   },
   {
    "duration": 1046,
    "start_time": "2021-08-13T18:37:48.984Z"
   },
   {
    "duration": 4,
    "start_time": "2021-08-13T18:37:50.033Z"
   },
   {
    "duration": 723,
    "start_time": "2021-08-13T18:37:50.042Z"
   },
   {
    "duration": 35,
    "start_time": "2021-08-13T18:37:50.769Z"
   },
   {
    "duration": 1856,
    "start_time": "2021-08-13T18:37:50.807Z"
   },
   {
    "duration": 1087,
    "start_time": "2021-08-13T18:37:52.666Z"
   },
   {
    "duration": 189,
    "start_time": "2021-08-13T18:37:53.567Z"
   },
   {
    "duration": 186,
    "start_time": "2021-08-13T18:37:53.572Z"
   },
   {
    "duration": 163,
    "start_time": "2021-08-13T18:37:53.597Z"
   },
   {
    "duration": 160,
    "start_time": "2021-08-13T18:37:53.602Z"
   },
   {
    "duration": 142,
    "start_time": "2021-08-13T18:37:53.622Z"
   },
   {
    "duration": 136,
    "start_time": "2021-08-13T18:37:53.630Z"
   },
   {
    "duration": 132,
    "start_time": "2021-08-13T18:37:53.636Z"
   },
   {
    "duration": 122,
    "start_time": "2021-08-13T18:37:53.648Z"
   },
   {
    "duration": 121,
    "start_time": "2021-08-13T18:37:53.652Z"
   },
   {
    "duration": 768,
    "start_time": "2021-08-13T18:40:33.716Z"
   },
   {
    "duration": 769,
    "start_time": "2021-08-13T18:41:28.167Z"
   },
   {
    "duration": 19,
    "start_time": "2021-08-13T18:43:32.898Z"
   },
   {
    "duration": 2203,
    "start_time": "2021-08-13T18:43:43.440Z"
   },
   {
    "duration": 68,
    "start_time": "2021-08-13T18:43:45.645Z"
   },
   {
    "duration": 5,
    "start_time": "2021-08-13T18:43:45.716Z"
   },
   {
    "duration": 36,
    "start_time": "2021-08-13T18:43:45.723Z"
   },
   {
    "duration": 34,
    "start_time": "2021-08-13T18:43:45.762Z"
   },
   {
    "duration": 16,
    "start_time": "2021-08-13T18:43:45.799Z"
   },
   {
    "duration": 51,
    "start_time": "2021-08-13T18:43:45.818Z"
   },
   {
    "duration": 33,
    "start_time": "2021-08-13T18:43:45.873Z"
   },
   {
    "duration": 69,
    "start_time": "2021-08-13T18:43:45.911Z"
   },
   {
    "duration": 17,
    "start_time": "2021-08-13T18:43:45.982Z"
   },
   {
    "duration": 27,
    "start_time": "2021-08-13T18:43:46.002Z"
   },
   {
    "duration": 55,
    "start_time": "2021-08-13T18:43:46.057Z"
   },
   {
    "duration": 71,
    "start_time": "2021-08-13T18:43:46.115Z"
   },
   {
    "duration": 12,
    "start_time": "2021-08-13T18:43:46.189Z"
   },
   {
    "duration": 16,
    "start_time": "2021-08-13T18:43:46.203Z"
   },
   {
    "duration": 240,
    "start_time": "2021-08-13T18:43:46.256Z"
   },
   {
    "duration": 25,
    "start_time": "2021-08-13T18:43:46.499Z"
   },
   {
    "duration": 637,
    "start_time": "2021-08-13T18:43:46.527Z"
   },
   {
    "duration": 12,
    "start_time": "2021-08-13T18:43:47.167Z"
   },
   {
    "duration": 36,
    "start_time": "2021-08-13T18:43:47.182Z"
   },
   {
    "duration": 1141,
    "start_time": "2021-08-13T18:43:47.257Z"
   },
   {
    "duration": 4,
    "start_time": "2021-08-13T18:43:48.400Z"
   },
   {
    "duration": 584,
    "start_time": "2021-08-13T18:43:48.409Z"
   },
   {
    "duration": 26,
    "start_time": "2021-08-13T18:43:48.995Z"
   },
   {
    "duration": 1564,
    "start_time": "2021-08-13T18:43:49.023Z"
   },
   {
    "duration": 19,
    "start_time": "2021-08-13T18:43:50.589Z"
   },
   {
    "duration": 58,
    "start_time": "2021-08-13T18:43:50.610Z"
   },
   {
    "duration": 31,
    "start_time": "2021-08-13T18:43:50.670Z"
   },
   {
    "duration": 67,
    "start_time": "2021-08-13T18:43:50.703Z"
   },
   {
    "duration": 32,
    "start_time": "2021-08-13T18:43:50.773Z"
   },
   {
    "duration": 3,
    "start_time": "2021-08-13T18:43:50.807Z"
   },
   {
    "duration": 529,
    "start_time": "2021-08-13T18:43:50.812Z"
   },
   {
    "duration": 19,
    "start_time": "2021-08-13T18:43:51.345Z"
   },
   {
    "duration": 494,
    "start_time": "2021-08-13T18:43:51.367Z"
   },
   {
    "duration": 11,
    "start_time": "2021-08-13T18:43:51.864Z"
   },
   {
    "duration": 657,
    "start_time": "2021-08-13T18:46:10.703Z"
   },
   {
    "duration": 520,
    "start_time": "2021-08-13T18:46:57.730Z"
   },
   {
    "duration": 509,
    "start_time": "2021-08-13T18:47:44.111Z"
   },
   {
    "duration": 1013,
    "start_time": "2021-08-13T18:48:13.279Z"
   },
   {
    "duration": 537,
    "start_time": "2021-08-13T18:48:28.467Z"
   },
   {
    "duration": 637,
    "start_time": "2021-08-13T18:48:41.207Z"
   },
   {
    "duration": 2192,
    "start_time": "2021-08-13T18:49:10.262Z"
   },
   {
    "duration": 68,
    "start_time": "2021-08-13T18:49:12.457Z"
   },
   {
    "duration": 5,
    "start_time": "2021-08-13T18:49:12.528Z"
   },
   {
    "duration": 14,
    "start_time": "2021-08-13T18:49:12.557Z"
   },
   {
    "duration": 24,
    "start_time": "2021-08-13T18:49:12.573Z"
   },
   {
    "duration": 15,
    "start_time": "2021-08-13T18:49:12.599Z"
   },
   {
    "duration": 60,
    "start_time": "2021-08-13T18:49:12.617Z"
   },
   {
    "duration": 28,
    "start_time": "2021-08-13T18:49:12.681Z"
   },
   {
    "duration": 60,
    "start_time": "2021-08-13T18:49:12.712Z"
   },
   {
    "duration": 15,
    "start_time": "2021-08-13T18:49:12.775Z"
   },
   {
    "duration": 26,
    "start_time": "2021-08-13T18:49:12.792Z"
   },
   {
    "duration": 80,
    "start_time": "2021-08-13T18:49:12.821Z"
   },
   {
    "duration": 65,
    "start_time": "2021-08-13T18:49:12.904Z"
   },
   {
    "duration": 10,
    "start_time": "2021-08-13T18:49:12.971Z"
   },
   {
    "duration": 22,
    "start_time": "2021-08-13T18:49:12.983Z"
   },
   {
    "duration": 262,
    "start_time": "2021-08-13T18:49:13.008Z"
   },
   {
    "duration": 25,
    "start_time": "2021-08-13T18:49:13.272Z"
   },
   {
    "duration": 601,
    "start_time": "2021-08-13T18:49:13.300Z"
   },
   {
    "duration": 9,
    "start_time": "2021-08-13T18:49:13.903Z"
   },
   {
    "duration": 51,
    "start_time": "2021-08-13T18:49:13.914Z"
   },
   {
    "duration": 1027,
    "start_time": "2021-08-13T18:49:13.967Z"
   },
   {
    "duration": 4,
    "start_time": "2021-08-13T18:49:14.996Z"
   },
   {
    "duration": 572,
    "start_time": "2021-08-13T18:49:15.005Z"
   },
   {
    "duration": 26,
    "start_time": "2021-08-13T18:49:15.580Z"
   },
   {
    "duration": 1687,
    "start_time": "2021-08-13T18:49:15.609Z"
   },
   {
    "duration": 18,
    "start_time": "2021-08-13T18:49:17.298Z"
   },
   {
    "duration": 53,
    "start_time": "2021-08-13T18:49:17.319Z"
   },
   {
    "duration": 32,
    "start_time": "2021-08-13T18:49:17.374Z"
   },
   {
    "duration": 64,
    "start_time": "2021-08-13T18:49:17.409Z"
   },
   {
    "duration": 30,
    "start_time": "2021-08-13T18:49:17.476Z"
   },
   {
    "duration": 48,
    "start_time": "2021-08-13T18:49:17.508Z"
   },
   {
    "duration": 485,
    "start_time": "2021-08-13T18:49:17.559Z"
   },
   {
    "duration": 15,
    "start_time": "2021-08-13T18:49:18.046Z"
   },
   {
    "duration": 477,
    "start_time": "2021-08-13T18:49:18.063Z"
   },
   {
    "duration": 23,
    "start_time": "2021-08-13T18:49:18.542Z"
   },
   {
    "duration": 667,
    "start_time": "2021-08-13T18:49:59.694Z"
   },
   {
    "duration": 547,
    "start_time": "2021-08-13T18:50:12.558Z"
   },
   {
    "duration": 568,
    "start_time": "2021-08-13T18:50:20.510Z"
   },
   {
    "duration": 2127,
    "start_time": "2021-08-13T18:51:05.799Z"
   },
   {
    "duration": 69,
    "start_time": "2021-08-13T18:51:07.929Z"
   },
   {
    "duration": 5,
    "start_time": "2021-08-13T18:51:08.002Z"
   },
   {
    "duration": 18,
    "start_time": "2021-08-13T18:51:08.011Z"
   },
   {
    "duration": 25,
    "start_time": "2021-08-13T18:51:08.057Z"
   },
   {
    "duration": 16,
    "start_time": "2021-08-13T18:51:08.085Z"
   },
   {
    "duration": 60,
    "start_time": "2021-08-13T18:51:08.104Z"
   },
   {
    "duration": 27,
    "start_time": "2021-08-13T18:51:08.168Z"
   },
   {
    "duration": 61,
    "start_time": "2021-08-13T18:51:08.198Z"
   },
   {
    "duration": 15,
    "start_time": "2021-08-13T18:51:08.262Z"
   },
   {
    "duration": 25,
    "start_time": "2021-08-13T18:51:08.280Z"
   },
   {
    "duration": 74,
    "start_time": "2021-08-13T18:51:08.307Z"
   },
   {
    "duration": 44,
    "start_time": "2021-08-13T18:51:08.383Z"
   },
   {
    "duration": 29,
    "start_time": "2021-08-13T18:51:08.429Z"
   },
   {
    "duration": 23,
    "start_time": "2021-08-13T18:51:08.461Z"
   },
   {
    "duration": 259,
    "start_time": "2021-08-13T18:51:08.487Z"
   },
   {
    "duration": 25,
    "start_time": "2021-08-13T18:51:08.757Z"
   },
   {
    "duration": 597,
    "start_time": "2021-08-13T18:51:08.785Z"
   },
   {
    "duration": 9,
    "start_time": "2021-08-13T18:51:09.384Z"
   },
   {
    "duration": 33,
    "start_time": "2021-08-13T18:51:09.395Z"
   },
   {
    "duration": 1031,
    "start_time": "2021-08-13T18:51:09.430Z"
   },
   {
    "duration": 3,
    "start_time": "2021-08-13T18:51:10.464Z"
   },
   {
    "duration": 572,
    "start_time": "2021-08-13T18:51:10.472Z"
   },
   {
    "duration": 32,
    "start_time": "2021-08-13T18:51:11.046Z"
   },
   {
    "duration": 1506,
    "start_time": "2021-08-13T18:51:11.080Z"
   },
   {
    "duration": 17,
    "start_time": "2021-08-13T18:51:12.588Z"
   },
   {
    "duration": 24,
    "start_time": "2021-08-13T18:51:12.608Z"
   },
   {
    "duration": 30,
    "start_time": "2021-08-13T18:51:12.657Z"
   },
   {
    "duration": 69,
    "start_time": "2021-08-13T18:51:12.689Z"
   },
   {
    "duration": 32,
    "start_time": "2021-08-13T18:51:12.760Z"
   },
   {
    "duration": 3,
    "start_time": "2021-08-13T18:51:12.794Z"
   },
   {
    "duration": 496,
    "start_time": "2021-08-13T18:51:12.799Z"
   },
   {
    "duration": 9,
    "start_time": "2021-08-13T18:51:13.298Z"
   },
   {
    "duration": 468,
    "start_time": "2021-08-13T18:51:13.310Z"
   },
   {
    "duration": 10,
    "start_time": "2021-08-13T18:51:13.781Z"
   },
   {
    "duration": 635,
    "start_time": "2021-08-13T18:53:22.224Z"
   },
   {
    "duration": 637,
    "start_time": "2021-08-13T18:53:29.535Z"
   },
   {
    "duration": 2160,
    "start_time": "2021-08-13T18:53:40.222Z"
   },
   {
    "duration": 64,
    "start_time": "2021-08-13T18:53:42.385Z"
   },
   {
    "duration": 5,
    "start_time": "2021-08-13T18:53:42.452Z"
   },
   {
    "duration": 15,
    "start_time": "2021-08-13T18:53:42.460Z"
   },
   {
    "duration": 27,
    "start_time": "2021-08-13T18:53:42.477Z"
   },
   {
    "duration": 15,
    "start_time": "2021-08-13T18:53:42.506Z"
   },
   {
    "duration": 56,
    "start_time": "2021-08-13T18:53:42.523Z"
   },
   {
    "duration": 28,
    "start_time": "2021-08-13T18:53:42.582Z"
   },
   {
    "duration": 65,
    "start_time": "2021-08-13T18:53:42.613Z"
   },
   {
    "duration": 15,
    "start_time": "2021-08-13T18:53:42.680Z"
   },
   {
    "duration": 23,
    "start_time": "2021-08-13T18:53:42.697Z"
   },
   {
    "duration": 79,
    "start_time": "2021-08-13T18:53:42.722Z"
   },
   {
    "duration": 64,
    "start_time": "2021-08-13T18:53:42.803Z"
   },
   {
    "duration": 10,
    "start_time": "2021-08-13T18:53:42.869Z"
   },
   {
    "duration": 26,
    "start_time": "2021-08-13T18:53:42.881Z"
   },
   {
    "duration": 249,
    "start_time": "2021-08-13T18:53:42.909Z"
   },
   {
    "duration": 25,
    "start_time": "2021-08-13T18:53:43.161Z"
   },
   {
    "duration": 589,
    "start_time": "2021-08-13T18:53:43.188Z"
   },
   {
    "duration": 9,
    "start_time": "2021-08-13T18:53:43.780Z"
   },
   {
    "duration": 32,
    "start_time": "2021-08-13T18:53:43.792Z"
   },
   {
    "duration": 1037,
    "start_time": "2021-08-13T18:53:43.827Z"
   },
   {
    "duration": 4,
    "start_time": "2021-08-13T18:53:44.866Z"
   },
   {
    "duration": 561,
    "start_time": "2021-08-13T18:53:44.875Z"
   },
   {
    "duration": 35,
    "start_time": "2021-08-13T18:53:45.439Z"
   },
   {
    "duration": 1506,
    "start_time": "2021-08-13T18:53:45.476Z"
   },
   {
    "duration": 18,
    "start_time": "2021-08-13T18:53:46.985Z"
   },
   {
    "duration": 50,
    "start_time": "2021-08-13T18:53:47.005Z"
   },
   {
    "duration": 32,
    "start_time": "2021-08-13T18:53:47.057Z"
   },
   {
    "duration": 68,
    "start_time": "2021-08-13T18:53:47.092Z"
   },
   {
    "duration": 31,
    "start_time": "2021-08-13T18:53:47.162Z"
   },
   {
    "duration": 3,
    "start_time": "2021-08-13T18:53:47.196Z"
   },
   {
    "duration": 506,
    "start_time": "2021-08-13T18:53:47.202Z"
   },
   {
    "duration": 9,
    "start_time": "2021-08-13T18:53:47.711Z"
   },
   {
    "duration": 470,
    "start_time": "2021-08-13T18:53:47.723Z"
   },
   {
    "duration": 10,
    "start_time": "2021-08-13T18:53:48.195Z"
   },
   {
    "duration": 2065,
    "start_time": "2021-08-13T19:03:28.701Z"
   },
   {
    "duration": 70,
    "start_time": "2021-08-13T19:03:30.768Z"
   },
   {
    "duration": 16,
    "start_time": "2021-08-13T19:03:30.842Z"
   },
   {
    "duration": 20,
    "start_time": "2021-08-13T19:03:30.861Z"
   },
   {
    "duration": 46,
    "start_time": "2021-08-13T19:03:30.884Z"
   },
   {
    "duration": 24,
    "start_time": "2021-08-13T19:03:30.933Z"
   },
   {
    "duration": 30,
    "start_time": "2021-08-13T19:03:30.960Z"
   },
   {
    "duration": 62,
    "start_time": "2021-08-13T19:03:30.994Z"
   },
   {
    "duration": 30,
    "start_time": "2021-08-13T19:03:31.060Z"
   },
   {
    "duration": 19,
    "start_time": "2021-08-13T19:03:31.093Z"
   },
   {
    "duration": 52,
    "start_time": "2021-08-13T19:03:31.114Z"
   },
   {
    "duration": 50,
    "start_time": "2021-08-13T19:03:31.169Z"
   },
   {
    "duration": 69,
    "start_time": "2021-08-13T19:03:31.222Z"
   },
   {
    "duration": 9,
    "start_time": "2021-08-13T19:03:31.294Z"
   },
   {
    "duration": 21,
    "start_time": "2021-08-13T19:03:31.305Z"
   },
   {
    "duration": 249,
    "start_time": "2021-08-13T19:03:31.329Z"
   },
   {
    "duration": 26,
    "start_time": "2021-08-13T19:03:31.580Z"
   },
   {
    "duration": 614,
    "start_time": "2021-08-13T19:03:31.608Z"
   },
   {
    "duration": 10,
    "start_time": "2021-08-13T19:03:32.224Z"
   },
   {
    "duration": 42,
    "start_time": "2021-08-13T19:03:32.237Z"
   },
   {
    "duration": 1013,
    "start_time": "2021-08-13T19:03:32.281Z"
   },
   {
    "duration": 4,
    "start_time": "2021-08-13T19:03:33.296Z"
   },
   {
    "duration": 570,
    "start_time": "2021-08-13T19:03:33.306Z"
   },
   {
    "duration": 27,
    "start_time": "2021-08-13T19:03:33.879Z"
   },
   {
    "duration": 1660,
    "start_time": "2021-08-13T19:03:33.908Z"
   },
   {
    "duration": 19,
    "start_time": "2021-08-13T19:03:35.571Z"
   },
   {
    "duration": 22,
    "start_time": "2021-08-13T19:03:35.592Z"
   },
   {
    "duration": 62,
    "start_time": "2021-08-13T19:03:35.616Z"
   },
   {
    "duration": 33,
    "start_time": "2021-08-13T19:03:35.681Z"
   },
   {
    "duration": 38,
    "start_time": "2021-08-13T19:03:35.756Z"
   },
   {
    "duration": 4,
    "start_time": "2021-08-13T19:03:35.797Z"
   },
   {
    "duration": 505,
    "start_time": "2021-08-13T19:03:35.804Z"
   },
   {
    "duration": 12,
    "start_time": "2021-08-13T19:03:36.312Z"
   },
   {
    "duration": 515,
    "start_time": "2021-08-13T19:03:36.327Z"
   },
   {
    "duration": 18,
    "start_time": "2021-08-13T19:03:36.844Z"
   },
   {
    "duration": 2117,
    "start_time": "2021-08-13T22:19:56.859Z"
   },
   {
    "duration": 70,
    "start_time": "2021-08-13T22:19:58.979Z"
   },
   {
    "duration": 5,
    "start_time": "2021-08-13T22:19:59.051Z"
   },
   {
    "duration": 17,
    "start_time": "2021-08-13T22:19:59.059Z"
   },
   {
    "duration": 29,
    "start_time": "2021-08-13T22:19:59.079Z"
   },
   {
    "duration": 18,
    "start_time": "2021-08-13T22:19:59.110Z"
   },
   {
    "duration": 48,
    "start_time": "2021-08-13T22:19:59.131Z"
   },
   {
    "duration": 27,
    "start_time": "2021-08-13T22:19:59.183Z"
   },
   {
    "duration": 63,
    "start_time": "2021-08-13T22:19:59.213Z"
   },
   {
    "duration": 15,
    "start_time": "2021-08-13T22:19:59.279Z"
   },
   {
    "duration": 23,
    "start_time": "2021-08-13T22:19:59.296Z"
   },
   {
    "duration": 78,
    "start_time": "2021-08-13T22:19:59.321Z"
   },
   {
    "duration": 64,
    "start_time": "2021-08-13T22:19:59.402Z"
   },
   {
    "duration": 10,
    "start_time": "2021-08-13T22:19:59.468Z"
   },
   {
    "duration": 16,
    "start_time": "2021-08-13T22:19:59.480Z"
   },
   {
    "duration": 286,
    "start_time": "2021-08-13T22:19:59.499Z"
   },
   {
    "duration": 25,
    "start_time": "2021-08-13T22:19:59.788Z"
   },
   {
    "duration": 605,
    "start_time": "2021-08-13T22:19:59.816Z"
   },
   {
    "duration": 11,
    "start_time": "2021-08-13T22:20:00.423Z"
   },
   {
    "duration": 52,
    "start_time": "2021-08-13T22:20:00.436Z"
   },
   {
    "duration": 1061,
    "start_time": "2021-08-13T22:20:00.490Z"
   },
   {
    "duration": 4,
    "start_time": "2021-08-13T22:20:01.556Z"
   },
   {
    "duration": 638,
    "start_time": "2021-08-13T22:20:01.564Z"
   },
   {
    "duration": 59,
    "start_time": "2021-08-13T22:20:02.206Z"
   },
   {
    "duration": 1998,
    "start_time": "2021-08-13T22:20:02.268Z"
   },
   {
    "duration": 22,
    "start_time": "2021-08-13T22:20:04.268Z"
   },
   {
    "duration": 24,
    "start_time": "2021-08-13T22:20:04.293Z"
   },
   {
    "duration": 65,
    "start_time": "2021-08-13T22:20:04.319Z"
   },
   {
    "duration": 70,
    "start_time": "2021-08-13T22:20:04.386Z"
   },
   {
    "duration": 33,
    "start_time": "2021-08-13T22:20:04.458Z"
   },
   {
    "duration": 4,
    "start_time": "2021-08-13T22:20:04.493Z"
   },
   {
    "duration": 520,
    "start_time": "2021-08-13T22:20:04.499Z"
   },
   {
    "duration": 10,
    "start_time": "2021-08-13T22:20:05.021Z"
   },
   {
    "duration": 503,
    "start_time": "2021-08-13T22:20:05.033Z"
   },
   {
    "duration": 21,
    "start_time": "2021-08-13T22:20:05.538Z"
   },
   {
    "duration": 9,
    "start_time": "2021-08-13T22:28:09.629Z"
   },
   {
    "duration": 517,
    "start_time": "2021-08-13T22:29:47.427Z"
   },
   {
    "duration": 395,
    "start_time": "2021-08-13T22:29:58.034Z"
   },
   {
    "duration": 2206,
    "start_time": "2021-08-13T22:30:25.537Z"
   },
   {
    "duration": 69,
    "start_time": "2021-08-13T22:30:27.746Z"
   },
   {
    "duration": 6,
    "start_time": "2021-08-13T22:30:27.818Z"
   },
   {
    "duration": 35,
    "start_time": "2021-08-13T22:30:27.826Z"
   },
   {
    "duration": 24,
    "start_time": "2021-08-13T22:30:27.864Z"
   },
   {
    "duration": 19,
    "start_time": "2021-08-13T22:30:27.890Z"
   },
   {
    "duration": 55,
    "start_time": "2021-08-13T22:30:27.911Z"
   },
   {
    "duration": 33,
    "start_time": "2021-08-13T22:30:27.970Z"
   },
   {
    "duration": 63,
    "start_time": "2021-08-13T22:30:28.007Z"
   },
   {
    "duration": 18,
    "start_time": "2021-08-13T22:30:28.073Z"
   },
   {
    "duration": 504,
    "start_time": "2021-08-13T22:30:28.094Z"
   },
   {
    "duration": 479,
    "start_time": "2021-08-13T22:30:28.123Z"
   },
   {
    "duration": 465,
    "start_time": "2021-08-13T22:30:28.139Z"
   },
   {
    "duration": 448,
    "start_time": "2021-08-13T22:30:28.158Z"
   },
   {
    "duration": 430,
    "start_time": "2021-08-13T22:30:28.178Z"
   },
   {
    "duration": 417,
    "start_time": "2021-08-13T22:30:28.193Z"
   },
   {
    "duration": 405,
    "start_time": "2021-08-13T22:30:28.208Z"
   },
   {
    "duration": 391,
    "start_time": "2021-08-13T22:30:28.224Z"
   },
   {
    "duration": 378,
    "start_time": "2021-08-13T22:30:28.239Z"
   },
   {
    "duration": 338,
    "start_time": "2021-08-13T22:30:28.281Z"
   },
   {
    "duration": 315,
    "start_time": "2021-08-13T22:30:28.307Z"
   },
   {
    "duration": 293,
    "start_time": "2021-08-13T22:30:28.331Z"
   },
   {
    "duration": 269,
    "start_time": "2021-08-13T22:30:28.357Z"
   },
   {
    "duration": 262,
    "start_time": "2021-08-13T22:30:28.366Z"
   },
   {
    "duration": 259,
    "start_time": "2021-08-13T22:30:28.372Z"
   },
   {
    "duration": 234,
    "start_time": "2021-08-13T22:30:28.399Z"
   },
   {
    "duration": 214,
    "start_time": "2021-08-13T22:30:28.421Z"
   },
   {
    "duration": 208,
    "start_time": "2021-08-13T22:30:28.429Z"
   },
   {
    "duration": 201,
    "start_time": "2021-08-13T22:30:28.453Z"
   },
   {
    "duration": 198,
    "start_time": "2021-08-13T22:30:28.459Z"
   },
   {
    "duration": 188,
    "start_time": "2021-08-13T22:30:28.471Z"
   },
   {
    "duration": 182,
    "start_time": "2021-08-13T22:30:28.479Z"
   },
   {
    "duration": 170,
    "start_time": "2021-08-13T22:30:28.495Z"
   },
   {
    "duration": 159,
    "start_time": "2021-08-13T22:30:28.508Z"
   },
   {
    "duration": 148,
    "start_time": "2021-08-13T22:30:28.521Z"
   },
   {
    "duration": 146,
    "start_time": "2021-08-13T22:30:28.525Z"
   },
   {
    "duration": 6,
    "start_time": "2021-08-13T22:31:26.763Z"
   },
   {
    "duration": 17,
    "start_time": "2021-08-13T22:31:34.561Z"
   },
   {
    "duration": 16,
    "start_time": "2021-08-13T22:32:11.553Z"
   },
   {
    "duration": 136,
    "start_time": "2021-08-13T22:34:00.376Z"
   },
   {
    "duration": 16,
    "start_time": "2021-08-13T22:34:06.052Z"
   },
   {
    "duration": 22,
    "start_time": "2021-08-13T22:35:26.923Z"
   },
   {
    "duration": 13,
    "start_time": "2021-08-13T22:35:38.366Z"
   },
   {
    "duration": 396,
    "start_time": "2021-08-13T22:35:47.512Z"
   },
   {
    "duration": 374,
    "start_time": "2021-08-13T22:35:50.637Z"
   },
   {
    "duration": 13,
    "start_time": "2021-08-13T22:35:57.544Z"
   },
   {
    "duration": 19,
    "start_time": "2021-08-13T22:36:35.054Z"
   },
   {
    "duration": 19,
    "start_time": "2021-08-13T22:36:48.993Z"
   },
   {
    "duration": 364,
    "start_time": "2021-08-13T22:38:40.844Z"
   },
   {
    "duration": 374,
    "start_time": "2021-08-13T22:39:18.919Z"
   },
   {
    "duration": 351,
    "start_time": "2021-08-13T22:39:42.094Z"
   },
   {
    "duration": 375,
    "start_time": "2021-08-13T22:39:54.603Z"
   },
   {
    "duration": 31,
    "start_time": "2021-08-13T22:40:13.578Z"
   },
   {
    "duration": 31,
    "start_time": "2021-08-13T22:40:32.983Z"
   },
   {
    "duration": 32,
    "start_time": "2021-08-13T22:45:18.394Z"
   },
   {
    "duration": 34,
    "start_time": "2021-08-13T22:45:27.098Z"
   },
   {
    "duration": 43,
    "start_time": "2021-08-13T22:46:35.966Z"
   },
   {
    "duration": 57,
    "start_time": "2021-08-13T22:47:02.444Z"
   },
   {
    "duration": 44,
    "start_time": "2021-08-13T22:47:15.642Z"
   },
   {
    "duration": 2105,
    "start_time": "2021-08-13T22:52:55.876Z"
   },
   {
    "duration": 68,
    "start_time": "2021-08-13T22:52:57.985Z"
   },
   {
    "duration": 6,
    "start_time": "2021-08-13T22:52:58.057Z"
   },
   {
    "duration": 20,
    "start_time": "2021-08-13T22:52:58.066Z"
   },
   {
    "duration": 26,
    "start_time": "2021-08-13T22:52:58.088Z"
   },
   {
    "duration": 58,
    "start_time": "2021-08-13T22:52:58.118Z"
   },
   {
    "duration": 27,
    "start_time": "2021-08-13T22:52:58.179Z"
   },
   {
    "duration": 59,
    "start_time": "2021-08-13T22:52:58.210Z"
   },
   {
    "duration": 30,
    "start_time": "2021-08-13T22:52:58.272Z"
   },
   {
    "duration": 15,
    "start_time": "2021-08-13T22:52:58.304Z"
   },
   {
    "duration": 76,
    "start_time": "2021-08-13T22:52:58.322Z"
   },
   {
    "duration": 8,
    "start_time": "2021-08-13T22:52:58.400Z"
   },
   {
    "duration": 53,
    "start_time": "2021-08-13T22:52:58.411Z"
   },
   {
    "duration": 52,
    "start_time": "2021-08-13T22:52:58.466Z"
   },
   {
    "duration": 63,
    "start_time": "2021-08-13T22:52:58.520Z"
   },
   {
    "duration": 10,
    "start_time": "2021-08-13T22:52:58.585Z"
   },
   {
    "duration": 18,
    "start_time": "2021-08-13T22:52:58.597Z"
   },
   {
    "duration": 267,
    "start_time": "2021-08-13T22:52:58.617Z"
   },
   {
    "duration": 26,
    "start_time": "2021-08-13T22:52:58.886Z"
   },
   {
    "duration": 595,
    "start_time": "2021-08-13T22:52:58.914Z"
   },
   {
    "duration": 10,
    "start_time": "2021-08-13T22:52:59.512Z"
   },
   {
    "duration": 50,
    "start_time": "2021-08-13T22:52:59.524Z"
   },
   {
    "duration": 1012,
    "start_time": "2021-08-13T22:52:59.578Z"
   },
   {
    "duration": 3,
    "start_time": "2021-08-13T22:53:00.593Z"
   },
   {
    "duration": 578,
    "start_time": "2021-08-13T22:53:00.598Z"
   },
   {
    "duration": 28,
    "start_time": "2021-08-13T22:53:01.179Z"
   },
   {
    "duration": 1707,
    "start_time": "2021-08-13T22:53:01.209Z"
   },
   {
    "duration": 18,
    "start_time": "2021-08-13T22:53:02.918Z"
   },
   {
    "duration": 39,
    "start_time": "2021-08-13T22:53:02.938Z"
   },
   {
    "duration": 30,
    "start_time": "2021-08-13T22:53:02.979Z"
   },
   {
    "duration": 65,
    "start_time": "2021-08-13T22:53:03.011Z"
   },
   {
    "duration": 30,
    "start_time": "2021-08-13T22:53:03.078Z"
   },
   {
    "duration": 3,
    "start_time": "2021-08-13T22:53:03.110Z"
   },
   {
    "duration": 481,
    "start_time": "2021-08-13T22:53:03.157Z"
   },
   {
    "duration": 15,
    "start_time": "2021-08-13T22:53:03.641Z"
   },
   {
    "duration": 465,
    "start_time": "2021-08-13T22:53:03.659Z"
   },
   {
    "duration": 10,
    "start_time": "2021-08-13T22:53:04.126Z"
   },
   {
    "duration": 2087,
    "start_time": "2021-08-13T22:57:13.354Z"
   },
   {
    "duration": 68,
    "start_time": "2021-08-13T22:57:15.444Z"
   },
   {
    "duration": 5,
    "start_time": "2021-08-13T22:57:15.515Z"
   },
   {
    "duration": 33,
    "start_time": "2021-08-13T22:57:15.523Z"
   },
   {
    "duration": 28,
    "start_time": "2021-08-13T22:57:15.558Z"
   },
   {
    "duration": 18,
    "start_time": "2021-08-13T22:57:15.588Z"
   },
   {
    "duration": 51,
    "start_time": "2021-08-13T22:57:15.609Z"
   },
   {
    "duration": 29,
    "start_time": "2021-08-13T22:57:15.664Z"
   },
   {
    "duration": 60,
    "start_time": "2021-08-13T22:57:15.696Z"
   },
   {
    "duration": 16,
    "start_time": "2021-08-13T22:57:15.758Z"
   },
   {
    "duration": 42,
    "start_time": "2021-08-13T22:57:15.776Z"
   },
   {
    "duration": 5,
    "start_time": "2021-08-13T22:57:15.821Z"
   },
   {
    "duration": 50,
    "start_time": "2021-08-13T22:57:15.857Z"
   },
   {
    "duration": 6,
    "start_time": "2021-08-13T22:57:15.910Z"
   },
   {
    "duration": 52,
    "start_time": "2021-08-13T22:57:15.918Z"
   },
   {
    "duration": 43,
    "start_time": "2021-08-13T22:57:15.972Z"
   },
   {
    "duration": 8,
    "start_time": "2021-08-13T22:57:16.018Z"
   },
   {
    "duration": 17,
    "start_time": "2021-08-13T22:57:16.056Z"
   },
   {
    "duration": 244,
    "start_time": "2021-08-13T22:57:16.075Z"
   },
   {
    "duration": 39,
    "start_time": "2021-08-13T22:57:16.321Z"
   },
   {
    "duration": 608,
    "start_time": "2021-08-13T22:57:16.362Z"
   },
   {
    "duration": 9,
    "start_time": "2021-08-13T22:57:16.972Z"
   },
   {
    "duration": 27,
    "start_time": "2021-08-13T22:57:16.986Z"
   },
   {
    "duration": 1074,
    "start_time": "2021-08-13T22:57:17.016Z"
   },
   {
    "duration": 4,
    "start_time": "2021-08-13T22:57:18.094Z"
   },
   {
    "duration": 571,
    "start_time": "2021-08-13T22:57:18.101Z"
   },
   {
    "duration": 29,
    "start_time": "2021-08-13T22:57:18.674Z"
   },
   {
    "duration": 1721,
    "start_time": "2021-08-13T22:57:18.705Z"
   },
   {
    "duration": 31,
    "start_time": "2021-08-13T22:57:20.428Z"
   },
   {
    "duration": 23,
    "start_time": "2021-08-13T22:57:20.461Z"
   },
   {
    "duration": 31,
    "start_time": "2021-08-13T22:57:20.486Z"
   },
   {
    "duration": 64,
    "start_time": "2021-08-13T22:57:20.519Z"
   },
   {
    "duration": 76,
    "start_time": "2021-08-13T22:57:20.585Z"
   },
   {
    "duration": 3,
    "start_time": "2021-08-13T22:57:20.664Z"
   },
   {
    "duration": 459,
    "start_time": "2021-08-13T22:57:20.670Z"
   },
   {
    "duration": 10,
    "start_time": "2021-08-13T22:57:21.132Z"
   },
   {
    "duration": 459,
    "start_time": "2021-08-13T22:57:21.144Z"
   },
   {
    "duration": 10,
    "start_time": "2021-08-13T22:57:21.606Z"
   },
   {
    "duration": 2154,
    "start_time": "2021-08-13T23:06:53.922Z"
   },
   {
    "duration": 70,
    "start_time": "2021-08-13T23:06:56.079Z"
   },
   {
    "duration": 4,
    "start_time": "2021-08-13T23:06:56.156Z"
   },
   {
    "duration": 18,
    "start_time": "2021-08-13T23:06:56.164Z"
   },
   {
    "duration": 24,
    "start_time": "2021-08-13T23:06:56.185Z"
   },
   {
    "duration": 62,
    "start_time": "2021-08-13T23:06:56.212Z"
   },
   {
    "duration": 30,
    "start_time": "2021-08-13T23:06:56.277Z"
   },
   {
    "duration": 55,
    "start_time": "2021-08-13T23:06:56.313Z"
   },
   {
    "duration": 32,
    "start_time": "2021-08-13T23:06:56.373Z"
   },
   {
    "duration": 59,
    "start_time": "2021-08-13T23:06:56.407Z"
   },
   {
    "duration": 41,
    "start_time": "2021-08-13T23:06:56.468Z"
   },
   {
    "duration": 5,
    "start_time": "2021-08-13T23:06:56.512Z"
   },
   {
    "duration": 82,
    "start_time": "2021-08-13T23:06:56.519Z"
   },
   {
    "duration": 498,
    "start_time": "2021-08-13T23:06:56.603Z"
   },
   {
    "duration": 496,
    "start_time": "2021-08-13T23:06:56.608Z"
   },
   {
    "duration": 488,
    "start_time": "2021-08-13T23:06:56.618Z"
   },
   {
    "duration": 486,
    "start_time": "2021-08-13T23:06:56.622Z"
   },
   {
    "duration": 484,
    "start_time": "2021-08-13T23:06:56.625Z"
   },
   {
    "duration": 482,
    "start_time": "2021-08-13T23:06:56.629Z"
   },
   {
    "duration": 471,
    "start_time": "2021-08-13T23:06:56.641Z"
   },
   {
    "duration": 466,
    "start_time": "2021-08-13T23:06:56.647Z"
   },
   {
    "duration": 459,
    "start_time": "2021-08-13T23:06:56.656Z"
   },
   {
    "duration": 456,
    "start_time": "2021-08-13T23:06:56.660Z"
   },
   {
    "duration": 449,
    "start_time": "2021-08-13T23:06:56.669Z"
   },
   {
    "duration": 446,
    "start_time": "2021-08-13T23:06:56.673Z"
   },
   {
    "duration": 444,
    "start_time": "2021-08-13T23:06:56.676Z"
   },
   {
    "duration": 443,
    "start_time": "2021-08-13T23:06:56.679Z"
   },
   {
    "duration": 431,
    "start_time": "2021-08-13T23:06:56.692Z"
   },
   {
    "duration": 429,
    "start_time": "2021-08-13T23:06:56.696Z"
   },
   {
    "duration": 422,
    "start_time": "2021-08-13T23:06:56.705Z"
   },
   {
    "duration": 420,
    "start_time": "2021-08-13T23:06:56.708Z"
   },
   {
    "duration": 419,
    "start_time": "2021-08-13T23:06:56.711Z"
   },
   {
    "duration": 409,
    "start_time": "2021-08-13T23:06:56.722Z"
   },
   {
    "duration": 408,
    "start_time": "2021-08-13T23:06:56.725Z"
   },
   {
    "duration": 405,
    "start_time": "2021-08-13T23:06:56.729Z"
   },
   {
    "duration": 394,
    "start_time": "2021-08-13T23:06:56.741Z"
   },
   {
    "duration": 393,
    "start_time": "2021-08-13T23:06:56.744Z"
   },
   {
    "duration": 383,
    "start_time": "2021-08-13T23:06:56.755Z"
   },
   {
    "duration": 14,
    "start_time": "2021-08-13T23:07:21.446Z"
   },
   {
    "duration": 22,
    "start_time": "2021-08-13T23:07:31.424Z"
   },
   {
    "duration": 53,
    "start_time": "2021-08-13T23:16:11.379Z"
   },
   {
    "duration": 2232,
    "start_time": "2021-08-13T23:56:58.994Z"
   },
   {
    "duration": 79,
    "start_time": "2021-08-13T23:57:04.088Z"
   },
   {
    "duration": 6,
    "start_time": "2021-08-13T23:57:05.256Z"
   },
   {
    "duration": 14,
    "start_time": "2021-08-13T23:57:06.475Z"
   },
   {
    "duration": 23,
    "start_time": "2021-08-13T23:57:06.973Z"
   },
   {
    "duration": 19,
    "start_time": "2021-08-13T23:57:10.628Z"
   },
   {
    "duration": 28,
    "start_time": "2021-08-13T23:57:11.115Z"
   },
   {
    "duration": 32,
    "start_time": "2021-08-13T23:57:11.649Z"
   },
   {
    "duration": 28,
    "start_time": "2021-08-13T23:57:12.717Z"
   },
   {
    "duration": 16,
    "start_time": "2021-08-13T23:57:13.900Z"
   },
   {
    "duration": 47,
    "start_time": "2021-08-13T23:57:15.135Z"
   },
   {
    "duration": 7,
    "start_time": "2021-08-13T23:57:19.620Z"
   },
   {
    "duration": 51,
    "start_time": "2021-08-13T23:57:20.001Z"
   },
   {
    "duration": 65,
    "start_time": "2021-08-13T23:57:22.814Z"
   },
   {
    "duration": 539,
    "start_time": "2021-08-14T00:02:59.450Z"
   },
   {
    "duration": 122,
    "start_time": "2021-08-14T00:03:08.414Z"
   },
   {
    "duration": 4700,
    "start_time": "2021-08-14T00:03:29.738Z"
   },
   {
    "duration": 4783,
    "start_time": "2021-08-14T00:04:04.039Z"
   },
   {
    "duration": 4773,
    "start_time": "2021-08-14T00:04:40.141Z"
   },
   {
    "duration": 5204,
    "start_time": "2021-08-14T00:05:41.236Z"
   },
   {
    "duration": 4763,
    "start_time": "2021-08-14T00:06:16.295Z"
   },
   {
    "duration": 619,
    "start_time": "2021-08-14T00:06:39.085Z"
   },
   {
    "duration": 626,
    "start_time": "2021-08-14T00:06:47.760Z"
   },
   {
    "duration": 8974,
    "start_time": "2021-08-14T00:07:00.100Z"
   },
   {
    "duration": 44,
    "start_time": "2021-08-14T00:07:48.465Z"
   },
   {
    "duration": 39,
    "start_time": "2021-08-14T00:08:29.335Z"
   },
   {
    "duration": 481,
    "start_time": "2021-08-14T00:08:37.744Z"
   },
   {
    "duration": 62,
    "start_time": "2021-08-14T00:08:38.228Z"
   },
   {
    "duration": 5,
    "start_time": "2021-08-14T00:08:38.544Z"
   },
   {
    "duration": 15,
    "start_time": "2021-08-14T00:08:39.005Z"
   },
   {
    "duration": 23,
    "start_time": "2021-08-14T00:08:39.482Z"
   },
   {
    "duration": 13,
    "start_time": "2021-08-14T00:08:40.538Z"
   },
   {
    "duration": 26,
    "start_time": "2021-08-14T00:08:40.882Z"
   },
   {
    "duration": 29,
    "start_time": "2021-08-14T00:08:41.178Z"
   },
   {
    "duration": 27,
    "start_time": "2021-08-14T00:08:41.539Z"
   },
   {
    "duration": 17,
    "start_time": "2021-08-14T00:08:41.850Z"
   },
   {
    "duration": 50,
    "start_time": "2021-08-14T00:08:42.234Z"
   },
   {
    "duration": 39,
    "start_time": "2021-08-14T00:09:09.268Z"
   },
   {
    "duration": 27,
    "start_time": "2021-08-14T00:10:20.199Z"
   },
   {
    "duration": 27,
    "start_time": "2021-08-14T00:10:24.506Z"
   },
   {
    "duration": 988,
    "start_time": "2021-08-14T00:10:54.650Z"
   },
   {
    "duration": 626,
    "start_time": "2021-08-14T00:11:51.620Z"
   },
   {
    "duration": 642,
    "start_time": "2021-08-14T00:11:56.256Z"
   },
   {
    "duration": 984,
    "start_time": "2021-08-14T00:12:17.543Z"
   },
   {
    "duration": 639,
    "start_time": "2021-08-14T00:13:16.537Z"
   },
   {
    "duration": 636,
    "start_time": "2021-08-14T00:13:46.835Z"
   },
   {
    "duration": 693,
    "start_time": "2021-08-14T00:14:10.582Z"
   },
   {
    "duration": 2121,
    "start_time": "2021-08-14T00:14:34.167Z"
   },
   {
    "duration": 65,
    "start_time": "2021-08-14T00:14:36.291Z"
   },
   {
    "duration": 4,
    "start_time": "2021-08-14T00:14:36.359Z"
   },
   {
    "duration": 26,
    "start_time": "2021-08-14T00:14:36.366Z"
   },
   {
    "duration": 32,
    "start_time": "2021-08-14T00:14:36.394Z"
   },
   {
    "duration": 30,
    "start_time": "2021-08-14T00:14:36.429Z"
   },
   {
    "duration": 34,
    "start_time": "2021-08-14T00:14:36.462Z"
   },
   {
    "duration": 32,
    "start_time": "2021-08-14T00:14:37.700Z"
   },
   {
    "duration": 27,
    "start_time": "2021-08-14T00:14:40.150Z"
   },
   {
    "duration": 17,
    "start_time": "2021-08-14T00:14:41.216Z"
   },
   {
    "duration": 42,
    "start_time": "2021-08-14T00:14:42.477Z"
   },
   {
    "duration": 6,
    "start_time": "2021-08-14T00:14:47.619Z"
   },
   {
    "duration": 51,
    "start_time": "2021-08-14T00:14:49.844Z"
   },
   {
    "duration": 613,
    "start_time": "2021-08-14T00:15:45.438Z"
   },
   {
    "duration": 87,
    "start_time": "2021-08-14T00:15:59.302Z"
   },
   {
    "duration": 709,
    "start_time": "2021-08-14T00:19:14.841Z"
   },
   {
    "duration": 166,
    "start_time": "2021-08-14T00:19:37.042Z"
   },
   {
    "duration": 2349,
    "start_time": "2021-08-14T00:20:20.416Z"
   },
   {
    "duration": 67,
    "start_time": "2021-08-14T00:20:22.768Z"
   },
   {
    "duration": 5,
    "start_time": "2021-08-14T00:20:22.837Z"
   },
   {
    "duration": 16,
    "start_time": "2021-08-14T00:20:22.857Z"
   },
   {
    "duration": 36,
    "start_time": "2021-08-14T00:20:22.875Z"
   },
   {
    "duration": 19,
    "start_time": "2021-08-14T00:20:22.913Z"
   },
   {
    "duration": 42,
    "start_time": "2021-08-14T00:20:22.934Z"
   },
   {
    "duration": 29,
    "start_time": "2021-08-14T00:20:22.980Z"
   },
   {
    "duration": 62,
    "start_time": "2021-08-14T00:20:23.012Z"
   },
   {
    "duration": 15,
    "start_time": "2021-08-14T00:20:23.077Z"
   },
   {
    "duration": 73,
    "start_time": "2021-08-14T00:20:23.094Z"
   },
   {
    "duration": 5,
    "start_time": "2021-08-14T00:20:23.170Z"
   },
   {
    "duration": 61,
    "start_time": "2021-08-14T00:20:23.177Z"
   },
   {
    "duration": 1362,
    "start_time": "2021-08-14T00:20:23.241Z"
   },
   {
    "duration": 22,
    "start_time": "2021-08-14T00:20:24.605Z"
   },
   {
    "duration": 61,
    "start_time": "2021-08-14T00:20:24.629Z"
   },
   {
    "duration": 9,
    "start_time": "2021-08-14T00:20:24.692Z"
   },
   {
    "duration": 20,
    "start_time": "2021-08-14T00:20:24.704Z"
   },
   {
    "duration": 248,
    "start_time": "2021-08-14T00:20:24.756Z"
   },
   {
    "duration": 25,
    "start_time": "2021-08-14T00:20:25.006Z"
   },
   {
    "duration": 606,
    "start_time": "2021-08-14T00:20:25.033Z"
   },
   {
    "duration": 16,
    "start_time": "2021-08-14T00:20:25.641Z"
   },
   {
    "duration": 25,
    "start_time": "2021-08-14T00:20:25.662Z"
   },
   {
    "duration": 1365,
    "start_time": "2021-08-14T00:20:25.690Z"
   },
   {
    "duration": 3,
    "start_time": "2021-08-14T00:20:27.058Z"
   },
   {
    "duration": 581,
    "start_time": "2021-08-14T00:20:27.064Z"
   },
   {
    "duration": 38,
    "start_time": "2021-08-14T00:20:27.648Z"
   },
   {
    "duration": 1716,
    "start_time": "2021-08-14T00:20:27.689Z"
   },
   {
    "duration": 19,
    "start_time": "2021-08-14T00:20:29.407Z"
   },
   {
    "duration": 40,
    "start_time": "2021-08-14T00:20:29.428Z"
   },
   {
    "duration": 31,
    "start_time": "2021-08-14T00:20:29.471Z"
   },
   {
    "duration": 70,
    "start_time": "2021-08-14T00:20:29.505Z"
   },
   {
    "duration": 30,
    "start_time": "2021-08-14T00:20:29.577Z"
   },
   {
    "duration": 45,
    "start_time": "2021-08-14T00:20:29.611Z"
   },
   {
    "duration": 479,
    "start_time": "2021-08-14T00:20:29.658Z"
   },
   {
    "duration": 18,
    "start_time": "2021-08-14T00:20:30.140Z"
   },
   {
    "duration": 485,
    "start_time": "2021-08-14T00:20:30.160Z"
   },
   {
    "duration": 11,
    "start_time": "2021-08-14T00:20:30.656Z"
   },
   {
    "duration": 16,
    "start_time": "2021-08-14T00:26:20.336Z"
   },
   {
    "duration": 2190,
    "start_time": "2021-08-14T00:35:30.291Z"
   },
   {
    "duration": 68,
    "start_time": "2021-08-14T00:35:32.484Z"
   },
   {
    "duration": 6,
    "start_time": "2021-08-14T00:35:32.556Z"
   },
   {
    "duration": 41,
    "start_time": "2021-08-14T00:35:32.564Z"
   },
   {
    "duration": 33,
    "start_time": "2021-08-14T00:35:32.607Z"
   },
   {
    "duration": 19,
    "start_time": "2021-08-14T00:35:32.642Z"
   },
   {
    "duration": 26,
    "start_time": "2021-08-14T00:35:32.663Z"
   },
   {
    "duration": 27,
    "start_time": "2021-08-14T00:35:32.693Z"
   },
   {
    "duration": 56,
    "start_time": "2021-08-14T00:35:32.723Z"
   },
   {
    "duration": 16,
    "start_time": "2021-08-14T00:35:32.781Z"
   },
   {
    "duration": 70,
    "start_time": "2021-08-14T00:35:32.799Z"
   },
   {
    "duration": 5,
    "start_time": "2021-08-14T00:35:32.872Z"
   },
   {
    "duration": 71,
    "start_time": "2021-08-14T00:35:32.879Z"
   },
   {
    "duration": 1265,
    "start_time": "2021-08-14T00:35:32.955Z"
   },
   {
    "duration": 16,
    "start_time": "2021-08-14T00:35:34.222Z"
   },
   {
    "duration": 22,
    "start_time": "2021-08-14T00:35:34.255Z"
   },
   {
    "duration": 43,
    "start_time": "2021-08-14T00:35:34.280Z"
   },
   {
    "duration": 34,
    "start_time": "2021-08-14T00:35:34.325Z"
   },
   {
    "duration": 16,
    "start_time": "2021-08-14T00:35:34.361Z"
   },
   {
    "duration": 248,
    "start_time": "2021-08-14T00:35:34.380Z"
   },
   {
    "duration": 33,
    "start_time": "2021-08-14T00:35:34.630Z"
   },
   {
    "duration": 580,
    "start_time": "2021-08-14T00:35:34.665Z"
   },
   {
    "duration": 14,
    "start_time": "2021-08-14T00:35:35.249Z"
   },
   {
    "duration": 27,
    "start_time": "2021-08-14T00:35:35.265Z"
   },
   {
    "duration": 1053,
    "start_time": "2021-08-14T00:35:35.294Z"
   },
   {
    "duration": 6,
    "start_time": "2021-08-14T00:35:36.350Z"
   },
   {
    "duration": 558,
    "start_time": "2021-08-14T00:35:36.358Z"
   },
   {
    "duration": 41,
    "start_time": "2021-08-14T00:35:36.919Z"
   },
   {
    "duration": 1643,
    "start_time": "2021-08-14T00:35:36.962Z"
   },
   {
    "duration": 18,
    "start_time": "2021-08-14T00:35:38.608Z"
   },
   {
    "duration": 45,
    "start_time": "2021-08-14T00:35:38.628Z"
   },
   {
    "duration": 30,
    "start_time": "2021-08-14T00:35:38.675Z"
   },
   {
    "duration": 62,
    "start_time": "2021-08-14T00:35:38.708Z"
   },
   {
    "duration": 31,
    "start_time": "2021-08-14T00:35:38.772Z"
   },
   {
    "duration": 3,
    "start_time": "2021-08-14T00:35:38.805Z"
   },
   {
    "duration": 504,
    "start_time": "2021-08-14T00:35:38.810Z"
   },
   {
    "duration": 10,
    "start_time": "2021-08-14T00:35:39.316Z"
   },
   {
    "duration": 466,
    "start_time": "2021-08-14T00:35:39.329Z"
   },
   {
    "duration": 10,
    "start_time": "2021-08-14T00:35:39.797Z"
   },
   {
    "duration": 2048,
    "start_time": "2021-08-14T01:28:14.480Z"
   },
   {
    "duration": 69,
    "start_time": "2021-08-14T01:28:16.531Z"
   },
   {
    "duration": 5,
    "start_time": "2021-08-14T01:28:16.603Z"
   },
   {
    "duration": 16,
    "start_time": "2021-08-14T01:28:16.612Z"
   },
   {
    "duration": 45,
    "start_time": "2021-08-14T01:28:16.630Z"
   },
   {
    "duration": 20,
    "start_time": "2021-08-14T01:28:16.677Z"
   },
   {
    "duration": 57,
    "start_time": "2021-08-14T01:28:16.699Z"
   },
   {
    "duration": 29,
    "start_time": "2021-08-14T01:28:16.760Z"
   },
   {
    "duration": 28,
    "start_time": "2021-08-14T01:28:16.792Z"
   },
   {
    "duration": 45,
    "start_time": "2021-08-14T01:28:16.822Z"
   },
   {
    "duration": 40,
    "start_time": "2021-08-14T01:28:16.870Z"
   },
   {
    "duration": 5,
    "start_time": "2021-08-14T01:28:16.913Z"
   },
   {
    "duration": 83,
    "start_time": "2021-08-14T01:28:16.920Z"
   },
   {
    "duration": 1314,
    "start_time": "2021-08-14T01:28:17.006Z"
   },
   {
    "duration": 34,
    "start_time": "2021-08-14T01:28:18.322Z"
   },
   {
    "duration": 23,
    "start_time": "2021-08-14T01:28:18.358Z"
   },
   {
    "duration": 41,
    "start_time": "2021-08-14T01:28:18.383Z"
   },
   {
    "duration": 32,
    "start_time": "2021-08-14T01:28:18.427Z"
   },
   {
    "duration": 16,
    "start_time": "2021-08-14T01:28:18.461Z"
   },
   {
    "duration": 245,
    "start_time": "2021-08-14T01:28:18.479Z"
   },
   {
    "duration": 37,
    "start_time": "2021-08-14T01:28:18.726Z"
   },
   {
    "duration": 573,
    "start_time": "2021-08-14T01:28:18.765Z"
   },
   {
    "duration": 17,
    "start_time": "2021-08-14T01:28:19.342Z"
   },
   {
    "duration": 32,
    "start_time": "2021-08-14T01:28:19.362Z"
   },
   {
    "duration": 1026,
    "start_time": "2021-08-14T01:28:19.397Z"
   },
   {
    "duration": 3,
    "start_time": "2021-08-14T01:28:20.425Z"
   },
   {
    "duration": 556,
    "start_time": "2021-08-14T01:28:20.430Z"
   },
   {
    "duration": 27,
    "start_time": "2021-08-14T01:28:20.989Z"
   },
   {
    "duration": 1720,
    "start_time": "2021-08-14T01:28:21.019Z"
   },
   {
    "duration": 29,
    "start_time": "2021-08-14T01:28:22.742Z"
   },
   {
    "duration": 23,
    "start_time": "2021-08-14T01:28:22.774Z"
   },
   {
    "duration": 70,
    "start_time": "2021-08-14T01:28:22.800Z"
   },
   {
    "duration": 30,
    "start_time": "2021-08-14T01:28:22.872Z"
   },
   {
    "duration": 71,
    "start_time": "2021-08-14T01:28:22.904Z"
   },
   {
    "duration": 3,
    "start_time": "2021-08-14T01:28:22.977Z"
   },
   {
    "duration": 474,
    "start_time": "2021-08-14T01:28:22.982Z"
   },
   {
    "duration": 10,
    "start_time": "2021-08-14T01:28:23.458Z"
   },
   {
    "duration": 454,
    "start_time": "2021-08-14T01:28:23.470Z"
   },
   {
    "duration": 10,
    "start_time": "2021-08-14T01:28:23.926Z"
   },
   {
    "duration": 1076,
    "start_time": "2021-08-14T02:11:11.631Z"
   },
   {
    "duration": 513,
    "start_time": "2021-08-14T02:11:19.595Z"
   },
   {
    "duration": 532,
    "start_time": "2021-08-14T02:11:43.437Z"
   },
   {
    "duration": 2038,
    "start_time": "2021-08-14T02:12:14.111Z"
   },
   {
    "duration": 68,
    "start_time": "2021-08-14T02:12:16.153Z"
   },
   {
    "duration": 6,
    "start_time": "2021-08-14T02:12:16.225Z"
   },
   {
    "duration": 16,
    "start_time": "2021-08-14T02:12:16.257Z"
   },
   {
    "duration": 23,
    "start_time": "2021-08-14T02:12:16.275Z"
   },
   {
    "duration": 17,
    "start_time": "2021-08-14T02:12:16.301Z"
   },
   {
    "duration": 29,
    "start_time": "2021-08-14T02:12:16.356Z"
   },
   {
    "duration": 31,
    "start_time": "2021-08-14T02:12:16.389Z"
   },
   {
    "duration": 57,
    "start_time": "2021-08-14T02:12:16.423Z"
   },
   {
    "duration": 15,
    "start_time": "2021-08-14T02:12:16.482Z"
   },
   {
    "duration": 80,
    "start_time": "2021-08-14T02:12:16.500Z"
   },
   {
    "duration": 5,
    "start_time": "2021-08-14T02:12:16.583Z"
   },
   {
    "duration": 70,
    "start_time": "2021-08-14T02:12:16.590Z"
   },
   {
    "duration": 1366,
    "start_time": "2021-08-14T02:12:16.662Z"
   },
   {
    "duration": 28,
    "start_time": "2021-08-14T02:12:18.031Z"
   },
   {
    "duration": 23,
    "start_time": "2021-08-14T02:12:18.061Z"
   },
   {
    "duration": 71,
    "start_time": "2021-08-14T02:12:18.086Z"
   },
   {
    "duration": 10,
    "start_time": "2021-08-14T02:12:18.160Z"
   },
   {
    "duration": 21,
    "start_time": "2021-08-14T02:12:18.172Z"
   },
   {
    "duration": 248,
    "start_time": "2021-08-14T02:12:18.196Z"
   },
   {
    "duration": 24,
    "start_time": "2021-08-14T02:12:18.455Z"
   },
   {
    "duration": 695,
    "start_time": "2021-08-14T02:12:18.482Z"
   },
   {
    "duration": 11,
    "start_time": "2021-08-14T02:12:19.181Z"
   },
   {
    "duration": 62,
    "start_time": "2021-08-14T02:12:19.195Z"
   },
   {
    "duration": 1051,
    "start_time": "2021-08-14T02:12:19.260Z"
   },
   {
    "duration": 5,
    "start_time": "2021-08-14T02:12:20.314Z"
   },
   {
    "duration": 580,
    "start_time": "2021-08-14T02:12:20.322Z"
   },
   {
    "duration": 53,
    "start_time": "2021-08-14T02:12:20.904Z"
   },
   {
    "duration": 1587,
    "start_time": "2021-08-14T02:12:20.960Z"
   },
   {
    "duration": 24,
    "start_time": "2021-08-14T02:12:22.549Z"
   },
   {
    "duration": 25,
    "start_time": "2021-08-14T02:12:22.576Z"
   },
   {
    "duration": 73,
    "start_time": "2021-08-14T02:12:22.604Z"
   },
   {
    "duration": 76,
    "start_time": "2021-08-14T02:12:22.680Z"
   },
   {
    "duration": 36,
    "start_time": "2021-08-14T02:12:22.759Z"
   },
   {
    "duration": 5,
    "start_time": "2021-08-14T02:12:22.798Z"
   },
   {
    "duration": 504,
    "start_time": "2021-08-14T02:12:22.806Z"
   },
   {
    "duration": 10,
    "start_time": "2021-08-14T02:12:23.314Z"
   },
   {
    "duration": 482,
    "start_time": "2021-08-14T02:12:23.327Z"
   },
   {
    "duration": 13,
    "start_time": "2021-08-14T02:12:23.812Z"
   },
   {
    "duration": 2062,
    "start_time": "2021-08-14T02:13:51.185Z"
   },
   {
    "duration": 67,
    "start_time": "2021-08-14T02:13:53.250Z"
   },
   {
    "duration": 5,
    "start_time": "2021-08-14T02:13:53.320Z"
   },
   {
    "duration": 36,
    "start_time": "2021-08-14T02:13:53.328Z"
   },
   {
    "duration": 27,
    "start_time": "2021-08-14T02:13:53.367Z"
   },
   {
    "duration": 19,
    "start_time": "2021-08-14T02:13:53.396Z"
   },
   {
    "duration": 50,
    "start_time": "2021-08-14T02:13:53.418Z"
   },
   {
    "duration": 28,
    "start_time": "2021-08-14T02:13:53.471Z"
   },
   {
    "duration": 63,
    "start_time": "2021-08-14T02:13:53.502Z"
   },
   {
    "duration": 16,
    "start_time": "2021-08-14T02:13:53.567Z"
   },
   {
    "duration": 71,
    "start_time": "2021-08-14T02:13:53.586Z"
   },
   {
    "duration": 6,
    "start_time": "2021-08-14T02:13:53.659Z"
   },
   {
    "duration": 57,
    "start_time": "2021-08-14T02:13:53.667Z"
   },
   {
    "duration": 1333,
    "start_time": "2021-08-14T02:13:53.726Z"
   },
   {
    "duration": 16,
    "start_time": "2021-08-14T02:13:55.061Z"
   },
   {
    "duration": 31,
    "start_time": "2021-08-14T02:13:55.079Z"
   },
   {
    "duration": 71,
    "start_time": "2021-08-14T02:13:55.112Z"
   },
   {
    "duration": 9,
    "start_time": "2021-08-14T02:13:55.185Z"
   },
   {
    "duration": 19,
    "start_time": "2021-08-14T02:13:55.196Z"
   },
   {
    "duration": 265,
    "start_time": "2021-08-14T02:13:55.218Z"
   },
   {
    "duration": 24,
    "start_time": "2021-08-14T02:13:55.486Z"
   },
   {
    "duration": 635,
    "start_time": "2021-08-14T02:13:55.513Z"
   },
   {
    "duration": 10,
    "start_time": "2021-08-14T02:13:56.153Z"
   },
   {
    "duration": 27,
    "start_time": "2021-08-14T02:13:56.166Z"
   },
   {
    "duration": 1114,
    "start_time": "2021-08-14T02:13:56.195Z"
   },
   {
    "duration": 4,
    "start_time": "2021-08-14T02:13:57.312Z"
   },
   {
    "duration": 579,
    "start_time": "2021-08-14T02:13:57.319Z"
   },
   {
    "duration": 29,
    "start_time": "2021-08-14T02:13:57.900Z"
   },
   {
    "duration": 1584,
    "start_time": "2021-08-14T02:13:57.931Z"
   },
   {
    "duration": 18,
    "start_time": "2021-08-14T02:13:59.518Z"
   },
   {
    "duration": 22,
    "start_time": "2021-08-14T02:13:59.556Z"
   },
   {
    "duration": 32,
    "start_time": "2021-08-14T02:13:59.580Z"
   },
   {
    "duration": 64,
    "start_time": "2021-08-14T02:13:59.614Z"
   },
   {
    "duration": 29,
    "start_time": "2021-08-14T02:13:59.680Z"
   },
   {
    "duration": 3,
    "start_time": "2021-08-14T02:13:59.712Z"
   },
   {
    "duration": 518,
    "start_time": "2021-08-14T02:13:59.717Z"
   },
   {
    "duration": 10,
    "start_time": "2021-08-14T02:14:00.237Z"
   },
   {
    "duration": 524,
    "start_time": "2021-08-14T02:14:00.257Z"
   },
   {
    "duration": 572,
    "start_time": "2021-08-14T02:14:00.212Z"
   },
   {
    "duration": 2107,
    "start_time": "2021-08-14T02:14:50.515Z"
   },
   {
    "duration": 68,
    "start_time": "2021-08-14T02:14:52.626Z"
   },
   {
    "duration": 6,
    "start_time": "2021-08-14T02:14:52.698Z"
   },
   {
    "duration": 18,
    "start_time": "2021-08-14T02:14:52.708Z"
   },
   {
    "duration": 26,
    "start_time": "2021-08-14T02:14:52.756Z"
   },
   {
    "duration": 20,
    "start_time": "2021-08-14T02:14:52.784Z"
   },
   {
    "duration": 56,
    "start_time": "2021-08-14T02:14:52.807Z"
   },
   {
    "duration": 31,
    "start_time": "2021-08-14T02:14:52.867Z"
   },
   {
    "duration": 61,
    "start_time": "2021-08-14T02:14:52.901Z"
   },
   {
    "duration": 18,
    "start_time": "2021-08-14T02:14:52.965Z"
   },
   {
    "duration": 71,
    "start_time": "2021-08-14T02:14:52.986Z"
   },
   {
    "duration": 7,
    "start_time": "2021-08-14T02:14:53.060Z"
   },
   {
    "duration": 53,
    "start_time": "2021-08-14T02:14:53.069Z"
   },
   {
    "duration": 1323,
    "start_time": "2021-08-14T02:14:53.124Z"
   },
   {
    "duration": 20,
    "start_time": "2021-08-14T02:14:54.450Z"
   },
   {
    "duration": 22,
    "start_time": "2021-08-14T02:14:54.472Z"
   },
   {
    "duration": 71,
    "start_time": "2021-08-14T02:14:54.497Z"
   },
   {
    "duration": 10,
    "start_time": "2021-08-14T02:14:54.571Z"
   },
   {
    "duration": 17,
    "start_time": "2021-08-14T02:14:54.583Z"
   },
   {
    "duration": 260,
    "start_time": "2021-08-14T02:14:54.603Z"
   },
   {
    "duration": 25,
    "start_time": "2021-08-14T02:14:54.865Z"
   },
   {
    "duration": 601,
    "start_time": "2021-08-14T02:14:54.892Z"
   },
   {
    "duration": 10,
    "start_time": "2021-08-14T02:14:55.499Z"
   },
   {
    "duration": 50,
    "start_time": "2021-08-14T02:14:55.512Z"
   },
   {
    "duration": 1078,
    "start_time": "2021-08-14T02:14:55.564Z"
   },
   {
    "duration": 12,
    "start_time": "2021-08-14T02:14:56.644Z"
   },
   {
    "duration": 544,
    "start_time": "2021-08-14T02:14:56.659Z"
   },
   {
    "duration": 51,
    "start_time": "2021-08-14T02:14:57.206Z"
   },
   {
    "duration": 1668,
    "start_time": "2021-08-14T02:14:57.260Z"
   },
   {
    "duration": 31,
    "start_time": "2021-08-14T02:14:58.930Z"
   },
   {
    "duration": 22,
    "start_time": "2021-08-14T02:14:58.963Z"
   },
   {
    "duration": 30,
    "start_time": "2021-08-14T02:14:58.987Z"
   },
   {
    "duration": 32,
    "start_time": "2021-08-14T02:14:59.055Z"
   },
   {
    "duration": 68,
    "start_time": "2021-08-14T02:14:59.090Z"
   },
   {
    "duration": 3,
    "start_time": "2021-08-14T02:14:59.161Z"
   },
   {
    "duration": 483,
    "start_time": "2021-08-14T02:14:59.166Z"
   },
   {
    "duration": 11,
    "start_time": "2021-08-14T02:14:59.652Z"
   },
   {
    "duration": 492,
    "start_time": "2021-08-14T02:14:59.666Z"
   },
   {
    "duration": 622,
    "start_time": "2021-08-14T02:14:59.538Z"
   },
   {
    "duration": 2117,
    "start_time": "2021-08-14T02:15:24.750Z"
   },
   {
    "duration": 66,
    "start_time": "2021-08-14T02:15:26.871Z"
   },
   {
    "duration": 19,
    "start_time": "2021-08-14T02:15:26.941Z"
   },
   {
    "duration": 27,
    "start_time": "2021-08-14T02:15:26.963Z"
   },
   {
    "duration": 27,
    "start_time": "2021-08-14T02:15:26.993Z"
   },
   {
    "duration": 46,
    "start_time": "2021-08-14T02:15:27.023Z"
   },
   {
    "duration": 30,
    "start_time": "2021-08-14T02:15:27.071Z"
   },
   {
    "duration": 55,
    "start_time": "2021-08-14T02:15:27.104Z"
   },
   {
    "duration": 28,
    "start_time": "2021-08-14T02:15:27.163Z"
   },
   {
    "duration": 16,
    "start_time": "2021-08-14T02:15:27.193Z"
   },
   {
    "duration": 78,
    "start_time": "2021-08-14T02:15:27.212Z"
   },
   {
    "duration": 5,
    "start_time": "2021-08-14T02:15:27.293Z"
   },
   {
    "duration": 75,
    "start_time": "2021-08-14T02:15:27.300Z"
   },
   {
    "duration": 1500,
    "start_time": "2021-08-14T02:15:27.377Z"
   },
   {
    "duration": 17,
    "start_time": "2021-08-14T02:15:28.881Z"
   },
   {
    "duration": 23,
    "start_time": "2021-08-14T02:15:28.900Z"
   },
   {
    "duration": 74,
    "start_time": "2021-08-14T02:15:28.925Z"
   },
   {
    "duration": 9,
    "start_time": "2021-08-14T02:15:29.002Z"
   },
   {
    "duration": 47,
    "start_time": "2021-08-14T02:15:29.013Z"
   },
   {
    "duration": 235,
    "start_time": "2021-08-14T02:15:29.062Z"
   },
   {
    "duration": 26,
    "start_time": "2021-08-14T02:15:29.300Z"
   },
   {
    "duration": 601,
    "start_time": "2021-08-14T02:15:29.329Z"
   },
   {
    "duration": 20,
    "start_time": "2021-08-14T02:15:29.935Z"
   },
   {
    "duration": 25,
    "start_time": "2021-08-14T02:15:29.957Z"
   },
   {
    "duration": 1046,
    "start_time": "2021-08-14T02:15:29.984Z"
   },
   {
    "duration": 4,
    "start_time": "2021-08-14T02:15:31.032Z"
   },
   {
    "duration": 576,
    "start_time": "2021-08-14T02:15:31.038Z"
   },
   {
    "duration": 46,
    "start_time": "2021-08-14T02:15:31.616Z"
   },
   {
    "duration": 1577,
    "start_time": "2021-08-14T02:15:31.664Z"
   },
   {
    "duration": 30,
    "start_time": "2021-08-14T02:15:33.244Z"
   },
   {
    "duration": 26,
    "start_time": "2021-08-14T02:15:33.277Z"
   },
   {
    "duration": 74,
    "start_time": "2021-08-14T02:15:33.305Z"
   },
   {
    "duration": 80,
    "start_time": "2021-08-14T02:15:33.382Z"
   },
   {
    "duration": 36,
    "start_time": "2021-08-14T02:15:33.465Z"
   },
   {
    "duration": 4,
    "start_time": "2021-08-14T02:15:33.504Z"
   },
   {
    "duration": 475,
    "start_time": "2021-08-14T02:15:33.555Z"
   },
   {
    "duration": 23,
    "start_time": "2021-08-14T02:15:34.033Z"
   },
   {
    "duration": 472,
    "start_time": "2021-08-14T02:15:34.059Z"
   },
   {
    "duration": 25,
    "start_time": "2021-08-14T02:15:34.534Z"
   },
   {
    "duration": 1548,
    "start_time": "2021-08-14T02:39:05.497Z"
   },
   {
    "duration": 1676,
    "start_time": "2021-08-14T02:39:13.460Z"
   },
   {
    "duration": 1603,
    "start_time": "2021-08-14T02:44:55.234Z"
   },
   {
    "duration": 1532,
    "start_time": "2021-08-14T02:45:06.498Z"
   },
   {
    "duration": 2150,
    "start_time": "2021-08-14T03:27:03.922Z"
   },
   {
    "duration": 68,
    "start_time": "2021-08-14T03:27:06.076Z"
   },
   {
    "duration": 10,
    "start_time": "2021-08-14T03:27:06.148Z"
   },
   {
    "duration": 20,
    "start_time": "2021-08-14T03:27:06.161Z"
   },
   {
    "duration": 39,
    "start_time": "2021-08-14T03:27:06.184Z"
   },
   {
    "duration": 39,
    "start_time": "2021-08-14T03:27:06.226Z"
   },
   {
    "duration": 28,
    "start_time": "2021-08-14T03:27:06.267Z"
   },
   {
    "duration": 60,
    "start_time": "2021-08-14T03:27:06.301Z"
   },
   {
    "duration": 31,
    "start_time": "2021-08-14T03:27:06.366Z"
   },
   {
    "duration": 56,
    "start_time": "2021-08-14T03:27:06.400Z"
   },
   {
    "duration": 44,
    "start_time": "2021-08-14T03:27:06.458Z"
   },
   {
    "duration": 7,
    "start_time": "2021-08-14T03:27:06.505Z"
   },
   {
    "duration": 87,
    "start_time": "2021-08-14T03:27:06.515Z"
   },
   {
    "duration": 1273,
    "start_time": "2021-08-14T03:27:06.605Z"
   },
   {
    "duration": 18,
    "start_time": "2021-08-14T03:27:07.881Z"
   },
   {
    "duration": 24,
    "start_time": "2021-08-14T03:27:07.902Z"
   },
   {
    "duration": 45,
    "start_time": "2021-08-14T03:27:07.957Z"
   },
   {
    "duration": 11,
    "start_time": "2021-08-14T03:27:08.005Z"
   },
   {
    "duration": 51,
    "start_time": "2021-08-14T03:27:08.019Z"
   },
   {
    "duration": 236,
    "start_time": "2021-08-14T03:27:08.073Z"
   },
   {
    "duration": 48,
    "start_time": "2021-08-14T03:27:08.312Z"
   },
   {
    "duration": 594,
    "start_time": "2021-08-14T03:27:08.363Z"
   },
   {
    "duration": 11,
    "start_time": "2021-08-14T03:27:08.965Z"
   },
   {
    "duration": 28,
    "start_time": "2021-08-14T03:27:08.979Z"
   },
   {
    "duration": 1018,
    "start_time": "2021-08-14T03:27:09.010Z"
   },
   {
    "duration": 544,
    "start_time": "2021-08-14T03:27:10.032Z"
   },
   {
    "duration": 27,
    "start_time": "2021-08-14T03:27:10.579Z"
   },
   {
    "duration": 1804,
    "start_time": "2021-08-14T03:27:10.609Z"
   },
   {
    "duration": 18,
    "start_time": "2021-08-14T03:27:12.416Z"
   },
   {
    "duration": 40,
    "start_time": "2021-08-14T03:27:12.436Z"
   },
   {
    "duration": 32,
    "start_time": "2021-08-14T03:27:12.478Z"
   },
   {
    "duration": 63,
    "start_time": "2021-08-14T03:27:12.512Z"
   },
   {
    "duration": 30,
    "start_time": "2021-08-14T03:27:12.577Z"
   },
   {
    "duration": 47,
    "start_time": "2021-08-14T03:27:12.609Z"
   },
   {
    "duration": 445,
    "start_time": "2021-08-14T03:27:12.658Z"
   },
   {
    "duration": 8,
    "start_time": "2021-08-14T03:27:13.105Z"
   },
   {
    "duration": 451,
    "start_time": "2021-08-14T03:27:13.115Z"
   },
   {
    "duration": 11,
    "start_time": "2021-08-14T03:27:13.568Z"
   },
   {
    "duration": 2098,
    "start_time": "2021-08-14T03:49:58.648Z"
   },
   {
    "duration": 70,
    "start_time": "2021-08-14T03:50:00.748Z"
   },
   {
    "duration": 5,
    "start_time": "2021-08-14T03:50:00.821Z"
   },
   {
    "duration": 36,
    "start_time": "2021-08-14T03:50:00.829Z"
   },
   {
    "duration": 60,
    "start_time": "2021-08-14T03:50:00.867Z"
   },
   {
    "duration": 23,
    "start_time": "2021-08-14T03:50:00.929Z"
   },
   {
    "duration": 30,
    "start_time": "2021-08-14T03:50:00.955Z"
   },
   {
    "duration": 53,
    "start_time": "2021-08-14T03:50:00.990Z"
   },
   {
    "duration": 38,
    "start_time": "2021-08-14T03:50:01.046Z"
   },
   {
    "duration": 27,
    "start_time": "2021-08-14T03:50:01.087Z"
   },
   {
    "duration": 64,
    "start_time": "2021-08-14T03:50:01.116Z"
   },
   {
    "duration": 6,
    "start_time": "2021-08-14T03:50:01.182Z"
   },
   {
    "duration": 71,
    "start_time": "2021-08-14T03:50:01.190Z"
   },
   {
    "duration": 1303,
    "start_time": "2021-08-14T03:50:01.263Z"
   },
   {
    "duration": 16,
    "start_time": "2021-08-14T03:50:02.568Z"
   },
   {
    "duration": 55,
    "start_time": "2021-08-14T03:50:02.586Z"
   },
   {
    "duration": 42,
    "start_time": "2021-08-14T03:50:02.644Z"
   },
   {
    "duration": 9,
    "start_time": "2021-08-14T03:50:02.688Z"
   },
   {
    "duration": 22,
    "start_time": "2021-08-14T03:50:02.699Z"
   },
   {
    "duration": 246,
    "start_time": "2021-08-14T03:50:02.724Z"
   },
   {
    "duration": 24,
    "start_time": "2021-08-14T03:50:02.972Z"
   },
   {
    "duration": 594,
    "start_time": "2021-08-14T03:50:02.999Z"
   },
   {
    "duration": 10,
    "start_time": "2021-08-14T03:50:03.598Z"
   },
   {
    "duration": 50,
    "start_time": "2021-08-14T03:50:03.611Z"
   },
   {
    "duration": 996,
    "start_time": "2021-08-14T03:50:03.663Z"
   },
   {
    "duration": 577,
    "start_time": "2021-08-14T03:50:04.662Z"
   },
   {
    "duration": 37,
    "start_time": "2021-08-14T03:50:05.241Z"
   },
   {
    "duration": 1725,
    "start_time": "2021-08-14T03:50:05.280Z"
   },
   {
    "duration": 17,
    "start_time": "2021-08-14T03:50:07.007Z"
   },
   {
    "duration": 45,
    "start_time": "2021-08-14T03:50:07.026Z"
   },
   {
    "duration": 32,
    "start_time": "2021-08-14T03:50:07.073Z"
   },
   {
    "duration": 63,
    "start_time": "2021-08-14T03:50:07.107Z"
   },
   {
    "duration": 36,
    "start_time": "2021-08-14T03:50:07.172Z"
   },
   {
    "duration": 46,
    "start_time": "2021-08-14T03:50:07.210Z"
   },
   {
    "duration": 454,
    "start_time": "2021-08-14T03:50:07.259Z"
   },
   {
    "duration": 9,
    "start_time": "2021-08-14T03:50:07.716Z"
   },
   {
    "duration": 2193,
    "start_time": "2021-08-14T03:53:14.530Z"
   },
   {
    "duration": 69,
    "start_time": "2021-08-14T03:53:16.727Z"
   },
   {
    "duration": 6,
    "start_time": "2021-08-14T03:53:16.800Z"
   },
   {
    "duration": 20,
    "start_time": "2021-08-14T03:53:16.809Z"
   },
   {
    "duration": 44,
    "start_time": "2021-08-14T03:53:16.832Z"
   },
   {
    "duration": 19,
    "start_time": "2021-08-14T03:53:16.879Z"
   },
   {
    "duration": 56,
    "start_time": "2021-08-14T03:53:16.901Z"
   },
   {
    "duration": 31,
    "start_time": "2021-08-14T03:53:16.960Z"
   },
   {
    "duration": 66,
    "start_time": "2021-08-14T03:53:16.994Z"
   },
   {
    "duration": 16,
    "start_time": "2021-08-14T03:53:17.063Z"
   },
   {
    "duration": 76,
    "start_time": "2021-08-14T03:53:17.081Z"
   },
   {
    "duration": 5,
    "start_time": "2021-08-14T03:53:17.160Z"
   },
   {
    "duration": 54,
    "start_time": "2021-08-14T03:53:17.167Z"
   },
   {
    "duration": 1339,
    "start_time": "2021-08-14T03:53:17.223Z"
   },
   {
    "duration": 16,
    "start_time": "2021-08-14T03:53:18.564Z"
   },
   {
    "duration": 20,
    "start_time": "2021-08-14T03:53:18.582Z"
   },
   {
    "duration": 80,
    "start_time": "2021-08-14T03:53:18.604Z"
   },
   {
    "duration": 9,
    "start_time": "2021-08-14T03:53:18.686Z"
   },
   {
    "duration": 20,
    "start_time": "2021-08-14T03:53:18.697Z"
   },
   {
    "duration": 247,
    "start_time": "2021-08-14T03:53:18.720Z"
   },
   {
    "duration": 26,
    "start_time": "2021-08-14T03:53:18.970Z"
   },
   {
    "duration": 606,
    "start_time": "2021-08-14T03:53:18.999Z"
   },
   {
    "duration": 11,
    "start_time": "2021-08-14T03:53:19.612Z"
   },
   {
    "duration": 49,
    "start_time": "2021-08-14T03:53:19.625Z"
   },
   {
    "duration": 1027,
    "start_time": "2021-08-14T03:53:19.676Z"
   },
   {
    "duration": 553,
    "start_time": "2021-08-14T03:53:20.705Z"
   },
   {
    "duration": 29,
    "start_time": "2021-08-14T03:53:21.261Z"
   },
   {
    "duration": 1522,
    "start_time": "2021-08-14T03:53:21.292Z"
   },
   {
    "duration": 18,
    "start_time": "2021-08-14T03:53:22.816Z"
   },
   {
    "duration": 38,
    "start_time": "2021-08-14T03:53:22.837Z"
   },
   {
    "duration": 30,
    "start_time": "2021-08-14T03:53:22.877Z"
   },
   {
    "duration": 66,
    "start_time": "2021-08-14T03:53:22.909Z"
   },
   {
    "duration": 30,
    "start_time": "2021-08-14T03:53:22.977Z"
   },
   {
    "duration": 3,
    "start_time": "2021-08-14T03:53:23.009Z"
   },
   {
    "duration": 490,
    "start_time": "2021-08-14T03:53:23.014Z"
   },
   {
    "duration": 9,
    "start_time": "2021-08-14T03:53:23.506Z"
   },
   {
    "duration": 565,
    "start_time": "2021-08-14T03:53:23.517Z"
   },
   {
    "duration": 13,
    "start_time": "2021-08-14T03:53:24.085Z"
   },
   {
    "duration": 2059,
    "start_time": "2021-08-15T04:43:28.534Z"
   },
   {
    "duration": 70,
    "start_time": "2021-08-15T04:43:30.596Z"
   },
   {
    "duration": 5,
    "start_time": "2021-08-15T04:43:30.668Z"
   },
   {
    "duration": 20,
    "start_time": "2021-08-15T04:43:30.676Z"
   },
   {
    "duration": 39,
    "start_time": "2021-08-15T04:43:30.698Z"
   },
   {
    "duration": 34,
    "start_time": "2021-08-15T04:43:30.739Z"
   },
   {
    "duration": 28,
    "start_time": "2021-08-15T04:43:30.776Z"
   },
   {
    "duration": 60,
    "start_time": "2021-08-15T04:43:30.807Z"
   },
   {
    "duration": 30,
    "start_time": "2021-08-15T04:43:30.870Z"
   },
   {
    "duration": 27,
    "start_time": "2021-08-15T04:43:30.903Z"
   },
   {
    "duration": 73,
    "start_time": "2021-08-15T04:43:30.933Z"
   },
   {
    "duration": 6,
    "start_time": "2021-08-15T04:43:31.009Z"
   },
   {
    "duration": 83,
    "start_time": "2021-08-15T04:43:31.019Z"
   },
   {
    "duration": 1413,
    "start_time": "2021-08-15T04:43:31.105Z"
   },
   {
    "duration": 18,
    "start_time": "2021-08-15T04:43:32.521Z"
   },
   {
    "duration": 43,
    "start_time": "2021-08-15T04:43:32.542Z"
   },
   {
    "duration": 43,
    "start_time": "2021-08-15T04:43:32.588Z"
   },
   {
    "duration": 38,
    "start_time": "2021-08-15T04:43:32.634Z"
   },
   {
    "duration": 25,
    "start_time": "2021-08-15T04:43:32.675Z"
   },
   {
    "duration": 265,
    "start_time": "2021-08-15T04:43:32.703Z"
   },
   {
    "duration": 24,
    "start_time": "2021-08-15T04:43:32.971Z"
   },
   {
    "duration": 601,
    "start_time": "2021-08-15T04:43:32.998Z"
   },
   {
    "duration": 10,
    "start_time": "2021-08-15T04:43:33.605Z"
   },
   {
    "duration": 54,
    "start_time": "2021-08-15T04:43:33.618Z"
   },
   {
    "duration": 1075,
    "start_time": "2021-08-15T04:43:33.674Z"
   },
   {
    "duration": 555,
    "start_time": "2021-08-15T04:43:34.752Z"
   },
   {
    "duration": 29,
    "start_time": "2021-08-15T04:43:35.309Z"
   },
   {
    "duration": 1591,
    "start_time": "2021-08-15T04:43:35.340Z"
   },
   {
    "duration": 18,
    "start_time": "2021-08-15T04:43:36.933Z"
   },
   {
    "duration": 22,
    "start_time": "2021-08-15T04:43:36.967Z"
   },
   {
    "duration": 29,
    "start_time": "2021-08-15T04:43:36.992Z"
   },
   {
    "duration": 67,
    "start_time": "2021-08-15T04:43:37.024Z"
   },
   {
    "duration": 30,
    "start_time": "2021-08-15T04:43:37.094Z"
   },
   {
    "duration": 4,
    "start_time": "2021-08-15T04:43:37.167Z"
   },
   {
    "duration": 474,
    "start_time": "2021-08-15T04:43:37.173Z"
   },
   {
    "duration": 9,
    "start_time": "2021-08-15T04:43:37.649Z"
   },
   {
    "duration": 476,
    "start_time": "2021-08-15T04:43:37.667Z"
   },
   {
    "duration": 23,
    "start_time": "2021-08-15T04:43:38.145Z"
   },
   {
    "duration": 106,
    "start_time": "2021-08-15T21:41:00.173Z"
   },
   {
    "duration": 93,
    "start_time": "2021-08-15T21:41:15.917Z"
   },
   {
    "duration": 318,
    "start_time": "2021-08-15T21:41:31.186Z"
   },
   {
    "duration": 1990,
    "start_time": "2021-08-15T21:41:42.527Z"
   },
   {
    "duration": 97,
    "start_time": "2021-08-15T21:41:44.521Z"
   },
   {
    "duration": 8,
    "start_time": "2021-08-15T21:41:44.622Z"
   },
   {
    "duration": 43,
    "start_time": "2021-08-15T21:41:44.633Z"
   },
   {
    "duration": 32,
    "start_time": "2021-08-15T21:41:44.680Z"
   },
   {
    "duration": 26,
    "start_time": "2021-08-15T21:41:45.275Z"
   },
   {
    "duration": 40,
    "start_time": "2021-08-15T21:41:46.031Z"
   },
   {
    "duration": 42,
    "start_time": "2021-08-15T21:41:46.383Z"
   },
   {
    "duration": 41,
    "start_time": "2021-08-15T21:41:46.762Z"
   },
   {
    "duration": 25,
    "start_time": "2021-08-15T21:41:47.281Z"
   },
   {
    "duration": 63,
    "start_time": "2021-08-15T21:41:47.929Z"
   },
   {
    "duration": 8,
    "start_time": "2021-08-15T21:41:49.685Z"
   },
   {
    "duration": 50,
    "start_time": "2021-08-15T21:41:50.486Z"
   },
   {
    "duration": 1291,
    "start_time": "2021-08-15T21:41:50.745Z"
   },
   {
    "duration": 29,
    "start_time": "2021-08-15T21:41:52.038Z"
   },
   {
    "duration": 25,
    "start_time": "2021-08-15T21:41:52.071Z"
   },
   {
    "duration": 75,
    "start_time": "2021-08-15T21:41:52.099Z"
   },
   {
    "duration": 11,
    "start_time": "2021-08-15T21:41:52.365Z"
   },
   {
    "duration": 19,
    "start_time": "2021-08-15T21:41:52.744Z"
   },
   {
    "duration": 249,
    "start_time": "2021-08-15T21:41:54.761Z"
   },
   {
    "duration": 32,
    "start_time": "2021-08-15T21:41:58.347Z"
   },
   {
    "duration": 461,
    "start_time": "2021-08-15T21:42:06.415Z"
   },
   {
    "duration": 503,
    "start_time": "2021-08-15T21:42:42.099Z"
   },
   {
    "duration": 697,
    "start_time": "2021-08-15T21:42:54.421Z"
   },
   {
    "duration": 644,
    "start_time": "2021-08-15T21:43:33.997Z"
   },
   {
    "duration": 615,
    "start_time": "2021-08-15T21:43:54.521Z"
   },
   {
    "duration": 362,
    "start_time": "2021-08-15T21:45:00.323Z"
   },
   {
    "duration": 1790,
    "start_time": "2021-08-15T21:45:08.975Z"
   },
   {
    "duration": 1976,
    "start_time": "2021-08-15T21:45:25.995Z"
   },
   {
    "duration": 1570,
    "start_time": "2021-08-15T21:45:43.739Z"
   },
   {
    "duration": 1921,
    "start_time": "2021-08-15T21:48:27.259Z"
   },
   {
    "duration": 2106,
    "start_time": "2021-08-15T21:49:18.315Z"
   },
   {
    "duration": 2249,
    "start_time": "2021-08-15T21:49:35.839Z"
   },
   {
    "duration": 2110,
    "start_time": "2021-08-15T21:51:10.289Z"
   },
   {
    "duration": 2127,
    "start_time": "2021-08-15T21:52:44.937Z"
   },
   {
    "duration": 770,
    "start_time": "2021-08-15T21:55:42.241Z"
   },
   {
    "duration": 84,
    "start_time": "2021-08-15T21:57:19.800Z"
   },
   {
    "duration": 383,
    "start_time": "2021-08-15T21:57:58.455Z"
   },
   {
    "duration": 98,
    "start_time": "2021-08-15T21:58:05.927Z"
   },
   {
    "duration": 110,
    "start_time": "2021-08-15T21:58:36.779Z"
   },
   {
    "duration": 6654,
    "start_time": "2021-08-15T22:04:47.963Z"
   },
   {
    "duration": 7582,
    "start_time": "2021-08-15T22:04:55.665Z"
   },
   {
    "duration": -22,
    "start_time": "2021-08-15T22:05:03.272Z"
   },
   {
    "duration": 6578,
    "start_time": "2021-08-15T22:05:05.007Z"
   },
   {
    "duration": 367,
    "start_time": "2021-08-15T22:08:02.015Z"
   },
   {
    "duration": 377,
    "start_time": "2021-08-15T22:08:12.969Z"
   },
   {
    "duration": 395,
    "start_time": "2021-08-15T22:08:37.201Z"
   },
   {
    "duration": 405,
    "start_time": "2021-08-15T22:08:54.225Z"
   },
   {
    "duration": 105,
    "start_time": "2021-08-15T22:09:13.438Z"
   },
   {
    "duration": 85,
    "start_time": "2021-08-15T22:09:25.441Z"
   },
   {
    "duration": 331,
    "start_time": "2021-08-15T22:09:52.071Z"
   },
   {
    "duration": 921,
    "start_time": "2021-08-15T22:10:06.224Z"
   },
   {
    "duration": 1890,
    "start_time": "2021-08-15T22:10:14.977Z"
   },
   {
    "duration": 858,
    "start_time": "2021-08-15T22:10:41.603Z"
   },
   {
    "duration": 24,
    "start_time": "2021-08-15T22:11:01.391Z"
   },
   {
    "duration": 591,
    "start_time": "2021-08-15T22:11:02.917Z"
   },
   {
    "duration": 241,
    "start_time": "2021-08-15T22:13:57.763Z"
   },
   {
    "duration": 6,
    "start_time": "2021-08-15T22:17:21.896Z"
   },
   {
    "duration": 311,
    "start_time": "2021-08-15T22:18:11.495Z"
   },
   {
    "duration": 351,
    "start_time": "2021-08-15T22:18:19.119Z"
   },
   {
    "duration": 463,
    "start_time": "2021-08-15T22:18:34.507Z"
   },
   {
    "duration": 415,
    "start_time": "2021-08-15T22:18:41.578Z"
   },
   {
    "duration": 710,
    "start_time": "2021-08-15T22:18:53.629Z"
   },
   {
    "duration": 566,
    "start_time": "2021-08-15T22:18:57.285Z"
   },
   {
    "duration": 514,
    "start_time": "2021-08-15T22:20:28.322Z"
   },
   {
    "duration": 750,
    "start_time": "2021-08-15T22:21:11.897Z"
   },
   {
    "duration": 327,
    "start_time": "2021-08-15T22:21:59.457Z"
   },
   {
    "duration": 603,
    "start_time": "2021-08-15T22:22:22.735Z"
   },
   {
    "duration": 293,
    "start_time": "2021-08-15T22:22:33.449Z"
   },
   {
    "duration": 308,
    "start_time": "2021-08-15T22:22:45.956Z"
   },
   {
    "duration": 508,
    "start_time": "2021-08-15T22:23:04.907Z"
   },
   {
    "duration": 632,
    "start_time": "2021-08-15T22:23:31.069Z"
   },
   {
    "duration": 720,
    "start_time": "2021-08-15T22:25:06.716Z"
   },
   {
    "duration": 860,
    "start_time": "2021-08-15T22:25:13.907Z"
   },
   {
    "duration": 713,
    "start_time": "2021-08-15T22:25:19.567Z"
   },
   {
    "duration": 710,
    "start_time": "2021-08-15T22:25:39.547Z"
   },
   {
    "duration": 553,
    "start_time": "2021-08-15T22:26:31.715Z"
   },
   {
    "duration": 307,
    "start_time": "2021-08-15T22:28:29.591Z"
   },
   {
    "duration": 490,
    "start_time": "2021-08-15T22:30:54.857Z"
   },
   {
    "duration": 494,
    "start_time": "2021-08-15T22:31:05.158Z"
   },
   {
    "duration": 523,
    "start_time": "2021-08-15T22:31:14.530Z"
   },
   {
    "duration": 491,
    "start_time": "2021-08-15T22:31:23.316Z"
   },
   {
    "duration": 473,
    "start_time": "2021-08-15T22:31:30.635Z"
   },
   {
    "duration": 311,
    "start_time": "2021-08-15T22:32:23.935Z"
   },
   {
    "duration": 668,
    "start_time": "2021-08-15T22:32:32.703Z"
   },
   {
    "duration": 793,
    "start_time": "2021-08-15T22:32:44.460Z"
   },
   {
    "duration": 680,
    "start_time": "2021-08-15T22:32:50.642Z"
   },
   {
    "duration": 770,
    "start_time": "2021-08-15T22:32:59.495Z"
   },
   {
    "duration": 694,
    "start_time": "2021-08-15T22:34:06.129Z"
   },
   {
    "duration": 687,
    "start_time": "2021-08-15T22:34:10.321Z"
   },
   {
    "duration": 645,
    "start_time": "2021-08-15T22:34:16.820Z"
   },
   {
    "duration": 614,
    "start_time": "2021-08-15T22:36:04.988Z"
   },
   {
    "duration": 328,
    "start_time": "2021-08-15T22:36:27.553Z"
   },
   {
    "duration": 689,
    "start_time": "2021-08-15T22:36:54.179Z"
   },
   {
    "duration": 109,
    "start_time": "2021-08-15T22:37:05.697Z"
   },
   {
    "duration": 383,
    "start_time": "2021-08-15T22:37:14.227Z"
   },
   {
    "duration": 87,
    "start_time": "2021-08-15T22:37:22.628Z"
   },
   {
    "duration": 82,
    "start_time": "2021-08-15T22:37:38.047Z"
   },
   {
    "duration": 372,
    "start_time": "2021-08-15T22:37:42.924Z"
   },
   {
    "duration": 85,
    "start_time": "2021-08-15T22:38:34.774Z"
   },
   {
    "duration": 591,
    "start_time": "2021-08-15T22:39:48.292Z"
   },
   {
    "duration": 279,
    "start_time": "2021-08-15T22:43:10.807Z"
   },
   {
    "duration": 606,
    "start_time": "2021-08-15T22:43:41.352Z"
   },
   {
    "duration": 692,
    "start_time": "2021-08-15T22:43:55.957Z"
   },
   {
    "duration": 715,
    "start_time": "2021-08-15T22:44:04.374Z"
   },
   {
    "duration": 715,
    "start_time": "2021-08-15T22:44:13.301Z"
   },
   {
    "duration": 712,
    "start_time": "2021-08-15T22:45:57.965Z"
   },
   {
    "duration": 709,
    "start_time": "2021-08-15T22:46:16.253Z"
   },
   {
    "duration": 738,
    "start_time": "2021-08-15T22:46:33.568Z"
   },
   {
    "duration": 502,
    "start_time": "2021-08-15T22:46:55.289Z"
   },
   {
    "duration": 507,
    "start_time": "2021-08-15T22:47:12.145Z"
   },
   {
    "duration": 506,
    "start_time": "2021-08-15T22:47:19.255Z"
   },
   {
    "duration": 630,
    "start_time": "2021-08-15T22:48:18.662Z"
   },
   {
    "duration": 494,
    "start_time": "2021-08-15T22:48:32.488Z"
   },
   {
    "duration": 723,
    "start_time": "2021-08-15T22:49:24.449Z"
   },
   {
    "duration": 811,
    "start_time": "2021-08-15T22:49:38.932Z"
   },
   {
    "duration": 700,
    "start_time": "2021-08-15T22:51:16.677Z"
   },
   {
    "duration": 476,
    "start_time": "2021-08-15T22:51:52.124Z"
   },
   {
    "duration": 463,
    "start_time": "2021-08-15T22:52:18.417Z"
   },
   {
    "duration": 659,
    "start_time": "2021-08-15T22:52:43.676Z"
   },
   {
    "duration": 474,
    "start_time": "2021-08-15T22:52:51.926Z"
   },
   {
    "duration": 2047,
    "start_time": "2021-08-15T22:57:21.538Z"
   },
   {
    "duration": 68,
    "start_time": "2021-08-15T22:57:23.587Z"
   },
   {
    "duration": 5,
    "start_time": "2021-08-15T22:57:23.658Z"
   },
   {
    "duration": 16,
    "start_time": "2021-08-15T22:57:23.665Z"
   },
   {
    "duration": 28,
    "start_time": "2021-08-15T22:57:23.683Z"
   },
   {
    "duration": 14,
    "start_time": "2021-08-15T22:57:23.713Z"
   },
   {
    "duration": 57,
    "start_time": "2021-08-15T22:57:23.729Z"
   },
   {
    "duration": 30,
    "start_time": "2021-08-15T22:57:23.790Z"
   },
   {
    "duration": 62,
    "start_time": "2021-08-15T22:57:23.823Z"
   },
   {
    "duration": 16,
    "start_time": "2021-08-15T22:57:23.887Z"
   },
   {
    "duration": 76,
    "start_time": "2021-08-15T22:57:23.906Z"
   },
   {
    "duration": 6,
    "start_time": "2021-08-15T22:57:23.984Z"
   },
   {
    "duration": 73,
    "start_time": "2021-08-15T22:57:23.992Z"
   },
   {
    "duration": 1337,
    "start_time": "2021-08-15T22:57:24.067Z"
   },
   {
    "duration": 17,
    "start_time": "2021-08-15T22:57:25.406Z"
   },
   {
    "duration": 47,
    "start_time": "2021-08-15T22:57:25.426Z"
   },
   {
    "duration": 43,
    "start_time": "2021-08-15T22:57:25.475Z"
   },
   {
    "duration": 10,
    "start_time": "2021-08-15T22:57:25.520Z"
   },
   {
    "duration": 18,
    "start_time": "2021-08-15T22:57:25.562Z"
   },
   {
    "duration": 241,
    "start_time": "2021-08-15T22:57:25.583Z"
   },
   {
    "duration": 39,
    "start_time": "2021-08-15T22:57:25.827Z"
   },
   {
    "duration": 631,
    "start_time": "2021-08-15T22:57:25.868Z"
   },
   {
    "duration": -40,
    "start_time": "2021-08-15T22:57:26.542Z"
   },
   {
    "duration": -46,
    "start_time": "2021-08-15T22:57:26.549Z"
   },
   {
    "duration": -49,
    "start_time": "2021-08-15T22:57:26.553Z"
   },
   {
    "duration": -52,
    "start_time": "2021-08-15T22:57:26.558Z"
   },
   {
    "duration": -57,
    "start_time": "2021-08-15T22:57:26.564Z"
   },
   {
    "duration": -60,
    "start_time": "2021-08-15T22:57:26.568Z"
   },
   {
    "duration": -63,
    "start_time": "2021-08-15T22:57:26.573Z"
   },
   {
    "duration": -66,
    "start_time": "2021-08-15T22:57:26.577Z"
   },
   {
    "duration": -70,
    "start_time": "2021-08-15T22:57:26.582Z"
   },
   {
    "duration": -278,
    "start_time": "2021-08-15T22:57:26.791Z"
   },
   {
    "duration": -282,
    "start_time": "2021-08-15T22:57:26.796Z"
   },
   {
    "duration": -294,
    "start_time": "2021-08-15T22:57:26.810Z"
   },
   {
    "duration": -308,
    "start_time": "2021-08-15T22:57:26.825Z"
   },
   {
    "duration": -313,
    "start_time": "2021-08-15T22:57:26.831Z"
   },
   {
    "duration": -329,
    "start_time": "2021-08-15T22:57:26.848Z"
   },
   {
    "duration": -344,
    "start_time": "2021-08-15T22:57:26.865Z"
   },
   {
    "duration": -359,
    "start_time": "2021-08-15T22:57:26.881Z"
   },
   {
    "duration": 590,
    "start_time": "2021-08-15T22:58:04.831Z"
   },
   {
    "duration": 746,
    "start_time": "2021-08-15T22:58:10.523Z"
   },
   {
    "duration": 490,
    "start_time": "2021-08-15T22:58:39.657Z"
   },
   {
    "duration": 483,
    "start_time": "2021-08-15T22:58:52.476Z"
   },
   {
    "duration": 468,
    "start_time": "2021-08-15T22:59:21.672Z"
   },
   {
    "duration": 280,
    "start_time": "2021-08-15T23:00:06.191Z"
   },
   {
    "duration": 736,
    "start_time": "2021-08-15T23:00:45.221Z"
   },
   {
    "duration": 509,
    "start_time": "2021-08-15T23:01:06.401Z"
   },
   {
    "duration": 265,
    "start_time": "2021-08-15T23:01:38.963Z"
   },
   {
    "duration": 491,
    "start_time": "2021-08-15T23:01:46.395Z"
   },
   {
    "duration": 508,
    "start_time": "2021-08-15T23:02:21.353Z"
   },
   {
    "duration": 597,
    "start_time": "2021-08-15T23:02:37.115Z"
   },
   {
    "duration": 512,
    "start_time": "2021-08-15T23:04:38.129Z"
   },
   {
    "duration": 497,
    "start_time": "2021-08-15T23:04:45.908Z"
   },
   {
    "duration": 501,
    "start_time": "2021-08-15T23:04:55.225Z"
   },
   {
    "duration": 304,
    "start_time": "2021-08-15T23:05:29.375Z"
   },
   {
    "duration": 613,
    "start_time": "2021-08-15T23:05:36.532Z"
   },
   {
    "duration": 513,
    "start_time": "2021-08-15T23:05:55.013Z"
   },
   {
    "duration": 536,
    "start_time": "2021-08-15T23:06:04.344Z"
   },
   {
    "duration": 551,
    "start_time": "2021-08-15T23:07:42.719Z"
   },
   {
    "duration": 544,
    "start_time": "2021-08-15T23:08:17.139Z"
   },
   {
    "duration": 606,
    "start_time": "2021-08-15T23:09:45.770Z"
   },
   {
    "duration": 476,
    "start_time": "2021-08-15T23:12:34.497Z"
   },
   {
    "duration": 567,
    "start_time": "2021-08-15T23:12:46.987Z"
   },
   {
    "duration": 608,
    "start_time": "2021-08-15T23:12:58.659Z"
   },
   {
    "duration": 853,
    "start_time": "2021-08-15T23:14:40.373Z"
   },
   {
    "duration": 561,
    "start_time": "2021-08-15T23:14:58.197Z"
   },
   {
    "duration": 821,
    "start_time": "2021-08-15T23:15:29.115Z"
   },
   {
    "duration": 804,
    "start_time": "2021-08-15T23:15:43.925Z"
   },
   {
    "duration": 620,
    "start_time": "2021-08-15T23:15:50.553Z"
   },
   {
    "duration": 575,
    "start_time": "2021-08-15T23:17:43.865Z"
   },
   {
    "duration": 82,
    "start_time": "2021-08-15T23:18:13.242Z"
   },
   {
    "duration": 583,
    "start_time": "2021-08-15T23:18:14.887Z"
   },
   {
    "duration": 567,
    "start_time": "2021-08-15T23:18:21.287Z"
   },
   {
    "duration": 567,
    "start_time": "2021-08-15T23:18:31.339Z"
   },
   {
    "duration": 703,
    "start_time": "2021-08-15T23:18:38.042Z"
   },
   {
    "duration": 610,
    "start_time": "2021-08-15T23:19:12.297Z"
   },
   {
    "duration": 10,
    "start_time": "2021-08-15T23:20:07.259Z"
   },
   {
    "duration": 22,
    "start_time": "2021-08-15T23:20:16.564Z"
   },
   {
    "duration": 24,
    "start_time": "2021-08-15T23:20:21.994Z"
   },
   {
    "duration": 2000,
    "start_time": "2021-08-15T23:24:30.538Z"
   },
   {
    "duration": 68,
    "start_time": "2021-08-15T23:24:32.541Z"
   },
   {
    "duration": 5,
    "start_time": "2021-08-15T23:24:32.612Z"
   },
   {
    "duration": 46,
    "start_time": "2021-08-15T23:24:32.619Z"
   },
   {
    "duration": 34,
    "start_time": "2021-08-15T23:24:32.668Z"
   },
   {
    "duration": 14,
    "start_time": "2021-08-15T23:24:32.705Z"
   },
   {
    "duration": 50,
    "start_time": "2021-08-15T23:24:32.721Z"
   },
   {
    "duration": 29,
    "start_time": "2021-08-15T23:24:32.773Z"
   },
   {
    "duration": 71,
    "start_time": "2021-08-15T23:24:32.806Z"
   },
   {
    "duration": 15,
    "start_time": "2021-08-15T23:24:32.880Z"
   },
   {
    "duration": 80,
    "start_time": "2021-08-15T23:24:32.897Z"
   },
   {
    "duration": 5,
    "start_time": "2021-08-15T23:24:32.979Z"
   },
   {
    "duration": 54,
    "start_time": "2021-08-15T23:24:32.986Z"
   },
   {
    "duration": 1339,
    "start_time": "2021-08-15T23:24:33.062Z"
   },
   {
    "duration": 16,
    "start_time": "2021-08-15T23:24:34.403Z"
   },
   {
    "duration": 51,
    "start_time": "2021-08-15T23:24:34.421Z"
   },
   {
    "duration": 42,
    "start_time": "2021-08-15T23:24:34.474Z"
   },
   {
    "duration": 9,
    "start_time": "2021-08-15T23:24:34.518Z"
   },
   {
    "duration": 47,
    "start_time": "2021-08-15T23:24:34.529Z"
   },
   {
    "duration": 251,
    "start_time": "2021-08-15T23:24:34.578Z"
   },
   {
    "duration": 37,
    "start_time": "2021-08-15T23:24:34.831Z"
   },
   {
    "duration": 671,
    "start_time": "2021-08-15T23:24:34.871Z"
   },
   {
    "duration": 20,
    "start_time": "2021-08-15T23:24:35.545Z"
   },
   {
    "duration": 22,
    "start_time": "2021-08-15T23:24:35.568Z"
   },
   {
    "duration": 1013,
    "start_time": "2021-08-15T23:24:35.593Z"
   },
   {
    "duration": 575,
    "start_time": "2021-08-15T23:24:36.609Z"
   },
   {
    "duration": 25,
    "start_time": "2021-08-15T23:24:37.188Z"
   },
   {
    "duration": 891,
    "start_time": "2021-08-15T23:30:18.074Z"
   },
   {
    "duration": 21,
    "start_time": "2021-08-15T23:34:31.008Z"
   },
   {
    "duration": 22,
    "start_time": "2021-08-15T23:34:36.333Z"
   },
   {
    "duration": 21,
    "start_time": "2021-08-15T23:34:52.855Z"
   },
   {
    "duration": 22,
    "start_time": "2021-08-15T23:34:57.226Z"
   },
   {
    "duration": 22,
    "start_time": "2021-08-15T23:35:01.057Z"
   },
   {
    "duration": 22,
    "start_time": "2021-08-15T23:35:09.235Z"
   },
   {
    "duration": 21,
    "start_time": "2021-08-15T23:35:12.337Z"
   },
   {
    "duration": 760,
    "start_time": "2021-08-15T23:36:50.829Z"
   },
   {
    "duration": 766,
    "start_time": "2021-08-15T23:37:06.747Z"
   },
   {
    "duration": 809,
    "start_time": "2021-08-15T23:37:19.599Z"
   },
   {
    "duration": 2051,
    "start_time": "2021-08-15T23:40:54.655Z"
   },
   {
    "duration": 67,
    "start_time": "2021-08-15T23:40:56.709Z"
   },
   {
    "duration": 4,
    "start_time": "2021-08-15T23:40:56.779Z"
   },
   {
    "duration": 16,
    "start_time": "2021-08-15T23:40:56.786Z"
   },
   {
    "duration": 37,
    "start_time": "2021-08-15T23:40:56.805Z"
   },
   {
    "duration": 19,
    "start_time": "2021-08-15T23:40:56.861Z"
   },
   {
    "duration": 27,
    "start_time": "2021-08-15T23:40:56.882Z"
   },
   {
    "duration": 52,
    "start_time": "2021-08-15T23:40:56.911Z"
   },
   {
    "duration": 30,
    "start_time": "2021-08-15T23:40:56.967Z"
   },
   {
    "duration": 15,
    "start_time": "2021-08-15T23:40:57.000Z"
   },
   {
    "duration": 74,
    "start_time": "2021-08-15T23:40:57.018Z"
   },
   {
    "duration": 5,
    "start_time": "2021-08-15T23:40:57.094Z"
   },
   {
    "duration": 83,
    "start_time": "2021-08-15T23:40:57.101Z"
   },
   {
    "duration": 1453,
    "start_time": "2021-08-15T23:40:57.186Z"
   },
   {
    "duration": 30,
    "start_time": "2021-08-15T23:40:58.641Z"
   },
   {
    "duration": 24,
    "start_time": "2021-08-15T23:40:58.674Z"
   },
   {
    "duration": 73,
    "start_time": "2021-08-15T23:40:58.700Z"
   },
   {
    "duration": 10,
    "start_time": "2021-08-15T23:40:58.775Z"
   },
   {
    "duration": 17,
    "start_time": "2021-08-15T23:40:58.788Z"
   },
   {
    "duration": 267,
    "start_time": "2021-08-15T23:40:58.807Z"
   },
   {
    "duration": 26,
    "start_time": "2021-08-15T23:40:59.076Z"
   },
   {
    "duration": 687,
    "start_time": "2021-08-15T23:40:59.104Z"
   },
   {
    "duration": 10,
    "start_time": "2021-08-15T23:40:59.794Z"
   },
   {
    "duration": 29,
    "start_time": "2021-08-15T23:40:59.807Z"
   },
   {
    "duration": 1051,
    "start_time": "2021-08-15T23:40:59.838Z"
   },
   {
    "duration": 587,
    "start_time": "2021-08-15T23:41:00.892Z"
   },
   {
    "duration": 30,
    "start_time": "2021-08-15T23:41:01.486Z"
   },
   {
    "duration": 1498,
    "start_time": "2021-08-15T23:41:01.520Z"
   },
   {
    "duration": 43,
    "start_time": "2021-08-15T23:41:03.021Z"
   },
   {
    "duration": 27,
    "start_time": "2021-08-15T23:41:03.067Z"
   },
   {
    "duration": 68,
    "start_time": "2021-08-15T23:41:03.097Z"
   },
   {
    "duration": 35,
    "start_time": "2021-08-15T23:41:03.167Z"
   },
   {
    "duration": 78,
    "start_time": "2021-08-15T23:41:03.205Z"
   },
   {
    "duration": 4,
    "start_time": "2021-08-15T23:41:03.285Z"
   },
   {
    "duration": 473,
    "start_time": "2021-08-15T23:41:03.291Z"
   },
   {
    "duration": 10,
    "start_time": "2021-08-15T23:41:03.766Z"
   },
   {
    "duration": 577,
    "start_time": "2021-08-15T23:41:03.779Z"
   },
   {
    "duration": 11,
    "start_time": "2021-08-15T23:41:04.363Z"
   },
   {
    "duration": 1992,
    "start_time": "2021-08-15T23:41:46.348Z"
   },
   {
    "duration": 66,
    "start_time": "2021-08-15T23:41:48.343Z"
   },
   {
    "duration": 4,
    "start_time": "2021-08-15T23:41:48.412Z"
   },
   {
    "duration": 22,
    "start_time": "2021-08-15T23:41:48.419Z"
   },
   {
    "duration": 39,
    "start_time": "2021-08-15T23:41:48.443Z"
   },
   {
    "duration": 19,
    "start_time": "2021-08-15T23:41:48.485Z"
   },
   {
    "duration": 27,
    "start_time": "2021-08-15T23:41:48.506Z"
   },
   {
    "duration": 30,
    "start_time": "2021-08-15T23:41:48.564Z"
   },
   {
    "duration": 28,
    "start_time": "2021-08-15T23:41:48.597Z"
   },
   {
    "duration": 16,
    "start_time": "2021-08-15T23:41:48.662Z"
   },
   {
    "duration": 40,
    "start_time": "2021-08-15T23:41:48.681Z"
   },
   {
    "duration": 5,
    "start_time": "2021-08-15T23:41:48.724Z"
   },
   {
    "duration": 101,
    "start_time": "2021-08-15T23:41:48.732Z"
   },
   {
    "duration": 2446,
    "start_time": "2021-08-15T23:41:48.836Z"
   },
   {
    "duration": 24,
    "start_time": "2021-08-15T23:41:51.286Z"
   },
   {
    "duration": 58,
    "start_time": "2021-08-15T23:41:51.313Z"
   },
   {
    "duration": 43,
    "start_time": "2021-08-15T23:41:51.373Z"
   },
   {
    "duration": 10,
    "start_time": "2021-08-15T23:41:51.419Z"
   },
   {
    "duration": 46,
    "start_time": "2021-08-15T23:41:51.432Z"
   },
   {
    "duration": 329,
    "start_time": "2021-08-15T23:41:51.480Z"
   },
   {
    "duration": 24,
    "start_time": "2021-08-15T23:41:51.862Z"
   },
   {
    "duration": 914,
    "start_time": "2021-08-15T23:41:51.889Z"
   },
   {
    "duration": 12,
    "start_time": "2021-08-15T23:41:52.808Z"
   },
   {
    "duration": 50,
    "start_time": "2021-08-15T23:41:52.824Z"
   },
   {
    "duration": 1022,
    "start_time": "2021-08-15T23:41:52.877Z"
   },
   {
    "duration": 598,
    "start_time": "2021-08-15T23:41:53.901Z"
   },
   {
    "duration": 27,
    "start_time": "2021-08-15T23:41:54.501Z"
   },
   {
    "duration": 1635,
    "start_time": "2021-08-15T23:41:54.530Z"
   },
   {
    "duration": 17,
    "start_time": "2021-08-15T23:41:56.167Z"
   },
   {
    "duration": 34,
    "start_time": "2021-08-15T23:41:56.187Z"
   },
   {
    "duration": 60,
    "start_time": "2021-08-15T23:41:56.224Z"
   },
   {
    "duration": 35,
    "start_time": "2021-08-15T23:41:56.287Z"
   },
   {
    "duration": 30,
    "start_time": "2021-08-15T23:41:56.363Z"
   },
   {
    "duration": 6,
    "start_time": "2021-08-15T23:41:56.396Z"
   },
   {
    "duration": 491,
    "start_time": "2021-08-15T23:41:56.405Z"
   },
   {
    "duration": 9,
    "start_time": "2021-08-15T23:41:56.898Z"
   },
   {
    "duration": 589,
    "start_time": "2021-08-15T23:41:56.909Z"
   },
   {
    "duration": 11,
    "start_time": "2021-08-15T23:41:57.500Z"
   },
   {
    "duration": 2500,
    "start_time": "2021-08-15T23:54:27.004Z"
   },
   {
    "duration": 28,
    "start_time": "2021-08-15T23:54:30.161Z"
   },
   {
    "duration": 2107,
    "start_time": "2021-08-15T23:54:33.241Z"
   },
   {
    "duration": 2187,
    "start_time": "2021-08-15T23:54:51.277Z"
   },
   {
    "duration": 1466,
    "start_time": "2021-08-15T23:55:04.167Z"
   },
   {
    "duration": 20,
    "start_time": "2021-08-15T23:58:49.782Z"
   },
   {
    "duration": 24,
    "start_time": "2021-08-15T23:59:02.239Z"
   },
   {
    "duration": 1977,
    "start_time": "2021-08-16T00:06:28.190Z"
   },
   {
    "duration": 70,
    "start_time": "2021-08-16T00:06:30.171Z"
   },
   {
    "duration": 5,
    "start_time": "2021-08-16T00:06:30.261Z"
   },
   {
    "duration": 18,
    "start_time": "2021-08-16T00:06:30.270Z"
   },
   {
    "duration": 34,
    "start_time": "2021-08-16T00:06:30.291Z"
   },
   {
    "duration": 50,
    "start_time": "2021-08-16T00:06:30.328Z"
   },
   {
    "duration": 30,
    "start_time": "2021-08-16T00:06:30.381Z"
   },
   {
    "duration": 54,
    "start_time": "2021-08-16T00:06:30.415Z"
   },
   {
    "duration": 31,
    "start_time": "2021-08-16T00:06:30.473Z"
   },
   {
    "duration": 16,
    "start_time": "2021-08-16T00:06:30.507Z"
   },
   {
    "duration": 77,
    "start_time": "2021-08-16T00:06:30.526Z"
   },
   {
    "duration": 5,
    "start_time": "2021-08-16T00:06:30.606Z"
   },
   {
    "duration": 83,
    "start_time": "2021-08-16T00:06:30.614Z"
   },
   {
    "duration": 1307,
    "start_time": "2021-08-16T00:06:30.700Z"
   },
   {
    "duration": 16,
    "start_time": "2021-08-16T00:06:32.010Z"
   },
   {
    "duration": 45,
    "start_time": "2021-08-16T00:06:32.028Z"
   },
   {
    "duration": 42,
    "start_time": "2021-08-16T00:06:32.076Z"
   },
   {
    "duration": 12,
    "start_time": "2021-08-16T00:06:32.120Z"
   },
   {
    "duration": 46,
    "start_time": "2021-08-16T00:06:32.134Z"
   },
   {
    "duration": 249,
    "start_time": "2021-08-16T00:06:32.183Z"
   },
   {
    "duration": 37,
    "start_time": "2021-08-16T00:06:32.435Z"
   },
   {
    "duration": 782,
    "start_time": "2021-08-16T00:06:32.475Z"
   },
   {
    "duration": 9,
    "start_time": "2021-08-16T00:06:33.265Z"
   },
   {
    "duration": 21,
    "start_time": "2021-08-16T00:06:33.277Z"
   },
   {
    "duration": 1037,
    "start_time": "2021-08-16T00:06:33.301Z"
   },
   {
    "duration": 581,
    "start_time": "2021-08-16T00:06:34.341Z"
   },
   {
    "duration": 47,
    "start_time": "2021-08-16T00:06:34.925Z"
   },
   {
    "duration": 1578,
    "start_time": "2021-08-16T00:06:34.974Z"
   },
   {
    "duration": 17,
    "start_time": "2021-08-16T00:06:36.562Z"
   },
   {
    "duration": 24,
    "start_time": "2021-08-16T00:06:36.582Z"
   },
   {
    "duration": 65,
    "start_time": "2021-08-16T00:06:36.609Z"
   },
   {
    "duration": 34,
    "start_time": "2021-08-16T00:06:36.677Z"
   },
   {
    "duration": 79,
    "start_time": "2021-08-16T00:06:36.714Z"
   },
   {
    "duration": 3,
    "start_time": "2021-08-16T00:06:36.796Z"
   },
   {
    "duration": 500,
    "start_time": "2021-08-16T00:06:36.801Z"
   },
   {
    "duration": 10,
    "start_time": "2021-08-16T00:06:37.303Z"
   },
   {
    "duration": 587,
    "start_time": "2021-08-16T00:06:37.316Z"
   },
   {
    "duration": 13,
    "start_time": "2021-08-16T00:06:37.905Z"
   },
   {
    "duration": 2029,
    "start_time": "2021-08-16T00:07:27.453Z"
   },
   {
    "duration": 66,
    "start_time": "2021-08-16T00:07:29.484Z"
   },
   {
    "duration": 9,
    "start_time": "2021-08-16T00:07:29.553Z"
   },
   {
    "duration": 40,
    "start_time": "2021-08-16T00:07:29.565Z"
   },
   {
    "duration": 36,
    "start_time": "2021-08-16T00:07:29.608Z"
   },
   {
    "duration": 20,
    "start_time": "2021-08-16T00:07:29.647Z"
   },
   {
    "duration": 27,
    "start_time": "2021-08-16T00:07:29.670Z"
   },
   {
    "duration": 65,
    "start_time": "2021-08-16T00:07:29.701Z"
   },
   {
    "duration": 29,
    "start_time": "2021-08-16T00:07:29.769Z"
   },
   {
    "duration": 15,
    "start_time": "2021-08-16T00:07:29.800Z"
   },
   {
    "duration": 80,
    "start_time": "2021-08-16T00:07:29.818Z"
   },
   {
    "duration": 5,
    "start_time": "2021-08-16T00:07:29.901Z"
   },
   {
    "duration": 73,
    "start_time": "2021-08-16T00:07:29.909Z"
   },
   {
    "duration": 1544,
    "start_time": "2021-08-16T00:07:29.985Z"
   },
   {
    "duration": 16,
    "start_time": "2021-08-16T00:07:31.531Z"
   },
   {
    "duration": 77,
    "start_time": "2021-08-16T00:07:31.562Z"
   },
   {
    "duration": 53,
    "start_time": "2021-08-16T00:07:31.641Z"
   },
   {
    "duration": 11,
    "start_time": "2021-08-16T00:07:31.696Z"
   },
   {
    "duration": 76,
    "start_time": "2021-08-16T00:07:31.709Z"
   },
   {
    "duration": 304,
    "start_time": "2021-08-16T00:07:31.787Z"
   },
   {
    "duration": 24,
    "start_time": "2021-08-16T00:07:32.094Z"
   },
   {
    "duration": 785,
    "start_time": "2021-08-16T00:07:32.121Z"
   },
   {
    "duration": 11,
    "start_time": "2021-08-16T00:07:32.911Z"
   },
   {
    "duration": 55,
    "start_time": "2021-08-16T00:07:32.924Z"
   },
   {
    "duration": 1018,
    "start_time": "2021-08-16T00:07:32.981Z"
   },
   {
    "duration": 635,
    "start_time": "2021-08-16T00:07:34.001Z"
   },
   {
    "duration": 41,
    "start_time": "2021-08-16T00:07:34.639Z"
   },
   {
    "duration": 1588,
    "start_time": "2021-08-16T00:07:34.683Z"
   },
   {
    "duration": 17,
    "start_time": "2021-08-16T00:07:36.274Z"
   },
   {
    "duration": 36,
    "start_time": "2021-08-16T00:07:36.294Z"
   },
   {
    "duration": 53,
    "start_time": "2021-08-16T00:07:36.333Z"
   },
   {
    "duration": 32,
    "start_time": "2021-08-16T00:07:36.389Z"
   },
   {
    "duration": 34,
    "start_time": "2021-08-16T00:07:36.463Z"
   },
   {
    "duration": 4,
    "start_time": "2021-08-16T00:07:36.499Z"
   },
   {
    "duration": 491,
    "start_time": "2021-08-16T00:07:36.506Z"
   },
   {
    "duration": 11,
    "start_time": "2021-08-16T00:07:37.000Z"
   },
   {
    "duration": 593,
    "start_time": "2021-08-16T00:07:37.013Z"
   },
   {
    "duration": 11,
    "start_time": "2021-08-16T00:07:37.608Z"
   },
   {
    "duration": 2039,
    "start_time": "2021-08-16T00:07:56.247Z"
   },
   {
    "duration": 67,
    "start_time": "2021-08-16T00:07:58.289Z"
   },
   {
    "duration": 5,
    "start_time": "2021-08-16T00:07:58.359Z"
   },
   {
    "duration": 22,
    "start_time": "2021-08-16T00:07:58.367Z"
   },
   {
    "duration": 30,
    "start_time": "2021-08-16T00:07:58.391Z"
   },
   {
    "duration": 18,
    "start_time": "2021-08-16T00:07:58.424Z"
   },
   {
    "duration": 27,
    "start_time": "2021-08-16T00:07:58.461Z"
   },
   {
    "duration": 32,
    "start_time": "2021-08-16T00:07:58.492Z"
   },
   {
    "duration": 62,
    "start_time": "2021-08-16T00:07:58.527Z"
   },
   {
    "duration": 16,
    "start_time": "2021-08-16T00:07:58.591Z"
   },
   {
    "duration": 75,
    "start_time": "2021-08-16T00:07:58.610Z"
   },
   {
    "duration": 6,
    "start_time": "2021-08-16T00:07:58.687Z"
   },
   {
    "duration": 69,
    "start_time": "2021-08-16T00:07:58.695Z"
   },
   {
    "duration": 1369,
    "start_time": "2021-08-16T00:07:58.767Z"
   },
   {
    "duration": 24,
    "start_time": "2021-08-16T00:08:00.139Z"
   },
   {
    "duration": 22,
    "start_time": "2021-08-16T00:08:00.165Z"
   },
   {
    "duration": 42,
    "start_time": "2021-08-16T00:08:00.190Z"
   },
   {
    "duration": 39,
    "start_time": "2021-08-16T00:08:00.234Z"
   },
   {
    "duration": 30,
    "start_time": "2021-08-16T00:08:00.276Z"
   },
   {
    "duration": 362,
    "start_time": "2021-08-16T00:08:00.309Z"
   },
   {
    "duration": 39,
    "start_time": "2021-08-16T00:08:00.674Z"
   },
   {
    "duration": 1064,
    "start_time": "2021-08-16T00:08:00.716Z"
   },
   {
    "duration": 14,
    "start_time": "2021-08-16T00:08:01.787Z"
   },
   {
    "duration": 57,
    "start_time": "2021-08-16T00:08:01.804Z"
   },
   {
    "duration": 1532,
    "start_time": "2021-08-16T00:08:01.864Z"
   },
   {
    "duration": 811,
    "start_time": "2021-08-16T00:08:03.399Z"
   },
   {
    "duration": 57,
    "start_time": "2021-08-16T00:08:04.213Z"
   },
   {
    "duration": 2176,
    "start_time": "2021-08-16T00:08:04.273Z"
   },
   {
    "duration": 24,
    "start_time": "2021-08-16T00:08:06.461Z"
   },
   {
    "duration": 33,
    "start_time": "2021-08-16T00:08:06.488Z"
   },
   {
    "duration": 70,
    "start_time": "2021-08-16T00:08:06.525Z"
   },
   {
    "duration": 77,
    "start_time": "2021-08-16T00:08:06.598Z"
   },
   {
    "duration": 44,
    "start_time": "2021-08-16T00:08:06.678Z"
   },
   {
    "duration": 37,
    "start_time": "2021-08-16T00:08:06.725Z"
   },
   {
    "duration": 698,
    "start_time": "2021-08-16T00:08:06.766Z"
   },
   {
    "duration": 13,
    "start_time": "2021-08-16T00:08:07.467Z"
   },
   {
    "duration": 849,
    "start_time": "2021-08-16T00:08:07.483Z"
   },
   {
    "duration": 28,
    "start_time": "2021-08-16T00:08:08.335Z"
   },
   {
    "duration": 2190,
    "start_time": "2021-08-16T00:08:53.005Z"
   },
   {
    "duration": 71,
    "start_time": "2021-08-16T00:08:55.197Z"
   },
   {
    "duration": 4,
    "start_time": "2021-08-16T00:08:55.272Z"
   },
   {
    "duration": 38,
    "start_time": "2021-08-16T00:08:55.279Z"
   },
   {
    "duration": 57,
    "start_time": "2021-08-16T00:08:55.320Z"
   },
   {
    "duration": 20,
    "start_time": "2021-08-16T00:08:55.379Z"
   },
   {
    "duration": 44,
    "start_time": "2021-08-16T00:08:55.402Z"
   },
   {
    "duration": 47,
    "start_time": "2021-08-16T00:08:55.450Z"
   },
   {
    "duration": 64,
    "start_time": "2021-08-16T00:08:55.500Z"
   },
   {
    "duration": 16,
    "start_time": "2021-08-16T00:08:55.566Z"
   },
   {
    "duration": 67,
    "start_time": "2021-08-16T00:08:55.584Z"
   },
   {
    "duration": 10,
    "start_time": "2021-08-16T00:08:55.653Z"
   },
   {
    "duration": 55,
    "start_time": "2021-08-16T00:08:55.665Z"
   },
   {
    "duration": 1546,
    "start_time": "2021-08-16T00:08:55.723Z"
   },
   {
    "duration": 16,
    "start_time": "2021-08-16T00:08:57.272Z"
   },
   {
    "duration": 31,
    "start_time": "2021-08-16T00:08:57.290Z"
   },
   {
    "duration": 61,
    "start_time": "2021-08-16T00:08:57.323Z"
   },
   {
    "duration": 9,
    "start_time": "2021-08-16T00:08:57.387Z"
   },
   {
    "duration": 27,
    "start_time": "2021-08-16T00:08:57.398Z"
   },
   {
    "duration": 266,
    "start_time": "2021-08-16T00:08:57.432Z"
   },
   {
    "duration": 25,
    "start_time": "2021-08-16T00:08:57.701Z"
   },
   {
    "duration": 685,
    "start_time": "2021-08-16T00:08:57.729Z"
   },
   {
    "duration": 10,
    "start_time": "2021-08-16T00:08:58.419Z"
   },
   {
    "duration": 44,
    "start_time": "2021-08-16T00:08:58.432Z"
   },
   {
    "duration": 1071,
    "start_time": "2021-08-16T00:08:58.478Z"
   },
   {
    "duration": 555,
    "start_time": "2021-08-16T00:08:59.552Z"
   },
   {
    "duration": 25,
    "start_time": "2021-08-16T00:09:00.109Z"
   },
   {
    "duration": 1590,
    "start_time": "2021-08-16T00:09:00.136Z"
   },
   {
    "duration": 33,
    "start_time": "2021-08-16T00:09:01.728Z"
   },
   {
    "duration": 29,
    "start_time": "2021-08-16T00:09:01.764Z"
   },
   {
    "duration": 65,
    "start_time": "2021-08-16T00:09:01.796Z"
   },
   {
    "duration": 68,
    "start_time": "2021-08-16T00:09:01.863Z"
   },
   {
    "duration": 49,
    "start_time": "2021-08-16T00:09:01.933Z"
   },
   {
    "duration": 103,
    "start_time": "2021-08-16T00:09:01.985Z"
   },
   {
    "duration": 497,
    "start_time": "2021-08-16T00:09:02.090Z"
   },
   {
    "duration": 9,
    "start_time": "2021-08-16T00:09:02.590Z"
   },
   {
    "duration": 571,
    "start_time": "2021-08-16T00:09:02.601Z"
   },
   {
    "duration": 10,
    "start_time": "2021-08-16T00:09:03.175Z"
   },
   {
    "duration": 2053,
    "start_time": "2021-08-16T23:13:52.037Z"
   },
   {
    "duration": 77,
    "start_time": "2021-08-16T23:13:54.093Z"
   },
   {
    "duration": 5,
    "start_time": "2021-08-16T23:13:54.173Z"
   },
   {
    "duration": 17,
    "start_time": "2021-08-16T23:13:54.181Z"
   },
   {
    "duration": 30,
    "start_time": "2021-08-16T23:13:54.201Z"
   },
   {
    "duration": 35,
    "start_time": "2021-08-16T23:13:54.233Z"
   },
   {
    "duration": 26,
    "start_time": "2021-08-16T23:13:54.271Z"
   },
   {
    "duration": 62,
    "start_time": "2021-08-16T23:13:54.301Z"
   },
   {
    "duration": 23,
    "start_time": "2021-08-16T23:13:54.366Z"
   },
   {
    "duration": 15,
    "start_time": "2021-08-16T23:13:54.391Z"
   },
   {
    "duration": 77,
    "start_time": "2021-08-16T23:13:54.409Z"
   },
   {
    "duration": 6,
    "start_time": "2021-08-16T23:13:54.488Z"
   },
   {
    "duration": 72,
    "start_time": "2021-08-16T23:13:54.496Z"
   },
   {
    "duration": 1039,
    "start_time": "2021-08-16T23:13:54.570Z"
   },
   {
    "duration": 19,
    "start_time": "2021-08-16T23:13:55.612Z"
   },
   {
    "duration": 41,
    "start_time": "2021-08-16T23:13:55.634Z"
   },
   {
    "duration": 39,
    "start_time": "2021-08-16T23:13:55.678Z"
   },
   {
    "duration": 49,
    "start_time": "2021-08-16T23:13:55.720Z"
   },
   {
    "duration": 26,
    "start_time": "2021-08-16T23:13:55.771Z"
   },
   {
    "duration": 347,
    "start_time": "2021-08-16T23:13:55.800Z"
   },
   {
    "duration": 26,
    "start_time": "2021-08-16T23:13:56.156Z"
   },
   {
    "duration": 859,
    "start_time": "2021-08-16T23:13:56.185Z"
   },
   {
    "duration": 2372,
    "start_time": "2021-08-16T23:13:54.675Z"
   },
   {
    "duration": 2365,
    "start_time": "2021-08-16T23:13:54.690Z"
   },
   {
    "duration": 2364,
    "start_time": "2021-08-16T23:13:54.693Z"
   },
   {
    "duration": 2362,
    "start_time": "2021-08-16T23:13:54.696Z"
   },
   {
    "duration": 2357,
    "start_time": "2021-08-16T23:13:54.702Z"
   },
   {
    "duration": 2355,
    "start_time": "2021-08-16T23:13:54.706Z"
   },
   {
    "duration": 2353,
    "start_time": "2021-08-16T23:13:54.709Z"
   },
   {
    "duration": 2351,
    "start_time": "2021-08-16T23:13:54.712Z"
   },
   {
    "duration": 2349,
    "start_time": "2021-08-16T23:13:54.716Z"
   },
   {
    "duration": 2345,
    "start_time": "2021-08-16T23:13:54.721Z"
   },
   {
    "duration": 2344,
    "start_time": "2021-08-16T23:13:54.724Z"
   },
   {
    "duration": 2342,
    "start_time": "2021-08-16T23:13:54.727Z"
   },
   {
    "duration": 2340,
    "start_time": "2021-08-16T23:13:54.730Z"
   },
   {
    "duration": 2338,
    "start_time": "2021-08-16T23:13:54.735Z"
   },
   {
    "duration": 2335,
    "start_time": "2021-08-16T23:13:54.739Z"
   },
   {
    "duration": 2335,
    "start_time": "2021-08-16T23:13:54.741Z"
   },
   {
    "duration": 2068,
    "start_time": "2021-08-16T23:14:15.400Z"
   },
   {
    "duration": 73,
    "start_time": "2021-08-16T23:14:17.471Z"
   },
   {
    "duration": 10,
    "start_time": "2021-08-16T23:14:17.547Z"
   },
   {
    "duration": 17,
    "start_time": "2021-08-16T23:14:17.560Z"
   },
   {
    "duration": 35,
    "start_time": "2021-08-16T23:14:17.580Z"
   },
   {
    "duration": 44,
    "start_time": "2021-08-16T23:14:17.617Z"
   },
   {
    "duration": 29,
    "start_time": "2021-08-16T23:14:17.663Z"
   },
   {
    "duration": 63,
    "start_time": "2021-08-16T23:14:17.695Z"
   },
   {
    "duration": 26,
    "start_time": "2021-08-16T23:14:17.762Z"
   },
   {
    "duration": 16,
    "start_time": "2021-08-16T23:14:17.791Z"
   },
   {
    "duration": 82,
    "start_time": "2021-08-16T23:14:17.809Z"
   },
   {
    "duration": 6,
    "start_time": "2021-08-16T23:14:17.894Z"
   },
   {
    "duration": 81,
    "start_time": "2021-08-16T23:14:17.903Z"
   },
   {
    "duration": 1049,
    "start_time": "2021-08-16T23:14:17.987Z"
   },
   {
    "duration": 23,
    "start_time": "2021-08-16T23:14:19.039Z"
   },
   {
    "duration": 20,
    "start_time": "2021-08-16T23:14:19.065Z"
   },
   {
    "duration": 33,
    "start_time": "2021-08-16T23:14:19.087Z"
   },
   {
    "duration": 41,
    "start_time": "2021-08-16T23:14:19.123Z"
   },
   {
    "duration": 21,
    "start_time": "2021-08-16T23:14:19.167Z"
   },
   {
    "duration": 335,
    "start_time": "2021-08-16T23:14:19.191Z"
   },
   {
    "duration": 34,
    "start_time": "2021-08-16T23:14:19.529Z"
   },
   {
    "duration": 799,
    "start_time": "2021-08-16T23:14:19.566Z"
   },
   {
    "duration": 2353,
    "start_time": "2021-08-16T23:14:18.015Z"
   },
   {
    "duration": 2348,
    "start_time": "2021-08-16T23:14:18.022Z"
   },
   {
    "duration": 2345,
    "start_time": "2021-08-16T23:14:18.026Z"
   },
   {
    "duration": 2345,
    "start_time": "2021-08-16T23:14:18.028Z"
   },
   {
    "duration": 2343,
    "start_time": "2021-08-16T23:14:18.031Z"
   },
   {
    "duration": 2341,
    "start_time": "2021-08-16T23:14:18.034Z"
   },
   {
    "duration": 2340,
    "start_time": "2021-08-16T23:14:18.037Z"
   },
   {
    "duration": 2338,
    "start_time": "2021-08-16T23:14:18.040Z"
   },
   {
    "duration": 2337,
    "start_time": "2021-08-16T23:14:18.042Z"
   },
   {
    "duration": 2336,
    "start_time": "2021-08-16T23:14:18.045Z"
   },
   {
    "duration": 2334,
    "start_time": "2021-08-16T23:14:18.048Z"
   },
   {
    "duration": 2332,
    "start_time": "2021-08-16T23:14:18.051Z"
   },
   {
    "duration": 2331,
    "start_time": "2021-08-16T23:14:18.054Z"
   },
   {
    "duration": 2329,
    "start_time": "2021-08-16T23:14:18.057Z"
   },
   {
    "duration": 2328,
    "start_time": "2021-08-16T23:14:18.060Z"
   },
   {
    "duration": 2326,
    "start_time": "2021-08-16T23:14:18.063Z"
   },
   {
    "duration": 2694,
    "start_time": "2021-08-17T13:52:46.883Z"
   },
   {
    "duration": 98,
    "start_time": "2021-08-17T13:52:49.580Z"
   },
   {
    "duration": 6,
    "start_time": "2021-08-17T13:52:49.682Z"
   },
   {
    "duration": 30,
    "start_time": "2021-08-17T13:52:49.692Z"
   },
   {
    "duration": 59,
    "start_time": "2021-08-17T13:52:49.726Z"
   },
   {
    "duration": 22,
    "start_time": "2021-08-17T13:52:49.788Z"
   },
   {
    "duration": 71,
    "start_time": "2021-08-17T13:52:49.814Z"
   },
   {
    "duration": 66,
    "start_time": "2021-08-17T13:52:49.891Z"
   },
   {
    "duration": 41,
    "start_time": "2021-08-17T13:52:49.961Z"
   },
   {
    "duration": 56,
    "start_time": "2021-08-17T13:52:50.006Z"
   },
   {
    "duration": 64,
    "start_time": "2021-08-17T13:52:50.065Z"
   },
   {
    "duration": 6,
    "start_time": "2021-08-17T13:52:50.153Z"
   },
   {
    "duration": 54,
    "start_time": "2021-08-17T13:52:50.162Z"
   },
   {
    "duration": 1369,
    "start_time": "2021-08-17T13:52:50.219Z"
   },
   {
    "duration": 17,
    "start_time": "2021-08-17T13:52:51.590Z"
   },
   {
    "duration": 47,
    "start_time": "2021-08-17T13:52:51.610Z"
   },
   {
    "duration": 41,
    "start_time": "2021-08-17T13:52:51.660Z"
   },
   {
    "duration": 9,
    "start_time": "2021-08-17T13:52:51.704Z"
   },
   {
    "duration": 50,
    "start_time": "2021-08-17T13:52:51.715Z"
   },
   {
    "duration": 244,
    "start_time": "2021-08-17T13:52:51.767Z"
   },
   {
    "duration": 25,
    "start_time": "2021-08-17T13:52:52.013Z"
   },
   {
    "duration": 717,
    "start_time": "2021-08-17T13:52:52.055Z"
   },
   {
    "duration": 10,
    "start_time": "2021-08-17T13:52:52.778Z"
   },
   {
    "duration": 24,
    "start_time": "2021-08-17T13:52:52.791Z"
   },
   {
    "duration": 1406,
    "start_time": "2021-08-17T13:52:52.817Z"
   },
   {
    "duration": 727,
    "start_time": "2021-08-17T13:52:54.226Z"
   },
   {
    "duration": 28,
    "start_time": "2021-08-17T13:52:54.955Z"
   },
   {
    "duration": 1470,
    "start_time": "2021-08-17T13:52:54.985Z"
   },
   {
    "duration": 16,
    "start_time": "2021-08-17T13:52:56.457Z"
   },
   {
    "duration": 23,
    "start_time": "2021-08-17T13:52:56.475Z"
   },
   {
    "duration": 70,
    "start_time": "2021-08-17T13:52:56.500Z"
   },
   {
    "duration": 40,
    "start_time": "2021-08-17T13:52:56.573Z"
   },
   {
    "duration": 42,
    "start_time": "2021-08-17T13:52:56.655Z"
   },
   {
    "duration": 6,
    "start_time": "2021-08-17T13:52:56.700Z"
   },
   {
    "duration": 762,
    "start_time": "2021-08-17T13:52:56.709Z"
   },
   {
    "duration": 13,
    "start_time": "2021-08-17T13:52:57.474Z"
   },
   {
    "duration": 740,
    "start_time": "2021-08-17T13:52:57.490Z"
   },
   {
    "duration": 27,
    "start_time": "2021-08-17T13:52:58.233Z"
   },
   {
    "duration": 1971,
    "start_time": "2021-08-17T13:53:20.667Z"
   },
   {
    "duration": 67,
    "start_time": "2021-08-17T13:53:22.640Z"
   },
   {
    "duration": 6,
    "start_time": "2021-08-17T13:53:22.710Z"
   },
   {
    "duration": 27,
    "start_time": "2021-08-17T13:53:22.718Z"
   },
   {
    "duration": 23,
    "start_time": "2021-08-17T13:53:22.755Z"
   },
   {
    "duration": 15,
    "start_time": "2021-08-17T13:53:22.780Z"
   },
   {
    "duration": 57,
    "start_time": "2021-08-17T13:53:22.798Z"
   },
   {
    "duration": 30,
    "start_time": "2021-08-17T13:53:22.859Z"
   },
   {
    "duration": 67,
    "start_time": "2021-08-17T13:53:22.893Z"
   },
   {
    "duration": 15,
    "start_time": "2021-08-17T13:53:22.963Z"
   },
   {
    "duration": 76,
    "start_time": "2021-08-17T13:53:22.980Z"
   },
   {
    "duration": 14,
    "start_time": "2021-08-17T13:53:23.059Z"
   },
   {
    "duration": 53,
    "start_time": "2021-08-17T13:53:23.076Z"
   },
   {
    "duration": 1596,
    "start_time": "2021-08-17T13:53:23.131Z"
   },
   {
    "duration": 29,
    "start_time": "2021-08-17T13:53:24.730Z"
   },
   {
    "duration": 23,
    "start_time": "2021-08-17T13:53:24.761Z"
   },
   {
    "duration": 85,
    "start_time": "2021-08-17T13:53:24.786Z"
   },
   {
    "duration": 10,
    "start_time": "2021-08-17T13:53:24.873Z"
   },
   {
    "duration": 21,
    "start_time": "2021-08-17T13:53:24.885Z"
   },
   {
    "duration": 253,
    "start_time": "2021-08-17T13:53:24.909Z"
   },
   {
    "duration": 25,
    "start_time": "2021-08-17T13:53:25.164Z"
   },
   {
    "duration": 628,
    "start_time": "2021-08-17T13:53:25.191Z"
   },
   {
    "duration": 11,
    "start_time": "2021-08-17T13:53:25.824Z"
   },
   {
    "duration": 39,
    "start_time": "2021-08-17T13:53:25.837Z"
   },
   {
    "duration": 1111,
    "start_time": "2021-08-17T13:53:25.879Z"
   },
   {
    "duration": 660,
    "start_time": "2021-08-17T13:53:26.993Z"
   },
   {
    "duration": 37,
    "start_time": "2021-08-17T13:53:27.656Z"
   },
   {
    "duration": 1565,
    "start_time": "2021-08-17T13:53:27.696Z"
   },
   {
    "duration": 17,
    "start_time": "2021-08-17T13:53:29.263Z"
   },
   {
    "duration": 28,
    "start_time": "2021-08-17T13:53:29.282Z"
   },
   {
    "duration": 63,
    "start_time": "2021-08-17T13:53:29.312Z"
   },
   {
    "duration": 34,
    "start_time": "2021-08-17T13:53:29.378Z"
   },
   {
    "duration": 41,
    "start_time": "2021-08-17T13:53:29.456Z"
   },
   {
    "duration": 4,
    "start_time": "2021-08-17T13:53:29.500Z"
   },
   {
    "duration": 499,
    "start_time": "2021-08-17T13:53:29.507Z"
   },
   {
    "duration": 11,
    "start_time": "2021-08-17T13:53:30.009Z"
   },
   {
    "duration": 496,
    "start_time": "2021-08-17T13:53:30.022Z"
   },
   {
    "duration": 12,
    "start_time": "2021-08-17T13:53:30.522Z"
   },
   {
    "duration": 2254,
    "start_time": "2021-08-17T13:53:59.251Z"
   },
   {
    "duration": 65,
    "start_time": "2021-08-17T13:54:01.508Z"
   },
   {
    "duration": 5,
    "start_time": "2021-08-17T13:54:01.577Z"
   },
   {
    "duration": 50,
    "start_time": "2021-08-17T13:54:01.584Z"
   },
   {
    "duration": 68,
    "start_time": "2021-08-17T13:54:01.637Z"
   },
   {
    "duration": 34,
    "start_time": "2021-08-17T13:54:01.708Z"
   },
   {
    "duration": 38,
    "start_time": "2021-08-17T13:54:01.745Z"
   },
   {
    "duration": 46,
    "start_time": "2021-08-17T13:54:01.788Z"
   },
   {
    "duration": 29,
    "start_time": "2021-08-17T13:54:01.837Z"
   },
   {
    "duration": 20,
    "start_time": "2021-08-17T13:54:01.868Z"
   },
   {
    "duration": 74,
    "start_time": "2021-08-17T13:54:01.890Z"
   },
   {
    "duration": 7,
    "start_time": "2021-08-17T13:54:01.967Z"
   },
   {
    "duration": 64,
    "start_time": "2021-08-17T13:54:01.977Z"
   },
   {
    "duration": 1719,
    "start_time": "2021-08-17T13:54:02.043Z"
   },
   {
    "duration": 17,
    "start_time": "2021-08-17T13:54:03.765Z"
   },
   {
    "duration": 42,
    "start_time": "2021-08-17T13:54:03.784Z"
   },
   {
    "duration": 63,
    "start_time": "2021-08-17T13:54:03.829Z"
   },
   {
    "duration": 10,
    "start_time": "2021-08-17T13:54:03.895Z"
   },
   {
    "duration": 25,
    "start_time": "2021-08-17T13:54:03.907Z"
   },
   {
    "duration": 247,
    "start_time": "2021-08-17T13:54:03.955Z"
   },
   {
    "duration": 26,
    "start_time": "2021-08-17T13:54:04.204Z"
   },
   {
    "duration": 652,
    "start_time": "2021-08-17T13:54:04.233Z"
   },
   {
    "duration": 10,
    "start_time": "2021-08-17T13:54:04.889Z"
   },
   {
    "duration": 31,
    "start_time": "2021-08-17T13:54:04.903Z"
   },
   {
    "duration": 1085,
    "start_time": "2021-08-17T13:54:04.937Z"
   },
   {
    "duration": 558,
    "start_time": "2021-08-17T13:54:06.024Z"
   },
   {
    "duration": 29,
    "start_time": "2021-08-17T13:54:06.586Z"
   },
   {
    "duration": 1810,
    "start_time": "2021-08-17T13:54:06.618Z"
   },
   {
    "duration": 30,
    "start_time": "2021-08-17T13:54:08.430Z"
   },
   {
    "duration": 24,
    "start_time": "2021-08-17T13:54:08.462Z"
   },
   {
    "duration": 38,
    "start_time": "2021-08-17T13:54:08.488Z"
   },
   {
    "duration": 54,
    "start_time": "2021-08-17T13:54:08.528Z"
   },
   {
    "duration": 72,
    "start_time": "2021-08-17T13:54:08.584Z"
   },
   {
    "duration": 3,
    "start_time": "2021-08-17T13:54:08.658Z"
   },
   {
    "duration": 492,
    "start_time": "2021-08-17T13:54:08.664Z"
   },
   {
    "duration": 10,
    "start_time": "2021-08-17T13:54:09.159Z"
   },
   {
    "duration": 570,
    "start_time": "2021-08-17T13:54:09.172Z"
   },
   {
    "duration": 19,
    "start_time": "2021-08-17T13:54:09.745Z"
   },
   {
    "duration": 2287,
    "start_time": "2021-08-17T13:55:10.776Z"
   },
   {
    "duration": 71,
    "start_time": "2021-08-17T13:55:13.066Z"
   },
   {
    "duration": 14,
    "start_time": "2021-08-17T13:55:13.140Z"
   },
   {
    "duration": 24,
    "start_time": "2021-08-17T13:55:13.158Z"
   },
   {
    "duration": 42,
    "start_time": "2021-08-17T13:55:13.185Z"
   },
   {
    "duration": 26,
    "start_time": "2021-08-17T13:55:13.230Z"
   },
   {
    "duration": 35,
    "start_time": "2021-08-17T13:55:13.259Z"
   },
   {
    "duration": 57,
    "start_time": "2021-08-17T13:55:13.299Z"
   },
   {
    "duration": 32,
    "start_time": "2021-08-17T13:55:13.359Z"
   },
   {
    "duration": 16,
    "start_time": "2021-08-17T13:55:13.394Z"
   },
   {
    "duration": 85,
    "start_time": "2021-08-17T13:55:13.412Z"
   },
   {
    "duration": 5,
    "start_time": "2021-08-17T13:55:13.500Z"
   },
   {
    "duration": 81,
    "start_time": "2021-08-17T13:55:13.507Z"
   },
   {
    "duration": 1393,
    "start_time": "2021-08-17T13:55:13.591Z"
   },
   {
    "duration": 17,
    "start_time": "2021-08-17T13:55:14.986Z"
   },
   {
    "duration": 39,
    "start_time": "2021-08-17T13:55:15.005Z"
   },
   {
    "duration": 53,
    "start_time": "2021-08-17T13:55:15.055Z"
   },
   {
    "duration": 12,
    "start_time": "2021-08-17T13:55:15.111Z"
   },
   {
    "duration": 36,
    "start_time": "2021-08-17T13:55:15.125Z"
   },
   {
    "duration": 250,
    "start_time": "2021-08-17T13:55:15.163Z"
   },
   {
    "duration": 23,
    "start_time": "2021-08-17T13:55:15.416Z"
   },
   {
    "duration": 671,
    "start_time": "2021-08-17T13:55:15.455Z"
   },
   {
    "duration": 26,
    "start_time": "2021-08-17T13:55:16.130Z"
   },
   {
    "duration": 31,
    "start_time": "2021-08-17T13:55:16.158Z"
   },
   {
    "duration": 1001,
    "start_time": "2021-08-17T13:55:16.192Z"
   },
   {
    "duration": 573,
    "start_time": "2021-08-17T13:55:17.197Z"
   },
   {
    "duration": 29,
    "start_time": "2021-08-17T13:55:17.773Z"
   },
   {
    "duration": 1456,
    "start_time": "2021-08-17T13:55:17.805Z"
   },
   {
    "duration": 19,
    "start_time": "2021-08-17T13:55:19.263Z"
   },
   {
    "duration": 27,
    "start_time": "2021-08-17T13:55:19.286Z"
   },
   {
    "duration": 63,
    "start_time": "2021-08-17T13:55:19.315Z"
   },
   {
    "duration": 74,
    "start_time": "2021-08-17T13:55:19.380Z"
   },
   {
    "duration": 44,
    "start_time": "2021-08-17T13:55:19.457Z"
   },
   {
    "duration": 17,
    "start_time": "2021-08-17T13:55:19.504Z"
   },
   {
    "duration": 512,
    "start_time": "2021-08-17T13:55:19.524Z"
   },
   {
    "duration": 16,
    "start_time": "2021-08-17T13:55:20.039Z"
   },
   {
    "duration": 566,
    "start_time": "2021-08-17T13:55:20.057Z"
   },
   {
    "duration": 10,
    "start_time": "2021-08-17T13:55:20.625Z"
   },
   {
    "duration": 2226,
    "start_time": "2021-08-17T13:59:13.630Z"
   },
   {
    "duration": 107,
    "start_time": "2021-08-17T13:59:18.630Z"
   },
   {
    "duration": 5,
    "start_time": "2021-08-17T13:59:19.438Z"
   },
   {
    "duration": 16,
    "start_time": "2021-08-17T13:59:20.118Z"
   },
   {
    "duration": 24,
    "start_time": "2021-08-17T13:59:20.698Z"
   },
   {
    "duration": 19,
    "start_time": "2021-08-17T13:59:21.690Z"
   },
   {
    "duration": 40,
    "start_time": "2021-08-17T13:59:22.763Z"
   },
   {
    "duration": 44,
    "start_time": "2021-08-17T13:59:23.210Z"
   },
   {
    "duration": 28,
    "start_time": "2021-08-17T13:59:23.682Z"
   },
   {
    "duration": 23,
    "start_time": "2021-08-17T13:59:24.222Z"
   },
   {
    "duration": 62,
    "start_time": "2021-08-17T13:59:24.930Z"
   },
   {
    "duration": 8,
    "start_time": "2021-08-17T13:59:26.570Z"
   },
   {
    "duration": 64,
    "start_time": "2021-08-17T13:59:28.034Z"
   },
   {
    "duration": 1561,
    "start_time": "2021-08-17T13:59:28.666Z"
   },
   {
    "duration": 32,
    "start_time": "2021-08-17T13:59:30.230Z"
   },
   {
    "duration": 23,
    "start_time": "2021-08-17T13:59:30.266Z"
   },
   {
    "duration": 73,
    "start_time": "2021-08-17T13:59:30.292Z"
   },
   {
    "duration": 11,
    "start_time": "2021-08-17T13:59:30.870Z"
   },
   {
    "duration": 20,
    "start_time": "2021-08-17T13:59:30.990Z"
   },
   {
    "duration": 239,
    "start_time": "2021-08-17T13:59:33.950Z"
   },
   {
    "duration": 27,
    "start_time": "2021-08-17T13:59:36.063Z"
   },
   {
    "duration": 755,
    "start_time": "2021-08-17T13:59:37.647Z"
   },
   {
    "duration": 751,
    "start_time": "2021-08-17T13:59:46.535Z"
   },
   {
    "duration": 683,
    "start_time": "2021-08-17T13:59:51.563Z"
   },
   {
    "duration": 394,
    "start_time": "2021-08-17T14:00:34.308Z"
   },
   {
    "duration": 64,
    "start_time": "2021-08-17T14:00:34.704Z"
   },
   {
    "duration": 6,
    "start_time": "2021-08-17T14:00:34.847Z"
   },
   {
    "duration": 15,
    "start_time": "2021-08-17T14:00:35.016Z"
   },
   {
    "duration": 23,
    "start_time": "2021-08-17T14:00:35.187Z"
   },
   {
    "duration": 15,
    "start_time": "2021-08-17T14:00:35.467Z"
   },
   {
    "duration": 35,
    "start_time": "2021-08-17T14:00:35.843Z"
   },
   {
    "duration": 30,
    "start_time": "2021-08-17T14:00:35.991Z"
   },
   {
    "duration": 27,
    "start_time": "2021-08-17T14:00:36.124Z"
   },
   {
    "duration": 21,
    "start_time": "2021-08-17T14:00:36.255Z"
   },
   {
    "duration": 44,
    "start_time": "2021-08-17T14:00:36.387Z"
   },
   {
    "duration": 8,
    "start_time": "2021-08-17T14:00:36.656Z"
   },
   {
    "duration": 51,
    "start_time": "2021-08-17T14:00:37.287Z"
   },
   {
    "duration": 1670,
    "start_time": "2021-08-17T14:00:37.603Z"
   },
   {
    "duration": 24,
    "start_time": "2021-08-17T14:00:39.277Z"
   },
   {
    "duration": 27,
    "start_time": "2021-08-17T14:00:39.304Z"
   },
   {
    "duration": 86,
    "start_time": "2021-08-17T14:00:39.334Z"
   },
   {
    "duration": 12,
    "start_time": "2021-08-17T14:00:40.068Z"
   },
   {
    "duration": 18,
    "start_time": "2021-08-17T14:00:40.495Z"
   },
   {
    "duration": 340,
    "start_time": "2021-08-17T14:00:42.531Z"
   },
   {
    "duration": 37,
    "start_time": "2021-08-17T14:00:44.947Z"
   },
   {
    "duration": 660,
    "start_time": "2021-08-17T14:00:49.340Z"
   },
   {
    "duration": 93,
    "start_time": "2021-08-17T14:01:52.795Z"
   },
   {
    "duration": 2009,
    "start_time": "2021-08-17T14:04:21.650Z"
   },
   {
    "duration": 68,
    "start_time": "2021-08-17T14:04:23.662Z"
   },
   {
    "duration": 5,
    "start_time": "2021-08-17T14:04:23.733Z"
   },
   {
    "duration": 17,
    "start_time": "2021-08-17T14:04:23.755Z"
   },
   {
    "duration": 31,
    "start_time": "2021-08-17T14:04:23.774Z"
   },
   {
    "duration": 19,
    "start_time": "2021-08-17T14:04:23.807Z"
   },
   {
    "duration": 30,
    "start_time": "2021-08-17T14:04:23.855Z"
   },
   {
    "duration": 67,
    "start_time": "2021-08-17T14:04:23.889Z"
   },
   {
    "duration": 44,
    "start_time": "2021-08-17T14:04:23.960Z"
   },
   {
    "duration": 54,
    "start_time": "2021-08-17T14:04:24.007Z"
   },
   {
    "duration": 59,
    "start_time": "2021-08-17T14:04:24.064Z"
   },
   {
    "duration": 31,
    "start_time": "2021-08-17T14:04:24.126Z"
   },
   {
    "duration": 70,
    "start_time": "2021-08-17T14:04:24.161Z"
   },
   {
    "duration": 1445,
    "start_time": "2021-08-17T14:04:24.234Z"
   },
   {
    "duration": 16,
    "start_time": "2021-08-17T14:04:25.682Z"
   },
   {
    "duration": 53,
    "start_time": "2021-08-17T14:04:25.701Z"
   },
   {
    "duration": 46,
    "start_time": "2021-08-17T14:04:25.757Z"
   },
   {
    "duration": 13,
    "start_time": "2021-08-17T14:04:25.806Z"
   },
   {
    "duration": 46,
    "start_time": "2021-08-17T14:04:25.823Z"
   },
   {
    "duration": 227,
    "start_time": "2021-08-17T14:04:26.769Z"
   },
   {
    "duration": 26,
    "start_time": "2021-08-17T14:04:27.393Z"
   },
   {
    "duration": 899,
    "start_time": "2021-08-17T14:04:29.779Z"
   },
   {
    "duration": 2307,
    "start_time": "2021-08-17T14:09:09.104Z"
   },
   {
    "duration": 96,
    "start_time": "2021-08-17T14:09:11.415Z"
   },
   {
    "duration": 6,
    "start_time": "2021-08-17T14:09:11.515Z"
   },
   {
    "duration": 57,
    "start_time": "2021-08-17T14:09:11.524Z"
   },
   {
    "duration": 30,
    "start_time": "2021-08-17T14:09:11.584Z"
   },
   {
    "duration": 16,
    "start_time": "2021-08-17T14:09:11.616Z"
   },
   {
    "duration": 47,
    "start_time": "2021-08-17T14:09:11.634Z"
   },
   {
    "duration": 50,
    "start_time": "2021-08-17T14:09:11.685Z"
   },
   {
    "duration": 42,
    "start_time": "2021-08-17T14:09:11.738Z"
   },
   {
    "duration": 17,
    "start_time": "2021-08-17T14:09:11.783Z"
   },
   {
    "duration": 79,
    "start_time": "2021-08-17T14:09:11.802Z"
   },
   {
    "duration": 7,
    "start_time": "2021-08-17T14:09:11.884Z"
   },
   {
    "duration": 102,
    "start_time": "2021-08-17T14:09:11.893Z"
   },
   {
    "duration": 2962,
    "start_time": "2021-08-17T14:09:11.999Z"
   },
   {
    "duration": 25,
    "start_time": "2021-08-17T14:09:14.964Z"
   },
   {
    "duration": 46,
    "start_time": "2021-08-17T14:09:14.992Z"
   },
   {
    "duration": 63,
    "start_time": "2021-08-17T14:09:15.055Z"
   },
   {
    "duration": 11,
    "start_time": "2021-08-17T14:09:15.121Z"
   },
   {
    "duration": 38,
    "start_time": "2021-08-17T14:09:15.136Z"
   },
   {
    "duration": 242,
    "start_time": "2021-08-17T14:09:15.177Z"
   },
   {
    "duration": 39,
    "start_time": "2021-08-17T14:09:15.422Z"
   },
   {
    "duration": 621,
    "start_time": "2021-08-17T14:09:15.464Z"
   },
   {
    "duration": 14,
    "start_time": "2021-08-17T14:09:16.093Z"
   },
   {
    "duration": 51,
    "start_time": "2021-08-17T14:09:16.112Z"
   },
   {
    "duration": 1564,
    "start_time": "2021-08-17T14:09:16.165Z"
   },
   {
    "duration": 889,
    "start_time": "2021-08-17T14:09:17.732Z"
   },
   {
    "duration": 47,
    "start_time": "2021-08-17T14:09:18.624Z"
   },
   {
    "duration": 2206,
    "start_time": "2021-08-17T14:09:18.674Z"
   },
   {
    "duration": 24,
    "start_time": "2021-08-17T14:09:20.883Z"
   },
   {
    "duration": 53,
    "start_time": "2021-08-17T14:09:20.910Z"
   },
   {
    "duration": 58,
    "start_time": "2021-08-17T14:09:20.966Z"
   },
   {
    "duration": 61,
    "start_time": "2021-08-17T14:09:21.027Z"
   },
   {
    "duration": 70,
    "start_time": "2021-08-17T14:09:21.098Z"
   },
   {
    "duration": 4,
    "start_time": "2021-08-17T14:09:21.170Z"
   },
   {
    "duration": 710,
    "start_time": "2021-08-17T14:09:21.178Z"
   },
   {
    "duration": 12,
    "start_time": "2021-08-17T14:09:21.891Z"
   },
   {
    "duration": 524,
    "start_time": "2021-08-17T14:09:21.906Z"
   },
   {
    "duration": 23,
    "start_time": "2021-08-17T14:09:22.434Z"
   },
   {
    "duration": 2050,
    "start_time": "2021-08-17T14:11:15.343Z"
   },
   {
    "duration": 74,
    "start_time": "2021-08-17T14:11:17.396Z"
   },
   {
    "duration": 6,
    "start_time": "2021-08-17T14:11:17.473Z"
   },
   {
    "duration": 16,
    "start_time": "2021-08-17T14:11:17.483Z"
   },
   {
    "duration": 60,
    "start_time": "2021-08-17T14:11:17.502Z"
   },
   {
    "duration": 18,
    "start_time": "2021-08-17T14:11:17.564Z"
   },
   {
    "duration": 28,
    "start_time": "2021-08-17T14:11:17.585Z"
   },
   {
    "duration": 61,
    "start_time": "2021-08-17T14:11:17.617Z"
   },
   {
    "duration": 33,
    "start_time": "2021-08-17T14:11:17.682Z"
   },
   {
    "duration": 18,
    "start_time": "2021-08-17T14:11:17.755Z"
   },
   {
    "duration": 50,
    "start_time": "2021-08-17T14:11:17.775Z"
   },
   {
    "duration": 7,
    "start_time": "2021-08-17T14:11:17.855Z"
   },
   {
    "duration": 57,
    "start_time": "2021-08-17T14:11:17.865Z"
   },
   {
    "duration": 1653,
    "start_time": "2021-08-17T14:11:17.925Z"
   },
   {
    "duration": 25,
    "start_time": "2021-08-17T14:11:19.581Z"
   },
   {
    "duration": 60,
    "start_time": "2021-08-17T14:11:19.610Z"
   },
   {
    "duration": 81,
    "start_time": "2021-08-17T14:11:19.673Z"
   },
   {
    "duration": 13,
    "start_time": "2021-08-17T14:11:19.757Z"
   },
   {
    "duration": 26,
    "start_time": "2021-08-17T14:11:19.773Z"
   },
   {
    "duration": 322,
    "start_time": "2021-08-17T14:11:19.802Z"
   },
   {
    "duration": 44,
    "start_time": "2021-08-17T14:11:20.126Z"
   },
   {
    "duration": 905,
    "start_time": "2021-08-17T14:11:20.174Z"
   },
   {
    "duration": 12,
    "start_time": "2021-08-17T14:11:21.086Z"
   },
   {
    "duration": 33,
    "start_time": "2021-08-17T14:11:21.101Z"
   },
   {
    "duration": 1280,
    "start_time": "2021-08-17T14:11:21.136Z"
   },
   {
    "duration": 903,
    "start_time": "2021-08-17T14:11:22.419Z"
   },
   {
    "duration": 54,
    "start_time": "2021-08-17T14:11:23.325Z"
   },
   {
    "duration": 2266,
    "start_time": "2021-08-17T14:11:23.382Z"
   },
   {
    "duration": 16,
    "start_time": "2021-08-17T14:11:25.654Z"
   },
   {
    "duration": 40,
    "start_time": "2021-08-17T14:11:25.672Z"
   },
   {
    "duration": 52,
    "start_time": "2021-08-17T14:11:25.715Z"
   },
   {
    "duration": 30,
    "start_time": "2021-08-17T14:11:25.770Z"
   },
   {
    "duration": 76,
    "start_time": "2021-08-17T14:11:25.803Z"
   },
   {
    "duration": 8,
    "start_time": "2021-08-17T14:11:25.881Z"
   },
   {
    "duration": 497,
    "start_time": "2021-08-17T14:11:25.891Z"
   },
   {
    "duration": 10,
    "start_time": "2021-08-17T14:11:26.392Z"
   },
   {
    "duration": 483,
    "start_time": "2021-08-17T14:11:26.405Z"
   },
   {
    "duration": 11,
    "start_time": "2021-08-17T14:11:26.891Z"
   },
   {
    "duration": 2014,
    "start_time": "2021-08-17T14:17:31.728Z"
   },
   {
    "duration": 66,
    "start_time": "2021-08-17T14:17:33.745Z"
   },
   {
    "duration": 5,
    "start_time": "2021-08-17T14:17:33.814Z"
   },
   {
    "duration": 40,
    "start_time": "2021-08-17T14:17:33.822Z"
   },
   {
    "duration": 24,
    "start_time": "2021-08-17T14:17:33.864Z"
   },
   {
    "duration": 18,
    "start_time": "2021-08-17T14:17:33.891Z"
   },
   {
    "duration": 62,
    "start_time": "2021-08-17T14:17:33.911Z"
   },
   {
    "duration": 30,
    "start_time": "2021-08-17T14:17:33.976Z"
   },
   {
    "duration": 65,
    "start_time": "2021-08-17T14:17:34.009Z"
   },
   {
    "duration": 16,
    "start_time": "2021-08-17T14:17:34.077Z"
   },
   {
    "duration": 77,
    "start_time": "2021-08-17T14:17:34.096Z"
   },
   {
    "duration": 6,
    "start_time": "2021-08-17T14:17:34.175Z"
   },
   {
    "duration": 77,
    "start_time": "2021-08-17T14:17:34.184Z"
   },
   {
    "duration": 1380,
    "start_time": "2021-08-17T14:17:34.264Z"
   },
   {
    "duration": 19,
    "start_time": "2021-08-17T14:17:35.655Z"
   },
   {
    "duration": 23,
    "start_time": "2021-08-17T14:17:35.677Z"
   },
   {
    "duration": 71,
    "start_time": "2021-08-17T14:17:35.703Z"
   },
   {
    "duration": 13,
    "start_time": "2021-08-17T14:17:35.777Z"
   },
   {
    "duration": 20,
    "start_time": "2021-08-17T14:17:35.792Z"
   },
   {
    "duration": 258,
    "start_time": "2021-08-17T14:17:35.814Z"
   },
   {
    "duration": 27,
    "start_time": "2021-08-17T14:17:36.075Z"
   },
   {
    "duration": 618,
    "start_time": "2021-08-17T14:17:36.104Z"
   },
   {
    "duration": 28,
    "start_time": "2021-08-17T14:17:36.729Z"
   },
   {
    "duration": 28,
    "start_time": "2021-08-17T14:17:36.760Z"
   },
   {
    "duration": 1573,
    "start_time": "2021-08-17T14:17:36.791Z"
   },
   {
    "duration": 773,
    "start_time": "2021-08-17T14:17:38.367Z"
   },
   {
    "duration": 40,
    "start_time": "2021-08-17T14:17:39.143Z"
   },
   {
    "duration": 1572,
    "start_time": "2021-08-17T14:17:39.186Z"
   },
   {
    "duration": 18,
    "start_time": "2021-08-17T14:17:40.761Z"
   },
   {
    "duration": 23,
    "start_time": "2021-08-17T14:17:40.784Z"
   },
   {
    "duration": 70,
    "start_time": "2021-08-17T14:17:40.810Z"
   },
   {
    "duration": 33,
    "start_time": "2021-08-17T14:17:40.882Z"
   },
   {
    "duration": 30,
    "start_time": "2021-08-17T14:17:40.954Z"
   },
   {
    "duration": 4,
    "start_time": "2021-08-17T14:17:40.987Z"
   },
   {
    "duration": 487,
    "start_time": "2021-08-17T14:17:40.994Z"
   },
   {
    "duration": 12,
    "start_time": "2021-08-17T14:17:41.484Z"
   },
   {
    "duration": 471,
    "start_time": "2021-08-17T14:17:41.499Z"
   },
   {
    "duration": 12,
    "start_time": "2021-08-17T14:17:41.973Z"
   },
   {
    "duration": 2084,
    "start_time": "2021-08-17T14:19:35.778Z"
   },
   {
    "duration": 69,
    "start_time": "2021-08-17T14:19:37.865Z"
   },
   {
    "duration": 17,
    "start_time": "2021-08-17T14:19:37.938Z"
   },
   {
    "duration": 49,
    "start_time": "2021-08-17T14:19:37.958Z"
   },
   {
    "duration": 50,
    "start_time": "2021-08-17T14:19:38.009Z"
   },
   {
    "duration": 33,
    "start_time": "2021-08-17T14:19:38.062Z"
   },
   {
    "duration": 43,
    "start_time": "2021-08-17T14:19:38.098Z"
   },
   {
    "duration": 50,
    "start_time": "2021-08-17T14:19:38.154Z"
   },
   {
    "duration": 56,
    "start_time": "2021-08-17T14:19:38.207Z"
   },
   {
    "duration": 16,
    "start_time": "2021-08-17T14:19:38.266Z"
   },
   {
    "duration": 78,
    "start_time": "2021-08-17T14:19:38.284Z"
   },
   {
    "duration": 6,
    "start_time": "2021-08-17T14:19:38.365Z"
   },
   {
    "duration": 111,
    "start_time": "2021-08-17T14:19:38.373Z"
   },
   {
    "duration": 1600,
    "start_time": "2021-08-17T14:19:38.486Z"
   },
   {
    "duration": 19,
    "start_time": "2021-08-17T14:19:40.088Z"
   },
   {
    "duration": 57,
    "start_time": "2021-08-17T14:19:40.111Z"
   },
   {
    "duration": 44,
    "start_time": "2021-08-17T14:19:40.171Z"
   },
   {
    "duration": 38,
    "start_time": "2021-08-17T14:19:40.217Z"
   },
   {
    "duration": 17,
    "start_time": "2021-08-17T14:19:40.257Z"
   },
   {
    "duration": 250,
    "start_time": "2021-08-17T14:19:40.276Z"
   },
   {
    "duration": 41,
    "start_time": "2021-08-17T14:19:40.529Z"
   },
   {
    "duration": 615,
    "start_time": "2021-08-17T14:19:40.573Z"
   },
   {
    "duration": 13,
    "start_time": "2021-08-17T14:19:41.193Z"
   },
   {
    "duration": 50,
    "start_time": "2021-08-17T14:19:41.209Z"
   },
   {
    "duration": 1111,
    "start_time": "2021-08-17T14:19:41.262Z"
   },
   {
    "duration": 658,
    "start_time": "2021-08-17T14:19:42.376Z"
   },
   {
    "duration": 39,
    "start_time": "2021-08-17T14:19:43.037Z"
   },
   {
    "duration": 1694,
    "start_time": "2021-08-17T14:19:43.079Z"
   },
   {
    "duration": 25,
    "start_time": "2021-08-17T14:19:44.776Z"
   },
   {
    "duration": 50,
    "start_time": "2021-08-17T14:19:44.804Z"
   },
   {
    "duration": 41,
    "start_time": "2021-08-17T14:19:44.858Z"
   },
   {
    "duration": 70,
    "start_time": "2021-08-17T14:19:44.902Z"
   },
   {
    "duration": 38,
    "start_time": "2021-08-17T14:19:44.975Z"
   },
   {
    "duration": 54,
    "start_time": "2021-08-17T14:19:45.016Z"
   },
   {
    "duration": 698,
    "start_time": "2021-08-17T14:19:45.073Z"
   },
   {
    "duration": 14,
    "start_time": "2021-08-17T14:19:45.775Z"
   },
   {
    "duration": 600,
    "start_time": "2021-08-17T14:19:45.793Z"
   },
   {
    "duration": 15,
    "start_time": "2021-08-17T14:19:46.396Z"
   },
   {
    "duration": 2825,
    "start_time": "2021-08-17T14:26:46.743Z"
   },
   {
    "duration": 90,
    "start_time": "2021-08-17T14:26:49.571Z"
   },
   {
    "duration": 5,
    "start_time": "2021-08-17T14:26:49.664Z"
   },
   {
    "duration": 27,
    "start_time": "2021-08-17T14:26:49.672Z"
   },
   {
    "duration": 54,
    "start_time": "2021-08-17T14:26:49.702Z"
   },
   {
    "duration": 21,
    "start_time": "2021-08-17T14:26:49.759Z"
   },
   {
    "duration": 31,
    "start_time": "2021-08-17T14:26:49.783Z"
   },
   {
    "duration": 62,
    "start_time": "2021-08-17T14:26:49.819Z"
   },
   {
    "duration": 69,
    "start_time": "2021-08-17T14:26:49.885Z"
   },
   {
    "duration": 17,
    "start_time": "2021-08-17T14:26:49.958Z"
   },
   {
    "duration": 100,
    "start_time": "2021-08-17T14:26:49.978Z"
   },
   {
    "duration": 7,
    "start_time": "2021-08-17T14:26:50.081Z"
   },
   {
    "duration": 107,
    "start_time": "2021-08-17T14:26:50.090Z"
   },
   {
    "duration": 2566,
    "start_time": "2021-08-17T14:26:50.200Z"
   },
   {
    "duration": 17,
    "start_time": "2021-08-17T14:26:52.769Z"
   },
   {
    "duration": 25,
    "start_time": "2021-08-17T14:26:52.788Z"
   },
   {
    "duration": 73,
    "start_time": "2021-08-17T14:26:52.816Z"
   },
   {
    "duration": 11,
    "start_time": "2021-08-17T14:26:52.891Z"
   },
   {
    "duration": 54,
    "start_time": "2021-08-17T14:26:52.904Z"
   },
   {
    "duration": 249,
    "start_time": "2021-08-17T14:26:52.960Z"
   },
   {
    "duration": 26,
    "start_time": "2021-08-17T14:26:53.211Z"
   },
   {
    "duration": 609,
    "start_time": "2021-08-17T14:26:53.255Z"
   },
   {
    "duration": 11,
    "start_time": "2021-08-17T14:26:53.871Z"
   },
   {
    "duration": 38,
    "start_time": "2021-08-17T14:26:53.886Z"
   },
   {
    "duration": 1568,
    "start_time": "2021-08-17T14:26:53.927Z"
   },
   {
    "duration": 612,
    "start_time": "2021-08-17T14:26:55.498Z"
   },
   {
    "duration": 43,
    "start_time": "2021-08-17T14:26:56.113Z"
   },
   {
    "duration": 2288,
    "start_time": "2021-08-17T14:26:56.158Z"
   },
   {
    "duration": 23,
    "start_time": "2021-08-17T14:26:58.454Z"
   },
   {
    "duration": 32,
    "start_time": "2021-08-17T14:26:58.480Z"
   },
   {
    "duration": 67,
    "start_time": "2021-08-17T14:26:58.514Z"
   },
   {
    "duration": 76,
    "start_time": "2021-08-17T14:26:58.584Z"
   },
   {
    "duration": 37,
    "start_time": "2021-08-17T14:26:58.664Z"
   },
   {
    "duration": 51,
    "start_time": "2021-08-17T14:26:58.704Z"
   },
   {
    "duration": 487,
    "start_time": "2021-08-17T14:26:58.758Z"
   },
   {
    "duration": 10,
    "start_time": "2021-08-17T14:26:59.255Z"
   },
   {
    "duration": 494,
    "start_time": "2021-08-17T14:26:59.268Z"
   },
   {
    "duration": 12,
    "start_time": "2021-08-17T14:26:59.765Z"
   },
   {
    "duration": 2527,
    "start_time": "2021-08-17T14:27:27.749Z"
   },
   {
    "duration": 80,
    "start_time": "2021-08-17T14:27:30.279Z"
   },
   {
    "duration": 7,
    "start_time": "2021-08-17T14:27:30.364Z"
   },
   {
    "duration": 30,
    "start_time": "2021-08-17T14:27:30.375Z"
   },
   {
    "duration": 45,
    "start_time": "2021-08-17T14:27:30.409Z"
   },
   {
    "duration": 16,
    "start_time": "2021-08-17T14:27:30.458Z"
   },
   {
    "duration": 38,
    "start_time": "2021-08-17T14:27:30.477Z"
   },
   {
    "duration": 70,
    "start_time": "2021-08-17T14:27:30.520Z"
   },
   {
    "duration": 72,
    "start_time": "2021-08-17T14:27:30.595Z"
   },
   {
    "duration": 17,
    "start_time": "2021-08-17T14:27:30.671Z"
   },
   {
    "duration": 80,
    "start_time": "2021-08-17T14:27:30.690Z"
   },
   {
    "duration": 7,
    "start_time": "2021-08-17T14:27:30.773Z"
   },
   {
    "duration": 84,
    "start_time": "2021-08-17T14:27:30.782Z"
   },
   {
    "duration": 1434,
    "start_time": "2021-08-17T14:27:30.869Z"
   },
   {
    "duration": 16,
    "start_time": "2021-08-17T14:27:32.305Z"
   },
   {
    "duration": 44,
    "start_time": "2021-08-17T14:27:32.323Z"
   },
   {
    "duration": 45,
    "start_time": "2021-08-17T14:27:32.370Z"
   },
   {
    "duration": 37,
    "start_time": "2021-08-17T14:27:32.418Z"
   },
   {
    "duration": 21,
    "start_time": "2021-08-17T14:27:32.458Z"
   },
   {
    "duration": 365,
    "start_time": "2021-08-17T14:27:32.483Z"
   },
   {
    "duration": 26,
    "start_time": "2021-08-17T14:27:32.855Z"
   },
   {
    "duration": 677,
    "start_time": "2021-08-17T14:27:32.884Z"
   },
   {
    "duration": 10,
    "start_time": "2021-08-17T14:27:33.566Z"
   },
   {
    "duration": 37,
    "start_time": "2021-08-17T14:27:33.579Z"
   },
   {
    "duration": 1105,
    "start_time": "2021-08-17T14:27:33.620Z"
   },
   {
    "duration": 631,
    "start_time": "2021-08-17T14:27:34.729Z"
   },
   {
    "duration": 30,
    "start_time": "2021-08-17T14:27:35.364Z"
   },
   {
    "duration": 1664,
    "start_time": "2021-08-17T14:27:35.397Z"
   },
   {
    "duration": 20,
    "start_time": "2021-08-17T14:27:37.064Z"
   },
   {
    "duration": 24,
    "start_time": "2021-08-17T14:27:37.087Z"
   },
   {
    "duration": 79,
    "start_time": "2021-08-17T14:27:37.114Z"
   },
   {
    "duration": 68,
    "start_time": "2021-08-17T14:27:37.196Z"
   },
   {
    "duration": 88,
    "start_time": "2021-08-17T14:27:37.267Z"
   },
   {
    "duration": 4,
    "start_time": "2021-08-17T14:27:37.359Z"
   },
   {
    "duration": 500,
    "start_time": "2021-08-17T14:27:37.366Z"
   },
   {
    "duration": 9,
    "start_time": "2021-08-17T14:27:37.870Z"
   },
   {
    "duration": 598,
    "start_time": "2021-08-17T14:27:37.882Z"
   },
   {
    "duration": 14,
    "start_time": "2021-08-17T14:27:38.483Z"
   },
   {
    "duration": 2193,
    "start_time": "2021-08-17T14:31:27.989Z"
   },
   {
    "duration": 68,
    "start_time": "2021-08-17T14:31:30.185Z"
   },
   {
    "duration": 6,
    "start_time": "2021-08-17T14:31:30.256Z"
   },
   {
    "duration": 55,
    "start_time": "2021-08-17T14:31:30.265Z"
   },
   {
    "duration": 50,
    "start_time": "2021-08-17T14:31:30.323Z"
   },
   {
    "duration": 37,
    "start_time": "2021-08-17T14:31:30.375Z"
   },
   {
    "duration": 61,
    "start_time": "2021-08-17T14:31:30.414Z"
   },
   {
    "duration": 46,
    "start_time": "2021-08-17T14:31:30.479Z"
   },
   {
    "duration": 57,
    "start_time": "2021-08-17T14:31:30.529Z"
   },
   {
    "duration": 24,
    "start_time": "2021-08-17T14:31:30.589Z"
   },
   {
    "duration": 77,
    "start_time": "2021-08-17T14:31:30.616Z"
   },
   {
    "duration": 7,
    "start_time": "2021-08-17T14:31:30.696Z"
   },
   {
    "duration": 84,
    "start_time": "2021-08-17T14:31:30.706Z"
   },
   {
    "duration": 1410,
    "start_time": "2021-08-17T14:31:30.793Z"
   },
   {
    "duration": 18,
    "start_time": "2021-08-17T14:31:32.206Z"
   },
   {
    "duration": 43,
    "start_time": "2021-08-17T14:31:32.227Z"
   },
   {
    "duration": 45,
    "start_time": "2021-08-17T14:31:32.272Z"
   },
   {
    "duration": 40,
    "start_time": "2021-08-17T14:31:32.319Z"
   },
   {
    "duration": 19,
    "start_time": "2021-08-17T14:31:32.362Z"
   },
   {
    "duration": 265,
    "start_time": "2021-08-17T14:31:32.384Z"
   },
   {
    "duration": 27,
    "start_time": "2021-08-17T14:31:32.656Z"
   },
   {
    "duration": 634,
    "start_time": "2021-08-17T14:31:32.686Z"
   },
   {
    "duration": 9,
    "start_time": "2021-08-17T14:31:33.325Z"
   },
   {
    "duration": 23,
    "start_time": "2021-08-17T14:31:33.353Z"
   },
   {
    "duration": 1354,
    "start_time": "2021-08-17T14:31:33.379Z"
   },
   {
    "duration": 859,
    "start_time": "2021-08-17T14:31:34.736Z"
   },
   {
    "duration": 28,
    "start_time": "2021-08-17T14:31:35.597Z"
   },
   {
    "duration": 1659,
    "start_time": "2021-08-17T14:31:35.628Z"
   },
   {
    "duration": 19,
    "start_time": "2021-08-17T14:31:37.289Z"
   },
   {
    "duration": 44,
    "start_time": "2021-08-17T14:31:37.310Z"
   },
   {
    "duration": 32,
    "start_time": "2021-08-17T14:31:37.357Z"
   },
   {
    "duration": 71,
    "start_time": "2021-08-17T14:31:37.392Z"
   },
   {
    "duration": 36,
    "start_time": "2021-08-17T14:31:37.465Z"
   },
   {
    "duration": 3,
    "start_time": "2021-08-17T14:31:37.504Z"
   },
   {
    "duration": 536,
    "start_time": "2021-08-17T14:31:37.510Z"
   },
   {
    "duration": 12,
    "start_time": "2021-08-17T14:31:38.054Z"
   },
   {
    "duration": 579,
    "start_time": "2021-08-17T14:31:38.068Z"
   },
   {
    "duration": 11,
    "start_time": "2021-08-17T14:31:38.654Z"
   },
   {
    "duration": 1571,
    "start_time": "2021-08-18T14:34:32.230Z"
   },
   {
    "duration": 58,
    "start_time": "2021-08-18T14:34:33.803Z"
   },
   {
    "duration": 4,
    "start_time": "2021-08-18T14:34:33.863Z"
   },
   {
    "duration": 26,
    "start_time": "2021-08-18T14:34:33.869Z"
   },
   {
    "duration": 37,
    "start_time": "2021-08-18T14:34:33.897Z"
   },
   {
    "duration": 12,
    "start_time": "2021-08-18T14:34:33.936Z"
   },
   {
    "duration": 42,
    "start_time": "2021-08-18T14:34:33.950Z"
   },
   {
    "duration": 22,
    "start_time": "2021-08-18T14:34:33.996Z"
   },
   {
    "duration": 19,
    "start_time": "2021-08-18T14:34:34.021Z"
   },
   {
    "duration": 13,
    "start_time": "2021-08-18T14:34:34.042Z"
   },
   {
    "duration": 65,
    "start_time": "2021-08-18T14:34:34.057Z"
   },
   {
    "duration": 5,
    "start_time": "2021-08-18T14:34:34.123Z"
   },
   {
    "duration": 41,
    "start_time": "2021-08-18T14:34:34.130Z"
   },
   {
    "duration": 733,
    "start_time": "2021-08-18T14:34:34.192Z"
   },
   {
    "duration": 14,
    "start_time": "2021-08-18T14:34:34.927Z"
   },
   {
    "duration": 16,
    "start_time": "2021-08-18T14:34:34.943Z"
   },
   {
    "duration": 49,
    "start_time": "2021-08-18T14:34:34.961Z"
   },
   {
    "duration": 8,
    "start_time": "2021-08-18T14:34:35.012Z"
   },
   {
    "duration": 18,
    "start_time": "2021-08-18T14:34:35.022Z"
   },
   {
    "duration": 178,
    "start_time": "2021-08-18T14:34:35.042Z"
   },
   {
    "duration": 19,
    "start_time": "2021-08-18T14:34:35.222Z"
   },
   {
    "duration": 421,
    "start_time": "2021-08-18T14:34:35.243Z"
   },
   {
    "duration": 7,
    "start_time": "2021-08-18T14:34:35.668Z"
   },
   {
    "duration": 17,
    "start_time": "2021-08-18T14:34:35.692Z"
   },
   {
    "duration": 701,
    "start_time": "2021-08-18T14:34:35.711Z"
   },
   {
    "duration": 947,
    "start_time": "2021-08-18T14:34:36.415Z"
   },
   {
    "duration": 35,
    "start_time": "2021-08-18T14:34:37.364Z"
   },
   {
    "duration": 1017,
    "start_time": "2021-08-18T14:34:37.401Z"
   },
   {
    "duration": 12,
    "start_time": "2021-08-18T14:34:38.420Z"
   },
   {
    "duration": 22,
    "start_time": "2021-08-18T14:34:38.434Z"
   },
   {
    "duration": 177,
    "start_time": "2021-08-18T14:34:38.458Z"
   },
   {
    "duration": 22,
    "start_time": "2021-08-18T14:34:38.637Z"
   },
   {
    "duration": 51,
    "start_time": "2021-08-18T14:34:38.660Z"
   },
   {
    "duration": 3,
    "start_time": "2021-08-18T14:34:38.712Z"
   },
   {
    "duration": 319,
    "start_time": "2021-08-18T14:34:38.716Z"
   },
   {
    "duration": 9,
    "start_time": "2021-08-18T14:34:39.037Z"
   },
   {
    "duration": 319,
    "start_time": "2021-08-18T14:34:39.048Z"
   },
   {
    "duration": 9,
    "start_time": "2021-08-18T14:34:39.369Z"
   },
   {
    "duration": 2376,
    "start_time": "2021-08-18T21:43:05.339Z"
   },
   {
    "duration": 66,
    "start_time": "2021-08-18T21:43:07.718Z"
   },
   {
    "duration": 6,
    "start_time": "2021-08-18T21:43:07.788Z"
   },
   {
    "duration": 17,
    "start_time": "2021-08-18T21:43:07.797Z"
   },
   {
    "duration": 64,
    "start_time": "2021-08-18T21:43:07.816Z"
   },
   {
    "duration": 20,
    "start_time": "2021-08-18T21:43:07.882Z"
   },
   {
    "duration": 27,
    "start_time": "2021-08-18T21:43:07.905Z"
   },
   {
    "duration": 60,
    "start_time": "2021-08-18T21:43:07.936Z"
   },
   {
    "duration": 64,
    "start_time": "2021-08-18T21:43:07.999Z"
   },
   {
    "duration": 19,
    "start_time": "2021-08-18T21:43:08.068Z"
   },
   {
    "duration": 72,
    "start_time": "2021-08-18T21:43:08.090Z"
   },
   {
    "duration": 9,
    "start_time": "2021-08-18T21:43:08.165Z"
   },
   {
    "duration": 60,
    "start_time": "2021-08-18T21:43:08.179Z"
   },
   {
    "duration": 1351,
    "start_time": "2021-08-18T21:43:08.262Z"
   },
   {
    "duration": 16,
    "start_time": "2021-08-18T21:43:09.616Z"
   },
   {
    "duration": 56,
    "start_time": "2021-08-18T21:43:09.634Z"
   },
   {
    "duration": 45,
    "start_time": "2021-08-18T21:43:09.692Z"
   },
   {
    "duration": 30,
    "start_time": "2021-08-18T21:43:09.740Z"
   },
   {
    "duration": 22,
    "start_time": "2021-08-18T21:43:09.773Z"
   },
   {
    "duration": 264,
    "start_time": "2021-08-18T21:43:09.797Z"
   },
   {
    "duration": 27,
    "start_time": "2021-08-18T21:43:10.065Z"
   },
   {
    "duration": 728,
    "start_time": "2021-08-18T21:43:10.095Z"
   },
   {
    "duration": 10,
    "start_time": "2021-08-18T21:43:10.828Z"
   },
   {
    "duration": 44,
    "start_time": "2021-08-18T21:43:10.841Z"
   },
   {
    "duration": 1203,
    "start_time": "2021-08-18T21:43:10.887Z"
   },
   {
    "duration": 802,
    "start_time": "2021-08-18T21:43:12.093Z"
   },
   {
    "duration": 36,
    "start_time": "2021-08-18T21:43:12.899Z"
   },
   {
    "duration": 1563,
    "start_time": "2021-08-18T21:43:12.962Z"
   },
   {
    "duration": 38,
    "start_time": "2021-08-18T21:43:14.528Z"
   },
   {
    "duration": 27,
    "start_time": "2021-08-18T21:43:14.569Z"
   },
   {
    "duration": 77,
    "start_time": "2021-08-18T21:43:14.598Z"
   },
   {
    "duration": 38,
    "start_time": "2021-08-18T21:43:14.678Z"
   },
   {
    "duration": 64,
    "start_time": "2021-08-18T21:43:14.719Z"
   },
   {
    "duration": 5,
    "start_time": "2021-08-18T21:43:14.786Z"
   },
   {
    "duration": 476,
    "start_time": "2021-08-18T21:43:14.794Z"
   },
   {
    "duration": 12,
    "start_time": "2021-08-18T21:43:15.273Z"
   },
   {
    "duration": 528,
    "start_time": "2021-08-18T21:43:15.288Z"
   },
   {
    "duration": 10,
    "start_time": "2021-08-18T21:43:15.819Z"
   },
   {
    "duration": 2098,
    "start_time": "2021-08-21T18:50:33.993Z"
   },
   {
    "duration": 76,
    "start_time": "2021-08-21T18:50:36.094Z"
   },
   {
    "duration": 5,
    "start_time": "2021-08-21T18:50:36.173Z"
   },
   {
    "duration": 16,
    "start_time": "2021-08-21T18:50:36.182Z"
   },
   {
    "duration": 35,
    "start_time": "2021-08-21T18:50:36.201Z"
   },
   {
    "duration": 39,
    "start_time": "2021-08-21T18:50:36.238Z"
   },
   {
    "duration": 29,
    "start_time": "2021-08-21T18:50:36.280Z"
   },
   {
    "duration": 65,
    "start_time": "2021-08-21T18:50:36.314Z"
   },
   {
    "duration": 24,
    "start_time": "2021-08-21T18:50:36.382Z"
   },
   {
    "duration": 15,
    "start_time": "2021-08-21T18:50:36.409Z"
   },
   {
    "duration": 77,
    "start_time": "2021-08-21T18:50:36.426Z"
   },
   {
    "duration": 5,
    "start_time": "2021-08-21T18:50:36.505Z"
   },
   {
    "duration": 83,
    "start_time": "2021-08-21T18:50:36.513Z"
   },
   {
    "duration": 1244,
    "start_time": "2021-08-21T18:50:36.598Z"
   },
   {
    "duration": 24,
    "start_time": "2021-08-21T18:50:37.845Z"
   },
   {
    "duration": 21,
    "start_time": "2021-08-21T18:50:37.871Z"
   },
   {
    "duration": 34,
    "start_time": "2021-08-21T18:50:37.894Z"
   },
   {
    "duration": 41,
    "start_time": "2021-08-21T18:50:37.930Z"
   },
   {
    "duration": 22,
    "start_time": "2021-08-21T18:50:37.973Z"
   },
   {
    "duration": 210,
    "start_time": "2021-08-21T18:50:37.997Z"
   },
   {
    "duration": 24,
    "start_time": "2021-08-21T18:50:38.210Z"
   },
   {
    "duration": 407,
    "start_time": "2021-08-21T18:50:38.237Z"
   },
   {
    "duration": 23,
    "start_time": "2021-08-21T18:50:38.649Z"
   },
   {
    "duration": 20,
    "start_time": "2021-08-21T18:50:38.675Z"
   },
   {
    "duration": 771,
    "start_time": "2021-08-21T18:50:38.697Z"
   },
   {
    "duration": 1117,
    "start_time": "2021-08-21T18:50:39.471Z"
   },
   {
    "duration": 28,
    "start_time": "2021-08-21T18:50:40.590Z"
   },
   {
    "duration": 1313,
    "start_time": "2021-08-21T18:50:40.621Z"
   },
   {
    "duration": 34,
    "start_time": "2021-08-21T18:50:41.937Z"
   },
   {
    "duration": 23,
    "start_time": "2021-08-21T18:50:41.974Z"
   },
   {
    "duration": 71,
    "start_time": "2021-08-21T18:50:42.000Z"
   },
   {
    "duration": 28,
    "start_time": "2021-08-21T18:50:42.073Z"
   },
   {
    "duration": 68,
    "start_time": "2021-08-21T18:50:42.103Z"
   },
   {
    "duration": 3,
    "start_time": "2021-08-21T18:50:42.174Z"
   },
   {
    "duration": 381,
    "start_time": "2021-08-21T18:50:42.180Z"
   },
   {
    "duration": 10,
    "start_time": "2021-08-21T18:50:42.564Z"
   },
   {
    "duration": 380,
    "start_time": "2021-08-21T18:50:42.576Z"
   },
   {
    "duration": 9,
    "start_time": "2021-08-21T18:50:42.967Z"
   },
   {
    "duration": 2038,
    "start_time": "2021-08-22T21:22:57.778Z"
   },
   {
    "duration": 65,
    "start_time": "2021-08-22T21:22:59.819Z"
   },
   {
    "duration": 5,
    "start_time": "2021-08-22T21:22:59.887Z"
   },
   {
    "duration": 17,
    "start_time": "2021-08-22T21:22:59.895Z"
   },
   {
    "duration": 25,
    "start_time": "2021-08-22T21:22:59.915Z"
   },
   {
    "duration": 58,
    "start_time": "2021-08-22T21:22:59.942Z"
   },
   {
    "duration": 28,
    "start_time": "2021-08-22T21:23:00.003Z"
   },
   {
    "duration": 57,
    "start_time": "2021-08-22T21:23:00.035Z"
   },
   {
    "duration": 32,
    "start_time": "2021-08-22T21:23:00.095Z"
   },
   {
    "duration": 16,
    "start_time": "2021-08-22T21:23:00.130Z"
   },
   {
    "duration": 43,
    "start_time": "2021-08-22T21:23:00.187Z"
   },
   {
    "duration": 5,
    "start_time": "2021-08-22T21:23:00.233Z"
   },
   {
    "duration": 84,
    "start_time": "2021-08-22T21:23:00.240Z"
   },
   {
    "duration": 1277,
    "start_time": "2021-08-22T21:23:00.327Z"
   },
   {
    "duration": 16,
    "start_time": "2021-08-22T21:23:01.607Z"
   },
   {
    "duration": 29,
    "start_time": "2021-08-22T21:23:01.625Z"
   },
   {
    "duration": 68,
    "start_time": "2021-08-22T21:23:01.658Z"
   },
   {
    "duration": 11,
    "start_time": "2021-08-22T21:23:01.728Z"
   },
   {
    "duration": 57,
    "start_time": "2021-08-22T21:23:01.742Z"
   },
   {
    "duration": 303,
    "start_time": "2021-08-22T21:23:01.802Z"
   },
   {
    "duration": 26,
    "start_time": "2021-08-22T21:23:02.108Z"
   },
   {
    "duration": 722,
    "start_time": "2021-08-22T21:23:02.137Z"
   },
   {
    "duration": 22,
    "start_time": "2021-08-22T21:23:02.865Z"
   },
   {
    "duration": 35,
    "start_time": "2021-08-22T21:23:02.891Z"
   },
   {
    "duration": 1316,
    "start_time": "2021-08-22T21:23:02.928Z"
   },
   {
    "duration": 672,
    "start_time": "2021-08-22T21:23:04.247Z"
   },
   {
    "duration": 26,
    "start_time": "2021-08-22T21:23:04.921Z"
   },
   {
    "duration": 1828,
    "start_time": "2021-08-22T21:23:04.950Z"
   },
   {
    "duration": 17,
    "start_time": "2021-08-22T21:23:06.786Z"
   },
   {
    "duration": 23,
    "start_time": "2021-08-22T21:23:06.805Z"
   },
   {
    "duration": 76,
    "start_time": "2021-08-22T21:23:06.830Z"
   },
   {
    "duration": 32,
    "start_time": "2021-08-22T21:23:06.908Z"
   },
   {
    "duration": 31,
    "start_time": "2021-08-22T21:23:06.986Z"
   },
   {
    "duration": 4,
    "start_time": "2021-08-22T21:23:07.019Z"
   },
   {
    "duration": 488,
    "start_time": "2021-08-22T21:23:07.026Z"
   },
   {
    "duration": 10,
    "start_time": "2021-08-22T21:23:07.517Z"
   },
   {
    "duration": 460,
    "start_time": "2021-08-22T21:23:07.530Z"
   },
   {
    "duration": 12,
    "start_time": "2021-08-22T21:23:07.994Z"
   },
   {
    "duration": 2117,
    "start_time": "2021-08-25T07:56:10.614Z"
   },
   {
    "duration": 88,
    "start_time": "2021-08-25T07:56:12.734Z"
   },
   {
    "duration": 6,
    "start_time": "2021-08-25T07:56:12.827Z"
   },
   {
    "duration": 42,
    "start_time": "2021-08-25T07:56:12.836Z"
   },
   {
    "duration": 42,
    "start_time": "2021-08-25T07:56:12.881Z"
   },
   {
    "duration": 15,
    "start_time": "2021-08-25T07:56:12.925Z"
   },
   {
    "duration": 57,
    "start_time": "2021-08-25T07:56:12.942Z"
   },
   {
    "duration": 27,
    "start_time": "2021-08-25T07:56:13.002Z"
   },
   {
    "duration": 39,
    "start_time": "2021-08-25T07:56:13.033Z"
   },
   {
    "duration": 38,
    "start_time": "2021-08-25T07:56:13.075Z"
   },
   {
    "duration": 82,
    "start_time": "2021-08-25T07:56:13.116Z"
   },
   {
    "duration": 8,
    "start_time": "2021-08-25T07:56:13.201Z"
   },
   {
    "duration": 89,
    "start_time": "2021-08-25T07:56:13.211Z"
   },
   {
    "duration": 1278,
    "start_time": "2021-08-25T07:56:13.302Z"
   },
   {
    "duration": 22,
    "start_time": "2021-08-25T07:56:14.583Z"
   },
   {
    "duration": 55,
    "start_time": "2021-08-25T07:56:14.608Z"
   },
   {
    "duration": 48,
    "start_time": "2021-08-25T07:56:14.665Z"
   },
   {
    "duration": 11,
    "start_time": "2021-08-25T07:56:14.715Z"
   },
   {
    "duration": 26,
    "start_time": "2021-08-25T07:56:14.757Z"
   },
   {
    "duration": 349,
    "start_time": "2021-08-25T07:56:14.785Z"
   },
   {
    "duration": 35,
    "start_time": "2021-08-25T07:56:15.137Z"
   },
   {
    "duration": 591,
    "start_time": "2021-08-25T07:56:15.175Z"
   },
   {
    "duration": 11,
    "start_time": "2021-08-25T07:56:15.769Z"
   },
   {
    "duration": 34,
    "start_time": "2021-08-25T07:56:15.783Z"
   },
   {
    "duration": 1065,
    "start_time": "2021-08-25T07:56:15.820Z"
   },
   {
    "duration": 1330,
    "start_time": "2021-08-25T07:56:16.888Z"
   },
   {
    "duration": 51,
    "start_time": "2021-08-25T07:56:18.226Z"
   },
   {
    "duration": 1628,
    "start_time": "2021-08-25T07:56:18.281Z"
   },
   {
    "duration": 18,
    "start_time": "2021-08-25T07:56:19.912Z"
   },
   {
    "duration": 44,
    "start_time": "2021-08-25T07:56:19.932Z"
   },
   {
    "duration": 37,
    "start_time": "2021-08-25T07:56:19.980Z"
   },
   {
    "duration": 63,
    "start_time": "2021-08-25T07:56:20.020Z"
   },
   {
    "duration": 73,
    "start_time": "2021-08-25T07:56:20.086Z"
   },
   {
    "duration": 33,
    "start_time": "2021-08-25T07:56:20.162Z"
   },
   {
    "duration": 515,
    "start_time": "2021-08-25T07:56:20.198Z"
   },
   {
    "duration": 9,
    "start_time": "2021-08-25T07:56:20.715Z"
   },
   {
    "duration": 534,
    "start_time": "2021-08-25T07:56:20.727Z"
   },
   {
    "duration": 11,
    "start_time": "2021-08-25T07:56:21.264Z"
   },
   {
    "duration": 1941,
    "start_time": "2021-08-28T06:00:26.178Z"
   },
   {
    "duration": 67,
    "start_time": "2021-08-28T06:00:28.122Z"
   },
   {
    "duration": 5,
    "start_time": "2021-08-28T06:00:28.192Z"
   },
   {
    "duration": 21,
    "start_time": "2021-08-28T06:00:28.200Z"
   },
   {
    "duration": 31,
    "start_time": "2021-08-28T06:00:28.223Z"
   },
   {
    "duration": 16,
    "start_time": "2021-08-28T06:00:28.283Z"
   },
   {
    "duration": 26,
    "start_time": "2021-08-28T06:00:28.302Z"
   },
   {
    "duration": 55,
    "start_time": "2021-08-28T06:00:28.332Z"
   },
   {
    "duration": 21,
    "start_time": "2021-08-28T06:00:28.390Z"
   },
   {
    "duration": 14,
    "start_time": "2021-08-28T06:00:28.413Z"
   },
   {
    "duration": 80,
    "start_time": "2021-08-28T06:00:28.429Z"
   },
   {
    "duration": 5,
    "start_time": "2021-08-28T06:00:28.511Z"
   },
   {
    "duration": 64,
    "start_time": "2021-08-28T06:00:28.519Z"
   },
   {
    "duration": 1045,
    "start_time": "2021-08-28T06:00:28.586Z"
   },
   {
    "duration": 15,
    "start_time": "2021-08-28T06:00:29.633Z"
   },
   {
    "duration": 40,
    "start_time": "2021-08-28T06:00:29.650Z"
   },
   {
    "duration": 32,
    "start_time": "2021-08-28T06:00:29.692Z"
   },
   {
    "duration": 9,
    "start_time": "2021-08-28T06:00:29.726Z"
   },
   {
    "duration": 52,
    "start_time": "2021-08-28T06:00:29.738Z"
   },
   {
    "duration": 223,
    "start_time": "2021-08-28T06:00:29.792Z"
   },
   {
    "duration": 23,
    "start_time": "2021-08-28T06:00:30.017Z"
   },
   {
    "duration": 592,
    "start_time": "2021-08-28T06:00:30.043Z"
   },
   {
    "duration": 10,
    "start_time": "2021-08-28T06:00:30.641Z"
   },
   {
    "duration": 48,
    "start_time": "2021-08-28T06:00:30.654Z"
   },
   {
    "duration": 1005,
    "start_time": "2021-08-28T06:00:30.705Z"
   },
   {
    "duration": 1678,
    "start_time": "2021-08-28T06:00:31.712Z"
   },
   {
    "duration": 25,
    "start_time": "2021-08-28T06:00:33.392Z"
   },
   {
    "duration": 1441,
    "start_time": "2021-08-28T06:00:33.419Z"
   },
   {
    "duration": 25,
    "start_time": "2021-08-28T06:00:34.863Z"
   },
   {
    "duration": 19,
    "start_time": "2021-08-28T06:00:34.891Z"
   },
   {
    "duration": 153,
    "start_time": "2021-08-28T06:00:34.913Z"
   },
   {
    "duration": 37,
    "start_time": "2021-08-28T06:00:35.068Z"
   },
   {
    "duration": 28,
    "start_time": "2021-08-28T06:00:35.107Z"
   },
   {
    "duration": 4,
    "start_time": "2021-08-28T06:00:35.183Z"
   },
   {
    "duration": 429,
    "start_time": "2021-08-28T06:00:35.189Z"
   },
   {
    "duration": 10,
    "start_time": "2021-08-28T06:00:35.621Z"
   },
   {
    "duration": 558,
    "start_time": "2021-08-28T06:00:35.633Z"
   },
   {
    "duration": 10,
    "start_time": "2021-08-28T06:00:36.193Z"
   },
   {
    "duration": 1875,
    "start_time": "2021-08-28T09:02:52.112Z"
   },
   {
    "duration": 70,
    "start_time": "2021-08-28T09:02:53.989Z"
   },
   {
    "duration": 21,
    "start_time": "2021-08-28T09:02:54.062Z"
   },
   {
    "duration": 15,
    "start_time": "2021-08-28T09:02:54.086Z"
   },
   {
    "duration": 35,
    "start_time": "2021-08-28T09:02:54.103Z"
   },
   {
    "duration": 42,
    "start_time": "2021-08-28T09:02:54.140Z"
   },
   {
    "duration": 25,
    "start_time": "2021-08-28T09:02:54.184Z"
   },
   {
    "duration": 28,
    "start_time": "2021-08-28T09:02:54.213Z"
   },
   {
    "duration": 53,
    "start_time": "2021-08-28T09:02:54.244Z"
   },
   {
    "duration": 14,
    "start_time": "2021-08-28T09:02:54.300Z"
   },
   {
    "duration": 73,
    "start_time": "2021-08-28T09:02:54.316Z"
   },
   {
    "duration": 6,
    "start_time": "2021-08-28T09:02:54.391Z"
   },
   {
    "duration": 55,
    "start_time": "2021-08-28T09:02:54.399Z"
   },
   {
    "duration": 1127,
    "start_time": "2021-08-28T09:02:54.456Z"
   },
   {
    "duration": 15,
    "start_time": "2021-08-28T09:02:55.586Z"
   },
   {
    "duration": 20,
    "start_time": "2021-08-28T09:02:55.604Z"
   },
   {
    "duration": 62,
    "start_time": "2021-08-28T09:02:55.626Z"
   },
   {
    "duration": 10,
    "start_time": "2021-08-28T09:02:55.691Z"
   },
   {
    "duration": 25,
    "start_time": "2021-08-28T09:02:55.703Z"
   },
   {
    "duration": 245,
    "start_time": "2021-08-28T09:02:55.730Z"
   },
   {
    "duration": 24,
    "start_time": "2021-08-28T09:02:55.977Z"
   },
   {
    "duration": 602,
    "start_time": "2021-08-28T09:02:56.003Z"
   },
   {
    "duration": 8,
    "start_time": "2021-08-28T09:02:56.610Z"
   },
   {
    "duration": 22,
    "start_time": "2021-08-28T09:02:56.621Z"
   },
   {
    "duration": 980,
    "start_time": "2021-08-28T09:02:56.645Z"
   },
   {
    "duration": 1262,
    "start_time": "2021-08-28T09:02:57.627Z"
   },
   {
    "duration": 28,
    "start_time": "2021-08-28T09:02:58.891Z"
   },
   {
    "duration": 1395,
    "start_time": "2021-08-28T09:02:58.922Z"
   },
   {
    "duration": 14,
    "start_time": "2021-08-28T09:03:00.319Z"
   },
   {
    "duration": 46,
    "start_time": "2021-08-28T09:03:00.336Z"
   },
   {
    "duration": 134,
    "start_time": "2021-08-28T09:03:00.385Z"
   },
   {
    "duration": 70,
    "start_time": "2021-08-28T09:03:00.522Z"
   },
   {
    "duration": 27,
    "start_time": "2021-08-28T09:03:00.594Z"
   },
   {
    "duration": 3,
    "start_time": "2021-08-28T09:03:00.623Z"
   },
   {
    "duration": 484,
    "start_time": "2021-08-28T09:03:00.628Z"
   },
   {
    "duration": 9,
    "start_time": "2021-08-28T09:03:01.114Z"
   },
   {
    "duration": 468,
    "start_time": "2021-08-28T09:03:01.126Z"
   },
   {
    "duration": 10,
    "start_time": "2021-08-28T09:03:01.597Z"
   },
   {
    "duration": 4,
    "start_time": "2021-08-28T09:28:28.818Z"
   },
   {
    "duration": 915,
    "start_time": "2021-08-28T09:28:29.579Z"
   }
  ],
  "interpreter": {
   "hash": "fd578b525fe7fcca8a3ea11350d18bcbeb29af20bd1df15f6c5fd2c9cf111483"
  },
  "kernelspec": {
   "name": "python3",
   "display_name": "Python 3.9.0 64-bit"
  },
  "language_info": {
   "name": "python",
   "version": "3.9.0",
   "mimetype": "text/x-python",
   "codemirror_mode": {
    "name": "ipython",
    "version": 3
   },
   "pygments_lexer": "ipython3",
   "nbconvert_exporter": "python",
   "file_extension": ".py"
  },
  "toc": {
   "base_numbering": 1,
   "nav_menu": {},
   "number_sections": true,
   "sideBar": true,
   "skip_h1_title": true,
   "title_cell": "Table of Contents",
   "title_sidebar": "Contents",
   "toc_cell": false,
   "toc_position": {
    "height": "calc(100% - 180px)",
    "left": "10px",
    "top": "150px",
    "width": "273.2px"
   },
   "toc_section_display": true,
   "toc_window_display": false
  }
 },
 "nbformat": 4,
 "nbformat_minor": 2
}