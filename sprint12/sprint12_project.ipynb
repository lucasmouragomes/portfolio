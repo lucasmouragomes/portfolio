{
 "cells": [
  {
   "cell_type": "markdown",
   "metadata": {},
   "source": [
    "# Car sales"
   ]
  },
  {
   "cell_type": "markdown",
   "metadata": {},
   "source": [
    "## Introduction"
   ]
  },
  {
   "cell_type": "markdown",
   "metadata": {},
   "source": [
    "The present project seeks to provide a machine learning model to determine market value of cars for Rusty Bargain company. Using features such as the car's brand, mileage, and year, the model will predict the price based on historical data."
   ]
  },
  {
   "cell_type": "markdown",
   "metadata": {},
   "source": [
    "\n",
    "## Data Preprocess"
   ]
  },
  {
   "cell_type": "markdown",
   "metadata": {},
   "source": [
    "### Objective"
   ]
  },
  {
   "cell_type": "markdown",
   "metadata": {},
   "source": [
    "The historical database of car prices has been provided, with information that will be used for model training. The provided data contains the following columns:\n",
    "\n",
    "- DateCrawled: date profile has been downloaded\n",
    "- VehicleType: vehicle body type\n",
    "- RegistrationYear: vehicle registration\n",
    "- Gearbox: gearbox tpe\n",
    "- Power: power in hp\n",
    "- Model: car name\n",
    "- Mileage: in kilometers\n",
    "- RegistrationMonth: registration on the platform\n",
    "- Brand: vehicle brand\n",
    "- NotRepaired: whether the car is repaired\n",
    "- DateCreated: profile creation date\n",
    "- NumberOfPictures: number of vehicle pictures\n",
    "- PostalCode: region of profile owner\n",
    "- LastSeen: date of the last activity by user"
   ]
  },
  {
   "cell_type": "markdown",
   "metadata": {},
   "source": [
    "### Code"
   ]
  },
  {
   "cell_type": "code",
   "execution_count": 130,
   "metadata": {},
   "outputs": [],
   "source": [
    "import pandas as pd\n",
    "import matplotlib.pyplot as plt\n",
    "import numpy as np\n",
    "import sys\n",
    "import warnings\n",
    "from sklearn.preprocessing import OneHotEncoder\n",
    "from sklearn.preprocessing import StandardScaler\n",
    "from sklearn.ensemble import RandomForestRegressor\n",
    "from sklearn.linear_model import LinearRegression\n",
    "from sklearn.model_selection import cross_val_score\n",
    "from IPython.display import display\n",
    "import sklearn.metrics as metrics\n",
    "\n",
    "import seaborn as sns\n",
    "from joblib import dump\n",
    "\n",
    "\n",
    "if not sys.warnoptions:\n",
    "       warnings.simplefilter(\"ignore\")"
   ]
  },
  {
   "cell_type": "code",
   "execution_count": 131,
   "metadata": {},
   "outputs": [
    {
     "name": "stdout",
     "output_type": "stream",
     "text": [
      "Path found is ../datasets/\n"
     ]
    }
   ],
   "source": [
    "path_array = ['', '/', '/datasets/', './datasets/', '../datasets/']\n",
    "CSVPATH = None\n",
    "\n",
    "for i in path_array:\n",
    "    try:\n",
    "        pd.read_csv(i + 'car_data.csv', nrows=1)\n",
    "        CSVPATH = i\n",
    "        break\n",
    "    except:\n",
    "        pass\n",
    "\n",
    "if CSVPATH:\n",
    "    print('Path found is', 'current folder' if CSVPATH == '' else CSVPATH)\n",
    "else:\n",
    "    print('No path found')"
   ]
  },
  {
   "cell_type": "code",
   "execution_count": 132,
   "metadata": {},
   "outputs": [],
   "source": [
    "date_cols = ['DateCrawled', 'DateCreated', 'LastSeen']\n",
    "df = pd.read_csv(CSVPATH + 'car_data.csv', nrows=10)\n",
    "\n",
    "def optimize_types(df):\n",
    "    df_dtypes = df.dtypes\n",
    "    df_types = [i.name for i in df_dtypes.values]\n",
    "    df_types = dict(zip(df.columns, df_types))\n",
    "    return df_types\n",
    "\n",
    "int_columns = df.select_dtypes(include=['int64']).columns\n",
    "\n",
    "for col in int_columns:\n",
    "    df[col] = pd.to_numeric(df[col], downcast = 'integer')\n",
    "    \n",
    "df_types = optimize_types(df)\n"
   ]
  },
  {
   "cell_type": "code",
   "execution_count": 133,
   "metadata": {},
   "outputs": [
    {
     "name": "stdout",
     "output_type": "stream",
     "text": [
      "The dataframe has 354369 rows and 16 columns\n"
     ]
    },
    {
     "data": {
      "text/html": [
       "<div>\n",
       "<style scoped>\n",
       "    .dataframe tbody tr th:only-of-type {\n",
       "        vertical-align: middle;\n",
       "    }\n",
       "\n",
       "    .dataframe tbody tr th {\n",
       "        vertical-align: top;\n",
       "    }\n",
       "\n",
       "    .dataframe thead th {\n",
       "        text-align: right;\n",
       "    }\n",
       "</style>\n",
       "<table border=\"1\" class=\"dataframe\">\n",
       "  <thead>\n",
       "    <tr style=\"text-align: right;\">\n",
       "      <th></th>\n",
       "      <th>DateCrawled</th>\n",
       "      <th>Price</th>\n",
       "      <th>VehicleType</th>\n",
       "      <th>RegistrationYear</th>\n",
       "      <th>Gearbox</th>\n",
       "      <th>Power</th>\n",
       "      <th>Model</th>\n",
       "      <th>Mileage</th>\n",
       "      <th>RegistrationMonth</th>\n",
       "      <th>FuelType</th>\n",
       "      <th>Brand</th>\n",
       "      <th>NotRepaired</th>\n",
       "      <th>DateCreated</th>\n",
       "      <th>NumberOfPictures</th>\n",
       "      <th>PostalCode</th>\n",
       "      <th>LastSeen</th>\n",
       "    </tr>\n",
       "  </thead>\n",
       "  <tbody>\n",
       "    <tr>\n",
       "      <th>0</th>\n",
       "      <td>2016-03-24</td>\n",
       "      <td>480</td>\n",
       "      <td>NaN</td>\n",
       "      <td>1993</td>\n",
       "      <td>manual</td>\n",
       "      <td>0</td>\n",
       "      <td>golf</td>\n",
       "      <td>150000</td>\n",
       "      <td>0</td>\n",
       "      <td>petrol</td>\n",
       "      <td>volkswagen</td>\n",
       "      <td>NaN</td>\n",
       "      <td>2016-03-24</td>\n",
       "      <td>0</td>\n",
       "      <td>70435</td>\n",
       "      <td>2016-04-07</td>\n",
       "    </tr>\n",
       "    <tr>\n",
       "      <th>1</th>\n",
       "      <td>2016-03-24</td>\n",
       "      <td>18300</td>\n",
       "      <td>coupe</td>\n",
       "      <td>2011</td>\n",
       "      <td>manual</td>\n",
       "      <td>190</td>\n",
       "      <td>NaN</td>\n",
       "      <td>125000</td>\n",
       "      <td>5</td>\n",
       "      <td>gasoline</td>\n",
       "      <td>audi</td>\n",
       "      <td>yes</td>\n",
       "      <td>2016-03-24</td>\n",
       "      <td>0</td>\n",
       "      <td>66954</td>\n",
       "      <td>2016-04-07</td>\n",
       "    </tr>\n",
       "    <tr>\n",
       "      <th>2</th>\n",
       "      <td>2016-03-14</td>\n",
       "      <td>9800</td>\n",
       "      <td>suv</td>\n",
       "      <td>2004</td>\n",
       "      <td>auto</td>\n",
       "      <td>163</td>\n",
       "      <td>grand</td>\n",
       "      <td>125000</td>\n",
       "      <td>8</td>\n",
       "      <td>gasoline</td>\n",
       "      <td>jeep</td>\n",
       "      <td>NaN</td>\n",
       "      <td>2016-03-14</td>\n",
       "      <td>0</td>\n",
       "      <td>90480</td>\n",
       "      <td>2016-04-05</td>\n",
       "    </tr>\n",
       "    <tr>\n",
       "      <th>3</th>\n",
       "      <td>2016-03-17</td>\n",
       "      <td>1500</td>\n",
       "      <td>small</td>\n",
       "      <td>2001</td>\n",
       "      <td>manual</td>\n",
       "      <td>75</td>\n",
       "      <td>golf</td>\n",
       "      <td>150000</td>\n",
       "      <td>6</td>\n",
       "      <td>petrol</td>\n",
       "      <td>volkswagen</td>\n",
       "      <td>no</td>\n",
       "      <td>2016-03-17</td>\n",
       "      <td>0</td>\n",
       "      <td>91074</td>\n",
       "      <td>2016-03-17</td>\n",
       "    </tr>\n",
       "    <tr>\n",
       "      <th>4</th>\n",
       "      <td>2016-03-31</td>\n",
       "      <td>3600</td>\n",
       "      <td>small</td>\n",
       "      <td>2008</td>\n",
       "      <td>manual</td>\n",
       "      <td>69</td>\n",
       "      <td>fabia</td>\n",
       "      <td>90000</td>\n",
       "      <td>7</td>\n",
       "      <td>gasoline</td>\n",
       "      <td>skoda</td>\n",
       "      <td>no</td>\n",
       "      <td>2016-03-31</td>\n",
       "      <td>0</td>\n",
       "      <td>60437</td>\n",
       "      <td>2016-04-06</td>\n",
       "    </tr>\n",
       "  </tbody>\n",
       "</table>\n",
       "</div>"
      ],
      "text/plain": [
       "  DateCrawled  Price VehicleType  RegistrationYear Gearbox  Power  Model  \\\n",
       "0  2016-03-24    480         NaN              1993  manual      0   golf   \n",
       "1  2016-03-24  18300       coupe              2011  manual    190    NaN   \n",
       "2  2016-03-14   9800         suv              2004    auto    163  grand   \n",
       "3  2016-03-17   1500       small              2001  manual     75   golf   \n",
       "4  2016-03-31   3600       small              2008  manual     69  fabia   \n",
       "\n",
       "   Mileage  RegistrationMonth  FuelType       Brand NotRepaired DateCreated  \\\n",
       "0   150000                  0    petrol  volkswagen         NaN  2016-03-24   \n",
       "1   125000                  5  gasoline        audi         yes  2016-03-24   \n",
       "2   125000                  8  gasoline        jeep         NaN  2016-03-14   \n",
       "3   150000                  6    petrol  volkswagen          no  2016-03-17   \n",
       "4    90000                  7  gasoline       skoda          no  2016-03-31   \n",
       "\n",
       "   NumberOfPictures  PostalCode   LastSeen  \n",
       "0                 0       70435 2016-04-07  \n",
       "1                 0       66954 2016-04-07  \n",
       "2                 0       90480 2016-04-05  \n",
       "3                 0       91074 2016-03-17  \n",
       "4                 0       60437 2016-04-06  "
      ]
     },
     "execution_count": 133,
     "metadata": {},
     "output_type": "execute_result"
    }
   ],
   "source": [
    "df = pd.read_csv(CSVPATH + 'car_data.csv',\n",
    "                 dtype=df_types)\n",
    "\n",
    "for col in date_cols:\n",
    "    df[col] = pd.to_datetime(df[col], format='%d/%m/%Y %H:%M').dt.normalize()\n",
    "\n",
    "print(f'The dataframe has {df.shape[0]} rows and {df.shape[1]} columns')\n",
    "df.head()"
   ]
  },
  {
   "cell_type": "code",
   "execution_count": 134,
   "metadata": {},
   "outputs": [],
   "source": [
    "df_initial_size = df.shape[0]"
   ]
  },
  {
   "cell_type": "code",
   "execution_count": 135,
   "metadata": {},
   "outputs": [
    {
     "data": {
      "text/plain": [
       "DateCrawled          datetime64[ns]\n",
       "Price                         int16\n",
       "VehicleType                  object\n",
       "RegistrationYear              int16\n",
       "Gearbox                      object\n",
       "Power                         int16\n",
       "Model                        object\n",
       "Mileage                       int32\n",
       "RegistrationMonth              int8\n",
       "FuelType                     object\n",
       "Brand                        object\n",
       "NotRepaired                  object\n",
       "DateCreated          datetime64[ns]\n",
       "NumberOfPictures               int8\n",
       "PostalCode                    int32\n",
       "LastSeen             datetime64[ns]\n",
       "dtype: object"
      ]
     },
     "execution_count": 135,
     "metadata": {},
     "output_type": "execute_result"
    }
   ],
   "source": [
    "df.dtypes"
   ]
  },
  {
   "cell_type": "code",
   "execution_count": 136,
   "metadata": {},
   "outputs": [],
   "source": [
    "df['NotRepaired'] = df['NotRepaired'].transform(lambda x: 0 if x == 'yes' else 1 if x == 'no' else np.nan)\n",
    "df.rename(columns={'NotRepaired': 'Repaired'}, inplace=True)\n"
   ]
  },
  {
   "cell_type": "code",
   "execution_count": 137,
   "metadata": {},
   "outputs": [
    {
     "data": {
      "text/plain": [
       "Repaired       0.200791\n",
       "VehicleType    0.105794\n",
       "FuelType       0.092827\n",
       "Gearbox        0.055967\n",
       "Model          0.055606\n",
       "DateCrawled    0.000000\n",
       "dtype: float64"
      ]
     },
     "execution_count": 137,
     "metadata": {},
     "output_type": "execute_result"
    }
   ],
   "source": [
    "(df.isna().sum()/df.shape[0]).sort_values(ascending=False).head(6)"
   ]
  },
  {
   "cell_type": "code",
   "execution_count": 138,
   "metadata": {},
   "outputs": [
    {
     "data": {
      "text/plain": [
       "Model\n",
       "100        [1985, 1994, 1992, 1990, 1993, 1996, 1984, 201...\n",
       "145        [2000, 1998, 1999, 1997, 1996, 2018, 2016, 199...\n",
       "147        [2007, 2006, 2008, 2002, 2003, 2001, 2005, 200...\n",
       "156        [2000, 2002, 1999, 2001, 2003, 2005, 2004, 201...\n",
       "159        [2006, 2007, 2010, 2005, 2011, 2008, 2009, 201...\n",
       "                                 ...                        \n",
       "yaris      [2002, 2003, 2018, 2001, 2008, 2007, 2000, 200...\n",
       "yeti        [2013, 2012, 2015, 2009, 2011, 2010, 2014, 2017]\n",
       "ypsilon    [2000, 2017, 2002, 1995, 1996, 2007, 2004, 201...\n",
       "z_reihe    [2004, 2007, 1996, 2006, 1998, 2003, 1997, 200...\n",
       "zafira     [2017, 1999, 2011, 2000, 2005, 2001, 2003, 200...\n",
       "Name: RegistrationYear, Length: 250, dtype: object"
      ]
     },
     "execution_count": 138,
     "metadata": {},
     "output_type": "execute_result"
    }
   ],
   "source": [
    "df[['Model', 'RegistrationYear', 'VehicleType', 'FuelType', 'Gearbox']].groupby('Model')['RegistrationYear'].unique()"
   ]
  },
  {
   "cell_type": "code",
   "execution_count": 139,
   "metadata": {},
   "outputs": [],
   "source": [
    "missing_cols = ['VehicleType', 'FuelType', 'Gearbox', 'Model']\n",
    "df[missing_cols] = df[missing_cols].fillna('unknown', axis=1)"
   ]
  },
  {
   "cell_type": "code",
   "execution_count": 140,
   "metadata": {},
   "outputs": [
    {
     "data": {
      "text/plain": [
       "Repaired            0.200791\n",
       "DateCrawled         0.000000\n",
       "Price               0.000000\n",
       "VehicleType         0.000000\n",
       "RegistrationYear    0.000000\n",
       "Gearbox             0.000000\n",
       "dtype: float64"
      ]
     },
     "execution_count": 140,
     "metadata": {},
     "output_type": "execute_result"
    }
   ],
   "source": [
    "(df.isna().sum()/df.shape[0]).sort_values(ascending=False).head(6)"
   ]
  },
  {
   "cell_type": "code",
   "execution_count": 141,
   "metadata": {},
   "outputs": [
    {
     "data": {
      "text/html": [
       "<div>\n",
       "<style scoped>\n",
       "    .dataframe tbody tr th:only-of-type {\n",
       "        vertical-align: middle;\n",
       "    }\n",
       "\n",
       "    .dataframe tbody tr th {\n",
       "        vertical-align: top;\n",
       "    }\n",
       "\n",
       "    .dataframe thead th {\n",
       "        text-align: right;\n",
       "    }\n",
       "</style>\n",
       "<table border=\"1\" class=\"dataframe\">\n",
       "  <thead>\n",
       "    <tr style=\"text-align: right;\">\n",
       "      <th></th>\n",
       "      <th>Price</th>\n",
       "      <th>RegistrationYear</th>\n",
       "      <th>Power</th>\n",
       "      <th>Mileage</th>\n",
       "      <th>RegistrationMonth</th>\n",
       "      <th>Repaired</th>\n",
       "      <th>NumberOfPictures</th>\n",
       "      <th>PostalCode</th>\n",
       "    </tr>\n",
       "  </thead>\n",
       "  <tbody>\n",
       "    <tr>\n",
       "      <th>count</th>\n",
       "      <td>354369.00</td>\n",
       "      <td>354369.00</td>\n",
       "      <td>354369.00</td>\n",
       "      <td>354369.00</td>\n",
       "      <td>354369.00</td>\n",
       "      <td>283215.00</td>\n",
       "      <td>354369.0</td>\n",
       "      <td>354369.00</td>\n",
       "    </tr>\n",
       "    <tr>\n",
       "      <th>mean</th>\n",
       "      <td>4416.66</td>\n",
       "      <td>2004.23</td>\n",
       "      <td>110.09</td>\n",
       "      <td>128211.17</td>\n",
       "      <td>5.71</td>\n",
       "      <td>0.87</td>\n",
       "      <td>0.0</td>\n",
       "      <td>50508.69</td>\n",
       "    </tr>\n",
       "    <tr>\n",
       "      <th>std</th>\n",
       "      <td>4514.16</td>\n",
       "      <td>90.23</td>\n",
       "      <td>189.85</td>\n",
       "      <td>37905.34</td>\n",
       "      <td>3.73</td>\n",
       "      <td>0.33</td>\n",
       "      <td>0.0</td>\n",
       "      <td>25783.10</td>\n",
       "    </tr>\n",
       "    <tr>\n",
       "      <th>min</th>\n",
       "      <td>0.00</td>\n",
       "      <td>1000.00</td>\n",
       "      <td>0.00</td>\n",
       "      <td>5000.00</td>\n",
       "      <td>0.00</td>\n",
       "      <td>0.00</td>\n",
       "      <td>0.0</td>\n",
       "      <td>1067.00</td>\n",
       "    </tr>\n",
       "    <tr>\n",
       "      <th>25%</th>\n",
       "      <td>1050.00</td>\n",
       "      <td>1999.00</td>\n",
       "      <td>69.00</td>\n",
       "      <td>125000.00</td>\n",
       "      <td>3.00</td>\n",
       "      <td>1.00</td>\n",
       "      <td>0.0</td>\n",
       "      <td>30165.00</td>\n",
       "    </tr>\n",
       "    <tr>\n",
       "      <th>50%</th>\n",
       "      <td>2700.00</td>\n",
       "      <td>2003.00</td>\n",
       "      <td>105.00</td>\n",
       "      <td>150000.00</td>\n",
       "      <td>6.00</td>\n",
       "      <td>1.00</td>\n",
       "      <td>0.0</td>\n",
       "      <td>49413.00</td>\n",
       "    </tr>\n",
       "    <tr>\n",
       "      <th>75%</th>\n",
       "      <td>6400.00</td>\n",
       "      <td>2008.00</td>\n",
       "      <td>143.00</td>\n",
       "      <td>150000.00</td>\n",
       "      <td>9.00</td>\n",
       "      <td>1.00</td>\n",
       "      <td>0.0</td>\n",
       "      <td>71083.00</td>\n",
       "    </tr>\n",
       "    <tr>\n",
       "      <th>max</th>\n",
       "      <td>20000.00</td>\n",
       "      <td>9999.00</td>\n",
       "      <td>20000.00</td>\n",
       "      <td>150000.00</td>\n",
       "      <td>12.00</td>\n",
       "      <td>1.00</td>\n",
       "      <td>0.0</td>\n",
       "      <td>99998.00</td>\n",
       "    </tr>\n",
       "  </tbody>\n",
       "</table>\n",
       "</div>"
      ],
      "text/plain": [
       "           Price  RegistrationYear      Power    Mileage  RegistrationMonth  \\\n",
       "count  354369.00         354369.00  354369.00  354369.00          354369.00   \n",
       "mean     4416.66           2004.23     110.09  128211.17               5.71   \n",
       "std      4514.16             90.23     189.85   37905.34               3.73   \n",
       "min         0.00           1000.00       0.00    5000.00               0.00   \n",
       "25%      1050.00           1999.00      69.00  125000.00               3.00   \n",
       "50%      2700.00           2003.00     105.00  150000.00               6.00   \n",
       "75%      6400.00           2008.00     143.00  150000.00               9.00   \n",
       "max     20000.00           9999.00   20000.00  150000.00              12.00   \n",
       "\n",
       "        Repaired  NumberOfPictures  PostalCode  \n",
       "count  283215.00          354369.0   354369.00  \n",
       "mean        0.87               0.0    50508.69  \n",
       "std         0.33               0.0    25783.10  \n",
       "min         0.00               0.0     1067.00  \n",
       "25%         1.00               0.0    30165.00  \n",
       "50%         1.00               0.0    49413.00  \n",
       "75%         1.00               0.0    71083.00  \n",
       "max         1.00               0.0    99998.00  "
      ]
     },
     "execution_count": 141,
     "metadata": {},
     "output_type": "execute_result"
    }
   ],
   "source": [
    "df.describe().round(2)"
   ]
  },
  {
   "cell_type": "code",
   "execution_count": 142,
   "metadata": {},
   "outputs": [],
   "source": [
    "df.drop(['NumberOfPictures', 'RegistrationMonth'], axis=1, inplace=True)"
   ]
  },
  {
   "cell_type": "code",
   "execution_count": 143,
   "metadata": {},
   "outputs": [],
   "source": [
    "invalid_zeros = ['Price', 'Power']"
   ]
  },
  {
   "cell_type": "code",
   "execution_count": 144,
   "metadata": {},
   "outputs": [
    {
     "data": {
      "image/png": "[encoded data removed]",
      "text/plain": [
       "<Figure size 1080x360 with 2 Axes>"
      ]
     },
     "metadata": {
      "needs_background": "light"
     },
     "output_type": "display_data"
    }
   ],
   "source": [
    "df[invalid_zeros].hist(bins=200, figsize=(15,5))\n",
    "plt.show()"
   ]
  },
  {
   "cell_type": "markdown",
   "metadata": {},
   "source": [
    "*Graph Analysis*\n",
    "\n",
    "Price and power of cars can not be equal to zero. The histograms for these columns show that there are errors in the data. The minimum price for a car will be considered as 200 USD. As for power, a quick research online shows that the historical lowest power for a car is 13 hp, while the maximum is 1500 hp. Further analysis could be made to find better values if needed, by checking the car model."
   ]
  },
  {
   "cell_type": "code",
   "execution_count": 145,
   "metadata": {},
   "outputs": [],
   "source": [
    "df = df[df['Price'] >= 200].reset_index(drop=True)\n",
    "df = df[df['Power'] <= 1500].reset_index(drop=True)\n",
    "df = df[13 <= df['Power']].reset_index(drop=True)"
   ]
  },
  {
   "cell_type": "code",
   "execution_count": 146,
   "metadata": {},
   "outputs": [
    {
     "data": {
      "image/png": "[encoded data removed]",
      "text/plain": [
       "<Figure size 1080x360 with 2 Axes>"
      ]
     },
     "metadata": {
      "needs_background": "light"
     },
     "output_type": "display_data"
    }
   ],
   "source": [
    "df[invalid_zeros].hist(bins=200, figsize=(15,5))\n",
    "plt.show()"
   ]
  },
  {
   "cell_type": "code",
   "execution_count": 147,
   "metadata": {},
   "outputs": [
    {
     "name": "stdout",
     "output_type": "stream",
     "text": [
      "85.46%\n"
     ]
    }
   ],
   "source": [
    "print(f'{df.shape[0]/df_initial_size:.2%}')"
   ]
  },
  {
   "cell_type": "code",
   "execution_count": 148,
   "metadata": {},
   "outputs": [],
   "source": [
    "for brand in df['Brand'].unique():\n",
    "    df.loc[ df['Brand'] == brand ] = df[ df['Brand'] == brand ].sort_values('Price').fillna(method='bfill')"
   ]
  },
  {
   "cell_type": "code",
   "execution_count": 149,
   "metadata": {},
   "outputs": [
    {
     "data": {
      "text/plain": [
       "6"
      ]
     },
     "execution_count": 149,
     "metadata": {},
     "output_type": "execute_result"
    }
   ],
   "source": [
    "df['Repaired'].isna().sum()"
   ]
  },
  {
   "cell_type": "code",
   "execution_count": 150,
   "metadata": {},
   "outputs": [],
   "source": [
    "df.fillna(1.0, inplace=True)"
   ]
  },
  {
   "cell_type": "code",
   "execution_count": 151,
   "metadata": {},
   "outputs": [],
   "source": [
    "clean_df = df.copy()"
   ]
  },
  {
   "cell_type": "markdown",
   "metadata": {},
   "source": [
    "### Results"
   ]
  },
  {
   "cell_type": "markdown",
   "metadata": {},
   "source": [
    "The preprocessing stage made many issues with the data apparent. More than 20% of the data entries have missing values, most of them for the information of whether the car is repaired or not. All of the missing data is missing completely at random. This could be related to sellers not being sure what is considered \"repaired\", as it is not very specific about the car conditions. Replacing it with a car condition could be more useful.\n",
    "\n",
    "All of the entries had no pictures, and this information was deleted. In addition, registration months cointained observations with 0 values which do not correspond to a month and it is not a relevant information for the model development - the year of registration should be enough. Therefore, the registration month was also removed. As for numerical values, Price and Power columns had artifacts. Prices lesser than 200 dollars were not considered, as it isn't a real price even for a faulty car. Power values lesser than 13 hp or higher than 1500 hp were not considered as well, as these are not valid values for a car. \n",
    "\n",
    "Lastly, the missing data regarding gearbox, vehicle types, fuel type and car models were filled in with 'unknown'. After trying different approcheas to fill in information based on car brand and model, it was still not possible to achieve a good result. The main reason for that is because observations of the same car model can still have many different registered values for vehicle type, fuel type and even using the registration year is not enough to fill gearbox.\n",
    "\n"
   ]
  },
  {
   "cell_type": "markdown",
   "metadata": {},
   "source": [
    "## Exploratory Data Analysis"
   ]
  },
  {
   "cell_type": "markdown",
   "metadata": {},
   "source": [
    "### Objective"
   ]
  },
  {
   "cell_type": "markdown",
   "metadata": {},
   "source": [
    "A short EDA section will be performed to further prepare data and columns for model training. We will further select necessary data for prediction and maybe filter some more observations."
   ]
  },
  {
   "cell_type": "markdown",
   "metadata": {},
   "source": [
    "### Code"
   ]
  },
  {
   "cell_type": "code",
   "execution_count": 152,
   "metadata": {},
   "outputs": [
    {
     "data": {
      "text/html": [
       "<div>\n",
       "<style scoped>\n",
       "    .dataframe tbody tr th:only-of-type {\n",
       "        vertical-align: middle;\n",
       "    }\n",
       "\n",
       "    .dataframe tbody tr th {\n",
       "        vertical-align: top;\n",
       "    }\n",
       "\n",
       "    .dataframe thead th {\n",
       "        text-align: right;\n",
       "    }\n",
       "</style>\n",
       "<table border=\"1\" class=\"dataframe\">\n",
       "  <thead>\n",
       "    <tr style=\"text-align: right;\">\n",
       "      <th></th>\n",
       "      <th>DateCrawled</th>\n",
       "      <th>Price</th>\n",
       "      <th>VehicleType</th>\n",
       "      <th>RegistrationYear</th>\n",
       "      <th>Gearbox</th>\n",
       "      <th>Power</th>\n",
       "      <th>Model</th>\n",
       "      <th>Mileage</th>\n",
       "      <th>FuelType</th>\n",
       "      <th>Brand</th>\n",
       "      <th>Repaired</th>\n",
       "      <th>DateCreated</th>\n",
       "      <th>PostalCode</th>\n",
       "      <th>LastSeen</th>\n",
       "    </tr>\n",
       "  </thead>\n",
       "  <tbody>\n",
       "    <tr>\n",
       "      <th>0</th>\n",
       "      <td>2016-03-24</td>\n",
       "      <td>18300</td>\n",
       "      <td>coupe</td>\n",
       "      <td>2011</td>\n",
       "      <td>manual</td>\n",
       "      <td>190</td>\n",
       "      <td>unknown</td>\n",
       "      <td>125000</td>\n",
       "      <td>gasoline</td>\n",
       "      <td>audi</td>\n",
       "      <td>0.0</td>\n",
       "      <td>2016-03-24</td>\n",
       "      <td>66954</td>\n",
       "      <td>2016-04-07</td>\n",
       "    </tr>\n",
       "    <tr>\n",
       "      <th>1</th>\n",
       "      <td>2016-03-14</td>\n",
       "      <td>9800</td>\n",
       "      <td>suv</td>\n",
       "      <td>2004</td>\n",
       "      <td>auto</td>\n",
       "      <td>163</td>\n",
       "      <td>grand</td>\n",
       "      <td>125000</td>\n",
       "      <td>gasoline</td>\n",
       "      <td>jeep</td>\n",
       "      <td>1.0</td>\n",
       "      <td>2016-03-14</td>\n",
       "      <td>90480</td>\n",
       "      <td>2016-04-05</td>\n",
       "    </tr>\n",
       "    <tr>\n",
       "      <th>2</th>\n",
       "      <td>2016-03-17</td>\n",
       "      <td>1500</td>\n",
       "      <td>small</td>\n",
       "      <td>2001</td>\n",
       "      <td>manual</td>\n",
       "      <td>75</td>\n",
       "      <td>golf</td>\n",
       "      <td>150000</td>\n",
       "      <td>petrol</td>\n",
       "      <td>volkswagen</td>\n",
       "      <td>1.0</td>\n",
       "      <td>2016-03-17</td>\n",
       "      <td>91074</td>\n",
       "      <td>2016-03-17</td>\n",
       "    </tr>\n",
       "    <tr>\n",
       "      <th>3</th>\n",
       "      <td>2016-03-31</td>\n",
       "      <td>3600</td>\n",
       "      <td>small</td>\n",
       "      <td>2008</td>\n",
       "      <td>manual</td>\n",
       "      <td>69</td>\n",
       "      <td>fabia</td>\n",
       "      <td>90000</td>\n",
       "      <td>gasoline</td>\n",
       "      <td>skoda</td>\n",
       "      <td>1.0</td>\n",
       "      <td>2016-03-31</td>\n",
       "      <td>60437</td>\n",
       "      <td>2016-04-06</td>\n",
       "    </tr>\n",
       "    <tr>\n",
       "      <th>4</th>\n",
       "      <td>2016-04-04</td>\n",
       "      <td>650</td>\n",
       "      <td>sedan</td>\n",
       "      <td>1995</td>\n",
       "      <td>manual</td>\n",
       "      <td>102</td>\n",
       "      <td>3er</td>\n",
       "      <td>150000</td>\n",
       "      <td>petrol</td>\n",
       "      <td>bmw</td>\n",
       "      <td>0.0</td>\n",
       "      <td>2016-04-04</td>\n",
       "      <td>33775</td>\n",
       "      <td>2016-04-06</td>\n",
       "    </tr>\n",
       "  </tbody>\n",
       "</table>\n",
       "</div>"
      ],
      "text/plain": [
       "  DateCrawled  Price VehicleType  RegistrationYear Gearbox  Power    Model  \\\n",
       "0  2016-03-24  18300       coupe              2011  manual    190  unknown   \n",
       "1  2016-03-14   9800         suv              2004    auto    163    grand   \n",
       "2  2016-03-17   1500       small              2001  manual     75     golf   \n",
       "3  2016-03-31   3600       small              2008  manual     69    fabia   \n",
       "4  2016-04-04    650       sedan              1995  manual    102      3er   \n",
       "\n",
       "   Mileage  FuelType       Brand  Repaired DateCreated  PostalCode   LastSeen  \n",
       "0   125000  gasoline        audi       0.0  2016-03-24       66954 2016-04-07  \n",
       "1   125000  gasoline        jeep       1.0  2016-03-14       90480 2016-04-05  \n",
       "2   150000    petrol  volkswagen       1.0  2016-03-17       91074 2016-03-17  \n",
       "3    90000  gasoline       skoda       1.0  2016-03-31       60437 2016-04-06  \n",
       "4   150000    petrol         bmw       0.0  2016-04-04       33775 2016-04-06  "
      ]
     },
     "execution_count": 152,
     "metadata": {},
     "output_type": "execute_result"
    }
   ],
   "source": [
    "df.head()"
   ]
  },
  {
   "cell_type": "code",
   "execution_count": 153,
   "metadata": {},
   "outputs": [],
   "source": [
    "df.drop(['DateCrawled', 'LastSeen', 'DateCreated', 'PostalCode', 'FuelType', 'Gearbox'], axis=1, inplace=True)"
   ]
  },
  {
   "cell_type": "code",
   "execution_count": 154,
   "metadata": {},
   "outputs": [],
   "source": [
    "cat_cols = ['VehicleType', 'Model','Brand']"
   ]
  },
  {
   "cell_type": "code",
   "execution_count": 155,
   "metadata": {},
   "outputs": [
    {
     "data": {
      "text/html": [
       "<div>\n",
       "<style scoped>\n",
       "    .dataframe tbody tr th:only-of-type {\n",
       "        vertical-align: middle;\n",
       "    }\n",
       "\n",
       "    .dataframe tbody tr th {\n",
       "        vertical-align: top;\n",
       "    }\n",
       "\n",
       "    .dataframe thead th {\n",
       "        text-align: right;\n",
       "    }\n",
       "</style>\n",
       "<table border=\"1\" class=\"dataframe\">\n",
       "  <thead>\n",
       "    <tr style=\"text-align: right;\">\n",
       "      <th></th>\n",
       "      <th>Price</th>\n",
       "      <th>VehicleType</th>\n",
       "      <th>RegistrationYear</th>\n",
       "      <th>Power</th>\n",
       "      <th>Model</th>\n",
       "      <th>Mileage</th>\n",
       "      <th>Brand</th>\n",
       "      <th>Repaired</th>\n",
       "    </tr>\n",
       "  </thead>\n",
       "  <tbody>\n",
       "    <tr>\n",
       "      <th>0</th>\n",
       "      <td>18300</td>\n",
       "      <td>coupe</td>\n",
       "      <td>2011</td>\n",
       "      <td>190</td>\n",
       "      <td>unknown</td>\n",
       "      <td>125000</td>\n",
       "      <td>audi</td>\n",
       "      <td>0.0</td>\n",
       "    </tr>\n",
       "    <tr>\n",
       "      <th>1</th>\n",
       "      <td>9800</td>\n",
       "      <td>suv</td>\n",
       "      <td>2004</td>\n",
       "      <td>163</td>\n",
       "      <td>grand</td>\n",
       "      <td>125000</td>\n",
       "      <td>jeep</td>\n",
       "      <td>1.0</td>\n",
       "    </tr>\n",
       "    <tr>\n",
       "      <th>2</th>\n",
       "      <td>1500</td>\n",
       "      <td>small</td>\n",
       "      <td>2001</td>\n",
       "      <td>75</td>\n",
       "      <td>golf</td>\n",
       "      <td>150000</td>\n",
       "      <td>volkswagen</td>\n",
       "      <td>1.0</td>\n",
       "    </tr>\n",
       "    <tr>\n",
       "      <th>3</th>\n",
       "      <td>3600</td>\n",
       "      <td>small</td>\n",
       "      <td>2008</td>\n",
       "      <td>69</td>\n",
       "      <td>fabia</td>\n",
       "      <td>90000</td>\n",
       "      <td>skoda</td>\n",
       "      <td>1.0</td>\n",
       "    </tr>\n",
       "    <tr>\n",
       "      <th>4</th>\n",
       "      <td>650</td>\n",
       "      <td>sedan</td>\n",
       "      <td>1995</td>\n",
       "      <td>102</td>\n",
       "      <td>3er</td>\n",
       "      <td>150000</td>\n",
       "      <td>bmw</td>\n",
       "      <td>0.0</td>\n",
       "    </tr>\n",
       "  </tbody>\n",
       "</table>\n",
       "</div>"
      ],
      "text/plain": [
       "   Price VehicleType  RegistrationYear  Power    Model  Mileage       Brand  \\\n",
       "0  18300       coupe              2011    190  unknown   125000        audi   \n",
       "1   9800         suv              2004    163    grand   125000        jeep   \n",
       "2   1500       small              2001     75     golf   150000  volkswagen   \n",
       "3   3600       small              2008     69    fabia    90000       skoda   \n",
       "4    650       sedan              1995    102      3er   150000         bmw   \n",
       "\n",
       "   Repaired  \n",
       "0       0.0  \n",
       "1       1.0  \n",
       "2       1.0  \n",
       "3       1.0  \n",
       "4       0.0  "
      ]
     },
     "execution_count": 155,
     "metadata": {},
     "output_type": "execute_result"
    }
   ],
   "source": [
    "df.head()"
   ]
  },
  {
   "cell_type": "code",
   "execution_count": 156,
   "metadata": {},
   "outputs": [],
   "source": [
    "df['UntrustedData'] = ( df['Power'] < 78 ).astype('int') * 10"
   ]
  },
  {
   "cell_type": "code",
   "execution_count": 157,
   "metadata": {},
   "outputs": [
    {
     "name": "stdout",
     "output_type": "stream",
     "text": [
      "Splitting dataframes in proportion: 3, 1, 1\n",
      "Train dataframe size: 181698\n",
      "Validation dataframe size: 60565\n",
      "Test dataframe size: 60567\n"
     ]
    }
   ],
   "source": [
    "def split_df(df, train=3, valid=1, test=1):\n",
    "    split_size = int(df.shape[0]/(train+valid+test))\n",
    "    train_df = df[0 : train*split_size].reset_index(drop=True)\n",
    "    valid_df = df[train*split_size+1 : (train+valid)*split_size].reset_index(drop=True)\n",
    "    test_df = df[(train+valid)*split_size+1 : df.shape[0]].reset_index(drop=True)\n",
    "    return train_df, valid_df, test_df\n",
    "\n",
    "train_df, valid_df, test_df = split_df(df)\n",
    "\n",
    "print('Splitting dataframes in proportion: 3, 1, 1')\n",
    "print('Train dataframe size:', train_df.shape[0])\n",
    "print('Validation dataframe size:', valid_df.shape[0])\n",
    "print('Test dataframe size:', test_df.shape[0])"
   ]
  },
  {
   "cell_type": "code",
   "execution_count": 158,
   "metadata": {},
   "outputs": [],
   "source": [
    "def train_ohe_scaler(train_df, ohe_encoder=None, std_scaler=None):\n",
    "    \"\"\"\n",
    "    Apply OHE and Scale on a df of strings and numbers. Object columns are automatically found and OHE is applied to them. \n",
    "    After that, numbers are scaled. The encoder and the scaler can be manually passed, otherwise they are created.\n",
    "\n",
    "    Output is feature-prepared DataFrame, OneHotEncoder object and StandardScaler object.\n",
    "    obs: DataFrame has no object columns and the encoded objects are on the rightmost columns.\n",
    "    \"\"\"\n",
    "    ret = 0\n",
    "    df = train_df\n",
    "    # create encoders if None were passed\n",
    "    if ohe_encoder == None:\n",
    "        ohe_encoder = OneHotEncoder(handle_unknown='error', drop='first')\n",
    "        ret+=1\n",
    "    if std_scaler == None:\n",
    "        std_scaler = StandardScaler()\n",
    "        ret+=2\n",
    "\n",
    "    # Find object and boolean variables\n",
    "    object_cols = []\n",
    "    bool_cols = []\n",
    "    for col, dtype in zip(df.columns, df.dtypes):\n",
    "        if dtype == 'object':\n",
    "            object_cols.append(col)\n",
    "        if dtype in ['bool']:\n",
    "            bool_cols.append(col)\n",
    "\n",
    "    # Train ohe_encoder on object columns\n",
    "    ohe_encoder.fit(df[object_cols])\n",
    "\n",
    "    # backup_boolean_cols\n",
    "    df_bool = df[bool_cols]\n",
    "    df = df.drop(bool_cols, axis=1)\n",
    "\n",
    "    # Leave df with numerical columns only by dropping objects and adding ohe\n",
    "    df = df.drop(object_cols, axis=1)\n",
    "\n",
    "    # Train scaler\n",
    "    std_scaler.fit(df)\n",
    "    \n",
    "    return ohe_encoder, std_scaler\n",
    "\n",
    "def encode_scale(df, ohe_encoder, std_scaler):\n",
    "    \n",
    "    # Find object and boolean variables\n",
    "    object_cols = []\n",
    "    bool_cols = []\n",
    "    for col, dtype in zip(df.columns, df.dtypes):\n",
    "        if dtype == 'object':\n",
    "            object_cols.append(col)\n",
    "        if dtype in ['bool']:\n",
    "            bool_cols.append(col)\n",
    "            \n",
    "    # Transform and create encoded df\n",
    "    ohe_encoded = pd.DataFrame(\n",
    "                data=ohe_encoder.transform(df[object_cols]).toarray(), \n",
    "                columns=ohe_encoder.get_feature_names(object_cols)\n",
    "    ).astype('bool')\n",
    "            \n",
    "    # backup_boolean_cols as integer\n",
    "    df_bool = df[bool_cols].astype('int')\n",
    "    df = df.drop(bool_cols, axis=1)\n",
    "\n",
    "    # Leave df with numerical columns only by dropping objects and adding ohe\n",
    "    df = df.drop(object_cols, axis=1)\n",
    "    \n",
    "    # Transform and create scaled df\n",
    "    scaler = pd.DataFrame(\n",
    "        std_scaler.transform(df), \n",
    "        columns=df.columns\n",
    "        )\n",
    "    \n",
    "    \n",
    "    df = df_bool.join(scaler).join(ohe_encoded)\n",
    "\n",
    "    return df\n",
    "\n",
    "encoder, scaler = train_ohe_scaler(df)"
   ]
  },
  {
   "cell_type": "code",
   "execution_count": 159,
   "metadata": {},
   "outputs": [
    {
     "data": {
      "text/html": [
       "<div>\n",
       "<style scoped>\n",
       "    .dataframe tbody tr th:only-of-type {\n",
       "        vertical-align: middle;\n",
       "    }\n",
       "\n",
       "    .dataframe tbody tr th {\n",
       "        vertical-align: top;\n",
       "    }\n",
       "\n",
       "    .dataframe thead th {\n",
       "        text-align: right;\n",
       "    }\n",
       "</style>\n",
       "<table border=\"1\" class=\"dataframe\">\n",
       "  <thead>\n",
       "    <tr style=\"text-align: right;\">\n",
       "      <th></th>\n",
       "      <th>Price</th>\n",
       "      <th>RegistrationYear</th>\n",
       "      <th>Power</th>\n",
       "      <th>Mileage</th>\n",
       "      <th>Repaired</th>\n",
       "      <th>UntrustedData</th>\n",
       "      <th>VehicleType_convertible</th>\n",
       "      <th>VehicleType_coupe</th>\n",
       "      <th>VehicleType_other</th>\n",
       "      <th>VehicleType_sedan</th>\n",
       "      <th>...</th>\n",
       "      <th>Brand_seat</th>\n",
       "      <th>Brand_skoda</th>\n",
       "      <th>Brand_smart</th>\n",
       "      <th>Brand_sonstige_autos</th>\n",
       "      <th>Brand_subaru</th>\n",
       "      <th>Brand_suzuki</th>\n",
       "      <th>Brand_toyota</th>\n",
       "      <th>Brand_trabant</th>\n",
       "      <th>Brand_volkswagen</th>\n",
       "      <th>Brand_volvo</th>\n",
       "    </tr>\n",
       "  </thead>\n",
       "  <tbody>\n",
       "    <tr>\n",
       "      <th>0</th>\n",
       "      <td>2.916636</td>\n",
       "      <td>0.243547</td>\n",
       "      <td>1.188076</td>\n",
       "      <td>-0.091792</td>\n",
       "      <td>-2.728298</td>\n",
       "      <td>-0.579490</td>\n",
       "      <td>False</td>\n",
       "      <td>True</td>\n",
       "      <td>False</td>\n",
       "      <td>False</td>\n",
       "      <td>...</td>\n",
       "      <td>False</td>\n",
       "      <td>False</td>\n",
       "      <td>False</td>\n",
       "      <td>False</td>\n",
       "      <td>False</td>\n",
       "      <td>False</td>\n",
       "      <td>False</td>\n",
       "      <td>False</td>\n",
       "      <td>False</td>\n",
       "      <td>False</td>\n",
       "    </tr>\n",
       "    <tr>\n",
       "      <th>1</th>\n",
       "      <td>1.068323</td>\n",
       "      <td>0.014540</td>\n",
       "      <td>0.721558</td>\n",
       "      <td>-0.091792</td>\n",
       "      <td>0.366529</td>\n",
       "      <td>-0.579490</td>\n",
       "      <td>False</td>\n",
       "      <td>False</td>\n",
       "      <td>False</td>\n",
       "      <td>False</td>\n",
       "      <td>...</td>\n",
       "      <td>False</td>\n",
       "      <td>False</td>\n",
       "      <td>False</td>\n",
       "      <td>False</td>\n",
       "      <td>False</td>\n",
       "      <td>False</td>\n",
       "      <td>False</td>\n",
       "      <td>False</td>\n",
       "      <td>False</td>\n",
       "      <td>False</td>\n",
       "    </tr>\n",
       "    <tr>\n",
       "      <th>2</th>\n",
       "      <td>-0.736500</td>\n",
       "      <td>-0.083605</td>\n",
       "      <td>-0.798942</td>\n",
       "      <td>0.590195</td>\n",
       "      <td>0.366529</td>\n",
       "      <td>1.725656</td>\n",
       "      <td>False</td>\n",
       "      <td>False</td>\n",
       "      <td>False</td>\n",
       "      <td>False</td>\n",
       "      <td>...</td>\n",
       "      <td>False</td>\n",
       "      <td>False</td>\n",
       "      <td>False</td>\n",
       "      <td>False</td>\n",
       "      <td>False</td>\n",
       "      <td>False</td>\n",
       "      <td>False</td>\n",
       "      <td>False</td>\n",
       "      <td>True</td>\n",
       "      <td>False</td>\n",
       "    </tr>\n",
       "    <tr>\n",
       "      <th>3</th>\n",
       "      <td>-0.279858</td>\n",
       "      <td>0.145401</td>\n",
       "      <td>-0.902612</td>\n",
       "      <td>-1.046573</td>\n",
       "      <td>0.366529</td>\n",
       "      <td>1.725656</td>\n",
       "      <td>False</td>\n",
       "      <td>False</td>\n",
       "      <td>False</td>\n",
       "      <td>False</td>\n",
       "      <td>...</td>\n",
       "      <td>False</td>\n",
       "      <td>True</td>\n",
       "      <td>False</td>\n",
       "      <td>False</td>\n",
       "      <td>False</td>\n",
       "      <td>False</td>\n",
       "      <td>False</td>\n",
       "      <td>False</td>\n",
       "      <td>False</td>\n",
       "      <td>False</td>\n",
       "    </tr>\n",
       "    <tr>\n",
       "      <th>4</th>\n",
       "      <td>-0.921331</td>\n",
       "      <td>-0.279897</td>\n",
       "      <td>-0.332425</td>\n",
       "      <td>0.590195</td>\n",
       "      <td>-2.728298</td>\n",
       "      <td>-0.579490</td>\n",
       "      <td>False</td>\n",
       "      <td>False</td>\n",
       "      <td>False</td>\n",
       "      <td>True</td>\n",
       "      <td>...</td>\n",
       "      <td>False</td>\n",
       "      <td>False</td>\n",
       "      <td>False</td>\n",
       "      <td>False</td>\n",
       "      <td>False</td>\n",
       "      <td>False</td>\n",
       "      <td>False</td>\n",
       "      <td>False</td>\n",
       "      <td>False</td>\n",
       "      <td>False</td>\n",
       "    </tr>\n",
       "  </tbody>\n",
       "</table>\n",
       "<p>5 rows × 302 columns</p>\n",
       "</div>"
      ],
      "text/plain": [
       "      Price  RegistrationYear     Power   Mileage  Repaired  UntrustedData  \\\n",
       "0  2.916636          0.243547  1.188076 -0.091792 -2.728298      -0.579490   \n",
       "1  1.068323          0.014540  0.721558 -0.091792  0.366529      -0.579490   \n",
       "2 -0.736500         -0.083605 -0.798942  0.590195  0.366529       1.725656   \n",
       "3 -0.279858          0.145401 -0.902612 -1.046573  0.366529       1.725656   \n",
       "4 -0.921331         -0.279897 -0.332425  0.590195 -2.728298      -0.579490   \n",
       "\n",
       "   VehicleType_convertible  VehicleType_coupe  VehicleType_other  \\\n",
       "0                    False               True              False   \n",
       "1                    False              False              False   \n",
       "2                    False              False              False   \n",
       "3                    False              False              False   \n",
       "4                    False              False              False   \n",
       "\n",
       "   VehicleType_sedan  ...  Brand_seat  Brand_skoda  Brand_smart  \\\n",
       "0              False  ...       False        False        False   \n",
       "1              False  ...       False        False        False   \n",
       "2              False  ...       False        False        False   \n",
       "3              False  ...       False         True        False   \n",
       "4               True  ...       False        False        False   \n",
       "\n",
       "   Brand_sonstige_autos  Brand_subaru  Brand_suzuki  Brand_toyota  \\\n",
       "0                 False         False         False         False   \n",
       "1                 False         False         False         False   \n",
       "2                 False         False         False         False   \n",
       "3                 False         False         False         False   \n",
       "4                 False         False         False         False   \n",
       "\n",
       "   Brand_trabant  Brand_volkswagen  Brand_volvo  \n",
       "0          False             False        False  \n",
       "1          False             False        False  \n",
       "2          False              True        False  \n",
       "3          False             False        False  \n",
       "4          False             False        False  \n",
       "\n",
       "[5 rows x 302 columns]"
      ]
     },
     "metadata": {},
     "output_type": "display_data"
    },
    {
     "data": {
      "text/html": [
       "<div>\n",
       "<style scoped>\n",
       "    .dataframe tbody tr th:only-of-type {\n",
       "        vertical-align: middle;\n",
       "    }\n",
       "\n",
       "    .dataframe tbody tr th {\n",
       "        vertical-align: top;\n",
       "    }\n",
       "\n",
       "    .dataframe thead th {\n",
       "        text-align: right;\n",
       "    }\n",
       "</style>\n",
       "<table border=\"1\" class=\"dataframe\">\n",
       "  <thead>\n",
       "    <tr style=\"text-align: right;\">\n",
       "      <th></th>\n",
       "      <th>Price</th>\n",
       "      <th>RegistrationYear</th>\n",
       "      <th>Power</th>\n",
       "      <th>Mileage</th>\n",
       "      <th>Repaired</th>\n",
       "      <th>UntrustedData</th>\n",
       "      <th>VehicleType_convertible</th>\n",
       "      <th>VehicleType_coupe</th>\n",
       "      <th>VehicleType_other</th>\n",
       "      <th>VehicleType_sedan</th>\n",
       "      <th>...</th>\n",
       "      <th>Brand_seat</th>\n",
       "      <th>Brand_skoda</th>\n",
       "      <th>Brand_smart</th>\n",
       "      <th>Brand_sonstige_autos</th>\n",
       "      <th>Brand_subaru</th>\n",
       "      <th>Brand_suzuki</th>\n",
       "      <th>Brand_toyota</th>\n",
       "      <th>Brand_trabant</th>\n",
       "      <th>Brand_volkswagen</th>\n",
       "      <th>Brand_volvo</th>\n",
       "    </tr>\n",
       "  </thead>\n",
       "  <tbody>\n",
       "    <tr>\n",
       "      <th>0</th>\n",
       "      <td>-0.649521</td>\n",
       "      <td>0.145401</td>\n",
       "      <td>-0.453374</td>\n",
       "      <td>0.590195</td>\n",
       "      <td>-2.728298</td>\n",
       "      <td>-0.57949</td>\n",
       "      <td>False</td>\n",
       "      <td>False</td>\n",
       "      <td>False</td>\n",
       "      <td>False</td>\n",
       "      <td>...</td>\n",
       "      <td>False</td>\n",
       "      <td>False</td>\n",
       "      <td>False</td>\n",
       "      <td>False</td>\n",
       "      <td>False</td>\n",
       "      <td>False</td>\n",
       "      <td>False</td>\n",
       "      <td>False</td>\n",
       "      <td>False</td>\n",
       "      <td>False</td>\n",
       "    </tr>\n",
       "    <tr>\n",
       "      <th>1</th>\n",
       "      <td>-0.301603</td>\n",
       "      <td>0.145401</td>\n",
       "      <td>-0.211476</td>\n",
       "      <td>0.590195</td>\n",
       "      <td>0.366529</td>\n",
       "      <td>-0.57949</td>\n",
       "      <td>False</td>\n",
       "      <td>False</td>\n",
       "      <td>False</td>\n",
       "      <td>False</td>\n",
       "      <td>...</td>\n",
       "      <td>False</td>\n",
       "      <td>False</td>\n",
       "      <td>False</td>\n",
       "      <td>False</td>\n",
       "      <td>False</td>\n",
       "      <td>False</td>\n",
       "      <td>False</td>\n",
       "      <td>False</td>\n",
       "      <td>True</td>\n",
       "      <td>False</td>\n",
       "    </tr>\n",
       "    <tr>\n",
       "      <th>2</th>\n",
       "      <td>2.525229</td>\n",
       "      <td>0.374408</td>\n",
       "      <td>-0.090527</td>\n",
       "      <td>-2.956134</td>\n",
       "      <td>0.366529</td>\n",
       "      <td>-0.57949</td>\n",
       "      <td>False</td>\n",
       "      <td>False</td>\n",
       "      <td>False</td>\n",
       "      <td>True</td>\n",
       "      <td>...</td>\n",
       "      <td>False</td>\n",
       "      <td>False</td>\n",
       "      <td>False</td>\n",
       "      <td>False</td>\n",
       "      <td>False</td>\n",
       "      <td>False</td>\n",
       "      <td>False</td>\n",
       "      <td>False</td>\n",
       "      <td>False</td>\n",
       "      <td>False</td>\n",
       "    </tr>\n",
       "    <tr>\n",
       "      <th>3</th>\n",
       "      <td>0.676916</td>\n",
       "      <td>0.014540</td>\n",
       "      <td>0.842507</td>\n",
       "      <td>-0.773778</td>\n",
       "      <td>0.366529</td>\n",
       "      <td>-0.57949</td>\n",
       "      <td>False</td>\n",
       "      <td>True</td>\n",
       "      <td>False</td>\n",
       "      <td>False</td>\n",
       "      <td>...</td>\n",
       "      <td>False</td>\n",
       "      <td>False</td>\n",
       "      <td>False</td>\n",
       "      <td>False</td>\n",
       "      <td>False</td>\n",
       "      <td>False</td>\n",
       "      <td>False</td>\n",
       "      <td>False</td>\n",
       "      <td>False</td>\n",
       "      <td>False</td>\n",
       "    </tr>\n",
       "    <tr>\n",
       "      <th>4</th>\n",
       "      <td>-0.236368</td>\n",
       "      <td>-0.018175</td>\n",
       "      <td>0.168649</td>\n",
       "      <td>0.590195</td>\n",
       "      <td>0.366529</td>\n",
       "      <td>-0.57949</td>\n",
       "      <td>False</td>\n",
       "      <td>False</td>\n",
       "      <td>False</td>\n",
       "      <td>True</td>\n",
       "      <td>...</td>\n",
       "      <td>False</td>\n",
       "      <td>False</td>\n",
       "      <td>False</td>\n",
       "      <td>False</td>\n",
       "      <td>False</td>\n",
       "      <td>False</td>\n",
       "      <td>False</td>\n",
       "      <td>False</td>\n",
       "      <td>False</td>\n",
       "      <td>False</td>\n",
       "    </tr>\n",
       "  </tbody>\n",
       "</table>\n",
       "<p>5 rows × 302 columns</p>\n",
       "</div>"
      ],
      "text/plain": [
       "      Price  RegistrationYear     Power   Mileage  Repaired  UntrustedData  \\\n",
       "0 -0.649521          0.145401 -0.453374  0.590195 -2.728298       -0.57949   \n",
       "1 -0.301603          0.145401 -0.211476  0.590195  0.366529       -0.57949   \n",
       "2  2.525229          0.374408 -0.090527 -2.956134  0.366529       -0.57949   \n",
       "3  0.676916          0.014540  0.842507 -0.773778  0.366529       -0.57949   \n",
       "4 -0.236368         -0.018175  0.168649  0.590195  0.366529       -0.57949   \n",
       "\n",
       "   VehicleType_convertible  VehicleType_coupe  VehicleType_other  \\\n",
       "0                    False              False              False   \n",
       "1                    False              False              False   \n",
       "2                    False              False              False   \n",
       "3                    False               True              False   \n",
       "4                    False              False              False   \n",
       "\n",
       "   VehicleType_sedan  ...  Brand_seat  Brand_skoda  Brand_smart  \\\n",
       "0              False  ...       False        False        False   \n",
       "1              False  ...       False        False        False   \n",
       "2               True  ...       False        False        False   \n",
       "3              False  ...       False        False        False   \n",
       "4               True  ...       False        False        False   \n",
       "\n",
       "   Brand_sonstige_autos  Brand_subaru  Brand_suzuki  Brand_toyota  \\\n",
       "0                 False         False         False         False   \n",
       "1                 False         False         False         False   \n",
       "2                 False         False         False         False   \n",
       "3                 False         False         False         False   \n",
       "4                 False         False         False         False   \n",
       "\n",
       "   Brand_trabant  Brand_volkswagen  Brand_volvo  \n",
       "0          False             False        False  \n",
       "1          False              True        False  \n",
       "2          False             False        False  \n",
       "3          False             False        False  \n",
       "4          False             False        False  \n",
       "\n",
       "[5 rows x 302 columns]"
      ]
     },
     "metadata": {},
     "output_type": "display_data"
    },
    {
     "data": {
      "text/html": [
       "<div>\n",
       "<style scoped>\n",
       "    .dataframe tbody tr th:only-of-type {\n",
       "        vertical-align: middle;\n",
       "    }\n",
       "\n",
       "    .dataframe tbody tr th {\n",
       "        vertical-align: top;\n",
       "    }\n",
       "\n",
       "    .dataframe thead th {\n",
       "        text-align: right;\n",
       "    }\n",
       "</style>\n",
       "<table border=\"1\" class=\"dataframe\">\n",
       "  <thead>\n",
       "    <tr style=\"text-align: right;\">\n",
       "      <th></th>\n",
       "      <th>Price</th>\n",
       "      <th>RegistrationYear</th>\n",
       "      <th>Power</th>\n",
       "      <th>Mileage</th>\n",
       "      <th>Repaired</th>\n",
       "      <th>UntrustedData</th>\n",
       "      <th>VehicleType_convertible</th>\n",
       "      <th>VehicleType_coupe</th>\n",
       "      <th>VehicleType_other</th>\n",
       "      <th>VehicleType_sedan</th>\n",
       "      <th>...</th>\n",
       "      <th>Brand_seat</th>\n",
       "      <th>Brand_skoda</th>\n",
       "      <th>Brand_smart</th>\n",
       "      <th>Brand_sonstige_autos</th>\n",
       "      <th>Brand_subaru</th>\n",
       "      <th>Brand_suzuki</th>\n",
       "      <th>Brand_toyota</th>\n",
       "      <th>Brand_trabant</th>\n",
       "      <th>Brand_volkswagen</th>\n",
       "      <th>Brand_volvo</th>\n",
       "    </tr>\n",
       "  </thead>\n",
       "  <tbody>\n",
       "    <tr>\n",
       "      <th>0</th>\n",
       "      <td>0.198529</td>\n",
       "      <td>0.079971</td>\n",
       "      <td>0.375990</td>\n",
       "      <td>0.590195</td>\n",
       "      <td>0.366529</td>\n",
       "      <td>-0.57949</td>\n",
       "      <td>False</td>\n",
       "      <td>False</td>\n",
       "      <td>False</td>\n",
       "      <td>False</td>\n",
       "      <td>...</td>\n",
       "      <td>False</td>\n",
       "      <td>False</td>\n",
       "      <td>False</td>\n",
       "      <td>False</td>\n",
       "      <td>False</td>\n",
       "      <td>False</td>\n",
       "      <td>False</td>\n",
       "      <td>False</td>\n",
       "      <td>False</td>\n",
       "      <td>False</td>\n",
       "    </tr>\n",
       "    <tr>\n",
       "      <th>1</th>\n",
       "      <td>0.349656</td>\n",
       "      <td>0.047256</td>\n",
       "      <td>-0.280589</td>\n",
       "      <td>-0.091792</td>\n",
       "      <td>0.366529</td>\n",
       "      <td>-0.57949</td>\n",
       "      <td>False</td>\n",
       "      <td>False</td>\n",
       "      <td>False</td>\n",
       "      <td>False</td>\n",
       "      <td>...</td>\n",
       "      <td>False</td>\n",
       "      <td>False</td>\n",
       "      <td>False</td>\n",
       "      <td>False</td>\n",
       "      <td>False</td>\n",
       "      <td>False</td>\n",
       "      <td>False</td>\n",
       "      <td>False</td>\n",
       "      <td>True</td>\n",
       "      <td>False</td>\n",
       "    </tr>\n",
       "    <tr>\n",
       "      <th>2</th>\n",
       "      <td>0.970471</td>\n",
       "      <td>-0.050890</td>\n",
       "      <td>1.429973</td>\n",
       "      <td>-1.046573</td>\n",
       "      <td>0.366529</td>\n",
       "      <td>-0.57949</td>\n",
       "      <td>False</td>\n",
       "      <td>False</td>\n",
       "      <td>False</td>\n",
       "      <td>True</td>\n",
       "      <td>...</td>\n",
       "      <td>False</td>\n",
       "      <td>False</td>\n",
       "      <td>False</td>\n",
       "      <td>False</td>\n",
       "      <td>False</td>\n",
       "      <td>False</td>\n",
       "      <td>False</td>\n",
       "      <td>False</td>\n",
       "      <td>False</td>\n",
       "      <td>False</td>\n",
       "    </tr>\n",
       "    <tr>\n",
       "      <th>3</th>\n",
       "      <td>0.020221</td>\n",
       "      <td>0.112686</td>\n",
       "      <td>0.496939</td>\n",
       "      <td>0.590195</td>\n",
       "      <td>0.366529</td>\n",
       "      <td>-0.57949</td>\n",
       "      <td>True</td>\n",
       "      <td>False</td>\n",
       "      <td>False</td>\n",
       "      <td>False</td>\n",
       "      <td>...</td>\n",
       "      <td>False</td>\n",
       "      <td>False</td>\n",
       "      <td>False</td>\n",
       "      <td>False</td>\n",
       "      <td>False</td>\n",
       "      <td>False</td>\n",
       "      <td>False</td>\n",
       "      <td>False</td>\n",
       "      <td>False</td>\n",
       "      <td>False</td>\n",
       "    </tr>\n",
       "    <tr>\n",
       "      <th>4</th>\n",
       "      <td>-0.877842</td>\n",
       "      <td>-0.149036</td>\n",
       "      <td>-0.574323</td>\n",
       "      <td>0.590195</td>\n",
       "      <td>0.366529</td>\n",
       "      <td>-0.57949</td>\n",
       "      <td>True</td>\n",
       "      <td>False</td>\n",
       "      <td>False</td>\n",
       "      <td>False</td>\n",
       "      <td>...</td>\n",
       "      <td>False</td>\n",
       "      <td>False</td>\n",
       "      <td>False</td>\n",
       "      <td>False</td>\n",
       "      <td>False</td>\n",
       "      <td>False</td>\n",
       "      <td>False</td>\n",
       "      <td>False</td>\n",
       "      <td>False</td>\n",
       "      <td>False</td>\n",
       "    </tr>\n",
       "  </tbody>\n",
       "</table>\n",
       "<p>5 rows × 302 columns</p>\n",
       "</div>"
      ],
      "text/plain": [
       "      Price  RegistrationYear     Power   Mileage  Repaired  UntrustedData  \\\n",
       "0  0.198529          0.079971  0.375990  0.590195  0.366529       -0.57949   \n",
       "1  0.349656          0.047256 -0.280589 -0.091792  0.366529       -0.57949   \n",
       "2  0.970471         -0.050890  1.429973 -1.046573  0.366529       -0.57949   \n",
       "3  0.020221          0.112686  0.496939  0.590195  0.366529       -0.57949   \n",
       "4 -0.877842         -0.149036 -0.574323  0.590195  0.366529       -0.57949   \n",
       "\n",
       "   VehicleType_convertible  VehicleType_coupe  VehicleType_other  \\\n",
       "0                    False              False              False   \n",
       "1                    False              False              False   \n",
       "2                    False              False              False   \n",
       "3                     True              False              False   \n",
       "4                     True              False              False   \n",
       "\n",
       "   VehicleType_sedan  ...  Brand_seat  Brand_skoda  Brand_smart  \\\n",
       "0              False  ...       False        False        False   \n",
       "1              False  ...       False        False        False   \n",
       "2               True  ...       False        False        False   \n",
       "3              False  ...       False        False        False   \n",
       "4              False  ...       False        False        False   \n",
       "\n",
       "   Brand_sonstige_autos  Brand_subaru  Brand_suzuki  Brand_toyota  \\\n",
       "0                 False         False         False         False   \n",
       "1                 False         False         False         False   \n",
       "2                 False         False         False         False   \n",
       "3                 False         False         False         False   \n",
       "4                 False         False         False         False   \n",
       "\n",
       "   Brand_trabant  Brand_volkswagen  Brand_volvo  \n",
       "0          False             False        False  \n",
       "1          False              True        False  \n",
       "2          False             False        False  \n",
       "3          False             False        False  \n",
       "4          False             False        False  \n",
       "\n",
       "[5 rows x 302 columns]"
      ]
     },
     "metadata": {},
     "output_type": "display_data"
    }
   ],
   "source": [
    "ohe_encoder, std_scaler = train_ohe_scaler(train_df)\n",
    "\n",
    "train_df = encode_scale(train_df, ohe_encoder, std_scaler)\n",
    "test_df = encode_scale(test_df, ohe_encoder, std_scaler)\n",
    "valid_df = encode_scale(valid_df, ohe_encoder, std_scaler)\n",
    "\n",
    "display(train_df.head())\n",
    "display(test_df.head())\n",
    "display(valid_df.head())"
   ]
  },
  {
   "cell_type": "markdown",
   "metadata": {},
   "source": [
    "### Results"
   ]
  },
  {
   "cell_type": "markdown",
   "metadata": {},
   "source": []
  },
  {
   "cell_type": "markdown",
   "metadata": {},
   "source": [
    "## Model Training"
   ]
  },
  {
   "cell_type": "markdown",
   "metadata": {},
   "source": [
    "### Objective"
   ]
  },
  {
   "cell_type": "markdown",
   "metadata": {},
   "source": [
    "In this section a model for predicting prices will be trained by using the data provided. We will try different types of approaches and tuning the model parameters to find the best one."
   ]
  },
  {
   "cell_type": "markdown",
   "metadata": {},
   "source": [
    "### Code"
   ]
  },
  {
   "cell_type": "code",
   "execution_count": 160,
   "metadata": {},
   "outputs": [],
   "source": [
    "def target_features(df, tar_col, remove=[]):\n",
    "    target = df[tar_col]\n",
    "    remove.append(tar_col)\n",
    "    features = df[[x for x in train_df.columns.values if x not in remove]]\n",
    "    return target, features\n",
    "\n",
    "train_target, train_features = target_features(train_df, 'Price')\n",
    "valid_target, valid_features = target_features(valid_df, 'Price')\n",
    "test_target, test_features = target_features(test_df, 'Price')\n"
   ]
  },
  {
   "cell_type": "code",
   "execution_count": 161,
   "metadata": {},
   "outputs": [],
   "source": [
    "def report(target, features=None, predictions=None, model=None, predictions_proba=None, classifier=True, scorer=None, cv=3):\n",
    "    \"\"\"\n",
    "    Prints a report of the model's performance. If regressor, add classifier=False\n",
    "    \"\"\"\n",
    "    flag = 0\n",
    "    if model != None:\n",
    "        if predictions is not None:\n",
    "            warnings.warn('Both model and predictions were passed. Ignoring model.')\n",
    "        else:\n",
    "            if features is None:\n",
    "                raise ValueError('Features must be passed if model is passed.')\n",
    "            predictions = model.predict(features)\n",
    "            if classifier == True:\n",
    "                predictions_proba = model.predict_proba(features)\n",
    "    if predictions is not None:\n",
    "        if classifier == True:\n",
    "            print(f'Accuracy: {metrics.accuracy_score(target,predictions):.2%}') \n",
    "            print(f'Recall: {metrics.recall_score(target,predictions):.2%}')\n",
    "            print(f'Precision: {metrics.precision_score(target,predictions):.2%}')\n",
    "            print(f'F1 Score: {metrics.f1_score(target,predictions):.2%}')\n",
    "        elif classifier == False:\n",
    "            print(f'Mean Absolute Error: {metrics.mean_absolute_error(target,predictions):.2f}')\n",
    "            print(f'Root Mean Squared Error: {np.sqrt(metrics.mean_squared_error(target,predictions)):.2f}') \n",
    "            print(f'R2 Score: {metrics.r2_score(target,predictions):.2f}')\n",
    "            print(f'Predictions mean value: {np.mean(predictions):.2f} (Target mean is {np.mean(target):.2f})')\n",
    "            print(f'Predictions median value: {np.median(predictions):.2f} (Target median is {np.median(target):.2f})')\n",
    "            if scorer != None:\n",
    "                print(f'Cross validation results (Root Mean Square Error):')\n",
    "                print(np.sqrt(cross_val_score(model, features, target, cv=cv, scoring=scorer) * (-1)))\n",
    "            target = pd.Series(target).reset_index(drop=True).sort_values()\n",
    "            predictions = pd.Series(predictions)\n",
    "            predictions = predictions.iloc[target.index].reset_index(drop=True)\n",
    "            target = target.reset_index(drop=True)\n",
    "            plt.plot(predictions, label='Predicted')\n",
    "            plt.plot(target, label='Actual', color='orange')\n",
    "            plt.legend(['Predicted', 'Actual'])\n",
    "            plt.xlabel('Sample Number')\n",
    "            plt.show()\n",
    "    if predictions_proba is not None:\n",
    "        fpr, tpr, thresholds = metrics.roc_curve(target, predictions_proba[:,1])\n",
    "        print(f'AUC-ROC: {metrics.roc_auc_score(target,predictions_proba[:,1]):.2%}')\n",
    "        flag = 1\n",
    "    if flag == 1:\n",
    "        return fpr, tpr, thresholds, predictions\n",
    "    else:\n",
    "        return predictions"
   ]
  },
  {
   "cell_type": "code",
   "execution_count": 162,
   "metadata": {},
   "outputs": [],
   "source": [
    "scorer = metrics.make_scorer(metrics.mean_squared_error, greater_is_better=False)"
   ]
  },
  {
   "cell_type": "code",
   "execution_count": 163,
   "metadata": {},
   "outputs": [],
   "source": [
    "linear = LinearRegression()"
   ]
  },
  {
   "cell_type": "code",
   "execution_count": 164,
   "metadata": {},
   "outputs": [
    {
     "name": "stdout",
     "output_type": "stream",
     "text": [
      "CPU times: total: 9.23 s\n",
      "Wall time: 4.78 s\n"
     ]
    },
    {
     "data": {
      "text/plain": [
       "LinearRegression()"
      ]
     },
     "execution_count": 164,
     "metadata": {},
     "output_type": "execute_result"
    }
   ],
   "source": [
    "%%time\n",
    "linear.fit(train_features, train_target)"
   ]
  },
  {
   "cell_type": "code",
   "execution_count": 165,
   "metadata": {},
   "outputs": [
    {
     "name": "stdout",
     "output_type": "stream",
     "text": [
      "Mean Absolute Error: 0.47\n",
      "Root Mean Squared Error: 0.66\n",
      "R2 Score: 0.56\n",
      "Predictions mean value: -0.00 (Target mean is -0.01)\n",
      "Predictions median value: -0.07 (Target median is -0.37)\n",
      "Cross validation results (Root Mean Square Error):\n",
      "[0.6602187  0.66405092 0.67056379]\n"
     ]
    },
    {
     "data": {
      "image/png": "[encoded data removed]",
      "text/plain": [
       "<Figure size 432x288 with 1 Axes>"
      ]
     },
     "metadata": {
      "needs_background": "light"
     },
     "output_type": "display_data"
    },
    {
     "data": {
      "text/plain": [
       "0       -1.384837\n",
       "1       -1.321697\n",
       "2       -0.892699\n",
       "3       -1.621574\n",
       "4       -1.141280\n",
       "           ...   \n",
       "60560    1.832952\n",
       "60561    2.228583\n",
       "60562    2.722167\n",
       "60563    0.628193\n",
       "60564    1.770076\n",
       "Length: 60565, dtype: float64"
      ]
     },
     "execution_count": 165,
     "metadata": {},
     "output_type": "execute_result"
    }
   ],
   "source": [
    "report(valid_target, valid_features, model=linear, classifier=False, scorer=scorer)"
   ]
  },
  {
   "cell_type": "code",
   "execution_count": 166,
   "metadata": {},
   "outputs": [],
   "source": [
    "forest = RandomForestRegressor(n_estimators=10, random_state=42)"
   ]
  },
  {
   "cell_type": "code",
   "execution_count": 167,
   "metadata": {},
   "outputs": [
    {
     "name": "stdout",
     "output_type": "stream",
     "text": [
      "CPU times: total: 28.4 s\n",
      "Wall time: 29.3 s\n"
     ]
    },
    {
     "data": {
      "text/plain": [
       "RandomForestRegressor(n_estimators=10, random_state=42)"
      ]
     },
     "execution_count": 167,
     "metadata": {},
     "output_type": "execute_result"
    }
   ],
   "source": [
    "%%time\n",
    "forest.fit(train_features, train_target)"
   ]
  },
  {
   "cell_type": "code",
   "execution_count": 168,
   "metadata": {},
   "outputs": [
    {
     "name": "stdout",
     "output_type": "stream",
     "text": [
      "Mean Absolute Error: 0.22\n",
      "Root Mean Squared Error: 0.35\n",
      "R2 Score: 0.87\n",
      "Predictions mean value: -0.01 (Target mean is -0.01)\n",
      "Predictions median value: -0.36 (Target median is -0.37)\n",
      "Cross validation results (Root Mean Square Error):\n",
      "[0.38180377 0.38986018 0.39256377]\n"
     ]
    },
    {
     "data": {
      "image/png": "[encoded data removed]",
      "text/plain": [
       "<Figure size 432x288 with 1 Axes>"
      ]
     },
     "metadata": {
      "needs_background": "light"
     },
     "output_type": "display_data"
    },
    {
     "data": {
      "text/plain": [
       "0       -0.953907\n",
       "1       -0.941438\n",
       "2       -0.981130\n",
       "3       -0.964451\n",
       "4       -0.895082\n",
       "           ...   \n",
       "60560    3.286299\n",
       "60561    2.405610\n",
       "60562    2.694839\n",
       "60563    2.648305\n",
       "60564    3.053846\n",
       "Length: 60565, dtype: float64"
      ]
     },
     "execution_count": 168,
     "metadata": {},
     "output_type": "execute_result"
    }
   ],
   "source": [
    "report(valid_target, valid_features, model=foresWER3t, classifier=False, scorer=scorer)"
   ]
  },
  {
   "cell_type": "code",
   "execution_count": 169,
   "metadata": {},
   "outputs": [
    {
     "data": {
      "text/plain": [
       "Int64Index([58160, 28305,  4338, 28482, 10346, 28526, 28584, 59866, 10288,\n",
       "            46823,\n",
       "            ...\n",
       "            30334, 18895,  9566, 59659,  4341, 15972, 51195, 57993, 30254,\n",
       "             6094],\n",
       "           dtype='int64', length=1000)"
      ]
     },
     "execution_count": 169,
     "metadata": {},
     "output_type": "execute_result"
    }
   ],
   "source": [
    "valid_target.sort_values().index[:1000]"
   ]
  },
  {
   "cell_type": "code",
   "execution_count": 170,
   "metadata": {},
   "outputs": [],
   "source": [
    "forest_analysis = valid_df.iloc[valid_target.sort_values().index[:1000]]\n",
    "forest_analysis = scaler.inverse_transform(forest_analysis[['Price', 'RegistrationYear', 'Power', 'Mileage', 'Repaired', 'UntrustedData']])\n",
    "forest_analysis = pd.DataFrame(forest_analysis, columns=['Price', 'RegistrationYear', 'Power', 'Mileage', 'Repaired', 'UntrustedData'])"
   ]
  },
  {
   "cell_type": "code",
   "execution_count": 171,
   "metadata": {},
   "outputs": [
    {
     "data": {
      "image/png": "[encoded data removed]",
      "text/plain": [
       "<Figure size 1440x1440 with 6 Axes>"
      ]
     },
     "metadata": {
      "needs_background": "light"
     },
     "output_type": "display_data"
    }
   ],
   "source": [
    "forest_analysis.hist(bins=30, figsize=(20,20), density=True)\n",
    "plt.show()\n"
   ]
  },
  {
   "cell_type": "markdown",
   "metadata": {},
   "source": [
    "### Results"
   ]
  },
  {
   "cell_type": "markdown",
   "metadata": {},
   "source": [
    "## Conclusion"
   ]
  }
 ],
 "metadata": {
  "ExecuteTimeLog": [
   {
    "duration": 1478,
    "start_time": "2021-11-19T03:49:05.405Z"
   },
   {
    "duration": 1827,
    "start_time": "2021-11-19T03:49:06.885Z"
   },
   {
    "duration": 1385,
    "start_time": "2021-11-19T03:49:07.330Z"
   },
   {
    "duration": 1381,
    "start_time": "2021-11-19T03:49:07.336Z"
   },
   {
    "duration": 1375,
    "start_time": "2021-11-19T03:49:07.343Z"
   },
   {
    "duration": 1369,
    "start_time": "2021-11-19T03:49:07.351Z"
   },
   {
    "duration": 1364,
    "start_time": "2021-11-19T03:49:07.358Z"
   },
   {
    "duration": 1353,
    "start_time": "2021-11-19T03:49:07.370Z"
   },
   {
    "duration": 1351,
    "start_time": "2021-11-19T03:49:07.373Z"
   },
   {
    "duration": 1350,
    "start_time": "2021-11-19T03:49:07.375Z"
   },
   {
    "duration": 1127,
    "start_time": "2021-11-19T03:49:07.600Z"
   },
   {
    "duration": 1121,
    "start_time": "2021-11-19T03:49:07.607Z"
   },
   {
    "duration": 1115,
    "start_time": "2021-11-19T03:49:07.615Z"
   },
   {
    "duration": 1110,
    "start_time": "2021-11-19T03:49:07.621Z"
   },
   {
    "duration": 1104,
    "start_time": "2021-11-19T03:49:07.628Z"
   },
   {
    "duration": 1099,
    "start_time": "2021-11-19T03:49:07.635Z"
   },
   {
    "duration": 1093,
    "start_time": "2021-11-19T03:49:07.642Z"
   },
   {
    "duration": 1088,
    "start_time": "2021-11-19T03:49:07.649Z"
   },
   {
    "duration": 1082,
    "start_time": "2021-11-19T03:49:07.656Z"
   },
   {
    "duration": 1074,
    "start_time": "2021-11-19T03:49:07.665Z"
   },
   {
    "duration": 1069,
    "start_time": "2021-11-19T03:49:07.672Z"
   },
   {
    "duration": 1067,
    "start_time": "2021-11-19T03:49:07.675Z"
   },
   {
    "duration": 875,
    "start_time": "2021-11-19T03:49:07.869Z"
   },
   {
    "duration": 866,
    "start_time": "2021-11-19T03:49:07.879Z"
   },
   {
    "duration": 860,
    "start_time": "2021-11-19T03:49:07.886Z"
   },
   {
    "duration": 855,
    "start_time": "2021-11-19T03:49:07.893Z"
   },
   {
    "duration": 848,
    "start_time": "2021-11-19T03:49:07.901Z"
   },
   {
    "duration": 843,
    "start_time": "2021-11-19T03:49:07.908Z"
   },
   {
    "duration": 842,
    "start_time": "2021-11-19T03:49:07.910Z"
   },
   {
    "duration": 840,
    "start_time": "2021-11-19T03:49:07.913Z"
   },
   {
    "duration": 843,
    "start_time": "2021-11-19T03:49:07.920Z"
   },
   {
    "duration": 1671,
    "start_time": "2021-11-19T03:49:41.385Z"
   },
   {
    "duration": 345,
    "start_time": "2021-11-19T03:50:08.339Z"
   },
   {
    "duration": 1764,
    "start_time": "2021-11-19T03:50:18.480Z"
   },
   {
    "duration": 4,
    "start_time": "2021-11-19T03:51:01.593Z"
   },
   {
    "duration": 326,
    "start_time": "2021-11-19T03:51:03.552Z"
   },
   {
    "duration": 225,
    "start_time": "2021-11-19T03:51:22.438Z"
   },
   {
    "duration": 29,
    "start_time": "2021-11-19T03:51:24.925Z"
   },
   {
    "duration": 58,
    "start_time": "2021-11-19T03:51:32.112Z"
   },
   {
    "duration": 11,
    "start_time": "2021-11-19T03:51:36.404Z"
   },
   {
    "duration": 5,
    "start_time": "2021-11-19T03:51:37.214Z"
   },
   {
    "duration": 5,
    "start_time": "2021-11-19T03:51:37.866Z"
   },
   {
    "duration": 60,
    "start_time": "2021-11-19T03:51:40.955Z"
   },
   {
    "duration": 7,
    "start_time": "2021-11-19T03:51:41.301Z"
   },
   {
    "duration": 4,
    "start_time": "2021-11-19T03:51:41.994Z"
   },
   {
    "duration": 14,
    "start_time": "2021-11-19T03:51:45.938Z"
   },
   {
    "duration": 40,
    "start_time": "2021-11-19T03:51:46.358Z"
   },
   {
    "duration": 24,
    "start_time": "2021-11-19T03:51:48.557Z"
   },
   {
    "duration": 13,
    "start_time": "2021-11-19T03:51:49.177Z"
   },
   {
    "duration": 2584,
    "start_time": "2021-11-19T03:51:49.703Z"
   },
   {
    "duration": 5,
    "start_time": "2021-11-19T03:51:56.488Z"
   },
   {
    "duration": 9,
    "start_time": "2021-11-19T03:51:59.514Z"
   },
   {
    "duration": 9,
    "start_time": "2021-11-19T03:52:04.588Z"
   },
   {
    "duration": 308,
    "start_time": "2021-11-19T03:52:08.407Z"
   },
   {
    "duration": 287,
    "start_time": "2021-11-19T03:52:23.175Z"
   },
   {
    "duration": 57,
    "start_time": "2021-11-19T03:52:31.601Z"
   },
   {
    "duration": 3,
    "start_time": "2021-11-19T03:52:37.023Z"
   },
   {
    "duration": 7,
    "start_time": "2021-11-19T03:52:37.700Z"
   },
   {
    "duration": 19,
    "start_time": "2021-11-19T03:52:39.130Z"
   },
   {
    "duration": 60,
    "start_time": "2021-11-19T03:52:40.613Z"
   },
   {
    "duration": 2792,
    "start_time": "2021-11-19T03:52:41.257Z"
   },
   {
    "duration": 4811,
    "start_time": "2021-11-19T03:52:47.288Z"
   },
   {
    "duration": 206,
    "start_time": "2021-11-19T03:52:55.641Z"
   },
   {
    "duration": 13,
    "start_time": "2021-11-19T03:53:02.281Z"
   },
   {
    "duration": 14,
    "start_time": "2021-11-19T03:53:03.383Z"
   },
   {
    "duration": 19,
    "start_time": "2021-11-19T03:53:03.399Z"
   },
   {
    "duration": 12,
    "start_time": "2021-11-19T03:53:05.129Z"
   },
   {
    "duration": 23,
    "start_time": "2021-11-19T03:53:07.430Z"
   },
   {
    "duration": 2,
    "start_time": "2021-11-19T03:53:08.849Z"
   },
   {
    "duration": 1147,
    "start_time": "2021-11-19T03:54:07.948Z"
   },
   {
    "duration": 182,
    "start_time": "2021-11-19T03:54:09.097Z"
   },
   {
    "duration": 19,
    "start_time": "2021-11-19T03:54:09.282Z"
   },
   {
    "duration": 48,
    "start_time": "2021-11-19T03:54:09.303Z"
   },
   {
    "duration": 22,
    "start_time": "2021-11-19T03:54:09.353Z"
   },
   {
    "duration": 6,
    "start_time": "2021-11-19T03:54:09.377Z"
   },
   {
    "duration": 6,
    "start_time": "2021-11-19T03:54:09.385Z"
   },
   {
    "duration": 87,
    "start_time": "2021-11-19T03:54:09.393Z"
   },
   {
    "duration": 7,
    "start_time": "2021-11-19T03:54:09.483Z"
   },
   {
    "duration": 6,
    "start_time": "2021-11-19T03:54:09.492Z"
   },
   {
    "duration": 16,
    "start_time": "2021-11-19T03:54:09.499Z"
   },
   {
    "duration": 58,
    "start_time": "2021-11-19T03:54:09.517Z"
   },
   {
    "duration": 23,
    "start_time": "2021-11-19T03:54:09.577Z"
   },
   {
    "duration": 12,
    "start_time": "2021-11-19T03:54:09.602Z"
   },
   {
    "duration": 2621,
    "start_time": "2021-11-19T03:54:09.616Z"
   },
   {
    "duration": 5,
    "start_time": "2021-11-19T03:54:12.239Z"
   },
   {
    "duration": 28,
    "start_time": "2021-11-19T03:54:12.245Z"
   },
   {
    "duration": 10,
    "start_time": "2021-11-19T03:54:12.275Z"
   },
   {
    "duration": 68,
    "start_time": "2021-11-19T03:54:12.287Z"
   },
   {
    "duration": 6,
    "start_time": "2021-11-19T03:54:12.357Z"
   },
   {
    "duration": 16,
    "start_time": "2021-11-19T03:54:12.365Z"
   },
   {
    "duration": 37,
    "start_time": "2021-11-19T03:54:12.382Z"
   },
   {
    "duration": 43,
    "start_time": "2021-11-19T03:54:12.421Z"
   },
   {
    "duration": 2275,
    "start_time": "2021-11-19T03:54:12.466Z"
   },
   {
    "duration": 3851,
    "start_time": "2021-11-19T03:54:14.743Z"
   },
   {
    "duration": 220,
    "start_time": "2021-11-19T03:54:18.596Z"
   },
   {
    "duration": 12,
    "start_time": "2021-11-19T03:54:18.819Z"
   },
   {
    "duration": 11,
    "start_time": "2021-11-19T03:54:18.833Z"
   },
   {
    "duration": 14,
    "start_time": "2021-11-19T03:54:18.863Z"
   },
   {
    "duration": 13,
    "start_time": "2021-11-19T03:54:18.879Z"
   },
   {
    "duration": 26,
    "start_time": "2021-11-19T03:54:18.894Z"
   },
   {
    "duration": 2,
    "start_time": "2021-11-19T03:54:18.922Z"
   },
   {
    "duration": 1115,
    "start_time": "2021-11-19T03:54:53.709Z"
   },
   {
    "duration": 179,
    "start_time": "2021-11-19T03:54:54.826Z"
   },
   {
    "duration": 18,
    "start_time": "2021-11-19T03:54:55.007Z"
   },
   {
    "duration": 45,
    "start_time": "2021-11-19T03:54:55.027Z"
   },
   {
    "duration": 12,
    "start_time": "2021-11-19T03:54:55.073Z"
   },
   {
    "duration": 5,
    "start_time": "2021-11-19T03:54:55.087Z"
   },
   {
    "duration": 5,
    "start_time": "2021-11-19T03:54:55.094Z"
   },
   {
    "duration": 79,
    "start_time": "2021-11-19T03:54:55.102Z"
   },
   {
    "duration": 7,
    "start_time": "2021-11-19T03:54:55.184Z"
   },
   {
    "duration": 8,
    "start_time": "2021-11-19T03:54:55.192Z"
   },
   {
    "duration": 15,
    "start_time": "2021-11-19T03:54:55.201Z"
   },
   {
    "duration": 62,
    "start_time": "2021-11-19T03:54:55.217Z"
   },
   {
    "duration": 23,
    "start_time": "2021-11-19T03:54:55.281Z"
   },
   {
    "duration": 11,
    "start_time": "2021-11-19T03:54:55.305Z"
   },
   {
    "duration": 2538,
    "start_time": "2021-11-19T03:54:55.317Z"
   },
   {
    "duration": 7,
    "start_time": "2021-11-19T03:54:57.857Z"
   },
   {
    "duration": 11,
    "start_time": "2021-11-19T03:54:57.865Z"
   },
   {
    "duration": 8,
    "start_time": "2021-11-19T03:54:57.877Z"
   },
   {
    "duration": 77,
    "start_time": "2021-11-19T03:54:57.887Z"
   },
   {
    "duration": 2,
    "start_time": "2021-11-19T03:54:57.966Z"
   },
   {
    "duration": 30,
    "start_time": "2021-11-19T03:54:57.970Z"
   },
   {
    "duration": 58,
    "start_time": "2021-11-19T03:54:58.001Z"
   },
   {
    "duration": 201,
    "start_time": "2021-11-19T03:54:58.062Z"
   },
   {
    "duration": 2899,
    "start_time": "2021-11-19T03:54:58.265Z"
   },
   {
    "duration": 5079,
    "start_time": "2021-11-19T03:55:01.166Z"
   },
   {
    "duration": 216,
    "start_time": "2021-11-19T03:55:06.247Z"
   },
   {
    "duration": 11,
    "start_time": "2021-11-19T03:55:06.464Z"
   },
   {
    "duration": 12,
    "start_time": "2021-11-19T03:55:06.477Z"
   },
   {
    "duration": 11,
    "start_time": "2021-11-19T03:55:06.490Z"
   },
   {
    "duration": 11,
    "start_time": "2021-11-19T03:55:06.503Z"
   },
   {
    "duration": 56,
    "start_time": "2021-11-19T03:55:06.515Z"
   },
   {
    "duration": 2,
    "start_time": "2021-11-19T03:55:06.573Z"
   },
   {
    "duration": 1117,
    "start_time": "2021-11-19T03:55:25.376Z"
   },
   {
    "duration": 175,
    "start_time": "2021-11-19T03:55:26.495Z"
   },
   {
    "duration": 20,
    "start_time": "2021-11-19T03:55:26.673Z"
   },
   {
    "duration": 47,
    "start_time": "2021-11-19T03:55:26.695Z"
   },
   {
    "duration": 27,
    "start_time": "2021-11-19T03:55:26.744Z"
   },
   {
    "duration": 19,
    "start_time": "2021-11-19T03:55:26.772Z"
   },
   {
    "duration": 22,
    "start_time": "2021-11-19T03:55:26.792Z"
   },
   {
    "duration": 61,
    "start_time": "2021-11-19T03:55:26.815Z"
   },
   {
    "duration": 6,
    "start_time": "2021-11-19T03:55:26.879Z"
   },
   {
    "duration": 9,
    "start_time": "2021-11-19T03:55:26.887Z"
   },
   {
    "duration": 26,
    "start_time": "2021-11-19T03:55:26.898Z"
   },
   {
    "duration": 44,
    "start_time": "2021-11-19T03:55:26.925Z"
   },
   {
    "duration": 31,
    "start_time": "2021-11-19T03:55:26.971Z"
   },
   {
    "duration": 11,
    "start_time": "2021-11-19T03:55:27.004Z"
   },
   {
    "duration": 2713,
    "start_time": "2021-11-19T03:55:27.017Z"
   },
   {
    "duration": 4,
    "start_time": "2021-11-19T03:55:29.732Z"
   },
   {
    "duration": 26,
    "start_time": "2021-11-19T03:55:29.738Z"
   },
   {
    "duration": 15,
    "start_time": "2021-11-19T03:55:29.766Z"
   },
   {
    "duration": 81,
    "start_time": "2021-11-19T03:55:29.782Z"
   },
   {
    "duration": 3,
    "start_time": "2021-11-19T03:55:29.865Z"
   },
   {
    "duration": 18,
    "start_time": "2021-11-19T03:55:29.870Z"
   },
   {
    "duration": 45,
    "start_time": "2021-11-19T03:55:29.890Z"
   },
   {
    "duration": 135,
    "start_time": "2021-11-19T03:55:29.937Z"
   },
   {
    "duration": 2303,
    "start_time": "2021-11-19T03:55:30.164Z"
   },
   {
    "duration": 4905,
    "start_time": "2021-11-19T03:55:32.468Z"
   },
   {
    "duration": 233,
    "start_time": "2021-11-19T03:55:37.374Z"
   },
   {
    "duration": 11,
    "start_time": "2021-11-19T03:55:37.610Z"
   },
   {
    "duration": 46,
    "start_time": "2021-11-19T03:55:37.623Z"
   },
   {
    "duration": 51,
    "start_time": "2021-11-19T03:55:37.671Z"
   },
   {
    "duration": 38,
    "start_time": "2021-11-19T03:55:37.724Z"
   },
   {
    "duration": 70,
    "start_time": "2021-11-19T03:55:37.764Z"
   },
   {
    "duration": 17,
    "start_time": "2021-11-19T03:55:37.835Z"
   },
   {
    "duration": 1160,
    "start_time": "2021-11-19T03:56:20.246Z"
   },
   {
    "duration": 175,
    "start_time": "2021-11-19T03:56:21.408Z"
   },
   {
    "duration": 19,
    "start_time": "2021-11-19T03:56:21.585Z"
   },
   {
    "duration": 46,
    "start_time": "2021-11-19T03:56:21.606Z"
   },
   {
    "duration": 18,
    "start_time": "2021-11-19T03:56:21.654Z"
   },
   {
    "duration": 5,
    "start_time": "2021-11-19T03:56:21.673Z"
   },
   {
    "duration": 5,
    "start_time": "2021-11-19T03:56:21.679Z"
   },
   {
    "duration": 80,
    "start_time": "2021-11-19T03:56:21.687Z"
   },
   {
    "duration": 8,
    "start_time": "2021-11-19T03:56:21.770Z"
   },
   {
    "duration": 6,
    "start_time": "2021-11-19T03:56:21.780Z"
   },
   {
    "duration": 23,
    "start_time": "2021-11-19T03:56:21.788Z"
   },
   {
    "duration": 51,
    "start_time": "2021-11-19T03:56:21.813Z"
   },
   {
    "duration": 28,
    "start_time": "2021-11-19T03:56:21.866Z"
   },
   {
    "duration": 13,
    "start_time": "2021-11-19T03:56:21.896Z"
   },
   {
    "duration": 2580,
    "start_time": "2021-11-19T03:56:21.911Z"
   },
   {
    "duration": 5,
    "start_time": "2021-11-19T03:56:24.494Z"
   },
   {
    "duration": 9,
    "start_time": "2021-11-19T03:56:24.501Z"
   },
   {
    "duration": 8,
    "start_time": "2021-11-19T03:56:24.511Z"
   },
   {
    "duration": 83,
    "start_time": "2021-11-19T03:56:24.521Z"
   },
   {
    "duration": 3,
    "start_time": "2021-11-19T03:56:24.606Z"
   },
   {
    "duration": 7,
    "start_time": "2021-11-19T03:56:24.610Z"
   },
   {
    "duration": 19,
    "start_time": "2021-11-19T03:56:24.619Z"
   },
   {
    "duration": 130,
    "start_time": "2021-11-19T03:56:24.641Z"
   },
   {
    "duration": 2675,
    "start_time": "2021-11-19T03:56:24.863Z"
   },
   {
    "duration": 4852,
    "start_time": "2021-11-19T03:56:27.540Z"
   },
   {
    "duration": 228,
    "start_time": "2021-11-19T03:56:32.393Z"
   },
   {
    "duration": 11,
    "start_time": "2021-11-19T03:56:32.623Z"
   },
   {
    "duration": 22,
    "start_time": "2021-11-19T03:56:32.635Z"
   },
   {
    "duration": 27,
    "start_time": "2021-11-19T03:56:32.662Z"
   },
   {
    "duration": 31,
    "start_time": "2021-11-19T03:56:32.691Z"
   },
   {
    "duration": 33,
    "start_time": "2021-11-19T03:56:32.723Z"
   },
   {
    "duration": 22,
    "start_time": "2021-11-19T03:56:32.758Z"
   },
   {
    "duration": 1197,
    "start_time": "2021-11-19T03:59:57.027Z"
   },
   {
    "duration": 191,
    "start_time": "2021-11-19T03:59:58.226Z"
   },
   {
    "duration": 19,
    "start_time": "2021-11-19T03:59:58.419Z"
   },
   {
    "duration": 48,
    "start_time": "2021-11-19T03:59:58.440Z"
   },
   {
    "duration": 11,
    "start_time": "2021-11-19T03:59:58.490Z"
   },
   {
    "duration": 5,
    "start_time": "2021-11-19T03:59:58.502Z"
   },
   {
    "duration": 5,
    "start_time": "2021-11-19T03:59:58.509Z"
   },
   {
    "duration": 79,
    "start_time": "2021-11-19T03:59:58.515Z"
   },
   {
    "duration": 7,
    "start_time": "2021-11-19T03:59:58.597Z"
   },
   {
    "duration": 4,
    "start_time": "2021-11-19T03:59:58.606Z"
   },
   {
    "duration": 18,
    "start_time": "2021-11-19T03:59:58.612Z"
   },
   {
    "duration": 54,
    "start_time": "2021-11-19T03:59:58.632Z"
   },
   {
    "duration": 25,
    "start_time": "2021-11-19T03:59:58.687Z"
   },
   {
    "duration": 12,
    "start_time": "2021-11-19T03:59:58.713Z"
   },
   {
    "duration": 2661,
    "start_time": "2021-11-19T03:59:58.726Z"
   },
   {
    "duration": 5,
    "start_time": "2021-11-19T04:00:01.389Z"
   },
   {
    "duration": 37,
    "start_time": "2021-11-19T04:00:01.395Z"
   },
   {
    "duration": 26,
    "start_time": "2021-11-19T04:00:01.434Z"
   },
   {
    "duration": 80,
    "start_time": "2021-11-19T04:00:01.462Z"
   },
   {
    "duration": 4,
    "start_time": "2021-11-19T04:00:01.544Z"
   },
   {
    "duration": 33,
    "start_time": "2021-11-19T04:00:01.549Z"
   },
   {
    "duration": 34,
    "start_time": "2021-11-19T04:00:01.584Z"
   },
   {
    "duration": 157,
    "start_time": "2021-11-19T04:00:01.620Z"
   },
   {
    "duration": 2947,
    "start_time": "2021-11-19T04:00:01.779Z"
   },
   {
    "duration": 4804,
    "start_time": "2021-11-19T04:00:04.728Z"
   },
   {
    "duration": 211,
    "start_time": "2021-11-19T04:00:09.534Z"
   },
   {
    "duration": 21,
    "start_time": "2021-11-19T04:00:09.748Z"
   },
   {
    "duration": 22,
    "start_time": "2021-11-19T04:00:09.771Z"
   },
   {
    "duration": 21,
    "start_time": "2021-11-19T04:00:09.795Z"
   },
   {
    "duration": 63,
    "start_time": "2021-11-19T04:00:09.818Z"
   },
   {
    "duration": 36,
    "start_time": "2021-11-19T04:00:09.883Z"
   },
   {
    "duration": 32,
    "start_time": "2021-11-19T04:00:09.920Z"
   },
   {
    "duration": 1542,
    "start_time": "2022-01-10T08:38:21.471Z"
   },
   {
    "duration": 218,
    "start_time": "2022-01-10T08:38:23.016Z"
   },
   {
    "duration": 59,
    "start_time": "2022-01-10T08:38:23.238Z"
   },
   {
    "duration": 156,
    "start_time": "2022-01-10T08:38:23.301Z"
   },
   {
    "duration": 1109,
    "start_time": "2022-01-10T08:38:23.460Z"
   },
   {
    "duration": 8,
    "start_time": "2022-01-10T08:38:24.572Z"
   },
   {
    "duration": 30,
    "start_time": "2022-01-10T08:38:24.582Z"
   },
   {
    "duration": 405,
    "start_time": "2022-01-10T08:38:24.616Z"
   },
   {
    "duration": 17,
    "start_time": "2022-01-10T08:38:25.024Z"
   },
   {
    "duration": 23,
    "start_time": "2022-01-10T08:38:25.043Z"
   },
   {
    "duration": 23,
    "start_time": "2022-01-10T08:38:25.069Z"
   },
   {
    "duration": 23,
    "start_time": "2022-01-10T08:38:25.094Z"
   },
   {
    "duration": 10,
    "start_time": "2022-01-10T08:38:25.119Z"
   },
   {
    "duration": 41,
    "start_time": "2022-01-10T08:38:25.131Z"
   },
   {
    "duration": 24,
    "start_time": "2022-01-10T08:38:25.175Z"
   },
   {
    "duration": 11,
    "start_time": "2022-01-10T08:38:25.201Z"
   },
   {
    "duration": 55,
    "start_time": "2022-01-10T08:38:25.214Z"
   },
   {
    "duration": 5,
    "start_time": "2022-01-10T08:38:25.272Z"
   },
   {
    "duration": 858,
    "start_time": "2022-01-10T08:38:25.279Z"
   },
   {
    "duration": 38,
    "start_time": "2022-01-10T08:38:26.140Z"
   },
   {
    "duration": 7,
    "start_time": "2022-01-10T08:38:26.180Z"
   },
   {
    "duration": 16,
    "start_time": "2022-01-10T08:38:26.190Z"
   },
   {
    "duration": 55,
    "start_time": "2022-01-10T08:38:26.211Z"
   },
   {
    "duration": 9,
    "start_time": "2022-01-10T08:38:26.269Z"
   },
   {
    "duration": 119,
    "start_time": "2022-01-10T08:38:26.281Z"
   },
   {
    "duration": 108,
    "start_time": "2022-01-10T08:38:26.403Z"
   },
   {
    "duration": 105,
    "start_time": "2022-01-10T08:38:26.514Z"
   },
   {
    "duration": 114,
    "start_time": "2022-01-10T08:38:26.621Z"
   },
   {
    "duration": 26175,
    "start_time": "2022-01-10T08:38:26.738Z"
   },
   {
    "duration": 78,
    "start_time": "2022-01-10T08:38:52.916Z"
   },
   {
    "duration": 12,
    "start_time": "2022-01-10T08:38:52.996Z"
   },
   {
    "duration": 53,
    "start_time": "2022-01-10T08:38:53.012Z"
   },
   {
    "duration": 3467,
    "start_time": "2022-01-10T08:38:53.068Z"
   },
   {
    "duration": 25,
    "start_time": "2022-01-10T08:38:56.538Z"
   },
   {
    "duration": 9,
    "start_time": "2022-01-10T08:38:56.565Z"
   },
   {
    "duration": 7,
    "start_time": "2022-01-10T08:38:56.576Z"
   },
   {
    "duration": 6,
    "start_time": "2022-01-10T08:38:56.585Z"
   },
   {
    "duration": 12,
    "start_time": "2022-01-10T08:38:56.594Z"
   },
   {
    "duration": 11,
    "start_time": "2022-01-10T08:38:56.609Z"
   },
   {
    "duration": 47,
    "start_time": "2022-01-10T08:38:56.623Z"
   },
   {
    "duration": 8,
    "start_time": "2022-01-10T08:38:56.673Z"
   },
   {
    "duration": 2660,
    "start_time": "2022-01-10T08:38:56.683Z"
   },
   {
    "duration": 1820,
    "start_time": "2022-01-10T08:38:59.346Z"
   },
   {
    "duration": 31380,
    "start_time": "2022-01-10T08:39:01.169Z"
   },
   {
    "duration": 12,
    "start_time": "2022-01-10T08:39:32.551Z"
   },
   {
    "duration": 5,
    "start_time": "2022-01-10T08:39:32.565Z"
   },
   {
    "duration": 11,
    "start_time": "2022-01-10T08:39:32.572Z"
   },
   {
    "duration": 673,
    "start_time": "2022-01-10T12:50:02.168Z"
   },
   {
    "duration": 1156,
    "start_time": "2022-01-10T22:53:56.610Z"
   },
   {
    "duration": 244,
    "start_time": "2022-01-10T22:53:57.768Z"
   },
   {
    "duration": 103,
    "start_time": "2022-01-10T22:53:58.014Z"
   },
   {
    "duration": 73,
    "start_time": "2022-01-10T22:53:58.119Z"
   },
   {
    "duration": 6594,
    "start_time": "2022-01-10T22:53:58.193Z"
   },
   {
    "duration": 6,
    "start_time": "2022-01-10T22:54:04.789Z"
   },
   {
    "duration": 44,
    "start_time": "2022-01-10T22:54:04.797Z"
   },
   {
    "duration": 218,
    "start_time": "2022-01-10T22:54:04.844Z"
   },
   {
    "duration": 12,
    "start_time": "2022-01-10T22:54:05.065Z"
   },
   {
    "duration": 11,
    "start_time": "2022-01-10T22:54:05.079Z"
   },
   {
    "duration": 49,
    "start_time": "2022-01-10T22:54:05.091Z"
   },
   {
    "duration": 26,
    "start_time": "2022-01-10T22:54:05.142Z"
   },
   {
    "duration": 25,
    "start_time": "2022-01-10T22:54:05.169Z"
   },
   {
    "duration": 24,
    "start_time": "2022-01-10T22:54:05.196Z"
   },
   {
    "duration": 17,
    "start_time": "2022-01-10T22:54:05.221Z"
   },
   {
    "duration": 47,
    "start_time": "2022-01-10T22:54:05.240Z"
   },
   {
    "duration": 30,
    "start_time": "2022-01-10T22:54:05.289Z"
   },
   {
    "duration": 19,
    "start_time": "2022-01-10T22:54:05.321Z"
   },
   {
    "duration": 489,
    "start_time": "2022-01-10T22:54:05.341Z"
   },
   {
    "duration": 22,
    "start_time": "2022-01-10T22:54:05.832Z"
   },
   {
    "duration": 27,
    "start_time": "2022-01-10T22:54:05.855Z"
   },
   {
    "duration": 26,
    "start_time": "2022-01-10T22:54:05.884Z"
   },
   {
    "duration": 20,
    "start_time": "2022-01-10T22:54:05.913Z"
   },
   {
    "duration": 15,
    "start_time": "2022-01-10T22:54:05.935Z"
   },
   {
    "duration": 77,
    "start_time": "2022-01-10T22:54:05.951Z"
   },
   {
    "duration": 64,
    "start_time": "2022-01-10T22:54:06.030Z"
   },
   {
    "duration": 66,
    "start_time": "2022-01-10T22:54:06.096Z"
   },
   {
    "duration": 64,
    "start_time": "2022-01-10T22:54:06.163Z"
   },
   {
    "duration": 14142,
    "start_time": "2022-01-10T22:54:06.229Z"
   },
   {
    "duration": 45,
    "start_time": "2022-01-10T22:54:20.373Z"
   },
   {
    "duration": 22,
    "start_time": "2022-01-10T22:54:20.420Z"
   },
   {
    "duration": 19,
    "start_time": "2022-01-10T22:54:20.444Z"
   },
   {
    "duration": 2100,
    "start_time": "2022-01-10T22:54:20.464Z"
   },
   {
    "duration": 7,
    "start_time": "2022-01-10T22:54:22.566Z"
   },
   {
    "duration": 6,
    "start_time": "2022-01-10T22:54:22.574Z"
   },
   {
    "duration": 5,
    "start_time": "2022-01-10T22:54:22.581Z"
   },
   {
    "duration": 5,
    "start_time": "2022-01-10T22:54:22.588Z"
   },
   {
    "duration": 12,
    "start_time": "2022-01-10T22:54:22.594Z"
   },
   {
    "duration": 9,
    "start_time": "2022-01-10T22:54:22.607Z"
   },
   {
    "duration": 23,
    "start_time": "2022-01-10T22:54:22.618Z"
   },
   {
    "duration": 11,
    "start_time": "2022-01-10T22:54:22.643Z"
   },
   {
    "duration": 2501,
    "start_time": "2022-01-10T22:54:22.655Z"
   },
   {
    "duration": 1212,
    "start_time": "2022-01-10T22:54:25.158Z"
   },
   {
    "duration": 22598,
    "start_time": "2022-01-10T22:54:26.372Z"
   },
   {
    "duration": 2,
    "start_time": "2022-01-10T22:54:48.972Z"
   },
   {
    "duration": 7,
    "start_time": "2022-01-10T22:54:48.975Z"
   },
   {
    "duration": 8,
    "start_time": "2022-01-10T22:54:48.983Z"
   },
   {
    "duration": 8,
    "start_time": "2022-01-11T01:49:29.359Z"
   },
   {
    "duration": 1117,
    "start_time": "2022-01-11T01:49:37.561Z"
   },
   {
    "duration": 178,
    "start_time": "2022-01-11T01:49:38.680Z"
   },
   {
    "duration": 45,
    "start_time": "2022-01-11T01:49:38.860Z"
   },
   {
    "duration": 78,
    "start_time": "2022-01-11T01:49:38.907Z"
   },
   {
    "duration": 785,
    "start_time": "2022-01-11T01:49:38.987Z"
   },
   {
    "duration": 322,
    "start_time": "2022-01-11T01:49:39.774Z"
   },
   {
    "duration": 15,
    "start_time": "2022-01-11T01:49:40.098Z"
   },
   {
    "duration": 28,
    "start_time": "2022-01-11T01:49:40.116Z"
   },
   {
    "duration": 26,
    "start_time": "2022-01-11T01:49:40.147Z"
   },
   {
    "duration": 27,
    "start_time": "2022-01-11T01:49:40.174Z"
   },
   {
    "duration": 7,
    "start_time": "2022-01-11T01:49:40.203Z"
   },
   {
    "duration": 16,
    "start_time": "2022-01-11T01:49:40.212Z"
   },
   {
    "duration": 28,
    "start_time": "2022-01-11T01:49:40.229Z"
   },
   {
    "duration": 17,
    "start_time": "2022-01-11T01:49:40.259Z"
   },
   {
    "duration": 28,
    "start_time": "2022-01-11T01:49:40.277Z"
   },
   {
    "duration": 18,
    "start_time": "2022-01-11T01:49:40.307Z"
   },
   {
    "duration": 499,
    "start_time": "2022-01-11T01:49:40.326Z"
   },
   {
    "duration": 20,
    "start_time": "2022-01-11T01:49:40.826Z"
   },
   {
    "duration": 31,
    "start_time": "2022-01-11T01:49:40.847Z"
   },
   {
    "duration": 8,
    "start_time": "2022-01-11T01:49:40.879Z"
   },
   {
    "duration": 17,
    "start_time": "2022-01-11T01:49:40.889Z"
   },
   {
    "duration": 21,
    "start_time": "2022-01-11T01:49:40.908Z"
   },
   {
    "duration": 17,
    "start_time": "2022-01-11T01:49:40.933Z"
   },
   {
    "duration": 29,
    "start_time": "2022-01-11T01:49:40.952Z"
   },
   {
    "duration": 77,
    "start_time": "2022-01-11T01:49:40.982Z"
   },
   {
    "duration": 65,
    "start_time": "2022-01-11T01:49:41.061Z"
   },
   {
    "duration": 75,
    "start_time": "2022-01-11T01:49:41.128Z"
   },
   {
    "duration": 79,
    "start_time": "2022-01-11T01:49:41.205Z"
   },
   {
    "duration": 14571,
    "start_time": "2022-01-11T01:49:41.286Z"
   },
   {
    "duration": 49,
    "start_time": "2022-01-11T01:49:55.859Z"
   },
   {
    "duration": 7,
    "start_time": "2022-01-11T01:49:55.910Z"
   },
   {
    "duration": 35,
    "start_time": "2022-01-11T01:49:55.919Z"
   },
   {
    "duration": 2293,
    "start_time": "2022-01-11T01:49:55.955Z"
   },
   {
    "duration": 7,
    "start_time": "2022-01-11T01:49:58.250Z"
   },
   {
    "duration": 11,
    "start_time": "2022-01-11T01:49:58.259Z"
   },
   {
    "duration": 28,
    "start_time": "2022-01-11T01:49:58.271Z"
   },
   {
    "duration": 26,
    "start_time": "2022-01-11T01:49:58.300Z"
   },
   {
    "duration": 26,
    "start_time": "2022-01-11T01:49:58.328Z"
   },
   {
    "duration": 30,
    "start_time": "2022-01-11T01:49:58.355Z"
   },
   {
    "duration": 30,
    "start_time": "2022-01-11T01:49:58.387Z"
   },
   {
    "duration": 36,
    "start_time": "2022-01-11T01:49:58.419Z"
   },
   {
    "duration": 2125,
    "start_time": "2022-01-11T01:49:58.457Z"
   },
   {
    "duration": 1301,
    "start_time": "2022-01-11T01:50:00.584Z"
   },
   {
    "duration": 22394,
    "start_time": "2022-01-11T01:50:01.887Z"
   },
   {
    "duration": 2,
    "start_time": "2022-01-11T01:50:24.282Z"
   },
   {
    "duration": 7,
    "start_time": "2022-01-11T01:50:24.285Z"
   },
   {
    "duration": 10,
    "start_time": "2022-01-11T01:50:24.294Z"
   },
   {
    "duration": 1174,
    "start_time": "2022-01-11T12:44:11.736Z"
   },
   {
    "duration": 236,
    "start_time": "2022-01-11T12:44:12.913Z"
   },
   {
    "duration": 106,
    "start_time": "2022-01-11T12:44:13.151Z"
   },
   {
    "duration": 86,
    "start_time": "2022-01-11T12:44:13.259Z"
   },
   {
    "duration": 5973,
    "start_time": "2022-01-11T12:44:13.347Z"
   },
   {
    "duration": 226,
    "start_time": "2022-01-11T12:44:19.322Z"
   },
   {
    "duration": 18,
    "start_time": "2022-01-11T12:44:19.550Z"
   },
   {
    "duration": 4,
    "start_time": "2022-01-11T12:44:19.571Z"
   },
   {
    "duration": 17,
    "start_time": "2022-01-11T12:44:19.578Z"
   },
   {
    "duration": 17,
    "start_time": "2022-01-11T12:44:19.597Z"
   },
   {
    "duration": 7,
    "start_time": "2022-01-11T12:44:19.616Z"
   },
   {
    "duration": 36,
    "start_time": "2022-01-11T12:44:19.625Z"
   },
   {
    "duration": 19,
    "start_time": "2022-01-11T12:44:19.663Z"
   },
   {
    "duration": 15,
    "start_time": "2022-01-11T12:44:19.685Z"
   },
   {
    "duration": 22,
    "start_time": "2022-01-11T12:44:19.702Z"
   },
   {
    "duration": 24,
    "start_time": "2022-01-11T12:44:19.725Z"
   },
   {
    "duration": 643,
    "start_time": "2022-01-11T12:44:19.751Z"
   },
   {
    "duration": 21,
    "start_time": "2022-01-11T12:44:20.396Z"
   },
   {
    "duration": 22,
    "start_time": "2022-01-11T12:44:20.419Z"
   },
   {
    "duration": 26,
    "start_time": "2022-01-11T12:44:20.443Z"
   },
   {
    "duration": 10,
    "start_time": "2022-01-11T12:44:20.471Z"
   },
   {
    "duration": 20,
    "start_time": "2022-01-11T12:44:20.483Z"
   },
   {
    "duration": 14,
    "start_time": "2022-01-11T12:44:20.507Z"
   },
   {
    "duration": 7,
    "start_time": "2022-01-11T12:44:20.524Z"
   },
   {
    "duration": 97,
    "start_time": "2022-01-11T12:44:20.532Z"
   },
   {
    "duration": 79,
    "start_time": "2022-01-11T12:44:20.630Z"
   },
   {
    "duration": 86,
    "start_time": "2022-01-11T12:44:20.712Z"
   },
   {
    "duration": 80,
    "start_time": "2022-01-11T12:44:20.800Z"
   },
   {
    "duration": 22994,
    "start_time": "2022-01-11T12:44:20.881Z"
   },
   {
    "duration": 98,
    "start_time": "2022-01-11T12:44:43.877Z"
   },
   {
    "duration": 12,
    "start_time": "2022-01-11T12:44:43.977Z"
   },
   {
    "duration": 58,
    "start_time": "2022-01-11T12:44:43.992Z"
   },
   {
    "duration": 2397,
    "start_time": "2022-01-11T12:44:44.052Z"
   },
   {
    "duration": 12,
    "start_time": "2022-01-11T12:44:46.451Z"
   },
   {
    "duration": 11,
    "start_time": "2022-01-11T12:44:46.465Z"
   },
   {
    "duration": 7,
    "start_time": "2022-01-11T12:44:46.478Z"
   },
   {
    "duration": 6,
    "start_time": "2022-01-11T12:44:46.487Z"
   },
   {
    "duration": 9,
    "start_time": "2022-01-11T12:44:46.495Z"
   },
   {
    "duration": 21,
    "start_time": "2022-01-11T12:44:46.506Z"
   },
   {
    "duration": 14,
    "start_time": "2022-01-11T12:44:46.529Z"
   },
   {
    "duration": 24,
    "start_time": "2022-01-11T12:44:46.545Z"
   },
   {
    "duration": 2450,
    "start_time": "2022-01-11T12:44:46.571Z"
   },
   {
    "duration": 1411,
    "start_time": "2022-01-11T12:44:49.023Z"
   },
   {
    "duration": 26399,
    "start_time": "2022-01-11T12:44:50.436Z"
   },
   {
    "duration": 2,
    "start_time": "2022-01-11T12:45:16.837Z"
   },
   {
    "duration": 19,
    "start_time": "2022-01-11T12:45:16.841Z"
   },
   {
    "duration": 9,
    "start_time": "2022-01-11T12:45:16.862Z"
   },
   {
    "duration": 1149,
    "start_time": "2022-01-11T21:23:27.273Z"
   },
   {
    "duration": 139,
    "start_time": "2022-01-11T21:23:30.362Z"
   },
   {
    "duration": 123,
    "start_time": "2022-01-11T21:23:30.503Z"
   },
   {
    "duration": 85,
    "start_time": "2022-01-11T21:23:30.629Z"
   },
   {
    "duration": 868,
    "start_time": "2022-01-11T21:23:30.716Z"
   },
   {
    "duration": 215,
    "start_time": "2022-01-11T21:23:31.585Z"
   },
   {
    "duration": 12,
    "start_time": "2022-01-11T21:23:31.802Z"
   },
   {
    "duration": 5,
    "start_time": "2022-01-11T21:23:32.646Z"
   },
   {
    "duration": 16,
    "start_time": "2022-01-11T21:23:55.758Z"
   },
   {
    "duration": 12,
    "start_time": "2022-01-11T21:23:58.527Z"
   },
   {
    "duration": 31,
    "start_time": "2022-01-11T21:24:27.619Z"
   },
   {
    "duration": 20,
    "start_time": "2022-01-11T21:24:32.879Z"
   },
   {
    "duration": 40,
    "start_time": "2022-01-11T21:25:18.553Z"
   },
   {
    "duration": 11,
    "start_time": "2022-01-11T21:25:23.500Z"
   },
   {
    "duration": 272,
    "start_time": "2022-01-11T21:27:49.882Z"
   },
   {
    "duration": 246,
    "start_time": "2022-01-11T21:28:07.903Z"
   },
   {
    "duration": 235,
    "start_time": "2022-01-11T21:28:43.679Z"
   },
   {
    "duration": 27,
    "start_time": "2022-01-11T21:28:58.964Z"
   },
   {
    "duration": 15,
    "start_time": "2022-01-11T21:29:06.424Z"
   },
   {
    "duration": 5,
    "start_time": "2022-01-11T21:30:03.589Z"
   },
   {
    "duration": 6,
    "start_time": "2022-01-11T21:30:19.038Z"
   },
   {
    "duration": 7,
    "start_time": "2022-01-11T21:30:25.121Z"
   },
   {
    "duration": 8,
    "start_time": "2022-01-11T21:31:23.649Z"
   },
   {
    "duration": 6,
    "start_time": "2022-01-11T21:31:26.838Z"
   },
   {
    "duration": 10,
    "start_time": "2022-01-11T21:32:02.574Z"
   },
   {
    "duration": 7,
    "start_time": "2022-01-11T21:32:09.396Z"
   },
   {
    "duration": 9,
    "start_time": "2022-01-11T21:32:20.636Z"
   },
   {
    "duration": 9,
    "start_time": "2022-01-11T21:32:25.564Z"
   },
   {
    "duration": 186,
    "start_time": "2022-01-11T21:33:14.402Z"
   },
   {
    "duration": 10,
    "start_time": "2022-01-11T21:33:35.110Z"
   },
   {
    "duration": 10,
    "start_time": "2022-01-11T21:33:43.901Z"
   },
   {
    "duration": 10,
    "start_time": "2022-01-11T21:33:51.777Z"
   },
   {
    "duration": 10,
    "start_time": "2022-01-11T21:34:19.189Z"
   },
   {
    "duration": 8,
    "start_time": "2022-01-11T21:34:28.415Z"
   },
   {
    "duration": 14,
    "start_time": "2022-01-11T21:35:59.795Z"
   },
   {
    "duration": 9,
    "start_time": "2022-01-11T21:36:02.495Z"
   },
   {
    "duration": 11,
    "start_time": "2022-01-11T21:36:06.497Z"
   },
   {
    "duration": 5,
    "start_time": "2022-01-11T21:36:16.940Z"
   },
   {
    "duration": 463,
    "start_time": "2022-01-11T21:36:17.468Z"
   },
   {
    "duration": 20,
    "start_time": "2022-01-11T21:36:19.267Z"
   },
   {
    "duration": 12,
    "start_time": "2022-01-11T21:36:34.544Z"
   },
   {
    "duration": -1009,
    "start_time": "2022-01-11T21:41:33.810Z"
   },
   {
    "duration": -1016,
    "start_time": "2022-01-11T21:41:33.818Z"
   },
   {
    "duration": -1027,
    "start_time": "2022-01-11T21:41:33.830Z"
   },
   {
    "duration": -1034,
    "start_time": "2022-01-11T21:41:33.837Z"
   },
   {
    "duration": -1038,
    "start_time": "2022-01-11T21:41:33.842Z"
   },
   {
    "duration": -1044,
    "start_time": "2022-01-11T21:41:33.849Z"
   },
   {
    "duration": -1047,
    "start_time": "2022-01-11T21:41:33.853Z"
   },
   {
    "duration": -1051,
    "start_time": "2022-01-11T21:41:33.857Z"
   },
   {
    "duration": -1052,
    "start_time": "2022-01-11T21:41:33.860Z"
   },
   {
    "duration": -1059,
    "start_time": "2022-01-11T21:41:33.868Z"
   },
   {
    "duration": -1063,
    "start_time": "2022-01-11T21:41:33.872Z"
   },
   {
    "duration": -1066,
    "start_time": "2022-01-11T21:41:33.876Z"
   },
   {
    "duration": -1071,
    "start_time": "2022-01-11T21:41:33.882Z"
   },
   {
    "duration": -1074,
    "start_time": "2022-01-11T21:41:33.886Z"
   },
   {
    "duration": -1076,
    "start_time": "2022-01-11T21:41:33.889Z"
   },
   {
    "duration": -1080,
    "start_time": "2022-01-11T21:41:33.894Z"
   },
   {
    "duration": -1086,
    "start_time": "2022-01-11T21:41:33.901Z"
   },
   {
    "duration": -1092,
    "start_time": "2022-01-11T21:41:33.907Z"
   },
   {
    "duration": -1094,
    "start_time": "2022-01-11T21:41:33.910Z"
   },
   {
    "duration": -1098,
    "start_time": "2022-01-11T21:41:33.915Z"
   },
   {
    "duration": -1101,
    "start_time": "2022-01-11T21:41:33.919Z"
   },
   {
    "duration": -1106,
    "start_time": "2022-01-11T21:41:33.925Z"
   },
   {
    "duration": -1140,
    "start_time": "2022-01-11T21:41:33.960Z"
   },
   {
    "duration": -1183,
    "start_time": "2022-01-11T21:41:34.003Z"
   },
   {
    "duration": -1186,
    "start_time": "2022-01-11T21:41:34.007Z"
   },
   {
    "duration": -1189,
    "start_time": "2022-01-11T21:41:34.011Z"
   },
   {
    "duration": -1217,
    "start_time": "2022-01-11T21:41:34.040Z"
   },
   {
    "duration": -1235,
    "start_time": "2022-01-11T21:41:34.059Z"
   },
   {
    "duration": -1281,
    "start_time": "2022-01-11T21:41:34.106Z"
   },
   {
    "duration": -1301,
    "start_time": "2022-01-11T21:41:34.127Z"
   },
   {
    "duration": -1332,
    "start_time": "2022-01-11T21:41:34.160Z"
   },
   {
    "duration": -1349,
    "start_time": "2022-01-11T21:41:34.178Z"
   },
   {
    "duration": -1300,
    "start_time": "2022-01-11T21:41:34.195Z"
   },
   {
    "duration": -1318,
    "start_time": "2022-01-11T21:41:34.214Z"
   },
   {
    "duration": -1330,
    "start_time": "2022-01-11T21:41:34.226Z"
   },
   {
    "duration": -1348,
    "start_time": "2022-01-11T21:41:34.245Z"
   },
   {
    "duration": -1362,
    "start_time": "2022-01-11T21:41:34.260Z"
   },
   {
    "duration": -1376,
    "start_time": "2022-01-11T21:41:34.275Z"
   },
   {
    "duration": -1392,
    "start_time": "2022-01-11T21:41:34.292Z"
   },
   {
    "duration": -1399,
    "start_time": "2022-01-11T21:41:34.300Z"
   },
   {
    "duration": -1404,
    "start_time": "2022-01-11T21:41:34.306Z"
   },
   {
    "duration": -1422,
    "start_time": "2022-01-11T21:41:34.325Z"
   },
   {
    "duration": -1446,
    "start_time": "2022-01-11T21:41:34.350Z"
   },
   {
    "duration": -1457,
    "start_time": "2022-01-11T21:41:34.362Z"
   },
   {
    "duration": -1471,
    "start_time": "2022-01-11T21:41:34.376Z"
   },
   {
    "duration": -1488,
    "start_time": "2022-01-11T21:41:34.394Z"
   },
   {
    "duration": -1517,
    "start_time": "2022-01-11T21:41:34.424Z"
   },
   {
    "duration": -1535,
    "start_time": "2022-01-11T21:41:34.443Z"
   },
   {
    "duration": -1581,
    "start_time": "2022-01-11T21:41:34.490Z"
   },
   {
    "duration": -1617,
    "start_time": "2022-01-11T21:41:34.526Z"
   },
   {
    "duration": 1098,
    "start_time": "2022-01-11T21:41:55.326Z"
   },
   {
    "duration": 143,
    "start_time": "2022-01-11T21:41:56.426Z"
   },
   {
    "duration": 42,
    "start_time": "2022-01-11T21:41:56.571Z"
   },
   {
    "duration": 86,
    "start_time": "2022-01-11T21:41:56.615Z"
   },
   {
    "duration": 797,
    "start_time": "2022-01-11T21:41:56.703Z"
   },
   {
    "duration": 231,
    "start_time": "2022-01-11T21:41:57.501Z"
   },
   {
    "duration": 15,
    "start_time": "2022-01-11T21:41:57.734Z"
   },
   {
    "duration": 5,
    "start_time": "2022-01-11T21:41:57.752Z"
   },
   {
    "duration": 40,
    "start_time": "2022-01-11T21:41:57.761Z"
   },
   {
    "duration": 12,
    "start_time": "2022-01-11T21:41:57.803Z"
   },
   {
    "duration": 46,
    "start_time": "2022-01-11T21:41:57.817Z"
   },
   {
    "duration": 28,
    "start_time": "2022-01-11T21:41:57.865Z"
   },
   {
    "duration": 8,
    "start_time": "2022-01-11T21:41:57.894Z"
   },
   {
    "duration": 19,
    "start_time": "2022-01-11T21:41:57.904Z"
   },
   {
    "duration": 12,
    "start_time": "2022-01-11T21:41:57.924Z"
   },
   {
    "duration": 284,
    "start_time": "2022-01-11T21:41:57.938Z"
   },
   {
    "duration": -988,
    "start_time": "2022-01-11T21:41:59.213Z"
   },
   {
    "duration": -1030,
    "start_time": "2022-01-11T21:41:59.256Z"
   },
   {
    "duration": -1268,
    "start_time": "2022-01-11T21:41:59.495Z"
   },
   {
    "duration": -1275,
    "start_time": "2022-01-11T21:41:59.503Z"
   },
   {
    "duration": -1277,
    "start_time": "2022-01-11T21:41:59.506Z"
   },
   {
    "duration": -1278,
    "start_time": "2022-01-11T21:41:59.509Z"
   },
   {
    "duration": -1281,
    "start_time": "2022-01-11T21:41:59.513Z"
   },
   {
    "duration": -1286,
    "start_time": "2022-01-11T21:41:59.519Z"
   },
   {
    "duration": -1288,
    "start_time": "2022-01-11T21:41:59.522Z"
   },
   {
    "duration": -1292,
    "start_time": "2022-01-11T21:41:59.527Z"
   },
   {
    "duration": -1294,
    "start_time": "2022-01-11T21:41:59.530Z"
   },
   {
    "duration": -1299,
    "start_time": "2022-01-11T21:41:59.537Z"
   },
   {
    "duration": -1301,
    "start_time": "2022-01-11T21:41:59.540Z"
   },
   {
    "duration": -1303,
    "start_time": "2022-01-11T21:41:59.543Z"
   },
   {
    "duration": -1305,
    "start_time": "2022-01-11T21:41:59.546Z"
   },
   {
    "duration": -1310,
    "start_time": "2022-01-11T21:41:59.552Z"
   },
   {
    "duration": -1312,
    "start_time": "2022-01-11T21:41:59.555Z"
   },
   {
    "duration": -1315,
    "start_time": "2022-01-11T21:41:59.559Z"
   },
   {
    "duration": -1317,
    "start_time": "2022-01-11T21:41:59.562Z"
   },
   {
    "duration": -1321,
    "start_time": "2022-01-11T21:41:59.566Z"
   },
   {
    "duration": -1323,
    "start_time": "2022-01-11T21:41:59.569Z"
   },
   {
    "duration": -1325,
    "start_time": "2022-01-11T21:41:59.572Z"
   },
   {
    "duration": -1328,
    "start_time": "2022-01-11T21:41:59.576Z"
   },
   {
    "duration": -1330,
    "start_time": "2022-01-11T21:41:59.579Z"
   },
   {
    "duration": -1335,
    "start_time": "2022-01-11T21:41:59.585Z"
   },
   {
    "duration": -1339,
    "start_time": "2022-01-11T21:41:59.589Z"
   },
   {
    "duration": -1342,
    "start_time": "2022-01-11T21:41:59.593Z"
   },
   {
    "duration": -1353,
    "start_time": "2022-01-11T21:41:59.605Z"
   },
   {
    "duration": -1356,
    "start_time": "2022-01-11T21:41:59.609Z"
   },
   {
    "duration": -1359,
    "start_time": "2022-01-11T21:41:59.612Z"
   },
   {
    "duration": -1365,
    "start_time": "2022-01-11T21:41:59.619Z"
   },
   {
    "duration": -1369,
    "start_time": "2022-01-11T21:41:59.624Z"
   },
   {
    "duration": -1371,
    "start_time": "2022-01-11T21:41:59.627Z"
   },
   {
    "duration": -1373,
    "start_time": "2022-01-11T21:41:59.630Z"
   },
   {
    "duration": 4,
    "start_time": "2022-01-11T21:42:04.516Z"
   },
   {
    "duration": 291,
    "start_time": "2022-01-11T21:42:06.476Z"
   },
   {
    "duration": 47,
    "start_time": "2022-01-11T21:42:07.101Z"
   },
   {
    "duration": 93,
    "start_time": "2022-01-11T21:42:07.981Z"
   },
   {
    "duration": 862,
    "start_time": "2022-01-11T21:42:08.539Z"
   },
   {
    "duration": 229,
    "start_time": "2022-01-11T21:42:09.403Z"
   },
   {
    "duration": 14,
    "start_time": "2022-01-11T21:42:09.786Z"
   },
   {
    "duration": 8,
    "start_time": "2022-01-11T21:42:42.494Z"
   },
   {
    "duration": 8,
    "start_time": "2022-01-11T21:42:45.455Z"
   },
   {
    "duration": 4,
    "start_time": "2022-01-11T21:42:53.123Z"
   },
   {
    "duration": 500,
    "start_time": "2022-01-11T21:42:54.805Z"
   },
   {
    "duration": 21,
    "start_time": "2022-01-11T21:42:57.020Z"
   },
   {
    "duration": 13,
    "start_time": "2022-01-11T21:43:30.556Z"
   },
   {
    "duration": 9,
    "start_time": "2022-01-11T21:43:30.996Z"
   },
   {
    "duration": 7,
    "start_time": "2022-01-11T21:43:38.750Z"
   },
   {
    "duration": 12,
    "start_time": "2022-01-11T21:43:52.956Z"
   },
   {
    "duration": 12,
    "start_time": "2022-01-11T21:44:03.016Z"
   },
   {
    "duration": 14,
    "start_time": "2022-01-11T21:44:07.747Z"
   },
   {
    "duration": 7,
    "start_time": "2022-01-11T21:44:08.551Z"
   },
   {
    "duration": 11,
    "start_time": "2022-01-11T21:44:36.157Z"
   },
   {
    "duration": 14,
    "start_time": "2022-01-11T21:44:47.871Z"
   },
   {
    "duration": 10,
    "start_time": "2022-01-11T21:45:27.006Z"
   },
   {
    "duration": 8,
    "start_time": "2022-01-11T21:45:41.331Z"
   },
   {
    "duration": 1173,
    "start_time": "2022-01-11T21:48:05.760Z"
   },
   {
    "duration": 189,
    "start_time": "2022-01-11T21:48:06.935Z"
   },
   {
    "duration": 43,
    "start_time": "2022-01-11T21:48:07.127Z"
   },
   {
    "duration": 87,
    "start_time": "2022-01-11T21:48:07.173Z"
   },
   {
    "duration": 859,
    "start_time": "2022-01-11T21:48:07.262Z"
   },
   {
    "duration": 237,
    "start_time": "2022-01-11T21:48:08.123Z"
   },
   {
    "duration": 14,
    "start_time": "2022-01-11T21:48:08.362Z"
   },
   {
    "duration": 29,
    "start_time": "2022-01-11T21:48:08.378Z"
   },
   {
    "duration": 53,
    "start_time": "2022-01-11T21:48:08.426Z"
   },
   {
    "duration": 50,
    "start_time": "2022-01-11T21:48:08.493Z"
   },
   {
    "duration": 99,
    "start_time": "2022-01-11T21:48:08.556Z"
   },
   {
    "duration": 15,
    "start_time": "2022-01-11T21:48:08.657Z"
   },
   {
    "duration": 12,
    "start_time": "2022-01-11T21:48:08.674Z"
   },
   {
    "duration": 10,
    "start_time": "2022-01-11T21:48:08.688Z"
   },
   {
    "duration": 8,
    "start_time": "2022-01-11T21:48:08.700Z"
   },
   {
    "duration": 21,
    "start_time": "2022-01-11T21:48:08.709Z"
   },
   {
    "duration": 9,
    "start_time": "2022-01-11T21:48:08.732Z"
   },
   {
    "duration": 9,
    "start_time": "2022-01-11T21:48:08.743Z"
   },
   {
    "duration": 40,
    "start_time": "2022-01-11T21:48:08.754Z"
   },
   {
    "duration": 482,
    "start_time": "2022-01-11T21:48:08.796Z"
   },
   {
    "duration": 28,
    "start_time": "2022-01-11T21:48:09.280Z"
   },
   {
    "duration": 15,
    "start_time": "2022-01-11T21:48:09.310Z"
   },
   {
    "duration": 10,
    "start_time": "2022-01-11T21:48:09.327Z"
   },
   {
    "duration": 9,
    "start_time": "2022-01-11T21:48:09.339Z"
   },
   {
    "duration": 47,
    "start_time": "2022-01-11T21:48:09.349Z"
   },
   {
    "duration": 97,
    "start_time": "2022-01-11T21:48:09.398Z"
   },
   {
    "duration": 95,
    "start_time": "2022-01-11T21:48:09.500Z"
   },
   {
    "duration": 80,
    "start_time": "2022-01-11T21:48:09.598Z"
   },
   {
    "duration": 125,
    "start_time": "2022-01-11T21:48:09.692Z"
   },
   {
    "duration": 18574,
    "start_time": "2022-01-11T21:48:09.818Z"
   },
   {
    "duration": 58,
    "start_time": "2022-01-11T21:48:28.394Z"
   },
   {
    "duration": 9,
    "start_time": "2022-01-11T21:48:28.454Z"
   },
   {
    "duration": 38,
    "start_time": "2022-01-11T21:48:28.465Z"
   },
   {
    "duration": 2417,
    "start_time": "2022-01-11T21:48:28.505Z"
   },
   {
    "duration": 8,
    "start_time": "2022-01-11T21:48:30.924Z"
   },
   {
    "duration": 7,
    "start_time": "2022-01-11T21:48:30.934Z"
   },
   {
    "duration": 8,
    "start_time": "2022-01-11T21:48:30.943Z"
   },
   {
    "duration": 6,
    "start_time": "2022-01-11T21:48:30.952Z"
   },
   {
    "duration": 9,
    "start_time": "2022-01-11T21:48:30.960Z"
   },
   {
    "duration": 12,
    "start_time": "2022-01-11T21:48:30.991Z"
   },
   {
    "duration": 11,
    "start_time": "2022-01-11T21:48:31.005Z"
   },
   {
    "duration": 7,
    "start_time": "2022-01-11T21:48:31.018Z"
   },
   {
    "duration": 2214,
    "start_time": "2022-01-11T21:48:31.027Z"
   },
   {
    "duration": 1411,
    "start_time": "2022-01-11T21:48:33.243Z"
   },
   {
    "duration": 26219,
    "start_time": "2022-01-11T21:48:34.656Z"
   },
   {
    "duration": 3,
    "start_time": "2022-01-11T21:49:00.876Z"
   },
   {
    "duration": 13,
    "start_time": "2022-01-11T21:49:00.880Z"
   },
   {
    "duration": 19,
    "start_time": "2022-01-11T21:49:00.895Z"
   },
   {
    "duration": 15,
    "start_time": "2022-01-11T21:51:55.495Z"
   },
   {
    "duration": 9,
    "start_time": "2022-01-11T21:52:13.575Z"
   },
   {
    "duration": 15,
    "start_time": "2022-01-11T21:52:21.712Z"
   },
   {
    "duration": 18,
    "start_time": "2022-01-11T21:52:28.760Z"
   },
   {
    "duration": 8,
    "start_time": "2022-01-11T21:52:33.604Z"
   },
   {
    "duration": 1143,
    "start_time": "2022-01-11T21:52:58.693Z"
   },
   {
    "duration": 137,
    "start_time": "2022-01-11T21:52:59.838Z"
   },
   {
    "duration": 44,
    "start_time": "2022-01-11T21:52:59.977Z"
   },
   {
    "duration": 114,
    "start_time": "2022-01-11T21:53:00.023Z"
   },
   {
    "duration": 818,
    "start_time": "2022-01-11T21:53:00.139Z"
   },
   {
    "duration": 232,
    "start_time": "2022-01-11T21:53:00.959Z"
   },
   {
    "duration": 15,
    "start_time": "2022-01-11T21:53:01.193Z"
   },
   {
    "duration": 30,
    "start_time": "2022-01-11T21:53:01.210Z"
   },
   {
    "duration": 41,
    "start_time": "2022-01-11T21:53:01.242Z"
   },
   {
    "duration": 20,
    "start_time": "2022-01-11T21:53:01.285Z"
   },
   {
    "duration": 55,
    "start_time": "2022-01-11T21:53:01.307Z"
   },
   {
    "duration": 10,
    "start_time": "2022-01-11T21:53:01.363Z"
   },
   {
    "duration": 41,
    "start_time": "2022-01-11T21:53:01.375Z"
   },
   {
    "duration": 25,
    "start_time": "2022-01-11T21:53:01.417Z"
   },
   {
    "duration": 36,
    "start_time": "2022-01-11T21:53:01.444Z"
   },
   {
    "duration": 33,
    "start_time": "2022-01-11T21:53:01.482Z"
   },
   {
    "duration": 8,
    "start_time": "2022-01-11T21:53:01.517Z"
   },
   {
    "duration": 19,
    "start_time": "2022-01-11T21:53:01.527Z"
   },
   {
    "duration": 17,
    "start_time": "2022-01-11T21:53:01.547Z"
   },
   {
    "duration": 514,
    "start_time": "2022-01-11T21:53:01.566Z"
   },
   {
    "duration": 24,
    "start_time": "2022-01-11T21:53:02.081Z"
   },
   {
    "duration": 12,
    "start_time": "2022-01-11T21:53:02.107Z"
   },
   {
    "duration": 21,
    "start_time": "2022-01-11T21:53:02.120Z"
   },
   {
    "duration": 37,
    "start_time": "2022-01-11T21:53:02.142Z"
   },
   {
    "duration": 21,
    "start_time": "2022-01-11T21:53:02.180Z"
   },
   {
    "duration": 423,
    "start_time": "2022-01-11T21:53:02.203Z"
   },
   {
    "duration": -1017,
    "start_time": "2022-01-11T21:53:03.646Z"
   },
   {
    "duration": -1022,
    "start_time": "2022-01-11T21:53:03.652Z"
   },
   {
    "duration": -1024,
    "start_time": "2022-01-11T21:53:03.655Z"
   },
   {
    "duration": -1026,
    "start_time": "2022-01-11T21:53:03.659Z"
   },
   {
    "duration": -1033,
    "start_time": "2022-01-11T21:53:03.667Z"
   },
   {
    "duration": -1034,
    "start_time": "2022-01-11T21:53:03.670Z"
   },
   {
    "duration": -1037,
    "start_time": "2022-01-11T21:53:03.674Z"
   },
   {
    "duration": -1040,
    "start_time": "2022-01-11T21:53:03.678Z"
   },
   {
    "duration": -1044,
    "start_time": "2022-01-11T21:53:03.684Z"
   },
   {
    "duration": -1046,
    "start_time": "2022-01-11T21:53:03.687Z"
   },
   {
    "duration": -1048,
    "start_time": "2022-01-11T21:53:03.691Z"
   },
   {
    "duration": -1054,
    "start_time": "2022-01-11T21:53:03.698Z"
   },
   {
    "duration": -1057,
    "start_time": "2022-01-11T21:53:03.703Z"
   },
   {
    "duration": -1059,
    "start_time": "2022-01-11T21:53:03.706Z"
   },
   {
    "duration": -1063,
    "start_time": "2022-01-11T21:53:03.711Z"
   },
   {
    "duration": -1067,
    "start_time": "2022-01-11T21:53:03.717Z"
   },
   {
    "duration": -1069,
    "start_time": "2022-01-11T21:53:03.720Z"
   },
   {
    "duration": -1072,
    "start_time": "2022-01-11T21:53:03.724Z"
   },
   {
    "duration": -1077,
    "start_time": "2022-01-11T21:53:03.730Z"
   },
   {
    "duration": -1102,
    "start_time": "2022-01-11T21:53:03.756Z"
   },
   {
    "duration": -1110,
    "start_time": "2022-01-11T21:53:03.765Z"
   },
   {
    "duration": -1113,
    "start_time": "2022-01-11T21:53:03.769Z"
   },
   {
    "duration": -1120,
    "start_time": "2022-01-11T21:53:03.776Z"
   },
   {
    "duration": 241,
    "start_time": "2022-01-11T21:53:52.483Z"
   },
   {
    "duration": 1152,
    "start_time": "2022-01-11T21:53:59.161Z"
   },
   {
    "duration": 180,
    "start_time": "2022-01-11T21:54:00.315Z"
   },
   {
    "duration": 45,
    "start_time": "2022-01-11T21:54:00.498Z"
   },
   {
    "duration": 85,
    "start_time": "2022-01-11T21:54:00.546Z"
   },
   {
    "duration": 877,
    "start_time": "2022-01-11T21:54:00.633Z"
   },
   {
    "duration": 256,
    "start_time": "2022-01-11T21:54:01.513Z"
   },
   {
    "duration": 22,
    "start_time": "2022-01-11T21:54:01.771Z"
   },
   {
    "duration": 5,
    "start_time": "2022-01-11T21:54:01.796Z"
   },
   {
    "duration": 21,
    "start_time": "2022-01-11T21:54:01.803Z"
   },
   {
    "duration": 15,
    "start_time": "2022-01-11T21:54:01.826Z"
   },
   {
    "duration": 75,
    "start_time": "2022-01-11T21:54:01.843Z"
   },
   {
    "duration": 13,
    "start_time": "2022-01-11T21:54:01.920Z"
   },
   {
    "duration": 13,
    "start_time": "2022-01-11T21:54:01.935Z"
   },
   {
    "duration": 11,
    "start_time": "2022-01-11T21:54:01.950Z"
   },
   {
    "duration": 35,
    "start_time": "2022-01-11T21:54:01.963Z"
   },
   {
    "duration": 18,
    "start_time": "2022-01-11T21:54:02.000Z"
   },
   {
    "duration": 10,
    "start_time": "2022-01-11T21:54:02.020Z"
   },
   {
    "duration": 14,
    "start_time": "2022-01-11T21:54:02.032Z"
   },
   {
    "duration": 18,
    "start_time": "2022-01-11T21:54:02.048Z"
   },
   {
    "duration": 502,
    "start_time": "2022-01-11T21:54:02.068Z"
   },
   {
    "duration": 26,
    "start_time": "2022-01-11T21:54:02.572Z"
   },
   {
    "duration": 12,
    "start_time": "2022-01-11T21:54:02.600Z"
   },
   {
    "duration": 12,
    "start_time": "2022-01-11T21:54:02.616Z"
   },
   {
    "duration": 8,
    "start_time": "2022-01-11T21:54:02.631Z"
   },
   {
    "duration": 5,
    "start_time": "2022-01-11T21:54:02.641Z"
   },
   {
    "duration": 302,
    "start_time": "2022-01-11T21:54:02.647Z"
   },
   {
    "duration": 5451,
    "start_time": "2022-01-11T21:54:02.951Z"
   },
   {
    "duration": 5438,
    "start_time": "2022-01-11T21:54:08.403Z"
   },
   {
    "duration": 5163,
    "start_time": "2022-01-11T21:54:13.843Z"
   },
   {
    "duration": 5172,
    "start_time": "2022-01-11T21:54:19.008Z"
   },
   {
    "duration": 16966,
    "start_time": "2022-01-11T21:54:24.181Z"
   },
   {
    "duration": 3729,
    "start_time": "2022-01-11T21:54:41.149Z"
   },
   {
    "duration": 135,
    "start_time": "2022-01-11T21:54:44.880Z"
   },
   {
    "duration": 1141,
    "start_time": "2022-01-11T21:56:24.585Z"
   },
   {
    "duration": 138,
    "start_time": "2022-01-11T21:56:25.728Z"
   },
   {
    "duration": 45,
    "start_time": "2022-01-11T21:56:25.868Z"
   },
   {
    "duration": 101,
    "start_time": "2022-01-11T21:56:25.915Z"
   },
   {
    "duration": 813,
    "start_time": "2022-01-11T21:56:26.018Z"
   },
   {
    "duration": 231,
    "start_time": "2022-01-11T21:56:26.833Z"
   },
   {
    "duration": 13,
    "start_time": "2022-01-11T21:56:27.066Z"
   },
   {
    "duration": 5,
    "start_time": "2022-01-11T21:56:27.093Z"
   },
   {
    "duration": 17,
    "start_time": "2022-01-11T21:56:27.101Z"
   },
   {
    "duration": 13,
    "start_time": "2022-01-11T21:56:27.120Z"
   },
   {
    "duration": 75,
    "start_time": "2022-01-11T21:56:27.135Z"
   },
   {
    "duration": 10,
    "start_time": "2022-01-11T21:56:27.212Z"
   },
   {
    "duration": 13,
    "start_time": "2022-01-11T21:56:27.224Z"
   },
   {
    "duration": 33,
    "start_time": "2022-01-11T21:56:27.239Z"
   },
   {
    "duration": 13,
    "start_time": "2022-01-11T21:56:27.274Z"
   },
   {
    "duration": 18,
    "start_time": "2022-01-11T21:56:27.289Z"
   },
   {
    "duration": 18,
    "start_time": "2022-01-11T21:56:27.309Z"
   },
   {
    "duration": 16,
    "start_time": "2022-01-11T21:56:27.329Z"
   },
   {
    "duration": 4,
    "start_time": "2022-01-11T21:56:27.347Z"
   },
   {
    "duration": 453,
    "start_time": "2022-01-11T21:56:27.353Z"
   },
   {
    "duration": 20,
    "start_time": "2022-01-11T21:56:27.808Z"
   },
   {
    "duration": 13,
    "start_time": "2022-01-11T21:56:27.830Z"
   },
   {
    "duration": 9,
    "start_time": "2022-01-11T21:56:27.847Z"
   },
   {
    "duration": 35,
    "start_time": "2022-01-11T21:56:27.858Z"
   },
   {
    "duration": 6,
    "start_time": "2022-01-11T21:56:27.895Z"
   },
   {
    "duration": 252,
    "start_time": "2022-01-11T21:56:27.903Z"
   },
   {
    "duration": 5147,
    "start_time": "2022-01-11T21:56:28.157Z"
   },
   {
    "duration": 5197,
    "start_time": "2022-01-11T21:56:33.307Z"
   },
   {
    "duration": 5190,
    "start_time": "2022-01-11T21:56:38.507Z"
   },
   {
    "duration": 5145,
    "start_time": "2022-01-11T21:56:43.699Z"
   },
   {
    "duration": 17229,
    "start_time": "2022-01-11T21:56:48.846Z"
   },
   {
    "duration": 3741,
    "start_time": "2022-01-11T21:57:06.077Z"
   },
   {
    "duration": 135,
    "start_time": "2022-01-11T21:57:09.820Z"
   },
   {
    "duration": -1174,
    "start_time": "2022-01-11T21:59:37.184Z"
   },
   {
    "duration": -1180,
    "start_time": "2022-01-11T21:59:37.191Z"
   },
   {
    "duration": -1185,
    "start_time": "2022-01-11T21:59:37.198Z"
   },
   {
    "duration": -1187,
    "start_time": "2022-01-11T21:59:37.201Z"
   },
   {
    "duration": -1418,
    "start_time": "2022-01-11T21:59:37.433Z"
   },
   {
    "duration": -1437,
    "start_time": "2022-01-11T21:59:37.453Z"
   },
   {
    "duration": -1444,
    "start_time": "2022-01-11T21:59:37.461Z"
   },
   {
    "duration": -1447,
    "start_time": "2022-01-11T21:59:37.465Z"
   },
   {
    "duration": -1449,
    "start_time": "2022-01-11T21:59:37.468Z"
   },
   {
    "duration": -1455,
    "start_time": "2022-01-11T21:59:37.475Z"
   },
   {
    "duration": -1458,
    "start_time": "2022-01-11T21:59:37.479Z"
   },
   {
    "duration": -1460,
    "start_time": "2022-01-11T21:59:37.482Z"
   },
   {
    "duration": -1462,
    "start_time": "2022-01-11T21:59:37.485Z"
   },
   {
    "duration": -1467,
    "start_time": "2022-01-11T21:59:37.491Z"
   },
   {
    "duration": -1470,
    "start_time": "2022-01-11T21:59:37.495Z"
   },
   {
    "duration": -1472,
    "start_time": "2022-01-11T21:59:37.499Z"
   },
   {
    "duration": 1083,
    "start_time": "2022-01-12T00:01:32.141Z"
   },
   {
    "duration": 458,
    "start_time": "2022-01-12T00:01:33.226Z"
   },
   {
    "duration": 45,
    "start_time": "2022-01-12T00:01:33.686Z"
   },
   {
    "duration": 78,
    "start_time": "2022-01-12T00:01:33.733Z"
   },
   {
    "duration": 799,
    "start_time": "2022-01-12T00:01:33.812Z"
   },
   {
    "duration": 226,
    "start_time": "2022-01-12T00:01:34.613Z"
   },
   {
    "duration": 13,
    "start_time": "2022-01-12T00:01:34.841Z"
   },
   {
    "duration": 5,
    "start_time": "2022-01-12T00:01:34.857Z"
   },
   {
    "duration": 38,
    "start_time": "2022-01-12T00:01:34.864Z"
   },
   {
    "duration": 15,
    "start_time": "2022-01-12T00:01:34.904Z"
   },
   {
    "duration": 42,
    "start_time": "2022-01-12T00:01:34.921Z"
   },
   {
    "duration": 33,
    "start_time": "2022-01-12T00:01:34.965Z"
   },
   {
    "duration": 8,
    "start_time": "2022-01-12T00:01:35.000Z"
   },
   {
    "duration": 10,
    "start_time": "2022-01-12T00:01:35.010Z"
   },
   {
    "duration": 17,
    "start_time": "2022-01-12T00:01:35.021Z"
   },
   {
    "duration": 17,
    "start_time": "2022-01-12T00:01:35.040Z"
   },
   {
    "duration": 39,
    "start_time": "2022-01-12T00:01:35.059Z"
   },
   {
    "duration": 12,
    "start_time": "2022-01-12T00:01:35.100Z"
   },
   {
    "duration": 4,
    "start_time": "2022-01-12T00:01:35.114Z"
   },
   {
    "duration": 463,
    "start_time": "2022-01-12T00:01:35.120Z"
   },
   {
    "duration": 19,
    "start_time": "2022-01-12T00:01:35.585Z"
   },
   {
    "duration": 11,
    "start_time": "2022-01-12T00:01:35.605Z"
   },
   {
    "duration": 7,
    "start_time": "2022-01-12T00:01:35.619Z"
   },
   {
    "duration": 14,
    "start_time": "2022-01-12T00:01:35.628Z"
   },
   {
    "duration": 14,
    "start_time": "2022-01-12T00:01:35.643Z"
   },
   {
    "duration": 259,
    "start_time": "2022-01-12T00:01:35.659Z"
   },
   {
    "duration": 5036,
    "start_time": "2022-01-12T00:01:35.919Z"
   },
   {
    "duration": 4965,
    "start_time": "2022-01-12T00:01:40.956Z"
   },
   {
    "duration": 5132,
    "start_time": "2022-01-12T00:01:45.923Z"
   },
   {
    "duration": 4954,
    "start_time": "2022-01-12T00:01:51.057Z"
   },
   {
    "duration": 16661,
    "start_time": "2022-01-12T00:01:56.013Z"
   },
   {
    "duration": 3622,
    "start_time": "2022-01-12T00:02:12.675Z"
   },
   {
    "duration": 135,
    "start_time": "2022-01-12T00:02:16.299Z"
   },
   {
    "duration": 602564,
    "start_time": "2022-01-12T00:02:16.436Z"
   },
   {
    "duration": 4551,
    "start_time": "2022-01-12T00:12:14.451Z"
   },
   {
    "duration": 4309,
    "start_time": "2022-01-12T00:12:14.694Z"
   },
   {
    "duration": 4307,
    "start_time": "2022-01-12T00:12:14.697Z"
   },
   {
    "duration": 4305,
    "start_time": "2022-01-12T00:12:14.700Z"
   },
   {
    "duration": 4303,
    "start_time": "2022-01-12T00:12:14.703Z"
   },
   {
    "duration": 4302,
    "start_time": "2022-01-12T00:12:14.705Z"
   },
   {
    "duration": 4298,
    "start_time": "2022-01-12T00:12:14.709Z"
   },
   {
    "duration": 4296,
    "start_time": "2022-01-12T00:12:14.712Z"
   },
   {
    "duration": 4295,
    "start_time": "2022-01-12T00:12:14.714Z"
   },
   {
    "duration": 4293,
    "start_time": "2022-01-12T00:12:14.717Z"
   },
   {
    "duration": 4291,
    "start_time": "2022-01-12T00:12:14.720Z"
   },
   {
    "duration": 4289,
    "start_time": "2022-01-12T00:12:14.723Z"
   },
   {
    "duration": 4287,
    "start_time": "2022-01-12T00:12:14.726Z"
   },
   {
    "duration": 4286,
    "start_time": "2022-01-12T00:12:14.728Z"
   },
   {
    "duration": 4284,
    "start_time": "2022-01-12T00:12:14.731Z"
   },
   {
    "duration": 425,
    "start_time": "2022-01-12T12:56:19.726Z"
   },
   {
    "duration": 1046,
    "start_time": "2022-01-12T12:56:28.685Z"
   },
   {
    "duration": 248,
    "start_time": "2022-01-12T12:56:29.733Z"
   },
   {
    "duration": 45,
    "start_time": "2022-01-12T12:56:29.984Z"
   },
   {
    "duration": 73,
    "start_time": "2022-01-12T12:56:30.031Z"
   },
   {
    "duration": 716,
    "start_time": "2022-01-12T12:56:30.105Z"
   },
   {
    "duration": 211,
    "start_time": "2022-01-12T12:56:30.822Z"
   },
   {
    "duration": 13,
    "start_time": "2022-01-12T12:56:31.035Z"
   },
   {
    "duration": 7,
    "start_time": "2022-01-12T12:56:31.051Z"
   },
   {
    "duration": 27,
    "start_time": "2022-01-12T12:56:31.060Z"
   },
   {
    "duration": 17,
    "start_time": "2022-01-12T12:56:31.088Z"
   },
   {
    "duration": 48,
    "start_time": "2022-01-12T12:56:31.107Z"
   },
   {
    "duration": 11,
    "start_time": "2022-01-12T12:56:31.156Z"
   },
   {
    "duration": 23,
    "start_time": "2022-01-12T12:56:31.169Z"
   },
   {
    "duration": 15,
    "start_time": "2022-01-12T12:56:31.194Z"
   },
   {
    "duration": 26,
    "start_time": "2022-01-12T12:56:31.210Z"
   },
   {
    "duration": 22,
    "start_time": "2022-01-12T12:56:31.238Z"
   },
   {
    "duration": 9,
    "start_time": "2022-01-12T12:56:31.261Z"
   },
   {
    "duration": 18,
    "start_time": "2022-01-12T12:56:31.271Z"
   },
   {
    "duration": 17,
    "start_time": "2022-01-12T12:56:31.290Z"
   },
   {
    "duration": 421,
    "start_time": "2022-01-12T12:56:31.308Z"
   },
   {
    "duration": 17,
    "start_time": "2022-01-12T12:56:31.731Z"
   },
   {
    "duration": 11,
    "start_time": "2022-01-12T12:56:31.749Z"
   },
   {
    "duration": 7,
    "start_time": "2022-01-12T12:56:31.763Z"
   },
   {
    "duration": 6,
    "start_time": "2022-01-12T12:56:31.772Z"
   },
   {
    "duration": 4,
    "start_time": "2022-01-12T12:56:31.779Z"
   },
   {
    "duration": 416,
    "start_time": "2022-01-12T12:56:31.784Z"
   },
   {
    "duration": -424,
    "start_time": "2022-01-12T12:56:32.626Z"
   },
   {
    "duration": -427,
    "start_time": "2022-01-12T12:56:32.630Z"
   },
   {
    "duration": -430,
    "start_time": "2022-01-12T12:56:32.634Z"
   },
   {
    "duration": -434,
    "start_time": "2022-01-12T12:56:32.639Z"
   },
   {
    "duration": -436,
    "start_time": "2022-01-12T12:56:32.643Z"
   },
   {
    "duration": -438,
    "start_time": "2022-01-12T12:56:32.646Z"
   },
   {
    "duration": -441,
    "start_time": "2022-01-12T12:56:32.650Z"
   },
   {
    "duration": -443,
    "start_time": "2022-01-12T12:56:32.654Z"
   },
   {
    "duration": -489,
    "start_time": "2022-01-12T12:56:32.701Z"
   },
   {
    "duration": -497,
    "start_time": "2022-01-12T12:56:32.710Z"
   },
   {
    "duration": -512,
    "start_time": "2022-01-12T12:56:32.726Z"
   },
   {
    "duration": -527,
    "start_time": "2022-01-12T12:56:32.742Z"
   },
   {
    "duration": -541,
    "start_time": "2022-01-12T12:56:32.758Z"
   },
   {
    "duration": -557,
    "start_time": "2022-01-12T12:56:32.775Z"
   },
   {
    "duration": -573,
    "start_time": "2022-01-12T12:56:32.792Z"
   },
   {
    "duration": -590,
    "start_time": "2022-01-12T12:56:32.810Z"
   },
   {
    "duration": -613,
    "start_time": "2022-01-12T12:56:32.835Z"
   },
   {
    "duration": -627,
    "start_time": "2022-01-12T12:56:32.850Z"
   },
   {
    "duration": -633,
    "start_time": "2022-01-12T12:56:32.857Z"
   },
   {
    "duration": -649,
    "start_time": "2022-01-12T12:56:32.875Z"
   },
   {
    "duration": -660,
    "start_time": "2022-01-12T12:56:32.888Z"
   },
   {
    "duration": -677,
    "start_time": "2022-01-12T12:56:32.906Z"
   },
   {
    "duration": -705,
    "start_time": "2022-01-12T12:56:32.935Z"
   },
   {
    "duration": 35,
    "start_time": "2022-01-12T12:56:58.594Z"
   },
   {
    "duration": 46,
    "start_time": "2022-01-12T12:57:11.059Z"
   },
   {
    "duration": 59,
    "start_time": "2022-01-12T12:57:21.494Z"
   },
   {
    "duration": 12,
    "start_time": "2022-01-12T12:57:33.854Z"
   },
   {
    "duration": 49,
    "start_time": "2022-01-12T12:58:15.253Z"
   },
   {
    "duration": 29,
    "start_time": "2022-01-12T12:58:27.640Z"
   },
   {
    "duration": 67,
    "start_time": "2022-01-12T12:58:32.593Z"
   },
   {
    "duration": 62,
    "start_time": "2022-01-12T12:58:34.266Z"
   },
   {
    "duration": 62,
    "start_time": "2022-01-12T12:58:35.662Z"
   },
   {
    "duration": 64,
    "start_time": "2022-01-12T12:58:37.073Z"
   },
   {
    "duration": 14478,
    "start_time": "2022-01-12T12:58:39.821Z"
   },
   {
    "duration": 45,
    "start_time": "2022-01-12T12:59:02.854Z"
   },
   {
    "duration": 7,
    "start_time": "2022-01-12T12:59:08.714Z"
   },
   {
    "duration": 16,
    "start_time": "2022-01-12T12:59:09.528Z"
   },
   {
    "duration": 2143,
    "start_time": "2022-01-12T12:59:10.234Z"
   },
   {
    "duration": 7,
    "start_time": "2022-01-12T12:59:19.294Z"
   },
   {
    "duration": 5,
    "start_time": "2022-01-12T12:59:21.414Z"
   },
   {
    "duration": 3,
    "start_time": "2022-01-12T12:59:22.982Z"
   },
   {
    "duration": 4,
    "start_time": "2022-01-12T12:59:24.130Z"
   },
   {
    "duration": 7,
    "start_time": "2022-01-12T12:59:24.894Z"
   },
   {
    "duration": 5,
    "start_time": "2022-01-12T12:59:25.646Z"
   },
   {
    "duration": 6,
    "start_time": "2022-01-12T12:59:26.161Z"
   },
   {
    "duration": 4,
    "start_time": "2022-01-12T12:59:26.756Z"
   },
   {
    "duration": 2231,
    "start_time": "2022-01-12T12:59:27.733Z"
   },
   {
    "duration": 1336,
    "start_time": "2022-01-12T12:59:32.226Z"
   },
   {
    "duration": 23060,
    "start_time": "2022-01-12T12:59:33.563Z"
   },
   {
    "duration": 2,
    "start_time": "2022-01-12T13:00:04.334Z"
   },
   {
    "duration": 3,
    "start_time": "2022-01-12T13:00:05.183Z"
   },
   {
    "duration": 3,
    "start_time": "2022-01-12T13:00:06.618Z"
   },
   {
    "duration": 1084,
    "start_time": "2022-01-12T13:01:01.656Z"
   },
   {
    "duration": 243,
    "start_time": "2022-01-12T13:01:02.742Z"
   },
   {
    "duration": 44,
    "start_time": "2022-01-12T13:01:02.987Z"
   },
   {
    "duration": 71,
    "start_time": "2022-01-12T13:01:03.033Z"
   },
   {
    "duration": 696,
    "start_time": "2022-01-12T13:01:03.106Z"
   },
   {
    "duration": 213,
    "start_time": "2022-01-12T13:01:03.804Z"
   },
   {
    "duration": 16,
    "start_time": "2022-01-12T13:01:04.019Z"
   },
   {
    "duration": 13,
    "start_time": "2022-01-12T13:01:04.037Z"
   },
   {
    "duration": 37,
    "start_time": "2022-01-12T13:01:04.053Z"
   },
   {
    "duration": 16,
    "start_time": "2022-01-12T13:01:04.092Z"
   },
   {
    "duration": 37,
    "start_time": "2022-01-12T13:01:04.110Z"
   },
   {
    "duration": 9,
    "start_time": "2022-01-12T13:01:04.149Z"
   },
   {
    "duration": 15,
    "start_time": "2022-01-12T13:01:04.159Z"
   },
   {
    "duration": 21,
    "start_time": "2022-01-12T13:01:04.176Z"
   },
   {
    "duration": 18,
    "start_time": "2022-01-12T13:01:04.198Z"
   },
   {
    "duration": 20,
    "start_time": "2022-01-12T13:01:04.218Z"
   },
   {
    "duration": 11,
    "start_time": "2022-01-12T13:01:04.239Z"
   },
   {
    "duration": 14,
    "start_time": "2022-01-12T13:01:04.252Z"
   },
   {
    "duration": 15,
    "start_time": "2022-01-12T13:01:04.268Z"
   },
   {
    "duration": 423,
    "start_time": "2022-01-12T13:01:04.285Z"
   },
   {
    "duration": 27,
    "start_time": "2022-01-12T13:01:04.709Z"
   },
   {
    "duration": 11,
    "start_time": "2022-01-12T13:01:04.738Z"
   },
   {
    "duration": 27,
    "start_time": "2022-01-12T13:01:04.752Z"
   },
   {
    "duration": 16,
    "start_time": "2022-01-12T13:01:04.781Z"
   },
   {
    "duration": 17,
    "start_time": "2022-01-12T13:01:04.798Z"
   },
   {
    "duration": 79,
    "start_time": "2022-01-12T13:01:04.817Z"
   },
   {
    "duration": 75,
    "start_time": "2022-01-12T13:01:04.897Z"
   },
   {
    "duration": 80,
    "start_time": "2022-01-12T13:01:04.974Z"
   },
   {
    "duration": 76,
    "start_time": "2022-01-12T13:01:05.055Z"
   },
   {
    "duration": 13995,
    "start_time": "2022-01-12T13:01:05.133Z"
   },
   {
    "duration": 31,
    "start_time": "2022-01-12T13:01:19.129Z"
   },
   {
    "duration": 7,
    "start_time": "2022-01-12T13:01:19.161Z"
   },
   {
    "duration": 14,
    "start_time": "2022-01-12T13:01:19.170Z"
   },
   {
    "duration": 2183,
    "start_time": "2022-01-12T13:01:19.186Z"
   },
   {
    "duration": 7,
    "start_time": "2022-01-12T13:01:21.371Z"
   },
   {
    "duration": 5,
    "start_time": "2022-01-12T13:01:21.379Z"
   },
   {
    "duration": 5,
    "start_time": "2022-01-12T13:01:21.386Z"
   },
   {
    "duration": 5,
    "start_time": "2022-01-12T13:01:21.392Z"
   },
   {
    "duration": 30,
    "start_time": "2022-01-12T13:01:21.399Z"
   },
   {
    "duration": 9,
    "start_time": "2022-01-12T13:01:21.431Z"
   },
   {
    "duration": 15,
    "start_time": "2022-01-12T13:01:21.442Z"
   },
   {
    "duration": 9,
    "start_time": "2022-01-12T13:01:21.459Z"
   },
   {
    "duration": 2406,
    "start_time": "2022-01-12T13:01:21.469Z"
   },
   {
    "duration": 1653,
    "start_time": "2022-01-12T13:01:23.876Z"
   },
   {
    "duration": 35564,
    "start_time": "2022-01-12T13:01:25.531Z"
   },
   {
    "duration": 2,
    "start_time": "2022-01-12T13:02:01.097Z"
   },
   {
    "duration": 12,
    "start_time": "2022-01-12T13:02:01.101Z"
   },
   {
    "duration": 13,
    "start_time": "2022-01-12T13:02:01.114Z"
   },
   {
    "duration": 1133,
    "start_time": "2022-01-12T13:07:41.400Z"
   },
   {
    "duration": 241,
    "start_time": "2022-01-12T13:07:42.534Z"
   },
   {
    "duration": 42,
    "start_time": "2022-01-12T13:07:42.777Z"
   },
   {
    "duration": 71,
    "start_time": "2022-01-12T13:07:42.820Z"
   },
   {
    "duration": 692,
    "start_time": "2022-01-12T13:07:42.892Z"
   },
   {
    "duration": 200,
    "start_time": "2022-01-12T13:07:43.586Z"
   },
   {
    "duration": 11,
    "start_time": "2022-01-12T13:07:43.788Z"
   },
   {
    "duration": 7,
    "start_time": "2022-01-12T13:07:43.800Z"
   },
   {
    "duration": 28,
    "start_time": "2022-01-12T13:07:43.810Z"
   },
   {
    "duration": 22,
    "start_time": "2022-01-12T13:07:43.840Z"
   },
   {
    "duration": 38,
    "start_time": "2022-01-12T13:07:43.864Z"
   },
   {
    "duration": 23,
    "start_time": "2022-01-12T13:07:43.904Z"
   },
   {
    "duration": 7,
    "start_time": "2022-01-12T13:07:43.929Z"
   },
   {
    "duration": 437,
    "start_time": "2022-01-12T13:07:43.938Z"
   },
   {
    "duration": -479,
    "start_time": "2022-01-12T13:07:44.856Z"
   },
   {
    "duration": -488,
    "start_time": "2022-01-12T13:07:44.866Z"
   },
   {
    "duration": -502,
    "start_time": "2022-01-12T13:07:44.881Z"
   },
   {
    "duration": -509,
    "start_time": "2022-01-12T13:07:44.889Z"
   },
   {
    "duration": -519,
    "start_time": "2022-01-12T13:07:44.900Z"
   },
   {
    "duration": -533,
    "start_time": "2022-01-12T13:07:44.915Z"
   },
   {
    "duration": -546,
    "start_time": "2022-01-12T13:07:44.929Z"
   },
   {
    "duration": -548,
    "start_time": "2022-01-12T13:07:44.932Z"
   },
   {
    "duration": -563,
    "start_time": "2022-01-12T13:07:44.948Z"
   },
   {
    "duration": -570,
    "start_time": "2022-01-12T13:07:44.956Z"
   },
   {
    "duration": -585,
    "start_time": "2022-01-12T13:07:44.972Z"
   },
   {
    "duration": -593,
    "start_time": "2022-01-12T13:07:44.981Z"
   },
   {
    "duration": -606,
    "start_time": "2022-01-12T13:07:44.995Z"
   },
   {
    "duration": -609,
    "start_time": "2022-01-12T13:07:44.999Z"
   },
   {
    "duration": -624,
    "start_time": "2022-01-12T13:07:45.015Z"
   },
   {
    "duration": -638,
    "start_time": "2022-01-12T13:07:45.030Z"
   },
   {
    "duration": -645,
    "start_time": "2022-01-12T13:07:45.038Z"
   },
   {
    "duration": -653,
    "start_time": "2022-01-12T13:07:45.047Z"
   },
   {
    "duration": -659,
    "start_time": "2022-01-12T13:07:45.054Z"
   },
   {
    "duration": -667,
    "start_time": "2022-01-12T13:07:45.063Z"
   },
   {
    "duration": -674,
    "start_time": "2022-01-12T13:07:45.071Z"
   },
   {
    "duration": -683,
    "start_time": "2022-01-12T13:07:45.081Z"
   },
   {
    "duration": -692,
    "start_time": "2022-01-12T13:07:45.090Z"
   },
   {
    "duration": -699,
    "start_time": "2022-01-12T13:07:45.098Z"
   },
   {
    "duration": -706,
    "start_time": "2022-01-12T13:07:45.106Z"
   },
   {
    "duration": -710,
    "start_time": "2022-01-12T13:07:45.111Z"
   },
   {
    "duration": -713,
    "start_time": "2022-01-12T13:07:45.115Z"
   },
   {
    "duration": -735,
    "start_time": "2022-01-12T13:07:45.138Z"
   },
   {
    "duration": -751,
    "start_time": "2022-01-12T13:07:45.155Z"
   },
   {
    "duration": -770,
    "start_time": "2022-01-12T13:07:45.175Z"
   },
   {
    "duration": -776,
    "start_time": "2022-01-12T13:07:45.182Z"
   },
   {
    "duration": -779,
    "start_time": "2022-01-12T13:07:45.186Z"
   },
   {
    "duration": -783,
    "start_time": "2022-01-12T13:07:45.191Z"
   },
   {
    "duration": -786,
    "start_time": "2022-01-12T13:07:45.195Z"
   },
   {
    "duration": -800,
    "start_time": "2022-01-12T13:07:45.209Z"
   },
   {
    "duration": 1077,
    "start_time": "2022-01-12T13:10:58.656Z"
   },
   {
    "duration": 261,
    "start_time": "2022-01-12T13:10:59.735Z"
   },
   {
    "duration": 45,
    "start_time": "2022-01-12T13:10:59.998Z"
   },
   {
    "duration": 83,
    "start_time": "2022-01-12T13:11:00.045Z"
   },
   {
    "duration": 692,
    "start_time": "2022-01-12T13:11:00.129Z"
   },
   {
    "duration": 204,
    "start_time": "2022-01-12T13:11:00.823Z"
   },
   {
    "duration": 11,
    "start_time": "2022-01-12T13:11:01.028Z"
   },
   {
    "duration": 5,
    "start_time": "2022-01-12T13:11:01.042Z"
   },
   {
    "duration": 31,
    "start_time": "2022-01-12T13:11:01.049Z"
   },
   {
    "duration": 24,
    "start_time": "2022-01-12T13:11:01.082Z"
   },
   {
    "duration": 41,
    "start_time": "2022-01-12T13:11:01.108Z"
   },
   {
    "duration": 9,
    "start_time": "2022-01-12T13:11:01.150Z"
   },
   {
    "duration": 15,
    "start_time": "2022-01-12T13:11:01.161Z"
   },
   {
    "duration": 430,
    "start_time": "2022-01-12T13:11:01.178Z"
   },
   {
    "duration": -749,
    "start_time": "2022-01-12T13:11:02.360Z"
   },
   {
    "duration": -894,
    "start_time": "2022-01-12T13:11:02.506Z"
   },
   {
    "duration": -905,
    "start_time": "2022-01-12T13:11:02.518Z"
   },
   {
    "duration": -912,
    "start_time": "2022-01-12T13:11:02.526Z"
   },
   {
    "duration": -934,
    "start_time": "2022-01-12T13:11:02.549Z"
   },
   {
    "duration": -938,
    "start_time": "2022-01-12T13:11:02.554Z"
   },
   {
    "duration": -971,
    "start_time": "2022-01-12T13:11:02.588Z"
   },
   {
    "duration": -987,
    "start_time": "2022-01-12T13:11:02.605Z"
   },
   {
    "duration": -990,
    "start_time": "2022-01-12T13:11:02.609Z"
   },
   {
    "duration": -994,
    "start_time": "2022-01-12T13:11:02.614Z"
   },
   {
    "duration": -1018,
    "start_time": "2022-01-12T13:11:02.639Z"
   },
   {
    "duration": -1023,
    "start_time": "2022-01-12T13:11:02.644Z"
   },
   {
    "duration": -1047,
    "start_time": "2022-01-12T13:11:02.669Z"
   },
   {
    "duration": -1050,
    "start_time": "2022-01-12T13:11:02.673Z"
   },
   {
    "duration": -1376,
    "start_time": "2022-01-12T13:11:03.000Z"
   },
   {
    "duration": -1409,
    "start_time": "2022-01-12T13:11:03.034Z"
   },
   {
    "duration": -1420,
    "start_time": "2022-01-12T13:11:03.046Z"
   },
   {
    "duration": -1441,
    "start_time": "2022-01-12T13:11:03.068Z"
   },
   {
    "duration": -1457,
    "start_time": "2022-01-12T13:11:03.085Z"
   },
   {
    "duration": -1466,
    "start_time": "2022-01-12T13:11:03.095Z"
   },
   {
    "duration": -1472,
    "start_time": "2022-01-12T13:11:03.102Z"
   },
   {
    "duration": -1483,
    "start_time": "2022-01-12T13:11:03.114Z"
   },
   {
    "duration": -1491,
    "start_time": "2022-01-12T13:11:03.123Z"
   },
   {
    "duration": -1518,
    "start_time": "2022-01-12T13:11:03.151Z"
   },
   {
    "duration": -1553,
    "start_time": "2022-01-12T13:11:03.187Z"
   },
   {
    "duration": -1617,
    "start_time": "2022-01-12T13:11:03.252Z"
   },
   {
    "duration": -1633,
    "start_time": "2022-01-12T13:11:03.268Z"
   },
   {
    "duration": -1676,
    "start_time": "2022-01-12T13:11:03.312Z"
   },
   {
    "duration": -1744,
    "start_time": "2022-01-12T13:11:03.381Z"
   },
   {
    "duration": -1763,
    "start_time": "2022-01-12T13:11:03.401Z"
   },
   {
    "duration": -1774,
    "start_time": "2022-01-12T13:11:03.413Z"
   },
   {
    "duration": -1790,
    "start_time": "2022-01-12T13:11:03.429Z"
   },
   {
    "duration": -1804,
    "start_time": "2022-01-12T13:11:03.444Z"
   },
   {
    "duration": -1839,
    "start_time": "2022-01-12T13:11:03.480Z"
   },
   {
    "duration": -1860,
    "start_time": "2022-01-12T13:11:03.502Z"
   },
   {
    "duration": 353,
    "start_time": "2022-01-12T13:11:52.258Z"
   },
   {
    "duration": 327,
    "start_time": "2022-01-12T13:12:19.511Z"
   },
   {
    "duration": 1111,
    "start_time": "2022-01-12T13:19:19.265Z"
   },
   {
    "duration": 230,
    "start_time": "2022-01-12T13:19:20.378Z"
   },
   {
    "duration": 47,
    "start_time": "2022-01-12T13:19:20.610Z"
   },
   {
    "duration": 83,
    "start_time": "2022-01-12T13:19:20.659Z"
   },
   {
    "duration": 784,
    "start_time": "2022-01-12T13:19:20.744Z"
   },
   {
    "duration": 214,
    "start_time": "2022-01-12T13:19:21.530Z"
   },
   {
    "duration": 11,
    "start_time": "2022-01-12T13:19:21.746Z"
   },
   {
    "duration": 8,
    "start_time": "2022-01-12T13:19:21.759Z"
   },
   {
    "duration": 33,
    "start_time": "2022-01-12T13:19:21.769Z"
   },
   {
    "duration": 28,
    "start_time": "2022-01-12T13:19:21.804Z"
   },
   {
    "duration": 25,
    "start_time": "2022-01-12T13:19:21.834Z"
   },
   {
    "duration": 11,
    "start_time": "2022-01-12T13:19:21.861Z"
   },
   {
    "duration": 18,
    "start_time": "2022-01-12T13:19:21.873Z"
   },
   {
    "duration": 13,
    "start_time": "2022-01-12T13:19:21.893Z"
   },
   {
    "duration": 25,
    "start_time": "2022-01-12T13:19:21.908Z"
   },
   {
    "duration": 18,
    "start_time": "2022-01-12T13:19:21.934Z"
   },
   {
    "duration": 8,
    "start_time": "2022-01-12T13:19:21.954Z"
   },
   {
    "duration": 12,
    "start_time": "2022-01-12T13:19:21.964Z"
   },
   {
    "duration": 14,
    "start_time": "2022-01-12T13:19:21.978Z"
   },
   {
    "duration": 771,
    "start_time": "2022-01-12T13:19:21.994Z"
   },
   {
    "duration": 23,
    "start_time": "2022-01-12T13:19:22.766Z"
   },
   {
    "duration": 13,
    "start_time": "2022-01-12T13:19:22.791Z"
   },
   {
    "duration": 25,
    "start_time": "2022-01-12T13:19:22.807Z"
   },
   {
    "duration": 8,
    "start_time": "2022-01-12T13:19:22.834Z"
   },
   {
    "duration": 12,
    "start_time": "2022-01-12T13:19:22.844Z"
   },
   {
    "duration": 93,
    "start_time": "2022-01-12T13:19:22.858Z"
   },
   {
    "duration": 99,
    "start_time": "2022-01-12T13:19:22.953Z"
   },
   {
    "duration": 76,
    "start_time": "2022-01-12T13:19:23.054Z"
   },
   {
    "duration": 72,
    "start_time": "2022-01-12T13:19:23.132Z"
   },
   {
    "duration": 16343,
    "start_time": "2022-01-12T13:19:23.206Z"
   },
   {
    "duration": 33,
    "start_time": "2022-01-12T13:19:39.551Z"
   },
   {
    "duration": 9,
    "start_time": "2022-01-12T13:19:39.586Z"
   },
   {
    "duration": 43,
    "start_time": "2022-01-12T13:19:39.596Z"
   },
   {
    "duration": 2322,
    "start_time": "2022-01-12T13:19:39.641Z"
   },
   {
    "duration": 8,
    "start_time": "2022-01-12T13:19:41.964Z"
   },
   {
    "duration": 7,
    "start_time": "2022-01-12T13:19:41.974Z"
   },
   {
    "duration": 5,
    "start_time": "2022-01-12T13:19:41.982Z"
   },
   {
    "duration": 6,
    "start_time": "2022-01-12T13:19:41.989Z"
   },
   {
    "duration": 34,
    "start_time": "2022-01-12T13:19:41.997Z"
   },
   {
    "duration": 10,
    "start_time": "2022-01-12T13:19:42.033Z"
   },
   {
    "duration": 9,
    "start_time": "2022-01-12T13:19:42.045Z"
   },
   {
    "duration": 6,
    "start_time": "2022-01-12T13:19:42.056Z"
   },
   {
    "duration": 2365,
    "start_time": "2022-01-12T13:19:42.065Z"
   },
   {
    "duration": 2027,
    "start_time": "2022-01-12T13:19:44.432Z"
   },
   {
    "duration": 1139,
    "start_time": "2022-01-12T13:20:22.307Z"
   },
   {
    "duration": 285,
    "start_time": "2022-01-12T13:20:23.448Z"
   },
   {
    "duration": 45,
    "start_time": "2022-01-12T13:20:23.735Z"
   },
   {
    "duration": 76,
    "start_time": "2022-01-12T13:20:23.781Z"
   },
   {
    "duration": 759,
    "start_time": "2022-01-12T13:20:23.859Z"
   },
   {
    "duration": 207,
    "start_time": "2022-01-12T13:20:24.620Z"
   },
   {
    "duration": 12,
    "start_time": "2022-01-12T13:20:24.829Z"
   },
   {
    "duration": 5,
    "start_time": "2022-01-12T13:20:24.842Z"
   },
   {
    "duration": 26,
    "start_time": "2022-01-12T13:20:24.849Z"
   },
   {
    "duration": 15,
    "start_time": "2022-01-12T13:20:24.877Z"
   },
   {
    "duration": 56,
    "start_time": "2022-01-12T13:20:24.893Z"
   },
   {
    "duration": 11,
    "start_time": "2022-01-12T13:20:24.951Z"
   },
   {
    "duration": 6,
    "start_time": "2022-01-12T13:20:24.964Z"
   },
   {
    "duration": 6,
    "start_time": "2022-01-12T13:20:24.971Z"
   },
   {
    "duration": 6,
    "start_time": "2022-01-12T13:20:24.979Z"
   },
   {
    "duration": 48,
    "start_time": "2022-01-12T13:20:24.987Z"
   },
   {
    "duration": 9,
    "start_time": "2022-01-12T13:20:25.037Z"
   },
   {
    "duration": 9,
    "start_time": "2022-01-12T13:20:25.048Z"
   },
   {
    "duration": 3,
    "start_time": "2022-01-12T13:20:25.059Z"
   },
   {
    "duration": 458,
    "start_time": "2022-01-12T13:20:25.064Z"
   },
   {
    "duration": 21,
    "start_time": "2022-01-12T13:20:25.524Z"
   },
   {
    "duration": 11,
    "start_time": "2022-01-12T13:20:25.547Z"
   },
   {
    "duration": 9,
    "start_time": "2022-01-12T13:20:25.560Z"
   },
   {
    "duration": 5,
    "start_time": "2022-01-12T13:20:25.571Z"
   },
   {
    "duration": 5,
    "start_time": "2022-01-12T13:20:25.578Z"
   },
   {
    "duration": 106,
    "start_time": "2022-01-12T13:20:25.585Z"
   },
   {
    "duration": 78,
    "start_time": "2022-01-12T13:20:25.694Z"
   },
   {
    "duration": 79,
    "start_time": "2022-01-12T13:20:25.774Z"
   },
   {
    "duration": 78,
    "start_time": "2022-01-12T13:20:25.855Z"
   },
   {
    "duration": 13976,
    "start_time": "2022-01-12T13:20:25.935Z"
   },
   {
    "duration": 40,
    "start_time": "2022-01-12T13:20:39.913Z"
   },
   {
    "duration": 8,
    "start_time": "2022-01-12T13:20:39.955Z"
   },
   {
    "duration": 15,
    "start_time": "2022-01-12T13:20:39.965Z"
   },
   {
    "duration": 1992,
    "start_time": "2022-01-12T13:20:39.982Z"
   },
   {
    "duration": 6,
    "start_time": "2022-01-12T13:20:41.976Z"
   },
   {
    "duration": 5,
    "start_time": "2022-01-12T13:20:41.984Z"
   },
   {
    "duration": 9,
    "start_time": "2022-01-12T13:20:41.990Z"
   },
   {
    "duration": 5,
    "start_time": "2022-01-12T13:20:42.001Z"
   },
   {
    "duration": 22,
    "start_time": "2022-01-12T13:20:42.007Z"
   },
   {
    "duration": 10,
    "start_time": "2022-01-12T13:20:42.030Z"
   },
   {
    "duration": 7,
    "start_time": "2022-01-12T13:20:42.042Z"
   },
   {
    "duration": 7,
    "start_time": "2022-01-12T13:20:42.050Z"
   },
   {
    "duration": 2418,
    "start_time": "2022-01-12T13:20:42.058Z"
   },
   {
    "duration": 1610,
    "start_time": "2022-01-12T13:20:44.478Z"
   },
   {
    "duration": 34739,
    "start_time": "2022-01-12T13:20:46.089Z"
   },
   {
    "duration": 3,
    "start_time": "2022-01-12T13:21:20.829Z"
   },
   {
    "duration": 6,
    "start_time": "2022-01-12T13:21:20.833Z"
   },
   {
    "duration": 13,
    "start_time": "2022-01-12T13:21:20.840Z"
   },
   {
    "duration": 1606,
    "start_time": "2022-01-12T13:22:51.529Z"
   },
   {
    "duration": 378,
    "start_time": "2022-01-12T13:22:53.137Z"
   },
   {
    "duration": 45,
    "start_time": "2022-01-12T13:22:53.517Z"
   },
   {
    "duration": 78,
    "start_time": "2022-01-12T13:22:53.564Z"
   },
   {
    "duration": 729,
    "start_time": "2022-01-12T13:22:53.643Z"
   },
   {
    "duration": 217,
    "start_time": "2022-01-12T13:22:54.374Z"
   },
   {
    "duration": 14,
    "start_time": "2022-01-12T13:22:54.593Z"
   },
   {
    "duration": 4,
    "start_time": "2022-01-12T13:22:54.608Z"
   },
   {
    "duration": 23,
    "start_time": "2022-01-12T13:22:54.627Z"
   },
   {
    "duration": 14,
    "start_time": "2022-01-12T13:22:54.652Z"
   },
   {
    "duration": 24,
    "start_time": "2022-01-12T13:22:54.667Z"
   },
   {
    "duration": 8,
    "start_time": "2022-01-12T13:22:54.692Z"
   },
   {
    "duration": 27,
    "start_time": "2022-01-12T13:22:54.701Z"
   },
   {
    "duration": 11,
    "start_time": "2022-01-12T13:22:54.729Z"
   },
   {
    "duration": 8,
    "start_time": "2022-01-12T13:22:54.742Z"
   },
   {
    "duration": 12,
    "start_time": "2022-01-12T13:22:54.751Z"
   },
   {
    "duration": 7,
    "start_time": "2022-01-12T13:22:54.764Z"
   },
   {
    "duration": 8,
    "start_time": "2022-01-12T13:22:54.773Z"
   },
   {
    "duration": 3,
    "start_time": "2022-01-12T13:22:54.782Z"
   },
   {
    "duration": 448,
    "start_time": "2022-01-12T13:22:54.786Z"
   },
   {
    "duration": 18,
    "start_time": "2022-01-12T13:22:55.235Z"
   },
   {
    "duration": 10,
    "start_time": "2022-01-12T13:22:55.254Z"
   },
   {
    "duration": 6,
    "start_time": "2022-01-12T13:22:55.266Z"
   },
   {
    "duration": 5,
    "start_time": "2022-01-12T13:22:55.274Z"
   },
   {
    "duration": 3,
    "start_time": "2022-01-12T13:22:55.281Z"
   },
   {
    "duration": 105,
    "start_time": "2022-01-12T13:22:55.286Z"
   },
   {
    "duration": 73,
    "start_time": "2022-01-12T13:22:55.394Z"
   },
   {
    "duration": 77,
    "start_time": "2022-01-12T13:22:55.469Z"
   },
   {
    "duration": 69,
    "start_time": "2022-01-12T13:22:55.547Z"
   },
   {
    "duration": 14135,
    "start_time": "2022-01-12T13:22:55.618Z"
   },
   {
    "duration": 31,
    "start_time": "2022-01-12T13:23:09.754Z"
   },
   {
    "duration": 7,
    "start_time": "2022-01-12T13:23:09.786Z"
   },
   {
    "duration": 34,
    "start_time": "2022-01-12T13:23:09.795Z"
   },
   {
    "duration": 1960,
    "start_time": "2022-01-12T13:23:09.831Z"
   },
   {
    "duration": 7,
    "start_time": "2022-01-12T13:23:11.793Z"
   },
   {
    "duration": 3,
    "start_time": "2022-01-12T13:23:11.801Z"
   },
   {
    "duration": 5,
    "start_time": "2022-01-12T13:23:11.805Z"
   },
   {
    "duration": 16,
    "start_time": "2022-01-12T13:23:11.811Z"
   },
   {
    "duration": 7,
    "start_time": "2022-01-12T13:23:11.829Z"
   },
   {
    "duration": 11,
    "start_time": "2022-01-12T13:23:11.837Z"
   },
   {
    "duration": 7,
    "start_time": "2022-01-12T13:23:11.850Z"
   },
   {
    "duration": 9,
    "start_time": "2022-01-12T13:23:11.858Z"
   },
   {
    "duration": 2713,
    "start_time": "2022-01-12T13:23:11.868Z"
   },
   {
    "duration": 5382,
    "start_time": "2022-01-12T13:23:14.583Z"
   },
   {
    "duration": 146450,
    "start_time": "2022-01-12T13:23:19.966Z"
   },
   {
    "duration": 2,
    "start_time": "2022-01-12T13:25:46.418Z"
   },
   {
    "duration": 7,
    "start_time": "2022-01-12T13:25:46.421Z"
   },
   {
    "duration": 5,
    "start_time": "2022-01-12T13:25:46.430Z"
   },
   {
    "duration": 1172,
    "start_time": "2022-01-12T13:26:24.741Z"
   },
   {
    "duration": 257,
    "start_time": "2022-01-12T13:26:25.915Z"
   },
   {
    "duration": 43,
    "start_time": "2022-01-12T13:26:26.174Z"
   },
   {
    "duration": 73,
    "start_time": "2022-01-12T13:26:26.219Z"
   },
   {
    "duration": 727,
    "start_time": "2022-01-12T13:26:26.293Z"
   },
   {
    "duration": 208,
    "start_time": "2022-01-12T13:26:27.022Z"
   },
   {
    "duration": 13,
    "start_time": "2022-01-12T13:26:27.232Z"
   },
   {
    "duration": 4,
    "start_time": "2022-01-12T13:26:27.248Z"
   },
   {
    "duration": 27,
    "start_time": "2022-01-12T13:26:27.254Z"
   },
   {
    "duration": 46,
    "start_time": "2022-01-12T13:26:27.282Z"
   },
   {
    "duration": 27,
    "start_time": "2022-01-12T13:26:27.330Z"
   },
   {
    "duration": 11,
    "start_time": "2022-01-12T13:26:27.359Z"
   },
   {
    "duration": 6,
    "start_time": "2022-01-12T13:26:27.372Z"
   },
   {
    "duration": 6,
    "start_time": "2022-01-12T13:26:27.379Z"
   },
   {
    "duration": 6,
    "start_time": "2022-01-12T13:26:27.387Z"
   },
   {
    "duration": 16,
    "start_time": "2022-01-12T13:26:27.427Z"
   },
   {
    "duration": 7,
    "start_time": "2022-01-12T13:26:27.444Z"
   },
   {
    "duration": 8,
    "start_time": "2022-01-12T13:26:27.453Z"
   },
   {
    "duration": 3,
    "start_time": "2022-01-12T13:26:27.462Z"
   },
   {
    "duration": 446,
    "start_time": "2022-01-12T13:26:27.467Z"
   },
   {
    "duration": 22,
    "start_time": "2022-01-12T13:26:27.914Z"
   },
   {
    "duration": 10,
    "start_time": "2022-01-12T13:26:27.938Z"
   },
   {
    "duration": 7,
    "start_time": "2022-01-12T13:26:27.951Z"
   },
   {
    "duration": 6,
    "start_time": "2022-01-12T13:26:27.960Z"
   },
   {
    "duration": 4,
    "start_time": "2022-01-12T13:26:27.967Z"
   },
   {
    "duration": 99,
    "start_time": "2022-01-12T13:26:27.973Z"
   },
   {
    "duration": 83,
    "start_time": "2022-01-12T13:26:28.074Z"
   },
   {
    "duration": 81,
    "start_time": "2022-01-12T13:26:28.159Z"
   },
   {
    "duration": 72,
    "start_time": "2022-01-12T13:26:28.242Z"
   },
   {
    "duration": 14421,
    "start_time": "2022-01-12T13:26:28.316Z"
   },
   {
    "duration": 30,
    "start_time": "2022-01-12T13:26:42.738Z"
   },
   {
    "duration": 7,
    "start_time": "2022-01-12T13:26:42.769Z"
   },
   {
    "duration": 15,
    "start_time": "2022-01-12T13:26:42.778Z"
   },
   {
    "duration": 2087,
    "start_time": "2022-01-12T13:26:42.794Z"
   },
   {
    "duration": 7,
    "start_time": "2022-01-12T13:26:44.882Z"
   },
   {
    "duration": 5,
    "start_time": "2022-01-12T13:26:44.890Z"
   },
   {
    "duration": 11,
    "start_time": "2022-01-12T13:26:44.897Z"
   },
   {
    "duration": 7,
    "start_time": "2022-01-12T13:26:44.910Z"
   },
   {
    "duration": 9,
    "start_time": "2022-01-12T13:26:44.927Z"
   },
   {
    "duration": 13,
    "start_time": "2022-01-12T13:26:44.937Z"
   },
   {
    "duration": 8,
    "start_time": "2022-01-12T13:26:44.952Z"
   },
   {
    "duration": 6,
    "start_time": "2022-01-12T13:26:44.962Z"
   },
   {
    "duration": 3110,
    "start_time": "2022-01-12T13:26:44.969Z"
   },
   {
    "duration": 7534,
    "start_time": "2022-01-12T13:26:48.081Z"
   },
   {
    "duration": 205645,
    "start_time": "2022-01-12T13:26:55.616Z"
   },
   {
    "duration": 2,
    "start_time": "2022-01-12T13:30:21.263Z"
   },
   {
    "duration": 6,
    "start_time": "2022-01-12T13:30:21.266Z"
   },
   {
    "duration": 5,
    "start_time": "2022-01-12T13:30:21.273Z"
   },
   {
    "duration": 1468,
    "start_time": "2022-01-12T18:23:40.185Z"
   },
   {
    "duration": 170,
    "start_time": "2022-01-12T18:23:41.656Z"
   },
   {
    "duration": 51,
    "start_time": "2022-01-12T18:23:41.828Z"
   },
   {
    "duration": 161,
    "start_time": "2022-01-12T18:23:42.814Z"
   },
   {
    "duration": 1150,
    "start_time": "2022-01-12T18:23:43.205Z"
   },
   {
    "duration": 397,
    "start_time": "2022-01-12T18:23:44.358Z"
   },
   {
    "duration": 20,
    "start_time": "2022-01-12T18:23:45.697Z"
   },
   {
    "duration": 8,
    "start_time": "2022-01-12T18:23:46.837Z"
   },
   {
    "duration": 403,
    "start_time": "2022-01-12T18:26:03.133Z"
   },
   {
    "duration": 259,
    "start_time": "2022-01-12T18:27:54.757Z"
   },
   {
    "duration": 251,
    "start_time": "2022-01-12T18:30:57.352Z"
   },
   {
    "duration": 21,
    "start_time": "2022-01-12T18:32:12.604Z"
   },
   {
    "duration": 18,
    "start_time": "2022-01-12T18:32:23.524Z"
   },
   {
    "duration": 24,
    "start_time": "2022-01-12T18:32:44.654Z"
   },
   {
    "duration": 458,
    "start_time": "2022-01-12T18:33:56.296Z"
   },
   {
    "duration": 328,
    "start_time": "2022-01-12T18:35:15.795Z"
   },
   {
    "duration": 36,
    "start_time": "2022-01-12T18:35:43.337Z"
   },
   {
    "duration": 14,
    "start_time": "2022-01-12T18:36:02.765Z"
   },
   {
    "duration": 6094,
    "start_time": "2022-01-12T18:36:22.084Z"
   },
   {
    "duration": 14,
    "start_time": "2022-01-12T18:36:30.584Z"
   },
   {
    "duration": 46,
    "start_time": "2022-01-12T18:37:29.865Z"
   },
   {
    "duration": 15,
    "start_time": "2022-01-12T18:39:15.274Z"
   },
   {
    "duration": 18,
    "start_time": "2022-01-12T18:39:56.241Z"
   },
   {
    "duration": 11,
    "start_time": "2022-01-12T18:40:03.464Z"
   },
   {
    "duration": 8,
    "start_time": "2022-01-12T18:40:29.508Z"
   },
   {
    "duration": 120,
    "start_time": "2022-01-12T18:41:11.824Z"
   },
   {
    "duration": 80,
    "start_time": "2022-01-12T18:41:16.002Z"
   },
   {
    "duration": 85,
    "start_time": "2022-01-12T18:41:30.304Z"
   },
   {
    "duration": 6,
    "start_time": "2022-01-12T18:41:36.964Z"
   },
   {
    "duration": 274,
    "start_time": "2022-01-12T18:42:33.164Z"
   },
   {
    "duration": 1452,
    "start_time": "2022-01-12T18:42:42.795Z"
   },
   {
    "duration": 174,
    "start_time": "2022-01-12T18:42:44.251Z"
   },
   {
    "duration": 56,
    "start_time": "2022-01-12T18:42:44.429Z"
   },
   {
    "duration": 153,
    "start_time": "2022-01-12T18:42:44.489Z"
   },
   {
    "duration": 911,
    "start_time": "2022-01-12T18:42:44.645Z"
   },
   {
    "duration": 389,
    "start_time": "2022-01-12T18:42:45.558Z"
   },
   {
    "duration": 18,
    "start_time": "2022-01-12T18:42:45.950Z"
   },
   {
    "duration": 7,
    "start_time": "2022-01-12T18:42:45.971Z"
   },
   {
    "duration": 6,
    "start_time": "2022-01-12T18:42:46.018Z"
   },
   {
    "duration": 1100,
    "start_time": "2022-01-12T18:42:46.028Z"
   },
   {
    "duration": -763,
    "start_time": "2022-01-12T18:42:47.895Z"
   },
   {
    "duration": -777,
    "start_time": "2022-01-12T18:42:47.910Z"
   },
   {
    "duration": -779,
    "start_time": "2022-01-12T18:42:47.914Z"
   },
   {
    "duration": -790,
    "start_time": "2022-01-12T18:42:47.926Z"
   },
   {
    "duration": -1009,
    "start_time": "2022-01-12T18:42:48.146Z"
   },
   {
    "duration": -1026,
    "start_time": "2022-01-12T18:42:48.165Z"
   },
   {
    "duration": -1039,
    "start_time": "2022-01-12T18:42:48.180Z"
   },
   {
    "duration": -1057,
    "start_time": "2022-01-12T18:42:48.199Z"
   },
   {
    "duration": -1072,
    "start_time": "2022-01-12T18:42:48.215Z"
   },
   {
    "duration": -1085,
    "start_time": "2022-01-12T18:42:48.229Z"
   },
   {
    "duration": -1098,
    "start_time": "2022-01-12T18:42:48.244Z"
   },
   {
    "duration": -1115,
    "start_time": "2022-01-12T18:42:48.262Z"
   },
   {
    "duration": -1130,
    "start_time": "2022-01-12T18:42:48.278Z"
   },
   {
    "duration": -1136,
    "start_time": "2022-01-12T18:42:48.285Z"
   },
   {
    "duration": -1137,
    "start_time": "2022-01-12T18:42:48.288Z"
   },
   {
    "duration": -1140,
    "start_time": "2022-01-12T18:42:48.293Z"
   },
   {
    "duration": -1143,
    "start_time": "2022-01-12T18:42:48.298Z"
   },
   {
    "duration": -1145,
    "start_time": "2022-01-12T18:42:48.302Z"
   },
   {
    "duration": -1147,
    "start_time": "2022-01-12T18:42:48.306Z"
   },
   {
    "duration": -1148,
    "start_time": "2022-01-12T18:42:48.309Z"
   },
   {
    "duration": -1149,
    "start_time": "2022-01-12T18:42:48.314Z"
   },
   {
    "duration": -1151,
    "start_time": "2022-01-12T18:42:48.318Z"
   },
   {
    "duration": -1103,
    "start_time": "2022-01-12T18:42:48.321Z"
   },
   {
    "duration": -1105,
    "start_time": "2022-01-12T18:42:48.325Z"
   },
   {
    "duration": -1107,
    "start_time": "2022-01-12T18:42:48.329Z"
   },
   {
    "duration": -1110,
    "start_time": "2022-01-12T18:42:48.334Z"
   },
   {
    "duration": -1112,
    "start_time": "2022-01-12T18:42:48.338Z"
   },
   {
    "duration": -1114,
    "start_time": "2022-01-12T18:42:48.342Z"
   },
   {
    "duration": -1114,
    "start_time": "2022-01-12T18:42:48.345Z"
   },
   {
    "duration": -1116,
    "start_time": "2022-01-12T18:42:48.349Z"
   },
   {
    "duration": -1116,
    "start_time": "2022-01-12T18:42:48.351Z"
   },
   {
    "duration": -1118,
    "start_time": "2022-01-12T18:42:48.355Z"
   },
   {
    "duration": -1120,
    "start_time": "2022-01-12T18:42:48.359Z"
   },
   {
    "duration": -1123,
    "start_time": "2022-01-12T18:42:48.364Z"
   },
   {
    "duration": -1284,
    "start_time": "2022-01-12T18:42:48.528Z"
   },
   {
    "duration": -1294,
    "start_time": "2022-01-12T18:42:48.540Z"
   },
   {
    "duration": -1296,
    "start_time": "2022-01-12T18:42:48.544Z"
   },
   {
    "duration": -1306,
    "start_time": "2022-01-12T18:42:48.556Z"
   },
   {
    "duration": -1308,
    "start_time": "2022-01-12T18:42:48.560Z"
   },
   {
    "duration": 31,
    "start_time": "2022-01-12T18:43:03.268Z"
   },
   {
    "duration": 16,
    "start_time": "2022-01-12T18:43:05.387Z"
   },
   {
    "duration": 11,
    "start_time": "2022-01-12T18:43:05.979Z"
   },
   {
    "duration": 12,
    "start_time": "2022-01-12T18:43:07.507Z"
   },
   {
    "duration": 12,
    "start_time": "2022-01-12T18:43:08.991Z"
   },
   {
    "duration": 38,
    "start_time": "2022-01-12T18:43:09.799Z"
   },
   {
    "duration": 13,
    "start_time": "2022-01-12T18:43:10.639Z"
   },
   {
    "duration": 12,
    "start_time": "2022-01-12T18:43:12.667Z"
   },
   {
    "duration": 8241,
    "start_time": "2022-01-12T18:43:13.122Z"
   },
   {
    "duration": -1043,
    "start_time": "2022-01-12T18:43:22.409Z"
   },
   {
    "duration": 28,
    "start_time": "2022-01-12T18:43:40.787Z"
   },
   {
    "duration": 33,
    "start_time": "2022-01-12T18:43:45.499Z"
   },
   {
    "duration": 13,
    "start_time": "2022-01-12T18:43:46.901Z"
   },
   {
    "duration": 10,
    "start_time": "2022-01-12T18:43:47.727Z"
   },
   {
    "duration": 11,
    "start_time": "2022-01-12T18:43:48.300Z"
   },
   {
    "duration": 11,
    "start_time": "2022-01-12T18:43:50.767Z"
   },
   {
    "duration": 12,
    "start_time": "2022-01-12T18:43:51.579Z"
   },
   {
    "duration": 12,
    "start_time": "2022-01-12T18:43:56.359Z"
   },
   {
    "duration": 13,
    "start_time": "2022-01-12T18:44:34.593Z"
   },
   {
    "duration": 9,
    "start_time": "2022-01-12T18:44:35.968Z"
   },
   {
    "duration": 12,
    "start_time": "2022-01-12T18:44:36.729Z"
   },
   {
    "duration": 11,
    "start_time": "2022-01-12T18:44:39.630Z"
   },
   {
    "duration": 10,
    "start_time": "2022-01-12T18:44:40.600Z"
   },
   {
    "duration": 12,
    "start_time": "2022-01-12T18:44:41.187Z"
   },
   {
    "duration": 12,
    "start_time": "2022-01-12T18:44:42.089Z"
   },
   {
    "duration": 14,
    "start_time": "2022-01-12T18:45:05.887Z"
   },
   {
    "duration": 11,
    "start_time": "2022-01-12T18:45:19.567Z"
   },
   {
    "duration": 7,
    "start_time": "2022-01-12T18:45:22.379Z"
   },
   {
    "duration": 6,
    "start_time": "2022-01-12T18:45:23.195Z"
   },
   {
    "duration": 7981,
    "start_time": "2022-01-12T18:45:25.329Z"
   },
   {
    "duration": -1070,
    "start_time": "2022-01-12T18:45:34.383Z"
   },
   {
    "duration": 1451,
    "start_time": "2022-01-12T18:46:06.313Z"
   },
   {
    "duration": 181,
    "start_time": "2022-01-12T18:46:07.766Z"
   },
   {
    "duration": 53,
    "start_time": "2022-01-12T18:46:07.951Z"
   },
   {
    "duration": 148,
    "start_time": "2022-01-12T18:46:08.007Z"
   },
   {
    "duration": 910,
    "start_time": "2022-01-12T18:46:08.157Z"
   },
   {
    "duration": 382,
    "start_time": "2022-01-12T18:46:09.069Z"
   },
   {
    "duration": 17,
    "start_time": "2022-01-12T18:46:09.453Z"
   },
   {
    "duration": 6,
    "start_time": "2022-01-12T18:46:09.473Z"
   },
   {
    "duration": 35,
    "start_time": "2022-01-12T18:46:09.483Z"
   },
   {
    "duration": 33,
    "start_time": "2022-01-12T18:46:09.521Z"
   },
   {
    "duration": 17,
    "start_time": "2022-01-12T18:46:09.556Z"
   },
   {
    "duration": 41,
    "start_time": "2022-01-12T18:46:09.576Z"
   },
   {
    "duration": 11,
    "start_time": "2022-01-12T18:46:09.620Z"
   },
   {
    "duration": 14,
    "start_time": "2022-01-12T18:46:09.633Z"
   },
   {
    "duration": 9,
    "start_time": "2022-01-12T18:46:09.650Z"
   },
   {
    "duration": 55,
    "start_time": "2022-01-12T18:46:09.661Z"
   },
   {
    "duration": 11,
    "start_time": "2022-01-12T18:46:09.719Z"
   },
   {
    "duration": 12,
    "start_time": "2022-01-12T18:46:09.733Z"
   },
   {
    "duration": 5,
    "start_time": "2022-01-12T18:46:09.750Z"
   },
   {
    "duration": 5,
    "start_time": "2022-01-12T18:46:09.758Z"
   },
   {
    "duration": 7565,
    "start_time": "2022-01-12T18:46:09.765Z"
   },
   {
    "duration": -2186,
    "start_time": "2022-01-12T18:46:19.519Z"
   },
   {
    "duration": -2188,
    "start_time": "2022-01-12T18:46:19.522Z"
   },
   {
    "duration": -2189,
    "start_time": "2022-01-12T18:46:19.525Z"
   },
   {
    "duration": -2520,
    "start_time": "2022-01-12T18:46:19.857Z"
   },
   {
    "duration": -2528,
    "start_time": "2022-01-12T18:46:19.866Z"
   },
   {
    "duration": -2529,
    "start_time": "2022-01-12T18:46:19.869Z"
   },
   {
    "duration": -2532,
    "start_time": "2022-01-12T18:46:19.873Z"
   },
   {
    "duration": -2534,
    "start_time": "2022-01-12T18:46:19.876Z"
   },
   {
    "duration": -2538,
    "start_time": "2022-01-12T18:46:19.881Z"
   },
   {
    "duration": -2540,
    "start_time": "2022-01-12T18:46:19.884Z"
   },
   {
    "duration": -2541,
    "start_time": "2022-01-12T18:46:19.887Z"
   },
   {
    "duration": -2543,
    "start_time": "2022-01-12T18:46:19.890Z"
   },
   {
    "duration": -2546,
    "start_time": "2022-01-12T18:46:19.894Z"
   },
   {
    "duration": -2711,
    "start_time": "2022-01-12T18:46:20.060Z"
   },
   {
    "duration": -2719,
    "start_time": "2022-01-12T18:46:20.069Z"
   },
   {
    "duration": -2721,
    "start_time": "2022-01-12T18:46:20.072Z"
   },
   {
    "duration": -2722,
    "start_time": "2022-01-12T18:46:20.075Z"
   },
   {
    "duration": -2725,
    "start_time": "2022-01-12T18:46:20.079Z"
   },
   {
    "duration": -2775,
    "start_time": "2022-01-12T18:46:20.131Z"
   },
   {
    "duration": -2988,
    "start_time": "2022-01-12T18:46:20.345Z"
   },
   {
    "duration": -2995,
    "start_time": "2022-01-12T18:46:20.353Z"
   },
   {
    "duration": -2996,
    "start_time": "2022-01-12T18:46:20.356Z"
   },
   {
    "duration": -2998,
    "start_time": "2022-01-12T18:46:20.359Z"
   },
   {
    "duration": -3023,
    "start_time": "2022-01-12T18:46:20.385Z"
   },
   {
    "duration": -3035,
    "start_time": "2022-01-12T18:46:20.399Z"
   },
   {
    "duration": -3081,
    "start_time": "2022-01-12T18:46:20.446Z"
   },
   {
    "duration": -3247,
    "start_time": "2022-01-12T18:46:20.613Z"
   },
   {
    "duration": -3254,
    "start_time": "2022-01-12T18:46:20.621Z"
   },
   {
    "duration": 14,
    "start_time": "2022-01-12T18:46:38.287Z"
   },
   {
    "duration": 1485,
    "start_time": "2022-01-12T18:47:17.774Z"
   },
   {
    "duration": 187,
    "start_time": "2022-01-12T18:47:19.262Z"
   },
   {
    "duration": 52,
    "start_time": "2022-01-12T18:47:19.451Z"
   },
   {
    "duration": 168,
    "start_time": "2022-01-12T18:47:19.506Z"
   },
   {
    "duration": 928,
    "start_time": "2022-01-12T18:47:19.676Z"
   },
   {
    "duration": 387,
    "start_time": "2022-01-12T18:47:20.607Z"
   },
   {
    "duration": 34,
    "start_time": "2022-01-12T18:47:20.996Z"
   },
   {
    "duration": 6,
    "start_time": "2022-01-12T18:47:21.033Z"
   },
   {
    "duration": 9,
    "start_time": "2022-01-12T18:47:21.044Z"
   },
   {
    "duration": 440,
    "start_time": "2022-01-12T18:47:21.056Z"
   },
   {
    "duration": -729,
    "start_time": "2022-01-12T18:47:22.228Z"
   },
   {
    "duration": -791,
    "start_time": "2022-01-12T18:47:22.292Z"
   },
   {
    "duration": -794,
    "start_time": "2022-01-12T18:47:22.296Z"
   },
   {
    "duration": -796,
    "start_time": "2022-01-12T18:47:22.300Z"
   },
   {
    "duration": -807,
    "start_time": "2022-01-12T18:47:22.312Z"
   },
   {
    "duration": -870,
    "start_time": "2022-01-12T18:47:22.377Z"
   },
   {
    "duration": -991,
    "start_time": "2022-01-12T18:47:22.499Z"
   },
   {
    "duration": -1001,
    "start_time": "2022-01-12T18:47:22.511Z"
   },
   {
    "duration": -1004,
    "start_time": "2022-01-12T18:47:22.515Z"
   },
   {
    "duration": -1016,
    "start_time": "2022-01-12T18:47:22.528Z"
   },
   {
    "duration": -1020,
    "start_time": "2022-01-12T18:47:22.534Z"
   },
   {
    "duration": -1029,
    "start_time": "2022-01-12T18:47:22.545Z"
   },
   {
    "duration": -1034,
    "start_time": "2022-01-12T18:47:22.551Z"
   },
   {
    "duration": -1046,
    "start_time": "2022-01-12T18:47:22.565Z"
   },
   {
    "duration": -1060,
    "start_time": "2022-01-12T18:47:22.580Z"
   },
   {
    "duration": -1064,
    "start_time": "2022-01-12T18:47:22.585Z"
   },
   {
    "duration": -1066,
    "start_time": "2022-01-12T18:47:22.589Z"
   },
   {
    "duration": -1188,
    "start_time": "2022-01-12T18:47:22.712Z"
   },
   {
    "duration": -1190,
    "start_time": "2022-01-12T18:47:22.716Z"
   },
   {
    "duration": -1244,
    "start_time": "2022-01-12T18:47:22.771Z"
   },
   {
    "duration": -1246,
    "start_time": "2022-01-12T18:47:22.775Z"
   },
   {
    "duration": -1253,
    "start_time": "2022-01-12T18:47:22.783Z"
   },
   {
    "duration": -1256,
    "start_time": "2022-01-12T18:47:22.787Z"
   },
   {
    "duration": -1258,
    "start_time": "2022-01-12T18:47:22.791Z"
   },
   {
    "duration": -1260,
    "start_time": "2022-01-12T18:47:22.794Z"
   },
   {
    "duration": -1332,
    "start_time": "2022-01-12T18:47:22.868Z"
   },
   {
    "duration": -1342,
    "start_time": "2022-01-12T18:47:22.879Z"
   },
   {
    "duration": -1380,
    "start_time": "2022-01-12T18:47:22.918Z"
   },
   {
    "duration": -1390,
    "start_time": "2022-01-12T18:47:22.930Z"
   },
   {
    "duration": -1401,
    "start_time": "2022-01-12T18:47:22.942Z"
   },
   {
    "duration": -1460,
    "start_time": "2022-01-12T18:47:23.003Z"
   },
   {
    "duration": -1462,
    "start_time": "2022-01-12T18:47:23.006Z"
   },
   {
    "duration": -1464,
    "start_time": "2022-01-12T18:47:23.010Z"
   },
   {
    "duration": -1507,
    "start_time": "2022-01-12T18:47:23.054Z"
   },
   {
    "duration": -1508,
    "start_time": "2022-01-12T18:47:23.057Z"
   },
   {
    "duration": -1510,
    "start_time": "2022-01-12T18:47:23.060Z"
   },
   {
    "duration": -1512,
    "start_time": "2022-01-12T18:47:23.064Z"
   },
   {
    "duration": -1515,
    "start_time": "2022-01-12T18:47:23.068Z"
   },
   {
    "duration": -1518,
    "start_time": "2022-01-12T18:47:23.072Z"
   },
   {
    "duration": 29,
    "start_time": "2022-01-12T18:47:28.245Z"
   },
   {
    "duration": 15,
    "start_time": "2022-01-12T18:47:34.494Z"
   },
   {
    "duration": 15,
    "start_time": "2022-01-12T18:47:43.525Z"
   },
   {
    "duration": 1525,
    "start_time": "2022-01-12T18:48:07.109Z"
   },
   {
    "duration": 193,
    "start_time": "2022-01-12T18:48:08.637Z"
   },
   {
    "duration": 51,
    "start_time": "2022-01-12T18:48:08.834Z"
   },
   {
    "duration": 145,
    "start_time": "2022-01-12T18:48:08.888Z"
   },
   {
    "duration": 1406,
    "start_time": "2022-01-12T18:48:09.035Z"
   },
   {
    "duration": 397,
    "start_time": "2022-01-12T18:48:10.444Z"
   },
   {
    "duration": 16,
    "start_time": "2022-01-12T18:48:10.843Z"
   },
   {
    "duration": 6,
    "start_time": "2022-01-12T18:48:10.862Z"
   },
   {
    "duration": 6,
    "start_time": "2022-01-12T18:48:10.872Z"
   },
   {
    "duration": 90,
    "start_time": "2022-01-12T18:48:10.881Z"
   },
   {
    "duration": 81,
    "start_time": "2022-01-12T18:48:10.973Z"
   },
   {
    "duration": -1104,
    "start_time": "2022-01-12T18:48:12.162Z"
   },
   {
    "duration": -1106,
    "start_time": "2022-01-12T18:48:12.165Z"
   },
   {
    "duration": -1107,
    "start_time": "2022-01-12T18:48:12.168Z"
   },
   {
    "duration": -1110,
    "start_time": "2022-01-12T18:48:12.172Z"
   },
   {
    "duration": -1112,
    "start_time": "2022-01-12T18:48:12.175Z"
   },
   {
    "duration": -1114,
    "start_time": "2022-01-12T18:48:12.179Z"
   },
   {
    "duration": -1116,
    "start_time": "2022-01-12T18:48:12.182Z"
   },
   {
    "duration": -1116,
    "start_time": "2022-01-12T18:48:12.184Z"
   },
   {
    "duration": -1119,
    "start_time": "2022-01-12T18:48:12.188Z"
   },
   {
    "duration": -1120,
    "start_time": "2022-01-12T18:48:12.191Z"
   },
   {
    "duration": -1121,
    "start_time": "2022-01-12T18:48:12.193Z"
   },
   {
    "duration": -1123,
    "start_time": "2022-01-12T18:48:12.196Z"
   },
   {
    "duration": -1141,
    "start_time": "2022-01-12T18:48:12.216Z"
   },
   {
    "duration": -1144,
    "start_time": "2022-01-12T18:48:12.220Z"
   },
   {
    "duration": -1352,
    "start_time": "2022-01-12T18:48:12.429Z"
   },
   {
    "duration": -1359,
    "start_time": "2022-01-12T18:48:12.438Z"
   },
   {
    "duration": -1362,
    "start_time": "2022-01-12T18:48:12.442Z"
   },
   {
    "duration": -1362,
    "start_time": "2022-01-12T18:48:12.444Z"
   },
   {
    "duration": -1364,
    "start_time": "2022-01-12T18:48:12.447Z"
   },
   {
    "duration": -1365,
    "start_time": "2022-01-12T18:48:12.450Z"
   },
   {
    "duration": -1368,
    "start_time": "2022-01-12T18:48:12.454Z"
   },
   {
    "duration": -1370,
    "start_time": "2022-01-12T18:48:12.457Z"
   },
   {
    "duration": -1371,
    "start_time": "2022-01-12T18:48:12.460Z"
   },
   {
    "duration": -1379,
    "start_time": "2022-01-12T18:48:12.469Z"
   },
   {
    "duration": -1386,
    "start_time": "2022-01-12T18:48:12.478Z"
   },
   {
    "duration": -1408,
    "start_time": "2022-01-12T18:48:12.501Z"
   },
   {
    "duration": -1586,
    "start_time": "2022-01-12T18:48:12.704Z"
   },
   {
    "duration": -1595,
    "start_time": "2022-01-12T18:48:12.714Z"
   },
   {
    "duration": -1596,
    "start_time": "2022-01-12T18:48:12.718Z"
   },
   {
    "duration": -1606,
    "start_time": "2022-01-12T18:48:12.730Z"
   },
   {
    "duration": -1610,
    "start_time": "2022-01-12T18:48:12.735Z"
   },
   {
    "duration": -1612,
    "start_time": "2022-01-12T18:48:12.739Z"
   },
   {
    "duration": -1614,
    "start_time": "2022-01-12T18:48:12.742Z"
   },
   {
    "duration": -1615,
    "start_time": "2022-01-12T18:48:12.745Z"
   },
   {
    "duration": -1618,
    "start_time": "2022-01-12T18:48:12.749Z"
   },
   {
    "duration": -1620,
    "start_time": "2022-01-12T18:48:12.752Z"
   },
   {
    "duration": -1626,
    "start_time": "2022-01-12T18:48:12.760Z"
   },
   {
    "duration": -1627,
    "start_time": "2022-01-12T18:48:12.763Z"
   },
   {
    "duration": -1727,
    "start_time": "2022-01-12T18:48:12.864Z"
   },
   {
    "duration": 14,
    "start_time": "2022-01-12T18:48:18.229Z"
   },
   {
    "duration": 16,
    "start_time": "2022-01-12T18:48:23.888Z"
   },
   {
    "duration": 18,
    "start_time": "2022-01-12T18:48:30.215Z"
   },
   {
    "duration": 13,
    "start_time": "2022-01-12T18:48:30.628Z"
   },
   {
    "duration": 12,
    "start_time": "2022-01-12T18:48:31.391Z"
   },
   {
    "duration": 12,
    "start_time": "2022-01-12T18:48:33.539Z"
   },
   {
    "duration": 10,
    "start_time": "2022-01-12T18:48:34.328Z"
   },
   {
    "duration": 10,
    "start_time": "2022-01-12T18:48:34.899Z"
   },
   {
    "duration": 14,
    "start_time": "2022-01-12T18:48:35.710Z"
   },
   {
    "duration": 12,
    "start_time": "2022-01-12T18:48:39.286Z"
   },
   {
    "duration": 8,
    "start_time": "2022-01-12T18:48:40.078Z"
   },
   {
    "duration": 6,
    "start_time": "2022-01-12T18:48:40.968Z"
   },
   {
    "duration": 7094,
    "start_time": "2022-01-12T18:48:41.749Z"
   },
   {
    "duration": 16,
    "start_time": "2022-01-12T18:48:57.797Z"
   },
   {
    "duration": 13,
    "start_time": "2022-01-12T18:50:06.555Z"
   },
   {
    "duration": 1406,
    "start_time": "2022-01-12T18:51:10.543Z"
   },
   {
    "duration": 192,
    "start_time": "2022-01-12T18:51:11.952Z"
   },
   {
    "duration": 54,
    "start_time": "2022-01-12T18:51:12.147Z"
   },
   {
    "duration": 148,
    "start_time": "2022-01-12T18:51:12.203Z"
   },
   {
    "duration": 920,
    "start_time": "2022-01-12T18:51:12.353Z"
   },
   {
    "duration": 387,
    "start_time": "2022-01-12T18:51:13.275Z"
   },
   {
    "duration": 17,
    "start_time": "2022-01-12T18:51:13.664Z"
   },
   {
    "duration": 6,
    "start_time": "2022-01-12T18:51:13.684Z"
   },
   {
    "duration": 28,
    "start_time": "2022-01-12T18:51:13.693Z"
   },
   {
    "duration": 43,
    "start_time": "2022-01-12T18:51:13.723Z"
   },
   {
    "duration": 67,
    "start_time": "2022-01-12T18:51:13.768Z"
   },
   {
    "duration": 119,
    "start_time": "2022-01-12T18:51:13.837Z"
   },
   {
    "duration": 18,
    "start_time": "2022-01-12T18:51:13.959Z"
   },
   {
    "duration": 9,
    "start_time": "2022-01-12T18:51:13.979Z"
   },
   {
    "duration": 9,
    "start_time": "2022-01-12T18:51:14.018Z"
   },
   {
    "duration": 24,
    "start_time": "2022-01-12T18:51:14.029Z"
   },
   {
    "duration": 24,
    "start_time": "2022-01-12T18:51:14.056Z"
   },
   {
    "duration": 35,
    "start_time": "2022-01-12T18:51:14.082Z"
   },
   {
    "duration": 15,
    "start_time": "2022-01-12T18:51:14.119Z"
   },
   {
    "duration": 5,
    "start_time": "2022-01-12T18:51:14.137Z"
   },
   {
    "duration": 120,
    "start_time": "2022-01-12T18:51:14.144Z"
   },
   {
    "duration": -1502,
    "start_time": "2022-01-12T18:51:15.769Z"
   },
   {
    "duration": -1612,
    "start_time": "2022-01-12T18:51:15.881Z"
   },
   {
    "duration": -1622,
    "start_time": "2022-01-12T18:51:15.892Z"
   },
   {
    "duration": -1624,
    "start_time": "2022-01-12T18:51:15.895Z"
   },
   {
    "duration": -1627,
    "start_time": "2022-01-12T18:51:15.899Z"
   },
   {
    "duration": -1637,
    "start_time": "2022-01-12T18:51:15.910Z"
   },
   {
    "duration": -1638,
    "start_time": "2022-01-12T18:51:15.913Z"
   },
   {
    "duration": -1648,
    "start_time": "2022-01-12T18:51:15.925Z"
   },
   {
    "duration": -1655,
    "start_time": "2022-01-12T18:51:15.933Z"
   },
   {
    "duration": -1664,
    "start_time": "2022-01-12T18:51:15.944Z"
   },
   {
    "duration": -1776,
    "start_time": "2022-01-12T18:51:16.058Z"
   },
   {
    "duration": -1829,
    "start_time": "2022-01-12T18:51:16.113Z"
   },
   {
    "duration": -1834,
    "start_time": "2022-01-12T18:51:16.119Z"
   },
   {
    "duration": -1889,
    "start_time": "2022-01-12T18:51:16.176Z"
   },
   {
    "duration": -1895,
    "start_time": "2022-01-12T18:51:16.183Z"
   },
   {
    "duration": -1903,
    "start_time": "2022-01-12T18:51:16.192Z"
   },
   {
    "duration": -1905,
    "start_time": "2022-01-12T18:51:16.196Z"
   },
   {
    "duration": -1914,
    "start_time": "2022-01-12T18:51:16.206Z"
   },
   {
    "duration": -1915,
    "start_time": "2022-01-12T18:51:16.209Z"
   },
   {
    "duration": -1918,
    "start_time": "2022-01-12T18:51:16.213Z"
   },
   {
    "duration": -1931,
    "start_time": "2022-01-12T18:51:16.227Z"
   },
   {
    "duration": -1935,
    "start_time": "2022-01-12T18:51:16.233Z"
   },
   {
    "duration": -2051,
    "start_time": "2022-01-12T18:51:16.351Z"
   },
   {
    "duration": -2053,
    "start_time": "2022-01-12T18:51:16.354Z"
   },
   {
    "duration": -2055,
    "start_time": "2022-01-12T18:51:16.357Z"
   },
   {
    "duration": -2165,
    "start_time": "2022-01-12T18:51:16.469Z"
   },
   {
    "duration": -2156,
    "start_time": "2022-01-12T18:51:16.473Z"
   },
   {
    "duration": -3256,
    "start_time": "2022-01-12T18:51:17.574Z"
   },
   {
    "duration": 890,
    "start_time": "2022-01-12T18:51:23.478Z"
   },
   {
    "duration": 27,
    "start_time": "2022-01-12T18:51:26.007Z"
   },
   {
    "duration": 24,
    "start_time": "2022-01-12T18:51:34.269Z"
   },
   {
    "duration": 16,
    "start_time": "2022-01-12T18:51:35.190Z"
   },
   {
    "duration": 13,
    "start_time": "2022-01-12T18:51:38.448Z"
   },
   {
    "duration": 7,
    "start_time": "2022-01-12T18:51:39.180Z"
   },
   {
    "duration": 12,
    "start_time": "2022-01-12T18:52:05.423Z"
   },
   {
    "duration": 5,
    "start_time": "2022-01-12T18:52:14.861Z"
   },
   {
    "duration": 106,
    "start_time": "2022-01-12T18:52:21.368Z"
   },
   {
    "duration": 111,
    "start_time": "2022-01-12T18:52:22.822Z"
   },
   {
    "duration": 104,
    "start_time": "2022-01-12T18:52:24.148Z"
   },
   {
    "duration": 110,
    "start_time": "2022-01-12T18:52:26.908Z"
   },
   {
    "duration": 25649,
    "start_time": "2022-01-12T18:52:29.069Z"
   },
   {
    "duration": 102,
    "start_time": "2022-01-12T18:53:40.028Z"
   },
   {
    "duration": 669,
    "start_time": "2022-01-12T18:55:34.308Z"
   },
   {
    "duration": 590,
    "start_time": "2022-01-12T18:57:32.382Z"
   },
   {
    "duration": 324,
    "start_time": "2022-01-12T18:58:21.020Z"
   },
   {
    "duration": 96,
    "start_time": "2022-01-12T19:03:02.568Z"
   },
   {
    "duration": 95,
    "start_time": "2022-01-12T19:05:31.388Z"
   },
   {
    "duration": 88,
    "start_time": "2022-01-12T19:05:56.093Z"
   },
   {
    "duration": 82,
    "start_time": "2022-01-12T19:06:15.128Z"
   },
   {
    "duration": 98,
    "start_time": "2022-01-12T19:06:25.080Z"
   },
   {
    "duration": 581,
    "start_time": "2022-01-12T19:06:36.067Z"
   },
   {
    "duration": 461,
    "start_time": "2022-01-12T19:06:48.268Z"
   },
   {
    "duration": 491,
    "start_time": "2022-01-12T19:06:59.288Z"
   },
   {
    "duration": 77,
    "start_time": "2022-01-12T19:07:15.708Z"
   },
   {
    "duration": 455,
    "start_time": "2022-01-12T19:07:27.489Z"
   },
   {
    "duration": 584,
    "start_time": "2022-01-12T19:07:32.408Z"
   },
   {
    "duration": 2177,
    "start_time": "2022-01-12T19:07:46.337Z"
   },
   {
    "duration": 1882,
    "start_time": "2022-01-12T19:08:01.528Z"
   },
   {
    "duration": 98,
    "start_time": "2022-01-12T19:08:30.229Z"
   },
   {
    "duration": 1826,
    "start_time": "2022-01-12T19:09:00.668Z"
   },
   {
    "duration": 264,
    "start_time": "2022-01-12T19:09:06.748Z"
   },
   {
    "duration": 6,
    "start_time": "2022-01-12T19:09:20.500Z"
   },
   {
    "duration": 1810,
    "start_time": "2022-01-12T19:09:36.828Z"
   },
   {
    "duration": 1719,
    "start_time": "2022-01-12T19:09:57.814Z"
   },
   {
    "duration": 13,
    "start_time": "2022-01-12T19:10:07.014Z"
   },
   {
    "duration": 12,
    "start_time": "2022-01-12T19:10:17.125Z"
   },
   {
    "duration": 11,
    "start_time": "2022-01-12T19:10:34.609Z"
   },
   {
    "duration": 111,
    "start_time": "2022-01-12T19:11:00.608Z"
   },
   {
    "duration": 12,
    "start_time": "2022-01-12T19:15:05.426Z"
   },
   {
    "duration": 18,
    "start_time": "2022-01-12T19:15:06.179Z"
   },
   {
    "duration": 11,
    "start_time": "2022-01-12T19:15:19.810Z"
   },
   {
    "duration": 13,
    "start_time": "2022-01-12T19:15:20.213Z"
   },
   {
    "duration": 26,
    "start_time": "2022-01-12T19:15:21.068Z"
   },
   {
    "duration": 3232,
    "start_time": "2022-01-12T19:15:21.766Z"
   },
   {
    "duration": 1479,
    "start_time": "2022-01-12T19:15:30.583Z"
   },
   {
    "duration": 187,
    "start_time": "2022-01-12T19:15:32.065Z"
   },
   {
    "duration": 55,
    "start_time": "2022-01-12T19:15:32.255Z"
   },
   {
    "duration": 173,
    "start_time": "2022-01-12T19:15:32.313Z"
   },
   {
    "duration": 1006,
    "start_time": "2022-01-12T19:15:32.489Z"
   },
   {
    "duration": 398,
    "start_time": "2022-01-12T19:15:33.498Z"
   },
   {
    "duration": 27,
    "start_time": "2022-01-12T19:15:33.898Z"
   },
   {
    "duration": 8,
    "start_time": "2022-01-12T19:15:33.929Z"
   },
   {
    "duration": 14,
    "start_time": "2022-01-12T19:15:33.943Z"
   },
   {
    "duration": 83,
    "start_time": "2022-01-12T19:15:33.960Z"
   },
   {
    "duration": 37,
    "start_time": "2022-01-12T19:15:34.045Z"
   },
   {
    "duration": 135,
    "start_time": "2022-01-12T19:15:34.084Z"
   },
   {
    "duration": 18,
    "start_time": "2022-01-12T19:15:34.221Z"
   },
   {
    "duration": 9,
    "start_time": "2022-01-12T19:15:34.242Z"
   },
   {
    "duration": 12,
    "start_time": "2022-01-12T19:15:34.254Z"
   },
   {
    "duration": 53,
    "start_time": "2022-01-12T19:15:34.269Z"
   },
   {
    "duration": 27,
    "start_time": "2022-01-12T19:15:34.325Z"
   },
   {
    "duration": 14,
    "start_time": "2022-01-12T19:15:34.354Z"
   },
   {
    "duration": 53,
    "start_time": "2022-01-12T19:15:34.371Z"
   },
   {
    "duration": 7,
    "start_time": "2022-01-12T19:15:34.427Z"
   },
   {
    "duration": 964,
    "start_time": "2022-01-12T19:15:34.437Z"
   },
   {
    "duration": 35,
    "start_time": "2022-01-12T19:15:35.404Z"
   },
   {
    "duration": 23,
    "start_time": "2022-01-12T19:15:35.442Z"
   },
   {
    "duration": 16,
    "start_time": "2022-01-12T19:15:35.467Z"
   },
   {
    "duration": 12,
    "start_time": "2022-01-12T19:15:35.518Z"
   },
   {
    "duration": 5,
    "start_time": "2022-01-12T19:15:35.533Z"
   },
   {
    "duration": 137,
    "start_time": "2022-01-12T19:15:35.544Z"
   },
   {
    "duration": 113,
    "start_time": "2022-01-12T19:15:35.684Z"
   },
   {
    "duration": 124,
    "start_time": "2022-01-12T19:15:35.800Z"
   },
   {
    "duration": 121,
    "start_time": "2022-01-12T19:15:35.927Z"
   },
   {
    "duration": 1671,
    "start_time": "2022-01-12T19:16:07.289Z"
   },
   {
    "duration": 173,
    "start_time": "2022-01-12T19:16:08.963Z"
   },
   {
    "duration": 54,
    "start_time": "2022-01-12T19:16:09.140Z"
   },
   {
    "duration": 170,
    "start_time": "2022-01-12T19:16:09.197Z"
   },
   {
    "duration": 1008,
    "start_time": "2022-01-12T19:16:09.370Z"
   },
   {
    "duration": 395,
    "start_time": "2022-01-12T19:16:10.381Z"
   },
   {
    "duration": 37,
    "start_time": "2022-01-12T19:16:10.779Z"
   },
   {
    "duration": 6,
    "start_time": "2022-01-12T19:16:10.819Z"
   },
   {
    "duration": 7,
    "start_time": "2022-01-12T19:16:10.830Z"
   },
   {
    "duration": 85,
    "start_time": "2022-01-12T19:16:10.840Z"
   },
   {
    "duration": 39,
    "start_time": "2022-01-12T19:16:10.928Z"
   },
   {
    "duration": 148,
    "start_time": "2022-01-12T19:16:10.969Z"
   },
   {
    "duration": 21,
    "start_time": "2022-01-12T19:16:11.119Z"
   },
   {
    "duration": 14,
    "start_time": "2022-01-12T19:16:11.143Z"
   },
   {
    "duration": 11,
    "start_time": "2022-01-12T19:16:11.160Z"
   },
   {
    "duration": 10,
    "start_time": "2022-01-12T19:16:11.217Z"
   },
   {
    "duration": 24,
    "start_time": "2022-01-12T19:16:11.229Z"
   },
   {
    "duration": 12,
    "start_time": "2022-01-12T19:16:11.255Z"
   },
   {
    "duration": 52,
    "start_time": "2022-01-12T19:16:11.269Z"
   },
   {
    "duration": 5,
    "start_time": "2022-01-12T19:16:11.323Z"
   },
   {
    "duration": 1705,
    "start_time": "2022-01-12T19:16:11.331Z"
   },
   {
    "duration": 45,
    "start_time": "2022-01-12T19:16:13.039Z"
   },
   {
    "duration": 59,
    "start_time": "2022-01-12T19:16:13.088Z"
   },
   {
    "duration": 26,
    "start_time": "2022-01-12T19:16:13.151Z"
   },
   {
    "duration": 45,
    "start_time": "2022-01-12T19:16:13.181Z"
   },
   {
    "duration": 8,
    "start_time": "2022-01-12T19:16:13.229Z"
   },
   {
    "duration": 213,
    "start_time": "2022-01-12T19:16:13.247Z"
   },
   {
    "duration": 202,
    "start_time": "2022-01-12T19:16:13.464Z"
   },
   {
    "duration": 206,
    "start_time": "2022-01-12T19:16:13.669Z"
   },
   {
    "duration": 204,
    "start_time": "2022-01-12T19:16:13.879Z"
   },
   {
    "duration": 26189,
    "start_time": "2022-01-12T19:16:14.086Z"
   },
   {
    "duration": 10,
    "start_time": "2022-01-12T19:16:40.279Z"
   },
   {
    "duration": 38,
    "start_time": "2022-01-12T19:16:40.292Z"
   },
   {
    "duration": 24,
    "start_time": "2022-01-12T19:16:40.332Z"
   },
   {
    "duration": 3948,
    "start_time": "2022-01-12T19:16:40.358Z"
   },
   {
    "duration": 16,
    "start_time": "2022-01-12T19:16:44.308Z"
   },
   {
    "duration": 3,
    "start_time": "2022-01-12T19:16:44.327Z"
   },
   {
    "duration": 6,
    "start_time": "2022-01-12T19:16:44.332Z"
   },
   {
    "duration": 8,
    "start_time": "2022-01-12T19:16:44.341Z"
   },
   {
    "duration": 67,
    "start_time": "2022-01-12T19:16:44.351Z"
   },
   {
    "duration": 13,
    "start_time": "2022-01-12T19:16:44.421Z"
   },
   {
    "duration": 13,
    "start_time": "2022-01-12T19:16:44.437Z"
   },
   {
    "duration": 6,
    "start_time": "2022-01-12T19:16:44.453Z"
   },
   {
    "duration": 4759,
    "start_time": "2022-01-12T19:16:44.461Z"
   },
   {
    "duration": 14189,
    "start_time": "2022-01-12T19:16:49.222Z"
   },
   {
    "duration": 70924,
    "start_time": "2022-01-12T19:17:03.413Z"
   },
   {
    "duration": -1498,
    "start_time": "2022-01-12T19:18:15.838Z"
   },
   {
    "duration": -1500,
    "start_time": "2022-01-12T19:18:15.842Z"
   },
   {
    "duration": -1504,
    "start_time": "2022-01-12T19:18:15.847Z"
   },
   {
    "duration": 1475,
    "start_time": "2022-01-12T19:18:20.586Z"
   },
   {
    "duration": 196,
    "start_time": "2022-01-12T19:18:22.063Z"
   },
   {
    "duration": 56,
    "start_time": "2022-01-12T19:18:22.263Z"
   },
   {
    "duration": 170,
    "start_time": "2022-01-12T19:18:22.322Z"
   },
   {
    "duration": 1017,
    "start_time": "2022-01-12T19:18:22.494Z"
   },
   {
    "duration": 389,
    "start_time": "2022-01-12T19:18:23.513Z"
   },
   {
    "duration": 25,
    "start_time": "2022-01-12T19:18:23.905Z"
   },
   {
    "duration": 7,
    "start_time": "2022-01-12T19:18:23.933Z"
   },
   {
    "duration": 6,
    "start_time": "2022-01-12T19:18:23.944Z"
   },
   {
    "duration": 77,
    "start_time": "2022-01-12T19:18:23.954Z"
   },
   {
    "duration": 36,
    "start_time": "2022-01-12T19:18:24.033Z"
   },
   {
    "duration": 134,
    "start_time": "2022-01-12T19:18:24.072Z"
   },
   {
    "duration": 17,
    "start_time": "2022-01-12T19:18:24.209Z"
   },
   {
    "duration": 11,
    "start_time": "2022-01-12T19:18:24.229Z"
   },
   {
    "duration": 9,
    "start_time": "2022-01-12T19:18:24.242Z"
   },
   {
    "duration": 14,
    "start_time": "2022-01-12T19:18:24.253Z"
   },
   {
    "duration": 72,
    "start_time": "2022-01-12T19:18:24.269Z"
   },
   {
    "duration": 12,
    "start_time": "2022-01-12T19:18:24.343Z"
   },
   {
    "duration": 14,
    "start_time": "2022-01-12T19:18:24.357Z"
   },
   {
    "duration": 6,
    "start_time": "2022-01-12T19:18:24.373Z"
   },
   {
    "duration": 981,
    "start_time": "2022-01-12T19:18:24.381Z"
   },
   {
    "duration": 31,
    "start_time": "2022-01-12T19:18:25.365Z"
   },
   {
    "duration": 41,
    "start_time": "2022-01-12T19:18:25.399Z"
   },
   {
    "duration": 16,
    "start_time": "2022-01-12T19:18:25.443Z"
   },
   {
    "duration": 12,
    "start_time": "2022-01-12T19:18:25.461Z"
   },
   {
    "duration": 45,
    "start_time": "2022-01-12T19:18:25.475Z"
   },
   {
    "duration": 124,
    "start_time": "2022-01-12T19:18:25.526Z"
   },
   {
    "duration": 117,
    "start_time": "2022-01-12T19:18:25.653Z"
   },
   {
    "duration": 120,
    "start_time": "2022-01-12T19:18:25.772Z"
   },
   {
    "duration": 110,
    "start_time": "2022-01-12T19:18:25.894Z"
   },
   {
    "duration": 25987,
    "start_time": "2022-01-12T19:18:26.007Z"
   },
   {
    "duration": 21,
    "start_time": "2022-01-12T19:18:51.997Z"
   },
   {
    "duration": 18,
    "start_time": "2022-01-12T19:18:52.021Z"
   },
   {
    "duration": 25,
    "start_time": "2022-01-12T19:18:52.042Z"
   },
   {
    "duration": 3991,
    "start_time": "2022-01-12T19:18:52.070Z"
   },
   {
    "duration": 10,
    "start_time": "2022-01-12T19:18:56.064Z"
   },
   {
    "duration": 11,
    "start_time": "2022-01-12T19:18:56.077Z"
   },
   {
    "duration": 27,
    "start_time": "2022-01-12T19:18:56.090Z"
   },
   {
    "duration": 5,
    "start_time": "2022-01-12T19:18:56.120Z"
   },
   {
    "duration": 13,
    "start_time": "2022-01-12T19:18:56.127Z"
   },
   {
    "duration": 15,
    "start_time": "2022-01-12T19:18:56.142Z"
   },
   {
    "duration": 16,
    "start_time": "2022-01-12T19:18:56.159Z"
   },
   {
    "duration": 5,
    "start_time": "2022-01-12T19:18:56.178Z"
   },
   {
    "duration": 2831,
    "start_time": "2022-01-12T19:18:56.186Z"
   },
   {
    "duration": 3466,
    "start_time": "2022-01-12T19:18:59.020Z"
   },
   {
    "duration": 72853,
    "start_time": "2022-01-12T19:19:02.488Z"
   },
   {
    "duration": 4,
    "start_time": "2022-01-12T19:20:15.343Z"
   },
   {
    "duration": 6,
    "start_time": "2022-01-12T19:20:15.350Z"
   },
   {
    "duration": 8,
    "start_time": "2022-01-12T19:20:15.358Z"
   },
   {
    "duration": 10,
    "start_time": "2022-01-12T19:22:02.289Z"
   },
   {
    "duration": 69,
    "start_time": "2022-01-12T19:22:09.376Z"
   },
   {
    "duration": 1811,
    "start_time": "2022-01-12T19:22:59.849Z"
   },
   {
    "duration": 254,
    "start_time": "2022-01-12T19:23:16.938Z"
   },
   {
    "duration": 1998,
    "start_time": "2022-01-12T19:24:38.495Z"
   },
   {
    "duration": 195,
    "start_time": "2022-01-12T19:24:40.496Z"
   },
   {
    "duration": 53,
    "start_time": "2022-01-12T19:24:40.696Z"
   },
   {
    "duration": 144,
    "start_time": "2022-01-12T19:24:40.752Z"
   },
   {
    "duration": 1013,
    "start_time": "2022-01-12T19:24:40.898Z"
   },
   {
    "duration": 397,
    "start_time": "2022-01-12T19:24:41.913Z"
   },
   {
    "duration": 19,
    "start_time": "2022-01-12T19:24:42.316Z"
   },
   {
    "duration": 7,
    "start_time": "2022-01-12T19:24:42.338Z"
   },
   {
    "duration": 7,
    "start_time": "2022-01-12T19:24:42.351Z"
   },
   {
    "duration": 86,
    "start_time": "2022-01-12T19:24:42.362Z"
   },
   {
    "duration": 39,
    "start_time": "2022-01-12T19:24:42.451Z"
   },
   {
    "duration": 142,
    "start_time": "2022-01-12T19:24:42.492Z"
   },
   {
    "duration": 18,
    "start_time": "2022-01-12T19:24:42.637Z"
   },
   {
    "duration": 11,
    "start_time": "2022-01-12T19:24:42.657Z"
   },
   {
    "duration": 46,
    "start_time": "2022-01-12T19:24:42.671Z"
   },
   {
    "duration": 15,
    "start_time": "2022-01-12T19:24:42.719Z"
   },
   {
    "duration": 25,
    "start_time": "2022-01-12T19:24:42.736Z"
   },
   {
    "duration": 14,
    "start_time": "2022-01-12T19:24:42.764Z"
   },
   {
    "duration": 51,
    "start_time": "2022-01-12T19:24:42.781Z"
   },
   {
    "duration": 6,
    "start_time": "2022-01-12T19:24:42.835Z"
   },
   {
    "duration": 941,
    "start_time": "2022-01-12T19:24:42.844Z"
   },
   {
    "duration": 46,
    "start_time": "2022-01-12T19:24:43.788Z"
   },
   {
    "duration": 22,
    "start_time": "2022-01-12T19:24:43.836Z"
   },
   {
    "duration": 15,
    "start_time": "2022-01-12T19:24:43.861Z"
   },
   {
    "duration": 39,
    "start_time": "2022-01-12T19:24:43.878Z"
   },
   {
    "duration": 6,
    "start_time": "2022-01-12T19:24:43.919Z"
   },
   {
    "duration": 133,
    "start_time": "2022-01-12T19:24:43.930Z"
   },
   {
    "duration": 113,
    "start_time": "2022-01-12T19:24:44.066Z"
   },
   {
    "duration": 117,
    "start_time": "2022-01-12T19:24:44.181Z"
   },
   {
    "duration": 118,
    "start_time": "2022-01-12T19:24:44.301Z"
   },
   {
    "duration": 27871,
    "start_time": "2022-01-12T19:24:44.421Z"
   },
   {
    "duration": 27,
    "start_time": "2022-01-12T19:25:12.295Z"
   },
   {
    "duration": 24,
    "start_time": "2022-01-12T19:25:12.325Z"
   },
   {
    "duration": 24,
    "start_time": "2022-01-12T19:25:12.352Z"
   },
   {
    "duration": 3954,
    "start_time": "2022-01-12T19:25:12.378Z"
   },
   {
    "duration": 10,
    "start_time": "2022-01-12T19:25:16.334Z"
   },
   {
    "duration": 7,
    "start_time": "2022-01-12T19:25:16.347Z"
   },
   {
    "duration": 5,
    "start_time": "2022-01-12T19:25:16.357Z"
   },
   {
    "duration": 6,
    "start_time": "2022-01-12T19:25:16.364Z"
   },
   {
    "duration": 55,
    "start_time": "2022-01-12T19:25:16.373Z"
   },
   {
    "duration": 13,
    "start_time": "2022-01-12T19:25:16.431Z"
   },
   {
    "duration": 11,
    "start_time": "2022-01-12T19:25:16.447Z"
   },
   {
    "duration": 10,
    "start_time": "2022-01-12T19:25:16.461Z"
   },
   {
    "duration": 2828,
    "start_time": "2022-01-12T19:25:16.474Z"
   },
   {
    "duration": 3534,
    "start_time": "2022-01-12T19:25:19.305Z"
   },
   {
    "duration": 9011,
    "start_time": "2022-01-12T19:25:22.842Z"
   },
   {
    "duration": -1136,
    "start_time": "2022-01-12T19:25:32.993Z"
   },
   {
    "duration": -1138,
    "start_time": "2022-01-12T19:25:32.997Z"
   },
   {
    "duration": -1140,
    "start_time": "2022-01-12T19:25:33.001Z"
   },
   {
    "duration": -1141,
    "start_time": "2022-01-12T19:25:33.004Z"
   },
   {
    "duration": 1587,
    "start_time": "2022-01-12T19:25:37.680Z"
   },
   {
    "duration": 186,
    "start_time": "2022-01-12T19:25:39.269Z"
   },
   {
    "duration": 55,
    "start_time": "2022-01-12T19:25:39.458Z"
   },
   {
    "duration": 201,
    "start_time": "2022-01-12T19:25:39.516Z"
   },
   {
    "duration": 976,
    "start_time": "2022-01-12T19:25:39.720Z"
   },
   {
    "duration": 393,
    "start_time": "2022-01-12T19:25:40.698Z"
   },
   {
    "duration": 35,
    "start_time": "2022-01-12T19:25:41.093Z"
   },
   {
    "duration": 6,
    "start_time": "2022-01-12T19:25:41.131Z"
   },
   {
    "duration": 8,
    "start_time": "2022-01-12T19:25:41.143Z"
   },
   {
    "duration": 78,
    "start_time": "2022-01-12T19:25:41.155Z"
   },
   {
    "duration": 36,
    "start_time": "2022-01-12T19:25:41.235Z"
   },
   {
    "duration": 138,
    "start_time": "2022-01-12T19:25:41.273Z"
   },
   {
    "duration": 18,
    "start_time": "2022-01-12T19:25:41.413Z"
   },
   {
    "duration": 11,
    "start_time": "2022-01-12T19:25:41.433Z"
   },
   {
    "duration": 11,
    "start_time": "2022-01-12T19:25:41.447Z"
   },
   {
    "duration": 57,
    "start_time": "2022-01-12T19:25:41.461Z"
   },
   {
    "duration": 24,
    "start_time": "2022-01-12T19:25:41.521Z"
   },
   {
    "duration": 12,
    "start_time": "2022-01-12T19:25:41.547Z"
   },
   {
    "duration": 16,
    "start_time": "2022-01-12T19:25:41.561Z"
   },
   {
    "duration": 38,
    "start_time": "2022-01-12T19:25:41.579Z"
   },
   {
    "duration": 1018,
    "start_time": "2022-01-12T19:25:41.620Z"
   },
   {
    "duration": 31,
    "start_time": "2022-01-12T19:25:42.640Z"
   },
   {
    "duration": 45,
    "start_time": "2022-01-12T19:25:42.673Z"
   },
   {
    "duration": 17,
    "start_time": "2022-01-12T19:25:42.720Z"
   },
   {
    "duration": 15,
    "start_time": "2022-01-12T19:25:42.739Z"
   },
   {
    "duration": 7,
    "start_time": "2022-01-12T19:25:42.758Z"
   },
   {
    "duration": 246,
    "start_time": "2022-01-12T19:25:42.773Z"
   },
   {
    "duration": 124,
    "start_time": "2022-01-12T19:25:43.022Z"
   },
   {
    "duration": 125,
    "start_time": "2022-01-12T19:25:43.149Z"
   },
   {
    "duration": 113,
    "start_time": "2022-01-12T19:25:43.277Z"
   },
   {
    "duration": 31350,
    "start_time": "2022-01-12T19:25:43.393Z"
   },
   {
    "duration": 13,
    "start_time": "2022-01-12T19:26:14.746Z"
   },
   {
    "duration": 55,
    "start_time": "2022-01-12T19:26:14.762Z"
   },
   {
    "duration": 37,
    "start_time": "2022-01-12T19:26:14.820Z"
   },
   {
    "duration": 4211,
    "start_time": "2022-01-12T19:26:14.860Z"
   },
   {
    "duration": 11,
    "start_time": "2022-01-12T19:26:19.073Z"
   },
   {
    "duration": 10,
    "start_time": "2022-01-12T19:26:19.087Z"
   },
   {
    "duration": 6,
    "start_time": "2022-01-12T19:26:19.101Z"
   },
   {
    "duration": 7,
    "start_time": "2022-01-12T19:26:19.118Z"
   },
   {
    "duration": 19,
    "start_time": "2022-01-12T19:26:19.128Z"
   },
   {
    "duration": 21,
    "start_time": "2022-01-12T19:26:19.150Z"
   },
   {
    "duration": 12,
    "start_time": "2022-01-12T19:26:19.174Z"
   },
   {
    "duration": 8,
    "start_time": "2022-01-12T19:26:19.189Z"
   },
   {
    "duration": 3424,
    "start_time": "2022-01-12T19:26:19.202Z"
   },
   {
    "duration": 4139,
    "start_time": "2022-01-12T19:26:22.629Z"
   },
   {
    "duration": 56998,
    "start_time": "2022-01-12T19:26:26.771Z"
   },
   {
    "duration": -1378,
    "start_time": "2022-01-12T19:27:25.150Z"
   },
   {
    "duration": -1380,
    "start_time": "2022-01-12T19:27:25.153Z"
   },
   {
    "duration": -1383,
    "start_time": "2022-01-12T19:27:25.158Z"
   },
   {
    "duration": 5,
    "start_time": "2022-01-12T19:27:27.024Z"
   },
   {
    "duration": 5,
    "start_time": "2022-01-12T19:27:27.996Z"
   },
   {
    "duration": 1488,
    "start_time": "2022-01-12T19:28:30.373Z"
   },
   {
    "duration": 182,
    "start_time": "2022-01-12T19:28:31.864Z"
   },
   {
    "duration": 52,
    "start_time": "2022-01-12T19:28:32.049Z"
   },
   {
    "duration": 158,
    "start_time": "2022-01-12T19:28:32.104Z"
   },
   {
    "duration": 1007,
    "start_time": "2022-01-12T19:28:32.264Z"
   },
   {
    "duration": 395,
    "start_time": "2022-01-12T19:28:33.274Z"
   },
   {
    "duration": 17,
    "start_time": "2022-01-12T19:28:33.672Z"
   },
   {
    "duration": 25,
    "start_time": "2022-01-12T19:28:33.692Z"
   },
   {
    "duration": 7,
    "start_time": "2022-01-12T19:28:33.721Z"
   },
   {
    "duration": 45,
    "start_time": "2022-01-12T19:28:33.731Z"
   },
   {
    "duration": 68,
    "start_time": "2022-01-12T19:28:33.778Z"
   },
   {
    "duration": 126,
    "start_time": "2022-01-12T19:28:33.849Z"
   },
   {
    "duration": 17,
    "start_time": "2022-01-12T19:28:33.978Z"
   },
   {
    "duration": 27,
    "start_time": "2022-01-12T19:28:33.997Z"
   },
   {
    "duration": 11,
    "start_time": "2022-01-12T19:28:34.027Z"
   },
   {
    "duration": 13,
    "start_time": "2022-01-12T19:28:34.041Z"
   },
   {
    "duration": 70,
    "start_time": "2022-01-12T19:28:34.056Z"
   },
   {
    "duration": 11,
    "start_time": "2022-01-12T19:28:34.128Z"
   },
   {
    "duration": 13,
    "start_time": "2022-01-12T19:28:34.141Z"
   },
   {
    "duration": 5,
    "start_time": "2022-01-12T19:28:34.157Z"
   },
   {
    "duration": 1039,
    "start_time": "2022-01-12T19:28:34.164Z"
   },
   {
    "duration": 36,
    "start_time": "2022-01-12T19:28:35.205Z"
   },
   {
    "duration": 23,
    "start_time": "2022-01-12T19:28:35.243Z"
   },
   {
    "duration": 16,
    "start_time": "2022-01-12T19:28:35.269Z"
   },
   {
    "duration": 15,
    "start_time": "2022-01-12T19:28:35.318Z"
   },
   {
    "duration": 7,
    "start_time": "2022-01-12T19:28:35.336Z"
   },
   {
    "duration": 146,
    "start_time": "2022-01-12T19:28:35.350Z"
   },
   {
    "duration": 118,
    "start_time": "2022-01-12T19:28:35.499Z"
   },
   {
    "duration": 112,
    "start_time": "2022-01-12T19:28:35.619Z"
   },
   {
    "duration": 116,
    "start_time": "2022-01-12T19:28:35.734Z"
   },
   {
    "duration": 26227,
    "start_time": "2022-01-12T19:28:35.853Z"
   },
   {
    "duration": 88,
    "start_time": "2022-01-12T19:29:02.082Z"
   },
   {
    "duration": -4629,
    "start_time": "2022-01-12T19:29:06.802Z"
   },
   {
    "duration": -4700,
    "start_time": "2022-01-12T19:29:06.875Z"
   },
   {
    "duration": -4702,
    "start_time": "2022-01-12T19:29:06.878Z"
   },
   {
    "duration": -4816,
    "start_time": "2022-01-12T19:29:06.993Z"
   },
   {
    "duration": -4820,
    "start_time": "2022-01-12T19:29:06.999Z"
   },
   {
    "duration": -4901,
    "start_time": "2022-01-12T19:29:07.081Z"
   },
   {
    "duration": -4902,
    "start_time": "2022-01-12T19:29:07.084Z"
   },
   {
    "duration": -4976,
    "start_time": "2022-01-12T19:29:07.159Z"
   },
   {
    "duration": -4978,
    "start_time": "2022-01-12T19:29:07.163Z"
   },
   {
    "duration": -4979,
    "start_time": "2022-01-12T19:29:07.166Z"
   },
   {
    "duration": -4981,
    "start_time": "2022-01-12T19:29:07.169Z"
   },
   {
    "duration": -5120,
    "start_time": "2022-01-12T19:29:07.310Z"
   },
   {
    "duration": -5122,
    "start_time": "2022-01-12T19:29:07.313Z"
   },
   {
    "duration": -5125,
    "start_time": "2022-01-12T19:29:07.317Z"
   },
   {
    "duration": -5154,
    "start_time": "2022-01-12T19:29:07.348Z"
   },
   {
    "duration": -5157,
    "start_time": "2022-01-12T19:29:07.352Z"
   },
   {
    "duration": -5235,
    "start_time": "2022-01-12T19:29:07.431Z"
   },
   {
    "duration": 12,
    "start_time": "2022-01-12T19:29:23.915Z"
   },
   {
    "duration": 21,
    "start_time": "2022-01-12T19:29:39.583Z"
   },
   {
    "duration": 1532,
    "start_time": "2022-01-12T19:30:09.725Z"
   },
   {
    "duration": 177,
    "start_time": "2022-01-12T19:30:11.259Z"
   },
   {
    "duration": 53,
    "start_time": "2022-01-12T19:30:11.440Z"
   },
   {
    "duration": 144,
    "start_time": "2022-01-12T19:30:11.496Z"
   },
   {
    "duration": 1003,
    "start_time": "2022-01-12T19:30:11.643Z"
   },
   {
    "duration": 388,
    "start_time": "2022-01-12T19:30:12.649Z"
   },
   {
    "duration": 17,
    "start_time": "2022-01-12T19:30:13.040Z"
   },
   {
    "duration": 6,
    "start_time": "2022-01-12T19:30:13.061Z"
   },
   {
    "duration": 7,
    "start_time": "2022-01-12T19:30:13.072Z"
   },
   {
    "duration": 79,
    "start_time": "2022-01-12T19:30:13.081Z"
   },
   {
    "duration": 55,
    "start_time": "2022-01-12T19:30:13.162Z"
   },
   {
    "duration": 130,
    "start_time": "2022-01-12T19:30:13.220Z"
   },
   {
    "duration": 21,
    "start_time": "2022-01-12T19:30:13.353Z"
   },
   {
    "duration": 40,
    "start_time": "2022-01-12T19:30:13.377Z"
   },
   {
    "duration": 11,
    "start_time": "2022-01-12T19:30:13.420Z"
   },
   {
    "duration": 22,
    "start_time": "2022-01-12T19:30:13.434Z"
   },
   {
    "duration": 28,
    "start_time": "2022-01-12T19:30:13.459Z"
   },
   {
    "duration": 31,
    "start_time": "2022-01-12T19:30:13.490Z"
   },
   {
    "duration": 15,
    "start_time": "2022-01-12T19:30:13.524Z"
   },
   {
    "duration": 6,
    "start_time": "2022-01-12T19:30:13.541Z"
   },
   {
    "duration": 973,
    "start_time": "2022-01-12T19:30:13.550Z"
   },
   {
    "duration": 28,
    "start_time": "2022-01-12T19:30:14.526Z"
   },
   {
    "duration": 23,
    "start_time": "2022-01-12T19:30:14.559Z"
   },
   {
    "duration": 46,
    "start_time": "2022-01-12T19:30:14.585Z"
   },
   {
    "duration": 13,
    "start_time": "2022-01-12T19:30:14.634Z"
   },
   {
    "duration": 6,
    "start_time": "2022-01-12T19:30:14.649Z"
   },
   {
    "duration": 144,
    "start_time": "2022-01-12T19:30:14.657Z"
   },
   {
    "duration": 119,
    "start_time": "2022-01-12T19:30:14.803Z"
   },
   {
    "duration": 122,
    "start_time": "2022-01-12T19:30:14.924Z"
   },
   {
    "duration": 125,
    "start_time": "2022-01-12T19:30:15.049Z"
   },
   {
    "duration": 26123,
    "start_time": "2022-01-12T19:30:15.177Z"
   },
   {
    "duration": 100,
    "start_time": "2022-01-12T19:30:41.303Z"
   },
   {
    "duration": -1553,
    "start_time": "2022-01-12T19:30:42.958Z"
   },
   {
    "duration": -1556,
    "start_time": "2022-01-12T19:30:42.962Z"
   },
   {
    "duration": -1557,
    "start_time": "2022-01-12T19:30:42.965Z"
   },
   {
    "duration": -1559,
    "start_time": "2022-01-12T19:30:42.968Z"
   },
   {
    "duration": -1562,
    "start_time": "2022-01-12T19:30:42.973Z"
   },
   {
    "duration": -1564,
    "start_time": "2022-01-12T19:30:42.976Z"
   },
   {
    "duration": -1567,
    "start_time": "2022-01-12T19:30:42.980Z"
   },
   {
    "duration": -1568,
    "start_time": "2022-01-12T19:30:42.983Z"
   },
   {
    "duration": -1571,
    "start_time": "2022-01-12T19:30:42.987Z"
   },
   {
    "duration": -1572,
    "start_time": "2022-01-12T19:30:42.990Z"
   },
   {
    "duration": -1574,
    "start_time": "2022-01-12T19:30:42.993Z"
   },
   {
    "duration": -1577,
    "start_time": "2022-01-12T19:30:42.997Z"
   },
   {
    "duration": -1578,
    "start_time": "2022-01-12T19:30:43.000Z"
   },
   {
    "duration": -1579,
    "start_time": "2022-01-12T19:30:43.003Z"
   },
   {
    "duration": -1582,
    "start_time": "2022-01-12T19:30:43.007Z"
   },
   {
    "duration": -1585,
    "start_time": "2022-01-12T19:30:43.012Z"
   },
   {
    "duration": -1591,
    "start_time": "2022-01-12T19:30:43.019Z"
   },
   {
    "duration": -1600,
    "start_time": "2022-01-12T19:30:43.029Z"
   },
   {
    "duration": 21,
    "start_time": "2022-01-12T19:30:47.189Z"
   },
   {
    "duration": 11,
    "start_time": "2022-01-12T19:31:43.021Z"
   },
   {
    "duration": 1530,
    "start_time": "2022-01-12T19:31:56.222Z"
   },
   {
    "duration": 183,
    "start_time": "2022-01-12T19:31:57.754Z"
   },
   {
    "duration": 51,
    "start_time": "2022-01-12T19:31:57.940Z"
   },
   {
    "duration": 173,
    "start_time": "2022-01-12T19:31:57.994Z"
   },
   {
    "duration": 991,
    "start_time": "2022-01-12T19:31:58.169Z"
   },
   {
    "duration": 390,
    "start_time": "2022-01-12T19:31:59.162Z"
   },
   {
    "duration": 17,
    "start_time": "2022-01-12T19:31:59.554Z"
   },
   {
    "duration": 6,
    "start_time": "2022-01-12T19:31:59.574Z"
   },
   {
    "duration": 35,
    "start_time": "2022-01-12T19:31:59.584Z"
   },
   {
    "duration": 43,
    "start_time": "2022-01-12T19:31:59.623Z"
   },
   {
    "duration": 57,
    "start_time": "2022-01-12T19:31:59.668Z"
   },
   {
    "duration": 121,
    "start_time": "2022-01-12T19:31:59.727Z"
   },
   {
    "duration": 17,
    "start_time": "2022-01-12T19:31:59.850Z"
   },
   {
    "duration": 9,
    "start_time": "2022-01-12T19:31:59.870Z"
   },
   {
    "duration": 37,
    "start_time": "2022-01-12T19:31:59.881Z"
   },
   {
    "duration": 10,
    "start_time": "2022-01-12T19:31:59.920Z"
   },
   {
    "duration": 23,
    "start_time": "2022-01-12T19:31:59.932Z"
   },
   {
    "duration": 11,
    "start_time": "2022-01-12T19:31:59.957Z"
   },
   {
    "duration": 55,
    "start_time": "2022-01-12T19:31:59.970Z"
   },
   {
    "duration": 5,
    "start_time": "2022-01-12T19:32:00.029Z"
   },
   {
    "duration": 927,
    "start_time": "2022-01-12T19:32:00.037Z"
   },
   {
    "duration": 28,
    "start_time": "2022-01-12T19:32:00.967Z"
   },
   {
    "duration": 38,
    "start_time": "2022-01-12T19:32:00.997Z"
   },
   {
    "duration": 15,
    "start_time": "2022-01-12T19:32:01.038Z"
   },
   {
    "duration": 12,
    "start_time": "2022-01-12T19:32:01.055Z"
   },
   {
    "duration": 47,
    "start_time": "2022-01-12T19:32:01.070Z"
   },
   {
    "duration": 117,
    "start_time": "2022-01-12T19:32:01.122Z"
   },
   {
    "duration": 122,
    "start_time": "2022-01-12T19:32:01.242Z"
   },
   {
    "duration": 119,
    "start_time": "2022-01-12T19:32:01.367Z"
   },
   {
    "duration": 114,
    "start_time": "2022-01-12T19:32:01.489Z"
   },
   {
    "duration": 26067,
    "start_time": "2022-01-12T19:32:01.606Z"
   },
   {
    "duration": 20,
    "start_time": "2022-01-12T19:32:27.676Z"
   },
   {
    "duration": 33,
    "start_time": "2022-01-12T19:32:27.698Z"
   },
   {
    "duration": 25,
    "start_time": "2022-01-12T19:32:27.733Z"
   },
   {
    "duration": 3681,
    "start_time": "2022-01-12T19:32:27.760Z"
   },
   {
    "duration": 11,
    "start_time": "2022-01-12T19:32:31.443Z"
   },
   {
    "duration": 9,
    "start_time": "2022-01-12T19:32:31.457Z"
   },
   {
    "duration": 6,
    "start_time": "2022-01-12T19:32:31.469Z"
   },
   {
    "duration": 9,
    "start_time": "2022-01-12T19:32:31.477Z"
   },
   {
    "duration": 12,
    "start_time": "2022-01-12T19:32:31.517Z"
   },
   {
    "duration": 31,
    "start_time": "2022-01-12T19:32:31.532Z"
   },
   {
    "duration": 18,
    "start_time": "2022-01-12T19:32:31.565Z"
   },
   {
    "duration": 15,
    "start_time": "2022-01-12T19:32:31.586Z"
   },
   {
    "duration": 2897,
    "start_time": "2022-01-12T19:32:31.603Z"
   },
   {
    "duration": 3419,
    "start_time": "2022-01-12T19:32:34.503Z"
   },
   {
    "duration": 1535,
    "start_time": "2022-01-12T19:33:18.826Z"
   },
   {
    "duration": 198,
    "start_time": "2022-01-12T19:33:20.364Z"
   },
   {
    "duration": 53,
    "start_time": "2022-01-12T19:33:20.566Z"
   },
   {
    "duration": 160,
    "start_time": "2022-01-12T19:33:21.501Z"
   },
   {
    "duration": 1096,
    "start_time": "2022-01-12T19:33:22.395Z"
   },
   {
    "duration": 397,
    "start_time": "2022-01-12T19:33:23.494Z"
   },
   {
    "duration": 31,
    "start_time": "2022-01-12T19:33:23.893Z"
   },
   {
    "duration": 6,
    "start_time": "2022-01-12T19:33:24.734Z"
   },
   {
    "duration": 6,
    "start_time": "2022-01-12T19:33:26.613Z"
   },
   {
    "duration": 42,
    "start_time": "2022-01-12T19:33:27.122Z"
   },
   {
    "duration": 38,
    "start_time": "2022-01-12T19:33:27.933Z"
   },
   {
    "duration": 115,
    "start_time": "2022-01-12T19:33:28.633Z"
   },
   {
    "duration": 18,
    "start_time": "2022-01-12T19:33:29.353Z"
   },
   {
    "duration": 11,
    "start_time": "2022-01-12T19:33:31.333Z"
   },
   {
    "duration": 9,
    "start_time": "2022-01-12T19:33:31.656Z"
   },
   {
    "duration": 11,
    "start_time": "2022-01-12T19:33:32.441Z"
   },
   {
    "duration": 25,
    "start_time": "2022-01-12T19:33:32.993Z"
   },
   {
    "duration": 11,
    "start_time": "2022-01-12T19:33:33.386Z"
   },
   {
    "duration": 16,
    "start_time": "2022-01-12T19:33:33.791Z"
   },
   {
    "duration": 6,
    "start_time": "2022-01-12T19:33:34.105Z"
   },
   {
    "duration": 923,
    "start_time": "2022-01-12T19:33:34.477Z"
   },
   {
    "duration": 32,
    "start_time": "2022-01-12T19:33:35.403Z"
   },
   {
    "duration": 26,
    "start_time": "2022-01-12T19:33:35.675Z"
   },
   {
    "duration": 16,
    "start_time": "2022-01-12T19:33:36.093Z"
   },
   {
    "duration": 12,
    "start_time": "2022-01-12T19:33:37.541Z"
   },
   {
    "duration": 7,
    "start_time": "2022-01-12T19:33:37.793Z"
   },
   {
    "duration": 110,
    "start_time": "2022-01-12T19:33:40.947Z"
   },
   {
    "duration": 114,
    "start_time": "2022-01-12T19:33:41.713Z"
   },
   {
    "duration": 105,
    "start_time": "2022-01-12T19:33:42.633Z"
   },
   {
    "duration": 112,
    "start_time": "2022-01-12T19:33:43.133Z"
   },
   {
    "duration": 27465,
    "start_time": "2022-01-12T19:33:47.921Z"
   },
   {
    "duration": 21,
    "start_time": "2022-01-12T19:34:21.593Z"
   },
   {
    "duration": 111,
    "start_time": "2022-01-12T19:34:49.743Z"
   },
   {
    "duration": 34,
    "start_time": "2022-01-12T19:35:24.041Z"
   },
   {
    "duration": 12,
    "start_time": "2022-01-12T19:35:34.201Z"
   },
   {
    "duration": 5,
    "start_time": "2022-01-12T19:35:48.022Z"
   },
   {
    "duration": 61,
    "start_time": "2022-01-12T19:35:55.213Z"
   },
   {
    "duration": 15,
    "start_time": "2022-01-12T19:36:12.081Z"
   },
   {
    "duration": 24,
    "start_time": "2022-01-12T19:36:15.762Z"
   },
   {
    "duration": 3776,
    "start_time": "2022-01-12T19:36:20.081Z"
   },
   {
    "duration": 10,
    "start_time": "2022-01-12T19:36:40.661Z"
   },
   {
    "duration": 7,
    "start_time": "2022-01-12T19:37:00.561Z"
   },
   {
    "duration": 5,
    "start_time": "2022-01-12T19:37:02.721Z"
   },
   {
    "duration": 5,
    "start_time": "2022-01-12T19:37:03.609Z"
   },
   {
    "duration": 13,
    "start_time": "2022-01-12T19:37:04.522Z"
   },
   {
    "duration": 9,
    "start_time": "2022-01-12T19:37:05.193Z"
   },
   {
    "duration": 8,
    "start_time": "2022-01-12T19:37:06.073Z"
   },
   {
    "duration": 3,
    "start_time": "2022-01-12T19:37:07.201Z"
   },
   {
    "duration": 2819,
    "start_time": "2022-01-12T19:37:08.181Z"
   },
   {
    "duration": 1587,
    "start_time": "2022-01-12T19:50:34.273Z"
   },
   {
    "duration": 195,
    "start_time": "2022-01-12T19:50:35.862Z"
   },
   {
    "duration": 52,
    "start_time": "2022-01-12T19:50:36.061Z"
   },
   {
    "duration": 179,
    "start_time": "2022-01-12T19:50:36.115Z"
   },
   {
    "duration": 993,
    "start_time": "2022-01-12T19:50:36.297Z"
   },
   {
    "duration": 395,
    "start_time": "2022-01-12T19:50:37.293Z"
   },
   {
    "duration": 35,
    "start_time": "2022-01-12T19:50:37.691Z"
   },
   {
    "duration": 7,
    "start_time": "2022-01-12T19:50:37.732Z"
   },
   {
    "duration": 8,
    "start_time": "2022-01-12T19:50:37.743Z"
   },
   {
    "duration": 107,
    "start_time": "2022-01-12T19:50:37.754Z"
   },
   {
    "duration": 24,
    "start_time": "2022-01-12T19:50:37.864Z"
   },
   {
    "duration": 33,
    "start_time": "2022-01-12T19:50:37.890Z"
   },
   {
    "duration": 11,
    "start_time": "2022-01-12T19:50:37.925Z"
   },
   {
    "duration": 13,
    "start_time": "2022-01-12T19:50:37.939Z"
   },
   {
    "duration": 11,
    "start_time": "2022-01-12T19:50:37.955Z"
   },
   {
    "duration": 59,
    "start_time": "2022-01-12T19:50:37.969Z"
   },
   {
    "duration": 17,
    "start_time": "2022-01-12T19:50:38.031Z"
   },
   {
    "duration": 12,
    "start_time": "2022-01-12T19:50:38.050Z"
   },
   {
    "duration": 8,
    "start_time": "2022-01-12T19:50:38.065Z"
   },
   {
    "duration": 46,
    "start_time": "2022-01-12T19:50:38.075Z"
   },
   {
    "duration": 7690,
    "start_time": "2022-01-12T19:50:38.123Z"
   },
   {
    "duration": -1026,
    "start_time": "2022-01-12T19:50:46.842Z"
   },
   {
    "duration": -1030,
    "start_time": "2022-01-12T19:50:46.848Z"
   },
   {
    "duration": -1207,
    "start_time": "2022-01-12T19:50:47.026Z"
   },
   {
    "duration": -1215,
    "start_time": "2022-01-12T19:50:47.036Z"
   },
   {
    "duration": -1217,
    "start_time": "2022-01-12T19:50:47.039Z"
   },
   {
    "duration": -1218,
    "start_time": "2022-01-12T19:50:47.042Z"
   },
   {
    "duration": -1221,
    "start_time": "2022-01-12T19:50:47.046Z"
   },
   {
    "duration": -1224,
    "start_time": "2022-01-12T19:50:47.051Z"
   },
   {
    "duration": -1227,
    "start_time": "2022-01-12T19:50:47.055Z"
   },
   {
    "duration": -1228,
    "start_time": "2022-01-12T19:50:47.058Z"
   },
   {
    "duration": -1233,
    "start_time": "2022-01-12T19:50:47.065Z"
   },
   {
    "duration": -1235,
    "start_time": "2022-01-12T19:50:47.069Z"
   },
   {
    "duration": -1238,
    "start_time": "2022-01-12T19:50:47.073Z"
   },
   {
    "duration": -1240,
    "start_time": "2022-01-12T19:50:47.077Z"
   },
   {
    "duration": -1244,
    "start_time": "2022-01-12T19:50:47.082Z"
   },
   {
    "duration": -1246,
    "start_time": "2022-01-12T19:50:47.085Z"
   },
   {
    "duration": -1248,
    "start_time": "2022-01-12T19:50:47.089Z"
   },
   {
    "duration": -1446,
    "start_time": "2022-01-12T19:50:47.288Z"
   },
   {
    "duration": -1448,
    "start_time": "2022-01-12T19:50:47.292Z"
   },
   {
    "duration": -1451,
    "start_time": "2022-01-12T19:50:47.296Z"
   },
   {
    "duration": -1455,
    "start_time": "2022-01-12T19:50:47.301Z"
   },
   {
    "duration": -1457,
    "start_time": "2022-01-12T19:50:47.305Z"
   },
   {
    "duration": -1460,
    "start_time": "2022-01-12T19:50:47.310Z"
   },
   {
    "duration": -1464,
    "start_time": "2022-01-12T19:50:47.316Z"
   },
   {
    "duration": -1466,
    "start_time": "2022-01-12T19:50:47.319Z"
   },
   {
    "duration": -1469,
    "start_time": "2022-01-12T19:50:47.324Z"
   },
   {
    "duration": -1477,
    "start_time": "2022-01-12T19:50:47.333Z"
   },
   {
    "duration": 16,
    "start_time": "2022-01-12T19:51:23.438Z"
   },
   {
    "duration": 12,
    "start_time": "2022-01-12T19:52:01.005Z"
   },
   {
    "duration": 6,
    "start_time": "2022-01-12T19:52:39.700Z"
   },
   {
    "duration": 7100,
    "start_time": "2022-01-12T19:52:41.505Z"
   },
   {
    "duration": 1528,
    "start_time": "2022-01-12T19:54:07.632Z"
   },
   {
    "duration": 181,
    "start_time": "2022-01-12T19:54:09.163Z"
   },
   {
    "duration": 54,
    "start_time": "2022-01-12T19:54:09.346Z"
   },
   {
    "duration": 169,
    "start_time": "2022-01-12T19:54:09.403Z"
   },
   {
    "duration": 999,
    "start_time": "2022-01-12T19:54:09.574Z"
   },
   {
    "duration": 396,
    "start_time": "2022-01-12T19:54:10.575Z"
   },
   {
    "duration": 18,
    "start_time": "2022-01-12T19:54:10.974Z"
   },
   {
    "duration": 7,
    "start_time": "2022-01-12T19:54:11.016Z"
   },
   {
    "duration": 7,
    "start_time": "2022-01-12T19:54:11.026Z"
   },
   {
    "duration": 82,
    "start_time": "2022-01-12T19:54:11.035Z"
   },
   {
    "duration": 21,
    "start_time": "2022-01-12T19:54:11.119Z"
   },
   {
    "duration": 13,
    "start_time": "2022-01-12T19:54:11.143Z"
   },
   {
    "duration": 11,
    "start_time": "2022-01-12T19:54:11.159Z"
   },
   {
    "duration": 50,
    "start_time": "2022-01-12T19:54:11.173Z"
   },
   {
    "duration": 57,
    "start_time": "2022-01-12T19:54:11.226Z"
   },
   {
    "duration": 33,
    "start_time": "2022-01-12T19:54:11.286Z"
   },
   {
    "duration": 18,
    "start_time": "2022-01-12T19:54:11.322Z"
   },
   {
    "duration": 13,
    "start_time": "2022-01-12T19:54:11.342Z"
   },
   {
    "duration": 8,
    "start_time": "2022-01-12T19:54:11.358Z"
   },
   {
    "duration": 50,
    "start_time": "2022-01-12T19:54:11.369Z"
   },
   {
    "duration": 8249,
    "start_time": "2022-01-12T19:54:11.422Z"
   },
   {
    "duration": -1171,
    "start_time": "2022-01-12T19:54:20.845Z"
   },
   {
    "duration": -1180,
    "start_time": "2022-01-12T19:54:20.856Z"
   },
   {
    "duration": -1182,
    "start_time": "2022-01-12T19:54:20.860Z"
   },
   {
    "duration": -1184,
    "start_time": "2022-01-12T19:54:20.864Z"
   },
   {
    "duration": -1539,
    "start_time": "2022-01-12T19:54:21.221Z"
   },
   {
    "duration": -1550,
    "start_time": "2022-01-12T19:54:21.234Z"
   },
   {
    "duration": -1551,
    "start_time": "2022-01-12T19:54:21.237Z"
   },
   {
    "duration": -1552,
    "start_time": "2022-01-12T19:54:21.240Z"
   },
   {
    "duration": -1552,
    "start_time": "2022-01-12T19:54:21.243Z"
   },
   {
    "duration": -1554,
    "start_time": "2022-01-12T19:54:21.247Z"
   },
   {
    "duration": -1556,
    "start_time": "2022-01-12T19:54:21.251Z"
   },
   {
    "duration": -1555,
    "start_time": "2022-01-12T19:54:21.253Z"
   },
   {
    "duration": -1557,
    "start_time": "2022-01-12T19:54:21.257Z"
   },
   {
    "duration": -1560,
    "start_time": "2022-01-12T19:54:21.261Z"
   },
   {
    "duration": -1563,
    "start_time": "2022-01-12T19:54:21.267Z"
   },
   {
    "duration": -1566,
    "start_time": "2022-01-12T19:54:21.271Z"
   },
   {
    "duration": -1567,
    "start_time": "2022-01-12T19:54:21.274Z"
   },
   {
    "duration": -1569,
    "start_time": "2022-01-12T19:54:21.278Z"
   },
   {
    "duration": -1571,
    "start_time": "2022-01-12T19:54:21.282Z"
   },
   {
    "duration": -1567,
    "start_time": "2022-01-12T19:54:21.284Z"
   },
   {
    "duration": -1569,
    "start_time": "2022-01-12T19:54:21.288Z"
   },
   {
    "duration": -1570,
    "start_time": "2022-01-12T19:54:21.291Z"
   },
   {
    "duration": -1573,
    "start_time": "2022-01-12T19:54:21.296Z"
   },
   {
    "duration": -1581,
    "start_time": "2022-01-12T19:54:21.306Z"
   },
   {
    "duration": -1582,
    "start_time": "2022-01-12T19:54:21.309Z"
   },
   {
    "duration": -1979,
    "start_time": "2022-01-12T19:54:21.708Z"
   },
   {
    "duration": -1988,
    "start_time": "2022-01-12T19:54:21.719Z"
   },
   {
    "duration": 16,
    "start_time": "2022-01-12T19:55:05.867Z"
   },
   {
    "duration": 1551,
    "start_time": "2022-01-12T19:56:02.920Z"
   },
   {
    "duration": 214,
    "start_time": "2022-01-12T19:56:04.473Z"
   },
   {
    "duration": 54,
    "start_time": "2022-01-12T19:56:04.691Z"
   },
   {
    "duration": 174,
    "start_time": "2022-01-12T19:56:04.748Z"
   },
   {
    "duration": 1028,
    "start_time": "2022-01-12T19:56:04.925Z"
   },
   {
    "duration": 414,
    "start_time": "2022-01-12T19:56:05.955Z"
   },
   {
    "duration": 20,
    "start_time": "2022-01-12T19:56:06.371Z"
   },
   {
    "duration": 27,
    "start_time": "2022-01-12T19:56:06.394Z"
   },
   {
    "duration": 8,
    "start_time": "2022-01-12T19:56:06.429Z"
   },
   {
    "duration": 77,
    "start_time": "2022-01-12T19:56:06.440Z"
   },
   {
    "duration": 22,
    "start_time": "2022-01-12T19:56:06.520Z"
   },
   {
    "duration": 98,
    "start_time": "2022-01-12T19:56:06.545Z"
   },
   {
    "duration": 13,
    "start_time": "2022-01-12T19:56:06.646Z"
   },
   {
    "duration": 11,
    "start_time": "2022-01-12T19:56:06.661Z"
   },
   {
    "duration": 43,
    "start_time": "2022-01-12T19:56:06.674Z"
   },
   {
    "duration": 12,
    "start_time": "2022-01-12T19:56:06.719Z"
   },
   {
    "duration": 19,
    "start_time": "2022-01-12T19:56:06.733Z"
   },
   {
    "duration": 19,
    "start_time": "2022-01-12T19:56:06.754Z"
   },
   {
    "duration": 41,
    "start_time": "2022-01-12T19:56:06.776Z"
   },
   {
    "duration": 6,
    "start_time": "2022-01-12T19:56:06.819Z"
   },
   {
    "duration": 764,
    "start_time": "2022-01-12T19:56:06.828Z"
   },
   {
    "duration": 47,
    "start_time": "2022-01-12T19:56:07.594Z"
   },
   {
    "duration": 32,
    "start_time": "2022-01-12T19:56:07.646Z"
   },
   {
    "duration": 42,
    "start_time": "2022-01-12T19:56:07.682Z"
   },
   {
    "duration": 10,
    "start_time": "2022-01-12T19:56:07.728Z"
   },
   {
    "duration": 12,
    "start_time": "2022-01-12T19:56:07.741Z"
   },
   {
    "duration": 148,
    "start_time": "2022-01-12T19:56:07.756Z"
   },
   {
    "duration": 121,
    "start_time": "2022-01-12T19:56:07.906Z"
   },
   {
    "duration": 195,
    "start_time": "2022-01-12T19:56:08.031Z"
   },
   {
    "duration": 190,
    "start_time": "2022-01-12T19:56:08.228Z"
   },
   {
    "duration": 30203,
    "start_time": "2022-01-12T19:56:08.421Z"
   },
   {
    "duration": 13,
    "start_time": "2022-01-12T19:56:38.627Z"
   },
   {
    "duration": 27,
    "start_time": "2022-01-12T19:56:38.642Z"
   },
   {
    "duration": 3820,
    "start_time": "2022-01-12T19:56:38.672Z"
   },
   {
    "duration": 23,
    "start_time": "2022-01-12T19:56:42.494Z"
   },
   {
    "duration": 7,
    "start_time": "2022-01-12T19:56:42.520Z"
   },
   {
    "duration": 6,
    "start_time": "2022-01-12T19:56:42.529Z"
   },
   {
    "duration": 6,
    "start_time": "2022-01-12T19:56:42.537Z"
   },
   {
    "duration": 13,
    "start_time": "2022-01-12T19:56:42.546Z"
   },
   {
    "duration": 12,
    "start_time": "2022-01-12T19:56:42.561Z"
   },
   {
    "duration": 48,
    "start_time": "2022-01-12T19:56:42.576Z"
   },
   {
    "duration": 8,
    "start_time": "2022-01-12T19:56:42.626Z"
   },
   {
    "duration": 2913,
    "start_time": "2022-01-12T19:56:42.636Z"
   },
   {
    "duration": 3217,
    "start_time": "2022-01-12T19:56:45.552Z"
   },
   {
    "duration": 69516,
    "start_time": "2022-01-12T19:56:48.772Z"
   },
   {
    "duration": 3,
    "start_time": "2022-01-12T19:57:58.291Z"
   },
   {
    "duration": 22,
    "start_time": "2022-01-12T19:57:58.296Z"
   },
   {
    "duration": 6,
    "start_time": "2022-01-12T19:57:58.320Z"
   },
   {
    "duration": 1563,
    "start_time": "2022-01-12T19:58:13.323Z"
   },
   {
    "duration": 218,
    "start_time": "2022-01-12T19:58:14.889Z"
   },
   {
    "duration": 54,
    "start_time": "2022-01-12T19:58:15.111Z"
   },
   {
    "duration": 196,
    "start_time": "2022-01-12T19:58:15.167Z"
   },
   {
    "duration": 1125,
    "start_time": "2022-01-12T19:58:15.365Z"
   },
   {
    "duration": 392,
    "start_time": "2022-01-12T19:58:16.493Z"
   },
   {
    "duration": 36,
    "start_time": "2022-01-12T19:58:16.887Z"
   },
   {
    "duration": 7,
    "start_time": "2022-01-12T19:58:16.926Z"
   },
   {
    "duration": 7,
    "start_time": "2022-01-12T19:58:16.938Z"
   },
   {
    "duration": 87,
    "start_time": "2022-01-12T19:58:16.948Z"
   },
   {
    "duration": 19,
    "start_time": "2022-01-12T19:58:17.038Z"
   },
   {
    "duration": 104,
    "start_time": "2022-01-12T19:58:17.059Z"
   },
   {
    "duration": 14,
    "start_time": "2022-01-12T19:58:17.166Z"
   },
   {
    "duration": 11,
    "start_time": "2022-01-12T19:58:17.182Z"
   },
   {
    "duration": 11,
    "start_time": "2022-01-12T19:58:17.195Z"
   },
   {
    "duration": 10,
    "start_time": "2022-01-12T19:58:17.216Z"
   },
   {
    "duration": 18,
    "start_time": "2022-01-12T19:58:17.229Z"
   },
   {
    "duration": 11,
    "start_time": "2022-01-12T19:58:17.249Z"
   },
   {
    "duration": 9,
    "start_time": "2022-01-12T19:58:17.263Z"
   },
   {
    "duration": 6,
    "start_time": "2022-01-12T19:58:17.275Z"
   },
   {
    "duration": 834,
    "start_time": "2022-01-12T19:58:17.283Z"
   },
   {
    "duration": 29,
    "start_time": "2022-01-12T19:58:18.120Z"
   },
   {
    "duration": 22,
    "start_time": "2022-01-12T19:58:18.152Z"
   },
   {
    "duration": 15,
    "start_time": "2022-01-12T19:58:18.177Z"
   },
   {
    "duration": 29,
    "start_time": "2022-01-12T19:58:18.194Z"
   },
   {
    "duration": 7,
    "start_time": "2022-01-12T19:58:18.226Z"
   },
   {
    "duration": 284,
    "start_time": "2022-01-12T19:58:18.238Z"
   },
   {
    "duration": 172,
    "start_time": "2022-01-12T19:58:18.527Z"
   },
   {
    "duration": 127,
    "start_time": "2022-01-12T19:58:18.702Z"
   },
   {
    "duration": 113,
    "start_time": "2022-01-12T19:58:18.831Z"
   },
   {
    "duration": 26447,
    "start_time": "2022-01-12T19:58:18.946Z"
   },
   {
    "duration": 26,
    "start_time": "2022-01-12T19:58:45.395Z"
   },
   {
    "duration": 27,
    "start_time": "2022-01-12T19:58:45.423Z"
   },
   {
    "duration": 4090,
    "start_time": "2022-01-12T19:58:45.452Z"
   },
   {
    "duration": 10,
    "start_time": "2022-01-12T19:58:49.545Z"
   },
   {
    "duration": 8,
    "start_time": "2022-01-12T19:58:49.558Z"
   },
   {
    "duration": 5,
    "start_time": "2022-01-12T19:58:49.569Z"
   },
   {
    "duration": 42,
    "start_time": "2022-01-12T19:58:49.576Z"
   },
   {
    "duration": 13,
    "start_time": "2022-01-12T19:58:49.620Z"
   },
   {
    "duration": 14,
    "start_time": "2022-01-12T19:58:49.635Z"
   },
   {
    "duration": 10,
    "start_time": "2022-01-12T19:58:49.652Z"
   },
   {
    "duration": 6,
    "start_time": "2022-01-12T19:58:49.664Z"
   },
   {
    "duration": 2990,
    "start_time": "2022-01-12T19:58:49.672Z"
   },
   {
    "duration": 3513,
    "start_time": "2022-01-12T19:58:52.666Z"
   },
   {
    "duration": 71055,
    "start_time": "2022-01-12T19:58:56.182Z"
   },
   {
    "duration": 3,
    "start_time": "2022-01-12T20:00:07.240Z"
   },
   {
    "duration": 7,
    "start_time": "2022-01-12T20:00:07.245Z"
   },
   {
    "duration": 4,
    "start_time": "2022-01-12T20:00:07.255Z"
   },
   {
    "duration": 1486,
    "start_time": "2022-01-12T20:00:30.179Z"
   },
   {
    "duration": 192,
    "start_time": "2022-01-12T20:00:31.667Z"
   },
   {
    "duration": 54,
    "start_time": "2022-01-12T20:00:31.863Z"
   },
   {
    "duration": 164,
    "start_time": "2022-01-12T20:00:31.920Z"
   },
   {
    "duration": 1000,
    "start_time": "2022-01-12T20:00:32.087Z"
   },
   {
    "duration": 405,
    "start_time": "2022-01-12T20:00:33.089Z"
   },
   {
    "duration": 30,
    "start_time": "2022-01-12T20:00:33.497Z"
   },
   {
    "duration": 6,
    "start_time": "2022-01-12T20:00:33.531Z"
   },
   {
    "duration": 15,
    "start_time": "2022-01-12T20:00:33.540Z"
   },
   {
    "duration": 92,
    "start_time": "2022-01-12T20:00:33.557Z"
   },
   {
    "duration": 21,
    "start_time": "2022-01-12T20:00:33.651Z"
   },
   {
    "duration": 96,
    "start_time": "2022-01-12T20:00:33.674Z"
   },
   {
    "duration": 13,
    "start_time": "2022-01-12T20:00:33.773Z"
   },
   {
    "duration": 30,
    "start_time": "2022-01-12T20:00:33.788Z"
   },
   {
    "duration": 11,
    "start_time": "2022-01-12T20:00:33.821Z"
   },
   {
    "duration": 10,
    "start_time": "2022-01-12T20:00:33.835Z"
   },
   {
    "duration": 19,
    "start_time": "2022-01-12T20:00:33.848Z"
   },
   {
    "duration": 11,
    "start_time": "2022-01-12T20:00:33.917Z"
   },
   {
    "duration": 10,
    "start_time": "2022-01-12T20:00:33.930Z"
   },
   {
    "duration": 7,
    "start_time": "2022-01-12T20:00:33.942Z"
   },
   {
    "duration": 762,
    "start_time": "2022-01-12T20:00:33.951Z"
   },
   {
    "duration": 29,
    "start_time": "2022-01-12T20:00:34.717Z"
   },
   {
    "duration": 23,
    "start_time": "2022-01-12T20:00:34.752Z"
   },
   {
    "duration": 49,
    "start_time": "2022-01-12T20:00:34.778Z"
   },
   {
    "duration": 8,
    "start_time": "2022-01-12T20:00:34.830Z"
   },
   {
    "duration": 7,
    "start_time": "2022-01-12T20:00:34.840Z"
   },
   {
    "duration": 131,
    "start_time": "2022-01-12T20:00:34.849Z"
   },
   {
    "duration": 116,
    "start_time": "2022-01-12T20:00:34.983Z"
   },
   {
    "duration": 118,
    "start_time": "2022-01-12T20:00:35.101Z"
   },
   {
    "duration": 119,
    "start_time": "2022-01-12T20:00:35.221Z"
   },
   {
    "duration": 26533,
    "start_time": "2022-01-12T20:00:35.343Z"
   },
   {
    "duration": 12,
    "start_time": "2022-01-12T20:01:01.878Z"
   },
   {
    "duration": 77,
    "start_time": "2022-01-12T20:01:01.892Z"
   },
   {
    "duration": 4153,
    "start_time": "2022-01-12T20:01:01.972Z"
   },
   {
    "duration": 11,
    "start_time": "2022-01-12T20:01:06.127Z"
   },
   {
    "duration": 7,
    "start_time": "2022-01-12T20:01:06.140Z"
   },
   {
    "duration": 6,
    "start_time": "2022-01-12T20:01:06.150Z"
   },
   {
    "duration": 6,
    "start_time": "2022-01-12T20:01:06.159Z"
   },
   {
    "duration": 11,
    "start_time": "2022-01-12T20:01:06.168Z"
   },
   {
    "duration": 10,
    "start_time": "2022-01-12T20:01:06.217Z"
   },
   {
    "duration": 11,
    "start_time": "2022-01-12T20:01:06.229Z"
   },
   {
    "duration": 17,
    "start_time": "2022-01-12T20:01:06.242Z"
   },
   {
    "duration": 3737,
    "start_time": "2022-01-12T20:01:06.261Z"
   },
   {
    "duration": 9829,
    "start_time": "2022-01-12T20:01:10.001Z"
   },
   {
    "duration": 255926,
    "start_time": "2022-01-12T20:01:19.833Z"
   },
   {
    "duration": 3,
    "start_time": "2022-01-12T20:05:35.761Z"
   },
   {
    "duration": 6,
    "start_time": "2022-01-12T20:05:35.767Z"
   },
   {
    "duration": 5,
    "start_time": "2022-01-12T20:05:35.776Z"
   },
   {
    "duration": 1504,
    "start_time": "2022-01-12T23:11:31.102Z"
   },
   {
    "duration": 222,
    "start_time": "2022-01-12T23:11:32.609Z"
   },
   {
    "duration": 59,
    "start_time": "2022-01-12T23:11:32.834Z"
   },
   {
    "duration": 176,
    "start_time": "2022-01-12T23:11:32.896Z"
   },
   {
    "duration": 1022,
    "start_time": "2022-01-12T23:11:33.074Z"
   },
   {
    "duration": 489,
    "start_time": "2022-01-12T23:11:34.099Z"
   },
   {
    "duration": 17,
    "start_time": "2022-01-12T23:11:34.590Z"
   },
   {
    "duration": 6,
    "start_time": "2022-01-12T23:11:34.611Z"
   },
   {
    "duration": 7,
    "start_time": "2022-01-12T23:11:34.620Z"
   },
   {
    "duration": 81,
    "start_time": "2022-01-12T23:11:34.629Z"
   },
   {
    "duration": 23,
    "start_time": "2022-01-12T23:11:34.712Z"
   },
   {
    "duration": 81,
    "start_time": "2022-01-12T23:11:34.737Z"
   },
   {
    "duration": 12,
    "start_time": "2022-01-12T23:11:34.821Z"
   },
   {
    "duration": 30,
    "start_time": "2022-01-12T23:11:34.835Z"
   },
   {
    "duration": 9,
    "start_time": "2022-01-12T23:11:34.867Z"
   },
   {
    "duration": 10,
    "start_time": "2022-01-12T23:11:34.878Z"
   },
   {
    "duration": 16,
    "start_time": "2022-01-12T23:11:34.891Z"
   },
   {
    "duration": 56,
    "start_time": "2022-01-12T23:11:34.909Z"
   },
   {
    "duration": 10,
    "start_time": "2022-01-12T23:11:34.967Z"
   },
   {
    "duration": 6,
    "start_time": "2022-01-12T23:11:34.979Z"
   },
   {
    "duration": 853,
    "start_time": "2022-01-12T23:11:34.987Z"
   },
   {
    "duration": 34,
    "start_time": "2022-01-12T23:11:35.843Z"
   },
   {
    "duration": 22,
    "start_time": "2022-01-12T23:11:35.882Z"
   },
   {
    "duration": 16,
    "start_time": "2022-01-12T23:11:35.907Z"
   },
   {
    "duration": 40,
    "start_time": "2022-01-12T23:11:35.925Z"
   },
   {
    "duration": 6,
    "start_time": "2022-01-12T23:11:35.967Z"
   },
   {
    "duration": 135,
    "start_time": "2022-01-12T23:11:35.975Z"
   },
   {
    "duration": 113,
    "start_time": "2022-01-12T23:11:36.113Z"
   },
   {
    "duration": 118,
    "start_time": "2022-01-12T23:11:36.228Z"
   },
   {
    "duration": 116,
    "start_time": "2022-01-12T23:11:36.348Z"
   },
   {
    "duration": 25802,
    "start_time": "2022-01-12T23:11:36.466Z"
   },
   {
    "duration": 68,
    "start_time": "2022-01-12T23:12:02.270Z"
   },
   {
    "duration": 32,
    "start_time": "2022-01-12T23:12:02.341Z"
   },
   {
    "duration": 27,
    "start_time": "2022-01-12T23:12:02.376Z"
   },
   {
    "duration": 4056,
    "start_time": "2022-01-12T23:12:02.407Z"
   },
   {
    "duration": 11,
    "start_time": "2022-01-12T23:12:06.465Z"
   },
   {
    "duration": 7,
    "start_time": "2022-01-12T23:12:06.479Z"
   },
   {
    "duration": 29,
    "start_time": "2022-01-12T23:12:06.488Z"
   },
   {
    "duration": 5,
    "start_time": "2022-01-12T23:12:06.520Z"
   },
   {
    "duration": 21,
    "start_time": "2022-01-12T23:12:06.528Z"
   },
   {
    "duration": 18,
    "start_time": "2022-01-12T23:12:06.552Z"
   },
   {
    "duration": 21,
    "start_time": "2022-01-12T23:12:06.572Z"
   },
   {
    "duration": 9,
    "start_time": "2022-01-12T23:12:06.595Z"
   },
   {
    "duration": 3623,
    "start_time": "2022-01-12T23:12:06.607Z"
   },
   {
    "duration": 5936,
    "start_time": "2022-01-12T23:12:10.232Z"
   },
   {
    "duration": 140609,
    "start_time": "2022-01-12T23:12:16.171Z"
   },
   {
    "duration": 3,
    "start_time": "2022-01-12T23:14:36.782Z"
   },
   {
    "duration": 7,
    "start_time": "2022-01-12T23:14:36.788Z"
   },
   {
    "duration": 7,
    "start_time": "2022-01-12T23:14:36.797Z"
   },
   {
    "duration": 6,
    "start_time": "2022-01-12T23:20:36.148Z"
   },
   {
    "duration": 213,
    "start_time": "2022-01-12T23:20:37.027Z"
   },
   {
    "duration": 56,
    "start_time": "2022-01-12T23:20:37.372Z"
   },
   {
    "duration": 171,
    "start_time": "2022-01-12T23:20:37.964Z"
   },
   {
    "duration": 1064,
    "start_time": "2022-01-12T23:20:38.455Z"
   },
   {
    "duration": 401,
    "start_time": "2022-01-12T23:20:39.522Z"
   },
   {
    "duration": 37,
    "start_time": "2022-01-12T23:20:39.926Z"
   },
   {
    "duration": 7,
    "start_time": "2022-01-12T23:20:40.035Z"
   },
   {
    "duration": 6,
    "start_time": "2022-01-12T23:20:41.924Z"
   },
   {
    "duration": 51,
    "start_time": "2022-01-12T23:20:44.164Z"
   },
   {
    "duration": 14,
    "start_time": "2022-01-12T23:20:45.584Z"
   },
   {
    "duration": 60,
    "start_time": "2022-01-12T23:20:52.547Z"
   },
   {
    "duration": 15,
    "start_time": "2022-01-12T23:20:53.822Z"
   },
   {
    "duration": 25,
    "start_time": "2022-01-12T23:22:06.100Z"
   },
   {
    "duration": 14,
    "start_time": "2022-01-12T23:22:39.617Z"
   },
   {
    "duration": 41,
    "start_time": "2022-01-12T23:23:42.740Z"
   },
   {
    "duration": 12,
    "start_time": "2022-01-12T23:23:51.292Z"
   },
   {
    "duration": 14,
    "start_time": "2022-01-12T23:24:08.462Z"
   },
   {
    "duration": 13,
    "start_time": "2022-01-12T23:24:14.333Z"
   },
   {
    "duration": 6,
    "start_time": "2022-01-12T23:25:06.934Z"
   },
   {
    "duration": 3,
    "start_time": "2022-01-12T23:27:41.214Z"
   },
   {
    "duration": 15,
    "start_time": "2022-01-12T23:27:51.325Z"
   },
   {
    "duration": 14,
    "start_time": "2022-01-12T23:28:27.721Z"
   },
   {
    "duration": 12,
    "start_time": "2022-01-12T23:28:52.845Z"
   },
   {
    "duration": 10,
    "start_time": "2022-01-12T23:29:05.620Z"
   },
   {
    "duration": 10,
    "start_time": "2022-01-12T23:29:12.843Z"
   },
   {
    "duration": 10,
    "start_time": "2022-01-12T23:29:15.679Z"
   },
   {
    "duration": 7,
    "start_time": "2022-01-12T23:29:44.440Z"
   },
   {
    "duration": 12,
    "start_time": "2022-01-12T23:29:47.551Z"
   },
   {
    "duration": 8,
    "start_time": "2022-01-12T23:29:52.780Z"
   },
   {
    "duration": 6,
    "start_time": "2022-01-12T23:29:53.600Z"
   },
   {
    "duration": 8949,
    "start_time": "2022-01-12T23:29:54.270Z"
   },
   {
    "duration": 839,
    "start_time": "2022-01-12T23:30:21.345Z"
   },
   {
    "duration": 311,
    "start_time": "2022-01-12T23:30:26.329Z"
   },
   {
    "duration": 30,
    "start_time": "2022-01-12T23:30:34.370Z"
   },
   {
    "duration": 4,
    "start_time": "2022-01-12T23:31:52.494Z"
   },
   {
    "duration": 11,
    "start_time": "2022-01-12T23:31:57.185Z"
   },
   {
    "duration": 11,
    "start_time": "2022-01-12T23:31:59.704Z"
   },
   {
    "duration": 11,
    "start_time": "2022-01-12T23:32:04.210Z"
   },
   {
    "duration": 13,
    "start_time": "2022-01-12T23:32:04.673Z"
   },
   {
    "duration": 990,
    "start_time": "2022-01-12T23:33:00.729Z"
   },
   {
    "duration": 6726,
    "start_time": "2022-01-12T23:32:54.999Z"
   },
   {
    "duration": 6725,
    "start_time": "2022-01-12T23:32:55.002Z"
   },
   {
    "duration": 6723,
    "start_time": "2022-01-12T23:32:55.005Z"
   },
   {
    "duration": 6722,
    "start_time": "2022-01-12T23:32:55.007Z"
   },
   {
    "duration": 6513,
    "start_time": "2022-01-12T23:32:55.218Z"
   },
   {
    "duration": 6505,
    "start_time": "2022-01-12T23:32:55.227Z"
   },
   {
    "duration": 6503,
    "start_time": "2022-01-12T23:32:55.230Z"
   },
   {
    "duration": 6501,
    "start_time": "2022-01-12T23:32:55.233Z"
   },
   {
    "duration": 6494,
    "start_time": "2022-01-12T23:32:55.242Z"
   },
   {
    "duration": 6492,
    "start_time": "2022-01-12T23:32:55.245Z"
   },
   {
    "duration": 6484,
    "start_time": "2022-01-12T23:32:55.254Z"
   },
   {
    "duration": 6482,
    "start_time": "2022-01-12T23:32:55.258Z"
   },
   {
    "duration": 6441,
    "start_time": "2022-01-12T23:32:55.300Z"
   },
   {
    "duration": 6436,
    "start_time": "2022-01-12T23:32:55.307Z"
   },
   {
    "duration": 6431,
    "start_time": "2022-01-12T23:32:55.313Z"
   },
   {
    "duration": 6429,
    "start_time": "2022-01-12T23:32:55.316Z"
   },
   {
    "duration": 6424,
    "start_time": "2022-01-12T23:32:55.323Z"
   },
   {
    "duration": 6422,
    "start_time": "2022-01-12T23:32:55.326Z"
   },
   {
    "duration": 6420,
    "start_time": "2022-01-12T23:32:55.330Z"
   },
   {
    "duration": 6417,
    "start_time": "2022-01-12T23:32:55.334Z"
   },
   {
    "duration": 6413,
    "start_time": "2022-01-12T23:32:55.339Z"
   },
   {
    "duration": 6411,
    "start_time": "2022-01-12T23:32:55.343Z"
   },
   {
    "duration": 6414,
    "start_time": "2022-01-12T23:32:55.348Z"
   },
   {
    "duration": 6413,
    "start_time": "2022-01-12T23:32:55.351Z"
   },
   {
    "duration": 6411,
    "start_time": "2022-01-12T23:32:55.354Z"
   },
   {
    "duration": 6409,
    "start_time": "2022-01-12T23:32:55.357Z"
   },
   {
    "duration": 6407,
    "start_time": "2022-01-12T23:32:55.361Z"
   },
   {
    "duration": 6405,
    "start_time": "2022-01-12T23:32:55.364Z"
   },
   {
    "duration": 6403,
    "start_time": "2022-01-12T23:32:55.367Z"
   },
   {
    "duration": 6401,
    "start_time": "2022-01-12T23:32:55.371Z"
   },
   {
    "duration": 6396,
    "start_time": "2022-01-12T23:32:55.377Z"
   },
   {
    "duration": 6394,
    "start_time": "2022-01-12T23:32:55.380Z"
   },
   {
    "duration": 6392,
    "start_time": "2022-01-12T23:32:55.383Z"
   },
   {
    "duration": 6391,
    "start_time": "2022-01-12T23:32:55.386Z"
   },
   {
    "duration": 6389,
    "start_time": "2022-01-12T23:32:55.389Z"
   },
   {
    "duration": 6387,
    "start_time": "2022-01-12T23:32:55.392Z"
   },
   {
    "duration": 6385,
    "start_time": "2022-01-12T23:32:55.395Z"
   },
   {
    "duration": 6373,
    "start_time": "2022-01-12T23:32:55.409Z"
   },
   {
    "duration": 6367,
    "start_time": "2022-01-12T23:32:55.416Z"
   },
   {
    "duration": 6363,
    "start_time": "2022-01-12T23:32:55.421Z"
   },
   {
    "duration": 6361,
    "start_time": "2022-01-12T23:32:55.424Z"
   },
   {
    "duration": 6360,
    "start_time": "2022-01-12T23:32:55.427Z"
   },
   {
    "duration": 6358,
    "start_time": "2022-01-12T23:32:55.430Z"
   },
   {
    "duration": 6357,
    "start_time": "2022-01-12T23:32:55.433Z"
   },
   {
    "duration": 6353,
    "start_time": "2022-01-12T23:32:55.438Z"
   },
   {
    "duration": 6352,
    "start_time": "2022-01-12T23:32:55.441Z"
   },
   {
    "duration": 6348,
    "start_time": "2022-01-12T23:32:55.446Z"
   },
   {
    "duration": 6347,
    "start_time": "2022-01-12T23:32:55.448Z"
   },
   {
    "duration": 6345,
    "start_time": "2022-01-12T23:32:55.451Z"
   },
   {
    "duration": 6288,
    "start_time": "2022-01-12T23:32:55.510Z"
   },
   {
    "duration": 620,
    "start_time": "2022-01-12T23:33:05.016Z"
   },
   {
    "duration": 6,
    "start_time": "2022-01-12T23:33:05.867Z"
   },
   {
    "duration": 469,
    "start_time": "2022-01-12T23:33:06.059Z"
   },
   {
    "duration": 6985,
    "start_time": "2022-01-12T23:32:59.546Z"
   },
   {
    "duration": 6985,
    "start_time": "2022-01-12T23:32:59.548Z"
   },
   {
    "duration": 281,
    "start_time": "2022-01-12T23:33:06.613Z"
   },
   {
    "duration": 6974,
    "start_time": "2022-01-12T23:32:59.922Z"
   },
   {
    "duration": 281,
    "start_time": "2022-01-12T23:33:07.188Z"
   },
   {
    "duration": 282,
    "start_time": "2022-01-12T23:33:08.020Z"
   },
   {
    "duration": 7015,
    "start_time": "2022-01-12T23:33:01.290Z"
   },
   {
    "duration": 285,
    "start_time": "2022-01-12T23:33:08.509Z"
   },
   {
    "duration": 7012,
    "start_time": "2022-01-12T23:33:01.784Z"
   },
   {
    "duration": 300,
    "start_time": "2022-01-12T23:33:09.224Z"
   },
   {
    "duration": 1448,
    "start_time": "2022-01-12T23:33:23.652Z"
   },
   {
    "duration": 209,
    "start_time": "2022-01-12T23:33:25.102Z"
   },
   {
    "duration": 56,
    "start_time": "2022-01-12T23:33:25.314Z"
   },
   {
    "duration": 197,
    "start_time": "2022-01-12T23:33:25.373Z"
   },
   {
    "duration": 992,
    "start_time": "2022-01-12T23:33:25.572Z"
   },
   {
    "duration": 2341,
    "start_time": "2022-01-12T23:33:26.567Z"
   },
   {
    "duration": 6767,
    "start_time": "2022-01-12T23:33:22.147Z"
   },
   {
    "duration": 6764,
    "start_time": "2022-01-12T23:33:22.151Z"
   },
   {
    "duration": 6764,
    "start_time": "2022-01-12T23:33:22.153Z"
   },
   {
    "duration": 6763,
    "start_time": "2022-01-12T23:33:22.155Z"
   },
   {
    "duration": 6763,
    "start_time": "2022-01-12T23:33:22.157Z"
   },
   {
    "duration": 6761,
    "start_time": "2022-01-12T23:33:22.160Z"
   },
   {
    "duration": 6760,
    "start_time": "2022-01-12T23:33:22.162Z"
   },
   {
    "duration": 6759,
    "start_time": "2022-01-12T23:33:22.165Z"
   },
   {
    "duration": 6515,
    "start_time": "2022-01-12T23:33:22.411Z"
   },
   {
    "duration": 6514,
    "start_time": "2022-01-12T23:33:22.413Z"
   },
   {
    "duration": 6512,
    "start_time": "2022-01-12T23:33:22.416Z"
   },
   {
    "duration": 6511,
    "start_time": "2022-01-12T23:33:22.418Z"
   },
   {
    "duration": 6511,
    "start_time": "2022-01-12T23:33:22.420Z"
   },
   {
    "duration": 6510,
    "start_time": "2022-01-12T23:33:22.422Z"
   },
   {
    "duration": 6509,
    "start_time": "2022-01-12T23:33:22.425Z"
   },
   {
    "duration": 6509,
    "start_time": "2022-01-12T23:33:22.426Z"
   },
   {
    "duration": 6507,
    "start_time": "2022-01-12T23:33:22.429Z"
   },
   {
    "duration": 6507,
    "start_time": "2022-01-12T23:33:22.431Z"
   },
   {
    "duration": 6506,
    "start_time": "2022-01-12T23:33:22.433Z"
   },
   {
    "duration": 6505,
    "start_time": "2022-01-12T23:33:22.435Z"
   },
   {
    "duration": 6503,
    "start_time": "2022-01-12T23:33:22.438Z"
   },
   {
    "duration": 6270,
    "start_time": "2022-01-12T23:33:22.673Z"
   },
   {
    "duration": 6245,
    "start_time": "2022-01-12T23:33:22.699Z"
   },
   {
    "duration": 6242,
    "start_time": "2022-01-12T23:33:22.703Z"
   },
   {
    "duration": 6241,
    "start_time": "2022-01-12T23:33:22.706Z"
   },
   {
    "duration": 6240,
    "start_time": "2022-01-12T23:33:22.708Z"
   },
   {
    "duration": 6239,
    "start_time": "2022-01-12T23:33:22.710Z"
   },
   {
    "duration": 6239,
    "start_time": "2022-01-12T23:33:22.712Z"
   },
   {
    "duration": 6238,
    "start_time": "2022-01-12T23:33:22.714Z"
   },
   {
    "duration": 6237,
    "start_time": "2022-01-12T23:33:22.716Z"
   },
   {
    "duration": 6244,
    "start_time": "2022-01-12T23:33:22.718Z"
   },
   {
    "duration": 6244,
    "start_time": "2022-01-12T23:33:22.720Z"
   },
   {
    "duration": 6244,
    "start_time": "2022-01-12T23:33:22.722Z"
   },
   {
    "duration": 6243,
    "start_time": "2022-01-12T23:33:22.724Z"
   },
   {
    "duration": 6242,
    "start_time": "2022-01-12T23:33:22.727Z"
   },
   {
    "duration": 6032,
    "start_time": "2022-01-12T23:33:22.938Z"
   },
   {
    "duration": 6031,
    "start_time": "2022-01-12T23:33:22.941Z"
   },
   {
    "duration": 6029,
    "start_time": "2022-01-12T23:33:22.944Z"
   },
   {
    "duration": 6027,
    "start_time": "2022-01-12T23:33:22.948Z"
   },
   {
    "duration": 6025,
    "start_time": "2022-01-12T23:33:22.951Z"
   },
   {
    "duration": 6024,
    "start_time": "2022-01-12T23:33:22.954Z"
   },
   {
    "duration": 6023,
    "start_time": "2022-01-12T23:33:22.956Z"
   },
   {
    "duration": 6022,
    "start_time": "2022-01-12T23:33:22.959Z"
   },
   {
    "duration": 6021,
    "start_time": "2022-01-12T23:33:22.961Z"
   },
   {
    "duration": 6019,
    "start_time": "2022-01-12T23:33:22.965Z"
   },
   {
    "duration": 1520,
    "start_time": "2022-01-13T00:37:18.199Z"
   },
   {
    "duration": 225,
    "start_time": "2022-01-13T00:37:19.722Z"
   },
   {
    "duration": 61,
    "start_time": "2022-01-13T00:37:19.951Z"
   },
   {
    "duration": 155,
    "start_time": "2022-01-13T00:37:20.014Z"
   },
   {
    "duration": 1037,
    "start_time": "2022-01-13T00:37:20.172Z"
   },
   {
    "duration": 415,
    "start_time": "2022-01-13T00:37:21.212Z"
   },
   {
    "duration": 34,
    "start_time": "2022-01-13T00:37:21.630Z"
   },
   {
    "duration": 6,
    "start_time": "2022-01-13T00:37:21.667Z"
   },
   {
    "duration": 7,
    "start_time": "2022-01-13T00:37:21.677Z"
   },
   {
    "duration": 81,
    "start_time": "2022-01-13T00:37:21.687Z"
   },
   {
    "duration": 22,
    "start_time": "2022-01-13T00:37:21.770Z"
   },
   {
    "duration": 78,
    "start_time": "2022-01-13T00:37:21.794Z"
   },
   {
    "duration": 14,
    "start_time": "2022-01-13T00:37:21.874Z"
   },
   {
    "duration": 12,
    "start_time": "2022-01-13T00:37:21.891Z"
   },
   {
    "duration": 10,
    "start_time": "2022-01-13T00:37:21.905Z"
   },
   {
    "duration": 46,
    "start_time": "2022-01-13T00:37:21.918Z"
   },
   {
    "duration": 14,
    "start_time": "2022-01-13T00:37:21.967Z"
   },
   {
    "duration": 6,
    "start_time": "2022-01-13T00:37:21.983Z"
   },
   {
    "duration": 10,
    "start_time": "2022-01-13T00:37:21.991Z"
   },
   {
    "duration": 5,
    "start_time": "2022-01-13T00:37:22.004Z"
   },
   {
    "duration": 772,
    "start_time": "2022-01-13T00:37:22.011Z"
   },
   {
    "duration": 28,
    "start_time": "2022-01-13T00:37:22.785Z"
   },
   {
    "duration": 6,
    "start_time": "2022-01-13T00:37:22.815Z"
   },
   {
    "duration": 8,
    "start_time": "2022-01-13T00:37:22.823Z"
   },
   {
    "duration": 8,
    "start_time": "2022-01-13T00:37:22.863Z"
   },
   {
    "duration": 6,
    "start_time": "2022-01-13T00:37:22.874Z"
   },
   {
    "duration": 135,
    "start_time": "2022-01-13T00:37:22.885Z"
   },
   {
    "duration": 123,
    "start_time": "2022-01-13T00:37:23.025Z"
   },
   {
    "duration": 125,
    "start_time": "2022-01-13T00:37:23.152Z"
   },
   {
    "duration": 125,
    "start_time": "2022-01-13T00:37:23.281Z"
   },
   {
    "duration": 26672,
    "start_time": "2022-01-13T00:37:23.409Z"
   },
   {
    "duration": 7,
    "start_time": "2022-01-13T00:37:50.084Z"
   },
   {
    "duration": 101,
    "start_time": "2022-01-13T00:37:50.094Z"
   },
   {
    "duration": 12,
    "start_time": "2022-01-13T00:37:50.198Z"
   },
   {
    "duration": 26,
    "start_time": "2022-01-13T00:37:50.213Z"
   },
   {
    "duration": 3765,
    "start_time": "2022-01-13T00:37:50.263Z"
   },
   {
    "duration": 13,
    "start_time": "2022-01-13T00:37:54.031Z"
   },
   {
    "duration": 3,
    "start_time": "2022-01-13T00:37:54.064Z"
   },
   {
    "duration": 6,
    "start_time": "2022-01-13T00:37:54.071Z"
   },
   {
    "duration": 7,
    "start_time": "2022-01-13T00:37:54.080Z"
   },
   {
    "duration": 14,
    "start_time": "2022-01-13T00:37:54.089Z"
   },
   {
    "duration": 58,
    "start_time": "2022-01-13T00:37:54.106Z"
   },
   {
    "duration": 10,
    "start_time": "2022-01-13T00:37:54.167Z"
   },
   {
    "duration": 6,
    "start_time": "2022-01-13T00:37:54.180Z"
   },
   {
    "duration": 3543,
    "start_time": "2022-01-13T00:37:54.188Z"
   },
   {
    "duration": 7430,
    "start_time": "2022-01-13T00:37:57.734Z"
   },
   {
    "duration": 1544,
    "start_time": "2022-01-13T10:12:06.395Z"
   },
   {
    "duration": 254,
    "start_time": "2022-01-13T10:12:07.942Z"
   },
   {
    "duration": 68,
    "start_time": "2022-01-13T10:12:08.199Z"
   },
   {
    "duration": 154,
    "start_time": "2022-01-13T10:12:08.271Z"
   },
   {
    "duration": 952,
    "start_time": "2022-01-13T10:12:08.428Z"
   },
   {
    "duration": 394,
    "start_time": "2022-01-13T10:12:09.383Z"
   },
   {
    "duration": 31,
    "start_time": "2022-01-13T10:12:09.779Z"
   },
   {
    "duration": 7,
    "start_time": "2022-01-13T10:12:09.813Z"
   },
   {
    "duration": 12,
    "start_time": "2022-01-13T10:12:09.823Z"
   },
   {
    "duration": 91,
    "start_time": "2022-01-13T10:12:09.837Z"
   },
   {
    "duration": 23,
    "start_time": "2022-01-13T10:12:09.930Z"
   },
   {
    "duration": 79,
    "start_time": "2022-01-13T10:12:09.956Z"
   },
   {
    "duration": 14,
    "start_time": "2022-01-13T10:12:10.037Z"
   },
   {
    "duration": 12,
    "start_time": "2022-01-13T10:12:10.054Z"
   },
   {
    "duration": 38,
    "start_time": "2022-01-13T10:12:10.069Z"
   },
   {
    "duration": 10,
    "start_time": "2022-01-13T10:12:10.110Z"
   },
   {
    "duration": 19,
    "start_time": "2022-01-13T10:12:10.122Z"
   },
   {
    "duration": 17,
    "start_time": "2022-01-13T10:12:10.143Z"
   },
   {
    "duration": 40,
    "start_time": "2022-01-13T10:12:10.162Z"
   },
   {
    "duration": 6,
    "start_time": "2022-01-13T10:12:10.204Z"
   },
   {
    "duration": 1317,
    "start_time": "2022-01-13T10:12:10.213Z"
   },
   {
    "duration": 30,
    "start_time": "2022-01-13T10:12:11.533Z"
   },
   {
    "duration": 7,
    "start_time": "2022-01-13T10:12:11.568Z"
   },
   {
    "duration": 6,
    "start_time": "2022-01-13T10:12:11.602Z"
   },
   {
    "duration": 15,
    "start_time": "2022-01-13T10:12:11.611Z"
   },
   {
    "duration": 11,
    "start_time": "2022-01-13T10:12:11.628Z"
   },
   {
    "duration": 136,
    "start_time": "2022-01-13T10:12:11.641Z"
   },
   {
    "duration": 115,
    "start_time": "2022-01-13T10:12:11.779Z"
   },
   {
    "duration": 119,
    "start_time": "2022-01-13T10:12:11.901Z"
   },
   {
    "duration": 116,
    "start_time": "2022-01-13T10:12:12.022Z"
   },
   {
    "duration": 28304,
    "start_time": "2022-01-13T10:12:12.141Z"
   },
   {
    "duration": 5,
    "start_time": "2022-01-13T10:12:40.447Z"
   },
   {
    "duration": 89,
    "start_time": "2022-01-13T10:12:40.454Z"
   },
   {
    "duration": 10,
    "start_time": "2022-01-13T10:12:40.546Z"
   },
   {
    "duration": 44,
    "start_time": "2022-01-13T10:12:40.558Z"
   },
   {
    "duration": 4072,
    "start_time": "2022-01-13T10:12:40.605Z"
   },
   {
    "duration": 23,
    "start_time": "2022-01-13T10:12:44.679Z"
   },
   {
    "duration": 3,
    "start_time": "2022-01-13T10:12:44.704Z"
   },
   {
    "duration": 7,
    "start_time": "2022-01-13T10:12:44.710Z"
   },
   {
    "duration": 7,
    "start_time": "2022-01-13T10:12:44.720Z"
   },
   {
    "duration": 15,
    "start_time": "2022-01-13T10:12:44.730Z"
   },
   {
    "duration": 64,
    "start_time": "2022-01-13T10:12:44.747Z"
   },
   {
    "duration": 17,
    "start_time": "2022-01-13T10:12:44.814Z"
   },
   {
    "duration": 7,
    "start_time": "2022-01-13T10:12:44.833Z"
   },
   {
    "duration": 3899,
    "start_time": "2022-01-13T10:12:44.843Z"
   },
   {
    "duration": 7744,
    "start_time": "2022-01-13T10:12:48.745Z"
   },
   {
    "duration": 197616,
    "start_time": "2022-01-13T10:12:56.491Z"
   },
   {
    "duration": 3,
    "start_time": "2022-01-13T10:16:14.110Z"
   },
   {
    "duration": 10,
    "start_time": "2022-01-13T10:16:14.115Z"
   },
   {
    "duration": 11,
    "start_time": "2022-01-13T10:16:14.128Z"
   },
   {
    "duration": 1736,
    "start_time": "2022-01-13T12:33:10.109Z"
   },
   {
    "duration": 206,
    "start_time": "2022-01-13T12:33:11.847Z"
   },
   {
    "duration": 62,
    "start_time": "2022-01-13T12:33:12.055Z"
   },
   {
    "duration": 161,
    "start_time": "2022-01-13T12:33:12.120Z"
   },
   {
    "duration": 953,
    "start_time": "2022-01-13T12:33:12.283Z"
   },
   {
    "duration": 399,
    "start_time": "2022-01-13T12:33:13.238Z"
   },
   {
    "duration": 17,
    "start_time": "2022-01-13T12:33:13.639Z"
   },
   {
    "duration": 6,
    "start_time": "2022-01-13T12:33:13.658Z"
   },
   {
    "duration": 35,
    "start_time": "2022-01-13T12:33:13.669Z"
   },
   {
    "duration": 59,
    "start_time": "2022-01-13T12:33:13.710Z"
   },
   {
    "duration": 48,
    "start_time": "2022-01-13T12:33:13.771Z"
   },
   {
    "duration": 82,
    "start_time": "2022-01-13T12:33:13.822Z"
   },
   {
    "duration": 14,
    "start_time": "2022-01-13T12:33:13.906Z"
   },
   {
    "duration": 12,
    "start_time": "2022-01-13T12:33:13.923Z"
   },
   {
    "duration": 12,
    "start_time": "2022-01-13T12:33:13.937Z"
   },
   {
    "duration": 49,
    "start_time": "2022-01-13T12:33:13.951Z"
   },
   {
    "duration": 11,
    "start_time": "2022-01-13T12:33:14.003Z"
   },
   {
    "duration": 7,
    "start_time": "2022-01-13T12:33:14.016Z"
   },
   {
    "duration": 11,
    "start_time": "2022-01-13T12:33:14.026Z"
   },
   {
    "duration": 6,
    "start_time": "2022-01-13T12:33:14.039Z"
   },
   {
    "duration": 770,
    "start_time": "2022-01-13T12:33:14.047Z"
   },
   {
    "duration": 30,
    "start_time": "2022-01-13T12:33:14.819Z"
   },
   {
    "duration": 6,
    "start_time": "2022-01-13T12:33:14.851Z"
   },
   {
    "duration": 39,
    "start_time": "2022-01-13T12:33:14.860Z"
   },
   {
    "duration": 8,
    "start_time": "2022-01-13T12:33:14.902Z"
   },
   {
    "duration": 6,
    "start_time": "2022-01-13T12:33:14.913Z"
   },
   {
    "duration": 138,
    "start_time": "2022-01-13T12:33:14.925Z"
   },
   {
    "duration": 128,
    "start_time": "2022-01-13T12:33:15.067Z"
   },
   {
    "duration": 126,
    "start_time": "2022-01-13T12:33:15.198Z"
   },
   {
    "duration": 127,
    "start_time": "2022-01-13T12:33:15.327Z"
   },
   {
    "duration": 27301,
    "start_time": "2022-01-13T12:33:15.457Z"
   },
   {
    "duration": 5,
    "start_time": "2022-01-13T12:33:42.760Z"
   },
   {
    "duration": 115,
    "start_time": "2022-01-13T12:33:42.768Z"
   },
   {
    "duration": 20,
    "start_time": "2022-01-13T12:33:42.885Z"
   },
   {
    "duration": 25,
    "start_time": "2022-01-13T12:33:42.907Z"
   },
   {
    "duration": 4109,
    "start_time": "2022-01-13T12:33:42.934Z"
   },
   {
    "duration": 10,
    "start_time": "2022-01-13T12:33:47.045Z"
   },
   {
    "duration": 21,
    "start_time": "2022-01-13T12:33:47.057Z"
   },
   {
    "duration": 20,
    "start_time": "2022-01-13T12:33:47.081Z"
   },
   {
    "duration": 16,
    "start_time": "2022-01-13T12:33:47.105Z"
   },
   {
    "duration": 23,
    "start_time": "2022-01-13T12:33:47.124Z"
   },
   {
    "duration": 63,
    "start_time": "2022-01-13T12:33:47.150Z"
   },
   {
    "duration": 45,
    "start_time": "2022-01-13T12:33:47.215Z"
   },
   {
    "duration": 40,
    "start_time": "2022-01-13T12:33:47.262Z"
   },
   {
    "duration": 4307,
    "start_time": "2022-01-13T12:33:47.305Z"
   },
   {
    "duration": 7967,
    "start_time": "2022-01-13T12:33:51.615Z"
   },
   {
    "duration": 198762,
    "start_time": "2022-01-13T12:33:59.584Z"
   },
   {
    "duration": 4,
    "start_time": "2022-01-13T12:37:18.349Z"
   },
   {
    "duration": 7,
    "start_time": "2022-01-13T12:37:18.356Z"
   },
   {
    "duration": 35,
    "start_time": "2022-01-13T12:37:18.366Z"
   }
  ],
  "interpreter": {
   "hash": "e61a596006364d35e57a1a40ade93f686c6323015b209fa50bd8bb0494a4ffc8"
  },
  "kernelspec": {
   "display_name": "Python 3.9.12 ('base')",
   "language": "python",
   "name": "python3"
  },
  "language_info": {
   "codemirror_mode": {
    "name": "ipython",
    "version": 3
   },
   "file_extension": ".py",
   "mimetype": "text/x-python",
   "name": "python",
   "nbconvert_exporter": "python",
   "pygments_lexer": "ipython3",
   "version": "3.9.12"
  },
  "toc": {
   "base_numbering": 1,
   "nav_menu": {},
   "number_sections": true,
   "sideBar": true,
   "skip_h1_title": true,
   "title_cell": "Table of Contents",
   "title_sidebar": "Contents",
   "toc_cell": false,
   "toc_position": {
    "height": "calc(100% - 180px)",
    "left": "10px",
    "top": "150px",
    "width": "187.391px"
   },
   "toc_section_display": true,
   "toc_window_display": true
  }
 },
 "nbformat": 4,
 "nbformat_minor": 2
}
